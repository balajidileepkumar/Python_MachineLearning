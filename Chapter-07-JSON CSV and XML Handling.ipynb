{
 "cells": [
  {
   "cell_type": "markdown",
   "metadata": {},
   "source": [
    "### Text, Json,Xml and Csv File Handling"
   ]
  },
  {
   "cell_type": "markdown",
   "metadata": {},
   "source": [
    "### To Handle a File we have three main components\n",
    "as below"
   ]
  },
  {
   "cell_type": "markdown",
   "metadata": {},
   "source": [
    "<ul>\n",
    "<li>File Handles - A connection/bridge/link to a file</li>\n",
    "<li>File Attributes - Type of access/authorization of the link/bridge/connection to the file</li>\n",
    "<li>File Operations - Methods or functions that could be executed over the file</li>\n",
    "    \n",
    "</ul>\n",
    "\n",
    "<ul>\n",
    " <li>\n",
    "   File Operations are used to define the type of operation, such as read, write, append. **\n",
    "<ol>\n",
    "    <li>read -->  reads the entire file and provides a string data of the file **</li>\n",
    "    <li>readline -->  reads the file line by line **</li>\n",
    "    <li>readlines -->  reads the file and returns a list of data with each line in the file as individual items of list **</li>\n",
    "    <li>write -->  Used to write data to the file ** </li>\n",
    "    <li>writelines  -->  Used to write data to the file , list of strings as input</li>\n",
    "    <li>flush --> ** Flushes the data from the buffer to the file immediately**</li>\n",
    "    <li>tell --> ** tells the current position of the cursor in the file **</li>\n",
    "    <li>seek --> ** Changes the position of the cursor in the file**</li>\n",
    "    <li>truncate --> ** Removes the content of the file **</li>\n",
    " </ol>\n",
    "</li>\n",
    "<li>\n",
    "  File Attributes were used to specify the rights for the operation, such r,a,w,b **\n",
    "<ol>\n",
    " <li>\n",
    " r --> read --> opens a file for reading \n",
    " </li>\n",
    " <li>\n",
    " r+ --> read --> opens a file for reading and writing, the cursor will be placed at 0th position \n",
    " </li>\n",
    " <li>\n",
    " w --> write -->  Lets  us to create a file if not exists, replace the file with new text/data if the file is already existing\n",
    " </li>\n",
    " <li>\n",
    " w+ --> write --> Lets  us to create a file if not exists, replace the file with new text/data if the file is already existing. also provisions to read the file.\n",
    " </li>\n",
    " <li>\n",
    "b --> binary --> cant be existing alone, used along with r, w or a to read/write/append the data in binary format.\n",
    " </li>\n",
    " <li>\n",
    "a --> append \n",
    " </li>\n",
    " <li>\n",
    "+ --> provide special permissions for existing file attributes such as r,w,a\n",
    "    </li>\n",
    "</ol>\n",
    "</li>\n",
    "<li>\n",
    "File handles were used to specify the pointer to the file, without the file pointer it will not be possible to access the file.\n",
    "Hence no reading and writing will be possible**     \n",
    "</li>\n",
    "</ul>"
   ]
  },
  {
   "cell_type": "markdown",
   "metadata": {},
   "source": [
    "### Os library"
   ]
  },
  {
   "cell_type": "code",
   "execution_count": null,
   "metadata": {},
   "outputs": [],
   "source": [
    "import os\n",
    "import signal\n",
    "print(os.listdir(\"c:/\"))#lists of files and folders inside the folder\n",
    "if(os.path.exists(\"c:/PythonML/out.json\")):#tells you whether the file is existing or not\n",
    "    os.remove(\"c:/PythonML/out.json\")# Given a file path delete the file      \n",
    "os.mkdir(\"c:/Hello_World\")#create a directory \n",
    "#os.kill(21196,signal.SIGTERM)#\n",
    "print(os.path.abspath(\"TestFile.txt\"))#give the complete path\n",
    "print(os.getcwd())#gets the current working directory\n",
    "\n",
    "import psutil\n",
    "for proc in psutil.process_iter():\n",
    "    try:\n",
    "        pinfo = proc.as_dict(attrs=['pid', 'name', 'username'])\n",
    "    except psutil.NoSuchProcess:\n",
    "         pass\n",
    "    else:\n",
    "         print(pinfo)"
   ]
  },
  {
   "cell_type": "code",
   "execution_count": null,
   "metadata": {},
   "outputs": [],
   "source": [
    "import os\n",
    "os.kill(21160)"
   ]
  },
  {
   "cell_type": "markdown",
   "metadata": {},
   "source": [
    "#### Text File Handling"
   ]
  },
  {
   "cell_type": "code",
   "execution_count": null,
   "metadata": {
    "scrolled": false
   },
   "outputs": [],
   "source": [
    "import os\n",
    "filepath = \"sample1.txt\"\n",
    "#r - raw text \n",
    "#filepath = r\"C:\\Users\\BDreamz\\Documents\\PythonNoteBooks\\PythonBasics\\sample1.txt\"\n",
    "#filepath = r\"D:\\sample_2.txt\"\n",
    "#filepath = r\"D:\\newfolder\\sample_3.txt\"\n",
    "#filepath = \"D:/Test/sample_2.txt\"\n",
    "print(filepath)\n",
    "if(os.path.exists(filepath)):\n",
    "    print(\"file exists at given location, hence reading\")\n",
    "    c = open(filepath, \"r\")\n",
    "    print(c, type(c))\n",
    "    print(c.read())\n",
    "    #print(c.tell())\n",
    "    print(\"#################################\")\n",
    "    #print(c.seek(0))\n",
    "    print(c.seek(10))\n",
    "    #print(c.tell())\n",
    "    print(c.read())\n",
    "    print(\"#################################\")\n",
    "    #print(c.tell())\n",
    "else: \n",
    "    print(\"file is not existing at the given location\")\n",
    "    \n",
    "def hello():\n",
    "    return \"hello\"\n",
    "x = hello()\n",
    "print(x)"
   ]
  },
  {
   "cell_type": "code",
   "execution_count": null,
   "metadata": {},
   "outputs": [],
   "source": [
    "import os\n",
    "filepath = \"sample1.txt\"\n",
    "#filepath = r\"C:\\Users\\BDreamz\\Documents\\PythonNoteBooks\\PythonBasics\\sample1.txt\"\n",
    "print(filepath)\n",
    "if (os.path.exists(filepath)):\n",
    "    print(\"file exists at given location, hence reading\")\n",
    "    c = open(filepath, \"r\")\n",
    "    print(\"########################################\")\n",
    "    print(c.tell())\n",
    "    print(c.seek(0))\n",
    "    print(c.readlines())\n",
    "    #print(\"########################################\")\n",
    "else: \n",
    "    print(\"file is not existing at the given location\")"
   ]
  },
  {
   "cell_type": "code",
   "execution_count": null,
   "metadata": {},
   "outputs": [],
   "source": [
    "import os\n",
    "filepath = \"sample1.txt\"\n",
    "#filepath = r\"C:\\Users\\BDreamz\\Documents\\PythonNoteBooks\\PythonBasics\\sample1.txt\"\n",
    "print(filepath)\n",
    "lineno = 1\n",
    "if(os.path.exists(filepath)):\n",
    "    print(\"file exists at given location, hence reading\")\n",
    "    c = open(filepath, \"r\")\n",
    "    print(c.tell())\n",
    "    a = c.readline().strip()\n",
    "    while a!=\"\":\n",
    "        print(c.tell())\n",
    "        print(a)\n",
    "        a = c.readline().strip()\n",
    "        print(\"line no is %d\"%lineno)\n",
    "        lineno  +=1   \n",
    "    else: \n",
    "        print(\"File read successfully\")\n",
    "else: \n",
    "    print(\"file is not existing at the given location\")"
   ]
  },
  {
   "cell_type": "code",
   "execution_count": null,
   "metadata": {
    "scrolled": true
   },
   "outputs": [],
   "source": [
    "a = open(\"sample.json\", \"r+\")\n",
    "print(\"cursors position is now at \", a.tell())\n",
    "b = a.readlines()\n",
    "print(b)\n",
    "print(\"##############################################\")\n",
    "print(\"cursors position is now at \", a.tell())\n",
    "print(a.read())\n",
    "print(\"##############################################\")\n",
    "print(\"move cursors position back to 0 \")\n",
    "a.seek(0)\n",
    "print(\"cursors position is now at \", a.tell())\n",
    "print(a.read())\n",
    "print(\"##############################################\")\n",
    "a.seek(100)\n",
    "print(\"cursors position is now at \", a.tell())\n",
    "print(a.read())\n",
    "\n",
    "print(\"##############################################\")\n",
    "c = open(\"sample.json\", \"r+\")\n",
    "d = c.read()\n",
    "print(d)"
   ]
  },
  {
   "cell_type": "code",
   "execution_count": null,
   "metadata": {},
   "outputs": [],
   "source": [
    "c = open(\"sample2.txt\", \"w+\") #first write and then read\n",
    "d = open(\"sample2.text\", \"r\")\n",
    "\n",
    "c.write(d.read())\n",
    "print(\"########################################\")\n",
    "print(c)\n",
    "print(\"##############################################\")\n",
    "print(c.read())\n",
    "print(\"########################################\")\n",
    "c.flush()\n",
    "c.seek(0)\n",
    "print(\"##############################################\")\n",
    "print(c.read())\n",
    "c.close()"
   ]
  },
  {
   "cell_type": "markdown",
   "metadata": {},
   "source": [
    "##### Auto Dispose the variable using with "
   ]
  },
  {
   "cell_type": "code",
   "execution_count": null,
   "metadata": {},
   "outputs": [],
   "source": [
    "with open(\"sample1.txt\", \"r\") as FileHandleRead:\n",
    "    print(FileHandleRead.tell())\n",
    "    print(\"Is File Handle Closed --\", FileHandleRead.closed)#\n",
    "    if not (FileHandleRead.closed):#closed() -- tell the status of the connection/ true -> bridge is closed, false -> bridge is open\n",
    "        a = FileHandleRead.readline().strip()\n",
    "        b=\"hello world\"\n",
    "    while a!=\"\":\n",
    "        print(FileHandleRead.tell())\n",
    "        print(a)\n",
    "        a = FileHandleRead.readline().strip()\n",
    "        print(\"Is File Handle Closed -- \", FileHandleRead.closed)\n",
    "print(b)     \n",
    "print(\"Is File Handle Closed -- \", FileHandleRead.closed)\n",
    "FileHandleRead.read()"
   ]
  },
  {
   "cell_type": "code",
   "execution_count": null,
   "metadata": {
    "scrolled": true
   },
   "outputs": [],
   "source": [
    "import os\n",
    "import time\n",
    "from datetime import time as X\n",
    "d = open(\"sample2.txt\", \"br\")\n",
    "a =d.read()\n",
    "print(\"Data Contained in a variable is : \", a)\n",
    "print(\"#################################################\")\n",
    "print(\"File Handle Status of d Handle : \",d.closed)\n",
    "print(\"#################################################\")\n",
    "sample_read = \"sample_12.txt\"\n",
    "e = open(sample_read, \"bw+\")\n",
    "e.write(a)\n",
    "print(os.path.abspath(sample_read))\n",
    "print(\"Data read in new file \", e.read())\n",
    "e.seek(0)\n",
    "print(\"#################################################\")\n",
    "print(\"Data read in new file after seek to 0 from write \", e.read())\n",
    "print(\"#######\")\n",
    "print(\"File Handle Status of e File Handle Before calling Close Method: \",e.closed)\n",
    "print(\"closing the path with close() method for e File Handle\")\n",
    "e.close()\n",
    "print(\"e.closed property of the file handle \", e.closed)\n",
    "print(\"File Handle Status of e File Handle after calling Close Method : \",e.closed)\n",
    "#print(e.read())\n",
    "print(\"#################################################\")\n",
    "data_handle = open(sample_read,\"r+\")\n",
    "data = data_handle.readlines()\n",
    "print(\"########close the Handle using -- close() method #################\")\n",
    "data_handle.close()\n",
    "time.sleep(25)\n",
    "print(data)\n",
    "os.remove(sample_read)\n",
    "print(\"file removed\")"
   ]
  },
  {
   "cell_type": "code",
   "execution_count": null,
   "metadata": {},
   "outputs": [],
   "source": [
    " sample1_json =  \"\"\"{\n",
    "                         \"key1\":\n",
    "                                 {\n",
    "                                     \"key2\":\n",
    "                                          [\"jarray value1\"]\n",
    "                                 },\n",
    "                         \"key3\": \"abc\"\n",
    "                     }\n",
    "                 \"\"\"\n",
    "time.sleep(1000)\n",
    "open(\"sample.json\",\"w\").write(sample1_json)"
   ]
  },
  {
   "cell_type": "code",
   "execution_count": null,
   "metadata": {},
   "outputs": [],
   "source": [
    "# json.loads(string)\n",
    "filehandle = open(\"sample.json\",\"r\")\n",
    "print(filehandle)\n",
    "print(type(filehandle))\n",
    "######################################\n",
    "print(filehandle.closed)\n",
    "read_data = filehandle.read()\n",
    "print(read_data)\n",
    "#########################################################\n",
    "filehandle.close()\n",
    "print(filehandle.closed)\n",
    "read_data = filehandle.read()"
   ]
  },
  {
   "cell_type": "markdown",
   "metadata": {},
   "source": [
    "### JSON \n",
    "#### Java Script Object Notation"
   ]
  },
  {
   "cell_type": "markdown",
   "metadata": {},
   "source": [
    "##### Methods in Json\n",
    "<ul type=\"A\">\n",
    "    <li>json.load() -- \"Load a File Json to an object\"</li>\n",
    "        <li>json.loads() -- \"Load a string Json to an object\"</li>\n",
    "        <li>json.dump() -- \"Write a object to a file json \"</li>\n",
    "    <li>json.dumps()  -- \"Write a object to a string json \"</li>\n",
    "</ul>"
   ]
  },
  {
   "cell_type": "code",
   "execution_count": null,
   "metadata": {},
   "outputs": [],
   "source": [
    "#### string Json"
   ]
  },
  {
   "cell_type": "code",
   "execution_count": null,
   "metadata": {},
   "outputs": [],
   "source": [
    "a = \"\"\"{\n",
    "                        \"key1\":\n",
    "                                {\n",
    "                                    \"key2\":  [\"jarray value1\",\"jarray value2\"]\n",
    "                                    \"key4\": 1\n",
    "                                },\n",
    "                        \"key3\": \"abc\"\n",
    "                    }\n",
    "                \"\"\""
   ]
  },
  {
   "cell_type": "markdown",
   "metadata": {},
   "source": [
    "#### Json.loads"
   ]
  },
  {
   "cell_type": "markdown",
   "metadata": {},
   "source": [
    "json.loads(s[, encoding[, cls[, object_hook[, parse_float[, parse_int[, parse_constant[, object_pairs_hook[, **kw]]]]]]]"
   ]
  },
  {
   "cell_type": "code",
   "execution_count": 2,
   "metadata": {},
   "outputs": [
    {
     "name": "stdout",
     "output_type": "stream",
     "text": [
      "{\n",
      "                        \"key1\":\n",
      "                                {\n",
      "                                    \"key2\":\n",
      "                                         [\"jarray value1\"]\n",
      "                                },\n",
      "                        \"key3\": \"abc\"\n",
      "                    }\n",
      "                 <class 'str'>\n",
      "#########################################################\n",
      "{'key1': {'key2': ['jarray value1']}, 'key3': 'abc'} <class 'dict'>\n",
      "############################key 1##################################\n",
      "{'key2': ['jarray value1']} <class 'dict'>\n",
      "##############################key 2################################\n",
      "['jarray value1'] <class 'list'>\n",
      "##############################################################\n",
      "abc <class 'str'>\n"
     ]
    }
   ],
   "source": [
    "import json\n",
    "\n",
    "#print(read_data)\n",
    "dataread = open(\"sample.json\",\"r\").read()\n",
    "print(dataread, type(dataread))\n",
    "#dataread1 = open(\"sample.json\",\"w\").read()\n",
    "print(\"#########################################################\")\n",
    "a = json.loads(open(\"sample.json\",\"r\").read())\n",
    "print(a, type(a))\n",
    "print(\"############################key 1##################################\")\n",
    "print( a[\"key1\"],type(a[\"key1\"]))\n",
    "print(\"##############################key 2################################\")\n",
    "print(a[\"key1\"][\"key2\"],type(a[\"key1\"][\"key2\"]))\n",
    "print(\"##############################################################\")\n",
    "print(a[\"key3\"],type(a[\"key3\"]))\n"
   ]
  },
  {
   "cell_type": "code",
   "execution_count": 4,
   "metadata": {},
   "outputs": [
    {
     "name": "stdout",
     "output_type": "stream",
     "text": [
      "{'colors_code ': [{'color': 'red', 'value': '#f00'}, {'color:': 'green', 'value': '#0f0'}, {'color': 'blue', 'value': '#00f'}, {'color': 'cyan', 'value': '#0ff'}, {'color': 'magenta', 'value': '#f0f'}, {'color': 'yellow', 'value': '#ff0'}, {'color': 'black', 'value': '#000'}]}\n"
     ]
    },
    {
     "data": {
      "text/plain": [
       "dict"
      ]
     },
     "execution_count": 4,
     "metadata": {},
     "output_type": "execute_result"
    }
   ],
   "source": [
    "colors_json = json.loads(open(\"colorcodes.json\",\"r\").read())\n",
    "print(colors_json)\n",
    "type(colors_json)"
   ]
  },
  {
   "cell_type": "markdown",
   "metadata": {},
   "source": [
    "### Read From File.Json"
   ]
  },
  {
   "cell_type": "markdown",
   "metadata": {},
   "source": [
    "#### json.load"
   ]
  },
  {
   "cell_type": "code",
   "execution_count": 8,
   "metadata": {},
   "outputs": [
    {
     "name": "stdout",
     "output_type": "stream",
     "text": [
      "<_io.TextIOWrapper name='colorcodes.json' mode='r' encoding='cp1252'>\n",
      "<class '_io.TextIOWrapper'>\n",
      "{'colors_code ': [{'color': 'red', 'value': '#f00'}, {'color:': 'green', 'value': '#0f0'}, {'color': 'blue', 'value': '#00f'}, {'color': 'cyan', 'value': '#0ff'}, {'color': 'magenta', 'value': '#f0f'}, {'color': 'yellow', 'value': '#ff0'}, {'color': 'black', 'value': '#000'}]}\n",
      "<class 'dict'>\n"
     ]
    }
   ],
   "source": [
    "import json\n",
    "#print(json.load(open(\"colorcodes.json\",\"r\")))\n",
    "b = open(\"colorcodes.json\",\"r\")\n",
    "print(b)\n",
    "print(type(b))\n",
    "a = json.load(open(\"colorcodes.json\",\"r\"))\n",
    "print(a)\n",
    "print(type(a))"
   ]
  },
  {
   "cell_type": "code",
   "execution_count": 11,
   "metadata": {},
   "outputs": [
    {
     "name": "stdout",
     "output_type": "stream",
     "text": [
      "\n"
     ]
    },
    {
     "ename": "JSONDecodeError",
     "evalue": "Expecting value: line 1 column 1 (char 0)",
     "output_type": "error",
     "traceback": [
      "\u001b[1;31m---------------------------------------------------------------------------\u001b[0m",
      "\u001b[1;31mJSONDecodeError\u001b[0m                           Traceback (most recent call last)",
      "\u001b[1;32m<ipython-input-11-5fea90c0ceb0>\u001b[0m in \u001b[0;36m<module>\u001b[1;34m\u001b[0m\n\u001b[0;32m      2\u001b[0m \u001b[1;31m# json.load(_io)\u001b[0m\u001b[1;33m\u001b[0m\u001b[1;33m\u001b[0m\u001b[1;33m\u001b[0m\u001b[0m\n\u001b[0;32m      3\u001b[0m \u001b[0mprint\u001b[0m\u001b[1;33m(\u001b[0m\u001b[0mopen\u001b[0m\u001b[1;33m(\u001b[0m\u001b[1;34m\"colorcodes2.json\"\u001b[0m\u001b[1;33m,\u001b[0m\u001b[1;34m\"r\"\u001b[0m\u001b[1;33m)\u001b[0m\u001b[1;33m.\u001b[0m\u001b[0mread\u001b[0m\u001b[1;33m(\u001b[0m\u001b[1;33m)\u001b[0m\u001b[1;33m)\u001b[0m\u001b[1;33m\u001b[0m\u001b[1;33m\u001b[0m\u001b[0m\n\u001b[1;32m----> 4\u001b[1;33m \u001b[0mprint\u001b[0m\u001b[1;33m(\u001b[0m\u001b[0mjson\u001b[0m\u001b[1;33m.\u001b[0m\u001b[0mload\u001b[0m\u001b[1;33m(\u001b[0m\u001b[0mopen\u001b[0m\u001b[1;33m(\u001b[0m\u001b[1;34m\"colorcodes2.json\"\u001b[0m\u001b[1;33m,\u001b[0m\u001b[1;34m\"r\"\u001b[0m\u001b[1;33m)\u001b[0m\u001b[1;33m)\u001b[0m\u001b[1;33m)\u001b[0m\u001b[1;33m\u001b[0m\u001b[1;33m\u001b[0m\u001b[0m\n\u001b[0m\u001b[0;32m      5\u001b[0m \u001b[0mprint\u001b[0m\u001b[1;33m(\u001b[0m\u001b[0mtype\u001b[0m\u001b[1;33m(\u001b[0m\u001b[0mjson\u001b[0m\u001b[1;33m.\u001b[0m\u001b[0mload\u001b[0m\u001b[1;33m(\u001b[0m\u001b[0mopen\u001b[0m\u001b[1;33m(\u001b[0m\u001b[1;34m\"colorcodes2.json\"\u001b[0m\u001b[1;33m,\u001b[0m\u001b[1;34m\"r\"\u001b[0m\u001b[1;33m)\u001b[0m\u001b[1;33m)\u001b[0m\u001b[1;33m)\u001b[0m\u001b[1;33m)\u001b[0m\u001b[1;33m\u001b[0m\u001b[1;33m\u001b[0m\u001b[0m\n",
      "\u001b[1;32mc:\\python373\\lib\\json\\__init__.py\u001b[0m in \u001b[0;36mload\u001b[1;34m(fp, cls, object_hook, parse_float, parse_int, parse_constant, object_pairs_hook, **kw)\u001b[0m\n\u001b[0;32m    294\u001b[0m         \u001b[0mcls\u001b[0m\u001b[1;33m=\u001b[0m\u001b[0mcls\u001b[0m\u001b[1;33m,\u001b[0m \u001b[0mobject_hook\u001b[0m\u001b[1;33m=\u001b[0m\u001b[0mobject_hook\u001b[0m\u001b[1;33m,\u001b[0m\u001b[1;33m\u001b[0m\u001b[1;33m\u001b[0m\u001b[0m\n\u001b[0;32m    295\u001b[0m         \u001b[0mparse_float\u001b[0m\u001b[1;33m=\u001b[0m\u001b[0mparse_float\u001b[0m\u001b[1;33m,\u001b[0m \u001b[0mparse_int\u001b[0m\u001b[1;33m=\u001b[0m\u001b[0mparse_int\u001b[0m\u001b[1;33m,\u001b[0m\u001b[1;33m\u001b[0m\u001b[1;33m\u001b[0m\u001b[0m\n\u001b[1;32m--> 296\u001b[1;33m         parse_constant=parse_constant, object_pairs_hook=object_pairs_hook, **kw)\n\u001b[0m\u001b[0;32m    297\u001b[0m \u001b[1;33m\u001b[0m\u001b[0m\n\u001b[0;32m    298\u001b[0m \u001b[1;33m\u001b[0m\u001b[0m\n",
      "\u001b[1;32mc:\\python373\\lib\\json\\__init__.py\u001b[0m in \u001b[0;36mloads\u001b[1;34m(s, encoding, cls, object_hook, parse_float, parse_int, parse_constant, object_pairs_hook, **kw)\u001b[0m\n\u001b[0;32m    346\u001b[0m             \u001b[0mparse_int\u001b[0m \u001b[1;32mis\u001b[0m \u001b[1;32mNone\u001b[0m \u001b[1;32mand\u001b[0m \u001b[0mparse_float\u001b[0m \u001b[1;32mis\u001b[0m \u001b[1;32mNone\u001b[0m \u001b[1;32mand\u001b[0m\u001b[1;33m\u001b[0m\u001b[1;33m\u001b[0m\u001b[0m\n\u001b[0;32m    347\u001b[0m             parse_constant is None and object_pairs_hook is None and not kw):\n\u001b[1;32m--> 348\u001b[1;33m         \u001b[1;32mreturn\u001b[0m \u001b[0m_default_decoder\u001b[0m\u001b[1;33m.\u001b[0m\u001b[0mdecode\u001b[0m\u001b[1;33m(\u001b[0m\u001b[0ms\u001b[0m\u001b[1;33m)\u001b[0m\u001b[1;33m\u001b[0m\u001b[1;33m\u001b[0m\u001b[0m\n\u001b[0m\u001b[0;32m    349\u001b[0m     \u001b[1;32mif\u001b[0m \u001b[0mcls\u001b[0m \u001b[1;32mis\u001b[0m \u001b[1;32mNone\u001b[0m\u001b[1;33m:\u001b[0m\u001b[1;33m\u001b[0m\u001b[1;33m\u001b[0m\u001b[0m\n\u001b[0;32m    350\u001b[0m         \u001b[0mcls\u001b[0m \u001b[1;33m=\u001b[0m \u001b[0mJSONDecoder\u001b[0m\u001b[1;33m\u001b[0m\u001b[1;33m\u001b[0m\u001b[0m\n",
      "\u001b[1;32mc:\\python373\\lib\\json\\decoder.py\u001b[0m in \u001b[0;36mdecode\u001b[1;34m(self, s, _w)\u001b[0m\n\u001b[0;32m    335\u001b[0m \u001b[1;33m\u001b[0m\u001b[0m\n\u001b[0;32m    336\u001b[0m         \"\"\"\n\u001b[1;32m--> 337\u001b[1;33m         \u001b[0mobj\u001b[0m\u001b[1;33m,\u001b[0m \u001b[0mend\u001b[0m \u001b[1;33m=\u001b[0m \u001b[0mself\u001b[0m\u001b[1;33m.\u001b[0m\u001b[0mraw_decode\u001b[0m\u001b[1;33m(\u001b[0m\u001b[0ms\u001b[0m\u001b[1;33m,\u001b[0m \u001b[0midx\u001b[0m\u001b[1;33m=\u001b[0m\u001b[0m_w\u001b[0m\u001b[1;33m(\u001b[0m\u001b[0ms\u001b[0m\u001b[1;33m,\u001b[0m \u001b[1;36m0\u001b[0m\u001b[1;33m)\u001b[0m\u001b[1;33m.\u001b[0m\u001b[0mend\u001b[0m\u001b[1;33m(\u001b[0m\u001b[1;33m)\u001b[0m\u001b[1;33m)\u001b[0m\u001b[1;33m\u001b[0m\u001b[1;33m\u001b[0m\u001b[0m\n\u001b[0m\u001b[0;32m    338\u001b[0m         \u001b[0mend\u001b[0m \u001b[1;33m=\u001b[0m \u001b[0m_w\u001b[0m\u001b[1;33m(\u001b[0m\u001b[0ms\u001b[0m\u001b[1;33m,\u001b[0m \u001b[0mend\u001b[0m\u001b[1;33m)\u001b[0m\u001b[1;33m.\u001b[0m\u001b[0mend\u001b[0m\u001b[1;33m(\u001b[0m\u001b[1;33m)\u001b[0m\u001b[1;33m\u001b[0m\u001b[1;33m\u001b[0m\u001b[0m\n\u001b[0;32m    339\u001b[0m         \u001b[1;32mif\u001b[0m \u001b[0mend\u001b[0m \u001b[1;33m!=\u001b[0m \u001b[0mlen\u001b[0m\u001b[1;33m(\u001b[0m\u001b[0ms\u001b[0m\u001b[1;33m)\u001b[0m\u001b[1;33m:\u001b[0m\u001b[1;33m\u001b[0m\u001b[1;33m\u001b[0m\u001b[0m\n",
      "\u001b[1;32mc:\\python373\\lib\\json\\decoder.py\u001b[0m in \u001b[0;36mraw_decode\u001b[1;34m(self, s, idx)\u001b[0m\n\u001b[0;32m    353\u001b[0m             \u001b[0mobj\u001b[0m\u001b[1;33m,\u001b[0m \u001b[0mend\u001b[0m \u001b[1;33m=\u001b[0m \u001b[0mself\u001b[0m\u001b[1;33m.\u001b[0m\u001b[0mscan_once\u001b[0m\u001b[1;33m(\u001b[0m\u001b[0ms\u001b[0m\u001b[1;33m,\u001b[0m \u001b[0midx\u001b[0m\u001b[1;33m)\u001b[0m\u001b[1;33m\u001b[0m\u001b[1;33m\u001b[0m\u001b[0m\n\u001b[0;32m    354\u001b[0m         \u001b[1;32mexcept\u001b[0m \u001b[0mStopIteration\u001b[0m \u001b[1;32mas\u001b[0m \u001b[0merr\u001b[0m\u001b[1;33m:\u001b[0m\u001b[1;33m\u001b[0m\u001b[1;33m\u001b[0m\u001b[0m\n\u001b[1;32m--> 355\u001b[1;33m             \u001b[1;32mraise\u001b[0m \u001b[0mJSONDecodeError\u001b[0m\u001b[1;33m(\u001b[0m\u001b[1;34m\"Expecting value\"\u001b[0m\u001b[1;33m,\u001b[0m \u001b[0ms\u001b[0m\u001b[1;33m,\u001b[0m \u001b[0merr\u001b[0m\u001b[1;33m.\u001b[0m\u001b[0mvalue\u001b[0m\u001b[1;33m)\u001b[0m \u001b[1;32mfrom\u001b[0m \u001b[1;32mNone\u001b[0m\u001b[1;33m\u001b[0m\u001b[1;33m\u001b[0m\u001b[0m\n\u001b[0m\u001b[0;32m    356\u001b[0m         \u001b[1;32mreturn\u001b[0m \u001b[0mobj\u001b[0m\u001b[1;33m,\u001b[0m \u001b[0mend\u001b[0m\u001b[1;33m\u001b[0m\u001b[1;33m\u001b[0m\u001b[0m\n",
      "\u001b[1;31mJSONDecodeError\u001b[0m: Expecting value: line 1 column 1 (char 0)"
     ]
    }
   ],
   "source": [
    "import json\n",
    "# json.load(_io)\n",
    "print(open(\"colorcodes2.json\",\"r\").read())\n",
    "print(json.load(open(\"colorcodes2.json\",\"r\")))\n",
    "print(type(json.load(open(\"colorcodes2.json\",\"r\"))))"
   ]
  },
  {
   "cell_type": "markdown",
   "metadata": {},
   "source": [
    "### Write To Json File "
   ]
  },
  {
   "cell_type": "code",
   "execution_count": 16,
   "metadata": {},
   "outputs": [
    {
     "name": "stdout",
     "output_type": "stream",
     "text": [
      "{'alpha': 1, 'beta': 2} <class 'dict'>\n",
      "{'alpha': 1, 'beta': 2}\n",
      "1\n",
      "{\"alpha\": 1, \"beta\": 2} <class 'str'>\n",
      "################################\n",
      "[1, 2, 3, 4, 5, 6, 6] <class 'list'>\n",
      "[1, 2, 3, 4, 5, 6, 6] <class 'str'>\n",
      "################################\n",
      "[1, 3, 4, 5, 6, \"ad\", {\"alpha\": 1, \"beta\": 2}, [1, 2, 3, 4, 5, 6]] <class 'str'>\n"
     ]
    },
    {
     "data": {
      "text/plain": [
       "23"
      ]
     },
     "execution_count": 16,
     "metadata": {},
     "output_type": "execute_result"
    }
   ],
   "source": [
    "import json\n",
    "d = {'alpha': 1, 'beta': 2}\n",
    "print(d,type(d))\n",
    "print(str(d))\n",
    "print(d['alpha'])\n",
    "\n",
    "s = json.dumps(d)\n",
    "print(s, type(s))\n",
    "#print(s['alpha'])\n",
    "\n",
    "print(\"################################\")\n",
    "e = [1,2,3,4,5,6,6]\n",
    "print(e,type(e))\n",
    "print(json.dumps(e),type(json.dumps(e)))\n",
    "print(\"################################\")\n",
    "a = [1,2,3,4,5,6]\n",
    "b = [1,3,4,5,6,\"ad\", d,a]\n",
    "c = json.dumps(b)\n",
    "print(c, type(c))\n",
    "\n",
    "open(\"out.json\",\"w\").write(s)"
   ]
  },
  {
   "cell_type": "markdown",
   "metadata": {},
   "source": [
    "### Write to Json with File Options Directly "
   ]
  },
  {
   "cell_type": "markdown",
   "metadata": {},
   "source": [
    "json.dump(obj, fp, skipkeys=False, ensure_ascii=True, check_circular=True, allow_nan=True, cls=None, indent=None, separators=None, encoding=\"utf-8\", default=None, sort_keys=False, **kw)"
   ]
  },
  {
   "cell_type": "code",
   "execution_count": 18,
   "metadata": {},
   "outputs": [],
   "source": [
    "import json\n",
    "d = {'alpha': 112, 'beta': 223}\n",
    "json.dump(d, open(\"out.json\",\"w\"))\n"
   ]
  },
  {
   "cell_type": "code",
   "execution_count": 19,
   "metadata": {},
   "outputs": [],
   "source": [
    "fruits = [\"apple\",\"adf\",\"dcasdf\",\"asd\",\"asdf\",\"erw3\"]\n",
    "json.dump(fruits, open(\"out1.json\",\"a+\"))"
   ]
  },
  {
   "cell_type": "markdown",
   "metadata": {},
   "source": [
    "## XML Operations"
   ]
  },
  {
   "cell_type": "raw",
   "metadata": {},
   "source": [
    "### extended markup langage\n",
    "In xml each value is respresented using \n",
    "<> opening tag\n",
    "</> closing tag\n",
    "\n",
    "<data1>Hello world/data>"
   ]
  },
  {
   "cell_type": "markdown",
   "metadata": {},
   "source": [
    "Sample XML File \n",
    "<data>  \n",
    "    <items>\n",
    "        <item name=\"item1\">FirstItem</item>\n",
    "        <item name=\"item2\">SecondItem</item>\n",
    "    </items>\n",
    "</data>  "
   ]
  },
  {
   "cell_type": "code",
   "execution_count": null,
   "metadata": {},
   "outputs": [],
   "source": [
    "from xml.dom import minidom"
   ]
  },
  {
   "cell_type": "markdown",
   "metadata": {},
   "source": [
    "##### DOM  - > Document Object Model"
   ]
  },
  {
   "cell_type": "markdown",
   "metadata": {},
   "source": [
    "### parse an xml file by name\n"
   ]
  },
  {
   "cell_type": "code",
   "execution_count": null,
   "metadata": {},
   "outputs": [],
   "source": [
    "mydoc = minidom.parse('items.xml')\n",
    "print(mydoc, type(mydoc))\n",
    "print(\"########################################################################\")\n",
    "items = mydoc.getElementsByTagName('item')\n",
    "#items = mydoc.getElementsByTagName('item')\n",
    "print(items)\n",
    "print(type(items))\n",
    "print(\"################# printing those values from tags#######################\")\n",
    "for x in items:\n",
    "    print(x, type(x))\n",
    "    print(x.getAttribute(\"name\"))\n",
    "    print(x.getAttribute(\"value\"))\n",
    "    print(x.firstChild.data)\n",
    "    print(\"########next ###############\")"
   ]
  },
  {
   "cell_type": "code",
   "execution_count": null,
   "metadata": {},
   "outputs": [],
   "source": [
    "#print('Item #2 attribute:')  \n",
    "print(items[1].attributes['name'].value)\n",
    "print(items[1].attributes['value'].value)\n",
    "#print(items[1].attributes['tagname'].value)\n",
    "print(items[3].firstChild.data)\n",
    "print(items[3].toxml())\n"
   ]
  },
  {
   "cell_type": "markdown",
   "metadata": {},
   "source": [
    "\n",
    "### all item attributes\n"
   ]
  },
  {
   "cell_type": "code",
   "execution_count": null,
   "metadata": {
    "scrolled": true
   },
   "outputs": [],
   "source": [
    "\n",
    "print('\\nAll attributes:')  \n",
    "for elem in items:  \n",
    "    print(elem.attributes['name'].value)\n",
    "\n",
    "        "
   ]
  },
  {
   "cell_type": "code",
   "execution_count": null,
   "metadata": {},
   "outputs": [],
   "source": [
    "\n",
    "print('\\nAll attributes:')  \n",
    "for elem in items:\n",
    "    print(type(elem.attributes), len(elem.attributes))\n",
    "    print(\"Each tags data\")\n",
    "    for x in elem.attributes.values():\n",
    "        print(x,type(x),x.name, x.value)\n",
    "    "
   ]
  },
  {
   "cell_type": "markdown",
   "metadata": {},
   "source": [
    "### one specific item's data"
   ]
  },
  {
   "cell_type": "code",
   "execution_count": null,
   "metadata": {},
   "outputs": [],
   "source": [
    "print('\\nItem #2 data:')  \n",
    "print(items[4].firstChild.data) \n",
    "print(items[4].childNodes[0].data)"
   ]
  },
  {
   "cell_type": "markdown",
   "metadata": {},
   "source": [
    "### all items data"
   ]
  },
  {
   "cell_type": "code",
   "execution_count": null,
   "metadata": {},
   "outputs": [],
   "source": [
    "print('\\nAll item data:')  \n",
    "for elem in items:  \n",
    "    print(elem.firstChild.data)"
   ]
  },
  {
   "cell_type": "markdown",
   "metadata": {},
   "source": [
    "### Using Element Tree"
   ]
  },
  {
   "cell_type": "code",
   "execution_count": null,
   "metadata": {},
   "outputs": [],
   "source": [
    "import xml.etree.ElementTree as ET  \n",
    "tree = ET.parse('items.xml')  \n",
    "print(tree, type(tree))\n",
    "\n",
    "root = tree.getroot()\n",
    "print(\"#######################################\")\n",
    "print(root)\n",
    "print(root.tag)\n",
    "print(\"#######################################\")\n",
    "# one specific item attribute\n",
    "print('Item #2 attribute:')  \n",
    "print(root[0][1].attrib)\n",
    "\n",
    "# all item attributes\n",
    "print('\\nAll attributes:')  \n",
    "for elem in root:  \n",
    "    for subelem in elem:\n",
    "        print(subelem.attrib)\n",
    "        print(subelem.text)\n",
    "\n",
    "# one specific item's data\n",
    "print('\\nItem #1 data:')  \n",
    "print(root[0][0].text)\n",
    "print(\"##########get all items data###############\")\n",
    "# all items data\n",
    "print('\\nAll item data:')  \n",
    "for elem in root:  \n",
    "    for subelem in elem:\n",
    "        print(subelem.text)"
   ]
  },
  {
   "cell_type": "markdown",
   "metadata": {},
   "source": [
    "## CSV FILE Handling"
   ]
  },
  {
   "cell_type": "markdown",
   "metadata": {},
   "source": [
    "#### CSV - > Comma Separated Values"
   ]
  },
  {
   "cell_type": "markdown",
   "metadata": {},
   "source": [
    "[csv handling: https://docs.python.org/3/library/csv.html]"
   ]
  },
  {
   "cell_type": "markdown",
   "metadata": {},
   "source": [
    "### Reading CSV File "
   ]
  },
  {
   "cell_type": "markdown",
   "metadata": {},
   "source": [
    "<ul>\n",
    "<li>Reader</li>\n",
    "<li>Writer</li>\n",
    "<li>DictReader</li>\n",
    "<li>DictWriter</li>\n",
    "</ul>"
   ]
  },
  {
   "cell_type": "code",
   "execution_count": null,
   "metadata": {},
   "outputs": [],
   "source": [
    "import csv\n",
    "\n",
    "with open('SampleCSVFile.csv') as csvfile:\n",
    "    #readCSV = csv.reader(csvfile, delimiter=',')\n",
    "    #readCSV = csv.reader(csvfile, delimiter=' ')\n",
    "    #readCSV = csv.reader(csvfile, delimiter=' ', quotechar=\"'\")\n",
    "    #readCSV = csv.reader(csvfile, delimiter=',', quotechar='\"',skipinitialspace=0,quoting=1)\n",
    "    readCSV = csv.reader(csvfile, delimiter=',', quotechar='\"',skipinitialspace=True, quoting=QUOTE_NONE)\n",
    "    #readCSV = csv.reader(csvfile,dialect=\"excel\")\n",
    "       \n",
    "    for row in readCSV:\n",
    "        print(row)\n",
    "        print(row[1])\n",
    "        print(row[0])\n",
    "        print(row[0],\",\",row[1],\",\",row[5])\n",
    "        \n",
    "readCSV = csv.reader(csvfile, delimiter=',')\n"
   ]
  },
  {
   "cell_type": "code",
   "execution_count": null,
   "metadata": {},
   "outputs": [],
   "source": [
    "print(csv.list_dialects())"
   ]
  },
  {
   "cell_type": "code",
   "execution_count": null,
   "metadata": {},
   "outputs": [],
   "source": [
    "#for x in\n",
    "print(csv.get_dialect(\"excel-tab\"))\n",
    "print(\"############### for excel tab #######################\")\n",
    "print(\"Delimiter :\",csv.get_dialect(\"excel-tab\").delimiter)\n",
    "print(\"Quote Character :\", csv.get_dialect(\"excel-tab\").quotechar)\n",
    "print(\"Escape Character : \",csv.get_dialect(\"excel-tab\").escapechar)\n",
    "print(\"Double Quote : \", csv.get_dialect(\"excel-tab\").doublequote)\n",
    "print(\"Skip Initial Space : \", csv.get_dialect(\"excel-tab\").skipinitialspace)\n",
    "print(\"Quoting : \",csv.get_dialect(\"excel-tab\").quoting)\n",
    "print(\"Line Terminator :\", csv.get_dialect(\"excel-tab\").lineterminator)\n",
    "print(\"################# for excel #####################\")\n",
    "print(csv.get_dialect(\"excel\").delimiter)\n",
    "print(csv.get_dialect(\"excel\").quotechar)\n",
    "print(csv.get_dialect(\"excel\").escapechar)\n",
    "print(csv.get_dialect(\"excel\").doublequote)\n",
    "print(csv.get_dialect(\"excel\").skipinitialspace)\n",
    "print(\"Quoting : \",csv.get_dialect(\"excel\").quoting)\n",
    "print(\"Line Terminator :\",csv.get_dialect(\"excel\").lineterminator)\n",
    "print(\"################# for unix #####################\")\n",
    "print(csv.get_dialect(\"unix\").delimiter)\n",
    "print(csv.get_dialect(\"unix\").quotechar)\n",
    "print(csv.get_dialect(\"unix\").escapechar)\n",
    "print(csv.get_dialect(\"unix\").doublequote)\n",
    "print(csv.get_dialect(\"unix\").skipinitialspace)\n",
    "print(csv.get_dialect(\"unix\").quoting)\n",
    "print(\"########################\")\n",
    "print(csv.get_dialect(\"unix\").lineterminator)\n",
    "print(\"########################\")\n"
   ]
  },
  {
   "cell_type": "markdown",
   "metadata": {},
   "source": [
    "csv.reader(csvfile, dialect='excel', **fmtparams)"
   ]
  },
  {
   "cell_type": "code",
   "execution_count": null,
   "metadata": {},
   "outputs": [],
   "source": [
    "import csv\n",
    "\n",
    "with open('SampleCSVFile.csv') as csvfile:\n",
    "    #readCSV = csv.reader(csvfile, delimiter=',')\n",
    "    #readCSV = csv.reader(csvfile, delimiter=' ')\n",
    "    #readCSV = csv.reader(csvfile, delimiter=' ', quotechar=\"'\")\n",
    "    #readCSV = csv.reader(csvfile, delimiter=' ', quotechar='\"')\n",
    "    #readCSV = csv.reader(csvfile,dialect=\"excel\")\n",
    "       \n",
    "    for row in readCSV:\n",
    "        print(row)\n",
    "        print(row[0])\n",
    "        print(row[0],\",\",row[1],\",\",row[5])\n",
    "        \n",
    "readCSV = csv.reader(csvfile, delimiter=',')\n"
   ]
  },
  {
   "cell_type": "markdown",
   "metadata": {},
   "source": [
    "delimiter = None\n",
    "<br>quotechar = None\n",
    "<br>escapechar = None\n",
    "<br>doublequote = None\n",
    "<br>skipinitialspace = None\n",
    "<br>lineterminator = None\n",
    "<br>quoting = None"
   ]
  },
  {
   "cell_type": "code",
   "execution_count": null,
   "metadata": {},
   "outputs": [],
   "source": [
    "with open('titanic.csv', 'r') as csvFile:\n",
    "    reader = csv.reader(csvFile)\n",
    "    for row in reader:\n",
    "        print(row)"
   ]
  },
  {
   "cell_type": "markdown",
   "metadata": {},
   "source": [
    "#### Write to a CSV File"
   ]
  },
  {
   "cell_type": "code",
   "execution_count": null,
   "metadata": {},
   "outputs": [],
   "source": [
    "import csv\n",
    "\n",
    "csvData = [['Name of Person', 'Age'], ['Peter', 22], ['Jasmine', 21], ['Sam', 24]]\n",
    "#csv.QUOTE_MINIMAL - > quotes for delimiter and special characters\n",
    "#csv.QUOTE_NONNUMERIC -> quotes for non numeric fields\n",
    "#csv.QUOTE_ALL -> Quote Everything\n",
    "#csv.QUOTE_NONE -> Quote nothing\n",
    "with open('person2.csv', 'w') as csvFile:\n",
    "    writer = csv.writer(csvFile,quoting = csv.QUOTE_NONE)\n",
    "    writer.writerows(csvData)"
   ]
  },
  {
   "cell_type": "markdown",
   "metadata": {},
   "source": [
    "### CSV Dict Reader "
   ]
  },
  {
   "cell_type": "code",
   "execution_count": null,
   "metadata": {},
   "outputs": [],
   "source": [
    "with open('titanic.csv', 'r') as csvFile:\n",
    "    reader = csv.DictReader(csvFile)\n",
    "    #yy = (dict)(reader)\n",
    "    #print(yy)\n",
    "    #print(type(reader))\n",
    "    #print([x[\"Name\"] for x in reader])\n",
    "    for row in reader:\n",
    "        print(row)"
   ]
  },
  {
   "cell_type": "markdown",
   "metadata": {},
   "source": [
    "## CSV Dict Writer"
   ]
  }
 ],
 "metadata": {
  "kernelspec": {
   "display_name": "Python 3",
   "language": "python",
   "name": "python3"
  },
  "language_info": {
   "codemirror_mode": {
    "name": "ipython",
    "version": 3
   },
   "file_extension": ".py",
   "mimetype": "text/x-python",
   "name": "python",
   "nbconvert_exporter": "python",
   "pygments_lexer": "ipython3",
   "version": "3.7.3"
  }
 },
 "nbformat": 4,
 "nbformat_minor": 2
}
