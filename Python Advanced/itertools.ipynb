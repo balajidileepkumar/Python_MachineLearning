{
 "cells": [
  {
   "cell_type": "code",
   "execution_count": 1,
   "metadata": {},
   "outputs": [],
   "source": [
    "import itertools"
   ]
  },
  {
   "cell_type": "code",
   "execution_count": 2,
   "metadata": {},
   "outputs": [
    {
     "data": {
      "text/plain": [
       "['__doc__',\n",
       " '__loader__',\n",
       " '__name__',\n",
       " '__package__',\n",
       " '__spec__',\n",
       " '_grouper',\n",
       " '_tee',\n",
       " '_tee_dataobject',\n",
       " 'accumulate',\n",
       " 'chain',\n",
       " 'combinations',\n",
       " 'combinations_with_replacement',\n",
       " 'compress',\n",
       " 'count',\n",
       " 'cycle',\n",
       " 'dropwhile',\n",
       " 'filterfalse',\n",
       " 'groupby',\n",
       " 'islice',\n",
       " 'pairwise',\n",
       " 'permutations',\n",
       " 'product',\n",
       " 'repeat',\n",
       " 'starmap',\n",
       " 'takewhile',\n",
       " 'tee',\n",
       " 'zip_longest']"
      ]
     },
     "execution_count": 2,
     "metadata": {},
     "output_type": "execute_result"
    }
   ],
   "source": [
    "dir(itertools)"
   ]
  }
 ],
 "metadata": {
  "kernelspec": {
   "display_name": "Python 3 (ipykernel)",
   "language": "python",
   "name": "python3"
  },
  "language_info": {
   "codemirror_mode": {
    "name": "ipython",
    "version": 3
   },
   "file_extension": ".py",
   "mimetype": "text/x-python",
   "name": "python",
   "nbconvert_exporter": "python",
   "pygments_lexer": "ipython3",
   "version": "3.10.4"
  }
 },
 "nbformat": 4,
 "nbformat_minor": 4
}
