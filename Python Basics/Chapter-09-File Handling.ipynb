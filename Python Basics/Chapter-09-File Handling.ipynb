{
 "cells": [
  {
   "cell_type": "markdown",
   "metadata": {},
   "source": [
    "### Text, Json,Xml and Csv File Handling"
   ]
  },
  {
   "cell_type": "markdown",
   "metadata": {},
   "source": [
    "### To Handle a File we have three main components\n",
    "as below"
   ]
  },
  {
   "cell_type": "markdown",
   "metadata": {},
   "source": [
    "<ul>\n",
    "<li>File Handles - A connection/bridge/link to a file</li>\n",
    "<li>File Attributes - Type of access/authorization of the link/bridge/connection to the file</li>\n",
    "<li>File Operations - Methods or functions that could be executed over the file</li>\n",
    "    \n",
    "</ul>\n",
    "\n",
    "<ul>\n",
    " <li>\n",
    "   File Operations are used to define the type of operation, such as read, write, append. **\n",
    "<ol>\n",
    "    <li>read -->  reads the entire file and provides a string data of the file **</li>\n",
    "    <li>readline -->  reads the file line by line **</li>\n",
    "    <li>readlines -->  reads the file and returns a list of data with each line in the file as individual items of list **</li>\n",
    "    <li>write -->  Used to write data to the file ** </li>\n",
    "    <li>writelines  -->  Used to write data to the file , list of strings as input</li>\n",
    "    <li>flush --> ** Flushes the data from the buffer to the file immediately**</li>\n",
    "    <li>tell --> ** tells the current position of the cursor in the file **</li>\n",
    "    <li>seek --> ** Changes the position of the cursor in the file**</li>\n",
    "    <li>truncate --> ** Removes the content of the file **</li>\n",
    " </ol>\n",
    "</li>\n",
    "<li>\n",
    "  File Attributes were used to specify the rights for the operation, such r,a,w,b **\n",
    "<ol>\n",
    " <li>\n",
    " r --> read --> opens a file for reading \n",
    " </li>\n",
    " <li>\n",
    " r+ --> read --> opens a file for reading and writing, the cursor will be placed at 0th position \n",
    " </li>\n",
    " <li>\n",
    " w --> write -->  Lets  us to create a file if not exists, replace the file with new text/data if the file is already existing\n",
    " </li>\n",
    " <li>\n",
    " w+ --> write --> Lets  us to create a file if not exists, replace the file with new text/data if the file is already existing. also provisions to read the file.\n",
    " </li>\n",
    " <li>\n",
    "b --> binary --> cant be existing alone, used along with r, w or a to read/write/append the data in binary format.\n",
    " </li>\n",
    " <li>\n",
    "a --> append \n",
    " </li>\n",
    " <li>\n",
    "+ --> provide special permissions for existing file attributes such as r,w,a\n",
    "    </li>\n",
    "</ol>\n",
    "</li>\n",
    "<li>\n",
    "File handles were used to specify the pointer to the file, without the file pointer it will not be possible to access the file.\n",
    "Hence no reading and writing will be possible**     \n",
    "</li>\n",
    "</ul>"
   ]
  },
  {
   "cell_type": "markdown",
   "metadata": {},
   "source": [
    "### Os library"
   ]
  },
  {
   "cell_type": "code",
   "execution_count": null,
   "metadata": {},
   "outputs": [],
   "source": [
    "import os\n",
    "import signal\n",
    "print(os.listdir(\"c:/\"))#lists of files and folders inside the folder\n",
    "if(os.path.exists(\"c:/PythonML/out.json\")):#tells you whether the file is existing or not\n",
    "    os.remove(\"c:/PythonML/out.json\")# Given a file path delete the file      \n",
    "os.mkdir(\"c:/Hello_World\")#create a directory \n",
    "#os.kill(21196,signal.SIGTERM)#\n",
    "print(os.path.abspath(\"TestFile.txt\"))#give the complete path\n",
    "print(os.getcwd())#gets the current working directory\n",
    "\n",
    "import psutil\n",
    "for proc in psutil.process_iter():\n",
    "    try:\n",
    "        pinfo = proc.as_dict(attrs=['pid', 'name', 'username'])\n",
    "    except psutil.NoSuchProcess:\n",
    "         pass\n",
    "    else:\n",
    "         print(pinfo)"
   ]
  },
  {
   "cell_type": "code",
   "execution_count": null,
   "metadata": {},
   "outputs": [],
   "source": [
    "import os\n",
    "os.kill(21160)"
   ]
  },
  {
   "cell_type": "markdown",
   "metadata": {},
   "source": [
    "#### Text File Handling"
   ]
  },
  {
   "cell_type": "code",
   "execution_count": 4,
   "metadata": {
    "scrolled": true
   },
   "outputs": [
    {
     "name": "stdout",
     "output_type": "stream",
     "text": [
      "sample31.txt\n",
      "file exists at given location, hence reading\n",
      "<_io.TextIOWrapper name='sample31.txt' mode='r' encoding='cp1252'> <class '_io.TextIOWrapper'>\n",
      "0\n",
      "It is a long established fact that a reader will be distracted by the readable \n",
      "content of a page when looking at its layout. The point of using Lorem Ipsum is that it has a more-or-less normal \n",
      "distribution of letters, as opposed to using 'Content here, content here', making it look like readable English. \n",
      "Many desktop publishing packages and web page editors now use Lorem Ipsum as their default model text, and a search\n",
      " for 'lorem ipsum' will uncover many web sites still in their infancy. Various versions have \n",
      "evolved over the years, sometimes by accident, sometimes on purpose (injected humour and the like).\n",
      "618\n",
      "#################################\n",
      "100\n",
      "100\n",
      "en looking at its layout. The point of using Lorem Ipsum is that it has a more-or-less normal \n",
      "distribution of letters, as opposed to using 'Content here, content here', making it look like readable English. \n",
      "Many desktop publishing packages and web page editors now use Lorem Ipsum as their default model text, and a search\n",
      " for 'lorem ipsum' will uncover many web sites still in their infancy. Various versions have \n",
      "evolved over the years, sometimes by accident, sometimes on purpose (injected humour and the like).\n",
      "#################################\n",
      "618\n"
     ]
    }
   ],
   "source": [
    "import os\n",
    "filepath = \"sample31.txt\"\n",
    "#r - raw text \n",
    "#filepath = r\"C:\\Users\\BDreamz\\Documents\\PythonNoteBooks\\PythonBasics\\sample1.txt\"\n",
    "#filepath = r\"D:\\sample_2.txt\"\n",
    "#filepath = r\"D:\\newfolder\\sample_3.txt\"\n",
    "#filepath = \"D:/Test/sample_2.txt\"\n",
    "print(filepath)\n",
    "if(os.path.exists(filepath)):\n",
    "    print(\"file exists at given location, hence reading\")\n",
    "    c = open(filepath, \"r\")\n",
    "    print(c, type(c))\n",
    "    print(c.tell())\n",
    "    print(c.read())\n",
    "    print(c.tell())\n",
    "    print(\"#################################\")\n",
    "    #print(c.seek(0))\n",
    "    print(c.seek(100))\n",
    "    print(c.tell())\n",
    "    print(c.read())\n",
    "    print(\"#################################\")\n",
    "    print(c.tell())\n",
    "else: \n",
    "    print(\"file is not existing at the given location\")"
   ]
  },
  {
   "cell_type": "code",
   "execution_count": 5,
   "metadata": {},
   "outputs": [
    {
     "name": "stdout",
     "output_type": "stream",
     "text": [
      "sample31.txt\n",
      "file exists at given location, hence reading\n",
      "########################################\n",
      "0\n",
      "['It is a long established fact that a reader will be distracted by the readable \\n', 'content of a page when looking at its layout. The point of using Lorem Ipsum is that it has a more-or-less normal \\n', \"distribution of letters, as opposed to using 'Content here, content here', making it look like readable English. \\n\", 'Many desktop publishing packages and web page editors now use Lorem Ipsum as their default model text, and a search\\n', \" for 'lorem ipsum' will uncover many web sites still in their infancy. Various versions have \\n\", 'evolved over the years, sometimes by accident, sometimes on purpose (injected humour and the like).']\n",
      "618\n",
      "0\n"
     ]
    }
   ],
   "source": [
    "import os\n",
    "filepath = \"sample31.txt\"\n",
    "#filepath = r\"C:\\Users\\BDreamz\\Documents\\PythonNoteBooks\\PythonBasics\\sample1.txt\"\n",
    "print(filepath)\n",
    "if (os.path.exists(filepath)):\n",
    "    print(\"file exists at given location, hence reading\")\n",
    "    c = open(filepath, \"r\")\n",
    "    print(\"########################################\")\n",
    "    print(c.tell())\n",
    "    print(c.readlines())\n",
    "    print(c.tell())\n",
    "    print(c.seek(0))\n",
    "    #print(\"########################################\")\n",
    "else: \n",
    "    print(\"file is not existing at the given location\")"
   ]
  },
  {
   "cell_type": "code",
   "execution_count": 8,
   "metadata": {},
   "outputs": [
    {
     "name": "stdout",
     "output_type": "stream",
     "text": [
      "sample31.txt\n",
      "file exists at given location, hence reading\n",
      "0\n",
      "It is a long established fact that a reader will be distracted by the readable\n",
      "80\n",
      "line no is 1\n",
      "content of a page when looking at its layout. The point of using Lorem Ipsum is that it has a more-or-less normal\n",
      "195\n",
      "line no is 2\n",
      "distribution of letters, as opposed to using 'Content here, content here', making it look like readable English.\n",
      "309\n",
      "line no is 3\n",
      "Many desktop publishing packages and web page editors now use Lorem Ipsum as their default model text, and a search\n",
      "425\n",
      "line no is 4\n",
      "for 'lorem ipsum' will uncover many web sites still in their infancy. Various versions have\n",
      "519\n",
      "line no is 5\n",
      "evolved over the years, sometimes by accident, sometimes on purpose (injected humour and the like).\n",
      "618\n",
      "line no is 6\n",
      "File read successfully\n"
     ]
    }
   ],
   "source": [
    "import os\n",
    "filepath = \"sample31.txt\"\n",
    "#filepath = r\"C:\\Users\\BDreamz\\Documents\\PythonNoteBooks\\PythonBasics\\sample1.txt\"\n",
    "print(filepath)\n",
    "lineno = 1\n",
    "if(os.path.exists(filepath)):\n",
    "    print(\"file exists at given location, hence reading\")\n",
    "    c = open(filepath, \"r\")\n",
    "    print(c.tell())\n",
    "    a = c.readline().strip()\n",
    "    while a!=\"\":\n",
    "        print(a)\n",
    "        print(c.tell())\n",
    "        print(\"line no is %d\"%lineno)\n",
    "        a = c.readline().strip()\n",
    "        lineno  +=1   \n",
    "    else: \n",
    "        print(\"File read successfully\")\n",
    "else: \n",
    "    print(\"file is not existing at the given location\")"
   ]
  },
  {
   "cell_type": "code",
   "execution_count": 9,
   "metadata": {
    "scrolled": true
   },
   "outputs": [
    {
     "name": "stdout",
     "output_type": "stream",
     "text": [
      "cursors position is now at  0\n",
      "['{\\n', '  \"firstName\": \"Bidhan\",\\n', '  \"lastName\": \"Chatterjee\",\\n', '  \"age\": 40,\\n', '  \"address\":{\\n', '  \"streetAddress\": \"144 J B Hazra Road\",\\n', '  \"city\": \"Burdwan\",\\n', '  \"state\": \"Paschimbanga\",\\n', '  \"postalCode\": \"713102\" },\\n', '  \"phoneNumber\":\\n', '\\t\\t\\t  [\\n', '\\t\\t\\t  {\\n', '  \"type\": \"personal\",\\n', '  \"number\": \"09832209761\"\\n', '\\t\\t\\t  },\\n', '\\t\\t\\t  {\\n', '  \"type\": \"fax\",\\n', '  \"number\": \"91-342-2567692\"\\n', '\\t\\t\\t  }\\n', '\\t  \\t\\t  ]\\t \\n', ' }']\n",
      "##############################################\n",
      "cursors position is now at  359\n",
      "\n",
      "##############################################\n",
      "move cursors position back to 0 \n",
      "cursors position is now at  0\n",
      "{\n",
      "  \"firstName\": \"Bidhan\",\n",
      "  \"lastName\": \"Chatterjee\",\n",
      "  \"age\": 40,\n",
      "  \"address\":{\n",
      "  \"streetAddress\": \"144 J B Hazra Road\",\n",
      "  \"city\": \"Burdwan\",\n",
      "  \"state\": \"Paschimbanga\",\n",
      "  \"postalCode\": \"713102\" },\n",
      "  \"phoneNumber\":\n",
      "\t\t\t  [\n",
      "\t\t\t  {\n",
      "  \"type\": \"personal\",\n",
      "  \"number\": \"09832209761\"\n",
      "\t\t\t  },\n",
      "\t\t\t  {\n",
      "  \"type\": \"fax\",\n",
      "  \"number\": \"91-342-2567692\"\n",
      "\t\t\t  }\n",
      "\t  \t\t  ]\t \n",
      " }\n",
      "##############################################\n",
      "cursors position is now at  100\n",
      " \"144 J B Hazra Road\",\n",
      "  \"city\": \"Burdwan\",\n",
      "  \"state\": \"Paschimbanga\",\n",
      "  \"postalCode\": \"713102\" },\n",
      "  \"phoneNumber\":\n",
      "\t\t\t  [\n",
      "\t\t\t  {\n",
      "  \"type\": \"personal\",\n",
      "  \"number\": \"09832209761\"\n",
      "\t\t\t  },\n",
      "\t\t\t  {\n",
      "  \"type\": \"fax\",\n",
      "  \"number\": \"91-342-2567692\"\n",
      "\t\t\t  }\n",
      "\t  \t\t  ]\t \n",
      " }\n",
      "##############################################\n",
      "{\n",
      "  \"firstName\": \"Bidhan\",\n",
      "  \"lastName\": \"Chatterjee\",\n",
      "  \"age\": 40,\n",
      "  \"address\":{\n",
      "  \"streetAddress\": \"144 J B Hazra Road\",\n",
      "  \"city\": \"Burdwan\",\n",
      "  \"state\": \"Paschimbanga\",\n",
      "  \"postalCode\": \"713102\" },\n",
      "  \"phoneNumber\":\n",
      "\t\t\t  [\n",
      "\t\t\t  {\n",
      "  \"type\": \"personal\",\n",
      "  \"number\": \"09832209761\"\n",
      "\t\t\t  },\n",
      "\t\t\t  {\n",
      "  \"type\": \"fax\",\n",
      "  \"number\": \"91-342-2567692\"\n",
      "\t\t\t  }\n",
      "\t  \t\t  ]\t \n",
      " }\n"
     ]
    }
   ],
   "source": [
    "a = open(\"sample.json\", \"r+\")\n",
    "print(\"cursors position is now at \", a.tell())\n",
    "b = a.readlines()\n",
    "print(b)\n",
    "print(\"##############################################\")\n",
    "print(\"cursors position is now at \", a.tell())\n",
    "print(a.read())\n",
    "print(\"##############################################\")\n",
    "print(\"move cursors position back to 0 \")\n",
    "a.seek(0)\n",
    "print(\"cursors position is now at \", a.tell())\n",
    "print(a.read())\n",
    "print(\"##############################################\")\n",
    "a.seek(100)\n",
    "print(\"cursors position is now at \", a.tell())\n",
    "print(a.read())\n",
    "\n",
    "print(\"##############################################\")\n",
    "c = open(\"sample.json\", \"r+\")\n",
    "d = c.read()\n",
    "print(d)"
   ]
  },
  {
   "cell_type": "code",
   "execution_count": 10,
   "metadata": {},
   "outputs": [
    {
     "name": "stdout",
     "output_type": "stream",
     "text": [
      "########################################\n",
      "<_io.TextIOWrapper name='sample2.txt' mode='w+' encoding='cp1252'>\n",
      "##############################################\n",
      "\n",
      "########################################\n",
      "##############################################\n",
      "{\n",
      "    \"quiz\": {\n",
      "        \"sport\": {\n",
      "            \"q1\": {\n",
      "                \"question\": \"Which  is correct team name in NBA?\",\n",
      "                \"options\": [\n",
      "                    \"New York Bulls\",\n",
      "                    \"Los Angeles Kings\",\n",
      "                    \"Golden State Warriros\",\n",
      "                    \"Huston Rocket\"\n",
      "                ],\n",
      "                \"answer\": \"Huston Rocket\"\n",
      "            }\n",
      "        },\n",
      "        \"maths\": {\n",
      "            \"q1\": {\n",
      "                \"question\": \"5 + 7 = ?\",\n",
      "                \"options\": [\n",
      "                    \"10\",\n",
      "                    \"11\",\n",
      "                    \"12\",\n",
      "                    \"13\"\n",
      "                ],\n",
      "                \"answer\": \"12\"\n",
      "            },\n",
      "            \"q2\": {\n",
      "                \"question\": \"12 - 8 = ?\",\n",
      "                \"options\": [\n",
      "                    \"1\",\n",
      "                    \"2\",\n",
      "                    \"3\",\n",
      "                    \"4\"\n",
      "                ],\n",
      "                \"answer\": \"4\"\n",
      "            }\n",
      "        }\n",
      "    }\n",
      "}\n"
     ]
    }
   ],
   "source": [
    "c = open(\"sample2.txt\", \"w+\") #first write and then read\n",
    "d = open(\"sample2.text\", \"r\")\n",
    "\n",
    "c.write(d.read())\n",
    "print(\"########################################\")\n",
    "print(c)\n",
    "print(\"##############################################\")\n",
    "print(c.read())\n",
    "print(\"########################################\")\n",
    "c.flush()\n",
    "c.seek(0)\n",
    "print(\"#####\n",
    "#########################################\")\n",
    "print(c.read())\n",
    "c.close()"
   ]
  },
  {
   "cell_type": "markdown",
   "metadata": {},
   "source": [
    "##### Auto Dispose the variable using with "
   ]
  },
  {
   "cell_type": "code",
   "execution_count": 11,
   "metadata": {},
   "outputs": [
    {
     "name": "stdout",
     "output_type": "stream",
     "text": [
      "0\n",
      "Is File Handle Closed -- False\n",
      "80\n",
      "It is a long established fact that a reader will be distracted by the readable\n",
      "Is File Handle Closed --  False\n",
      "195\n",
      "content of a page when looking at its layout. The point of using Lorem Ipsum is that it has a more-or-less normal\n",
      "Is File Handle Closed --  False\n",
      "309\n",
      "distribution of letters, as opposed to using 'Content here, content here', making it look like readable English.\n",
      "Is File Handle Closed --  False\n",
      "425\n",
      "Many desktop publishing packages and web page editors now use Lorem Ipsum as their default model text, and a search\n",
      "Is File Handle Closed --  False\n",
      "519\n",
      "for 'lorem ipsum' will uncover many web sites still in their infancy. Various versions have\n",
      "Is File Handle Closed --  False\n",
      "618\n",
      "evolved over the years, sometimes by accident, sometimes on purpose (injected humour and the like).\n",
      "Is File Handle Closed --  False\n",
      "hello world\n",
      "Is File Handle Closed --  True\n"
     ]
    },
    {
     "ename": "ValueError",
     "evalue": "I/O operation on closed file.",
     "output_type": "error",
     "traceback": [
      "\u001b[1;31m---------------------------------------------------------------------------\u001b[0m",
      "\u001b[1;31mValueError\u001b[0m                                Traceback (most recent call last)",
      "\u001b[1;32m<ipython-input-11-3d1dacc11db2>\u001b[0m in \u001b[0;36m<module>\u001b[1;34m\u001b[0m\n\u001b[0;32m     12\u001b[0m \u001b[0mprint\u001b[0m\u001b[1;33m(\u001b[0m\u001b[0mb\u001b[0m\u001b[1;33m)\u001b[0m\u001b[1;33m\u001b[0m\u001b[1;33m\u001b[0m\u001b[0m\n\u001b[0;32m     13\u001b[0m \u001b[0mprint\u001b[0m\u001b[1;33m(\u001b[0m\u001b[1;34m\"Is File Handle Closed -- \"\u001b[0m\u001b[1;33m,\u001b[0m \u001b[0mFileHandleRead\u001b[0m\u001b[1;33m.\u001b[0m\u001b[0mclosed\u001b[0m\u001b[1;33m)\u001b[0m\u001b[1;33m\u001b[0m\u001b[1;33m\u001b[0m\u001b[0m\n\u001b[1;32m---> 14\u001b[1;33m \u001b[0mFileHandleRead\u001b[0m\u001b[1;33m.\u001b[0m\u001b[0mread\u001b[0m\u001b[1;33m(\u001b[0m\u001b[1;33m)\u001b[0m\u001b[1;33m\u001b[0m\u001b[1;33m\u001b[0m\u001b[0m\n\u001b[0m",
      "\u001b[1;31mValueError\u001b[0m: I/O operation on closed file."
     ]
    }
   ],
   "source": [
    "with open(\"sample31.txt\", \"r\") as FileHandleRead:\n",
    "    print(FileHandleRead.tell())\n",
    "    print(\"Is File Handle Closed --\", FileHandleRead.closed)#\n",
    "    if not (FileHandleRead.closed):#closed() -- tell the status of the connection/ true -> bridge is closed, false -> bridge is open\n",
    "        a = FileHandleRead.readline().strip()\n",
    "        b=\"hello world\"\n",
    "    while a!=\"\":\n",
    "        print(FileHandleRead.tell())\n",
    "        print(a)\n",
    "        a = FileHandleRead.readline().strip()\n",
    "        print(\"Is File Handle Closed -- \", FileHandleRead.closed)\n",
    "print(b)     \n",
    "print(\"Is File Handle Closed -- \", FileHandleRead.closed)\n",
    "FileHandleRead.read()"
   ]
  },
  {
   "cell_type": "code",
   "execution_count": 14,
   "metadata": {
    "scrolled": false
   },
   "outputs": [
    {
     "name": "stdout",
     "output_type": "stream",
     "text": [
      "Data Contained in a variable is :  b'{\\r\\n    \"quiz\": {\\r\\n        \"sport\": {\\r\\n            \"q1\": {\\r\\n                \"question\": \"Which  is correct team name in NBA?\",\\r\\n                \"options\": [\\r\\n                    \"New York Bulls\",\\r\\n                    \"Los Angeles Kings\",\\r\\n                    \"Golden State Warriros\",\\r\\n                    \"Huston Rocket\"\\r\\n                ],\\r\\n                \"answer\": \"Huston Rocket\"\\r\\n            }\\r\\n        },\\r\\n        \"maths\": {\\r\\n            \"q1\": {\\r\\n                \"question\": \"5 + 7 = ?\",\\r\\n                \"options\": [\\r\\n                    \"10\",\\r\\n                    \"11\",\\r\\n                    \"12\",\\r\\n                    \"13\"\\r\\n                ],\\r\\n                \"answer\": \"12\"\\r\\n            },\\r\\n            \"q2\": {\\r\\n                \"question\": \"12 - 8 = ?\",\\r\\n                \"options\": [\\r\\n                    \"1\",\\r\\n                    \"2\",\\r\\n                    \"3\",\\r\\n                    \"4\"\\r\\n                ],\\r\\n                \"answer\": \"4\"\\r\\n            }\\r\\n        }\\r\\n    }\\r\\n}'\n",
      "#################################################\n",
      "File Handle Status of d Handle :  False\n",
      "#################################################\n",
      "C:\\Projects\\Python_MachineLearning-master\\sample_12.txt\n",
      "Data read in new file  b''\n",
      "#################################################\n",
      "Data read in new file after seek to 0 from write  b'{\\r\\n    \"quiz\": {\\r\\n        \"sport\": {\\r\\n            \"q1\": {\\r\\n                \"question\": \"Which  is correct team name in NBA?\",\\r\\n                \"options\": [\\r\\n                    \"New York Bulls\",\\r\\n                    \"Los Angeles Kings\",\\r\\n                    \"Golden State Warriros\",\\r\\n                    \"Huston Rocket\"\\r\\n                ],\\r\\n                \"answer\": \"Huston Rocket\"\\r\\n            }\\r\\n        },\\r\\n        \"maths\": {\\r\\n            \"q1\": {\\r\\n                \"question\": \"5 + 7 = ?\",\\r\\n                \"options\": [\\r\\n                    \"10\",\\r\\n                    \"11\",\\r\\n                    \"12\",\\r\\n                    \"13\"\\r\\n                ],\\r\\n                \"answer\": \"12\"\\r\\n            },\\r\\n            \"q2\": {\\r\\n                \"question\": \"12 - 8 = ?\",\\r\\n                \"options\": [\\r\\n                    \"1\",\\r\\n                    \"2\",\\r\\n                    \"3\",\\r\\n                    \"4\"\\r\\n                ],\\r\\n                \"answer\": \"4\"\\r\\n            }\\r\\n        }\\r\\n    }\\r\\n}'\n",
      "#######\n",
      "File Handle Status of e File Handle Before calling Close Method:  False\n",
      "closing the path with close() method for e File Handle\n",
      "e.closed property of the file handle  True\n",
      "File Handle Status of e File Handle after calling Close Method :  True\n",
      "#################################################\n",
      "########close the Handle using -- close() method #################\n",
      "['{\\n', '    \"quiz\": {\\n', '        \"sport\": {\\n', '            \"q1\": {\\n', '                \"question\": \"Which  is correct team name in NBA?\",\\n', '                \"options\": [\\n', '                    \"New York Bulls\",\\n', '                    \"Los Angeles Kings\",\\n', '                    \"Golden State Warriros\",\\n', '                    \"Huston Rocket\"\\n', '                ],\\n', '                \"answer\": \"Huston Rocket\"\\n', '            }\\n', '        },\\n', '        \"maths\": {\\n', '            \"q1\": {\\n', '                \"question\": \"5 + 7 = ?\",\\n', '                \"options\": [\\n', '                    \"10\",\\n', '                    \"11\",\\n', '                    \"12\",\\n', '                    \"13\"\\n', '                ],\\n', '                \"answer\": \"12\"\\n', '            },\\n', '            \"q2\": {\\n', '                \"question\": \"12 - 8 = ?\",\\n', '                \"options\": [\\n', '                    \"1\",\\n', '                    \"2\",\\n', '                    \"3\",\\n', '                    \"4\"\\n', '                ],\\n', '                \"answer\": \"4\"\\n', '            }\\n', '        }\\n', '    }\\n', '}']\n",
      "file removed\n"
     ]
    }
   ],
   "source": [
    "import os\n",
    "import time\n",
    "from datetime import time as X\n",
    "d = open(\"sample2.txt\", \"br\")\n",
    "a =d.read()\n",
    "print(\"Data Contained in a variable is : \", a)\n",
    "print(\"#################################################\")\n",
    "print(\"File Handle Status of d Handle : \",d.closed)\n",
    "print(\"#################################################\")\n",
    "sample_read = \"sample_12.txt\"\n",
    "e = open(sample_read, \"bw+\")\n",
    "e.write(a)\n",
    "print(os.path.abspath(sample_read))\n",
    "print(\"Data read in new file \", e.read())\n",
    "e.seek(0)\n",
    "print(\"#################################################\")\n",
    "print(\"Data read in new file after seek to 0 from write \", e.read())\n",
    "print(\"#######\")\n",
    "print(\"File Handle Status of e File Handle Before calling Close Method: \",e.closed)\n",
    "print(\"closing the path with close() method for e File Handle\")\n",
    "e.close()\n",
    "print(\"e.closed property of the file handle \", e.closed)\n",
    "print(\"File Handle Status of e File Handle after calling Close Method : \",e.closed)\n",
    "#print(e.read())\n",
    "print(\"#################################################\")\n",
    "data_handle = open(sample_read,\"r+\")\n",
    "data = data_handle.readlines()\n",
    "print(\"########close the Handle using -- close() method #################\")\n",
    "data_handle.close()\n",
    "time.sleep(25)\n",
    "print(data)\n",
    "os.remove(sample_read)\n",
    "print(\"file removed\")"
   ]
  },
  {
   "cell_type": "code",
   "execution_count": null,
   "metadata": {},
   "outputs": [],
   "source": [
    "import time \n",
    "sample1_json =  \"\"\"{\n",
    "                         \"key1\":\n",
    "                                 {\n",
    "                                     \"key2\":\n",
    "                                          [\"jarray value1\"]\n",
    "                                 },\n",
    "                         \"key3\": \"abc\"\n",
    "                     }\n",
    "                 \"\"\"\n",
    "time.sleep(1000)\n",
    "open(\"sample.json\",\"w\").write(sample1_json)\n",
    "print(\"#########\")"
   ]
  },
  {
   "cell_type": "code",
   "execution_count": null,
   "metadata": {},
   "outputs": [],
   "source": [
    "# json.loads(string)\n",
    "filehandle = open(\"sample.json\",\"r\")\n",
    "print(filehandle)\n",
    "print(type(filehandle))\n",
    "######################################\n",
    "print(filehandle.closed)\n",
    "read_data = filehandle.read()\n",
    "print(read_data)\n",
    "#########################################################\n",
    "filehandle.close()\n",
    "print(filehandle.closed)\n",
    "read_data = filehandle.read()"
   ]
  }
 ],
 "metadata": {
  "kernelspec": {
   "display_name": "Python 3",
   "language": "python",
   "name": "python3"
  },
  "language_info": {
   "codemirror_mode": {
    "name": "ipython",
    "version": 3
   },
   "file_extension": ".py",
   "mimetype": "text/x-python",
   "name": "python",
   "nbconvert_exporter": "python",
   "pygments_lexer": "ipython3",
   "version": "3.9.1"
  }
 },
 "nbformat": 4,
 "nbformat_minor": 2
}
