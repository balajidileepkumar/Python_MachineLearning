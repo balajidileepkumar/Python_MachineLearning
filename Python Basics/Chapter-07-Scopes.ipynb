{
 "cells": [
  {
   "cell_type": "markdown",
   "metadata": {},
   "source": [
    "### Scope\n",
    "Scope is a region of code where the value of the variable persists"
   ]
  },
  {
   "cell_type": "raw",
   "metadata": {},
   "source": [
    "Scope Precedences\n",
    "Non-Local > Local > Global"
   ]
  },
  {
   "cell_type": "raw",
   "metadata": {},
   "source": [
    "'''\n",
    "a = 5 # local\n",
    "nonlocal a = 10 # non local scope\n",
    "global a \n",
    "a =20\n",
    "'''"
   ]
  },
  {
   "cell_type": "markdown",
   "metadata": {},
   "source": [
    "## Local Scope"
   ]
  },
  {
   "cell_type": "code",
   "execution_count": 6,
   "metadata": {
    "scrolled": true
   },
   "outputs": [
    {
     "name": "stdout",
     "output_type": "stream",
     "text": [
      "5\n",
      "1909623947632\n",
      "5\n",
      "1909623947632\n",
      "Outer :  1909623947792\n",
      "Outer :  10\n",
      "Inner:  1909623947536\n",
      "Inner:  2\n",
      "Outer:  1909623947792\n",
      "Outer:  10\n",
      "local:  5\n",
      "local:  1909623947632\n",
      "#######################\n"
     ]
    }
   ],
   "source": [
    "y1 =5\n",
    "print(y1) \n",
    "print(id(y1))\n",
    "\n",
    "def Outer():\n",
    "    y1 =10\n",
    "    print(\"Outer : \",id(y1))\n",
    "    print(\"Outer : \", y1)\n",
    "    def Inner():\n",
    "        y1 = 2\n",
    "        print(\"Inner: \",id(y1))\n",
    "        print(\"Inner: \", y1)\n",
    "        #print(\"Outer: \", x)\n",
    "        #print(Outer())\n",
    "    Inner()\n",
    "    #y1 = 6\n",
    "    print(\"Outer: \", id(y1))\n",
    "    print(\"Outer: \", y1)\n",
    "       \n",
    "print(y1) \n",
    "print(id(y1))\n",
    "Outer()\n",
    "print(\"local: \", y1)\n",
    "print(\"local: \", id(y1))\n",
    "\n",
    "  \n",
    "print(\"#######################\")  \n"
   ]
  },
  {
   "cell_type": "markdown",
   "metadata": {},
   "source": [
    "## Non Local Scope"
   ]
  },
  {
   "cell_type": "markdown",
   "metadata": {},
   "source": [
    "It's used to change the value of a local variable in parent function"
   ]
  },
  {
   "cell_type": "code",
   "execution_count": 9,
   "metadata": {
    "scrolled": true
   },
   "outputs": [
    {
     "name": "stdout",
     "output_type": "stream",
     "text": [
      "6 1909623947664\n",
      "Outer No-NonLocal 1909623947504 1\n",
      "Inner:  2 1909623947536\n",
      "Outer NonLocal 1909623947536 2\n",
      "out of function 6 1909623947664\n",
      "#####################################3\n"
     ]
    }
   ],
   "source": [
    "y2 =6\n",
    "print(y2,id(y2))\n",
    "\n",
    "def Outer():\n",
    "    y2 =1\n",
    "    print(\"Outer No-NonLocal\", id(y2),y2)\n",
    "    def Inner():\n",
    "        nonlocal y2\n",
    "        #print(y2)\n",
    "        y2 = 2 \n",
    "        print(\"Inner: \", y2, id(y2))\n",
    "    #print(\"Outer No-NonLocal\", id(y2),y2)\n",
    "    Inner()\n",
    "    print(\"Outer NonLocal\", id(y2),y2)\n",
    "    \n",
    "Outer()\n",
    "print(\"out of function\",y2, id(y2))\n",
    "print(\"#####################################3\")\n"
   ]
  },
  {
   "cell_type": "markdown",
   "metadata": {},
   "source": [
    "### Non-Local With Multiple Nested Functions"
   ]
  },
  {
   "cell_type": "code",
   "execution_count": 10,
   "metadata": {},
   "outputs": [
    {
     "name": "stdout",
     "output_type": "stream",
     "text": [
      "1\n",
      "Declared Non Local:  2\n",
      "InnerMost:  3\n",
      "Inner:  3\n",
      "Outer:  3\n",
      "Top Level Local 0\n",
      "#####################################\n",
      "No Error Occured\n"
     ]
    }
   ],
   "source": [
    "try:\n",
    "    x =0\n",
    "    def Outer():  \n",
    "        #nonlocal x\n",
    "        x =1 \n",
    "        print(x)\n",
    "        def Inner():  \n",
    "            nonlocal x\n",
    "            x = 2\n",
    "            print(\"Declared Non Local: \", x)\n",
    "            def InnerMost():\n",
    "                nonlocal x\n",
    "                x = 3 \n",
    "                print(\"InnerMost: \", x)\n",
    "            InnerMost()\n",
    "            print(\"Inner: \", x)\n",
    "        Inner()\n",
    "        print(\"Outer: \", x)\n",
    "    Outer()\n",
    "    print(\"Top Level Local\",x)\n",
    "    print(\"#####################################\")\n",
    "except Exception as Err:# Exception:\n",
    "    print(\"error occured\", Err)\n",
    "    #print(ex)\n",
    "    #print(type(ex).__name__)\n",
    "else:\n",
    "    print(\"No Error Occured\")\n"
   ]
  },
  {
   "cell_type": "code",
   "execution_count": null,
   "metadata": {},
   "outputs": [],
   "source": [
    "try:\n",
    "    x =0\n",
    "    def Outer():      \n",
    "        x =1 \n",
    "        print(x)\n",
    "        def Inner():  \n",
    "            nonlocal x\n",
    "            x = 2\n",
    "            print(\"Declared Non Local: \", x)\n",
    "            def InnerMost():\n",
    "                nonlocal x\n",
    "                x = 3 \n",
    "                print(\"InnerMost: \", x)\n",
    "            InnerMost()\n",
    "            print(\"Inner: \", x)\n",
    "        Inner()\n",
    "        print(\"Outer: \", x)\n",
    "    Outer()\n",
    "    print(\"Top Level Local\",x)\n",
    "    print(\"#####################################\")\n",
    "except Exception as Err:# Exception:\n",
    "    print(\"error occured\", Err)\n",
    "    #print(ex)\n",
    "    #print(type(ex).__name__)\n",
    "else:\n",
    "    print(\"No Error Occured\")\n"
   ]
  },
  {
   "cell_type": "markdown",
   "metadata": {},
   "source": [
    "### Global Scope"
   ]
  },
  {
   "cell_type": "code",
   "execution_count": 14,
   "metadata": {},
   "outputs": [
    {
     "name": "stdout",
     "output_type": "stream",
     "text": [
      "x is  0 1909623947472\n",
      "x is  1 1909623947504\n",
      "Enter the value5\n",
      "Inner:  4 1909623947600\n",
      "Outer:  1 1909623947504\n",
      "next higher level 0 1909623947472\n"
     ]
    }
   ],
   "source": [
    "import math\n",
    "try:\n",
    "    global x\n",
    "    x=0\n",
    "    print(\"x is \", x, id(x))\n",
    "    \n",
    "    def Outer():\n",
    "        x = 1\n",
    "        print(\"x is \",x, id(x))\n",
    "        def Inner():\n",
    "            nonlocal x\n",
    "            y = (int)(input(\"Enter the value\"))\n",
    "            if( y > 3):\n",
    "                x = y-1\n",
    "            else:\n",
    "                x = y+1\n",
    "            print(\"Inner: \", x, id(x))\n",
    "            \n",
    "        Inner()\n",
    "        print(\"Outer: \", x, id(x))\n",
    "    Outer()\n",
    "except Exception: \n",
    "    print(\"Error Occured\")\n",
    "\n",
    "print(\"next higher level\", x, id(x))"
   ]
  },
  {
   "cell_type": "code",
   "execution_count": 15,
   "metadata": {},
   "outputs": [],
   "source": [
    "def concatorsum(a,b):\n",
    "    e =12\n",
    "    c =23\n",
    "    f=35\n",
    "    print(locals())\n",
    "    print(globals())\n",
    "    return a,b\n",
    "    "
   ]
  },
  {
   "cell_type": "code",
   "execution_count": 16,
   "metadata": {},
   "outputs": [
    {
     "name": "stdout",
     "output_type": "stream",
     "text": [
      "{'a': 1, 'b': 2, 'e': 12, 'c': 23, 'f': 35}\n",
      "{'__name__': '__main__', '__doc__': 'Automatically created module for IPython interactive environment', '__package__': None, '__loader__': None, '__spec__': None, '__builtin__': <module 'builtins' (built-in)>, '__builtins__': <module 'builtins' (built-in)>, '_ih': ['', 'y1 =5\\nprint(y1) \\nprint(id(y1))\\n\\ndef Outer():\\n    y1 =10\\n    print(\"Outer : \",id(y1))\\n    print(\"Outer : \", y1)\\n    def Inner():\\n        y1 = 2\\n        print(\"Inner: \",id(y1))\\n        print(\"Inner: \", y1)\\n        #print(\"Outer: \", x)\\n        #print(Outer())\\n    Inner()\\n    #y1 = 6\\n    print(\"Outer: \", id(y1))\\n    print(\"Outer: \", y1)\\n       \\nprint(y1) \\nprint(id(y1))\\nOuter()\\nprint(\"local: \", y1)\\nprint(\"local: \", id(y1))\\n\\n  \\nprint(\"#######################\")  ', 'y1 =5\\nprint(y1) \\nprint(id(y1))\\n\\ndef Outer():\\n    y1 =10\\n    print(\"Outer : \",id(y1))\\n    print(\"Outer : \", y1)\\n    def Inner():\\n        y1 = 2\\n        print(\"Inner: \",id(y1))\\n        print(\"Inner: \", y1)\\n        #print(\"Outer: \", x)\\n        #print(Outer())\\n    Inner()\\n    #y1 = 6\\n    print(\"Outer: \", id(y1))\\n    print(\"Outer: \", y1)\\n       \\nprint(y1) \\nprint(id(y1))\\nOuter()\\nprint(\"local: \", y1)\\nprint(\"local: \", id(y1))\\n\\n  \\nprint(\"#######################\")  ', 'y1 =5\\nprint(y1) \\nprint(id(y1))\\n\\ndef Outer():\\n    y1 =10\\n    print(\"Outer : =\",id(y1))\\n    print(\"Outer : \", y1)\\n    def Inner():\\n        y1 = 2\\n        print(\"Inner: \",id(y1))\\n        print(\"Inner: \", y1)\\n        #print(\"Outer: \", x)\\n        #print(Outer())\\n    Inner()\\n    #y1 = 6\\n    print(\"Outer: \", id(y1))\\n    print(\"Outer: \", y1)\\n       \\nprint(y1) \\nprint(id(y1))\\nOuter()\\nprint(\"local: \", y1)\\nprint(\"local: \", id(y1))\\n\\n  \\nprint(\"#######################\")  ', 'y1 =5\\nprint(y1) \\nprint(id(y1))\\n\\ndef Outer():\\n    y1 =10\\n    print(\"Outer : \",id(y1))\\n    print(\"Outer : \", y1)\\n    def Inner():\\n        y1 = 2\\n        print(\"Inner: \",id(y1))\\n        print(\"Inner: \", y1)\\n        #print(\"Outer: \", x)\\n        #print(Outer())\\n    Inner()\\n    #y1 = 6\\n    print(\"Outer: \", id(y1))\\n    print(\"Outer: \", y1)\\n       \\nprint(y1) \\nprint(id(y1))\\nOuter()\\nprint(\"local: \", y1)\\nprint(\"local: \", id(y1))\\n\\n  \\nprint(\"#######################\")  ', 'y1 =5\\nprint(y1) \\nprint(id(y1))\\n\\ndef Outer():\\n    y1 =10\\n    print(\"Outer : \",id(y1))\\n    print(\"Outer : \", y1)\\n    def Inner():\\n        y1 = 2\\n        print(\"Inner: \",id(y1))\\n        print(\"Inner: \", y1)\\n        #print(\"Outer: \", x)\\n        #print(Outer())\\n    Inner()\\n    y1 = 6\\n    print(\"Outer: \", id(y1))\\n    print(\"Outer: \", y1)\\n       \\nprint(y1) \\nprint(id(y1))\\nOuter()\\nprint(\"local: \", y1)\\nprint(\"local: \", id(y1))\\n\\n  \\nprint(\"#######################\")  ', 'y1 =5\\nprint(y1) \\nprint(id(y1))\\n\\ndef Outer():\\n    y1 =10\\n    print(\"Outer : \",id(y1))\\n    print(\"Outer : \", y1)\\n    def Inner():\\n        y1 = 2\\n        print(\"Inner: \",id(y1))\\n        print(\"Inner: \", y1)\\n        #print(\"Outer: \", x)\\n        #print(Outer())\\n    Inner()\\n    #y1 = 6\\n    print(\"Outer: \", id(y1))\\n    print(\"Outer: \", y1)\\n       \\nprint(y1) \\nprint(id(y1))\\nOuter()\\nprint(\"local: \", y1)\\nprint(\"local: \", id(y1))\\n\\n  \\nprint(\"#######################\")  ', 'y2 =6\\nprint(y2,id(y2))\\n\\ndef Outer():\\n    #y2 =1\\n    print(\"Outer No-NonLocal\", id(y2),y2)\\n    def Inner():\\n        nonlocal y2\\n        #print(y2)\\n        y2 = 2 \\n        print(\"Inner: \", y2, id(y2))\\n    #print(\"Outer No-NonLocal\", id(y2),y2)\\n    Inner()\\n    print(\"Outer NonLocal\", id(y2),y2)\\n    \\nOuter()\\nprint(\"out of function\",y2, id(y2))\\nprint(\"#####################################3\")', 'y2 =6\\nprint(y2,id(y2))\\n\\ndef Outer():\\n    y2 =1\\n    print(\"Outer No-NonLocal\", id(y2),y2)\\n    def Inner():\\n        #nonlocal y2\\n        #print(y2)\\n        y2 = 2 \\n        print(\"Inner: \", y2, id(y2))\\n    #print(\"Outer No-NonLocal\", id(y2),y2)\\n    Inner()\\n    print(\"Outer NonLocal\", id(y2),y2)\\n    \\nOuter()\\nprint(\"out of function\",y2, id(y2))\\nprint(\"#####################################3\")', 'y2 =6\\nprint(y2,id(y2))\\n\\ndef Outer():\\n    y2 =1\\n    print(\"Outer No-NonLocal\", id(y2),y2)\\n    def Inner():\\n        nonlocal y2\\n        #print(y2)\\n        y2 = 2 \\n        print(\"Inner: \", y2, id(y2))\\n    #print(\"Outer No-NonLocal\", id(y2),y2)\\n    Inner()\\n    print(\"Outer NonLocal\", id(y2),y2)\\n    \\nOuter()\\nprint(\"out of function\",y2, id(y2))\\nprint(\"#####################################3\")', 'try:\\n    x =0\\n    def Outer():  \\n        #nonlocal x\\n        x =1 \\n        print(x)\\n        def Inner():  \\n            nonlocal x\\n            x = 2\\n            print(\"Declared Non Local: \", x)\\n            def InnerMost():\\n                nonlocal x\\n                x = 3 \\n                print(\"InnerMost: \", x)\\n            InnerMost()\\n            print(\"Inner: \", x)\\n        Inner()\\n        print(\"Outer: \", x)\\n    Outer()\\n    print(\"Top Level Local\",x)\\n    print(\"#####################################\")\\nexcept Exception as Err:# Exception:\\n    print(\"error occured\", Err)\\n    #print(ex)\\n    #print(type(ex).__name__)\\nelse:\\n    print(\"No Error Occured\")', 'import math\\ntry:\\n    global x\\n    x=0\\n    print(\"x is \", x, id(x))\\n    \\n    def Outer():\\n        x = 1\\n        print(\"x is \",x, id(x))\\n        def Inner():\\n            nonlocal x\\n            y = (int)(input(\"Enter the value\"))\\n            if( y > 3):\\n                x = y-1\\n            else:\\n                x = y+1\\n            print(\"Inner: \", x, id(x))\\n            \\n        Inner()\\n        print(\"Outer: \", x, id(x))\\n    Outer()\\nexcept Exception: \\n    print(\"Error Occured\")\\n\\nprint(\"next higher level\", x, id(x))', 'import math\\ntry:\\n    global x\\n    x=0\\n    print(\"x is \", x, id(x))\\n    \\n    def Outer():\\n        #x = 1\\n        print(\"x is \",x, id(x))\\n        def Inner():\\n            nonlocal x\\n            y = (int)(input(\"Enter the value\"))\\n            if( y > 3):\\n                x = y-1\\n            else:\\n                x = y+1\\n            print(\"Inner: \", x, id(x))\\n            \\n        Inner()\\n        print(\"Outer: \", x, id(x))\\n    Outer()\\nexcept Exception: \\n    print(\"Error Occured\")\\n\\nprint(\"next higher level\", x, id(x))', 'import math\\ntry:\\n    global x\\n    x=0\\n    print(\"x is \", x, id(x))\\n    \\n    def Outer():\\n        #x = 1\\n        print(\"x is \",x, id(x))\\n        def Inner():\\n            #nonlocal x\\n            y = (int)(input(\"Enter the value\"))\\n            if( y > 3):\\n                x = y-1\\n            else:\\n                x = y+1\\n            print(\"Inner: \", x, id(x))\\n            \\n        Inner()\\n        print(\"Outer: \", x, id(x))\\n    Outer()\\nexcept Exception: \\n    print(\"Error Occured\")\\n\\nprint(\"next higher level\", x, id(x))', 'import math\\ntry:\\n    global x\\n    x=0\\n    print(\"x is \", x, id(x))\\n    \\n    def Outer():\\n        x = 1\\n        print(\"x is \",x, id(x))\\n        def Inner():\\n            #nonlocal x\\n            y = (int)(input(\"Enter the value\"))\\n            if( y > 3):\\n                x = y-1\\n            else:\\n                x = y+1\\n            print(\"Inner: \", x, id(x))\\n            \\n        Inner()\\n        print(\"Outer: \", x, id(x))\\n    Outer()\\nexcept Exception: \\n    print(\"Error Occured\")\\n\\nprint(\"next higher level\", x, id(x))', 'def concatorsum(a,b):\\n    e =12\\n    c =23\\n    f=35\\n    print(locals())\\n    print(globals())\\n    return a,b\\n    ', 'concatorsum(1,2)'], '_oh': {}, '_dh': [WindowsPath('C:/Projects/Python_MachineLearning-master/Python Basics')], 'In': ['', 'y1 =5\\nprint(y1) \\nprint(id(y1))\\n\\ndef Outer():\\n    y1 =10\\n    print(\"Outer : \",id(y1))\\n    print(\"Outer : \", y1)\\n    def Inner():\\n        y1 = 2\\n        print(\"Inner: \",id(y1))\\n        print(\"Inner: \", y1)\\n        #print(\"Outer: \", x)\\n        #print(Outer())\\n    Inner()\\n    #y1 = 6\\n    print(\"Outer: \", id(y1))\\n    print(\"Outer: \", y1)\\n       \\nprint(y1) \\nprint(id(y1))\\nOuter()\\nprint(\"local: \", y1)\\nprint(\"local: \", id(y1))\\n\\n  \\nprint(\"#######################\")  ', 'y1 =5\\nprint(y1) \\nprint(id(y1))\\n\\ndef Outer():\\n    y1 =10\\n    print(\"Outer : \",id(y1))\\n    print(\"Outer : \", y1)\\n    def Inner():\\n        y1 = 2\\n        print(\"Inner: \",id(y1))\\n        print(\"Inner: \", y1)\\n        #print(\"Outer: \", x)\\n        #print(Outer())\\n    Inner()\\n    #y1 = 6\\n    print(\"Outer: \", id(y1))\\n    print(\"Outer: \", y1)\\n       \\nprint(y1) \\nprint(id(y1))\\nOuter()\\nprint(\"local: \", y1)\\nprint(\"local: \", id(y1))\\n\\n  \\nprint(\"#######################\")  ', 'y1 =5\\nprint(y1) \\nprint(id(y1))\\n\\ndef Outer():\\n    y1 =10\\n    print(\"Outer : =\",id(y1))\\n    print(\"Outer : \", y1)\\n    def Inner():\\n        y1 = 2\\n        print(\"Inner: \",id(y1))\\n        print(\"Inner: \", y1)\\n        #print(\"Outer: \", x)\\n        #print(Outer())\\n    Inner()\\n    #y1 = 6\\n    print(\"Outer: \", id(y1))\\n    print(\"Outer: \", y1)\\n       \\nprint(y1) \\nprint(id(y1))\\nOuter()\\nprint(\"local: \", y1)\\nprint(\"local: \", id(y1))\\n\\n  \\nprint(\"#######################\")  ', 'y1 =5\\nprint(y1) \\nprint(id(y1))\\n\\ndef Outer():\\n    y1 =10\\n    print(\"Outer : \",id(y1))\\n    print(\"Outer : \", y1)\\n    def Inner():\\n        y1 = 2\\n        print(\"Inner: \",id(y1))\\n        print(\"Inner: \", y1)\\n        #print(\"Outer: \", x)\\n        #print(Outer())\\n    Inner()\\n    #y1 = 6\\n    print(\"Outer: \", id(y1))\\n    print(\"Outer: \", y1)\\n       \\nprint(y1) \\nprint(id(y1))\\nOuter()\\nprint(\"local: \", y1)\\nprint(\"local: \", id(y1))\\n\\n  \\nprint(\"#######################\")  ', 'y1 =5\\nprint(y1) \\nprint(id(y1))\\n\\ndef Outer():\\n    y1 =10\\n    print(\"Outer : \",id(y1))\\n    print(\"Outer : \", y1)\\n    def Inner():\\n        y1 = 2\\n        print(\"Inner: \",id(y1))\\n        print(\"Inner: \", y1)\\n        #print(\"Outer: \", x)\\n        #print(Outer())\\n    Inner()\\n    y1 = 6\\n    print(\"Outer: \", id(y1))\\n    print(\"Outer: \", y1)\\n       \\nprint(y1) \\nprint(id(y1))\\nOuter()\\nprint(\"local: \", y1)\\nprint(\"local: \", id(y1))\\n\\n  \\nprint(\"#######################\")  ', 'y1 =5\\nprint(y1) \\nprint(id(y1))\\n\\ndef Outer():\\n    y1 =10\\n    print(\"Outer : \",id(y1))\\n    print(\"Outer : \", y1)\\n    def Inner():\\n        y1 = 2\\n        print(\"Inner: \",id(y1))\\n        print(\"Inner: \", y1)\\n        #print(\"Outer: \", x)\\n        #print(Outer())\\n    Inner()\\n    #y1 = 6\\n    print(\"Outer: \", id(y1))\\n    print(\"Outer: \", y1)\\n       \\nprint(y1) \\nprint(id(y1))\\nOuter()\\nprint(\"local: \", y1)\\nprint(\"local: \", id(y1))\\n\\n  \\nprint(\"#######################\")  ', 'y2 =6\\nprint(y2,id(y2))\\n\\ndef Outer():\\n    #y2 =1\\n    print(\"Outer No-NonLocal\", id(y2),y2)\\n    def Inner():\\n        nonlocal y2\\n        #print(y2)\\n        y2 = 2 \\n        print(\"Inner: \", y2, id(y2))\\n    #print(\"Outer No-NonLocal\", id(y2),y2)\\n    Inner()\\n    print(\"Outer NonLocal\", id(y2),y2)\\n    \\nOuter()\\nprint(\"out of function\",y2, id(y2))\\nprint(\"#####################################3\")', 'y2 =6\\nprint(y2,id(y2))\\n\\ndef Outer():\\n    y2 =1\\n    print(\"Outer No-NonLocal\", id(y2),y2)\\n    def Inner():\\n        #nonlocal y2\\n        #print(y2)\\n        y2 = 2 \\n        print(\"Inner: \", y2, id(y2))\\n    #print(\"Outer No-NonLocal\", id(y2),y2)\\n    Inner()\\n    print(\"Outer NonLocal\", id(y2),y2)\\n    \\nOuter()\\nprint(\"out of function\",y2, id(y2))\\nprint(\"#####################################3\")', 'y2 =6\\nprint(y2,id(y2))\\n\\ndef Outer():\\n    y2 =1\\n    print(\"Outer No-NonLocal\", id(y2),y2)\\n    def Inner():\\n        nonlocal y2\\n        #print(y2)\\n        y2 = 2 \\n        print(\"Inner: \", y2, id(y2))\\n    #print(\"Outer No-NonLocal\", id(y2),y2)\\n    Inner()\\n    print(\"Outer NonLocal\", id(y2),y2)\\n    \\nOuter()\\nprint(\"out of function\",y2, id(y2))\\nprint(\"#####################################3\")', 'try:\\n    x =0\\n    def Outer():  \\n        #nonlocal x\\n        x =1 \\n        print(x)\\n        def Inner():  \\n            nonlocal x\\n            x = 2\\n            print(\"Declared Non Local: \", x)\\n            def InnerMost():\\n                nonlocal x\\n                x = 3 \\n                print(\"InnerMost: \", x)\\n            InnerMost()\\n            print(\"Inner: \", x)\\n        Inner()\\n        print(\"Outer: \", x)\\n    Outer()\\n    print(\"Top Level Local\",x)\\n    print(\"#####################################\")\\nexcept Exception as Err:# Exception:\\n    print(\"error occured\", Err)\\n    #print(ex)\\n    #print(type(ex).__name__)\\nelse:\\n    print(\"No Error Occured\")', 'import math\\ntry:\\n    global x\\n    x=0\\n    print(\"x is \", x, id(x))\\n    \\n    def Outer():\\n        x = 1\\n        print(\"x is \",x, id(x))\\n        def Inner():\\n            nonlocal x\\n            y = (int)(input(\"Enter the value\"))\\n            if( y > 3):\\n                x = y-1\\n            else:\\n                x = y+1\\n            print(\"Inner: \", x, id(x))\\n            \\n        Inner()\\n        print(\"Outer: \", x, id(x))\\n    Outer()\\nexcept Exception: \\n    print(\"Error Occured\")\\n\\nprint(\"next higher level\", x, id(x))', 'import math\\ntry:\\n    global x\\n    x=0\\n    print(\"x is \", x, id(x))\\n    \\n    def Outer():\\n        #x = 1\\n        print(\"x is \",x, id(x))\\n        def Inner():\\n            nonlocal x\\n            y = (int)(input(\"Enter the value\"))\\n            if( y > 3):\\n                x = y-1\\n            else:\\n                x = y+1\\n            print(\"Inner: \", x, id(x))\\n            \\n        Inner()\\n        print(\"Outer: \", x, id(x))\\n    Outer()\\nexcept Exception: \\n    print(\"Error Occured\")\\n\\nprint(\"next higher level\", x, id(x))', 'import math\\ntry:\\n    global x\\n    x=0\\n    print(\"x is \", x, id(x))\\n    \\n    def Outer():\\n        #x = 1\\n        print(\"x is \",x, id(x))\\n        def Inner():\\n            #nonlocal x\\n            y = (int)(input(\"Enter the value\"))\\n            if( y > 3):\\n                x = y-1\\n            else:\\n                x = y+1\\n            print(\"Inner: \", x, id(x))\\n            \\n        Inner()\\n        print(\"Outer: \", x, id(x))\\n    Outer()\\nexcept Exception: \\n    print(\"Error Occured\")\\n\\nprint(\"next higher level\", x, id(x))', 'import math\\ntry:\\n    global x\\n    x=0\\n    print(\"x is \", x, id(x))\\n    \\n    def Outer():\\n        x = 1\\n        print(\"x is \",x, id(x))\\n        def Inner():\\n            #nonlocal x\\n            y = (int)(input(\"Enter the value\"))\\n            if( y > 3):\\n                x = y-1\\n            else:\\n                x = y+1\\n            print(\"Inner: \", x, id(x))\\n            \\n        Inner()\\n        print(\"Outer: \", x, id(x))\\n    Outer()\\nexcept Exception: \\n    print(\"Error Occured\")\\n\\nprint(\"next higher level\", x, id(x))', 'def concatorsum(a,b):\\n    e =12\\n    c =23\\n    f=35\\n    print(locals())\\n    print(globals())\\n    return a,b\\n    ', 'concatorsum(1,2)'], 'Out': {}, 'get_ipython': <bound method InteractiveShell.get_ipython of <ipykernel.zmqshell.ZMQInteractiveShell object at 0x000001BCA343BE80>>, 'exit': <IPython.core.autocall.ZMQExitAutocall object at 0x000001BCA3438C70>, 'quit': <IPython.core.autocall.ZMQExitAutocall object at 0x000001BCA3438C70>, '_': '', '__': '', '___': '', '_i': 'def concatorsum(a,b):\\n    e =12\\n    c =23\\n    f=35\\n    print(locals())\\n    print(globals())\\n    return a,b\\n    ', '_ii': 'import math\\ntry:\\n    global x\\n    x=0\\n    print(\"x is \", x, id(x))\\n    \\n    def Outer():\\n        x = 1\\n        print(\"x is \",x, id(x))\\n        def Inner():\\n            #nonlocal x\\n            y = (int)(input(\"Enter the value\"))\\n            if( y > 3):\\n                x = y-1\\n            else:\\n                x = y+1\\n            print(\"Inner: \", x, id(x))\\n            \\n        Inner()\\n        print(\"Outer: \", x, id(x))\\n    Outer()\\nexcept Exception: \\n    print(\"Error Occured\")\\n\\nprint(\"next higher level\", x, id(x))', '_iii': 'import math\\ntry:\\n    global x\\n    x=0\\n    print(\"x is \", x, id(x))\\n    \\n    def Outer():\\n        #x = 1\\n        print(\"x is \",x, id(x))\\n        def Inner():\\n            #nonlocal x\\n            y = (int)(input(\"Enter the value\"))\\n            if( y > 3):\\n                x = y-1\\n            else:\\n                x = y+1\\n            print(\"Inner: \", x, id(x))\\n            \\n        Inner()\\n        print(\"Outer: \", x, id(x))\\n    Outer()\\nexcept Exception: \\n    print(\"Error Occured\")\\n\\nprint(\"next higher level\", x, id(x))', '_i1': 'y1 =5\\nprint(y1) \\nprint(id(y1))\\n\\ndef Outer():\\n    y1 =10\\n    print(\"Outer : \",id(y1))\\n    print(\"Outer : \", y1)\\n    def Inner():\\n        y1 = 2\\n        print(\"Inner: \",id(y1))\\n        print(\"Inner: \", y1)\\n        #print(\"Outer: \", x)\\n        #print(Outer())\\n    Inner()\\n    #y1 = 6\\n    print(\"Outer: \", id(y1))\\n    print(\"Outer: \", y1)\\n       \\nprint(y1) \\nprint(id(y1))\\nOuter()\\nprint(\"local: \", y1)\\nprint(\"local: \", id(y1))\\n\\n  \\nprint(\"#######################\")  ', 'y1': 5, 'Outer': <function Outer at 0x000001BCA3443760>, '_i2': 'y1 =5\\nprint(y1) \\nprint(id(y1))\\n\\ndef Outer():\\n    y1 =10\\n    print(\"Outer : \",id(y1))\\n    print(\"Outer : \", y1)\\n    def Inner():\\n        y1 = 2\\n        print(\"Inner: \",id(y1))\\n        print(\"Inner: \", y1)\\n        #print(\"Outer: \", x)\\n        #print(Outer())\\n    Inner()\\n    #y1 = 6\\n    print(\"Outer: \", id(y1))\\n    print(\"Outer: \", y1)\\n       \\nprint(y1) \\nprint(id(y1))\\nOuter()\\nprint(\"local: \", y1)\\nprint(\"local: \", id(y1))\\n\\n  \\nprint(\"#######################\")  ', '_i3': 'y1 =5\\nprint(y1) \\nprint(id(y1))\\n\\ndef Outer():\\n    y1 =10\\n    print(\"Outer : =\",id(y1))\\n    print(\"Outer : \", y1)\\n    def Inner():\\n        y1 = 2\\n        print(\"Inner: \",id(y1))\\n        print(\"Inner: \", y1)\\n        #print(\"Outer: \", x)\\n        #print(Outer())\\n    Inner()\\n    #y1 = 6\\n    print(\"Outer: \", id(y1))\\n    print(\"Outer: \", y1)\\n       \\nprint(y1) \\nprint(id(y1))\\nOuter()\\nprint(\"local: \", y1)\\nprint(\"local: \", id(y1))\\n\\n  \\nprint(\"#######################\")  ', '_i4': 'y1 =5\\nprint(y1) \\nprint(id(y1))\\n\\ndef Outer():\\n    y1 =10\\n    print(\"Outer : \",id(y1))\\n    print(\"Outer : \", y1)\\n    def Inner():\\n        y1 = 2\\n        print(\"Inner: \",id(y1))\\n        print(\"Inner: \", y1)\\n        #print(\"Outer: \", x)\\n        #print(Outer())\\n    Inner()\\n    #y1 = 6\\n    print(\"Outer: \", id(y1))\\n    print(\"Outer: \", y1)\\n       \\nprint(y1) \\nprint(id(y1))\\nOuter()\\nprint(\"local: \", y1)\\nprint(\"local: \", id(y1))\\n\\n  \\nprint(\"#######################\")  ', '_i5': 'y1 =5\\nprint(y1) \\nprint(id(y1))\\n\\ndef Outer():\\n    y1 =10\\n    print(\"Outer : \",id(y1))\\n    print(\"Outer : \", y1)\\n    def Inner():\\n        y1 = 2\\n        print(\"Inner: \",id(y1))\\n        print(\"Inner: \", y1)\\n        #print(\"Outer: \", x)\\n        #print(Outer())\\n    Inner()\\n    y1 = 6\\n    print(\"Outer: \", id(y1))\\n    print(\"Outer: \", y1)\\n       \\nprint(y1) \\nprint(id(y1))\\nOuter()\\nprint(\"local: \", y1)\\nprint(\"local: \", id(y1))\\n\\n  \\nprint(\"#######################\")  ', '_i6': 'y1 =5\\nprint(y1) \\nprint(id(y1))\\n\\ndef Outer():\\n    y1 =10\\n    print(\"Outer : \",id(y1))\\n    print(\"Outer : \", y1)\\n    def Inner():\\n        y1 = 2\\n        print(\"Inner: \",id(y1))\\n        print(\"Inner: \", y1)\\n        #print(\"Outer: \", x)\\n        #print(Outer())\\n    Inner()\\n    #y1 = 6\\n    print(\"Outer: \", id(y1))\\n    print(\"Outer: \", y1)\\n       \\nprint(y1) \\nprint(id(y1))\\nOuter()\\nprint(\"local: \", y1)\\nprint(\"local: \", id(y1))\\n\\n  \\nprint(\"#######################\")  ', '_i7': 'y2 =6\\nprint(y2,id(y2))\\n\\ndef Outer():\\n    #y2 =1\\n    print(\"Outer No-NonLocal\", id(y2),y2)\\n    def Inner():\\n        nonlocal y2\\n        #print(y2)\\n        y2 = 2 \\n        print(\"Inner: \", y2, id(y2))\\n    #print(\"Outer No-NonLocal\", id(y2),y2)\\n    Inner()\\n    print(\"Outer NonLocal\", id(y2),y2)\\n    \\nOuter()\\nprint(\"out of function\",y2, id(y2))\\nprint(\"#####################################3\")', 'y2': 6, '_i8': 'y2 =6\\nprint(y2,id(y2))\\n\\ndef Outer():\\n    y2 =1\\n    print(\"Outer No-NonLocal\", id(y2),y2)\\n    def Inner():\\n        #nonlocal y2\\n        #print(y2)\\n        y2 = 2 \\n        print(\"Inner: \", y2, id(y2))\\n    #print(\"Outer No-NonLocal\", id(y2),y2)\\n    Inner()\\n    print(\"Outer NonLocal\", id(y2),y2)\\n    \\nOuter()\\nprint(\"out of function\",y2, id(y2))\\nprint(\"#####################################3\")', '_i9': 'y2 =6\\nprint(y2,id(y2))\\n\\ndef Outer():\\n    y2 =1\\n    print(\"Outer No-NonLocal\", id(y2),y2)\\n    def Inner():\\n        nonlocal y2\\n        #print(y2)\\n        y2 = 2 \\n        print(\"Inner: \", y2, id(y2))\\n    #print(\"Outer No-NonLocal\", id(y2),y2)\\n    Inner()\\n    print(\"Outer NonLocal\", id(y2),y2)\\n    \\nOuter()\\nprint(\"out of function\",y2, id(y2))\\nprint(\"#####################################3\")', '_i10': 'try:\\n    x =0\\n    def Outer():  \\n        #nonlocal x\\n        x =1 \\n        print(x)\\n        def Inner():  \\n            nonlocal x\\n            x = 2\\n            print(\"Declared Non Local: \", x)\\n            def InnerMost():\\n                nonlocal x\\n                x = 3 \\n                print(\"InnerMost: \", x)\\n            InnerMost()\\n            print(\"Inner: \", x)\\n        Inner()\\n        print(\"Outer: \", x)\\n    Outer()\\n    print(\"Top Level Local\",x)\\n    print(\"#####################################\")\\nexcept Exception as Err:# Exception:\\n    print(\"error occured\", Err)\\n    #print(ex)\\n    #print(type(ex).__name__)\\nelse:\\n    print(\"No Error Occured\")', 'x': 0, '_i11': 'import math\\ntry:\\n    global x\\n    x=0\\n    print(\"x is \", x, id(x))\\n    \\n    def Outer():\\n        x = 1\\n        print(\"x is \",x, id(x))\\n        def Inner():\\n            nonlocal x\\n            y = (int)(input(\"Enter the value\"))\\n            if( y > 3):\\n                x = y-1\\n            else:\\n                x = y+1\\n            print(\"Inner: \", x, id(x))\\n            \\n        Inner()\\n        print(\"Outer: \", x, id(x))\\n    Outer()\\nexcept Exception: \\n    print(\"Error Occured\")\\n\\nprint(\"next higher level\", x, id(x))', 'math': <module 'math' (built-in)>, '_i12': 'import math\\ntry:\\n    global x\\n    x=0\\n    print(\"x is \", x, id(x))\\n    \\n    def Outer():\\n        #x = 1\\n        print(\"x is \",x, id(x))\\n        def Inner():\\n            nonlocal x\\n            y = (int)(input(\"Enter the value\"))\\n            if( y > 3):\\n                x = y-1\\n            else:\\n                x = y+1\\n            print(\"Inner: \", x, id(x))\\n            \\n        Inner()\\n        print(\"Outer: \", x, id(x))\\n    Outer()\\nexcept Exception: \\n    print(\"Error Occured\")\\n\\nprint(\"next higher level\", x, id(x))', '_i13': 'import math\\ntry:\\n    global x\\n    x=0\\n    print(\"x is \", x, id(x))\\n    \\n    def Outer():\\n        #x = 1\\n        print(\"x is \",x, id(x))\\n        def Inner():\\n            #nonlocal x\\n            y = (int)(input(\"Enter the value\"))\\n            if( y > 3):\\n                x = y-1\\n            else:\\n                x = y+1\\n            print(\"Inner: \", x, id(x))\\n            \\n        Inner()\\n        print(\"Outer: \", x, id(x))\\n    Outer()\\nexcept Exception: \\n    print(\"Error Occured\")\\n\\nprint(\"next higher level\", x, id(x))', '_i14': 'import math\\ntry:\\n    global x\\n    x=0\\n    print(\"x is \", x, id(x))\\n    \\n    def Outer():\\n        x = 1\\n        print(\"x is \",x, id(x))\\n        def Inner():\\n            #nonlocal x\\n            y = (int)(input(\"Enter the value\"))\\n            if( y > 3):\\n                x = y-1\\n            else:\\n                x = y+1\\n            print(\"Inner: \", x, id(x))\\n            \\n        Inner()\\n        print(\"Outer: \", x, id(x))\\n    Outer()\\nexcept Exception: \\n    print(\"Error Occured\")\\n\\nprint(\"next higher level\", x, id(x))', '_i15': 'def concatorsum(a,b):\\n    e =12\\n    c =23\\n    f=35\\n    print(locals())\\n    print(globals())\\n    return a,b\\n    ', 'concatorsum': <function concatorsum at 0x000001BCA34437F0>, '_i16': 'concatorsum(1,2)'}\n"
     ]
    },
    {
     "data": {
      "text/plain": [
       "(1, 2)"
      ]
     },
     "execution_count": 16,
     "metadata": {},
     "output_type": "execute_result"
    }
   ],
   "source": [
    "concatorsum(1,2)"
   ]
  },
  {
   "cell_type": "code",
   "execution_count": 17,
   "metadata": {},
   "outputs": [
    {
     "data": {
      "text/plain": [
       "{'__name__': '__main__',\n",
       " '__doc__': 'Automatically created module for IPython interactive environment',\n",
       " '__package__': None,\n",
       " '__loader__': None,\n",
       " '__spec__': None,\n",
       " '__builtin__': <module 'builtins' (built-in)>,\n",
       " '__builtins__': <module 'builtins' (built-in)>,\n",
       " '_ih': ['',\n",
       "  'y1 =5\\nprint(y1) \\nprint(id(y1))\\n\\ndef Outer():\\n    y1 =10\\n    print(\"Outer : \",id(y1))\\n    print(\"Outer : \", y1)\\n    def Inner():\\n        y1 = 2\\n        print(\"Inner: \",id(y1))\\n        print(\"Inner: \", y1)\\n        #print(\"Outer: \", x)\\n        #print(Outer())\\n    Inner()\\n    #y1 = 6\\n    print(\"Outer: \", id(y1))\\n    print(\"Outer: \", y1)\\n       \\nprint(y1) \\nprint(id(y1))\\nOuter()\\nprint(\"local: \", y1)\\nprint(\"local: \", id(y1))\\n\\n  \\nprint(\"#######################\")  ',\n",
       "  'y1 =5\\nprint(y1) \\nprint(id(y1))\\n\\ndef Outer():\\n    y1 =10\\n    print(\"Outer : \",id(y1))\\n    print(\"Outer : \", y1)\\n    def Inner():\\n        y1 = 2\\n        print(\"Inner: \",id(y1))\\n        print(\"Inner: \", y1)\\n        #print(\"Outer: \", x)\\n        #print(Outer())\\n    Inner()\\n    #y1 = 6\\n    print(\"Outer: \", id(y1))\\n    print(\"Outer: \", y1)\\n       \\nprint(y1) \\nprint(id(y1))\\nOuter()\\nprint(\"local: \", y1)\\nprint(\"local: \", id(y1))\\n\\n  \\nprint(\"#######################\")  ',\n",
       "  'y1 =5\\nprint(y1) \\nprint(id(y1))\\n\\ndef Outer():\\n    y1 =10\\n    print(\"Outer : =\",id(y1))\\n    print(\"Outer : \", y1)\\n    def Inner():\\n        y1 = 2\\n        print(\"Inner: \",id(y1))\\n        print(\"Inner: \", y1)\\n        #print(\"Outer: \", x)\\n        #print(Outer())\\n    Inner()\\n    #y1 = 6\\n    print(\"Outer: \", id(y1))\\n    print(\"Outer: \", y1)\\n       \\nprint(y1) \\nprint(id(y1))\\nOuter()\\nprint(\"local: \", y1)\\nprint(\"local: \", id(y1))\\n\\n  \\nprint(\"#######################\")  ',\n",
       "  'y1 =5\\nprint(y1) \\nprint(id(y1))\\n\\ndef Outer():\\n    y1 =10\\n    print(\"Outer : \",id(y1))\\n    print(\"Outer : \", y1)\\n    def Inner():\\n        y1 = 2\\n        print(\"Inner: \",id(y1))\\n        print(\"Inner: \", y1)\\n        #print(\"Outer: \", x)\\n        #print(Outer())\\n    Inner()\\n    #y1 = 6\\n    print(\"Outer: \", id(y1))\\n    print(\"Outer: \", y1)\\n       \\nprint(y1) \\nprint(id(y1))\\nOuter()\\nprint(\"local: \", y1)\\nprint(\"local: \", id(y1))\\n\\n  \\nprint(\"#######################\")  ',\n",
       "  'y1 =5\\nprint(y1) \\nprint(id(y1))\\n\\ndef Outer():\\n    y1 =10\\n    print(\"Outer : \",id(y1))\\n    print(\"Outer : \", y1)\\n    def Inner():\\n        y1 = 2\\n        print(\"Inner: \",id(y1))\\n        print(\"Inner: \", y1)\\n        #print(\"Outer: \", x)\\n        #print(Outer())\\n    Inner()\\n    y1 = 6\\n    print(\"Outer: \", id(y1))\\n    print(\"Outer: \", y1)\\n       \\nprint(y1) \\nprint(id(y1))\\nOuter()\\nprint(\"local: \", y1)\\nprint(\"local: \", id(y1))\\n\\n  \\nprint(\"#######################\")  ',\n",
       "  'y1 =5\\nprint(y1) \\nprint(id(y1))\\n\\ndef Outer():\\n    y1 =10\\n    print(\"Outer : \",id(y1))\\n    print(\"Outer : \", y1)\\n    def Inner():\\n        y1 = 2\\n        print(\"Inner: \",id(y1))\\n        print(\"Inner: \", y1)\\n        #print(\"Outer: \", x)\\n        #print(Outer())\\n    Inner()\\n    #y1 = 6\\n    print(\"Outer: \", id(y1))\\n    print(\"Outer: \", y1)\\n       \\nprint(y1) \\nprint(id(y1))\\nOuter()\\nprint(\"local: \", y1)\\nprint(\"local: \", id(y1))\\n\\n  \\nprint(\"#######################\")  ',\n",
       "  'y2 =6\\nprint(y2,id(y2))\\n\\ndef Outer():\\n    #y2 =1\\n    print(\"Outer No-NonLocal\", id(y2),y2)\\n    def Inner():\\n        nonlocal y2\\n        #print(y2)\\n        y2 = 2 \\n        print(\"Inner: \", y2, id(y2))\\n    #print(\"Outer No-NonLocal\", id(y2),y2)\\n    Inner()\\n    print(\"Outer NonLocal\", id(y2),y2)\\n    \\nOuter()\\nprint(\"out of function\",y2, id(y2))\\nprint(\"#####################################3\")',\n",
       "  'y2 =6\\nprint(y2,id(y2))\\n\\ndef Outer():\\n    y2 =1\\n    print(\"Outer No-NonLocal\", id(y2),y2)\\n    def Inner():\\n        #nonlocal y2\\n        #print(y2)\\n        y2 = 2 \\n        print(\"Inner: \", y2, id(y2))\\n    #print(\"Outer No-NonLocal\", id(y2),y2)\\n    Inner()\\n    print(\"Outer NonLocal\", id(y2),y2)\\n    \\nOuter()\\nprint(\"out of function\",y2, id(y2))\\nprint(\"#####################################3\")',\n",
       "  'y2 =6\\nprint(y2,id(y2))\\n\\ndef Outer():\\n    y2 =1\\n    print(\"Outer No-NonLocal\", id(y2),y2)\\n    def Inner():\\n        nonlocal y2\\n        #print(y2)\\n        y2 = 2 \\n        print(\"Inner: \", y2, id(y2))\\n    #print(\"Outer No-NonLocal\", id(y2),y2)\\n    Inner()\\n    print(\"Outer NonLocal\", id(y2),y2)\\n    \\nOuter()\\nprint(\"out of function\",y2, id(y2))\\nprint(\"#####################################3\")',\n",
       "  'try:\\n    x =0\\n    def Outer():  \\n        #nonlocal x\\n        x =1 \\n        print(x)\\n        def Inner():  \\n            nonlocal x\\n            x = 2\\n            print(\"Declared Non Local: \", x)\\n            def InnerMost():\\n                nonlocal x\\n                x = 3 \\n                print(\"InnerMost: \", x)\\n            InnerMost()\\n            print(\"Inner: \", x)\\n        Inner()\\n        print(\"Outer: \", x)\\n    Outer()\\n    print(\"Top Level Local\",x)\\n    print(\"#####################################\")\\nexcept Exception as Err:# Exception:\\n    print(\"error occured\", Err)\\n    #print(ex)\\n    #print(type(ex).__name__)\\nelse:\\n    print(\"No Error Occured\")',\n",
       "  'import math\\ntry:\\n    global x\\n    x=0\\n    print(\"x is \", x, id(x))\\n    \\n    def Outer():\\n        x = 1\\n        print(\"x is \",x, id(x))\\n        def Inner():\\n            nonlocal x\\n            y = (int)(input(\"Enter the value\"))\\n            if( y > 3):\\n                x = y-1\\n            else:\\n                x = y+1\\n            print(\"Inner: \", x, id(x))\\n            \\n        Inner()\\n        print(\"Outer: \", x, id(x))\\n    Outer()\\nexcept Exception: \\n    print(\"Error Occured\")\\n\\nprint(\"next higher level\", x, id(x))',\n",
       "  'import math\\ntry:\\n    global x\\n    x=0\\n    print(\"x is \", x, id(x))\\n    \\n    def Outer():\\n        #x = 1\\n        print(\"x is \",x, id(x))\\n        def Inner():\\n            nonlocal x\\n            y = (int)(input(\"Enter the value\"))\\n            if( y > 3):\\n                x = y-1\\n            else:\\n                x = y+1\\n            print(\"Inner: \", x, id(x))\\n            \\n        Inner()\\n        print(\"Outer: \", x, id(x))\\n    Outer()\\nexcept Exception: \\n    print(\"Error Occured\")\\n\\nprint(\"next higher level\", x, id(x))',\n",
       "  'import math\\ntry:\\n    global x\\n    x=0\\n    print(\"x is \", x, id(x))\\n    \\n    def Outer():\\n        #x = 1\\n        print(\"x is \",x, id(x))\\n        def Inner():\\n            #nonlocal x\\n            y = (int)(input(\"Enter the value\"))\\n            if( y > 3):\\n                x = y-1\\n            else:\\n                x = y+1\\n            print(\"Inner: \", x, id(x))\\n            \\n        Inner()\\n        print(\"Outer: \", x, id(x))\\n    Outer()\\nexcept Exception: \\n    print(\"Error Occured\")\\n\\nprint(\"next higher level\", x, id(x))',\n",
       "  'import math\\ntry:\\n    global x\\n    x=0\\n    print(\"x is \", x, id(x))\\n    \\n    def Outer():\\n        x = 1\\n        print(\"x is \",x, id(x))\\n        def Inner():\\n            #nonlocal x\\n            y = (int)(input(\"Enter the value\"))\\n            if( y > 3):\\n                x = y-1\\n            else:\\n                x = y+1\\n            print(\"Inner: \", x, id(x))\\n            \\n        Inner()\\n        print(\"Outer: \", x, id(x))\\n    Outer()\\nexcept Exception: \\n    print(\"Error Occured\")\\n\\nprint(\"next higher level\", x, id(x))',\n",
       "  'def concatorsum(a,b):\\n    e =12\\n    c =23\\n    f=35\\n    print(locals())\\n    print(globals())\\n    return a,b\\n    ',\n",
       "  'concatorsum(1,2)',\n",
       "  'locals()\\nglobals()'],\n",
       " '_oh': {16: (1, 2)},\n",
       " '_dh': [WindowsPath('C:/Projects/Python_MachineLearning-master/Python Basics')],\n",
       " 'In': ['',\n",
       "  'y1 =5\\nprint(y1) \\nprint(id(y1))\\n\\ndef Outer():\\n    y1 =10\\n    print(\"Outer : \",id(y1))\\n    print(\"Outer : \", y1)\\n    def Inner():\\n        y1 = 2\\n        print(\"Inner: \",id(y1))\\n        print(\"Inner: \", y1)\\n        #print(\"Outer: \", x)\\n        #print(Outer())\\n    Inner()\\n    #y1 = 6\\n    print(\"Outer: \", id(y1))\\n    print(\"Outer: \", y1)\\n       \\nprint(y1) \\nprint(id(y1))\\nOuter()\\nprint(\"local: \", y1)\\nprint(\"local: \", id(y1))\\n\\n  \\nprint(\"#######################\")  ',\n",
       "  'y1 =5\\nprint(y1) \\nprint(id(y1))\\n\\ndef Outer():\\n    y1 =10\\n    print(\"Outer : \",id(y1))\\n    print(\"Outer : \", y1)\\n    def Inner():\\n        y1 = 2\\n        print(\"Inner: \",id(y1))\\n        print(\"Inner: \", y1)\\n        #print(\"Outer: \", x)\\n        #print(Outer())\\n    Inner()\\n    #y1 = 6\\n    print(\"Outer: \", id(y1))\\n    print(\"Outer: \", y1)\\n       \\nprint(y1) \\nprint(id(y1))\\nOuter()\\nprint(\"local: \", y1)\\nprint(\"local: \", id(y1))\\n\\n  \\nprint(\"#######################\")  ',\n",
       "  'y1 =5\\nprint(y1) \\nprint(id(y1))\\n\\ndef Outer():\\n    y1 =10\\n    print(\"Outer : =\",id(y1))\\n    print(\"Outer : \", y1)\\n    def Inner():\\n        y1 = 2\\n        print(\"Inner: \",id(y1))\\n        print(\"Inner: \", y1)\\n        #print(\"Outer: \", x)\\n        #print(Outer())\\n    Inner()\\n    #y1 = 6\\n    print(\"Outer: \", id(y1))\\n    print(\"Outer: \", y1)\\n       \\nprint(y1) \\nprint(id(y1))\\nOuter()\\nprint(\"local: \", y1)\\nprint(\"local: \", id(y1))\\n\\n  \\nprint(\"#######################\")  ',\n",
       "  'y1 =5\\nprint(y1) \\nprint(id(y1))\\n\\ndef Outer():\\n    y1 =10\\n    print(\"Outer : \",id(y1))\\n    print(\"Outer : \", y1)\\n    def Inner():\\n        y1 = 2\\n        print(\"Inner: \",id(y1))\\n        print(\"Inner: \", y1)\\n        #print(\"Outer: \", x)\\n        #print(Outer())\\n    Inner()\\n    #y1 = 6\\n    print(\"Outer: \", id(y1))\\n    print(\"Outer: \", y1)\\n       \\nprint(y1) \\nprint(id(y1))\\nOuter()\\nprint(\"local: \", y1)\\nprint(\"local: \", id(y1))\\n\\n  \\nprint(\"#######################\")  ',\n",
       "  'y1 =5\\nprint(y1) \\nprint(id(y1))\\n\\ndef Outer():\\n    y1 =10\\n    print(\"Outer : \",id(y1))\\n    print(\"Outer : \", y1)\\n    def Inner():\\n        y1 = 2\\n        print(\"Inner: \",id(y1))\\n        print(\"Inner: \", y1)\\n        #print(\"Outer: \", x)\\n        #print(Outer())\\n    Inner()\\n    y1 = 6\\n    print(\"Outer: \", id(y1))\\n    print(\"Outer: \", y1)\\n       \\nprint(y1) \\nprint(id(y1))\\nOuter()\\nprint(\"local: \", y1)\\nprint(\"local: \", id(y1))\\n\\n  \\nprint(\"#######################\")  ',\n",
       "  'y1 =5\\nprint(y1) \\nprint(id(y1))\\n\\ndef Outer():\\n    y1 =10\\n    print(\"Outer : \",id(y1))\\n    print(\"Outer : \", y1)\\n    def Inner():\\n        y1 = 2\\n        print(\"Inner: \",id(y1))\\n        print(\"Inner: \", y1)\\n        #print(\"Outer: \", x)\\n        #print(Outer())\\n    Inner()\\n    #y1 = 6\\n    print(\"Outer: \", id(y1))\\n    print(\"Outer: \", y1)\\n       \\nprint(y1) \\nprint(id(y1))\\nOuter()\\nprint(\"local: \", y1)\\nprint(\"local: \", id(y1))\\n\\n  \\nprint(\"#######################\")  ',\n",
       "  'y2 =6\\nprint(y2,id(y2))\\n\\ndef Outer():\\n    #y2 =1\\n    print(\"Outer No-NonLocal\", id(y2),y2)\\n    def Inner():\\n        nonlocal y2\\n        #print(y2)\\n        y2 = 2 \\n        print(\"Inner: \", y2, id(y2))\\n    #print(\"Outer No-NonLocal\", id(y2),y2)\\n    Inner()\\n    print(\"Outer NonLocal\", id(y2),y2)\\n    \\nOuter()\\nprint(\"out of function\",y2, id(y2))\\nprint(\"#####################################3\")',\n",
       "  'y2 =6\\nprint(y2,id(y2))\\n\\ndef Outer():\\n    y2 =1\\n    print(\"Outer No-NonLocal\", id(y2),y2)\\n    def Inner():\\n        #nonlocal y2\\n        #print(y2)\\n        y2 = 2 \\n        print(\"Inner: \", y2, id(y2))\\n    #print(\"Outer No-NonLocal\", id(y2),y2)\\n    Inner()\\n    print(\"Outer NonLocal\", id(y2),y2)\\n    \\nOuter()\\nprint(\"out of function\",y2, id(y2))\\nprint(\"#####################################3\")',\n",
       "  'y2 =6\\nprint(y2,id(y2))\\n\\ndef Outer():\\n    y2 =1\\n    print(\"Outer No-NonLocal\", id(y2),y2)\\n    def Inner():\\n        nonlocal y2\\n        #print(y2)\\n        y2 = 2 \\n        print(\"Inner: \", y2, id(y2))\\n    #print(\"Outer No-NonLocal\", id(y2),y2)\\n    Inner()\\n    print(\"Outer NonLocal\", id(y2),y2)\\n    \\nOuter()\\nprint(\"out of function\",y2, id(y2))\\nprint(\"#####################################3\")',\n",
       "  'try:\\n    x =0\\n    def Outer():  \\n        #nonlocal x\\n        x =1 \\n        print(x)\\n        def Inner():  \\n            nonlocal x\\n            x = 2\\n            print(\"Declared Non Local: \", x)\\n            def InnerMost():\\n                nonlocal x\\n                x = 3 \\n                print(\"InnerMost: \", x)\\n            InnerMost()\\n            print(\"Inner: \", x)\\n        Inner()\\n        print(\"Outer: \", x)\\n    Outer()\\n    print(\"Top Level Local\",x)\\n    print(\"#####################################\")\\nexcept Exception as Err:# Exception:\\n    print(\"error occured\", Err)\\n    #print(ex)\\n    #print(type(ex).__name__)\\nelse:\\n    print(\"No Error Occured\")',\n",
       "  'import math\\ntry:\\n    global x\\n    x=0\\n    print(\"x is \", x, id(x))\\n    \\n    def Outer():\\n        x = 1\\n        print(\"x is \",x, id(x))\\n        def Inner():\\n            nonlocal x\\n            y = (int)(input(\"Enter the value\"))\\n            if( y > 3):\\n                x = y-1\\n            else:\\n                x = y+1\\n            print(\"Inner: \", x, id(x))\\n            \\n        Inner()\\n        print(\"Outer: \", x, id(x))\\n    Outer()\\nexcept Exception: \\n    print(\"Error Occured\")\\n\\nprint(\"next higher level\", x, id(x))',\n",
       "  'import math\\ntry:\\n    global x\\n    x=0\\n    print(\"x is \", x, id(x))\\n    \\n    def Outer():\\n        #x = 1\\n        print(\"x is \",x, id(x))\\n        def Inner():\\n            nonlocal x\\n            y = (int)(input(\"Enter the value\"))\\n            if( y > 3):\\n                x = y-1\\n            else:\\n                x = y+1\\n            print(\"Inner: \", x, id(x))\\n            \\n        Inner()\\n        print(\"Outer: \", x, id(x))\\n    Outer()\\nexcept Exception: \\n    print(\"Error Occured\")\\n\\nprint(\"next higher level\", x, id(x))',\n",
       "  'import math\\ntry:\\n    global x\\n    x=0\\n    print(\"x is \", x, id(x))\\n    \\n    def Outer():\\n        #x = 1\\n        print(\"x is \",x, id(x))\\n        def Inner():\\n            #nonlocal x\\n            y = (int)(input(\"Enter the value\"))\\n            if( y > 3):\\n                x = y-1\\n            else:\\n                x = y+1\\n            print(\"Inner: \", x, id(x))\\n            \\n        Inner()\\n        print(\"Outer: \", x, id(x))\\n    Outer()\\nexcept Exception: \\n    print(\"Error Occured\")\\n\\nprint(\"next higher level\", x, id(x))',\n",
       "  'import math\\ntry:\\n    global x\\n    x=0\\n    print(\"x is \", x, id(x))\\n    \\n    def Outer():\\n        x = 1\\n        print(\"x is \",x, id(x))\\n        def Inner():\\n            #nonlocal x\\n            y = (int)(input(\"Enter the value\"))\\n            if( y > 3):\\n                x = y-1\\n            else:\\n                x = y+1\\n            print(\"Inner: \", x, id(x))\\n            \\n        Inner()\\n        print(\"Outer: \", x, id(x))\\n    Outer()\\nexcept Exception: \\n    print(\"Error Occured\")\\n\\nprint(\"next higher level\", x, id(x))',\n",
       "  'def concatorsum(a,b):\\n    e =12\\n    c =23\\n    f=35\\n    print(locals())\\n    print(globals())\\n    return a,b\\n    ',\n",
       "  'concatorsum(1,2)',\n",
       "  'locals()\\nglobals()'],\n",
       " 'Out': {16: (1, 2)},\n",
       " 'get_ipython': <bound method InteractiveShell.get_ipython of <ipykernel.zmqshell.ZMQInteractiveShell object at 0x000001BCA343BE80>>,\n",
       " 'exit': <IPython.core.autocall.ZMQExitAutocall at 0x1bca3438c70>,\n",
       " 'quit': <IPython.core.autocall.ZMQExitAutocall at 0x1bca3438c70>,\n",
       " '_': (1, 2),\n",
       " '__': '',\n",
       " '___': '',\n",
       " '_i': 'concatorsum(1,2)',\n",
       " '_ii': 'def concatorsum(a,b):\\n    e =12\\n    c =23\\n    f=35\\n    print(locals())\\n    print(globals())\\n    return a,b\\n    ',\n",
       " '_iii': 'import math\\ntry:\\n    global x\\n    x=0\\n    print(\"x is \", x, id(x))\\n    \\n    def Outer():\\n        x = 1\\n        print(\"x is \",x, id(x))\\n        def Inner():\\n            #nonlocal x\\n            y = (int)(input(\"Enter the value\"))\\n            if( y > 3):\\n                x = y-1\\n            else:\\n                x = y+1\\n            print(\"Inner: \", x, id(x))\\n            \\n        Inner()\\n        print(\"Outer: \", x, id(x))\\n    Outer()\\nexcept Exception: \\n    print(\"Error Occured\")\\n\\nprint(\"next higher level\", x, id(x))',\n",
       " '_i1': 'y1 =5\\nprint(y1) \\nprint(id(y1))\\n\\ndef Outer():\\n    y1 =10\\n    print(\"Outer : \",id(y1))\\n    print(\"Outer : \", y1)\\n    def Inner():\\n        y1 = 2\\n        print(\"Inner: \",id(y1))\\n        print(\"Inner: \", y1)\\n        #print(\"Outer: \", x)\\n        #print(Outer())\\n    Inner()\\n    #y1 = 6\\n    print(\"Outer: \", id(y1))\\n    print(\"Outer: \", y1)\\n       \\nprint(y1) \\nprint(id(y1))\\nOuter()\\nprint(\"local: \", y1)\\nprint(\"local: \", id(y1))\\n\\n  \\nprint(\"#######################\")  ',\n",
       " 'y1': 5,\n",
       " 'Outer': <function __main__.Outer()>,\n",
       " '_i2': 'y1 =5\\nprint(y1) \\nprint(id(y1))\\n\\ndef Outer():\\n    y1 =10\\n    print(\"Outer : \",id(y1))\\n    print(\"Outer : \", y1)\\n    def Inner():\\n        y1 = 2\\n        print(\"Inner: \",id(y1))\\n        print(\"Inner: \", y1)\\n        #print(\"Outer: \", x)\\n        #print(Outer())\\n    Inner()\\n    #y1 = 6\\n    print(\"Outer: \", id(y1))\\n    print(\"Outer: \", y1)\\n       \\nprint(y1) \\nprint(id(y1))\\nOuter()\\nprint(\"local: \", y1)\\nprint(\"local: \", id(y1))\\n\\n  \\nprint(\"#######################\")  ',\n",
       " '_i3': 'y1 =5\\nprint(y1) \\nprint(id(y1))\\n\\ndef Outer():\\n    y1 =10\\n    print(\"Outer : =\",id(y1))\\n    print(\"Outer : \", y1)\\n    def Inner():\\n        y1 = 2\\n        print(\"Inner: \",id(y1))\\n        print(\"Inner: \", y1)\\n        #print(\"Outer: \", x)\\n        #print(Outer())\\n    Inner()\\n    #y1 = 6\\n    print(\"Outer: \", id(y1))\\n    print(\"Outer: \", y1)\\n       \\nprint(y1) \\nprint(id(y1))\\nOuter()\\nprint(\"local: \", y1)\\nprint(\"local: \", id(y1))\\n\\n  \\nprint(\"#######################\")  ',\n",
       " '_i4': 'y1 =5\\nprint(y1) \\nprint(id(y1))\\n\\ndef Outer():\\n    y1 =10\\n    print(\"Outer : \",id(y1))\\n    print(\"Outer : \", y1)\\n    def Inner():\\n        y1 = 2\\n        print(\"Inner: \",id(y1))\\n        print(\"Inner: \", y1)\\n        #print(\"Outer: \", x)\\n        #print(Outer())\\n    Inner()\\n    #y1 = 6\\n    print(\"Outer: \", id(y1))\\n    print(\"Outer: \", y1)\\n       \\nprint(y1) \\nprint(id(y1))\\nOuter()\\nprint(\"local: \", y1)\\nprint(\"local: \", id(y1))\\n\\n  \\nprint(\"#######################\")  ',\n",
       " '_i5': 'y1 =5\\nprint(y1) \\nprint(id(y1))\\n\\ndef Outer():\\n    y1 =10\\n    print(\"Outer : \",id(y1))\\n    print(\"Outer : \", y1)\\n    def Inner():\\n        y1 = 2\\n        print(\"Inner: \",id(y1))\\n        print(\"Inner: \", y1)\\n        #print(\"Outer: \", x)\\n        #print(Outer())\\n    Inner()\\n    y1 = 6\\n    print(\"Outer: \", id(y1))\\n    print(\"Outer: \", y1)\\n       \\nprint(y1) \\nprint(id(y1))\\nOuter()\\nprint(\"local: \", y1)\\nprint(\"local: \", id(y1))\\n\\n  \\nprint(\"#######################\")  ',\n",
       " '_i6': 'y1 =5\\nprint(y1) \\nprint(id(y1))\\n\\ndef Outer():\\n    y1 =10\\n    print(\"Outer : \",id(y1))\\n    print(\"Outer : \", y1)\\n    def Inner():\\n        y1 = 2\\n        print(\"Inner: \",id(y1))\\n        print(\"Inner: \", y1)\\n        #print(\"Outer: \", x)\\n        #print(Outer())\\n    Inner()\\n    #y1 = 6\\n    print(\"Outer: \", id(y1))\\n    print(\"Outer: \", y1)\\n       \\nprint(y1) \\nprint(id(y1))\\nOuter()\\nprint(\"local: \", y1)\\nprint(\"local: \", id(y1))\\n\\n  \\nprint(\"#######################\")  ',\n",
       " '_i7': 'y2 =6\\nprint(y2,id(y2))\\n\\ndef Outer():\\n    #y2 =1\\n    print(\"Outer No-NonLocal\", id(y2),y2)\\n    def Inner():\\n        nonlocal y2\\n        #print(y2)\\n        y2 = 2 \\n        print(\"Inner: \", y2, id(y2))\\n    #print(\"Outer No-NonLocal\", id(y2),y2)\\n    Inner()\\n    print(\"Outer NonLocal\", id(y2),y2)\\n    \\nOuter()\\nprint(\"out of function\",y2, id(y2))\\nprint(\"#####################################3\")',\n",
       " 'y2': 6,\n",
       " '_i8': 'y2 =6\\nprint(y2,id(y2))\\n\\ndef Outer():\\n    y2 =1\\n    print(\"Outer No-NonLocal\", id(y2),y2)\\n    def Inner():\\n        #nonlocal y2\\n        #print(y2)\\n        y2 = 2 \\n        print(\"Inner: \", y2, id(y2))\\n    #print(\"Outer No-NonLocal\", id(y2),y2)\\n    Inner()\\n    print(\"Outer NonLocal\", id(y2),y2)\\n    \\nOuter()\\nprint(\"out of function\",y2, id(y2))\\nprint(\"#####################################3\")',\n",
       " '_i9': 'y2 =6\\nprint(y2,id(y2))\\n\\ndef Outer():\\n    y2 =1\\n    print(\"Outer No-NonLocal\", id(y2),y2)\\n    def Inner():\\n        nonlocal y2\\n        #print(y2)\\n        y2 = 2 \\n        print(\"Inner: \", y2, id(y2))\\n    #print(\"Outer No-NonLocal\", id(y2),y2)\\n    Inner()\\n    print(\"Outer NonLocal\", id(y2),y2)\\n    \\nOuter()\\nprint(\"out of function\",y2, id(y2))\\nprint(\"#####################################3\")',\n",
       " '_i10': 'try:\\n    x =0\\n    def Outer():  \\n        #nonlocal x\\n        x =1 \\n        print(x)\\n        def Inner():  \\n            nonlocal x\\n            x = 2\\n            print(\"Declared Non Local: \", x)\\n            def InnerMost():\\n                nonlocal x\\n                x = 3 \\n                print(\"InnerMost: \", x)\\n            InnerMost()\\n            print(\"Inner: \", x)\\n        Inner()\\n        print(\"Outer: \", x)\\n    Outer()\\n    print(\"Top Level Local\",x)\\n    print(\"#####################################\")\\nexcept Exception as Err:# Exception:\\n    print(\"error occured\", Err)\\n    #print(ex)\\n    #print(type(ex).__name__)\\nelse:\\n    print(\"No Error Occured\")',\n",
       " 'x': 0,\n",
       " '_i11': 'import math\\ntry:\\n    global x\\n    x=0\\n    print(\"x is \", x, id(x))\\n    \\n    def Outer():\\n        x = 1\\n        print(\"x is \",x, id(x))\\n        def Inner():\\n            nonlocal x\\n            y = (int)(input(\"Enter the value\"))\\n            if( y > 3):\\n                x = y-1\\n            else:\\n                x = y+1\\n            print(\"Inner: \", x, id(x))\\n            \\n        Inner()\\n        print(\"Outer: \", x, id(x))\\n    Outer()\\nexcept Exception: \\n    print(\"Error Occured\")\\n\\nprint(\"next higher level\", x, id(x))',\n",
       " 'math': <module 'math' (built-in)>,\n",
       " '_i12': 'import math\\ntry:\\n    global x\\n    x=0\\n    print(\"x is \", x, id(x))\\n    \\n    def Outer():\\n        #x = 1\\n        print(\"x is \",x, id(x))\\n        def Inner():\\n            nonlocal x\\n            y = (int)(input(\"Enter the value\"))\\n            if( y > 3):\\n                x = y-1\\n            else:\\n                x = y+1\\n            print(\"Inner: \", x, id(x))\\n            \\n        Inner()\\n        print(\"Outer: \", x, id(x))\\n    Outer()\\nexcept Exception: \\n    print(\"Error Occured\")\\n\\nprint(\"next higher level\", x, id(x))',\n",
       " '_i13': 'import math\\ntry:\\n    global x\\n    x=0\\n    print(\"x is \", x, id(x))\\n    \\n    def Outer():\\n        #x = 1\\n        print(\"x is \",x, id(x))\\n        def Inner():\\n            #nonlocal x\\n            y = (int)(input(\"Enter the value\"))\\n            if( y > 3):\\n                x = y-1\\n            else:\\n                x = y+1\\n            print(\"Inner: \", x, id(x))\\n            \\n        Inner()\\n        print(\"Outer: \", x, id(x))\\n    Outer()\\nexcept Exception: \\n    print(\"Error Occured\")\\n\\nprint(\"next higher level\", x, id(x))',\n",
       " '_i14': 'import math\\ntry:\\n    global x\\n    x=0\\n    print(\"x is \", x, id(x))\\n    \\n    def Outer():\\n        x = 1\\n        print(\"x is \",x, id(x))\\n        def Inner():\\n            #nonlocal x\\n            y = (int)(input(\"Enter the value\"))\\n            if( y > 3):\\n                x = y-1\\n            else:\\n                x = y+1\\n            print(\"Inner: \", x, id(x))\\n            \\n        Inner()\\n        print(\"Outer: \", x, id(x))\\n    Outer()\\nexcept Exception: \\n    print(\"Error Occured\")\\n\\nprint(\"next higher level\", x, id(x))',\n",
       " '_i15': 'def concatorsum(a,b):\\n    e =12\\n    c =23\\n    f=35\\n    print(locals())\\n    print(globals())\\n    return a,b\\n    ',\n",
       " 'concatorsum': <function __main__.concatorsum(a, b)>,\n",
       " '_i16': 'concatorsum(1,2)',\n",
       " '_16': (1, 2),\n",
       " '_i17': 'locals()\\nglobals()'}"
      ]
     },
     "execution_count": 17,
     "metadata": {},
     "output_type": "execute_result"
    }
   ],
   "source": [
    "locals()\n",
    "globals()"
   ]
  },
  {
   "cell_type": "code",
   "execution_count": 18,
   "metadata": {},
   "outputs": [
    {
     "name": "stdout",
     "output_type": "stream",
     "text": [
      "{'a': 1, 'b': 2, 'e': 12, 'c': 23, 'f': 35}\n",
      "{'__name__': '__main__', '__doc__': 'Automatically created module for IPython interactive environment', '__package__': None, '__loader__': None, '__spec__': None, '__builtin__': <module 'builtins' (built-in)>, '__builtins__': <module 'builtins' (built-in)>, '_ih': ['', 'y1 =5\\nprint(y1) \\nprint(id(y1))\\n\\ndef Outer():\\n    y1 =10\\n    print(\"Outer : \",id(y1))\\n    print(\"Outer : \", y1)\\n    def Inner():\\n        y1 = 2\\n        print(\"Inner: \",id(y1))\\n        print(\"Inner: \", y1)\\n        #print(\"Outer: \", x)\\n        #print(Outer())\\n    Inner()\\n    #y1 = 6\\n    print(\"Outer: \", id(y1))\\n    print(\"Outer: \", y1)\\n       \\nprint(y1) \\nprint(id(y1))\\nOuter()\\nprint(\"local: \", y1)\\nprint(\"local: \", id(y1))\\n\\n  \\nprint(\"#######################\")  ', 'y1 =5\\nprint(y1) \\nprint(id(y1))\\n\\ndef Outer():\\n    y1 =10\\n    print(\"Outer : \",id(y1))\\n    print(\"Outer : \", y1)\\n    def Inner():\\n        y1 = 2\\n        print(\"Inner: \",id(y1))\\n        print(\"Inner: \", y1)\\n        #print(\"Outer: \", x)\\n        #print(Outer())\\n    Inner()\\n    #y1 = 6\\n    print(\"Outer: \", id(y1))\\n    print(\"Outer: \", y1)\\n       \\nprint(y1) \\nprint(id(y1))\\nOuter()\\nprint(\"local: \", y1)\\nprint(\"local: \", id(y1))\\n\\n  \\nprint(\"#######################\")  ', 'y1 =5\\nprint(y1) \\nprint(id(y1))\\n\\ndef Outer():\\n    y1 =10\\n    print(\"Outer : =\",id(y1))\\n    print(\"Outer : \", y1)\\n    def Inner():\\n        y1 = 2\\n        print(\"Inner: \",id(y1))\\n        print(\"Inner: \", y1)\\n        #print(\"Outer: \", x)\\n        #print(Outer())\\n    Inner()\\n    #y1 = 6\\n    print(\"Outer: \", id(y1))\\n    print(\"Outer: \", y1)\\n       \\nprint(y1) \\nprint(id(y1))\\nOuter()\\nprint(\"local: \", y1)\\nprint(\"local: \", id(y1))\\n\\n  \\nprint(\"#######################\")  ', 'y1 =5\\nprint(y1) \\nprint(id(y1))\\n\\ndef Outer():\\n    y1 =10\\n    print(\"Outer : \",id(y1))\\n    print(\"Outer : \", y1)\\n    def Inner():\\n        y1 = 2\\n        print(\"Inner: \",id(y1))\\n        print(\"Inner: \", y1)\\n        #print(\"Outer: \", x)\\n        #print(Outer())\\n    Inner()\\n    #y1 = 6\\n    print(\"Outer: \", id(y1))\\n    print(\"Outer: \", y1)\\n       \\nprint(y1) \\nprint(id(y1))\\nOuter()\\nprint(\"local: \", y1)\\nprint(\"local: \", id(y1))\\n\\n  \\nprint(\"#######################\")  ', 'y1 =5\\nprint(y1) \\nprint(id(y1))\\n\\ndef Outer():\\n    y1 =10\\n    print(\"Outer : \",id(y1))\\n    print(\"Outer : \", y1)\\n    def Inner():\\n        y1 = 2\\n        print(\"Inner: \",id(y1))\\n        print(\"Inner: \", y1)\\n        #print(\"Outer: \", x)\\n        #print(Outer())\\n    Inner()\\n    y1 = 6\\n    print(\"Outer: \", id(y1))\\n    print(\"Outer: \", y1)\\n       \\nprint(y1) \\nprint(id(y1))\\nOuter()\\nprint(\"local: \", y1)\\nprint(\"local: \", id(y1))\\n\\n  \\nprint(\"#######################\")  ', 'y1 =5\\nprint(y1) \\nprint(id(y1))\\n\\ndef Outer():\\n    y1 =10\\n    print(\"Outer : \",id(y1))\\n    print(\"Outer : \", y1)\\n    def Inner():\\n        y1 = 2\\n        print(\"Inner: \",id(y1))\\n        print(\"Inner: \", y1)\\n        #print(\"Outer: \", x)\\n        #print(Outer())\\n    Inner()\\n    #y1 = 6\\n    print(\"Outer: \", id(y1))\\n    print(\"Outer: \", y1)\\n       \\nprint(y1) \\nprint(id(y1))\\nOuter()\\nprint(\"local: \", y1)\\nprint(\"local: \", id(y1))\\n\\n  \\nprint(\"#######################\")  ', 'y2 =6\\nprint(y2,id(y2))\\n\\ndef Outer():\\n    #y2 =1\\n    print(\"Outer No-NonLocal\", id(y2),y2)\\n    def Inner():\\n        nonlocal y2\\n        #print(y2)\\n        y2 = 2 \\n        print(\"Inner: \", y2, id(y2))\\n    #print(\"Outer No-NonLocal\", id(y2),y2)\\n    Inner()\\n    print(\"Outer NonLocal\", id(y2),y2)\\n    \\nOuter()\\nprint(\"out of function\",y2, id(y2))\\nprint(\"#####################################3\")', 'y2 =6\\nprint(y2,id(y2))\\n\\ndef Outer():\\n    y2 =1\\n    print(\"Outer No-NonLocal\", id(y2),y2)\\n    def Inner():\\n        #nonlocal y2\\n        #print(y2)\\n        y2 = 2 \\n        print(\"Inner: \", y2, id(y2))\\n    #print(\"Outer No-NonLocal\", id(y2),y2)\\n    Inner()\\n    print(\"Outer NonLocal\", id(y2),y2)\\n    \\nOuter()\\nprint(\"out of function\",y2, id(y2))\\nprint(\"#####################################3\")', 'y2 =6\\nprint(y2,id(y2))\\n\\ndef Outer():\\n    y2 =1\\n    print(\"Outer No-NonLocal\", id(y2),y2)\\n    def Inner():\\n        nonlocal y2\\n        #print(y2)\\n        y2 = 2 \\n        print(\"Inner: \", y2, id(y2))\\n    #print(\"Outer No-NonLocal\", id(y2),y2)\\n    Inner()\\n    print(\"Outer NonLocal\", id(y2),y2)\\n    \\nOuter()\\nprint(\"out of function\",y2, id(y2))\\nprint(\"#####################################3\")', 'try:\\n    x =0\\n    def Outer():  \\n        #nonlocal x\\n        x =1 \\n        print(x)\\n        def Inner():  \\n            nonlocal x\\n            x = 2\\n            print(\"Declared Non Local: \", x)\\n            def InnerMost():\\n                nonlocal x\\n                x = 3 \\n                print(\"InnerMost: \", x)\\n            InnerMost()\\n            print(\"Inner: \", x)\\n        Inner()\\n        print(\"Outer: \", x)\\n    Outer()\\n    print(\"Top Level Local\",x)\\n    print(\"#####################################\")\\nexcept Exception as Err:# Exception:\\n    print(\"error occured\", Err)\\n    #print(ex)\\n    #print(type(ex).__name__)\\nelse:\\n    print(\"No Error Occured\")', 'import math\\ntry:\\n    global x\\n    x=0\\n    print(\"x is \", x, id(x))\\n    \\n    def Outer():\\n        x = 1\\n        print(\"x is \",x, id(x))\\n        def Inner():\\n            nonlocal x\\n            y = (int)(input(\"Enter the value\"))\\n            if( y > 3):\\n                x = y-1\\n            else:\\n                x = y+1\\n            print(\"Inner: \", x, id(x))\\n            \\n        Inner()\\n        print(\"Outer: \", x, id(x))\\n    Outer()\\nexcept Exception: \\n    print(\"Error Occured\")\\n\\nprint(\"next higher level\", x, id(x))', 'import math\\ntry:\\n    global x\\n    x=0\\n    print(\"x is \", x, id(x))\\n    \\n    def Outer():\\n        #x = 1\\n        print(\"x is \",x, id(x))\\n        def Inner():\\n            nonlocal x\\n            y = (int)(input(\"Enter the value\"))\\n            if( y > 3):\\n                x = y-1\\n            else:\\n                x = y+1\\n            print(\"Inner: \", x, id(x))\\n            \\n        Inner()\\n        print(\"Outer: \", x, id(x))\\n    Outer()\\nexcept Exception: \\n    print(\"Error Occured\")\\n\\nprint(\"next higher level\", x, id(x))', 'import math\\ntry:\\n    global x\\n    x=0\\n    print(\"x is \", x, id(x))\\n    \\n    def Outer():\\n        #x = 1\\n        print(\"x is \",x, id(x))\\n        def Inner():\\n            #nonlocal x\\n            y = (int)(input(\"Enter the value\"))\\n            if( y > 3):\\n                x = y-1\\n            else:\\n                x = y+1\\n            print(\"Inner: \", x, id(x))\\n            \\n        Inner()\\n        print(\"Outer: \", x, id(x))\\n    Outer()\\nexcept Exception: \\n    print(\"Error Occured\")\\n\\nprint(\"next higher level\", x, id(x))', 'import math\\ntry:\\n    global x\\n    x=0\\n    print(\"x is \", x, id(x))\\n    \\n    def Outer():\\n        x = 1\\n        print(\"x is \",x, id(x))\\n        def Inner():\\n            #nonlocal x\\n            y = (int)(input(\"Enter the value\"))\\n            if( y > 3):\\n                x = y-1\\n            else:\\n                x = y+1\\n            print(\"Inner: \", x, id(x))\\n            \\n        Inner()\\n        print(\"Outer: \", x, id(x))\\n    Outer()\\nexcept Exception: \\n    print(\"Error Occured\")\\n\\nprint(\"next higher level\", x, id(x))', 'def concatorsum(a,b):\\n    e =12\\n    c =23\\n    f=35\\n    print(locals())\\n    print(globals())\\n    return a,b\\n    ', 'concatorsum(1,2)', 'locals()\\nglobals()', 'concatorsum(1,2)'], '_oh': {16: (1, 2), 17: {...}}, '_dh': [WindowsPath('C:/Projects/Python_MachineLearning-master/Python Basics')], 'In': ['', 'y1 =5\\nprint(y1) \\nprint(id(y1))\\n\\ndef Outer():\\n    y1 =10\\n    print(\"Outer : \",id(y1))\\n    print(\"Outer : \", y1)\\n    def Inner():\\n        y1 = 2\\n        print(\"Inner: \",id(y1))\\n        print(\"Inner: \", y1)\\n        #print(\"Outer: \", x)\\n        #print(Outer())\\n    Inner()\\n    #y1 = 6\\n    print(\"Outer: \", id(y1))\\n    print(\"Outer: \", y1)\\n       \\nprint(y1) \\nprint(id(y1))\\nOuter()\\nprint(\"local: \", y1)\\nprint(\"local: \", id(y1))\\n\\n  \\nprint(\"#######################\")  ', 'y1 =5\\nprint(y1) \\nprint(id(y1))\\n\\ndef Outer():\\n    y1 =10\\n    print(\"Outer : \",id(y1))\\n    print(\"Outer : \", y1)\\n    def Inner():\\n        y1 = 2\\n        print(\"Inner: \",id(y1))\\n        print(\"Inner: \", y1)\\n        #print(\"Outer: \", x)\\n        #print(Outer())\\n    Inner()\\n    #y1 = 6\\n    print(\"Outer: \", id(y1))\\n    print(\"Outer: \", y1)\\n       \\nprint(y1) \\nprint(id(y1))\\nOuter()\\nprint(\"local: \", y1)\\nprint(\"local: \", id(y1))\\n\\n  \\nprint(\"#######################\")  ', 'y1 =5\\nprint(y1) \\nprint(id(y1))\\n\\ndef Outer():\\n    y1 =10\\n    print(\"Outer : =\",id(y1))\\n    print(\"Outer : \", y1)\\n    def Inner():\\n        y1 = 2\\n        print(\"Inner: \",id(y1))\\n        print(\"Inner: \", y1)\\n        #print(\"Outer: \", x)\\n        #print(Outer())\\n    Inner()\\n    #y1 = 6\\n    print(\"Outer: \", id(y1))\\n    print(\"Outer: \", y1)\\n       \\nprint(y1) \\nprint(id(y1))\\nOuter()\\nprint(\"local: \", y1)\\nprint(\"local: \", id(y1))\\n\\n  \\nprint(\"#######################\")  ', 'y1 =5\\nprint(y1) \\nprint(id(y1))\\n\\ndef Outer():\\n    y1 =10\\n    print(\"Outer : \",id(y1))\\n    print(\"Outer : \", y1)\\n    def Inner():\\n        y1 = 2\\n        print(\"Inner: \",id(y1))\\n        print(\"Inner: \", y1)\\n        #print(\"Outer: \", x)\\n        #print(Outer())\\n    Inner()\\n    #y1 = 6\\n    print(\"Outer: \", id(y1))\\n    print(\"Outer: \", y1)\\n       \\nprint(y1) \\nprint(id(y1))\\nOuter()\\nprint(\"local: \", y1)\\nprint(\"local: \", id(y1))\\n\\n  \\nprint(\"#######################\")  ', 'y1 =5\\nprint(y1) \\nprint(id(y1))\\n\\ndef Outer():\\n    y1 =10\\n    print(\"Outer : \",id(y1))\\n    print(\"Outer : \", y1)\\n    def Inner():\\n        y1 = 2\\n        print(\"Inner: \",id(y1))\\n        print(\"Inner: \", y1)\\n        #print(\"Outer: \", x)\\n        #print(Outer())\\n    Inner()\\n    y1 = 6\\n    print(\"Outer: \", id(y1))\\n    print(\"Outer: \", y1)\\n       \\nprint(y1) \\nprint(id(y1))\\nOuter()\\nprint(\"local: \", y1)\\nprint(\"local: \", id(y1))\\n\\n  \\nprint(\"#######################\")  ', 'y1 =5\\nprint(y1) \\nprint(id(y1))\\n\\ndef Outer():\\n    y1 =10\\n    print(\"Outer : \",id(y1))\\n    print(\"Outer : \", y1)\\n    def Inner():\\n        y1 = 2\\n        print(\"Inner: \",id(y1))\\n        print(\"Inner: \", y1)\\n        #print(\"Outer: \", x)\\n        #print(Outer())\\n    Inner()\\n    #y1 = 6\\n    print(\"Outer: \", id(y1))\\n    print(\"Outer: \", y1)\\n       \\nprint(y1) \\nprint(id(y1))\\nOuter()\\nprint(\"local: \", y1)\\nprint(\"local: \", id(y1))\\n\\n  \\nprint(\"#######################\")  ', 'y2 =6\\nprint(y2,id(y2))\\n\\ndef Outer():\\n    #y2 =1\\n    print(\"Outer No-NonLocal\", id(y2),y2)\\n    def Inner():\\n        nonlocal y2\\n        #print(y2)\\n        y2 = 2 \\n        print(\"Inner: \", y2, id(y2))\\n    #print(\"Outer No-NonLocal\", id(y2),y2)\\n    Inner()\\n    print(\"Outer NonLocal\", id(y2),y2)\\n    \\nOuter()\\nprint(\"out of function\",y2, id(y2))\\nprint(\"#####################################3\")', 'y2 =6\\nprint(y2,id(y2))\\n\\ndef Outer():\\n    y2 =1\\n    print(\"Outer No-NonLocal\", id(y2),y2)\\n    def Inner():\\n        #nonlocal y2\\n        #print(y2)\\n        y2 = 2 \\n        print(\"Inner: \", y2, id(y2))\\n    #print(\"Outer No-NonLocal\", id(y2),y2)\\n    Inner()\\n    print(\"Outer NonLocal\", id(y2),y2)\\n    \\nOuter()\\nprint(\"out of function\",y2, id(y2))\\nprint(\"#####################################3\")', 'y2 =6\\nprint(y2,id(y2))\\n\\ndef Outer():\\n    y2 =1\\n    print(\"Outer No-NonLocal\", id(y2),y2)\\n    def Inner():\\n        nonlocal y2\\n        #print(y2)\\n        y2 = 2 \\n        print(\"Inner: \", y2, id(y2))\\n    #print(\"Outer No-NonLocal\", id(y2),y2)\\n    Inner()\\n    print(\"Outer NonLocal\", id(y2),y2)\\n    \\nOuter()\\nprint(\"out of function\",y2, id(y2))\\nprint(\"#####################################3\")', 'try:\\n    x =0\\n    def Outer():  \\n        #nonlocal x\\n        x =1 \\n        print(x)\\n        def Inner():  \\n            nonlocal x\\n            x = 2\\n            print(\"Declared Non Local: \", x)\\n            def InnerMost():\\n                nonlocal x\\n                x = 3 \\n                print(\"InnerMost: \", x)\\n            InnerMost()\\n            print(\"Inner: \", x)\\n        Inner()\\n        print(\"Outer: \", x)\\n    Outer()\\n    print(\"Top Level Local\",x)\\n    print(\"#####################################\")\\nexcept Exception as Err:# Exception:\\n    print(\"error occured\", Err)\\n    #print(ex)\\n    #print(type(ex).__name__)\\nelse:\\n    print(\"No Error Occured\")', 'import math\\ntry:\\n    global x\\n    x=0\\n    print(\"x is \", x, id(x))\\n    \\n    def Outer():\\n        x = 1\\n        print(\"x is \",x, id(x))\\n        def Inner():\\n            nonlocal x\\n            y = (int)(input(\"Enter the value\"))\\n            if( y > 3):\\n                x = y-1\\n            else:\\n                x = y+1\\n            print(\"Inner: \", x, id(x))\\n            \\n        Inner()\\n        print(\"Outer: \", x, id(x))\\n    Outer()\\nexcept Exception: \\n    print(\"Error Occured\")\\n\\nprint(\"next higher level\", x, id(x))', 'import math\\ntry:\\n    global x\\n    x=0\\n    print(\"x is \", x, id(x))\\n    \\n    def Outer():\\n        #x = 1\\n        print(\"x is \",x, id(x))\\n        def Inner():\\n            nonlocal x\\n            y = (int)(input(\"Enter the value\"))\\n            if( y > 3):\\n                x = y-1\\n            else:\\n                x = y+1\\n            print(\"Inner: \", x, id(x))\\n            \\n        Inner()\\n        print(\"Outer: \", x, id(x))\\n    Outer()\\nexcept Exception: \\n    print(\"Error Occured\")\\n\\nprint(\"next higher level\", x, id(x))', 'import math\\ntry:\\n    global x\\n    x=0\\n    print(\"x is \", x, id(x))\\n    \\n    def Outer():\\n        #x = 1\\n        print(\"x is \",x, id(x))\\n        def Inner():\\n            #nonlocal x\\n            y = (int)(input(\"Enter the value\"))\\n            if( y > 3):\\n                x = y-1\\n            else:\\n                x = y+1\\n            print(\"Inner: \", x, id(x))\\n            \\n        Inner()\\n        print(\"Outer: \", x, id(x))\\n    Outer()\\nexcept Exception: \\n    print(\"Error Occured\")\\n\\nprint(\"next higher level\", x, id(x))', 'import math\\ntry:\\n    global x\\n    x=0\\n    print(\"x is \", x, id(x))\\n    \\n    def Outer():\\n        x = 1\\n        print(\"x is \",x, id(x))\\n        def Inner():\\n            #nonlocal x\\n            y = (int)(input(\"Enter the value\"))\\n            if( y > 3):\\n                x = y-1\\n            else:\\n                x = y+1\\n            print(\"Inner: \", x, id(x))\\n            \\n        Inner()\\n        print(\"Outer: \", x, id(x))\\n    Outer()\\nexcept Exception: \\n    print(\"Error Occured\")\\n\\nprint(\"next higher level\", x, id(x))', 'def concatorsum(a,b):\\n    e =12\\n    c =23\\n    f=35\\n    print(locals())\\n    print(globals())\\n    return a,b\\n    ', 'concatorsum(1,2)', 'locals()\\nglobals()', 'concatorsum(1,2)'], 'Out': {16: (1, 2), 17: {...}}, 'get_ipython': <bound method InteractiveShell.get_ipython of <ipykernel.zmqshell.ZMQInteractiveShell object at 0x000001BCA343BE80>>, 'exit': <IPython.core.autocall.ZMQExitAutocall object at 0x000001BCA3438C70>, 'quit': <IPython.core.autocall.ZMQExitAutocall object at 0x000001BCA3438C70>, '_': {...}, '__': (1, 2), '___': '', '_i': 'locals()\\nglobals()', '_ii': 'concatorsum(1,2)', '_iii': 'def concatorsum(a,b):\\n    e =12\\n    c =23\\n    f=35\\n    print(locals())\\n    print(globals())\\n    return a,b\\n    ', '_i1': 'y1 =5\\nprint(y1) \\nprint(id(y1))\\n\\ndef Outer():\\n    y1 =10\\n    print(\"Outer : \",id(y1))\\n    print(\"Outer : \", y1)\\n    def Inner():\\n        y1 = 2\\n        print(\"Inner: \",id(y1))\\n        print(\"Inner: \", y1)\\n        #print(\"Outer: \", x)\\n        #print(Outer())\\n    Inner()\\n    #y1 = 6\\n    print(\"Outer: \", id(y1))\\n    print(\"Outer: \", y1)\\n       \\nprint(y1) \\nprint(id(y1))\\nOuter()\\nprint(\"local: \", y1)\\nprint(\"local: \", id(y1))\\n\\n  \\nprint(\"#######################\")  ', 'y1': 5, 'Outer': <function Outer at 0x000001BCA3443760>, '_i2': 'y1 =5\\nprint(y1) \\nprint(id(y1))\\n\\ndef Outer():\\n    y1 =10\\n    print(\"Outer : \",id(y1))\\n    print(\"Outer : \", y1)\\n    def Inner():\\n        y1 = 2\\n        print(\"Inner: \",id(y1))\\n        print(\"Inner: \", y1)\\n        #print(\"Outer: \", x)\\n        #print(Outer())\\n    Inner()\\n    #y1 = 6\\n    print(\"Outer: \", id(y1))\\n    print(\"Outer: \", y1)\\n       \\nprint(y1) \\nprint(id(y1))\\nOuter()\\nprint(\"local: \", y1)\\nprint(\"local: \", id(y1))\\n\\n  \\nprint(\"#######################\")  ', '_i3': 'y1 =5\\nprint(y1) \\nprint(id(y1))\\n\\ndef Outer():\\n    y1 =10\\n    print(\"Outer : =\",id(y1))\\n    print(\"Outer : \", y1)\\n    def Inner():\\n        y1 = 2\\n        print(\"Inner: \",id(y1))\\n        print(\"Inner: \", y1)\\n        #print(\"Outer: \", x)\\n        #print(Outer())\\n    Inner()\\n    #y1 = 6\\n    print(\"Outer: \", id(y1))\\n    print(\"Outer: \", y1)\\n       \\nprint(y1) \\nprint(id(y1))\\nOuter()\\nprint(\"local: \", y1)\\nprint(\"local: \", id(y1))\\n\\n  \\nprint(\"#######################\")  ', '_i4': 'y1 =5\\nprint(y1) \\nprint(id(y1))\\n\\ndef Outer():\\n    y1 =10\\n    print(\"Outer : \",id(y1))\\n    print(\"Outer : \", y1)\\n    def Inner():\\n        y1 = 2\\n        print(\"Inner: \",id(y1))\\n        print(\"Inner: \", y1)\\n        #print(\"Outer: \", x)\\n        #print(Outer())\\n    Inner()\\n    #y1 = 6\\n    print(\"Outer: \", id(y1))\\n    print(\"Outer: \", y1)\\n       \\nprint(y1) \\nprint(id(y1))\\nOuter()\\nprint(\"local: \", y1)\\nprint(\"local: \", id(y1))\\n\\n  \\nprint(\"#######################\")  ', '_i5': 'y1 =5\\nprint(y1) \\nprint(id(y1))\\n\\ndef Outer():\\n    y1 =10\\n    print(\"Outer : \",id(y1))\\n    print(\"Outer : \", y1)\\n    def Inner():\\n        y1 = 2\\n        print(\"Inner: \",id(y1))\\n        print(\"Inner: \", y1)\\n        #print(\"Outer: \", x)\\n        #print(Outer())\\n    Inner()\\n    y1 = 6\\n    print(\"Outer: \", id(y1))\\n    print(\"Outer: \", y1)\\n       \\nprint(y1) \\nprint(id(y1))\\nOuter()\\nprint(\"local: \", y1)\\nprint(\"local: \", id(y1))\\n\\n  \\nprint(\"#######################\")  ', '_i6': 'y1 =5\\nprint(y1) \\nprint(id(y1))\\n\\ndef Outer():\\n    y1 =10\\n    print(\"Outer : \",id(y1))\\n    print(\"Outer : \", y1)\\n    def Inner():\\n        y1 = 2\\n        print(\"Inner: \",id(y1))\\n        print(\"Inner: \", y1)\\n        #print(\"Outer: \", x)\\n        #print(Outer())\\n    Inner()\\n    #y1 = 6\\n    print(\"Outer: \", id(y1))\\n    print(\"Outer: \", y1)\\n       \\nprint(y1) \\nprint(id(y1))\\nOuter()\\nprint(\"local: \", y1)\\nprint(\"local: \", id(y1))\\n\\n  \\nprint(\"#######################\")  ', '_i7': 'y2 =6\\nprint(y2,id(y2))\\n\\ndef Outer():\\n    #y2 =1\\n    print(\"Outer No-NonLocal\", id(y2),y2)\\n    def Inner():\\n        nonlocal y2\\n        #print(y2)\\n        y2 = 2 \\n        print(\"Inner: \", y2, id(y2))\\n    #print(\"Outer No-NonLocal\", id(y2),y2)\\n    Inner()\\n    print(\"Outer NonLocal\", id(y2),y2)\\n    \\nOuter()\\nprint(\"out of function\",y2, id(y2))\\nprint(\"#####################################3\")', 'y2': 6, '_i8': 'y2 =6\\nprint(y2,id(y2))\\n\\ndef Outer():\\n    y2 =1\\n    print(\"Outer No-NonLocal\", id(y2),y2)\\n    def Inner():\\n        #nonlocal y2\\n        #print(y2)\\n        y2 = 2 \\n        print(\"Inner: \", y2, id(y2))\\n    #print(\"Outer No-NonLocal\", id(y2),y2)\\n    Inner()\\n    print(\"Outer NonLocal\", id(y2),y2)\\n    \\nOuter()\\nprint(\"out of function\",y2, id(y2))\\nprint(\"#####################################3\")', '_i9': 'y2 =6\\nprint(y2,id(y2))\\n\\ndef Outer():\\n    y2 =1\\n    print(\"Outer No-NonLocal\", id(y2),y2)\\n    def Inner():\\n        nonlocal y2\\n        #print(y2)\\n        y2 = 2 \\n        print(\"Inner: \", y2, id(y2))\\n    #print(\"Outer No-NonLocal\", id(y2),y2)\\n    Inner()\\n    print(\"Outer NonLocal\", id(y2),y2)\\n    \\nOuter()\\nprint(\"out of function\",y2, id(y2))\\nprint(\"#####################################3\")', '_i10': 'try:\\n    x =0\\n    def Outer():  \\n        #nonlocal x\\n        x =1 \\n        print(x)\\n        def Inner():  \\n            nonlocal x\\n            x = 2\\n            print(\"Declared Non Local: \", x)\\n            def InnerMost():\\n                nonlocal x\\n                x = 3 \\n                print(\"InnerMost: \", x)\\n            InnerMost()\\n            print(\"Inner: \", x)\\n        Inner()\\n        print(\"Outer: \", x)\\n    Outer()\\n    print(\"Top Level Local\",x)\\n    print(\"#####################################\")\\nexcept Exception as Err:# Exception:\\n    print(\"error occured\", Err)\\n    #print(ex)\\n    #print(type(ex).__name__)\\nelse:\\n    print(\"No Error Occured\")', 'x': 0, '_i11': 'import math\\ntry:\\n    global x\\n    x=0\\n    print(\"x is \", x, id(x))\\n    \\n    def Outer():\\n        x = 1\\n        print(\"x is \",x, id(x))\\n        def Inner():\\n            nonlocal x\\n            y = (int)(input(\"Enter the value\"))\\n            if( y > 3):\\n                x = y-1\\n            else:\\n                x = y+1\\n            print(\"Inner: \", x, id(x))\\n            \\n        Inner()\\n        print(\"Outer: \", x, id(x))\\n    Outer()\\nexcept Exception: \\n    print(\"Error Occured\")\\n\\nprint(\"next higher level\", x, id(x))', 'math': <module 'math' (built-in)>, '_i12': 'import math\\ntry:\\n    global x\\n    x=0\\n    print(\"x is \", x, id(x))\\n    \\n    def Outer():\\n        #x = 1\\n        print(\"x is \",x, id(x))\\n        def Inner():\\n            nonlocal x\\n            y = (int)(input(\"Enter the value\"))\\n            if( y > 3):\\n                x = y-1\\n            else:\\n                x = y+1\\n            print(\"Inner: \", x, id(x))\\n            \\n        Inner()\\n        print(\"Outer: \", x, id(x))\\n    Outer()\\nexcept Exception: \\n    print(\"Error Occured\")\\n\\nprint(\"next higher level\", x, id(x))', '_i13': 'import math\\ntry:\\n    global x\\n    x=0\\n    print(\"x is \", x, id(x))\\n    \\n    def Outer():\\n        #x = 1\\n        print(\"x is \",x, id(x))\\n        def Inner():\\n            #nonlocal x\\n            y = (int)(input(\"Enter the value\"))\\n            if( y > 3):\\n                x = y-1\\n            else:\\n                x = y+1\\n            print(\"Inner: \", x, id(x))\\n            \\n        Inner()\\n        print(\"Outer: \", x, id(x))\\n    Outer()\\nexcept Exception: \\n    print(\"Error Occured\")\\n\\nprint(\"next higher level\", x, id(x))', '_i14': 'import math\\ntry:\\n    global x\\n    x=0\\n    print(\"x is \", x, id(x))\\n    \\n    def Outer():\\n        x = 1\\n        print(\"x is \",x, id(x))\\n        def Inner():\\n            #nonlocal x\\n            y = (int)(input(\"Enter the value\"))\\n            if( y > 3):\\n                x = y-1\\n            else:\\n                x = y+1\\n            print(\"Inner: \", x, id(x))\\n            \\n        Inner()\\n        print(\"Outer: \", x, id(x))\\n    Outer()\\nexcept Exception: \\n    print(\"Error Occured\")\\n\\nprint(\"next higher level\", x, id(x))', '_i15': 'def concatorsum(a,b):\\n    e =12\\n    c =23\\n    f=35\\n    print(locals())\\n    print(globals())\\n    return a,b\\n    ', 'concatorsum': <function concatorsum at 0x000001BCA34437F0>, '_i16': 'concatorsum(1,2)', '_16': (1, 2), '_i17': 'locals()\\nglobals()', '_17': {...}, '_i18': 'concatorsum(1,2)'}\n"
     ]
    },
    {
     "data": {
      "text/plain": [
       "(1, 2)"
      ]
     },
     "execution_count": 18,
     "metadata": {},
     "output_type": "execute_result"
    }
   ],
   "source": [
    "concatorsum(1,2)"
   ]
  }
 ],
 "metadata": {
  "kernelspec": {
   "display_name": "Python 3 (ipykernel)",
   "language": "python",
   "name": "python3"
  },
  "language_info": {
   "codemirror_mode": {
    "name": "ipython",
    "version": 3
   },
   "file_extension": ".py",
   "mimetype": "text/x-python",
   "name": "python",
   "nbconvert_exporter": "python",
   "pygments_lexer": "ipython3",
   "version": "3.10.4"
  }
 },
 "nbformat": 4,
 "nbformat_minor": 2
}
