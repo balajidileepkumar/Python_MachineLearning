{
 "cells": [
  {
   "cell_type": "markdown",
   "metadata": {},
   "source": [
    "### Scope\n",
    "Scope is a region of code where the value of the variable persists"
   ]
  },
  {
   "cell_type": "raw",
   "metadata": {},
   "source": [
    "Scope Precedences\n",
    "Non-Local > Local > Global"
   ]
  },
  {
   "cell_type": "raw",
   "metadata": {},
   "source": [
    "'''\n",
    "a = 5 # local\n",
    "nonlocal a = 10 # non local scope\n",
    "global a \n",
    "a =20\n",
    "'''"
   ]
  },
  {
   "cell_type": "markdown",
   "metadata": {},
   "source": [
    "## Local Scope"
   ]
  },
  {
   "cell_type": "code",
   "execution_count": null,
   "metadata": {
    "scrolled": true
   },
   "outputs": [],
   "source": [
    "y1 =5\n",
    "print(y1) \n",
    "\n",
    "def Outer():\n",
    "    y1 =10\n",
    "    print(\"Outer : \", y1)\n",
    "    def Inner():\n",
    "        y1 = 2 \n",
    "        print(\"Inner: \", y1)\n",
    "        #print(\"Outer: \", x)\n",
    "        #print(Outer())\n",
    "    Inner()\n",
    "    print(\"Outer: \", y1)\n",
    "       \n",
    "print(y1)        \n",
    "Outer()\n",
    "print(\"local: \", y1)\n",
    "  \n",
    "print(\"#######################\")  \n"
   ]
  },
  {
   "cell_type": "markdown",
   "metadata": {},
   "source": [
    "## Non Local Scope"
   ]
  },
  {
   "cell_type": "markdown",
   "metadata": {},
   "source": [
    "It's used to change the value of a local variable in parent function"
   ]
  },
  {
   "cell_type": "code",
   "execution_count": null,
   "metadata": {
    "scrolled": true
   },
   "outputs": [],
   "source": [
    "y2 =6\n",
    "print(y2)\n",
    "def Outer():\n",
    "    y2 =1\n",
    "    print(\"Outer Before Declaring nonlocal\", y2)\n",
    "    def Inner():\n",
    "        nonlocal y2\n",
    "        #print(y2)\n",
    "        y2 = 2 \n",
    "        print(\"Inner: \", y2)\n",
    "    print(\"Outer: \", y2 )\n",
    "    Inner()\n",
    "    print(\"Outer: \", y2)\n",
    "    \n",
    "Outer()\n",
    "print(\"out of function\",y2)\n",
    "print(\"#####################################3\")\n"
   ]
  },
  {
   "cell_type": "markdown",
   "metadata": {},
   "source": [
    "### Non-Local With Multiple Nested Functions"
   ]
  },
  {
   "cell_type": "code",
   "execution_count": null,
   "metadata": {},
   "outputs": [],
   "source": [
    "try:\n",
    "    x =0\n",
    "    def Outer():\n",
    "        x =1 \n",
    "        print(x)\n",
    "        def Inner():   \n",
    "            nonlocal x\n",
    "            x = 2\n",
    "            print(\"Declared Non Local: \", x)\n",
    "            def InnerMost():\n",
    "                x = 3 \n",
    "                print(\"InnerMost: \", x)\n",
    "            InnerMost()\n",
    "            print(\"Inner: \", x)\n",
    "        Inner()\n",
    "        print(\"Outer: \", x)\n",
    "    Outer()\n",
    "    print(\"Top Level Local\",x)\n",
    "    print(\"#####################################\")\n",
    "except:# Exception:\n",
    "    print(\"error occured\")\n",
    "    #print(ex)\n",
    "    #print(type(ex).__name__)\n"
   ]
  },
  {
   "cell_type": "markdown",
   "metadata": {},
   "source": [
    "### Global Scope"
   ]
  },
  {
   "cell_type": "code",
   "execution_count": null,
   "metadata": {},
   "outputs": [],
   "source": [
    "import math\n",
    "try:\n",
    "    global x\n",
    "    x=0\n",
    "    print(\"x is \", x)\n",
    "    print(hex(id(x)))\n",
    "    def Outer():\n",
    "        x = 1\n",
    "        print(\"x is \",x)\n",
    "        print(hex(id(x)))\n",
    "        def Inner():\n",
    "            global x \n",
    "            y = (int)(input(\"Enter the value\"))\n",
    "            if( y > 3):\n",
    "                x = y-1\n",
    "            else:\n",
    "                x = y+1\n",
    "            print(\"Inner: \", x)\n",
    "            print(hex(id(x)))\n",
    "        Inner()\n",
    "        print(hex(id(x)))\n",
    "        print(\"Outer: \", x)\n",
    "    Outer()\n",
    "except Exception: \n",
    "    print(\"Error Occured\")\n",
    "print(hex(id(x)))\n",
    "print(\"next higher level\", x)"
   ]
  },
  {
   "cell_type": "code",
   "execution_count": 1,
   "metadata": {},
   "outputs": [],
   "source": [
    "def concatorsum(a,b):\n",
    "    e =12\n",
    "    c =23\n",
    "    f=35\n",
    "    print(locals())\n",
    "    print(globals())\n",
    "    return a,b\n",
    "    "
   ]
  },
  {
   "cell_type": "code",
   "execution_count": 2,
   "metadata": {},
   "outputs": [
    {
     "name": "stdout",
     "output_type": "stream",
     "text": [
      "{'a': 1, 'b': 2, 'e': 12, 'c': 23, 'f': 35}\n",
      "{'__name__': '__main__', '__doc__': 'Automatically created module for IPython interactive environment', '__package__': None, '__loader__': None, '__spec__': None, '__builtin__': <module 'builtins' (built-in)>, '__builtins__': <module 'builtins' (built-in)>, '_ih': ['', 'def concatorsum(a,b):\\n    e =12\\n    c =23\\n    f=35\\n    print(locals())\\n    print(globals())\\n    return a,b\\n    ', 'concatorsum(1,2)'], '_oh': {}, '_dh': ['C:\\\\Projects\\\\Python_MachineLearning-master\\\\Python Basics'], 'In': ['', 'def concatorsum(a,b):\\n    e =12\\n    c =23\\n    f=35\\n    print(locals())\\n    print(globals())\\n    return a,b\\n    ', 'concatorsum(1,2)'], 'Out': {}, 'get_ipython': <bound method InteractiveShell.get_ipython of <ipykernel.zmqshell.ZMQInteractiveShell object at 0x000002CA7036EC10>>, 'exit': <IPython.core.autocall.ZMQExitAutocall object at 0x000002CA7036E430>, 'quit': <IPython.core.autocall.ZMQExitAutocall object at 0x000002CA7036E430>, '_': '', '__': '', '___': '', '_i': 'def concatorsum(a,b):\\n    e =12\\n    c =23\\n    f=35\\n    print(locals())\\n    print(globals())\\n    return a,b\\n    ', '_ii': '', '_iii': '', '_i1': 'def concatorsum(a,b):\\n    e =12\\n    c =23\\n    f=35\\n    print(locals())\\n    print(globals())\\n    return a,b\\n    ', 'concatorsum': <function concatorsum at 0x000002CA704280D0>, '_i2': 'concatorsum(1,2)'}\n"
     ]
    },
    {
     "data": {
      "text/plain": [
       "(1, 2)"
      ]
     },
     "execution_count": 2,
     "metadata": {},
     "output_type": "execute_result"
    }
   ],
   "source": [
    "concatorsum(1,2)"
   ]
  }
 ],
 "metadata": {
  "kernelspec": {
   "display_name": "Python 3",
   "language": "python",
   "name": "python3"
  },
  "language_info": {
   "codemirror_mode": {
    "name": "ipython",
    "version": 3
   },
   "file_extension": ".py",
   "mimetype": "text/x-python",
   "name": "python",
   "nbconvert_exporter": "python",
   "pygments_lexer": "ipython3",
   "version": "3.9.1"
  }
 },
 "nbformat": 4,
 "nbformat_minor": 2
}
