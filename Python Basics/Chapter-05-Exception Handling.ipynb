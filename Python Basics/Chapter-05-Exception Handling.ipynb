{
 "cells": [
  {
   "cell_type": "markdown",
   "metadata": {},
   "source": [
    "# Errors and Exception Handling\n",
    "\n",
    "Lets learn about Errors and Exception Handling in Python. You've definitely already encountered errors by this point in the course. For example:"
   ]
  },
  {
   "cell_type": "code",
   "execution_count": 2,
   "metadata": {},
   "outputs": [
    {
     "ename": "SyntaxError",
     "evalue": "unterminated string literal (detected at line 1) (2859156778.py, line 1)",
     "output_type": "error",
     "traceback": [
      "\u001b[1;36m  Input \u001b[1;32mIn [2]\u001b[1;36m\u001b[0m\n\u001b[1;33m    print('Hello)\u001b[0m\n\u001b[1;37m          ^\u001b[0m\n\u001b[1;31mSyntaxError\u001b[0m\u001b[1;31m:\u001b[0m unterminated string literal (detected at line 1)\n"
     ]
    }
   ],
   "source": [
    "print('Hello)\n",
    "print('world')"
   ]
  },
  {
   "cell_type": "markdown",
   "metadata": {},
   "source": [
    "Note how we get a SyntaxError, with the further description that it was an EOL (End of Line Error) while scanning the string literal. This is specific enough for us to see that we forgot a single quote at the end of the line. Understanding these various error types will help you debug your code much faster. \n",
    "\n",
    "This type of error and description is known as an Exception. Even if a statement or expression is syntactically correct, it may cause an error when an attempt is made to execute it. Errors detected during execution are called exceptions and are not unconditionally fatal.\n",
    "\n",
    "You can check out the full list of built-in exceptions [here](https://docs.python.org/3/library/exceptions.html). Now let's learn how to handle errors and exceptions in our own code."
   ]
  },
  {
   "cell_type": "markdown",
   "metadata": {},
   "source": [
    "## try / except / else / finally / raise\n",
    "\n",
    "The basic terminology and syntax used to handle errors in Python are the <code>try</code> and <code>except</code> statements. The code which can cause an exception to occur is put in the <code>try</code> block and the handling of the exception is then implemented in the <code>except</code> block of code. The syntax follows:\n",
    "\n",
    "    try:\n",
    "       You do your operations here...\n",
    "       ...\n",
    "    except ExceptionI:\n",
    "       If there is ExceptionI, then execute this block.\n",
    "    except ExceptionII:\n",
    "       If there is ExceptionII, then execute this block.\n",
    "       ...\n",
    "    except Exception:\n",
    "       If there is ExceptionII, then execute this block.\n",
    "       ...\n",
    "    else:\n",
    "       If there is no exception then execute this block. \n",
    "    finally:\n",
    "       execute always\n",
    "\n",
    "We can also just check for any exception with just using <code>except:</code> To get a better understanding of all this let's check out an example: We will look at some code that opens and writes a file:"
   ]
  },
  {
   "cell_type": "code",
   "execution_count": 1,
   "metadata": {},
   "outputs": [
    {
     "name": "stdout",
     "output_type": "stream",
     "text": [
      "Hierarchy for Built-in exceptions is : \n",
      " BaseException\n",
      "----- Exception\n",
      "---------- TypeError\n",
      "--------------- FloatOperation\n",
      "--------------- MultipartConversionError\n",
      "---------- StopAsyncIteration\n",
      "---------- StopIteration\n",
      "---------- ImportError\n",
      "--------------- ModuleNotFoundError\n",
      "--------------- ZipImportError\n",
      "---------- OSError\n",
      "--------------- ConnectionError\n",
      "-------------------- BrokenPipeError\n",
      "-------------------- ConnectionAbortedError\n",
      "-------------------- ConnectionRefusedError\n",
      "-------------------- ConnectionResetError\n",
      "------------------------- RemoteDisconnected\n",
      "--------------- BlockingIOError\n",
      "--------------- ChildProcessError\n",
      "--------------- FileExistsError\n",
      "--------------- FileNotFoundError\n",
      "--------------- IsADirectoryError\n",
      "--------------- NotADirectoryError\n",
      "--------------- InterruptedError\n",
      "-------------------- InterruptedSystemCall\n",
      "--------------- PermissionError\n",
      "--------------- ProcessLookupError\n",
      "--------------- TimeoutError\n",
      "--------------- UnsupportedOperation\n",
      "--------------- herror\n",
      "--------------- gaierror\n",
      "--------------- SSLError\n",
      "-------------------- SSLCertVerificationError\n",
      "-------------------- SSLZeroReturnError\n",
      "-------------------- SSLWantWriteError\n",
      "-------------------- SSLWantReadError\n",
      "-------------------- SSLSyscallError\n",
      "-------------------- SSLEOFError\n",
      "--------------- Error\n",
      "-------------------- SameFileError\n",
      "--------------- SpecialFileError\n",
      "--------------- ExecError\n",
      "--------------- ReadError\n",
      "--------------- URLError\n",
      "-------------------- HTTPError\n",
      "-------------------- ContentTooShortError\n",
      "--------------- BadGzipFile\n",
      "---------- EOFError\n",
      "--------------- IncompleteReadError\n",
      "---------- RuntimeError\n",
      "--------------- RecursionError\n",
      "--------------- NotImplementedError\n",
      "-------------------- ZMQVersionError\n",
      "-------------------- StdinNotImplementedError\n",
      "--------------- _DeadlockError\n",
      "--------------- BrokenBarrierError\n",
      "--------------- BrokenExecutor\n",
      "-------------------- BrokenThreadPool\n",
      "--------------- SendfileNotAvailableError\n",
      "--------------- ExtractionError\n",
      "--------------- VariableError\n",
      "---------- NameError\n",
      "--------------- UnboundLocalError\n",
      "---------- AttributeError\n",
      "--------------- FrozenInstanceError\n",
      "---------- SyntaxError\n",
      "--------------- IndentationError\n",
      "-------------------- TabError\n",
      "---------- LookupError\n",
      "--------------- IndexError\n",
      "--------------- KeyError\n",
      "-------------------- NoSuchKernel\n",
      "-------------------- UnknownBackend\n",
      "--------------- CodecRegistryError\n",
      "---------- ValueError\n",
      "--------------- UnicodeError\n",
      "-------------------- UnicodeEncodeError\n",
      "-------------------- UnicodeDecodeError\n",
      "-------------------- UnicodeTranslateError\n",
      "--------------- UnsupportedOperation\n",
      "--------------- JSONDecodeError\n",
      "--------------- SSLCertVerificationError\n",
      "--------------- Error\n",
      "--------------- UnsupportedDigestmodError\n",
      "--------------- IllegalMonthError\n",
      "--------------- IllegalWeekdayError\n",
      "--------------- ParserError\n",
      "--------------- ClassNotFound\n",
      "--------------- ClipboardEmpty\n",
      "--------------- MessageDefect\n",
      "-------------------- NoBoundaryInMultipartDefect\n",
      "-------------------- StartBoundaryNotFoundDefect\n",
      "-------------------- CloseBoundaryNotFoundDefect\n",
      "-------------------- FirstHeaderLineIsContinuationDefect\n",
      "-------------------- MisplacedEnvelopeHeaderDefect\n",
      "-------------------- MissingHeaderBodySeparatorDefect\n",
      "-------------------- MultipartInvariantViolationDefect\n",
      "-------------------- InvalidMultipartContentTransferEncodingDefect\n",
      "-------------------- UndecodableBytesDefect\n",
      "-------------------- InvalidBase64PaddingDefect\n",
      "-------------------- InvalidBase64CharactersDefect\n",
      "-------------------- InvalidBase64LengthDefect\n",
      "-------------------- HeaderDefect\n",
      "------------------------- InvalidHeaderDefect\n",
      "------------------------- HeaderMissingRequiredValue\n",
      "------------------------- NonPrintableDefect\n",
      "------------------------- ObsoleteHeaderDefect\n",
      "------------------------- NonASCIILocalPartDefect\n",
      "------------------------- InvalidDateDefect\n",
      "--------------- MacroToEdit\n",
      "--------------- InvalidFileException\n",
      "--------------- InvalidVersion\n",
      "--------------- InvalidSpecifier\n",
      "--------------- InvalidMarker\n",
      "--------------- UndefinedComparison\n",
      "--------------- UndefinedEnvironmentName\n",
      "--------------- InvalidRequirement\n",
      "-------------------- RequirementParseError\n",
      "--------------- InvalidVersion\n",
      "---------- AssertionError\n",
      "---------- ArithmeticError\n",
      "--------------- FloatingPointError\n",
      "--------------- OverflowError\n",
      "--------------- ZeroDivisionError\n",
      "-------------------- DivisionByZero\n",
      "-------------------- DivisionUndefined\n",
      "--------------- DecimalException\n",
      "-------------------- Clamped\n",
      "-------------------- Rounded\n",
      "------------------------- Underflow\n",
      "------------------------- Overflow\n",
      "-------------------- Inexact\n",
      "------------------------- Underflow\n",
      "------------------------- Overflow\n",
      "-------------------- Subnormal\n",
      "------------------------- Underflow\n",
      "-------------------- DivisionByZero\n",
      "-------------------- FloatOperation\n",
      "-------------------- InvalidOperation\n",
      "------------------------- ConversionSyntax\n",
      "------------------------- DivisionImpossible\n",
      "------------------------- DivisionUndefined\n",
      "------------------------- InvalidContext\n",
      "---------- SystemError\n",
      "--------------- CodecRegistryError\n",
      "---------- ReferenceError\n",
      "---------- MemoryError\n",
      "---------- BufferError\n",
      "---------- Warning\n",
      "--------------- UserWarning\n",
      "-------------------- GetPassWarning\n",
      "-------------------- FormatterWarning\n",
      "--------------- EncodingWarning\n",
      "--------------- DeprecationWarning\n",
      "-------------------- ProvisionalWarning\n",
      "--------------- PendingDeprecationWarning\n",
      "--------------- SyntaxWarning\n",
      "--------------- RuntimeWarning\n",
      "-------------------- ProactorSelectorThreadWarning\n",
      "-------------------- UnknownTimezoneWarning\n",
      "-------------------- PEP440Warning\n",
      "--------------- FutureWarning\n",
      "-------------------- ProvisionalCompleterWarning\n",
      "--------------- ImportWarning\n",
      "--------------- UnicodeWarning\n",
      "--------------- BytesWarning\n",
      "--------------- ResourceWarning\n",
      "--------------- DeprecatedTzFormatWarning\n",
      "--------------- PkgResourcesDeprecationWarning\n",
      "---------- _OptionError\n",
      "---------- _Error\n",
      "---------- error\n",
      "---------- Verbose\n",
      "---------- Error\n",
      "---------- SubprocessError\n",
      "--------------- CalledProcessError\n",
      "--------------- TimeoutExpired\n",
      "---------- TokenError\n",
      "---------- StopTokenizing\n",
      "---------- ClassFoundException\n",
      "---------- EndOfBlock\n",
      "---------- TraitError\n",
      "---------- Error\n",
      "---------- Error\n",
      "--------------- CancelledError\n",
      "--------------- TimeoutError\n",
      "--------------- InvalidStateError\n",
      "---------- _GiveupOnSendfile\n",
      "---------- error\n",
      "---------- Incomplete\n",
      "---------- TimeoutError\n",
      "---------- InvalidStateError\n",
      "---------- LimitOverrunError\n",
      "---------- QueueEmpty\n",
      "---------- QueueFull\n",
      "---------- error\n",
      "---------- LZMAError\n",
      "---------- RegistryError\n",
      "---------- _GiveupOnFastCopy\n",
      "---------- Empty\n",
      "---------- Full\n",
      "---------- ZMQBaseError\n",
      "--------------- ZMQError\n",
      "-------------------- ContextTerminated\n",
      "-------------------- Again\n",
      "-------------------- InterruptedSystemCall\n",
      "--------------- ZMQBindError\n",
      "--------------- NotDone\n",
      "---------- PickleError\n",
      "--------------- PicklingError\n",
      "--------------- UnpicklingError\n",
      "---------- _Stop\n",
      "---------- ArgumentError\n",
      "---------- ArgumentTypeError\n",
      "---------- ConfigError\n",
      "--------------- ConfigLoaderError\n",
      "-------------------- ArgumentError\n",
      "--------------- ConfigFileNotFound\n",
      "---------- ConfigurableError\n",
      "--------------- MultipleInstanceError\n",
      "---------- ApplicationError\n",
      "---------- TimeoutError\n",
      "---------- ArgumentError\n",
      "---------- COMError\n",
      "---------- ReturnValueIgnoredError\n",
      "---------- KeyReuseError\n",
      "---------- UnknownKeyError\n",
      "---------- LeakedCallbackError\n",
      "---------- BadYieldError\n",
      "---------- ReturnValueIgnoredError\n",
      "---------- Return\n",
      "---------- InvalidPortNumber\n",
      "---------- NoIPAddresses\n",
      "---------- BadZipFile\n",
      "---------- LargeZipFile\n",
      "---------- Error\n",
      "--------------- NoSectionError\n",
      "--------------- DuplicateSectionError\n",
      "--------------- DuplicateOptionError\n",
      "--------------- NoOptionError\n",
      "--------------- InterpolationError\n",
      "-------------------- InterpolationMissingOptionError\n",
      "-------------------- InterpolationSyntaxError\n",
      "-------------------- InterpolationDepthError\n",
      "--------------- ParsingError\n",
      "-------------------- MissingSectionHeaderError\n",
      "---------- BadEntryPoint\n",
      "---------- NoSuchEntryPoint\n",
      "---------- DuplicateKernelError\n",
      "---------- ErrorDuringImport\n",
      "---------- NotOneValueFound\n",
      "---------- CannotEval\n",
      "---------- OptionError\n",
      "---------- BdbQuit\n",
      "---------- Restart\n",
      "---------- FindCmdError\n",
      "---------- HomeDirError\n",
      "---------- ProfileDirError\n",
      "---------- IPythonCoreError\n",
      "--------------- TryNext\n",
      "--------------- UsageError\n",
      "--------------- StdinNotImplementedError\n",
      "---------- InputRejected\n",
      "---------- GetoptError\n",
      "---------- ErrorToken\n",
      "---------- PrefilterError\n",
      "---------- AliasError\n",
      "--------------- InvalidAliasError\n",
      "---------- Error\n",
      "--------------- InterfaceError\n",
      "--------------- DatabaseError\n",
      "-------------------- InternalError\n",
      "-------------------- OperationalError\n",
      "-------------------- ProgrammingError\n",
      "-------------------- IntegrityError\n",
      "-------------------- DataError\n",
      "-------------------- NotSupportedError\n",
      "---------- Warning\n",
      "---------- SpaceInInput\n",
      "---------- DOMException\n",
      "--------------- IndexSizeErr\n",
      "--------------- DomstringSizeErr\n",
      "--------------- HierarchyRequestErr\n",
      "--------------- WrongDocumentErr\n",
      "--------------- InvalidCharacterErr\n",
      "--------------- NoDataAllowedErr\n",
      "--------------- NoModificationAllowedErr\n",
      "--------------- NotFoundErr\n",
      "--------------- NotSupportedErr\n",
      "--------------- InuseAttributeErr\n",
      "--------------- InvalidStateErr\n",
      "--------------- SyntaxErr\n",
      "--------------- InvalidModificationErr\n",
      "--------------- NamespaceErr\n",
      "--------------- InvalidAccessErr\n",
      "--------------- ValidationErr\n",
      "---------- ValidationError\n",
      "---------- EditReadOnlyBuffer\n",
      "---------- _Retry\n",
      "---------- InvalidLayoutError\n",
      "---------- HeightIsUnknownError\n",
      "---------- ParserSyntaxError\n",
      "---------- InternalParseError\n",
      "---------- _PositionUpdatingFinished\n",
      "---------- SimpleGetItemNotFound\n",
      "---------- UncaughtAttributeError\n",
      "---------- HasNoContext\n",
      "---------- ParamIssue\n",
      "---------- _JediError\n",
      "--------------- InternalError\n",
      "--------------- WrongVersion\n",
      "--------------- RefactoringError\n",
      "---------- OnErrorLeaf\n",
      "---------- InvalidPythonEnvironment\n",
      "---------- MessageError\n",
      "--------------- MessageParseError\n",
      "-------------------- HeaderParseError\n",
      "-------------------- BoundaryError\n",
      "--------------- MultipartConversionError\n",
      "--------------- CharsetError\n",
      "---------- Error\n",
      "---------- HTTPException\n",
      "--------------- NotConnected\n",
      "--------------- InvalidURL\n",
      "--------------- UnknownProtocol\n",
      "--------------- UnknownTransferEncoding\n",
      "--------------- UnimplementedFileMode\n",
      "--------------- IncompleteRead\n",
      "--------------- ImproperConnectionState\n",
      "-------------------- CannotSendRequest\n",
      "-------------------- CannotSendHeader\n",
      "-------------------- ResponseNotReady\n",
      "--------------- BadStatusLine\n",
      "-------------------- RemoteDisconnected\n",
      "--------------- LineTooLong\n",
      "---------- InteractivelyDefined\n",
      "---------- KillEmbedded\n",
      "---------- Error\n",
      "--------------- NoSuchProcess\n",
      "-------------------- ZombieProcess\n",
      "--------------- AccessDenied\n",
      "--------------- TimeoutExpired\n",
      "---------- Error\n",
      "---------- TimeoutExpired\n",
      "---------- TimeoutAbandoned\n",
      "---------- QueueEmpty\n",
      "---------- QueueFull\n",
      "---------- ExpatError\n",
      "---------- Error\n",
      "--------------- ProtocolError\n",
      "--------------- ResponseError\n",
      "--------------- Fault\n",
      "---------- error\n",
      "---------- com_error\n",
      "---------- internal_error\n",
      "---------- ParseBaseException\n",
      "--------------- ParseException\n",
      "--------------- ParseFatalException\n",
      "-------------------- ParseSyntaxException\n",
      "---------- RecursiveGrammarException\n",
      "---------- ResolutionError\n",
      "--------------- VersionConflict\n",
      "-------------------- ContextualVersionConflict\n",
      "--------------- DistributionNotFound\n",
      "--------------- UnknownExtra\n",
      "---------- UnableToResolveVariableException\n",
      "---------- InvalidTypeInArgsException\n",
      "----- GeneratorExit\n",
      "----- SystemExit\n",
      "----- KeyboardInterrupt\n",
      "----- CancelledError\n",
      "----- DebuggerInitializationError\n"
     ]
    }
   ],
   "source": [
    "\n",
    "# import inspect module\n",
    "import inspect\n",
    "  \n",
    "# our treeClass function\n",
    "def treeClass(cls, ind = 0):\n",
    "    \n",
    "      # print name of the class\n",
    "    print ('-' * ind, cls.__name__)\n",
    "      \n",
    "    # iterating through subclasses\n",
    "    for i in cls.__subclasses__():\n",
    "        treeClass(i, ind + 5)\n",
    "  \n",
    "print(\"Hierarchy for Built-in exceptions is : \")\n",
    "  \n",
    "# inspect.getmro() Return a tuple \n",
    "# of class  cls’s base classes.\n",
    "  \n",
    "# building a tree hierarchy \n",
    "inspect.getclasstree(inspect.getmro(BaseException))\n",
    "  \n",
    "# function call\n",
    "treeClass(BaseException)"
   ]
  },
  {
   "cell_type": "code",
   "execution_count": 18,
   "metadata": {},
   "outputs": [],
   "source": [
    "def addstring(n1,n2):\n",
    "    print(str(n1)+str(n2))"
   ]
  },
  {
   "cell_type": "code",
   "execution_count": 5,
   "metadata": {},
   "outputs": [],
   "source": [
    "def add(n1,n2):\n",
    "    c = n1+n2\n",
    "    #print(c+\"10\")\n",
    "    return c"
   ]
  },
  {
   "cell_type": "code",
   "execution_count": 8,
   "metadata": {},
   "outputs": [
    {
     "name": "stdout",
     "output_type": "stream",
     "text": [
      "10a\n",
      "21\n",
      "2\n",
      "1\n"
     ]
    },
    {
     "ename": "TypeError",
     "evalue": "unsupported operand type(s) for +: 'int' and 'str'",
     "output_type": "error",
     "traceback": [
      "\u001b[1;31m---------------------------------------------------------------------------\u001b[0m",
      "\u001b[1;31mTypeError\u001b[0m                                 Traceback (most recent call last)",
      "Input \u001b[1;32mIn [8]\u001b[0m, in \u001b[0;36m<cell line: 6>\u001b[1;34m()\u001b[0m\n\u001b[0;32m      3\u001b[0m \u001b[38;5;28mprint\u001b[39m(add(\u001b[38;5;28;01mTrue\u001b[39;00m, \u001b[38;5;28;01mTrue\u001b[39;00m))\n\u001b[0;32m      4\u001b[0m \u001b[38;5;28mprint\u001b[39m(add(\u001b[38;5;28;01mTrue\u001b[39;00m, \u001b[38;5;28;01mFalse\u001b[39;00m))\n\u001b[1;32m----> 6\u001b[0m \u001b[38;5;28mprint\u001b[39m(\u001b[43madd\u001b[49m\u001b[43m(\u001b[49m\u001b[38;5;241;43m10\u001b[39;49m\u001b[43m,\u001b[49m\u001b[38;5;124;43m\"\u001b[39;49m\u001b[38;5;124;43ma\u001b[39;49m\u001b[38;5;124;43m\"\u001b[39;49m\u001b[43m)\u001b[49m)\n",
      "Input \u001b[1;32mIn [5]\u001b[0m, in \u001b[0;36madd\u001b[1;34m(n1, n2)\u001b[0m\n\u001b[0;32m      1\u001b[0m \u001b[38;5;28;01mdef\u001b[39;00m \u001b[38;5;21madd\u001b[39m(n1,n2):\n\u001b[1;32m----> 2\u001b[0m     c \u001b[38;5;241m=\u001b[39m \u001b[43mn1\u001b[49m\u001b[38;5;241;43m+\u001b[39;49m\u001b[43mn2\u001b[49m\n\u001b[0;32m      3\u001b[0m     \u001b[38;5;66;03m#print(c+\"10\")\u001b[39;00m\n\u001b[0;32m      4\u001b[0m     \u001b[38;5;28;01mreturn\u001b[39;00m c\n",
      "\u001b[1;31mTypeError\u001b[0m: unsupported operand type(s) for +: 'int' and 'str'"
     ]
    }
   ],
   "source": [
    "print(add(\"10\",\"a\"))\n",
    "print(add(10,11))\n",
    "print(add(True, True))\n",
    "print(add(True, False))\n",
    "\n",
    "print(add(10,\"a\"))\n"
   ]
  },
  {
   "cell_type": "code",
   "execution_count": 9,
   "metadata": {},
   "outputs": [
    {
     "ename": "ZeroDivisionError",
     "evalue": "division by zero",
     "output_type": "error",
     "traceback": [
      "\u001b[1;31m---------------------------------------------------------------------------\u001b[0m",
      "\u001b[1;31mZeroDivisionError\u001b[0m                         Traceback (most recent call last)",
      "Input \u001b[1;32mIn [9]\u001b[0m, in \u001b[0;36m<cell line: 1>\u001b[1;34m()\u001b[0m\n\u001b[1;32m----> 1\u001b[0m a \u001b[38;5;241m=\u001b[39m\u001b[38;5;241;43m100\u001b[39;49m\u001b[38;5;241;43m/\u001b[39;49m\u001b[38;5;241;43m0\u001b[39;49m\n",
      "\u001b[1;31mZeroDivisionError\u001b[0m: division by zero"
     ]
    }
   ],
   "source": [
    "a =100/0"
   ]
  },
  {
   "cell_type": "code",
   "execution_count": 15,
   "metadata": {},
   "outputs": [
    {
     "name": "stdout",
     "output_type": "stream",
     "text": [
      "['__doc__', '__loader__', '__name__', '__package__', '__spec__', 'acos', 'acosh', 'asin', 'asinh', 'atan', 'atan2', 'atanh', 'ceil', 'comb', 'copysign', 'cos', 'cosh', 'degrees', 'dist', 'e', 'erf', 'erfc', 'exp', 'expm1', 'fabs', 'factorial', 'floor', 'fmod', 'frexp', 'fsum', 'gamma', 'gcd', 'hypot', 'inf', 'isclose', 'isfinite', 'isinf', 'isnan', 'isqrt', 'lcm', 'ldexp', 'lgamma', 'log', 'log10', 'log1p', 'log2', 'modf', 'nan', 'nextafter', 'perm', 'pi', 'pow', 'prod', 'radians', 'remainder', 'sin', 'sinh', 'sqrt', 'tan', 'tanh', 'tau', 'trunc', 'ulp']\n"
     ]
    },
    {
     "ename": "TypeError",
     "evalue": "must be real number, not str",
     "output_type": "error",
     "traceback": [
      "\u001b[1;31m---------------------------------------------------------------------------\u001b[0m",
      "\u001b[1;31mTypeError\u001b[0m                                 Traceback (most recent call last)",
      "Input \u001b[1;32mIn [15]\u001b[0m, in \u001b[0;36m<cell line: 4>\u001b[1;34m()\u001b[0m\n\u001b[0;32m      2\u001b[0m \u001b[38;5;28;01mimport\u001b[39;00m \u001b[38;5;21;01mmath\u001b[39;00m\n\u001b[0;32m      3\u001b[0m \u001b[38;5;28mprint\u001b[39m(\u001b[38;5;28mdir\u001b[39m(math))\n\u001b[1;32m----> 4\u001b[0m \u001b[43mmath\u001b[49m\u001b[38;5;241;43m.\u001b[39;49m\u001b[43msqrt\u001b[49m\u001b[43m(\u001b[49m\u001b[43mnumber1\u001b[49m\u001b[43m)\u001b[49m\n",
      "\u001b[1;31mTypeError\u001b[0m: must be real number, not str"
     ]
    }
   ],
   "source": [
    "number1 = \"1\"\n",
    "import math\n",
    "print(dir(math))\n",
    "math.sqrt(number1)"
   ]
  },
  {
   "cell_type": "code",
   "execution_count": 2,
   "metadata": {},
   "outputs": [
    {
     "name": "stdout",
     "output_type": "stream",
     "text": [
      "please provide a number: 123\n"
     ]
    },
    {
     "data": {
      "text/plain": [
       "str"
      ]
     },
     "execution_count": 2,
     "metadata": {},
     "output_type": "execute_result"
    }
   ],
   "source": [
    "number2 = input(\"please provide a number: \" )\n",
    "type(number2)"
   ]
  },
  {
   "cell_type": "code",
   "execution_count": 3,
   "metadata": {},
   "outputs": [
    {
     "data": {
      "text/plain": [
       "1"
      ]
     },
     "execution_count": 3,
     "metadata": {},
     "output_type": "execute_result"
    }
   ],
   "source": [
    "number1"
   ]
  },
  {
   "cell_type": "code",
   "execution_count": 11,
   "metadata": {},
   "outputs": [
    {
     "data": {
      "text/plain": [
       "2"
      ]
     },
     "execution_count": 11,
     "metadata": {},
     "output_type": "execute_result"
    }
   ],
   "source": [
    "number3 = 2 #input(\"please provide a number: \" )\n",
    "number3"
   ]
  },
  {
   "cell_type": "code",
   "execution_count": 16,
   "metadata": {},
   "outputs": [
    {
     "ename": "TypeError",
     "evalue": "can only concatenate str (not \"int\") to str",
     "output_type": "error",
     "traceback": [
      "\u001b[1;31m---------------------------------------------------------------------------\u001b[0m",
      "\u001b[1;31mTypeError\u001b[0m                                 Traceback (most recent call last)",
      "Input \u001b[1;32mIn [16]\u001b[0m, in \u001b[0;36m<cell line: 1>\u001b[1;34m()\u001b[0m\n\u001b[1;32m----> 1\u001b[0m \u001b[38;5;28mprint\u001b[39m(\u001b[43madd\u001b[49m\u001b[43m(\u001b[49m\u001b[43mnumber1\u001b[49m\u001b[43m,\u001b[49m\u001b[43mnumber3\u001b[49m\u001b[43m)\u001b[49m)\n",
      "Input \u001b[1;32mIn [5]\u001b[0m, in \u001b[0;36madd\u001b[1;34m(n1, n2)\u001b[0m\n\u001b[0;32m      1\u001b[0m \u001b[38;5;28;01mdef\u001b[39;00m \u001b[38;5;21madd\u001b[39m(n1,n2):\n\u001b[1;32m----> 2\u001b[0m     c \u001b[38;5;241m=\u001b[39m \u001b[43mn1\u001b[49m\u001b[38;5;241;43m+\u001b[39;49m\u001b[43mn2\u001b[49m\n\u001b[0;32m      3\u001b[0m     \u001b[38;5;66;03m#print(c+\"10\")\u001b[39;00m\n\u001b[0;32m      4\u001b[0m     \u001b[38;5;28;01mreturn\u001b[39;00m c\n",
      "\u001b[1;31mTypeError\u001b[0m: can only concatenate str (not \"int\") to str"
     ]
    }
   ],
   "source": [
    "print(add(number1,number3))"
   ]
  },
  {
   "cell_type": "code",
   "execution_count": 19,
   "metadata": {},
   "outputs": [
    {
     "name": "stdout",
     "output_type": "stream",
     "text": [
      "1123\n"
     ]
    }
   ],
   "source": [
    "addstring(number1,number2)"
   ]
  },
  {
   "cell_type": "code",
   "execution_count": 16,
   "metadata": {},
   "outputs": [
    {
     "data": {
      "text/plain": [
       "\"str(object='') -> str\\nstr(bytes_or_buffer[, encoding[, errors]]) -> str\\n\\nCreate a new string object from the given object. If encoding or\\nerrors is specified, then the object must expose a data buffer\\nthat will be decoded using the given encoding and error handler.\\nOtherwise, returns the result of object.__str__() (if defined)\\nor repr(object).\\nencoding defaults to sys.getdefaultencoding().\\nerrors defaults to 'strict'.\""
      ]
     },
     "execution_count": 16,
     "metadata": {},
     "output_type": "execute_result"
    }
   ],
   "source": [
    "a = \"hello world\"\n",
    "a.__doc__"
   ]
  },
  {
   "cell_type": "code",
   "execution_count": 17,
   "metadata": {},
   "outputs": [
    {
     "data": {
      "text/plain": [
       "'Create a complex number from a real part and an optional imaginary part.\\n\\nThis is equivalent to (real + imag*1j) where imag defaults to 0.'"
      ]
     },
     "execution_count": 17,
     "metadata": {},
     "output_type": "execute_result"
    }
   ],
   "source": [
    "b =2+3j\n",
    "b.__doc__"
   ]
  },
  {
   "cell_type": "code",
   "execution_count": 21,
   "metadata": {},
   "outputs": [
    {
     "name": "stdout",
     "output_type": "stream",
     "text": [
      "11\n",
      "['h', 'e', 'l', 'l', 'o', ' ', 'w', 'o', 'r', 'l', 'd']\n"
     ]
    },
    {
     "ename": "IndexError",
     "evalue": "list index out of range",
     "output_type": "error",
     "traceback": [
      "\u001b[1;31m---------------------------------------------------------------------------\u001b[0m",
      "\u001b[1;31mIndexError\u001b[0m                                Traceback (most recent call last)",
      "Input \u001b[1;32mIn [21]\u001b[0m, in \u001b[0;36m<cell line: 4>\u001b[1;34m()\u001b[0m\n\u001b[0;32m      2\u001b[0m \u001b[38;5;28mprint\u001b[39m(\u001b[38;5;28mlen\u001b[39m(a))\n\u001b[0;32m      3\u001b[0m \u001b[38;5;28mprint\u001b[39m(a)\n\u001b[1;32m----> 4\u001b[0m \u001b[43ma\u001b[49m\u001b[43m[\u001b[49m\u001b[38;5;241;43m-\u001b[39;49m\u001b[38;5;241;43m12\u001b[39;49m\u001b[43m]\u001b[49m\n",
      "\u001b[1;31mIndexError\u001b[0m: list index out of range"
     ]
    }
   ],
   "source": [
    "a = list('hello world')\n",
    "print(len(a))\n",
    "print(a)\n",
    "a[-12]"
   ]
  },
  {
   "cell_type": "code",
   "execution_count": 2,
   "metadata": {},
   "outputs": [
    {
     "name": "stdout",
     "output_type": "stream",
     "text": [
      "given type is unsupported for this operation can only concatenate str (not \"int\") to str\n"
     ]
    }
   ],
   "source": [
    "a = [1,2.1,3,4]\n",
    "number1 =\"20\"\n",
    "try: \n",
    "    #result = \"123\" + 456 \n",
    "    result = a[4]\n",
    "    #c = \"1\" + 2\n",
    "    #f = open('sample.txt','r+')\n",
    "    #a = f.read()\n",
    "    #result = int(input(\"Enter an Integer? \"))\n",
    "    #y = math.sqrt(\"2asdfasdf\")\n",
    "    result = int(number1) / 0\n",
    "#except TypeError as errmsg:\n",
    "#    print(\"given type is unsupported for this operation\",errmsg)\n",
    "except NameError as Nameerr:\n",
    "    print(Nameerr)\n",
    "except ValueError as errmsg:\n",
    "    print(\"Maybe you've not put the right input\",errmsg)\n",
    "except ZeroDivisionError as errmsg:\n",
    "    print(\"Divide By Zero Error \", errmsg)\n",
    "except LookupError as LookUpErrorException_Variable:\n",
    "    print(\"No such index found or comes under Lookup Error\")\n",
    "    print(\"Error Data - \", LookUpErrorException_Variable)\n",
    "except IOError as ioerr:\n",
    "    print(\"IO Error Occured : \", ioerr)    \n",
    "except FileNotFoundError as errmsg:\n",
    "    print(\"File Not Found Error\")\n",
    "except Exception as caughtexception: \n",
    "    print(type(caughtexception))\n",
    "    print(type(caughtexception).__name__)\n",
    "    print(caughtexception, \": Some other error\")\n",
    "else: \n",
    "    print(\"No error\")\n",
    "    "
   ]
  },
  {
   "cell_type": "code",
   "execution_count": 33,
   "metadata": {},
   "outputs": [
    {
     "name": "stdout",
     "output_type": "stream",
     "text": [
      "asdfas asdfasdfas sadf sd\n",
      "Content written successfully\n",
      "gets executed\n"
     ]
    }
   ],
   "source": [
    "try:\n",
    "    f = open('../sample1.txt','r+')\n",
    "    a = f.read()\n",
    "    print(a)\n",
    "    f.write(a  + \"Hello World \\nWelcome to python\" )\n",
    "except FileNotFoundError as FFE:\n",
    "    print(\"File Not Found Error Occured : \",FFE)\n",
    "except IOError as FileException:\n",
    "    # This will only check for an IOError exception and then execute this print statement\n",
    "    #print(\"Error: Could not find file or read data\")\n",
    "    print(\"Error Message :\", FileException)\n",
    "    print(type(FileException).__name__)\n",
    "else:\n",
    "    print(\"Content written successfully\")\n",
    "finally:\n",
    "    f.close()\n",
    "    print(\"gets executed\")"
   ]
  },
  {
   "cell_type": "markdown",
   "metadata": {},
   "source": [
    "Now let's see what would happen if we did not have write permission (opening only with 'r'):"
   ]
  },
  {
   "cell_type": "code",
   "execution_count": 30,
   "metadata": {
    "scrolled": true
   },
   "outputs": [
    {
     "name": "stdout",
     "output_type": "stream",
     "text": [
      "###########################Outer Try###############################\n",
      "##########################################################\n",
      "exception from outer try block - catching all type of errors\n",
      "(<class 'ZeroDivisionError'>, ZeroDivisionError('division by zero'), <traceback object at 0x000001C60C7E0A00>)\n",
      "################### Getting Error Details form Sys Exception ###########################\n",
      "(<class 'ZeroDivisionError'>, ZeroDivisionError('division by zero'), <traceback object at 0x000001C60C7E0A00>)\n",
      "C:\\Users\\BLY\\AppData\\Local\\Temp\\ipykernel_10860\\2003786122.py     ab =1/0\n",
      " 22 <class 'ZeroDivisionError'> division by zero\n",
      "###################################### End ###############################################\n",
      "error\n",
      "<class 'ZeroDivisionError'>\n",
      "I ll run whatever happened\n"
     ]
    }
   ],
   "source": [
    "import os\n",
    "import linecache\n",
    "import sys\n",
    "from sys import *\n",
    "\n",
    "def PrintException():\n",
    "    print(\"################### Getting Error Details form Sys Exception ###########################\")\n",
    "    global InstTraceLog\n",
    "    print(exc_info())\n",
    "    exc_type, exc_obj, tb = sys.exc_info()\n",
    "    f = tb.tb_frame\n",
    "    lineno = tb.tb_lineno\n",
    "    filename = f.f_code.co_filename\n",
    "    linecache.checkcache(filename)\n",
    "    line = linecache.getline(filename, lineno, f.f_globals)\n",
    "    print(filename, line, lineno, exc_type, exc_obj)\n",
    "    print(\"###################################### End ###############################################\")\n",
    "\n",
    "try:\n",
    "    print(\"###########################Outer Try###############################\")\n",
    "    #print(\"Hello\")\n",
    "    ab =1/0\n",
    "    \n",
    "    filehandle = None\n",
    "    #f = open('testfile12','r')\n",
    "    try:\n",
    "        print(\"######################Inner try####################################\")\n",
    "        f = open('testfile12','r')\n",
    "        filehandle = f\n",
    "    except Exception: \n",
    "        print(\"exception from inner try block\")\n",
    "        f = open('../testfile','r')\n",
    "        filehandle = f\n",
    "        print(f)\n",
    "        print(\"Exception Handled by a different file\")\n",
    "    print(f.read())\n",
    "    #f.write('Test write this #############')\n",
    "    [print(x) for x in range(0,10)]\n",
    "except IOError as a1:\n",
    "    print(\"##########################################################\")\n",
    "    print(\"exception from outer try block - catching only IO errors\")\n",
    "    # This will only check for an IOError exception and then execute this print statement\n",
    "    #print(a1,\"\\n Error: Could not find file or read data\")\n",
    "    #PrintException()\n",
    "except Exception as e:\n",
    "    print(\"##########################################################\")\n",
    "    print(\"exception from outer try block - catching all type of errors\")\n",
    "    print(sys.exc_info())\n",
    "    PrintException()\n",
    "    print(\"error\")\n",
    "    print(type(e))\n",
    "else:\n",
    "    try:\n",
    "        print(\"Content written successfully\")\n",
    "        result = 1+'ab'\n",
    "        f.close()\n",
    "    except TypeError:\n",
    "        print(\"TypeError\")\n",
    "    except Exception:\n",
    "        print(\"I can handle anything, handled by base exception\")\n",
    "finally:\n",
    "    print(\"I ll run whatever happened\")\n",
    "    "
   ]
  },
  {
   "cell_type": "code",
   "execution_count": 37,
   "metadata": {},
   "outputs": [
    {
     "name": "stdout",
     "output_type": "stream",
     "text": [
      "TypeError\n",
      "no exception occured in the main try\n",
      "I ll run whatever happened\n"
     ]
    }
   ],
   "source": [
    "try:\n",
    "    #ab =1/0\n",
    "    f = open('../testfile123','r')\n",
    "    \n",
    "    try:\n",
    "        pass\n",
    "        result = 1+'ab'\n",
    "        #f.close()\n",
    "    except TypeError:\n",
    "        print(\"TypeError\")\n",
    "    except Exception:\n",
    "        print(\"I can handle anything, handled by base exception\")\n",
    "    #result = 1+'ab'\n",
    "except IOError as a1:\n",
    "    # This will only check for an IOError exception and then execute this print statement\n",
    "    print(a1,\"\\n Error: Could not find file or read data\")\n",
    "    #PrintException()\n",
    "except Exception as e:\n",
    "    PrintException()\n",
    "else:\n",
    "    print(\"no exception occured in the main try\")\n",
    "finally:\n",
    "    print(\"I ll run whatever happened\")"
   ]
  },
  {
   "cell_type": "markdown",
   "metadata": {},
   "source": [
    "Great! Notice how we only printed a statement! The code still ran and we were able to continue doing actions and running code blocks. This is extremely useful when you have to account for possible input errors in your code. You can be prepared for the error and keep running code, instead of your code just breaking as we saw above.\n",
    "\n",
    "We could have also just said <code>except:</code> if we weren't sure what exception would occur. For example:"
   ]
  },
  {
   "cell_type": "code",
   "execution_count": null,
   "metadata": {},
   "outputs": [],
   "source": [
    "try:\n",
    "    f = open('../testfile','r')\n",
    "    f.write('Test write this')\n",
    "except:\n",
    "    # This will check for any exception and then execute this print statement\n",
    "    print(\"Error: Could not find file or read data\")\n",
    "    PrintException()\n",
    "else:\n",
    "    print(\"Content written successfully\")\n",
    "    f.close()"
   ]
  },
  {
   "cell_type": "markdown",
   "metadata": {},
   "source": [
    "Great! Now we don't actually need to memorize that list of exception types! Now what if we kept wanting to run code after the exception occurred? This is where <code>finally</code> comes in.\n",
    "## finally\n",
    "The <code>finally:</code> block of code will always be run regardless if there was an exception in the <code>try</code> code block. The syntax is:\n",
    "\n",
    "    try:\n",
    "       Code block here\n",
    "       ...\n",
    "       Due to any exception, this code may be skipped!\n",
    "    finally:\n",
    "       This code block would always be executed.\n",
    "\n",
    "For example:"
   ]
  },
  {
   "cell_type": "code",
   "execution_count": null,
   "metadata": {},
   "outputs": [],
   "source": [
    "#f = open(\"testfile123\", \"r\")\n",
    "#f.write(\"Test write statement\")\n",
    "#f.close()\n",
    "try:\n",
    "    f = open(\"../testfile1\", \"r\")\n",
    "    f.write(\"Test write statement\")\n",
    "    f.close()\n",
    "except Exception as ex:\n",
    "    print(type(ex).__name__)\n",
    "finally:\n",
    "    print(\"Always execute finally code blocks\")"
   ]
  },
  {
   "cell_type": "code",
   "execution_count": 38,
   "metadata": {
    "scrolled": true
   },
   "outputs": [
    {
     "name": "stdout",
     "output_type": "stream",
     "text": [
      "Always execute finally code blocks\n"
     ]
    },
    {
     "ename": "UnsupportedOperation",
     "evalue": "not writable",
     "output_type": "error",
     "traceback": [
      "\u001b[1;31m---------------------------------------------------------------------------\u001b[0m",
      "\u001b[1;31mUnsupportedOperation\u001b[0m                      Traceback (most recent call last)",
      "Input \u001b[1;32mIn [38]\u001b[0m, in \u001b[0;36m<cell line: 4>\u001b[1;34m()\u001b[0m\n\u001b[0;32m      4\u001b[0m \u001b[38;5;28;01mtry\u001b[39;00m:\n\u001b[0;32m      5\u001b[0m     f \u001b[38;5;241m=\u001b[39m \u001b[38;5;28mopen\u001b[39m(\u001b[38;5;124m\"\u001b[39m\u001b[38;5;124m../testfile1\u001b[39m\u001b[38;5;124m\"\u001b[39m, \u001b[38;5;124m\"\u001b[39m\u001b[38;5;124mr\u001b[39m\u001b[38;5;124m\"\u001b[39m)\n\u001b[1;32m----> 6\u001b[0m     \u001b[43mf\u001b[49m\u001b[38;5;241;43m.\u001b[39;49m\u001b[43mwrite\u001b[49m\u001b[43m(\u001b[49m\u001b[38;5;124;43m\"\u001b[39;49m\u001b[38;5;124;43mTest write statement\u001b[39;49m\u001b[38;5;124;43m\"\u001b[39;49m\u001b[43m)\u001b[49m\n\u001b[0;32m      7\u001b[0m     f\u001b[38;5;241m.\u001b[39mclose()\n\u001b[0;32m      8\u001b[0m     \u001b[38;5;28mprint\u001b[39m(\u001b[38;5;124m\"\u001b[39m\u001b[38;5;124mhello world\u001b[39m\u001b[38;5;124m\"\u001b[39m)\n",
      "\u001b[1;31mUnsupportedOperation\u001b[0m: not writable"
     ]
    }
   ],
   "source": [
    "#f = open(\"testfile123\", \"r\")\n",
    "#f.write(\"Test write statement\")\n",
    "#f.close()\n",
    "try:\n",
    "    f = open(\"../testfile1\", \"r\")\n",
    "    f.write(\"Test write statement\")\n",
    "    f.close()\n",
    "    print(\"hello world\")\n",
    "finally:\n",
    "    print(\"Always execute finally code blocks\")"
   ]
  },
  {
   "cell_type": "code",
   "execution_count": 39,
   "metadata": {},
   "outputs": [
    {
     "name": "stdout",
     "output_type": "stream",
     "text": [
      "not writable\n",
      "Always execute this\n"
     ]
    }
   ],
   "source": [
    "try:\n",
    "    f = open(\"../testfile\", \"r\")\n",
    "    f.write(\"writing\")\n",
    "except TypeError:\n",
    "    print(\"It's a type error\")\n",
    "except IOError as Ioerr:\n",
    "    print(Ioerr)\n",
    "except OSError:\n",
    "    PrintException()\n",
    "    print(\"OS Error\")\n",
    "except Exception as err:\n",
    "    print(type(err).__name__)\n",
    "finally:\n",
    "    print(\"Always execute this\")"
   ]
  },
  {
   "cell_type": "markdown",
   "metadata": {},
   "source": [
    "We can use this in conjunction with <code>except</code>. Let's see a new example that will take into account a user providing the wrong input:"
   ]
  },
  {
   "cell_type": "code",
   "execution_count": null,
   "metadata": {},
   "outputs": [],
   "source": [
    "def askint():\n",
    "    try:\n",
    "        val = int(input(\"Please enter an integer: \"))\n",
    "        #print(val)\n",
    "    except Exception as ex:\n",
    "        print(type(ex).__name__)\n",
    "        print(\"Looks like you did not enter an integer!\")\n",
    "    finally:\n",
    "        print(\"Finally, I executed!\")\n",
    "    print(val)"
   ]
  },
  {
   "cell_type": "code",
   "execution_count": null,
   "metadata": {},
   "outputs": [],
   "source": [
    "askint()"
   ]
  },
  {
   "cell_type": "markdown",
   "metadata": {},
   "source": [
    "Notice how we got an error when trying to print val (because it was never properly assigned). Let's remedy this by asking the user and checking to make sure the input type is an integer:"
   ]
  },
  {
   "cell_type": "code",
   "execution_count": null,
   "metadata": {},
   "outputs": [],
   "source": [
    "def askint():\n",
    "    try:\n",
    "        val = int(input(\"Please enter an integer: \"))\n",
    "    except Excepiton as ex:\n",
    "        print(\"Looks like you did not enter an integer!\")\n",
    "        print(ex)\n",
    "        val = int(input(\"Try again-Please enter an integer: \"))\n",
    "    finally:\n",
    "        print(\"Finally, I executed!\")\n",
    "    print(val)"
   ]
  },
  {
   "cell_type": "code",
   "execution_count": null,
   "metadata": {},
   "outputs": [],
   "source": [
    "askint()"
   ]
  },
  {
   "cell_type": "markdown",
   "metadata": {},
   "source": [
    "Hmmm...that only did one check. How can we continually keep checking? We can use a while loop!"
   ]
  },
  {
   "cell_type": "code",
   "execution_count": null,
   "metadata": {},
   "outputs": [],
   "source": [
    "#print(expreesion2)\n",
    "def askint():\n",
    "    expression = True\n",
    "    while expression:\n",
    "        try:\n",
    "            val = int(input(\"Please enter an integer: \"))\n",
    "            expression = False\n",
    "        except:\n",
    "            print(\"Looks like you did not enter an integer!\")\n",
    "            continue\n",
    "        finally:\n",
    "            print(\"Finally, I executed!\")\n",
    "            #break\n",
    "              \n",
    "        print(val)"
   ]
  },
  {
   "cell_type": "code",
   "execution_count": null,
   "metadata": {},
   "outputs": [],
   "source": [
    "askint()"
   ]
  },
  {
   "cell_type": "markdown",
   "metadata": {},
   "source": [
    "So why did our function print \"Finally, I executed!\" after each trial, yet it never printed `val` itself? This is because with a try/except/finally clause, any <code>continue</code> or <code>break</code> statements are reserved until *after* the try clause is completed. This means that even though a successful input of **3** brought us to the <code>else:</code> block, and a <code>break</code> statement was thrown, the try clause continued through to <code>finally:</code> before breaking out of the while loop. And since <code>print(val)</code> was outside the try clause, the <code>break</code> statement prevented it from running.\n",
    "\n",
    "Let's make one final adjustment:"
   ]
  },
  {
   "cell_type": "code",
   "execution_count": null,
   "metadata": {},
   "outputs": [],
   "source": [
    "def askint():\n",
    "    while True:\n",
    "        try:\n",
    "            val = int(input(\"Please enter an integer: \"))\n",
    "        except:\n",
    "            print(\"Looks like you did not enter an integer!\")\n",
    "            continue\n",
    "        else:\n",
    "            print(\"Yep that's an integer!\")\n",
    "            print(val)\n",
    "            break\n",
    "        finally:\n",
    "            print(\"Finally, I executed!\")"
   ]
  },
  {
   "cell_type": "code",
   "execution_count": null,
   "metadata": {
    "scrolled": false
   },
   "outputs": [],
   "source": [
    "askint()"
   ]
  },
  {
   "cell_type": "markdown",
   "metadata": {},
   "source": [
    "##### Raise "
   ]
  },
  {
   "cell_type": "code",
   "execution_count": 49,
   "metadata": {},
   "outputs": [],
   "source": [
    "def add(x,y):\n",
    "    return x+y"
   ]
  },
  {
   "cell_type": "code",
   "execution_count": 50,
   "metadata": {},
   "outputs": [
    {
     "data": {
      "text/plain": [
       "15"
      ]
     },
     "execution_count": 50,
     "metadata": {},
     "output_type": "execute_result"
    }
   ],
   "source": [
    "add(5,10)"
   ]
  },
  {
   "cell_type": "code",
   "execution_count": 51,
   "metadata": {},
   "outputs": [
    {
     "ename": "TypeError",
     "evalue": "can only concatenate str (not \"int\") to str",
     "output_type": "error",
     "traceback": [
      "\u001b[1;31m---------------------------------------------------------------------------\u001b[0m",
      "\u001b[1;31mTypeError\u001b[0m                                 Traceback (most recent call last)",
      "Input \u001b[1;32mIn [51]\u001b[0m, in \u001b[0;36m<cell line: 1>\u001b[1;34m()\u001b[0m\n\u001b[1;32m----> 1\u001b[0m \u001b[43madd\u001b[49m\u001b[43m(\u001b[49m\u001b[38;5;124;43m\"\u001b[39;49m\u001b[38;5;124;43ma\u001b[39;49m\u001b[38;5;124;43m\"\u001b[39;49m\u001b[43m,\u001b[49m\u001b[38;5;241;43m10\u001b[39;49m\u001b[43m)\u001b[49m\n",
      "Input \u001b[1;32mIn [49]\u001b[0m, in \u001b[0;36madd\u001b[1;34m(x, y)\u001b[0m\n\u001b[0;32m      1\u001b[0m \u001b[38;5;28;01mdef\u001b[39;00m \u001b[38;5;21madd\u001b[39m(x,y):\n\u001b[1;32m----> 2\u001b[0m     \u001b[38;5;28;01mreturn\u001b[39;00m \u001b[43mx\u001b[49m\u001b[38;5;241;43m+\u001b[39;49m\u001b[43my\u001b[49m\n",
      "\u001b[1;31mTypeError\u001b[0m: can only concatenate str (not \"int\") to str"
     ]
    }
   ],
   "source": [
    "add(\"a\",10)"
   ]
  },
  {
   "cell_type": "code",
   "execution_count": 44,
   "metadata": {},
   "outputs": [
    {
     "data": {
      "text/plain": [
       "2"
      ]
     },
     "execution_count": 44,
     "metadata": {},
     "output_type": "execute_result"
    }
   ],
   "source": [
    "max(10,2,3,4)\n",
    "e(11,2,3,4)"
   ]
  },
  {
   "cell_type": "code",
   "execution_count": 34,
   "metadata": {},
   "outputs": [
    {
     "name": "stdout",
     "output_type": "stream",
     "text": [
      "Enter a Value : 12\n",
      "Enter a Value : o\n",
      "in else block\n",
      "ValueError Occured :  dont do string and number addition\n",
      "Goodbye, world!\n"
     ]
    }
   ],
   "source": [
    "result = None\n",
    "try:\n",
    "    x = input(\"Enter a Value : \")\n",
    "    y = input(\"Enter a Value : \")\n",
    "    if(x.isdecimal() and y.isdecimal()):\n",
    "        if(max(int(x),int(y)) < 10):\n",
    "            raise(ValueError(\"Atleast One Number be Greater than 10\"))\n",
    "        result = add(int(x),int(y))\n",
    "    elif(not x.isdecimal() and not y.isdecimal()):\n",
    "        result = add(x,y)\n",
    "    else:\n",
    "        print('in else block')\n",
    "        #result = add(x,y)\n",
    "        raise(ValueError(\"dont do string and number addition\"))\n",
    "    print(result)\n",
    "except Exception as err:\n",
    "    print(\"%s Occured : \"%type(err).__name__, err)\n",
    "finally:\n",
    "    print('Goodbye, world!')\n"
   ]
  },
  {
   "cell_type": "code",
   "execution_count": 31,
   "metadata": {},
   "outputs": [
    {
     "name": "stdout",
     "output_type": "stream",
     "text": [
      "Goodbye, world!\n"
     ]
    },
    {
     "ename": "KeyboardInterrupt",
     "evalue": "ctrl + c from keyboard",
     "output_type": "error",
     "traceback": [
      "\u001b[1;31m---------------------------------------------------------------------------\u001b[0m",
      "\u001b[1;31mKeyboardInterrupt\u001b[0m                         Traceback (most recent call last)",
      "Input \u001b[1;32mIn [31]\u001b[0m, in \u001b[0;36m<cell line: 1>\u001b[1;34m()\u001b[0m\n\u001b[0;32m      1\u001b[0m \u001b[38;5;28;01mtry\u001b[39;00m:\n\u001b[1;32m----> 2\u001b[0m     \u001b[38;5;28;01mraise\u001b[39;00m \u001b[38;5;167;01mKeyboardInterrupt\u001b[39;00m(\u001b[38;5;124m\"\u001b[39m\u001b[38;5;124mctrl + c from keyboard\u001b[39m\u001b[38;5;124m\"\u001b[39m)\n\u001b[0;32m      3\u001b[0m \u001b[38;5;28;01mexcept\u001b[39;00m \u001b[38;5;167;01mException\u001b[39;00m \u001b[38;5;28;01mas\u001b[39;00m err:\n\u001b[0;32m      4\u001b[0m     \u001b[38;5;28mprint\u001b[39m(err)\n",
      "\u001b[1;31mKeyboardInterrupt\u001b[0m: ctrl + c from keyboard"
     ]
    }
   ],
   "source": [
    "try:\n",
    "    raise KeyboardInterrupt(\"ctrl + c from keyboard\")\n",
    "except Exception as err:\n",
    "    print(err)\n",
    "finally:\n",
    "    print('Goodbye, world!')\n"
   ]
  },
  {
   "cell_type": "code",
   "execution_count": 66,
   "metadata": {},
   "outputs": [
    {
     "name": "stdout",
     "output_type": "stream",
     "text": [
      "Enter a Number:10\n",
      "0\n",
      "1\n",
      "2\n",
      "3\n",
      "4\n",
      "5\n",
      "6\n",
      "7\n",
      "8\n",
      "9\n",
      "Goodbye, world!\n"
     ]
    }
   ],
   "source": [
    "import time\n",
    "try:\n",
    "    y = int(input(\"Enter a Number:\"))\n",
    "    for x in range(y):\n",
    "        time.sleep(10)\n",
    "        print(x)\n",
    "except Exception as err:\n",
    "    print(err)\n",
    "finally:\n",
    "    print('Goodbye, world!')"
   ]
  },
  {
   "cell_type": "code",
   "execution_count": 35,
   "metadata": {},
   "outputs": [
    {
     "name": "stdout",
     "output_type": "stream",
     "text": [
      "Goodbye, world!\n"
     ]
    },
    {
     "ename": "OSError",
     "evalue": "",
     "output_type": "error",
     "traceback": [
      "\u001b[1;31m---------------------------------------------------------------------------\u001b[0m",
      "\u001b[1;31mOSError\u001b[0m                                   Traceback (most recent call last)",
      "Input \u001b[1;32mIn [35]\u001b[0m, in \u001b[0;36m<cell line: 1>\u001b[1;34m()\u001b[0m\n\u001b[0;32m      1\u001b[0m \u001b[38;5;28;01mtry\u001b[39;00m:\n\u001b[1;32m----> 2\u001b[0m     \u001b[38;5;28;01mraise\u001b[39;00m \u001b[38;5;167;01mOSError\u001b[39;00m\n\u001b[0;32m      3\u001b[0m \u001b[38;5;28;01mfinally\u001b[39;00m:\n\u001b[0;32m      4\u001b[0m     \u001b[38;5;28mprint\u001b[39m(\u001b[38;5;124m'\u001b[39m\u001b[38;5;124mGoodbye, world!\u001b[39m\u001b[38;5;124m'\u001b[39m)\n",
      "\u001b[1;31mOSError\u001b[0m: "
     ]
    }
   ],
   "source": [
    "try:\n",
    "    raise OSError\n",
    "finally:\n",
    "    print('Goodbye, world!')"
   ]
  }
 ],
 "metadata": {
  "kernelspec": {
   "display_name": "Python 3 (ipykernel)",
   "language": "python",
   "name": "python3"
  },
  "language_info": {
   "codemirror_mode": {
    "name": "ipython",
    "version": 3
   },
   "file_extension": ".py",
   "mimetype": "text/x-python",
   "name": "python",
   "nbconvert_exporter": "python",
   "pygments_lexer": "ipython3",
   "version": "3.10.4"
  }
 },
 "nbformat": 4,
 "nbformat_minor": 1
}
