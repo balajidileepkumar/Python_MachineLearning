{
 "cells": [
  {
   "cell_type": "markdown",
   "metadata": {
    "collapsed": true
   },
   "source": [
    "# Object Oriented Programming\n",
    "\n",
    "\n",
    "<ul>\n",
    "<li>Object Oriented Programming is a way of providing the structure to a real world entities,.\n",
    "ie) anything around we see and live with.</li>\n",
    "\n",
    "<li>A class defines the structure of a Real world entitiy. It defines the characteristics and behaviour,. </li>\n",
    "\n",
    "<li>In programming we call the characteristics as properties/attributes and the behaviour we can define using the class methods/methods</li>\n",
    "\n",
    "<li>A method in python is a function defined within the class. A method defines the behaviour of the entity.</li>\n",
    "\n",
    "<li>An Object is an instance of the class, ie) it's a unit of the real world entity</li>\n",
    "<ul>\n",
    "<br>\n",
    "    \n",
    "For this lesson we will construct our knowledge of OOP in Python by building on the following topics:\n",
    "\n",
    "* Objects\n",
    "* Using the *class* keyword</li>\n",
    "* Creating class attributes\n",
    "* Creating methods in a class\n",
    "* Learning about Inheritance, Encapsulation and Abstraction\n",
    "* Learning about Special Methods for classes\n",
    "\n",
    "Lets start the lesson by rememb</li>ering about the Basic Python Objects. For example"
   ]
  },
  {
   "cell_type": "markdown",
   "metadata": {},
   "source": [
    "### MOVIE CLASS"
   ]
  },
  {
   "cell_type": "code",
   "execution_count": 2,
   "metadata": {},
   "outputs": [],
   "source": [
    "class movie:\n",
    "    pass"
   ]
  },
  {
   "cell_type": "code",
   "execution_count": 5,
   "metadata": {},
   "outputs": [
    {
     "data": {
      "text/plain": [
       "['__class__',\n",
       " '__delattr__',\n",
       " '__dict__',\n",
       " '__dir__',\n",
       " '__doc__',\n",
       " '__eq__',\n",
       " '__format__',\n",
       " '__ge__',\n",
       " '__getattribute__',\n",
       " '__gt__',\n",
       " '__hash__',\n",
       " '__init__',\n",
       " '__init_subclass__',\n",
       " '__le__',\n",
       " '__lt__',\n",
       " '__module__',\n",
       " '__ne__',\n",
       " '__new__',\n",
       " '__reduce__',\n",
       " '__reduce_ex__',\n",
       " '__repr__',\n",
       " '__setattr__',\n",
       " '__sizeof__',\n",
       " '__str__',\n",
       " '__subclasshook__',\n",
       " '__weakref__']"
      ]
     },
     "execution_count": 5,
     "metadata": {},
     "output_type": "execute_result"
    }
   ],
   "source": [
    "dir(movie)"
   ]
  },
  {
   "cell_type": "code",
   "execution_count": 6,
   "metadata": {},
   "outputs": [
    {
     "name": "stdout",
     "output_type": "stream",
     "text": [
      "2171052431280\n",
      "2171032561328\n"
     ]
    }
   ],
   "source": [
    "a= movie()\n",
    "b = movie()\n",
    "print(id(a))\n",
    "print(id(b))"
   ]
  },
  {
   "cell_type": "code",
   "execution_count": 12,
   "metadata": {},
   "outputs": [],
   "source": [
    "class movie:\n",
    "    def __init__(me):\n",
    "        print('movie object created at location : ',id(me))"
   ]
  },
  {
   "cell_type": "code",
   "execution_count": 13,
   "metadata": {},
   "outputs": [
    {
     "name": "stdout",
     "output_type": "stream",
     "text": [
      "movie object created at location :  2171052692176\n",
      "movie object created at location :  2171052432576\n"
     ]
    }
   ],
   "source": [
    "a = movie()\n",
    "a.name = 'KGF'\n",
    "b = movie()"
   ]
  },
  {
   "cell_type": "code",
   "execution_count": 18,
   "metadata": {},
   "outputs": [],
   "source": [
    "class movie:\n",
    "    def __init__(self,name):\n",
    "        print('movie object created at location : ',id(self))\n",
    "        self.moviename = name"
   ]
  },
  {
   "cell_type": "code",
   "execution_count": 19,
   "metadata": {},
   "outputs": [
    {
     "data": {
      "text/plain": [
       "mappingproxy({'__module__': '__main__',\n",
       "              '__init__': <function __main__.movie.__init__(self, name)>,\n",
       "              '__dict__': <attribute '__dict__' of 'movie' objects>,\n",
       "              '__weakref__': <attribute '__weakref__' of 'movie' objects>,\n",
       "              '__doc__': None})"
      ]
     },
     "execution_count": 19,
     "metadata": {},
     "output_type": "execute_result"
    }
   ],
   "source": [
    "movie.__dict__"
   ]
  },
  {
   "cell_type": "code",
   "execution_count": 15,
   "metadata": {},
   "outputs": [
    {
     "name": "stdout",
     "output_type": "stream",
     "text": [
      "movie object created at location :  2171052519248\n",
      "movie object created at location :  2171052518576\n",
      "KGF2\n",
      "RRR\n"
     ]
    }
   ],
   "source": [
    "a = movie('KGF2')\n",
    "b = movie('RRR')\n",
    "print(a.moviename)\n",
    "print(b.moviename)"
   ]
  },
  {
   "cell_type": "code",
   "execution_count": 22,
   "metadata": {},
   "outputs": [],
   "source": [
    "class movie:\n",
    "    def __init__(self,name):\n",
    "        print('movie object created at location : ',id(self))\n",
    "        self.moviename = name\n",
    "    def set_budget(this,budget):\n",
    "        this.budget = budget "
   ]
  },
  {
   "cell_type": "code",
   "execution_count": 23,
   "metadata": {},
   "outputs": [
    {
     "name": "stdout",
     "output_type": "stream",
     "text": [
      "movie object created at location :  2171032567088\n",
      "movie object created at location :  2171034044352\n"
     ]
    }
   ],
   "source": [
    "a = movie('KGF2')\n",
    "b = movie('RRR')"
   ]
  },
  {
   "cell_type": "code",
   "execution_count": 24,
   "metadata": {},
   "outputs": [],
   "source": [
    "a.set_budget('100 crores')\n",
    "b.set_budget('75 crores')"
   ]
  },
  {
   "cell_type": "code",
   "execution_count": 25,
   "metadata": {},
   "outputs": [
    {
     "name": "stdout",
     "output_type": "stream",
     "text": [
      "100 crores\n",
      "75 crores\n"
     ]
    }
   ],
   "source": [
    "print(a.budget)\n",
    "print(b.budget)"
   ]
  },
  {
   "cell_type": "code",
   "execution_count": 26,
   "metadata": {},
   "outputs": [],
   "source": [
    "class movie:\n",
    "    def __init__(self,name):\n",
    "        print('movie object created at location : ',id(self))\n",
    "        self.moviename = name\n",
    "    def set_budget(this,budget):\n",
    "        this.budget = budget \n",
    "    def get_budget(this):\n",
    "        return this.budget"
   ]
  },
  {
   "cell_type": "code",
   "execution_count": 48,
   "metadata": {},
   "outputs": [
    {
     "name": "stdout",
     "output_type": "stream",
     "text": [
      "movie object created at location :  2155659734288\n",
      "movie object created at location :  2155659737408\n",
      "100 crores From Method\n",
      "100 crores From property\n"
     ]
    }
   ],
   "source": [
    "a = movie('KGF2')\n",
    "b = movie('RRR')\n",
    "a.set_budget('100 crores')\n",
    "b.set_budget('75 crores')\n",
    "print(a.get_budget(), \"From Method\")\n",
    "print(a.budget, \"From property\")"
   ]
  },
  {
   "cell_type": "code",
   "execution_count": 28,
   "metadata": {},
   "outputs": [
    {
     "name": "stdout",
     "output_type": "stream",
     "text": [
      "movie object created at location :  2171032907168\n",
      "movie object created at location :  2171032909184\n",
      "False\n"
     ]
    }
   ],
   "source": [
    "a = movie('KGF')\n",
    "b = movie('KGF')\n",
    "print(a==b)"
   ]
  },
  {
   "cell_type": "code",
   "execution_count": 56,
   "metadata": {},
   "outputs": [
    {
     "data": {
      "text/plain": [
       "'KGF2 created at 2155659732800 estimated to be 100c'"
      ]
     },
     "execution_count": 56,
     "metadata": {},
     "output_type": "execute_result"
    }
   ],
   "source": [
    "str(a)"
   ]
  },
  {
   "cell_type": "code",
   "execution_count": 30,
   "metadata": {},
   "outputs": [
    {
     "name": "stdout",
     "output_type": "stream",
     "text": [
      "movie object created at location :  2171034070384\n",
      "movie object created at location :  2171034074608\n",
      "movie object created at location :  2171034069472\n",
      "compare a and b False\n",
      "compare a and c True\n",
      "KGF2 created at 2171034070384 estimated to be 100c\n",
      "KGF2\n",
      "KGF2\n"
     ]
    }
   ],
   "source": [
    "class movie:\n",
    "    \"\"\"\n",
    "        Represents the movie information, rating, genre and cast\n",
    "    \"\"\"\n",
    "    \n",
    "    def __init__(self,name):\n",
    "        print('movie object created at location : ',id(self))\n",
    "        self.moviename = name\n",
    "        \n",
    "    def set_budget(this,budget):\n",
    "        this.budget = budget \n",
    "    def get_budget(this):\n",
    "        return this.budget\n",
    "    \n",
    "    def __eq__(self,b):\n",
    "        if(type(b)==type(self)):\n",
    "            return self.moviename == b.moviename #and self.genre == b.genre\n",
    "        else: \n",
    "            return False\n",
    "        \n",
    "    def __repr__(self):\n",
    "        return self.moviename \n",
    "    \n",
    "    def __str__(self):\n",
    "        return self.moviename + ' created at ' +str(id(self)) +' estimated to be '+ self.budget\n",
    "    \n",
    "a = movie('KGF2')\n",
    "a.genre = 'Action'\n",
    "\n",
    "b = movie('RRR')\n",
    "b.genre = 'Romance'\n",
    "\n",
    "c = movie('KGF2')\n",
    "c.genre = 'Action'\n",
    "\n",
    "a.set_budget('100c')\n",
    "b.set_budget('80c')\n",
    "c.set_budget('60c')\n",
    "\n",
    "#print(a.__dict__)\n",
    "#print(a.__class__)\n",
    "#print(a.__class__.__name__)\n",
    "#print(a.__dir__())\n",
    "#print(dir(a))\n",
    "\n",
    "#if(hasattr(a, 'genre')):\n",
    "#    print('attrib genre exists')\n",
    "#    print(a.__delattr__('genre'))\n",
    "#if(hasattr(a, 'genre')):\n",
    "#    print('attrib genre exists')\n",
    "#    print(delattr(a,'genre'))\n",
    "\n",
    "\n",
    "#if(not hasattr(a,'rating')):\n",
    "#    print('Attribute Rating does not Exists')\n",
    "#    a.__setattr__('rating',9)\n",
    "#    print(\"Created Attribute Rating : \", hasattr(a, 'rating'))\n",
    "#    print('a.rating : ',a.rating)\n",
    "#    print(setattr(a,'rating',9))\n",
    "\n",
    "\n",
    "#print(\"Document String : \\n \", a.__doc__)\n",
    "\n",
    "print('compare a and b', a == b)\n",
    "print('compare a and c', a == c)\n",
    "\n",
    "print(a)\n",
    "print(a.__repr__())\n",
    "print(repr(a))\n",
    "\n",
    "\n",
    "\n"
   ]
  },
  {
   "cell_type": "code",
   "execution_count": null,
   "metadata": {},
   "outputs": [],
   "source": [
    "l = list()\n",
    "print(type(l))\n",
    "l = [1,2,3]\n",
    "print(type(l))"
   ]
  },
  {
   "cell_type": "markdown",
   "metadata": {},
   "source": [
    "Remember how we could call methods on a list?"
   ]
  },
  {
   "cell_type": "code",
   "execution_count": null,
   "metadata": {},
   "outputs": [],
   "source": [
    "l.count(2)"
   ]
  },
  {
   "cell_type": "markdown",
   "metadata": {},
   "source": [
    "What we will basically be doing in this lecture is exploring how we could create an Object type like a list. We've already learned about how to create functions. So lets explore Objects in general:\n",
    "\n",
    "### Objects\n",
    "In Python, *everything is an object*. Remember from previous lectures we can use type() to check the type of object something is:"
   ]
  },
  {
   "cell_type": "code",
   "execution_count": 31,
   "metadata": {},
   "outputs": [
    {
     "name": "stdout",
     "output_type": "stream",
     "text": [
      "<class 'int'>\n",
      "<class 'float'>\n",
      "<class 'complex'>\n",
      "<class 'list'>\n",
      "<class 'tuple'>\n",
      "<class 'dict'>\n",
      "<class 'set'>\n",
      "<class 'list'>\n",
      "<class 'dict'>\n",
      "False\n"
     ]
    }
   ],
   "source": [
    "print(type(1))\n",
    "print(type(1.0))\n",
    "print(type(1.0+2j))\n",
    "print(type([]))\n",
    "print(type(()))\n",
    "print(type({}))\n",
    "print(type(set()))\n",
    "print(type(list()))\n",
    "print(type(dict()))\n",
    "print(isinstance(1,int))\n"
   ]
  },
  {
   "cell_type": "markdown",
   "metadata": {},
   "source": [
    "So we know all these things are objects, so how can we create our own Object types? That is where the *class* keyword comes in.\n",
    "### class\n",
    "The user defined objects are created using the class keyword. The class is a blueprint that defines a nature of a future object. From classes we can construct instances. An instance is a specific object created from a particular class. For example, above we created the object 'l' which was an instance of a list object. \n",
    "\n",
    "Let see how we can use **class**:"
   ]
  },
  {
   "cell_type": "code",
   "execution_count": null,
   "metadata": {},
   "outputs": [],
   "source": [
    "# Create a new object type called Sample\n",
    "class Sample:\n",
    "    pass\n",
    "\n",
    "# Instance of Sample\n",
    "x = Sample()\n",
    "print(x, type(x))\n",
    "#create another instance\n",
    "y= Sample()\n",
    "print(y, type(y))\n",
    "\n",
    "class humanbeing(object):\n",
    "    pass\n",
    "\n",
    "persona = humanbeing()\n",
    "personb = humanbeing()\n",
    "\n",
    "persona.name = \"raj\"\n",
    "personb.name = \"priya\"\n",
    "\n",
    "print(persona)\n",
    "print(persona.name)\n",
    "\n",
    "print(personb)\n",
    "print(personb.name)"
   ]
  },
  {
   "cell_type": "markdown",
   "metadata": {},
   "source": [
    "By convention we give classes a name that starts with a capital letter. Note how x is now the reference to our new instance of a Sample class. In other words, we **instantiate** the Sample class.\n",
    "\n",
    "Inside of the class we currently just have pass. But we can define class attributes and methods.\n",
    "\n",
    "An **attribute** is a characteristic of an object.\n",
    "A **method** is an operation we can perform with the object.\n",
    "\n",
    "For example we can create a class called Dog. An attribute of a dog may be its breed or its name, while a method of a dog may be defined by a .bark() method which returns a sound.\n",
    "\n",
    "Let's get a better understanding of attributes through an example.\n"
   ]
  },
  {
   "cell_type": "code",
   "execution_count": null,
   "metadata": {},
   "outputs": [],
   "source": []
  },
  {
   "cell_type": "markdown",
   "metadata": {},
   "source": [
    "###  Attributes/Properties\n",
    "The syntax for creating an attribute is:\n",
    "    \n",
    "    self.attribute = something\n",
    "    \n",
    "\n",
    " attribute can be any property that we wish to give for the dog class..\n",
    " \n",
    "There is a special method called:\n",
    "\n",
    "    __init__()\n",
    "This init method is also called as constructor, the advantage of using init/constructor is that it's is used to initialize attributes to objecs at the time of creating the instance/object\n",
    "\n",
    "This method is used to initialize the attributes of an object. For example:"
   ]
  },
  {
   "cell_type": "code",
   "execution_count": 73,
   "metadata": {},
   "outputs": [
    {
     "name": "stdout",
     "output_type": "stream",
     "text": [
      "<__main__.Parrot object at 0x000001F5E93ABB20>\n",
      "<__main__.Parrot object at 0x000001F5E93ABD00>\n",
      "############ Tweetie.fly, Tweetie.Name Tweetie.Lang #############\n",
      "Fly Status :  False Parrot Name :  a Parrot Language : English\n",
      "########### Tweetie1.fly ##############\n",
      "Fly Status True\n",
      "Parrot color :  Green\n",
      "<__main__.Parrot object at 0x000001F5E93A8A00>\n",
      "######### Tweetie3.language ################\n",
      "Language , Flystatus  is :  Tamil False\n",
      "<__main__.Parrot object at 0x000001F5E93A90C0>\n",
      "######### Tweetie4.fly) ################\n",
      "False\n"
     ]
    }
   ],
   "source": [
    "class Parrot(object):\n",
    "    Color = \"Green\"\n",
    "    def __init__(self,flyStatus = False, lang=\"English\"):\n",
    "        print(self)\n",
    "        self.fly = flyStatus\n",
    "        self.language = lang\n",
    "  \n",
    "Tweetie = Parrot()\n",
    "Tweetie1 = Parrot(True, \"Hindi\")\n",
    "\n",
    "Tweetie1.fly = True\n",
    "Tweetie.Name = \"a\"\n",
    "#Tweetie1.Name = \"b\"\n",
    "\n",
    "print(\"############ Tweetie.fly, Tweetie.Name Tweetie.Lang #############\")\n",
    "print(\"Fly Status : \", Tweetie.fly, \"Parrot Name : \", Tweetie.Name, \"Parrot Language :\",Tweetie.language)\n",
    "print(\"########### Tweetie1.fly ##############\")\n",
    "\n",
    "print(\"Fly Status\",Tweetie1.fly)\n",
    "#print(Tweetie.Color, Tweetie1.Color, Tweetie3.Color, Tweetie4.Color)\n",
    "print(\"Parrot color : \",Tweetie.Color)\n",
    "\n",
    "Tweetie3 = Parrot(lang=\"Tamil\")\n",
    "print(\"######### Tweetie3.language ################\")\n",
    "\n",
    "print(\"Language , Flystatus  is : \",Tweetie3.language, Tweetie3.fly)\n",
    "\n",
    "Tweetie4 = Parrot(flyStatus=False)\n",
    "print(\"######### Tweetie4.fly) ################\")\n",
    "print(Tweetie4.fly)\n",
    "\n"
   ]
  },
  {
   "cell_type": "code",
   "execution_count": 81,
   "metadata": {
    "scrolled": true
   },
   "outputs": [
    {
     "name": "stdout",
     "output_type": "stream",
     "text": [
      "<__main__.Parrot object at 0x000001F5E93AA080>\n",
      "True\n",
      "Blue\n"
     ]
    }
   ],
   "source": [
    "a = Parrot()\n",
    "a.Color  = 'Blue'\n",
    "print(hasattr(a,'Color'))\n",
    "print(a.Color)"
   ]
  },
  {
   "cell_type": "code",
   "execution_count": 75,
   "metadata": {},
   "outputs": [
    {
     "data": {
      "text/plain": [
       "['Color',\n",
       " '__class__',\n",
       " '__delattr__',\n",
       " '__dict__',\n",
       " '__dir__',\n",
       " '__doc__',\n",
       " '__eq__',\n",
       " '__format__',\n",
       " '__ge__',\n",
       " '__getattribute__',\n",
       " '__gt__',\n",
       " '__hash__',\n",
       " '__init__',\n",
       " '__init_subclass__',\n",
       " '__le__',\n",
       " '__lt__',\n",
       " '__module__',\n",
       " '__ne__',\n",
       " '__new__',\n",
       " '__reduce__',\n",
       " '__reduce_ex__',\n",
       " '__repr__',\n",
       " '__setattr__',\n",
       " '__sizeof__',\n",
       " '__str__',\n",
       " '__subclasshook__',\n",
       " '__weakref__',\n",
       " 'fly',\n",
       " 'language']"
      ]
     },
     "execution_count": 75,
     "metadata": {},
     "output_type": "execute_result"
    }
   ],
   "source": [
    "dir(a)"
   ]
  },
  {
   "cell_type": "code",
   "execution_count": 82,
   "metadata": {},
   "outputs": [],
   "source": [
    "Parrot.Color = 'Red'"
   ]
  },
  {
   "cell_type": "code",
   "execution_count": 83,
   "metadata": {},
   "outputs": [
    {
     "data": {
      "text/plain": [
       "'Red'"
      ]
     },
     "execution_count": 83,
     "metadata": {},
     "output_type": "execute_result"
    }
   ],
   "source": [
    "a.Color"
   ]
  },
  {
   "cell_type": "markdown",
   "metadata": {},
   "source": [
    "create 100 parrots dynamically such that every third parrot is unable to fly"
   ]
  },
  {
   "cell_type": "code",
   "execution_count": 27,
   "metadata": {},
   "outputs": [],
   "source": [
    "class movie():\n",
    "    pass\n",
    "    def __str__(self):\n",
    "        return f\"I am a movie object at location : {id(self)}\"\n",
    "        "
   ]
  },
  {
   "cell_type": "code",
   "execution_count": 28,
   "metadata": {},
   "outputs": [
    {
     "name": "stdout",
     "output_type": "stream",
     "text": [
      "I am a movie object at location : 2377479160640\n"
     ]
    }
   ],
   "source": [
    "a = movie()\n",
    "print(a)"
   ]
  },
  {
   "cell_type": "code",
   "execution_count": 32,
   "metadata": {},
   "outputs": [
    {
     "name": "stdout",
     "output_type": "stream",
     "text": [
      "a parrot  object at : 0x2298cc1fb50 , fly : True , Language Tamil   - parrot id : 1\n",
      "a parrot  object at : 0x2298cc1d6f0 , fly : True , Language Tamil   - parrot id : 2\n",
      "a parrot  object at : 0x2298cc1fcd0 , fly : False , Language English   - parrot id : 3\n",
      "a parrot  object at : 0x2298cc1c0d0 , fly : True , Language Tamil   - parrot id : 4\n",
      "a parrot  object at : 0x2298cc1d390 , fly : True , Language Tamil   - parrot id : 5\n",
      "a parrot  object at : 0x2298cc1ffd0 , fly : False , Language English   - parrot id : 6\n",
      "a parrot  object at : 0x2298cc1d1e0 , fly : True , Language Tamil   - parrot id : 7\n",
      "a parrot  object at : 0x2298cc1e0b0 , fly : True , Language Tamil   - parrot id : 8\n",
      "a parrot  object at : 0x2298cc1f9d0 , fly : False , Language English   - parrot id : 9\n",
      "a parrot  object at : 0x2298cc36e00 , fly : True , Language Tamil   - parrot id : 10\n",
      "a parrot  object at : 0x2298cc35060 , fly : True , Language Tamil   - parrot id : 11\n",
      "a parrot  object at : 0x2298cc34ac0 , fly : False , Language English   - parrot id : 12\n",
      "a parrot  object at : 0x2298cc36aa0 , fly : True , Language Tamil   - parrot id : 13\n",
      "a parrot  object at : 0x2298cc357b0 , fly : True , Language Tamil   - parrot id : 14\n",
      "a parrot  object at : 0x2298cc34670 , fly : False , Language English   - parrot id : 15\n",
      "a parrot  object at : 0x2298baca350 , fly : True , Language Tamil   - parrot id : 16\n",
      "a parrot  object at : 0x2298baca2c0 , fly : True , Language Tamil   - parrot id : 17\n",
      "a parrot  object at : 0x2298baca1d0 , fly : False , Language English   - parrot id : 18\n",
      "a parrot  object at : 0x2298baca9b0 , fly : True , Language Tamil   - parrot id : 19\n",
      "a parrot  object at : 0x2298baca8c0 , fly : True , Language Tamil   - parrot id : 20\n",
      "a parrot  object at : 0x2298baca830 , fly : False , Language English   - parrot id : 21\n",
      "a parrot  object at : 0x2298baca980 , fly : True , Language Tamil   - parrot id : 22\n",
      "a parrot  object at : 0x2298baca320 , fly : True , Language Tamil   - parrot id : 23\n",
      "a parrot  object at : 0x2298baca9e0 , fly : False , Language English   - parrot id : 24\n",
      "a parrot  object at : 0x2298baca200 , fly : True , Language Tamil   - parrot id : 25\n",
      "a parrot  object at : 0x2298cc08af0 , fly : True , Language Tamil   - parrot id : 26\n",
      "a parrot  object at : 0x2298cc0bbe0 , fly : False , Language English   - parrot id : 27\n",
      "a parrot  object at : 0x2298cc08550 , fly : True , Language Tamil   - parrot id : 28\n",
      "a parrot  object at : 0x2298cc08e50 , fly : True , Language Tamil   - parrot id : 29\n",
      "a parrot  object at : 0x2298cc092a0 , fly : False , Language English   - parrot id : 30\n",
      "a parrot  object at : 0x2298cc0b190 , fly : True , Language Tamil   - parrot id : 31\n",
      "a parrot  object at : 0x2298cc0a4a0 , fly : True , Language Tamil   - parrot id : 32\n",
      "a parrot  object at : 0x2298cc094e0 , fly : False , Language English   - parrot id : 33\n",
      "a parrot  object at : 0x2298cc0a260 , fly : True , Language Tamil   - parrot id : 34\n",
      "a parrot  object at : 0x2298cc096c0 , fly : True , Language Tamil   - parrot id : 35\n",
      "a parrot  object at : 0x2298cc09240 , fly : False , Language English   - parrot id : 36\n",
      "a parrot  object at : 0x2298cc0be80 , fly : True , Language Tamil   - parrot id : 37\n",
      "a parrot  object at : 0x2298cc0a440 , fly : True , Language Tamil   - parrot id : 38\n",
      "a parrot  object at : 0x2298cc0aaa0 , fly : False , Language English   - parrot id : 39\n",
      "a parrot  object at : 0x2298bbd8160 , fly : True , Language Tamil   - parrot id : 40\n",
      "a parrot  object at : 0x2298bbdb850 , fly : True , Language Tamil   - parrot id : 41\n",
      "a parrot  object at : 0x2298badcca0 , fly : False , Language English   - parrot id : 42\n",
      "a parrot  object at : 0x2298badf760 , fly : True , Language Tamil   - parrot id : 43\n",
      "a parrot  object at : 0x2298baddfc0 , fly : True , Language Tamil   - parrot id : 44\n",
      "a parrot  object at : 0x2298badf7c0 , fly : False , Language English   - parrot id : 45\n",
      "a parrot  object at : 0x2298badf6a0 , fly : True , Language Tamil   - parrot id : 46\n",
      "a parrot  object at : 0x2298badf640 , fly : True , Language Tamil   - parrot id : 47\n",
      "a parrot  object at : 0x2298badf5e0 , fly : False , Language English   - parrot id : 48\n",
      "a parrot  object at : 0x2298badf580 , fly : True , Language Tamil   - parrot id : 49\n",
      "a parrot  object at : 0x2298badcf40 , fly : True , Language Tamil   - parrot id : 50\n",
      "a parrot  object at : 0x2298badca00 , fly : False , Language English   - parrot id : 51\n",
      "a parrot  object at : 0x2298badf9a0 , fly : True , Language Tamil   - parrot id : 52\n",
      "a parrot  object at : 0x2298badfc10 , fly : True , Language Tamil   - parrot id : 53\n",
      "a parrot  object at : 0x2298cce4ee0 , fly : False , Language English   - parrot id : 54\n",
      "a parrot  object at : 0x2298cbf26e0 , fly : True , Language Tamil   - parrot id : 55\n",
      "a parrot  object at : 0x2298cc4dfc0 , fly : True , Language Tamil   - parrot id : 56\n",
      "a parrot  object at : 0x2298cc4fb50 , fly : False , Language English   - parrot id : 57\n",
      "a parrot  object at : 0x2298cc4c550 , fly : True , Language Tamil   - parrot id : 58\n",
      "a parrot  object at : 0x2298cc4e590 , fly : True , Language Tamil   - parrot id : 59\n",
      "a parrot  object at : 0x2298cc4cd60 , fly : False , Language English   - parrot id : 60\n",
      "a parrot  object at : 0x2298cc4d8d0 , fly : True , Language Tamil   - parrot id : 61\n",
      "a parrot  object at : 0x2298cc4c6a0 , fly : True , Language Tamil   - parrot id : 62\n",
      "a parrot  object at : 0x2298b9f5330 , fly : False , Language English   - parrot id : 63\n",
      "a parrot  object at : 0x2298b9f47c0 , fly : True , Language Tamil   - parrot id : 64\n",
      "a parrot  object at : 0x2298b9f4cd0 , fly : True , Language Tamil   - parrot id : 65\n",
      "a parrot  object at : 0x2298b9f4310 , fly : False , Language English   - parrot id : 66\n",
      "a parrot  object at : 0x2298b9f5420 , fly : True , Language Tamil   - parrot id : 67\n",
      "a parrot  object at : 0x2298b9f5000 , fly : True , Language Tamil   - parrot id : 68\n",
      "a parrot  object at : 0x2298b9f4220 , fly : False , Language English   - parrot id : 69\n",
      "a parrot  object at : 0x2298b9f54b0 , fly : True , Language Tamil   - parrot id : 70\n",
      "a parrot  object at : 0x2298b9f4250 , fly : True , Language Tamil   - parrot id : 71\n",
      "a parrot  object at : 0x2298b9f4c70 , fly : False , Language English   - parrot id : 72\n",
      "a parrot  object at : 0x2298b9f5510 , fly : True , Language Tamil   - parrot id : 73\n",
      "a parrot  object at : 0x2298b9f4af0 , fly : True , Language Tamil   - parrot id : 74\n",
      "a parrot  object at : 0x2298b9f4df0 , fly : False , Language English   - parrot id : 75\n",
      "a parrot  object at : 0x2298b9f41c0 , fly : True , Language Tamil   - parrot id : 76\n",
      "a parrot  object at : 0x2298b9f5390 , fly : True , Language Tamil   - parrot id : 77\n",
      "a parrot  object at : 0x2298b9f4eb0 , fly : False , Language English   - parrot id : 78\n",
      "a parrot  object at : 0x2298b9f53c0 , fly : True , Language Tamil   - parrot id : 79\n",
      "a parrot  object at : 0x2298b9f49a0 , fly : True , Language Tamil   - parrot id : 80\n",
      "a parrot  object at : 0x2298b9f5240 , fly : False , Language English   - parrot id : 81\n",
      "a parrot  object at : 0x2298b9f5570 , fly : True , Language Tamil   - parrot id : 82\n",
      "a parrot  object at : 0x2298b9f4fd0 , fly : True , Language Tamil   - parrot id : 83\n",
      "a parrot  object at : 0x2298b9f4f70 , fly : False , Language English   - parrot id : 84\n",
      "a parrot  object at : 0x2298b9f5270 , fly : True , Language Tamil   - parrot id : 85\n",
      "a parrot  object at : 0x2298b9f5090 , fly : True , Language Tamil   - parrot id : 86\n",
      "a parrot  object at : 0x2298b9f4640 , fly : False , Language English   - parrot id : 87\n",
      "a parrot  object at : 0x2298b9f4f40 , fly : True , Language Tamil   - parrot id : 88\n",
      "a parrot  object at : 0x2298b9f5360 , fly : True , Language Tamil   - parrot id : 89\n",
      "a parrot  object at : 0x2298bb026b0 , fly : False , Language English   - parrot id : 90\n",
      "a parrot  object at : 0x2298bb01420 , fly : True , Language Tamil   - parrot id : 91\n",
      "a parrot  object at : 0x2298bb01150 , fly : True , Language Tamil   - parrot id : 92\n",
      "a parrot  object at : 0x2298bb03e50 , fly : False , Language English   - parrot id : 93\n",
      "a parrot  object at : 0x2298bb03760 , fly : True , Language Tamil   - parrot id : 94\n",
      "a parrot  object at : 0x2298bb03f40 , fly : True , Language Tamil   - parrot id : 95\n",
      "a parrot  object at : 0x2298bb033d0 , fly : False , Language English   - parrot id : 96\n",
      "a parrot  object at : 0x2298bb00730 , fly : True , Language Tamil   - parrot id : 97\n",
      "a parrot  object at : 0x2298bb01510 , fly : True , Language Tamil   - parrot id : 98\n",
      "a parrot  object at : 0x2298bb01120 , fly : False , Language English   - parrot id : 99\n",
      "########################################\n",
      "parrot no : 1   flying status is : True and language is : Malayalam\n",
      "parrot no : 2   flying status is : True and language is : Malayalam\n",
      "parrot no : 3   flying status is : False and language is : Tamil\n",
      "parrot no : 4   flying status is : True and language is : Malayalam\n",
      "parrot no : 5   flying status is : True and language is : Malayalam\n",
      "parrot no : 6   flying status is : False and language is : Tamil\n",
      "parrot no : 7   flying status is : True and language is : Malayalam\n",
      "parrot no : 8   flying status is : True and language is : Malayalam\n",
      "parrot no : 9   flying status is : False and language is : Tamil\n",
      "parrot no : 10   flying status is : True and language is : Malayalam\n",
      "parrot no : 11   flying status is : True and language is : Malayalam\n",
      "parrot no : 12   flying status is : False and language is : Tamil\n",
      "parrot no : 13   flying status is : True and language is : Malayalam\n",
      "parrot no : 14   flying status is : True and language is : Malayalam\n",
      "parrot no : 15   flying status is : False and language is : Tamil\n",
      "parrot no : 16   flying status is : True and language is : Malayalam\n",
      "parrot no : 17   flying status is : True and language is : Malayalam\n",
      "parrot no : 18   flying status is : False and language is : Tamil\n",
      "parrot no : 19   flying status is : True and language is : Malayalam\n",
      "parrot no : 20   flying status is : True and language is : Malayalam\n",
      "parrot no : 21   flying status is : False and language is : Tamil\n",
      "parrot no : 22   flying status is : True and language is : Malayalam\n",
      "parrot no : 23   flying status is : True and language is : Malayalam\n",
      "parrot no : 24   flying status is : False and language is : Tamil\n",
      "parrot no : 25   flying status is : True and language is : Malayalam\n",
      "parrot no : 26   flying status is : True and language is : Malayalam\n",
      "parrot no : 27   flying status is : False and language is : Tamil\n",
      "parrot no : 28   flying status is : True and language is : Malayalam\n",
      "parrot no : 29   flying status is : True and language is : Malayalam\n",
      "parrot no : 30   flying status is : False and language is : Tamil\n",
      "parrot no : 31   flying status is : True and language is : Malayalam\n",
      "parrot no : 32   flying status is : True and language is : Malayalam\n",
      "parrot no : 33   flying status is : False and language is : Tamil\n",
      "parrot no : 34   flying status is : True and language is : Malayalam\n",
      "parrot no : 35   flying status is : True and language is : Malayalam\n",
      "parrot no : 36   flying status is : False and language is : Tamil\n",
      "parrot no : 37   flying status is : True and language is : Malayalam\n",
      "parrot no : 38   flying status is : True and language is : Malayalam\n",
      "parrot no : 39   flying status is : False and language is : Tamil\n",
      "parrot no : 40   flying status is : True and language is : Malayalam\n",
      "parrot no : 41   flying status is : True and language is : Malayalam\n",
      "parrot no : 42   flying status is : False and language is : Tamil\n",
      "parrot no : 43   flying status is : True and language is : Malayalam\n",
      "parrot no : 44   flying status is : True and language is : Malayalam\n",
      "parrot no : 45   flying status is : False and language is : Tamil\n",
      "parrot no : 46   flying status is : True and language is : Malayalam\n",
      "parrot no : 47   flying status is : True and language is : Malayalam\n",
      "parrot no : 48   flying status is : False and language is : Tamil\n",
      "parrot no : 49   flying status is : True and language is : Malayalam\n",
      "parrot no : 50   flying status is : True and language is : Malayalam\n",
      "parrot no : 51   flying status is : False and language is : Tamil\n",
      "parrot no : 52   flying status is : True and language is : Malayalam\n",
      "parrot no : 53   flying status is : True and language is : Malayalam\n",
      "parrot no : 54   flying status is : False and language is : Tamil\n",
      "parrot no : 55   flying status is : True and language is : Malayalam\n",
      "parrot no : 56   flying status is : True and language is : Malayalam\n",
      "parrot no : 57   flying status is : False and language is : Tamil\n",
      "parrot no : 58   flying status is : True and language is : Malayalam\n",
      "parrot no : 59   flying status is : True and language is : Malayalam\n",
      "parrot no : 60   flying status is : False and language is : Tamil\n",
      "parrot no : 61   flying status is : True and language is : Malayalam\n",
      "parrot no : 62   flying status is : True and language is : Malayalam\n",
      "parrot no : 63   flying status is : False and language is : Tamil\n",
      "parrot no : 64   flying status is : True and language is : Malayalam\n",
      "parrot no : 65   flying status is : True and language is : Malayalam\n",
      "parrot no : 66   flying status is : False and language is : Tamil\n",
      "parrot no : 67   flying status is : True and language is : Malayalam\n",
      "parrot no : 68   flying status is : True and language is : Malayalam\n",
      "parrot no : 69   flying status is : False and language is : Tamil\n",
      "parrot no : 70   flying status is : True and language is : Malayalam\n",
      "parrot no : 71   flying status is : True and language is : Malayalam\n",
      "parrot no : 72   flying status is : False and language is : Tamil\n",
      "parrot no : 73   flying status is : True and language is : Malayalam\n",
      "parrot no : 74   flying status is : True and language is : Malayalam\n",
      "parrot no : 75   flying status is : False and language is : Tamil\n",
      "parrot no : 76   flying status is : True and language is : Malayalam\n",
      "parrot no : 77   flying status is : True and language is : Malayalam\n",
      "parrot no : 78   flying status is : False and language is : Tamil\n",
      "parrot no : 79   flying status is : True and language is : Malayalam\n",
      "parrot no : 80   flying status is : True and language is : Malayalam\n",
      "parrot no : 81   flying status is : False and language is : Tamil\n",
      "parrot no : 82   flying status is : True and language is : Malayalam\n",
      "parrot no : 83   flying status is : True and language is : Malayalam\n",
      "parrot no : 84   flying status is : False and language is : Tamil\n",
      "parrot no : 85   flying status is : True and language is : Malayalam\n",
      "parrot no : 86   flying status is : True and language is : Malayalam\n",
      "parrot no : 87   flying status is : False and language is : Tamil\n",
      "parrot no : 88   flying status is : True and language is : Malayalam\n",
      "parrot no : 89   flying status is : True and language is : Malayalam\n",
      "parrot no : 90   flying status is : False and language is : Tamil\n",
      "parrot no : 91   flying status is : True and language is : Malayalam\n",
      "parrot no : 92   flying status is : True and language is : Malayalam\n",
      "parrot no : 93   flying status is : False and language is : Tamil\n",
      "parrot no : 94   flying status is : True and language is : Malayalam\n",
      "parrot no : 95   flying status is : True and language is : Malayalam\n",
      "parrot no : 96   flying status is : False and language is : Tamil\n",
      "parrot no : 97   flying status is : True and language is : Malayalam\n",
      "parrot no : 98   flying status is : True and language is : Malayalam\n",
      "parrot no : 99   flying status is : False and language is : Tamil\n",
      "############################################\n"
     ]
    }
   ],
   "source": [
    "class parrot(object):\n",
    "    Color = \"Green\"\n",
    "    def __init__(this,flyStatus = True, lang=\"Tamil\"):\n",
    "        this.fly = flyStatus\n",
    "        this.language = lang\n",
    "        this.id = id(this)\n",
    "    def __str__(self):\n",
    "        return \"a parrot  object at : %s , fly : %s , Language %s \"%(hex(self.id), self.fly, self.language)\n",
    "        \n",
    "        \n",
    "\n",
    "\n",
    "list_parrots_100 = [] \n",
    "for x in range(1,100):\n",
    "    if(x%3 ==0): \n",
    "        temp_parrot = parrot(False, lang =\"English\")\n",
    "    else: \n",
    "        temp_parrot = parrot()\n",
    "    list_parrots_100.append(temp_parrot)\n",
    "    \n",
    "[print(list_parrots_100[x], ' - parrot id : %s'%(x+1)) for x in range(len(list_parrots_100))]\n",
    "print(\"########################################\")\n",
    "all_100_parrots = [parrot(False) if(x%3 ==0)  else parrot(True,\"Malayalam\") for x in range(1,100)]\n",
    "[print(\"parrot no :\", x+1, \"  flying status is :\", all_100_parrots[x].fly, \"and language is :\",all_100_parrots[x].language) for x in range(len(all_100_parrots))]\n",
    "print(\"############################################\")"
   ]
  },
  {
   "cell_type": "markdown",
   "metadata": {},
   "source": [
    "Do the above logic with list comprehension for constructing the parrots list"
   ]
  },
  {
   "cell_type": "code",
   "execution_count": 33,
   "metadata": {},
   "outputs": [
    {
     "name": "stdout",
     "output_type": "stream",
     "text": [
      "parrot no : 1   fly status is : True\n",
      "parrot no : 2   fly status is : True\n",
      "parrot no : 3   fly status is : False\n",
      "parrot no : 4   fly status is : True\n",
      "parrot no : 5   fly status is : True\n",
      "parrot no : 6   fly status is : False\n",
      "parrot no : 7   fly status is : True\n",
      "parrot no : 8   fly status is : True\n",
      "parrot no : 9   fly status is : False\n",
      "parrot no : 10   fly status is : True\n",
      "parrot no : 11   fly status is : True\n",
      "parrot no : 12   fly status is : False\n",
      "parrot no : 13   fly status is : True\n",
      "parrot no : 14   fly status is : True\n",
      "parrot no : 15   fly status is : False\n",
      "parrot no : 16   fly status is : True\n",
      "parrot no : 17   fly status is : True\n",
      "parrot no : 18   fly status is : False\n",
      "parrot no : 19   fly status is : True\n",
      "parrot no : 20   fly status is : True\n",
      "parrot no : 21   fly status is : False\n",
      "parrot no : 22   fly status is : True\n",
      "parrot no : 23   fly status is : True\n",
      "parrot no : 24   fly status is : False\n",
      "parrot no : 25   fly status is : True\n",
      "parrot no : 26   fly status is : True\n",
      "parrot no : 27   fly status is : False\n",
      "parrot no : 28   fly status is : True\n",
      "parrot no : 29   fly status is : True\n",
      "parrot no : 30   fly status is : False\n",
      "parrot no : 31   fly status is : True\n",
      "parrot no : 32   fly status is : True\n",
      "parrot no : 33   fly status is : False\n",
      "parrot no : 34   fly status is : True\n",
      "parrot no : 35   fly status is : True\n",
      "parrot no : 36   fly status is : False\n",
      "parrot no : 37   fly status is : True\n",
      "parrot no : 38   fly status is : True\n",
      "parrot no : 39   fly status is : False\n",
      "parrot no : 40   fly status is : True\n",
      "parrot no : 41   fly status is : True\n",
      "parrot no : 42   fly status is : False\n",
      "parrot no : 43   fly status is : True\n",
      "parrot no : 44   fly status is : True\n",
      "parrot no : 45   fly status is : False\n",
      "parrot no : 46   fly status is : True\n",
      "parrot no : 47   fly status is : True\n",
      "parrot no : 48   fly status is : False\n",
      "parrot no : 49   fly status is : True\n",
      "parrot no : 50   fly status is : True\n",
      "parrot no : 51   fly status is : False\n",
      "parrot no : 52   fly status is : True\n",
      "parrot no : 53   fly status is : True\n",
      "parrot no : 54   fly status is : False\n",
      "parrot no : 55   fly status is : True\n",
      "parrot no : 56   fly status is : True\n",
      "parrot no : 57   fly status is : False\n",
      "parrot no : 58   fly status is : True\n",
      "parrot no : 59   fly status is : True\n",
      "parrot no : 60   fly status is : False\n",
      "parrot no : 61   fly status is : True\n",
      "parrot no : 62   fly status is : True\n",
      "parrot no : 63   fly status is : False\n",
      "parrot no : 64   fly status is : True\n",
      "parrot no : 65   fly status is : True\n",
      "parrot no : 66   fly status is : False\n",
      "parrot no : 67   fly status is : True\n",
      "parrot no : 68   fly status is : True\n",
      "parrot no : 69   fly status is : False\n",
      "parrot no : 70   fly status is : True\n",
      "parrot no : 71   fly status is : True\n",
      "parrot no : 72   fly status is : False\n",
      "parrot no : 73   fly status is : True\n",
      "parrot no : 74   fly status is : True\n",
      "parrot no : 75   fly status is : False\n",
      "parrot no : 76   fly status is : True\n",
      "parrot no : 77   fly status is : True\n",
      "parrot no : 78   fly status is : False\n",
      "parrot no : 79   fly status is : True\n",
      "parrot no : 80   fly status is : True\n",
      "parrot no : 81   fly status is : False\n",
      "parrot no : 82   fly status is : True\n",
      "parrot no : 83   fly status is : True\n",
      "parrot no : 84   fly status is : False\n",
      "parrot no : 85   fly status is : True\n",
      "parrot no : 86   fly status is : True\n",
      "parrot no : 87   fly status is : False\n",
      "parrot no : 88   fly status is : True\n",
      "parrot no : 89   fly status is : True\n",
      "parrot no : 90   fly status is : False\n",
      "parrot no : 91   fly status is : True\n",
      "parrot no : 92   fly status is : True\n",
      "parrot no : 93   fly status is : False\n",
      "parrot no : 94   fly status is : True\n",
      "parrot no : 95   fly status is : True\n",
      "parrot no : 96   fly status is : False\n",
      "parrot no : 97   fly status is : True\n",
      "parrot no : 98   fly status is : True\n",
      "parrot no : 99   fly status is : False\n"
     ]
    },
    {
     "data": {
      "text/plain": [
       "[None,\n",
       " None,\n",
       " None,\n",
       " None,\n",
       " None,\n",
       " None,\n",
       " None,\n",
       " None,\n",
       " None,\n",
       " None,\n",
       " None,\n",
       " None,\n",
       " None,\n",
       " None,\n",
       " None,\n",
       " None,\n",
       " None,\n",
       " None,\n",
       " None,\n",
       " None,\n",
       " None,\n",
       " None,\n",
       " None,\n",
       " None,\n",
       " None,\n",
       " None,\n",
       " None,\n",
       " None,\n",
       " None,\n",
       " None,\n",
       " None,\n",
       " None,\n",
       " None,\n",
       " None,\n",
       " None,\n",
       " None,\n",
       " None,\n",
       " None,\n",
       " None,\n",
       " None,\n",
       " None,\n",
       " None,\n",
       " None,\n",
       " None,\n",
       " None,\n",
       " None,\n",
       " None,\n",
       " None,\n",
       " None,\n",
       " None,\n",
       " None,\n",
       " None,\n",
       " None,\n",
       " None,\n",
       " None,\n",
       " None,\n",
       " None,\n",
       " None,\n",
       " None,\n",
       " None,\n",
       " None,\n",
       " None,\n",
       " None,\n",
       " None,\n",
       " None,\n",
       " None,\n",
       " None,\n",
       " None,\n",
       " None,\n",
       " None,\n",
       " None,\n",
       " None,\n",
       " None,\n",
       " None,\n",
       " None,\n",
       " None,\n",
       " None,\n",
       " None,\n",
       " None,\n",
       " None,\n",
       " None,\n",
       " None,\n",
       " None,\n",
       " None,\n",
       " None,\n",
       " None,\n",
       " None,\n",
       " None,\n",
       " None,\n",
       " None,\n",
       " None,\n",
       " None,\n",
       " None,\n",
       " None,\n",
       " None,\n",
       " None,\n",
       " None,\n",
       " None,\n",
       " None]"
      ]
     },
     "execution_count": 33,
     "metadata": {},
     "output_type": "execute_result"
    }
   ],
   "source": [
    "class parrot_greens(object):\n",
    "    Color = \"Green\"\n",
    "    def __init__(self,parrot_no, lang=\"Tamil\"):\n",
    "        if(parrot_no %3 == 0 ):\n",
    "            self.fly = False\n",
    "        else: \n",
    "            self.fly = True\n",
    "        self.language = lang\n",
    "\n",
    "list_parrots_100 = [] \n",
    "for x in range(1,100):\n",
    "    temp_parrot = parrot_greens(x)\n",
    "    list_parrots_100.append(temp_parrot)\n",
    "\n",
    "[print(\"parrot no :\", x+1, \"  fly status is :\", list_parrots_100[x].fly) for x in range(len(list_parrots_100))]\n"
   ]
  },
  {
   "cell_type": "code",
   "execution_count": 36,
   "metadata": {},
   "outputs": [
    {
     "name": "stdout",
     "output_type": "stream",
     "text": [
      "Lab\n",
      "height of  Lab  is  10\n",
      "Printing the Dog Data\n",
      "Lab\n",
      "height of  Lab  is  10\n",
      "###################################\n",
      "Huskie\n",
      "Dashound\n",
      "############## weights of dogs #####################\n",
      "100\n",
      "65\n"
     ]
    }
   ],
   "source": [
    "class Dog(object):\n",
    "    \n",
    "    def __init__(self,breed):\n",
    "        self.breed = breed\n",
    "        \n",
    "    def printbreed(self):\n",
    "        print(self.breed)\n",
    "    \n",
    "    def setheight(self,x=10):\n",
    "        self.height = x\n",
    "   \n",
    "    def printheight(self):\n",
    "        print(\"height of \",self.breed ,\" is \",self.height)\n",
    "        \n",
    "    def changebreed(self,breedname=\"Rotweiler\"):\n",
    "        self.breed = breedname\n",
    "    \n",
    "    def SetWeight(self):\n",
    "        self.weight = 100\n",
    "    \n",
    "    def printdog(self):\n",
    "        print(\"Printing the Dog Data\")\n",
    "        self.printbreed()\n",
    "        self.printheight()\n",
    "       \n",
    "    \n",
    "#x = Dog()\n",
    "sam = Dog(breed='Lab')\n",
    "sam.printbreed()\n",
    "sam.setheight()\n",
    "sam.printheight()\n",
    "sam.printdog()\n",
    "print(\"###################################\")\n",
    "frank = Dog(breed='Huskie')\n",
    "frank.printbreed()\n",
    "\n",
    "frank.changebreed(\"Dashound\")\n",
    "frank.printbreed()\n",
    "\n",
    "print(\"############## weights of dogs #####################\")\n",
    "sam.SetWeight()\n",
    "print(sam.weight)\n",
    "frank.weight =65\n",
    "print(frank.weight)"
   ]
  },
  {
   "cell_type": "markdown",
   "metadata": {},
   "source": [
    "Lets break down what we have above.The special method \n",
    "\n",
    "    __init__() \n",
    "is called automatically right after the object has been created:\n",
    "\n",
    "    def __init__(self, breed):\n",
    "Each attribute in a class definition begins with a reference to the instance object. It is by convention named self. The breed is the argument. The value is passed during the class instantiation.\n",
    "\n",
    "     self.breed = breed"
   ]
  },
  {
   "cell_type": "markdown",
   "metadata": {},
   "source": [
    "Now we have created two instances of the Dog class. With two breed types, we can then access these attributes like this:"
   ]
  },
  {
   "cell_type": "code",
   "execution_count": null,
   "metadata": {},
   "outputs": [],
   "source": [
    "sam.breed"
   ]
  },
  {
   "cell_type": "code",
   "execution_count": null,
   "metadata": {},
   "outputs": [],
   "source": [
    "frank.breed\n"
   ]
  },
  {
   "cell_type": "code",
   "execution_count": null,
   "metadata": {},
   "outputs": [],
   "source": [
    "frank.changebreed()"
   ]
  },
  {
   "cell_type": "code",
   "execution_count": null,
   "metadata": {},
   "outputs": [],
   "source": [
    "frank.breed"
   ]
  },
  {
   "cell_type": "markdown",
   "metadata": {},
   "source": [
    "Note how we don't have any parenthesis after breed, this is because it is an attribute and doesn't take any arguments.\n",
    "\n",
    "In Python there are also *class object attributes*. These Class Object Attributes are the same for any instance of the class. For example, we could create the attribute *species* for the Dog class. Dogs (regardless of their breed,name, or other attributes will always be mammals. We apply this logic in the following manner:"
   ]
  },
  {
   "cell_type": "code",
   "execution_count": null,
   "metadata": {},
   "outputs": [],
   "source": [
    "class Dog():\n",
    "    \n",
    "    # Class Object Attribute\n",
    "    species = 'mammal'\n",
    "    def __init__(self,breed,name):\n",
    "        self.breed = breed\n",
    "        self.name = name"
   ]
  },
  {
   "cell_type": "code",
   "execution_count": null,
   "metadata": {},
   "outputs": [],
   "source": [
    "#frank = Dog('Rotweiler')\n",
    "sam = Dog('Lab','Sam')\n",
    "sam1 = Dog('Lab1','Sam12')\n"
   ]
  },
  {
   "cell_type": "code",
   "execution_count": null,
   "metadata": {},
   "outputs": [],
   "source": [
    "sam.name"
   ]
  },
  {
   "cell_type": "markdown",
   "metadata": {},
   "source": [
    "Note that the Class Object Attribute is defined outside of any methods in the class. Also by convention, we place them first before the init."
   ]
  },
  {
   "cell_type": "code",
   "execution_count": null,
   "metadata": {},
   "outputs": [],
   "source": [
    "sam.species"
   ]
  },
  {
   "cell_type": "code",
   "execution_count": null,
   "metadata": {},
   "outputs": [],
   "source": [
    "Dog.species"
   ]
  },
  {
   "cell_type": "code",
   "execution_count": null,
   "metadata": {},
   "outputs": [],
   "source": [
    "sam1.species"
   ]
  },
  {
   "cell_type": "code",
   "execution_count": null,
   "metadata": {},
   "outputs": [],
   "source": [
    "Dog.name"
   ]
  },
  {
   "cell_type": "markdown",
   "metadata": {},
   "source": [
    "## Methods\n",
    "\n",
    "Methods are functions defined inside the body of a class. They are used to perform operations with the attributes of our objects. Methods are essential in encapsulation concept of the OOP paradigm. This is essential in dividing responsibilities in programming, especially in large applications.\n",
    "\n",
    "You can basically think of methods as functions acting on an Object that take the Object itself into account through its *self* argument.\n",
    "\n",
    "Lets go through an example of creating a Circle class:"
   ]
  },
  {
   "cell_type": "code",
   "execution_count": 39,
   "metadata": {},
   "outputs": [
    {
     "name": "stdout",
     "output_type": "stream",
     "text": [
      "10\n",
      "##########################\n"
     ]
    },
    {
     "ename": "AttributeError",
     "evalue": "'Circle' object has no attribute '__radius'",
     "output_type": "error",
     "traceback": [
      "\u001b[1;31m---------------------------------------------------------------------------\u001b[0m",
      "\u001b[1;31mAttributeError\u001b[0m                            Traceback (most recent call last)",
      "Input \u001b[1;32mIn [39]\u001b[0m, in \u001b[0;36m<cell line: 32>\u001b[1;34m()\u001b[0m\n\u001b[0;32m     28\u001b[0m \u001b[38;5;66;03m#c.radius = 20\u001b[39;00m\n\u001b[0;32m     29\u001b[0m \u001b[38;5;66;03m#print(c.radius)\u001b[39;00m\n\u001b[0;32m     30\u001b[0m \u001b[38;5;66;03m#setRadius()__\u001b[39;00m\n\u001b[0;32m     31\u001b[0m c\u001b[38;5;241m.\u001b[39msetRadius(\u001b[38;5;241m25\u001b[39m)\n\u001b[1;32m---> 32\u001b[0m \u001b[43mc\u001b[49m\u001b[38;5;241;43m.\u001b[39;49m\u001b[43m__radius\u001b[49m\n\u001b[0;32m     33\u001b[0m \u001b[38;5;66;03m#print(c.radius)\u001b[39;00m\n\u001b[0;32m     34\u001b[0m \u001b[38;5;66;03m#print(c._myradius)\u001b[39;00m\n\u001b[0;32m     35\u001b[0m \u001b[38;5;28mprint\u001b[39m(\u001b[38;5;124m'\u001b[39m\u001b[38;5;124mRadius is: \u001b[39m\u001b[38;5;132;01m{}\u001b[39;00m\u001b[38;5;124m \u001b[39m\u001b[38;5;124m'\u001b[39m\u001b[38;5;241m.\u001b[39mformat(c\u001b[38;5;241m.\u001b[39mgetRadius()))\n",
      "\u001b[1;31mAttributeError\u001b[0m: 'Circle' object has no attribute '__radius'"
     ]
    }
   ],
   "source": [
    "class Circle(object):\n",
    "    pi = 3.14\n",
    "\n",
    "    # Circle get instantiated with a radius (default is 1)\n",
    "    def __init__(self, radius=1):\n",
    "        self.__radius = radius \n",
    "        self._myradius = radius\n",
    "\n",
    "    # Area method calculates the area. Note the use of self.\n",
    "    def area(self):\n",
    "        return self.__radius * self.__radius * Circle.pi\n",
    "\n",
    "    # Method for resetting Radius\n",
    "    def setRadius(self, radius):\n",
    "        self.__radius = radius\n",
    "\n",
    "    # Method for getting radius (Same as just calling .radius)\n",
    "    def getRadius(self):\n",
    "        print(self.__radius)\n",
    "        #print(self._myradius)\n",
    "        return self.__radius\n",
    "    #def getRadius(self):\n",
    "\n",
    "\n",
    "c = Circle(10)\n",
    "print(c._Circle__radius)\n",
    "print(\"##########################\")\n",
    "#c.radius = 20\n",
    "#print(c.radius)\n",
    "#setRadius()__\n",
    "c.setRadius(25)\n",
    "c.__radius\n",
    "#print(c.radius)\n",
    "#print(c._myradius)\n",
    "print('Radius is: {} '.format(c.getRadius()))\n",
    "print(\"##########################\")\n",
    "print('Area is: {}'.format(c.area()))\n",
    "print(\"##########################\")"
   ]
  },
  {
   "cell_type": "markdown",
   "metadata": {},
   "source": [
    "Great! Notice how we used self. notation to reference attributes of the class within the method calls. Review how the code above works and try creating your own method\n",
    "\n",
    "## Inheritance\n",
    "\n",
    "Inheritance is a way to form new classes using classes that have already been defined. The newly formed classes are called derived classes, the classes that we derive from are called base classes. Important benefits of inheritance are code reuse and reduction of complexity of a program. The derived classes (descendants) override or extend the functionality of base classes (ancestors).\n",
    "\n",
    "Lets see an example by incorporating our previous work on the Dog class:"
   ]
  },
  {
   "cell_type": "code",
   "execution_count": 40,
   "metadata": {},
   "outputs": [
    {
     "name": "stdout",
     "output_type": "stream",
     "text": [
      "4\n",
      "2\n",
      "8\n"
     ]
    }
   ],
   "source": [
    "class automobile:\n",
    "    def __init__(self):\n",
    "        pass\n",
    "    def setno_wheels(self, total_wheels):\n",
    "        self.wheel_count = total_wheels\n",
    "    def getno_wheels(self):\n",
    "        return self.wheel_count\n",
    "        \n",
    "class car(automobile):\n",
    "    def __init__(self):\n",
    "        pass\n",
    "class bike(automobile):\n",
    "    def __init__(self):\n",
    "        pass\n",
    "class aeroplane(automobile):\n",
    "    def __init__(self):\n",
    "        pass\n",
    "    \n",
    "car1 = car()\n",
    "bike1 =bike()\n",
    "aeroplane1 = aeroplane()\n",
    "\n",
    "car1.setno_wheels(4)\n",
    "bike1.setno_wheels(2)\n",
    "aeroplane1.setno_wheels(8)\n",
    "\n",
    "print(car1.getno_wheels())\n",
    "print(bike1.getno_wheels())\n",
    "print(aeroplane1.getno_wheels())"
   ]
  },
  {
   "cell_type": "markdown",
   "metadata": {},
   "source": [
    "#### Multilevel inheritance"
   ]
  },
  {
   "cell_type": "code",
   "execution_count": 41,
   "metadata": {},
   "outputs": [
    {
     "name": "stdout",
     "output_type": "stream",
     "text": [
      "Yamaha\n",
      "KTM\n",
      "RoyalEnfield\n"
     ]
    }
   ],
   "source": [
    "class automobile:\n",
    "    def __init__(self):\n",
    "        pass\n",
    "    def setno_wheels(self, total_wheels):\n",
    "        self.wheel_count = total_wheels\n",
    "    def getno_wheels(self):\n",
    "        return self.wheel_count\n",
    "        \n",
    "class car(automobile):\n",
    "    def __init__(self):\n",
    "        pass\n",
    "    def set_noofairbags(self, airbagcount = 1):\n",
    "        self.set_airbags = airbagcount\n",
    "        \n",
    "\n",
    "class bike(automobile):\n",
    "    def __init__(self):\n",
    "        pass\n",
    "    def set_fueltype(self,fueltype = 'petrol'):\n",
    "        self.fueltype = fueltype\n",
    "    \n",
    "class aeroplane(automobile):\n",
    "    def __init__(self):\n",
    "        pass\n",
    "\n",
    "class Yamaha(bike):\n",
    "    def __init__(self):\n",
    "        self.brandname = type(self).__name__\n",
    "    def set_color(self, colorname):\n",
    "        self.color = colorname\n",
    "    \n",
    "class RoyalEnfield(bike):\n",
    "    def __init__(self):\n",
    "        self.brandname = type(self).__name__\n",
    "        \n",
    "    def set_color(self, colorname):\n",
    "        self.color = colorname\n",
    "    \n",
    "class KTM(bike):\n",
    "    def __init__(self):\n",
    "        self.brandname = type(self).__name__\n",
    "        \n",
    "    def set_color(self, colorname):\n",
    "        self.color = colorname\n",
    "    \n",
    "yamaha_bike1 = Yamaha()\n",
    "yamaha_bike1.setno_wheels(2)\n",
    "print(yamaha_bike1.brandname)\n",
    "\n",
    "Duke_bike1 = KTM()\n",
    "Duke_bike1.setno_wheels(2)\n",
    "print(Duke_bike1.brandname)\n",
    "\n",
    "classic_350 = RoyalEnfield()\n",
    "classic_350.setno_wheels(2)\n",
    "print(classic_350.brandname)\n"
   ]
  },
  {
   "cell_type": "markdown",
   "metadata": {},
   "source": [
    "#### Multiple Inheritance"
   ]
  },
  {
   "cell_type": "code",
   "execution_count": 4,
   "metadata": {},
   "outputs": [
    {
     "name": "stdout",
     "output_type": "stream",
     "text": [
      "Yamaha: 2159840743328\n",
      "KTM: 2159840750864\n"
     ]
    },
    {
     "ename": "AttributeError",
     "evalue": "'RoyalEnfield' object has no attribute 'setno_wheels1'",
     "output_type": "error",
     "traceback": [
      "\u001b[1;31m---------------------------------------------------------------------------\u001b[0m",
      "\u001b[1;31mAttributeError\u001b[0m                            Traceback (most recent call last)",
      "Input \u001b[1;32mIn [4]\u001b[0m, in \u001b[0;36m<cell line: 109>\u001b[1;34m()\u001b[0m\n\u001b[0;32m    106\u001b[0m \u001b[38;5;28mprint\u001b[39m(Duke_bike1)\n\u001b[0;32m    108\u001b[0m classic_350_bike1 \u001b[38;5;241m=\u001b[39m RoyalEnfield()\n\u001b[1;32m--> 109\u001b[0m \u001b[43mclassic_350_bike1\u001b[49m\u001b[38;5;241;43m.\u001b[39;49m\u001b[43msetno_wheels1\u001b[49m(\u001b[38;5;241m2\u001b[39m)\n\u001b[0;32m    110\u001b[0m \u001b[38;5;28mprint\u001b[39m(classic_350_bike1)\n\u001b[0;32m    111\u001b[0m \u001b[38;5;28mprint\u001b[39m(classic_350_bike1\u001b[38;5;241m.\u001b[39mbrandname)\n",
      "\u001b[1;31mAttributeError\u001b[0m: 'RoyalEnfield' object has no attribute 'setno_wheels1'"
     ]
    }
   ],
   "source": [
    "class automobile():\n",
    "    \n",
    "    def __init__(this):\n",
    "        this.engineid = id(this)\n",
    "    \n",
    "\n",
    "class Manfacturing(automobile):\n",
    "    def __init__(self):\n",
    "        super().__init__()\n",
    "        pass\n",
    "    \n",
    "    def enginetype(self):\n",
    "        return self.enginetype\n",
    "    \n",
    "    def geartype(self):\n",
    "        return self.geartype\n",
    "\n",
    "    def setno_wheels(self, total_wheels):\n",
    "        self.wheel_count = total_wheels\n",
    "    \n",
    "    def getno_wheels(self):\n",
    "        return self.wheel_count\n",
    "\n",
    "    \n",
    "class Marketing():\n",
    "    def __init__(self):\n",
    "        super().__init__()\n",
    "        pass\n",
    "    \n",
    "    def set_wheel_brand(self, wheel_brand = 'MRF'):\n",
    "        self.wheel_brand = wheel_brand\n",
    "    \n",
    "    def get_wheel_brand(self):\n",
    "        return self.wheel_brand\n",
    "    \n",
    "    def set_model_year(self, year):\n",
    "        self.model_year = year\n",
    "    \n",
    "    def get_model_year(self, year):\n",
    "        return self.model_year\n",
    "    \n",
    "    def set_price(self):\n",
    "        self.price =  100\n",
    "        \n",
    "    def get_price(self):\n",
    "        return self.price\n",
    "    \n",
    "class car(Manfacturing,Marketing):\n",
    "    def __init__(self):\n",
    "        super().__init__()\n",
    "        pass\n",
    "\n",
    "class bike(Marketing,Manfacturing):\n",
    "    def __init__(self):\n",
    "        super().__init__()\n",
    "        pass\n",
    "    def __str__(this):\n",
    "        return type(this).__name__ + \": \" + str(this.engineid)\n",
    "    \n",
    "class aeroplane(Manfacturing,Marketing):\n",
    "    def __init__(self):\n",
    "        super().__init__()\n",
    "        pass\n",
    "\n",
    "class Yamaha(bike):\n",
    "    def __init__(self):\n",
    "        self.brandname = type(self).__name__\n",
    "        super().__init__()\n",
    "    def set_color(self, colorname):\n",
    "        self.color = colorname\n",
    "    def __str__(this):\n",
    "        return type(this).__name__ + \": \" + str(this.engineid)\n",
    "    \n",
    "class RoyalEnfield(bike):\n",
    "    def __init__(self):\n",
    "        self.brandname = type(self).__name__\n",
    "        super().__init__()\n",
    "        \n",
    "    def set_color(self, colorname):\n",
    "        self.color = colorname\n",
    "    \n",
    "    def __str__(this):\n",
    "        return type(this).__name__ + \": \" + str(this.engineid)\n",
    "    \n",
    "class KTM(bike):\n",
    "    def __init__(self):\n",
    "        self.brandname = type(self).__name__\n",
    "        super().__init__()\n",
    "        \n",
    "    def set_color(self, colorname):\n",
    "        self.color = colorname\n",
    "    \n",
    "    def __str__(this):\n",
    "        return type(this).__name__ + \": \"+ str(this.engineid)\n",
    "        \n",
    "yamaha_bike1 = Yamaha()\n",
    "yamaha_bike1.setno_wheels(2)\n",
    "yamaha_bike1.set_model_year(2022)\n",
    "yamaha_bike1.set_wheel_brand('Michellin')\n",
    "print(yamaha_bike1)\n",
    "\n",
    "Duke_bike1 = KTM()\n",
    "Duke_bike1.setno_wheels(2)\n",
    "Duke_bike1.set_model_year(2021)\n",
    "Duke_bike1.set_wheel_brand('MRF')\n",
    "print(Duke_bike1)\n",
    "\n",
    "classic_350_bike1 = RoyalEnfield()\n",
    "classic_350_bike1.setno_wheels(2)\n",
    "print(classic_350_bike1)\n",
    "print(classic_350_bike1.brandname)\n",
    "\n",
    "testbike = bike()\n",
    "testbike.set_color = 'blue'\n",
    "print(testbike)\n",
    "testbike.engineid"
   ]
  },
  {
   "cell_type": "code",
   "execution_count": null,
   "metadata": {},
   "outputs": [],
   "source": [
    "print(x)\n",
    "print(str(x))"
   ]
  },
  {
   "cell_type": "code",
   "execution_count": null,
   "metadata": {},
   "outputs": [],
   "source": [
    "a = 1 \n",
    "type(a).__name__\n"
   ]
  },
  {
   "cell_type": "code",
   "execution_count": 5,
   "metadata": {},
   "outputs": [],
   "source": [
    "#a = 0 \n",
    "class Animal(object):\n",
    "    def __init__(self):\n",
    "        #a = a +1\n",
    "        print(\"Animal created\")\n",
    "\n",
    "    def whoAmI(self):\n",
    "        print(\"Animal\")\n",
    "\n",
    "    def eat(self):\n",
    "        print(\"Eating\")\n",
    "        \n",
    "    def Run(self):\n",
    "        print(\"Animals can Run\")\n",
    "\n",
    "    def peek(self):\n",
    "        print(\"Animal is peeking\")\n",
    "\n",
    "class Aquatic(object):\n",
    "    def __init__(self):\n",
    "        print(\"Aquatic species created\")\n",
    "\n",
    "    def whoAmI(self):\n",
    "        print(\"Aquatic\")\n",
    "\n",
    "    def swim(self):\n",
    "        print(\"Swimming\")\n",
    "\n",
    "    def peek(self):\n",
    "        print(\"Aquatic species can't peek\")\n",
    "\n",
    "class Dog(Animal):\n",
    "    def __init__(self):\n",
    "        #Animal.__init__(self)\n",
    "        print(\"Dog created\")\n",
    "\n",
    "    def whoAmI(self):\n",
    "        print(\"Dog\")\n",
    "        \n",
    "    #def Run(self):\n",
    "        #print(\"Dogs can Run\")\n",
    "    \n",
    "    def bark(self):\n",
    "        print(\"Woof!\")\n",
    "\n",
    "class Puppy(Dog):\n",
    "    def __init__(self):\n",
    "        Animal.__init__(self)\n",
    "        super().__init__()\n",
    "        print(\"Puppy created\")\n",
    "\n",
    "    def whoAmI(self):\n",
    "        print(\"Dog\")\n",
    "\n",
    "    def play(self):\n",
    "        print(\"!!!!\")\n",
    "\n",
    "class Penguin(Aquatic,Animal):\n",
    "    def __init__(self):\n",
    "        #Animal.__init__(self)\n",
    "        #Aquatic.__init__(self)\n",
    "        super().__init__()\n",
    "        print(\"Penguin created\")\n",
    "\n",
    "    def whoAmI(self):\n",
    "        print(\"Penguin\")\n",
    "\n",
    "    def jump(self):\n",
    "        print(\"Jumping!\")"
   ]
  },
  {
   "cell_type": "code",
   "execution_count": 6,
   "metadata": {},
   "outputs": [
    {
     "name": "stdout",
     "output_type": "stream",
     "text": [
      "########### simple inheritance ################\n",
      "Dog created\n",
      "Animals can Run\n",
      "Woof!\n",
      "############ multiple inheritance ###############\n",
      "Aquatic species created\n",
      "Penguin created\n",
      "Swimming\n",
      "Animals can Run\n",
      "Aquatic species can't peek\n",
      "############ multilevel inheritance ###############\n",
      "Animal created\n",
      "Dog created\n",
      "Puppy created\n",
      "Animals can Run\n",
      "###########################\n"
     ]
    }
   ],
   "source": [
    "print(\"########### simple inheritance ################\")\n",
    "d = Dog()\n",
    "d.Run()\n",
    "d.bark()\n",
    "#d.fly()\n",
    "print(\"############ multiple inheritance ###############\")\n",
    "e= Penguin()\n",
    "e.swim()\n",
    "e.Run()\n",
    "e.peek()\n",
    "print(\"############ multilevel inheritance ###############\")\n",
    "f = Puppy()\n",
    "f.Run()\n",
    "print(\"###########################\")\n",
    "\n",
    "#print(\"total created is : \", a)"
   ]
  },
  {
   "cell_type": "code",
   "execution_count": null,
   "metadata": {},
   "outputs": [],
   "source": [
    "d.whoAmI()"
   ]
  },
  {
   "cell_type": "code",
   "execution_count": null,
   "metadata": {},
   "outputs": [],
   "source": [
    "d.eat()"
   ]
  },
  {
   "cell_type": "code",
   "execution_count": null,
   "metadata": {},
   "outputs": [],
   "source": [
    "d.bark()"
   ]
  },
  {
   "cell_type": "markdown",
   "metadata": {},
   "source": [
    "### Super Function"
   ]
  },
  {
   "cell_type": "code",
   "execution_count": 8,
   "metadata": {},
   "outputs": [],
   "source": [
    "class Bird(object):\n",
    "    def __init__(self, BirdName):\n",
    "        print(BirdName, 'is a object of type', type(self))\n",
    "    def chirp(self):\n",
    "        print(\"Birds Chirping\")\n",
    "    def run(self):\n",
    "        print(\"Birds Run Slowly\")\n",
    "    \n",
    "class Animal(object):\n",
    "    def __init__(self, AnimalName):\n",
    "        print(AnimalName, 'is a object of type', type(self))\n",
    "    def bark(self):\n",
    "        if(isinstance(self, Bird)):\n",
    "            print(\"Birds Wont Bark\")\n",
    "        else:\n",
    "            print(\"Animals Can Bark\")\n",
    "    def run(self):\n",
    "        print(\"Animals Run Fastly\")\n",
    "    \n",
    "class Dog(Animal,Bird):\n",
    "    def __init__(self):\n",
    "        print('Inside Dog Class Constructor')\n",
    "        #a = Mammal2(\"Dogs1\")\n",
    "        super().__init__(\"Kitty\")\n",
    "        #super().bark()\n",
    "        #Mammal2.__init__('Dogs')\n",
    "    def __str__():\n",
    "        return \"Dog\"\n",
    "    \n",
    "class Parrot(Bird,Animal):\n",
    "    def __init__(self):\n",
    "        print('Inside Bird Class Constructor')\n",
    "        #a = Mammal2(\"Dogs1\")\n",
    "        super().__init__(\"Tweety\")\n",
    "    def __str__():\n",
    "        return \"Parrot\"\n",
    "    \n"
   ]
  },
  {
   "cell_type": "code",
   "execution_count": 9,
   "metadata": {},
   "outputs": [
    {
     "name": "stdout",
     "output_type": "stream",
     "text": [
      "################################\n",
      "Inside Dog Class Constructor\n",
      "Kitty is a object of type <class '__main__.Dog'>\n",
      "Animals Run Fastly\n",
      "################################\n",
      "Inside Bird Class Constructor\n",
      "Tweety is a object of type <class '__main__.Parrot'>\n",
      "################################\n",
      "Birds Chirping\n",
      "################################\n",
      "Birds Wont Bark\n",
      "################################\n",
      "Birds Run Slowly\n",
      "################################\n",
      "Animals Run Fastly\n"
     ]
    }
   ],
   "source": [
    "print(\"################################\")\n",
    "d1 = Dog()\n",
    "d1.run()\n",
    "print(\"################################\")\n",
    "d2 = Parrot()\n",
    "print(\"################################\")\n",
    "d2.chirp()\n",
    "print(\"################################\")\n",
    "d2.bark()\n",
    "print(\"################################\")\n",
    "d2.run()\n",
    "print(\"################################\")\n",
    "d1.run()"
   ]
  },
  {
   "cell_type": "markdown",
   "metadata": {},
   "source": [
    "In this example, we have two classes: Animal and Dog. The Animal is the base class, the Dog is the derived class. \n",
    "\n",
    "The derived class inherits the functionality of the base class. \n",
    "\n",
    "* It is shown by the eat() method. \n",
    "\n",
    "The derived class modifies existing behavior of the base class.\n",
    "\n",
    "* shown by the whoAmI() method. \n",
    "\n",
    "Finally, the derived class extends the functionality of the base class, by defining a new bark() method."
   ]
  },
  {
   "cell_type": "code",
   "execution_count": 12,
   "metadata": {},
   "outputs": [],
   "source": [
    "class Polygon:\n",
    "    def __init__(self, no_of_sides):\n",
    "        #if(no_of_sides > 2):\n",
    "        self.n = no_of_sides# self.n=3\n",
    "        self.sides = [0 for i in range(no_of_sides)]# self.sides = [0,0,0]\n",
    "        #else:\n",
    "        #    raise \"Not Enough Sides for shape\"\n",
    "\n",
    "    def inputSides(self):\n",
    "        self.sides = [float(input(\"Enter side \"+str(i+1)+\" : \")) for i in range(self.n)]#[1,20,11]\n",
    "\n",
    "    def dispSides(self):\n",
    "        for i in range(self.n):\n",
    "            print(\"Side\",i+1,\"is\",self.sides[i])"
   ]
  },
  {
   "cell_type": "code",
   "execution_count": 13,
   "metadata": {},
   "outputs": [],
   "source": [
    "class Triangle(Polygon):\n",
    "    def __init__(self):\n",
    "        Polygon.__init__(self,3)\n",
    "\n",
    "    def findArea(self):\n",
    "        a, b, c = self.sides\n",
    "        # calculate the semi-perimeter\n",
    "        s = (a + b + c) \n",
    "        area = (s*(s-a)*(s-b)*(s-c))**0.5 \n",
    "        print(area)\n",
    "        print(\"The area of the triangle is\", area)\n",
    "    def findPerimeter(self):\n",
    "        a, b, c = self.sides\n",
    "        print(\"The perimeter of the triangle is %s\"%(sum(self.sides)))\n",
    "        "
   ]
  },
  {
   "cell_type": "code",
   "execution_count": 14,
   "metadata": {},
   "outputs": [],
   "source": [
    "class Square(Polygon):\n",
    "    def __init__(self):\n",
    "        super().__init__(1)\n",
    "    \n",
    "    def findArea(self):\n",
    "        a, = self.sides #[5]\n",
    "        area = a*a \n",
    "        print(\"The area of the Square is\", area)\n",
    "    def findPerimeter(self):\n",
    "        a = self.sides\n",
    "        print(\"The perimeter of the Square is %s\"%(4*sum(a)))"
   ]
  },
  {
   "cell_type": "code",
   "execution_count": 15,
   "metadata": {},
   "outputs": [],
   "source": [
    "class Rectangle(Polygon):\n",
    "    def __init__(self):\n",
    "        super().__init__(2)\n",
    "    def findArea(self):\n",
    "        l,b = self.sides\n",
    "        area = l*b \n",
    "        print(\"The area of the Rectangle is\", area)\n",
    "    def findPerimeter(self):\n",
    "        l,b = self.sides\n",
    "        print(\"The perimeter of the Rectangle is %s\"%(2*(l+b)))"
   ]
  },
  {
   "cell_type": "code",
   "execution_count": 16,
   "metadata": {},
   "outputs": [
    {
     "name": "stdout",
     "output_type": "stream",
     "text": [
      "################ Triangle #################\n",
      "Side 1 is 0\n",
      "Side 2 is 0\n",
      "Side 3 is 0\n",
      "Enter side 1 : 10\n",
      "Enter side 2 : 15\n",
      "Enter side 3 : 4\n",
      "439.1469002509297\n",
      "The area of the triangle is 439.1469002509297\n",
      "The perimeter of the triangle is 29.0\n",
      "#################################\n"
     ]
    }
   ],
   "source": [
    "t = Triangle()\n",
    "print(\"################ Triangle #################\")\n",
    "t.dispSides()\n",
    "t.inputSides()\n",
    "t.findArea()\n",
    "t.findPerimeter()\n",
    "print(\"#################################\")"
   ]
  },
  {
   "cell_type": "code",
   "execution_count": 17,
   "metadata": {},
   "outputs": [
    {
     "name": "stdout",
     "output_type": "stream",
     "text": [
      "################ Square #################\n",
      "Side 1 is 0\n",
      "Enter side 1 : 5\n",
      "The area of the Square is 25.0\n",
      "The perimeter of the Square is 20.0\n",
      "#################################\n"
     ]
    }
   ],
   "source": [
    "s = Square()\n",
    "print(\"################ Square #################\")\n",
    "s.dispSides()\n",
    "s.inputSides()\n",
    "s.findArea()\n",
    "s.findPerimeter()\n",
    "print(\"#################################\")"
   ]
  },
  {
   "cell_type": "code",
   "execution_count": 18,
   "metadata": {},
   "outputs": [
    {
     "name": "stdout",
     "output_type": "stream",
     "text": [
      "################ Rectangle #################\n",
      "Side 1 is 0\n",
      "Side 2 is 0\n",
      "Enter side 1 : 10\n",
      "Enter side 2 : 8\n",
      "The area of the Rectangle is 80.0\n",
      "The perimeter of the Rectangle is 36.0\n",
      "#################################\n"
     ]
    }
   ],
   "source": [
    "r = Rectangle()\n",
    "print(\"################ Rectangle #################\")\n",
    "r.dispSides()\n",
    "r.inputSides()\n",
    "r.findArea()\n",
    "r.findPerimeter()\n",
    "print(\"#################################\")"
   ]
  },
  {
   "cell_type": "markdown",
   "metadata": {},
   "source": [
    "#### Check instance and object type"
   ]
  },
  {
   "cell_type": "code",
   "execution_count": 20,
   "metadata": {},
   "outputs": [
    {
     "name": "stdout",
     "output_type": "stream",
     "text": [
      "True\n",
      "True\n",
      "False\n",
      "###################################\n",
      "False\n",
      "True\n",
      "True\n",
      "True\n",
      "###########################################\n",
      "inheritance will not be an instance of the class\n",
      "False\n"
     ]
    }
   ],
   "source": [
    "print(isinstance(t,Triangle))\n",
    "print(isinstance(t,Polygon))\n",
    "print(isinstance(s,Triangle))\n",
    "print(\"###################################\")\n",
    "print(issubclass(Polygon,Triangle))\n",
    "print(issubclass(Square,Polygon))\n",
    "print(issubclass(Penguin,Aquatic))\n",
    "print(issubclass(Rectangle,Polygon))\n",
    "print(\"###########################################\")\n",
    "print(\"inheritance will not be an instance of the class\")\n",
    "print(isinstance(Triangle,Polygon))\n"
   ]
  },
  {
   "cell_type": "markdown",
   "metadata": {},
   "source": [
    "### Encapsulation\n",
    "<ul>\n",
    "<li>Encapsulation is a way to achieve \"information hiding\" so, following your example, you don't \"need to know the internal working of the mobile phone to operate\" with it. You have an interface to use the device behaviour without knowing implementation details.</li>\n",
    "</ul>\n",
    "It is a way of restricting access to methods and properties so it cant be modified directly\n"
   ]
  },
  {
   "cell_type": "code",
   "execution_count": 2,
   "metadata": {
    "scrolled": true
   },
   "outputs": [],
   "source": [
    "class Robot(object):\n",
    "    def __init__(self):\n",
    "        self.a = 123\n",
    "        self._b = 124\n",
    "        self.__c = 125\n",
    "             \n",
    "    def sum(self):\n",
    "        return self.a +self._b + self.__c\n",
    "        \n",
    "    def _sum1(self):\n",
    "        return self.a +self._b + self.__c\n",
    "\n",
    "    def __sum2(self):\n",
    "        return self.a +self._b + self.__c\n",
    "\n",
    "    def getprivatesummethod(self):\n",
    "        return self.__sum2()\n",
    "    \n",
    "    def SetValue(self,value):\n",
    "        self.__c = value\n",
    "        print(self.__c)\n",
    "        \n",
    "class SubRobot(Robot):\n",
    "    def __init__(self, instance1):\n",
    "        print(instance1.a)\n",
    "                \n",
    "class Microbot(Robot):\n",
    "    def __init__(self):\n",
    "        pass             \n",
    "        "
   ]
  },
  {
   "cell_type": "code",
   "execution_count": 9,
   "metadata": {},
   "outputs": [
    {
     "name": "stdout",
     "output_type": "stream",
     "text": [
      "123\n",
      "124\n",
      "#######################\n",
      "372\n",
      "372\n"
     ]
    },
    {
     "ename": "AttributeError",
     "evalue": "'Robot' object has no attribute '_Robot__sum1'",
     "output_type": "error",
     "traceback": [
      "\u001b[1;31m---------------------------------------------------------------------------\u001b[0m",
      "\u001b[1;31mAttributeError\u001b[0m                            Traceback (most recent call last)",
      "Input \u001b[1;32mIn [9]\u001b[0m, in \u001b[0;36m<cell line: 9>\u001b[1;34m()\u001b[0m\n\u001b[0;32m      7\u001b[0m \u001b[38;5;28mprint\u001b[39m(obj\u001b[38;5;241m.\u001b[39m_sum1())\n\u001b[0;32m      8\u001b[0m \u001b[38;5;66;03m#print(obj.__sum2())\u001b[39;00m\n\u001b[1;32m----> 9\u001b[0m \u001b[38;5;28mprint\u001b[39m(\u001b[43mobj\u001b[49m\u001b[38;5;241;43m.\u001b[39;49m\u001b[43m_Robot__sum1\u001b[49m())\n\u001b[0;32m     11\u001b[0m \u001b[38;5;28mprint\u001b[39m(\u001b[38;5;124m\"\u001b[39m\u001b[38;5;124m#############private sum method called from getprivatesummethod ###############\u001b[39m\u001b[38;5;124m\"\u001b[39m)\n\u001b[0;32m     12\u001b[0m \u001b[38;5;28mprint\u001b[39m(obj\u001b[38;5;241m.\u001b[39mgetprivatesummethod())\n",
      "\u001b[1;31mAttributeError\u001b[0m: 'Robot' object has no attribute '_Robot__sum1'"
     ]
    }
   ],
   "source": [
    "\n",
    "obj = Robot()\n",
    "print(obj.a)\n",
    "print(obj._b)\n",
    "#print(obj.__c)#Private variable, hence not be accessed.\n",
    "print(\"#######################\")\n",
    "print(obj.sum())\n",
    "print(obj._sum1())\n",
    "#print(obj.__sum2())\n",
    "print(obj._Robot__sum1())\n",
    "\n",
    "print(\"#############private sum method called from getprivatesummethod ###############\")\n",
    "print(obj.getprivatesummethod())\n",
    "print(obj.SetValue(25))\n",
    "print(\"#######################\")\n",
    "#print(Robot.sum1())\n",
    "#obj1 = SubRobot(obj)\n",
    "#print(Robt.a)\n",
    "#print(Robot._b)\n",
    "print(\"########### subrobot #################\")\n",
    "obj._b = 10 \n",
    "print(obj._b)\n",
    "obj1 = SubRobot(obj)\n",
    "#obj1._sum1()\n",
    "print(\"############# microbot ###############\")\n",
    "obj2 = Microbot()\n",
    "print(obj2.sum())\n",
    "print(obj2._sum1())"
   ]
  },
  {
   "cell_type": "code",
   "execution_count": null,
   "metadata": {},
   "outputs": [],
   "source": [
    "class Robot(object):\n",
    "    def __init__(self):\n",
    "        self.__version = 10\n",
    "\n",
    "    def getVersion(self):\n",
    "        print(self.__version)\n",
    "\n",
    "    def setVersion(self, version):\n",
    "        self.__version = version\n",
    "        print(\"value now set \")\n",
    "        \n",
    "    def printVersion(self):\n",
    "        print(self.__version)\n",
    "\n",
    "obj = Robot()\n",
    "obj.getVersion()#10\n",
    "obj.setVersion(23)\n",
    "obj.printVersion()#23\n",
    "print(obj.__version)"
   ]
  },
  {
   "cell_type": "code",
   "execution_count": null,
   "metadata": {},
   "outputs": [],
   "source": [
    "class Cup:\n",
    "    def __init__(self):\n",
    "        self.color = None\n",
    "        self.content = None\n",
    "        \n",
    "    def fill(self, beverage):\n",
    "        self.content = beverage\n",
    "\n",
    "    def empty(self):\n",
    "        self.content = None\n",
    "        \n",
    "    def __str__(self):\n",
    "        return \"Cup is in %s color and is filled with %s\"%(self.color,self.content)\n",
    "    \n",
    "    def __len__(self):\n",
    "        return 200\n",
    "    \n",
    "redCup = Cup()\n",
    "redCup.color = \"red\"\n",
    "redCup.content = \"tea\"\n",
    "redCup.empty()\n",
    "redCup.fill(\"coffee\")\n",
    "print(redCup)\n",
    "str(redCup)\n",
    "print(len(redCup))"
   ]
  },
  {
   "cell_type": "markdown",
   "metadata": {},
   "source": [
    "### Protected "
   ]
  },
  {
   "cell_type": "code",
   "execution_count": null,
   "metadata": {},
   "outputs": [],
   "source": [
    "class Cup:\n",
    "    def __init__(self):\n",
    "        self.color = None\n",
    "        self._content = None # protected variable\n",
    "\n",
    "    def fill(self, beverage):\n",
    "        self._content = beverage\n",
    "\n",
    "    def empty(self):\n",
    "        self._content = None\n",
    "        \n",
    "    def GetContent(self):\n",
    "        print(self._content)\n",
    "        \n",
    "        \n",
    "        \n",
    "class smallCup(Cup):\n",
    "    def __init__(self):\n",
    "        self.capacity = 10\n",
    "        self.color = \"green\"\n",
    "        \n",
    "    def __str__(self):\n",
    "        return \"Cup is in %s color and is filled with %s\"%(self.color,self._content)\n",
    "        "
   ]
  },
  {
   "cell_type": "code",
   "execution_count": null,
   "metadata": {},
   "outputs": [],
   "source": [
    "print(\"################################\")\n",
    "cup = Cup()\n",
    "cup._content = \"tea\"\n",
    "cup.GetContent()\n",
    "print(\"################################\")\n",
    "print(cup._content)\n",
    "print(\"################################\")\n",
    "Sc = smallCup()\n",
    "Sc._content = \"coffee\"\n",
    "#print(cup._content)\n",
    "print(str(Sc))"
   ]
  },
  {
   "cell_type": "code",
   "execution_count": null,
   "metadata": {},
   "outputs": [],
   "source": [
    "class Cup:\n",
    "    def __init__(self, color):\n",
    "        self._color = color    # protected variable\n",
    "        self.__content = None  # private variable\n",
    "\n",
    "    def fill(self, beverage):\n",
    "        self.__content = beverage\n",
    "\n",
    "    def empty(self):\n",
    "        self.__content = None\n",
    "    \n",
    "    def get_CupContent(self):\n",
    "        return self.__content \n",
    "    \n",
    "    def __get_CupContent_1(self):\n",
    "        return self.__content + \" from Private method\"\n",
    "    \n",
    "    def get_PrivateCupContent(self):\n",
    "        return self.__get_CupContent_1() \n",
    "    \n"
   ]
  },
  {
   "cell_type": "code",
   "execution_count": null,
   "metadata": {},
   "outputs": [],
   "source": [
    "redCup = Cup(\"red\")\n",
    "print(redCup._color)\n",
    "print(redCup._Cup__content)\n",
    "redCup._Cup__content = \"tea1\"\n",
    "#print(redCup.__content)\n",
    "print(\"################################\")\n",
    "print(redCup.get_CupContent())\n",
    "print(\"################################\")\n",
    "print(redCup._color)\n",
    "print(\"################################\")\n",
    "##print(redCup.__content)\n",
    "print(\"################################\")\n",
    "print(redCup.get_PrivateCupContent())\n",
    "print(\"################################\")\n",
    "print(redCup._color)\n",
    "print(\"################################\")\n",
    "#print(redCup.__content)\n",
    "print(\"########Call via shadow class ########################\")\n",
    "print(redCup._Cup__get_CupContent_1())\n",
    "print(\"################################\")\n",
    "print(redCup._Cup__content)\n",
    "print(\"################################\")\n"
   ]
  },
  {
   "cell_type": "code",
   "execution_count": null,
   "metadata": {},
   "outputs": [],
   "source": [
    "class Car(object):\n",
    "    _maxspeed = 0\n",
    "    _name = \"\"\n",
    "    bhp  = 1000\n",
    "    \n",
    "    def __init__(self):\n",
    "        self.__updateSoftware()\n",
    "    \n",
    "    def drive(self):\n",
    "        print('driving')\n",
    "    \n",
    "    def __updateSoftware(self):\n",
    "        print('updating software')\n",
    "\n",
    "    def setMaxSpeed(self,speed):\n",
    "        self._maxspeed = speed\n",
    "\n",
    "    def getMaxSpeed(self):\n",
    "        return self._maxspeed"
   ]
  },
  {
   "cell_type": "code",
   "execution_count": null,
   "metadata": {},
   "outputs": [],
   "source": [
    "redcar = Car()\n",
    "#redcar.__updateSoftware()\n",
    "redcar.bhp =1020\n",
    "print(redcar.bhp)\n",
    "print(Car().bhp)\n",
    "print(Car.bhp)\n",
    "print(\"#############################\")\n",
    "redcar.drive()\n",
    "print(\"#############################\")\n",
    "print(redcar.bhp)\n",
    "print(redcar._maxspeed)\n",
    "redcar.__maxspeed = 500\n",
    "print(redcar.__maxspeed)\n",
    "print(\"#############################\")\n",
    "print(\"Get Max Speed \",redcar.getMaxSpeed())\n",
    "redcar.setMaxSpeed(800)\n",
    "print(\"Get Max Speed\", redcar.getMaxSpeed())\n",
    "print(\"#############################\")\n",
    "print(redcar.__maxspeed)\n",
    "print(redcar.getMaxSpeed())\n",
    "print(redcar.__maxspeed)\n",
    "\n"
   ]
  },
  {
   "cell_type": "markdown",
   "metadata": {},
   "source": [
    "### Polymorhphism"
   ]
  },
  {
   "cell_type": "markdown",
   "metadata": {},
   "source": [
    "#### Overriding"
   ]
  },
  {
   "cell_type": "code",
   "execution_count": 25,
   "metadata": {},
   "outputs": [
    {
     "name": "stdout",
     "output_type": "stream",
     "text": [
      "<__main__.KTM object at 0x000002890EACD3C0>\n"
     ]
    }
   ],
   "source": [
    "class bike(object):\n",
    "    def __init__(self, BrandName=None):\n",
    "        self.brandname = BrandName\n",
    "class KTM(bike):\n",
    "    def __init(self):\n",
    "        super.init('KTM')\n",
    "a = KTM()\n",
    "print(str(a))"
   ]
  },
  {
   "cell_type": "code",
   "execution_count": 26,
   "metadata": {},
   "outputs": [
    {
     "name": "stdout",
     "output_type": "stream",
     "text": [
      "A Bike Object Created : 2787681377808\n"
     ]
    }
   ],
   "source": [
    "class bike(object):\n",
    "    def __init__(self, BrandName=None):\n",
    "        self.brandname = BrandName\n",
    "    def __str__(self):\n",
    "        return \"A Bike Object Created : %s\"%(id(self))\n",
    "class KTM(bike):\n",
    "    def __init(self):\n",
    "        super.init('KTM')\n",
    "a = KTM()\n",
    "print(str(a))"
   ]
  },
  {
   "cell_type": "code",
   "execution_count": 27,
   "metadata": {},
   "outputs": [
    {
     "name": "stdout",
     "output_type": "stream",
     "text": [
      "A KTM Bike Object Created : 2787679982528\n"
     ]
    }
   ],
   "source": [
    "class bike(object):\n",
    "    def __init__(self, BrandName=None):\n",
    "        self.brandname = BrandName\n",
    "    def __str__(self):\n",
    "        return \"A Bike Object Created : %s\"%(id(self))\n",
    "class KTM(bike):\n",
    "    def __init(self):\n",
    "        super.init('KTM')\n",
    "    def __str__(self):\n",
    "        return \"A KTM Bike Object Created : %s\"%(id(self))\n",
    "a = KTM()\n",
    "print(str(a))"
   ]
  },
  {
   "cell_type": "code",
   "execution_count": 5,
   "metadata": {},
   "outputs": [],
   "source": [
    "class Book(object):\n",
    "    def __init__(self, title, author, pages, edition):\n",
    "        self.title = title\n",
    "        self.author = author\n",
    "        self.edition = edition\n",
    "        self.pages = pages\n",
    "        print(\"A book is created at : %s\"%str(id(self)))"
   ]
  },
  {
   "cell_type": "code",
   "execution_count": 12,
   "metadata": {
    "scrolled": true
   },
   "outputs": [
    {
     "name": "stdout",
     "output_type": "stream",
     "text": [
      "A book is created at : 2135761763152\n",
      "A book is destroyed : 2135761759168\n",
      "A book is created at : 2135761773440\n",
      "A book is destroyed : 2135761760224\n",
      "A book is created at : 2135761759168\n",
      "A book is destroyed : 2135761764304\n",
      "A book is created at : 2135761760224\n",
      "A book is destroyed : 2135761763632\n"
     ]
    }
   ],
   "source": [
    "a = Book('Communication Systems','Simons Hawkings',560,2022)\n",
    "b = Book('Communication Systems','Simons Hawkings',560,2021)\n",
    "c = Book('Communication Systems','Simons Hawkings',561,2022)\n",
    "d = Book('Embedded Systems','Gopinath',200,2022)"
   ]
  },
  {
   "cell_type": "code",
   "execution_count": 23,
   "metadata": {},
   "outputs": [],
   "source": [
    "g = 1\n",
    "h = 1"
   ]
  },
  {
   "cell_type": "code",
   "execution_count": 33,
   "metadata": {},
   "outputs": [],
   "source": [
    "g = 'hello'\n",
    "h = 'hello'"
   ]
  },
  {
   "cell_type": "code",
   "execution_count": 31,
   "metadata": {},
   "outputs": [],
   "source": [
    "g = [1]\n",
    "h = [1]"
   ]
  },
  {
   "cell_type": "code",
   "execution_count": 27,
   "metadata": {},
   "outputs": [
    {
     "name": "stdout",
     "output_type": "stream",
     "text": [
      "A book is destroyed : 2135780801888\n",
      "A book is destroyed : 2135780344160\n"
     ]
    }
   ],
   "source": [
    "g= {1:2}\n",
    "h= {1:2}"
   ]
  },
  {
   "cell_type": "code",
   "execution_count": 26,
   "metadata": {},
   "outputs": [
    {
     "name": "stdout",
     "output_type": "stream",
     "text": [
      "A book is created at : 2135780801888\n",
      "A book is destroyed : 2135761763104\n",
      "A book is created at : 2135780344160\n",
      "A book is destroyed : 2135761763392\n"
     ]
    }
   ],
   "source": [
    "g = Book('Communication Systems','Simons Hawkings',560,2022)\n",
    "h = Book('Communication Systems','Simons Hawkings',560,2022)"
   ]
  },
  {
   "cell_type": "code",
   "execution_count": 34,
   "metadata": {},
   "outputs": [
    {
     "name": "stdout",
     "output_type": "stream",
     "text": [
      "2135755992688\n",
      "2135755992688\n"
     ]
    },
    {
     "data": {
      "text/plain": [
       "True"
      ]
     },
     "execution_count": 34,
     "metadata": {},
     "output_type": "execute_result"
    }
   ],
   "source": [
    "print(id(g))\n",
    "print(id(h))\n",
    "g == h"
   ]
  },
  {
   "cell_type": "code",
   "execution_count": 7,
   "metadata": {},
   "outputs": [
    {
     "name": "stdout",
     "output_type": "stream",
     "text": [
      "<__main__.Book object at 0x000001F1454288B0>\n",
      "<__main__.Book object at 0x000001F1454288B0>\n"
     ]
    },
    {
     "ename": "NameError",
     "evalue": "name 'a' is not defined",
     "output_type": "error",
     "traceback": [
      "\u001b[1;31m---------------------------------------------------------------------------\u001b[0m",
      "\u001b[1;31mNameError\u001b[0m                                 Traceback (most recent call last)",
      "Input \u001b[1;32mIn [7]\u001b[0m, in \u001b[0;36m<cell line: 6>\u001b[1;34m()\u001b[0m\n\u001b[0;32m      4\u001b[0m \u001b[38;5;66;03m#print(len(a))\u001b[39;00m\n\u001b[0;32m      5\u001b[0m \u001b[38;5;28;01mdel\u001b[39;00m a\n\u001b[1;32m----> 6\u001b[0m \u001b[38;5;28mprint\u001b[39m(\u001b[38;5;28mstr\u001b[39m(\u001b[43ma\u001b[49m))\n",
      "\u001b[1;31mNameError\u001b[0m: name 'a' is not defined"
     ]
    }
   ],
   "source": [
    "#Special Methods\n",
    "print(a)\n",
    "print(str(a))\n",
    "#print(len(a))\n",
    "del a\n",
    "print(str(a))"
   ]
  },
  {
   "cell_type": "code",
   "execution_count": 13,
   "metadata": {},
   "outputs": [
    {
     "data": {
      "text/plain": [
       "False"
      ]
     },
     "execution_count": 13,
     "metadata": {},
     "output_type": "execute_result"
    }
   ],
   "source": [
    "b == c"
   ]
  },
  {
   "cell_type": "code",
   "execution_count": 14,
   "metadata": {},
   "outputs": [
    {
     "name": "stdout",
     "output_type": "stream",
     "text": [
      "2135761773440\n"
     ]
    },
    {
     "data": {
      "text/plain": [
       "2135761759168"
      ]
     },
     "execution_count": 14,
     "metadata": {},
     "output_type": "execute_result"
    }
   ],
   "source": [
    "print(id(b))\n",
    "id(c)"
   ]
  },
  {
   "cell_type": "code",
   "execution_count": 8,
   "metadata": {},
   "outputs": [],
   "source": [
    "class Book(object):\n",
    "    def __init__(self, title, author, pages, edition):\n",
    "        self.title = title\n",
    "        self.author = author\n",
    "        self.edition = edition\n",
    "        self.pages = pages\n",
    "        print(\"A book is created at : %s\"%str(id(self)))\n",
    "\n",
    "    def __str__(self):\n",
    "        return \"Title:%s , author:%s, Edition:%s \" %(self.title, self.author, self.edition)\n",
    "\n",
    "    def __len__(self):\n",
    "        return self.pages\n",
    "    \n",
    "    def __del__(self):\n",
    "        print(\"A book is destroyed : %s\"%str(id(self)))\n",
    "        \n",
    "    def __repr__(self):\n",
    "        return self.title\n",
    "    \n",
    "    def __eq__(self,otherobject):\n",
    "        if(type(self) == type(otherobject)):\n",
    "            return all([self.edition==otherobject.edition , self.title == otherobject.title])\n",
    "                #return True\n",
    "            #else:\n",
    "            #    return False\n",
    "        else: \n",
    "            return False"
   ]
  },
  {
   "cell_type": "code",
   "execution_count": 11,
   "metadata": {},
   "outputs": [
    {
     "name": "stdout",
     "output_type": "stream",
     "text": [
      "A book is created at : 2135761759168\n",
      "A book is destroyed : 2135779970064\n",
      "A book is created at : 2135761760224\n",
      "A book is destroyed : 2135779968864\n",
      "A book is created at : 2135761764304\n",
      "A book is destroyed : 2135780167392\n",
      "A book is created at : 2135761763632\n",
      "A book is destroyed : 2135779982832\n",
      "A book is created at : 2135760500144\n",
      "A book is destroyed : 2135780175312\n"
     ]
    }
   ],
   "source": [
    "a = Book('Communication Systems','Simons Hawkings',560,2022)\n",
    "b = Book('Communication Systems','Simons Hawkings',560,2021)\n",
    "c = Book('Communication Systems','Simons Hawkings',561,2022)\n",
    "d = Book('Embedded Systems','Gopinath',200,2022)\n",
    "e = Book('Embedded Systems','RajKamal',200,2022)"
   ]
  },
  {
   "cell_type": "code",
   "execution_count": 48,
   "metadata": {},
   "outputs": [
    {
     "name": "stdout",
     "output_type": "stream",
     "text": [
      "Title:Communication Systems , author:Simons Hawkings, Edition:2022 \n",
      "Title:Communication Systems , author:Simons Hawkings, Edition:2022 \n",
      "A book is destroyed : 2787679992896\n"
     ]
    },
    {
     "ename": "NameError",
     "evalue": "name 'a' is not defined",
     "output_type": "error",
     "traceback": [
      "\u001b[1;31m---------------------------------------------------------------------------\u001b[0m",
      "\u001b[1;31mNameError\u001b[0m                                 Traceback (most recent call last)",
      "Input \u001b[1;32mIn [48]\u001b[0m, in \u001b[0;36m<cell line: 5>\u001b[1;34m()\u001b[0m\n\u001b[0;32m      3\u001b[0m \u001b[38;5;66;03m#print(len(a))\u001b[39;00m\n\u001b[0;32m      4\u001b[0m \u001b[38;5;28;01mdel\u001b[39;00m a\n\u001b[1;32m----> 5\u001b[0m \u001b[38;5;28mprint\u001b[39m(\u001b[38;5;28mstr\u001b[39m(\u001b[43ma\u001b[49m))\n",
      "\u001b[1;31mNameError\u001b[0m: name 'a' is not defined"
     ]
    }
   ],
   "source": [
    "print(a)\n",
    "print(str(a))\n",
    "#print(len(a))\n",
    "del a\n",
    "print(str(a))"
   ]
  },
  {
   "cell_type": "code",
   "execution_count": 49,
   "metadata": {},
   "outputs": [
    {
     "data": {
      "text/plain": [
       "False"
      ]
     },
     "execution_count": 49,
     "metadata": {},
     "output_type": "execute_result"
    }
   ],
   "source": [
    "b == c"
   ]
  },
  {
   "cell_type": "code",
   "execution_count": 51,
   "metadata": {},
   "outputs": [
    {
     "data": {
      "text/plain": [
       "True"
      ]
     },
     "execution_count": 51,
     "metadata": {},
     "output_type": "execute_result"
    }
   ],
   "source": [
    "d == e"
   ]
  },
  {
   "cell_type": "markdown",
   "metadata": {},
   "source": [
    "#### overloading"
   ]
  },
  {
   "cell_type": "code",
   "execution_count": 55,
   "metadata": {},
   "outputs": [],
   "source": [
    "class Bike:\n",
    "    def setbrand(self):\n",
    "        print(\"There are many brands of bikes\")\n",
    "     \n",
    "    def setmileage(self):\n",
    "        print(\"Most of the bikes have 35 kmph as mileage\")\n",
    "        \n",
    "class KTM(Bike):\n",
    "    def setmileage(self):\n",
    "        print(\"KTM Mileage is 39kmph\")\n",
    "        \n",
    "class Enfield(Bike):\n",
    "    def setmileage(self):\n",
    "        print(\"Enfield Mileage is 30kmph.\")"
   ]
  },
  {
   "cell_type": "code",
   "execution_count": 53,
   "metadata": {},
   "outputs": [
    {
     "name": "stdout",
     "output_type": "stream",
     "text": [
      "Most of the bikes have 35 kmph as mielage\n"
     ]
    }
   ],
   "source": [
    "a =Bike()\n",
    "a.setmileage()"
   ]
  },
  {
   "cell_type": "code",
   "execution_count": 56,
   "metadata": {},
   "outputs": [
    {
     "name": "stdout",
     "output_type": "stream",
     "text": [
      "KTM Mileage is 39kmph\n"
     ]
    }
   ],
   "source": [
    "b = KTM()\n",
    "b.setmileage()"
   ]
  },
  {
   "cell_type": "code",
   "execution_count": 57,
   "metadata": {},
   "outputs": [
    {
     "name": "stdout",
     "output_type": "stream",
     "text": [
      "Enfield Mileage is 30kmph.\n"
     ]
    }
   ],
   "source": [
    "c = Enfield()\n",
    "c.setmileage()"
   ]
  },
  {
   "cell_type": "markdown",
   "metadata": {},
   "source": [
    "##### Create a computer  object from many of its parts (RAM, CPU, Processor, Keyboard, Mouse, Display) as it's parent classes ?"
   ]
  },
  {
   "cell_type": "markdown",
   "metadata": {},
   "source": [
    "### Abstraction\n",
    "<ul>\n",
    "<li>Abstraction on the other side, can be explained as the capability to use the same interface for different objects. Different implementations of the same interface can exist. Details are hidden by encapsulation.</li>\n",
    "</ul>"
   ]
  },
  {
   "cell_type": "markdown",
   "metadata": {},
   "source": [
    "<p>Abstract classes are classes that contain one or more abstract methods.\n",
    "    <br> An abstract method is a method that is declared, but contains no implementation. Abstract classes may not be instantiated, \n",
    "and require subclasses to provide implementations for the abstract methods. </p>"
   ]
  },
  {
   "cell_type": "code",
   "execution_count": null,
   "metadata": {},
   "outputs": [],
   "source": [
    "class sampleClass:\n",
    "    \n",
    "    def do_something(self):\n",
    "        pass\n",
    "  \n",
    "    \n",
    "class B(sampleClass):\n",
    "    pass\n",
    "\n",
    "a = sampleClass()\n",
    "b = B()"
   ]
  },
  {
   "cell_type": "code",
   "execution_count": null,
   "metadata": {},
   "outputs": [],
   "source": [
    "from abc import ABC\n",
    "abc.__dict__\n",
    "abc.__spec__"
   ]
  },
  {
   "cell_type": "code",
   "execution_count": null,
   "metadata": {},
   "outputs": [],
   "source": [
    "import abc \n",
    "print(abc.__file__)"
   ]
  },
  {
   "cell_type": "markdown",
   "metadata": {},
   "source": [
    "#### Implementing an Abstract Class"
   ]
  },
  {
   "cell_type": "code",
   "execution_count": 4,
   "metadata": {},
   "outputs": [],
   "source": [
    "from abc import ABC, abstractmethod\n",
    "\n",
    "class AbstractClassExample(ABC):\n",
    " \n",
    "    def __init__(self, value):\n",
    "        self.value = value\n",
    "        #super().__init__()\n",
    "    \n",
    "    @abstractmethod\n",
    "    def do_something(self):\n",
    "        pass\n",
    "    \n",
    "    #@abstractmethod\n",
    "    def do_add20(self):\n",
    "        return (20)"
   ]
  },
  {
   "cell_type": "code",
   "execution_count": 7,
   "metadata": {},
   "outputs": [
    {
     "name": "stdout",
     "output_type": "stream",
     "text": [
      "###########################\n",
      "110\n",
      "1000\n",
      "20\n",
      "25\n"
     ]
    }
   ],
   "source": [
    "class DoAdd10(AbstractClassExample):\n",
    "    def do_something(self):\n",
    "        return self.value + 10\n",
    "    #def do_add20(self):\n",
    "    #    return self.value + 20\n",
    "    #pass\n",
    "    def do_subtract10(self):\n",
    "        return self.value -10\n",
    "    \n",
    "class DoMul10(AbstractClassExample):\n",
    "    #def __init__(self):\n",
    "    #    self.parent = AbstractClassExample.__init__()\n",
    "        \n",
    "    def do_add20(self):\n",
    "        return 25\n",
    "    #    return AbstractClassExample.do_add20() + 20 **2\n",
    "    \n",
    "    def do_something(self):\n",
    "        return self.value * 10\n",
    "        \n",
    "    \n",
    "x = DoAdd10(100)\n",
    "y = DoMul10(100)\n",
    "#z = AbstractClassExample()\n",
    "print(\"###########################\")\n",
    "print(x.do_something())\n",
    "print(y.do_something())\n",
    "print(x.do_add20())\n",
    "print(y.do_add20())\n",
    "\n"
   ]
  },
  {
   "cell_type": "code",
   "execution_count": 9,
   "metadata": {},
   "outputs": [],
   "source": [
    "from abc import ABC, abstractmethod\n",
    "\n",
    "class Profession(ABC):\n",
    " \n",
    "    def __init__(self, value):\n",
    "        self.value = value\n",
    "        #super().__init__()\n",
    "    \n",
    "    @abstractmethod\n",
    "    def getProfession(self):\n",
    "        print(\"I do different works based on my talents\")\n",
    "        \n",
    "    @abstractmethod\n",
    "    def DescribeYourProfession(self):\n",
    "        print(\"\")\n",
    "    \n",
    "    def getsalary(self):\n",
    "        print(\"cant tell\")\n",
    "        \n",
    "    \n",
    "class Artist(Profession):\n",
    "    \n",
    "    def __init__(self, ProfessionName):\n",
    "        self.Profession = ProfessionName\n",
    "        \n",
    "    def getProfession(self):\n",
    "        return \"I am an %s\"%self.Profession\n",
    "    \n",
    "    def DescribeYourProfession(self):\n",
    "        print(\"I am an artist, I paint drawings\")\n",
    "\n",
    "class Engineer(Profession):\n",
    "    \n",
    "    def __init__(self, ProfessionName):\n",
    "        self.Profession = ProfessionName\n",
    "        self.basesalary = 5000\n",
    "    \n",
    "    def getProfession(self):\n",
    "        return \"I am an %s\"%self.Profession \n",
    "    \n",
    "    def DescribeYourProfession(self):\n",
    "        return \"I design structures, construct things\"\n",
    "    \n",
    "    def getsalary(self):\n",
    "        return \"Base Salary is %d dollars\"%(self.basesalary)\n",
    "#P= Profession()         \n",
    "\n",
    "x = Artist(\"Artist\")\n",
    "y = Engineer(\"Engineer\")\n",
    " "
   ]
  },
  {
   "cell_type": "code",
   "execution_count": 10,
   "metadata": {},
   "outputs": [
    {
     "name": "stdout",
     "output_type": "stream",
     "text": [
      "I am an Artist\n",
      "I am an Engineer\n",
      "I am an artist, I paint drawings\n",
      "None\n",
      "I design structures, construct things\n",
      "cant tell\n"
     ]
    },
    {
     "data": {
      "text/plain": [
       "'Base Salary is 5000 dollars'"
      ]
     },
     "execution_count": 10,
     "metadata": {},
     "output_type": "execute_result"
    }
   ],
   "source": [
    "print(x.getProfession())\n",
    "print(y.getProfession())\n",
    "print(x.DescribeYourProfession())\n",
    "print(y.DescribeYourProfession())\n",
    "x.getsalary()\n",
    "y.getsalary()"
   ]
  },
  {
   "cell_type": "markdown",
   "metadata": {},
   "source": [
    "#### class attributes and instance attributes"
   ]
  },
  {
   "cell_type": "code",
   "execution_count": 44,
   "metadata": {},
   "outputs": [],
   "source": [
    "class Electronics(object):\n",
    "    def __init__(this,Motherboard = 'intel',Speaker = 'bang and olufsen'):\n",
    "        this.__Motherboard = Motherboard\n",
    "        this._Speaker = Speaker\n",
    "    def __get_MotherBoard(this):\n",
    "        return this.__Motherboard\n",
    "    def fetch_motherboard(this):\n",
    "        return this.__get_MotherBoard()\n",
    "\n",
    "\n",
    "\n",
    "class Mobile(Electronics):\n",
    "    total = 0\n",
    "    def __init__(this, brandname):\n",
    "        Mobile.total+=1\n",
    "        super().__init__()\n",
    "        this.brand = brandname\n",
    "    def setmodel(this,modelname):\n",
    "        this.model = modelname\n",
    "    def getmodel(this):\n",
    "        return this.model\n",
    "    def get_speakerName(this):\n",
    "        return this._Speaker\n",
    "    def __del__(this):\n",
    "        print(\"a mobile got destroyed\")\n",
    "        Mobile.total -= 1    \n",
    "class Television(Electronics):\n",
    "    total = 0\n",
    "    def __init__(this, brandname):\n",
    "        Television.total+=1\n",
    "        super().__init__()\n",
    "        this.brand = brandname\n",
    "    def setmodel(this,modelname):\n",
    "        this.model = modelname\n",
    "    def getmodel(this):\n",
    "        return this.model    \n",
    "    def get_speakerName(this):\n",
    "        return this._Speaker\n",
    "    def __del__(this):\n",
    "        print(\"A tv got destroyed\")\n",
    "        Television.total -= 1\n",
    "\n",
    "class Computer(Electronics):\n",
    "    total = 0\n",
    "    def __init__(this, brandname):\n",
    "        Computer.total+=1\n",
    "        super().__init__()\n",
    "        this.brand = brandname\n",
    "    def setmodel(this,modelname):\n",
    "        this.model = modelname\n",
    "    def getmodel(this):\n",
    "        return this.model\n",
    "    def get_speakerName(this):\n",
    "        return this._Speaker\n",
    "    def __del__(self):\n",
    "        print(\"a computer got destroyed\")\n",
    "        Computer.total-=1"
   ]
  },
  {
   "cell_type": "code",
   "execution_count": null,
   "metadata": {},
   "outputs": [],
   "source": []
  },
  {
   "cell_type": "code",
   "execution_count": 55,
   "metadata": {},
   "outputs": [
    {
     "name": "stdout",
     "output_type": "stream",
     "text": [
      "a mobile got destroyed\n",
      "a mobile got destroyed\n",
      "A tv got destroyed\n",
      "a computer got destroyed\n",
      "4\n",
      "2\n",
      "2\n",
      "2\n",
      "10\n"
     ]
    }
   ],
   "source": [
    "phone_a =  Mobile('samsung')\n",
    "phone_b =  Mobile('Redmi')\n",
    "b = Television('samsung')\n",
    "c = Computer('samsung')\n",
    "print(Mobile.total)\n",
    "print(Computer.total)\n",
    "print(Television.total)\n",
    "print(b.total)\n",
    "#b.total = 10\n",
    "#print(b.total)"
   ]
  },
  {
   "cell_type": "code",
   "execution_count": 51,
   "metadata": {},
   "outputs": [
    {
     "name": "stdout",
     "output_type": "stream",
     "text": [
      "A book is destroyed : 2135760500144\n"
     ]
    }
   ],
   "source": [
    "phone_c =  Mobile('samsung')\n",
    "phone_d =  Mobile('Redmi')\n",
    "e = Television('samsung')\n",
    "f = Computer('samsung')"
   ]
  },
  {
   "cell_type": "code",
   "execution_count": 52,
   "metadata": {},
   "outputs": [
    {
     "name": "stdout",
     "output_type": "stream",
     "text": [
      "a computer got destroyed\n",
      "4\n",
      "2\n",
      "2\n"
     ]
    }
   ],
   "source": [
    "c = Computer('samsung')\n",
    "print(Mobile.total)\n",
    "print(Computer.total)\n",
    "print(Television.total)"
   ]
  },
  {
   "cell_type": "code",
   "execution_count": 59,
   "metadata": {},
   "outputs": [],
   "source": [
    "class Electronics(object):\n",
    "    def __init__(this,Motherboard = 'intel',Speaker = 'bang and olufsen'):\n",
    "        this.__Motherboard = Motherboard\n",
    "        this._Speaker = Speaker\n",
    "    def __get_MotherBoard(this):\n",
    "        return this.__Motherboard\n",
    "    def fetch_motherboard(this):\n",
    "        return this.__get_MotherBoard()\n",
    "\n",
    "\n",
    "class Mobile(Electronics):\n",
    "    total = 0\n",
    "    items = {}\n",
    "    def __init__(this, brandname):\n",
    "        Mobile.total+=1\n",
    "        super().__init__()\n",
    "        this.brand = brandname\n",
    "        Mobile.items[id(this)] = this\n",
    "    def setmodel(this,modelname):\n",
    "        this.model = modelname\n",
    "    def getmodel(this):\n",
    "        return this.model\n",
    "    def get_speakerName(this):\n",
    "        return this._Speaker\n",
    "    \n",
    "class Television(Electronics):\n",
    "    total = 0\n",
    "    items = {}\n",
    "    def __init__(this, brandname):\n",
    "        Television.total+=1\n",
    "        super().__init__()\n",
    "        this.brand = brandname\n",
    "        Television.items[id(this)] = this\n",
    "    def setmodel(this,modelname):\n",
    "        this.model = modelname\n",
    "    def getmodel(this):\n",
    "        return this.model    \n",
    "    def get_speakerName(this):\n",
    "        return this._Speaker\n",
    "    \n",
    "class Computer(Electronics):\n",
    "    total = 0\n",
    "    items = {}\n",
    "    def __init__(this, brandname):\n",
    "        Computer.total+=1\n",
    "        super().__init__()\n",
    "        this.brand = brandname\n",
    "        Computer.items[id(this)] = this\n",
    "    def setmodel(this,modelname):\n",
    "        this.model = modelname\n",
    "    def getmodel(this):\n",
    "        return this.model\n",
    "    def get_speakerName(this):\n",
    "        return this._Speaker"
   ]
  },
  {
   "cell_type": "code",
   "execution_count": 60,
   "metadata": {},
   "outputs": [
    {
     "name": "stdout",
     "output_type": "stream",
     "text": [
      "a mobile got destroyed\n",
      "a mobile got destroyed\n",
      "A tv got destroyed\n",
      "a computer got destroyed\n",
      "0\n",
      "0\n",
      "0\n"
     ]
    }
   ],
   "source": [
    "phone_a =  Mobile('samsung')\n",
    "phone_b =  Mobile('Redmi')\n",
    "b = Television('samsung')\n",
    "c = Computer('samsung')\n",
    "print(Mobile.total)\n",
    "print(Computer.total)\n",
    "print(Television.total)"
   ]
  },
  {
   "cell_type": "code",
   "execution_count": 61,
   "metadata": {},
   "outputs": [
    {
     "data": {
      "text/plain": [
       "{2135761862416: <__main__.Mobile at 0x1f14553bf10>,\n",
       " 2135761849792: <__main__.Mobile at 0x1f145538dc0>}"
      ]
     },
     "execution_count": 61,
     "metadata": {},
     "output_type": "execute_result"
    }
   ],
   "source": [
    "Mobile.items"
   ]
  },
  {
   "cell_type": "code",
   "execution_count": 63,
   "metadata": {},
   "outputs": [
    {
     "data": {
      "text/plain": [
       "'samsung'"
      ]
     },
     "execution_count": 63,
     "metadata": {},
     "output_type": "execute_result"
    }
   ],
   "source": [
    "Mobile.items[2135761862416].brand"
   ]
  },
  {
   "cell_type": "code",
   "execution_count": 28,
   "metadata": {
    "scrolled": true
   },
   "outputs": [
    {
     "data": {
      "text/plain": [
       "{1324744488224: <__main__.Television at 0x13470ecb520>,\n",
       " 1324744485248: <__main__.Television at 0x13470eca980>,\n",
       " 1324744488176: <__main__.Television at 0x13470ecb4f0>,\n",
       " 1324744481792: <__main__.Television at 0x13470ec9c00>}"
      ]
     },
     "execution_count": 28,
     "metadata": {},
     "output_type": "execute_result"
    }
   ],
   "source": [
    "Television.items"
   ]
  },
  {
   "cell_type": "code",
   "execution_count": 29,
   "metadata": {},
   "outputs": [
    {
     "data": {
      "text/plain": [
       "{1324744487984: <__main__.Computer at 0x13470ecb430>,\n",
       " 1324744485200: <__main__.Computer at 0x13470eca950>,\n",
       " 1324744488128: <__main__.Computer at 0x13470ecb4c0>,\n",
       " 1324744484624: <__main__.Computer at 0x13470eca710>}"
      ]
     },
     "execution_count": 29,
     "metadata": {},
     "output_type": "execute_result"
    }
   ],
   "source": [
    "Computer.items"
   ]
  },
  {
   "cell_type": "markdown",
   "metadata": {},
   "source": [
    "### static methods\n",
    "static methods are bound to a class instead of a class object. \n",
    "It can be called directly without the need for any object instantiation"
   ]
  },
  {
   "cell_type": "code",
   "execution_count": 31,
   "metadata": {},
   "outputs": [],
   "source": [
    "import math\n",
    "class mathutil:\n",
    "    \n",
    "    @staticmethod\n",
    "    def getsquareroot(x):\n",
    "        print('Inside static method', math.sqrt(x))\n",
    "    \n",
    "    @staticmethod   \n",
    "    def getfactorial(x):\n",
    "        print('Inside static method', math.factorial(x))"
   ]
  },
  {
   "cell_type": "code",
   "execution_count": 32,
   "metadata": {},
   "outputs": [
    {
     "name": "stdout",
     "output_type": "stream",
     "text": [
      "Inside static method 2.23606797749979\n",
      "Inside static method 2.23606797749979\n",
      "Inside static method 120\n"
     ]
    }
   ],
   "source": [
    "# call static method\n",
    "mathutil.getsquareroot(5)\n",
    "\n",
    "# can be called using object\n",
    "calculate_1 = mathutil()\n",
    "calculate_1.getsquareroot(5)\n",
    "calculate_1.getfactorial(5)\n"
   ]
  },
  {
   "cell_type": "markdown",
   "metadata": {},
   "source": [
    "## Special Methods\n",
    "Finally lets go over special methods. Classes in Python can implement certain operations with special method names. These methods are not actually called directly but by Python specific language syntax. For example Lets create a Book class:"
   ]
  },
  {
   "cell_type": "code",
   "execution_count": 66,
   "metadata": {},
   "outputs": [
    {
     "data": {
      "text/plain": [
       "['__abs__',\n",
       " '__add__',\n",
       " '__and__',\n",
       " '__bool__',\n",
       " '__ceil__',\n",
       " '__class__',\n",
       " '__delattr__',\n",
       " '__dir__',\n",
       " '__divmod__',\n",
       " '__doc__',\n",
       " '__eq__',\n",
       " '__float__',\n",
       " '__floor__',\n",
       " '__floordiv__',\n",
       " '__format__',\n",
       " '__ge__',\n",
       " '__getattribute__',\n",
       " '__getnewargs__',\n",
       " '__gt__',\n",
       " '__hash__',\n",
       " '__index__',\n",
       " '__init__',\n",
       " '__init_subclass__',\n",
       " '__int__',\n",
       " '__invert__',\n",
       " '__le__',\n",
       " '__lshift__',\n",
       " '__lt__',\n",
       " '__mod__',\n",
       " '__mul__',\n",
       " '__ne__',\n",
       " '__neg__',\n",
       " '__new__',\n",
       " '__or__',\n",
       " '__pos__',\n",
       " '__pow__',\n",
       " '__radd__',\n",
       " '__rand__',\n",
       " '__rdivmod__',\n",
       " '__reduce__',\n",
       " '__reduce_ex__',\n",
       " '__repr__',\n",
       " '__rfloordiv__',\n",
       " '__rlshift__',\n",
       " '__rmod__',\n",
       " '__rmul__',\n",
       " '__ror__',\n",
       " '__round__',\n",
       " '__rpow__',\n",
       " '__rrshift__',\n",
       " '__rshift__',\n",
       " '__rsub__',\n",
       " '__rtruediv__',\n",
       " '__rxor__',\n",
       " '__setattr__',\n",
       " '__sizeof__',\n",
       " '__str__',\n",
       " '__sub__',\n",
       " '__subclasshook__',\n",
       " '__truediv__',\n",
       " '__trunc__',\n",
       " '__xor__',\n",
       " 'as_integer_ratio',\n",
       " 'bit_count',\n",
       " 'bit_length',\n",
       " 'conjugate',\n",
       " 'denominator',\n",
       " 'from_bytes',\n",
       " 'imag',\n",
       " 'numerator',\n",
       " 'real',\n",
       " 'to_bytes']"
      ]
     },
     "execution_count": 66,
     "metadata": {},
     "output_type": "execute_result"
    }
   ],
   "source": [
    "dir(int)"
   ]
  },
  {
   "cell_type": "code",
   "execution_count": 67,
   "metadata": {
    "scrolled": true
   },
   "outputs": [
    {
     "data": {
      "text/plain": [
       "['__add__',\n",
       " '__class__',\n",
       " '__class_getitem__',\n",
       " '__contains__',\n",
       " '__delattr__',\n",
       " '__delitem__',\n",
       " '__dir__',\n",
       " '__doc__',\n",
       " '__eq__',\n",
       " '__format__',\n",
       " '__ge__',\n",
       " '__getattribute__',\n",
       " '__getitem__',\n",
       " '__gt__',\n",
       " '__hash__',\n",
       " '__iadd__',\n",
       " '__imul__',\n",
       " '__init__',\n",
       " '__init_subclass__',\n",
       " '__iter__',\n",
       " '__le__',\n",
       " '__len__',\n",
       " '__lt__',\n",
       " '__mul__',\n",
       " '__ne__',\n",
       " '__new__',\n",
       " '__reduce__',\n",
       " '__reduce_ex__',\n",
       " '__repr__',\n",
       " '__reversed__',\n",
       " '__rmul__',\n",
       " '__setattr__',\n",
       " '__setitem__',\n",
       " '__sizeof__',\n",
       " '__str__',\n",
       " '__subclasshook__',\n",
       " 'append',\n",
       " 'clear',\n",
       " 'copy',\n",
       " 'count',\n",
       " 'extend',\n",
       " 'index',\n",
       " 'insert',\n",
       " 'pop',\n",
       " 'remove',\n",
       " 'reverse',\n",
       " 'sort']"
      ]
     },
     "execution_count": 67,
     "metadata": {},
     "output_type": "execute_result"
    }
   ],
   "source": [
    "dir(list)"
   ]
  },
  {
   "cell_type": "code",
   "execution_count": 65,
   "metadata": {},
   "outputs": [
    {
     "data": {
      "text/plain": [
       "builtin_function_or_method"
      ]
     },
     "execution_count": 65,
     "metadata": {},
     "output_type": "execute_result"
    }
   ],
   "source": [
    "dir(len)\n",
    "#len.__module__\n",
    "len.__class__"
   ]
  },
  {
   "cell_type": "code",
   "execution_count": 38,
   "metadata": {},
   "outputs": [
    {
     "name": "stdout",
     "output_type": "stream",
     "text": [
      "False\n",
      "True\n"
     ]
    }
   ],
   "source": [
    "print(a == b)\n",
    "print(a == c)"
   ]
  },
  {
   "cell_type": "code",
   "execution_count": 39,
   "metadata": {},
   "outputs": [
    {
     "name": "stdout",
     "output_type": "stream",
     "text": [
      "560\n"
     ]
    }
   ],
   "source": [
    "print(len(a))"
   ]
  },
  {
   "cell_type": "code",
   "execution_count": 40,
   "metadata": {},
   "outputs": [
    {
     "name": "stdout",
     "output_type": "stream",
     "text": [
      "Title:Communication Systems , author:Simons Hawkings, Edition:2022 \n"
     ]
    }
   ],
   "source": [
    "print(str(a))"
   ]
  },
  {
   "cell_type": "code",
   "execution_count": null,
   "metadata": {},
   "outputs": [],
   "source": [
    "print(str(d))"
   ]
  },
  {
   "cell_type": "code",
   "execution_count": null,
   "metadata": {},
   "outputs": [],
   "source": [
    "a =1\n",
    "b=2\n",
    "c =3    \n",
    "print(all({True, True, True}))\n",
    "print(all([1, 0, 1]))\n",
    "\n",
    "print(all([True, True, False]))\n",
    "print(any([True, False]))\n",
    "print(any([False,False, False]))\n",
    "\n",
    "all([c>b,c>a])\n"
   ]
  },
  {
   "cell_type": "code",
   "execution_count": null,
   "metadata": {},
   "outputs": [],
   "source": [
    "a,b,c = 10,20,25\n",
    "if(all([c>b,c>a])):\n",
    "    print(\"c is greater\")   \n",
    "    if(b>a):\n",
    "        print(\"b is second greater\")\n",
    "    else: \n",
    "        print(\"a is second greater\")\n",
    "elif(all([b>c,b>a])):\n",
    "    print(\"b is greater\")    \n",
    "    if(c>a):\n",
    "        print(\"c is second greater\")\n",
    "    else: \n",
    "        print(\"a is second greater\")\n",
    "elif(all([a>b,a>c])):        \n",
    "    print(\"a is greater\")      \n",
    "    if(b>c):\n",
    "        print(\"b is second greater\")\n",
    "    else: \n",
    "        print(\"c is second greater\")\n",
    "        \n",
    "        "
   ]
  },
  {
   "cell_type": "code",
   "execution_count": 69,
   "metadata": {},
   "outputs": [
    {
     "data": {
      "text/plain": [
       "type"
      ]
     },
     "execution_count": 69,
     "metadata": {},
     "output_type": "execute_result"
    }
   ],
   "source": [
    "dict.__class__"
   ]
  },
  {
   "cell_type": "code",
   "execution_count": 68,
   "metadata": {},
   "outputs": [
    {
     "data": {
      "text/plain": [
       "['__class__',\n",
       " '__class_getitem__',\n",
       " '__contains__',\n",
       " '__delattr__',\n",
       " '__delitem__',\n",
       " '__dir__',\n",
       " '__doc__',\n",
       " '__eq__',\n",
       " '__format__',\n",
       " '__ge__',\n",
       " '__getattribute__',\n",
       " '__getitem__',\n",
       " '__gt__',\n",
       " '__hash__',\n",
       " '__init__',\n",
       " '__init_subclass__',\n",
       " '__ior__',\n",
       " '__iter__',\n",
       " '__le__',\n",
       " '__len__',\n",
       " '__lt__',\n",
       " '__ne__',\n",
       " '__new__',\n",
       " '__or__',\n",
       " '__reduce__',\n",
       " '__reduce_ex__',\n",
       " '__repr__',\n",
       " '__reversed__',\n",
       " '__ror__',\n",
       " '__setattr__',\n",
       " '__setitem__',\n",
       " '__sizeof__',\n",
       " '__str__',\n",
       " '__subclasshook__',\n",
       " 'clear',\n",
       " 'copy',\n",
       " 'fromkeys',\n",
       " 'get',\n",
       " 'items',\n",
       " 'keys',\n",
       " 'pop',\n",
       " 'popitem',\n",
       " 'setdefault',\n",
       " 'update',\n",
       " 'values']"
      ]
     },
     "execution_count": 68,
     "metadata": {},
     "output_type": "execute_result"
    }
   ],
   "source": [
    "dir(dict)"
   ]
  },
  {
   "cell_type": "code",
   "execution_count": null,
   "metadata": {},
   "outputs": [],
   "source": [
    "all([c>b,c>a])"
   ]
  },
  {
   "cell_type": "code",
   "execution_count": null,
   "metadata": {},
   "outputs": [],
   "source": [
    "a = [1,2,3]\n",
    "for x in range(len(a)):\n",
    "    if (a[x] == 2):\n",
    "        del a[x]\n",
    "        print(a,len(a))\n",
    "        #print(len(a))\n",
    "print(a)\n",
    "   "
   ]
  },
  {
   "cell_type": "markdown",
   "metadata": {},
   "source": [
    "    The __init__(), __str__(), __len__() and the __del__() methods.\n",
    "These special methods are defined by their use of underscores. They allow us to use Python specific functions on objects created through our class.\n",
    "\n",
    "\n"
   ]
  }
 ],
 "metadata": {
  "kernelspec": {
   "display_name": "Python 3 (ipykernel)",
   "language": "python",
   "name": "python3"
  },
  "language_info": {
   "codemirror_mode": {
    "name": "ipython",
    "version": 3
   },
   "file_extension": ".py",
   "mimetype": "text/x-python",
   "name": "python",
   "nbconvert_exporter": "python",
   "pygments_lexer": "ipython3",
   "version": "3.10.4"
  }
 },
 "nbformat": 4,
 "nbformat_minor": 1
}
