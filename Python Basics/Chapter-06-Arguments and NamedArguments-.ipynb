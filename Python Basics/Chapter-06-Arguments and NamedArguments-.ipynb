{
 "cells": [
  {
   "cell_type": "markdown",
   "metadata": {},
   "source": [
    "# `*args` and `**kwargs`\n",
    "\n",
    "Work with Python long enough, and eventually you will encounter `*args` and `**kwargs`. These strange terms show up as parameters in function definitions. What do they do? Let's review a simple function:"
   ]
  },
  {
   "cell_type": "code",
   "execution_count": 2,
   "metadata": {},
   "outputs": [
    {
     "data": {
      "text/plain": [
       "250"
      ]
     },
     "execution_count": 2,
     "metadata": {},
     "output_type": "execute_result"
    }
   ],
   "source": [
    "def myfunc(a,b,c=100):\n",
    "    '''\n",
    "    Return the sum of two numbers #########\n",
    "    '''\n",
    "    return sum((a,b,c))\n",
    "\n",
    "myfunc(100,50)"
   ]
  },
  {
   "cell_type": "code",
   "execution_count": 3,
   "metadata": {},
   "outputs": [
    {
     "data": {
      "text/plain": [
       "103"
      ]
     },
     "execution_count": 3,
     "metadata": {},
     "output_type": "execute_result"
    }
   ],
   "source": [
    "myfunc(1,2)"
   ]
  },
  {
   "cell_type": "code",
   "execution_count": 4,
   "metadata": {},
   "outputs": [
    {
     "data": {
      "text/plain": [
       "'\\n    Return the sum of two numbers #########\\n    '"
      ]
     },
     "execution_count": 4,
     "metadata": {},
     "output_type": "execute_result"
    }
   ],
   "source": [
    "myfunc.__doc__"
   ]
  },
  {
   "cell_type": "code",
   "execution_count": 5,
   "metadata": {},
   "outputs": [
    {
     "data": {
      "text/plain": [
       "[0, 10, 20, 30, 40, 50, 60, 70, 80, 90]"
      ]
     },
     "execution_count": 5,
     "metadata": {},
     "output_type": "execute_result"
    }
   ],
   "source": [
    "x =range(0,100,10)\n",
    "list(x)"
   ]
  },
  {
   "cell_type": "markdown",
   "metadata": {},
   "source": [
    "This function returns 5% of the sum of **a** and **b**. In this example, **a** and **b** are *positional* arguments; that is, 40 is assigned to **a** because it is the first argument, and 60 to **b**. Notice also that to work with multiple positional arguments in the `sum()` function we had to pass them in as a tuple.\n",
    "\n",
    "What if we want to work with more than two numbers? One way would be to assign a *lot* of parameters, and give each one a default value."
   ]
  },
  {
   "cell_type": "code",
   "execution_count": 22,
   "metadata": {},
   "outputs": [
    {
     "data": {
      "text/plain": [
       "130"
      ]
     },
     "execution_count": 22,
     "metadata": {},
     "output_type": "execute_result"
    }
   ],
   "source": [
    "def myfunc(a=0,b=0,c=0,d=0,e=0,f=0):\n",
    "    return sum((a,b,c,d,e,f))\n",
    "\n",
    "myfunc(40,60,20,2,3,5)"
   ]
  },
  {
   "cell_type": "code",
   "execution_count": 23,
   "metadata": {},
   "outputs": [
    {
     "data": {
      "text/plain": [
       "'a b $ $ $'"
      ]
     },
     "execution_count": 23,
     "metadata": {},
     "output_type": "execute_result"
    }
   ],
   "source": [
    "def join_data(a='$',b='$',c='$',d='$',e='$'):\n",
    "    return \" \".join([a,b,c,d,e])\n",
    "\n",
    "join_data('a','b')"
   ]
  },
  {
   "cell_type": "code",
   "execution_count": 7,
   "metadata": {},
   "outputs": [
    {
     "data": {
      "text/plain": [
       "{'__name__': 'math',\n",
       " '__doc__': 'This module provides access to the mathematical functions\\ndefined by the C standard.',\n",
       " '__package__': '',\n",
       " '__loader__': _frozen_importlib.BuiltinImporter,\n",
       " '__spec__': ModuleSpec(name='math', loader=<class '_frozen_importlib.BuiltinImporter'>, origin='built-in'),\n",
       " 'acos': <function math.acos(x, /)>,\n",
       " 'acosh': <function math.acosh(x, /)>,\n",
       " 'asin': <function math.asin(x, /)>,\n",
       " 'asinh': <function math.asinh(x, /)>,\n",
       " 'atan': <function math.atan(x, /)>,\n",
       " 'atan2': <function math.atan2(y, x, /)>,\n",
       " 'atanh': <function math.atanh(x, /)>,\n",
       " 'ceil': <function math.ceil(x, /)>,\n",
       " 'copysign': <function math.copysign(x, y, /)>,\n",
       " 'cos': <function math.cos(x, /)>,\n",
       " 'cosh': <function math.cosh(x, /)>,\n",
       " 'degrees': <function math.degrees(x, /)>,\n",
       " 'dist': <function math.dist(p, q, /)>,\n",
       " 'erf': <function math.erf(x, /)>,\n",
       " 'erfc': <function math.erfc(x, /)>,\n",
       " 'exp': <function math.exp(x, /)>,\n",
       " 'expm1': <function math.expm1(x, /)>,\n",
       " 'fabs': <function math.fabs(x, /)>,\n",
       " 'factorial': <function math.factorial(x, /)>,\n",
       " 'floor': <function math.floor(x, /)>,\n",
       " 'fmod': <function math.fmod(x, y, /)>,\n",
       " 'frexp': <function math.frexp(x, /)>,\n",
       " 'fsum': <function math.fsum(seq, /)>,\n",
       " 'gamma': <function math.gamma(x, /)>,\n",
       " 'gcd': <function math.gcd(*integers)>,\n",
       " 'hypot': <function math.hypot>,\n",
       " 'isclose': <function math.isclose(a, b, *, rel_tol=1e-09, abs_tol=0.0)>,\n",
       " 'isfinite': <function math.isfinite(x, /)>,\n",
       " 'isinf': <function math.isinf(x, /)>,\n",
       " 'isnan': <function math.isnan(x, /)>,\n",
       " 'isqrt': <function math.isqrt(n, /)>,\n",
       " 'lcm': <function math.lcm(*integers)>,\n",
       " 'ldexp': <function math.ldexp(x, i, /)>,\n",
       " 'lgamma': <function math.lgamma(x, /)>,\n",
       " 'log': <function math.log>,\n",
       " 'log1p': <function math.log1p(x, /)>,\n",
       " 'log10': <function math.log10(x, /)>,\n",
       " 'log2': <function math.log2(x, /)>,\n",
       " 'modf': <function math.modf(x, /)>,\n",
       " 'pow': <function math.pow(x, y, /)>,\n",
       " 'radians': <function math.radians(x, /)>,\n",
       " 'remainder': <function math.remainder(x, y, /)>,\n",
       " 'sin': <function math.sin(x, /)>,\n",
       " 'sinh': <function math.sinh(x, /)>,\n",
       " 'sqrt': <function math.sqrt(x, /)>,\n",
       " 'tan': <function math.tan(x, /)>,\n",
       " 'tanh': <function math.tanh(x, /)>,\n",
       " 'trunc': <function math.trunc(x, /)>,\n",
       " 'prod': <function math.prod(iterable, /, *, start=1)>,\n",
       " 'perm': <function math.perm(n, k=None, /)>,\n",
       " 'comb': <function math.comb(n, k, /)>,\n",
       " 'nextafter': <function math.nextafter(x, y, /)>,\n",
       " 'ulp': <function math.ulp(x, /)>,\n",
       " 'pi': 3.141592653589793,\n",
       " 'e': 2.718281828459045,\n",
       " 'tau': 6.283185307179586,\n",
       " 'inf': inf,\n",
       " 'nan': nan}"
      ]
     },
     "execution_count": 7,
     "metadata": {},
     "output_type": "execute_result"
    }
   ],
   "source": [
    "import math\n",
    "math.__dict__\n"
   ]
  },
  {
   "cell_type": "code",
   "execution_count": null,
   "metadata": {},
   "outputs": [],
   "source": [
    "def myfunc(a,b,c,d,e):\n",
    "    return sum((a,b,c,d,e))\n",
    "\n",
    "myfunc(40,60,20,2,3)"
   ]
  },
  {
   "cell_type": "raw",
   "metadata": {},
   "source": [
    "positional arguments/non-default arguments are compulsory\n",
    "named arguments/default arguments should come after the positional arguments"
   ]
  },
  {
   "cell_type": "code",
   "execution_count": null,
   "metadata": {},
   "outputs": [],
   "source": [
    "def myfunc(a =10, b):\n",
    "    return a+b"
   ]
  },
  {
   "cell_type": "code",
   "execution_count": null,
   "metadata": {},
   "outputs": [],
   "source": [
    "def myfunc(b,a =10):\n",
    "    return a+b"
   ]
  },
  {
   "cell_type": "code",
   "execution_count": null,
   "metadata": {},
   "outputs": [],
   "source": [
    "print(type(myfunc(40,60,20,2,5.0+2j)))"
   ]
  },
  {
   "cell_type": "code",
   "execution_count": null,
   "metadata": {},
   "outputs": [],
   "source": [
    "\n",
    "print(type(myfunc()))"
   ]
  },
  {
   "cell_type": "markdown",
   "metadata": {},
   "source": [
    "Obviously this is not a very efficient solution, and that's where `*args` comes in.\n",
    "\n",
    "## `*args`\n",
    "\n",
    "When a function parameter starts with an asterisk, it allows for an *arbitrary number* of arguments, and the function takes them in as a tuple of values. Rewriting the above function:"
   ]
  },
  {
   "cell_type": "code",
   "execution_count": 24,
   "metadata": {},
   "outputs": [
    {
     "name": "stdout",
     "output_type": "stream",
     "text": [
      "(1, 2, 3, 4, 7, 100, 12, 13, 16, 1, 8, 34, 5, 6, 6, 3, 4, 5, 6, 6, 7, 89, 2345, 2345) <class 'tuple'>\n",
      "5028\n",
      "(1, 2, 3, 4, 7, 100, 12, 13, 16, 1) <class 'tuple'>\n",
      "159\n",
      "(1, 2, 3, 4, 7, 100, 12) <class 'tuple'>\n",
      "129\n"
     ]
    }
   ],
   "source": [
    "def myfunc(*hi):\n",
    "    print(hi, type(hi))\n",
    "    return sum(hi)\n",
    "\n",
    "print(myfunc(1,2,3,4,7,100,12,13,16,1,8,34,5,6,6,3,4,5,6,6,7,89,2345,2345))\n",
    "print(myfunc(1,2,3,4,7,100,12,13,16,1))\n",
    "print(myfunc(1,2,3,4,7,100,12))"
   ]
  },
  {
   "cell_type": "code",
   "execution_count": 25,
   "metadata": {},
   "outputs": [
    {
     "name": "stdout",
     "output_type": "stream",
     "text": [
      "10713\n",
      "35\n"
     ]
    }
   ],
   "source": [
    "### Sum of Next number squares \n",
    "def sumofsquare(*allnos):\n",
    "    total_sum = 0\n",
    "    for x in allnos:\n",
    "        total_sum = total_sum + (x)**2 \n",
    "    return total_sum        \n",
    "print(sumofsquare(1,2,3,4,7,100,12,13,16,1,8))\n",
    "print(sumofsquare(1,3,5))\n"
   ]
  },
  {
   "cell_type": "markdown",
   "metadata": {},
   "source": [
    "Notice how passing the keyword \"args\" into the `sum()` function did the same thing as a tuple of arguments.\n",
    "\n",
    "It is worth noting that the word \"args\" is itself arbitrary - any word will do so long as it's preceded by an asterisk. To demonstrate this:"
   ]
  },
  {
   "cell_type": "code",
   "execution_count": null,
   "metadata": {},
   "outputs": [],
   "source": [
    "def myfunc(*num):\n",
    "    print(type(num))\n",
    "    for x in num:\n",
    "        print(x)\n",
    "    return sum(num)\n",
    "\n",
    "   \n",
    "myfunc(40,60,20,80,7,5,6,11,12,34)"
   ]
  },
  {
   "cell_type": "markdown",
   "metadata": {},
   "source": [
    "## `**kwargs`\n",
    "\n",
    "Similarly, Python offers a way to handle arbitrary numbers of *keyworded* arguments. Instead of creating a tuple of values, `**kwargs` builds a dictionary of key/value pairs. For example:"
   ]
  },
  {
   "cell_type": "code",
   "execution_count": 28,
   "metadata": {},
   "outputs": [],
   "source": [
    "def myfunc(**abc):\n",
    "    print(abc,type(abc))\n",
    "    for fruits in abc:\n",
    "        if len(fruits)<6:\n",
    "            print(f\"My favorite fruit is {abc[fruits]}\")\n",
    "        else:\n",
    "            print(f\"I don't like {abc[fruits]} fruit\")\n",
    "\n",
    " # review String Formatting and f-strings if this syntax is unfamiliar"
   ]
  },
  {
   "cell_type": "raw",
   "metadata": {},
   "source": [
    "{\"fruit\":\"pineapple\",\"goodfruit\":\"apple\"}"
   ]
  },
  {
   "cell_type": "code",
   "execution_count": 29,
   "metadata": {},
   "outputs": [
    {
     "name": "stdout",
     "output_type": "stream",
     "text": [
      "{'fruit': 'pineapple', 'goodfruit': 'apple'} <class 'dict'>\n",
      "My favorite fruit is pineapple\n",
      "I don't like apple fruit\n"
     ]
    }
   ],
   "source": [
    "myfunc(fruit='pineapple', goodfruit =\"apple\")"
   ]
  },
  {
   "cell_type": "code",
   "execution_count": 30,
   "metadata": {},
   "outputs": [
    {
     "data": {
      "text/plain": [
       "tuple"
      ]
     },
     "execution_count": 30,
     "metadata": {},
     "output_type": "execute_result"
    }
   ],
   "source": [
    "a = 1,\n",
    "type(a)"
   ]
  },
  {
   "cell_type": "code",
   "execution_count": 33,
   "metadata": {},
   "outputs": [],
   "source": [
    "counts_lessthan5 = [\"one\",\"two\",\"three\", \"four\"]\n",
    "def add2fruitbaskets(**abc):\n",
    "    print(abc)\n",
    "    basket1= []\n",
    "    basket2 =[]\n",
    "    for fruits in abc:\n",
    "        if(fruits in counts_lessthan5):\n",
    "            basket1.append(abc[fruits])\n",
    "        else:\n",
    "            basket2.append(abc[fruits])\n",
    "    return basket1,basket2"
   ]
  },
  {
   "cell_type": "code",
   "execution_count": 36,
   "metadata": {},
   "outputs": [
    {
     "name": "stdout",
     "output_type": "stream",
     "text": [
      "{'one': 'apple', 'five': 'orange', 'eight': 'guava', 'four': 'pomegrante'}\n",
      "['apple', 'pomegrante']\n"
     ]
    }
   ],
   "source": [
    "data = add2fruitbaskets(one=\"apple\",five=\"orange\", eight=\"guava\", four=\"pomegrante\")\n",
    "print(data[0])\n",
    "#y = data[0].sort()\n",
    "#data[0].sort()\n",
    "#print(data)\n",
    "#y.sort()\n",
    "#print(y)"
   ]
  },
  {
   "cell_type": "code",
   "execution_count": 37,
   "metadata": {},
   "outputs": [
    {
     "name": "stdout",
     "output_type": "stream",
     "text": [
      "([('apple', 4), ('orange', 2), ('guava', 7), ('pomegrante', 4)], [('carrot', 20)], [('chalk', 50)])\n",
      "([('apple', 4), ('orange', 2), ('guava', 7)], [('spinach', 2), ('beets', 4), ('carrot', 20)], [])\n"
     ]
    }
   ],
   "source": [
    "vegetables = ['carrot','beets','tomato','brinjal','cauliflower','spinach']\n",
    "fruits = ['apple', 'orange', 'guava','pomegrante', 'water melon', 'pineapple']\n",
    "def separatefruitandveggies(**purchased_items):\n",
    "    fruit_basket= []\n",
    "    vegetable_basket =[]\n",
    "    others = []\n",
    "    for grocery in purchased_items:\n",
    "        if(grocery in fruits):\n",
    "            fruit_basket.append((grocery,purchased_items[grocery]))\n",
    "        elif(grocery in vegetables): \n",
    "             vegetable_basket.append((grocery,purchased_items[grocery]))\n",
    "        else:\n",
    "            others.append((grocery,purchased_items[grocery]))\n",
    "    return fruit_basket,vegetable_basket, others\n",
    "\n",
    "data = separatefruitandveggies(apple=4, orange =2, guava = 7, pomegrante = 4, carrot =20, chalk =50)\n",
    "print(data)\n",
    "\n",
    "data = separatefruitandveggies(apple=4,spinach=2, orange =2, guava = 7, beets = 4, carrot =20)\n",
    "print(data)\n"
   ]
  },
  {
   "cell_type": "code",
   "execution_count": 38,
   "metadata": {},
   "outputs": [
    {
     "name": "stdout",
     "output_type": "stream",
     "text": [
      "It's a red color fruit and the fruit is  apple\n",
      "It's not a red color fruit and I am not telling the name\n",
      "It's a red color fruit and the fruit is  pomegrante\n"
     ]
    }
   ],
   "source": [
    "redcolorfruit = [\"apple\", \"pomegrante\"]\n",
    "def myfruitcolorfunc(**redcolors):\n",
    "    for fruits in redcolors:\n",
    "        if redcolors[fruits] in redcolorfruit:\n",
    "            print(\"It's a red color fruit and the fruit is  {}\".format(redcolors[fruits]))\n",
    "        else:\n",
    "            print(\"It's not a red color fruit and I am not telling the name\")\n",
    "\n",
    "myfruitcolorfunc(fruit = \"apple\" , goodfruit = \"pineapple\", luckyfruit = \"pomegrante\")"
   ]
  },
  {
   "cell_type": "code",
   "execution_count": 39,
   "metadata": {},
   "outputs": [],
   "source": [
    "def myfunc(**abc):\n",
    "    for fruits in abc:\n",
    "        if len(fruits)>6:\n",
    "            print(f\"My favorite fruit is {abc[fruits]}\")\n",
    "\n"
   ]
  },
  {
   "cell_type": "code",
   "execution_count": null,
   "metadata": {},
   "outputs": [],
   "source": [
    "myfunc(fruit = \"apple\" , goodfruit = \"pineapple\", luckyfruit = \"pomegrante\")"
   ]
  },
  {
   "cell_type": "markdown",
   "metadata": {},
   "source": [
    "## `*args` and `**kwargs` combined\n",
    "You can pass `*args` and `**kwargs` into the same function, but `*args` have to appear before `**kwargs`"
   ]
  },
  {
   "cell_type": "code",
   "execution_count": 41,
   "metadata": {},
   "outputs": [
    {
     "name": "stdout",
     "output_type": "stream",
     "text": [
      "I like eggs and spam and nuts and my favorite fruit is apple\n",
      "##############################\n",
      "I like eggs and spam and nuts and my favorite fruit is orange\n",
      "May I have some orange juice?\n"
     ]
    }
   ],
   "source": [
    "def myfunc( *args,**kwargs):\n",
    "    try:\n",
    "        if 'fruit' and 'juice' in kwargs:\n",
    "            print(f\"I like {' and '.join(args)} and my favorite fruit is {kwargs['fruit']}\")\n",
    "            print(\"##############################\")\n",
    "            print(\"I like {} and my favorite fruit is {}\".format((' and '.join(args)),kwargs['juice']))\n",
    "            print(f\"May I have some {kwargs['juice']} juice?\")\n",
    "        else:\n",
    "            print(f\"I like {' and '.join(args)}\")\n",
    "            print(f\"now we have added {kwargs['veggie']} \")\n",
    "            print(f\"now we have added {kwargs['fresh']} \")\n",
    "    except ex as exception:\n",
    "            print(ex)\n",
    "#myfunc('eggs','spam','nuts',fruit='cherries',juice='orange',veggie=\"carrot\", cereals = \"nuts\", fresh = 'milk')\n",
    "\n",
    "myfunc('eggs','spam','nuts',veggie=\"carrot\", cereals = \"nuts\", fresh = 'milk', fruit='apple' , juice='orange')"
   ]
  },
  {
   "cell_type": "code",
   "execution_count": 42,
   "metadata": {},
   "outputs": [],
   "source": [
    "def simplesum(a):\n",
    "    pass"
   ]
  },
  {
   "cell_type": "markdown",
   "metadata": {},
   "source": [
    "Placing keyworded arguments ahead of positional arguments raises an exception:"
   ]
  },
  {
   "cell_type": "code",
   "execution_count": 43,
   "metadata": {},
   "outputs": [
    {
     "name": "stdout",
     "output_type": "stream",
     "text": [
      "I like eggs and spam\n",
      "now we have added beets \n",
      "now we have added milk \n"
     ]
    }
   ],
   "source": [
    "myfunc('eggs','spam',fruit='cherries',fresh=\"milk\",veggie = \"beets\")\n"
   ]
  },
  {
   "cell_type": "code",
   "execution_count": 44,
   "metadata": {},
   "outputs": [
    {
     "ename": "SyntaxError",
     "evalue": "positional argument follows keyword argument (<ipython-input-44-fc6ff65addcc>, line 1)",
     "output_type": "error",
     "traceback": [
      "\u001b[1;36m  File \u001b[1;32m\"<ipython-input-44-fc6ff65addcc>\"\u001b[1;36m, line \u001b[1;32m1\u001b[0m\n\u001b[1;33m    myfunc(fruit='cherries',juice='orange','eggs','spam')\u001b[0m\n\u001b[1;37m                                                        ^\u001b[0m\n\u001b[1;31mSyntaxError\u001b[0m\u001b[1;31m:\u001b[0m positional argument follows keyword argument\n"
     ]
    }
   ],
   "source": [
    "myfunc(fruit='cherries',juice='orange','eggs','spam')"
   ]
  },
  {
   "cell_type": "markdown",
   "metadata": {},
   "source": [
    "As with \"args\", you can use any name you'd like for keyworded arguments - \"kwargs\" is just a popular convention.\n",
    "\n",
    "That's it! Now you should understand how `*args` and `**kwargs` provide the flexibilty to work with arbitrary numbers of arguments!"
   ]
  }
 ],
 "metadata": {
  "kernelspec": {
   "display_name": "Python 3",
   "language": "python",
   "name": "python3"
  },
  "language_info": {
   "codemirror_mode": {
    "name": "ipython",
    "version": 3
   },
   "file_extension": ".py",
   "mimetype": "text/x-python",
   "name": "python",
   "nbconvert_exporter": "python",
   "pygments_lexer": "ipython3",
   "version": "3.9.1"
  }
 },
 "nbformat": 4,
 "nbformat_minor": 2
}
