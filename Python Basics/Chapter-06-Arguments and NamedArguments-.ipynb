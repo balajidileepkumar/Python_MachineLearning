{
 "cells": [
  {
   "cell_type": "markdown",
   "metadata": {},
   "source": [
    "# `*args` and `**kwargs`\n",
    "\n",
    "Work with Python long enough, and eventually you will encounter `*args` and `**kwargs`. These strange terms show up as parameters in function definitions. What do they do? Let's review a simple function:"
   ]
  },
  {
   "cell_type": "code",
   "execution_count": 5,
   "metadata": {},
   "outputs": [],
   "source": [
    "def myfunc(a,b,c=100):\n",
    "    '''\n",
    "    Return the sum of two numbers #########\n",
    "    hi this is function requires some complex number as in\n",
    "    '''\n",
    "    return sum((a,b,c))\n",
    "\n",
    "a = myfunc(150,50)"
   ]
  },
  {
   "cell_type": "code",
   "execution_count": 6,
   "metadata": {},
   "outputs": [
    {
     "name": "stdout",
     "output_type": "stream",
     "text": [
      "300\n"
     ]
    }
   ],
   "source": [
    "print(myfunc(150,50))"
   ]
  },
  {
   "cell_type": "code",
   "execution_count": 7,
   "metadata": {},
   "outputs": [
    {
     "data": {
      "text/plain": [
       "103"
      ]
     },
     "execution_count": 7,
     "metadata": {},
     "output_type": "execute_result"
    }
   ],
   "source": [
    "myfunc(1,2)"
   ]
  },
  {
   "cell_type": "code",
   "execution_count": 8,
   "metadata": {},
   "outputs": [
    {
     "data": {
      "text/plain": [
       "'\\n    Return the sum of two numbers #########\\n    hi this is function requires some complex number as in\\n    '"
      ]
     },
     "execution_count": 8,
     "metadata": {},
     "output_type": "execute_result"
    }
   ],
   "source": [
    "myfunc.__doc__"
   ]
  },
  {
   "cell_type": "code",
   "execution_count": 9,
   "metadata": {},
   "outputs": [
    {
     "data": {
      "text/plain": [
       "[0, 10, 20, 30, 40, 50, 60, 70, 80, 90]"
      ]
     },
     "execution_count": 9,
     "metadata": {},
     "output_type": "execute_result"
    }
   ],
   "source": [
    "x =range(0,100,10)\n",
    "list(x)"
   ]
  },
  {
   "cell_type": "markdown",
   "metadata": {},
   "source": [
    "This function returns 5% of the sum of **a** and **b**. In this example, **a** and **b** are *positional* arguments; that is, 40 is assigned to **a** because it is the first argument, and 60 to **b**. Notice also that to work with multiple positional arguments in the `sum()` function we had to pass them in as a tuple.\n",
    "\n",
    "What if we want to work with more than two numbers? One way would be to assign a *lot* of parameters, and give each one a default value."
   ]
  },
  {
   "cell_type": "code",
   "execution_count": 10,
   "metadata": {},
   "outputs": [
    {
     "data": {
      "text/plain": [
       "1120"
      ]
     },
     "execution_count": 10,
     "metadata": {},
     "output_type": "execute_result"
    }
   ],
   "source": [
    "def myfunc(a=0,b=0,c=0,d=0,e=0,f=0):\n",
    "    return sum((a,b,c,d,e,f))\n",
    "\n",
    "myfunc(40,60,20,200,300,500)"
   ]
  },
  {
   "cell_type": "code",
   "execution_count": 11,
   "metadata": {},
   "outputs": [
    {
     "data": {
      "text/plain": [
       "1"
      ]
     },
     "execution_count": 11,
     "metadata": {},
     "output_type": "execute_result"
    }
   ],
   "source": [
    "myfunc(1)"
   ]
  },
  {
   "cell_type": "code",
   "execution_count": 14,
   "metadata": {},
   "outputs": [
    {
     "data": {
      "text/plain": [
       "'a b $ $ $'"
      ]
     },
     "execution_count": 14,
     "metadata": {},
     "output_type": "execute_result"
    }
   ],
   "source": [
    "def join_data(a='$',b='$',c='$',d='$',e='$'):\n",
    "    return \" \".join([a,b,c,d,e])\n",
    "\n",
    "join_data('a','b')"
   ]
  },
  {
   "cell_type": "code",
   "execution_count": 13,
   "metadata": {},
   "outputs": [
    {
     "ename": "TypeError",
     "evalue": "join_data() takes from 0 to 5 positional arguments but 7 were given",
     "output_type": "error",
     "traceback": [
      "\u001b[1;31m---------------------------------------------------------------------------\u001b[0m",
      "\u001b[1;31mTypeError\u001b[0m                                 Traceback (most recent call last)",
      "Input \u001b[1;32mIn [13]\u001b[0m, in \u001b[0;36m<cell line: 1>\u001b[1;34m()\u001b[0m\n\u001b[1;32m----> 1\u001b[0m \u001b[43mjoin_data\u001b[49m\u001b[43m(\u001b[49m\u001b[38;5;124;43m'\u001b[39;49m\u001b[38;5;124;43mz\u001b[39;49m\u001b[38;5;124;43m'\u001b[39;49m\u001b[43m,\u001b[49m\u001b[38;5;124;43m'\u001b[39;49m\u001b[38;5;124;43mx\u001b[39;49m\u001b[38;5;124;43m'\u001b[39;49m\u001b[43m,\u001b[49m\u001b[38;5;124;43m'\u001b[39;49m\u001b[38;5;124;43my\u001b[39;49m\u001b[38;5;124;43m'\u001b[39;49m\u001b[43m,\u001b[49m\u001b[38;5;124;43m'\u001b[39;49m\u001b[38;5;124;43mw\u001b[39;49m\u001b[38;5;124;43m'\u001b[39;49m\u001b[43m,\u001b[49m\u001b[38;5;124;43m'\u001b[39;49m\u001b[38;5;124;43mv\u001b[39;49m\u001b[38;5;124;43m'\u001b[39;49m\u001b[43m,\u001b[49m\u001b[38;5;124;43m'\u001b[39;49m\u001b[38;5;124;43mu\u001b[39;49m\u001b[38;5;124;43m'\u001b[39;49m\u001b[43m,\u001b[49m\u001b[38;5;124;43m'\u001b[39;49m\u001b[38;5;124;43mt\u001b[39;49m\u001b[38;5;124;43m'\u001b[39;49m\u001b[43m)\u001b[49m\n",
      "\u001b[1;31mTypeError\u001b[0m: join_data() takes from 0 to 5 positional arguments but 7 were given"
     ]
    }
   ],
   "source": [
    "join_data('z','x','y','w','v','u','t')"
   ]
  },
  {
   "cell_type": "code",
   "execution_count": 18,
   "metadata": {},
   "outputs": [
    {
     "data": {
      "text/plain": [
       "{'__name__': 'math',\n",
       " '__doc__': 'This module provides access to the mathematical functions\\ndefined by the C standard.',\n",
       " '__package__': '',\n",
       " '__loader__': _frozen_importlib.BuiltinImporter,\n",
       " '__spec__': ModuleSpec(name='math', loader=<class '_frozen_importlib.BuiltinImporter'>, origin='built-in'),\n",
       " 'acos': <function math.acos(x, /)>,\n",
       " 'acosh': <function math.acosh(x, /)>,\n",
       " 'asin': <function math.asin(x, /)>,\n",
       " 'asinh': <function math.asinh(x, /)>,\n",
       " 'atan': <function math.atan(x, /)>,\n",
       " 'atan2': <function math.atan2(y, x, /)>,\n",
       " 'atanh': <function math.atanh(x, /)>,\n",
       " 'ceil': <function math.ceil(x, /)>,\n",
       " 'copysign': <function math.copysign(x, y, /)>,\n",
       " 'cos': <function math.cos(x, /)>,\n",
       " 'cosh': <function math.cosh(x, /)>,\n",
       " 'degrees': <function math.degrees(x, /)>,\n",
       " 'dist': <function math.dist(p, q, /)>,\n",
       " 'erf': <function math.erf(x, /)>,\n",
       " 'erfc': <function math.erfc(x, /)>,\n",
       " 'exp': <function math.exp(x, /)>,\n",
       " 'expm1': <function math.expm1(x, /)>,\n",
       " 'fabs': <function math.fabs(x, /)>,\n",
       " 'factorial': <function math.factorial(x, /)>,\n",
       " 'floor': <function math.floor(x, /)>,\n",
       " 'fmod': <function math.fmod(x, y, /)>,\n",
       " 'frexp': <function math.frexp(x, /)>,\n",
       " 'fsum': <function math.fsum(seq, /)>,\n",
       " 'gamma': <function math.gamma(x, /)>,\n",
       " 'gcd': <function math.gcd(*integers)>,\n",
       " 'hypot': <function math.hypot>,\n",
       " 'isclose': <function math.isclose(a, b, *, rel_tol=1e-09, abs_tol=0.0)>,\n",
       " 'isfinite': <function math.isfinite(x, /)>,\n",
       " 'isinf': <function math.isinf(x, /)>,\n",
       " 'isnan': <function math.isnan(x, /)>,\n",
       " 'isqrt': <function math.isqrt(n, /)>,\n",
       " 'lcm': <function math.lcm(*integers)>,\n",
       " 'ldexp': <function math.ldexp(x, i, /)>,\n",
       " 'lgamma': <function math.lgamma(x, /)>,\n",
       " 'log': <function math.log>,\n",
       " 'log1p': <function math.log1p(x, /)>,\n",
       " 'log10': <function math.log10(x, /)>,\n",
       " 'log2': <function math.log2(x, /)>,\n",
       " 'modf': <function math.modf(x, /)>,\n",
       " 'pow': <function math.pow(x, y, /)>,\n",
       " 'radians': <function math.radians(x, /)>,\n",
       " 'remainder': <function math.remainder(x, y, /)>,\n",
       " 'sin': <function math.sin(x, /)>,\n",
       " 'sinh': <function math.sinh(x, /)>,\n",
       " 'sqrt': <function math.sqrt(x, /)>,\n",
       " 'tan': <function math.tan(x, /)>,\n",
       " 'tanh': <function math.tanh(x, /)>,\n",
       " 'trunc': <function math.trunc(x, /)>,\n",
       " 'prod': <function math.prod(iterable, /, *, start=1)>,\n",
       " 'perm': <function math.perm(n, k=None, /)>,\n",
       " 'comb': <function math.comb(n, k, /)>,\n",
       " 'nextafter': <function math.nextafter(x, y, /)>,\n",
       " 'ulp': <function math.ulp(x, /)>,\n",
       " 'pi': 3.141592653589793,\n",
       " 'e': 2.718281828459045,\n",
       " 'tau': 6.283185307179586,\n",
       " 'inf': inf,\n",
       " 'nan': nan}"
      ]
     },
     "execution_count": 18,
     "metadata": {},
     "output_type": "execute_result"
    }
   ],
   "source": [
    "import math\n",
    "math.__dict__\n"
   ]
  },
  {
   "cell_type": "code",
   "execution_count": 9,
   "metadata": {},
   "outputs": [
    {
     "data": {
      "text/plain": [
       "125"
      ]
     },
     "execution_count": 9,
     "metadata": {},
     "output_type": "execute_result"
    }
   ],
   "source": [
    "def myfunc(a,b,c,d,e):\n",
    "    return sum((a,b,c,d,e))\n",
    "\n",
    "myfunc(40,60,20,2,3)"
   ]
  },
  {
   "cell_type": "raw",
   "metadata": {},
   "source": [
    "positional arguments/non-default arguments are compulsory\n",
    "named arguments/default arguments should come after the positional arguments"
   ]
  },
  {
   "cell_type": "code",
   "execution_count": 10,
   "metadata": {},
   "outputs": [
    {
     "ename": "SyntaxError",
     "evalue": "non-default argument follows default argument (4180008817.py, line 1)",
     "output_type": "error",
     "traceback": [
      "\u001b[1;36m  Input \u001b[1;32mIn [10]\u001b[1;36m\u001b[0m\n\u001b[1;33m    def myfunc(a =10, b):\u001b[0m\n\u001b[1;37m                      ^\u001b[0m\n\u001b[1;31mSyntaxError\u001b[0m\u001b[1;31m:\u001b[0m non-default argument follows default argument\n"
     ]
    }
   ],
   "source": [
    "def myfunc(a =10, b):\n",
    "    return a+b"
   ]
  },
  {
   "cell_type": "code",
   "execution_count": 13,
   "metadata": {},
   "outputs": [],
   "source": [
    "def myfunc(b,a =10):\n",
    "    return a+b"
   ]
  },
  {
   "cell_type": "code",
   "execution_count": 14,
   "metadata": {},
   "outputs": [
    {
     "ename": "TypeError",
     "evalue": "myfunc() takes from 1 to 2 positional arguments but 5 were given",
     "output_type": "error",
     "traceback": [
      "\u001b[1;31m---------------------------------------------------------------------------\u001b[0m",
      "\u001b[1;31mTypeError\u001b[0m                                 Traceback (most recent call last)",
      "Input \u001b[1;32mIn [14]\u001b[0m, in \u001b[0;36m<cell line: 1>\u001b[1;34m()\u001b[0m\n\u001b[1;32m----> 1\u001b[0m \u001b[38;5;28mprint\u001b[39m(\u001b[38;5;28mtype\u001b[39m(\u001b[43mmyfunc\u001b[49m\u001b[43m(\u001b[49m\u001b[38;5;241;43m40\u001b[39;49m\u001b[43m,\u001b[49m\u001b[38;5;241;43m60\u001b[39;49m\u001b[43m,\u001b[49m\u001b[38;5;241;43m20\u001b[39;49m\u001b[43m,\u001b[49m\u001b[38;5;241;43m2\u001b[39;49m\u001b[43m,\u001b[49m\u001b[38;5;241;43m5.0\u001b[39;49m\u001b[38;5;241;43m+\u001b[39;49m\u001b[38;5;241;43m2\u001b[39;49m\u001b[43mj\u001b[49m\u001b[43m)\u001b[49m))\n",
      "\u001b[1;31mTypeError\u001b[0m: myfunc() takes from 1 to 2 positional arguments but 5 were given"
     ]
    }
   ],
   "source": [
    "print(type(myfunc(40,60,20,2,5.0+2j)))"
   ]
  },
  {
   "cell_type": "code",
   "execution_count": null,
   "metadata": {},
   "outputs": [],
   "source": [
    "\n",
    "print(type(myfunc()))"
   ]
  },
  {
   "cell_type": "markdown",
   "metadata": {},
   "source": [
    "Obviously this is not a very efficient solution, and that's where `*args` comes in.\n",
    "\n",
    "## `*args`\n",
    "\n",
    "When a function parameter starts with an asterisk, it allows for an *arbitrary number* of arguments, and the function takes them in as a tuple of values. Rewriting the above function:"
   ]
  },
  {
   "cell_type": "code",
   "execution_count": 15,
   "metadata": {},
   "outputs": [
    {
     "data": {
      "text/plain": [
       "15"
      ]
     },
     "execution_count": 15,
     "metadata": {},
     "output_type": "execute_result"
    }
   ],
   "source": [
    "sum({1,2,3,4,5,1,2,3})"
   ]
  },
  {
   "cell_type": "code",
   "execution_count": 16,
   "metadata": {},
   "outputs": [
    {
     "data": {
      "text/plain": [
       "21"
      ]
     },
     "execution_count": 16,
     "metadata": {},
     "output_type": "execute_result"
    }
   ],
   "source": [
    "sum([1,2,3,4,5,1,2,3])"
   ]
  },
  {
   "cell_type": "code",
   "execution_count": 21,
   "metadata": {},
   "outputs": [
    {
     "data": {
      "text/plain": [
       "(26+2j)"
      ]
     },
     "execution_count": 21,
     "metadata": {},
     "output_type": "execute_result"
    }
   ],
   "source": [
    "sum((1,2,3,4,5,1,2,3,5+2j))"
   ]
  },
  {
   "cell_type": "code",
   "execution_count": 18,
   "metadata": {},
   "outputs": [
    {
     "name": "stdout",
     "output_type": "stream",
     "text": [
      "(1, 2, 3, 4, 7, 100, 12, 13, 16, 1, 8, 34, 5, 6, 6, 3, 4, 5, 6, 6, 7, 89, 2345, 2345)\n",
      "<class 'tuple'>\n",
      "5028\n",
      "(1, 2, 3, 4, 7, 100, 12, 13, 16, 1)\n",
      "<class 'tuple'>\n",
      "159\n",
      "(1, 2, 3, 4, 7, 100, 12)\n",
      "<class 'tuple'>\n",
      "129\n"
     ]
    }
   ],
   "source": [
    "def myfunc(*hi):\n",
    "    print(hi)\n",
    "    print(type(hi))\n",
    "    return sum(hi)\n",
    "\n",
    "print(myfunc(1,2,3,4,7,100,12,13,16,1,8,34,5,6,6,3,4,5,6,6,7,89,2345,2345))\n",
    "print(myfunc(1,2,3,4,7,100,12,13,16,1))\n",
    "print(myfunc(1,2,3,4,7,100,12))"
   ]
  },
  {
   "cell_type": "code",
   "execution_count": 22,
   "metadata": {},
   "outputs": [
    {
     "name": "stdout",
     "output_type": "stream",
     "text": [
      "10713\n",
      "35\n"
     ]
    }
   ],
   "source": [
    "### Sum of number squares \n",
    "def sumofsquare(*allnos):\n",
    "    total_sum = 0\n",
    "    for x in allnos:\n",
    "        total_sum = total_sum + (x)**2 \n",
    "    return total_sum        \n",
    "print(sumofsquare(1,2,3,4,7,100,12,13,16,1,8))\n",
    "print(sumofsquare(1,3,5))\n"
   ]
  },
  {
   "cell_type": "markdown",
   "metadata": {},
   "source": [
    "Notice how passing the keyword \"args\" into the `sum()` function did the same thing as a tuple of arguments.\n",
    "\n",
    "It is worth noting that the word \"args\" is itself arbitrary - any word will do so long as it's preceded by an asterisk. To demonstrate this:"
   ]
  },
  {
   "cell_type": "code",
   "execution_count": 22,
   "metadata": {},
   "outputs": [
    {
     "name": "stdout",
     "output_type": "stream",
     "text": [
      "<class 'tuple'>\n",
      "40\n",
      "60\n",
      "20\n",
      "80\n",
      "7\n",
      "5\n",
      "6\n",
      "11\n",
      "12\n",
      "34\n"
     ]
    },
    {
     "data": {
      "text/plain": [
       "275"
      ]
     },
     "execution_count": 22,
     "metadata": {},
     "output_type": "execute_result"
    }
   ],
   "source": [
    "def myfunc(*num):\n",
    "    print(type(num))\n",
    "    for x in num:\n",
    "        print(x)\n",
    "    return sum(num)\n",
    "  \n",
    "myfunc(40,60,20,80,7,5,6,11,12,34)"
   ]
  },
  {
   "cell_type": "markdown",
   "metadata": {},
   "source": [
    "## `**kwargs`\n",
    "\n",
    "Similarly, Python offers a way to handle arbitrary numbers of *keyworded* arguments. Instead of creating a tuple of values, `**kwargs` builds a dictionary of key/value pairs. For example:"
   ]
  },
  {
   "cell_type": "code",
   "execution_count": 25,
   "metadata": {},
   "outputs": [],
   "source": [
    "def myfunc(**abc):\n",
    "    print(abc)\n",
    "    print(type(abc))\n",
    "    for fruitname in abc:\n",
    "        if abc[fruitname] == 'edible':\n",
    "            print(f\"Allowed to Eat {fruitname}\")\n",
    "        else:\n",
    "            print(f\"I don't like {fruitname} \")\n",
    "\n",
    " # review String Formatting and f-strings if this syntax is unfamiliar"
   ]
  },
  {
   "cell_type": "raw",
   "metadata": {},
   "source": [
    "{\"pineapple\":\"non-edible\",\"apple\":\"edible\",\"\"}"
   ]
  },
  {
   "cell_type": "code",
   "execution_count": 26,
   "metadata": {},
   "outputs": [
    {
     "name": "stdout",
     "output_type": "stream",
     "text": [
      "{'pineapple': 'edible', 'apple': 'edible', 'Osage_Orange': 'non-edible', 'Silverbell': 'non-edible', 'Wahoo': 'non-edible'}\n",
      "<class 'dict'>\n",
      "Allowed to Eat pineapple\n",
      "Allowed to Eat apple\n",
      "I don't like Osage_Orange \n",
      "I don't like Silverbell \n",
      "I don't like Wahoo \n"
     ]
    }
   ],
   "source": [
    "myfunc(pineapple ='edible', apple='edible', Osage_Orange= 'non-edible', Silverbell = 'non-edible', Wahoo='non-edible')"
   ]
  },
  {
   "cell_type": "code",
   "execution_count": 27,
   "metadata": {},
   "outputs": [],
   "source": [
    "def myfunc(**abc):\n",
    "    print(abc)\n",
    "    print(type(abc))\n",
    "    for fruitname, fruitcategory in abc.items():\n",
    "        if fruitcategory == 'edible':\n",
    "            print(f\"Allowed to Eat {fruitname}\")\n",
    "        else:\n",
    "            print(f\"I don't like {fruitname} \")\n",
    "\n",
    " # review String Formatting and f-strings if this syntax is unfamiliar"
   ]
  },
  {
   "cell_type": "code",
   "execution_count": 29,
   "metadata": {},
   "outputs": [
    {
     "name": "stdout",
     "output_type": "stream",
     "text": [
      "{'pineapple': 'edible', 'apple': 'edible', 'Osage_Orange': 'non-edible', 'Silverbell': 'non-edible', 'Wahoo': 'non-edible'}\n",
      "<class 'dict'>\n",
      "Allowed to Eat pineapple\n",
      "Allowed to Eat apple\n",
      "I don't like Osage_Orange \n",
      "I don't like Silverbell \n",
      "I don't like Wahoo \n"
     ]
    }
   ],
   "source": [
    "myfunc(pineapple ='edible', apple='edible', Osage_Orange= 'non-edible', Silverbell = 'non-edible', Wahoo='non-edible')"
   ]
  },
  {
   "cell_type": "code",
   "execution_count": 28,
   "metadata": {},
   "outputs": [
    {
     "data": {
      "text/plain": [
       "tuple"
      ]
     },
     "execution_count": 28,
     "metadata": {},
     "output_type": "execute_result"
    }
   ],
   "source": [
    "a = (1,)\n",
    "a =1,\n",
    "type(a)"
   ]
  },
  {
   "cell_type": "code",
   "execution_count": 30,
   "metadata": {},
   "outputs": [],
   "source": [
    "def add2fruitbaskets(**abc):\n",
    "    #print(abc)\n",
    "    basket1= []\n",
    "    basket2 =[]\n",
    "    for fruit in abc:\n",
    "        if(abc[fruit] < 5):\n",
    "            basket1.append(fruit)\n",
    "        else:\n",
    "            basket2.append(fruit)\n",
    "    return basket1,basket2"
   ]
  },
  {
   "cell_type": "code",
   "execution_count": 54,
   "metadata": {},
   "outputs": [
    {
     "name": "stdout",
     "output_type": "stream",
     "text": [
      "['apple', 'papaya', 'watermelon']\n",
      "['orange', 'guava', 'pomegrante']\n"
     ]
    }
   ],
   "source": [
    "data = add2fruitbaskets(apple=4,orange=6,papaya=2,watermelon=1,guava=10,pomegrante=7)\n",
    "print(data[0])\n",
    "print(data[1])\n",
    "#y = data[0].sort()\n",
    "#data[0].sort()\n",
    "#print(data)\n",
    "#y.sort()\n",
    "#print(y)"
   ]
  },
  {
   "cell_type": "code",
   "execution_count": 29,
   "metadata": {},
   "outputs": [
    {
     "name": "stdout",
     "output_type": "stream",
     "text": [
      "9\n",
      "7\n",
      "5\n",
      "3\n",
      "1\n"
     ]
    }
   ],
   "source": [
    "lst  = [10,9,8,7,6,5,4,3,2,1]\n",
    "for x in range(len(lst)):\n",
    "    if(x % 2!=0):\n",
    "        print(lst[x])"
   ]
  },
  {
   "cell_type": "code",
   "execution_count": 30,
   "metadata": {},
   "outputs": [
    {
     "ename": "AttributeError",
     "evalue": "'list' object has no attribute 'iter'",
     "output_type": "error",
     "traceback": [
      "\u001b[1;31m---------------------------------------------------------------------------\u001b[0m",
      "\u001b[1;31mAttributeError\u001b[0m                            Traceback (most recent call last)",
      "Input \u001b[1;32mIn [30]\u001b[0m, in \u001b[0;36m<cell line: 1>\u001b[1;34m()\u001b[0m\n\u001b[1;32m----> 1\u001b[0m \u001b[38;5;28;01mfor\u001b[39;00m x,y \u001b[38;5;129;01min\u001b[39;00m \u001b[43mlst\u001b[49m\u001b[38;5;241;43m.\u001b[39;49m\u001b[43miter\u001b[49m():\n\u001b[0;32m      2\u001b[0m     \u001b[38;5;28mprint\u001b[39m(x,y)\n",
      "\u001b[1;31mAttributeError\u001b[0m: 'list' object has no attribute 'iter'"
     ]
    }
   ],
   "source": [
    "for x,y in lst.iter():\n",
    "    print(x,y)"
   ]
  },
  {
   "cell_type": "code",
   "execution_count": 31,
   "metadata": {},
   "outputs": [
    {
     "name": "stdout",
     "output_type": "stream",
     "text": [
      "0 10\n",
      "1 9\n",
      "2 8\n",
      "3 7\n",
      "4 6\n",
      "5 5\n",
      "6 4\n",
      "7 3\n",
      "8 2\n",
      "9 1\n"
     ]
    }
   ],
   "source": [
    "for idx, x in enumerate(lst):\n",
    "    print(idx, x)"
   ]
  },
  {
   "cell_type": "code",
   "execution_count": 31,
   "metadata": {},
   "outputs": [],
   "source": [
    "vegetables = ['carrot','beets','tomato','brinjal','cauliflower','spinach']\n",
    "fruits = ['apple', 'orange', 'guava','pomegrante', 'water melon', 'pineapple']\n",
    "def separatefruitandveggies(**purchased_items):\n",
    "    fruit_basket= []\n",
    "    vegetable_basket =[]\n",
    "    others = []\n",
    "    for product in purchased_items:\n",
    "        if(product in fruits):\n",
    "            fruit_basket.append((product,purchased_items[product]))\n",
    "        elif(product in vegetables): \n",
    "             vegetable_basket.append((product,purchased_items[product]))\n",
    "        else:\n",
    "            others.append((product,purchased_items[product]))\n",
    "    return fruit_basket,vegetable_basket, others\n"
   ]
  },
  {
   "cell_type": "code",
   "execution_count": 65,
   "metadata": {},
   "outputs": [
    {
     "name": "stdout",
     "output_type": "stream",
     "text": [
      "{'apple': 4, 'orange': 2, 'guava': 7, 'pomegrante': 4}\n",
      "{'carrot': 20}\n",
      "{'biscuits': 20, 'uraddal': 1, 'sunfloweroil': 10}\n"
     ]
    }
   ],
   "source": [
    "data = separatefruitandveggies(apple=4, orange =2, guava = 7, pomegrante = 4, carrot =20, biscuits=20, uraddal =1,sunfloweroil =10)\n",
    "for product_category in data:\n",
    "    print(dict(product_category))"
   ]
  },
  {
   "cell_type": "code",
   "execution_count": 67,
   "metadata": {},
   "outputs": [
    {
     "name": "stdout",
     "output_type": "stream",
     "text": [
      "{'apple': 4, 'orange': 2, 'guava': 7}\n",
      "{'spinach': 2, 'beets': 4, 'carrot': 20}\n",
      "{'wheatflour': 5}\n"
     ]
    }
   ],
   "source": [
    "data = separatefruitandveggies(apple=4,spinach=2, orange =2, guava = 7, beets = 4, carrot =20 , wheatflour = 5)\n",
    "for product_category in data:\n",
    "    print(dict(product_category))"
   ]
  },
  {
   "cell_type": "code",
   "execution_count": 28,
   "metadata": {},
   "outputs": [
    {
     "name": "stdout",
     "output_type": "stream",
     "text": [
      "['apple', 'cherry']\n",
      "['pineapple', 'pomegrante']\n"
     ]
    },
    {
     "data": {
      "text/plain": [
       "(['apple', 'cherry'], ['pineapple', 'pomegrante'])"
      ]
     },
     "execution_count": 28,
     "metadata": {},
     "output_type": "execute_result"
    }
   ],
   "source": [
    "NeedPreservation = [\"apple\",\"strawberry\",\"kiwi\",\"fig\",\"plums\",\"cherry\",\"grapes\",\"watermelon\",'milk']\n",
    "My_Refrigerator = []\n",
    "Shelf_storage = []\n",
    "def sort_fruit(**redcolors):\n",
    "    for fruits in redcolors:\n",
    "        if redcolors[fruits] in NeedPreservation:\n",
    "            My_Refrigerator.append(redcolors[fruits])\n",
    "        else:\n",
    "            Shelf_storage.append(redcolors[fruits])\n",
    "    print(My_Refrigerator)\n",
    "    print(Shelf_storage)\n",
    "    return My_Refrigerator, Shelf_storage\n",
    "sort_fruit(fruit_a = \"apple\" , fruit_b = \"pineapple\", fruit_c = \"pomegrante\", fruit_d =\"cherry\")"
   ]
  },
  {
   "cell_type": "code",
   "execution_count": 29,
   "metadata": {},
   "outputs": [],
   "source": [
    "def myfunc(**abc):\n",
    "    for fruits in abc:\n",
    "        if len(fruits)>6:\n",
    "            print(f\"My favorite fruit is {abc[fruits]}\")\n",
    "\n"
   ]
  },
  {
   "cell_type": "code",
   "execution_count": 77,
   "metadata": {},
   "outputs": [
    {
     "name": "stdout",
     "output_type": "stream",
     "text": [
      "My favorite fruit is pineapple\n",
      "My favorite fruit is pomegrante\n"
     ]
    }
   ],
   "source": [
    "myfunc(fruit = \"apple\" , goodfruit = \"pineapple\", luckyfruit = \"pomegrante\")"
   ]
  },
  {
   "cell_type": "markdown",
   "metadata": {},
   "source": [
    "## `*args` and `**kwargs` combined\n",
    "You can pass `*args` and `**kwargs` into the same function, but `*args` have to appear before `**kwargs`"
   ]
  },
  {
   "cell_type": "code",
   "execution_count": 35,
   "metadata": {
    "scrolled": true
   },
   "outputs": [
    {
     "data": {
      "text/plain": [
       "([('apple', 5), ('orange', 5)],\n",
       " [('carrot', 25)],\n",
       " [('milk', 2), ('flavoured_drink', 10), 'eggs', 'spam', 'nuts'])"
      ]
     },
     "execution_count": 35,
     "metadata": {},
     "output_type": "execute_result"
    }
   ],
   "source": [
    "vegetables = ['carrot','beetroot','tomato','brinjal','cauliflower','spinach','capsicum','cucumber','mushroom']\n",
    "fruits = ['apple', 'orange', 'guava','pomegrante', 'pineapple',\"strawberry\",\"kiwi\",\"fig\",\"plums\",\"cherry\",\"grapes\",\"watermelon\"]\n",
    "others = ['eggs','spam','biscuits',]\n",
    "def myfunc(*other_items,**essential):\n",
    "    fruit_basket=[]\n",
    "    vegetable_basket = []\n",
    "    other_basket = []\n",
    "    try:\n",
    "        for product, quantity in essential.items():\n",
    "            if(product in fruits):\n",
    "                fruit_basket.append((product,essential[product]))\n",
    "            elif(product in vegetables): \n",
    "                 vegetable_basket.append((product,essential[product]))\n",
    "            else:\n",
    "                other_basket.append((product,essential[product]))\n",
    "        for items in other_items:\n",
    "            other_basket.append(items)   \n",
    "        return fruit_basket,vegetable_basket,other_basket    \n",
    "    except Exception as ex:\n",
    "            print(ex)\n",
    "#myfunc('eggs','spam','nuts',fruit='cherries',juice='orange',veggie=\"carrot\", cereals = \"nuts\", fresh = 'milk')\n",
    "\n",
    "myfunc('eggs','spam','nuts',carrot=25, milk = 2, apple= 5,orange =5, flavoured_drink=10)"
   ]
  },
  {
   "cell_type": "code",
   "execution_count": 87,
   "metadata": {},
   "outputs": [
    {
     "ename": "SyntaxError",
     "evalue": "non-default argument follows default argument (<ipython-input-87-517c9409bfa2>, line 1)",
     "output_type": "error",
     "traceback": [
      "\u001b[1;36m  File \u001b[1;32m\"<ipython-input-87-517c9409bfa2>\"\u001b[1;36m, line \u001b[1;32m1\u001b[0m\n\u001b[1;33m    def simplesum(a =10, b):\u001b[0m\n\u001b[1;37m                          ^\u001b[0m\n\u001b[1;31mSyntaxError\u001b[0m\u001b[1;31m:\u001b[0m non-default argument follows default argument\n"
     ]
    }
   ],
   "source": [
    "def simplesum(a =10, b):\n",
    "    pass"
   ]
  },
  {
   "cell_type": "markdown",
   "metadata": {},
   "source": [
    "Placing keyworded arguments ahead of positional arguments raises an exception:"
   ]
  },
  {
   "cell_type": "code",
   "execution_count": 36,
   "metadata": {},
   "outputs": [
    {
     "data": {
      "text/plain": [
       "([], [], [('cherries', 10), ('milk', 2), ('beets', 5), 'eggs', 'spam'])"
      ]
     },
     "execution_count": 36,
     "metadata": {},
     "output_type": "execute_result"
    }
   ],
   "source": [
    "myfunc('eggs','spam',cherries=10,milk=2,beets=5)"
   ]
  },
  {
   "cell_type": "code",
   "execution_count": 37,
   "metadata": {},
   "outputs": [
    {
     "ename": "SyntaxError",
     "evalue": "positional argument follows keyword argument (1360330131.py, line 1)",
     "output_type": "error",
     "traceback": [
      "\u001b[1;36m  Input \u001b[1;32mIn [37]\u001b[1;36m\u001b[0m\n\u001b[1;33m    myfunc(cherries=30,orange=5,'eggs','spam')\u001b[0m\n\u001b[1;37m                                             ^\u001b[0m\n\u001b[1;31mSyntaxError\u001b[0m\u001b[1;31m:\u001b[0m positional argument follows keyword argument\n"
     ]
    }
   ],
   "source": [
    "myfunc(cherries=30,orange=5,'eggs','spam')"
   ]
  },
  {
   "cell_type": "markdown",
   "metadata": {},
   "source": [
    "As with \"args\", you can use any name you'd like for keyworded arguments - \"kwargs\" is just a popular convention.\n",
    "\n",
    "That's it! Now you should understand how `*args` and `**kwargs` provide the flexibilty to work with arbitrary numbers of arguments!"
   ]
  }
 ],
 "metadata": {
  "kernelspec": {
   "display_name": "Python 3 (ipykernel)",
   "language": "python",
   "name": "python3"
  },
  "language_info": {
   "codemirror_mode": {
    "name": "ipython",
    "version": 3
   },
   "file_extension": ".py",
   "mimetype": "text/x-python",
   "name": "python",
   "nbconvert_exporter": "python",
   "pygments_lexer": "ipython3",
   "version": "3.10.4"
  }
 },
 "nbformat": 4,
 "nbformat_minor": 2
}
