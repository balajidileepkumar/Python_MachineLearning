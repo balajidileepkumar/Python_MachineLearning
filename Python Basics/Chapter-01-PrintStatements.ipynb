{
 "cells": [
  {
   "cell_type": "markdown",
   "metadata": {},
   "source": [
    "## Python Print"
   ]
  },
  {
   "cell_type": "markdown",
   "metadata": {},
   "source": [
    "<h6> Comments </h6>"
   ]
  },
  {
   "cell_type": "code",
   "execution_count": null,
   "metadata": {},
   "outputs": [],
   "source": [
    "#multiline comment with '\n",
    "'''\n",
    "This is comment\n",
    "Hello World\n",
    "This is  multiline comments \n",
    "'''\n",
    "#multiline comment with \"\n",
    "\"\"\"\n",
    "This is comment\n",
    "Hello World\n",
    "This is  multiline comments\"\"\"\n",
    "#++++++++++++++++++++++++++++++++++++++++++++++++++++++++++++++++++++\n",
    "# Can be used for single comment\n"
   ]
  },
  {
   "cell_type": "code",
   "execution_count": null,
   "metadata": {},
   "outputs": [],
   "source": [
    "def samplefunction():\n",
    "    '''\n",
    "    This is a sample doc string defining \n",
    "    the funcion\n",
    "    \n",
    "    '''\n",
    "    return 'Hello World'"
   ]
  },
  {
   "cell_type": "code",
   "execution_count": null,
   "metadata": {},
   "outputs": [],
   "source": [
    "samplefunction.__doc__"
   ]
  },
  {
   "cell_type": "code",
   "execution_count": null,
   "metadata": {},
   "outputs": [],
   "source": [
    "def samplefunction():\n",
    "    a ='''\n",
    "    This is a sample doc string defining \n",
    "    the funcion\n",
    "    \n",
    "    ''' \n",
    "    return a\n"
   ]
  },
  {
   "cell_type": "code",
   "execution_count": null,
   "metadata": {},
   "outputs": [],
   "source": [
    "print(samplefunction())"
   ]
  },
  {
   "cell_type": "code",
   "execution_count": null,
   "metadata": {},
   "outputs": [],
   "source": [
    "# tag stands for comment in python \n"
   ]
  },
  {
   "cell_type": "markdown",
   "metadata": {},
   "source": [
    "<h6> Print Statements </h6>"
   ]
  },
  {
   "cell_type": "code",
   "execution_count": 59,
   "metadata": {
    "scrolled": true
   },
   "outputs": [
    {
     "name": "stdout",
     "output_type": "stream",
     "text": [
      "20\n",
      "20 <class 'int'>\n",
      "True\n",
      "#############################\n",
      "20\n",
      "<class 'int'>\n",
      "#############################\n",
      "abc <class 'str'>\n",
      "b variable class name : str\n",
      "#############################\n",
      "123\n",
      "abc 123 20\n",
      "#############################\n",
      "Hello World\n",
      "None\n",
      "<class 'int'>\n",
      "<class 'str'>\n",
      "<class 'NoneType'>\n",
      "#############################\n",
      "10.24 <class 'float'> float\n",
      "#############################\n",
      "(20.12+4j) <class 'complex'> complex\n",
      "#############################\n",
      "None <class 'NoneType'> NoneType\n"
     ]
    }
   ],
   "source": [
    "a = 4*5\n",
    "print(a)\n",
    "\n",
    "print(a, type(a))\n",
    "#print(isinstance(a, type(1)))\n",
    "print(\"#############################\")\n",
    "b:str = 20 ###\n",
    "print(b)\n",
    "print(type(b))\n",
    "print(\"#############################\")\n",
    "abc = 12\n",
    "b = \"abc\"\n",
    "print(b, type(b))\n",
    "print('b variable class name :', type(b).__name__)\n",
    "\n",
    "print(\"#############################\")\n",
    "print(123)\n",
    "print(\"abc\",123,4*5)\n",
    "print(\"#############################\")\n",
    "c = print(\"Hello World\")\n",
    "print(c)\n",
    "print(type(a))\n",
    "print(type(b))\n",
    "print(type(c))\n",
    "print(\"#############################\")\n",
    "d = 10.24\n",
    "print(d, type(d), type(d).__name__)\n",
    "print(\"#############################\")\n",
    "e = 20.12+4j\n",
    "print(e, type(e), type(e).__name__)\n",
    "print(\"#############################\")\n",
    "f = None \n",
    "print(f, type(f), type(f).__name__)\n"
   ]
  },
  {
   "cell_type": "code",
   "execution_count": 48,
   "metadata": {},
   "outputs": [
    {
     "data": {
      "text/plain": [
       "20"
      ]
     },
     "execution_count": 48,
     "metadata": {},
     "output_type": "execute_result"
    }
   ],
   "source": [
    "a"
   ]
  },
  {
   "cell_type": "code",
   "execution_count": null,
   "metadata": {},
   "outputs": [],
   "source": [
    "a = \"Hello World\"\n",
    "b = print(a)\n",
    "print(b)\n",
    "print(type(b))"
   ]
  },
  {
   "cell_type": "raw",
   "metadata": {},
   "source": [
    "prints the memory location of the object when printed"
   ]
  },
  {
   "cell_type": "code",
   "execution_count": 69,
   "metadata": {},
   "outputs": [
    {
     "name": "stdout",
     "output_type": "stream",
     "text": [
      "#############################\n",
      "1551587765280\n",
      "0x16941d66c20\n",
      "1551587765280\n",
      "<__main__.humanbeing object at 0x0000016941D66C20>\n",
      "5.5\n",
      "<class '__main__.humanbeing'>\n",
      "#############################\n",
      "1551587764704\n",
      "<__main__.humanbeing object at 0x0000016941D669E0>\n",
      "1551587764704\n",
      "None\n",
      "6.3\n",
      "1551587764704\n",
      "0x16941d669e0\n"
     ]
    }
   ],
   "source": [
    "#class object():\n",
    "#    pass\n",
    "class humanbeing():\n",
    "    \"\"\"\n",
    "    this is a  sample human being class to demonstrate creation of classes in python\n",
    "    \"\"\"\n",
    "    def __init__(self):\n",
    "        self.name = \"not named\"\n",
    "        self.height =6\n",
    "        self.weight = 60\n",
    "        print(id(self))\n",
    "        #print(self.height)\n",
    "        #print(\"constructor initialized\")\n",
    "    \n",
    "    #def __str__(self):\n",
    "    #    return \"I am a human being object and my name is %s\"%self.name\n",
    "    \n",
    "    def setheight(self,given_new_height):\n",
    "        #print(given_new_height)\n",
    "        print(id(self))\n",
    "        self.height = given_new_height\n",
    "    \n",
    "    def setname(self, new_name):\n",
    "        self.name = new_name\n",
    "\n",
    "print(\"#############################\")\n",
    "a = humanbeing()\n",
    "#print(id(a))\n",
    "print(hex(id(a)))\n",
    "a.setheight(5.5)\n",
    "a.setname(\"Karthick\")\n",
    "print(a)\n",
    "print(a.height)\n",
    "print(type(a))\n",
    "\n",
    "print(\"#############################\")\n",
    "b = humanbeing()\n",
    "print(b)\n",
    "print(b.setheight(6.3))\n",
    "print(b.height)\n",
    "print(id(b))\n",
    "print(hex(id(b)))\n"
   ]
  },
  {
   "cell_type": "code",
   "execution_count": 38,
   "metadata": {},
   "outputs": [
    {
     "data": {
      "text/plain": [
       "['__class__',\n",
       " '__delattr__',\n",
       " '__dict__',\n",
       " '__dir__',\n",
       " '__doc__',\n",
       " '__eq__',\n",
       " '__format__',\n",
       " '__ge__',\n",
       " '__getattribute__',\n",
       " '__gt__',\n",
       " '__hash__',\n",
       " '__init__',\n",
       " '__init_subclass__',\n",
       " '__le__',\n",
       " '__lt__',\n",
       " '__module__',\n",
       " '__ne__',\n",
       " '__new__',\n",
       " '__reduce__',\n",
       " '__reduce_ex__',\n",
       " '__repr__',\n",
       " '__setattr__',\n",
       " '__sizeof__',\n",
       " '__str__',\n",
       " '__subclasshook__',\n",
       " '__weakref__',\n",
       " 'height',\n",
       " 'name',\n",
       " 'setheight',\n",
       " 'setname',\n",
       " 'weight']"
      ]
     },
     "execution_count": 38,
     "metadata": {},
     "output_type": "execute_result"
    }
   ],
   "source": [
    "dir(a)"
   ]
  },
  {
   "cell_type": "code",
   "execution_count": 70,
   "metadata": {},
   "outputs": [
    {
     "data": {
      "text/plain": [
       "mappingproxy({'__module__': '__main__',\n",
       "              '__doc__': '\\n    this is a  sample human being class to demonstrate creation of classes in python\\n    ',\n",
       "              '__init__': <function __main__.humanbeing.__init__(self)>,\n",
       "              'setheight': <function __main__.humanbeing.setheight(self, given_new_height)>,\n",
       "              'setname': <function __main__.humanbeing.setname(self, new_name)>,\n",
       "              '__dict__': <attribute '__dict__' of 'humanbeing' objects>,\n",
       "              '__weakref__': <attribute '__weakref__' of 'humanbeing' objects>})"
      ]
     },
     "execution_count": 70,
     "metadata": {},
     "output_type": "execute_result"
    }
   ],
   "source": [
    "humanbeing.__dict__"
   ]
  },
  {
   "cell_type": "code",
   "execution_count": 66,
   "metadata": {},
   "outputs": [
    {
     "name": "stdout",
     "output_type": "stream",
     "text": [
      "Help on humanbeing in module __main__ object:\n",
      "\n",
      "class humanbeing(builtins.object)\n",
      " |  Methods defined here:\n",
      " |  \n",
      " |  __init__(self)\n",
      " |      Initialize self.  See help(type(self)) for accurate signature.\n",
      " |  \n",
      " |  setheight(self, given_new_height)\n",
      " |  \n",
      " |  setname(self, new_name)\n",
      " |  \n",
      " |  ----------------------------------------------------------------------\n",
      " |  Data descriptors defined here:\n",
      " |  \n",
      " |  __dict__\n",
      " |      dictionary for instance variables (if defined)\n",
      " |  \n",
      " |  __weakref__\n",
      " |      list of weak references to the object (if defined)\n",
      "\n"
     ]
    }
   ],
   "source": [
    "help(a)"
   ]
  },
  {
   "cell_type": "code",
   "execution_count": 39,
   "metadata": {},
   "outputs": [
    {
     "data": {
      "text/plain": [
       "'humanbeing'"
      ]
     },
     "execution_count": 39,
     "metadata": {},
     "output_type": "execute_result"
    }
   ],
   "source": [
    "type(a).__name__"
   ]
  },
  {
   "cell_type": "code",
   "execution_count": 71,
   "metadata": {},
   "outputs": [
    {
     "name": "stdout",
     "output_type": "stream",
     "text": [
      "(1, 2) 3\n"
     ]
    }
   ],
   "source": [
    "print((1,2),3)"
   ]
  },
  {
   "cell_type": "markdown",
   "metadata": {},
   "source": [
    "####  pass multiple strings"
   ]
  },
  {
   "cell_type": "code",
   "execution_count": 72,
   "metadata": {},
   "outputs": [
    {
     "name": "stdout",
     "output_type": "stream",
     "text": [
      "Hello World 1 2.0 True False\n"
     ]
    }
   ],
   "source": [
    "print(\"Hello\",\"World\",1,2.0, True, False)"
   ]
  },
  {
   "cell_type": "code",
   "execution_count": 73,
   "metadata": {},
   "outputs": [],
   "source": [
    "import datetime"
   ]
  },
  {
   "cell_type": "code",
   "execution_count": 89,
   "metadata": {
    "scrolled": true
   },
   "outputs": [
    {
     "name": "stdout",
     "output_type": "stream",
     "text": [
      "['__add__', '__class__', '__delattr__', '__dir__', '__doc__', '__eq__', '__format__', '__ge__', '__getattribute__', '__gt__', '__hash__', '__init__', '__init_subclass__', '__le__', '__lt__', '__ne__', '__new__', '__radd__', '__reduce__', '__reduce_ex__', '__repr__', '__rsub__', '__setattr__', '__sizeof__', '__str__', '__sub__', '__subclasshook__', 'astimezone', 'combine', 'ctime', 'date', 'day', 'dst', 'fold', 'fromisocalendar', 'fromisoformat', 'fromordinal', 'fromtimestamp', 'hour', 'isocalendar', 'isoformat', 'isoweekday', 'max', 'microsecond', 'min', 'minute', 'month', 'now', 'replace', 'resolution', 'second', 'strftime', 'strptime', 'time', 'timestamp', 'timetuple', 'timetz', 'today', 'toordinal', 'tzinfo', 'tzname', 'utcfromtimestamp', 'utcnow', 'utcoffset', 'utctimetuple', 'weekday', 'year']\n",
      "2023-1-17-16-50-53-841330!\n",
      "\n",
      "2023-01-17 16:50:53.841330\n",
      "\n",
      "<class 'datetime.datetime'>\n",
      "####################################\n",
      "2023-01-17\n",
      "2023 1 17\n"
     ]
    }
   ],
   "source": [
    "a = datetime.datetime.now()\n",
    "print(dir(a))\n",
    "print(a.year, a.month, a.day, a.hour, a.minute, a.second, a.microsecond, sep=\"-\" , end=\"!\\n\\n\")\n",
    "\n",
    "print(a, end=\"\\n\\n\")\n",
    "\n",
    "print(type(a))\n",
    "\n",
    "print(\"####################################\")\n",
    "\n",
    "b = datetime.date.today()\n",
    "print(b)\n",
    "print(b.year, b.month, b.day)\n",
    "#print(type(b))"
   ]
  },
  {
   "cell_type": "code",
   "execution_count": 79,
   "metadata": {},
   "outputs": [
    {
     "data": {
      "text/plain": [
       "['__add__',\n",
       " '__class__',\n",
       " '__delattr__',\n",
       " '__dir__',\n",
       " '__doc__',\n",
       " '__eq__',\n",
       " '__format__',\n",
       " '__ge__',\n",
       " '__getattribute__',\n",
       " '__gt__',\n",
       " '__hash__',\n",
       " '__init__',\n",
       " '__init_subclass__',\n",
       " '__le__',\n",
       " '__lt__',\n",
       " '__ne__',\n",
       " '__new__',\n",
       " '__radd__',\n",
       " '__reduce__',\n",
       " '__reduce_ex__',\n",
       " '__repr__',\n",
       " '__rsub__',\n",
       " '__setattr__',\n",
       " '__sizeof__',\n",
       " '__str__',\n",
       " '__sub__',\n",
       " '__subclasshook__',\n",
       " 'astimezone',\n",
       " 'combine',\n",
       " 'ctime',\n",
       " 'date',\n",
       " 'day',\n",
       " 'dst',\n",
       " 'fold',\n",
       " 'fromisocalendar',\n",
       " 'fromisoformat',\n",
       " 'fromordinal',\n",
       " 'fromtimestamp',\n",
       " 'hour',\n",
       " 'isocalendar',\n",
       " 'isoformat',\n",
       " 'isoweekday',\n",
       " 'max',\n",
       " 'microsecond',\n",
       " 'min',\n",
       " 'minute',\n",
       " 'month',\n",
       " 'now',\n",
       " 'replace',\n",
       " 'resolution',\n",
       " 'second',\n",
       " 'strftime',\n",
       " 'strptime',\n",
       " 'time',\n",
       " 'timestamp',\n",
       " 'timetuple',\n",
       " 'timetz',\n",
       " 'today',\n",
       " 'toordinal',\n",
       " 'tzinfo',\n",
       " 'tzname',\n",
       " 'utcfromtimestamp',\n",
       " 'utcnow',\n",
       " 'utcoffset',\n",
       " 'utctimetuple',\n",
       " 'weekday',\n",
       " 'year']"
      ]
     },
     "execution_count": 79,
     "metadata": {},
     "output_type": "execute_result"
    }
   ],
   "source": [
    "dir(a)"
   ]
  },
  {
   "cell_type": "code",
   "execution_count": 90,
   "metadata": {},
   "outputs": [
    {
     "name": "stdout",
     "output_type": "stream",
     "text": [
      "Hello World Welcome To Python 100 2023-01-17 16:51:00.611541\n"
     ]
    }
   ],
   "source": [
    "print(\"Hello\",\"World\",\"Welcome\",\"To\",\"Python\", 100, datetime.datetime.now())"
   ]
  },
  {
   "cell_type": "code",
   "execution_count": 93,
   "metadata": {},
   "outputs": [
    {
     "name": "stdout",
     "output_type": "stream",
     "text": [
      "Hello-World-Welcome-To- Python\n"
     ]
    }
   ],
   "source": [
    "print(\"Hello\",\"World\",\"Welcome\",\"To\",\" Python\", sep = \"-$-\")  "
   ]
  },
  {
   "cell_type": "code",
   "execution_count": null,
   "metadata": {},
   "outputs": [],
   "source": [
    "print(\"Hello\",\"World\",\"Welcome\",\"To\",\"Python\",  2, end =\" done \",sep = \"$--$\")"
   ]
  },
  {
   "cell_type": "code",
   "execution_count": null,
   "metadata": {},
   "outputs": [],
   "source": [
    "print(\"Hello\",\"World\", sep = \"# #\", end =\"!\")"
   ]
  },
  {
   "cell_type": "markdown",
   "metadata": {},
   "source": [
    "### No values to print statement, prints out a line"
   ]
  },
  {
   "cell_type": "code",
   "execution_count": 96,
   "metadata": {},
   "outputs": [
    {
     "name": "stdout",
     "output_type": "stream",
     "text": [
      "\n",
      "###############\n",
      "\n",
      "\n",
      "###############\n",
      "\n",
      "\n",
      "\n",
      "\n",
      "###############\n"
     ]
    }
   ],
   "source": [
    "print(\"\")\n",
    "print(\"###############\")\n",
    "print()\n",
    "print()\n",
    "print(\"###############\")\n",
    "print()\n",
    "print()\n",
    "print()\n",
    "print()\n",
    "print(\"###############\")"
   ]
  },
  {
   "cell_type": "markdown",
   "metadata": {},
   "source": [
    "%s - string\n",
    "%d - integers\n",
    "%f - float or decimal values"
   ]
  },
  {
   "cell_type": "markdown",
   "metadata": {},
   "source": [
    "# C-Style Formatters"
   ]
  },
  {
   "cell_type": "code",
   "execution_count": 105,
   "metadata": {},
   "outputs": [
    {
     "name": "stdout",
     "output_type": "stream",
     "text": [
      "I am  Nithiya , My age is  23  and I scored   82.345678  percent in board exam\n",
      "I am  Nithiya, My age is 23, and I scored  82.346 percent in board exam\n",
      "I am  Nithiya,\n",
      "My age is 23,\n",
      "and I scored  82.35 percent in board exam\n",
      "I am  Nithiya\n"
     ]
    }
   ],
   "source": [
    "a =\"Nithiya\"\n",
    "b = 23\n",
    "c =82.345678\n",
    "d=123\n",
    "print(\"I am \", a, \", My age is \", b ,\" and I scored  \",c, \" percent in board exam\")\n",
    "print(\"I am  %s, My age is %d, and I scored  %.3f percent in board exam\" %(a,b,c))\n",
    "print(\"I am  %s,\"%a, \"My age is %d,\"%b, \"and I scored  %.2f percent in board exam\"%c, sep =\"\\n\")\n",
    "print(\"I am  %s\" %a)"
   ]
  },
  {
   "cell_type": "markdown",
   "metadata": {},
   "source": [
    "### Python Format Condition"
   ]
  },
  {
   "cell_type": "code",
   "execution_count": 109,
   "metadata": {},
   "outputs": [
    {
     "name": "stdout",
     "output_type": "stream",
     "text": [
      "I am Karthi My age is 12, and I scored 82.345 percent in my board exam\n",
      "I am  Karthi  My age is 12 and I scored 82.345 percent in my board exam\n"
     ]
    }
   ],
   "source": [
    "a =\"Karthi\"\n",
    "b =12\n",
    "c =82.345\n",
    "d =4\n",
    "print(\"I am {} My age is {}, and I scored {} percent in my board exam\".format(a,b,c,d))\n",
    "\n",
    "print(\"I am \",  a ,\" My age is {}\".format(b), \"and I scored {} percent in my board exam\".format(c))"
   ]
  },
  {
   "cell_type": "code",
   "execution_count": 112,
   "metadata": {},
   "outputs": [
    {
     "name": "stdout",
     "output_type": "stream",
     "text": [
      "I scored Akshaya percent in board exam, I am  12, My age is 82.345\n",
      "I scored 82.345 percent in board exam, I am  Akshaya, My age is 12\n",
      "I scored 82.345 percent in board exam, I am  Akshaya, My age is 12\n"
     ]
    }
   ],
   "source": [
    "a =\"Akshaya\"\n",
    "b =12\n",
    "c =82.345\n",
    "print(\"I scored {} percent in board exam, I am  {}, My age is {}\".format(a,b,c))\n",
    "print(\"I scored {} percent in board exam, I am  {}, My age is {}\".format(c,a,b))\n",
    "print(\"I scored {2} percent in board exam, I am  {0}, My age is {1}\".format(a,b,c))"
   ]
  },
  {
   "cell_type": "code",
   "execution_count": 111,
   "metadata": {},
   "outputs": [
    {
     "name": "stdout",
     "output_type": "stream",
     "text": [
      "I scored Vinoth percent in board exam, I am  12, My age is 82.345\n",
      "I scored 82.345 percent in board exam, I am  Priya, My age is 23\n"
     ]
    }
   ],
   "source": [
    "a =\"Raj\"\n",
    "b =12\n",
    "c =82.345\n",
    "d =2\n",
    "print(\"I scored {} percent in board exam, I am  {}, My age is {}\".format(\"Vinoth\",b,c))\n",
    "print(\"I scored {2} percent in board exam, I am  {0}, My age is {1}\".format(\"Priya\",23,c))\n"
   ]
  },
  {
   "cell_type": "code",
   "execution_count": 113,
   "metadata": {},
   "outputs": [
    {
     "name": "stdout",
     "output_type": "stream",
     "text": [
      "I scored 82.345 percent in board exam, I am  Raj, My age is 12\n",
      "I scored 82.345 percent in board exam,$--$ I am  Raj, My age is 12!"
     ]
    }
   ],
   "source": [
    "a =\"Raj\"\n",
    "b =12\n",
    "c =82.345\n",
    "print(f\"I scored {c} percent in board exam, I am  {a}, My age is {b}\")\n",
    "print(f\"I scored {c} percent in board exam,\",f\" I am  {a}, My age is {b}\",sep =\"$--$\",end=\"!\")"
   ]
  },
  {
   "cell_type": "code",
   "execution_count": null,
   "metadata": {},
   "outputs": [],
   "source": [
    "a =\"Raj\"\n",
    "b =12\n",
    "c =82.345\n",
    "d = f\"\"\"\n",
    "Hello World from {a}\n",
    "\n",
    "\"\"\"\n",
    "d = '''\n",
    "Hello World from {} \n",
    "'''.format(a)\n",
    "\n",
    "e = \"Hello World from {}\".format(a)\n",
    "print(d)\n",
    "print(f\"I scored {c} percent in board exam, I am  {a}, My age is {b}\")\n",
    "print(f\"I scored {c} percent in board exam,\",f\" I am  {a}, My age is {b}\",sep = \"$--$\",end=\"!\")"
   ]
  }
 ],
 "metadata": {
  "kernelspec": {
   "display_name": "Python 3 (ipykernel)",
   "language": "python",
   "name": "python3"
  },
  "language_info": {
   "codemirror_mode": {
    "name": "ipython",
    "version": 3
   },
   "file_extension": ".py",
   "mimetype": "text/x-python",
   "name": "python",
   "nbconvert_exporter": "python",
   "pygments_lexer": "ipython3",
   "version": "3.10.4"
  }
 },
 "nbformat": 4,
 "nbformat_minor": 2
}
