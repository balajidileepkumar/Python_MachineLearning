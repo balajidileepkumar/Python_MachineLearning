{
 "cells": [
  {
   "cell_type": "markdown",
   "metadata": {},
   "source": [
    "## Python Print"
   ]
  },
  {
   "cell_type": "markdown",
   "metadata": {},
   "source": [
    "<h6> Comments </h6>"
   ]
  },
  {
   "cell_type": "code",
   "execution_count": null,
   "metadata": {},
   "outputs": [],
   "source": [
    "#multiline comment with '\n",
    "'''\n",
    "This is comment\n",
    "Hello World\n",
    "This is  multiline comments \n",
    "'''\n",
    "#multiline comment with \"\n",
    "\"\"\"\n",
    "This is comment\n",
    "Hello World\n",
    "This is  multiline comments\"\"\"\n",
    "#++++++++++++++++++++++++++++++++++++++++++++++++++++++++++++++++++++\n",
    "# Can be used for single comment\n"
   ]
  },
  {
   "cell_type": "code",
   "execution_count": null,
   "metadata": {},
   "outputs": [],
   "source": [
    "# tag stands for comment in python \n"
   ]
  },
  {
   "cell_type": "markdown",
   "metadata": {},
   "source": [
    "<h6> Print Statements </h6>"
   ]
  },
  {
   "cell_type": "code",
   "execution_count": 6,
   "metadata": {},
   "outputs": [
    {
     "name": "stdout",
     "output_type": "stream",
     "text": [
      "20\n",
      "abc\n",
      "#############################\n",
      "123\n",
      "abc 123 20\n",
      "#############################\n",
      "Hello World\n",
      "None\n",
      "<class 'int'>\n",
      "<class 'str'>\n",
      "<class 'NoneType'>\n"
     ]
    }
   ],
   "source": [
    "a = 4*5\n",
    "print(a)\n",
    "abc = 12\n",
    "b = \"abc\"\n",
    "print(b)\n",
    "print(\"#############################\")\n",
    "print(123)\n",
    "print(\"abc\",123,4*5)\n",
    "print(\"#############################\")\n",
    "c = print(\"Hello World\")\n",
    "print(c)\n",
    "print(type(a))\n",
    "print(type(b))\n",
    "print(type(c))"
   ]
  },
  {
   "cell_type": "code",
   "execution_count": 7,
   "metadata": {},
   "outputs": [
    {
     "name": "stdout",
     "output_type": "stream",
     "text": [
      "Hello World -1\n",
      "None\n"
     ]
    }
   ],
   "source": [
    "a = \"Hello World -1\"\n",
    "b = print(a)\n",
    "print(b)"
   ]
  },
  {
   "cell_type": "raw",
   "metadata": {},
   "source": [
    "prints the memory location of the object when printed"
   ]
  },
  {
   "cell_type": "code",
   "execution_count": 10,
   "metadata": {},
   "outputs": [
    {
     "name": "stdout",
     "output_type": "stream",
     "text": [
      "I am a human being object and my name is Karthick\n",
      "6.5\n",
      "<class '__main__.humanbeing'>\n",
      "I am a human being object and my name is not named\n",
      "None\n",
      "6.3\n"
     ]
    }
   ],
   "source": [
    "#class object():\n",
    "#    pass\n",
    "class humanbeing():\n",
    "    \n",
    "    def __init__(self):\n",
    "        self.name = \"not named\"\n",
    "        self.height =6\n",
    "        self.weight = 60\n",
    "        #print(self.height)\n",
    "        #print(\"constructor initialized\")\n",
    "    \n",
    "    def __str__(self):\n",
    "        return \"I am a human being object and my name is %s\"%self.name\n",
    "    \n",
    "    def setheight(self, given_new_height):\n",
    "        self.height = given_new_height\n",
    "    \n",
    "    def setname(self, new_name):\n",
    "        self.name = new_name\n",
    "\n",
    "\n",
    "a = humanbeing()\n",
    "a.setheight(6.5)\n",
    "a.setname(\"Karthick\")\n",
    "print(a)\n",
    "\n",
    "print(a.height)\n",
    "print(type(a))\n",
    "b = humanbeing()\n",
    "print(b)\n",
    "print(b.setheight(6.3))\n",
    "print(b.height)\n"
   ]
  },
  {
   "cell_type": "code",
   "execution_count": null,
   "metadata": {},
   "outputs": [],
   "source": [
    "print((1,2))"
   ]
  },
  {
   "cell_type": "markdown",
   "metadata": {},
   "source": [
    "####  pass multiple strings"
   ]
  },
  {
   "cell_type": "code",
   "execution_count": 11,
   "metadata": {},
   "outputs": [
    {
     "name": "stdout",
     "output_type": "stream",
     "text": [
      "Hello World 1 2.0\n"
     ]
    }
   ],
   "source": [
    "print(\"Hello\",\"World\",1,2.0)"
   ]
  },
  {
   "cell_type": "code",
   "execution_count": 18,
   "metadata": {},
   "outputs": [],
   "source": [
    "import datetime"
   ]
  },
  {
   "cell_type": "code",
   "execution_count": 63,
   "metadata": {},
   "outputs": [
    {
     "name": "stdout",
     "output_type": "stream",
     "text": [
      "2022 3 20 16 47 25\n",
      "2022-03-20 16:47:25.784205\n",
      "<class 'datetime.datetime'>\n",
      "####################################\n",
      "2022-03-20\n",
      "2022 3 20\n"
     ]
    }
   ],
   "source": [
    "a = datetime.datetime.now()\n",
    "print(a.year, a.month, a.day, a.hour, a.minute, a.second)\n",
    "print(a)\n",
    "print(type(a))\n",
    "\n",
    "print(\"####################################\")\n",
    "\n",
    "b = datetime.date.today()\n",
    "print(b)\n",
    "print(b.year, b.month, b.day)\n",
    "#print(type(b))"
   ]
  },
  {
   "cell_type": "code",
   "execution_count": 65,
   "metadata": {},
   "outputs": [
    {
     "name": "stdout",
     "output_type": "stream",
     "text": [
      "Hello World Welcome To Python 100 2022-03-20 16:48:14.708604\n"
     ]
    }
   ],
   "source": [
    "print(\"Hello\",\"World\",\"Welcome\",\"To\",\"Python\", 100, datetime.datetime.now())"
   ]
  },
  {
   "cell_type": "code",
   "execution_count": 72,
   "metadata": {},
   "outputs": [
    {
     "name": "stdout",
     "output_type": "stream",
     "text": [
      "Hello - World - Welcome - To -  Python\n"
     ]
    }
   ],
   "source": [
    "print(\"Hello\",\"World\",\"Welcome\",\"To\",\" Python\", sep = \" - \")    "
   ]
  },
  {
   "cell_type": "code",
   "execution_count": 71,
   "metadata": {},
   "outputs": [
    {
     "name": "stdout",
     "output_type": "stream",
     "text": [
      "Hello$--$World$--$Welcome$--$To$--$Python$--$2wearegood"
     ]
    }
   ],
   "source": [
    "print(\"Hello\",\"World\",\"Welcome\",\"To\",\"Python\",  2, end =\"wearegood\",sep = \"$--$\")"
   ]
  },
  {
   "cell_type": "code",
   "execution_count": 73,
   "metadata": {},
   "outputs": [
    {
     "name": "stdout",
     "output_type": "stream",
     "text": [
      "Hello# #World!"
     ]
    }
   ],
   "source": [
    "print(\"Hello\",\"World\", sep = \"# #\", end =\"!\")"
   ]
  },
  {
   "cell_type": "markdown",
   "metadata": {},
   "source": [
    "### No values to print statement, prints out a line"
   ]
  },
  {
   "cell_type": "code",
   "execution_count": 74,
   "metadata": {},
   "outputs": [
    {
     "name": "stdout",
     "output_type": "stream",
     "text": [
      "\n",
      "###############\n",
      "\n",
      "\n",
      "###############\n",
      "\n",
      "\n",
      "\n",
      "\n",
      "###############\n"
     ]
    }
   ],
   "source": [
    "print()\n",
    "print(\"###############\")\n",
    "print()\n",
    "print()\n",
    "print(\"###############\")\n",
    "print()\n",
    "print()\n",
    "print()\n",
    "print()\n",
    "print(\"###############\")"
   ]
  },
  {
   "cell_type": "markdown",
   "metadata": {},
   "source": [
    "%s - string\n",
    "%d - integers\n",
    "%f - float or decimal values"
   ]
  },
  {
   "cell_type": "markdown",
   "metadata": {},
   "source": [
    "# C-Style Formatters"
   ]
  },
  {
   "cell_type": "code",
   "execution_count": 79,
   "metadata": {},
   "outputs": [
    {
     "ename": "TypeError",
     "evalue": "not all arguments converted during string formatting",
     "output_type": "error",
     "traceback": [
      "\u001b[1;31m---------------------------------------------------------------------------\u001b[0m",
      "\u001b[1;31mTypeError\u001b[0m                                 Traceback (most recent call last)",
      "\u001b[1;32m<ipython-input-79-b361383efd71>\u001b[0m in \u001b[0;36m<module>\u001b[1;34m\u001b[0m\n\u001b[0;32m      3\u001b[0m \u001b[0mc\u001b[0m \u001b[1;33m=\u001b[0m\u001b[1;36m82.345678\u001b[0m\u001b[1;33m\u001b[0m\u001b[1;33m\u001b[0m\u001b[0m\n\u001b[0;32m      4\u001b[0m \u001b[0md\u001b[0m\u001b[1;33m=\u001b[0m\u001b[1;36m123\u001b[0m\u001b[1;33m\u001b[0m\u001b[1;33m\u001b[0m\u001b[0m\n\u001b[1;32m----> 5\u001b[1;33m \u001b[0mprint\u001b[0m\u001b[1;33m(\u001b[0m\u001b[1;34m\"I am  %s, My age is %d, and I scored  %.1f percent in board exam\"\u001b[0m \u001b[1;33m%\u001b[0m\u001b[1;33m(\u001b[0m\u001b[0ma\u001b[0m\u001b[1;33m,\u001b[0m\u001b[0mb\u001b[0m\u001b[1;33m,\u001b[0m\u001b[0mc\u001b[0m\u001b[1;33m,\u001b[0m\u001b[0md\u001b[0m\u001b[1;33m)\u001b[0m\u001b[1;33m)\u001b[0m\u001b[1;33m\u001b[0m\u001b[1;33m\u001b[0m\u001b[0m\n\u001b[0m\u001b[0;32m      6\u001b[0m \u001b[0mprint\u001b[0m\u001b[1;33m(\u001b[0m\u001b[1;34m\"I am  %s,\"\u001b[0m\u001b[1;33m%\u001b[0m\u001b[0ma\u001b[0m\u001b[1;33m,\u001b[0m \u001b[1;34m\"My age is %d,\"\u001b[0m\u001b[1;33m%\u001b[0m\u001b[0mb\u001b[0m\u001b[1;33m,\u001b[0m \u001b[1;34m\" and I scored  %.2f percent in board exam\"\u001b[0m\u001b[1;33m%\u001b[0m\u001b[0mc\u001b[0m\u001b[1;33m,\u001b[0m \u001b[0msep\u001b[0m \u001b[1;33m=\u001b[0m\u001b[1;34m\"-\"\u001b[0m\u001b[1;33m)\u001b[0m\u001b[1;33m\u001b[0m\u001b[1;33m\u001b[0m\u001b[0m\n\u001b[0;32m      7\u001b[0m \u001b[0mprint\u001b[0m\u001b[1;33m(\u001b[0m\u001b[1;34m\"I am  %s\"\u001b[0m \u001b[1;33m%\u001b[0m\u001b[0ma\u001b[0m\u001b[1;33m)\u001b[0m\u001b[1;33m\u001b[0m\u001b[1;33m\u001b[0m\u001b[0m\n",
      "\u001b[1;31mTypeError\u001b[0m: not all arguments converted during string formatting"
     ]
    }
   ],
   "source": [
    "a =\"Nithiya\"\n",
    "b = 23\n",
    "c =82.345678\n",
    "d=123\n",
    "print(\"I am  %s, My age is %d, and I scored  %.1f percent in board exam\" %(a,b,c))\n",
    "print(\"I am  %s,\"%a, \"My age is %d,\"%b, \" and I scored  %.2f percent in board exam\"%c, sep =\"-\")\n",
    "print(\"I am  %s\" %a)"
   ]
  },
  {
   "cell_type": "markdown",
   "metadata": {},
   "source": [
    "### Python Format Condition"
   ]
  },
  {
   "cell_type": "code",
   "execution_count": 83,
   "metadata": {},
   "outputs": [
    {
     "name": "stdout",
     "output_type": "stream",
     "text": [
      "I am Karthi My age is 12, and I scored 82.345 percent in my board exam\n",
      "I am  Karthi  My age is 12 and I scored 82.345 percent in my board exam\n"
     ]
    }
   ],
   "source": [
    "a =\"Karthi\"\n",
    "b =12\n",
    "c =82.345\n",
    "d =4\n",
    "print(\"I am {} My age is {}, and I scored {} percent in my board exam\".format(a,b,c,d))\n",
    "\n",
    "print(\"I am \",  a ,\" My age is {}\".format(b), \"and I scored {} percent in my board exam\".format(c))"
   ]
  },
  {
   "cell_type": "code",
   "execution_count": 85,
   "metadata": {},
   "outputs": [
    {
     "name": "stdout",
     "output_type": "stream",
     "text": [
      "I scored Akshaya percent in board exam, I am  12, My age is 82.345\n",
      "I scored 82.345 percent in board exam, I am  Akshaya, My age is 12\n",
      "I scored 82.345 percent in board exam, I am  Akshaya, My age is 12\n"
     ]
    }
   ],
   "source": [
    "a =\"Akshaya\"\n",
    "b =12\n",
    "c =82.345\n",
    "print(\"I scored {} percent in board exam, I am  {}, My age is {}\".format(a,b,c))\n",
    "print(\"I scored {} percent in board exam, I am  {}, My age is {}\".format(c,a,b))\n",
    "print(\"I scored {2} percent in board exam, I am  {0}, My age is {1}\".format(a,b,c))"
   ]
  },
  {
   "cell_type": "code",
   "execution_count": 86,
   "metadata": {},
   "outputs": [
    {
     "name": "stdout",
     "output_type": "stream",
     "text": [
      "I scored Vinoth percent in board exam, I am  12, My age is 82.345\n",
      "I scored 82.345 percent in board exam, I am  Priya, My age is 23\n"
     ]
    }
   ],
   "source": [
    "a =\"Raj\"\n",
    "b =12\n",
    "c =82.345\n",
    "d =2\n",
    "print(\"I scored {} percent in board exam, I am  {}, My age is {}\".format(\"Vinoth\",b,c))\n",
    "print(\"I scored {2} percent in board exam, I am  {0}, My age is {1}\".format(\"Priya\",23,c))\n"
   ]
  },
  {
   "cell_type": "code",
   "execution_count": 87,
   "metadata": {},
   "outputs": [
    {
     "name": "stdout",
     "output_type": "stream",
     "text": [
      "I scored 82.345 percent in board exam, I am  Raj, My age is 12\n",
      "I scored 82.345 percent in board exam,$--$ I am  Raj, My age is 12!"
     ]
    }
   ],
   "source": [
    "a =\"Raj\"\n",
    "b =12\n",
    "c =82.345\n",
    "print(f\"I scored {c} percent in board exam, I am  {a}, My age is {b}\")\n",
    "print(f\"I scored {c} percent in board exam,\",f\" I am  {a}, My age is {b}\",sep =\"$--$\",end=\"!\")"
   ]
  },
  {
   "cell_type": "code",
   "execution_count": 89,
   "metadata": {},
   "outputs": [
    {
     "name": "stdout",
     "output_type": "stream",
     "text": [
      "\n",
      "Hello World from Raj \n",
      "\n",
      "I scored 82.345 percent in board exam, I am  Raj, My age is 12\n",
      "I scored 82.345 percent in board exam,$--$ I am  Raj, My age is 12!"
     ]
    }
   ],
   "source": [
    "a =\"Raj\"\n",
    "b =12\n",
    "c =82.345\n",
    "d = f\"\"\"\n",
    "Hello World from {a} \n",
    "d = \"\"\"\n",
    "Hello World from {} \n",
    "\"\"\".format(a)\n",
    "e = \"Hello World from {}\".format(a)\n",
    "print(d)\n",
    "print(f\"I scored {c} percent in board exam, I am  {a}, My age is {b}\")\n",
    "print(f\"I scored {c} percent in board exam,\",f\" I am  {a}, My age is {b}\",sep = \"$--$\",end=\"!\")"
   ]
  }
 ],
 "metadata": {
  "kernelspec": {
   "display_name": "Python 3",
   "language": "python",
   "name": "python3"
  },
  "language_info": {
   "codemirror_mode": {
    "name": "ipython",
    "version": 3
   },
   "file_extension": ".py",
   "mimetype": "text/x-python",
   "name": "python",
   "nbconvert_exporter": "python",
   "pygments_lexer": "ipython3",
   "version": "3.9.1"
  }
 },
 "nbformat": 4,
 "nbformat_minor": 2
}
