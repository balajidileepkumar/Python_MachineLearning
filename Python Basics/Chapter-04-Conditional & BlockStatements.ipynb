{
 "cells": [
  {
   "cell_type": "markdown",
   "metadata": {},
   "source": [
    "## Conditional, Block Statements and Exceptions"
   ]
  },
  {
   "cell_type": "markdown",
   "metadata": {},
   "source": [
    "### if, elif, else Statements\n",
    "\n",
    "<code>if</code> Statements in Python allows us to tell the computer to perform alternative actions based on a certain set of results.\n",
    "\n",
    "Verbally, we can imagine we are telling the computer:\n",
    "\n",
    "\"Hey if this case happens, perform some action\"\n",
    "\n",
    "We can then expand the idea further with <code>elif</code> and <code>else</code> statements, which allow us to tell the computer:\n",
    "\n",
    "\"Hey if this case happens, perform some action. Else, if another case happens, perform some other action. Else, if *none* of the above cases happened, perform this action.\"\n",
    "\n",
    "Let's go ahead and look at the syntax format for <code>if</code> statements to get a better idea of this:\n",
    "\n",
    "    if case1:\n",
    "        perform action1\n",
    "    elif case2:\n",
    "        perform action2\n",
    "    elif case3:\n",
    "        perform action2\n",
    "    elif case4:\n",
    "        perform action2\n",
    "        :\n",
    "        :\n",
    "        :\n",
    "        :\n",
    "        :\n",
    "    elif casen:\n",
    "        perform action2\n",
    "    else: \n",
    "        perform action3"
   ]
  },
  {
   "cell_type": "markdown",
   "metadata": {},
   "source": [
    "## First Example\n",
    "\n",
    "Let's see a quick example of this:"
   ]
  },
  {
   "cell_type": "code",
   "execution_count": null,
   "metadata": {},
   "outputs": [],
   "source": [
    "test = \"guava\"\n",
    "\n",
    "test = \"tomatoes1\"\n",
    "list_fruit = [\"apple\", \"orange\", \"guava\",\"pomegrante\"]\n",
    "fruit_redcolor = [\"apple\", \"pomegrante\"]\n",
    "list_veg = [\"carrots\", \"beets\", \"tomatoes\"]\n",
    "print(\"##########\")\n",
    "#print(list_fruit.count(test) > 0)\n",
    "if(list_fruit.count(test) > 0):\n",
    "    print(\"I am a fruit\")\n",
    "elif(list_veg.count(test) > 0):\n",
    "    print(\"I am a Vegetable\")\n",
    "else: \n",
    "    print(\"I am neither\")\n"
   ]
  },
  {
   "cell_type": "code",
   "execution_count": null,
   "metadata": {},
   "outputs": [],
   "source": [
    "test = \"guava\"\n",
    "\n",
    "#test = \"tomatoes\"\n",
    "list_fruit = [\"apple\", \"orange\", \"guava\",\"pomegrante\"]\n",
    "fruit_redcolor = [\"apple\", \"pomegrante\"]\n",
    "list_veg = [\"carrots\", \"beets\", \"tomatoes\"]\n",
    "print(\"##########\")\n",
    "#print(list_fruit.count(test) > 0)\n",
    "if(list_fruit.count(test) > 0):\n",
    "    print(\"I am a fruit\")\n",
    "    if(fruit_redcolor.count(test) > 0):\n",
    "        print(\"I am a red colored fruit\")\n",
    "    else:\n",
    "        #pass\n",
    "        print(\"I am not a red colored fruit\")\n",
    "elif(list_veg.count(test) > 0):\n",
    "    print(\"I am a Vegetable\")\n",
    "else: \n",
    "    print(\"I am neither\")\n"
   ]
  },
  {
   "cell_type": "code",
   "execution_count": null,
   "metadata": {},
   "outputs": [],
   "source": [
    "x= False\n",
    "y = True\n",
    "x = x | y\n",
    "print(str(x))\n",
    "if x:\n",
    "    print('It was true!')"
   ]
  },
  {
   "cell_type": "markdown",
   "metadata": {},
   "source": [
    "Let's add in some else logic:"
   ]
  },
  {
   "cell_type": "code",
   "execution_count": null,
   "metadata": {},
   "outputs": [],
   "source": [
    "x = True\n",
    "\n",
    "if (not x):\n",
    "    print('x was True!')\n",
    "else:\n",
    "    print('I will be printed as x is negated to False')"
   ]
  },
  {
   "cell_type": "markdown",
   "metadata": {},
   "source": [
    "### Multiple Branches\n",
    "\n",
    "Let's get a fuller picture of how far <code>if</code>, <code>elif</code>, and <code>else</code> can take us!\n",
    "\n",
    "We write this out in a nested structure. Take note of how the <code>if</code>, <code>elif</code>, and <code>else</code> line up in the code. This can help you see what <code>if</code> is related to what <code>elif</code> or <code>else</code> statements.\n",
    "\n",
    "We'll reintroduce a comparison syntax for Python."
   ]
  },
  {
   "cell_type": "code",
   "execution_count": null,
   "metadata": {
    "scrolled": true
   },
   "outputs": [],
   "source": [
    "a=10\n",
    "b=5\n",
    "c = 1,2,3\n",
    "d = 1\n",
    "print(\"#########a<=b#########\")\n",
    "print(a<=b)\n",
    "print(\"#########a>=b#########\")\n",
    "print(a>=b)\n",
    "print(\"#########a!=b#########\")\n",
    "print(a!=b)\n",
    "print(\"#########a==b#########\")\n",
    "print(a==b)\n",
    "print(\"#########a<b#########\")\n",
    "print(a<b)\n",
    "print(\"#########a>b#########\")\n",
    "print(a>b)\n",
    "print(\"######## membership ##########\")\n",
    "print(d in c)\n",
    "print(not (d not in c))\n",
    "print(\"######## not a == b ##########\")\n",
    "print(not (a==b))\n",
    "print(\"######## c.count(1) >10 ##########\")\n",
    "print(c.count(1)>0)\n",
    "print(\"######## len == 3 ##########\")\n",
    "print(len(c)==3)"
   ]
  },
  {
   "cell_type": "code",
   "execution_count": null,
   "metadata": {},
   "outputs": [],
   "source": [
    "loc = 'Bank1'\n",
    "\n",
    "if loc == 'Auto Shop':\n",
    "    print('Welcome to the Auto Shop!')\n",
    "elif loc == 'Bank':\n",
    "    print('Welcome to the bank!')\n",
    "else:\n",
    "    print('Where are you?')"
   ]
  },
  {
   "cell_type": "code",
   "execution_count": null,
   "metadata": {},
   "outputs": [],
   "source": [
    "loc = 'Bank'\n",
    "print(loc.istitle())\n",
    "if loc.istitle() and loc == 'Auto Shop' or len(loc)>3:\n",
    "    print('Welcome to the Auto Shop!')\n",
    "elif loc == 'Bank':\n",
    "    print('Welcome to the bank!')\n",
    "else:\n",
    "    print('Where are you?')"
   ]
  },
  {
   "cell_type": "code",
   "execution_count": null,
   "metadata": {
    "scrolled": true
   },
   "outputs": [],
   "source": [
    "loc = 'Bank'\n",
    "print(loc.istitle())\n",
    "if ((loc == 'Auto Shop' or loc.istitle()) and len(loc)>3):\n",
    "    print('Welcome to the Auto Shop!')\n",
    "elif loc == 'Bank':\n",
    "    print('Welcome to the bank!')\n",
    "else:\n",
    "    print('Where are you?')"
   ]
  },
  {
   "cell_type": "code",
   "execution_count": null,
   "metadata": {},
   "outputs": [],
   "source": [
    "loc = 'Bank'\n",
    "print(loc.istitle())\n",
    "if (loc == 'Auto Shop' and loc.istitle()) and len(loc)>3:\n",
    "    print('Welcome to the Auto Shop!')\n",
    "elif loc == 'Bank':\n",
    "    print('Welcome to the bank!')\n",
    "else:\n",
    "    print('Where are you?')"
   ]
  },
  {
   "cell_type": "markdown",
   "metadata": {},
   "source": [
    "Note how the nested <code>if</code> statements are each checked until a True boolean causes the nested code below it to run. You should also note that you can put in as many <code>elif</code> statements as you want before you close off with an <code>else</code>.\n",
    "\n",
    "Let's create two more simple examples for the <code>if</code>, <code>elif</code>, and <code>else</code> statements:"
   ]
  },
  {
   "cell_type": "code",
   "execution_count": null,
   "metadata": {},
   "outputs": [],
   "source": [
    "person = 'Sammy'\n",
    "\n",
    "if person == 'Sammy':\n",
    "    print('Welcome Sammy!')\n",
    "else:\n",
    "    print(\"Welcome, what's your name?\")"
   ]
  },
  {
   "cell_type": "code",
   "execution_count": null,
   "metadata": {},
   "outputs": [],
   "source": [
    "person = 'George123'\n",
    "\n",
    "if person == 'Sammy':\n",
    "    print('Welcome Sammy!')\n",
    "elif person =='George':\n",
    "    print('Welcome George!')\n",
    "else:\n",
    "    print(input(\"Welcome, what's your name?\"))"
   ]
  },
  {
   "cell_type": "markdown",
   "metadata": {},
   "source": [
    "##### Guess Number"
   ]
  },
  {
   "cell_type": "code",
   "execution_count": null,
   "metadata": {},
   "outputs": [],
   "source": [
    "number = 35\n",
    "guess = int(input('Enter an integer : '))\n",
    "if guess == number:\n",
    "# New block starts here\n",
    "    print('Congratulations, you guessed it.')\n",
    "    print('(but you do not win any prizes!)')\n",
    "# New block ends here\n",
    "elif guess < number:\n",
    "# Another block\n",
    "    print('No, it is a little higher than that')\n",
    "# You can do whatever you want in a block ...\n",
    "else:\n",
    "    print('No, it is a little lower than that')\n",
    "# you must have guessed > number to reach here"
   ]
  },
  {
   "cell_type": "markdown",
   "metadata": {},
   "source": [
    "###### Indentation\n",
    "\n",
    "It is important to keep a good understanding of how indentation works in Python to maintain the structure and order of your code. We will touch on this topic again when we start building out functions!"
   ]
  },
  {
   "cell_type": "markdown",
   "metadata": {
    "collapsed": true
   },
   "source": [
    "# while Loops\n",
    "\n",
    "The <code>while</code> statement in Python is one of most general ways to perform iteration. A <code>while</code> statement will repeatedly execute a single statement or group of statements as long as the condition is true. The reason it is called a 'loop' is because the code statements are looped through over and over again until the condition is no longer met.\n",
    "\n",
    "The general format of a while loop is:\n",
    "\n",
    "    while test:\n",
    "        code statements\n",
    "    else:\n",
    "        final code statements\n",
    "\n",
    "Let’s look at a few simple <code>while</code> loops in action. "
   ]
  },
  {
   "cell_type": "markdown",
   "metadata": {},
   "source": [
    "\n",
    "#### While Loops"
   ]
  },
  {
   "cell_type": "code",
   "execution_count": null,
   "metadata": {},
   "outputs": [],
   "source": [
    "i=10\n",
    "while 100>i:\n",
    "    i = i + 10\n",
    "    print(i)\n",
    "    #execute all the statements"
   ]
  },
  {
   "cell_type": "markdown",
   "metadata": {},
   "source": [
    "#### Do While Implementation Using While"
   ]
  },
  {
   "cell_type": "code",
   "execution_count": null,
   "metadata": {},
   "outputs": [],
   "source": [
    "i=20\n",
    "expression = True\n",
    "while expression:\n",
    "#while 100 > i:\n",
    "    i = i + 15\n",
    "    expression = 100 > i\n",
    "    print(i)\n",
    "    #execute all the statements"
   ]
  },
  {
   "cell_type": "code",
   "execution_count": null,
   "metadata": {},
   "outputs": [],
   "source": [
    "print(\"while Demo\")\n",
    "number = 23\n",
    "running = True\n",
    "whiletimes = 1\n",
    "while running:\n",
    "    guess = int(input('Enter an integer : '))\n",
    "    if guess == number:\n",
    "        print('Congratulations, you guessed it.')\n",
    "        # this causes the while loop to stop\n",
    "        running = False\n",
    "    elif guess < number:\n",
    "        print('No, number is a little higher than that.')\n",
    "    else:\n",
    "        print('No, number is a little lower than that.')\n",
    "    print(whiletimes)\n",
    "    whiletimes += 1\n",
    "else:\n",
    "    print('The while loop is over.')\n",
    "# Do anything else you want to do here\n",
    "\n",
    "print('Done')"
   ]
  },
  {
   "cell_type": "code",
   "execution_count": null,
   "metadata": {},
   "outputs": [],
   "source": [
    "x = 9\n",
    "while x < 10:\n",
    "    x-=1\n",
    "    print('x is currently: ',x)\n",
    "    if(x < -100):\n",
    "        break\n",
    "else:\n",
    "    print('All Done!')"
   ]
  },
  {
   "cell_type": "markdown",
   "metadata": {},
   "source": [
    "### For Loops"
   ]
  },
  {
   "cell_type": "markdown",
   "metadata": {},
   "source": [
    "For loops is used to iterate over collections like list, tuple, dictionary, set, string"
   ]
  },
  {
   "cell_type": "code",
   "execution_count": null,
   "metadata": {},
   "outputs": [],
   "source": [
    "mystring = \"Hello World az AZ\"\n",
    "\n",
    "for x in mystring:\n",
    "    print(x,ord(x))\n",
    "    #a += ord(x)"
   ]
  },
  {
   "cell_type": "code",
   "execution_count": null,
   "metadata": {},
   "outputs": [],
   "source": [
    "list(range(10,2,-1))"
   ]
  },
  {
   "cell_type": "code",
   "execution_count": null,
   "metadata": {},
   "outputs": [],
   "source": [
    "list(range(5))"
   ]
  },
  {
   "cell_type": "code",
   "execution_count": null,
   "metadata": {},
   "outputs": [],
   "source": [
    "print(list(range(25,20,-2)))\n",
    "print(\"############range explanation#################\")\n",
    "for x in range(4): \n",
    "    print(x)\n",
    "print(\"#############################\")\n",
    "for x in range(4,10): \n",
    "    print(x)\n",
    "print(\"#############################\")\n",
    "for x in range(4,10,2):\n",
    "    print(x)\n",
    "print(\"#############negative steps ################\")\n",
    "for x in range(4,10,-2):\n",
    "    print(x)\n",
    "print(\"#############################\")\n",
    "for x in range(19,10,-2):\n",
    "    print(x)\n",
    "print(\"#############################\")\n",
    "for x in range(20,10,-3):\n",
    "    print(x)\n"
   ]
  },
  {
   "cell_type": "code",
   "execution_count": null,
   "metadata": {},
   "outputs": [],
   "source": [
    "mystring = \"Hello World\" \n",
    "print(len(mystring))\n",
    "print(\"#############################\")\n",
    "for x in range(len(mystring),0,-1):\n",
    "    print(mystring[x-1])\n"
   ]
  },
  {
   "cell_type": "code",
   "execution_count": null,
   "metadata": {},
   "outputs": [],
   "source": [
    "mystring = \"Hello World\" \n",
    "reverse_string = \"\"\n",
    "print(\"#############################\")\n",
    "for x in range(len(mystring),0,-1):\n",
    "    reverse_string += mystring[x-1]\n",
    "print(reverse_string)"
   ]
  },
  {
   "cell_type": "code",
   "execution_count": null,
   "metadata": {},
   "outputs": [],
   "source": [
    "\"\".join([mystring[x] for x in range(len(mystring)-1,-1,-1)])"
   ]
  },
  {
   "cell_type": "code",
   "execution_count": null,
   "metadata": {
    "scrolled": true
   },
   "outputs": [],
   "source": [
    "print(\"#############################\")\n",
    "for x in range(len(mystring)):\n",
    "    print(x)\n",
    "    print(mystring[x])"
   ]
  },
  {
   "cell_type": "code",
   "execution_count": null,
   "metadata": {},
   "outputs": [],
   "source": [
    "print(\"#############################\")\n",
    "for x in range(len(mystring)-1,0,-2):\n",
    "    print(x,mystring[x])"
   ]
  },
  {
   "cell_type": "code",
   "execution_count": null,
   "metadata": {},
   "outputs": [],
   "source": [
    "mystring = \"Hello Python\"\n",
    "print(\"#############################\")\n",
    "for x in range(0,len(mystring),2):\n",
    "    print(x)\n",
    "    print(mystring[x])"
   ]
  },
  {
   "cell_type": "code",
   "execution_count": null,
   "metadata": {},
   "outputs": [],
   "source": [
    "mystring = \"Hello Python\"\n",
    "print(\"#############################\")\n",
    "a=1\n",
    "for x in range(1,len(mystring),a):\n",
    "    a+=1\n",
    "    print(\"a:\",a,\"  ,x:\",x, \" character : \", mystring[x])\n",
    "    print(x)\n",
    "    "
   ]
  },
  {
   "cell_type": "code",
   "execution_count": null,
   "metadata": {},
   "outputs": [],
   "source": [
    "trees = [\"mango\", \"orange\", \"palm\",\"pine\", \"palmyrah\"]\n",
    "for tree in trees:\n",
    "    print(type(tree),\"\\t - \", tree, \"\\t - \", len(tree))\n",
    "    #print(len(tree))"
   ]
  },
  {
   "cell_type": "code",
   "execution_count": null,
   "metadata": {},
   "outputs": [],
   "source": [
    "flowersdict = {}\n",
    "flowersdict[\"flower1\"] = \"Rose\"\n",
    "flowersdict[\"flower2\"] = \"Shoeflower\"\n",
    "flowersdict[\"flower3\"] = \"Tulips\"\n",
    "flowersdict[\"flower4\"] = \"Daisy\"\n",
    "flowersdict[\"flower5\"] = \"Lotus\"\n",
    "#flowersdict[\"flower1\"]"
   ]
  },
  {
   "cell_type": "code",
   "execution_count": null,
   "metadata": {},
   "outputs": [],
   "source": [
    "for flower in flowersdict:\n",
    "    print(type(flower),\"\\t - \", flower, \"\\t - \", len(flower))   "
   ]
  },
  {
   "cell_type": "code",
   "execution_count": null,
   "metadata": {},
   "outputs": [],
   "source": [
    "for flower in flowersdict:\n",
    "    print(flowersdict[flower],\"\\t - \", flower, \"\\t - \", len(flowersdict[flower]))"
   ]
  },
  {
   "cell_type": "code",
   "execution_count": null,
   "metadata": {
    "scrolled": true
   },
   "outputs": [],
   "source": [
    "print(flowersdict.items())\n",
    "print(type(flowersdict.items()))\n",
    "print(flowersdict.keys())\n",
    "print(type(flowersdict.keys()))\n",
    "print(flowersdict.values())\n",
    "print(type(flowersdict.values()))\n",
    "\n",
    "print(list(flowersdict.items()))\n",
    "print(list(flowersdict.keys()))\n",
    "print(list(flowersdict.values()))"
   ]
  },
  {
   "cell_type": "code",
   "execution_count": null,
   "metadata": {},
   "outputs": [],
   "source": [
    "\n",
    "print(\"################################\")\n",
    "for item in flowersdict.items():\n",
    "    print(item, type(item))\n",
    "    print(item[0],\"\\t - \", item[1], \"\\t - \", len(item[1]))"
   ]
  },
  {
   "cell_type": "code",
   "execution_count": null,
   "metadata": {},
   "outputs": [],
   "source": [
    "for flowerkey,flowervalues in flowersdict.items():\n",
    "    print(flowervalue,\"\\t - \", flowerkey, \"\\t - \", len(flowervalue))"
   ]
  },
  {
   "cell_type": "code",
   "execution_count": null,
   "metadata": {},
   "outputs": [],
   "source": [
    "iterator_obj = iter(flowersdict)\n",
    "for flower in iterator_obj:\n",
    "    print(flowersdict[flower])\n",
    "    if(flower==\"flower2\"):\n",
    "        break;\n",
    "print(next(iterator_obj))\n",
    "print(next(iterator_obj))\n",
    "print(next(iterator_obj))\n"
   ]
  },
  {
   "cell_type": "code",
   "execution_count": null,
   "metadata": {},
   "outputs": [],
   "source": [
    "iterator_obj = iter(flowersdict.items())\n",
    "for flower in iterator_obj:\n",
    "    print(flower)\n",
    "    if(flower[0]==\"flower2\"):\n",
    "        break;\n",
    "        \n",
    "print(next(iterator_obj))\n",
    "print(next(iterator_obj))\n",
    "print(next(iterator_obj))"
   ]
  },
  {
   "cell_type": "code",
   "execution_count": null,
   "metadata": {},
   "outputs": [],
   "source": [
    "ax = [1,2.0,3.0+4j,\"hello\", True]\n",
    "#ax = \"hello world\"\n",
    "for somevariable in ax:\n",
    "    print(somevariable, \" \\t :\", type(somevariable))"
   ]
  },
  {
   "cell_type": "code",
   "execution_count": null,
   "metadata": {},
   "outputs": [],
   "source": [
    "\n",
    "print(flowersdict.items())\n",
    "print(flowersdict.keys())\n",
    "print(flowersdict.values())\n",
    "print(list(flowersdict.values()))"
   ]
  },
  {
   "cell_type": "code",
   "execution_count": null,
   "metadata": {},
   "outputs": [],
   "source": [
    "for flower in flowersdict.keys():\n",
    "    print(type(flower),\"\\t - \", flower, \"\\t - \", len(flower))   "
   ]
  },
  {
   "cell_type": "code",
   "execution_count": null,
   "metadata": {},
   "outputs": [],
   "source": [
    "for flower in flowersdict.values():\n",
    "    print(type(flower),\"\\t - \", flower, \"\\t - \", len(flower))   "
   ]
  },
  {
   "cell_type": "code",
   "execution_count": null,
   "metadata": {},
   "outputs": [],
   "source": [
    "for flower in flowersdict.items():\n",
    "    print(type(flower),\"\\t - \", flower[0], flower[1], \"\\t - \", len(flower[1]))   "
   ]
  },
  {
   "cell_type": "code",
   "execution_count": null,
   "metadata": {},
   "outputs": [],
   "source": [
    "for x in range(0,20,3):\n",
    "    #print(x,x**2,x**3)\n",
    "    print(\"X - \",x,\"Square of X - \",x**2,\"Cube of X - \",x**3)"
   ]
  },
  {
   "cell_type": "markdown",
   "metadata": {},
   "source": [
    "# break, continue, pass, return \n",
    "\n",
    "We can use <code>break</code>, <code>continue</code>, and <code>pass</code> statements in our loops to add additional functionality for various cases. The three statements are defined by:\n",
    "\n",
    "    break: Breaks out of the current closest enclosing loop.\n",
    "    continue: Goes to the top of the closest enclosing loop.\n",
    "    pass: Does nothing at all.\n",
    "    return: returns data to the caller\n",
    "    \n",
    "    \n",
    "Thinking about <code>break</code> and <code>continue</code> statements, the general format of the <code>while</code> loop looks like this:\n",
    "\n",
    "    while test0: \n",
    "        code statement\n",
    "        if test: \n",
    "            break\n",
    "        if test1: \n",
    "            continue \n",
    "        print(\"Hi\")\n",
    "    else:\n",
    "        print(\"Completed\")\n",
    "    print(\"Out of While Loop\")\n",
    "\n",
    "<code>break</code> and <code>continue</code> statements can appear anywhere inside the loop’s body, but we will usually put them further nested in conjunction with an <code>if</code> statement to perform an action based on some condition.\n",
    "\n",
    "Let's go ahead and look at some examples!"
   ]
  },
  {
   "cell_type": "markdown",
   "metadata": {},
   "source": [
    "### Break -  Jumps out of the loop"
   ]
  },
  {
   "cell_type": "code",
   "execution_count": null,
   "metadata": {},
   "outputs": [],
   "source": [
    "a = 10\n",
    "b = 5\n",
    "for x in range(a,0,-1):\n",
    "    print(x,b)\n",
    "    if (b>x):\n",
    "        break\n",
    "    print(\"x is greater than b\")"
   ]
  },
  {
   "cell_type": "code",
   "execution_count": null,
   "metadata": {},
   "outputs": [],
   "source": [
    "a = 5\n",
    "b = 10\n",
    "for x in range(a):\n",
    "    #print(\"x\",x)\n",
    "    for y in range(b):\n",
    "        if (y>x):\n",
    "            break\n",
    "        print(\"x:\",x,\"y:\",y)\n",
    "        #print(y)"
   ]
  },
  {
   "cell_type": "code",
   "execution_count": 11,
   "metadata": {
    "scrolled": true
   },
   "outputs": [
    {
     "name": "stdout",
     "output_type": "stream",
     "text": [
      "###################################\n",
      "Hello India 0\n",
      "###################################\n",
      "Hello Pakistan 1\n",
      "Hello World\n",
      "###################################\n",
      "Hello India 2\n",
      "###################################\n",
      "Hello TamilNadu 3\n",
      "Hello World\n",
      "###################################\n",
      "Hello India 4\n",
      "###################################\n",
      "Hello Pakistan 5\n",
      "Hello World\n",
      "###################################\n",
      "Hello India 6\n",
      "###################################\n",
      "Hello Pakistan 7\n",
      "Hello World\n",
      "###################################\n",
      "Hello India 8\n",
      "###################################\n",
      "Hello TamilNadu 9\n",
      "Hello World\n",
      "For loop is over without break\n",
      "out of for loop 9\n"
     ]
    }
   ],
   "source": [
    "for x in range (0,10):\n",
    "    print(\"###################################\")\n",
    "    if(x%2==0): # if condition testing logic 2/0\n",
    "        print(\"Hello India\", x)\n",
    "        continue\n",
    "    elif(x%3==0):#else if condition\n",
    "        print(\"Hello TamilNadu\",x)\n",
    "    else:#else condition\n",
    "        print(\"Hello Pakistan\",x)\n",
    "        if(x>2):\n",
    "            #break\n",
    "            pass # break\n",
    "    print(\"Hello World\")\n",
    "else: \n",
    "    print(\"For loop is over without break\")\n",
    "print(\"out of for loop\",x)    "
   ]
  },
  {
   "cell_type": "code",
   "execution_count": 14,
   "metadata": {},
   "outputs": [
    {
     "name": "stdout",
     "output_type": "stream",
     "text": [
      "0 0\n",
      "1 1\n",
      "2 4\n",
      "3 9\n",
      "4 16\n",
      "5 25\n",
      "6 36\n",
      "7 49\n",
      "Hello, Reached your square limit of 50 \n",
      "for is over 8\n"
     ]
    }
   ],
   "source": [
    "for x in range(9):\n",
    "    if(x**2 > 50):\n",
    "        print(\"Hello, Reached your square limit of 50 \")\n",
    "        break\n",
    "    print(x,x**2)    \n",
    "else: \n",
    "    print(\"No error occured\")\n",
    "    \n",
    "print(\"for is over\",x)"
   ]
  },
  {
   "cell_type": "code",
   "execution_count": 16,
   "metadata": {},
   "outputs": [
    {
     "ename": "ZeroDivisionError",
     "evalue": "division by zero",
     "output_type": "error",
     "traceback": [
      "\u001b[1;31m---------------------------------------------------------------------------\u001b[0m",
      "\u001b[1;31mZeroDivisionError\u001b[0m                         Traceback (most recent call last)",
      "\u001b[1;32m<ipython-input-16-b19971ce4e55>\u001b[0m in \u001b[0;36m<module>\u001b[1;34m\u001b[0m\n\u001b[0;32m      1\u001b[0m \u001b[1;32mfor\u001b[0m \u001b[0mx\u001b[0m \u001b[1;32min\u001b[0m \u001b[0mrange\u001b[0m\u001b[1;33m(\u001b[0m\u001b[1;36m7\u001b[0m\u001b[1;33m,\u001b[0m\u001b[1;33m-\u001b[0m\u001b[1;36m1\u001b[0m\u001b[1;33m,\u001b[0m\u001b[1;33m-\u001b[0m\u001b[1;36m1\u001b[0m\u001b[1;33m)\u001b[0m\u001b[1;33m:\u001b[0m\u001b[1;33m\u001b[0m\u001b[1;33m\u001b[0m\u001b[0m\n\u001b[1;32m----> 2\u001b[1;33m     \u001b[1;32mif\u001b[0m\u001b[1;33m(\u001b[0m\u001b[0mx\u001b[0m\u001b[1;33m/\u001b[0m\u001b[0mx\u001b[0m\u001b[1;33m==\u001b[0m\u001b[1;36m0\u001b[0m\u001b[1;33m)\u001b[0m\u001b[1;33m:\u001b[0m\u001b[1;33m\u001b[0m\u001b[1;33m\u001b[0m\u001b[0m\n\u001b[0m\u001b[0;32m      3\u001b[0m         \u001b[0mprint\u001b[0m\u001b[1;33m(\u001b[0m\u001b[1;34m\"Hello, Reached your limit of 50 \"\u001b[0m\u001b[1;33m)\u001b[0m\u001b[1;33m\u001b[0m\u001b[1;33m\u001b[0m\u001b[0m\n\u001b[0;32m      4\u001b[0m \u001b[1;32melse\u001b[0m\u001b[1;33m:\u001b[0m\u001b[1;33m\u001b[0m\u001b[1;33m\u001b[0m\u001b[0m\n\u001b[0;32m      5\u001b[0m     \u001b[0mprint\u001b[0m\u001b[1;33m(\u001b[0m\u001b[1;34m\"No error occured\"\u001b[0m\u001b[1;33m)\u001b[0m\u001b[1;33m\u001b[0m\u001b[1;33m\u001b[0m\u001b[0m\n",
      "\u001b[1;31mZeroDivisionError\u001b[0m: division by zero"
     ]
    }
   ],
   "source": [
    "for x in range(7,-1,-1):\n",
    "    if(x/x==0):\n",
    "        print(\"Hello, Reached your limit of 50 \")\n",
    "else: \n",
    "    print(\"No error occured\")\n",
    "    \n",
    "print(\"for is over\",x)"
   ]
  },
  {
   "cell_type": "code",
   "execution_count": 15,
   "metadata": {
    "scrolled": true
   },
   "outputs": [
    {
     "name": "stdout",
     "output_type": "stream",
     "text": [
      "7 49\n",
      "6 36\n",
      "5 25\n",
      "4 16\n",
      "3 9\n",
      "2 4\n",
      "1 1\n",
      "division by zero\n",
      "No error occured\n",
      "for is over 0\n"
     ]
    }
   ],
   "source": [
    "for x in range(7,-1,-1):\n",
    "    try:\n",
    "        if(x/x==0):\n",
    "            print(\"Hello, Reached your limit of 50 \")\n",
    "        print(x,x**2)\n",
    "    except Exception as ex: \n",
    "        print(ex)\n",
    "else: \n",
    "    print(\"No error occured\")\n",
    "    \n",
    "print(\"for is over\",x)"
   ]
  },
  {
   "cell_type": "markdown",
   "metadata": {},
   "source": [
    "### Continue - continues to the next iteration"
   ]
  },
  {
   "cell_type": "code",
   "execution_count": 17,
   "metadata": {},
   "outputs": [
    {
     "name": "stdout",
     "output_type": "stream",
     "text": [
      "x is currently:  0\n",
      "Not Breaking  x==3\n",
      "0\n",
      "x is currently:  1\n",
      "continuing... by skipping below\n",
      "x is currently:  2\n",
      "continuing... by skipping below\n",
      "x is currently:  3\n",
      "Not Breaking  x==3\n",
      "27\n",
      "x is currently:  4\n",
      "continuing... by skipping below\n",
      "x is currently:  5\n",
      "continuing... by skipping below\n",
      "x is currently:  6\n",
      "Not Breaking  x==3\n",
      "216\n",
      "x is currently:  7\n",
      "continuing... by skipping below\n",
      "x is currently:  8\n",
      "continuing... by skipping below\n",
      "x is currently:  9\n",
      "Not Breaking  x==3\n",
      "729\n"
     ]
    }
   ],
   "source": [
    "x = 0\n",
    "\n",
    "while x < 10:\n",
    "    print('x is currently: ',x)\n",
    "    #print(' x is still less than 10, adding 1 to x')\n",
    "    \n",
    "    #print(x)\n",
    "    if (x%3==0):\n",
    "        print('Not Breaking  x==3')\n",
    "        #break\n",
    "    else:\n",
    "        print('continuing... by skipping below')\n",
    "        x += 1\n",
    "        continue\n",
    "    print(x**3)\n",
    "    x += 1 \n",
    "        "
   ]
  },
  {
   "cell_type": "code",
   "execution_count": 18,
   "metadata": {},
   "outputs": [
    {
     "ename": "IndentationError",
     "evalue": "expected an indented block (<ipython-input-18-da5e8701537b>, line 9)",
     "output_type": "error",
     "traceback": [
      "\u001b[1;36m  File \u001b[1;32m\"<ipython-input-18-da5e8701537b>\"\u001b[1;36m, line \u001b[1;32m9\u001b[0m\n\u001b[1;33m    else:\u001b[0m\n\u001b[1;37m    ^\u001b[0m\n\u001b[1;31mIndentationError\u001b[0m\u001b[1;31m:\u001b[0m expected an indented block\n"
     ]
    }
   ],
   "source": [
    "## Def Functionname(Non-Named Arguments/positional Arguments, Named Arguments/Default Arguments)\n",
    "## Always the Non Named Arguments should come first first ie-default arguments should follow the non-named or positional arguments\n",
    "def mynew():\n",
    "    print(\"this is an example\") \n",
    "a =10\n",
    "b =5\n",
    "if(a>b):\n",
    "    #No action defined\n",
    "else:\n",
    "    print(\"b is greater\")\n",
    "    print(mynew()**2)"
   ]
  },
  {
   "cell_type": "markdown",
   "metadata": {},
   "source": [
    "### Pass "
   ]
  },
  {
   "cell_type": "code",
   "execution_count": null,
   "metadata": {},
   "outputs": [],
   "source": [
    "# Pass is used to provide blank/empty statements"
   ]
  },
  {
   "cell_type": "code",
   "execution_count": 19,
   "metadata": {},
   "outputs": [
    {
     "ename": "IndentationError",
     "evalue": "expected an indented block (<ipython-input-19-3846ca311bd5>, line 2)",
     "output_type": "error",
     "traceback": [
      "\u001b[1;36m  File \u001b[1;32m\"<ipython-input-19-3846ca311bd5>\"\u001b[1;36m, line \u001b[1;32m2\u001b[0m\n\u001b[1;33m    \u001b[0m\n\u001b[1;37m    ^\u001b[0m\n\u001b[1;31mIndentationError\u001b[0m\u001b[1;31m:\u001b[0m expected an indented block\n"
     ]
    }
   ],
   "source": [
    "def myaddfunc(a,b): \n",
    "   "
   ]
  },
  {
   "cell_type": "code",
   "execution_count": 20,
   "metadata": {},
   "outputs": [],
   "source": [
    "def myaddfunc(a,b): \n",
    "    pass"
   ]
  },
  {
   "cell_type": "code",
   "execution_count": 21,
   "metadata": {},
   "outputs": [
    {
     "ename": "IndentationError",
     "evalue": "expected an indented block (<ipython-input-21-fe7339a299d7>, line 5)",
     "output_type": "error",
     "traceback": [
      "\u001b[1;36m  File \u001b[1;32m\"<ipython-input-21-fe7339a299d7>\"\u001b[1;36m, line \u001b[1;32m5\u001b[0m\n\u001b[1;33m    else:\u001b[0m\n\u001b[1;37m    ^\u001b[0m\n\u001b[1;31mIndentationError\u001b[0m\u001b[1;31m:\u001b[0m expected an indented block\n"
     ]
    }
   ],
   "source": [
    "a =10\n",
    "b =5\n",
    "if(a>b):\n",
    "    #No action defined\n",
    "else:\n",
    "    print(\"b is greater\")"
   ]
  },
  {
   "cell_type": "code",
   "execution_count": 22,
   "metadata": {},
   "outputs": [],
   "source": [
    "a =10\n",
    "b =5\n",
    "if(a>b):\n",
    "    pass\n",
    "else:\n",
    "    print(\"b is greater\")"
   ]
  },
  {
   "cell_type": "markdown",
   "metadata": {},
   "source": [
    "#### Return"
   ]
  },
  {
   "cell_type": "code",
   "execution_count": 42,
   "metadata": {},
   "outputs": [],
   "source": [
    "def addnumstring(n1,n2):\n",
    "    x = str(n1)+str(n2)"
   ]
  },
  {
   "cell_type": "code",
   "execution_count": 43,
   "metadata": {},
   "outputs": [],
   "source": [
    "c = addnumstring(10,\"a\")\n",
    "d = addnumstring(10,\"10\")"
   ]
  },
  {
   "cell_type": "code",
   "execution_count": 44,
   "metadata": {
    "scrolled": true
   },
   "outputs": [
    {
     "name": "stdout",
     "output_type": "stream",
     "text": [
      "None\n"
     ]
    }
   ],
   "source": [
    "print(c)"
   ]
  },
  {
   "cell_type": "code",
   "execution_count": 45,
   "metadata": {},
   "outputs": [
    {
     "name": "stdout",
     "output_type": "stream",
     "text": [
      "None\n"
     ]
    }
   ],
   "source": [
    "print(d)"
   ]
  },
  {
   "cell_type": "code",
   "execution_count": 46,
   "metadata": {},
   "outputs": [],
   "source": [
    "def addnumstring(n1,n2):\n",
    "    x = str(n1)+str(n2)\n",
    "    return"
   ]
  },
  {
   "cell_type": "code",
   "execution_count": 47,
   "metadata": {},
   "outputs": [],
   "source": [
    "c = addnumstring(10,\"a\")\n",
    "d = addnumstring(10,\"10\")"
   ]
  },
  {
   "cell_type": "code",
   "execution_count": 49,
   "metadata": {
    "scrolled": true
   },
   "outputs": [
    {
     "name": "stdout",
     "output_type": "stream",
     "text": [
      "None\n"
     ]
    }
   ],
   "source": [
    "print(c)"
   ]
  },
  {
   "cell_type": "code",
   "execution_count": 50,
   "metadata": {},
   "outputs": [
    {
     "name": "stdout",
     "output_type": "stream",
     "text": [
      "None\n"
     ]
    }
   ],
   "source": [
    "print(d)"
   ]
  },
  {
   "cell_type": "code",
   "execution_count": 51,
   "metadata": {},
   "outputs": [],
   "source": [
    "def addnumstring(n1,n2):\n",
    "    x = str(n1)+str(n2)\n",
    "    return x"
   ]
  },
  {
   "cell_type": "code",
   "execution_count": 52,
   "metadata": {},
   "outputs": [],
   "source": [
    "c = addnumstring(10,\"a\")\n",
    "d = addnumstring(10,\"10\")"
   ]
  },
  {
   "cell_type": "code",
   "execution_count": 54,
   "metadata": {
    "scrolled": true
   },
   "outputs": [
    {
     "name": "stdout",
     "output_type": "stream",
     "text": [
      "10a\n"
     ]
    }
   ],
   "source": [
    "print(c)"
   ]
  },
  {
   "cell_type": "code",
   "execution_count": 55,
   "metadata": {},
   "outputs": [
    {
     "name": "stdout",
     "output_type": "stream",
     "text": [
      "1010\n"
     ]
    }
   ],
   "source": [
    "print(d)"
   ]
  },
  {
   "cell_type": "code",
   "execution_count": null,
   "metadata": {},
   "outputs": [],
   "source": [
    "print('Hello)"
   ]
  }
 ],
 "metadata": {
  "kernelspec": {
   "display_name": "Python 3",
   "language": "python",
   "name": "python3"
  },
  "language_info": {
   "codemirror_mode": {
    "name": "ipython",
    "version": 3
   },
   "file_extension": ".py",
   "mimetype": "text/x-python",
   "name": "python",
   "nbconvert_exporter": "python",
   "pygments_lexer": "ipython3",
   "version": "3.9.1"
  }
 },
 "nbformat": 4,
 "nbformat_minor": 1
}
