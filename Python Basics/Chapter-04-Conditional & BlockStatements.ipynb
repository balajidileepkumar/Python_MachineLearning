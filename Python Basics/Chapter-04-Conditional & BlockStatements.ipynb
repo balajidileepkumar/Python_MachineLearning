{
 "cells": [
  {
   "cell_type": "markdown",
   "metadata": {},
   "source": [
    "## Conditional, Block Statements and Exceptions"
   ]
  },
  {
   "cell_type": "markdown",
   "metadata": {},
   "source": [
    "### if, elif, else Statements\n",
    "\n",
    "<code>if</code> Statements in Python allows us to tell the computer to perform alternative actions based on a certain set of results.\n",
    "\n",
    "Verbally, we can imagine we are telling the computer:\n",
    "\n",
    "\"Hey if this case happens, perform some action\"\n",
    "\n",
    "We can then expand the idea further with <code>elif</code> and <code>else</code> statements, which allow us to tell the computer:\n",
    "\n",
    "\"Hey if this case happens, perform some action. Else, if another case happens, perform some other action. Else, if *none* of the above cases happened, perform this action.\"\n",
    "\n",
    "Let's go ahead and look at the syntax format for <code>if</code> statements to get a better idea of this:\n",
    "\n",
    "    if case1:\n",
    "        perform action1\n",
    "    elif case2:\n",
    "        perform action2\n",
    "    else: \n",
    "        perform action3"
   ]
  },
  {
   "cell_type": "markdown",
   "metadata": {},
   "source": [
    "## First Example\n",
    "\n",
    "Let's see a quick example of this:"
   ]
  },
  {
   "cell_type": "code",
   "execution_count": 2,
   "metadata": {},
   "outputs": [
    {
     "name": "stdout",
     "output_type": "stream",
     "text": [
      "##########\n",
      "I am a fruit\n",
      "I am not red colored fruit\n"
     ]
    }
   ],
   "source": [
    "test = \"guava\"\n",
    "\n",
    "#test = \"tomatoes\"\n",
    "list_fruit = [\"apple\", \"orange\", \"guava\",\"pomegrante\"]\n",
    "fruit_redcolor = [\"apple\", \"pomegrante\"]\n",
    "list_veg = [\"carrots\", \"beets\", \"tomatoes\"]\n",
    "print(\"##########\")\n",
    "#print(list_fruit.count(test) > 0)\n",
    "if(list_fruit.count(test) > 0):\n",
    "    print(\"I am a fruit\")\n",
    "    if(fruit_redcolor.count(test) > 0):\n",
    "        print(\"I am a red colored fruit\")\n",
    "    else:\n",
    "        #pass\n",
    "        print(\"I am not red colored fruit\")\n",
    "elif(list_veg.count(test) > 0):\n",
    "    print(\"I am a Vegetable\")\n",
    "else: \n",
    "    print(\"I am neither\")\n"
   ]
  },
  {
   "cell_type": "code",
   "execution_count": null,
   "metadata": {},
   "outputs": [],
   "source": [
    "x= False\n",
    "y = True\n",
    "x = x | y\n",
    "print(str(x))\n",
    "if x:\n",
    "    print('It was true!')"
   ]
  },
  {
   "cell_type": "markdown",
   "metadata": {},
   "source": [
    "Let's add in some else logic:"
   ]
  },
  {
   "cell_type": "code",
   "execution_count": 3,
   "metadata": {},
   "outputs": [
    {
     "name": "stdout",
     "output_type": "stream",
     "text": [
      "I will be printed as x is negated to False\n"
     ]
    }
   ],
   "source": [
    "x = True\n",
    "\n",
    "if (not x):\n",
    "    print('x was True!')\n",
    "else:\n",
    "    print('I will be printed as x is negated to False')"
   ]
  },
  {
   "cell_type": "markdown",
   "metadata": {},
   "source": [
    "### Multiple Branches\n",
    "\n",
    "Let's get a fuller picture of how far <code>if</code>, <code>elif</code>, and <code>else</code> can take us!\n",
    "\n",
    "We write this out in a nested structure. Take note of how the <code>if</code>, <code>elif</code>, and <code>else</code> line up in the code. This can help you see what <code>if</code> is related to what <code>elif</code> or <code>else</code> statements.\n",
    "\n",
    "We'll reintroduce a comparison syntax for Python."
   ]
  },
  {
   "cell_type": "code",
   "execution_count": null,
   "metadata": {
    "scrolled": true
   },
   "outputs": [],
   "source": [
    "a=10\n",
    "b=5\n",
    "c = 1,2,3\n",
    "d = 1\n",
    "print(\"#########a<=b#########\")\n",
    "print(a<=b)\n",
    "print(\"#########a>=b#########\")\n",
    "print(a>=b)\n",
    "print(\"#########a!=b#########\")\n",
    "print(a!=b)\n",
    "print(\"#########a==b#########\")\n",
    "print(a==b)\n",
    "print(\"#########a<b#########\")\n",
    "print(a<b)\n",
    "print(\"#########a>b#########\")\n",
    "print(a>b)\n",
    "print(\"######## membership ##########\")\n",
    "print(d in c)\n",
    "print(not (d not in c))\n",
    "print(\"######## not a == b ##########\")\n",
    "print(not (a==b))\n",
    "print(\"######## c.count(1) >10 ##########\")\n",
    "print(c.count(1)>0)\n",
    "print(\"######## len == 3 ##########\")\n",
    "print(len(c)==3)"
   ]
  },
  {
   "cell_type": "code",
   "execution_count": 4,
   "metadata": {},
   "outputs": [
    {
     "name": "stdout",
     "output_type": "stream",
     "text": [
      "Where are you?\n"
     ]
    }
   ],
   "source": [
    "loc = 'Bank1'\n",
    "\n",
    "if loc == 'Auto Shop':\n",
    "    print('Welcome to the Auto Shop!')\n",
    "elif loc == 'Bank':\n",
    "    print('Welcome to the bank!')\n",
    "else:\n",
    "    print('Where are you?')"
   ]
  },
  {
   "cell_type": "code",
   "execution_count": 5,
   "metadata": {
    "scrolled": true
   },
   "outputs": [
    {
     "name": "stdout",
     "output_type": "stream",
     "text": [
      "True\n",
      "Welcome to the Auto Shop!\n"
     ]
    }
   ],
   "source": [
    "loc = 'Bank'\n",
    "print(loc.istitle())\n",
    "if (loc == 'Auto Shop' or loc.istitle()) and len(loc)>3:\n",
    "    print('Welcome to the Auto Shop!')\n",
    "elif loc == 'Bank':\n",
    "    print('Welcome to the bank!')\n",
    "else:\n",
    "    print('Where are you?')"
   ]
  },
  {
   "cell_type": "code",
   "execution_count": 6,
   "metadata": {},
   "outputs": [
    {
     "name": "stdout",
     "output_type": "stream",
     "text": [
      "True\n",
      "Welcome to the bank!\n"
     ]
    }
   ],
   "source": [
    "loc = 'Bank'\n",
    "print(loc.istitle())\n",
    "if (loc == 'Auto Shop' and loc.istitle()) and len(loc)>3:\n",
    "    print('Welcome to the Auto Shop!')\n",
    "elif loc == 'Bank':\n",
    "    print('Welcome to the bank!')\n",
    "else:\n",
    "    print('Where are you?')"
   ]
  },
  {
   "cell_type": "markdown",
   "metadata": {},
   "source": [
    "Note how the nested <code>if</code> statements are each checked until a True boolean causes the nested code below it to run. You should also note that you can put in as many <code>elif</code> statements as you want before you close off with an <code>else</code>.\n",
    "\n",
    "Let's create two more simple examples for the <code>if</code>, <code>elif</code>, and <code>else</code> statements:"
   ]
  },
  {
   "cell_type": "code",
   "execution_count": null,
   "metadata": {},
   "outputs": [],
   "source": [
    "person = 'Sammy'\n",
    "\n",
    "if person == 'Sammy':\n",
    "    print('Welcome Sammy!')\n",
    "else:\n",
    "    print(\"Welcome, what's your name?\")"
   ]
  },
  {
   "cell_type": "code",
   "execution_count": null,
   "metadata": {},
   "outputs": [],
   "source": [
    "person = 'George'\n",
    "\n",
    "if person == 'Sammy':\n",
    "    print('Welcome Sammy!')\n",
    "elif person =='George':\n",
    "    print('Welcome George!')\n",
    "else:\n",
    "    print(input(\"Welcome, what's your name?\"))"
   ]
  },
  {
   "cell_type": "markdown",
   "metadata": {},
   "source": [
    "##### Guess Number"
   ]
  },
  {
   "cell_type": "code",
   "execution_count": null,
   "metadata": {},
   "outputs": [],
   "source": [
    "number = 35\n",
    "guess = int(input('Enter an integer : '))\n",
    "if guess == number:\n",
    "# New block starts here\n",
    "    print('Congratulations, you guessed it.')\n",
    "    print('(but you do not win any prizes!)')\n",
    "# New block ends here\n",
    "elif guess < number:\n",
    "# Another block\n",
    "    print('No, it is a little higher than that')\n",
    "# You can do whatever you want in a block ...\n",
    "else:\n",
    "    print('No, it is a little lower than that')\n",
    "# you must have guessed > number to reach here"
   ]
  },
  {
   "cell_type": "markdown",
   "metadata": {},
   "source": [
    "###### Indentation\n",
    "\n",
    "It is important to keep a good understanding of how indentation works in Python to maintain the structure and order of your code. We will touch on this topic again when we start building out functions!"
   ]
  },
  {
   "cell_type": "markdown",
   "metadata": {
    "collapsed": true
   },
   "source": [
    "# while Loops\n",
    "\n",
    "The <code>while</code> statement in Python is one of most general ways to perform iteration. A <code>while</code> statement will repeatedly execute a single statement or group of statements as long as the condition is true. The reason it is called a 'loop' is because the code statements are looped through over and over again until the condition is no longer met.\n",
    "\n",
    "The general format of a while loop is:\n",
    "\n",
    "    while test:\n",
    "        code statements\n",
    "    else:\n",
    "        final code statements\n",
    "\n",
    "Let’s look at a few simple <code>while</code> loops in action. "
   ]
  },
  {
   "cell_type": "markdown",
   "metadata": {},
   "source": [
    "\n",
    "#### While Loops"
   ]
  },
  {
   "cell_type": "code",
   "execution_count": 1,
   "metadata": {},
   "outputs": [],
   "source": [
    "i=100\n",
    "expression = True\n",
    "while 100>i:\n",
    "    i = i + 2\n",
    "    print(i)\n",
    "    #execute all the statements"
   ]
  },
  {
   "cell_type": "markdown",
   "metadata": {},
   "source": [
    "#### Do While Implementation Using While"
   ]
  },
  {
   "cell_type": "code",
   "execution_count": 3,
   "metadata": {},
   "outputs": [
    {
     "name": "stdout",
     "output_type": "stream",
     "text": [
      "92\n",
      "94\n",
      "96\n",
      "98\n",
      "100\n"
     ]
    }
   ],
   "source": [
    "i=90\n",
    "expression = True\n",
    "while expression:\n",
    "#while 100 > i:\n",
    "    i = i + 2\n",
    "    expression = 100 > i\n",
    "    print(i)\n",
    "    #execute all the statements"
   ]
  },
  {
   "cell_type": "code",
   "execution_count": 5,
   "metadata": {},
   "outputs": [
    {
     "name": "stdout",
     "output_type": "stream",
     "text": [
      "while Demo\n",
      "Enter an integer : 5\n",
      "No, number is a little higher than that.\n",
      "1\n",
      "Enter an integer : 10\n",
      "No, number is a little higher than that.\n",
      "2\n",
      "Enter an integer : 20\n",
      "No, number is a little higher than that.\n",
      "3\n",
      "Enter an integer : 30\n",
      "No, number is a little lower than that.\n",
      "4\n",
      "Enter an integer : 25\n",
      "No, number is a little lower than that.\n",
      "5\n",
      "Enter an integer : 23\n",
      "Congratulations, you guessed it.\n",
      "6\n",
      "The while loop is over.\n",
      "Done\n"
     ]
    }
   ],
   "source": [
    "print(\"while Demo\")\n",
    "number = 23\n",
    "running = True\n",
    "whiletimes = 1\n",
    "while running:\n",
    "    guess = int(input('Enter an integer : '))\n",
    "    if guess == number:\n",
    "        print('Congratulations, you guessed it.')\n",
    "        # this causes the while loop to stop\n",
    "        running = False\n",
    "    elif guess < number:\n",
    "        print('No, number is a little higher than that.')\n",
    "    else:\n",
    "        print('No, number is a little lower than that.')\n",
    "    print(whiletimes)\n",
    "    whiletimes += 1\n",
    "else:\n",
    "    print('The while loop is over.')\n",
    "# Do anything else you want to do here\n",
    "\n",
    "print('Done')"
   ]
  },
  {
   "cell_type": "code",
   "execution_count": 4,
   "metadata": {},
   "outputs": [
    {
     "name": "stdout",
     "output_type": "stream",
     "text": [
      "x is currently:  9\n",
      "x is currently:  8\n",
      "x is currently:  7\n",
      "x is currently:  6\n",
      "x is currently:  5\n",
      "x is currently:  4\n",
      "x is currently:  3\n",
      "x is currently:  2\n",
      "x is currently:  1\n",
      "x is currently:  0\n",
      "x is currently:  -1\n",
      "x is currently:  -2\n",
      "x is currently:  -3\n",
      "x is currently:  -4\n",
      "x is currently:  -5\n",
      "x is currently:  -6\n",
      "x is currently:  -7\n",
      "x is currently:  -8\n",
      "x is currently:  -9\n",
      "x is currently:  -10\n",
      "x is currently:  -11\n",
      "x is currently:  -12\n",
      "x is currently:  -13\n",
      "x is currently:  -14\n",
      "x is currently:  -15\n",
      "x is currently:  -16\n",
      "x is currently:  -17\n",
      "x is currently:  -18\n",
      "x is currently:  -19\n",
      "x is currently:  -20\n",
      "x is currently:  -21\n",
      "x is currently:  -22\n",
      "x is currently:  -23\n",
      "x is currently:  -24\n",
      "x is currently:  -25\n",
      "x is currently:  -26\n",
      "x is currently:  -27\n",
      "x is currently:  -28\n",
      "x is currently:  -29\n",
      "x is currently:  -30\n",
      "x is currently:  -31\n",
      "x is currently:  -32\n",
      "x is currently:  -33\n",
      "x is currently:  -34\n",
      "x is currently:  -35\n",
      "x is currently:  -36\n",
      "x is currently:  -37\n",
      "x is currently:  -38\n",
      "x is currently:  -39\n",
      "x is currently:  -40\n",
      "x is currently:  -41\n",
      "x is currently:  -42\n",
      "x is currently:  -43\n",
      "x is currently:  -44\n",
      "x is currently:  -45\n",
      "x is currently:  -46\n",
      "x is currently:  -47\n",
      "x is currently:  -48\n",
      "x is currently:  -49\n",
      "x is currently:  -50\n",
      "x is currently:  -51\n",
      "x is currently:  -52\n",
      "x is currently:  -53\n",
      "x is currently:  -54\n",
      "x is currently:  -55\n",
      "x is currently:  -56\n",
      "x is currently:  -57\n",
      "x is currently:  -58\n",
      "x is currently:  -59\n",
      "x is currently:  -60\n",
      "x is currently:  -61\n",
      "x is currently:  -62\n",
      "x is currently:  -63\n",
      "x is currently:  -64\n",
      "x is currently:  -65\n",
      "x is currently:  -66\n",
      "x is currently:  -67\n",
      "x is currently:  -68\n",
      "x is currently:  -69\n",
      "x is currently:  -70\n",
      "x is currently:  -71\n",
      "x is currently:  -72\n",
      "x is currently:  -73\n",
      "x is currently:  -74\n",
      "x is currently:  -75\n",
      "x is currently:  -76\n",
      "x is currently:  -77\n",
      "x is currently:  -78\n",
      "x is currently:  -79\n",
      "x is currently:  -80\n",
      "x is currently:  -81\n",
      "x is currently:  -82\n",
      "x is currently:  -83\n",
      "x is currently:  -84\n",
      "x is currently:  -85\n",
      "x is currently:  -86\n",
      "x is currently:  -87\n",
      "x is currently:  -88\n",
      "x is currently:  -89\n",
      "x is currently:  -90\n",
      "x is currently:  -91\n",
      "x is currently:  -92\n",
      "x is currently:  -93\n",
      "x is currently:  -94\n",
      "x is currently:  -95\n",
      "x is currently:  -96\n",
      "x is currently:  -97\n",
      "x is currently:  -98\n",
      "x is currently:  -99\n",
      "x is currently:  -100\n"
     ]
    }
   ],
   "source": [
    "x = 9\n",
    "while x < 10:\n",
    "    print('x is currently: ',x)\n",
    "    x-=1\n",
    "    if(x < -100):\n",
    "        break\n",
    "else:\n",
    "    print('All Done!')"
   ]
  },
  {
   "cell_type": "markdown",
   "metadata": {},
   "source": [
    "### For Loops"
   ]
  },
  {
   "cell_type": "markdown",
   "metadata": {},
   "source": [
    "For loops is used to iterate over collections like list, tuple, dictionary, set, string"
   ]
  },
  {
   "cell_type": "code",
   "execution_count": 6,
   "metadata": {},
   "outputs": [
    {
     "name": "stdout",
     "output_type": "stream",
     "text": [
      "H 72 I\n",
      "e 101 f\n",
      "l 108 m\n",
      "l 108 m\n",
      "o 111 p\n",
      "  32 !\n",
      "W 87 X\n",
      "o 111 p\n",
      "r 114 s\n",
      "l 108 m\n",
      "d 100 e\n",
      "  32 !\n",
      "a 97 b\n",
      "z 122 {\n",
      "  32 !\n",
      "A 65 B\n",
      "Z 90 [\n"
     ]
    }
   ],
   "source": [
    "mystring = \"Hello World az AZ\"\n",
    "\n",
    "for x in mystring:\n",
    "    print(x,ord(x), chr(ord(x)+1))\n",
    "    #a += ord(x)"
   ]
  },
  {
   "cell_type": "code",
   "execution_count": 8,
   "metadata": {},
   "outputs": [
    {
     "name": "stdout",
     "output_type": "stream",
     "text": [
      "############range explanation#################\n",
      "0\n",
      "1\n",
      "2\n",
      "3\n",
      "#############################\n",
      "4\n",
      "5\n",
      "6\n",
      "7\n",
      "8\n",
      "9\n",
      "#############################\n",
      "4\n",
      "6\n",
      "8\n",
      "#############negative steps ################\n",
      "#############################\n",
      "#############################\n",
      "20\n",
      "17\n",
      "14\n",
      "11\n"
     ]
    }
   ],
   "source": [
    "print(\"############range explanation#################\")\n",
    "for x in range(4): \n",
    "    print(x)\n",
    "print(\"#############################\")\n",
    "for x in range(4,10): \n",
    "    print(x)\n",
    "print(\"#############################\")\n",
    "for x in range(4,10,2):\n",
    "    print(x)\n",
    "print(\"#############negative steps ################\")\n",
    "for x in range(4,10,-2):\n",
    "    print(x)\n",
    "print(\"#############################\")\n",
    "for x in range(19,10,-2):\n",
    "    print(x)\n",
    "print(\"#############################\")\n",
    "for x in range(20,10,-3):\n",
    "    print(x)\n"
   ]
  },
  {
   "cell_type": "code",
   "execution_count": 14,
   "metadata": {},
   "outputs": [
    {
     "name": "stdout",
     "output_type": "stream",
     "text": [
      "14\n",
      "#############################\n",
      " \n",
      " \n",
      " \n",
      "d\n",
      "l\n",
      "r\n",
      "o\n",
      "W\n",
      " \n",
      "o\n",
      "l\n",
      "l\n",
      "e\n",
      "H\n"
     ]
    }
   ],
   "source": [
    "mystring = \"Hello World   \" \n",
    "print(len(mystring))\n",
    "print(\"#############################\")\n",
    "for x in range(len(mystring),0,-1):\n",
    "    print(mystring[x-1])"
   ]
  },
  {
   "cell_type": "code",
   "execution_count": 15,
   "metadata": {
    "scrolled": true
   },
   "outputs": [
    {
     "name": "stdout",
     "output_type": "stream",
     "text": [
      "#############################\n",
      "0\n",
      "H\n",
      "1\n",
      "e\n",
      "2\n",
      "l\n",
      "3\n",
      "l\n",
      "4\n",
      "o\n",
      "5\n",
      " \n",
      "6\n",
      "W\n",
      "7\n",
      "o\n",
      "8\n",
      "r\n",
      "9\n",
      "l\n",
      "10\n",
      "d\n",
      "11\n",
      " \n",
      "12\n",
      " \n",
      "13\n",
      " \n"
     ]
    }
   ],
   "source": [
    "print(\"#############################\")\n",
    "for x in range(len(mystring)):\n",
    "    print(x)\n",
    "    print(mystring[x])"
   ]
  },
  {
   "cell_type": "code",
   "execution_count": 16,
   "metadata": {},
   "outputs": [
    {
     "name": "stdout",
     "output_type": "stream",
     "text": [
      "#############################\n",
      "13\n",
      " \n",
      "11\n",
      " \n",
      "9\n",
      "l\n",
      "7\n",
      "o\n",
      "5\n",
      " \n",
      "3\n",
      "l\n",
      "1\n",
      "e\n"
     ]
    }
   ],
   "source": [
    "print(\"#############################\")\n",
    "for x in range(len(mystring)-1,0,-2):\n",
    "    print(x)\n",
    "    print(mystring[x])"
   ]
  },
  {
   "cell_type": "code",
   "execution_count": 17,
   "metadata": {},
   "outputs": [
    {
     "name": "stdout",
     "output_type": "stream",
     "text": [
      "#############################\n",
      "0\n",
      "H\n",
      "2\n",
      "l\n",
      "4\n",
      "o\n",
      "6\n",
      "P\n",
      "8\n",
      "t\n",
      "10\n",
      "o\n"
     ]
    }
   ],
   "source": [
    "mystring = \"Hello Python\"\n",
    "print(\"#############################\")\n",
    "for x in range(0,len(mystring),2):\n",
    "    print(x)\n",
    "    print(mystring[x])"
   ]
  },
  {
   "cell_type": "code",
   "execution_count": 20,
   "metadata": {},
   "outputs": [
    {
     "name": "stdout",
     "output_type": "stream",
     "text": [
      "#############################\n",
      "2 1 e\n",
      "1\n",
      "3 2 l\n",
      "2\n",
      "4 3 l\n",
      "3\n",
      "5 4 o\n",
      "4\n",
      "6 5  \n",
      "5\n",
      "7 6 P\n",
      "6\n",
      "8 7 y\n",
      "7\n",
      "9 8 t\n",
      "8\n",
      "10 9 h\n",
      "9\n",
      "11 10 o\n",
      "10\n",
      "12 11 n\n",
      "11\n"
     ]
    }
   ],
   "source": [
    "mystring = \"Hello Python\"\n",
    "print(\"#############################\")\n",
    "a=1\n",
    "for x in range(1,len(mystring),a):\n",
    "    a+=1\n",
    "    print(a,x, mystring[x])\n",
    "    print(x)\n",
    "    "
   ]
  },
  {
   "cell_type": "code",
   "execution_count": 21,
   "metadata": {},
   "outputs": [
    {
     "name": "stdout",
     "output_type": "stream",
     "text": [
      "<class 'str'> \t -  mango \t -  5\n",
      "<class 'str'> \t -  orange \t -  6\n",
      "<class 'str'> \t -  palm \t -  4\n",
      "<class 'str'> \t -  pine \t -  4\n",
      "<class 'str'> \t -  palmyrah \t -  8\n"
     ]
    }
   ],
   "source": [
    "trees = [\"mango\", \"orange\", \"palm\",\"pine\", \"palmyrah\"]\n",
    "for tree in trees:\n",
    "    print(type(tree),\"\\t - \", tree, \"\\t - \", len(tree))\n",
    "    #print(len(tree))"
   ]
  },
  {
   "cell_type": "code",
   "execution_count": 22,
   "metadata": {},
   "outputs": [],
   "source": [
    "flowersdict = {}\n",
    "flowersdict[\"flower1\"] = \"Rose\"\n",
    "flowersdict[\"flower2\"] = \"Shoeflower\"\n",
    "flowersdict[\"flower3\"] = \"Tulips\"\n",
    "flowersdict[\"flower4\"] = \"Daisy\"\n",
    "flowersdict[\"flower5\"] = \"Lotus\""
   ]
  },
  {
   "cell_type": "code",
   "execution_count": 23,
   "metadata": {},
   "outputs": [
    {
     "name": "stdout",
     "output_type": "stream",
     "text": [
      "<class 'str'> \t -  flower1 \t -  7\n",
      "<class 'str'> \t -  flower2 \t -  7\n",
      "<class 'str'> \t -  flower3 \t -  7\n",
      "<class 'str'> \t -  flower4 \t -  7\n",
      "<class 'str'> \t -  flower5 \t -  7\n"
     ]
    }
   ],
   "source": [
    "for flower in flowersdict:\n",
    "    print(type(flower),\"\\t - \", flower, \"\\t - \", len(flower))   "
   ]
  },
  {
   "cell_type": "code",
   "execution_count": 24,
   "metadata": {},
   "outputs": [
    {
     "name": "stdout",
     "output_type": "stream",
     "text": [
      "Rose \t -  flower1 \t -  4\n",
      "Shoeflower \t -  flower2 \t -  10\n",
      "Tulips \t -  flower3 \t -  6\n",
      "Daisy \t -  flower4 \t -  5\n",
      "Lotus \t -  flower5 \t -  5\n"
     ]
    }
   ],
   "source": [
    "for flower in flowersdict:\n",
    "    print(flowersdict[flower],\"\\t - \", flower, \"\\t - \", len(flowersdict[flower]))"
   ]
  },
  {
   "cell_type": "code",
   "execution_count": 28,
   "metadata": {},
   "outputs": [
    {
     "name": "stdout",
     "output_type": "stream",
     "text": [
      "('flower1', 'Rose') <class 'tuple'>\n",
      "flower1 \t -  Rose \t -  4\n",
      "('flower2', 'Shoeflower') <class 'tuple'>\n",
      "flower2 \t -  Shoeflower \t -  10\n",
      "('flower3', 'Tulips') <class 'tuple'>\n",
      "flower3 \t -  Tulips \t -  6\n",
      "('flower4', 'Daisy') <class 'tuple'>\n",
      "flower4 \t -  Daisy \t -  5\n",
      "('flower5', 'Lotus') <class 'tuple'>\n",
      "flower5 \t -  Lotus \t -  5\n"
     ]
    }
   ],
   "source": [
    "for item in flowersdict.items():\n",
    "    print(item, type(item))\n",
    "    print(item[0],\"\\t - \", item[1], \"\\t - \", len(item[1]))"
   ]
  },
  {
   "cell_type": "code",
   "execution_count": 25,
   "metadata": {},
   "outputs": [
    {
     "name": "stdout",
     "output_type": "stream",
     "text": [
      "Rose \t -  flower1 \t -  4\n",
      "Shoeflower \t -  flower2 \t -  10\n",
      "Tulips \t -  flower3 \t -  6\n",
      "Daisy \t -  flower4 \t -  5\n",
      "Lotus \t -  flower5 \t -  5\n"
     ]
    }
   ],
   "source": [
    "for flowerkey,flowervalue in flowersdict.items():\n",
    "    print(flowervalue,\"\\t - \", flowerkey, \"\\t - \", len(flowervalue))"
   ]
  },
  {
   "cell_type": "code",
   "execution_count": 39,
   "metadata": {},
   "outputs": [
    {
     "ename": "KeyError",
     "evalue": "('flower1', 'Rose')",
     "output_type": "error",
     "traceback": [
      "\u001b[1;31m---------------------------------------------------------------------------\u001b[0m",
      "\u001b[1;31mKeyError\u001b[0m                                  Traceback (most recent call last)",
      "\u001b[1;32m<ipython-input-39-245ae6ed3166>\u001b[0m in \u001b[0;36m<module>\u001b[1;34m\u001b[0m\n\u001b[0;32m      1\u001b[0m \u001b[0miterator_obj\u001b[0m \u001b[1;33m=\u001b[0m \u001b[0miter\u001b[0m\u001b[1;33m(\u001b[0m\u001b[0mflowersdict\u001b[0m\u001b[1;33m.\u001b[0m\u001b[0mitems\u001b[0m\u001b[1;33m(\u001b[0m\u001b[1;33m)\u001b[0m\u001b[1;33m)\u001b[0m\u001b[1;33m\u001b[0m\u001b[1;33m\u001b[0m\u001b[0m\n\u001b[0;32m      2\u001b[0m \u001b[1;32mfor\u001b[0m \u001b[0mflower\u001b[0m \u001b[1;32min\u001b[0m \u001b[0miterator_obj\u001b[0m\u001b[1;33m:\u001b[0m\u001b[1;33m\u001b[0m\u001b[1;33m\u001b[0m\u001b[0m\n\u001b[1;32m----> 3\u001b[1;33m     \u001b[0mprint\u001b[0m\u001b[1;33m(\u001b[0m\u001b[0mflowersdict\u001b[0m\u001b[1;33m[\u001b[0m\u001b[0mflower\u001b[0m\u001b[1;33m]\u001b[0m\u001b[1;33m)\u001b[0m\u001b[1;33m\u001b[0m\u001b[1;33m\u001b[0m\u001b[0m\n\u001b[0m\u001b[0;32m      4\u001b[0m     \u001b[1;32mif\u001b[0m\u001b[1;33m(\u001b[0m\u001b[0mflower\u001b[0m\u001b[1;33m==\u001b[0m\u001b[1;34m\"flower2\"\u001b[0m\u001b[1;33m)\u001b[0m\u001b[1;33m:\u001b[0m\u001b[1;33m\u001b[0m\u001b[1;33m\u001b[0m\u001b[0m\n\u001b[0;32m      5\u001b[0m         \u001b[1;32mbreak\u001b[0m\u001b[1;33m;\u001b[0m\u001b[1;33m\u001b[0m\u001b[1;33m\u001b[0m\u001b[0m\n",
      "\u001b[1;31mKeyError\u001b[0m: ('flower1', 'Rose')"
     ]
    }
   ],
   "source": [
    "iterator_obj = iter(flowersdict)\n",
    "for flower in iterator_obj:\n",
    "    print(flowersdict[flower])\n",
    "    if(flower==\"flower2\"):\n",
    "        break;\n",
    "print(next(iterator_obj))\n",
    "print(next(iterator_obj))\n",
    "print(next(iterator_obj))\n"
   ]
  },
  {
   "cell_type": "code",
   "execution_count": 43,
   "metadata": {},
   "outputs": [
    {
     "name": "stdout",
     "output_type": "stream",
     "text": [
      "('flower1', 'Rose')\n",
      "('flower2', 'Shoeflower')\n",
      "('flower3', 'Tulips')\n",
      "('flower4', 'Daisy')\n",
      "('flower5', 'Lotus')\n"
     ]
    }
   ],
   "source": [
    "iterator_obj = iter(flowersdict.items())\n",
    "for flower in iterator_obj:\n",
    "    print(flower)\n",
    "    if(flower[0]==\"flower2\"):\n",
    "        break;\n",
    "        \n",
    "print(next(iterator_obj))\n",
    "print(next(iterator_obj))\n",
    "print(next(iterator_obj))"
   ]
  },
  {
   "cell_type": "code",
   "execution_count": 44,
   "metadata": {},
   "outputs": [
    {
     "name": "stdout",
     "output_type": "stream",
     "text": [
      "1  \t : <class 'int'>\n",
      "2.0  \t : <class 'float'>\n",
      "(3+4j)  \t : <class 'complex'>\n",
      "hello  \t : <class 'str'>\n",
      "True  \t : <class 'bool'>\n"
     ]
    }
   ],
   "source": [
    "ax = [1,2.0,3.0+4j,\"hello\", True]\n",
    "#ax = \"hello world\"\n",
    "for somevariable in ax:\n",
    "    print(somevariable, \" \\t :\", type(somevariable))"
   ]
  },
  {
   "cell_type": "code",
   "execution_count": 30,
   "metadata": {},
   "outputs": [
    {
     "name": "stdout",
     "output_type": "stream",
     "text": [
      "dict_items([('flower1', 'Rose'), ('flower2', 'Shoeflower'), ('flower3', 'Tulips'), ('flower4', 'Daisy'), ('flower5', 'Lotus')])\n",
      "dict_keys(['flower1', 'flower2', 'flower3', 'flower4', 'flower5'])\n",
      "dict_values(['Rose', 'Shoeflower', 'Tulips', 'Daisy', 'Lotus'])\n",
      "['Rose', 'Shoeflower', 'Tulips', 'Daisy', 'Lotus']\n"
     ]
    }
   ],
   "source": [
    "\n",
    "print(flowersdict.items())\n",
    "print(flowersdict.keys())\n",
    "print(flowersdict.values())\n",
    "print(list(flowersdict.values()))"
   ]
  },
  {
   "cell_type": "code",
   "execution_count": null,
   "metadata": {},
   "outputs": [],
   "source": [
    "for flower in flowersdict.keys():\n",
    "    print(type(flower),\"\\t - \", flower, \"\\t - \", len(flower))   "
   ]
  },
  {
   "cell_type": "code",
   "execution_count": null,
   "metadata": {},
   "outputs": [],
   "source": [
    "for flower in flowersdict.values():\n",
    "    print(type(flower),\"\\t - \", flower, \"\\t - \", len(flower))   "
   ]
  },
  {
   "cell_type": "code",
   "execution_count": null,
   "metadata": {},
   "outputs": [],
   "source": [
    "for flower in flowersdict.items():\n",
    "    print(type(flower),\"\\t - \", flower[0], flower[1], \"\\t - \", len(flower[1]))   "
   ]
  },
  {
   "cell_type": "code",
   "execution_count": 34,
   "metadata": {},
   "outputs": [
    {
     "name": "stdout",
     "output_type": "stream",
     "text": [
      "X -  0 Square of X -  0 Cube of X -  0\n",
      "X -  3 Square of X -  9 Cube of X -  27\n",
      "X -  6 Square of X -  36 Cube of X -  216\n",
      "X -  9 Square of X -  81 Cube of X -  729\n",
      "X -  12 Square of X -  144 Cube of X -  1728\n",
      "X -  15 Square of X -  225 Cube of X -  3375\n",
      "X -  18 Square of X -  324 Cube of X -  5832\n"
     ]
    }
   ],
   "source": [
    "for x in range(0,20,3):\n",
    "    #print(x,x**2,x**3)\n",
    "    print(\"X - \",x,\"Square of X - \",x**2,\"Cube of X - \",x**3)"
   ]
  },
  {
   "cell_type": "markdown",
   "metadata": {},
   "source": [
    "# break, continue, pass, return \n",
    "\n",
    "We can use <code>break</code>, <code>continue</code>, and <code>pass</code> statements in our loops to add additional functionality for various cases. The three statements are defined by:\n",
    "\n",
    "    break: Breaks out of the current closest enclosing loop.\n",
    "    continue: Goes to the top of the closest enclosing loop.\n",
    "    pass: Does nothing at all.\n",
    "    \n",
    "    \n",
    "Thinking about <code>break</code> and <code>continue</code> statements, the general format of the <code>while</code> loop looks like this:\n",
    "\n",
    "    while test0: \n",
    "        code statement\n",
    "        if test: \n",
    "            break\n",
    "        if test1: \n",
    "            continue \n",
    "        print(\"Hi\")\n",
    "    else:\n",
    "        print(\"Completed\")\n",
    "    print(\"Out of While Loop\")\n",
    "\n",
    "<code>break</code> and <code>continue</code> statements can appear anywhere inside the loop’s body, but we will usually put them further nested in conjunction with an <code>if</code> statement to perform an action based on some condition.\n",
    "\n",
    "Let's go ahead and look at some examples!"
   ]
  },
  {
   "cell_type": "markdown",
   "metadata": {},
   "source": [
    "### Break -  Jumps out of the loop"
   ]
  },
  {
   "cell_type": "code",
   "execution_count": 46,
   "metadata": {
    "scrolled": true
   },
   "outputs": [
    {
     "name": "stdout",
     "output_type": "stream",
     "text": [
      "###################################\n",
      "divisible by 2 0\n",
      "###################################\n",
      "not divisible by 2 or 3\n",
      "Execution Didn't hit continue statement\n",
      "###################################\n",
      "divisible by 2 2\n",
      "###################################\n",
      "not divisible by 2-3, divisible by 3-3\n",
      "Execution Didn't hit continue statement\n",
      "###################################\n",
      "divisible by 2 4\n",
      "###################################\n",
      "not divisible by 2 or 3\n",
      "out of for loop 5\n"
     ]
    }
   ],
   "source": [
    "for x in range (0,10):\n",
    "    print(\"###################################\")\n",
    "    if(x%2==0): # if condition testing logic 2/0\n",
    "        print(\"divisible by 2\", x)\n",
    "        continue\n",
    "    elif(x%3==0):#else if condition\n",
    "        print(\"not divisible by 2-%s, divisible by 3-%s\"%(x,x))\n",
    "    else:#else condition\n",
    "        print(\"not divisible by 2 or 3\")\n",
    "        if(x>2):\n",
    "            break\n",
    "            pass # break\n",
    "    print(\"Execution Didn't hit continue statement\")    \n",
    "    #print(\"divisble by 2 hence quit for 3 \",x)\n",
    "else: \n",
    "    print(\"FOR LOOP COMPLETED\")\n",
    "print(\"out of for loop\",x)    "
   ]
  },
  {
   "cell_type": "code",
   "execution_count": 39,
   "metadata": {},
   "outputs": [
    {
     "name": "stdout",
     "output_type": "stream",
     "text": [
      "0 0\n",
      "1 1\n",
      "2 4\n",
      "3 9\n",
      "4 16\n",
      "5 25\n",
      "6 36\n",
      "No error occured\n",
      "for is over 6\n"
     ]
    }
   ],
   "source": [
    "for x in range(7):\n",
    "    if(x**2 > 50):\n",
    "        print(\"Hello, Reached your limit of 50 \")\n",
    "        break\n",
    "    print(x,x**2)    \n",
    "else: \n",
    "    print(\"No error occured\")\n",
    "    \n",
    "print(\"for is over\",x)"
   ]
  },
  {
   "cell_type": "markdown",
   "metadata": {},
   "source": [
    "### Continue - continues to the next iteration"
   ]
  },
  {
   "cell_type": "code",
   "execution_count": null,
   "metadata": {},
   "outputs": [],
   "source": [
    "x = 0\n",
    "\n",
    "while x < 10:\n",
    "    print('x is currently: ',x)\n",
    "    print(' x is still less than 10, adding 1 to x')\n",
    "    \n",
    "    #print(x)\n",
    "    if (x%3==0):\n",
    "        print('Not Breaking  x==3')\n",
    "        #break\n",
    "    else:\n",
    "        print('continuing... by skipping below')\n",
    "        continue\n",
    "    print(x**3)\n",
    "    x += 1\n",
    "        "
   ]
  },
  {
   "cell_type": "code",
   "execution_count": 41,
   "metadata": {},
   "outputs": [],
   "source": [
    "def mynew1():\n",
    "    pass\n",
    "#print(\"No error\")"
   ]
  },
  {
   "cell_type": "code",
   "execution_count": 42,
   "metadata": {},
   "outputs": [
    {
     "name": "stdout",
     "output_type": "stream",
     "text": [
      "#############-start-##############\n",
      "0\n",
      "0\n",
      "#############-start-##############\n",
      "1\n",
      "comments - cube also found\n",
      "#############-start-##############\n",
      "4\n",
      "8\n",
      "#############-start-##############\n",
      "9\n",
      "comments - cube also found\n",
      "#############-start-##############\n",
      "16\n",
      "64\n",
      "#############-start-##############\n",
      "25\n",
      "comments - cube also found\n",
      "#############-start-##############\n",
      "36\n",
      "216\n",
      "#############-start-##############\n",
      "49\n",
      "comments - cube also found\n",
      "#############-start-##############\n",
      "64\n",
      "512\n",
      "#############-start-##############\n",
      "81\n",
      "comments - cube also found\n",
      "#############-start-##############\n",
      "100\n",
      "1000\n",
      "#############-start-##############\n",
      "121\n",
      "comments - cube also found\n",
      "#############-start-##############\n",
      "144\n",
      "1728\n",
      "#############-start-##############\n",
      "169\n",
      "comments - cube also found\n",
      "#############-start-##############\n",
      "196\n",
      "2744\n",
      "#############-start-##############\n",
      "225\n",
      "comments - cube also found\n",
      "#############-start-##############\n",
      "256\n",
      "4096\n",
      "#############-start-##############\n",
      "289\n",
      "comments - cube also found\n",
      "#############-start-##############\n",
      "324\n",
      "5832\n",
      "#############-start-##############\n",
      "361\n",
      "comments - cube also found\n"
     ]
    }
   ],
   "source": [
    "for x in range(20):\n",
    "    print(\"#############-start-##############\")\n",
    "    print(x**2)\n",
    "    if(x%2==0):\n",
    "        print(x**3)\n",
    "        continue\n",
    "    print(\"comments - cube also found\")\n",
    "    "
   ]
  },
  {
   "cell_type": "code",
   "execution_count": 43,
   "metadata": {},
   "outputs": [
    {
     "name": "stdout",
     "output_type": "stream",
     "text": [
      "this is an example\n",
      "4\n"
     ]
    }
   ],
   "source": [
    "## Def Functionname(Non-Named Arguments/positional Arguments, Named Arguments/Default Arguments)\n",
    "## Always the Non Named Arguments should come first first ie-default arguments should follow the non-named or positional arguments\n",
    "def mynew():\n",
    "    print(\"this is an example\") \n",
    "    return 2\n",
    "print(mynew()**2)"
   ]
  },
  {
   "cell_type": "code",
   "execution_count": 44,
   "metadata": {},
   "outputs": [
    {
     "name": "stdout",
     "output_type": "stream",
     "text": [
      "5\n",
      "None\n"
     ]
    }
   ],
   "source": [
    "def add(x,y):\n",
    "    print(x+y)\n",
    "    return\n",
    "    #return x + y \n",
    "\n",
    "c = add(2,3)\n",
    "print(c)"
   ]
  },
  {
   "cell_type": "code",
   "execution_count": 45,
   "metadata": {},
   "outputs": [
    {
     "name": "stdout",
     "output_type": "stream",
     "text": [
      "this is an example\n",
      "<class 'tuple'>\n",
      "this is an example\n"
     ]
    }
   ],
   "source": [
    "def mynew():\n",
    "    print(\"this is an example\")\n",
    "    return 1,2,3\n",
    "\n",
    "print(type(mynew()))\n",
    "#a=\"\"\n",
    "#print(type(a))\n",
    "\n",
    "if(mynew() is None):\n",
    "    print(\"Null or None is returned\")\n"
   ]
  },
  {
   "cell_type": "code",
   "execution_count": 48,
   "metadata": {},
   "outputs": [
    {
     "name": "stdout",
     "output_type": "stream",
     "text": [
      "<class 'NoneType'>\n"
     ]
    }
   ],
   "source": [
    "def mynew(x):\n",
    "    if(x):\n",
    "        return \n",
    "    else:\n",
    "        print(\"this is an example\")\n",
    "        \n",
    "result = mynew(True)\n",
    "print(type(result))"
   ]
  },
  {
   "cell_type": "code",
   "execution_count": null,
   "metadata": {},
   "outputs": [],
   "source": [
    "def mynew():\n",
    "    if(True):\n",
    "        return None\n",
    "    else:\n",
    "        print(\"this is an example\")\n",
    "        \n",
    "result = mynew()\n",
    "print(type(result))"
   ]
  },
  {
   "cell_type": "code",
   "execution_count": 51,
   "metadata": {},
   "outputs": [
    {
     "name": "stdout",
     "output_type": "stream",
     "text": [
      "False\n",
      "False\n"
     ]
    }
   ],
   "source": [
    "y = 0\n",
    "x = -1\n",
    "a = x > y\n",
    "if a:\n",
    "    pass \n",
    "else:\n",
    "    print(a)\n",
    "    \n",
    "if not a: \n",
    "    print(a)"
   ]
  },
  {
   "cell_type": "markdown",
   "metadata": {},
   "source": [
    "### Pass "
   ]
  },
  {
   "cell_type": "code",
   "execution_count": null,
   "metadata": {},
   "outputs": [],
   "source": [
    "# Pass is used to provide blank/empty statements"
   ]
  },
  {
   "cell_type": "code",
   "execution_count": 49,
   "metadata": {},
   "outputs": [
    {
     "ename": "IndentationError",
     "evalue": "expected an indented block (<ipython-input-49-3846ca311bd5>, line 2)",
     "output_type": "error",
     "traceback": [
      "\u001b[1;36m  File \u001b[1;32m\"<ipython-input-49-3846ca311bd5>\"\u001b[1;36m, line \u001b[1;32m2\u001b[0m\n\u001b[1;33m    \u001b[0m\n\u001b[1;37m    ^\u001b[0m\n\u001b[1;31mIndentationError\u001b[0m\u001b[1;31m:\u001b[0m expected an indented block\n"
     ]
    }
   ],
   "source": [
    "def myaddfunc(a,b): \n",
    "   "
   ]
  },
  {
   "cell_type": "code",
   "execution_count": 50,
   "metadata": {},
   "outputs": [],
   "source": [
    "def myaddfunc(a,b): \n",
    "    pass"
   ]
  },
  {
   "cell_type": "markdown",
   "metadata": {},
   "source": [
    "# Errors and Exception Handling\n",
    "\n",
    "Lets learn about Errors and Exception Handling in Python. You've definitely already encountered errors by this point in the course. For example:"
   ]
  },
  {
   "cell_type": "code",
   "execution_count": null,
   "metadata": {},
   "outputs": [],
   "source": [
    "print('Hello)"
   ]
  },
  {
   "cell_type": "markdown",
   "metadata": {},
   "source": [
    "Note how we get a SyntaxError, with the further description that it was an EOL (End of Line Error) while scanning the string literal. This is specific enough for us to see that we forgot a single quote at the end of the line. Understanding these various error types will help you debug your code much faster. \n",
    "\n",
    "This type of error and description is known as an Exception. Even if a statement or expression is syntactically correct, it may cause an error when an attempt is made to execute it. Errors detected during execution are called exceptions and are not unconditionally fatal.\n",
    "\n",
    "You can check out the full list of built-in exceptions [here](https://docs.python.org/3/library/exceptions.html). Now let's learn how to handle errors and exceptions in our own code."
   ]
  },
  {
   "cell_type": "markdown",
   "metadata": {},
   "source": [
    "## try and except\n",
    "\n",
    "The basic terminology and syntax used to handle errors in Python are the <code>try</code> and <code>except</code> statements. The code which can cause an exception to occur is put in the <code>try</code> block and the handling of the exception is then implemented in the <code>except</code> block of code. The syntax follows:\n",
    "\n",
    "    try:\n",
    "       You do your operations here...\n",
    "       ...\n",
    "    except ExceptionI:\n",
    "       If there is ExceptionI, then execute this block.\n",
    "    except ExceptionII:\n",
    "       If there is ExceptionII, then execute this block.\n",
    "       ...\n",
    "    else:\n",
    "       If there is no exception then execute this block. \n",
    "    finally:\n",
    "       execute always\n",
    "\n",
    "We can also just check for any exception with just using <code>except:</code> To get a better understanding of all this let's check out an example: We will look at some code that opens and writes a file:"
   ]
  },
  {
   "cell_type": "code",
   "execution_count": 52,
   "metadata": {},
   "outputs": [],
   "source": [
    "def addnumstring(n1,n2):\n",
    "    print(str(n1)+str(n2))"
   ]
  },
  {
   "cell_type": "code",
   "execution_count": 53,
   "metadata": {},
   "outputs": [
    {
     "name": "stdout",
     "output_type": "stream",
     "text": [
      "10a\n",
      "1010\n"
     ]
    }
   ],
   "source": [
    "addnumstring(10,\"a\")\n",
    "addnumstring(10,\"10\")"
   ]
  },
  {
   "cell_type": "code",
   "execution_count": 54,
   "metadata": {},
   "outputs": [],
   "source": [
    "def add(n1,n2):\n",
    "    c = n1+n2\n",
    "    #print(c+\"10\")\n",
    "    return c"
   ]
  },
  {
   "cell_type": "code",
   "execution_count": 55,
   "metadata": {},
   "outputs": [
    {
     "name": "stdout",
     "output_type": "stream",
     "text": [
      "10a\n",
      "21\n"
     ]
    },
    {
     "ename": "TypeError",
     "evalue": "unsupported operand type(s) for +: 'int' and 'str'",
     "output_type": "error",
     "traceback": [
      "\u001b[1;31m---------------------------------------------------------------------------\u001b[0m",
      "\u001b[1;31mTypeError\u001b[0m                                 Traceback (most recent call last)",
      "\u001b[1;32m<ipython-input-55-5ec2b3c423c1>\u001b[0m in \u001b[0;36m<module>\u001b[1;34m\u001b[0m\n\u001b[0;32m      1\u001b[0m \u001b[0mprint\u001b[0m\u001b[1;33m(\u001b[0m\u001b[0madd\u001b[0m\u001b[1;33m(\u001b[0m\u001b[1;34m\"10\"\u001b[0m\u001b[1;33m,\u001b[0m\u001b[1;34m\"a\"\u001b[0m\u001b[1;33m)\u001b[0m\u001b[1;33m)\u001b[0m\u001b[1;33m\u001b[0m\u001b[1;33m\u001b[0m\u001b[0m\n\u001b[0;32m      2\u001b[0m \u001b[0mprint\u001b[0m\u001b[1;33m(\u001b[0m\u001b[0madd\u001b[0m\u001b[1;33m(\u001b[0m\u001b[1;36m10\u001b[0m\u001b[1;33m,\u001b[0m\u001b[1;36m11\u001b[0m\u001b[1;33m)\u001b[0m\u001b[1;33m)\u001b[0m\u001b[1;33m\u001b[0m\u001b[1;33m\u001b[0m\u001b[0m\n\u001b[1;32m----> 3\u001b[1;33m \u001b[0mprint\u001b[0m\u001b[1;33m(\u001b[0m\u001b[0madd\u001b[0m\u001b[1;33m(\u001b[0m\u001b[1;36m10\u001b[0m\u001b[1;33m,\u001b[0m\u001b[1;34m\"a\"\u001b[0m\u001b[1;33m)\u001b[0m\u001b[1;33m)\u001b[0m\u001b[1;33m\u001b[0m\u001b[1;33m\u001b[0m\u001b[0m\n\u001b[0m",
      "\u001b[1;32m<ipython-input-54-bb41177cca38>\u001b[0m in \u001b[0;36madd\u001b[1;34m(n1, n2)\u001b[0m\n\u001b[0;32m      1\u001b[0m \u001b[1;32mdef\u001b[0m \u001b[0madd\u001b[0m\u001b[1;33m(\u001b[0m\u001b[0mn1\u001b[0m\u001b[1;33m,\u001b[0m\u001b[0mn2\u001b[0m\u001b[1;33m)\u001b[0m\u001b[1;33m:\u001b[0m\u001b[1;33m\u001b[0m\u001b[1;33m\u001b[0m\u001b[0m\n\u001b[1;32m----> 2\u001b[1;33m     \u001b[0mc\u001b[0m \u001b[1;33m=\u001b[0m \u001b[0mn1\u001b[0m\u001b[1;33m+\u001b[0m\u001b[0mn2\u001b[0m\u001b[1;33m\u001b[0m\u001b[1;33m\u001b[0m\u001b[0m\n\u001b[0m\u001b[0;32m      3\u001b[0m     \u001b[1;31m#print(c+\"10\")\u001b[0m\u001b[1;33m\u001b[0m\u001b[1;33m\u001b[0m\u001b[1;33m\u001b[0m\u001b[0m\n\u001b[0;32m      4\u001b[0m     \u001b[1;32mreturn\u001b[0m \u001b[0mc\u001b[0m\u001b[1;33m\u001b[0m\u001b[1;33m\u001b[0m\u001b[0m\n",
      "\u001b[1;31mTypeError\u001b[0m: unsupported operand type(s) for +: 'int' and 'str'"
     ]
    }
   ],
   "source": [
    "print(add(\"10\",\"a\"))\n",
    "print(add(10,11))\n",
    "print(add(10,\"a\"))\n"
   ]
  },
  {
   "cell_type": "code",
   "execution_count": 56,
   "metadata": {},
   "outputs": [
    {
     "ename": "TypeError",
     "evalue": "must be real number, not str",
     "output_type": "error",
     "traceback": [
      "\u001b[1;31m---------------------------------------------------------------------------\u001b[0m",
      "\u001b[1;31mTypeError\u001b[0m                                 Traceback (most recent call last)",
      "\u001b[1;32m<ipython-input-56-77dbb3dd3d02>\u001b[0m in \u001b[0;36m<module>\u001b[1;34m\u001b[0m\n\u001b[0;32m      1\u001b[0m \u001b[0mnumber1\u001b[0m \u001b[1;33m=\u001b[0m \u001b[1;34m\"1\"\u001b[0m\u001b[1;33m\u001b[0m\u001b[1;33m\u001b[0m\u001b[0m\n\u001b[0;32m      2\u001b[0m \u001b[1;32mimport\u001b[0m \u001b[0mmath\u001b[0m\u001b[1;33m\u001b[0m\u001b[1;33m\u001b[0m\u001b[0m\n\u001b[1;32m----> 3\u001b[1;33m \u001b[0mmath\u001b[0m\u001b[1;33m.\u001b[0m\u001b[0msqrt\u001b[0m\u001b[1;33m(\u001b[0m\u001b[0mnumber1\u001b[0m\u001b[1;33m)\u001b[0m\u001b[1;33m\u001b[0m\u001b[1;33m\u001b[0m\u001b[0m\n\u001b[0m",
      "\u001b[1;31mTypeError\u001b[0m: must be real number, not str"
     ]
    }
   ],
   "source": [
    "number1 = \"1\"\n",
    "import math\n",
    "math.sqrt(number1)"
   ]
  },
  {
   "cell_type": "code",
   "execution_count": 57,
   "metadata": {},
   "outputs": [
    {
     "name": "stdout",
     "output_type": "stream",
     "text": [
      "please provide a number: 12\n"
     ]
    },
    {
     "data": {
      "text/plain": [
       "str"
      ]
     },
     "execution_count": 57,
     "metadata": {},
     "output_type": "execute_result"
    }
   ],
   "source": [
    "number2 =input(\"please provide a number: \" )\n",
    "type(number2)"
   ]
  },
  {
   "cell_type": "code",
   "execution_count": 58,
   "metadata": {},
   "outputs": [
    {
     "data": {
      "text/plain": [
       "'1'"
      ]
     },
     "execution_count": 58,
     "metadata": {},
     "output_type": "execute_result"
    }
   ],
   "source": [
    "number1"
   ]
  },
  {
   "cell_type": "code",
   "execution_count": 59,
   "metadata": {},
   "outputs": [
    {
     "data": {
      "text/plain": [
       "2"
      ]
     },
     "execution_count": 59,
     "metadata": {},
     "output_type": "execute_result"
    }
   ],
   "source": [
    "number3 = 2 #input(\"please provide a number: \" )\n",
    "number3"
   ]
  },
  {
   "cell_type": "code",
   "execution_count": 60,
   "metadata": {},
   "outputs": [
    {
     "ename": "TypeError",
     "evalue": "can only concatenate str (not \"int\") to str",
     "output_type": "error",
     "traceback": [
      "\u001b[1;31m---------------------------------------------------------------------------\u001b[0m",
      "\u001b[1;31mTypeError\u001b[0m                                 Traceback (most recent call last)",
      "\u001b[1;32m<ipython-input-60-4b9dafc50ba9>\u001b[0m in \u001b[0;36m<module>\u001b[1;34m\u001b[0m\n\u001b[1;32m----> 1\u001b[1;33m \u001b[0mprint\u001b[0m\u001b[1;33m(\u001b[0m\u001b[0madd\u001b[0m\u001b[1;33m(\u001b[0m\u001b[0mnumber1\u001b[0m\u001b[1;33m,\u001b[0m\u001b[0mnumber3\u001b[0m\u001b[1;33m)\u001b[0m\u001b[1;33m)\u001b[0m\u001b[1;33m\u001b[0m\u001b[1;33m\u001b[0m\u001b[0m\n\u001b[0m",
      "\u001b[1;32m<ipython-input-54-bb41177cca38>\u001b[0m in \u001b[0;36madd\u001b[1;34m(n1, n2)\u001b[0m\n\u001b[0;32m      1\u001b[0m \u001b[1;32mdef\u001b[0m \u001b[0madd\u001b[0m\u001b[1;33m(\u001b[0m\u001b[0mn1\u001b[0m\u001b[1;33m,\u001b[0m\u001b[0mn2\u001b[0m\u001b[1;33m)\u001b[0m\u001b[1;33m:\u001b[0m\u001b[1;33m\u001b[0m\u001b[1;33m\u001b[0m\u001b[0m\n\u001b[1;32m----> 2\u001b[1;33m     \u001b[0mc\u001b[0m \u001b[1;33m=\u001b[0m \u001b[0mn1\u001b[0m\u001b[1;33m+\u001b[0m\u001b[0mn2\u001b[0m\u001b[1;33m\u001b[0m\u001b[1;33m\u001b[0m\u001b[0m\n\u001b[0m\u001b[0;32m      3\u001b[0m     \u001b[1;31m#print(c+\"10\")\u001b[0m\u001b[1;33m\u001b[0m\u001b[1;33m\u001b[0m\u001b[1;33m\u001b[0m\u001b[0m\n\u001b[0;32m      4\u001b[0m     \u001b[1;32mreturn\u001b[0m \u001b[0mc\u001b[0m\u001b[1;33m\u001b[0m\u001b[1;33m\u001b[0m\u001b[0m\n",
      "\u001b[1;31mTypeError\u001b[0m: can only concatenate str (not \"int\") to str"
     ]
    }
   ],
   "source": [
    "print(add(number1,number3))"
   ]
  },
  {
   "cell_type": "code",
   "execution_count": 61,
   "metadata": {},
   "outputs": [
    {
     "name": "stdout",
     "output_type": "stream",
     "text": [
      "112\n"
     ]
    }
   ],
   "source": [
    "addnumstring(number1,number2)"
   ]
  },
  {
   "cell_type": "code",
   "execution_count": 72,
   "metadata": {},
   "outputs": [
    {
     "name": "stdout",
     "output_type": "stream",
     "text": [
      "[Errno 2] No such file or directory: 'sample.txt' \n",
      " Some other error\n"
     ]
    }
   ],
   "source": [
    "a = [1,2.1,3,4]\n",
    "number1 =\"20\"\n",
    "try: \n",
    "    #result = \"123\" + 456 \n",
    "    #result = a[4]\n",
    "    #c = \"1\" + 2\n",
    "    f = open('sample.txt','r+')\n",
    "    a = f.read()\n",
    "    result = int(input(\"Enter an Integer? \"))\n",
    "    #result = int(number1) / 0\n",
    "except TypeError as errmsg:\n",
    "    print(\"given type is unsupported for this operation\",errmsg)\n",
    "except ValueError as errmsg:\n",
    "    print(\"Maybe you've not put the right input\",errmsg)\n",
    "except ZeroDivisionError as errmsg:\n",
    "    print(\"Divide By Zero Error \", errmsg)\n",
    "except LookupError as LookUpErrorException_Variable:\n",
    "    print(\"No such index found or comes under Lookup Error\")\n",
    "    print(\"Error Data - \", LookUpErrorException_Variable)\n",
    "except Exception as caughtexception: \n",
    "    print(caughtexception, \"\\n Some other error\")\n",
    "else: \n",
    "    print(\"No error\")"
   ]
  },
  {
   "cell_type": "code",
   "execution_count": 77,
   "metadata": {},
   "outputs": [
    {
     "name": "stdout",
     "output_type": "stream",
     "text": [
      "[Errno 2] No such file or directory: 'sample.txt'\n",
      "<class 'FileNotFoundError'>\n",
      "ran always\n"
     ]
    }
   ],
   "source": [
    "try:\n",
    "    f = open('sample.txt','r+')\n",
    "    a = f.read()\n",
    "    print(a)\n",
    "    f.write(a  + \"Hello World \\nWelcome to python\" )\n",
    "except IOError as FileException:\n",
    "    # This will only check for an IOError exception and then execute this print statement\n",
    "    #print(\"Error: Could not find file or read data\")\n",
    "    print(FileException)\n",
    "    print(type(FileException))\n",
    "else:\n",
    "    print(\"Content written successfully\")\n",
    "finally:\n",
    "    f.close()\n",
    "    print(\"ran always\")"
   ]
  },
  {
   "cell_type": "markdown",
   "metadata": {},
   "source": [
    "Now let's see what would happen if we did not have write permission (opening only with 'r'):"
   ]
  },
  {
   "cell_type": "code",
   "execution_count": 78,
   "metadata": {
    "scrolled": true
   },
   "outputs": [
    {
     "name": "stdout",
     "output_type": "stream",
     "text": [
      "Exception Handled by a different file\n",
      "Test write this\n",
      "0\n",
      "1\n",
      "2\n",
      "3\n",
      "4\n",
      "5\n",
      "6\n",
      "7\n",
      "8\n",
      "9\n",
      "Content written successfully\n",
      "TypeError\n",
      "I ll run whatever happened\n"
     ]
    }
   ],
   "source": [
    "import os\n",
    "import linecache\n",
    "import sys\n",
    "from sys import *\n",
    "\n",
    "def PrintException():\n",
    "    global InstTraceLog\n",
    "    print(exc_info())\n",
    "    exc_type, exc_obj, tb = sys.exc_info()\n",
    "    f = tb.tb_frame\n",
    "    lineno = tb.tb_lineno\n",
    "    filename = f.f_code.co_filename\n",
    "    linecache.checkcache(filename)\n",
    "    line = linecache.getline(filename, lineno, f.f_globals)\n",
    "    print(line, lineno, exc_type, exc_obj)\n",
    "\n",
    "\n",
    "\n",
    "try:\n",
    "    #print(\"Hello\")\n",
    "    #ab =1/0\n",
    "    \n",
    "    filehandle = \"\"\n",
    "    #f = open('testfile12','r')\n",
    "    try:\n",
    "        f = open('testfile12','r')\n",
    "        filehandle = f\n",
    "    except Exception: \n",
    "        f = open('testfile','r')\n",
    "        filehandle = f\n",
    "        print(\"Exception Handled by a different file\")\n",
    "    print(f.read())\n",
    "    #f.write('Test write this #############')\n",
    "    [print(x) for x in range(0,10)]\n",
    "except IOError as a1:\n",
    "    # This will only check for an IOError exception and then execute this print statement\n",
    "    print(a1,\"\\n Error: Could not find file or read data\")\n",
    "    PrintException()\n",
    "except Exception as e:\n",
    "    PrintException()\n",
    "    print(\"error\")\n",
    "    print(type(e))\n",
    "else:\n",
    "    try:\n",
    "        print(\"Content written successfully\")\n",
    "        result = 1+'ab'\n",
    "        f.close()\n",
    "    except TypeError:\n",
    "        print(\"TypeError\")\n",
    "    except Exception:\n",
    "        print(\"I can handle anything, handled by base exception\")\n",
    "finally:\n",
    "    print(\"I ll run whatever happened\")\n",
    "    "
   ]
  },
  {
   "cell_type": "code",
   "execution_count": 79,
   "metadata": {},
   "outputs": [
    {
     "name": "stdout",
     "output_type": "stream",
     "text": [
      "Content written successfully\n",
      "TypeError\n",
      "(<class 'TypeError'>, TypeError(\"unsupported operand type(s) for +: 'int' and 'str'\"), <traceback object at 0x00000245D1EFC9C0>)\n",
      "    result = 1+'ab'\n",
      " 13 <class 'TypeError'> unsupported operand type(s) for +: 'int' and 'str'\n",
      "error\n",
      "<class 'TypeError'>\n",
      "I ll run whatever happened\n"
     ]
    }
   ],
   "source": [
    "try:\n",
    "    #ab =1/0\n",
    "    f = open('testfile123','r')\n",
    "    \n",
    "    try:\n",
    "        print(\"Content written successfully\")\n",
    "        result = 1+'ab'\n",
    "        f.close()\n",
    "    except TypeError:\n",
    "        print(\"TypeError\")\n",
    "    except Exception:\n",
    "        print(\"I can handle anything, handled by base exception\")\n",
    "    result = 1+'ab'\n",
    "except IOError as a1:\n",
    "    # This will only check for an IOError exception and then execute this print statement\n",
    "    print(a1,\"\\n Error: Could not find file or read data\")\n",
    "    #PrintException()\n",
    "except Exception as e:\n",
    "    PrintException()\n",
    "    print(\"error\")\n",
    "    print(type(e))\n",
    "else:\n",
    "    print(\"no exception occured in the main try\")\n",
    "finally:\n",
    "    print(\"I ll run whatever happened\")"
   ]
  },
  {
   "cell_type": "markdown",
   "metadata": {},
   "source": [
    "Great! Notice how we only printed a statement! The code still ran and we were able to continue doing actions and running code blocks. This is extremely useful when you have to account for possible input errors in your code. You can be prepared for the error and keep running code, instead of your code just breaking as we saw above.\n",
    "\n",
    "We could have also just said <code>except:</code> if we weren't sure what exception would occur. For example:"
   ]
  },
  {
   "cell_type": "code",
   "execution_count": null,
   "metadata": {},
   "outputs": [],
   "source": [
    "try:\n",
    "    f = open('testfile','r')\n",
    "    f.write('Test write this')\n",
    "except:\n",
    "    # This will check for any exception and then execute this print statement\n",
    "    print(\"Error: Could not find file or read data\")\n",
    "    PrintException()\n",
    "else:\n",
    "    print(\"Content written successfully\")\n",
    "    f.close()"
   ]
  },
  {
   "cell_type": "markdown",
   "metadata": {},
   "source": [
    "Great! Now we don't actually need to memorize that list of exception types! Now what if we kept wanting to run code after the exception occurred? This is where <code>finally</code> comes in.\n",
    "## finally\n",
    "The <code>finally:</code> block of code will always be run regardless if there was an exception in the <code>try</code> code block. The syntax is:\n",
    "\n",
    "    try:\n",
    "       Code block here\n",
    "       ...\n",
    "       Due to any exception, this code may be skipped!\n",
    "    finally:\n",
    "       This code block would always be executed.\n",
    "\n",
    "For example:"
   ]
  },
  {
   "cell_type": "code",
   "execution_count": 35,
   "metadata": {},
   "outputs": [
    {
     "name": "stdout",
     "output_type": "stream",
     "text": [
      "Always execute finally code blocks\n"
     ]
    },
    {
     "ename": "UnsupportedOperation",
     "evalue": "not writable",
     "output_type": "error",
     "traceback": [
      "\u001b[1;31m---------------------------------------------------------------------------\u001b[0m",
      "\u001b[1;31mUnsupportedOperation\u001b[0m                      Traceback (most recent call last)",
      "\u001b[1;32m<ipython-input-35-0f50ab921a19>\u001b[0m in \u001b[0;36m<module>\u001b[1;34m\u001b[0m\n\u001b[0;32m      4\u001b[0m \u001b[1;32mtry\u001b[0m\u001b[1;33m:\u001b[0m\u001b[1;33m\u001b[0m\u001b[1;33m\u001b[0m\u001b[0m\n\u001b[0;32m      5\u001b[0m     \u001b[0mf\u001b[0m \u001b[1;33m=\u001b[0m \u001b[0mopen\u001b[0m\u001b[1;33m(\u001b[0m\u001b[1;34m\"testfile1\"\u001b[0m\u001b[1;33m,\u001b[0m \u001b[1;34m\"r\"\u001b[0m\u001b[1;33m)\u001b[0m\u001b[1;33m\u001b[0m\u001b[1;33m\u001b[0m\u001b[0m\n\u001b[1;32m----> 6\u001b[1;33m     \u001b[0mf\u001b[0m\u001b[1;33m.\u001b[0m\u001b[0mwrite\u001b[0m\u001b[1;33m(\u001b[0m\u001b[1;34m\"Test write statement\"\u001b[0m\u001b[1;33m)\u001b[0m\u001b[1;33m\u001b[0m\u001b[1;33m\u001b[0m\u001b[0m\n\u001b[0m\u001b[0;32m      7\u001b[0m     \u001b[0mf\u001b[0m\u001b[1;33m.\u001b[0m\u001b[0mclose\u001b[0m\u001b[1;33m(\u001b[0m\u001b[1;33m)\u001b[0m\u001b[1;33m\u001b[0m\u001b[1;33m\u001b[0m\u001b[0m\n\u001b[0;32m      8\u001b[0m \u001b[1;32mfinally\u001b[0m\u001b[1;33m:\u001b[0m\u001b[1;33m\u001b[0m\u001b[1;33m\u001b[0m\u001b[0m\n",
      "\u001b[1;31mUnsupportedOperation\u001b[0m: not writable"
     ]
    }
   ],
   "source": [
    "#f = open(\"testfile123\", \"r\")\n",
    "#f.write(\"Test write statement\")\n",
    "#f.close()\n",
    "try:\n",
    "    f = open(\"testfile1\", \"r\")\n",
    "    f.write(\"Test write statement\")\n",
    "    f.close()\n",
    "finally:\n",
    "    print(\"Always execute finally code blocks\")"
   ]
  },
  {
   "cell_type": "code",
   "execution_count": 37,
   "metadata": {},
   "outputs": [
    {
     "name": "stdout",
     "output_type": "stream",
     "text": [
      "OS Error\n",
      "Always execute this\n"
     ]
    }
   ],
   "source": [
    "try:\n",
    "    f = open(\"testfile\", \"r\")\n",
    "    f.write(\"writing\")\n",
    "except TypeError:\n",
    "    print(\"It's a type error\")\n",
    "except OSError:\n",
    "    print(\"OS Error\")\n",
    "finally:\n",
    "    print(\"Always execute this\")"
   ]
  },
  {
   "cell_type": "markdown",
   "metadata": {},
   "source": [
    "We can use this in conjunction with <code>except</code>. Let's see a new example that will take into account a user providing the wrong input:"
   ]
  },
  {
   "cell_type": "code",
   "execution_count": 36,
   "metadata": {},
   "outputs": [],
   "source": [
    "def askint():\n",
    "    try:\n",
    "        val = int(input(\"Please enter an integer: \"))\n",
    "        print(val)\n",
    "    except Exception as ex:\n",
    "        print(\"Looks like you did not enter an integer!\")\n",
    "    finally:\n",
    "        print(\"Finally, I executed!\")\n",
    "    print(val)"
   ]
  },
  {
   "cell_type": "code",
   "execution_count": null,
   "metadata": {},
   "outputs": [],
   "source": [
    "askint()"
   ]
  },
  {
   "cell_type": "code",
   "execution_count": null,
   "metadata": {},
   "outputs": [],
   "source": [
    "askint()"
   ]
  },
  {
   "cell_type": "markdown",
   "metadata": {},
   "source": [
    "Notice how we got an error when trying to print val (because it was never properly assigned). Let's remedy this by asking the user and checking to make sure the input type is an integer:"
   ]
  },
  {
   "cell_type": "code",
   "execution_count": null,
   "metadata": {},
   "outputs": [],
   "source": [
    "def askint():\n",
    "    try:\n",
    "        val = int(input(\"Please enter an integer: \"))\n",
    "    except:\n",
    "        print(\"Looks like you did not enter an integer!\")\n",
    "        val = int(input(\"Try again-Please enter an integer: \"))\n",
    "    finally:\n",
    "        print(\"Finally, I executed!\")\n",
    "    print(val)"
   ]
  },
  {
   "cell_type": "code",
   "execution_count": null,
   "metadata": {},
   "outputs": [],
   "source": [
    "askint()"
   ]
  },
  {
   "cell_type": "markdown",
   "metadata": {},
   "source": [
    "Hmmm...that only did one check. How can we continually keep checking? We can use a while loop!"
   ]
  },
  {
   "cell_type": "code",
   "execution_count": null,
   "metadata": {},
   "outputs": [],
   "source": [
    "def askint():\n",
    "    while True:\n",
    "        try:\n",
    "            val = int(input(\"Please enter an integer: \"))\n",
    "        except:\n",
    "            print(\"Looks like you did not enter an integer!\")\n",
    "            continue\n",
    "        finally:\n",
    "            print(\"Finally, I executed!\")\n",
    "            break\n",
    "              \n",
    "        print(val)"
   ]
  },
  {
   "cell_type": "code",
   "execution_count": null,
   "metadata": {},
   "outputs": [],
   "source": [
    "askint()"
   ]
  },
  {
   "cell_type": "markdown",
   "metadata": {},
   "source": [
    "So why did our function print \"Finally, I executed!\" after each trial, yet it never printed `val` itself? This is because with a try/except/finally clause, any <code>continue</code> or <code>break</code> statements are reserved until *after* the try clause is completed. This means that even though a successful input of **3** brought us to the <code>else:</code> block, and a <code>break</code> statement was thrown, the try clause continued through to <code>finally:</code> before breaking out of the while loop. And since <code>print(val)</code> was outside the try clause, the <code>break</code> statement prevented it from running.\n",
    "\n",
    "Let's make one final adjustment:"
   ]
  },
  {
   "cell_type": "code",
   "execution_count": null,
   "metadata": {},
   "outputs": [],
   "source": [
    "def askint():\n",
    "    while True:\n",
    "        try:\n",
    "            val = int(input(\"Please enter an integer: \"))\n",
    "        except:\n",
    "            print(\"Looks like you did not enter an integer!\")\n",
    "            continue\n",
    "        else:\n",
    "            print(\"Yep that's an integer!\")\n",
    "            print(val)\n",
    "            break\n",
    "        finally:\n",
    "            print(\"Finally, I executed!\")"
   ]
  },
  {
   "cell_type": "code",
   "execution_count": null,
   "metadata": {},
   "outputs": [],
   "source": [
    "askint()"
   ]
  }
 ],
 "metadata": {
  "kernelspec": {
   "display_name": "Python 3",
   "language": "python",
   "name": "python3"
  },
  "language_info": {
   "codemirror_mode": {
    "name": "ipython",
    "version": 3
   },
   "file_extension": ".py",
   "mimetype": "text/x-python",
   "name": "python",
   "nbconvert_exporter": "python",
   "pygments_lexer": "ipython3",
   "version": "3.9.1"
  }
 },
 "nbformat": 4,
 "nbformat_minor": 1
}
