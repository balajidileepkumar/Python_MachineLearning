{
 "cells": [
  {
   "cell_type": "markdown",
   "metadata": {},
   "source": [
    "## Conditional, Block Statements "
   ]
  },
  {
   "cell_type": "markdown",
   "metadata": {},
   "source": [
    "### if, elif, else Statements\n",
    "\n",
    "<code>if</code> Statements in Python allows us to tell the computer to perform alternative actions based on a certain set of results.\n",
    "\n",
    "Verbally, we can imagine we are telling the computer:\n",
    "\n",
    "\"Hey if this case happens, perform some action\"\n",
    "\n",
    "We can then expand the idea further with <code>elif</code> and <code>else</code> statements, which allow us to tell the computer:\n",
    "\n",
    "\"Hey if this case happens, perform some action. Else, if another case happens, perform some other action. Else, if *none* of the above cases happened, perform this action.\"\n",
    "\n",
    "Let's go ahead and look at the syntax format for <code>if</code> statements to get a better idea of this:\n",
    "\n",
    "    if case1:\n",
    "        perform action1\n",
    "    elif case2:\n",
    "        perform action2\n",
    "    elif case3:\n",
    "        perform action2\n",
    "    elif case4:\n",
    "        perform action2\n",
    "        :\n",
    "        :\n",
    "        :\n",
    "        :\n",
    "        :\n",
    "    elif casen:\n",
    "        perform action2\n",
    "    else: \n",
    "        perform action3"
   ]
  },
  {
   "cell_type": "markdown",
   "metadata": {},
   "source": [
    "## First Example\n",
    "\n",
    "Let's see a quick example of this:"
   ]
  },
  {
   "cell_type": "code",
   "execution_count": null,
   "metadata": {},
   "outputs": [],
   "source": [
    "#test = \"guava\"\n",
    "test = \"paddy\"\n",
    "#test = \"tomatoes\"\n",
    "#test = \"bread\"\n",
    "\n",
    "list_fruit = [\"apple\", \"orange\", \"guava\",\"pomegrante\"]\n",
    "list_grocery  = [\"maize\", \"paddy\",\"wheat\", \"sugar\",\"millets\"]\n",
    "list_veg = [\"carrots\", \"beets\", \"tomatoes\"]\n",
    "print(\"##########\")\n",
    "#print(list_fruit.count(test) > 0)\n",
    "if(list_fruit.count(test) > 0):\n",
    "    print(\"I am a fruit\")\n",
    "elif(list_veg.count(test) > 0):\n",
    "    print(\"I am a Vegetable\")\n",
    "elif(list_grocery.count(test) > 0):\n",
    "    print(\"I am a grocery\")\n",
    "else: \n",
    "    print(\"I am neither\")\n"
   ]
  },
  {
   "cell_type": "markdown",
   "metadata": {},
   "source": [
    "#### Nested IF"
   ]
  },
  {
   "cell_type": "code",
   "execution_count": null,
   "metadata": {},
   "outputs": [],
   "source": [
    "test = \"guava\"\n",
    "test = \"apple\"\n",
    "#test = \"watermelon\"\n",
    "#test = \"tomatoes\"\n",
    "test = \"bread\"\n",
    "\n",
    "#test = \"tomatoes\"\n",
    "fruit_redcolor = [\"apple\", \"pomegrante\"]\n",
    "fruit_greencolor = [\"kiwi\",\"guava\",\"watermelon\",\"greenapple\",\"sweetlime\"]\n",
    "list_veg = [\"carrots\", \"beets\", \"tomatoes\"]\n",
    "list_fruit = [\"apple\", \"orange\", \"guava\",\"pomegrante\",\"kiwi\",\"watermelon\",\"greenapple\",\"sweetlime\"]\n",
    "list_grocery  = [\"maize\", \"paddy\",\"wheat\", \"sugar\",\"millets\"]\n",
    "\n",
    "print(\"##########\")\n",
    "#print(list_fruit.count(test) > 0)\n",
    "if(list_fruit.count(test) > 0):\n",
    "    print(\"I am a fruit\")\n",
    "    if(fruit_redcolor.count(test) > 0):\n",
    "        print(\"I am a red colored fruit\")\n",
    "    elif(fruit_greencolor.count(test) > 0):\n",
    "        print(\"I am green color fruit\")\n",
    "    else:\n",
    "        print(\"I am not a red colored fruit\")\n",
    "elif(list_veg.count(test) > 0):\n",
    "    print(\"I am a Vegetable\")\n",
    "else: \n",
    "    print(\"I am neither\")\n"
   ]
  },
  {
   "cell_type": "code",
   "execution_count": null,
   "metadata": {},
   "outputs": [],
   "source": [
    "x= False\n",
    "y = True\n",
    "x = x | y\n",
    "print(str(x))\n",
    "if x:\n",
    "    print('It was true!')"
   ]
  },
  {
   "cell_type": "markdown",
   "metadata": {},
   "source": [
    "Let's add in some else logic:"
   ]
  },
  {
   "cell_type": "code",
   "execution_count": null,
   "metadata": {},
   "outputs": [],
   "source": [
    "x = True\n",
    "\n",
    "if (not x):\n",
    "    print('x was True!')\n",
    "else:\n",
    "    print('I will be printed as x is negated to False')"
   ]
  },
  {
   "cell_type": "markdown",
   "metadata": {},
   "source": [
    "### Multiple Branches\n",
    "\n",
    "Let's get a fuller picture of how far <code>if</code>, <code>elif</code>, and <code>else</code> can take us!\n",
    "\n",
    "We write this out in a nested structure. Take note of how the <code>if</code>, <code>elif</code>, and <code>else</code> line up in the code. This can help you see what <code>if</code> is related to what <code>elif</code> or <code>else</code> statements.\n",
    "\n",
    "We'll reintroduce a comparison syntax for Python."
   ]
  },
  {
   "cell_type": "code",
   "execution_count": null,
   "metadata": {
    "scrolled": true
   },
   "outputs": [],
   "source": [
    "a=10\n",
    "b=5\n",
    "c = 1,2,3\n",
    "d = 1\n",
    "print(\"#########a<=b#########\")\n",
    "print(a<=b)\n",
    "print(\"#########a>=b#########\")\n",
    "print(a>=b)\n",
    "print(\"#########a!=b#########\")\n",
    "print(a!=b)\n",
    "print(\"#########a==b#########\")\n",
    "print(a==b)\n",
    "print(\"#########a<b#########\")\n",
    "print(a<b)\n",
    "print(\"#########a>b#########\")\n",
    "print(a>b)\n",
    "print(\"######## membership ##########\")\n",
    "print(d in c)\n",
    "print(not (d not in c))\n",
    "print(\"######## not a == b ##########\")\n",
    "print(not (a==b))\n",
    "\n",
    "print(\"######## c.count(1) >10 ##########\")\n",
    "print(c.count(1)>0)\n",
    "print(\"######## len == 3 ##########\")\n",
    "print(len(c)==3)"
   ]
  },
  {
   "cell_type": "code",
   "execution_count": null,
   "metadata": {},
   "outputs": [],
   "source": [
    "loc = 'Bank1'\n",
    "\n",
    "if loc == 'Auto Shop':\n",
    "    print('Welcome to the Auto Shop!')\n",
    "elif loc == 'Bank':\n",
    "    print('Welcome to the bank!')\n",
    "else:\n",
    "    print('Where are you?')"
   ]
  },
  {
   "cell_type": "code",
   "execution_count": null,
   "metadata": {},
   "outputs": [],
   "source": [
    "loc = 'Bank'\n",
    "#print(loc.istitle())\n",
    "if loc.istitle() and loc == 'Auto Shop' or len(loc)>3:\n",
    "    print('Welcome to the Auto Shop!')\n",
    "elif loc == 'Bank':\n",
    "    print('Welcome to the bank!')\n",
    "else:\n",
    "    print('Where are you?')"
   ]
  },
  {
   "cell_type": "code",
   "execution_count": null,
   "metadata": {
    "scrolled": true
   },
   "outputs": [],
   "source": [
    "loc = 'Bank'\n",
    "#print(loc.istitle())\n",
    "if ((loc == 'Auto Shop' or loc.istitle()) and len(loc)>3):\n",
    "    print('Welcome to the Auto Shop!')\n",
    "elif loc == 'Bank':\n",
    "    print('Welcome to the bank!')\n",
    "else:\n",
    "    print('Where are you?')"
   ]
  },
  {
   "cell_type": "code",
   "execution_count": null,
   "metadata": {},
   "outputs": [],
   "source": [
    "loc = 'Bank'\n",
    "#print(loc.istitle())\n",
    "if (loc == 'Auto Shop' and loc.istitle()) and len(loc)>3:\n",
    "    print('Welcome to the Auto Shop!')\n",
    "elif loc == 'Bank':\n",
    "    print('Welcome to the bank!')\n",
    "else:\n",
    "    print('Where are you?')"
   ]
  },
  {
   "cell_type": "markdown",
   "metadata": {},
   "source": [
    "Note how the nested <code>if</code> statements are each checked until a True boolean causes the nested code below it to run. You should also note that you can put in as many <code>elif</code> statements as you want before you close off with an <code>else</code>.\n",
    "\n",
    "Let's create two more simple examples for the <code>if</code>, <code>elif</code>, and <code>else</code> statements:"
   ]
  },
  {
   "cell_type": "code",
   "execution_count": null,
   "metadata": {},
   "outputs": [],
   "source": [
    "person = 'Sammy'\n",
    "\n",
    "if person == 'Sammy':\n",
    "    print('Welcome Sammy!')\n",
    "else:\n",
    "    print(\"Welcome, what's your name?\")"
   ]
  },
  {
   "cell_type": "code",
   "execution_count": null,
   "metadata": {},
   "outputs": [],
   "source": [
    "person = 'George123'\n",
    "\n",
    "if person == 'Sammy':\n",
    "    print('Welcome Sammy!')\n",
    "elif person =='George':\n",
    "    print('Welcome George!')\n",
    "else:\n",
    "    print(input(\"Welcome, what's your name?\"))"
   ]
  },
  {
   "cell_type": "markdown",
   "metadata": {},
   "source": [
    "##### Guess Number"
   ]
  },
  {
   "cell_type": "code",
   "execution_count": null,
   "metadata": {},
   "outputs": [],
   "source": [
    "number = 35\n",
    "guess = int(input('Enter an integer : '))\n",
    "if guess == number:\n",
    "# New block starts here\n",
    "    print('Congratulations, you guessed it.')\n",
    "    print('(but you do not win any prizes!)')\n",
    "# New block ends here\n",
    "elif guess < number:\n",
    "# Another block\n",
    "    print('No, it is a little higher than that')\n",
    "# You can do whatever you want in a block ...\n",
    "else:\n",
    "    print('No, it is a little lower than that')\n",
    "# you must have guessed > number to reach here"
   ]
  },
  {
   "cell_type": "code",
   "execution_count": null,
   "metadata": {},
   "outputs": [],
   "source": [
    "### Write a program to find the highest of three numbers"
   ]
  },
  {
   "cell_type": "code",
   "execution_count": null,
   "metadata": {},
   "outputs": [],
   "source": [
    "name  = input('Enter your name : ')"
   ]
  },
  {
   "cell_type": "code",
   "execution_count": null,
   "metadata": {},
   "outputs": [],
   "source": [
    "print(name, type(name))"
   ]
  },
  {
   "cell_type": "code",
   "execution_count": null,
   "metadata": {},
   "outputs": [],
   "source": [
    "a = int(input(\"Enter The first Number : \"))\n",
    "b = int(input(\"Enter The first Number : \"))\n",
    "c = int(input(\"Enter The first Number : \"))\n",
    "print(a,b,c)"
   ]
  },
  {
   "cell_type": "code",
   "execution_count": null,
   "metadata": {},
   "outputs": [],
   "source": [
    "if(a>b and a>c):\n",
    "    print(a)\n",
    "elif(b>a and b>c):\n",
    "    print(b)\n",
    "else:\n",
    "    print(c)    "
   ]
  },
  {
   "cell_type": "code",
   "execution_count": null,
   "metadata": {},
   "outputs": [],
   "source": [
    "if(a>b):\n",
    "    if(a>c):\n",
    "        print(a)\n",
    "    elif(b>c):\n",
    "        print(b)\n",
    "    else: \n",
    "        print(c)\n",
    "else:\n",
    "    if(b>c):\n",
    "        print(b)\n",
    "    else:\n",
    "        print(c)"
   ]
  },
  {
   "cell_type": "markdown",
   "metadata": {},
   "source": [
    "###### Indentation\n",
    "\n",
    "It is important to keep a good understanding of how indentation works in Python to maintain the structure and order of your code. We will touch on this topic again when we start building out functions!"
   ]
  },
  {
   "cell_type": "markdown",
   "metadata": {
    "collapsed": true
   },
   "source": [
    "# while Loops\n",
    "\n",
    "The <code>while</code> statement in Python is one of most general ways to perform iteration. A <code>while</code> statement will repeatedly execute a single statement or group of statements as long as the condition is true. The reason it is called a 'loop' is because the code statements are looped through over and over again until the condition is no longer met.\n",
    "\n",
    "The general format of a while loop is:\n",
    "\n",
    "    while test:\n",
    "        code statements\n",
    "    else:\n",
    "        final code statements\n",
    "\n",
    "Let’s look at a few simple <code>while</code> loops in action. "
   ]
  },
  {
   "cell_type": "markdown",
   "metadata": {},
   "source": [
    "\n",
    "#### While Loops"
   ]
  },
  {
   "cell_type": "code",
   "execution_count": null,
   "metadata": {},
   "outputs": [],
   "source": [
    "i=10\n",
    "while 100>i:\n",
    "    print(i)\n",
    "    i = i + 10\n",
    "    \n",
    "    #execute all the statements"
   ]
  },
  {
   "cell_type": "code",
   "execution_count": null,
   "metadata": {},
   "outputs": [],
   "source": [
    "i=10\n",
    "while 100>i:\n",
    "    print(i)\n",
    "    i = i + 10\n",
    "    \n",
    "else: \n",
    "    print(\"while completed successfully\")"
   ]
  },
  {
   "cell_type": "code",
   "execution_count": null,
   "metadata": {},
   "outputs": [],
   "source": [
    "def whileloop():\n",
    "    i=10\n",
    "    while 100>i:\n",
    "        print(i)\n",
    "        i = i + 10\n",
    "    else: \n",
    "        print(\"while completed successfully\")\n",
    "whileloop()"
   ]
  },
  {
   "cell_type": "code",
   "execution_count": null,
   "metadata": {},
   "outputs": [],
   "source": [
    "i=10\n",
    "while 100>i:\n",
    "    print(i)\n",
    "    i = i + 10\n",
    "    if(i>50):\n",
    "        break\n",
    "else: \n",
    "    print(\"while completed successfully\")"
   ]
  },
  {
   "cell_type": "markdown",
   "metadata": {},
   "source": [
    "#### Do While Implementation Using While"
   ]
  },
  {
   "cell_type": "code",
   "execution_count": null,
   "metadata": {},
   "outputs": [],
   "source": [
    "i=100\n",
    "expression = True\n",
    "while expression:\n",
    "#while 100 > i:\n",
    "    i = i + 15\n",
    "    expression = 100 > i\n",
    "    print(i)\n",
    "    #execute all the statements"
   ]
  },
  {
   "cell_type": "code",
   "execution_count": null,
   "metadata": {},
   "outputs": [],
   "source": [
    "number = 23\n",
    "running = True\n",
    "#whiletimes = 1\n",
    "while running:\n",
    "    guess = int(input('Enter an integer : '))\n",
    "    if guess == number:\n",
    "        print('Congratulations, you guessed it.')\n",
    "        # this causes the while loop to stop\n",
    "        running = False\n",
    "    elif guess < number:\n",
    "        print('No, number is a little higher than that.')\n",
    "    else:\n",
    "        print('No, number is a little lower than that.')\n",
    "    #print(whiletimes)\n",
    "#    whiletimes += 1\n",
    "else:\n",
    "    print('The while loop is over.')\n",
    "# Do anything else you want to do here"
   ]
  },
  {
   "cell_type": "code",
   "execution_count": null,
   "metadata": {},
   "outputs": [],
   "source": [
    "x = 9\n",
    "while x < 10:\n",
    "    x-=1\n",
    "    print('x is currently: ',x)\n",
    "    if(x < -100):\n",
    "        break\n",
    "else:\n",
    "    print('All Done!')"
   ]
  },
  {
   "cell_type": "markdown",
   "metadata": {},
   "source": [
    "### For Loops"
   ]
  },
  {
   "cell_type": "markdown",
   "metadata": {},
   "source": [
    "For loops is used to iterate over collections like list, tuple, dictionary, set, string"
   ]
  },
  {
   "cell_type": "code",
   "execution_count": 1,
   "metadata": {},
   "outputs": [
    {
     "name": "stdout",
     "output_type": "stream",
     "text": [
      "H 72\n",
      "e 101\n",
      "l 108\n",
      "l 108\n",
      "o 111\n",
      "  32\n",
      "W 87\n",
      "o 111\n",
      "r 114\n",
      "l 108\n",
      "d 100\n",
      "  32\n",
      "a 97\n",
      "z 122\n",
      "  32\n",
      "A 65\n",
      "Z 90\n"
     ]
    }
   ],
   "source": [
    "mystring = \"Hello World az AZ\"\n",
    "\n",
    "for x in mystring:\n",
    "    #print(type(x))\n",
    "    print(x,ord(x))\n",
    "    #a += ord(x)"
   ]
  },
  {
   "cell_type": "markdown",
   "metadata": {},
   "source": [
    "### Reverse a string"
   ]
  },
  {
   "cell_type": "code",
   "execution_count": 3,
   "metadata": {},
   "outputs": [],
   "source": [
    "mystring = 'Prince Martin Luther'"
   ]
  },
  {
   "cell_type": "code",
   "execution_count": 4,
   "metadata": {},
   "outputs": [
    {
     "data": {
      "text/plain": [
       "'rehtuL nitraM ecnirP'"
      ]
     },
     "execution_count": 4,
     "metadata": {},
     "output_type": "execute_result"
    }
   ],
   "source": [
    "mystring[::-1]"
   ]
  },
  {
   "cell_type": "code",
   "execution_count": 8,
   "metadata": {},
   "outputs": [
    {
     "name": "stdout",
     "output_type": "stream",
     "text": [
      "rehtuL nitraM ecnirP\n"
     ]
    }
   ],
   "source": [
    "a  =''\n",
    "for x in mystring: \n",
    "    a = x + a \n",
    "print(a)"
   ]
  },
  {
   "cell_type": "code",
   "execution_count": null,
   "metadata": {},
   "outputs": [],
   "source": [
    "a = list(mystring)\n",
    "a.reverse()\n",
    "\"\".join(a)"
   ]
  },
  {
   "cell_type": "code",
   "execution_count": null,
   "metadata": {},
   "outputs": [],
   "source": [
    "mystring[::-1]"
   ]
  },
  {
   "cell_type": "code",
   "execution_count": 12,
   "metadata": {},
   "outputs": [
    {
     "data": {
      "text/plain": [
       "[1, 3, 5, 7, 9, 11, 13, 15, 17]"
      ]
     },
     "execution_count": 12,
     "metadata": {},
     "output_type": "execute_result"
    }
   ],
   "source": [
    "range(1,19,2)\n",
    "list(range(1,19,2))"
   ]
  },
  {
   "cell_type": "code",
   "execution_count": 13,
   "metadata": {},
   "outputs": [
    {
     "name": "stdout",
     "output_type": "stream",
     "text": [
      "rehtuL nitraM ecnirP\n"
     ]
    }
   ],
   "source": [
    "a = ''\n",
    "for x in range(len(mystring)-1,-1,-1):\n",
    "    a += mystring[x]\n",
    "print(a)"
   ]
  },
  {
   "cell_type": "code",
   "execution_count": null,
   "metadata": {},
   "outputs": [],
   "source": [
    "list(range(5))"
   ]
  },
  {
   "cell_type": "code",
   "execution_count": null,
   "metadata": {},
   "outputs": [],
   "source": [
    "list(range(2,12))"
   ]
  },
  {
   "cell_type": "code",
   "execution_count": null,
   "metadata": {},
   "outputs": [],
   "source": [
    "list(range(12,2,-1))"
   ]
  },
  {
   "cell_type": "code",
   "execution_count": null,
   "metadata": {},
   "outputs": [],
   "source": [
    "type(range(12,2,-1))"
   ]
  },
  {
   "cell_type": "code",
   "execution_count": null,
   "metadata": {},
   "outputs": [],
   "source": [
    "list(range(12,2,-1))"
   ]
  },
  {
   "cell_type": "code",
   "execution_count": null,
   "metadata": {},
   "outputs": [],
   "source": [
    "print(list(range(25,20,-2)))\n",
    "print(\"############range explanation#################\")\n",
    "for x in range(4): \n",
    "    print(x)\n",
    "print(\"#############################\")\n",
    "for x in range(4,10): \n",
    "    print(x)\n",
    "print(\"#############################\")\n",
    "for x in range(4,10,2):\n",
    "    print(x)\n",
    "print(\"#############negative steps ################\")\n",
    "for x in range(4,10,-2):\n",
    "    print(x)\n",
    "print(\"#############################\")\n",
    "for x in range(19,10,-2):\n",
    "    print(x)\n",
    "print(\"#############################\")\n",
    "for x in range(20,10,-3):\n",
    "    print(x)\n"
   ]
  },
  {
   "cell_type": "code",
   "execution_count": null,
   "metadata": {},
   "outputs": [],
   "source": [
    "mystring = \"Hello World\" \n",
    "print(len(mystring))\n",
    "print(\"#############################\")\n",
    "for x in range(len(mystring),0,-1):\n",
    "    print(mystring[x-1])\n"
   ]
  },
  {
   "cell_type": "code",
   "execution_count": null,
   "metadata": {},
   "outputs": [],
   "source": [
    "mystring = \"Hello World\" \n",
    "reverse_string = \"\"\n",
    "print(\"#############################\")\n",
    "for x in range(len(mystring),0,-1):\n",
    "    reverse_string += mystring[x-1]\n",
    "print(reverse_string)"
   ]
  },
  {
   "cell_type": "code",
   "execution_count": null,
   "metadata": {},
   "outputs": [],
   "source": [
    "\"\".join([mystring[x] for x in range(len(mystring)-1,-1,-1)])"
   ]
  },
  {
   "cell_type": "code",
   "execution_count": null,
   "metadata": {
    "scrolled": true
   },
   "outputs": [],
   "source": [
    "print(\"#############################\")\n",
    "for x in range(len(mystring)):\n",
    "    print(x)\n",
    "    print(mystring[x])"
   ]
  },
  {
   "cell_type": "code",
   "execution_count": null,
   "metadata": {},
   "outputs": [],
   "source": [
    "print(\"#############################\")\n",
    "for x in range(len(mystring)-1,0,-2):\n",
    "    print(x,mystring[x])"
   ]
  },
  {
   "cell_type": "code",
   "execution_count": null,
   "metadata": {},
   "outputs": [],
   "source": [
    "mystring = \"Hello Python\"\n",
    "print(\"#############################\")\n",
    "for x in range(0,len(mystring),2):\n",
    "    print(x)\n",
    "    print(mystring[x])"
   ]
  },
  {
   "cell_type": "code",
   "execution_count": null,
   "metadata": {},
   "outputs": [],
   "source": [
    "mystring = \"Hello Python\"\n",
    "print(\"#############################\")\n",
    "a=1\n",
    "for x in range(1,len(mystring),a):\n",
    "    a+=1\n",
    "    print(\"a:\",a,\"  ,x:\",x, \" character : \", mystring[x])\n",
    "    print(x)\n",
    "    "
   ]
  },
  {
   "cell_type": "code",
   "execution_count": 16,
   "metadata": {},
   "outputs": [
    {
     "name": "stdout",
     "output_type": "stream",
     "text": [
      "<class 'str'>  -  mango  -  5\n",
      "<class 'str'>  -  orange  -  6\n",
      "<class 'str'>  -  palm  -  4\n",
      "<class 'str'>  -  pine  -  4\n",
      "<class 'str'>  -  palmyrah  -  8\n",
      "<class 'str'>  -  neem  -  4\n",
      "<class 'str'>  -  oak  -  3\n",
      "<class 'str'>  -  sandalwood  -  10\n"
     ]
    }
   ],
   "source": [
    "trees = [\"mango\", \"orange\", \"palm\",\"pine\", \"palmyrah\",\"neem\",\"oak\",\"sandalwood\"]\n",
    "for tree in trees:\n",
    "    print(type(tree),\" - \", tree, \" - \", len(tree))\n",
    "    #print(len(tree))"
   ]
  },
  {
   "cell_type": "code",
   "execution_count": 17,
   "metadata": {},
   "outputs": [
    {
     "data": {
      "text/plain": [
       "['mango', 'neem', 'oak', 'orange', 'palm', 'palmyrah', 'pine', 'sandalwood']"
      ]
     },
     "execution_count": 17,
     "metadata": {},
     "output_type": "execute_result"
    }
   ],
   "source": [
    "trees.sort()\n",
    "trees"
   ]
  },
  {
   "cell_type": "code",
   "execution_count": null,
   "metadata": {},
   "outputs": [],
   "source": [
    "def compare_order(a,b,reverse = False):\n",
    "    minium_length = min(len(b), len(a)) \n",
    "    #print(minium_length)\n",
    "    for x in range(0,minium_length-1):\n",
    "        if(ord(a[x])<ord(b[x])):\n",
    "            if(reverse == True):\n",
    "                return b\n",
    "            else: \n",
    "                return a\n",
    "        else: \n",
    "            if(reverse == True):\n",
    "                return a\n",
    "            else: \n",
    "                return b\n",
    "        #print(a[x],b[x])\n",
    "        #print(ord(a[x]),ord(b[x]))\n",
    "        "
   ]
  },
  {
   "cell_type": "code",
   "execution_count": null,
   "metadata": {},
   "outputs": [],
   "source": [
    "compare_order('banyan', 'mango', reverse=True)"
   ]
  },
  {
   "cell_type": "code",
   "execution_count": 20,
   "metadata": {},
   "outputs": [],
   "source": [
    "flowersdict = {}"
   ]
  },
  {
   "cell_type": "code",
   "execution_count": 22,
   "metadata": {},
   "outputs": [],
   "source": [
    "flowersdict[\"flower1\"] = \"Rose\"\n",
    "flowersdict[\"flower2\"] = \"Shoeflower\"\n",
    "flowersdict[\"flower3\"] = \"Tulips\"\n",
    "flowersdict[\"flower4\"] = \"Daisy\"\n",
    "flowersdict[\"flower5\"] = \"Lotus\"\n",
    "#flowersdict[\"flower1\"]"
   ]
  },
  {
   "cell_type": "code",
   "execution_count": 23,
   "metadata": {},
   "outputs": [
    {
     "name": "stdout",
     "output_type": "stream",
     "text": [
      "{'flower1': 'Rose', 'flower2': 'Shoeflower', 'flower3': 'Tulips', 'flower4': 'Daisy', 'flower5': 'Lotus'}\n"
     ]
    }
   ],
   "source": [
    "print(flowersdict)"
   ]
  },
  {
   "cell_type": "code",
   "execution_count": 28,
   "metadata": {},
   "outputs": [
    {
     "name": "stdout",
     "output_type": "stream",
     "text": [
      "<class 'str'> \t -  Rose \t -  4\n",
      "<class 'str'> \t -  Shoeflower \t -  10\n",
      "<class 'str'> \t -  Tulips \t -  6\n",
      "<class 'str'> \t -  Daisy \t -  5\n",
      "<class 'str'> \t -  Lotus \t -  5\n"
     ]
    }
   ],
   "source": [
    "for flower in flowersdict.values():\n",
    "    print(\"%s %s %s %s %s\"%(type(flower), \"\\t - \" , flower, \"\\t - \", len(flower)))   "
   ]
  },
  {
   "cell_type": "code",
   "execution_count": 29,
   "metadata": {},
   "outputs": [
    {
     "name": "stdout",
     "output_type": "stream",
     "text": [
      "<class 'str'> \t -  Rose \t - , 4\n",
      "<class 'str'> \t -  Shoeflower \t - , 10\n",
      "<class 'str'> \t -  Tulips \t - , 6\n",
      "<class 'str'> \t -  Daisy \t - , 5\n",
      "<class 'str'> \t -  Lotus \t - , 5\n"
     ]
    }
   ],
   "source": [
    "for flower in flowersdict.values():\n",
    "    print(f\"{type(flower)} \\t -  {flower} \\t - , {len(flower)}\")  "
   ]
  },
  {
   "cell_type": "code",
   "execution_count": null,
   "metadata": {},
   "outputs": [],
   "source": [
    "for flower in flowersdict:\n",
    "    print(flowersdict[flower],\"\\t - \", flower, \"\\t - \", len(flowersdict[flower]))"
   ]
  },
  {
   "cell_type": "code",
   "execution_count": null,
   "metadata": {
    "scrolled": true
   },
   "outputs": [],
   "source": [
    "print(flowersdict.items())\n",
    "print(type(flowersdict.items()))\n",
    "print(flowersdict.keys())\n",
    "print(type(flowersdict.keys()))\n",
    "print(flowersdict.values())\n",
    "print(type(flowersdict.values()))\n",
    "\n",
    "print(list(flowersdict.items()))\n",
    "print(list(flowersdict.keys()))\n",
    "print(list(flowersdict.values()))"
   ]
  },
  {
   "cell_type": "code",
   "execution_count": null,
   "metadata": {},
   "outputs": [],
   "source": [
    "print(\"################################\")\n",
    "for item in flowersdict.items():\n",
    "    print(item, type(item))\n",
    "    print(item[0],\"\\t - \", item[1], \"\\t - \", len(item[1]))"
   ]
  },
  {
   "cell_type": "code",
   "execution_count": null,
   "metadata": {},
   "outputs": [],
   "source": [
    "for flowerkey,flowervalue in flowersdict.items():\n",
    "    print(flowervalue,\"\\t - \", flowerkey, \"\\t - \", len(flowervalue))"
   ]
  },
  {
   "cell_type": "code",
   "execution_count": null,
   "metadata": {},
   "outputs": [],
   "source": [
    "a = ['small','big', 'tall','far','fast']\n",
    "b = ['smaller','bigger','taller','farther','faster']\n",
    "c=  ['smallest','biggest','tallest','farthest','fastest']"
   ]
  },
  {
   "cell_type": "code",
   "execution_count": null,
   "metadata": {},
   "outputs": [],
   "source": [
    "list(zip(a,b,c))"
   ]
  },
  {
   "cell_type": "code",
   "execution_count": null,
   "metadata": {},
   "outputs": [],
   "source": [
    "for x in zip(a,b,c):\n",
    "    print(x)"
   ]
  },
  {
   "cell_type": "code",
   "execution_count": null,
   "metadata": {},
   "outputs": [],
   "source": [
    "for positive, comparitive, superlative in zip(a,b,c):\n",
    "    print(positive,\":\",comparitive,\":\",superlative)"
   ]
  },
  {
   "cell_type": "code",
   "execution_count": null,
   "metadata": {},
   "outputs": [],
   "source": [
    "a = 'hello world'\n",
    "y = iter(a)\n",
    "print(y)"
   ]
  },
  {
   "cell_type": "code",
   "execution_count": null,
   "metadata": {},
   "outputs": [],
   "source": [
    "next(y)"
   ]
  },
  {
   "cell_type": "code",
   "execution_count": null,
   "metadata": {},
   "outputs": [],
   "source": [
    "iterator_obj = iter(flowersdict)\n",
    "for flower in iterator_obj:\n",
    "    print(flowersdict[flower])\n",
    "    \n",
    "        \n"
   ]
  },
  {
   "cell_type": "code",
   "execution_count": null,
   "metadata": {},
   "outputs": [],
   "source": [
    "iterator_obj = iter(flowersdict.items())\n",
    "for flower in iterator_obj:\n",
    "    print(flower)\n",
    "    if(flower[0]==\"flower2\"):\n",
    "        break;\n",
    "        \n",
    "print(next(iterator_obj))\n",
    "print(next(iterator_obj))\n",
    "print(next(iterator_obj))"
   ]
  },
  {
   "cell_type": "code",
   "execution_count": null,
   "metadata": {},
   "outputs": [],
   "source": [
    "ax = [1,2.0,3.0+4j,\"hello\", True]\n",
    "#ax = \"hello world\"\n",
    "for somevariable in ax:\n",
    "    print(somevariable, \" \\t :\", type(somevariable))"
   ]
  },
  {
   "cell_type": "code",
   "execution_count": null,
   "metadata": {},
   "outputs": [],
   "source": [
    "\n",
    "print(flowersdict.items())\n",
    "print(flowersdict.keys())\n",
    "print(flowersdict.values())\n",
    "print(list(flowersdict.values()))"
   ]
  },
  {
   "cell_type": "code",
   "execution_count": null,
   "metadata": {},
   "outputs": [],
   "source": [
    "for flower in flowersdict.keys():\n",
    "    print(type(flower),\"\\t - \", flower, \"\\t - \", len(flower))   "
   ]
  },
  {
   "cell_type": "code",
   "execution_count": null,
   "metadata": {},
   "outputs": [],
   "source": [
    "for flower in flowersdict.values():\n",
    "    print(type(flower),\"\\t - \", flower, \"\\t - \", len(flower))   "
   ]
  },
  {
   "cell_type": "code",
   "execution_count": null,
   "metadata": {},
   "outputs": [],
   "source": [
    "for flower in flowersdict.items():\n",
    "    print(type(flower),\"\\t - \", flower[0], flower[1], \"\\t - \", len(flower[1]))   "
   ]
  },
  {
   "cell_type": "code",
   "execution_count": null,
   "metadata": {
    "scrolled": true
   },
   "outputs": [],
   "source": [
    "for x in range(0,20,3):\n",
    "    #print(x,x**2,x**3)\n",
    "    print(\"X - \",x,\"Square of X - \",x**2,\"Cube of X - \",x**3)"
   ]
  },
  {
   "cell_type": "markdown",
   "metadata": {},
   "source": [
    "# break, continue, pass, return \n",
    "\n",
    "We can use <code>break</code>, <code>continue</code>, and <code>pass</code> statements in our loops to add additional functionality for various cases. The three statements are defined by:\n",
    "\n",
    "    break: Breaks out of the current closest enclosing loop.\n",
    "    continue: Goes to the top of the closest enclosing loop.\n",
    "    pass: Does nothing at all.\n",
    "    return: returns data to the caller\n",
    "    \n",
    "    \n",
    "Thinking about <code>break</code> and <code>continue</code> statements, the general format of the <code>while</code> loop looks like this:\n",
    "\n",
    "    while test0: \n",
    "        code statement\n",
    "        if test: \n",
    "            break\n",
    "        if test1: \n",
    "            continue \n",
    "        print(\"Hi\")\n",
    "    else:\n",
    "        print(\"Completed\")\n",
    "    print(\"Out of While Loop\")\n",
    "\n",
    "<code>break</code> and <code>continue</code> statements can appear anywhere inside the loop’s body, but we will usually put them further nested in conjunction with an <code>if</code> statement to perform an action based on some condition.\n",
    "\n",
    "Let's go ahead and look at some examples!"
   ]
  },
  {
   "cell_type": "markdown",
   "metadata": {},
   "source": [
    "### Break -  Jumps out of the loop"
   ]
  },
  {
   "cell_type": "code",
   "execution_count": null,
   "metadata": {},
   "outputs": [],
   "source": [
    "a = 10\n",
    "b = 5\n",
    "for y in range(10):\n",
    "    print(\"outer for loop\")\n",
    "    for x in range(a,0,-1):\n",
    "        print(x,b)\n",
    "        if (b>x):\n",
    "            break\n",
    "    print(\"x is greater than b\")"
   ]
  },
  {
   "cell_type": "code",
   "execution_count": null,
   "metadata": {},
   "outputs": [],
   "source": [
    "a = 5\n",
    "b = 10\n",
    "for x in range(a):\n",
    "    #print(\"x\",x)\n",
    "    for y in range(b):\n",
    "        if (y>x):\n",
    "            break\n",
    "        print(\"x:\",x,\"y:\",y)\n",
    "        #print(y)"
   ]
  },
  {
   "cell_type": "code",
   "execution_count": null,
   "metadata": {
    "scrolled": true
   },
   "outputs": [],
   "source": [
    "for x in range (0,10):\n",
    "    print(\"###################################\")\n",
    "    if(x%2==0): # if condition testing logic 2/0\n",
    "        print(\"Hello India\", x)\n",
    "        continue\n",
    "    elif(x%3==0):#else if condition\n",
    "        print(\"Hello TamilNadu\",x)\n",
    "    else:#else condition\n",
    "        print(\"Hello Pakistan\",x)\n",
    "        if(x>2):\n",
    "            #pass \n",
    "            break\n",
    "    print(\"Hello World\")\n",
    "    print(\"welcome to Fita\")\n",
    "    print(\"I am indian\")\n",
    "else: \n",
    "    print(\"For loop is over without break\")\n",
    "print(\"out of for loop\",x)    "
   ]
  },
  {
   "cell_type": "code",
   "execution_count": null,
   "metadata": {},
   "outputs": [],
   "source": [
    "for x in range(9):\n",
    "    if(x**2 > 50):\n",
    "        print(\"Hello, Reached your square limit of 50 \")\n",
    "        break\n",
    "    print(x,x**2)    \n",
    "else: \n",
    "    print(\"No error occured\")\n",
    "    \n",
    "print(\"for is over\",x)"
   ]
  },
  {
   "cell_type": "code",
   "execution_count": null,
   "metadata": {},
   "outputs": [],
   "source": [
    "for x in range(7,-1,-1):\n",
    "    if(x/x==0):\n",
    "        print(\"Hello, Reached your limit of 50 \")\n",
    "else: \n",
    "    print(\"No error occured\")\n",
    "    \n",
    "print(\"for is over\",x)"
   ]
  },
  {
   "cell_type": "code",
   "execution_count": null,
   "metadata": {
    "scrolled": true
   },
   "outputs": [],
   "source": [
    "for x in range(7,-1,-1):\n",
    "    try:\n",
    "        if(x/x==0):\n",
    "            print(\"Hello, Reached your limit of 50 \")\n",
    "        print(x,x**2)\n",
    "    except Exception as ex: \n",
    "        print(ex)\n",
    "else: \n",
    "    print(\"No error occured\")\n",
    "    \n",
    "print(\"for is over\",x)"
   ]
  },
  {
   "cell_type": "markdown",
   "metadata": {},
   "source": [
    "### Continue - continues to the next iteration"
   ]
  },
  {
   "cell_type": "code",
   "execution_count": null,
   "metadata": {},
   "outputs": [],
   "source": [
    "x = 0\n",
    "\n",
    "while x < 10:\n",
    "    print('x is currently: ',x)\n",
    "    #print(' x is still less than 10, adding 1 to x')\n",
    "    \n",
    "    #print(x)\n",
    "    if (x%3==0):\n",
    "        print('Not Breaking  x==3')\n",
    "        #break\n",
    "    else:\n",
    "        print('continuing... by skipping below')\n",
    "        x += 1\n",
    "        continue\n",
    "    print(x**3)\n",
    "    x += 1 \n",
    "        "
   ]
  },
  {
   "cell_type": "code",
   "execution_count": null,
   "metadata": {},
   "outputs": [],
   "source": [
    "## Def Functionname(Non-Named Arguments/positional Arguments, Named Arguments/Default Arguments)\n",
    "## Always the Non Named Arguments should come first first ie-default arguments should follow the non-named or positional arguments\n",
    "def mynew():\n",
    "    print(\"this is an example\") \n",
    "a =10\n",
    "b =5\n",
    "if(a>b):\n",
    "    #No action defined\n",
    "else:\n",
    "    print(\"b is greater\")\n",
    "    print(mynew()**2)"
   ]
  },
  {
   "cell_type": "markdown",
   "metadata": {},
   "source": [
    "### Pass "
   ]
  },
  {
   "cell_type": "code",
   "execution_count": null,
   "metadata": {},
   "outputs": [],
   "source": [
    "# Pass is used to provide blank/empty statements"
   ]
  },
  {
   "cell_type": "code",
   "execution_count": null,
   "metadata": {},
   "outputs": [],
   "source": [
    "def myaddfunc(a,b): \n",
    "   "
   ]
  },
  {
   "cell_type": "code",
   "execution_count": null,
   "metadata": {},
   "outputs": [],
   "source": [
    "def myaddfunc(a,b): \n",
    "    pass"
   ]
  },
  {
   "cell_type": "code",
   "execution_count": null,
   "metadata": {},
   "outputs": [],
   "source": [
    "a =10\n",
    "b =5\n",
    "if(a>b):\n",
    "    #No action defined\n",
    "else:\n",
    "    print(\"b is greater\")"
   ]
  },
  {
   "cell_type": "code",
   "execution_count": null,
   "metadata": {},
   "outputs": [],
   "source": [
    "a =10\n",
    "b =5\n",
    "if(a>b):\n",
    "    pass\n",
    "else:\n",
    "    print(\"b is greater\")"
   ]
  },
  {
   "cell_type": "markdown",
   "metadata": {},
   "source": [
    "#### Return"
   ]
  },
  {
   "cell_type": "code",
   "execution_count": null,
   "metadata": {},
   "outputs": [],
   "source": [
    "def addnumstring(n1,n2):\n",
    "    x = str(n1)+str(n2)\n",
    "    return "
   ]
  },
  {
   "cell_type": "code",
   "execution_count": null,
   "metadata": {},
   "outputs": [],
   "source": [
    "c = addnumstring(10,\"a\")\n",
    "d = addnumstring(10,\"10\")"
   ]
  },
  {
   "cell_type": "code",
   "execution_count": null,
   "metadata": {
    "scrolled": true
   },
   "outputs": [],
   "source": [
    "print(c)"
   ]
  },
  {
   "cell_type": "code",
   "execution_count": null,
   "metadata": {},
   "outputs": [],
   "source": [
    "print(d)"
   ]
  },
  {
   "cell_type": "code",
   "execution_count": null,
   "metadata": {},
   "outputs": [],
   "source": [
    "def addnumstring(n1,n2):\n",
    "    x = str(n1)+str(n2)\n",
    "    return"
   ]
  },
  {
   "cell_type": "code",
   "execution_count": null,
   "metadata": {},
   "outputs": [],
   "source": [
    "c = addnumstring(10,\"a\")\n",
    "d = addnumstring(10,\"10\")"
   ]
  },
  {
   "cell_type": "code",
   "execution_count": null,
   "metadata": {
    "scrolled": true
   },
   "outputs": [],
   "source": [
    "print(c)"
   ]
  },
  {
   "cell_type": "code",
   "execution_count": null,
   "metadata": {},
   "outputs": [],
   "source": [
    "print(d)"
   ]
  },
  {
   "cell_type": "code",
   "execution_count": null,
   "metadata": {},
   "outputs": [],
   "source": [
    "def addnumstring(n1,n2):\n",
    "    x = str(n1)+str(n2)\n",
    "    return x"
   ]
  },
  {
   "cell_type": "code",
   "execution_count": null,
   "metadata": {},
   "outputs": [],
   "source": [
    "c = addnumstring(10,\"a\")\n",
    "d = addnumstring(10,\"10\")"
   ]
  },
  {
   "cell_type": "code",
   "execution_count": null,
   "metadata": {
    "scrolled": true
   },
   "outputs": [],
   "source": [
    "print(c)"
   ]
  },
  {
   "cell_type": "code",
   "execution_count": null,
   "metadata": {},
   "outputs": [],
   "source": [
    "print(d)"
   ]
  },
  {
   "cell_type": "code",
   "execution_count": null,
   "metadata": {},
   "outputs": [],
   "source": [
    "print('Hello)"
   ]
  }
 ],
 "metadata": {
  "kernelspec": {
   "display_name": "Python 3 (ipykernel)",
   "language": "python",
   "name": "python3"
  },
  "language_info": {
   "codemirror_mode": {
    "name": "ipython",
    "version": 3
   },
   "file_extension": ".py",
   "mimetype": "text/x-python",
   "name": "python",
   "nbconvert_exporter": "python",
   "pygments_lexer": "ipython3",
   "version": "3.10.4"
  }
 },
 "nbformat": 4,
 "nbformat_minor": 1
}
