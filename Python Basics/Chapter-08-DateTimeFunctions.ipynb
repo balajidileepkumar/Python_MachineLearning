{
 "cells": [
  {
   "cell_type": "markdown",
   "metadata": {},
   "source": [
    "# Datetime\n",
    "\n",
    "Python has the datetime module to help deal with timestamps in your code. Time values are represented with the time class. Times have attributes for hour, minute, second, and microsecond. They can also include time zone information. The arguments to initialize a time instance are optional, but the default of 0 is unlikely to be what you want.\n"
   ]
  },
  {
   "cell_type": "markdown",
   "metadata": {},
   "source": [
    "##### datetime class\n",
    "##### time class\n",
    "##### date class\n",
    "##### timedelta class\n",
    "##### timezone class\n",
    "##### tzinfo class\n",
    "##### IsoCalendarDate"
   ]
  },
  {
   "cell_type": "markdown",
   "metadata": {},
   "source": [
    "\n",
    "## Time\n",
    "Let's take a look at how we can extract time information from the datetime module. We can create a timestamp by specifying datetime.time(hour,minute,second,microsecond)"
   ]
  },
  {
   "cell_type": "code",
   "execution_count": 1,
   "metadata": {},
   "outputs": [
    {
     "name": "stdout",
     "output_type": "stream",
     "text": [
      "00:00:00\n",
      "#########################\n",
      "04:59:59.999999\n",
      "None\n",
      "###########-----##############\n",
      "UTC\n",
      "#########################\n",
      "Australia/Sydney\n",
      "#########################\n",
      "America/St_Johns\n",
      "###########components##############\n",
      "00:00:00\n",
      "None\n",
      "######################################\n",
      "04:59:59.999999\n",
      "######################################\n",
      "04:20:01.123456+00:00\n",
      "######################################\n",
      "04:20:01.123456\n",
      "######################################\n",
      "04:20:01.123456\n",
      "######################################\n",
      "hour  : 4\n",
      "minute: 20\n",
      "second: 1\n",
      "microsecond: 123456\n",
      "tzinfo: UTC\n"
     ]
    }
   ],
   "source": [
    "import datetime\n",
    "from pytz import timezone\n",
    "\n",
    "timedefault = datetime.time()\n",
    "print(timedefault)\n",
    "print(\"#########################\")\n",
    "t = datetime.time(4, 59, 59,999999)\n",
    "print(t)\n",
    "print(t.tzinfo)\n",
    "print(\"###########-----##############\")\n",
    "utctime = datetime.time(4, 20, 1,123456, timezone('UTC'))\n",
    "print(utctime.tzinfo)\n",
    "print(\"#########################\")\n",
    "Austime = datetime.time(4, 20, 1,123456, timezone('Australia/Sydney'))\n",
    "print(Austime.tzinfo)\n",
    "print(\"#########################\")\n",
    "Ustime = datetime.time(4, 20, 1,123456, timezone('America/St_Johns'))\n",
    "print(Ustime.tzinfo)\n",
    "\n",
    "\n",
    "print(\"###########components##############\")\n",
    "# Let's show the different components\n",
    "print(timedefault)\n",
    "print(timedefault.tzinfo)\n",
    "print(\"######################################\")\n",
    "print(t)\n",
    "print(\"######################################\")\n",
    "print(utctime)\n",
    "print(\"######################################\")\n",
    "print(Austime)\n",
    "print(\"######################################\")\n",
    "print(Ustime)\n",
    "print(\"######################################\")\n",
    "\n",
    "print('hour  :', utctime.hour)\n",
    "print('minute:', utctime.minute)\n",
    "print('second:', utctime.second)\n",
    "print('microsecond:', utctime.microsecond)\n",
    "print('tzinfo:', utctime.tzinfo)"
   ]
  },
  {
   "cell_type": "markdown",
   "metadata": {},
   "source": [
    "##### Get all timezones"
   ]
  },
  {
   "cell_type": "code",
   "execution_count": 3,
   "metadata": {},
   "outputs": [
    {
     "name": "stdout",
     "output_type": "stream",
     "text": [
      "<class 'pytz.lazy.LazyList.__new__.<locals>.LazyList'>\n",
      "['Africa/Abidjan', 'Africa/Accra', 'Africa/Addis_Ababa', 'Africa/Algiers', 'Africa/Asmara', 'Africa/Asmera', 'Africa/Bamako', 'Africa/Bangui', 'Africa/Banjul', 'Africa/Bissau', 'Africa/Blantyre', 'Africa/Brazzaville', 'Africa/Bujumbura', 'Africa/Cairo', 'Africa/Casablanca', 'Africa/Ceuta', 'Africa/Conakry', 'Africa/Dakar', 'Africa/Dar_es_Salaam', 'Africa/Djibouti', 'Africa/Douala', 'Africa/El_Aaiun', 'Africa/Freetown', 'Africa/Gaborone', 'Africa/Harare', 'Africa/Johannesburg', 'Africa/Juba', 'Africa/Kampala', 'Africa/Khartoum', 'Africa/Kigali', 'Africa/Kinshasa', 'Africa/Lagos', 'Africa/Libreville', 'Africa/Lome', 'Africa/Luanda', 'Africa/Lubumbashi', 'Africa/Lusaka', 'Africa/Malabo', 'Africa/Maputo', 'Africa/Maseru', 'Africa/Mbabane', 'Africa/Mogadishu', 'Africa/Monrovia', 'Africa/Nairobi', 'Africa/Ndjamena', 'Africa/Niamey', 'Africa/Nouakchott', 'Africa/Ouagadougou', 'Africa/Porto-Novo', 'Africa/Sao_Tome', 'Africa/Timbuktu', 'Africa/Tripoli', 'Africa/Tunis', 'Africa/Windhoek', 'America/Adak', 'America/Anchorage', 'America/Anguilla', 'America/Antigua', 'America/Araguaina', 'America/Argentina/Buenos_Aires', 'America/Argentina/Catamarca', 'America/Argentina/ComodRivadavia', 'America/Argentina/Cordoba', 'America/Argentina/Jujuy', 'America/Argentina/La_Rioja', 'America/Argentina/Mendoza', 'America/Argentina/Rio_Gallegos', 'America/Argentina/Salta', 'America/Argentina/San_Juan', 'America/Argentina/San_Luis', 'America/Argentina/Tucuman', 'America/Argentina/Ushuaia', 'America/Aruba', 'America/Asuncion', 'America/Atikokan', 'America/Atka', 'America/Bahia', 'America/Bahia_Banderas', 'America/Barbados', 'America/Belem', 'America/Belize', 'America/Blanc-Sablon', 'America/Boa_Vista', 'America/Bogota', 'America/Boise', 'America/Buenos_Aires', 'America/Cambridge_Bay', 'America/Campo_Grande', 'America/Cancun', 'America/Caracas', 'America/Catamarca', 'America/Cayenne', 'America/Cayman', 'America/Chicago', 'America/Chihuahua', 'America/Coral_Harbour', 'America/Cordoba', 'America/Costa_Rica', 'America/Creston', 'America/Cuiaba', 'America/Curacao', 'America/Danmarkshavn', 'America/Dawson', 'America/Dawson_Creek', 'America/Denver', 'America/Detroit', 'America/Dominica', 'America/Edmonton', 'America/Eirunepe', 'America/El_Salvador', 'America/Ensenada', 'America/Fort_Nelson', 'America/Fort_Wayne', 'America/Fortaleza', 'America/Glace_Bay', 'America/Godthab', 'America/Goose_Bay', 'America/Grand_Turk', 'America/Grenada', 'America/Guadeloupe', 'America/Guatemala', 'America/Guayaquil', 'America/Guyana', 'America/Halifax', 'America/Havana', 'America/Hermosillo', 'America/Indiana/Indianapolis', 'America/Indiana/Knox', 'America/Indiana/Marengo', 'America/Indiana/Petersburg', 'America/Indiana/Tell_City', 'America/Indiana/Vevay', 'America/Indiana/Vincennes', 'America/Indiana/Winamac', 'America/Indianapolis', 'America/Inuvik', 'America/Iqaluit', 'America/Jamaica', 'America/Jujuy', 'America/Juneau', 'America/Kentucky/Louisville', 'America/Kentucky/Monticello', 'America/Knox_IN', 'America/Kralendijk', 'America/La_Paz', 'America/Lima', 'America/Los_Angeles', 'America/Louisville', 'America/Lower_Princes', 'America/Maceio', 'America/Managua', 'America/Manaus', 'America/Marigot', 'America/Martinique', 'America/Matamoros', 'America/Mazatlan', 'America/Mendoza', 'America/Menominee', 'America/Merida', 'America/Metlakatla', 'America/Mexico_City', 'America/Miquelon', 'America/Moncton', 'America/Monterrey', 'America/Montevideo', 'America/Montreal', 'America/Montserrat', 'America/Nassau', 'America/New_York', 'America/Nipigon', 'America/Nome', 'America/Noronha', 'America/North_Dakota/Beulah', 'America/North_Dakota/Center', 'America/North_Dakota/New_Salem', 'America/Nuuk', 'America/Ojinaga', 'America/Panama', 'America/Pangnirtung', 'America/Paramaribo', 'America/Phoenix', 'America/Port-au-Prince', 'America/Port_of_Spain', 'America/Porto_Acre', 'America/Porto_Velho', 'America/Puerto_Rico', 'America/Punta_Arenas', 'America/Rainy_River', 'America/Rankin_Inlet', 'America/Recife', 'America/Regina', 'America/Resolute', 'America/Rio_Branco', 'America/Rosario', 'America/Santa_Isabel', 'America/Santarem', 'America/Santiago', 'America/Santo_Domingo', 'America/Sao_Paulo', 'America/Scoresbysund', 'America/Shiprock', 'America/Sitka', 'America/St_Barthelemy', 'America/St_Johns', 'America/St_Kitts', 'America/St_Lucia', 'America/St_Thomas', 'America/St_Vincent', 'America/Swift_Current', 'America/Tegucigalpa', 'America/Thule', 'America/Thunder_Bay', 'America/Tijuana', 'America/Toronto', 'America/Tortola', 'America/Vancouver', 'America/Virgin', 'America/Whitehorse', 'America/Winnipeg', 'America/Yakutat', 'America/Yellowknife', 'Antarctica/Casey', 'Antarctica/Davis', 'Antarctica/DumontDUrville', 'Antarctica/Macquarie', 'Antarctica/Mawson', 'Antarctica/McMurdo', 'Antarctica/Palmer', 'Antarctica/Rothera', 'Antarctica/South_Pole', 'Antarctica/Syowa', 'Antarctica/Troll', 'Antarctica/Vostok', 'Arctic/Longyearbyen', 'Asia/Aden', 'Asia/Almaty', 'Asia/Amman', 'Asia/Anadyr', 'Asia/Aqtau', 'Asia/Aqtobe', 'Asia/Ashgabat', 'Asia/Ashkhabad', 'Asia/Atyrau', 'Asia/Baghdad', 'Asia/Bahrain', 'Asia/Baku', 'Asia/Bangkok', 'Asia/Barnaul', 'Asia/Beirut', 'Asia/Bishkek', 'Asia/Brunei', 'Asia/Calcutta', 'Asia/Chita', 'Asia/Choibalsan', 'Asia/Chongqing', 'Asia/Chungking', 'Asia/Colombo', 'Asia/Dacca', 'Asia/Damascus', 'Asia/Dhaka', 'Asia/Dili', 'Asia/Dubai', 'Asia/Dushanbe', 'Asia/Famagusta', 'Asia/Gaza', 'Asia/Harbin', 'Asia/Hebron', 'Asia/Ho_Chi_Minh', 'Asia/Hong_Kong', 'Asia/Hovd', 'Asia/Irkutsk', 'Asia/Istanbul', 'Asia/Jakarta', 'Asia/Jayapura', 'Asia/Jerusalem', 'Asia/Kabul', 'Asia/Kamchatka', 'Asia/Karachi', 'Asia/Kashgar', 'Asia/Kathmandu', 'Asia/Katmandu', 'Asia/Khandyga', 'Asia/Kolkata', 'Asia/Krasnoyarsk', 'Asia/Kuala_Lumpur', 'Asia/Kuching', 'Asia/Kuwait', 'Asia/Macao', 'Asia/Macau', 'Asia/Magadan', 'Asia/Makassar', 'Asia/Manila', 'Asia/Muscat', 'Asia/Nicosia', 'Asia/Novokuznetsk', 'Asia/Novosibirsk', 'Asia/Omsk', 'Asia/Oral', 'Asia/Phnom_Penh', 'Asia/Pontianak', 'Asia/Pyongyang', 'Asia/Qatar', 'Asia/Qostanay', 'Asia/Qyzylorda', 'Asia/Rangoon', 'Asia/Riyadh', 'Asia/Saigon', 'Asia/Sakhalin', 'Asia/Samarkand', 'Asia/Seoul', 'Asia/Shanghai', 'Asia/Singapore', 'Asia/Srednekolymsk', 'Asia/Taipei', 'Asia/Tashkent', 'Asia/Tbilisi', 'Asia/Tehran', 'Asia/Tel_Aviv', 'Asia/Thimbu', 'Asia/Thimphu', 'Asia/Tokyo', 'Asia/Tomsk', 'Asia/Ujung_Pandang', 'Asia/Ulaanbaatar', 'Asia/Ulan_Bator', 'Asia/Urumqi', 'Asia/Ust-Nera', 'Asia/Vientiane', 'Asia/Vladivostok', 'Asia/Yakutsk', 'Asia/Yangon', 'Asia/Yekaterinburg', 'Asia/Yerevan', 'Atlantic/Azores', 'Atlantic/Bermuda', 'Atlantic/Canary', 'Atlantic/Cape_Verde', 'Atlantic/Faeroe', 'Atlantic/Faroe', 'Atlantic/Jan_Mayen', 'Atlantic/Madeira', 'Atlantic/Reykjavik', 'Atlantic/South_Georgia', 'Atlantic/St_Helena', 'Atlantic/Stanley', 'Australia/ACT', 'Australia/Adelaide', 'Australia/Brisbane', 'Australia/Broken_Hill', 'Australia/Canberra', 'Australia/Currie', 'Australia/Darwin', 'Australia/Eucla', 'Australia/Hobart', 'Australia/LHI', 'Australia/Lindeman', 'Australia/Lord_Howe', 'Australia/Melbourne', 'Australia/NSW', 'Australia/North', 'Australia/Perth', 'Australia/Queensland', 'Australia/South', 'Australia/Sydney', 'Australia/Tasmania', 'Australia/Victoria', 'Australia/West', 'Australia/Yancowinna', 'Brazil/Acre', 'Brazil/DeNoronha', 'Brazil/East', 'Brazil/West', 'CET', 'CST6CDT', 'Canada/Atlantic', 'Canada/Central', 'Canada/Eastern', 'Canada/Mountain', 'Canada/Newfoundland', 'Canada/Pacific', 'Canada/Saskatchewan', 'Canada/Yukon', 'Chile/Continental', 'Chile/EasterIsland', 'Cuba', 'EET', 'EST', 'EST5EDT', 'Egypt', 'Eire', 'Etc/GMT', 'Etc/GMT+0', 'Etc/GMT+1', 'Etc/GMT+10', 'Etc/GMT+11', 'Etc/GMT+12', 'Etc/GMT+2', 'Etc/GMT+3', 'Etc/GMT+4', 'Etc/GMT+5', 'Etc/GMT+6', 'Etc/GMT+7', 'Etc/GMT+8', 'Etc/GMT+9', 'Etc/GMT-0', 'Etc/GMT-1', 'Etc/GMT-10', 'Etc/GMT-11', 'Etc/GMT-12', 'Etc/GMT-13', 'Etc/GMT-14', 'Etc/GMT-2', 'Etc/GMT-3', 'Etc/GMT-4', 'Etc/GMT-5', 'Etc/GMT-6', 'Etc/GMT-7', 'Etc/GMT-8', 'Etc/GMT-9', 'Etc/GMT0', 'Etc/Greenwich', 'Etc/UCT', 'Etc/UTC', 'Etc/Universal', 'Etc/Zulu', 'Europe/Amsterdam', 'Europe/Andorra', 'Europe/Astrakhan', 'Europe/Athens', 'Europe/Belfast', 'Europe/Belgrade', 'Europe/Berlin', 'Europe/Bratislava', 'Europe/Brussels', 'Europe/Bucharest', 'Europe/Budapest', 'Europe/Busingen', 'Europe/Chisinau', 'Europe/Copenhagen', 'Europe/Dublin', 'Europe/Gibraltar', 'Europe/Guernsey', 'Europe/Helsinki', 'Europe/Isle_of_Man', 'Europe/Istanbul', 'Europe/Jersey', 'Europe/Kaliningrad', 'Europe/Kiev', 'Europe/Kirov', 'Europe/Lisbon', 'Europe/Ljubljana', 'Europe/London', 'Europe/Luxembourg', 'Europe/Madrid', 'Europe/Malta', 'Europe/Mariehamn', 'Europe/Minsk', 'Europe/Monaco', 'Europe/Moscow', 'Europe/Nicosia', 'Europe/Oslo', 'Europe/Paris', 'Europe/Podgorica', 'Europe/Prague', 'Europe/Riga', 'Europe/Rome', 'Europe/Samara', 'Europe/San_Marino', 'Europe/Sarajevo', 'Europe/Saratov', 'Europe/Simferopol', 'Europe/Skopje', 'Europe/Sofia', 'Europe/Stockholm', 'Europe/Tallinn', 'Europe/Tirane', 'Europe/Tiraspol', 'Europe/Ulyanovsk', 'Europe/Uzhgorod', 'Europe/Vaduz', 'Europe/Vatican', 'Europe/Vienna', 'Europe/Vilnius', 'Europe/Volgograd', 'Europe/Warsaw', 'Europe/Zagreb', 'Europe/Zaporozhye', 'Europe/Zurich', 'GB', 'GB-Eire', 'GMT', 'GMT+0', 'GMT-0', 'GMT0', 'Greenwich', 'HST', 'Hongkong', 'Iceland', 'Indian/Antananarivo', 'Indian/Chagos', 'Indian/Christmas', 'Indian/Cocos', 'Indian/Comoro', 'Indian/Kerguelen', 'Indian/Mahe', 'Indian/Maldives', 'Indian/Mauritius', 'Indian/Mayotte', 'Indian/Reunion', 'Iran', 'Israel', 'Jamaica', 'Japan', 'Kwajalein', 'Libya', 'MET', 'MST', 'MST7MDT', 'Mexico/BajaNorte', 'Mexico/BajaSur', 'Mexico/General', 'NZ', 'NZ-CHAT', 'Navajo', 'PRC', 'PST8PDT', 'Pacific/Apia', 'Pacific/Auckland', 'Pacific/Bougainville', 'Pacific/Chatham', 'Pacific/Chuuk', 'Pacific/Easter', 'Pacific/Efate', 'Pacific/Enderbury', 'Pacific/Fakaofo', 'Pacific/Fiji', 'Pacific/Funafuti', 'Pacific/Galapagos', 'Pacific/Gambier', 'Pacific/Guadalcanal', 'Pacific/Guam', 'Pacific/Honolulu', 'Pacific/Johnston', 'Pacific/Kiritimati', 'Pacific/Kosrae', 'Pacific/Kwajalein', 'Pacific/Majuro', 'Pacific/Marquesas', 'Pacific/Midway', 'Pacific/Nauru', 'Pacific/Niue', 'Pacific/Norfolk', 'Pacific/Noumea', 'Pacific/Pago_Pago', 'Pacific/Palau', 'Pacific/Pitcairn', 'Pacific/Pohnpei', 'Pacific/Ponape', 'Pacific/Port_Moresby', 'Pacific/Rarotonga', 'Pacific/Saipan', 'Pacific/Samoa', 'Pacific/Tahiti', 'Pacific/Tarawa', 'Pacific/Tongatapu', 'Pacific/Truk', 'Pacific/Wake', 'Pacific/Wallis', 'Pacific/Yap', 'Poland', 'Portugal', 'ROC', 'ROK', 'Singapore', 'Turkey', 'UCT', 'US/Alaska', 'US/Aleutian', 'US/Arizona', 'US/Central', 'US/East-Indiana', 'US/Eastern', 'US/Hawaii', 'US/Indiana-Starke', 'US/Michigan', 'US/Mountain', 'US/Pacific', 'US/Samoa', 'UTC', 'Universal', 'W-SU', 'WET', 'Zulu']\n"
     ]
    }
   ],
   "source": [
    "from pytz import all_timezones\n",
    "print(type(all_timezones))\n",
    "print(list(all_timezones))"
   ]
  },
  {
   "cell_type": "markdown",
   "metadata": {},
   "source": [
    "### convert current utc time to another timezone"
   ]
  },
  {
   "cell_type": "code",
   "execution_count": 3,
   "metadata": {
    "scrolled": true
   },
   "outputs": [
    {
     "name": "stdout",
     "output_type": "stream",
     "text": [
      "###########################\n",
      "utc time now :2022-05-28 10:59:22.156786\n",
      "None\n",
      "###########################\n",
      "local time now :2022-05-28 16:29:22.156786\n",
      "None\n",
      "###########################\n",
      "UTC\n",
      "Asia/Kolkata\n",
      "utcmoment_naive: 2022-05-28 10:59:22.156786\n",
      "utcmoment:       2022-05-28 10:59:22.156786+00:00\n",
      "local_time: 2022-05-28 16:29:22.156786+05:53\n",
      "local_time:       2022-05-28 16:29:22.156786+05:53\n",
      "###########################\n",
      "######################\n",
      "America/Los_Angeles\n",
      "2022-05-28 - 03:59:22:156786 May -0700\n",
      "Europe/Madrid\n",
      "2022-05-28 - 12:59:22:156786 May +0200\n",
      "America/Puerto_Rico\n",
      "2022-05-28 - 06:59:22:156786 May -0400\n",
      "Asia/Kathmandu\n",
      "2022-05-28 - 16:44:22:156786 May +0545\n"
     ]
    }
   ],
   "source": [
    "import pytz\n",
    "from datetime import datetime\n",
    "print(\"###########################\")\n",
    "utcmoment_naive = datetime.utcnow()\n",
    "print(\"utc time now :%s\"%utcmoment_naive)\n",
    "print(utcmoment_naive.tzinfo)\n",
    "print(\"###########################\")\n",
    "local_time = datetime.now()\n",
    "print(\"local time now :%s\"%local_time)\n",
    "print(local_time.tzinfo)\n",
    "print(\"###########################\")\n",
    "\n",
    "utcmoment = utcmoment_naive.replace(tzinfo=pytz.utc)\n",
    "print(utcmoment.tzinfo)\n",
    "local_time = local_time.replace(tzinfo=pytz.timezone('Asia/Kolkata'))\n",
    "print(local_time.tzinfo)\n",
    "# print \"utcmoment_naive: {0}\".format(utcmoment_naive) # python 2\n",
    "print(\"utcmoment_naive: {0}\".format(utcmoment_naive))\n",
    "print(\"utcmoment:       {0}\".format(utcmoment))\n",
    "print(\"local_time: {0}\".format(local_time))\n",
    "print(\"local_time:       {0}\".format(local_time))\n",
    "print(\"###########################\")\n",
    "localFormat = \"%Y-%m-%d %H:%M:%S:%f\"\n",
    "timezones = ['America/Los_Angeles', 'Europe/Madrid', 'America/Puerto_Rico','Asia/Kathmandu']\n",
    "print(\"######################\")\n",
    "for tz in timezones:    \n",
    "    print(pytz.timezone(tz))\n",
    "    localDatetime = utcmoment.astimezone(pytz.timezone(tz))\n",
    "    localFormat = \"%Y-%m-%d - %H:%M:%S:%f %b %z\"\n",
    "    print(localDatetime.strftime(localFormat))\n",
    "    #localFormat = \"%Y$%m$%d - %H$%M$%S$%f\""
   ]
  },
  {
   "cell_type": "code",
   "execution_count": 6,
   "metadata": {},
   "outputs": [
    {
     "data": {
      "text/plain": [
       "['__annotations__',\n",
       " '__builtins__',\n",
       " '__call__',\n",
       " '__class__',\n",
       " '__closure__',\n",
       " '__code__',\n",
       " '__defaults__',\n",
       " '__delattr__',\n",
       " '__dict__',\n",
       " '__dir__',\n",
       " '__doc__',\n",
       " '__eq__',\n",
       " '__format__',\n",
       " '__ge__',\n",
       " '__get__',\n",
       " '__getattribute__',\n",
       " '__globals__',\n",
       " '__gt__',\n",
       " '__hash__',\n",
       " '__init__',\n",
       " '__init_subclass__',\n",
       " '__kwdefaults__',\n",
       " '__le__',\n",
       " '__lt__',\n",
       " '__module__',\n",
       " '__name__',\n",
       " '__ne__',\n",
       " '__new__',\n",
       " '__qualname__',\n",
       " '__reduce__',\n",
       " '__reduce_ex__',\n",
       " '__repr__',\n",
       " '__setattr__',\n",
       " '__sizeof__',\n",
       " '__str__',\n",
       " '__subclasshook__']"
      ]
     },
     "execution_count": 6,
     "metadata": {},
     "output_type": "execute_result"
    }
   ],
   "source": [
    "from pytz import timezone\n",
    "dir(timezone)"
   ]
  },
  {
   "cell_type": "code",
   "execution_count": 11,
   "metadata": {},
   "outputs": [
    {
     "data": {
      "text/plain": [
       "['BPF',\n",
       " 'LOG4',\n",
       " 'NV_MAGICCONST',\n",
       " 'RECIP_BPF',\n",
       " 'Random',\n",
       " 'SG_MAGICCONST',\n",
       " 'SystemRandom',\n",
       " 'TWOPI',\n",
       " '_ONE',\n",
       " '_Sequence',\n",
       " '_Set',\n",
       " '__all__',\n",
       " '__builtins__',\n",
       " '__cached__',\n",
       " '__doc__',\n",
       " '__file__',\n",
       " '__loader__',\n",
       " '__name__',\n",
       " '__package__',\n",
       " '__spec__',\n",
       " '_accumulate',\n",
       " '_acos',\n",
       " '_bisect',\n",
       " '_ceil',\n",
       " '_cos',\n",
       " '_e',\n",
       " '_exp',\n",
       " '_floor',\n",
       " '_index',\n",
       " '_inst',\n",
       " '_isfinite',\n",
       " '_log',\n",
       " '_os',\n",
       " '_pi',\n",
       " '_random',\n",
       " '_repeat',\n",
       " '_sha512',\n",
       " '_sin',\n",
       " '_sqrt',\n",
       " '_test',\n",
       " '_test_generator',\n",
       " '_urandom',\n",
       " '_warn',\n",
       " 'betavariate',\n",
       " 'choice',\n",
       " 'choices',\n",
       " 'expovariate',\n",
       " 'gammavariate',\n",
       " 'gauss',\n",
       " 'getrandbits',\n",
       " 'getstate',\n",
       " 'lognormvariate',\n",
       " 'normalvariate',\n",
       " 'paretovariate',\n",
       " 'randbytes',\n",
       " 'randint',\n",
       " 'random',\n",
       " 'randrange',\n",
       " 'sample',\n",
       " 'seed',\n",
       " 'setstate',\n",
       " 'shuffle',\n",
       " 'triangular',\n",
       " 'uniform',\n",
       " 'vonmisesvariate',\n",
       " 'weibullvariate']"
      ]
     },
     "execution_count": 11,
     "metadata": {},
     "output_type": "execute_result"
    }
   ],
   "source": [
    "import random\n",
    "dir(random)"
   ]
  },
  {
   "cell_type": "code",
   "execution_count": 15,
   "metadata": {
    "scrolled": false
   },
   "outputs": [
    {
     "name": "stdout",
     "output_type": "stream",
     "text": [
      "2022-05-28 11:06:27.331856\n",
      "None\n",
      "Current Utc Time : 2022-05-28 11:06:27.331856+00:00\n",
      "##############################################\n",
      "Current India Time 2022-05-28 16:36:27.332854+05:41\n",
      "##############################################\n",
      "<class 'NoneType'>\n",
      "timezone name: Indian/Cocos - current time in that time zone - 2022-05-28 17:25:27.332854+06:30\n",
      "timezone name: America/Recife - current time in that time zone - 2022-05-28 07:55:27.332854-03:00\n",
      "timezone name: Asia/Yangon - current time in that time zone - 2022-05-28 17:25:27.332854+06:30\n",
      "timezone name: Etc/GMT0 - current time in that time zone - 2022-05-28 10:55:27.332854+00:00\n",
      "timezone name: America/El_Salvador - current time in that time zone - 2022-05-28 04:55:27.332854-06:00\n",
      "timezone name: Europe/Helsinki - current time in that time zone - 2022-05-28 13:55:27.332854+03:00\n",
      "timezone name: America/Lima - current time in that time zone - 2022-05-28 05:55:27.332854-05:00\n",
      "timezone name: US/Mountain - current time in that time zone - 2022-05-28 04:55:27.332854-06:00\n",
      "timezone name: Indian/Chagos - current time in that time zone - 2022-05-28 16:55:27.332854+06:00\n",
      "timezone name: Asia/Ho_Chi_Minh - current time in that time zone - 2022-05-28 17:55:27.332854+07:00\n",
      "timezone name: America/Argentina/Jujuy - current time in that time zone - 2022-05-28 07:55:27.332854-03:00\n",
      "timezone name: Canada/Saskatchewan - current time in that time zone - 2022-05-28 04:55:27.332854-06:00\n",
      "timezone name: Asia/Pontianak - current time in that time zone - 2022-05-28 17:55:27.332854+07:00\n",
      "timezone name: America/Maceio - current time in that time zone - 2022-05-28 07:55:27.332854-03:00\n",
      "timezone name: Antarctica/Vostok - current time in that time zone - 2022-05-28 16:55:27.332854+06:00\n",
      "timezone name: Africa/Bamako - current time in that time zone - 2022-05-28 10:55:27.332854+00:00\n",
      "timezone name: Australia/Lord_Howe - current time in that time zone - 2022-05-28 21:25:27.332854+10:30\n",
      "timezone name: America/Bahia_Banderas - current time in that time zone - 2022-05-28 05:55:27.332854-05:00\n",
      "timezone name: America/Kentucky/Louisville - current time in that time zone - 2022-05-28 06:55:27.332854-04:00\n",
      "timezone name: Africa/Harare - current time in that time zone - 2022-05-28 12:55:27.332854+02:00\n",
      "timezone name: America/Barbados - current time in that time zone - 2022-05-28 06:55:27.332854-04:00\n",
      "timezone name: Asia/Hebron - current time in that time zone - 2022-05-28 13:55:27.332854+03:00\n",
      "timezone name: Africa/Maputo - current time in that time zone - 2022-05-28 12:55:27.332854+02:00\n",
      "timezone name: Canada/Mountain - current time in that time zone - 2022-05-28 04:55:27.332854-06:00\n",
      "timezone name: Africa/Accra - current time in that time zone - 2022-05-28 10:55:27.332854+00:00\n",
      "timezone name: Africa/Cairo - current time in that time zone - 2022-05-28 12:55:27.332854+02:00\n",
      "timezone name: Asia/Khandyga - current time in that time zone - 2022-05-28 19:55:27.332854+09:00\n",
      "timezone name: Pacific/Auckland - current time in that time zone - 2022-05-28 22:55:27.332854+12:00\n",
      "timezone name: Pacific/Nauru - current time in that time zone - 2022-05-28 22:55:27.332854+12:00\n",
      "timezone name: Etc/UCT - current time in that time zone - 2022-05-28 10:55:27.332854+00:00\n",
      "timezone name: Africa/Timbuktu - current time in that time zone - 2022-05-28 10:55:27.332854+00:00\n",
      "timezone name: America/Martinique - current time in that time zone - 2022-05-28 06:55:27.332854-04:00\n",
      "timezone name: Europe/Zaporozhye - current time in that time zone - 2022-05-28 13:55:27.332854+03:00\n",
      "timezone name: Europe/Zurich - current time in that time zone - 2022-05-28 12:55:27.332854+02:00\n",
      "timezone name: Asia/Bangkok - current time in that time zone - 2022-05-28 17:55:27.332854+07:00\n",
      "timezone name: Etc/GMT-8 - current time in that time zone - 2022-05-28 18:55:27.332854+08:00\n",
      "timezone name: Etc/GMT+7 - current time in that time zone - 2022-05-28 03:55:27.332854-07:00\n",
      "timezone name: Atlantic/Azores - current time in that time zone - 2022-05-28 10:55:27.332854+00:00\n",
      "timezone name: America/Bahia - current time in that time zone - 2022-05-28 07:55:27.332854-03:00\n",
      "timezone name: Asia/Ulan_Bator - current time in that time zone - 2022-05-28 18:55:27.332854+08:00\n",
      "timezone name: Antarctica/Macquarie - current time in that time zone - 2022-05-28 20:55:27.332854+10:00\n",
      "timezone name: Etc/GMT+6 - current time in that time zone - 2022-05-28 04:55:27.332854-06:00\n",
      "timezone name: America/Argentina/La_Rioja - current time in that time zone - 2022-05-28 07:55:27.332854-03:00\n",
      "timezone name: Pacific/Marquesas - current time in that time zone - 2022-05-28 01:25:27.332854-09:30\n",
      "timezone name: America/Cayenne - current time in that time zone - 2022-05-28 07:55:27.332854-03:00\n",
      "timezone name: Navajo - current time in that time zone - 2022-05-28 04:55:27.332854-06:00\n",
      "timezone name: Atlantic/Madeira - current time in that time zone - 2022-05-28 11:55:27.332854+01:00\n",
      "timezone name: Pacific/Kwajalein - current time in that time zone - 2022-05-28 22:55:27.332854+12:00\n",
      "timezone name: America/Managua - current time in that time zone - 2022-05-28 04:55:27.332854-06:00\n",
      "timezone name: Asia/Tomsk - current time in that time zone - 2022-05-28 17:55:27.332854+07:00\n",
      "timezone name: Zulu - current time in that time zone - 2022-05-28 10:55:27.332854+00:00\n"
     ]
    }
   ],
   "source": [
    "from pytz import all_timezones\n",
    "from datetime import datetime\n",
    "\n",
    "utcmoment_naive = datetime.utcnow()\n",
    "print(utcmoment_naive)\n",
    "\n",
    "print(utcmoment_naive.tzinfo)\n",
    "utcmoment = utcmoment_naive.replace(tzinfo=pytz.utc)\n",
    "print(\"Current Utc Time :\", utcmoment)\n",
    "print(\"##############################################\")\n",
    "moment_india = datetime.now()\n",
    "tzinfo_india = timezone('Asia/Kathmandu')\n",
    "moment_india = moment_india.replace(tzinfo = tzinfo_india)\n",
    "print(\"Current India Time\", moment_india)\n",
    "print(\"##############################################\")\n",
    "i =0\n",
    "import random\n",
    "all_timezone_names = list(all_timezones)\n",
    "random.shuffle(all_timezone_names)\n",
    "print(type(all_timezones_list))\n",
    "#print(list(all_timezones))moment_india\n",
    "for timezonename in list(all_timezone_names):\n",
    "    if(i>50):\n",
    "        break\n",
    "    print(\"timezone name: {} - current time in that time zone - {}\".format(timezonename,moment_india.astimezone(pytz.timezone(timezonename))))\n",
    "    i+=1"
   ]
  },
  {
   "cell_type": "code",
   "execution_count": null,
   "metadata": {},
   "outputs": [],
   "source": [
    "#### 'TimeZones Starting with 'B'"
   ]
  },
  {
   "cell_type": "code",
   "execution_count": 20,
   "metadata": {},
   "outputs": [
    {
     "name": "stdout",
     "output_type": "stream",
     "text": [
      "2022-04-10 20:48:32.096802\n",
      "None\n",
      "2022-04-10 15:18:32.096802\n",
      "None\n",
      "UTC\n",
      "Current Utc Time : 2022-04-10 15:18:32.096802+00:00\n",
      "timezone name: America/Belem - current time in that time zone - 2022-04-10 12:18:32.096802-03:00\n",
      "timezone name: Africa/Tripoli - current time in that time zone - 2022-04-10 17:18:32.096802+02:00\n",
      "timezone name: America/Jujuy - current time in that time zone - 2022-04-10 12:18:32.096802-03:00\n",
      "timezone name: Africa/Tunis - current time in that time zone - 2022-04-10 16:18:32.096802+01:00\n",
      "timezone name: America/Atka - current time in that time zone - 2022-04-10 06:18:32.096802-09:00\n",
      "timezone name: America/Anchorage - current time in that time zone - 2022-04-10 07:18:32.096802-08:00\n",
      "timezone name: Africa/Addis_Ababa - current time in that time zone - 2022-04-10 18:18:32.096802+03:00\n",
      "timezone name: Asia/Irkutsk - current time in that time zone - 2022-04-10 23:18:32.096802+08:00\n",
      "timezone name: Australia/Victoria - current time in that time zone - 2022-04-11 01:18:32.096802+10:00\n",
      "timezone name: America/Argentina/Salta - current time in that time zone - 2022-04-10 12:18:32.096802-03:00\n",
      "timezone name: America/Caracas - current time in that time zone - 2022-04-10 11:18:32.096802-04:00\n",
      "timezone name: America/Indiana/Indianapolis - current time in that time zone - 2022-04-10 11:18:32.096802-04:00\n",
      "timezone name: Africa/Luanda - current time in that time zone - 2022-04-10 16:18:32.096802+01:00\n",
      "timezone name: America/Kralendijk - current time in that time zone - 2022-04-10 11:18:32.096802-04:00\n",
      "timezone name: America/Pangnirtung - current time in that time zone - 2022-04-10 11:18:32.096802-04:00\n",
      "timezone name: Africa/Banjul - current time in that time zone - 2022-04-10 15:18:32.096802+00:00\n",
      "timezone name: Asia/Shanghai - current time in that time zone - 2022-04-10 23:18:32.096802+08:00\n",
      "timezone name: Asia/Beirut - current time in that time zone - 2022-04-10 18:18:32.096802+03:00\n",
      "timezone name: America/Dominica - current time in that time zone - 2022-04-10 11:18:32.096802-04:00\n",
      "timezone name: Antarctica/Syowa - current time in that time zone - 2022-04-10 18:18:32.096802+03:00\n",
      "timezone name: America/Rio_Branco - current time in that time zone - 2022-04-10 10:18:32.096802-05:00\n",
      "timezone name: Asia/Yakutsk - current time in that time zone - 2022-04-11 00:18:32.096802+09:00\n",
      "timezone name: America/Paramaribo - current time in that time zone - 2022-04-10 12:18:32.096802-03:00\n",
      "timezone name: America/Argentina/Catamarca - current time in that time zone - 2022-04-10 12:18:32.096802-03:00\n",
      "timezone name: Atlantic/Azores - current time in that time zone - 2022-04-10 15:18:32.096802+00:00\n",
      "timezone name: Asia/Anadyr - current time in that time zone - 2022-04-11 03:18:32.096802+12:00\n",
      "timezone name: America/Fort_Wayne - current time in that time zone - 2022-04-10 11:18:32.096802-04:00\n",
      "timezone name: Asia/Tomsk - current time in that time zone - 2022-04-10 22:18:32.096802+07:00\n",
      "timezone name: America/Indianapolis - current time in that time zone - 2022-04-10 11:18:32.096802-04:00\n",
      "timezone name: Asia/Istanbul - current time in that time zone - 2022-04-10 18:18:32.096802+03:00\n",
      "timezone name: Africa/Lome - current time in that time zone - 2022-04-10 15:18:32.096802+00:00\n",
      "timezone name: America/Dawson - current time in that time zone - 2022-04-10 08:18:32.096802-07:00\n",
      "timezone name: America/Indiana/Marengo - current time in that time zone - 2022-04-10 11:18:32.096802-04:00\n",
      "timezone name: America/Mexico_City - current time in that time zone - 2022-04-10 10:18:32.096802-05:00\n",
      "timezone name: Asia/Atyrau - current time in that time zone - 2022-04-10 20:18:32.096802+05:00\n",
      "timezone name: America/Araguaina - current time in that time zone - 2022-04-10 12:18:32.096802-03:00\n",
      "timezone name: Asia/Baghdad - current time in that time zone - 2022-04-10 18:18:32.096802+03:00\n",
      "timezone name: America/Rainy_River - current time in that time zone - 2022-04-10 10:18:32.096802-05:00\n",
      "timezone name: Africa/Khartoum - current time in that time zone - 2022-04-10 17:18:32.096802+02:00\n",
      "timezone name: Asia/Almaty - current time in that time zone - 2022-04-10 21:18:32.096802+06:00\n",
      "timezone name: Asia/Manila - current time in that time zone - 2022-04-10 23:18:32.096802+08:00\n",
      "timezone name: Australia/Yancowinna - current time in that time zone - 2022-04-11 00:48:32.096802+09:30\n",
      "timezone name: Antarctica/Rothera - current time in that time zone - 2022-04-10 12:18:32.096802-03:00\n",
      "timezone name: Atlantic/Faeroe - current time in that time zone - 2022-04-10 16:18:32.096802+01:00\n",
      "timezone name: America/Grand_Turk - current time in that time zone - 2022-04-10 11:18:32.096802-04:00\n",
      "timezone name: America/Aruba - current time in that time zone - 2022-04-10 11:18:32.096802-04:00\n",
      "timezone name: America/Winnipeg - current time in that time zone - 2022-04-10 10:18:32.096802-05:00\n",
      "timezone name: Africa/El_Aaiun - current time in that time zone - 2022-04-10 15:18:32.096802+00:00\n",
      "timezone name: Africa/Maseru - current time in that time zone - 2022-04-10 17:18:32.096802+02:00\n",
      "timezone name: America/Bahia_Banderas - current time in that time zone - 2022-04-10 10:18:32.096802-05:00\n",
      "timezone name: America/Danmarkshavn - current time in that time zone - 2022-04-10 15:18:32.096802+00:00\n",
      "timezone name: Asia/Vladivostok - current time in that time zone - 2022-04-11 01:18:32.096802+10:00\n",
      "timezone name: Australia/Hobart - current time in that time zone - 2022-04-11 01:18:32.096802+10:00\n",
      "timezone name: America/Managua - current time in that time zone - 2022-04-10 09:18:32.096802-06:00\n",
      "timezone name: America/Menominee - current time in that time zone - 2022-04-10 10:18:32.096802-05:00\n",
      "timezone name: Africa/Maputo - current time in that time zone - 2022-04-10 17:18:32.096802+02:00\n",
      "timezone name: Asia/Ujung_Pandang - current time in that time zone - 2022-04-10 23:18:32.096802+08:00\n",
      "timezone name: Africa/Kinshasa - current time in that time zone - 2022-04-10 16:18:32.096802+01:00\n",
      "timezone name: Australia/Broken_Hill - current time in that time zone - 2022-04-11 00:48:32.096802+09:30\n",
      "timezone name: Australia/South - current time in that time zone - 2022-04-11 00:48:32.096802+09:30\n",
      "timezone name: Asia/Magadan - current time in that time zone - 2022-04-11 02:18:32.096802+11:00\n",
      "timezone name: Asia/Taipei - current time in that time zone - 2022-04-10 23:18:32.096802+08:00\n",
      "timezone name: America/Creston - current time in that time zone - 2022-04-10 08:18:32.096802-07:00\n",
      "timezone name: Africa/Mogadishu - current time in that time zone - 2022-04-10 18:18:32.096802+03:00\n",
      "timezone name: Asia/Rangoon - current time in that time zone - 2022-04-10 21:48:32.096802+06:30\n",
      "timezone name: America/Chicago - current time in that time zone - 2022-04-10 10:18:32.096802-05:00\n",
      "timezone name: Africa/Sao_Tome - current time in that time zone - 2022-04-10 15:18:32.096802+00:00\n",
      "timezone name: Africa/Bujumbura - current time in that time zone - 2022-04-10 17:18:32.096802+02:00\n",
      "timezone name: Africa/Douala - current time in that time zone - 2022-04-10 16:18:32.096802+01:00\n",
      "timezone name: Asia/Hebron - current time in that time zone - 2022-04-10 18:18:32.096802+03:00\n",
      "timezone name: America/Matamoros - current time in that time zone - 2022-04-10 10:18:32.096802-05:00\n",
      "timezone name: Asia/Dubai - current time in that time zone - 2022-04-10 19:18:32.096802+04:00\n",
      "timezone name: Australia/North - current time in that time zone - 2022-04-11 00:48:32.096802+09:30\n",
      "timezone name: America/La_Paz - current time in that time zone - 2022-04-10 11:18:32.096802-04:00\n",
      "timezone name: America/Port-au-Prince - current time in that time zone - 2022-04-10 11:18:32.096802-04:00\n",
      "timezone name: America/Montevideo - current time in that time zone - 2022-04-10 12:18:32.096802-03:00\n",
      "timezone name: Asia/Thimphu - current time in that time zone - 2022-04-10 21:18:32.096802+06:00\n",
      "timezone name: Africa/Juba - current time in that time zone - 2022-04-10 18:18:32.096802+03:00\n",
      "timezone name: Africa/Algiers - current time in that time zone - 2022-04-10 16:18:32.096802+01:00\n",
      "timezone name: America/Dawson_Creek - current time in that time zone - 2022-04-10 08:18:32.096802-07:00\n",
      "timezone name: Asia/Kuala_Lumpur - current time in that time zone - 2022-04-10 23:18:32.096802+08:00\n",
      "timezone name: Asia/Aden - current time in that time zone - 2022-04-10 18:18:32.096802+03:00\n",
      "timezone name: America/Thunder_Bay - current time in that time zone - 2022-04-10 11:18:32.096802-04:00\n",
      "timezone name: America/Adak - current time in that time zone - 2022-04-10 06:18:32.096802-09:00\n",
      "timezone name: America/Recife - current time in that time zone - 2022-04-10 12:18:32.096802-03:00\n",
      "timezone name: America/Nuuk - current time in that time zone - 2022-04-10 13:18:32.096802-02:00\n",
      "timezone name: America/Kentucky/Louisville - current time in that time zone - 2022-04-10 11:18:32.096802-04:00\n",
      "timezone name: America/Tegucigalpa - current time in that time zone - 2022-04-10 09:18:32.096802-06:00\n",
      "timezone name: America/Godthab - current time in that time zone - 2022-04-10 13:18:32.096802-02:00\n",
      "timezone name: America/Hermosillo - current time in that time zone - 2022-04-10 08:18:32.096802-07:00\n",
      "timezone name: Antarctica/Casey - current time in that time zone - 2022-04-11 02:18:32.096802+11:00\n",
      "timezone name: America/Jamaica - current time in that time zone - 2022-04-10 10:18:32.096802-05:00\n",
      "timezone name: Asia/Qostanay - current time in that time zone - 2022-04-10 21:18:32.096802+06:00\n",
      "timezone name: Asia/Kashgar - current time in that time zone - 2022-04-10 21:18:32.096802+06:00\n",
      "timezone name: Atlantic/Cape_Verde - current time in that time zone - 2022-04-10 14:18:32.096802-01:00\n",
      "timezone name: America/Belize - current time in that time zone - 2022-04-10 09:18:32.096802-06:00\n",
      "timezone name: Asia/Makassar - current time in that time zone - 2022-04-10 23:18:32.096802+08:00\n",
      "timezone name: America/Argentina/Mendoza - current time in that time zone - 2022-04-10 12:18:32.096802-03:00\n",
      "timezone name: Antarctica/DumontDUrville - current time in that time zone - 2022-04-11 01:18:32.096802+10:00\n",
      "timezone name: Asia/Harbin - current time in that time zone - 2022-04-10 23:18:32.096802+08:00\n",
      "timezone name: Africa/Timbuktu - current time in that time zone - 2022-04-10 15:18:32.096802+00:00\n",
      "timezone name: Asia/Damascus - current time in that time zone - 2022-04-10 18:18:32.096802+03:00\n",
      "timezone name: Asia/Krasnoyarsk - current time in that time zone - 2022-04-10 22:18:32.096802+07:00\n",
      "timezone name: Asia/Thimbu - current time in that time zone - 2022-04-10 21:18:32.096802+06:00\n",
      "timezone name: America/Cancun - current time in that time zone - 2022-04-10 10:18:32.096802-05:00\n",
      "timezone name: America/Argentina/San_Luis - current time in that time zone - 2022-04-10 12:18:32.096802-03:00\n",
      "timezone name: America/Resolute - current time in that time zone - 2022-04-10 10:18:32.096802-05:00\n",
      "timezone name: America/Lima - current time in that time zone - 2022-04-10 10:18:32.096802-05:00\n",
      "timezone name: Africa/Dakar - current time in that time zone - 2022-04-10 15:18:32.096802+00:00\n",
      "timezone name: Africa/Cairo - current time in that time zone - 2022-04-10 17:18:32.096802+02:00\n",
      "timezone name: Asia/Barnaul - current time in that time zone - 2022-04-10 22:18:32.096802+07:00\n",
      "timezone name: America/Indiana/Tell_City - current time in that time zone - 2022-04-10 10:18:32.096802-05:00\n",
      "timezone name: Africa/Gaborone - current time in that time zone - 2022-04-10 17:18:32.096802+02:00\n",
      "timezone name: America/Montserrat - current time in that time zone - 2022-04-10 11:18:32.096802-04:00\n",
      "timezone name: America/Regina - current time in that time zone - 2022-04-10 09:18:32.096802-06:00\n",
      "timezone name: America/Martinique - current time in that time zone - 2022-04-10 11:18:32.096802-04:00\n",
      "timezone name: Asia/Hong_Kong - current time in that time zone - 2022-04-10 23:18:32.096802+08:00\n",
      "timezone name: America/Lower_Princes - current time in that time zone - 2022-04-10 11:18:32.096802-04:00\n",
      "timezone name: Asia/Choibalsan - current time in that time zone - 2022-04-10 23:18:32.096802+08:00\n",
      "timezone name: America/Cuiaba - current time in that time zone - 2022-04-10 11:18:32.096802-04:00\n",
      "timezone name: Asia/Yangon - current time in that time zone - 2022-04-10 21:48:32.096802+06:30\n",
      "timezone name: Australia/West - current time in that time zone - 2022-04-10 23:18:32.096802+08:00\n",
      "timezone name: Atlantic/Stanley - current time in that time zone - 2022-04-10 12:18:32.096802-03:00\n",
      "timezone name: America/Inuvik - current time in that time zone - 2022-04-10 09:18:32.096802-06:00\n",
      "timezone name: America/Indiana/Knox - current time in that time zone - 2022-04-10 10:18:32.096802-05:00\n",
      "timezone name: Asia/Hovd - current time in that time zone - 2022-04-10 22:18:32.096802+07:00\n",
      "timezone name: Asia/Gaza - current time in that time zone - 2022-04-10 18:18:32.096802+03:00\n",
      "timezone name: America/St_Vincent - current time in that time zone - 2022-04-10 11:18:32.096802-04:00\n",
      "timezone name: America/Indiana/Winamac - current time in that time zone - 2022-04-10 11:18:32.096802-04:00\n",
      "timezone name: Africa/Casablanca - current time in that time zone - 2022-04-10 15:18:32.096802+00:00\n",
      "timezone name: Atlantic/Reykjavik - current time in that time zone - 2022-04-10 15:18:32.096802+00:00\n",
      "timezone name: America/St_Thomas - current time in that time zone - 2022-04-10 11:18:32.096802-04:00\n",
      "timezone name: Africa/Abidjan - current time in that time zone - 2022-04-10 15:18:32.096802+00:00\n",
      "timezone name: America/Toronto - current time in that time zone - 2022-04-10 11:18:32.096802-04:00\n",
      "timezone name: Asia/Jayapura - current time in that time zone - 2022-04-11 00:18:32.096802+09:00\n",
      "timezone name: Asia/Bahrain - current time in that time zone - 2022-04-10 18:18:32.096802+03:00\n",
      "timezone name: America/Halifax - current time in that time zone - 2022-04-10 12:18:32.096802-03:00\n",
      "timezone name: America/Los_Angeles - current time in that time zone - 2022-04-10 08:18:32.096802-07:00\n",
      "timezone name: Africa/Freetown - current time in that time zone - 2022-04-10 15:18:32.096802+00:00\n",
      "timezone name: Atlantic/Jan_Mayen - current time in that time zone - 2022-04-10 17:18:32.096802+02:00\n",
      "timezone name: America/Vancouver - current time in that time zone - 2022-04-10 08:18:32.096802-07:00\n",
      "timezone name: Australia/Tasmania - current time in that time zone - 2022-04-11 01:18:32.096802+10:00\n",
      "timezone name: Antarctica/Mawson - current time in that time zone - 2022-04-10 20:18:32.096802+05:00\n",
      "timezone name: America/Boise - current time in that time zone - 2022-04-10 09:18:32.096802-06:00\n",
      "timezone name: America/Argentina/Jujuy - current time in that time zone - 2022-04-10 12:18:32.096802-03:00\n",
      "timezone name: Africa/Nairobi - current time in that time zone - 2022-04-10 18:18:32.096802+03:00\n",
      "timezone name: America/Buenos_Aires - current time in that time zone - 2022-04-10 12:18:32.096802-03:00\n",
      "timezone name: America/Guayaquil - current time in that time zone - 2022-04-10 10:18:32.096802-05:00\n",
      "timezone name: America/Argentina/Tucuman - current time in that time zone - 2022-04-10 12:18:32.096802-03:00\n",
      "timezone name: Antarctica/Macquarie - current time in that time zone - 2022-04-11 01:18:32.096802+10:00\n",
      "timezone name: Africa/Kampala - current time in that time zone - 2022-04-10 18:18:32.096802+03:00\n",
      "timezone name: America/Ojinaga - current time in that time zone - 2022-04-10 09:18:32.096802-06:00\n",
      "timezone name: America/Rankin_Inlet - current time in that time zone - 2022-04-10 10:18:32.096802-05:00\n",
      "timezone name: America/Maceio - current time in that time zone - 2022-04-10 12:18:32.096802-03:00\n",
      "timezone name: Asia/Chita - current time in that time zone - 2022-04-11 00:18:32.096802+09:00\n",
      "timezone name: Atlantic/St_Helena - current time in that time zone - 2022-04-10 15:18:32.096802+00:00\n",
      "timezone name: America/Costa_Rica - current time in that time zone - 2022-04-10 09:18:32.096802-06:00\n",
      "timezone name: America/Santa_Isabel - current time in that time zone - 2022-04-10 08:18:32.096802-07:00\n",
      "timezone name: America/Noronha - current time in that time zone - 2022-04-10 13:18:32.096802-02:00\n",
      "timezone name: Asia/Bishkek - current time in that time zone - 2022-04-10 21:18:32.096802+06:00\n",
      "timezone name: America/Cambridge_Bay - current time in that time zone - 2022-04-10 09:18:32.096802-06:00\n",
      "timezone name: America/Louisville - current time in that time zone - 2022-04-10 11:18:32.096802-04:00\n",
      "timezone name: Australia/Perth - current time in that time zone - 2022-04-10 23:18:32.096802+08:00\n",
      "timezone name: Africa/Harare - current time in that time zone - 2022-04-10 17:18:32.096802+02:00\n",
      "timezone name: Asia/Tehran - current time in that time zone - 2022-04-10 19:48:32.096802+04:30\n",
      "timezone name: Africa/Blantyre - current time in that time zone - 2022-04-10 17:18:32.096802+02:00\n",
      "timezone name: America/Chihuahua - current time in that time zone - 2022-04-10 09:18:32.096802-06:00\n",
      "timezone name: Atlantic/South_Georgia - current time in that time zone - 2022-04-10 13:18:32.096802-02:00\n",
      "timezone name: America/Marigot - current time in that time zone - 2022-04-10 11:18:32.096802-04:00\n",
      "timezone name: America/Indiana/Petersburg - current time in that time zone - 2022-04-10 11:18:32.096802-04:00\n",
      "timezone name: Asia/Ulan_Bator - current time in that time zone - 2022-04-10 23:18:32.096802+08:00\n",
      "timezone name: Asia/Colombo - current time in that time zone - 2022-04-10 20:48:32.096802+05:30\n",
      "timezone name: America/Manaus - current time in that time zone - 2022-04-10 11:18:32.096802-04:00\n",
      "timezone name: Australia/Brisbane - current time in that time zone - 2022-04-11 01:18:32.096802+10:00\n",
      "timezone name: America/Santarem - current time in that time zone - 2022-04-10 12:18:32.096802-03:00\n",
      "timezone name: Asia/Famagusta - current time in that time zone - 2022-04-10 18:18:32.096802+03:00\n",
      "timezone name: Africa/Ndjamena - current time in that time zone - 2022-04-10 16:18:32.096802+01:00\n",
      "timezone name: Australia/Lord_Howe - current time in that time zone - 2022-04-11 01:48:32.096802+10:30\n",
      "timezone name: Africa/Ouagadougou - current time in that time zone - 2022-04-10 15:18:32.096802+00:00\n",
      "timezone name: Asia/Kuwait - current time in that time zone - 2022-04-10 18:18:32.096802+03:00\n",
      "timezone name: America/Nassau - current time in that time zone - 2022-04-10 11:18:32.096802-04:00\n",
      "timezone name: Asia/Tbilisi - current time in that time zone - 2022-04-10 19:18:32.096802+04:00\n",
      "timezone name: America/Swift_Current - current time in that time zone - 2022-04-10 09:18:32.096802-06:00\n",
      "timezone name: America/Shiprock - current time in that time zone - 2022-04-10 09:18:32.096802-06:00\n",
      "timezone name: America/Scoresbysund - current time in that time zone - 2022-04-10 15:18:32.096802+00:00\n",
      "timezone name: America/Argentina/Ushuaia - current time in that time zone - 2022-04-10 12:18:32.096802-03:00\n",
      "timezone name: America/Mazatlan - current time in that time zone - 2022-04-10 09:18:32.096802-06:00\n",
      "timezone name: Asia/Aqtobe - current time in that time zone - 2022-04-10 20:18:32.096802+05:00\n",
      "timezone name: Asia/Chongqing - current time in that time zone - 2022-04-10 23:18:32.096802+08:00\n",
      "timezone name: Asia/Kabul - current time in that time zone - 2022-04-10 19:48:32.096802+04:30\n",
      "timezone name: America/Nipigon - current time in that time zone - 2022-04-10 11:18:32.096802-04:00\n",
      "timezone name: Australia/Darwin - current time in that time zone - 2022-04-11 00:48:32.096802+09:30\n",
      "timezone name: Asia/Riyadh - current time in that time zone - 2022-04-10 18:18:32.096802+03:00\n",
      "timezone name: Australia/Sydney - current time in that time zone - 2022-04-11 01:18:32.096802+10:00\n",
      "timezone name: America/Porto_Acre - current time in that time zone - 2022-04-10 10:18:32.096802-05:00\n",
      "timezone name: America/Guadeloupe - current time in that time zone - 2022-04-10 11:18:32.096802-04:00\n",
      "timezone name: America/Havana - current time in that time zone - 2022-04-10 11:18:32.096802-04:00\n",
      "timezone name: America/Iqaluit - current time in that time zone - 2022-04-10 11:18:32.096802-04:00\n",
      "timezone name: America/Miquelon - current time in that time zone - 2022-04-10 13:18:32.096802-02:00\n",
      "timezone name: Asia/Macau - current time in that time zone - 2022-04-10 23:18:32.096802+08:00\n",
      "timezone name: Asia/Novosibirsk - current time in that time zone - 2022-04-10 22:18:32.096802+07:00\n",
      "timezone name: America/Tijuana - current time in that time zone - 2022-04-10 08:18:32.096802-07:00\n",
      "timezone name: America/Yakutat - current time in that time zone - 2022-04-10 07:18:32.096802-08:00\n",
      "timezone name: Asia/Dushanbe - current time in that time zone - 2022-04-10 20:18:32.096802+05:00\n",
      "timezone name: America/Merida - current time in that time zone - 2022-04-10 10:18:32.096802-05:00\n",
      "timezone name: Asia/Ashkhabad - current time in that time zone - 2022-04-10 20:18:32.096802+05:00\n",
      "timezone name: America/Puerto_Rico - current time in that time zone - 2022-04-10 11:18:32.096802-04:00\n",
      "timezone name: America/Tortola - current time in that time zone - 2022-04-10 11:18:32.096802-04:00\n",
      "timezone name: Africa/Bangui - current time in that time zone - 2022-04-10 16:18:32.096802+01:00\n",
      "timezone name: Australia/Melbourne - current time in that time zone - 2022-04-11 01:18:32.096802+10:00\n",
      "timezone name: America/Barbados - current time in that time zone - 2022-04-10 11:18:32.096802-04:00\n",
      "timezone name: Africa/Ceuta - current time in that time zone - 2022-04-10 17:18:32.096802+02:00\n",
      "timezone name: Africa/Bissau - current time in that time zone - 2022-04-10 15:18:32.096802+00:00\n",
      "timezone name: America/Port_of_Spain - current time in that time zone - 2022-04-10 11:18:32.096802-04:00\n",
      "timezone name: Australia/Adelaide - current time in that time zone - 2022-04-11 00:48:32.096802+09:30\n",
      "timezone name: Australia/Queensland - current time in that time zone - 2022-04-11 01:18:32.096802+10:00\n",
      "timezone name: America/New_York - current time in that time zone - 2022-04-10 11:18:32.096802-04:00\n",
      "timezone name: Asia/Pontianak - current time in that time zone - 2022-04-10 22:18:32.096802+07:00\n",
      "timezone name: America/St_Kitts - current time in that time zone - 2022-04-10 11:18:32.096802-04:00\n",
      "timezone name: Africa/Djibouti - current time in that time zone - 2022-04-10 18:18:32.096802+03:00\n",
      "timezone name: Asia/Ho_Chi_Minh - current time in that time zone - 2022-04-10 22:18:32.096802+07:00\n",
      "timezone name: Asia/Dili - current time in that time zone - 2022-04-11 00:18:32.096802+09:00\n",
      "timezone name: Asia/Qyzylorda - current time in that time zone - 2022-04-10 20:18:32.096802+05:00\n",
      "timezone name: America/Nome - current time in that time zone - 2022-04-10 07:18:32.096802-08:00\n",
      "timezone name: Antarctica/McMurdo - current time in that time zone - 2022-04-11 03:18:32.096802+12:00\n",
      "timezone name: Asia/Chungking - current time in that time zone - 2022-04-10 23:18:32.096802+08:00\n",
      "timezone name: Atlantic/Faroe - current time in that time zone - 2022-04-10 16:18:32.096802+01:00\n",
      "timezone name: Africa/Libreville - current time in that time zone - 2022-04-10 16:18:32.096802+01:00\n",
      "timezone name: America/Edmonton - current time in that time zone - 2022-04-10 09:18:32.096802-06:00\n",
      "timezone name: America/Glace_Bay - current time in that time zone - 2022-04-10 12:18:32.096802-03:00\n",
      "timezone name: Atlantic/Bermuda - current time in that time zone - 2022-04-10 12:18:32.096802-03:00\n",
      "timezone name: America/Cayenne - current time in that time zone - 2022-04-10 12:18:32.096802-03:00\n",
      "timezone name: America/Kentucky/Monticello - current time in that time zone - 2022-04-10 11:18:32.096802-04:00\n",
      "timezone name: Asia/Srednekolymsk - current time in that time zone - 2022-04-11 02:18:32.096802+11:00\n",
      "timezone name: America/Cordoba - current time in that time zone - 2022-04-10 12:18:32.096802-03:00\n",
      "timezone name: Africa/Johannesburg - current time in that time zone - 2022-04-10 17:18:32.096802+02:00\n",
      "timezone name: America/Rosario - current time in that time zone - 2022-04-10 12:18:32.096802-03:00\n",
      "timezone name: America/Juneau - current time in that time zone - 2022-04-10 07:18:32.096802-08:00\n",
      "timezone name: America/Mendoza - current time in that time zone - 2022-04-10 12:18:32.096802-03:00\n",
      "timezone name: America/Punta_Arenas - current time in that time zone - 2022-04-10 12:18:32.096802-03:00\n",
      "timezone name: America/Anguilla - current time in that time zone - 2022-04-10 11:18:32.096802-04:00\n",
      "timezone name: Asia/Jerusalem - current time in that time zone - 2022-04-10 18:18:32.096802+03:00\n",
      "timezone name: America/Curacao - current time in that time zone - 2022-04-10 11:18:32.096802-04:00\n",
      "timezone name: Asia/Bangkok - current time in that time zone - 2022-04-10 22:18:32.096802+07:00\n",
      "timezone name: America/Moncton - current time in that time zone - 2022-04-10 12:18:32.096802-03:00\n",
      "timezone name: America/Argentina/Buenos_Aires - current time in that time zone - 2022-04-10 12:18:32.096802-03:00\n",
      "timezone name: Asia/Kamchatka - current time in that time zone - 2022-04-11 03:18:32.096802+12:00\n",
      "timezone name: America/Metlakatla - current time in that time zone - 2022-04-10 07:18:32.096802-08:00\n",
      "timezone name: Africa/Malabo - current time in that time zone - 2022-04-10 16:18:32.096802+01:00\n",
      "timezone name: Africa/Lubumbashi - current time in that time zone - 2022-04-10 17:18:32.096802+02:00\n",
      "timezone name: Asia/Tokyo - current time in that time zone - 2022-04-11 00:18:32.096802+09:00\n",
      "timezone name: America/Porto_Velho - current time in that time zone - 2022-04-10 11:18:32.096802-04:00\n",
      "timezone name: Asia/Macao - current time in that time zone - 2022-04-10 23:18:32.096802+08:00\n",
      "timezone name: Asia/Omsk - current time in that time zone - 2022-04-10 21:18:32.096802+06:00\n",
      "timezone name: Asia/Jakarta - current time in that time zone - 2022-04-10 22:18:32.096802+07:00\n",
      "timezone name: Atlantic/Madeira - current time in that time zone - 2022-04-10 16:18:32.096802+01:00\n",
      "timezone name: Asia/Ulaanbaatar - current time in that time zone - 2022-04-10 23:18:32.096802+08:00\n",
      "timezone name: America/El_Salvador - current time in that time zone - 2022-04-10 09:18:32.096802-06:00\n",
      "timezone name: Africa/Mbabane - current time in that time zone - 2022-04-10 17:18:32.096802+02:00\n",
      "timezone name: Asia/Katmandu - current time in that time zone - 2022-04-10 21:03:32.096802+05:45\n",
      "timezone name: Asia/Vientiane - current time in that time zone - 2022-04-10 22:18:32.096802+07:00\n",
      "timezone name: Africa/Nouakchott - current time in that time zone - 2022-04-10 15:18:32.096802+00:00\n",
      "timezone name: Atlantic/Canary - current time in that time zone - 2022-04-10 16:18:32.096802+01:00\n",
      "timezone name: Asia/Tel_Aviv - current time in that time zone - 2022-04-10 18:18:32.096802+03:00\n",
      "timezone name: America/Phoenix - current time in that time zone - 2022-04-10 08:18:32.096802-07:00\n",
      "timezone name: Antarctica/Troll - current time in that time zone - 2022-04-10 17:18:32.096802+02:00\n",
      "timezone name: Africa/Monrovia - current time in that time zone - 2022-04-10 15:18:32.096802+00:00\n",
      "timezone name: Asia/Kathmandu - current time in that time zone - 2022-04-10 21:03:32.096802+05:45\n",
      "timezone name: Arctic/Longyearbyen - current time in that time zone - 2022-04-10 17:18:32.096802+02:00\n",
      "timezone name: America/Whitehorse - current time in that time zone - 2022-04-10 08:18:32.096802-07:00\n",
      "timezone name: Africa/Windhoek - current time in that time zone - 2022-04-10 17:18:32.096802+02:00\n",
      "timezone name: Antarctica/Palmer - current time in that time zone - 2022-04-10 12:18:32.096802-03:00\n",
      "timezone name: Asia/Muscat - current time in that time zone - 2022-04-10 19:18:32.096802+04:00\n",
      "timezone name: Africa/Porto-Novo - current time in that time zone - 2022-04-10 16:18:32.096802+01:00\n",
      "timezone name: Africa/Lusaka - current time in that time zone - 2022-04-10 17:18:32.096802+02:00\n",
      "timezone name: America/Monterrey - current time in that time zone - 2022-04-10 10:18:32.096802-05:00\n",
      "timezone name: America/Montreal - current time in that time zone - 2022-04-10 11:18:32.096802-04:00\n",
      "timezone name: Africa/Brazzaville - current time in that time zone - 2022-04-10 16:18:32.096802+01:00\n",
      "timezone name: Africa/Niamey - current time in that time zone - 2022-04-10 16:18:32.096802+01:00\n",
      "timezone name: America/Asuncion - current time in that time zone - 2022-04-10 11:18:32.096802-04:00\n",
      "timezone name: America/Argentina/San_Juan - current time in that time zone - 2022-04-10 12:18:32.096802-03:00\n",
      "timezone name: America/Grenada - current time in that time zone - 2022-04-10 11:18:32.096802-04:00\n",
      "timezone name: Australia/Lindeman - current time in that time zone - 2022-04-11 01:18:32.096802+10:00\n",
      "timezone name: Australia/Eucla - current time in that time zone - 2022-04-11 00:03:32.096802+08:45\n",
      "timezone name: America/Sitka - current time in that time zone - 2022-04-10 07:18:32.096802-08:00\n",
      "timezone name: America/Virgin - current time in that time zone - 2022-04-10 11:18:32.096802-04:00\n",
      "timezone name: Antarctica/Vostok - current time in that time zone - 2022-04-10 21:18:32.096802+06:00\n",
      "timezone name: Asia/Aqtau - current time in that time zone - 2022-04-10 20:18:32.096802+05:00\n",
      "timezone name: Asia/Yekaterinburg - current time in that time zone - 2022-04-10 20:18:32.096802+05:00\n",
      "timezone name: Africa/Asmara - current time in that time zone - 2022-04-10 18:18:32.096802+03:00\n",
      "timezone name: America/North_Dakota/Center - current time in that time zone - 2022-04-10 10:18:32.096802-05:00\n",
      "timezone name: America/Fortaleza - current time in that time zone - 2022-04-10 12:18:32.096802-03:00\n",
      "timezone name: America/Argentina/Cordoba - current time in that time zone - 2022-04-10 12:18:32.096802-03:00\n",
      "timezone name: Africa/Conakry - current time in that time zone - 2022-04-10 15:18:32.096802+00:00\n",
      "timezone name: America/Bogota - current time in that time zone - 2022-04-10 10:18:32.096802-05:00\n",
      "timezone name: Asia/Pyongyang - current time in that time zone - 2022-04-11 00:18:32.096802+09:00\n",
      "timezone name: Asia/Baku - current time in that time zone - 2022-04-10 19:18:32.096802+04:00\n",
      "timezone name: Asia/Singapore - current time in that time zone - 2022-04-10 23:18:32.096802+08:00\n",
      "timezone name: Asia/Urumqi - current time in that time zone - 2022-04-10 21:18:32.096802+06:00\n",
      "timezone name: Asia/Saigon - current time in that time zone - 2022-04-10 22:18:32.096802+07:00\n",
      "timezone name: Asia/Seoul - current time in that time zone - 2022-04-11 00:18:32.096802+09:00\n",
      "timezone name: America/North_Dakota/New_Salem - current time in that time zone - 2022-04-10 10:18:32.096802-05:00\n",
      "timezone name: America/Atikokan - current time in that time zone - 2022-04-10 10:18:32.096802-05:00\n",
      "timezone name: America/Goose_Bay - current time in that time zone - 2022-04-10 12:18:32.096802-03:00\n",
      "timezone name: America/Panama - current time in that time zone - 2022-04-10 10:18:32.096802-05:00\n",
      "timezone name: Asia/Karachi - current time in that time zone - 2022-04-10 20:18:32.096802+05:00\n",
      "timezone name: Australia/ACT - current time in that time zone - 2022-04-11 01:18:32.096802+10:00\n",
      "timezone name: Asia/Amman - current time in that time zone - 2022-04-10 18:18:32.096802+03:00\n",
      "timezone name: America/Santiago - current time in that time zone - 2022-04-10 11:18:32.096802-04:00\n",
      "timezone name: America/Yellowknife - current time in that time zone - 2022-04-10 09:18:32.096802-06:00\n",
      "timezone name: America/Blanc-Sablon - current time in that time zone - 2022-04-10 11:18:32.096802-04:00\n",
      "timezone name: Africa/Asmera - current time in that time zone - 2022-04-10 18:18:32.096802+03:00\n",
      "timezone name: Australia/LHI - current time in that time zone - 2022-04-11 01:48:32.096802+10:30\n",
      "timezone name: Australia/Canberra - current time in that time zone - 2022-04-11 01:18:32.096802+10:00\n",
      "timezone name: Asia/Novokuznetsk - current time in that time zone - 2022-04-10 22:18:32.096802+07:00\n",
      "timezone name: Asia/Sakhalin - current time in that time zone - 2022-04-11 02:18:32.096802+11:00\n",
      "timezone name: Asia/Yerevan - current time in that time zone - 2022-04-10 19:18:32.096802+04:00\n",
      "timezone name: Asia/Brunei - current time in that time zone - 2022-04-10 23:18:32.096802+08:00\n",
      "timezone name: America/North_Dakota/Beulah - current time in that time zone - 2022-04-10 10:18:32.096802-05:00\n",
      "timezone name: America/Argentina/ComodRivadavia - current time in that time zone - 2022-04-10 12:18:32.096802-03:00\n",
      "timezone name: America/Thule - current time in that time zone - 2022-04-10 12:18:32.096802-03:00\n",
      "timezone name: America/Argentina/La_Rioja - current time in that time zone - 2022-04-10 12:18:32.096802-03:00\n",
      "timezone name: Asia/Kuching - current time in that time zone - 2022-04-10 23:18:32.096802+08:00\n",
      "timezone name: America/Detroit - current time in that time zone - 2022-04-10 11:18:32.096802-04:00\n",
      "timezone name: America/Eirunepe - current time in that time zone - 2022-04-10 10:18:32.096802-05:00\n",
      "timezone name: America/Sao_Paulo - current time in that time zone - 2022-04-10 12:18:32.096802-03:00\n",
      "timezone name: America/Knox_IN - current time in that time zone - 2022-04-10 10:18:32.096802-05:00\n",
      "timezone name: America/St_Barthelemy - current time in that time zone - 2022-04-10 11:18:32.096802-04:00\n",
      "timezone name: Asia/Phnom_Penh - current time in that time zone - 2022-04-10 22:18:32.096802+07:00\n",
      "timezone name: Asia/Ust-Nera - current time in that time zone - 2022-04-11 01:18:32.096802+10:00\n",
      "timezone name: Australia/NSW - current time in that time zone - 2022-04-11 01:18:32.096802+10:00\n",
      "timezone name: America/Antigua - current time in that time zone - 2022-04-10 11:18:32.096802-04:00\n",
      "timezone name: Asia/Kolkata - current time in that time zone - 2022-04-10 20:48:32.096802+05:30\n",
      "timezone name: Africa/Dar_es_Salaam - current time in that time zone - 2022-04-10 18:18:32.096802+03:00\n",
      "timezone name: Antarctica/South_Pole - current time in that time zone - 2022-04-11 03:18:32.096802+12:00\n",
      "timezone name: America/Coral_Harbour - current time in that time zone - 2022-04-10 10:18:32.096802-05:00\n",
      "timezone name: Africa/Bamako - current time in that time zone - 2022-04-10 15:18:32.096802+00:00\n",
      "timezone name: Asia/Ashgabat - current time in that time zone - 2022-04-10 20:18:32.096802+05:00\n",
      "timezone name: America/Cayman - current time in that time zone - 2022-04-10 10:18:32.096802-05:00\n",
      "timezone name: Africa/Kigali - current time in that time zone - 2022-04-10 17:18:32.096802+02:00\n",
      "timezone name: Asia/Dhaka - current time in that time zone - 2022-04-10 21:18:32.096802+06:00\n",
      "timezone name: America/St_Lucia - current time in that time zone - 2022-04-10 11:18:32.096802-04:00\n",
      "timezone name: Asia/Samarkand - current time in that time zone - 2022-04-10 20:18:32.096802+05:00\n",
      "timezone name: America/Guatemala - current time in that time zone - 2022-04-10 09:18:32.096802-06:00\n",
      "timezone name: America/Campo_Grande - current time in that time zone - 2022-04-10 11:18:32.096802-04:00\n",
      "timezone name: America/Guyana - current time in that time zone - 2022-04-10 11:18:32.096802-04:00\n",
      "timezone name: America/Boa_Vista - current time in that time zone - 2022-04-10 11:18:32.096802-04:00\n",
      "timezone name: Asia/Oral - current time in that time zone - 2022-04-10 20:18:32.096802+05:00\n",
      "timezone name: America/Argentina/Rio_Gallegos - current time in that time zone - 2022-04-10 12:18:32.096802-03:00\n",
      "timezone name: Africa/Lagos - current time in that time zone - 2022-04-10 16:18:32.096802+01:00\n",
      "timezone name: America/Ensenada - current time in that time zone - 2022-04-10 08:18:32.096802-07:00\n",
      "timezone name: Asia/Nicosia - current time in that time zone - 2022-04-10 18:18:32.096802+03:00\n",
      "timezone name: America/Indiana/Vevay - current time in that time zone - 2022-04-10 11:18:32.096802-04:00\n",
      "timezone name: Africa/Accra - current time in that time zone - 2022-04-10 15:18:32.096802+00:00\n",
      "timezone name: America/Denver - current time in that time zone - 2022-04-10 09:18:32.096802-06:00\n",
      "timezone name: America/Fort_Nelson - current time in that time zone - 2022-04-10 08:18:32.096802-07:00\n",
      "timezone name: America/Indiana/Vincennes - current time in that time zone - 2022-04-10 11:18:32.096802-04:00\n",
      "timezone name: America/Santo_Domingo - current time in that time zone - 2022-04-10 11:18:32.096802-04:00\n",
      "timezone name: Australia/Currie - current time in that time zone - 2022-04-11 01:18:32.096802+10:00\n",
      "timezone name: America/Bahia - current time in that time zone - 2022-04-10 12:18:32.096802-03:00\n",
      "timezone name: America/St_Johns - current time in that time zone - 2022-04-10 12:48:32.096802-02:30\n",
      "timezone name: Asia/Dacca - current time in that time zone - 2022-04-10 21:18:32.096802+06:00\n",
      "timezone name: Asia/Tashkent - current time in that time zone - 2022-04-10 20:18:32.096802+05:00\n",
      "timezone name: Asia/Khandyga - current time in that time zone - 2022-04-11 00:18:32.096802+09:00\n",
      "timezone name: America/Catamarca - current time in that time zone - 2022-04-10 12:18:32.096802-03:00\n",
      "timezone name: Asia/Calcutta - current time in that time zone - 2022-04-10 20:48:32.096802+05:30\n",
      "timezone name: Asia/Qatar - current time in that time zone - 2022-04-10 18:18:32.096802+03:00\n",
      "timezone name: Antarctica/Davis - current time in that time zone - 2022-04-10 22:18:32.096802+07:00\n"
     ]
    }
   ],
   "source": [
    "from pytz import all_timezones\n",
    "utcmoment_naive = datetime.now()\n",
    "print(utcmoment_naive)\n",
    "print(utcmoment_naive.tzinfo)\n",
    "utcmoment = datetime.utcnow()\n",
    "print(utcmoment)\n",
    "print(utcmoment.tzinfo)\n",
    "utcmoment = utcmoment.replace(tzinfo=pytz.utc)\n",
    "print(utcmoment.tzinfo)\n",
    "print(\"Current Utc Time :\", utcmoment)\n",
    "for timezonename in list(all_timezones):\n",
    "    if(timezonename.startswith('A')):\n",
    "        print(\"timezone name: {} - current time in that time zone - {}\".format(timezonename,utcmoment.astimezone(pytz.timezone(timezonename))))\n",
    "        #print(type(pytz.timezone(timezonename)),pytz.timezone(timezonename))"
   ]
  },
  {
   "cell_type": "code",
   "execution_count": 21,
   "metadata": {},
   "outputs": [
    {
     "name": "stdout",
     "output_type": "stream",
     "text": [
      "04:20:01\n",
      "hour  : 4\n",
      "minute: 20\n",
      "second: 1\n",
      "microsecond: 0\n",
      "tzinfo: None\n"
     ]
    }
   ],
   "source": [
    "import datetime as dt\n",
    "\n",
    "t = dt.time(4, 20, 1)\n",
    "\n",
    "# Let's show the different components\n",
    "print(t)\n",
    "print('hour  :', t.hour)\n",
    "print('minute:', t.minute)\n",
    "print('second:', t.second)\n",
    "print('microsecond:', t.microsecond)\n",
    "print('tzinfo:', t.tzinfo)"
   ]
  },
  {
   "cell_type": "markdown",
   "metadata": {},
   "source": [
    "### DateTime"
   ]
  },
  {
   "cell_type": "markdown",
   "metadata": {},
   "source": [
    "##### able to represent both time and date details"
   ]
  },
  {
   "cell_type": "code",
   "execution_count": 3,
   "metadata": {},
   "outputs": [
    {
     "name": "stdout",
     "output_type": "stream",
     "text": [
      "2022-04-23 17:57:49.466655\n",
      "2022-04-23 17:57:49.466655\n",
      "Sat Apr 23 17:57:49 2022\n",
      "Sat Apr 23 17:57:49 2022\n",
      "###################\n",
      "tuple: time.struct_time(tm_year=2022, tm_mon=4, tm_mday=23, tm_hour=17, tm_min=57, tm_sec=49, tm_wday=5, tm_yday=113, tm_isdst=-1)\n",
      "ordinal: 738268\n",
      "###################\n",
      "Year : 2022\n",
      "Month: 4\n",
      "Day  : 23\n",
      "Hour  : 17\n",
      "Minute  : 57\n",
      "Seconds  : 49\n",
      "MicroSecond  : 468617\n",
      "timezone  : None\n"
     ]
    }
   ],
   "source": [
    "import datetime\n",
    "from datetime import datetime as dtt\n",
    "\n",
    "print(datetime.datetime.today())\n",
    "print(dtt.today())\n",
    "print(datetime.datetime.today().ctime())\n",
    "print(dtt.today().ctime())\n",
    "print(\"###################\")\n",
    "print('tuple:', datetime.datetime.today().timetuple())\n",
    "print('ordinal:', datetime.datetime.today().toordinal()) # Each day has a value of 1, starting from january 1 0001\n",
    "print(\"###################\")\n",
    "print('Year :', datetime.datetime.today().year)\n",
    "print('Month:', datetime.datetime.today().month)\n",
    "print('Day  :', datetime.datetime.today().day)\n",
    "print('Hour  :', datetime.datetime.today().hour)\n",
    "print('Minute  :', datetime.datetime.today().minute)\n",
    "print('Seconds  :', datetime.datetime.today().second)\n",
    "print('MicroSecond  :', datetime.datetime.today().microsecond)\n",
    "print('timezone  :', datetime.datetime.today().tzinfo)\n"
   ]
  },
  {
   "cell_type": "code",
   "execution_count": 26,
   "metadata": {},
   "outputs": [
    {
     "name": "stdout",
     "output_type": "stream",
     "text": [
      "2022-04-10 20:53:04.027906\n",
      "Sun Apr 10 20:53:04 2022\n",
      "###################\n",
      "tuple: time.struct_time(tm_year=2022, tm_mon=4, tm_mday=10, tm_hour=20, tm_min=53, tm_sec=4, tm_wday=6, tm_yday=100, tm_isdst=-1)\n",
      "ordinal: 738255\n",
      "###################\n",
      "Year : 2022\n",
      "Month: 4\n",
      "Day  : 10\n",
      "Hour  : 20\n",
      "Minute  : 53\n",
      "Seconds  : 4\n",
      "MicroSecond  : 28903\n",
      "timezone  : None\n",
      "timezone  : None\n"
     ]
    }
   ],
   "source": [
    "import datetime as dtm\n",
    "from datetime import datetime as dtc\n",
    "#from datetime as dtm import datetime as dtc\n",
    "\n",
    "\n",
    "print(dtc.today())\n",
    "print(dtc.today().ctime())\n",
    "print(\"###################\")\n",
    "print('tuple:', dtc.today().timetuple())\n",
    "print('ordinal:', dtc.today().toordinal()) # Each day has a value of 1, starting from january 1 0001\n",
    "print(\"###################\")\n",
    "print('Year :', dtc.today().year)\n",
    "print('Month:', dtc.today().month)\n",
    "print('Day  :', dtc.today().day)\n",
    "print('Hour  :', dtc.today().hour)\n",
    "print('Minute  :', dtc.today().minute)\n",
    "print('Seconds  :', dtm.datetime.today().second)\n",
    "print('MicroSecond  :', dtm.datetime.today().microsecond)\n",
    "print('timezone  :', dtm.datetime.today().tzinfo)\n",
    "print('timezone  :', dtc.today().tzinfo)\n",
    "\n"
   ]
  },
  {
   "cell_type": "markdown",
   "metadata": {},
   "source": [
    "Note: A time instance only holds values of time, and not a date associated with the time. \n",
    "\n",
    "We can also check the min and max values a time of day can have in the module:"
   ]
  },
  {
   "cell_type": "code",
   "execution_count": 10,
   "metadata": {},
   "outputs": [
    {
     "name": "stdout",
     "output_type": "stream",
     "text": [
      "Earliest  : 00:00:00\n",
      "Latest    : 23:59:59.999999\n",
      "Earliest  : 0001-01-01\n",
      "Latest    : 9999-12-31\n",
      "Resolution: 0:00:00.000001\n"
     ]
    }
   ],
   "source": [
    "import datetime\n",
    "print('Earliest  :', datetime.time.min)\n",
    "print('Latest    :', datetime.time.max)\n",
    "\n",
    "print('Earliest  :', datetime.date.min)\n",
    "print('Latest    :', datetime.date.max)\n",
    "\n",
    "\n",
    "print('Resolution:', datetime.time.resolution)\n"
   ]
  },
  {
   "cell_type": "markdown",
   "metadata": {},
   "source": [
    "The min and max class attributes reflect the valid range of times in a single day."
   ]
  },
  {
   "cell_type": "markdown",
   "metadata": {},
   "source": [
    "## Date\n",
    "datetime (as you might suspect) also allows us to work with date timestamps. Calendar date values are represented with the date class. Instances have attributes for year, month, and day. It is easy to create a date representing today’s date using the today() class method.\n",
    "\n",
    "Let's see some examples:"
   ]
  },
  {
   "cell_type": "markdown",
   "metadata": {},
   "source": [
    "##### able to represent only date details"
   ]
  },
  {
   "cell_type": "code",
   "execution_count": 4,
   "metadata": {
    "scrolled": false
   },
   "outputs": [
    {
     "name": "stdout",
     "output_type": "stream",
     "text": [
      "2022-04-23\n",
      "ctime: Sat Apr 23 00:00:00 2022\n",
      "tuple: time.struct_time(tm_year=2022, tm_mon=4, tm_mday=23, tm_hour=0, tm_min=0, tm_sec=0, tm_wday=5, tm_yday=113, tm_isdst=-1)\n",
      "ordinal: 738268\n",
      "Year : 2022\n",
      "Month: 4\n",
      "Day  : 23\n"
     ]
    },
    {
     "ename": "AttributeError",
     "evalue": "'datetime.date' object has no attribute 'hour'",
     "output_type": "error",
     "traceback": [
      "\u001b[1;31m---------------------------------------------------------------------------\u001b[0m",
      "\u001b[1;31mAttributeError\u001b[0m                            Traceback (most recent call last)",
      "\u001b[1;32m<ipython-input-4-ea53d1613289>\u001b[0m in \u001b[0;36m<module>\u001b[1;34m\u001b[0m\n\u001b[0;32m      9\u001b[0m \u001b[0mprint\u001b[0m\u001b[1;33m(\u001b[0m\u001b[1;34m'Month:'\u001b[0m\u001b[1;33m,\u001b[0m \u001b[0mtoday\u001b[0m\u001b[1;33m.\u001b[0m\u001b[0mmonth\u001b[0m\u001b[1;33m)\u001b[0m\u001b[1;33m\u001b[0m\u001b[1;33m\u001b[0m\u001b[0m\n\u001b[0;32m     10\u001b[0m \u001b[0mprint\u001b[0m\u001b[1;33m(\u001b[0m\u001b[1;34m'Day  :'\u001b[0m\u001b[1;33m,\u001b[0m \u001b[0mtoday\u001b[0m\u001b[1;33m.\u001b[0m\u001b[0mday\u001b[0m\u001b[1;33m)\u001b[0m\u001b[1;33m\u001b[0m\u001b[1;33m\u001b[0m\u001b[0m\n\u001b[1;32m---> 11\u001b[1;33m \u001b[0mprint\u001b[0m\u001b[1;33m(\u001b[0m\u001b[0mdatetime\u001b[0m\u001b[1;33m.\u001b[0m\u001b[0mdate\u001b[0m\u001b[1;33m.\u001b[0m\u001b[0mtoday\u001b[0m\u001b[1;33m(\u001b[0m\u001b[1;33m)\u001b[0m\u001b[1;33m.\u001b[0m\u001b[0mhour\u001b[0m\u001b[1;33m)\u001b[0m\u001b[1;33m\u001b[0m\u001b[1;33m\u001b[0m\u001b[0m\n\u001b[0m",
      "\u001b[1;31mAttributeError\u001b[0m: 'datetime.date' object has no attribute 'hour'"
     ]
    }
   ],
   "source": [
    "#from datetime import date\n",
    "import datetime\n",
    "today = datetime.date.today()\n",
    "print(today)\n",
    "print('ctime:', today.ctime())\n",
    "print('tuple:', today.timetuple())\n",
    "print('ordinal:', today.toordinal()) # Each day has a value of 1, starting from january 01 0001\n",
    "print('Year :', today.year)\n",
    "print('Month:', today.month)\n",
    "print('Day  :', today.day)\n",
    "print(datetime.date.today().hour)"
   ]
  },
  {
   "cell_type": "code",
   "execution_count": 5,
   "metadata": {
    "scrolled": true
   },
   "outputs": [
    {
     "name": "stdout",
     "output_type": "stream",
     "text": [
      "2022-04-23\n",
      "2022-04-22\n",
      "2022-03-21\n"
     ]
    }
   ],
   "source": [
    "today = datetime.date.today()\n",
    "print(today)\n",
    "today = datetime.date(today.year, today.month, day = today.day-1)\n",
    "print(today)\n",
    "today = datetime.date(today.year, today.month-1, day = today.day-1)\n",
    "print(today)\n"
   ]
  },
  {
   "cell_type": "markdown",
   "metadata": {},
   "source": [
    "#### find day of 100 days before current day"
   ]
  },
  {
   "cell_type": "code",
   "execution_count": 33,
   "metadata": {},
   "outputs": [
    {
     "name": "stdout",
     "output_type": "stream",
     "text": [
      "2022-02-19\n",
      "2021-12-30\n"
     ]
    }
   ],
   "source": [
    "today = datetime.date.today()\n",
    "days_difference = datetime.timedelta(days=50)\n",
    "\n",
    "days_difference_withhours = datetime.timedelta(days=100,hours=25)\n",
    "days_100_old = today-days_difference\n",
    "print(days_100_old)\n",
    "days_100_old = today-days_difference_withhours\n",
    "print(days_100_old)"
   ]
  },
  {
   "cell_type": "code",
   "execution_count": 34,
   "metadata": {},
   "outputs": [
    {
     "name": "stdout",
     "output_type": "stream",
     "text": [
      "Today : 2022-04-10 20:57:46.701064\n",
      "2022-09-08 16:57:46.701064\n",
      "2022-09-08 19:57:46.701064\n"
     ]
    }
   ],
   "source": [
    "today = datetime.datetime.today()\n",
    "print(\"Today :\", today)\n",
    "days_difference = datetime.timedelta(days=150,hours=20)\n",
    "\n",
    "days_difference_withhours = datetime.timedelta(days=150,hours=23)\n",
    "days_100_old = today+days_difference\n",
    "print(days_100_old)\n",
    "days_100_old = today+days_difference_withhours\n",
    "print(days_100_old)"
   ]
  },
  {
   "cell_type": "code",
   "execution_count": 55,
   "metadata": {},
   "outputs": [
    {
     "data": {
      "text/plain": [
       "'Wed Aug 31 18:07:01 2022'"
      ]
     },
     "execution_count": 55,
     "metadata": {},
     "output_type": "execute_result"
    }
   ],
   "source": [
    "days_100_old.ctime()"
   ]
  },
  {
   "cell_type": "code",
   "execution_count": 35,
   "metadata": {},
   "outputs": [
    {
     "data": {
      "text/plain": [
       "time.struct_time(tm_year=2022, tm_mon=9, tm_mday=8, tm_hour=19, tm_min=57, tm_sec=46, tm_wday=3, tm_yday=251, tm_isdst=-1)"
      ]
     },
     "execution_count": 35,
     "metadata": {},
     "output_type": "execute_result"
    }
   ],
   "source": [
    "days_100_old.timetuple()"
   ]
  },
  {
   "cell_type": "code",
   "execution_count": 37,
   "metadata": {},
   "outputs": [
    {
     "name": "stdout",
     "output_type": "stream",
     "text": [
      "Apr\n",
      "April\n",
      "Sun\n",
      "Sunday\n",
      "0\n",
      "08\n",
      "08 PM\n",
      "\n",
      "2022\n",
      "04\n",
      "10\n",
      "20\n",
      "59\n"
     ]
    }
   ],
   "source": [
    "today = datetime.datetime.now()\n",
    "print(today.strftime('%b'))\n",
    "print(today.strftime('%B'))\n",
    "print(today.strftime('%a'))\n",
    "print(today.strftime('%A'))\n",
    "print(today.strftime('%w'))\n",
    "print(today.strftime('%I'))\n",
    "print(today.strftime('%I %p'))\n",
    "print(today.strftime('%Z'))\n",
    "print(today.strftime('%Y'))\n",
    "print(today.strftime('%m'))\n",
    "print(today.strftime('%d'))\n",
    "print(today.strftime('%H'))\n",
    "print(today.strftime('%M'))"
   ]
  },
  {
   "cell_type": "code",
   "execution_count": 41,
   "metadata": {},
   "outputs": [
    {
     "name": "stdout",
     "output_type": "stream",
     "text": [
      "current time : 2022-04-10 21:05:00.973660\n",
      "<class 'datetime.datetime'>\n",
      "10.04.2022--21:05:00:973660\n",
      "<class 'str'>\n",
      "################################\n",
      "time.struct_time(tm_year=2022, tm_mon=4, tm_mday=10, tm_hour=21, tm_min=5, tm_sec=0, tm_wday=6, tm_yday=100, tm_isdst=-1)\n",
      "<class 'time.struct_time'>\n",
      "time.struct_time(tm_year=2022, tm_mon=4, tm_mday=10, tm_hour=21, tm_min=5, tm_sec=0, tm_wday=6, tm_yday=100, tm_isdst=-1)\n",
      "################################\n",
      "time.struct_time(tm_year=2022, tm_mon=4, tm_mday=1, tm_hour=5, tm_min=30, tm_sec=0, tm_wday=4, tm_yday=91, tm_isdst=-1) <class 'time.struct_time'>\n",
      "5\n"
     ]
    },
    {
     "ename": "ValueError",
     "evalue": "time data '10.04.2022--21:05:00:973660' does not match format '%Y-%m-%d:%H:%M:%S:%f %p'",
     "output_type": "error",
     "traceback": [
      "\u001b[1;31m---------------------------------------------------------------------------\u001b[0m",
      "\u001b[1;31mValueError\u001b[0m                                Traceback (most recent call last)",
      "\u001b[1;32m<ipython-input-41-5e3378aa75f7>\u001b[0m in \u001b[0;36m<module>\u001b[1;34m\u001b[0m\n\u001b[0;32m     27\u001b[0m \u001b[1;33m\u001b[0m\u001b[0m\n\u001b[0;32m     28\u001b[0m \u001b[1;33m\u001b[0m\u001b[0m\n\u001b[1;32m---> 29\u001b[1;33m \u001b[0mepoch\u001b[0m \u001b[1;33m=\u001b[0m \u001b[0mint\u001b[0m\u001b[1;33m(\u001b[0m\u001b[0mtime\u001b[0m\u001b[1;33m.\u001b[0m\u001b[0mmktime\u001b[0m\u001b[1;33m(\u001b[0m\u001b[0mtime\u001b[0m\u001b[1;33m.\u001b[0m\u001b[0mstrptime\u001b[0m\u001b[1;33m(\u001b[0m\u001b[0mdate_time\u001b[0m\u001b[1;33m,\u001b[0m \u001b[0mpattern\u001b[0m\u001b[1;33m)\u001b[0m\u001b[1;33m)\u001b[0m\u001b[1;33m)\u001b[0m\u001b[1;33m\u001b[0m\u001b[1;33m\u001b[0m\u001b[0m\n\u001b[0m\u001b[0;32m     30\u001b[0m \u001b[1;31m#epoch = int(time.mktime(time.strptime(date_time, '%S')))\u001b[0m\u001b[1;33m\u001b[0m\u001b[1;33m\u001b[0m\u001b[1;33m\u001b[0m\u001b[0m\n\u001b[0;32m     31\u001b[0m \u001b[1;31m#epoch = int(time.mktime(datetime.datetime.now()))\u001b[0m\u001b[1;33m\u001b[0m\u001b[1;33m\u001b[0m\u001b[1;33m\u001b[0m\u001b[0m\n",
      "\u001b[1;32mc:\\python39\\lib\\_strptime.py\u001b[0m in \u001b[0;36m_strptime_time\u001b[1;34m(data_string, format)\u001b[0m\n\u001b[0;32m    560\u001b[0m     \"\"\"Return a time struct based on the input string and the\n\u001b[0;32m    561\u001b[0m     format string.\"\"\"\n\u001b[1;32m--> 562\u001b[1;33m     \u001b[0mtt\u001b[0m \u001b[1;33m=\u001b[0m \u001b[0m_strptime\u001b[0m\u001b[1;33m(\u001b[0m\u001b[0mdata_string\u001b[0m\u001b[1;33m,\u001b[0m \u001b[0mformat\u001b[0m\u001b[1;33m)\u001b[0m\u001b[1;33m[\u001b[0m\u001b[1;36m0\u001b[0m\u001b[1;33m]\u001b[0m\u001b[1;33m\u001b[0m\u001b[1;33m\u001b[0m\u001b[0m\n\u001b[0m\u001b[0;32m    563\u001b[0m     \u001b[1;32mreturn\u001b[0m \u001b[0mtime\u001b[0m\u001b[1;33m.\u001b[0m\u001b[0mstruct_time\u001b[0m\u001b[1;33m(\u001b[0m\u001b[0mtt\u001b[0m\u001b[1;33m[\u001b[0m\u001b[1;33m:\u001b[0m\u001b[0mtime\u001b[0m\u001b[1;33m.\u001b[0m\u001b[0m_STRUCT_TM_ITEMS\u001b[0m\u001b[1;33m]\u001b[0m\u001b[1;33m)\u001b[0m\u001b[1;33m\u001b[0m\u001b[1;33m\u001b[0m\u001b[0m\n\u001b[0;32m    564\u001b[0m \u001b[1;33m\u001b[0m\u001b[0m\n",
      "\u001b[1;32mc:\\python39\\lib\\_strptime.py\u001b[0m in \u001b[0;36m_strptime\u001b[1;34m(data_string, format)\u001b[0m\n\u001b[0;32m    347\u001b[0m     \u001b[0mfound\u001b[0m \u001b[1;33m=\u001b[0m \u001b[0mformat_regex\u001b[0m\u001b[1;33m.\u001b[0m\u001b[0mmatch\u001b[0m\u001b[1;33m(\u001b[0m\u001b[0mdata_string\u001b[0m\u001b[1;33m)\u001b[0m\u001b[1;33m\u001b[0m\u001b[1;33m\u001b[0m\u001b[0m\n\u001b[0;32m    348\u001b[0m     \u001b[1;32mif\u001b[0m \u001b[1;32mnot\u001b[0m \u001b[0mfound\u001b[0m\u001b[1;33m:\u001b[0m\u001b[1;33m\u001b[0m\u001b[1;33m\u001b[0m\u001b[0m\n\u001b[1;32m--> 349\u001b[1;33m         raise ValueError(\"time data %r does not match format %r\" %\n\u001b[0m\u001b[0;32m    350\u001b[0m                          (data_string, format))\n\u001b[0;32m    351\u001b[0m     \u001b[1;32mif\u001b[0m \u001b[0mlen\u001b[0m\u001b[1;33m(\u001b[0m\u001b[0mdata_string\u001b[0m\u001b[1;33m)\u001b[0m \u001b[1;33m!=\u001b[0m \u001b[0mfound\u001b[0m\u001b[1;33m.\u001b[0m\u001b[0mend\u001b[0m\u001b[1;33m(\u001b[0m\u001b[1;33m)\u001b[0m\u001b[1;33m:\u001b[0m\u001b[1;33m\u001b[0m\u001b[1;33m\u001b[0m\u001b[0m\n",
      "\u001b[1;31mValueError\u001b[0m: time data '10.04.2022--21:05:00:973660' does not match format '%Y-%m-%d:%H:%M:%S:%f %p'"
     ]
    }
   ],
   "source": [
    "import time\n",
    "pattern = '%d.%m.%Y--%H:%M:%S:%f'\n",
    "#pattern = '%H:%M:%S:%f'\n",
    "current_time = datetime.datetime.now()\n",
    "print(\"current time :\", current_time)\n",
    "print(type(current_time))\n",
    "\n",
    "date_time = current_time.strftime(pattern)\n",
    "print(date_time)\n",
    "print(type(date_time))\n",
    "print(\"################################\")\n",
    "\n",
    "pattern = '%d.%m.%Y--%H:%M:%S:%f'\n",
    "print(time.strptime(date_time, pattern))\n",
    "print(type(time.strptime(date_time, pattern)))\n",
    "print(time.strptime(date_time, pattern))\n",
    "\n",
    "pattern = '%Y-%m-%d:%H:%M:%S:%f %p'\n",
    "\n",
    "print(\"################################\")\n",
    "date_time_string = \"2022-04-01:5:30:00:123456 PM\"\n",
    "date_time_obj = time.strptime(date_time_string, pattern) \n",
    "print(date_time_obj, type(date_time_obj))\n",
    "print(date_time_obj.tm_hour)"
   ]
  },
  {
   "cell_type": "code",
   "execution_count": 54,
   "metadata": {},
   "outputs": [
    {
     "name": "stdout",
     "output_type": "stream",
     "text": [
      "1649605214\n",
      "1649604900\n"
     ]
    }
   ],
   "source": [
    "#January 1st, 1970 at 00:00:00 UTC is referred to as the Unix epoch.\n",
    "pattern = '%d.%m.%Y--%H:%M:%S:%f'\n",
    "epoch = int(time.mktime(time.strptime(date_time, pattern)))\n",
    "#epoch = int(time.mktime(time.strptime(date_time, '%S')))\n",
    "#epoch = int(time.mktime(datetime.datetime.now()))\n",
    "print(int(time.mktime(datetime.datetime.now().timetuple())))\n",
    "print(epoch)"
   ]
  },
  {
   "cell_type": "code",
   "execution_count": 11,
   "metadata": {},
   "outputs": [
    {
     "data": {
      "text/plain": [
       "52.30863819127347"
      ]
     },
     "execution_count": 11,
     "metadata": {},
     "output_type": "execute_result"
    }
   ],
   "source": [
    "1649605214/60\n",
    "27493420.233333334/60\n",
    "458223.67055555555/24\n",
    "19092.652939814816/365"
   ]
  },
  {
   "cell_type": "code",
   "execution_count": 13,
   "metadata": {},
   "outputs": [
    {
     "name": "stdout",
     "output_type": "stream",
     "text": [
      "d1: 2015-03-11\n",
      "735668\n",
      "#####################################\n",
      "d2: 2014-03-11\n",
      "735303\n",
      "#####################################\n",
      "d3: 2020-02-29\n",
      "737484\n"
     ]
    },
    {
     "data": {
      "text/plain": [
       "datetime.date(2020, 9, 30)"
      ]
     },
     "execution_count": 13,
     "metadata": {},
     "output_type": "execute_result"
    }
   ],
   "source": [
    "d1 = datetime.date(2015, 3, 11)\n",
    "print('d1:', d1)\n",
    "print(d1.toordinal())\n",
    "print(\"#####################################\")\n",
    "d2 = d1.replace(year=2014)\n",
    "print('d2:', d2)\n",
    "print(d2.toordinal())\n",
    "print(\"#####################################\")\n",
    "d3 = d1.replace(year=2020, month=2,day=29)\n",
    "print('d3:', d3)\n",
    "print(d3.toordinal())\n",
    "d1.replace(2020,9,30)"
   ]
  },
  {
   "cell_type": "markdown",
   "metadata": {},
   "source": [
    "As with time, the range of date values supported can be determined using the min and max attributes."
   ]
  },
  {
   "cell_type": "code",
   "execution_count": 14,
   "metadata": {},
   "outputs": [
    {
     "name": "stdout",
     "output_type": "stream",
     "text": [
      "Earliest  : 0001-01-01\n",
      "Latest    : 9999-12-31\n",
      "Resolution: 1 day, 0:00:00\n"
     ]
    }
   ],
   "source": [
    "print('Earliest  :', datetime.date.min)\n",
    "print('Latest    :', datetime.date.max)\n",
    "print('Resolution:', datetime.date.resolution)"
   ]
  },
  {
   "cell_type": "markdown",
   "metadata": {},
   "source": [
    "Another way to create new date instances uses the replace() method of an existing date. For example, you can change the year, leaving the day and month alone."
   ]
  },
  {
   "cell_type": "code",
   "execution_count": 17,
   "metadata": {},
   "outputs": [
    {
     "name": "stdout",
     "output_type": "stream",
     "text": [
      "d1: 2021-03-11\n",
      "d2: 2022-03-11\n",
      "d3: 2021-12-11\n",
      "d4: 2021-03-20\n",
      "d5: 0001-03-11\n",
      "d6: 0001-12-11\n",
      "d7: 9991-12-31\n"
     ]
    }
   ],
   "source": [
    "d1 = datetime.date(2021, 3, 11)\n",
    "print('d1:', d1)\n",
    "\n",
    "d2 = d1.replace(year=2022)\n",
    "print('d2:', d2)\n",
    "\n",
    "\n",
    "d3 = d1.replace(month=12)\n",
    "print('d3:', d3)\n",
    "\n",
    "d4 = d1.replace(day=20)\n",
    "print('d4:', d4)\n",
    "\n",
    "d5 = d1.replace(1)\n",
    "print('d5:', d5)\n",
    "\n",
    "d6 = d1.replace(1,12)\n",
    "print('d6:', d6)\n",
    "\n",
    "d7 = d1.replace(9991,12,31)\n",
    "print('d7:', d7)\n"
   ]
  },
  {
   "cell_type": "markdown",
   "metadata": {},
   "source": [
    "# Arithmetic\n",
    "We can perform arithmetic on date objects to check for time differences. For example:"
   ]
  },
  {
   "cell_type": "code",
   "execution_count": null,
   "metadata": {},
   "outputs": [],
   "source": [
    "d1"
   ]
  },
  {
   "cell_type": "code",
   "execution_count": null,
   "metadata": {},
   "outputs": [],
   "source": [
    "d2"
   ]
  },
  {
   "cell_type": "code",
   "execution_count": null,
   "metadata": {},
   "outputs": [],
   "source": [
    "d1-d2"
   ]
  },
  {
   "cell_type": "markdown",
   "metadata": {},
   "source": [
    "#### time delta on datetime objects"
   ]
  },
  {
   "cell_type": "code",
   "execution_count": 18,
   "metadata": {},
   "outputs": [
    {
     "data": {
      "text/plain": [
       "datetime.datetime(2022, 4, 23, 18, 3, 26, 899608)"
      ]
     },
     "execution_count": 18,
     "metadata": {},
     "output_type": "execute_result"
    }
   ],
   "source": [
    "current_datetime = datetime.datetime.now()\n",
    "current_datetime"
   ]
  },
  {
   "cell_type": "code",
   "execution_count": 19,
   "metadata": {},
   "outputs": [
    {
     "data": {
      "text/plain": [
       "datetime.datetime(2018, 10, 15, 0, 0)"
      ]
     },
     "execution_count": 19,
     "metadata": {},
     "output_type": "execute_result"
    }
   ],
   "source": [
    "time_old_1 = datetime.datetime(2018,10,15)\n",
    "time_old_1"
   ]
  },
  {
   "cell_type": "code",
   "execution_count": 61,
   "metadata": {},
   "outputs": [
    {
     "data": {
      "text/plain": [
       "datetime.timedelta(days=1273, seconds=76277, microseconds=454610)"
      ]
     },
     "execution_count": 61,
     "metadata": {},
     "output_type": "execute_result"
    }
   ],
   "source": [
    "current_datetime - time_old_1"
   ]
  },
  {
   "cell_type": "code",
   "execution_count": 70,
   "metadata": {},
   "outputs": [
    {
     "data": {
      "text/plain": [
       "21.188055555555554"
      ]
     },
     "execution_count": 70,
     "metadata": {},
     "output_type": "execute_result"
    }
   ],
   "source": []
  },
  {
   "cell_type": "code",
   "execution_count": 21,
   "metadata": {},
   "outputs": [
    {
     "name": "stdout",
     "output_type": "stream",
     "text": [
      "1286 days, 18:03:26.899608\n",
      "Total Seconds  111175406.899608\n",
      "Total Minutes 1852923.4483268\n",
      "Total Hours 30882.057472113334\n",
      "Total Days 1286.7523946713889\n",
      "45.14368028333138\n",
      "8.620816999882663\n"
     ]
    }
   ],
   "source": [
    "print(current_datetime - time_old_1)\n",
    "print(\"Total Seconds \",(current_datetime - time_old_1).total_seconds())\n",
    "print(\"Total Minutes\",(current_datetime - time_old_1).total_seconds()/60)\n",
    "print(\"Total Hours\",(current_datetime - time_old_1).total_seconds()/60/60)\n",
    "print(\"Total Days\",(current_datetime - time_old_1).total_seconds()/60/60/24)\n",
    "Total_days = ((current_datetime - time_old_1).total_seconds()/60/60/24)\n",
    "\n",
    "import math\n",
    "Hours_offset = math.modf(Total_days)[0]\n",
    "Total_Hours = Hours_offset*60\n",
    "print(Total_Hours)\n",
    "Hours_offset = math.modf(Total_Hours)[0]\n",
    "Total_Minutes = Hours_offset*60 \n",
    "print(Total_Minutes)\n"
   ]
  },
  {
   "cell_type": "markdown",
   "metadata": {},
   "source": [
    "### Formatting Date time to different string formats in string "
   ]
  },
  {
   "cell_type": "code",
   "execution_count": 22,
   "metadata": {},
   "outputs": [
    {
     "name": "stdout",
     "output_type": "stream",
     "text": [
      "2022-04-23 18:05:22.221515\n",
      "<class 'datetime.datetime'>\n",
      "####################################################\n",
      "2022-04-23-18 05 22 222524\n",
      "####################################################\n",
      "23-18 05 22 222524\n",
      "####################################################\n",
      "18 05 22 222524\n",
      "####################################################\n",
      "18$05$22$222524\n",
      "####################################################\n"
     ]
    }
   ],
   "source": [
    "from datetime import datetime\n",
    "print(str(datetime.now()))\n",
    "print(type(datetime.now()))\n",
    "print(\"####################################################\")\n",
    "print(datetime.now().strftime('%Y-%m-%d-%H %M %S %f'))\n",
    "print(\"####################################################\")\n",
    "print(datetime.now().strftime('%d-%H %M %S %f'))\n",
    "print(\"####################################################\")\n",
    "print(datetime.now().strftime('%H %M %S %f'))\n",
    "print(\"####################################################\")\n",
    "print(datetime.now().strftime('%H$%M$%S$%f'))\n",
    "print(\"####################################################\")"
   ]
  },
  {
   "cell_type": "code",
   "execution_count": 23,
   "metadata": {},
   "outputs": [
    {
     "name": "stdout",
     "output_type": "stream",
     "text": [
      "2022-04-23-18 05 25 \t <class 'str'>\n",
      "####################################################\n",
      "2011-11-15 07:54:38.002300 \t <class 'datetime.datetime'>\n",
      "<class 'datetime.datetime'>\n",
      "2011\n",
      "11\n",
      "15\n",
      "7\n",
      "54\n",
      "38\n",
      "2300\n",
      "####################################################\n",
      "2022-04-23 18:05:25\n"
     ]
    }
   ],
   "source": [
    "from datetime import datetime\n",
    "newtime = str(datetime.now().strftime('%Y-%m-%d-%H %M %S'))\n",
    "print(newtime,\"\\t\",type(newtime))\n",
    "print(\"####################################################\")\n",
    "Previoustime = datetime.strptime('2011-11-15 07 54 38 002300','%Y-%m-%d %H %M %S %f')### provide the formatters in the same way as \n",
    "                                                                           #string datetime to parse the string\n",
    "print(Previoustime,\"\\t\",type(Previoustime))\n",
    "print(type(Previoustime))\n",
    "print(Previoustime.year)\n",
    "print(Previoustime.month)\n",
    "print(Previoustime.day)\n",
    "print(Previoustime.hour)\n",
    "print(Previoustime.minute)\n",
    "print(Previoustime.second)\n",
    "print(Previoustime.microsecond)\n",
    "print(\"####################################################\")\n",
    "\n",
    "newtime1 = datetime.strptime(newtime,'%Y-%m-%d-%H %M %S')\n",
    "print(newtime1)\n",
    "\n"
   ]
  },
  {
   "cell_type": "code",
   "execution_count": 24,
   "metadata": {},
   "outputs": [
    {
     "name": "stdout",
     "output_type": "stream",
     "text": [
      "#######################Calculating time difference #############################\n",
      "3812 days, 10:10:46.997700 <class 'datetime.timedelta'>\n",
      "total seconds 329393446.9977\n",
      "total minutes 5489890.783295\n",
      "total hours 91498.17972158334\n",
      "total days 3812.424155065972\n"
     ]
    }
   ],
   "source": [
    "################################################\n",
    "print(\"#######################Calculating time difference #############################\")\n",
    "timedifference = newtime1 - Previoustime\n",
    "print(timedifference, type(timedifference))\n",
    "secstime = (newtime1 - Previoustime).total_seconds()\n",
    "print(\"total seconds\", secstime)\n",
    "totalminutes = secstime /60\n",
    "# total timedifference between two timestamps in seconds, gives us the uptime between previous ping and current ping \n",
    "print(\"total minutes\",totalminutes)\n",
    "totalhours = totalminutes /60\n",
    "print(\"total hours\",totalhours)\n",
    "totaldays = totalhours /24\n",
    "print(\"total days\",totaldays)"
   ]
  },
  {
   "cell_type": "code",
   "execution_count": 25,
   "metadata": {},
   "outputs": [
    {
     "name": "stdout",
     "output_type": "stream",
     "text": [
      "2022-04-23 18:05:33.277424\n"
     ]
    },
    {
     "ename": "NameError",
     "evalue": "name 'current_time' is not defined",
     "output_type": "error",
     "traceback": [
      "\u001b[1;31m---------------------------------------------------------------------------\u001b[0m",
      "\u001b[1;31mNameError\u001b[0m                                 Traceback (most recent call last)",
      "\u001b[1;32m<ipython-input-25-da6c00d07830>\u001b[0m in \u001b[0;36m<module>\u001b[1;34m\u001b[0m\n\u001b[0;32m      7\u001b[0m     \u001b[1;32mreturn\u001b[0m \u001b[0msecstime\u001b[0m\u001b[1;33m\u001b[0m\u001b[1;33m\u001b[0m\u001b[0m\n\u001b[0;32m      8\u001b[0m \u001b[0mprint\u001b[0m\u001b[1;33m(\u001b[0m\u001b[0mdatetime\u001b[0m\u001b[1;33m.\u001b[0m\u001b[0mnow\u001b[0m\u001b[1;33m(\u001b[0m\u001b[1;33m)\u001b[0m\u001b[1;33m)\u001b[0m\u001b[1;33m\u001b[0m\u001b[1;33m\u001b[0m\u001b[0m\n\u001b[1;32m----> 9\u001b[1;33m \u001b[0mprint\u001b[0m\u001b[1;33m(\u001b[0m\u001b[0mcurrent_time\u001b[0m\u001b[1;33m)\u001b[0m\u001b[1;33m\u001b[0m\u001b[1;33m\u001b[0m\u001b[0m\n\u001b[0m\u001b[0;32m     10\u001b[0m \u001b[0mprint\u001b[0m\u001b[1;33m(\u001b[0m\u001b[0mdatetimediffsecs\u001b[0m\u001b[1;33m(\u001b[0m\u001b[0mcurrent_time\u001b[0m\u001b[1;33m)\u001b[0m\u001b[1;33m)\u001b[0m\u001b[1;33m\u001b[0m\u001b[1;33m\u001b[0m\u001b[0m\n",
      "\u001b[1;31mNameError\u001b[0m: name 'current_time' is not defined"
     ]
    }
   ],
   "source": [
    "from datetime import datetime\n",
    "def datetimediffsecs(oldtime):\n",
    "    newtime = str(datetime.now().strftime('%Y-%m-%d %H %M %S'))\n",
    "    Previoustime = datetime.strptime(str(oldtime), '%Y-%m-%d %H:%M:%S.%f')\n",
    "    Currenttime = datetime.strptime(newtime, '%Y-%m-%d %H %M %S')\n",
    "    secstime = (Currenttime-Previoustime).total_seconds()  # total timedifference between two timestamps in seconds, gives us the uptime between previous ping and current ping \n",
    "    return secstime\n",
    "print(datetime.now())\n",
    "print(current_time)\n",
    "print(datetimediffsecs(current_time))"
   ]
  },
  {
   "cell_type": "markdown",
   "metadata": {},
   "source": [
    "This gives us the difference in days between the two dates. You can use the timedelta method to specify various units of times (days, minutes, hours, etc.)\n",
    "\n",
    "Great! You should now have a basic understanding of how to use datetime with Python to work with timestamps in your code!"
   ]
  }
 ],
 "metadata": {
  "kernelspec": {
   "display_name": "Python 3 (ipykernel)",
   "language": "python",
   "name": "python3"
  },
  "language_info": {
   "codemirror_mode": {
    "name": "ipython",
    "version": 3
   },
   "file_extension": ".py",
   "mimetype": "text/x-python",
   "name": "python",
   "nbconvert_exporter": "python",
   "pygments_lexer": "ipython3",
   "version": "3.10.4"
  }
 },
 "nbformat": 4,
 "nbformat_minor": 1
}
