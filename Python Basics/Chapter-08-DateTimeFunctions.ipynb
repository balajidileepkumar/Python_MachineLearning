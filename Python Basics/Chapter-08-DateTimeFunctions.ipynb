{
 "cells": [
  {
   "cell_type": "markdown",
   "metadata": {},
   "source": [
    "# Datetime\n",
    "\n",
    "Python has the datetime module to help deal with timestamps in your code. Time values are represented with the time class. Times have attributes for hour, minute, second, and microsecond. They can also include time zone information. The arguments to initialize a time instance are optional, but the default of 0 is unlikely to be what you want.\n"
   ]
  },
  {
   "cell_type": "markdown",
   "metadata": {},
   "source": [
    "##### datetime class\n",
    "##### time class\n",
    "##### date class\n",
    "##### timedelta class\n",
    "##### timezone class\n",
    "##### tzinfo class"
   ]
  },
  {
   "cell_type": "markdown",
   "metadata": {},
   "source": [
    "\n",
    "## Time\n",
    "Let's take a look at how we can extract time information from the datetime module. We can create a timestamp by specifying datetime.time(hour,minute,second,microsecond)"
   ]
  },
  {
   "cell_type": "code",
   "execution_count": null,
   "metadata": {},
   "outputs": [],
   "source": [
    "import datetime\n",
    "from pytz import timezone\n",
    "\n",
    "timedefault = datetime.time()\n",
    "print(timedefault)\n",
    "print(\"#########################\")\n",
    "t = datetime.time(4, 59, 59,999999)\n",
    "print(t)\n",
    "print(t.tzinfo)\n",
    "print(\"###########-----##############\")\n",
    "utctime = datetime.time(4, 20, 1,123456, timezone('UTC'))\n",
    "print(utctime.tzinfo)\n",
    "print(\"#########################\")\n",
    "Austime = datetime.time(4, 20, 1,123456, timezone('Australia/Sydney'))\n",
    "print(Austime.tzinfo)\n",
    "print(\"#########################\")\n",
    "Ustime = datetime.time(4, 20, 1,123456, timezone('America/St_Johns'))\n",
    "print(Ustime.tzinfo)\n",
    "\n",
    "\n",
    "print(\"###########components##############\")\n",
    "# Let's show the different components\n",
    "print(timedefault)\n",
    "print(timedefault.tzinfo)\n",
    "print(\"######################################\")\n",
    "print(t)\n",
    "print(\"######################################\")\n",
    "print(utctime)\n",
    "print(\"######################################\")\n",
    "print(Austime)\n",
    "print(\"######################################\")\n",
    "print(Ustime)\n",
    "print(\"######################################\")\n",
    "\n",
    "print('hour  :', utctime.hour)\n",
    "print('minute:', utctime.minute)\n",
    "print('second:', utctime.second)\n",
    "print('microsecond:', utctime.microsecond)\n",
    "print('tzinfo:', utctime.tzinfo)"
   ]
  },
  {
   "cell_type": "markdown",
   "metadata": {},
   "source": [
    "##### Get all timezones"
   ]
  },
  {
   "cell_type": "code",
   "execution_count": null,
   "metadata": {},
   "outputs": [],
   "source": [
    "from pytz import all_timezones\n",
    "print(type(all_timezones))\n",
    "print(list(all_timezones))"
   ]
  },
  {
   "cell_type": "markdown",
   "metadata": {},
   "source": [
    "### convert current utc time to another timezone"
   ]
  },
  {
   "cell_type": "code",
   "execution_count": null,
   "metadata": {},
   "outputs": [],
   "source": [
    "import pytz\n",
    "from datetime import datetime\n",
    "print(\"###########################\")\n",
    "utcmoment_naive = datetime.utcnow()\n",
    "print(\"utc time now :%s\"%utcmoment_naive)\n",
    "print(utcmoment_naive.tzinfo)\n",
    "print(\"###########################\")\n",
    "local_time = datetime.now()\n",
    "print(\"local time now :%s\"%local_time)\n",
    "print(local_time.tzinfo)\n",
    "print(\"###########################\")\n",
    "\n",
    "utcmoment = utcmoment_naive.replace(tzinfo=pytz.utc)\n",
    "print(utcmoment.tzinfo)\n",
    "local_time = local_time.replace(tzinfo=pytz.timezone('Indian/Mahe'))\n",
    "print(local_time.tzinfo)\n",
    "# print \"utcmoment_naive: {0}\".format(utcmoment_naive) # python 2\n",
    "print(\"utcmoment_naive: {0}\".format(utcmoment_naive))\n",
    "print(\"utcmoment:       {0}\".format(utcmoment))\n",
    "print(\"###########################\")\n",
    "localFormat = \"%Y-%m-%d %H:%M:%S:%f\"\n",
    "timezones = ['America/Los_Angeles', 'Europe/Madrid', 'America/Puerto_Rico','Asia/Kathmandu']\n",
    "print(\"######################\")\n",
    "for tz in timezones:    \n",
    "    localDatetime = utcmoment.astimezone(pytz.timezone(tz))\n",
    "    localFormat = \"%Y-%m-%d - %H:%M:%S:%f %b %z\"\n",
    "    print(localDatetime.strftime(localFormat))\n",
    "    #localFormat = \"%Y$%m$%d - %H$%M$%S$%f\"\n",
    "\n",
    "\n",
    "\n",
    "\n",
    "    "
   ]
  },
  {
   "cell_type": "code",
   "execution_count": null,
   "metadata": {
    "scrolled": false
   },
   "outputs": [],
   "source": [
    "from pytz import all_timezones\n",
    "from datetime import datetime\n",
    "\n",
    "utcmoment_naive = datetime.utcnow()\n",
    "print(utcmoment_naive)\n",
    "\n",
    "print(utcmoment_naive.tzinfo)\n",
    "utcmoment = utcmoment_naive.replace(tzinfo=pytz.utc)\n",
    "print(\"Current Utc Time :\", utcmoment)\n",
    "print(\"##############################################\")\n",
    "moment_india = datetime.now()\n",
    "tzinfo_india = timezone('Asia/Kathmandu')\n",
    "utcmoment_india = moment_india.replace(tzinfo = tzinfo_india)\n",
    "print(\"Current India Time\", utcmoment_india)\n",
    "print(\"##############################################\")\n",
    "i =0\n",
    "for timezonename in list(all_timezones):\n",
    "    if(i>50):\n",
    "        break\n",
    "    print(\"timezone name: {} - current time in that time zone - {}\".format(timezonename,utcmoment_india.astimezone(pytz.timezone(timezonename))))\n",
    "    i+=1"
   ]
  },
  {
   "cell_type": "code",
   "execution_count": null,
   "metadata": {},
   "outputs": [],
   "source": [
    "#### 'TimeZones Starting with 'B'"
   ]
  },
  {
   "cell_type": "code",
   "execution_count": null,
   "metadata": {},
   "outputs": [],
   "source": [
    "from pytz import all_timezones\n",
    "utcmoment_naive = datetime.now()\n",
    "print(utcmoment_naive)\n",
    "print(utcmoment_naive.tzinfo)\n",
    "utcmoment = datetime.utcnow()\n",
    "print(utcmoment)\n",
    "print(utcmoment.tzinfo)\n",
    "utcmoment = utcmoment.replace(tzinfo=pytz.utc)\n",
    "print(utcmoment.tzinfo)\n",
    "print(\"Current Utc Time :\", utcmoment)\n",
    "for timezonename in list(all_timezones):\n",
    "    if(timezonename.startswith('A')):\n",
    "        print(\"timezone name: {} - current time in that time zone - {}\".format(timezonename,utcmoment.astimezone(pytz.timezone(timezonename))))\n",
    "        print(type(pytz.timezone(timezonename)),pytz.timezone(timezonename))"
   ]
  },
  {
   "cell_type": "code",
   "execution_count": null,
   "metadata": {},
   "outputs": [],
   "source": [
    "import datetime as dt\n",
    "\n",
    "t = dt.time(4, 20, 1)\n",
    "\n",
    "# Let's show the different components\n",
    "print(t)\n",
    "print('hour  :', t.hour)\n",
    "print('minute:', t.minute)\n",
    "print('second:', t.second)\n",
    "print('microsecond:', t.microsecond)\n",
    "print('tzinfo:', t.tzinfo)"
   ]
  },
  {
   "cell_type": "markdown",
   "metadata": {},
   "source": [
    "### DateTime"
   ]
  },
  {
   "cell_type": "markdown",
   "metadata": {},
   "source": [
    "##### able to represent both time and date details"
   ]
  },
  {
   "cell_type": "code",
   "execution_count": null,
   "metadata": {},
   "outputs": [],
   "source": [
    "import datetime\n",
    "from datetime import datetime as dtt\n",
    "\n",
    "print(datetime.datetime.today())\n",
    "print(datetime.datetime.today().ctime())\n",
    "print(\"###################\")\n",
    "print('tuple:', datetime.datetime.today().timetuple())\n",
    "print('ordinal:', datetime.datetime.today().toordinal()) # Each day has a value of 1, starting from january 1 0001\n",
    "print(\"###################\")\n",
    "print('Year :', datetime.datetime.today().year)\n",
    "print('Month:', datetime.datetime.today().month)\n",
    "print('Day  :', datetime.datetime.today().day)\n",
    "print('Hour  :', datetime.datetime.today().hour)\n",
    "print('Minute  :', datetime.datetime.today().minute)\n",
    "print('Seconds  :', datetime.datetime.today().second)\n",
    "print('MicroSecond  :', datetime.datetime.today().microsecond)\n",
    "print('timezone  :', datetime.datetime.today().tzinfo)\n"
   ]
  },
  {
   "cell_type": "code",
   "execution_count": 1,
   "metadata": {},
   "outputs": [
    {
     "name": "stdout",
     "output_type": "stream",
     "text": [
      "2022-04-07 00:24:52.293558\n",
      "Thu Apr  7 00:24:52 2022\n",
      "###################\n",
      "tuple: time.struct_time(tm_year=2022, tm_mon=4, tm_mday=7, tm_hour=0, tm_min=24, tm_sec=52, tm_wday=3, tm_yday=97, tm_isdst=-1)\n",
      "ordinal: 738252\n",
      "###################\n",
      "Year : 2022\n",
      "Month: 4\n",
      "Day  : 7\n",
      "Hour  : 0\n",
      "Minute  : 24\n",
      "Seconds  : 52\n",
      "MicroSecond  : 295519\n",
      "timezone  : None\n",
      "timezone  : None\n"
     ]
    }
   ],
   "source": [
    "import datetime as dtm\n",
    "from datetime import datetime as dtc\n",
    "#from datetime as dtm import datetime as dtc\n",
    "\n",
    "\n",
    "print(dtc.today())\n",
    "print(dtc.today().ctime())\n",
    "print(\"###################\")\n",
    "print('tuple:', dtc.today().timetuple())\n",
    "print('ordinal:', dtc.today().toordinal()) # Each day has a value of 1, starting from january 1 0001\n",
    "print(\"###################\")\n",
    "print('Year :', dtc.today().year)\n",
    "print('Month:', dtc.today().month)\n",
    "print('Day  :', dtc.today().day)\n",
    "print('Hour  :', dtc.today().hour)\n",
    "print('Minute  :', dtc.today().minute)\n",
    "print('Seconds  :', dtm.datetime.today().second)\n",
    "print('MicroSecond  :', dtm.datetime.today().microsecond)\n",
    "print('timezone  :', dtm.datetime.today().tzinfo)\n",
    "print('timezone  :', dtc.today().tzinfo)\n",
    "\n"
   ]
  },
  {
   "cell_type": "markdown",
   "metadata": {},
   "source": [
    "Note: A time instance only holds values of time, and not a date associated with the time. \n",
    "\n",
    "We can also check the min and max values a time of day can have in the module:"
   ]
  },
  {
   "cell_type": "code",
   "execution_count": 10,
   "metadata": {},
   "outputs": [
    {
     "name": "stdout",
     "output_type": "stream",
     "text": [
      "Earliest  : 00:00:00\n",
      "Latest    : 23:59:59.999999\n",
      "Earliest  : 0001-01-01\n",
      "Latest    : 9999-12-31\n",
      "Resolution: 0:00:00.000001\n"
     ]
    }
   ],
   "source": [
    "import datetime\n",
    "print('Earliest  :', datetime.time.min)\n",
    "print('Latest    :', datetime.time.max)\n",
    "\n",
    "print('Earliest  :', datetime.date.min)\n",
    "print('Latest    :', datetime.date.max)\n",
    "\n",
    "\n",
    "print('Resolution:', datetime.time.resolution)\n"
   ]
  },
  {
   "cell_type": "markdown",
   "metadata": {},
   "source": [
    "The min and max class attributes reflect the valid range of times in a single day."
   ]
  },
  {
   "cell_type": "markdown",
   "metadata": {},
   "source": [
    "## Date\n",
    "datetime (as you might suspect) also allows us to work with date timestamps. Calendar date values are represented with the date class. Instances have attributes for year, month, and day. It is easy to create a date representing today’s date using the today() class method.\n",
    "\n",
    "Let's see some examples:"
   ]
  },
  {
   "cell_type": "markdown",
   "metadata": {},
   "source": [
    "##### able to represent only date details"
   ]
  },
  {
   "cell_type": "code",
   "execution_count": 13,
   "metadata": {
    "scrolled": false
   },
   "outputs": [
    {
     "name": "stdout",
     "output_type": "stream",
     "text": [
      "2022-04-02\n",
      "ctime: Sat Apr  2 00:00:00 2022\n",
      "tuple: time.struct_time(tm_year=2022, tm_mon=4, tm_mday=2, tm_hour=0, tm_min=0, tm_sec=0, tm_wday=5, tm_yday=92, tm_isdst=-1)\n",
      "ordinal: 738247\n",
      "Year : 2022\n",
      "Month: 4\n",
      "Day  : 2\n"
     ]
    },
    {
     "ename": "AttributeError",
     "evalue": "'datetime.date' object has no attribute 'hour'",
     "output_type": "error",
     "traceback": [
      "\u001b[1;31m---------------------------------------------------------------------------\u001b[0m",
      "\u001b[1;31mAttributeError\u001b[0m                            Traceback (most recent call last)",
      "\u001b[1;32m<ipython-input-13-ea53d1613289>\u001b[0m in \u001b[0;36m<module>\u001b[1;34m\u001b[0m\n\u001b[0;32m      9\u001b[0m \u001b[0mprint\u001b[0m\u001b[1;33m(\u001b[0m\u001b[1;34m'Month:'\u001b[0m\u001b[1;33m,\u001b[0m \u001b[0mtoday\u001b[0m\u001b[1;33m.\u001b[0m\u001b[0mmonth\u001b[0m\u001b[1;33m)\u001b[0m\u001b[1;33m\u001b[0m\u001b[1;33m\u001b[0m\u001b[0m\n\u001b[0;32m     10\u001b[0m \u001b[0mprint\u001b[0m\u001b[1;33m(\u001b[0m\u001b[1;34m'Day  :'\u001b[0m\u001b[1;33m,\u001b[0m \u001b[0mtoday\u001b[0m\u001b[1;33m.\u001b[0m\u001b[0mday\u001b[0m\u001b[1;33m)\u001b[0m\u001b[1;33m\u001b[0m\u001b[1;33m\u001b[0m\u001b[0m\n\u001b[1;32m---> 11\u001b[1;33m \u001b[0mprint\u001b[0m\u001b[1;33m(\u001b[0m\u001b[0mdatetime\u001b[0m\u001b[1;33m.\u001b[0m\u001b[0mdate\u001b[0m\u001b[1;33m.\u001b[0m\u001b[0mtoday\u001b[0m\u001b[1;33m(\u001b[0m\u001b[1;33m)\u001b[0m\u001b[1;33m.\u001b[0m\u001b[0mhour\u001b[0m\u001b[1;33m)\u001b[0m\u001b[1;33m\u001b[0m\u001b[1;33m\u001b[0m\u001b[0m\n\u001b[0m",
      "\u001b[1;31mAttributeError\u001b[0m: 'datetime.date' object has no attribute 'hour'"
     ]
    }
   ],
   "source": [
    "#from datetime import date\n",
    "import datetime\n",
    "today = datetime.date.today()\n",
    "print(today)\n",
    "print('ctime:', today.ctime())\n",
    "print('tuple:', today.timetuple())\n",
    "print('ordinal:', today.toordinal()) # Each day has a value of 1, starting from january 01 0001\n",
    "print('Year :', today.year)\n",
    "print('Month:', today.month)\n",
    "print('Day  :', today.day)\n",
    "print(datetime.date.today().hour)"
   ]
  },
  {
   "cell_type": "code",
   "execution_count": 16,
   "metadata": {
    "scrolled": true
   },
   "outputs": [
    {
     "name": "stdout",
     "output_type": "stream",
     "text": [
      "2022-04-02\n",
      "2022-04-01\n"
     ]
    },
    {
     "ename": "ValueError",
     "evalue": "day is out of range for month",
     "output_type": "error",
     "traceback": [
      "\u001b[1;31m---------------------------------------------------------------------------\u001b[0m",
      "\u001b[1;31mValueError\u001b[0m                                Traceback (most recent call last)",
      "\u001b[1;32m<ipython-input-16-78ce619dc322>\u001b[0m in \u001b[0;36m<module>\u001b[1;34m\u001b[0m\n\u001b[0;32m      3\u001b[0m \u001b[0mtoday\u001b[0m \u001b[1;33m=\u001b[0m \u001b[0mdatetime\u001b[0m\u001b[1;33m.\u001b[0m\u001b[0mdate\u001b[0m\u001b[1;33m(\u001b[0m\u001b[0mtoday\u001b[0m\u001b[1;33m.\u001b[0m\u001b[0myear\u001b[0m\u001b[1;33m,\u001b[0m \u001b[0mtoday\u001b[0m\u001b[1;33m.\u001b[0m\u001b[0mmonth\u001b[0m\u001b[1;33m,\u001b[0m \u001b[0mday\u001b[0m \u001b[1;33m=\u001b[0m \u001b[0mtoday\u001b[0m\u001b[1;33m.\u001b[0m\u001b[0mday\u001b[0m\u001b[1;33m-\u001b[0m\u001b[1;36m1\u001b[0m\u001b[1;33m)\u001b[0m\u001b[1;33m\u001b[0m\u001b[1;33m\u001b[0m\u001b[0m\n\u001b[0;32m      4\u001b[0m \u001b[0mprint\u001b[0m\u001b[1;33m(\u001b[0m\u001b[0mtoday\u001b[0m\u001b[1;33m)\u001b[0m\u001b[1;33m\u001b[0m\u001b[1;33m\u001b[0m\u001b[0m\n\u001b[1;32m----> 5\u001b[1;33m \u001b[0mtoday\u001b[0m \u001b[1;33m=\u001b[0m \u001b[0mdatetime\u001b[0m\u001b[1;33m.\u001b[0m\u001b[0mdate\u001b[0m\u001b[1;33m(\u001b[0m\u001b[0mtoday\u001b[0m\u001b[1;33m.\u001b[0m\u001b[0myear\u001b[0m\u001b[1;33m,\u001b[0m \u001b[0mtoday\u001b[0m\u001b[1;33m.\u001b[0m\u001b[0mmonth\u001b[0m\u001b[1;33m-\u001b[0m\u001b[1;36m1\u001b[0m\u001b[1;33m,\u001b[0m \u001b[0mday\u001b[0m \u001b[1;33m=\u001b[0m \u001b[0mtoday\u001b[0m\u001b[1;33m.\u001b[0m\u001b[0mday\u001b[0m\u001b[1;33m-\u001b[0m\u001b[1;36m1\u001b[0m\u001b[1;33m)\u001b[0m\u001b[1;33m\u001b[0m\u001b[1;33m\u001b[0m\u001b[0m\n\u001b[0m\u001b[0;32m      6\u001b[0m \u001b[0mprint\u001b[0m\u001b[1;33m(\u001b[0m\u001b[0mtoday\u001b[0m\u001b[1;33m)\u001b[0m\u001b[1;33m\u001b[0m\u001b[1;33m\u001b[0m\u001b[0m\n",
      "\u001b[1;31mValueError\u001b[0m: day is out of range for month"
     ]
    }
   ],
   "source": [
    "today = datetime.date.today()\n",
    "print(today)\n",
    "today = datetime.date(today.year, today.month, day = today.day-1)\n",
    "print(today)\n",
    "today = datetime.date(today.year, today.month-1, day = today.day-1)\n",
    "print(today)\n"
   ]
  },
  {
   "cell_type": "markdown",
   "metadata": {},
   "source": [
    "#### find day of 100 days before current day"
   ]
  },
  {
   "cell_type": "code",
   "execution_count": 30,
   "metadata": {},
   "outputs": [
    {
     "name": "stdout",
     "output_type": "stream",
     "text": [
      "2022-02-11\n",
      "2022-02-10\n"
     ]
    }
   ],
   "source": [
    "today = datetime.date.today()\n",
    "days_difference = datetime.timedelta(days=50,hours=20)\n",
    "\n",
    "days_difference_withhours = datetime.timedelta(days=50,hours=25)\n",
    "days_100_old = today-days_difference\n",
    "print(days_100_old)\n",
    "days_100_old = today-days_difference_withhours\n",
    "print(days_100_old)"
   ]
  },
  {
   "cell_type": "code",
   "execution_count": 43,
   "metadata": {},
   "outputs": [
    {
     "name": "stdout",
     "output_type": "stream",
     "text": [
      "Today : 2022-04-02 19:07:01.119043\n",
      "2022-08-31 15:07:01.119043\n",
      "2022-08-31 18:07:01.119043\n"
     ]
    }
   ],
   "source": [
    "today = datetime.datetime.today()\n",
    "print(\"Today :\", today)\n",
    "days_difference = datetime.timedelta(days=150,hours=20)\n",
    "\n",
    "days_difference_withhours = datetime.timedelta(days=150,hours=23)\n",
    "days_100_old = today+days_difference\n",
    "print(days_100_old)\n",
    "days_100_old = today+days_difference_withhours\n",
    "print(days_100_old)"
   ]
  },
  {
   "cell_type": "code",
   "execution_count": 55,
   "metadata": {},
   "outputs": [
    {
     "data": {
      "text/plain": [
       "'Wed Aug 31 18:07:01 2022'"
      ]
     },
     "execution_count": 55,
     "metadata": {},
     "output_type": "execute_result"
    }
   ],
   "source": [
    "days_100_old.ctime()"
   ]
  },
  {
   "cell_type": "code",
   "execution_count": 44,
   "metadata": {},
   "outputs": [
    {
     "data": {
      "text/plain": [
       "time.struct_time(tm_year=2022, tm_mon=8, tm_mday=31, tm_hour=18, tm_min=7, tm_sec=1, tm_wday=2, tm_yday=243, tm_isdst=-1)"
      ]
     },
     "execution_count": 44,
     "metadata": {},
     "output_type": "execute_result"
    }
   ],
   "source": [
    "days_100_old.timetuple()"
   ]
  },
  {
   "cell_type": "code",
   "execution_count": 54,
   "metadata": {},
   "outputs": [
    {
     "name": "stdout",
     "output_type": "stream",
     "text": [
      "Apr\n",
      "April\n",
      "Sat\n",
      "Saturday\n",
      "6\n",
      "07\n",
      "07 PM\n",
      "\n"
     ]
    }
   ],
   "source": [
    "today = datetime.datetime.now()\n",
    "print(today.strftime('%b'))\n",
    "print(today.strftime('%B'))\n",
    "print(today.strftime('%a'))\n",
    "print(today.strftime('%A'))\n",
    "print(today.strftime('%w'))\n",
    "print(today.strftime('%I'))\n",
    "print(today.strftime('%I %p'))\n",
    "print(today.strftime('%Z'))"
   ]
  },
  {
   "cell_type": "code",
   "execution_count": null,
   "metadata": {},
   "outputs": [],
   "source": [
    "import time\n",
    "pattern = '%d.%m.%Y--%H:%M:%S:%f'\n",
    "#pattern = '%H:%M:%S:%f'\n",
    "current_time = datetime.datetime.now()\n",
    "print(\"current time :\", current_time)\n",
    "print(type(current_time))\n",
    "\n",
    "date_time = current_time.strftime(pattern)\n",
    "print(date_time)\n",
    "print(type(date_time))\n",
    "print(\"################################\")\n",
    "\n",
    "pattern = '%d.%m.%Y--%H:%M:%S:%f'\n",
    "date_time_obj = time.strptime(date_time, pattern) \n",
    "print(date_time_obj, type(date_time_obj))\n",
    "print(date_time_obj.tm_hour)\n",
    "\n",
    "\n",
    "print(time.strptime(date_time, pattern))\n",
    "print(type(time.strptime(date_time, pattern)))\n",
    "print(time.strptime(date_time, pattern))\n",
    "\n",
    "epoch = int(time.mktime(time.strptime(date_time, pattern)))\n",
    "#epoch = int(time.mktime(time.strptime(date_time, '%S')))\n",
    "#epoch = int(time.mktime(datetime.datetime.now()))\n",
    "print(epoch)"
   ]
  },
  {
   "cell_type": "code",
   "execution_count": null,
   "metadata": {},
   "outputs": [],
   "source": [
    "d1 = datetime.date(2015, 3, 11)\n",
    "print('d1:', d1)\n",
    "print(d1.toordinal())\n",
    "print(\"#####################################\")\n",
    "d2 = d1.replace(year=2014)\n",
    "print('d2:', d2)\n",
    "print(d2.toordinal())\n",
    "print(\"#####################################\")\n",
    "d3 = d1.replace(year=2020, month=2,day=29)\n",
    "print('d3:', d3)\n",
    "print(d3.toordinal())\n",
    "d1.replace(2020,9,30)"
   ]
  },
  {
   "cell_type": "markdown",
   "metadata": {},
   "source": [
    "As with time, the range of date values supported can be determined using the min and max attributes."
   ]
  },
  {
   "cell_type": "code",
   "execution_count": null,
   "metadata": {},
   "outputs": [],
   "source": [
    "print('Earliest  :', datetime.date.min)\n",
    "print('Latest    :', datetime.date.max)\n",
    "print('Resolution:', datetime.date.resolution)"
   ]
  },
  {
   "cell_type": "markdown",
   "metadata": {},
   "source": [
    "Another way to create new date instances uses the replace() method of an existing date. For example, you can change the year, leaving the day and month alone."
   ]
  },
  {
   "cell_type": "code",
   "execution_count": null,
   "metadata": {},
   "outputs": [],
   "source": [
    "d1 = datetime.date(2021, 3, 11)\n",
    "print('d1:', d1)\n",
    "\n",
    "d2 = d1.replace(year=2022)\n",
    "print('d2:', d2)\n",
    "\n",
    "\n",
    "d3 = d1.replace(month=12)\n",
    "print('d3:', d3)\n",
    "\n",
    "d4 = d1.replace(day=20)\n",
    "print('d4:', d4)\n",
    "\n",
    "d5 = d1.replace(1)\n",
    "print('d5:', d5)\n",
    "\n",
    "d6 = d1.replace(1,12)\n",
    "print('d6:', d6)\n",
    "\n",
    "d7 = d1.replace(9991,12,31)\n",
    "print('d7:', d7)\n"
   ]
  },
  {
   "cell_type": "markdown",
   "metadata": {},
   "source": [
    "# Arithmetic\n",
    "We can perform arithmetic on date objects to check for time differences. For example:"
   ]
  },
  {
   "cell_type": "code",
   "execution_count": null,
   "metadata": {},
   "outputs": [],
   "source": [
    "d1"
   ]
  },
  {
   "cell_type": "code",
   "execution_count": null,
   "metadata": {},
   "outputs": [],
   "source": [
    "d2"
   ]
  },
  {
   "cell_type": "code",
   "execution_count": null,
   "metadata": {},
   "outputs": [],
   "source": [
    "d1-d2"
   ]
  },
  {
   "cell_type": "markdown",
   "metadata": {},
   "source": [
    "#### time delta on datetime objects"
   ]
  },
  {
   "cell_type": "code",
   "execution_count": null,
   "metadata": {},
   "outputs": [],
   "source": [
    "current_datetime = datetime.datetime.now()\n",
    "current_datetime"
   ]
  },
  {
   "cell_type": "code",
   "execution_count": null,
   "metadata": {},
   "outputs": [],
   "source": [
    "time_old_1 = datetime.datetime(2018,10,15)\n",
    "time_old_1"
   ]
  },
  {
   "cell_type": "code",
   "execution_count": null,
   "metadata": {},
   "outputs": [],
   "source": [
    "current_datetime - time_old_1"
   ]
  },
  {
   "cell_type": "code",
   "execution_count": null,
   "metadata": {},
   "outputs": [],
   "source": [
    "print(current_datetime - time_old_1)\n",
    "print((current_datetime - time_old_1).total_seconds())\n",
    "print((current_datetime - time_old_1).total_seconds()/60)\n",
    "print((current_datetime - time_old_1).total_seconds()/60/60)\n",
    "print((current_datetime - time_old_1).total_seconds()/60/60/24)"
   ]
  },
  {
   "cell_type": "markdown",
   "metadata": {},
   "source": [
    "### Formatting Date time to different string formats in string "
   ]
  },
  {
   "cell_type": "code",
   "execution_count": null,
   "metadata": {},
   "outputs": [],
   "source": [
    "from datetime import datetime\n",
    "print(str(datetime.now()))\n",
    "print(type(datetime.now()))\n",
    "print(\"####################################################\")\n",
    "print(datetime.now().strftime('%Y-%m-%d-%H %M %S %f'))\n",
    "print(\"####################################################\")\n",
    "print(datetime.now().strftime('%d-%H %M %S %f'))\n",
    "print(\"####################################################\")\n",
    "print(datetime.now().strftime('%H %M %S %f'))\n",
    "print(\"####################################################\")\n",
    "print(datetime.now().strftime('%H$%M$%S$%f'))\n",
    "print(\"####################################################\")"
   ]
  },
  {
   "cell_type": "code",
   "execution_count": null,
   "metadata": {},
   "outputs": [],
   "source": [
    "from datetime import datetime\n",
    "newtime = str(datetime.now().strftime('%Y-%m-%d-%H %M %S'))\n",
    "print(newtime,\"\\t\",type(newtime))\n",
    "print(\"####################################################\")\n",
    "Previoustime = datetime.strptime('2011-11-15 07 54 38 002300','%Y-%m-%d %H %M %S %f')### provide the formatters in the same way as \n",
    "                                                                           #string datetime to parse the string\n",
    "print(Previoustime,\"\\t\",type(Previoustime))\n",
    "print(type(Previoustime))\n",
    "print(Previoustime.year)\n",
    "print(Previoustime.month)\n",
    "print(Previoustime.day)\n",
    "print(Previoustime.hour)\n",
    "print(Previoustime.minute)\n",
    "print(Previoustime.second)\n",
    "print(Previoustime.microsecond)\n",
    "print(\"####################################################\")\n",
    "\n",
    "newtime1 = datetime.strptime(newtime,'%Y-%m-%d-%H %M %S')\n",
    "print(newtime1)\n",
    "\n"
   ]
  },
  {
   "cell_type": "code",
   "execution_count": null,
   "metadata": {},
   "outputs": [],
   "source": [
    "################################################\n",
    "print(\"#######################Calculating time difference #############################\")\n",
    "timedifference = newtime1 - Previoustime\n",
    "print(timedifference, type(timedifference))\n",
    "secstime = (newtime1 - Previoustime).total_seconds()\n",
    "print(\"total seconds\", secstime)\n",
    "totalminutes = secstime /60\n",
    "# total timedifference between two timestamps in seconds, gives us the uptime between previous ping and current ping \n",
    "print(\"total minutes\",totalminutes)\n",
    "totalhours = totalminutes /60\n",
    "print(\"total hours\",totalhours)\n",
    "totaldays = totalhours /24\n",
    "print(\"total days\",totaldays)"
   ]
  },
  {
   "cell_type": "code",
   "execution_count": null,
   "metadata": {},
   "outputs": [],
   "source": [
    "from datetime import datetime\n",
    "def datetimediffsecs(oldtime):\n",
    "    newtime = str(datetime.now().strftime('%Y-%m-%d %H %M %S'))\n",
    "    Previoustime = datetime.strptime(str(oldtime), '%Y-%m-%d %H:%M:%S.%f')\n",
    "    Currenttime = datetime.strptime(newtime, '%Y-%m-%d %H %M %S')\n",
    "    secstime = (Currenttime - Previoustime).total_seconds()  # total timedifference between two timestamps in seconds, gives us the uptime between previous ping and current ping \n",
    "    return secstime\n",
    "print(datetime.now())\n",
    "print(datetimediffsecs(datetime.now()))"
   ]
  },
  {
   "cell_type": "markdown",
   "metadata": {},
   "source": [
    "This gives us the difference in days between the two dates. You can use the timedelta method to specify various units of times (days, minutes, hours, etc.)\n",
    "\n",
    "Great! You should now have a basic understanding of how to use datetime with Python to work with timestamps in your code!"
   ]
  }
 ],
 "metadata": {
  "kernelspec": {
   "display_name": "Python 3",
   "language": "python",
   "name": "python3"
  },
  "language_info": {
   "codemirror_mode": {
    "name": "ipython",
    "version": 3
   },
   "file_extension": ".py",
   "mimetype": "text/x-python",
   "name": "python",
   "nbconvert_exporter": "python",
   "pygments_lexer": "ipython3",
   "version": "3.9.1"
  }
 },
 "nbformat": 4,
 "nbformat_minor": 1
}
