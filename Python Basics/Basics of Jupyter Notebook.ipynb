{
 "cells": [
  {
   "cell_type": "markdown",
   "metadata": {},
   "source": [
    "# JupyterNotebook Basics "
   ]
  },
  {
   "cell_type": "raw",
   "metadata": {},
   "source": [
    "# JupyterNotebook Basics \n",
    "## JupyterNotebook Basics \n",
    "###  JupyterNotebook Basics \n",
    "####  JupyterNotebook Basics \n",
    "#####  JupyterNotebook Basics \n",
    "######  JupyterNotebook Basics \n",
    "\n",
    "<h1> Jupyter Notebook Basics </h1>\n",
    "<h2> Jupyter Notebook Basics </h2>\n",
    "<h3> Jupyter Notebook Basics </h3>\n",
    "<h4> Jupyter Notebook Basics </h4>\n",
    "<h5> Jupyter Notebook Basics </h5>\n",
    "<h6> Jupyter Notebook Basics </h6>\n"
   ]
  },
  {
   "cell_type": "markdown",
   "metadata": {},
   "source": [
    "#### Reference\n",
    "<a href=\"https://jupyter.brynmawr.edu/services/public/dblank/Jupyter%20Notebook%20Users%20Manual.ipynb\">Jupyter Notebook Reference</a> "
   ]
  },
  {
   "cell_type": "markdown",
   "metadata": {},
   "source": [
    "#### BasicCommands "
   ]
  },
  {
   "cell_type": "markdown",
   "metadata": {},
   "source": [
    "<li>A - Create a cell Above </li>\n",
    "<li>B - Create a cell Below </li>\n",
    "<li>DD - Delete the cell</li>\n",
    "<li>Ctrl + Enter - Execute the Cell </li>\n",
    "<li>Shift + Enter - Execute the Cell and move to next cell(creates one if no cell below) </li>\n",
    "<li>Alt + Enter - Execute the Cell and Create a cell Below </li>"
   ]
  },
  {
   "cell_type": "markdown",
   "metadata": {},
   "source": [
    "<li>Y - Change cell to Code </li>\n",
    "<li>M - Change cell to MarkDown </li>\n",
    "<li>R - Change cell to RawNbConvert </li>\n",
    "<li>Keys 1-6 Change to cell type heading </li>"
   ]
  },
  {
   "cell_type": "markdown",
   "metadata": {},
   "source": [
    "### Create a Heading with '#'"
   ]
  },
  {
   "cell_type": "markdown",
   "metadata": {},
   "source": [
    "# keys (1-6) 1 being largest"
   ]
  },
  {
   "cell_type": "markdown",
   "metadata": {},
   "source": [
    "#### Create a table like structure"
   ]
  },
  {
   "cell_type": "markdown",
   "metadata": {},
   "source": [
    "|Header|Header|Header|Header|\n",
    "|------|------|------|------|\n",
    "|Cell  |Cell  |Cell  |1234  |\n",
    "|Cell  |Cell  |Cell  | Cell |\n",
    "|Cell  |Cell  |Cell  | Cell |\n",
    "|Cell  |Cell  |Cell  | Cell |"
   ]
  },
  {
   "cell_type": "markdown",
   "metadata": {},
   "source": [
    "|KEY|USAGE|Description|\n",
    "|------|------|------|\n",
    "|A|Create Cell Above||\n",
    "|B|Create Cell Below||\n",
    "|DD|Delete Cell||\n",
    "|Ctrl + Enter|Execute the Cell||\n",
    "|Shift+ Enter|Execute and create cell if not exist||\n",
    "|Alt+ Enter|Execute and Create Cell||\n",
    "|Y|Convert the cell to Code type||\n",
    "|R|Convert the Cell to RawNB Convert||\n",
    "|M|Convert the Cell to MarkDown||\n",
    "|#Heading Name|(Link to Heading)||"
   ]
  },
  {
   "cell_type": "markdown",
   "metadata": {},
   "source": [
    "---"
   ]
  },
  {
   "cell_type": "markdown",
   "metadata": {},
   "source": [
    "## emphasis"
   ]
  },
  {
   "cell_type": "raw",
   "metadata": {},
   "source": [
    "To create Italics use single underscore or asterisk before and after the word\n",
    "*Hello World*\n",
    "_Hello World_"
   ]
  },
  {
   "cell_type": "markdown",
   "metadata": {},
   "source": [
    "\n",
    "*Hello World*\n",
    "\n",
    "_Hello World_"
   ]
  },
  {
   "cell_type": "raw",
   "metadata": {},
   "source": [
    "To create Italics use single underscore or asterisk before and after the word\n",
    "**Hello World**\n",
    "__Hello World__"
   ]
  },
  {
   "cell_type": "markdown",
   "metadata": {},
   "source": [
    "**Hello World**\n",
    "\n",
    "__Hello World__"
   ]
  },
  {
   "cell_type": "raw",
   "metadata": {},
   "source": [
    "Bold and Italics together\n",
    "use\n",
    "***your word***\n",
    "___your word___"
   ]
  },
  {
   "cell_type": "markdown",
   "metadata": {},
   "source": [
    "***Hello World***\n",
    "<br>\n",
    "___Hello World___\n",
    "<br>\n",
    "<br> Bold and Italic Mixed in between\n",
    "<br>\n",
    "**Hello *World*** "
   ]
  },
  {
   "cell_type": "markdown",
   "metadata": {},
   "source": [
    "### Latex Support\n"
   ]
  },
  {
   "cell_type": "raw",
   "metadata": {},
   "source": [
    "Jupyter uses latex to write mathematical equations \n",
    "enclose your mathematical functions within dollars"
   ]
  },
  {
   "cell_type": "raw",
   "metadata": {},
   "source": [
    "z=\\dfrac{2x}{3y}"
   ]
  },
  {
   "cell_type": "markdown",
   "metadata": {},
   "source": [
    "$z=\\dfrac{2x}{3y}$"
   ]
  },
  {
   "cell_type": "raw",
   "metadata": {},
   "source": [
    "$F(k) = \\int_{-\\infty}^{\\infty} f(x) e^{2\\pi i k} dx$"
   ]
  },
  {
   "cell_type": "markdown",
   "metadata": {},
   "source": [
    "$F(k) = \\int_{-\\infty}^{\\infty} f(x) e^{2\\pi i k} dx$"
   ]
  },
  {
   "cell_type": "markdown",
   "metadata": {},
   "source": [
    "#### To Navigate to an existing Header within the same notebook"
   ]
  },
  {
   "cell_type": "raw",
   "metadata": {},
   "source": [
    "[navigation text](#AnyHeaderReferred)"
   ]
  },
  {
   "cell_type": "markdown",
   "metadata": {},
   "source": [
    "[Back to Basic Commands](#BasicCommands) "
   ]
  },
  {
   "cell_type": "markdown",
   "metadata": {},
   "source": [
    "[For More commands refer](#Reference)"
   ]
  },
  {
   "cell_type": "markdown",
   "metadata": {},
   "source": [
    "---"
   ]
  },
  {
   "cell_type": "raw",
   "metadata": {},
   "source": [
    "#### Groceries:\n",
    "\n",
    "0. Fruit:\n",
    "    6. Pears\n",
    "    0. Peaches\n",
    "    3. Plums\n",
    "    4. Apples \n",
    "        2. Granny Smith \n",
    "        7. Gala\n",
    "    * Oranges\n",
    "    - Berries \n",
    "        8. Strawberries \n",
    "        + Blueberries\n",
    "        * Raspberries\n",
    "    - Bananas\n",
    "9. Bread:\n",
    "    9. Whole Wheat\n",
    "        0. With oats on crust\n",
    "        0. Without oats on crust\n",
    "    0. Rye \n",
    "    0. White\n",
    "0. Dairy:\n",
    "    0. Milk\n",
    "        0. Whole\n",
    "        0. Skim\n",
    "    0. Cheese\n",
    "        0. Wisconsin Cheddar\n",
    "        0. Pepper Jack"
   ]
  },
  {
   "cell_type": "markdown",
   "metadata": {},
   "source": [
    "####Groceries:\n",
    "\n",
    "1. Fruit:\n",
    "    1. Pears\n",
    "    0. Peaches\n",
    "    3. Plums\n",
    "    4. Apples \n",
    "        2. Granny Smith \n",
    "        7. Gala\n",
    "    * Oranges\n",
    "    - Berries \n",
    "        8. Strawberries \n",
    "        + Blueberries\n",
    "        * Raspberries\n",
    "    - Bananas\n",
    "9. Bread:\n",
    "    9. Whole Wheat\n",
    "        0. With oats on crust\n",
    "        0. Without oats on crust\n",
    "    0. Rye \n",
    "    0. White\n",
    "0. Dairy:\n",
    "    0. Milk\n",
    "        0. Whole\n",
    "        0. Skim\n",
    "    0. Cheese\n",
    "        0. Wisconsin Cheddar\n",
    "        0. Pepper Jack"
   ]
  },
  {
   "cell_type": "markdown",
   "metadata": {},
   "source": [
    "#### Bulleted List"
   ]
  },
  {
   "cell_type": "markdown",
   "metadata": {},
   "source": [
    "####Groceries:\n",
    "\n",
    "* Fruit:\n",
    "    * guava\n",
    "    *  Pears\n",
    "    0. Peaches\n",
    "    3. Plums\n",
    "    4. Apples \n",
    "        - Granny Smith \n",
    "        7. Gala\n",
    "    * Oranges\n",
    "    - Berries \n",
    "        - Strawberries \n",
    "        + Blueberries\n",
    "        * Raspberries\n",
    "    - Bananas\n",
    "9. Bread:\n",
    "    * Whole Wheat\n",
    "        * With oats on crust\n",
    "        0. Without oats on crust\n",
    "    + Rye \n",
    "    0. White\n",
    "0. Dairy:\n",
    "    * Milk\n",
    "        + Whole\n",
    "        0. Skim\n",
    "    - Cheese\n",
    "        - Wisconsin Cheddar\n",
    "        0. Pepper Jack"
   ]
  },
  {
   "cell_type": "markdown",
   "metadata": {},
   "source": [
    "### Section breaks"
   ]
  },
  {
   "cell_type": "raw",
   "metadata": {},
   "source": [
    "* * *"
   ]
  },
  {
   "cell_type": "markdown",
   "metadata": {},
   "source": [
    "* * *"
   ]
  },
  {
   "cell_type": "raw",
   "metadata": {},
   "source": [
    "_ _ _\n"
   ]
  },
  {
   "cell_type": "markdown",
   "metadata": {},
   "source": [
    "_ _ _\n"
   ]
  },
  {
   "cell_type": "code",
   "execution_count": null,
   "metadata": {},
   "outputs": [],
   "source": []
  }
 ],
 "metadata": {
  "kernelspec": {
   "display_name": "Python 3 (ipykernel)",
   "language": "python",
   "name": "python3"
  },
  "language_info": {
   "codemirror_mode": {
    "name": "ipython",
    "version": 3
   },
   "file_extension": ".py",
   "mimetype": "text/x-python",
   "name": "python",
   "nbconvert_exporter": "python",
   "pygments_lexer": "ipython3",
   "version": "3.10.4"
  }
 },
 "nbformat": 4,
 "nbformat_minor": 4
}
