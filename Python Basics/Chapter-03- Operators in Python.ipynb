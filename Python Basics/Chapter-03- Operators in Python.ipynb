{
 "cells": [
  {
   "cell_type": "code",
   "execution_count": null,
   "metadata": {},
   "outputs": [],
   "source": []
  },
  {
   "cell_type": "markdown",
   "metadata": {},
   "source": [
    "<table style=\"width:100%\">\n",
    "<colgroup>\n",
    "<col style=\"width: 26%\">\n",
    "<col style=\"width: 29%\">\n",
    "<col style=\"width: 45%\">\n",
    "</colgroup>\n",
    "<thead>\n",
    "<tr class=\"row-odd\"><th class=\"head\"><p>Operation</p></th>\n",
    "<th class=\"head\"><p>Syntax</p></th>\n",
    "<th class=\"head\"><p>Function</p></th>\n",
    "</tr>\n",
    "</thead>\n",
    "<tbody>\n",
    "<tr class=\"row-even\"><td><p>Addition</p></td>\n",
    "<td><p><code class=\"docutils literal notranslate\"><span class=\"pre\">a</span> <span class=\"pre\">+</span> <span class=\"pre\">b</span></code></p></td>\n",
    "<td><p><code class=\"docutils literal notranslate\"><span class=\"pre\">add(a,</span> <span class=\"pre\">b)</span></code></p></td>\n",
    "</tr>\n",
    "<tr class=\"row-odd\"><td><p>Concatenation</p></td>\n",
    "<td><p><code class=\"docutils literal notranslate\"><span class=\"pre\">seq1</span> <span class=\"pre\">+</span> <span class=\"pre\">seq2</span></code></p></td>\n",
    "<td><p><code class=\"docutils literal notranslate\"><span class=\"pre\">concat(seq1,</span> <span class=\"pre\">seq2)</span></code></p></td>\n",
    "</tr>\n",
    "<tr class=\"row-even\"><td><p>Containment Test</p></td>\n",
    "<td><p><code class=\"docutils literal notranslate\"><span class=\"pre\">obj</span> <span class=\"pre\">in</span> <span class=\"pre\">seq</span></code></p></td>\n",
    "<td><p><code class=\"docutils literal notranslate\"><span class=\"pre\">contains(seq,</span> <span class=\"pre\">obj)</span></code></p></td>\n",
    "</tr>\n",
    "<tr class=\"row-odd\"><td><p>Division</p></td>\n",
    "<td><p><code class=\"docutils literal notranslate\"><span class=\"pre\">a</span> <span class=\"pre\">/</span> <span class=\"pre\">b</span></code></p></td>\n",
    "<td><p><code class=\"docutils literal notranslate\"><span class=\"pre\">truediv(a,</span> <span class=\"pre\">b)</span></code></p></td>\n",
    "</tr>\n",
    "<tr class=\"row-even\"><td><p>Division</p></td>\n",
    "<td><p><code class=\"docutils literal notranslate\"><span class=\"pre\">a</span> <span class=\"pre\">//</span> <span class=\"pre\">b</span></code></p></td>\n",
    "<td><p><code class=\"docutils literal notranslate\"><span class=\"pre\">floordiv(a,</span> <span class=\"pre\">b)</span></code></p></td>\n",
    "</tr>\n",
    "<tr class=\"row-odd\"><td><p>Bitwise And</p></td>\n",
    "<td><p><code class=\"docutils literal notranslate\"><span class=\"pre\">a</span> <span class=\"pre\">&amp;</span> <span class=\"pre\">b</span></code></p></td>\n",
    "<td><p><code class=\"docutils literal notranslate\"><span class=\"pre\">and_(a,</span> <span class=\"pre\">b)</span></code></p></td>\n",
    "</tr>\n",
    "<tr class=\"row-even\"><td><p>Bitwise Exclusive Or</p></td>\n",
    "<td><p><code class=\"docutils literal notranslate\"><span class=\"pre\">a</span> <span class=\"pre\">^</span> <span class=\"pre\">b</span></code></p></td>\n",
    "<td><p><code class=\"docutils literal notranslate\"><span class=\"pre\">xor(a,</span> <span class=\"pre\">b)</span></code></p></td>\n",
    "</tr>\n",
    "<tr class=\"row-odd\"><td><p>Bitwise Inversion</p></td>\n",
    "<td><p><code class=\"docutils literal notranslate\"><span class=\"pre\">~</span> <span class=\"pre\">a</span></code></p></td>\n",
    "<td><p><code class=\"docutils literal notranslate\"><span class=\"pre\">invert(a)</span></code></p></td>\n",
    "</tr>\n",
    "<tr class=\"row-even\"><td><p>Bitwise Or</p></td>\n",
    "<td><p><code class=\"docutils literal notranslate\"><span class=\"pre\">a</span> <span class=\"pre\">|</span> <span class=\"pre\">b</span></code></p></td>\n",
    "<td><p><code class=\"docutils literal notranslate\"><span class=\"pre\">or_(a,</span> <span class=\"pre\">b)</span></code></p></td>\n",
    "</tr>\n",
    "<tr class=\"row-odd\"><td><p>Exponentiation</p></td>\n",
    "<td><p><code class=\"docutils literal notranslate\"><span class=\"pre\">a</span> <span class=\"pre\">**</span> <span class=\"pre\">b</span></code></p></td>\n",
    "<td><p><code class=\"docutils literal notranslate\"><span class=\"pre\">pow(a,</span> <span class=\"pre\">b)</span></code></p></td>\n",
    "</tr>\n",
    "<tr class=\"row-even\"><td><p>Identity</p></td>\n",
    "<td><p><code class=\"docutils literal notranslate\"><span class=\"pre\">a</span> <span class=\"pre\">is</span> <span class=\"pre\">b</span></code></p></td>\n",
    "<td><p><code class=\"docutils literal notranslate\"><span class=\"pre\">is_(a,</span> <span class=\"pre\">b)</span></code></p></td>\n",
    "</tr>\n",
    "<tr class=\"row-odd\"><td><p>Identity</p></td>\n",
    "<td><p><code class=\"docutils literal notranslate\"><span class=\"pre\">a</span> <span class=\"pre\">is</span> <span class=\"pre\">not</span> <span class=\"pre\">b</span></code></p></td>\n",
    "<td><p><code class=\"docutils literal notranslate\"><span class=\"pre\">is_not(a,</span> <span class=\"pre\">b)</span></code></p></td>\n",
    "</tr>\n",
    "<tr class=\"row-even\"><td><p>Indexed Assignment</p></td>\n",
    "<td><p><code class=\"docutils literal notranslate\"><span class=\"pre\">obj[k]</span> <span class=\"pre\">=</span> <span class=\"pre\">v</span></code></p></td>\n",
    "<td><p><code class=\"docutils literal notranslate\"><span class=\"pre\">setitem(obj,</span> <span class=\"pre\">k,</span> <span class=\"pre\">v)</span></code></p></td>\n",
    "</tr>\n",
    "<tr class=\"row-odd\"><td><p>Indexed Deletion</p></td>\n",
    "<td><p><code class=\"docutils literal notranslate\"><span class=\"pre\">del</span> <span class=\"pre\">obj[k]</span></code></p></td>\n",
    "<td><p><code class=\"docutils literal notranslate\"><span class=\"pre\">delitem(obj,</span> <span class=\"pre\">k)</span></code></p></td>\n",
    "</tr>\n",
    "<tr class=\"row-even\"><td><p>Indexing</p></td>\n",
    "<td><p><code class=\"docutils literal notranslate\"><span class=\"pre\">obj[k]</span></code></p></td>\n",
    "<td><p><code class=\"docutils literal notranslate\"><span class=\"pre\">getitem(obj,</span> <span class=\"pre\">k)</span></code></p></td>\n",
    "</tr>\n",
    "<tr class=\"row-odd\"><td><p>Left Shift</p></td>\n",
    "<td><p><code class=\"docutils literal notranslate\"><span class=\"pre\">a</span> <span class=\"pre\">&lt;&lt;</span> <span class=\"pre\">b</span></code></p></td>\n",
    "<td><p><code class=\"docutils literal notranslate\"><span class=\"pre\">lshift(a,</span> <span class=\"pre\">b)</span></code></p></td>\n",
    "</tr>\n",
    "<tr class=\"row-even\"><td><p>Modulo</p></td>\n",
    "<td><p><code class=\"docutils literal notranslate\"><span class=\"pre\">a</span> <span class=\"pre\">%</span> <span class=\"pre\">b</span></code></p></td>\n",
    "<td><p><code class=\"docutils literal notranslate\"><span class=\"pre\">mod(a,</span> <span class=\"pre\">b)</span></code></p></td>\n",
    "</tr>\n",
    "<tr class=\"row-odd\"><td><p>Multiplication</p></td>\n",
    "<td><p><code class=\"docutils literal notranslate\"><span class=\"pre\">a</span> <span class=\"pre\">*</span> <span class=\"pre\">b</span></code></p></td>\n",
    "<td><p><code class=\"docutils literal notranslate\"><span class=\"pre\">mul(a,</span> <span class=\"pre\">b)</span></code></p></td>\n",
    "</tr>\n",
    "<tr class=\"row-even\"><td><p>Matrix Multiplication</p></td>\n",
    "<td><p><code class=\"docutils literal notranslate\"><span class=\"pre\">a</span> <span class=\"pre\">@</span> <span class=\"pre\">b</span></code></p></td>\n",
    "<td><p><code class=\"docutils literal notranslate\"><span class=\"pre\">matmul(a,</span> <span class=\"pre\">b)</span></code></p></td>\n",
    "</tr>\n",
    "<tr class=\"row-odd\"><td><p>Negation (Arithmetic)</p></td>\n",
    "<td><p><code class=\"docutils literal notranslate\"><span class=\"pre\">-</span> <span class=\"pre\">a</span></code></p></td>\n",
    "<td><p><code class=\"docutils literal notranslate\"><span class=\"pre\">neg(a)</span></code></p></td>\n",
    "</tr>\n",
    "<tr class=\"row-even\"><td><p>Negation (Logical)</p></td>\n",
    "<td><p><code class=\"docutils literal notranslate\"><span class=\"pre\">not</span> <span class=\"pre\">a</span></code></p></td>\n",
    "<td><p><code class=\"docutils literal notranslate\"><span class=\"pre\">not_(a)</span></code></p></td>\n",
    "</tr>\n",
    "<tr class=\"row-odd\"><td><p>Positive</p></td>\n",
    "<td><p><code class=\"docutils literal notranslate\"><span class=\"pre\">+</span> <span class=\"pre\">a</span></code></p></td>\n",
    "<td><p><code class=\"docutils literal notranslate\"><span class=\"pre\">pos(a)</span></code></p></td>\n",
    "</tr>\n",
    "<tr class=\"row-even\"><td><p>Right Shift</p></td>\n",
    "<td><p><code class=\"docutils literal notranslate\"><span class=\"pre\">a</span> <span class=\"pre\">&gt;&gt;</span> <span class=\"pre\">b</span></code></p></td>\n",
    "<td><p><code class=\"docutils literal notranslate\"><span class=\"pre\">rshift(a,</span> <span class=\"pre\">b)</span></code></p></td>\n",
    "</tr>\n",
    "<tr class=\"row-odd\"><td><p>Slice Assignment</p></td>\n",
    "<td><p><code class=\"docutils literal notranslate\"><span class=\"pre\">seq[i:j]</span> <span class=\"pre\">=</span> <span class=\"pre\">values</span></code></p></td>\n",
    "<td><p><code class=\"docutils literal notranslate\"><span class=\"pre\">setitem(seq,</span> <span class=\"pre\">slice(i,</span> <span class=\"pre\">j),</span> <span class=\"pre\">values)</span></code></p></td>\n",
    "</tr>\n",
    "<tr class=\"row-even\"><td><p>Slice Deletion</p></td>\n",
    "<td><p><code class=\"docutils literal notranslate\"><span class=\"pre\">del</span> <span class=\"pre\">seq[i:j]</span></code></p></td>\n",
    "<td><p><code class=\"docutils literal notranslate\"><span class=\"pre\">delitem(seq,</span> <span class=\"pre\">slice(i,</span> <span class=\"pre\">j))</span></code></p></td>\n",
    "</tr>\n",
    "<tr class=\"row-odd\"><td><p>Slicing</p></td>\n",
    "<td><p><code class=\"docutils literal notranslate\"><span class=\"pre\">seq[i:j]</span></code></p></td>\n",
    "<td><p><code class=\"docutils literal notranslate\"><span class=\"pre\">getitem(seq,</span> <span class=\"pre\">slice(i,</span> <span class=\"pre\">j))</span></code></p></td>\n",
    "</tr>\n",
    "<tr class=\"row-even\"><td><p>String Formatting</p></td>\n",
    "<td><p><code class=\"docutils literal notranslate\"><span class=\"pre\">s</span> <span class=\"pre\">%</span> <span class=\"pre\">obj</span></code></p></td>\n",
    "<td><p><code class=\"docutils literal notranslate\"><span class=\"pre\">mod(s,</span> <span class=\"pre\">obj)</span></code></p></td>\n",
    "</tr>\n",
    "<tr class=\"row-odd\"><td><p>Subtraction</p></td>\n",
    "<td><p><code class=\"docutils literal notranslate\"><span class=\"pre\">a</span> <span class=\"pre\">-</span> <span class=\"pre\">b</span></code></p></td>\n",
    "<td><p><code class=\"docutils literal notranslate\"><span class=\"pre\">sub(a,</span> <span class=\"pre\">b)</span></code></p></td>\n",
    "</tr>\n",
    "<tr class=\"row-even\"><td><p>Truth Test</p></td>\n",
    "<td><p><code class=\"docutils literal notranslate\"><span class=\"pre\">obj</span></code></p></td>\n",
    "<td><p><code class=\"docutils literal notranslate\"><span class=\"pre\">truth(obj)</span></code></p></td>\n",
    "</tr>\n",
    "<tr class=\"row-odd\"><td><p>Ordering</p></td>\n",
    "<td><p><code class=\"docutils literal notranslate\"><span class=\"pre\">a</span> <span class=\"pre\">&lt;</span> <span class=\"pre\">b</span></code></p></td>\n",
    "<td><p><code class=\"docutils literal notranslate\"><span class=\"pre\">lt(a,</span> <span class=\"pre\">b)</span></code></p></td>\n",
    "</tr>\n",
    "<tr class=\"row-even\"><td><p>Ordering</p></td>\n",
    "<td><p><code class=\"docutils literal notranslate\"><span class=\"pre\">a</span> <span class=\"pre\">&lt;=</span> <span class=\"pre\">b</span></code></p></td>\n",
    "<td><p><code class=\"docutils literal notranslate\"><span class=\"pre\">le(a,</span> <span class=\"pre\">b)</span></code></p></td>\n",
    "</tr>\n",
    "<tr class=\"row-odd\"><td><p>Equality</p></td>\n",
    "<td><p><code class=\"docutils literal notranslate\"><span class=\"pre\">a</span> <span class=\"pre\">==</span> <span class=\"pre\">b</span></code></p></td>\n",
    "<td><p><code class=\"docutils literal notranslate\"><span class=\"pre\">eq(a,</span> <span class=\"pre\">b)</span></code></p></td>\n",
    "</tr>\n",
    "<tr class=\"row-even\"><td><p>Difference</p></td>\n",
    "<td><p><code class=\"docutils literal notranslate\"><span class=\"pre\">a</span> <span class=\"pre\">!=</span> <span class=\"pre\">b</span></code></p></td>\n",
    "<td><p><code class=\"docutils literal notranslate\"><span class=\"pre\">ne(a,</span> <span class=\"pre\">b)</span></code></p></td>\n",
    "</tr>\n",
    "<tr class=\"row-odd\"><td><p>Ordering</p></td>\n",
    "<td><p><code class=\"docutils literal notranslate\"><span class=\"pre\">a</span> <span class=\"pre\">&gt;=</span> <span class=\"pre\">b</span></code></p></td>\n",
    "<td><p><code class=\"docutils literal notranslate\"><span class=\"pre\">ge(a,</span> <span class=\"pre\">b)</span></code></p></td>\n",
    "</tr>\n",
    "<tr class=\"row-even\"><td><p>Ordering</p></td>\n",
    "<td><p><code class=\"docutils literal notranslate\"><span class=\"pre\">a</span> <span class=\"pre\">&gt;</span> <span class=\"pre\">b</span></code></p></td>\n",
    "<td><p><code class=\"docutils literal notranslate\"><span class=\"pre\">gt(a,</span> <span class=\"pre\">b)</span></code></p></td>\n",
    "</tr>\n",
    "</tbody>\n",
    "</table>"
   ]
  },
  {
   "cell_type": "markdown",
   "metadata": {},
   "source": [
    "#### Addition Operation"
   ]
  },
  {
   "cell_type": "code",
   "execution_count": 2,
   "metadata": {},
   "outputs": [
    {
     "name": "stdout",
     "output_type": "stream",
     "text": [
      "111\n"
     ]
    }
   ],
   "source": [
    "a = 123\n",
    "b =-12\n",
    "c = a + b\n",
    "print(c)"
   ]
  },
  {
   "cell_type": "markdown",
   "metadata": {},
   "source": [
    "#### Concatenation \n",
    "concatenation operation is used to combine two strings\n",
    "<br> here + symbol does concatenation when applied to two or more strings"
   ]
  },
  {
   "cell_type": "code",
   "execution_count": 1,
   "metadata": {},
   "outputs": [
    {
     "name": "stdout",
     "output_type": "stream",
     "text": [
      "Hello World\n"
     ]
    }
   ],
   "source": [
    "a = 'Hello'\n",
    "b = 'World'\n",
    "c =  a + \" \" + b\n",
    "print(c)"
   ]
  },
  {
   "cell_type": "markdown",
   "metadata": {},
   "source": [
    "#### Containment Test\n",
    "Containment is used to check the existence of one object in another one"
   ]
  },
  {
   "cell_type": "code",
   "execution_count": 6,
   "metadata": {},
   "outputs": [
    {
     "name": "stdout",
     "output_type": "stream",
     "text": [
      "True\n"
     ]
    }
   ],
   "source": [
    "a = [1,2,3]\n",
    "b = 2\n",
    "c = b in a \n",
    "print(c)"
   ]
  },
  {
   "cell_type": "code",
   "execution_count": 2,
   "metadata": {},
   "outputs": [
    {
     "name": "stdout",
     "output_type": "stream",
     "text": [
      "11.5\n"
     ]
    }
   ],
   "source": [
    "#### Division\n",
    "a = 23\n",
    "b = 2\n",
    "c = a/b\n",
    "print(c)"
   ]
  },
  {
   "cell_type": "code",
   "execution_count": 3,
   "metadata": {},
   "outputs": [
    {
     "name": "stdout",
     "output_type": "stream",
     "text": [
      "11\n"
     ]
    }
   ],
   "source": [
    "#### Integer Division\n",
    "a = 23\n",
    "b = 2\n",
    "c = a//b\n",
    "print(c)"
   ]
  },
  {
   "cell_type": "code",
   "execution_count": 4,
   "metadata": {},
   "outputs": [
    {
     "name": "stdout",
     "output_type": "stream",
     "text": [
      "11.0\n"
     ]
    }
   ],
   "source": [
    "a = 23.2\n",
    "b = 2\n",
    "c = a//b\n",
    "print(c)"
   ]
  },
  {
   "cell_type": "markdown",
   "metadata": {},
   "source": [
    "#### Bitwise And\n"
   ]
  },
  {
   "cell_type": "code",
   "execution_count": null,
   "metadata": {},
   "outputs": [],
   "source": [
    "010\n",
    "011\n",
    "----------\n",
    "010"
   ]
  },
  {
   "cell_type": "code",
   "execution_count": 6,
   "metadata": {},
   "outputs": [
    {
     "name": "stdout",
     "output_type": "stream",
     "text": [
      "2\n"
     ]
    }
   ],
   "source": [
    "a = 2\n",
    "b = 3\n",
    "c = a & b\n",
    "print(c)"
   ]
  },
  {
   "cell_type": "raw",
   "metadata": {},
   "source": [
    "000\n",
    "011\n",
    "----------\n",
    "000"
   ]
  },
  {
   "cell_type": "code",
   "execution_count": 7,
   "metadata": {},
   "outputs": [
    {
     "name": "stdout",
     "output_type": "stream",
     "text": [
      "0\n"
     ]
    }
   ],
   "source": [
    "a = 0\n",
    "b = 3\n",
    "c = a & b\n",
    "print(c)"
   ]
  },
  {
   "cell_type": "raw",
   "metadata": {},
   "source": [
    "1\n",
    "0\n",
    "----------\n",
    "0"
   ]
  },
  {
   "cell_type": "code",
   "execution_count": 9,
   "metadata": {},
   "outputs": [
    {
     "name": "stdout",
     "output_type": "stream",
     "text": [
      "False\n"
     ]
    }
   ],
   "source": [
    "a = True\n",
    "b = False\n",
    "c = a & b\n",
    "print(c)"
   ]
  },
  {
   "cell_type": "markdown",
   "metadata": {},
   "source": [
    "#### BitWise Or"
   ]
  },
  {
   "cell_type": "raw",
   "metadata": {},
   "source": [
    "010\n",
    "011\n",
    "----------\n",
    "011"
   ]
  },
  {
   "cell_type": "code",
   "execution_count": 13,
   "metadata": {},
   "outputs": [
    {
     "name": "stdout",
     "output_type": "stream",
     "text": [
      "3\n"
     ]
    }
   ],
   "source": [
    "a = 2\n",
    "b = 3\n",
    "c = a | b\n",
    "print(c)"
   ]
  },
  {
   "cell_type": "code",
   "execution_count": null,
   "metadata": {},
   "outputs": [],
   "source": [
    "100\n",
    "110\n",
    "----------\n",
    "110"
   ]
  },
  {
   "cell_type": "code",
   "execution_count": 15,
   "metadata": {},
   "outputs": [
    {
     "name": "stdout",
     "output_type": "stream",
     "text": [
      "6\n"
     ]
    }
   ],
   "source": [
    "a = 4\n",
    "b = 6\n",
    "c = a | b\n",
    "print(c)"
   ]
  },
  {
   "cell_type": "code",
   "execution_count": 3,
   "metadata": {},
   "outputs": [
    {
     "name": "stdout",
     "output_type": "stream",
     "text": [
      "True\n"
     ]
    }
   ],
   "source": [
    "a = True\n",
    "b = False\n",
    "c = a | b\n",
    "print(c)"
   ]
  },
  {
   "cell_type": "code",
   "execution_count": 2,
   "metadata": {},
   "outputs": [
    {
     "name": "stdout",
     "output_type": "stream",
     "text": [
      "False\n"
     ]
    }
   ],
   "source": [
    "a = False\n",
    "b = False\n",
    "c = a | b\n",
    "print(c)"
   ]
  },
  {
   "cell_type": "markdown",
   "metadata": {},
   "source": [
    "#### Bitwise Inversion"
   ]
  },
  {
   "cell_type": "raw",
   "metadata": {},
   "source": [
    "010\n",
    "101\n",
    "-----\n",
    "111\n",
    "--1\n",
    "-----\n",
    "1000\n"
   ]
  },
  {
   "cell_type": "markdown",
   "metadata": {},
   "source": []
  },
  {
   "cell_type": "code",
   "execution_count": 1,
   "metadata": {},
   "outputs": [
    {
     "data": {
      "text/plain": [
       "-3"
      ]
     },
     "execution_count": 1,
     "metadata": {},
     "output_type": "execute_result"
    }
   ],
   "source": [
    "a = 2\n",
    "~a\n"
   ]
  },
  {
   "cell_type": "code",
   "execution_count": 2,
   "metadata": {},
   "outputs": [
    {
     "data": {
      "text/plain": [
       "-9"
      ]
     },
     "execution_count": 2,
     "metadata": {},
     "output_type": "execute_result"
    }
   ],
   "source": [
    "a =8\n",
    "~a"
   ]
  },
  {
   "cell_type": "raw",
   "metadata": {},
   "source": [
    "1000\n",
    "0001 +1\n",
    "------\n",
    "-(1001)\n",
    "-(9)\n",
    "-9\n"
   ]
  },
  {
   "cell_type": "code",
   "execution_count": 23,
   "metadata": {},
   "outputs": [
    {
     "data": {
      "text/plain": [
       "-5"
      ]
     },
     "execution_count": 23,
     "metadata": {},
     "output_type": "execute_result"
    }
   ],
   "source": [
    "a=4\n",
    "~a"
   ]
  },
  {
   "cell_type": "code",
   "execution_count": null,
   "metadata": {},
   "outputs": [],
   "source": [
    "0100\n",
    "0101+1\n",
    "----\n",
    "\n"
   ]
  },
  {
   "cell_type": "code",
   "execution_count": 3,
   "metadata": {},
   "outputs": [
    {
     "data": {
      "text/plain": [
       "-11"
      ]
     },
     "execution_count": 3,
     "metadata": {},
     "output_type": "execute_result"
    }
   ],
   "source": [
    "a=10\n",
    "~a"
   ]
  },
  {
   "cell_type": "code",
   "execution_count": null,
   "metadata": {},
   "outputs": [],
   "source": [
    "1010\n",
    "1011\n",
    "-11"
   ]
  },
  {
   "cell_type": "markdown",
   "metadata": {},
   "source": [
    "### Truth Test"
   ]
  },
  {
   "cell_type": "code",
   "execution_count": 14,
   "metadata": {},
   "outputs": [
    {
     "name": "stdout",
     "output_type": "stream",
     "text": [
      "pass\n",
      "##########################\n",
      "passed in non null string\n"
     ]
    }
   ],
   "source": [
    "if 1:\n",
    "    print(\"pass\")\n",
    "if 0:\n",
    "    print(\"cant reach bcoz of 0\")\n",
    "print(\"##########################\")\n",
    "a = \"Non None Object\"\n",
    "if a:\n",
    "    print(\"passed in non null string\")\n",
    "a = \"\"\n",
    "if a:\n",
    "    print(\"passed in empty a\")"
   ]
  },
  {
   "cell_type": "markdown",
   "metadata": {},
   "source": [
    "#### Arithmetic Negation"
   ]
  },
  {
   "cell_type": "code",
   "execution_count": 15,
   "metadata": {},
   "outputs": [
    {
     "name": "stdout",
     "output_type": "stream",
     "text": [
      "negate b: 2\n",
      "negate c: -3\n"
     ]
    }
   ],
   "source": [
    "b = -2\n",
    "print(\"negate b:\",-b)\n",
    "c = 3\n",
    "print(\"negate c:\",-c)"
   ]
  },
  {
   "cell_type": "markdown",
   "metadata": {},
   "source": [
    "#### Logical Negation"
   ]
  },
  {
   "cell_type": "code",
   "execution_count": 16,
   "metadata": {},
   "outputs": [
    {
     "name": "stdout",
     "output_type": "stream",
     "text": [
      "True\n",
      "negate b: False\n",
      "negate c: False\n"
     ]
    }
   ],
   "source": [
    "b = -1\n",
    "print(bool(b))\n",
    "print(\"negate b:\",not b)\n",
    "c = 3\n",
    "print(\"negate c:\",not c)"
   ]
  },
  {
   "cell_type": "code",
   "execution_count": 26,
   "metadata": {},
   "outputs": [],
   "source": [
    "#### Bitwise inversion"
   ]
  },
  {
   "cell_type": "code",
   "execution_count": 12,
   "metadata": {},
   "outputs": [
    {
     "data": {
      "text/plain": [
       "-3"
      ]
     },
     "execution_count": 12,
     "metadata": {},
     "output_type": "execute_result"
    }
   ],
   "source": [
    "a =2\n",
    "~a"
   ]
  },
  {
   "cell_type": "markdown",
   "metadata": {},
   "source": [
    "#### Identity"
   ]
  },
  {
   "cell_type": "code",
   "execution_count": 17,
   "metadata": {},
   "outputs": [
    {
     "name": "stdout",
     "output_type": "stream",
     "text": [
      "0x193fce4fb80\n",
      "0x193fce58580\n"
     ]
    },
    {
     "data": {
      "text/plain": [
       "False"
      ]
     },
     "execution_count": 17,
     "metadata": {},
     "output_type": "execute_result"
    }
   ],
   "source": [
    "b = [1,2,3]\n",
    "a = [1,2,3]\n",
    "print(hex(id(b)))\n",
    "print(hex(id(a)))\n",
    "a is b"
   ]
  },
  {
   "cell_type": "code",
   "execution_count": 18,
   "metadata": {},
   "outputs": [
    {
     "name": "stdout",
     "output_type": "stream",
     "text": [
      "0x193fce58580\n",
      "0x193fce58580\n"
     ]
    },
    {
     "data": {
      "text/plain": [
       "True"
      ]
     },
     "execution_count": 18,
     "metadata": {},
     "output_type": "execute_result"
    }
   ],
   "source": [
    "c = a\n",
    "print(hex(id(c)))\n",
    "print(hex(id(a)))\n",
    "c is a"
   ]
  },
  {
   "cell_type": "code",
   "execution_count": 19,
   "metadata": {},
   "outputs": [
    {
     "data": {
      "text/plain": [
       "False"
      ]
     },
     "execution_count": 19,
     "metadata": {},
     "output_type": "execute_result"
    }
   ],
   "source": [
    "c is b"
   ]
  },
  {
   "cell_type": "code",
   "execution_count": 22,
   "metadata": {},
   "outputs": [
    {
     "data": {
      "text/plain": [
       "[9, 2, 3]"
      ]
     },
     "execution_count": 22,
     "metadata": {},
     "output_type": "execute_result"
    }
   ],
   "source": [
    "c[0]=9\n",
    "c"
   ]
  },
  {
   "cell_type": "code",
   "execution_count": 24,
   "metadata": {},
   "outputs": [
    {
     "data": {
      "text/plain": [
       "[1, 2, 3]"
      ]
     },
     "execution_count": 24,
     "metadata": {},
     "output_type": "execute_result"
    }
   ],
   "source": [
    "b"
   ]
  },
  {
   "cell_type": "code",
   "execution_count": 23,
   "metadata": {},
   "outputs": [
    {
     "data": {
      "text/plain": [
       "[9, 2, 3]"
      ]
     },
     "execution_count": 23,
     "metadata": {},
     "output_type": "execute_result"
    }
   ],
   "source": [
    "a"
   ]
  },
  {
   "cell_type": "code",
   "execution_count": 25,
   "metadata": {},
   "outputs": [
    {
     "name": "stdout",
     "output_type": "stream",
     "text": [
      "1 and 2 :  2\n",
      "1 or 2 :  1\n",
      "2 and 3 :  0\n",
      "2 or 3 :  2\n",
      "0 and 2 :  0\n",
      "0 or 2 :  2\n",
      "2 and 0 :  0\n",
      "2 or 3 :  2\n",
      "not 2 :  False\n",
      "not 0 :  True\n",
      "1 | 2 : 3\n",
      "6 | 5 : 7\n",
      "1 & 2 : 0\n",
      "6 & 5 : 4\n"
     ]
    }
   ],
   "source": [
    "#and, or, not, **, ||, &&, &, |\n",
    "print(\"1 and 2 : \", 1 and 2)\n",
    "print(\"1 or 2 : \", 1 or 2)\n",
    "print(\"2 and 3 : \", 0 and 3)\n",
    "print(\"2 or 3 : \", 2 or 3)\n",
    "\n",
    "print(\"0 and 2 : \", 0 and 2)\n",
    "print(\"0 or 2 : \",  0 or 2)\n",
    "print(\"2 and 0 : \", 2 and 0)\n",
    "print(\"2 or 3 : \", 2 or 3)\n",
    "\n",
    "print(\"not 2 : \",not 2)\n",
    "print(\"not 0 : \",not 0)\n",
    "\n",
    "\n",
    "print(\"1 | 2 :\", 1 | 2)\n",
    "print(\"6 | 5 :\", 6 | 5)\n",
    "\n",
    "\n",
    "print(\"1 & 2 :\", 1 & 2)\n",
    "print(\"6 & 5 :\", 6 & 5)"
   ]
  },
  {
   "cell_type": "code",
   "execution_count": null,
   "metadata": {},
   "outputs": [],
   "source": [
    "110\n",
    "101"
   ]
  },
  {
   "cell_type": "code",
   "execution_count": null,
   "metadata": {},
   "outputs": [],
   "source": []
  },
  {
   "cell_type": "markdown",
   "metadata": {},
   "source": [
    "https://www.mathcs.emory.edu/~valerie/courses/fall10/155/resources/op_precedence.html"
   ]
  }
 ],
 "metadata": {
  "kernelspec": {
   "display_name": "Python 3",
   "language": "python",
   "name": "python3"
  },
  "language_info": {
   "codemirror_mode": {
    "name": "ipython",
    "version": 3
   },
   "file_extension": ".py",
   "mimetype": "text/x-python",
   "name": "python",
   "nbconvert_exporter": "python",
   "pygments_lexer": "ipython3",
   "version": "3.9.1"
  }
 },
 "nbformat": 4,
 "nbformat_minor": 2
}
