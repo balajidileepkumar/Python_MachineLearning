{
 "cells": [
  {
   "cell_type": "code",
   "execution_count": null,
   "metadata": {},
   "outputs": [],
   "source": []
  },
  {
   "cell_type": "code",
   "execution_count": 4,
   "metadata": {},
   "outputs": [
    {
     "name": "stdout",
     "output_type": "stream",
     "text": [
      "abc\n"
     ]
    }
   ],
   "source": [
    "print(\"abc\")"
   ]
  },
  {
   "cell_type": "code",
   "execution_count": null,
   "metadata": {},
   "outputs": [],
   "source": []
  },
  {
   "cell_type": "code",
   "execution_count": null,
   "metadata": {},
   "outputs": [],
   "source": []
  },
  {
   "cell_type": "code",
   "execution_count": 5,
   "metadata": {
    "scrolled": true
   },
   "outputs": [
    {
     "name": "stdout",
     "output_type": "stream",
     "text": [
      "Hello\n",
      "Hello\n",
      "Python\n",
      " Python\n",
      "ytho\n",
      "##################################\n",
      "Hello Python\n",
      "Hello Pytho\n",
      "##################################\n",
      "\n",
      "Hello Python\n",
      "###############Indexing with step##################\n",
      "Hello Pytho\n",
      "###################################\n",
      "HlPh\n",
      "Hello Python\n",
      "HloPto\n",
      "#####################################\n",
      "HlPh\n",
      "nohtyP olleH\n",
      "nhy le\n"
     ]
    }
   ],
   "source": [
    "#Substring\n",
    "#: stands for sequence\n",
    "#[] stands for the position holders\n",
    "#value before the : is the start sequence, after the colon is the end sequence\n",
    "# start: end: step\n",
    "TestString = \"Hello Python\" \n",
    "print(TestString[0:5])\n",
    "print(TestString[:5])\n",
    "print(TestString[6:15])\n",
    "print(TestString[5:])\n",
    "print(TestString[-5:-1])\n",
    "\n",
    "#print(TestString[::-1])\n",
    "print(\"##################################\")\n",
    "print(\"Hello Python\")\n",
    "print(TestString[:-1])\n",
    "print(\"##################################\")\n",
    "print(TestString[-3:-5])\n",
    "print(TestString[:])\n",
    "print(\"###############Indexing with step##################\")\n",
    "print(TestString[:-1:])\n",
    "print(\"###################################\")\n",
    "print(TestString[0:-1:3])\n",
    "#Reverse a string\n",
    "print(TestString[::1])\n",
    "print(TestString[::2])\n",
    "print(\"#####################################\")\n",
    "print(TestString[::3])\n",
    "print(TestString[::-1])\n",
    "print(TestString[::-2])"
   ]
  },
  {
   "cell_type": "code",
   "execution_count": null,
   "metadata": {},
   "outputs": [],
   "source": []
  },
  {
   "cell_type": "code",
   "execution_count": null,
   "metadata": {},
   "outputs": [],
   "source": []
  },
  {
   "cell_type": "code",
   "execution_count": null,
   "metadata": {},
   "outputs": [],
   "source": []
  },
  {
   "cell_type": "code",
   "execution_count": null,
   "metadata": {},
   "outputs": [],
   "source": []
  },
  {
   "cell_type": "code",
   "execution_count": null,
   "metadata": {},
   "outputs": [],
   "source": []
  },
  {
   "cell_type": "code",
   "execution_count": null,
   "metadata": {},
   "outputs": [],
   "source": []
  }
 ],
 "metadata": {
  "kernelspec": {
   "display_name": "Python 3",
   "language": "python",
   "name": "python3"
  },
  "language_info": {
   "codemirror_mode": {
    "name": "ipython",
    "version": 3
   },
   "file_extension": ".py",
   "mimetype": "text/x-python",
   "name": "python",
   "nbconvert_exporter": "python",
   "pygments_lexer": "ipython3",
   "version": "3.6.2"
  }
 },
 "nbformat": 4,
 "nbformat_minor": 2
}
