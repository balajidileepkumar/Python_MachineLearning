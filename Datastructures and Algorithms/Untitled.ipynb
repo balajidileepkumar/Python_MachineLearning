{
 "cells": [
  {
   "cell_type": "markdown",
   "metadata": {},
   "source": [
    "### DataStructure"
   ]
  },
  {
   "cell_type": "code",
   "execution_count": 4,
   "metadata": {},
   "outputs": [],
   "source": [
    "class tree(object):\n",
    "    \n",
    "    def __init__(this):\n",
    "        this.parent = None\n",
    "        this.child = []\n",
    "    \n",
    "    def addchild(this,child):\n",
    "        this.child.append(child)\n",
    "    \n",
    "    def removechild(this, child):\n",
    "        if(this.child.count(child)>0):\n",
    "            this.child.remove(child)\n",
    "            \n",
    "    def get_degree(this):\n",
    "        pass\n",
    "    "
   ]
  },
  {
   "cell_type": "markdown",
   "metadata": {},
   "source": [
    "### Algorithms "
   ]
  },
  {
   "cell_type": "markdown",
   "metadata": {},
   "source": [
    "#### Binary Search Algorithm"
   ]
  },
  {
   "cell_type": "code",
   "execution_count": 69,
   "metadata": {},
   "outputs": [],
   "source": [
    "def BinarySearch(input_list: list, searchvalue):\n",
    "    input_list.sort()\n",
    "    print(input_list)\n",
    "    High = int(len(input_list)) \n",
    "    Low = 0\n",
    "    Mid = int(len(input_list)/2)\n",
    "    print(Low, High, Mid)\n",
    "    expression = True\n",
    "    \n",
    "    while expression:\n",
    "        if(searchvalue > input_list[Mid]):\n",
    "            Low = Mid\n",
    "            Mid = int((Mid + High)/2)  \n",
    "            print(\"SearchValue > Mid\",Low, High, Mid)\n",
    "        elif(searchvalue <input_list[Mid]):\n",
    "            High = Mid\n",
    "            Mid = int((Low + Mid)/2)\n",
    "            print(\"SearchValue < Mid\",Low, High, Mid)\n",
    "        else:\n",
    "            print(\"SearchValue in Mid\",Low, High, Mid)\n",
    "            return Mid\n",
    "        if((Low==Mid or Mid==High) and searchvalue != input_list[Mid]):\n",
    "            print(\"Not Found\")\n",
    "            expression = False\n",
    "            "
   ]
  },
  {
   "cell_type": "code",
   "execution_count": 71,
   "metadata": {
    "scrolled": true
   },
   "outputs": [
    {
     "name": "stdout",
     "output_type": "stream",
     "text": [
      "13\n",
      "[1, 2, 3, 4, 4, 6, 8, 9, 10, 11, 12, 22, 66]\n",
      "0 13 6\n",
      "SearchValue < Mid 0 6 3\n",
      "SearchValue < Mid 0 3 1\n",
      "SearchValue < Mid 0 1 0\n",
      "SearchValue in Mid 0 1 0\n"
     ]
    },
    {
     "data": {
      "text/plain": [
       "0"
      ]
     },
     "execution_count": 71,
     "metadata": {},
     "output_type": "execute_result"
    }
   ],
   "source": [
    "a = [1,2,4,6,8,9,3,66,22,11,4,12,10]\n",
    "print(len(a))\n",
    "\n",
    "BinarySearch(a,1)"
   ]
  },
  {
   "cell_type": "code",
   "execution_count": null,
   "metadata": {},
   "outputs": [],
   "source": [
    "Class Algorithms:\n",
    "    "
   ]
  }
 ],
 "metadata": {
  "kernelspec": {
   "display_name": "Python 3 (ipykernel)",
   "language": "python",
   "name": "python3"
  },
  "language_info": {
   "codemirror_mode": {
    "name": "ipython",
    "version": 3
   },
   "file_extension": ".py",
   "mimetype": "text/x-python",
   "name": "python",
   "nbconvert_exporter": "python",
   "pygments_lexer": "ipython3",
   "version": "3.10.4"
  }
 },
 "nbformat": 4,
 "nbformat_minor": 4
}
