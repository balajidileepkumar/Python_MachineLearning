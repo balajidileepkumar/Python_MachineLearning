{
 "cells": [
  {
   "cell_type": "markdown",
   "metadata": {},
   "source": [
    "## Python Basics"
   ]
  },
  {
   "cell_type": "markdown",
   "metadata": {},
   "source": [
    "<h6> Comments </h6>"
   ]
  },
  {
   "cell_type": "code",
   "execution_count": 4,
   "metadata": {},
   "outputs": [
    {
     "data": {
      "text/plain": [
       "'\\nThis is comment\\nHello World\\nThis is  multiline comments\\n'"
      ]
     },
     "execution_count": 4,
     "metadata": {},
     "output_type": "execute_result"
    }
   ],
   "source": [
    "'''\n",
    "This is comment\n",
    "Hello World\n",
    "This is  multiline comments\n",
    "'''\n",
    "# Can be used for multiline comments\n"
   ]
  },
  {
   "cell_type": "code",
   "execution_count": 5,
   "metadata": {},
   "outputs": [],
   "source": [
    "# tag stands for comment in python \n"
   ]
  },
  {
   "cell_type": "markdown",
   "metadata": {},
   "source": [
    "<h6> Print Statements </h6>"
   ]
  },
  {
   "cell_type": "code",
   "execution_count": 9,
   "metadata": {},
   "outputs": [
    {
     "name": "stdout",
     "output_type": "stream",
     "text": [
      "10abc 234a\n",
      "None\n",
      "#############################\n",
      "10abc\n",
      "None\n",
      "#############################\n",
      "<class 'NoneType'>\n"
     ]
    },
    {
     "data": {
      "text/plain": [
       "str"
      ]
     },
     "execution_count": 9,
     "metadata": {},
     "output_type": "execute_result"
    }
   ],
   "source": [
    "a = print(\"10abc\",\"234a\")\n",
    "print(a)\n",
    "print(\"#############################\")\n",
    "print(print(\"10abc\"))\n",
    "print(\"#############################\")\n",
    "print(type(a))\n",
    "a = \"10\"\n",
    "type(a)"
   ]
  },
  {
   "cell_type": "code",
   "execution_count": 14,
   "metadata": {
    "scrolled": true
   },
   "outputs": [
    {
     "name": "stdout",
     "output_type": "stream",
     "text": [
      "Hello World\n",
      "<class 'NoneType'> None\n",
      "None\n"
     ]
    }
   ],
   "source": [
    "#print(\"Hello World\")\n",
    "a = print(\"Hello World\")\n",
    "print(type(a),a)\n",
    "print(a)\n"
   ]
  },
  {
   "cell_type": "code",
   "execution_count": 10,
   "metadata": {},
   "outputs": [
    {
     "name": "stdout",
     "output_type": "stream",
     "text": [
      "Hello World -1\n",
      "None\n"
     ]
    }
   ],
   "source": [
    "a = \"Hello World -1\"\n",
    "b = print(a)\n",
    "print(b)"
   ]
  },
  {
   "cell_type": "code",
   "execution_count": 11,
   "metadata": {},
   "outputs": [
    {
     "name": "stdout",
     "output_type": "stream",
     "text": [
      "1\n"
     ]
    }
   ],
   "source": [
    "print(1)"
   ]
  },
  {
   "cell_type": "code",
   "execution_count": 12,
   "metadata": {},
   "outputs": [
    {
     "name": "stdout",
     "output_type": "stream",
     "text": [
      "6\n",
      "constructor initialized\n",
      "I am a human being object\n",
      "7\n",
      "6\n",
      "constructor initialized\n",
      "I am a human being object\n",
      "None\n",
      "7\n"
     ]
    }
   ],
   "source": [
    "#class object():\n",
    "#    pass\n",
    "class humanbeing():\n",
    "    \n",
    "    def __init__(self):\n",
    "        self.height =6\n",
    "        print(self.height)\n",
    "        print(\"constructor initialized\")\n",
    "    \n",
    "    def __str__(self):\n",
    "        return \"I am a human being object\"\n",
    "    \n",
    "    def setheight(self):\n",
    "        self.height = 7\n",
    "\n",
    "a = humanbeing()\n",
    "print(a)\n",
    "a.setheight()\n",
    "print(a.height)\n",
    "b = humanbeing()\n",
    "print(b)\n",
    "print(b.setheight())\n",
    "print(b.height)\n"
   ]
  },
  {
   "cell_type": "code",
   "execution_count": 13,
   "metadata": {},
   "outputs": [
    {
     "name": "stdout",
     "output_type": "stream",
     "text": [
      "(1, 2)\n"
     ]
    }
   ],
   "source": [
    "print((1,2))"
   ]
  },
  {
   "cell_type": "markdown",
   "metadata": {},
   "source": [
    "####  pass multiple strings"
   ]
  },
  {
   "cell_type": "code",
   "execution_count": 16,
   "metadata": {},
   "outputs": [
    {
     "name": "stdout",
     "output_type": "stream",
     "text": [
      "Hello World\n",
      "None\n"
     ]
    }
   ],
   "source": [
    "print(\"Hello\",\"World\")"
   ]
  },
  {
   "cell_type": "code",
   "execution_count": 19,
   "metadata": {},
   "outputs": [],
   "source": [
    "import datetime"
   ]
  },
  {
   "cell_type": "code",
   "execution_count": 20,
   "metadata": {},
   "outputs": [
    {
     "name": "stdout",
     "output_type": "stream",
     "text": [
      "Hello World Welcome To Python 1 2019-10-18 11:39:58.596224\n"
     ]
    }
   ],
   "source": [
    "print(\"Hello\",\"World\",\"Welcome\",\"To\",\"Python\", 1, datetime.datetime.now() )"
   ]
  },
  {
   "cell_type": "code",
   "execution_count": 24,
   "metadata": {},
   "outputs": [
    {
     "name": "stdout",
     "output_type": "stream",
     "text": [
      "Hello#World#Welcome#To#Python\n"
     ]
    }
   ],
   "source": [
    "print(\"Hello\",\"World\",\"Welcome\",\"To\",\"Python\", sep = \"#\")"
   ]
  },
  {
   "cell_type": "code",
   "execution_count": 25,
   "metadata": {},
   "outputs": [
    {
     "name": "stdout",
     "output_type": "stream",
     "text": [
      "Hello$--$World$--$Welcome$--$To$--$Python$--$2wearegood"
     ]
    }
   ],
   "source": [
    "print(\"Hello\",\"World\",\"Welcome\",\"To\",\"Python\", 2, sep = \"$--$\", end =\"wearegood\")"
   ]
  },
  {
   "cell_type": "code",
   "execution_count": 26,
   "metadata": {},
   "outputs": [
    {
     "name": "stdout",
     "output_type": "stream",
     "text": [
      "Hello# #World!"
     ]
    }
   ],
   "source": [
    "print(\"Hello\",\"World\", sep = \"# #\", end =\"!\")\n"
   ]
  },
  {
   "cell_type": "markdown",
   "metadata": {},
   "source": [
    "### No values to print statement, prints out a line"
   ]
  },
  {
   "cell_type": "code",
   "execution_count": 27,
   "metadata": {},
   "outputs": [
    {
     "name": "stdout",
     "output_type": "stream",
     "text": [
      "\n",
      "###############\n",
      "\n",
      "\n",
      "###############\n",
      "\n",
      "\n",
      "\n",
      "\n",
      "###############\n"
     ]
    }
   ],
   "source": [
    "print()\n",
    "print(\"###############\")\n",
    "print()\n",
    "print()\n",
    "print(\"###############\")\n",
    "print()\n",
    "print()\n",
    "print()\n",
    "print()\n",
    "print(\"###############\")"
   ]
  },
  {
   "cell_type": "markdown",
   "metadata": {},
   "source": [
    "%s - string\n",
    "%d - integers\n",
    "%f - float or decimal values"
   ]
  },
  {
   "cell_type": "markdown",
   "metadata": {},
   "source": [
    "# C-Style Formatters"
   ]
  },
  {
   "cell_type": "code",
   "execution_count": 23,
   "metadata": {},
   "outputs": [
    {
     "name": "stdout",
     "output_type": "stream",
     "text": [
      "I am  Akshaya, My age is 23, and I scored  82.3 percent in board exam\n",
      "I am  Akshaya, My age is 23,  and I scored  82.34 percent in board exam\n",
      "I am  Akshaya\n"
     ]
    }
   ],
   "source": [
    "a =\"Akshaya\"\n",
    "b = 23\n",
    "c =82.345\n",
    "\n",
    "print(\"I am  %s, My age is %d, and I scored  %.f percent in board exam\" %(a,b,c))\n",
    "print(\"I am  %s,\"%a, \"My age is %d,\"%b, \" and I scored  %.2f percent in board exam\"%c)\n",
    "print(\"I am  %s\" %a)"
   ]
  },
  {
   "cell_type": "markdown",
   "metadata": {},
   "source": [
    "### Python Format Condition"
   ]
  },
  {
   "cell_type": "code",
   "execution_count": 28,
   "metadata": {},
   "outputs": [
    {
     "name": "stdout",
     "output_type": "stream",
     "text": [
      "I am  Akshaya My age is 12, and I scored 82.345 percent in my board exam\n",
      "I am  Akshaya  My age is 12 and I scored 82.345 percent in my board exam\n"
     ]
    }
   ],
   "source": [
    "a =\"Akshaya\"\n",
    "b =12\n",
    "c =82.345\n",
    "print(\"I am  {} My age is {}, and I scored {} percent in my board exam\".format(a,b,c))\n",
    "print(\"I am  {}\".format(a),\" My age is {}\".format(b), \"and I scored {} percent in my board exam\".format(c))"
   ]
  },
  {
   "cell_type": "code",
   "execution_count": 29,
   "metadata": {},
   "outputs": [
    {
     "name": "stdout",
     "output_type": "stream",
     "text": [
      "I scored Akshaya percent in board exam, I am  12, My age is 82.345\n",
      "I scored 82.345 percent in board exam, I am  Akshaya, My age is 12\n"
     ]
    }
   ],
   "source": [
    "a =\"Akshaya\"\n",
    "b =12\n",
    "c =82.345\n",
    "print(\"I scored {} percent in board exam, I am  {}, My age is {}\".format(a,b,c))\n",
    "print(\"I scored {2} percent in board exam, I am  {0}, My age is {1}\".format(a,b,c))"
   ]
  },
  {
   "cell_type": "code",
   "execution_count": 30,
   "metadata": {},
   "outputs": [
    {
     "name": "stdout",
     "output_type": "stream",
     "text": [
      "I scored Vinoth percent in board exam, I am  12, My age is 82.345\n",
      "I scored 82.345 percent in board exam, I am  Priya, My age is 23\n"
     ]
    }
   ],
   "source": [
    "a =\"Raj\"\n",
    "b =12\n",
    "c =82.345\n",
    "d =2\n",
    "print(\"I scored {} percent in board exam, I am  {}, My age is {}\".format(\"Vinoth\",b,c))\n",
    "print(\"I scored {2} percent in board exam, I am  {0}, My age is {1}\".format(\"Priya\",23,c))\n"
   ]
  },
  {
   "cell_type": "code",
   "execution_count": 32,
   "metadata": {},
   "outputs": [
    {
     "name": "stdout",
     "output_type": "stream",
     "text": [
      "I scored 82.345 percent in board exam, I am  Raj, My age is 12\n",
      "I scored 82.345 percent in board exam,$--$ I am  Raj, My age is 12!"
     ]
    }
   ],
   "source": [
    "a =\"Raj\"\n",
    "b =12\n",
    "c =82.345\n",
    "print(f\"I scored {c} percent in board exam, I am  {a}, My age is {b}\")\n",
    "print(f\"I scored {c} percent in board exam,\",f\" I am  {a}, My age is {b}\",sep = \"$--$\",end=\"!\")"
   ]
  }
 ],
 "metadata": {
  "kernelspec": {
   "display_name": "Python 3",
   "language": "python",
   "name": "python3"
  },
  "language_info": {
   "codemirror_mode": {
    "name": "ipython",
    "version": 3
   },
   "file_extension": ".py",
   "mimetype": "text/x-python",
   "name": "python",
   "nbconvert_exporter": "python",
   "pygments_lexer": "ipython3",
   "version": "3.7.3"
  }
 },
 "nbformat": 4,
 "nbformat_minor": 2
}
