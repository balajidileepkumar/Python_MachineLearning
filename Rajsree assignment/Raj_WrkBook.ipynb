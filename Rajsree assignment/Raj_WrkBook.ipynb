{
 "cells": [
  {
   "cell_type": "code",
   "execution_count": null,
   "metadata": {},
   "outputs": [],
   "source": [
    "List - duplicates     --> []\n",
    "Tuple - Same as list but immutable  -> {}\n",
    "set - unordered, unique and not able to index  --> {}\n",
    "dict - key value pairs    --> {}"
   ]
  },
  {
   "cell_type": "code",
   "execution_count": 3,
   "metadata": {},
   "outputs": [],
   "source": [
    "x=1"
   ]
  },
  {
   "cell_type": "code",
   "execution_count": 16,
   "metadata": {},
   "outputs": [
    {
     "name": "stdout",
     "output_type": "stream",
     "text": [
      "3\n",
      "2\n"
     ]
    },
    {
     "data": {
      "text/plain": [
       "'c'"
      ]
     },
     "execution_count": 16,
     "metadata": {},
     "output_type": "execute_result"
    }
   ],
   "source": [
    "y=2\n",
    "f=x+y\n",
    "print(f)\n",
    "g=x*y\n",
    "print(g)\n",
    "wor='jackkky'\n",
    "len(wor)\n",
    "wor[2:5]\n",
    "wor.upper()\n",
    "wor[-5]"
   ]
  },
  {
   "cell_type": "code",
   "execution_count": 28,
   "metadata": {},
   "outputs": [
    {
     "name": "stdout",
     "output_type": "stream",
     "text": [
      "[1, 2, 4.0, (4+9j), 'ede', 6, 2, 7]\n"
     ]
    },
    {
     "data": {
      "text/plain": [
       "[1222, 7, 2, 6, 1000, 'ede', (40+90j), 4.0, 2, 1]"
      ]
     },
     "execution_count": 28,
     "metadata": {},
     "output_type": "execute_result"
    }
   ],
   "source": [
    "mylst=[1,2,4.0,4+9j,'ede',6,2,7,]\n",
    "print(mylst)\n",
    "mylst[2:5]\n",
    "mylst[3]=40+90j\n",
    "mylst\n",
    "mylst.insert(5,1000)\n",
    "mylst\n",
    "mylst.append(1222)\n",
    "mylst.reverse()\n",
    "mylst"
   ]
  },
  {
   "cell_type": "code",
   "execution_count": 75,
   "metadata": {},
   "outputs": [
    {
     "data": {
      "text/plain": [
       "{1: 'hai', 2: 'wel', 'third': 'hadoop', '4': 'hadoop'}"
      ]
     },
     "execution_count": 75,
     "metadata": {},
     "output_type": "execute_result"
    }
   ],
   "source": [
    "coursedict={1:'hai',2:'wel','third':'edeee'}\n",
    "coursedict\n",
    "coursedict['third']\n",
    "coursedict['third']='hadoop'\n",
    "coursedict['4']='hadoop'\n",
    "coursedict"
   ]
  },
  {
   "cell_type": "code",
   "execution_count": 70,
   "metadata": {},
   "outputs": [
    {
     "ename": "SyntaxError",
     "evalue": "invalid syntax (<ipython-input-70-11553ce7ef69>, line 2)",
     "output_type": "error",
     "traceback": [
      "\u001b[1;36m  File \u001b[1;32m\"<ipython-input-70-11553ce7ef69>\"\u001b[1;36m, line \u001b[1;32m2\u001b[0m\n\u001b[1;33m    anituple{1,'err'}\u001b[0m\n\u001b[1;37m            ^\u001b[0m\n\u001b[1;31mSyntaxError\u001b[0m\u001b[1;31m:\u001b[0m invalid syntax\n"
     ]
    }
   ],
   "source": [
    "anituple={'tiger','lion','kion',1,2,1}\n",
    "anituple\n"
   ]
  },
  {
   "cell_type": "code",
   "execution_count": 73,
   "metadata": {},
   "outputs": [
    {
     "data": {
      "text/plain": [
       "{1, 2, 3, 33, 6, 7, 'ede', 'loun'}"
      ]
     },
     "execution_count": 73,
     "metadata": {},
     "output_type": "execute_result"
    }
   ],
   "source": [
    "myset= {1,2,3,3,33,'ede','loun',6,7}\n",
    "myset\n",
    "#myset[3] no indexing"
   ]
  },
  {
   "cell_type": "code",
   "execution_count": 57,
   "metadata": {},
   "outputs": [
    {
     "name": "stdout",
     "output_type": "stream",
     "text": [
      "[{'ere', 1, 2, 3, 'qwe'}, [3, 4, 4, 'lol']]\n"
     ]
    }
   ],
   "source": [
    "range(10)\n",
    "list(range(11))\n",
    "a={1,2,3,3,'ere','ere','qwe'}\n",
    "b=[3,4,4,'lol']\n",
    "c=[a,b]\n",
    "print(c)"
   ]
  },
  {
   "cell_type": "code",
   "execution_count": 68,
   "metadata": {},
   "outputs": [
    {
     "data": {
      "text/plain": [
       "[{1: 'hai', 2: 'wel', 'third': 'hadoop', '4': 'learn'}]"
      ]
     },
     "execution_count": 68,
     "metadata": {},
     "output_type": "execute_result"
    }
   ],
   "source": [
    "a=10\n",
    "b='kit'\n",
    "str(a)+b\n",
    "lst_dict=[coursedict]\n",
    "lst_dict"
   ]
  },
  {
   "cell_type": "code",
   "execution_count": 120,
   "metadata": {},
   "outputs": [
    {
     "name": "stdout",
     "output_type": "stream",
     "text": [
      "In    ia\n",
      "2\n",
      "2\n",
      "all occurence count 2 World\n",
      "H\n",
      "P\n",
      "nohtyP olleH\n",
      "HlPh\n",
      "myalpa string is decimal - False\n",
      "myalphanumeric string is decimal - False\n",
      "mynotalphanumeric string is decimal - False\n",
      "mydecimal string is decimal - True\n",
      "welcome to my world1\n",
      "welcome to \n",
      " my w\t o\t rld\t2\n",
      "welcome to m\ty\two\trld\t3\n",
      "#################################\n"
     ]
    },
    {
     "data": {
      "text/plain": [
       "'apple,orange, grapes, gu,ava, p,ine,apple'"
      ]
     },
     "execution_count": 120,
     "metadata": {},
     "output_type": "execute_result"
    }
   ],
   "source": [
    "mytext = \"India\"\n",
    "AB =20\n",
    "centermytext = mytext.center(11,'@')\n",
    "centermytext\n",
    "###################################################3\n",
    "\n",
    "mytext = mytext.replace(\"d\",\"    \")\n",
    "print(mytext)\n",
    "word= 'Welcome to the new world'\n",
    "result = word.find(\"lcome\")\n",
    "print(result)\n",
    "resindex=word.index(\"new\")\n",
    "resindex\n",
    "infotext  = \"Welcome to my World, The World is too good to live\"\n",
    "infotext_1  = \"Welcome to my World, The World is too good to live\"\n",
    "print(infotext.count(\"World\"))\n",
    "print(\"all occurence count %d %s\" %(result,\"World\"))\n",
    "TS = \"Hello Python\" \n",
    "print(TS[0])\n",
    "print(TS[6])\n",
    "#print(TestString[::3])\n",
    "print(TS[::-1])\n",
    "print(TS[::3])\n",
    "#&&&&&&&&&&&&&&&&&&&&&&&&&&&&&&&&&&&&&&&&&&&&&&&&&&&&&&&&&&&&&&&&&&&&&&&&&&&&&&&&&&\n",
    "#&&&&&&&&&&&&&&&&&&&&&&&&&&&&&&&&&&&&&&&&&&&&&&&&&&&&&&&&&&&&&&&&&&&\n",
    "myalpha =\"abcd\" #contains characters [a-zA-Z]\n",
    "myalphanumeric = \"abcdef123\" #contains characters [a-zA-Z0-9]\n",
    "mynotalphanumeric= \"&abcdef123\" # Not fitting all three cases (Contain a symbol)\n",
    "mydecimal =\"123\" #contains characters [0-9]\n",
    "print(\"myalpa string is decimal - {}\".format(myalpha.isdecimal()))\n",
    "print(\"myalphanumeric string is decimal - {}\".format(myalphanumeric.isdecimal()))\n",
    "print(\"mynotalphanumeric string is decimal - {}\".format(mynotalphanumeric.isdecimal()))\n",
    "print(\"mydecimal string is decimal - {}\".format(mydecimal.isdecimal()))\n",
    "#****************************************************************************************\n",
    "#****************************************************************************************\n",
    "print(\"welcome to my world1\")\n",
    "print(\"welcome to \\n my w\\t o\\t rld\\t2\")\n",
    "print(\"welcome to m\\ty\\two\\trld\\t3\")\n",
    "print(\"#################################\")\n",
    "mytabbedstring = \"H\\te\\tl\\tl\\to\"\n",
    "mytabbedstring.expandtabs(20)\n",
    "#%%%%%%%%%%%%%%%%%%%%%%%%%%%%%%%%%%%%%%%%%%%%%%%%%%%%%%%%%%%%%%%%%%%%%%%%%%%%%%%%%%%%%%%%55\n",
    "#%%%%%%%%%%%%%%%%%%%%%%%%%%%%%%%%%%%%%%%%%%%%%%%%%%%%%%%%%%%%%%%%%%%%%%%%%%%%%%%%%%%5\n",
    "Fruits = \"apple,orange, grapes, gu,ava, p,ine,apple\"\n",
    "Fruits.split(\",\",2)\n",
    "Fruits"
   ]
  },
  {
   "cell_type": "code",
   "execution_count": 129,
   "metadata": {},
   "outputs": [
    {
     "name": "stdout",
     "output_type": "stream",
     "text": [
      "#############################\n",
      "India is a vast South Asian country with diverse terrain –\n",
      "\n",
      "                from Himalayan peaks to Indian Ocean coastline – and history reaching back 5 millennia.\n",
      "\n",
      "                In the north, Mughal Empire landmarks include Delhi’s Red Fort complex\n",
      "\n",
      "                and massive Jama Masjid mosque, plus Agra’s iconic Taj Mahal mausoleum. \n",
      "\n",
      "                Pilgrims bathe in the Ganges in Varanasi,and Rishikesh is a yoga centre and base for Himalayan trekking.\n",
      "#############################\n",
      "['India is a vast South Asian country with diverse terrain –', '                from Himalayan peaks to Indian Ocean coastline – and history reaching back 5 millennia.', '                In the north, Mughal Empire landmarks include Delhi’s Red Fort complex', '                and massive Jama Masjid mosque, plus Agra’s iconic Taj Mahal mausoleum. ', '                Pilgrims bathe in the Ganges in Varanasi,and Rishikesh is a yoga centre and base for Himalayan trekking.']\n",
      "#############################\n",
      "India is a vast South Asian country with diverse terrain –\n",
      "                from Himalayan peaks to Indian Ocean coastline – and history reaching back 5 millennia.\n",
      "                In the north, Mughal Empire landmarks include Delhi’s Red Fort complex\n",
      "                and massive Jama Masjid mosque, plus Agra’s iconic Taj Mahal mausoleum. \n",
      "                Pilgrims bathe in the Ganges in Varanasi,and Rishikesh is a yoga centre and base for Himalayan trekking.\n"
     ]
    },
    {
     "data": {
      "text/plain": [
       "[None, None, None, None, None]"
      ]
     },
     "execution_count": 129,
     "metadata": {},
     "output_type": "execute_result"
    }
   ],
   "source": [
    "multilinestring = \"\"\"India is a vast South Asian country with diverse terrain –\n",
    "                from Himalayan peaks to Indian Ocean coastline – and history reaching back 5 millennia.\n",
    "                In the north, Mughal Empire landmarks include Delhi’s Red Fort complex\n",
    "                and massive Jama Masjid mosque, plus Agra’s iconic Taj Mahal mausoleum. \n",
    "                Pilgrims bathe in the Ganges in Varanasi,and Rishikesh is a yoga centre and base for Himalayan trekking.\"\"\"\n",
    "Y  = multilinestring.splitlines(True)\n",
    "print(\"#############################\")\n",
    "for x in Y:\n",
    "    print(x)\n",
    "print(\"#############################\")\n",
    "IgnoreNewlineCharacter = multilinestring.splitlines()\n",
    "print(IgnoreNewlineCharacter)\n",
    "print(\"#############################\")\n",
    "[print(x) for x in IgnoreNewlineCharacter]"
   ]
  },
  {
   "cell_type": "code",
   "execution_count": 147,
   "metadata": {},
   "outputs": [
    {
     "name": "stdout",
     "output_type": "stream",
     "text": [
      "d Ode on a Grecian Urts  d\n",
      "d Ode on a Grecian Urts  d \n",
      "????... Ode on a Grecian Urtsssss ....,,,\n",
      "%%%%%%%%%%%%%%%%%%%%%%%%%%%%%%%%%%%%%%%%%%%%%%%%%%%%%%%%%%%%%%%%%%5\n",
      "b'I \\\\N{LATIN SMALL LETTER A WITH RING ABOVE}m le\\\\N{LATIN SMALL LETTER A WITH BREVE}rnin\\\\N{LATIN SMALL LETTER A WITH RING ABOVE}g \\\\N{LATIN CAPITAL LETTER A WITH TILDE} Pyth\\\\N{LATIN CAPITAL LETTER S WITH CARON}o\\\\N{LATIN CAPITAL LETTER A WITH CIRCUMFLEX}n'\n"
     ]
    }
   ],
   "source": [
    "a  = \"  d Ode on a Grecian Urts  d \"\n",
    "b = a.strip()\n",
    "print(b)\n",
    "c = a.lstrip()\n",
    "print(c)\n",
    "a  = \",,,,,????... Ode on a Grecian Urtsssss ....,,,\"\n",
    "#strip\n",
    "f = a.lstrip(\"., \")\n",
    "print(f)\n",
    "print(\"%%%%%%%%%%%%%%%%%%%%%%%%%%%%%%%%%%%%%%%%%%%%%%%%%%%%%%%%%%%%%%%%%%5\")\n",
    "myencodedstring  = \"I åm leărninåg Ã PythŠoÂn\"\n",
    "print(myencodedstring.encode(encoding = 'ascii', errors = 'namereplace'))"
   ]
  },
  {
   "cell_type": "markdown",
   "metadata": {},
   "source": [
    "# COLLECTIONS"
   ]
  },
  {
   "cell_type": "code",
   "execution_count": null,
   "metadata": {},
   "outputs": [],
   "source": []
  },
  {
   "cell_type": "code",
   "execution_count": 1,
   "metadata": {},
   "outputs": [
    {
     "name": "stdout",
     "output_type": "stream",
     "text": [
      "Hai\n"
     ]
    }
   ],
   "source": [
    "print(\"Hai\")"
   ]
  },
  {
   "cell_type": "code",
   "execution_count": null,
   "metadata": {},
   "outputs": [],
   "source": [
    "List - Contains duplicate, given order and unordered(no- repeating , string unique)\n",
    "Set - Alphabetical order no repeating\n",
    "Dict - Given order, \n"
   ]
  },
  {
   "cell_type": "code",
   "execution_count": 76,
   "metadata": {},
   "outputs": [
    {
     "data": {
      "text/plain": [
       "{'How',\n",
       " 'does',\n",
       " 'each',\n",
       " 'hi',\n",
       " 'in',\n",
       " 'many',\n",
       " 'sentence',\n",
       " 'show',\n",
       " 'this',\n",
       " 'times',\n",
       " 'up',\n",
       " 'word'}"
      ]
     },
     "execution_count": 76,
     "metadata": {},
     "output_type": "execute_result"
    }
   ],
   "source": [
    "from collections import Counter\n",
    "lst =[1,2,3,4,4,4,4,5,6,6,6,8,8,9,9,0]\n",
    "Counter(lst)\n",
    "Counter('2222333767786876876876876')\n",
    "s = 'How many each times does word show up in this sentence word times each word hi'\n",
    "words = s.split()\n",
    "Counter(words)\n",
    "com=Counter(words)\n",
    "com.most_common(4)\n",
    "sum(com.values())\n",
    "#list(lst)\n",
    "#list(com)\n",
    "#set(lst)\n",
    "set(com)\n"
   ]
  },
  {
   "cell_type": "code",
   "execution_count": null,
   "metadata": {},
   "outputs": [],
   "source": [
    "sum(c.values())                 \n",
    "c.clear()                       \n",
    "list(c)                         \n",
    "set(c)                          \n",
    "dict(c)                         \n",
    "c.items()                       \n",
    "Counter(dict(list_of_pairs))    \n",
    "c.most_common()[:-n-1:-1]       \n",
    "c += Counter()                  \n"
   ]
  }
 ],
 "metadata": {
  "kernelspec": {
   "display_name": "Python 3",
   "language": "python",
   "name": "python3"
  },
  "language_info": {
   "codemirror_mode": {
    "name": "ipython",
    "version": 3
   },
   "file_extension": ".py",
   "mimetype": "text/x-python",
   "name": "python",
   "nbconvert_exporter": "python",
   "pygments_lexer": "ipython3",
   "version": "3.7.3"
  }
 },
 "nbformat": 4,
 "nbformat_minor": 2
}
