{
 "cells": [
  {
   "cell_type": "code",
   "execution_count": 2,
   "metadata": {},
   "outputs": [
    {
     "name": "stdout",
     "output_type": "stream",
     "text": [
      "csv\n"
     ]
    }
   ],
   "source": [
    "print(\"csv\")"
   ]
  },
  {
   "cell_type": "code",
   "execution_count": 16,
   "metadata": {},
   "outputs": [
    {
     "name": "stdout",
     "output_type": "stream",
     "text": [
      "'{\"audience\": {\"id\": \"123\", \"name\": \"Shubham\", \"class\": \"third\"}}'\n"
     ]
    }
   ],
   "source": [
    "import xmltodict\n",
    "import pprint\n",
    "import json\n",
    "\n",
    "my_xml = \"\"\"\n",
    "    <audience>     \n",
    "      <id>123</id>\n",
    "      <name>Shubham</name>\n",
    "      <class>third</class>\n",
    "    </audience>\n",
    "\"\"\"\n",
    "\n",
    "pp = pprint.PrettyPrinter(indent=4)\n",
    "pp.pprint(json.dumps(xmltodict.parse(my_xml)))\n"
   ]
  },
  {
   "cell_type": "code",
   "execution_count": 6,
   "metadata": {},
   "outputs": [
    {
     "name": "stdout",
     "output_type": "stream",
     "text": [
      "('{\"catalog\": {\"book\": [{\"@id\": \"bk101\", \"author\": \"Gambardella, Matthew\", '\n",
      " '\"title\": \"XML Developer\\'s Guide\", \"genre\": \"Computer\", \"price\": \"44.95\", '\n",
      " '\"publish_date\": \"2000-10-01\", \"description\": \"An in-depth look at creating '\n",
      " 'applications \\\\n      with XML.\"}, {\"@id\": \"bk102\", \"author\": \"Ralls, Kim\", '\n",
      " '\"title\": \"Midnight Rain\", \"genre\": \"Fantasy\", \"price\": \"5.95\", '\n",
      " '\"publish_date\": \"2000-12-16\", \"description\": \"A former architect battles '\n",
      " 'corporate zombies, \\\\n      an evil sorceress, and her own childhood to '\n",
      " 'become queen \\\\n      of the world.\"}, {\"@id\": \"bk103\", \"author\": \"Corets, '\n",
      " 'Eva\", \"title\": \"Maeve Ascendant\", \"genre\": \"Fantasy\", \"price\": \"5.95\", '\n",
      " '\"publish_date\": \"2000-11-17\", \"description\": \"After the collapse of a '\n",
      " 'nanotechnology \\\\n      society in England, the young survivors lay the '\n",
      " '\\\\n      foundation for a new society.\"}, {\"@id\": \"bk104\", \"author\": '\n",
      " '\"Corets, Eva\", \"title\": \"Oberon\\'s Legacy\", \"genre\": \"Fantasy\", \"price\": '\n",
      " '\"5.95\", \"publish_date\": \"2001-03-10\", \"description\": \"In post-apocalypse '\n",
      " 'England, the mysterious \\\\n      agent known only as Oberon helps to create '\n",
      " 'a new life \\\\n      for the inhabitants of London. Sequel to Maeve \\\\n      '\n",
      " 'Ascendant.\"}, {\"@id\": \"bk105\", \"author\": \"Corets, Eva\", \"title\": \"The '\n",
      " 'Sundered Grail\", \"genre\": \"Fantasy\", \"price\": \"5.95\", \"publish_date\": '\n",
      " '\"2001-09-10\", \"description\": \"The two daughters of Maeve, half-sisters, '\n",
      " '\\\\n      battle one another for control of England. Sequel to \\\\n      '\n",
      " 'Oberon\\'s Legacy.\"}, {\"@id\": \"bk106\", \"author\": \"Randall, Cynthia\", \"title\": '\n",
      " '\"Lover Birds\", \"genre\": \"Romance\", \"price\": \"4.95\", \"publish_date\": '\n",
      " '\"2000-09-02\", \"description\": \"When Carla meets Paul at an ornithology '\n",
      " '\\\\n      conference, tempers fly as feathers get ruffled.\"}, {\"@id\": '\n",
      " '\"bk107\", \"author\": \"Thurman, Paula\", \"title\": \"Splish Splash\", \"genre\": '\n",
      " '\"Romance\", \"price\": \"4.95\", \"publish_date\": \"2000-11-02\", \"description\": \"A '\n",
      " 'deep sea diver finds true love twenty \\\\n      thousand leagues beneath the '\n",
      " 'sea.\"}, {\"@id\": \"bk108\", \"author\": \"Knorr, Stefan\", \"title\": \"Creepy '\n",
      " 'Crawlies\", \"genre\": \"Horror\", \"price\": \"4.95\", \"publish_date\": \"2000-12-06\", '\n",
      " '\"description\": \"An anthology of horror stories about roaches,\\\\n      '\n",
      " 'centipedes, scorpions  and other insects.\"}, {\"@id\": \"bk109\", \"author\": '\n",
      " '\"Kress, Peter\", \"title\": \"Paradox Lost\", \"genre\": \"Science Fiction\", '\n",
      " '\"price\": \"6.95\", \"publish_date\": \"2000-11-02\", \"description\": \"After an '\n",
      " 'inadvertant trip through a Heisenberg\\\\n      Uncertainty Device, James '\n",
      " 'Salway discovers the problems \\\\n      of being quantum.\"}, {\"@id\": \"bk110\", '\n",
      " '\"author\": \"O\\'Brien, Tim\", \"title\": \"Microsoft .NET: The Programming Bible\", '\n",
      " '\"genre\": \"Computer\", \"price\": \"36.95\", \"publish_date\": \"2000-12-09\", '\n",
      " '\"description\": \"Microsoft\\'s .NET initiative is explored in \\\\n      detail '\n",
      " 'in this deep programmer\\'s reference.\"}, {\"@id\": \"bk111\", \"author\": '\n",
      " '\"O\\'Brien, Tim\", \"title\": \"MSXML3: A Comprehensive Guide\", \"genre\": '\n",
      " '\"Computer\", \"price\": \"36.95\", \"publish_date\": \"2000-12-01\", \"description\": '\n",
      " '\"The Microsoft MSXML3 parser is covered in \\\\n      detail, with attention '\n",
      " 'to XML DOM interfaces, XSLT processing, \\\\n      SAX and more.\"}, {\"@id\": '\n",
      " '\"bk112\", \"author\": \"Galos, Mike\", \"title\": \"Visual Studio 7: A Comprehensive '\n",
      " 'Guide\", \"genre\": \"Computer\", \"price\": \"49.95\", \"publish_date\": \"2001-04-16\", '\n",
      " '\"description\": \"Microsoft Visual Studio 7 is explored in depth,\\\\n      '\n",
      " 'looking at how Visual Basic, Visual C++, C#, and ASP+ are \\\\n      '\n",
      " 'integrated into a comprehensive development \\\\n      environment.\"}]}}')\n"
     ]
    }
   ],
   "source": [
    "import xmltodict\n",
    "import pprint\n",
    "import json\n",
    "\n",
    "with open('G:\\Python\\Documents\\XML_Files\\Books.txt') as fd:\n",
    "    doc = xmltodict.parse(fd.read())\n",
    "\n",
    "pp = pprint.PrettyPrinter(indent=4)\n",
    "pp.pprint(json.dumps(doc))\n"
   ]
  },
  {
   "cell_type": "code",
   "execution_count": null,
   "metadata": {},
   "outputs": [],
   "source": []
  }
 ],
 "metadata": {
  "kernelspec": {
   "display_name": "Python 3",
   "language": "python",
   "name": "python3"
  },
  "language_info": {
   "codemirror_mode": {
    "name": "ipython",
    "version": 3
   },
   "file_extension": ".py",
   "mimetype": "text/x-python",
   "name": "python",
   "nbconvert_exporter": "python",
   "pygments_lexer": "ipython3",
   "version": "3.7.3"
  }
 },
 "nbformat": 4,
 "nbformat_minor": 2
}
