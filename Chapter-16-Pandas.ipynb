{
 "cells": [
  {
   "cell_type": "markdown",
   "metadata": {},
   "source": [
    "#### Installing Pandas\n",
    "pip install pandas "
   ]
  },
  {
   "cell_type": "markdown",
   "metadata": {},
   "source": [
    "### Reference Link for pandas\n",
    "<a href=\"https://pandas.pydata.org/pandas-docs/stable/reference/index.html\">API reference Pandas</a>"
   ]
  },
  {
   "cell_type": "markdown",
   "metadata": {},
   "source": [
    "# Importing pandas into your application"
   ]
  },
  {
   "cell_type": "code",
   "execution_count": 3,
   "metadata": {},
   "outputs": [],
   "source": [
    "# import numpy and pandas, and DataFrame / Series\n",
    "import numpy as np\n",
    "import pandas as pd\n",
    "from pandas import DataFrame, Series\n",
    "\n",
    "# Set some pandas options\n",
    "pd.set_option('display.notebook_repr_html', False)\n",
    "pd.set_option('display.max_columns', 100)\n",
    "pd.set_option('display.max_rows', 100)\n",
    "\n",
    "# And some items for matplotlib\n",
    "#%matplotlib inline \n",
    "#import matplotlib.pyplot as plt\n",
    "#pd.options.display.mpl_style = 'default'"
   ]
  },
  {
   "cell_type": "markdown",
   "metadata": {},
   "source": [
    "# Primary pandas objects"
   ]
  },
  {
   "cell_type": "markdown",
   "metadata": {},
   "source": [
    "## The pandas Series"
   ]
  },
  {
   "cell_type": "code",
   "execution_count": 2,
   "metadata": {},
   "outputs": [
    {
     "data": {
      "text/plain": [
       "0    5\n",
       "1    8\n",
       "2    3\n",
       "3    4\n",
       "dtype: int64"
      ]
     },
     "execution_count": 2,
     "metadata": {},
     "output_type": "execute_result"
    }
   ],
   "source": [
    "# create a four item Series\n",
    "s = Series([5, 8, 3, 4])\n",
    "s"
   ]
  },
  {
   "cell_type": "code",
   "execution_count": 3,
   "metadata": {},
   "outputs": [
    {
     "data": {
      "text/plain": [
       "RangeIndex(start=0, stop=4, step=1)"
      ]
     },
     "execution_count": 3,
     "metadata": {},
     "output_type": "execute_result"
    }
   ],
   "source": [
    "s.index"
   ]
  },
  {
   "cell_type": "code",
   "execution_count": 4,
   "metadata": {},
   "outputs": [
    {
     "data": {
      "text/plain": [
       "1    8\n",
       "2    3\n",
       "dtype: int64"
      ]
     },
     "execution_count": 4,
     "metadata": {},
     "output_type": "execute_result"
    }
   ],
   "source": [
    "s[1:3]"
   ]
  },
  {
   "cell_type": "code",
   "execution_count": 5,
   "metadata": {},
   "outputs": [
    {
     "data": {
      "text/plain": [
       "1    8\n",
       "3    4\n",
       "0    5\n",
       "dtype: int64"
      ]
     },
     "execution_count": 5,
     "metadata": {},
     "output_type": "execute_result"
    }
   ],
   "source": [
    "# return a Series with the row with labels 1 and 3\n",
    "s[[1,3,0]]"
   ]
  },
  {
   "cell_type": "code",
   "execution_count": 7,
   "metadata": {},
   "outputs": [
    {
     "data": {
      "text/plain": [
       "a    5\n",
       "b    8\n",
       "c    3\n",
       "d    4\n",
       "dtype: int64"
      ]
     },
     "execution_count": 7,
     "metadata": {},
     "output_type": "execute_result"
    }
   ],
   "source": [
    "# create a series using an explicit index\n",
    "s = Series([5, 8, 3, 4], index = ['a', 'b', 'c', 'd'])\n",
    "s"
   ]
  },
  {
   "cell_type": "code",
   "execution_count": 8,
   "metadata": {},
   "outputs": [
    {
     "data": {
      "text/plain": [
       "a    5\n",
       "b    8\n",
       "c    3\n",
       "d    4\n",
       "dtype: int64"
      ]
     },
     "execution_count": 8,
     "metadata": {},
     "output_type": "execute_result"
    }
   ],
   "source": [
    "s['a':'d']\n",
    "#s[0:3]"
   ]
  },
  {
   "cell_type": "code",
   "execution_count": 9,
   "metadata": {},
   "outputs": [
    {
     "data": {
      "text/plain": [
       "b    8\n",
       "d    4\n",
       "dtype: int64"
      ]
     },
     "execution_count": 9,
     "metadata": {},
     "output_type": "execute_result"
    }
   ],
   "source": [
    "# look up items the series having index 'a' and 'd'\n",
    "s[['b', 'd']]"
   ]
  },
  {
   "cell_type": "code",
   "execution_count": 10,
   "metadata": {},
   "outputs": [
    {
     "data": {
      "text/plain": [
       "b    8\n",
       "d    4\n",
       "dtype: int64"
      ]
     },
     "execution_count": 10,
     "metadata": {},
     "output_type": "execute_result"
    }
   ],
   "source": [
    "# passing a list of integers to a Series that has\n",
    "# non-integer index labels will look up based upon\n",
    "# 0-based index like an array\n",
    "s[[1, 3]]"
   ]
  },
  {
   "cell_type": "code",
   "execution_count": 11,
   "metadata": {},
   "outputs": [
    {
     "data": {
      "text/plain": [
       "Index(['a', 'b', 'c', 'd'], dtype='object')"
      ]
     },
     "execution_count": 11,
     "metadata": {},
     "output_type": "execute_result"
    }
   ],
   "source": [
    "# get only the index of the Series\n",
    "s.index"
   ]
  },
  {
   "cell_type": "code",
   "execution_count": 16,
   "metadata": {},
   "outputs": [
    {
     "name": "stdout",
     "output_type": "stream",
     "text": [
      "DatetimeIndex(['2021-03-01', '2021-03-02', '2021-03-03', '2021-03-04',\n",
      "               '2021-03-05', '2021-03-06'],\n",
      "              dtype='datetime64[ns]', freq='D')\n",
      "DatetimeIndex(['2021-03-02', '2021-03-03', '2021-03-04', '2021-03-05',\n",
      "               '2021-03-06', '2021-03-07'],\n",
      "              dtype='datetime64[ns]', freq='D')\n",
      "2021-03-01    80\n",
      "2021-03-02    82\n",
      "2021-03-03    85\n",
      "2021-03-04    90\n",
      "2021-03-05    83\n",
      "2021-03-06    87\n",
      "Freq: D, dtype: int64\n",
      "DatetimeIndex(['2021-03-01', '2021-03-02', '2021-03-03', '2021-03-04',\n",
      "               '2021-03-05', '2021-03-06'],\n",
      "              dtype='datetime64[ns]', freq='D')\n"
     ]
    }
   ],
   "source": [
    "# create a Series who's index is a series of dates\n",
    "# between the two specified dates (inclusive)\n",
    "dates1 = pd.date_range('2021-03-01', '2021-03-06')\n",
    "dates2 = pd.date_range('2021-03-02', '2021-03-07')\n",
    "print(dates1)\n",
    "print(dates2)\n",
    "\n",
    "# create a Series with values(representing temperatures)\n",
    "# for each date in the index\n",
    "temps1 = Series([80, 82, 85, 90, 83, 87], \n",
    "                index = dates1)\n",
    "print(temps1)\n",
    "print(temps1.index)\n"
   ]
  },
  {
   "cell_type": "code",
   "execution_count": 17,
   "metadata": {},
   "outputs": [
    {
     "data": {
      "text/plain": [
       "84.5"
      ]
     },
     "execution_count": 17,
     "metadata": {},
     "output_type": "execute_result"
    }
   ],
   "source": [
    "# calculate the mean of the values in the Series\n",
    "temps1.mean()"
   ]
  },
  {
   "cell_type": "code",
   "execution_count": 18,
   "metadata": {},
   "outputs": [
    {
     "data": {
      "text/plain": [
       "90"
      ]
     },
     "execution_count": 18,
     "metadata": {},
     "output_type": "execute_result"
    }
   ],
   "source": [
    "temps1.max()"
   ]
  },
  {
   "cell_type": "code",
   "execution_count": 19,
   "metadata": {},
   "outputs": [
    {
     "data": {
      "text/plain": [
       "80"
      ]
     },
     "execution_count": 19,
     "metadata": {},
     "output_type": "execute_result"
    }
   ],
   "source": [
    "temps1.min()"
   ]
  },
  {
   "cell_type": "code",
   "execution_count": 20,
   "metadata": {},
   "outputs": [
    {
     "data": {
      "text/plain": [
       "507"
      ]
     },
     "execution_count": 20,
     "metadata": {},
     "output_type": "execute_result"
    }
   ],
   "source": [
    "temps1.sum()"
   ]
  },
  {
   "cell_type": "code",
   "execution_count": 21,
   "metadata": {},
   "outputs": [
    {
     "data": {
      "text/plain": [
       "2021-03-01     80\n",
       "2021-03-02    162\n",
       "2021-03-03    247\n",
       "2021-03-04    337\n",
       "2021-03-05    420\n",
       "2021-03-06    507\n",
       "Freq: D, dtype: int64"
      ]
     },
     "execution_count": 21,
     "metadata": {},
     "output_type": "execute_result"
    }
   ],
   "source": [
    "temps1.cumsum()"
   ]
  },
  {
   "cell_type": "code",
   "execution_count": 22,
   "metadata": {},
   "outputs": [
    {
     "name": "stdout",
     "output_type": "stream",
     "text": [
      "2021-03-02    70\n",
      "2021-03-03    75\n",
      "2021-03-04    69\n",
      "2021-03-05    83\n",
      "2021-03-06    79\n",
      "2021-03-07    77\n",
      "Freq: D, dtype: int64\n",
      "DatetimeIndex(['2021-03-02', '2021-03-03', '2021-03-04', '2021-03-05',\n",
      "               '2021-03-06', '2021-03-07'],\n",
      "              dtype='datetime64[ns]', freq='D')\n"
     ]
    }
   ],
   "source": [
    "# create a second series of values using the same index\n",
    "temps2 = Series([70, 75, 69, 83, 79, 77], \n",
    "                index = dates2)\n",
    "print(temps2)\n",
    "print(temps2.index)"
   ]
  },
  {
   "cell_type": "code",
   "execution_count": 23,
   "metadata": {},
   "outputs": [
    {
     "name": "stdout",
     "output_type": "stream",
     "text": [
      "2021-03-01    80\n",
      "2021-03-02    82\n",
      "2021-03-03    85\n",
      "2021-03-04    90\n",
      "2021-03-05    83\n",
      "2021-03-06    87\n",
      "Freq: D, dtype: int64\n"
     ]
    }
   ],
   "source": [
    "print(temps1)"
   ]
  },
  {
   "cell_type": "code",
   "execution_count": 24,
   "metadata": {
    "scrolled": false
   },
   "outputs": [
    {
     "name": "stdout",
     "output_type": "stream",
     "text": [
      "2021-03-02    70\n",
      "2021-03-03    75\n",
      "2021-03-04    69\n",
      "2021-03-05    83\n",
      "2021-03-06    79\n",
      "2021-03-07    77\n",
      "Freq: D, dtype: int64\n"
     ]
    }
   ],
   "source": [
    "print(temps2)"
   ]
  },
  {
   "cell_type": "code",
   "execution_count": 29,
   "metadata": {},
   "outputs": [
    {
     "name": "stdout",
     "output_type": "stream",
     "text": [
      "<class 'pandas.core.series.Series'>\n",
      "2021-03-01     NaN\n",
      "2021-03-02    12.0\n",
      "2021-03-03    10.0\n",
      "2021-03-04    21.0\n",
      "2021-03-05     0.0\n",
      "2021-03-06     8.0\n",
      "2021-03-07     NaN\n",
      "Freq: D, dtype: float64 <class 'pandas.core.series.Series'>\n",
      "###################################\n",
      "DatetimeIndex(['2021-03-01', '2021-03-02', '2021-03-03', '2021-03-04',\n",
      "               '2021-03-05', '2021-03-06', '2021-03-07'],\n",
      "              dtype='datetime64[ns]', freq='D')\n"
     ]
    }
   ],
   "source": [
    "\n",
    "# the following aligns the two by their index values\n",
    "# and calculates the difference at those matching labels\n",
    "temp_diffs = temps1 - temps2\n",
    "print(type(temp_diffs))\n",
    "temp_diffs\n",
    "print(temp_diffs, type(temp_diffs))\n",
    "print(\"###################################\")\n",
    "print(temp_diffs.index)"
   ]
  },
  {
   "cell_type": "code",
   "execution_count": 35,
   "metadata": {},
   "outputs": [
    {
     "data": {
      "text/plain": [
       "10.0"
      ]
     },
     "execution_count": 35,
     "metadata": {},
     "output_type": "execute_result"
    }
   ],
   "source": [
    "# lookup a value by date using the index\n",
    "temp_diffs['2021-03-03']"
   ]
  },
  {
   "cell_type": "code",
   "execution_count": 36,
   "metadata": {},
   "outputs": [
    {
     "data": {
      "text/plain": [
       "21.0"
      ]
     },
     "execution_count": 36,
     "metadata": {},
     "output_type": "execute_result"
    }
   ],
   "source": [
    "# and also possible by integer position as if the \n",
    "# series was an array\n",
    "temp_diffs[3]"
   ]
  },
  {
   "cell_type": "markdown",
   "metadata": {},
   "source": [
    "## The pandas DataFrame"
   ]
  },
  {
   "cell_type": "code",
   "execution_count": 38,
   "metadata": {},
   "outputs": [
    {
     "name": "stdout",
     "output_type": "stream",
     "text": [
      "<class 'pandas.core.frame.DataFrame'>\n"
     ]
    },
    {
     "data": {
      "text/plain": [
       "            Missoula  Philadelphia\n",
       "2021-03-01      80.0           NaN\n",
       "2021-03-02      82.0          70.0\n",
       "2021-03-03      85.0          75.0\n",
       "2021-03-04      90.0          69.0\n",
       "2021-03-05      83.0          83.0\n",
       "2021-03-06      87.0          79.0\n",
       "2021-03-07       NaN          77.0"
      ]
     },
     "execution_count": 38,
     "metadata": {},
     "output_type": "execute_result"
    }
   ],
   "source": [
    "# create a DataFrame from the two series objects temp1 and temp2\n",
    "# and give them column names\n",
    "temps_df = DataFrame(\n",
    "            {'Missoula': temps1, \n",
    "             'Philadelphia': temps2})\n",
    "print(type(temps_df))\n",
    "temps_df"
   ]
  },
  {
   "cell_type": "code",
   "execution_count": 48,
   "metadata": {},
   "outputs": [
    {
     "data": {
      "text/plain": [
       "        Missoula  Philadelphia  Difference         sum\n",
       "count   6.000000      6.000000    5.000000    5.000000\n",
       "mean   84.500000     75.500000   10.200000  160.600000\n",
       "std     3.619392      5.357238    7.563068    5.813777\n",
       "min    80.000000     69.000000    0.000000  152.000000\n",
       "25%    82.250000     71.250000    8.000000  159.000000\n",
       "50%    84.000000     76.000000   10.000000  160.000000\n",
       "75%    86.500000     78.500000   12.000000  166.000000\n",
       "max    90.000000     83.000000   21.000000  166.000000"
      ]
     },
     "execution_count": 48,
     "metadata": {},
     "output_type": "execute_result"
    }
   ],
   "source": [
    "temps_df.describe()"
   ]
  },
  {
   "cell_type": "code",
   "execution_count": 39,
   "metadata": {},
   "outputs": [
    {
     "data": {
      "text/plain": [
       "2021-03-01    80.0\n",
       "2021-03-02    82.0\n",
       "2021-03-03    85.0\n",
       "2021-03-04    90.0\n",
       "2021-03-05    83.0\n",
       "2021-03-06    87.0\n",
       "2021-03-07     NaN\n",
       "Freq: D, Name: Missoula, dtype: float64"
      ]
     },
     "execution_count": 39,
     "metadata": {},
     "output_type": "execute_result"
    }
   ],
   "source": [
    "# get the column with the name Missoula\n",
    "temps_df['Missoula']"
   ]
  },
  {
   "cell_type": "code",
   "execution_count": 37,
   "metadata": {},
   "outputs": [
    {
     "name": "stdout",
     "output_type": "stream",
     "text": [
      "<class 'pandas.core.series.Series'>\n"
     ]
    },
    {
     "data": {
      "text/plain": [
       "2020-03-01     NaN\n",
       "2020-03-02    70.0\n",
       "2020-03-03    75.0\n",
       "2020-03-04    69.0\n",
       "2020-03-05    83.0\n",
       "2020-03-06    79.0\n",
       "2020-03-07    77.0\n",
       "Freq: D, Name: Philadelphia, dtype: float64"
      ]
     },
     "execution_count": 37,
     "metadata": {},
     "output_type": "execute_result"
    }
   ],
   "source": [
    "# likewise we can get just the Philadelphia column\n",
    "print(type(temps_df['Philadelphia']))\n",
    "temps_df['Philadelphia']"
   ]
  },
  {
   "cell_type": "code",
   "execution_count": 40,
   "metadata": {},
   "outputs": [
    {
     "name": "stdout",
     "output_type": "stream",
     "text": [
      "<class 'pandas.core.frame.DataFrame'>\n",
      "            Philadelphia\n",
      "2021-03-01           NaN\n",
      "2021-03-02          70.0\n",
      "2021-03-03          75.0\n",
      "2021-03-04          69.0\n",
      "2021-03-05          83.0\n",
      "2021-03-06          79.0\n",
      "2021-03-07          77.0\n"
     ]
    }
   ],
   "source": [
    "# return both columns in a different order\n",
    "x = temps_df[['Philadelphia']]\n",
    "print(type(x))\n",
    "print(x)"
   ]
  },
  {
   "cell_type": "code",
   "execution_count": 39,
   "metadata": {},
   "outputs": [
    {
     "name": "stdout",
     "output_type": "stream",
     "text": [
      "<class 'pandas.core.series.Series'>\n",
      "2020-03-01    80.0\n",
      "2020-03-02    82.0\n",
      "2020-03-03    85.0\n",
      "2020-03-04    90.0\n",
      "2020-03-05    83.0\n",
      "2020-03-06    87.0\n",
      "2020-03-07     NaN\n",
      "Freq: D, Name: Missoula, dtype: float64\n"
     ]
    }
   ],
   "source": [
    "x = temps_df['Missoula']\n",
    "print(type(x))\n",
    "print(x)"
   ]
  },
  {
   "cell_type": "code",
   "execution_count": 40,
   "metadata": {},
   "outputs": [
    {
     "name": "stdout",
     "output_type": "stream",
     "text": [
      "2020-03-01    80.0\n",
      "2020-03-02    82.0\n",
      "2020-03-03    85.0\n",
      "2020-03-04    90.0\n",
      "2020-03-05    83.0\n",
      "2020-03-06    87.0\n",
      "2020-03-07     NaN\n",
      "Freq: D, Name: Missoula, dtype: float64\n"
     ]
    }
   ],
   "source": [
    "print(temps_df.Missoula)"
   ]
  },
  {
   "cell_type": "code",
   "execution_count": 42,
   "metadata": {},
   "outputs": [
    {
     "name": "stdout",
     "output_type": "stream",
     "text": [
      "85.0\n",
      "###########################################\n",
      "2021-03-03    85.0\n",
      "2021-03-04    90.0\n",
      "2021-03-05    83.0\n",
      "Freq: D, Name: Missoula, dtype: float64\n",
      "###########################################\n",
      "DatetimeIndex(['2021-03-01', '2021-03-02', '2021-03-03', '2021-03-04',\n",
      "               '2021-03-05', '2021-03-06', '2021-03-07'],\n",
      "              dtype='datetime64[ns]', freq='D')\n",
      "<class 'pandas.core.series.Series'>\n"
     ]
    }
   ],
   "source": [
    "print(temps_df.Missoula['2021-03-03'])\n",
    "print(\"###########################################\")\n",
    "print(temps_df.Missoula['2021-03-03':'2021-03-05'])\n",
    "print(\"###########################################\")\n",
    "print(temps_df.Missoula.index)\n",
    "print(type(temps_df.Missoula))\n",
    "s = temps_df.Missoula\n",
    "#print(s[['2019-07-03','2019-07-05'], dtype = 'datetime64[ns]'])"
   ]
  },
  {
   "cell_type": "code",
   "execution_count": 44,
   "metadata": {},
   "outputs": [
    {
     "name": "stdout",
     "output_type": "stream",
     "text": [
      "<class 'pandas.core.series.Series'>\n"
     ]
    },
    {
     "data": {
      "text/plain": [
       "2021-03-01    80.0\n",
       "2021-03-02    82.0\n",
       "2021-03-03    85.0\n",
       "2021-03-04    90.0\n",
       "2021-03-05    83.0\n",
       "2021-03-06    87.0\n",
       "2021-03-07     NaN\n",
       "Freq: D, Name: Missoula, dtype: float64"
      ]
     },
     "execution_count": 44,
     "metadata": {},
     "output_type": "execute_result"
    }
   ],
   "source": [
    "# retrieve the Missoula column through property syntax\n",
    "print(type(temps_df.Missoula))\n",
    "temps_df.Missoula"
   ]
  },
  {
   "cell_type": "code",
   "execution_count": 43,
   "metadata": {},
   "outputs": [
    {
     "data": {
      "text/plain": [
       "2021-03-01     NaN\n",
       "2021-03-02    12.0\n",
       "2021-03-03    10.0\n",
       "2021-03-04    21.0\n",
       "2021-03-05     0.0\n",
       "2021-03-06     8.0\n",
       "2021-03-07     NaN\n",
       "Freq: D, dtype: float64"
      ]
     },
     "execution_count": 43,
     "metadata": {},
     "output_type": "execute_result"
    }
   ],
   "source": [
    "# calculate the temperature difference between the two cities\n",
    "temps_df.Missoula - temps_df.Philadelphia"
   ]
  },
  {
   "cell_type": "code",
   "execution_count": 45,
   "metadata": {
    "scrolled": true
   },
   "outputs": [
    {
     "name": "stdout",
     "output_type": "stream",
     "text": [
      "            Missoula  Philadelphia  Difference    sum\n",
      "2021-03-01      80.0           NaN         NaN    NaN\n",
      "2021-03-02      82.0          70.0        12.0  152.0\n",
      "2021-03-03      85.0          75.0        10.0  160.0\n",
      "2021-03-04      90.0          69.0        21.0  159.0\n",
      "2021-03-05      83.0          83.0         0.0  166.0\n",
      "2021-03-06      87.0          79.0         8.0  166.0\n",
      "2021-03-07       NaN          77.0         NaN    NaN\n",
      "DatetimeIndex(['2021-03-01', '2021-03-02', '2021-03-03', '2021-03-04',\n",
      "               '2021-03-05', '2021-03-06', '2021-03-07'],\n",
      "              dtype='datetime64[ns]', freq='D')\n"
     ]
    },
    {
     "data": {
      "text/plain": [
       "            Missoula  Philadelphia  Difference    sum\n",
       "2021-03-03      85.0          75.0        10.0  160.0\n",
       "2021-03-05      83.0          83.0         0.0  166.0\n",
       "2021-03-07       NaN          77.0         NaN    NaN"
      ]
     },
     "execution_count": 45,
     "metadata": {},
     "output_type": "execute_result"
    }
   ],
   "source": [
    "# add a column to temp_df which contains the difference in temps\n",
    "temps_df['Difference'] = temp_diffs\n",
    "temps_df['sum'] = temps_df.Missoula + temps_df.Philadelphia\n",
    "print(temps_df)\n",
    "print(temps_df.index)\n",
    "temps_df[2:7:2]"
   ]
  },
  {
   "cell_type": "code",
   "execution_count": 46,
   "metadata": {},
   "outputs": [
    {
     "data": {
      "text/plain": [
       "Index(['Missoula', 'Philadelphia', 'Difference', 'sum'], dtype='object')"
      ]
     },
     "execution_count": 46,
     "metadata": {},
     "output_type": "execute_result"
    }
   ],
   "source": [
    "# get the columns, which is also an Index object\n",
    "temps_df.columns\n",
    "#temps_df.Difference1\n",
    "#temps_df[\"Difference1\"]"
   ]
  },
  {
   "cell_type": "code",
   "execution_count": 57,
   "metadata": {},
   "outputs": [
    {
     "data": {
      "text/plain": [
       "2020-03-02    12.0\n",
       "2020-03-03    10.0\n",
       "2020-03-04    21.0\n",
       "2020-03-05     0.0\n",
       "2020-03-06     8.0\n",
       "Freq: D, Name: Difference, dtype: float64"
      ]
     },
     "execution_count": 57,
     "metadata": {},
     "output_type": "execute_result"
    }
   ],
   "source": [
    "# slice the temp differences column for the rows at \n",
    "# location 1 through 4 (as though it is an array)\n",
    "temps_df.Difference[1:6]"
   ]
  },
  {
   "cell_type": "code",
   "execution_count": 67,
   "metadata": {},
   "outputs": [
    {
     "name": "stdout",
     "output_type": "stream",
     "text": [
      "            Missoula  Philadelphia  Difference    sum\n",
      "2020-03-01      80.0           NaN         NaN    NaN\n",
      "2020-03-02      82.0          70.0        12.0  152.0\n",
      "2020-03-03      85.0          75.0        10.0  160.0\n",
      "2020-03-04      90.0          69.0        21.0  159.0\n",
      "2020-03-05      83.0          83.0         0.0  166.0\n",
      "2020-03-06      87.0          79.0         8.0  166.0\n",
      "2020-03-07       NaN          77.0         NaN    NaN\n",
      "##############\n",
      "Missoula         NaN\n",
      "Philadelphia    77.0\n",
      "Difference       NaN\n",
      "sum              NaN\n",
      "Name: 2020-03-07 00:00:00, dtype: float64\n",
      "##############\n",
      "#######4:8#######\n",
      "            Missoula  Philadelphia  Difference    sum\n",
      "2020-03-05      83.0          83.0         0.0  166.0\n",
      "2020-03-06      87.0          79.0         8.0  166.0\n",
      "2020-03-07       NaN          77.0         NaN    NaN\n"
     ]
    },
    {
     "data": {
      "text/plain": [
       "            Missoula  Philadelphia  Difference    sum\n",
       "2020-03-03      85.0          75.0        10.0  160.0\n",
       "2020-03-05      83.0          83.0         0.0  166.0\n",
       "2020-03-07       NaN          77.0         NaN    NaN"
      ]
     },
     "execution_count": 67,
     "metadata": {},
     "output_type": "execute_result"
    }
   ],
   "source": [
    "print(temps_df)\n",
    "print(\"##############\")\n",
    "# get the row at array position 1\n",
    "print((temps_df.iloc[6]))\n",
    "print(\"##############\")\n",
    "temps_df.iloc[6] #particular row index\n",
    "print(\"#######4:8#######\")\n",
    "print(temps_df.iloc[4:8]) # from to To Row\n",
    "#include step\n",
    "temps_df.iloc[2:7:2] #from to To with step"
   ]
  },
  {
   "cell_type": "code",
   "execution_count": 45,
   "metadata": {},
   "outputs": [
    {
     "name": "stdout",
     "output_type": "stream",
     "text": [
      "<class 'pandas.core.frame.DataFrame'>\n"
     ]
    },
    {
     "data": {
      "text/plain": [
       "            Missoula  Philadelphia  Difference  Difference1\n",
       "2019-07-02      82.0          70.0        12.0         12.0\n",
       "2019-07-03      85.0          75.0        10.0         10.0\n",
       "2019-07-04      90.0          69.0        21.0         21.0\n",
       "2019-07-05      83.0          83.0         0.0          0.0\n",
       "2019-07-06      87.0          79.0         8.0          8.0"
      ]
     },
     "execution_count": 45,
     "metadata": {},
     "output_type": "execute_result"
    }
   ],
   "source": [
    "# get the row at array position 1\n",
    "print(type(temps_df.iloc[1:6]))\n",
    "temps_df.iloc[1:6]"
   ]
  },
  {
   "cell_type": "code",
   "execution_count": 46,
   "metadata": {},
   "outputs": [
    {
     "data": {
      "text/plain": [
       "            Missoula  Philadelphia  Difference  Difference1\n",
       "2019-07-02      82.0          70.0        12.0         12.0\n",
       "2019-07-04      90.0          69.0        21.0         21.0"
      ]
     },
     "execution_count": 46,
     "metadata": {},
     "output_type": "execute_result"
    }
   ],
   "source": [
    "temps_df.iloc[1:5:2]"
   ]
  },
  {
   "cell_type": "code",
   "execution_count": 68,
   "metadata": {},
   "outputs": [
    {
     "data": {
      "text/plain": [
       "            Missoula  Philadelphia  Difference    sum\n",
       "2020-03-01      80.0           NaN         NaN    NaN\n",
       "2020-03-02      82.0          70.0        12.0  152.0\n",
       "2020-03-03      85.0          75.0        10.0  160.0\n",
       "2020-03-04      90.0          69.0        21.0  159.0\n",
       "2020-03-05      83.0          83.0         0.0  166.0\n",
       "2020-03-06      87.0          79.0         8.0  166.0\n",
       "2020-03-07       NaN          77.0         NaN    NaN"
      ]
     },
     "execution_count": 68,
     "metadata": {},
     "output_type": "execute_result"
    }
   ],
   "source": [
    "temps_df\n",
    "#temps_df.loc['2019-07-04':'2019-07-07':2]"
   ]
  },
  {
   "cell_type": "code",
   "execution_count": 69,
   "metadata": {},
   "outputs": [
    {
     "name": "stdout",
     "output_type": "stream",
     "text": [
      "            Missoula  Philadelphia  Difference    sum\n",
      "2020-03-01      80.0           NaN         NaN    NaN\n",
      "2020-03-02      82.0          70.0        12.0  152.0\n",
      "2020-03-03      85.0          75.0        10.0  160.0\n",
      "2020-03-04      90.0          69.0        21.0  159.0\n",
      "2020-03-05      83.0          83.0         0.0  166.0\n",
      "2020-03-06      87.0          79.0         8.0  166.0\n",
      "2020-03-07       NaN          77.0         NaN    NaN\n"
     ]
    },
    {
     "name": "stderr",
     "output_type": "stream",
     "text": [
      "c:\\python373\\lib\\site-packages\\ipykernel_launcher.py:4: DeprecationWarning: \n",
      ".ix is deprecated. Please use\n",
      ".loc for label based indexing or\n",
      ".iloc for positional indexing\n",
      "\n",
      "See the documentation here:\n",
      "http://pandas.pydata.org/pandas-docs/stable/indexing.html#ix-indexer-is-deprecated\n",
      "  after removing the cwd from sys.path.\n"
     ]
    },
    {
     "data": {
      "text/plain": [
       "            Missoula  Philadelphia  Difference    sum\n",
       "2020-03-02      82.0          70.0        12.0  152.0\n",
       "2020-03-05      83.0          83.0         0.0  166.0"
      ]
     },
     "execution_count": 69,
     "metadata": {},
     "output_type": "execute_result"
    }
   ],
   "source": [
    "# the names of the columns have become the index\n",
    "# they have been 'pivoted'\n",
    "print(temps_df)\n",
    "temps_df.ix[1:5:3]"
   ]
  },
  {
   "cell_type": "code",
   "execution_count": 79,
   "metadata": {},
   "outputs": [
    {
     "name": "stdout",
     "output_type": "stream",
     "text": [
      "Missoula         85.0\n",
      "Philadelphia     75.0\n",
      "Difference       10.0\n",
      "sum             160.0\n",
      "Name: 2020-03-03 00:00:00, dtype: float64\n"
     ]
    },
    {
     "data": {
      "text/plain": [
       "160.0"
      ]
     },
     "execution_count": 79,
     "metadata": {},
     "output_type": "execute_result"
    }
   ],
   "source": [
    "# retrieve row by index label using .loc\n",
    "print(temps_df.loc['2020-03-03'])\n",
    "temps_df.loc['2020-03-03','sum']"
   ]
  },
  {
   "cell_type": "code",
   "execution_count": 80,
   "metadata": {},
   "outputs": [
    {
     "data": {
      "text/plain": [
       "            Missoula  Philadelphia  Difference    sum\n",
       "2020-03-01      80.0           NaN         NaN    NaN\n",
       "2020-03-02      82.0          70.0        12.0  152.0\n",
       "2020-03-03      85.0          75.0        10.0  160.0\n",
       "2020-03-04      90.0          69.0        21.0  159.0\n",
       "2020-03-05      83.0          83.0         0.0  166.0\n",
       "2020-03-06      87.0          79.0         8.0  166.0\n",
       "2020-03-07       NaN          77.0         NaN    NaN"
      ]
     },
     "execution_count": 80,
     "metadata": {},
     "output_type": "execute_result"
    }
   ],
   "source": [
    "temps_df"
   ]
  },
  {
   "cell_type": "code",
   "execution_count": 84,
   "metadata": {},
   "outputs": [
    {
     "data": {
      "text/plain": [
       "2020-03-02    12.0\n",
       "2020-03-04    21.0\n",
       "2020-03-06     8.0\n",
       "Name: Difference, dtype: float64"
      ]
     },
     "execution_count": 84,
     "metadata": {},
     "output_type": "execute_result"
    }
   ],
   "source": [
    "temps_df.Difference[[1,3,5]]"
   ]
  },
  {
   "cell_type": "code",
   "execution_count": 85,
   "metadata": {
    "scrolled": true
   },
   "outputs": [
    {
     "data": {
      "text/plain": [
       "2020-03-02    12.0\n",
       "2020-03-04    21.0\n",
       "2020-03-06     8.0\n",
       "Freq: 2D, Name: Difference, dtype: float64"
      ]
     },
     "execution_count": 85,
     "metadata": {},
     "output_type": "execute_result"
    }
   ],
   "source": [
    "# get the values in the Differences column in tows 1, 3 and 5\n",
    "# using 0-based location\n",
    "temps_df.iloc[[1, 3, 5]].Difference"
   ]
  },
  {
   "cell_type": "code",
   "execution_count": 86,
   "metadata": {},
   "outputs": [
    {
     "data": {
      "text/plain": [
       "            Missoula  Philadelphia  Difference    sum\n",
       "2020-03-01     False         False       False  False\n",
       "2020-03-02     False         False       False   True\n",
       "2020-03-03      True         False       False   True\n",
       "2020-03-04      True         False       False   True\n",
       "2020-03-05      True          True       False   True\n",
       "2020-03-06      True         False       False   True\n",
       "2020-03-07     False         False       False  False"
      ]
     },
     "execution_count": 86,
     "metadata": {},
     "output_type": "execute_result"
    }
   ],
   "source": [
    "temps_df>82"
   ]
  },
  {
   "cell_type": "code",
   "execution_count": 88,
   "metadata": {},
   "outputs": [
    {
     "data": {
      "text/plain": [
       "            Missoula  Philadelphia  Difference    sum\n",
       "2020-03-01       NaN           NaN         NaN    NaN\n",
       "2020-03-02       NaN           NaN         NaN  152.0\n",
       "2020-03-03      85.0           NaN         NaN  160.0\n",
       "2020-03-04      90.0           NaN         NaN  159.0\n",
       "2020-03-05      83.0          83.0         NaN  166.0\n",
       "2020-03-06      87.0           NaN         NaN  166.0\n",
       "2020-03-07       NaN           NaN         NaN    NaN"
      ]
     },
     "execution_count": 88,
     "metadata": {},
     "output_type": "execute_result"
    }
   ],
   "source": [
    "temps_df[temps_df>82]"
   ]
  },
  {
   "cell_type": "code",
   "execution_count": 89,
   "metadata": {},
   "outputs": [
    {
     "data": {
      "text/plain": [
       "2020-03-01    False\n",
       "2020-03-02    False\n",
       "2020-03-03     True\n",
       "2020-03-04     True\n",
       "2020-03-05     True\n",
       "2020-03-06     True\n",
       "2020-03-07    False\n",
       "Freq: D, Name: Missoula, dtype: bool"
      ]
     },
     "execution_count": 89,
     "metadata": {},
     "output_type": "execute_result"
    }
   ],
   "source": [
    "# which values in the Missoula column are > 82?\n",
    "temps_df.Missoula > 82"
   ]
  },
  {
   "cell_type": "code",
   "execution_count": 90,
   "metadata": {},
   "outputs": [
    {
     "data": {
      "text/plain": [
       "            Missoula  Philadelphia  Difference    sum\n",
       "2020-03-03      85.0          75.0        10.0  160.0\n",
       "2020-03-04      90.0          69.0        21.0  159.0\n",
       "2020-03-05      83.0          83.0         0.0  166.0\n",
       "2020-03-06      87.0          79.0         8.0  166.0"
      ]
     },
     "execution_count": 90,
     "metadata": {},
     "output_type": "execute_result"
    }
   ],
   "source": [
    "# return the rows where the temps for Missoula > 82\n",
    "temps_df[temps_df.Missoula > 82]"
   ]
  },
  {
   "cell_type": "code",
   "execution_count": 91,
   "metadata": {},
   "outputs": [
    {
     "data": {
      "text/plain": [
       "            Missoula  Philadelphia  Difference    sum\n",
       "2020-03-01      80.0           NaN         NaN    NaN\n",
       "2020-03-02      82.0          70.0        12.0  152.0\n",
       "2020-03-03      85.0          75.0        10.0  160.0\n",
       "2020-03-04      90.0          69.0        21.0  159.0\n",
       "2020-03-05      83.0          83.0         0.0  166.0"
      ]
     },
     "execution_count": 91,
     "metadata": {},
     "output_type": "execute_result"
    }
   ],
   "source": [
    "###### provides default 5 values from top\n",
    "temps_df.head()"
   ]
  },
  {
   "cell_type": "code",
   "execution_count": 92,
   "metadata": {},
   "outputs": [
    {
     "data": {
      "text/plain": [
       "            Missoula  Philadelphia  Difference    sum\n",
       "2020-03-01      80.0           NaN         NaN    NaN\n",
       "2020-03-02      82.0          70.0        12.0  152.0"
      ]
     },
     "execution_count": 92,
     "metadata": {},
     "output_type": "execute_result"
    }
   ],
   "source": [
    "###### provides default 5 values from top\n",
    "temps_df.head(2)"
   ]
  },
  {
   "cell_type": "code",
   "execution_count": 93,
   "metadata": {},
   "outputs": [
    {
     "data": {
      "text/plain": [
       "            Missoula  Philadelphia  Difference    sum\n",
       "2020-03-04      90.0          69.0        21.0  159.0\n",
       "2020-03-05      83.0          83.0         0.0  166.0\n",
       "2020-03-06      87.0          79.0         8.0  166.0\n",
       "2020-03-07       NaN          77.0         NaN    NaN"
      ]
     },
     "execution_count": 93,
     "metadata": {},
     "output_type": "execute_result"
    }
   ],
   "source": [
    "###### provides default 5 values from top\n",
    "temps_df.tail(4)"
   ]
  },
  {
   "cell_type": "markdown",
   "metadata": {},
   "source": [
    "# Loading data from files and the web into a DataFrame"
   ]
  },
  {
   "cell_type": "code",
   "execution_count": 229,
   "metadata": {},
   "outputs": [
    {
     "name": "stderr",
     "output_type": "stream",
     "text": [
      "'cat' is not recognized as an internal or external command,\n",
      "operable program or batch file.\n"
     ]
    }
   ],
   "source": [
    "# display the contents of test1.csv\n",
    "# which command to use depends on your OS\n",
    "!cat data/test1.csv # on non-windows systems\n",
    "#!type data/test1.csv # on windows systems"
   ]
  },
  {
   "cell_type": "markdown",
   "metadata": {},
   "source": [
    "###### Accessing Data"
   ]
  },
  {
   "cell_type": "markdown",
   "metadata": {},
   "source": [
    "### Reading Data From HTML"
   ]
  },
  {
   "cell_type": "code",
   "execution_count": null,
   "metadata": {},
   "outputs": [],
   "source": [
    "pandas.read_html(io, match='.+', flavor=None, header=None, index_col=None, skiprows=None, attrs=None, parse_dates=False, thousands=', ', encoding=None, decimal='.', converters=None, na_values=None, keep_default_na=True, displayed_only=True)"
   ]
  },
  {
   "cell_type": "code",
   "execution_count": 102,
   "metadata": {},
   "outputs": [
    {
     "ename": "ImportError",
     "evalue": "lxml not found, please install it",
     "output_type": "error",
     "traceback": [
      "\u001b[1;31m---------------------------------------------------------------------------\u001b[0m",
      "\u001b[1;31mImportError\u001b[0m                               Traceback (most recent call last)",
      "\u001b[1;32m<ipython-input-102-96f7452c3e8a>\u001b[0m in \u001b[0;36m<module>\u001b[1;34m\u001b[0m\n\u001b[0;32m      2\u001b[0m \u001b[0murl\u001b[0m \u001b[1;33m=\u001b[0m \u001b[1;34m'http://www.fdic.gov/bank/individual/failed/banklist.html'\u001b[0m\u001b[1;33m\u001b[0m\u001b[1;33m\u001b[0m\u001b[0m\n\u001b[0;32m      3\u001b[0m \u001b[1;31m#pd.read_html()\u001b[0m\u001b[1;33m\u001b[0m\u001b[1;33m\u001b[0m\u001b[1;33m\u001b[0m\u001b[0m\n\u001b[1;32m----> 4\u001b[1;33m \u001b[0mdfs\u001b[0m \u001b[1;33m=\u001b[0m \u001b[0mpd\u001b[0m\u001b[1;33m.\u001b[0m\u001b[0mread_html\u001b[0m\u001b[1;33m(\u001b[0m\u001b[0murl\u001b[0m\u001b[1;33m)\u001b[0m\u001b[1;33m\u001b[0m\u001b[1;33m\u001b[0m\u001b[0m\n\u001b[0m",
      "\u001b[1;32mc:\\python373\\lib\\site-packages\\pandas\\io\\html.py\u001b[0m in \u001b[0;36mread_html\u001b[1;34m(io, match, flavor, header, index_col, skiprows, attrs, parse_dates, tupleize_cols, thousands, encoding, decimal, converters, na_values, keep_default_na, displayed_only)\u001b[0m\n\u001b[0;32m   1092\u001b[0m                   \u001b[0mdecimal\u001b[0m\u001b[1;33m=\u001b[0m\u001b[0mdecimal\u001b[0m\u001b[1;33m,\u001b[0m \u001b[0mconverters\u001b[0m\u001b[1;33m=\u001b[0m\u001b[0mconverters\u001b[0m\u001b[1;33m,\u001b[0m \u001b[0mna_values\u001b[0m\u001b[1;33m=\u001b[0m\u001b[0mna_values\u001b[0m\u001b[1;33m,\u001b[0m\u001b[1;33m\u001b[0m\u001b[1;33m\u001b[0m\u001b[0m\n\u001b[0;32m   1093\u001b[0m                   \u001b[0mkeep_default_na\u001b[0m\u001b[1;33m=\u001b[0m\u001b[0mkeep_default_na\u001b[0m\u001b[1;33m,\u001b[0m\u001b[1;33m\u001b[0m\u001b[1;33m\u001b[0m\u001b[0m\n\u001b[1;32m-> 1094\u001b[1;33m                   displayed_only=displayed_only)\n\u001b[0m",
      "\u001b[1;32mc:\\python373\\lib\\site-packages\\pandas\\io\\html.py\u001b[0m in \u001b[0;36m_parse\u001b[1;34m(flavor, io, match, attrs, encoding, displayed_only, **kwargs)\u001b[0m\n\u001b[0;32m    892\u001b[0m     \u001b[0mretained\u001b[0m \u001b[1;33m=\u001b[0m \u001b[1;32mNone\u001b[0m\u001b[1;33m\u001b[0m\u001b[1;33m\u001b[0m\u001b[0m\n\u001b[0;32m    893\u001b[0m     \u001b[1;32mfor\u001b[0m \u001b[0mflav\u001b[0m \u001b[1;32min\u001b[0m \u001b[0mflavor\u001b[0m\u001b[1;33m:\u001b[0m\u001b[1;33m\u001b[0m\u001b[1;33m\u001b[0m\u001b[0m\n\u001b[1;32m--> 894\u001b[1;33m         \u001b[0mparser\u001b[0m \u001b[1;33m=\u001b[0m \u001b[0m_parser_dispatch\u001b[0m\u001b[1;33m(\u001b[0m\u001b[0mflav\u001b[0m\u001b[1;33m)\u001b[0m\u001b[1;33m\u001b[0m\u001b[1;33m\u001b[0m\u001b[0m\n\u001b[0m\u001b[0;32m    895\u001b[0m         \u001b[0mp\u001b[0m \u001b[1;33m=\u001b[0m \u001b[0mparser\u001b[0m\u001b[1;33m(\u001b[0m\u001b[0mio\u001b[0m\u001b[1;33m,\u001b[0m \u001b[0mcompiled_match\u001b[0m\u001b[1;33m,\u001b[0m \u001b[0mattrs\u001b[0m\u001b[1;33m,\u001b[0m \u001b[0mencoding\u001b[0m\u001b[1;33m,\u001b[0m \u001b[0mdisplayed_only\u001b[0m\u001b[1;33m)\u001b[0m\u001b[1;33m\u001b[0m\u001b[1;33m\u001b[0m\u001b[0m\n\u001b[0;32m    896\u001b[0m \u001b[1;33m\u001b[0m\u001b[0m\n",
      "\u001b[1;32mc:\\python373\\lib\\site-packages\\pandas\\io\\html.py\u001b[0m in \u001b[0;36m_parser_dispatch\u001b[1;34m(flavor)\u001b[0m\n\u001b[0;32m    849\u001b[0m     \u001b[1;32melse\u001b[0m\u001b[1;33m:\u001b[0m\u001b[1;33m\u001b[0m\u001b[1;33m\u001b[0m\u001b[0m\n\u001b[0;32m    850\u001b[0m         \u001b[1;32mif\u001b[0m \u001b[1;32mnot\u001b[0m \u001b[0m_HAS_LXML\u001b[0m\u001b[1;33m:\u001b[0m\u001b[1;33m\u001b[0m\u001b[1;33m\u001b[0m\u001b[0m\n\u001b[1;32m--> 851\u001b[1;33m             \u001b[1;32mraise\u001b[0m \u001b[0mImportError\u001b[0m\u001b[1;33m(\u001b[0m\u001b[1;34m\"lxml not found, please install it\"\u001b[0m\u001b[1;33m)\u001b[0m\u001b[1;33m\u001b[0m\u001b[1;33m\u001b[0m\u001b[0m\n\u001b[0m\u001b[0;32m    852\u001b[0m     \u001b[1;32mreturn\u001b[0m \u001b[0m_valid_parsers\u001b[0m\u001b[1;33m[\u001b[0m\u001b[0mflavor\u001b[0m\u001b[1;33m]\u001b[0m\u001b[1;33m\u001b[0m\u001b[1;33m\u001b[0m\u001b[0m\n\u001b[0;32m    853\u001b[0m \u001b[1;33m\u001b[0m\u001b[0m\n",
      "\u001b[1;31mImportError\u001b[0m: lxml not found, please install it"
     ]
    }
   ],
   "source": [
    "import html5lib\n",
    "url = 'http://www.fdic.gov/bank/individual/failed/banklist.html'\n",
    "#pd.read_html()\n",
    "dfs = pd.read_html(url)"
   ]
  },
  {
   "cell_type": "markdown",
   "metadata": {},
   "source": [
    "### Reading Data From CLIPBOARD"
   ]
  },
  {
   "cell_type": "code",
   "execution_count": 1,
   "metadata": {},
   "outputs": [
    {
     "ename": "NameError",
     "evalue": "name 'pd' is not defined",
     "output_type": "error",
     "traceback": [
      "\u001b[1;31m---------------------------------------------------------------------------\u001b[0m",
      "\u001b[1;31mNameError\u001b[0m                                 Traceback (most recent call last)",
      "\u001b[1;32m<ipython-input-1-e4a000dd8d00>\u001b[0m in \u001b[0;36m<module>\u001b[1;34m\u001b[0m\n\u001b[1;32m----> 1\u001b[1;33m \u001b[0mx\u001b[0m \u001b[1;33m=\u001b[0m \u001b[0mpd\u001b[0m\u001b[1;33m.\u001b[0m\u001b[0mread_clipboard\u001b[0m\u001b[1;33m(\u001b[0m\u001b[1;33m)\u001b[0m\u001b[1;33m\u001b[0m\u001b[1;33m\u001b[0m\u001b[0m\n\u001b[0m\u001b[0;32m      2\u001b[0m \u001b[0mprint\u001b[0m\u001b[1;33m(\u001b[0m\u001b[0mx\u001b[0m\u001b[1;33m)\u001b[0m\u001b[1;33m\u001b[0m\u001b[1;33m\u001b[0m\u001b[0m\n",
      "\u001b[1;31mNameError\u001b[0m: name 'pd' is not defined"
     ]
    }
   ],
   "source": [
    "x = pd.read_clipboard()\n",
    "print(x)"
   ]
  },
  {
   "cell_type": "code",
   "execution_count": 60,
   "metadata": {},
   "outputs": [
    {
     "data": {
      "text/plain": [
       "                  date         0         1         2\n",
       "0  2000-01-01 00:00:00  1.103763 -1.909979 -0.808956\n",
       "1  2000-01-02 00:00:00  1.188917  0.581120  0.861597\n",
       "2  2000-01-03 00:00:00 -0.964200  0.779764  1.829062\n",
       "3  2000-01-04 00:00:00  0.782130 -1.720670 -1.108242\n",
       "4  2000-01-05 00:00:00 -1.867017 -0.528368 -2.488309\n",
       "5  2000-01-06 00:00:00  2.569280 -0.471901 -0.835033\n",
       "6  2000-01-07 00:00:00 -0.399323 -0.676427 -0.011256\n",
       "7  2000-01-08 00:00:00  1.642993  1.013420  1.435667\n",
       "8  2000-01-09 00:00:00  1.147308  2.138000  0.554171\n",
       "9  2000-01-10 00:00:00  0.933766  1.387155 -0.560143"
      ]
     },
     "execution_count": 60,
     "metadata": {},
     "output_type": "execute_result"
    }
   ],
   "source": [
    "# read the contents of the file into a DataFrame\n",
    "df = pd.read_csv('test1.csv')\n",
    "df"
   ]
  },
  {
   "cell_type": "code",
   "execution_count": 61,
   "metadata": {},
   "outputs": [
    {
     "data": {
      "text/plain": [
       "Index(['date', '0', '1', '2'], dtype='object')"
      ]
     },
     "execution_count": 61,
     "metadata": {},
     "output_type": "execute_result"
    }
   ],
   "source": [
    "df.columns"
   ]
  },
  {
   "cell_type": "code",
   "execution_count": 62,
   "metadata": {},
   "outputs": [
    {
     "data": {
      "text/plain": [
       "                  date         2\n",
       "0  2000-01-01 00:00:00 -0.808956\n",
       "1  2000-01-02 00:00:00  0.861597\n",
       "2  2000-01-03 00:00:00  1.829062\n",
       "3  2000-01-04 00:00:00 -1.108242\n",
       "4  2000-01-05 00:00:00 -2.488309\n",
       "5  2000-01-06 00:00:00 -0.835033\n",
       "6  2000-01-07 00:00:00 -0.011256\n",
       "7  2000-01-08 00:00:00  1.435667\n",
       "8  2000-01-09 00:00:00  0.554171\n",
       "9  2000-01-10 00:00:00 -0.560143"
      ]
     },
     "execution_count": 62,
     "metadata": {},
     "output_type": "execute_result"
    }
   ],
   "source": [
    "# the contents of the date column\n",
    "df[[\"date\",\"2\"]]"
   ]
  },
  {
   "cell_type": "code",
   "execution_count": 63,
   "metadata": {},
   "outputs": [
    {
     "name": "stdout",
     "output_type": "stream",
     "text": [
      "<class 'str'>\n"
     ]
    },
    {
     "data": {
      "text/plain": [
       "'2000-01-01 00:00:00'"
      ]
     },
     "execution_count": 63,
     "metadata": {},
     "output_type": "execute_result"
    }
   ],
   "source": [
    "# we can get the first value in the date column\n",
    "print(type(df.date[0]))\n",
    "df.date[0]"
   ]
  },
  {
   "cell_type": "code",
   "execution_count": 64,
   "metadata": {},
   "outputs": [
    {
     "data": {
      "text/plain": [
       "str"
      ]
     },
     "execution_count": 64,
     "metadata": {},
     "output_type": "execute_result"
    }
   ],
   "source": [
    "# it is a string\n",
    "type(df.date[0])"
   ]
  },
  {
   "cell_type": "code",
   "execution_count": 65,
   "metadata": {},
   "outputs": [
    {
     "name": "stdout",
     "output_type": "stream",
     "text": [
      "0    2000-01-01 00:00:00\n",
      "1    2000-01-02 00:00:00\n",
      "2    2000-01-03 00:00:00\n",
      "3    2000-01-04 00:00:00\n",
      "4    2000-01-05 00:00:00\n",
      "5    2000-01-06 00:00:00\n",
      "6    2000-01-07 00:00:00\n",
      "7    2000-01-08 00:00:00\n",
      "8    2000-01-09 00:00:00\n",
      "9    2000-01-10 00:00:00\n",
      "Name: date, dtype: object\n"
     ]
    },
    {
     "data": {
      "text/plain": [
       "pandas.core.series.Series"
      ]
     },
     "execution_count": 65,
     "metadata": {},
     "output_type": "execute_result"
    }
   ],
   "source": [
    "print(df.date)\n",
    "type(df.date)\n"
   ]
  },
  {
   "cell_type": "code",
   "execution_count": 66,
   "metadata": {},
   "outputs": [
    {
     "name": "stdout",
     "output_type": "stream",
     "text": [
      "2000-01-01 00:00:00\n"
     ]
    },
    {
     "data": {
      "text/plain": [
       "pandas._libs.tslibs.timestamps.Timestamp"
      ]
     },
     "execution_count": 66,
     "metadata": {},
     "output_type": "execute_result"
    }
   ],
   "source": [
    "# read the data and tell pandas the date column should be \n",
    "# a date in the resulting DataFrame\n",
    "df = pd.read_csv('test1.csv', parse_dates=['date'])\n",
    "print(df.date[0])\n",
    "type(df.date[0])"
   ]
  },
  {
   "cell_type": "code",
   "execution_count": 67,
   "metadata": {},
   "outputs": [
    {
     "data": {
      "text/plain": [
       "RangeIndex(start=0, stop=10, step=1)"
      ]
     },
     "execution_count": 67,
     "metadata": {},
     "output_type": "execute_result"
    }
   ],
   "source": [
    "df.index"
   ]
  },
  {
   "cell_type": "code",
   "execution_count": 68,
   "metadata": {},
   "outputs": [
    {
     "data": {
      "text/plain": [
       "pandas._libs.tslibs.timestamps.Timestamp"
      ]
     },
     "execution_count": 68,
     "metadata": {},
     "output_type": "execute_result"
    }
   ],
   "source": [
    "# verify the type now is date\n",
    "# in pandas, this is actually a Timestamp\n",
    "type(df.date[0])"
   ]
  },
  {
   "cell_type": "code",
   "execution_count": 69,
   "metadata": {},
   "outputs": [
    {
     "data": {
      "text/plain": [
       "RangeIndex(start=0, stop=10, step=1)"
      ]
     },
     "execution_count": 69,
     "metadata": {},
     "output_type": "execute_result"
    }
   ],
   "source": [
    "# unfortunately the index is numeric which makes\n",
    "# accessing data by date more complicated\n",
    "df.index"
   ]
  },
  {
   "cell_type": "code",
   "execution_count": 19,
   "metadata": {},
   "outputs": [
    {
     "name": "stdout",
     "output_type": "stream",
     "text": [
      "                   0         1         2\n",
      "date                                    \n",
      "2000-01-01  1.103763 -1.909979 -0.808956\n",
      "2000-01-02  1.188917  0.581120  0.861597\n",
      "2000-01-03 -0.964200  0.779764  1.829062\n",
      "2000-01-04  0.782130 -1.720670 -1.108242\n",
      "2000-01-05 -1.867017 -0.528368 -2.488309\n",
      "2000-01-06  2.569280 -0.471901 -0.835033\n",
      "2000-01-07 -0.399323 -0.676427 -0.011256\n",
      "2000-01-08  1.642993  1.013420  1.435667\n",
      "2000-01-09  1.147308  2.138000  0.554171\n",
      "2000-01-10  0.933766  1.387155 -0.560143\n",
      "DatetimeIndex(['2000-01-01', '2000-01-02', '2000-01-03', '2000-01-04',\n",
      "               '2000-01-05', '2000-01-06', '2000-01-07', '2000-01-08',\n",
      "               '2000-01-09', '2000-01-10'],\n",
      "              dtype='datetime64[ns]', name='date', freq=None)\n"
     ]
    }
   ],
   "source": [
    "# read in again, now specity the data column as being the \n",
    "# index of the resulting DataFrame\n",
    "df = pd.read_csv('test1.csv', parse_dates=['date'], index_col='date')\n",
    "print(df)\n",
    "print(df.index)"
   ]
  },
  {
   "cell_type": "code",
   "execution_count": 20,
   "metadata": {},
   "outputs": [
    {
     "data": {
      "text/plain": [
       "DatetimeIndex(['2000-01-01', '2000-01-02', '2000-01-03', '2000-01-04',\n",
       "               '2000-01-05', '2000-01-06', '2000-01-07', '2000-01-08',\n",
       "               '2000-01-09', '2000-01-10'],\n",
       "              dtype='datetime64[ns]', name='date', freq=None)"
      ]
     },
     "execution_count": 20,
     "metadata": {},
     "output_type": "execute_result"
    }
   ],
   "source": [
    "# and the index is now a DatetimeIndex\n",
    "df.index\n",
    "\n"
   ]
  },
  {
   "cell_type": "code",
   "execution_count": 21,
   "metadata": {},
   "outputs": [
    {
     "data": {
      "text/plain": [
       "Index(['0', '1', '2'], dtype='object')"
      ]
     },
     "execution_count": 21,
     "metadata": {},
     "output_type": "execute_result"
    }
   ],
   "source": [
    "df.columns"
   ]
  },
  {
   "cell_type": "code",
   "execution_count": 75,
   "metadata": {},
   "outputs": [
    {
     "name": "stdout",
     "output_type": "stream",
     "text": [
      "         Date   Open   High    Low  Close   Volume  Adj Close\n",
      "0  2019-07-21  83.46  83.53  81.81  81.93  2359300      81.93\n",
      "1  2019-07-18  83.46  83.40  82.52  83.35  4020800      83.35\n",
      "2  2019-07-17  84.35  84.63  83.33  83.63  1974000      83.63\n",
      "3  2019-07-16  83.77  84.91  83.66  84.91  1755600      84.91\n",
      "4  2019-07-15  84.30  84.38  83.20  83.58  1874700      83.58\n"
     ]
    },
    {
     "data": {
      "text/plain": [
       "              Open         High          Low        Close        Volume  \\\n",
       "count  3767.000000  3767.000000  3767.000000  3767.000000  3.767000e+03   \n",
       "mean     55.208216    55.811001    54.562599    55.226161  4.936915e+06   \n",
       "std      17.707426    17.780680    17.669009    17.722486  3.174734e+06   \n",
       "min      20.690000    20.870000    17.850000    19.950000  0.000000e+00   \n",
       "25%      42.405000    42.890000    41.850000    42.415000  3.066700e+06   \n",
       "50%      49.990000    50.600000    49.310000    49.970000  4.482900e+06   \n",
       "75%      65.995000    66.785000    65.405000    65.965000  6.072700e+06   \n",
       "max     105.000000   105.740000   103.610000   104.820000  5.086050e+07   \n",
       "\n",
       "         Adj Close  \n",
       "count  3767.000000  \n",
       "mean     33.259557  \n",
       "std      19.001068  \n",
       "min      11.070000  \n",
       "25%      17.810000  \n",
       "50%      25.020000  \n",
       "75%      43.720000  \n",
       "max      87.360000  "
      ]
     },
     "execution_count": 75,
     "metadata": {},
     "output_type": "execute_result"
    }
   ],
   "source": [
    "# use column 0 as the index\n",
    "msft = pd.read_csv(\"msft.csv\")\n",
    "print(msft.head())\n",
    "msft.describe()"
   ]
  },
  {
   "cell_type": "code",
   "execution_count": 72,
   "metadata": {},
   "outputs": [
    {
     "name": "stdout",
     "output_type": "stream",
     "text": [
      "         Date   Open   High    Low  Close   Volume  Adj Close\n",
      "0  2019-07-21  83.46  83.53  81.81  81.93  2359300      81.93\n",
      "1  2019-07-18  83.46  83.40  82.52  83.35  4020800      83.35\n",
      "2  2019-07-17  84.35  84.63  83.33  83.63  1974000      83.63\n",
      "3  2019-07-16  83.77  84.91  83.66  84.91  1755600      84.91\n",
      "4  2019-07-15  84.30  84.38  83.20  83.58  1874700      83.58\n",
      "             Date   Open    Low  Close   Volume  Adj Close\n",
      "High                                                      \n",
      "83.53  2019-07-21  83.46  81.81  81.93  2359300      81.93\n",
      "83.40  2019-07-18  83.46  82.52  83.35  4020800      83.35\n",
      "84.63  2019-07-17  84.35  83.33  83.63  1974000      83.63\n",
      "84.91  2019-07-16  83.77  83.66  84.91  1755600      84.91\n",
      "84.38  2019-07-15  84.30  83.20  83.58  1874700      83.58\n"
     ]
    }
   ],
   "source": [
    "msft = pd.read_csv(\"msft.csv\", index_col=2)\n",
    "print(msft.head())"
   ]
  },
  {
   "cell_type": "code",
   "execution_count": 76,
   "metadata": {},
   "outputs": [
    {
     "data": {
      "text/plain": [
       "Date          object\n",
       "Open         float64\n",
       "High         float64\n",
       "Low          float64\n",
       "Close        float64\n",
       "Volume         int64\n",
       "Adj Close    float64\n",
       "dtype: object"
      ]
     },
     "execution_count": 76,
     "metadata": {},
     "output_type": "execute_result"
    }
   ],
   "source": [
    "# examine the types of the columns in this DataFrame\n",
    "msft.dtypes"
   ]
  },
  {
   "cell_type": "code",
   "execution_count": 4,
   "metadata": {},
   "outputs": [
    {
     "name": "stdout",
     "output_type": "stream",
     "text": [
      "Date         datetime64[ns]\n",
      "Open                float64\n",
      "High                float64\n",
      "Low                  object\n",
      "Volume                int32\n",
      "Adj Close           float64\n",
      "dtype: object\n",
      "            Date   Open   High    Low   Volume  Adj Close\n",
      "Close                                                    \n",
      "81.93 2019-07-21  83.46  83.53  81.81  2359300      81.93\n",
      "83.35 2019-07-18  83.46  83.40  82.52  4020800      83.35\n",
      "83.63 2019-07-17  84.35  84.63  83.33  1974000      83.63\n",
      "84.91 2019-07-16  83.77  84.91  83.66  1755600      84.91\n",
      "83.58 2019-07-15  84.30  84.38  83.20  1874700      83.58\n",
      "...          ...    ...    ...    ...      ...        ...\n",
      "50.00 2000-01-07  48.55  50.35  47.80  4621200      19.48\n",
      "48.03 2000-01-06  46.78  48.35  46.28  3306100      18.72\n",
      "46.75 2000-01-05  46.94  47.50  45.92  4809900      18.22\n",
      "47.85 2000-01-04  49.80  49.80  47.72  4489500      18.65\n",
      "49.75 2000-01-03  52.70  53.20  49.60  3137300      19.39\n",
      "\n",
      "[3767 rows x 6 columns]\n"
     ]
    }
   ],
   "source": [
    "# specify that the Volume column should be a float64\n",
    "msft = pd.read_csv(\"msft.csv\", parse_dates = ['Date'], dtype = { 'Volume' : np.int32, 'Low': str}, index_col = 'Close')\n",
    "print(msft.dtypes)\n",
    "print(msft)\n"
   ]
  },
  {
   "cell_type": "code",
   "execution_count": 15,
   "metadata": {},
   "outputs": [
    {
     "name": "stdout",
     "output_type": "stream",
     "text": [
      "Date          object\n",
      "Open         float64\n",
      "High          object\n",
      "Low          float64\n",
      "Close        float64\n",
      "Volume       float64\n",
      "Adj Close    float64\n",
      "dtype: object\n",
      "################################################\n",
      "0    83\n",
      "1    83\n",
      "2    84\n",
      "3    83\n",
      "4    84\n",
      "5    83\n",
      "6    83\n",
      "7    85\n",
      "8    84\n",
      "9    86\n",
      "Name: Open, dtype: int64\n",
      "int64\n",
      "################################################\n",
      "Date          object\n",
      "Open           int64\n",
      "High          object\n",
      "Low          float64\n",
      "Close        float64\n",
      "Volume       float64\n",
      "Adj Close    float64\n",
      "dtype: object\n",
      "################################################\n",
      "          Date  Open   High    Low  Close     Volume  Adj Close\n",
      "0   2019-07-21    83  83.53  81.81  81.93  2359300.0      81.93\n",
      "1   2019-07-18    83  83.40  82.52  83.35  4020800.0      83.35\n",
      "2   2019-07-17    84  84.63  83.33  83.63  1974000.0      83.63\n",
      "3   2019-07-16    83  84.91  83.66  84.91  1755600.0      84.91\n",
      "4   2019-07-15    84  84.38  83.20  83.58  1874700.0      83.58\n",
      "5   2019-07-14    83  84.64  83.11  84.40  1432100.0      84.40\n",
      "6   2019-07-11    83  83.98  82.85  83.35  2001400.0      83.35\n",
      "7   2019-07-10    85  85.57  83.36  83.42  2713300.0      83.42\n",
      "8   2019-07-09    84  85.79  84.76  85.50  1540700.0      85.50\n",
      "9   2019-07-08    86  86.57  84.69  84.69  2164000.0      84.69\n",
      "10  2019-07-07    86  87.13  85.82  86.07  1644600.0      86.07\n",
      "11  2019-07-04    87  87.54  87.05  87.05  1392600.0      87.05\n",
      "12  2019-07-03    86  87.42  85.88  87.14  1985800.0      87.14\n",
      "13  2019-07-02    85  85.91  85.37  85.84  1490000.0      85.84\n",
      "14  2019-07-01    85  85.43  84.73  85.36  1507400.0      85.36\n",
      "15  2019-06-30    84  85.76  84.70  85.03  2713200.0      85.03\n",
      "16  2019-06-27    84  85.31  84.32  84.64  2156600.0      84.64\n",
      "17  2019-06-26    86  86.50  84.73  85.00  2161200.0      85.00\n",
      "18  2019-06-25    86  86.74  85.96  86.02  2359500.0      86.02\n",
      "19  2019-06-24    87  87.21  86.17  86.52  2162700.0      86.52\n"
     ]
    }
   ],
   "source": [
    "msft = pd.read_csv(\"msft.csv\", dtype = {'High': str ,'Volume' : np.float64})\n",
    "print(msft.dtypes)\n",
    "print(\"################################################\")\n",
    "msft.Open= msft.Open.astype(np.int64,errors=\"ignore\") # errors =\"ignore\" or \"raise\"\n",
    "print(msft.Open.head(10))\n",
    "print(msft.Open.dtypes)\n",
    "print(\"################################################\")\n",
    "print(msft.dtypes)\n",
    "print(\"################################################\")\n",
    "print(msft.head(20))"
   ]
  },
  {
   "cell_type": "markdown",
   "metadata": {},
   "source": [
    "## Specifying column names"
   ]
  },
  {
   "cell_type": "code",
   "execution_count": 16,
   "metadata": {},
   "outputs": [
    {
     "name": "stdout",
     "output_type": "stream",
     "text": [
      "   2019-07-17  84.35  84.63  83.33  83.63  1974000  83.63.1\n",
      "0  2019-07-16  83.77  84.91  83.66  84.91  1755600    84.91\n",
      "1  2019-07-15  84.30  84.38  83.20  83.58  1874700    83.58\n",
      "2  2019-07-14  83.66  84.64  83.11  84.40  1432100    84.40\n",
      "3  2019-07-11  83.55  83.98  82.85  83.35  2001400    83.35\n",
      "4  2019-07-10  85.20  85.57  83.36  83.42  2713300    83.42\n",
      "5  2019-07-09  84.83  85.79  84.76  85.50  1540700    85.50\n",
      "6  2019-07-08  86.29  86.57  84.69  84.69  2164000    84.69\n",
      "7  2019-07-07  86.97  87.13  85.82  86.07  1644600    86.07\n",
      "8  2019-07-04  87.22  87.54  87.05  87.05  1392600    87.05\n",
      "9  2019-07-03  86.02  87.42  85.88  87.14  1985800    87.14\n"
     ]
    },
    {
     "data": {
      "text/plain": [
       "Index(['2019-07-17', '84.35', '84.63', '83.33', '83.63', '1974000', '83.63.1'], dtype='object')"
      ]
     },
     "execution_count": 16,
     "metadata": {},
     "output_type": "execute_result"
    }
   ],
   "source": [
    "# specify a new set of names for the columns\n",
    "# all lower case, remove space in Adj Close\n",
    "# also, header=1 skips the header row\n",
    "df = pd.read_csv(\"msft.csv\", header=3)\n",
    "print(df.head(10))\n",
    "df.columns\n",
    "#df.columns['2019-07-17']"
   ]
  },
  {
   "cell_type": "code",
   "execution_count": 44,
   "metadata": {},
   "outputs": [
    {
     "name": "stdout",
     "output_type": "stream",
     "text": [
      "                      A      B      C        D      E\n",
      "2019-07-16 83.77  84.91  83.66  84.91  1755600  84.91\n",
      "2019-07-15 84.30  84.38  83.20  83.58  1874700  83.58\n",
      "2019-07-14 83.66  84.64  83.11  84.40  1432100  84.40\n",
      "2019-07-11 83.55  83.98  82.85  83.35  2001400  83.35\n",
      "2019-07-10 85.20  85.57  83.36  83.42  2713300  83.42\n",
      "2019-07-09 84.83  85.79  84.76  85.50  1540700  85.50\n",
      "2019-07-08 86.29  86.57  84.69  84.69  2164000  84.69\n",
      "2019-07-07 86.97  87.13  85.82  86.07  1644600  86.07\n",
      "2019-07-04 87.22  87.54  87.05  87.05  1392600  87.05\n",
      "2019-07-03 86.02  87.42  85.88  87.14  1985800  87.14\n"
     ]
    },
    {
     "data": {
      "text/plain": [
       "2019-07-16  83.77    84.91\n",
       "Name: A, dtype: float64"
      ]
     },
     "execution_count": 44,
     "metadata": {},
     "output_type": "execute_result"
    }
   ],
   "source": [
    "df = pd.read_csv(\"msft.csv\",header=3,names=['A', 'B', 'C','D', 'E'])\n",
    "print(df.head(10))\n",
    "#print(df.columns)\n",
    "#print(df.index)\n",
    "#df.A\n",
    "#df.A[['2019-07-16','83.77']]\n",
    "df.A[['2019-07-16']]\n",
    "#df.A['2019-07-16']\n"
   ]
  },
  {
   "cell_type": "code",
   "execution_count": 86,
   "metadata": {},
   "outputs": [
    {
     "data": {
      "text/plain": [
       "RangeIndex(start=0, stop=3763, step=1)"
      ]
     },
     "execution_count": 86,
     "metadata": {},
     "output_type": "execute_result"
    }
   ],
   "source": [
    "# specify a new set of names for the columns\n",
    "# all lower case, remove space in Adj Close\n",
    "# also, header=0 skips the header row\n",
    "df = pd.read_csv(\"msft.csv\",header=4)\n",
    "df.head(100)\n",
    "df.index"
   ]
  },
  {
   "cell_type": "markdown",
   "metadata": {},
   "source": [
    "### Specifying specific columns to load"
   ]
  },
  {
   "cell_type": "code",
   "execution_count": 18,
   "metadata": {},
   "outputs": [
    {
     "data": {
      "text/plain": [
       "              Low  Close\n",
       "Date                    \n",
       "2019-07-21  81.81  81.93\n",
       "2019-07-18  82.52  83.35\n",
       "2019-07-17  83.33  83.63\n",
       "2019-07-16  83.66  84.91\n",
       "2019-07-15  83.20  83.58"
      ]
     },
     "execution_count": 18,
     "metadata": {},
     "output_type": "execute_result"
    }
   ],
   "source": [
    "# read in data only in the Date and Close columns\n",
    "# and index by the Date column\n",
    "df2 = pd.read_csv(\"msft.csv\", parse_dates=['Date'],usecols=['Date', 'Close','Low'] , index_col=['Date'])\n",
    "df2.head(5)\n",
    "\n",
    "#names=['A', 'B', 'C','D', 'E']"
   ]
  },
  {
   "cell_type": "code",
   "execution_count": 4,
   "metadata": {},
   "outputs": [
    {
     "data": {
      "text/plain": [
       "                B      C\n",
       "A                       \n",
       "2019-07-18  83.46  83.40\n",
       "2019-07-17  84.35  84.63\n",
       "2019-07-16  83.77  84.91\n",
       "2019-07-15  84.30  84.38\n",
       "2019-07-14  83.66  84.64"
      ]
     },
     "execution_count": 4,
     "metadata": {},
     "output_type": "execute_result"
    }
   ],
   "source": [
    "# read in data only in the Date and Close columns\n",
    "# and index by the Date column\n",
    "df2 = pd.read_csv(\"msft.csv\", parse_dates=['A'],usecols=['A', 'B','C'] ,header =1, names=['A', 'B', 'C','D', 'E', 'F','G'], index_col=['A'])\n",
    "df2.head(5)\n",
    "\n",
    "#names=['A', 'B', 'C','D', 'E']"
   ]
  },
  {
   "cell_type": "markdown",
   "metadata": {},
   "source": [
    "## Saving a DataFrame to a CSV"
   ]
  },
  {
   "cell_type": "code",
   "execution_count": 6,
   "metadata": {},
   "outputs": [],
   "source": [
    "# save df2 to a new csv file\n",
    "# also specify naming the index as date\n",
    "df2.to_excel(\"myfile1.xls\",  index_label='A')\n",
    "#df2.to_excel(\"myfile2.xls\", sheet_name='mysheet1', index_label='date')\n",
    "df2.to_excel(\"myfile3.xls\", sheet_name='mysheet2', index_label='A')\n",
    "\n",
    "df2.to_csv(\"msft_modified.csv\", index_label='A')"
   ]
  },
  {
   "cell_type": "markdown",
   "metadata": {},
   "source": [
    "#### same file with different sheets"
   ]
  },
  {
   "cell_type": "code",
   "execution_count": 7,
   "metadata": {},
   "outputs": [],
   "source": [
    "with pd.ExcelWriter('myfile.xls') as writer:  # doctest: +SKIP\n",
    "    df2.to_excel(writer, sheet_name='Sheet_name_1')\n",
    "    df2.to_excel(writer, sheet_name='Sheet_name_2')"
   ]
  },
  {
   "cell_type": "code",
   "execution_count": 7,
   "metadata": {},
   "outputs": [
    {
     "name": "stderr",
     "output_type": "stream",
     "text": [
      "'head' is not recognized as an internal or external command,\n",
      "operable program or batch file.\n"
     ]
    }
   ],
   "source": [
    "# view the start of the file just saved\n",
    "!head data/msft_modified.csv\n",
    "#type data/msft_modified.csv # windows"
   ]
  },
  {
   "cell_type": "markdown",
   "metadata": {},
   "source": [
    "# Working with missing data"
   ]
  },
  {
   "cell_type": "markdown",
   "metadata": {},
   "source": [
    "## Setup"
   ]
  },
  {
   "cell_type": "code",
   "execution_count": 10,
   "metadata": {},
   "outputs": [
    {
     "name": "stdout",
     "output_type": "stream",
     "text": [
      "[[ 0  1  2]\n",
      " [ 3  4  5]\n",
      " [ 6  7  8]\n",
      " [ 9 10 11]\n",
      " [12 13 14]]\n"
     ]
    },
    {
     "data": {
      "text/plain": [
       "   c1  c2  c3\n",
       "a   0   1   2\n",
       "b   3   4   5\n",
       "c   6   7   8\n",
       "d   9  10  11\n",
       "e  12  13  14"
      ]
     },
     "execution_count": 10,
     "metadata": {},
     "output_type": "execute_result"
    }
   ],
   "source": [
    "import pandas as pd\n",
    "import numpy as np\n",
    "print(np.arange(0, 15).reshape(5, 3))\n",
    "# create a DataFrame with 5 rows and 3 columns\n",
    "df = pd.DataFrame(np.arange(0, 15).reshape(5, 3), \n",
    "               index=['a', 'b', 'c', 'd', 'e'], \n",
    "               columns=['c1', 'c2', 'c3'])\n",
    "df"
   ]
  },
  {
   "cell_type": "code",
   "execution_count": 11,
   "metadata": {},
   "outputs": [
    {
     "data": {
      "text/plain": [
       "   c1  c2  c3  c4\n",
       "a   0   1   2 NaN\n",
       "b   3   4   5 NaN\n",
       "c   6   7   8 NaN\n",
       "d   9  10  11 NaN\n",
       "e  12  13  14 NaN"
      ]
     },
     "execution_count": 11,
     "metadata": {},
     "output_type": "execute_result"
    }
   ],
   "source": [
    "# add some columns and rows to the DataFrame\n",
    "# column c4 with NaN values\n",
    "df['c4'] = np.nan\n",
    "df"
   ]
  },
  {
   "cell_type": "code",
   "execution_count": 12,
   "metadata": {},
   "outputs": [
    {
     "name": "stdout",
     "output_type": "stream",
     "text": [
      "   c1  c2  c3    c4\n",
      "a   0   1   2   NaN\n",
      "b   3   4   5   NaN\n",
      "c   6   7   8   NaN\n",
      "d   9  10  11   NaN\n",
      "e  12  13  14   NaN\n",
      "f  15  16  17  18.0\n"
     ]
    }
   ],
   "source": [
    "# row 'f' with 15 through 18 \n",
    "df.loc['f'] = np.arange(15, 19) \n",
    "# row 'g' will all NaN\n",
    "print(df)"
   ]
  },
  {
   "cell_type": "code",
   "execution_count": 13,
   "metadata": {},
   "outputs": [
    {
     "data": {
      "text/plain": [
       "     c1    c2    c3    c4\n",
       "a   0.0   1.0   2.0   NaN\n",
       "b   3.0   4.0   5.0   NaN\n",
       "c   6.0   7.0   8.0   NaN\n",
       "d   9.0  10.0  11.0   NaN\n",
       "e  12.0  13.0  14.0   NaN\n",
       "f  15.0  16.0  17.0  18.0\n",
       "g   NaN   NaN   NaN   NaN"
      ]
     },
     "execution_count": 13,
     "metadata": {},
     "output_type": "execute_result"
    }
   ],
   "source": [
    "df.loc['g'] = np.nan\n",
    "# column 'C5' with NaN's\n",
    "df"
   ]
  },
  {
   "cell_type": "code",
   "execution_count": 14,
   "metadata": {},
   "outputs": [
    {
     "data": {
      "text/plain": [
       "     c1    c2    c3    c4  c5\n",
       "a   0.0   1.0   2.0   NaN NaN\n",
       "b   3.0   4.0   5.0   NaN NaN\n",
       "c   6.0   7.0   8.0   NaN NaN\n",
       "d   9.0  10.0  11.0   NaN NaN\n",
       "e  12.0  13.0  14.0   NaN NaN\n",
       "f  15.0  16.0  17.0  18.0 NaN\n",
       "g   NaN   NaN   NaN   NaN NaN"
      ]
     },
     "execution_count": 14,
     "metadata": {},
     "output_type": "execute_result"
    }
   ],
   "source": [
    "df['c5'] = np.nan\n",
    "# change value in col 'c4' row 'a'\n",
    "df"
   ]
  },
  {
   "cell_type": "code",
   "execution_count": 15,
   "metadata": {},
   "outputs": [
    {
     "data": {
      "text/plain": [
       "     c1    c2    c3    c4  c5\n",
       "a   0.0   1.0   2.0  20.0 NaN\n",
       "b   3.0   4.0   5.0   NaN NaN\n",
       "c   6.0   7.0   8.0   NaN NaN\n",
       "d   9.0  10.0  11.0   NaN NaN\n",
       "e  12.0  13.0  14.0   NaN NaN\n",
       "f  15.0  16.0  17.0  18.0 NaN\n",
       "g   NaN   NaN   NaN   NaN NaN"
      ]
     },
     "execution_count": 15,
     "metadata": {},
     "output_type": "execute_result"
    }
   ],
   "source": [
    "df['c4']['a'] = 20\n",
    "df"
   ]
  },
  {
   "cell_type": "code",
   "execution_count": 17,
   "metadata": {
    "scrolled": true
   },
   "outputs": [
    {
     "data": {
      "text/plain": [
       "     c1    c2    c3    c4  c5\n",
       "a   0.0   1.0   2.0  20.0 NaN\n",
       "b   3.0   4.0   5.0   NaN NaN\n",
       "c   6.0   7.0   8.0   NaN NaN\n",
       "d   9.0  10.0  11.0   NaN NaN\n",
       "e  12.0  13.0  14.0   NaN NaN\n",
       "f  15.0  16.0  17.0  18.0 NaN\n",
       "g   NaN   NaN   NaN   NaN NaN"
      ]
     },
     "execution_count": 17,
     "metadata": {},
     "output_type": "execute_result"
    }
   ],
   "source": [
    "df"
   ]
  },
  {
   "cell_type": "markdown",
   "metadata": {},
   "source": [
    "## Determining NaN values in Series and DataFrame objects"
   ]
  },
  {
   "cell_type": "code",
   "execution_count": 18,
   "metadata": {},
   "outputs": [
    {
     "name": "stdout",
     "output_type": "stream",
     "text": [
      "     c1    c2    c3    c4  c5\n",
      "a   0.0   1.0   2.0  20.0 NaN\n",
      "b   3.0   4.0   5.0   NaN NaN\n",
      "c   6.0   7.0   8.0   NaN NaN\n",
      "d   9.0  10.0  11.0   NaN NaN\n",
      "e  12.0  13.0  14.0   NaN NaN\n",
      "f  15.0  16.0  17.0  18.0 NaN\n",
      "g   NaN   NaN   NaN   NaN NaN\n"
     ]
    },
    {
     "data": {
      "text/plain": [
       "      c1     c2     c3     c4    c5\n",
       "a  False  False  False  False  True\n",
       "b  False  False  False   True  True\n",
       "c  False  False  False   True  True\n",
       "d  False  False  False   True  True\n",
       "e  False  False  False   True  True\n",
       "f  False  False  False  False  True\n",
       "g   True   True   True   True  True"
      ]
     },
     "execution_count": 18,
     "metadata": {},
     "output_type": "execute_result"
    }
   ],
   "source": [
    "# which items are NaN?\n",
    "print(df)\n",
    "df.isnull()"
   ]
  },
  {
   "cell_type": "code",
   "execution_count": 19,
   "metadata": {},
   "outputs": [
    {
     "data": {
      "text/plain": [
       "c1    1\n",
       "c2    1\n",
       "c3    1\n",
       "c4    5\n",
       "c5    7\n",
       "dtype: int64"
      ]
     },
     "execution_count": 19,
     "metadata": {},
     "output_type": "execute_result"
    }
   ],
   "source": [
    "# total count of NaN values\n",
    "nullsumforcolumns = df.isnull().sum()#.sum()\n",
    "nullsumforcolumns"
   ]
  },
  {
   "cell_type": "code",
   "execution_count": 20,
   "metadata": {},
   "outputs": [
    {
     "data": {
      "text/plain": [
       "15"
      ]
     },
     "execution_count": 20,
     "metadata": {},
     "output_type": "execute_result"
    }
   ],
   "source": [
    "nullsumforcolumns.sum()"
   ]
  },
  {
   "cell_type": "code",
   "execution_count": 21,
   "metadata": {},
   "outputs": [
    {
     "data": {
      "text/plain": [
       "c1    6\n",
       "c2    6\n",
       "c3    6\n",
       "c4    2\n",
       "c5    0\n",
       "dtype: int64"
      ]
     },
     "execution_count": 21,
     "metadata": {},
     "output_type": "execute_result"
    }
   ],
   "source": [
    "# number of non-NaN values in each column\n",
    "df.count()\n",
    "#df.notnull().sum()\n"
   ]
  },
  {
   "cell_type": "code",
   "execution_count": 22,
   "metadata": {},
   "outputs": [
    {
     "data": {
      "text/plain": [
       "      c1     c2     c3     c4     c5\n",
       "a   True   True   True   True  False\n",
       "b   True   True   True  False  False\n",
       "c   True   True   True  False  False\n",
       "d   True   True   True  False  False\n",
       "e   True   True   True  False  False\n",
       "f   True   True   True   True  False\n",
       "g  False  False  False  False  False"
      ]
     },
     "execution_count": 22,
     "metadata": {},
     "output_type": "execute_result"
    }
   ],
   "source": [
    "# which items are not null?\n",
    "df.notnull()"
   ]
  },
  {
   "cell_type": "code",
   "execution_count": 24,
   "metadata": {
    "scrolled": true
   },
   "outputs": [
    {
     "data": {
      "text/plain": [
       "c1    6\n",
       "c2    6\n",
       "c3    6\n",
       "c4    2\n",
       "c5    0\n",
       "dtype: int64"
      ]
     },
     "execution_count": 24,
     "metadata": {},
     "output_type": "execute_result"
    }
   ],
   "source": [
    "# which items are not null?\n",
    "df.notnull().sum()"
   ]
  },
  {
   "cell_type": "code",
   "execution_count": 27,
   "metadata": {},
   "outputs": [
    {
     "data": {
      "text/plain": [
       "20"
      ]
     },
     "execution_count": 27,
     "metadata": {},
     "output_type": "execute_result"
    }
   ],
   "source": [
    "# which items are not null?\n",
    "df.notnull().sum().sum()"
   ]
  },
  {
   "cell_type": "markdown",
   "metadata": {},
   "source": [
    "# Selecting out (dropping) missing data"
   ]
  },
  {
   "cell_type": "code",
   "execution_count": 26,
   "metadata": {},
   "outputs": [
    {
     "data": {
      "text/plain": [
       "     c1    c2    c3    c4  c5\n",
       "a   0.0   1.0   2.0  20.0 NaN\n",
       "b   3.0   4.0   5.0   NaN NaN\n",
       "c   6.0   7.0   8.0   NaN NaN\n",
       "d   9.0  10.0  11.0   NaN NaN\n",
       "e  12.0  13.0  14.0   NaN NaN\n",
       "f  15.0  16.0  17.0  18.0 NaN\n",
       "g   NaN   NaN   NaN   NaN NaN"
      ]
     },
     "execution_count": 26,
     "metadata": {},
     "output_type": "execute_result"
    }
   ],
   "source": [
    "df"
   ]
  },
  {
   "cell_type": "code",
   "execution_count": 30,
   "metadata": {},
   "outputs": [
    {
     "data": {
      "text/plain": [
       "      c1     c2     c3     c4     c5\n",
       "a   True   True   True   True  False\n",
       "b   True   True   True  False  False\n",
       "c   True   True   True  False  False\n",
       "d   True   True   True  False  False\n",
       "e   True   True   True  False  False\n",
       "f   True   True   True   True  False\n",
       "g  False  False  False  False  False"
      ]
     },
     "execution_count": 30,
     "metadata": {},
     "output_type": "execute_result"
    }
   ],
   "source": [
    "df.notnull()"
   ]
  },
  {
   "cell_type": "code",
   "execution_count": 31,
   "metadata": {},
   "outputs": [
    {
     "data": {
      "text/plain": [
       "     c1    c2    c3    c4  c5\n",
       "a   0.0   1.0   2.0  20.0 NaN\n",
       "b   3.0   4.0   5.0   NaN NaN\n",
       "c   6.0   7.0   8.0   NaN NaN\n",
       "d   9.0  10.0  11.0   NaN NaN\n",
       "e  12.0  13.0  14.0   NaN NaN\n",
       "f  15.0  16.0  17.0  18.0 NaN\n",
       "g   NaN   NaN   NaN   NaN NaN"
      ]
     },
     "execution_count": 31,
     "metadata": {},
     "output_type": "execute_result"
    }
   ],
   "source": [
    "df"
   ]
  },
  {
   "cell_type": "code",
   "execution_count": 36,
   "metadata": {},
   "outputs": [
    {
     "data": {
      "text/plain": [
       "     c1    c2    c3    c4  c5\n",
       "a   0.0   1.0   2.0  20.0 NaN\n",
       "b   3.0   4.0   5.0   NaN NaN\n",
       "c   6.0   7.0   8.0   NaN NaN\n",
       "d   9.0  10.0  11.0   NaN NaN\n",
       "e  12.0  13.0  14.0   NaN NaN\n",
       "f  15.0  16.0  17.0  18.0 NaN\n",
       "g   NaN   NaN   NaN   NaN NaN"
      ]
     },
     "execution_count": 36,
     "metadata": {},
     "output_type": "execute_result"
    }
   ],
   "source": [
    "df"
   ]
  },
  {
   "cell_type": "code",
   "execution_count": 38,
   "metadata": {},
   "outputs": [
    {
     "data": {
      "text/plain": [
       "a     True\n",
       "b     True\n",
       "c     True\n",
       "d     True\n",
       "e     True\n",
       "f     True\n",
       "g    False\n",
       "Name: c3, dtype: bool"
      ]
     },
     "execution_count": 38,
     "metadata": {},
     "output_type": "execute_result"
    }
   ],
   "source": [
    "df.c3.notnull()"
   ]
  },
  {
   "cell_type": "code",
   "execution_count": 40,
   "metadata": {},
   "outputs": [
    {
     "data": {
      "text/plain": [
       "a     2.0\n",
       "b     5.0\n",
       "c     8.0\n",
       "d    11.0\n",
       "e    14.0\n",
       "f    17.0\n",
       "Name: c3, dtype: float64"
      ]
     },
     "execution_count": 40,
     "metadata": {},
     "output_type": "execute_result"
    }
   ],
   "source": [
    "df.c3[df.c3.notnull()]"
   ]
  },
  {
   "cell_type": "code",
   "execution_count": 41,
   "metadata": {},
   "outputs": [
    {
     "data": {
      "text/plain": [
       "     c1    c2    c3    c4  c5\n",
       "a   0.0   1.0   2.0  20.0 NaN\n",
       "b   3.0   4.0   5.0   NaN NaN\n",
       "c   6.0   7.0   8.0   NaN NaN\n",
       "d   9.0  10.0  11.0   NaN NaN\n",
       "e  12.0  13.0  14.0   NaN NaN\n",
       "f  15.0  16.0  17.0  18.0 NaN"
      ]
     },
     "execution_count": 41,
     "metadata": {},
     "output_type": "execute_result"
    }
   ],
   "source": [
    "df[df.c3.notnull()]"
   ]
  },
  {
   "cell_type": "code",
   "execution_count": 85,
   "metadata": {},
   "outputs": [
    {
     "data": {
      "text/plain": [
       "a    False\n",
       "b    False\n",
       "c    False\n",
       "d    False\n",
       "e    False\n",
       "f    False\n",
       "g     True\n",
       "Name: c3, dtype: bool"
      ]
     },
     "execution_count": 85,
     "metadata": {},
     "output_type": "execute_result"
    }
   ],
   "source": [
    "df.c3.isnull()"
   ]
  },
  {
   "cell_type": "code",
   "execution_count": 86,
   "metadata": {},
   "outputs": [
    {
     "data": {
      "text/plain": [
       "g   NaN\n",
       "Name: c3, dtype: float64"
      ]
     },
     "execution_count": 86,
     "metadata": {},
     "output_type": "execute_result"
    }
   ],
   "source": [
    "df.c3[df.c3.isnull()]"
   ]
  },
  {
   "cell_type": "code",
   "execution_count": 87,
   "metadata": {},
   "outputs": [
    {
     "data": {
      "text/plain": [
       "   c1  c2  c3  c4  c5\n",
       "g NaN NaN NaN NaN NaN"
      ]
     },
     "execution_count": 87,
     "metadata": {},
     "output_type": "execute_result"
    }
   ],
   "source": [
    "df[df.c3.isnull()]"
   ]
  },
  {
   "cell_type": "markdown",
   "metadata": {},
   "source": [
    "##### expression on dataframe applied to the dataframe itself"
   ]
  },
  {
   "cell_type": "code",
   "execution_count": 91,
   "metadata": {},
   "outputs": [
    {
     "data": {
      "text/plain": [
       "      c1     c2     c3     c4     c5\n",
       "a   True   True   True   True  False\n",
       "b   True   True   True  False  False\n",
       "c   True   True   True  False  False\n",
       "d   True   True   True  False  False\n",
       "e   True   True   True  False  False\n",
       "f   True   True   True   True  False\n",
       "g  False  False  False  False  False"
      ]
     },
     "execution_count": 91,
     "metadata": {},
     "output_type": "execute_result"
    }
   ],
   "source": [
    "df.notnull()"
   ]
  },
  {
   "cell_type": "code",
   "execution_count": 90,
   "metadata": {
    "scrolled": true
   },
   "outputs": [
    {
     "data": {
      "text/plain": [
       "     c1    c2    c3    c4  c5\n",
       "a   0.0   1.0   2.0  20.0 NaN\n",
       "b   3.0   4.0   5.0   NaN NaN\n",
       "c   6.0   7.0   8.0   NaN NaN\n",
       "d   9.0  10.0  11.0   NaN NaN\n",
       "e  12.0  13.0  14.0   NaN NaN\n",
       "f  15.0  16.0  17.0  18.0 NaN\n",
       "g   NaN   NaN   NaN   NaN NaN"
      ]
     },
     "execution_count": 90,
     "metadata": {},
     "output_type": "execute_result"
    }
   ],
   "source": [
    "df[df.notnull()]"
   ]
  },
  {
   "cell_type": "code",
   "execution_count": 94,
   "metadata": {},
   "outputs": [
    {
     "data": {
      "text/plain": [
       "     c1    c2    c3    c4  c5\n",
       "a   0.0   1.0   2.0  20.0 NaN\n",
       "b   3.0   4.0   5.0   NaN NaN\n",
       "c   6.0   7.0   8.0   NaN NaN\n",
       "d   9.0  10.0  11.0   NaN NaN\n",
       "e  12.0  13.0  14.0   NaN NaN\n",
       "f  15.0  16.0  17.0  18.0 NaN\n",
       "g   NaN   NaN   NaN   NaN NaN"
      ]
     },
     "execution_count": 94,
     "metadata": {},
     "output_type": "execute_result"
    }
   ],
   "source": [
    "df"
   ]
  },
  {
   "cell_type": "code",
   "execution_count": 95,
   "metadata": {
    "scrolled": true
   },
   "outputs": [
    {
     "data": {
      "text/plain": [
       "      c1     c2     c3     c4    c5\n",
       "a  False  False  False  False  True\n",
       "b  False  False  False   True  True\n",
       "c  False  False  False   True  True\n",
       "d  False  False  False   True  True\n",
       "e  False  False  False   True  True\n",
       "f  False  False  False  False  True\n",
       "g   True   True   True   True  True"
      ]
     },
     "execution_count": 95,
     "metadata": {},
     "output_type": "execute_result"
    }
   ],
   "source": [
    "df.isnull()"
   ]
  },
  {
   "cell_type": "code",
   "execution_count": 96,
   "metadata": {
    "scrolled": true
   },
   "outputs": [
    {
     "data": {
      "text/plain": [
       "   c1  c2  c3  c4  c5\n",
       "a NaN NaN NaN NaN NaN\n",
       "b NaN NaN NaN NaN NaN\n",
       "c NaN NaN NaN NaN NaN\n",
       "d NaN NaN NaN NaN NaN\n",
       "e NaN NaN NaN NaN NaN\n",
       "f NaN NaN NaN NaN NaN\n",
       "g NaN NaN NaN NaN NaN"
      ]
     },
     "execution_count": 96,
     "metadata": {},
     "output_type": "execute_result"
    }
   ],
   "source": [
    "df[df.isnull()]"
   ]
  },
  {
   "cell_type": "code",
   "execution_count": 97,
   "metadata": {},
   "outputs": [
    {
     "data": {
      "text/plain": [
       "a    20.0\n",
       "b     NaN\n",
       "c     NaN\n",
       "d     NaN\n",
       "e     NaN\n",
       "f    18.0\n",
       "g     NaN\n",
       "Name: c4, dtype: float64"
      ]
     },
     "execution_count": 97,
     "metadata": {},
     "output_type": "execute_result"
    }
   ],
   "source": [
    "df.c4"
   ]
  },
  {
   "cell_type": "code",
   "execution_count": 98,
   "metadata": {},
   "outputs": [
    {
     "data": {
      "text/plain": [
       "a     True\n",
       "b    False\n",
       "c    False\n",
       "d    False\n",
       "e    False\n",
       "f     True\n",
       "g    False\n",
       "Name: c4, dtype: bool"
      ]
     },
     "execution_count": 98,
     "metadata": {},
     "output_type": "execute_result"
    }
   ],
   "source": [
    "df.c4.notnull()"
   ]
  },
  {
   "cell_type": "code",
   "execution_count": 99,
   "metadata": {},
   "outputs": [
    {
     "data": {
      "text/plain": [
       "a    20.0\n",
       "f    18.0\n",
       "Name: c4, dtype: float64"
      ]
     },
     "execution_count": 99,
     "metadata": {},
     "output_type": "execute_result"
    }
   ],
   "source": [
    "# select the non-NaN items in column c4\n",
    "df.c4[df.c4.notnull()]"
   ]
  },
  {
   "cell_type": "code",
   "execution_count": 100,
   "metadata": {},
   "outputs": [
    {
     "data": {
      "text/plain": [
       "     c1    c2    c3    c4  c5\n",
       "a   0.0   1.0   2.0  20.0 NaN\n",
       "f  15.0  16.0  17.0  18.0 NaN"
      ]
     },
     "execution_count": 100,
     "metadata": {},
     "output_type": "execute_result"
    }
   ],
   "source": [
    "df[df.c4.notnull()]"
   ]
  },
  {
   "cell_type": "code",
   "execution_count": 32,
   "metadata": {},
   "outputs": [
    {
     "data": {
      "text/plain": [
       "a    20.0\n",
       "b     NaN\n",
       "c     NaN\n",
       "d     NaN\n",
       "e     NaN\n",
       "f    18.0\n",
       "g     NaN\n",
       "Name: c4, dtype: float64"
      ]
     },
     "execution_count": 32,
     "metadata": {},
     "output_type": "execute_result"
    }
   ],
   "source": [
    "df.c4"
   ]
  },
  {
   "cell_type": "code",
   "execution_count": 33,
   "metadata": {},
   "outputs": [
    {
     "data": {
      "text/plain": [
       "a    20.0\n",
       "f    18.0\n",
       "Name: c4, dtype: float64"
      ]
     },
     "execution_count": 33,
     "metadata": {},
     "output_type": "execute_result"
    }
   ],
   "source": [
    "# .dropna will also return non NaN values\n",
    "# this gets all non NaN items in column c4\n",
    "df.c4.dropna()"
   ]
  },
  {
   "cell_type": "code",
   "execution_count": 103,
   "metadata": {},
   "outputs": [
    {
     "data": {
      "text/plain": [
       "     c1    c2    c3    c4   c5\n",
       "a   0.0   1.0   2.0  20.0  1.0\n",
       "b   3.0   4.0   5.0   NaN  NaN\n",
       "c   6.0   7.0   8.0   NaN  NaN\n",
       "d   9.0  10.0  11.0   NaN  NaN\n",
       "e  12.0  13.0  14.0   NaN  NaN\n",
       "f  15.0  16.0  17.0  18.0  NaN\n",
       "g   NaN   NaN   NaN   NaN  NaN"
      ]
     },
     "execution_count": 103,
     "metadata": {},
     "output_type": "execute_result"
    }
   ],
   "source": [
    "df"
   ]
  },
  {
   "cell_type": "code",
   "execution_count": 102,
   "metadata": {},
   "outputs": [
    {
     "data": {
      "text/plain": [
       "    c1   c2   c3    c4   c5\n",
       "a  0.0  1.0  2.0  20.0  1.0"
      ]
     },
     "execution_count": 102,
     "metadata": {},
     "output_type": "execute_result"
    }
   ],
   "source": [
    "df['c5']['a'] = 1\n",
    "df.dropna()"
   ]
  },
  {
   "cell_type": "code",
   "execution_count": 104,
   "metadata": {},
   "outputs": [],
   "source": [
    "df['c1']['g'] = 1"
   ]
  },
  {
   "cell_type": "code",
   "execution_count": 105,
   "metadata": {},
   "outputs": [
    {
     "data": {
      "text/plain": [
       "     c1    c2    c3    c4   c5\n",
       "a   0.0   1.0   2.0  20.0  1.0\n",
       "b   3.0   4.0   5.0   NaN  NaN\n",
       "c   6.0   7.0   8.0   NaN  NaN\n",
       "d   9.0  10.0  11.0   NaN  NaN\n",
       "e  12.0  13.0  14.0   NaN  NaN\n",
       "f  15.0  16.0  17.0  18.0  NaN\n",
       "g   1.0   NaN   NaN   NaN  NaN"
      ]
     },
     "execution_count": 105,
     "metadata": {},
     "output_type": "execute_result"
    }
   ],
   "source": [
    "df"
   ]
  },
  {
   "cell_type": "code",
   "execution_count": 106,
   "metadata": {},
   "outputs": [],
   "source": [
    "df['c4']['a'] = 2"
   ]
  },
  {
   "cell_type": "code",
   "execution_count": 107,
   "metadata": {
    "scrolled": true
   },
   "outputs": [
    {
     "data": {
      "text/plain": [
       "    c1   c2   c3   c4   c5\n",
       "a  0.0  1.0  2.0  2.0  1.0"
      ]
     },
     "execution_count": 107,
     "metadata": {},
     "output_type": "execute_result"
    }
   ],
   "source": [
    "df.dropna()\n",
    "### all the columns should be not null for a row \n",
    "## if one colum value is null or Nan for a row, dropna method will drop that row"
   ]
  },
  {
   "cell_type": "code",
   "execution_count": 108,
   "metadata": {},
   "outputs": [
    {
     "data": {
      "text/plain": [
       "a     2.0\n",
       "b     NaN\n",
       "c     NaN\n",
       "d     NaN\n",
       "e     NaN\n",
       "f    18.0\n",
       "g     NaN\n",
       "Name: c4, dtype: float64"
      ]
     },
     "execution_count": 108,
     "metadata": {},
     "output_type": "execute_result"
    }
   ],
   "source": [
    "# dropna returns a copy with the values dropped\n",
    "# the source DataFrame / column is not changed\n",
    "df.c4"
   ]
  },
  {
   "cell_type": "code",
   "execution_count": 110,
   "metadata": {},
   "outputs": [
    {
     "name": "stdout",
     "output_type": "stream",
     "text": [
      "    c1   c2   c3   c4   c5\n",
      "a  0.0  1.0  2.0  2.0  1.0\n",
      "     c1    c2    c3    c4   c5\n",
      "a   0.0   1.0   2.0   2.0  1.0\n",
      "b   3.0   4.0   5.0   NaN  NaN\n",
      "c   6.0   7.0   8.0   NaN  NaN\n",
      "d   9.0  10.0  11.0   NaN  NaN\n",
      "e  12.0  13.0  14.0   NaN  NaN\n",
      "f  15.0  16.0  17.0  18.0  NaN\n",
      "g   1.0   NaN   NaN   NaN  NaN\n"
     ]
    }
   ],
   "source": [
    "# using how='all', only rows that have all values\n",
    "# as NaN will be dropped\n",
    "a = df.dropna(how = 'any')#default\n",
    "print(a)\n",
    "a = df.dropna(how = 'all')\n",
    "print(a) \n"
   ]
  },
  {
   "cell_type": "code",
   "execution_count": 111,
   "metadata": {},
   "outputs": [],
   "source": [
    "df['c1']['g'] = np.nan"
   ]
  },
  {
   "cell_type": "code",
   "execution_count": 112,
   "metadata": {},
   "outputs": [
    {
     "data": {
      "text/plain": [
       "     c1    c2    c3    c4   c5\n",
       "a   0.0   1.0   2.0   2.0  1.0\n",
       "b   3.0   4.0   5.0   NaN  NaN\n",
       "c   6.0   7.0   8.0   NaN  NaN\n",
       "d   9.0  10.0  11.0   NaN  NaN\n",
       "e  12.0  13.0  14.0   NaN  NaN\n",
       "f  15.0  16.0  17.0  18.0  NaN\n",
       "g   NaN   NaN   NaN   NaN  NaN"
      ]
     },
     "execution_count": 112,
     "metadata": {},
     "output_type": "execute_result"
    }
   ],
   "source": [
    "df"
   ]
  },
  {
   "cell_type": "code",
   "execution_count": 44,
   "metadata": {},
   "outputs": [
    {
     "data": {
      "text/plain": [
       "     c1    c2    c3    c4  c5\n",
       "a   0.0   1.0   2.0  20.0 NaN\n",
       "b   3.0   4.0   5.0   NaN NaN\n",
       "c   6.0   7.0   8.0   NaN NaN\n",
       "d   9.0  10.0  11.0   NaN NaN\n",
       "e  12.0  13.0  14.0   NaN NaN\n",
       "f  15.0  16.0  17.0  18.0 NaN"
      ]
     },
     "execution_count": 44,
     "metadata": {},
     "output_type": "execute_result"
    }
   ],
   "source": [
    "# using how='all', only rows that have all values\n",
    "# as NaN will be dropped\n",
    "a = df.dropna(how = 'all')\n",
    "a "
   ]
  },
  {
   "cell_type": "code",
   "execution_count": 42,
   "metadata": {},
   "outputs": [],
   "source": [
    "df['c5'][0] = np.nan"
   ]
  },
  {
   "cell_type": "code",
   "execution_count": 43,
   "metadata": {},
   "outputs": [
    {
     "data": {
      "text/plain": [
       "     c1    c2    c3    c4  c5\n",
       "a   0.0   1.0   2.0  20.0 NaN\n",
       "b   3.0   4.0   5.0   NaN NaN\n",
       "c   6.0   7.0   8.0   NaN NaN\n",
       "d   9.0  10.0  11.0   NaN NaN\n",
       "e  12.0  13.0  14.0   NaN NaN\n",
       "f  15.0  16.0  17.0  18.0 NaN\n",
       "g   NaN   NaN   NaN   NaN NaN"
      ]
     },
     "execution_count": 43,
     "metadata": {},
     "output_type": "execute_result"
    }
   ],
   "source": [
    "df"
   ]
  },
  {
   "cell_type": "code",
   "execution_count": 46,
   "metadata": {},
   "outputs": [
    {
     "data": {
      "text/plain": [
       "     c1    c2    c3    c4\n",
       "a   0.0   1.0   2.0  20.0\n",
       "b   3.0   4.0   5.0   NaN\n",
       "c   6.0   7.0   8.0   NaN\n",
       "d   9.0  10.0  11.0   NaN\n",
       "e  12.0  13.0  14.0   NaN\n",
       "f  15.0  16.0  17.0  18.0\n",
       "g   NaN   NaN   NaN   NaN"
      ]
     },
     "execution_count": 46,
     "metadata": {},
     "output_type": "execute_result"
    }
   ],
   "source": [
    "# flip to drop columns instead of rows\n",
    "df.dropna(how='all', axis=1) # say goodbye to c5, axis = 1 column or \"columns\",\n",
    "#axis = 0 for rows or \"rows\" \n",
    "#df.dropna(how='all', axis=\"rows\") "
   ]
  },
  {
   "cell_type": "code",
   "execution_count": 47,
   "metadata": {},
   "outputs": [
    {
     "data": {
      "text/plain": [
       "     c1    c2    c3    c4  c5\n",
       "a   0.0   1.0   2.0  20.0 NaN\n",
       "b   3.0   4.0   5.0   NaN NaN\n",
       "c   6.0   7.0   8.0   NaN NaN\n",
       "d   9.0  10.0  11.0   NaN NaN\n",
       "e  12.0  13.0  14.0   NaN NaN\n",
       "f  15.0  16.0  17.0  18.0 NaN\n",
       "g   NaN   NaN   NaN   NaN NaN"
      ]
     },
     "execution_count": 47,
     "metadata": {},
     "output_type": "execute_result"
    }
   ],
   "source": [
    "df"
   ]
  },
  {
   "cell_type": "code",
   "execution_count": 48,
   "metadata": {},
   "outputs": [
    {
     "data": {
      "text/plain": [
       "     c1    c2    c3    c4  c5\n",
       "a   0.0   1.0   2.0  20.0 NaN\n",
       "b   3.0   4.0   5.0   NaN NaN\n",
       "c   6.0   7.0   8.0   NaN NaN\n",
       "d   9.0  10.0  11.0   NaN NaN\n",
       "e  12.0  13.0  14.0   NaN NaN\n",
       "f  15.0  16.0  17.0  18.0 NaN"
      ]
     },
     "execution_count": 48,
     "metadata": {},
     "output_type": "execute_result"
    }
   ],
   "source": [
    "# flip to drop columns instead of rows\n",
    "df.dropna(how='all', axis=0) # say goodbye to g\n",
    "#df"
   ]
  },
  {
   "cell_type": "code",
   "execution_count": 50,
   "metadata": {},
   "outputs": [
    {
     "data": {
      "text/plain": [
       "     c1    c2    c3    c4  c5\n",
       "a   0.0   1.0   2.0  20.0 NaN\n",
       "b   3.0   4.0   5.0   NaN NaN\n",
       "c   6.0   7.0   8.0   NaN NaN\n",
       "d   9.0  10.0  11.0   NaN NaN\n",
       "e  12.0  13.0  14.0   NaN NaN\n",
       "f  15.0  16.0  17.0  18.0 NaN\n",
       "g   0.0   NaN   0.0   NaN NaN"
      ]
     },
     "execution_count": 50,
     "metadata": {},
     "output_type": "execute_result"
    }
   ],
   "source": [
    "# make a copy of df\n",
    "df2 = df.copy()\n",
    "\n",
    "# replace two NaN cells with values\n",
    "df2.loc['g'].c1 = 0\n",
    "df2.loc['g'].c3 = 0\n",
    "\n",
    "#.ix is deprecated. Please use\n",
    "#.loc for label based indexing or loc -> label a, b, c, \n",
    "#.iloc for positional indexing iloc -> index of labe a -> 0, b -> 1 -- 0,1,2,3...\n",
    "df2"
   ]
  },
  {
   "cell_type": "code",
   "execution_count": 51,
   "metadata": {},
   "outputs": [
    {
     "data": {
      "text/plain": [
       "Empty DataFrame\n",
       "Columns: [c1, c2, c3, c4, c5]\n",
       "Index: []"
      ]
     },
     "execution_count": 51,
     "metadata": {},
     "output_type": "execute_result"
    }
   ],
   "source": [
    "# now drop columns with any NaN values\n",
    "df2.dropna(how='any', axis=0) "
   ]
  },
  {
   "cell_type": "code",
   "execution_count": 131,
   "metadata": {},
   "outputs": [
    {
     "data": {
      "text/plain": [
       "     c1    c2    c3    c4  c5\n",
       "a   0.0   1.0   2.0   2.0 NaN\n",
       "b   3.0   4.0   5.0   NaN NaN\n",
       "c   6.0   7.0   8.0   NaN NaN\n",
       "d   9.0  10.0  11.0   NaN NaN\n",
       "e  12.0  13.0  14.0   NaN NaN\n",
       "f  15.0  16.0  17.0  18.0 NaN\n",
       "g   NaN   NaN   NaN   NaN NaN"
      ]
     },
     "execution_count": 131,
     "metadata": {},
     "output_type": "execute_result"
    }
   ],
   "source": [
    "df"
   ]
  },
  {
   "cell_type": "code",
   "execution_count": 52,
   "metadata": {},
   "outputs": [
    {
     "data": {
      "text/plain": [
       "     c1    c2    c3    c4  c5\n",
       "a   0.0   1.0   2.0  20.0 NaN\n",
       "f  15.0  16.0  17.0  18.0 NaN"
      ]
     },
     "execution_count": 52,
     "metadata": {},
     "output_type": "execute_result"
    }
   ],
   "source": [
    "#threshold is minimum not nan values\n",
    "df.dropna(thresh=4, axis='rows')#'rows' or 'columns' can be given for axis\n",
    "#df\n",
    "#(df.dropna(thresh=4, axis='rows')).iloc[[0]].c4\n",
    "#(df.dropna(thresh=4, axis='rows')).c4[1]"
   ]
  },
  {
   "cell_type": "code",
   "execution_count": 53,
   "metadata": {},
   "outputs": [
    {
     "data": {
      "text/plain": [
       "     c1    c2    c3    c4  c5\n",
       "a   0.0   1.0   2.0  20.0 NaN\n",
       "f  15.0  16.0  17.0  18.0 NaN"
      ]
     },
     "execution_count": 53,
     "metadata": {},
     "output_type": "execute_result"
    }
   ],
   "source": [
    "df.dropna(thresh=4, axis=0)"
   ]
  },
  {
   "cell_type": "code",
   "execution_count": 54,
   "metadata": {},
   "outputs": [
    {
     "data": {
      "text/plain": [
       "     c1    c2    c3    c4\n",
       "a   0.0   1.0   2.0  20.0\n",
       "b   3.0   4.0   5.0   NaN\n",
       "c   6.0   7.0   8.0   NaN\n",
       "d   9.0  10.0  11.0   NaN\n",
       "e  12.0  13.0  14.0   NaN\n",
       "f  15.0  16.0  17.0  18.0\n",
       "g   NaN   NaN   NaN   NaN"
      ]
     },
     "execution_count": 54,
     "metadata": {},
     "output_type": "execute_result"
    }
   ],
   "source": [
    "df.dropna(thresh=2, axis=1)"
   ]
  },
  {
   "cell_type": "code",
   "execution_count": 55,
   "metadata": {},
   "outputs": [
    {
     "data": {
      "text/plain": [
       "     c1    c2    c3\n",
       "a   0.0   1.0   2.0\n",
       "b   3.0   4.0   5.0\n",
       "c   6.0   7.0   8.0\n",
       "d   9.0  10.0  11.0\n",
       "e  12.0  13.0  14.0\n",
       "f  15.0  16.0  17.0\n",
       "g   NaN   NaN   NaN"
      ]
     },
     "execution_count": 55,
     "metadata": {},
     "output_type": "execute_result"
    }
   ],
   "source": [
    "# only drop columns with at least 5 NaN values\n",
    "#threshold is minimum not nan values\n",
    "\n",
    "df.dropna(thresh=6, axis=1)"
   ]
  },
  {
   "cell_type": "code",
   "execution_count": 56,
   "metadata": {},
   "outputs": [
    {
     "data": {
      "text/plain": [
       "     c1    c2    c3    c4  c5\n",
       "a   0.0   1.0   2.0  20.0 NaN\n",
       "b   3.0   4.0   5.0   NaN NaN\n",
       "c   6.0   7.0   8.0   NaN NaN\n",
       "d   9.0  10.0  11.0   NaN NaN\n",
       "e  12.0  13.0  14.0   NaN NaN\n",
       "f  15.0  16.0  17.0  18.0 NaN\n",
       "g   NaN   NaN   NaN   NaN NaN"
      ]
     },
     "execution_count": 56,
     "metadata": {},
     "output_type": "execute_result"
    }
   ],
   "source": [
    "df"
   ]
  },
  {
   "cell_type": "code",
   "execution_count": 57,
   "metadata": {},
   "outputs": [
    {
     "data": {
      "text/plain": [
       "c1     7.5\n",
       "c2     8.5\n",
       "c3     9.5\n",
       "c4    19.0\n",
       "c5     NaN\n",
       "dtype: float64"
      ]
     },
     "execution_count": 57,
     "metadata": {},
     "output_type": "execute_result"
    }
   ],
   "source": [
    "# NaN's don't count as an item in calculating\n",
    "# the means\n",
    "df.mean(axis = 0)# 0 for rows, 1 for column\n",
    "#df.mean(axis = \"rows\")# 0 for rows, 1 for column"
   ]
  },
  {
   "cell_type": "code",
   "execution_count": 59,
   "metadata": {},
   "outputs": [
    {
     "data": {
      "text/plain": [
       "c1     7.5\n",
       "c2     8.5\n",
       "c3     9.5\n",
       "c4    19.0\n",
       "c5     NaN\n",
       "dtype: float64"
      ]
     },
     "execution_count": 59,
     "metadata": {},
     "output_type": "execute_result"
    }
   ],
   "source": [
    "df.mean()"
   ]
  },
  {
   "cell_type": "code",
   "execution_count": 60,
   "metadata": {},
   "outputs": [
    {
     "data": {
      "text/plain": [
       "11.125"
      ]
     },
     "execution_count": 60,
     "metadata": {},
     "output_type": "execute_result"
    }
   ],
   "source": [
    "df.mean().mean()"
   ]
  },
  {
   "cell_type": "code",
   "execution_count": 61,
   "metadata": {
    "scrolled": true
   },
   "outputs": [
    {
     "name": "stderr",
     "output_type": "stream",
     "text": [
      "c:\\python39\\lib\\site-packages\\numpy\\lib\\nanfunctions.py:1113: RuntimeWarning: All-NaN slice encountered\n",
      "  r, k = function_base._ureduce(a, func=_nanmedian, axis=axis, out=out,\n"
     ]
    },
    {
     "data": {
      "text/plain": [
       "c1     7.5\n",
       "c2     8.5\n",
       "c3     9.5\n",
       "c4    19.0\n",
       "c5     NaN\n",
       "dtype: float64"
      ]
     },
     "execution_count": 61,
     "metadata": {},
     "output_type": "execute_result"
    }
   ],
   "source": [
    "df.median()"
   ]
  },
  {
   "cell_type": "code",
   "execution_count": 62,
   "metadata": {},
   "outputs": [
    {
     "data": {
      "text/plain": [
       "c1     7.5\n",
       "c2     8.5\n",
       "c3     9.5\n",
       "c4    19.0\n",
       "c5     NaN\n",
       "dtype: float64"
      ]
     },
     "execution_count": 62,
     "metadata": {},
     "output_type": "execute_result"
    }
   ],
   "source": [
    "df.median()"
   ]
  },
  {
   "cell_type": "code",
   "execution_count": 63,
   "metadata": {},
   "outputs": [
    {
     "data": {
      "text/plain": [
       "9.0"
      ]
     },
     "execution_count": 63,
     "metadata": {},
     "output_type": "execute_result"
    }
   ],
   "source": [
    "df.median().median()"
   ]
  },
  {
   "cell_type": "markdown",
   "metadata": {},
   "source": [
    "#### Filling Nan"
   ]
  },
  {
   "cell_type": "code",
   "execution_count": 64,
   "metadata": {},
   "outputs": [
    {
     "data": {
      "text/plain": [
       "     c1    c2    c3    c4   c5\n",
       "a   0.0   1.0   2.0  20.0  0.0\n",
       "b   3.0   4.0   5.0   0.0  0.0\n",
       "c   6.0   7.0   8.0   0.0  0.0\n",
       "d   9.0  10.0  11.0   0.0  0.0\n",
       "e  12.0  13.0  14.0   0.0  0.0\n",
       "f  15.0  16.0  17.0  18.0  0.0\n",
       "g   0.0   0.0   0.0   0.0  0.0"
      ]
     },
     "execution_count": 64,
     "metadata": {},
     "output_type": "execute_result"
    }
   ],
   "source": [
    "# return a new DataFrame with NaN's filled with 0\n",
    "filled = df.fillna(0.0)\n",
    "filled\n"
   ]
  },
  {
   "cell_type": "code",
   "execution_count": 65,
   "metadata": {},
   "outputs": [
    {
     "data": {
      "text/plain": [
       "c1    6.428571\n",
       "c2    7.285714\n",
       "c3    8.142857\n",
       "c4    5.428571\n",
       "c5    0.000000\n",
       "dtype: float64"
      ]
     },
     "execution_count": 65,
     "metadata": {},
     "output_type": "execute_result"
    }
   ],
   "source": [
    "# having replaced NaN with 0 can make\n",
    "# operations such as mean have different results\n",
    "filled.mean(axis=\"rows\")#consider all the rows for each column"
   ]
  },
  {
   "cell_type": "code",
   "execution_count": 66,
   "metadata": {},
   "outputs": [
    {
     "data": {
      "text/plain": [
       "     c1    c2    c3    c4  c5\n",
       "a   0.0   1.0   2.0  20.0 NaN\n",
       "b   3.0   4.0   5.0   NaN NaN\n",
       "c   6.0   7.0   8.0   NaN NaN\n",
       "d   9.0  10.0  11.0   NaN NaN\n",
       "e  12.0  13.0  14.0   NaN NaN\n",
       "f  15.0  16.0  17.0  18.0 NaN\n",
       "g   NaN   NaN   NaN   NaN NaN"
      ]
     },
     "execution_count": 66,
     "metadata": {},
     "output_type": "execute_result"
    }
   ],
   "source": [
    "df"
   ]
  },
  {
   "cell_type": "code",
   "execution_count": 72,
   "metadata": {},
   "outputs": [
    {
     "name": "stdout",
     "output_type": "stream",
     "text": [
      "####################################\n",
      "     c1    c2    c3    c4   c5\n",
      "a   0.0   1.0   2.0  20.0  1.0\n",
      "b   3.0   4.0   5.0   1.0  1.0\n",
      "c   6.0   7.0   8.0   1.0  1.0\n",
      "d   9.0  10.0  11.0   1.0  NaN\n",
      "e  12.0  13.0  14.0   NaN  NaN\n",
      "f  15.0  16.0  17.0  18.0  NaN\n",
      "g   1.0   1.0   1.0   NaN  NaN\n"
     ]
    }
   ],
   "source": [
    "#axis not supported -- works only based on column\n",
    "# only fills the first two NaN's in each row with 0\n",
    "#print(df)\n",
    "print(\"####################################\")\n",
    "fill_2 = df.fillna(1.0, limit=3, axis = 'rows')#0)rows or index \n",
    "print(fill_2)"
   ]
  },
  {
   "cell_type": "code",
   "execution_count": 68,
   "metadata": {},
   "outputs": [
    {
     "data": {
      "text/plain": [
       "     c1    c2    c3    c4  c5\n",
       "a   0.0   1.0   2.0  20.0 NaN\n",
       "b   3.0   4.0   5.0   NaN NaN\n",
       "c   6.0   7.0   8.0   NaN NaN\n",
       "d   9.0  10.0  11.0   NaN NaN\n",
       "e  12.0  13.0  14.0   NaN NaN\n",
       "f  15.0  16.0  17.0  18.0 NaN\n",
       "g   NaN   NaN   NaN   NaN NaN"
      ]
     },
     "execution_count": 68,
     "metadata": {},
     "output_type": "execute_result"
    }
   ],
   "source": [
    "df"
   ]
  },
  {
   "cell_type": "code",
   "execution_count": 73,
   "metadata": {},
   "outputs": [
    {
     "name": "stdout",
     "output_type": "stream",
     "text": [
      "    c1    c2    c3    c4  c5\n",
      "a  0.0   1.0   2.0   0.0 NaN\n",
      "b  0.0   4.0   5.0   NaN NaN\n",
      "c  0.0   7.0   8.0   0.0 NaN\n",
      "d  0.0  10.0  11.0   NaN NaN\n",
      "e  0.0  13.0  14.0   0.0 NaN\n",
      "f  0.0  16.0  17.0  18.0 NaN\n",
      "g  0.0   NaN   NaN   NaN NaN\n"
     ]
    }
   ],
   "source": [
    "#DataFrame.replace(self, to_replace=None, value=None, inplace=False, limit=None, regex=False, method='pad')\n",
    "#df_regex = df.replace(\"[0-9\\.]+\",1111.0,limit=3, regex = True)\n",
    "df3 = df.copy()\n",
    "df3['c1'] = 0.0\n",
    "df3['c4']['e'] = 0.0\n",
    "df3['c4']['c'] = 0.0\n",
    "df3['c4']['a'] = 0.0\n",
    "print(df3)"
   ]
  },
  {
   "cell_type": "code",
   "execution_count": 192,
   "metadata": {},
   "outputs": [
    {
     "name": "stdout",
     "output_type": "stream",
     "text": [
      "     c1    c2    c3    c4  c5\n",
      "a  11.0   1.0   2.0  11.0 NaN\n",
      "b  11.0   4.0   5.0   NaN NaN\n",
      "c  11.0   7.0   8.0  11.0 NaN\n",
      "d  11.0  10.0  11.0   NaN NaN\n",
      "e  11.0  13.0  14.0  11.0 NaN\n",
      "f  11.0  16.0  17.0  18.0 NaN\n",
      "g  11.0   NaN   NaN   NaN NaN\n"
     ]
    }
   ],
   "source": [
    "df_regex = df3.replace(0.0,11.0, regex = False)#replace works over rows\n",
    "print(df_regex)\n",
    "#DataFrame.replace(df2,1.0,10.0)"
   ]
  },
  {
   "cell_type": "code",
   "execution_count": 77,
   "metadata": {},
   "outputs": [
    {
     "data": {
      "text/plain": [
       "     A    B\n",
       "0  new  abc\n",
       "1  foo  new\n",
       "2  new  xyz"
      ]
     },
     "execution_count": 77,
     "metadata": {},
     "output_type": "execute_result"
    }
   ],
   "source": [
    "df_new = pd.DataFrame({'A': ['bat', 'foo', 'bait'],\n",
    "                   'B': ['abc', 'bar', 'xyz']})\n",
    "df_new.replace(to_replace=r'^ba.*$', value='new', regex=True)\n"
   ]
  },
  {
   "cell_type": "code",
   "execution_count": 78,
   "metadata": {},
   "outputs": [
    {
     "data": {
      "text/plain": [
       "     c1    c2    c3    c4  c5\n",
       "a   0.0   1.0   2.0  20.0 NaN\n",
       "b   3.0   4.0   5.0   NaN NaN\n",
       "c   6.0   7.0   8.0   NaN NaN\n",
       "d   9.0  10.0  11.0   NaN NaN\n",
       "e  12.0  13.0  14.0   NaN NaN\n",
       "f  15.0  16.0  17.0  18.0 NaN\n",
       "g   NaN   NaN   NaN   NaN NaN"
      ]
     },
     "execution_count": 78,
     "metadata": {},
     "output_type": "execute_result"
    }
   ],
   "source": [
    "df"
   ]
  },
  {
   "cell_type": "code",
   "execution_count": 79,
   "metadata": {},
   "outputs": [
    {
     "name": "stdout",
     "output_type": "stream",
     "text": [
      "    c1    c2    c3    c4   c5  c6\n",
      "a  0.0   1.0   2.0  20.0  NaN NaN\n",
      "b  3.0   4.0   5.0   NaN  NaN NaN\n",
      "c  NaN   7.0   8.0   NaN  NaN NaN\n",
      "d  NaN   NaN   NaN   NaN  NaN NaN\n",
      "e  NaN   1.0   1.0   1.0  1.0 NaN\n",
      "f  NaN  16.0  17.0  18.0  NaN NaN\n",
      "g  NaN   NaN   NaN   NaN  NaN NaN\n"
     ]
    }
   ],
   "source": [
    "# only fills the first two NaN's in each row with 0\n",
    "df.loc['e'] = 1\n",
    "df['c1'][['c','d','e','f']] = np.nan\n",
    "df['c6'] = np.nan\n",
    "\n",
    "df.loc['d'] = np.nan\n",
    "print(df)\n"
   ]
  },
  {
   "cell_type": "code",
   "execution_count": 80,
   "metadata": {},
   "outputs": [
    {
     "name": "stdout",
     "output_type": "stream",
     "text": [
      "#######################################\n",
      "     c1    c2    c3    c4    c5    c6\n",
      "a   0.0   1.0   2.0  20.0  10.0  10.0\n",
      "b   3.0   4.0   5.0  10.0  10.0  10.0\n",
      "c  10.0   7.0   8.0  10.0  10.0  10.0\n",
      "d  10.0  10.0  10.0  10.0   NaN   NaN\n",
      "e  10.0   1.0   1.0   1.0   1.0   NaN\n",
      "f   NaN  16.0  17.0  18.0   NaN   NaN\n",
      "g   NaN  10.0  10.0   NaN   NaN   NaN\n"
     ]
    }
   ],
   "source": [
    "print(\"#######################################\")#axis not influence\n",
    "fill_2 = df.fillna(10, limit=3, axis = 'columns') # index or 0, # columns or 1\n",
    "print(fill_2)\n"
   ]
  },
  {
   "cell_type": "code",
   "execution_count": 82,
   "metadata": {},
   "outputs": [
    {
     "name": "stdout",
     "output_type": "stream",
     "text": [
      "    c1    c2    c3    c4   c5  c6\n",
      "a  0.0   1.0   2.0  20.0  NaN NaN\n",
      "b  3.0   4.0   5.0   NaN  NaN NaN\n",
      "c  NaN   7.0   8.0   NaN  NaN NaN\n",
      "d  NaN   NaN   NaN   NaN  NaN NaN\n",
      "e  NaN   1.0   1.0   1.0  1.0 NaN\n",
      "f  NaN  16.0  17.0  18.0  NaN NaN\n",
      "g  NaN   NaN   NaN   NaN  NaN NaN\n"
     ]
    },
    {
     "data": {
      "text/plain": [
       "  c1  c2  c3  c4   c5   c6\n",
       "a  0   1   2  20    #    #\n",
       "b  3   4   5   #    #    #\n",
       "c  #   7   8   #    #    #\n",
       "d  #   #   #   #    #    #\n",
       "e  #   1   1   1    1    #\n",
       "f  #  16  17  18    #  NaN\n",
       "g  #   #   #   #  NaN  NaN"
      ]
     },
     "execution_count": 82,
     "metadata": {},
     "output_type": "execute_result"
    }
   ],
   "source": [
    "# only fills the first two NaN's in each row with 0\n",
    "fill_2 = df.fillna(\"#\", limit=5)\n",
    "print(df)\n",
    "fill_2\n"
   ]
  },
  {
   "cell_type": "code",
   "execution_count": 83,
   "metadata": {},
   "outputs": [],
   "source": [
    "df3 = df2.copy()\n",
    "df3\n",
    "df3[\"c6\"] = np.NaN\n",
    "df3[\"c7\"] = np.NaN\n",
    "df3[\"c8\"] = np.NaN\n",
    "df3[\"c9\"] = np.NaN\n",
    "df3.c1 = np.NaN"
   ]
  },
  {
   "cell_type": "code",
   "execution_count": 85,
   "metadata": {},
   "outputs": [
    {
     "data": {
      "text/plain": [
       "   c1    c2    c3    c4  c5  c6  c7  c8  c9\n",
       "a NaN   1.0   2.0  20.0 NaN NaN NaN NaN NaN\n",
       "b NaN   4.0   5.0   NaN NaN NaN NaN NaN NaN\n",
       "c NaN   7.0   8.0   NaN NaN NaN NaN NaN NaN\n",
       "d NaN  10.0  11.0   NaN NaN NaN NaN NaN NaN\n",
       "e NaN  13.0  14.0   NaN NaN NaN NaN NaN NaN\n",
       "f NaN  16.0  17.0  18.0 NaN NaN NaN NaN NaN\n",
       "g NaN   NaN   0.0   NaN NaN NaN NaN NaN NaN"
      ]
     },
     "execution_count": 85,
     "metadata": {},
     "output_type": "execute_result"
    }
   ],
   "source": [
    "df3"
   ]
  },
  {
   "cell_type": "code",
   "execution_count": 84,
   "metadata": {},
   "outputs": [
    {
     "data": {
      "text/plain": [
       "    c1    c2    c3    c4   c5   c6   c7   c8   c9\n",
       "a  0.0   1.0   2.0  20.0  0.0  0.0  0.0  0.0  0.0\n",
       "b  0.0   4.0   5.0   0.0  0.0  0.0  0.0  0.0  0.0\n",
       "c  NaN   7.0   8.0   0.0  NaN  NaN  NaN  NaN  NaN\n",
       "d  NaN  10.0  11.0   NaN  NaN  NaN  NaN  NaN  NaN\n",
       "e  NaN  13.0  14.0   NaN  NaN  NaN  NaN  NaN  NaN\n",
       "f  NaN  16.0  17.0  18.0  NaN  NaN  NaN  NaN  NaN\n",
       "g  NaN   0.0   0.0   NaN  NaN  NaN  NaN  NaN  NaN"
      ]
     },
     "execution_count": 84,
     "metadata": {},
     "output_type": "execute_result"
    }
   ],
   "source": [
    "# only fills the first two NaN's in each row with 0\n",
    "fill_2 = df3.fillna(0, limit=2, axis = 'index')\n",
    "fill_2"
   ]
  },
  {
   "cell_type": "code",
   "execution_count": 203,
   "metadata": {},
   "outputs": [
    {
     "name": "stdout",
     "output_type": "stream",
     "text": [
      "    c1    c2    c3    c4   c5   c6   c7   c8   c9\n",
      "a  1.0   1.0   2.0   2.0  1.0  1.0  1.0  1.0  1.0\n",
      "b  1.0   4.0   5.0   1.0  1.0  1.0  1.0  1.0  1.0\n",
      "c  1.0   7.0   8.0   1.0  1.0  1.0  1.0  1.0  1.0\n",
      "d  1.0  10.0  11.0   1.0  1.0  1.0  1.0  1.0  1.0\n",
      "e  1.0  13.0  14.0   1.0  1.0  1.0  1.0  1.0  1.0\n",
      "f  NaN  16.0  17.0  18.0  NaN  NaN  NaN  NaN  NaN\n",
      "g  NaN   1.0   0.0   1.0  NaN  NaN  NaN  NaN  NaN\n"
     ]
    },
    {
     "data": {
      "text/plain": [
       "    c1    c2    c3    c4   c5   c6   c7   c8   c9\n",
       "a  1.0   1.0   2.0   2.0  1.0  1.0  1.0  1.0  1.0\n",
       "b  1.0   4.0   5.0   1.0  1.0  1.0  1.0  1.0  1.0\n",
       "c  1.0   7.0   8.0   1.0  1.0  1.0  1.0  1.0  1.0\n",
       "d  1.0  10.0  11.0   1.0  1.0  1.0  1.0  1.0  1.0\n",
       "e  1.0  13.0  14.0   1.0  1.0  1.0  1.0  1.0  1.0\n",
       "f  NaN  16.0  17.0  18.0  NaN  NaN  NaN  NaN  NaN\n",
       "g  NaN   1.0   0.0   1.0  NaN  NaN  NaN  NaN  NaN"
      ]
     },
     "execution_count": 203,
     "metadata": {},
     "output_type": "execute_result"
    }
   ],
   "source": [
    "# only fills the first two NaN's in each row with 0\n",
    "fill_3 = df3.fillna(1, limit=5)\n",
    "print(fill_3)\n",
    "fill_3\n"
   ]
  },
  {
   "cell_type": "code",
   "execution_count": null,
   "metadata": {},
   "outputs": [],
   "source": [
    "df3"
   ]
  },
  {
   "cell_type": "markdown",
   "metadata": {},
   "source": [
    "## Filling in missing data"
   ]
  },
  {
   "cell_type": "code",
   "execution_count": 86,
   "metadata": {},
   "outputs": [],
   "source": [
    "df.c4['f'] = np.nan"
   ]
  },
  {
   "cell_type": "code",
   "execution_count": 87,
   "metadata": {},
   "outputs": [
    {
     "data": {
      "text/plain": [
       "a    20.0\n",
       "b     NaN\n",
       "c     NaN\n",
       "d     NaN\n",
       "e     1.0\n",
       "f     NaN\n",
       "g     NaN\n",
       "Name: c4, dtype: float64"
      ]
     },
     "execution_count": 87,
     "metadata": {},
     "output_type": "execute_result"
    }
   ],
   "source": [
    "df.c4"
   ]
  },
  {
   "cell_type": "code",
   "execution_count": 88,
   "metadata": {},
   "outputs": [
    {
     "data": {
      "text/plain": [
       "    c1    c2    c3    c4   c5  c6\n",
       "a  0.0   1.0   2.0  20.0  NaN NaN\n",
       "b  3.0   4.0   5.0   NaN  NaN NaN\n",
       "c  NaN   7.0   8.0   NaN  NaN NaN\n",
       "d  NaN   NaN   NaN   NaN  NaN NaN\n",
       "e  NaN   1.0   1.0   1.0  1.0 NaN\n",
       "f  NaN  16.0  17.0   NaN  NaN NaN\n",
       "g  NaN   NaN   NaN   NaN  NaN NaN"
      ]
     },
     "execution_count": 88,
     "metadata": {},
     "output_type": "execute_result"
    }
   ],
   "source": [
    "df"
   ]
  },
  {
   "cell_type": "code",
   "execution_count": 89,
   "metadata": {},
   "outputs": [
    {
     "data": {
      "text/plain": [
       "    c1    c2    c3    c4   c5  c6\n",
       "a  0.0   1.0   2.0  20.0  NaN NaN\n",
       "b  3.0   4.0   5.0  20.0  NaN NaN\n",
       "c  3.0   7.0   8.0  20.0  NaN NaN\n",
       "d  3.0   7.0   8.0  20.0  NaN NaN\n",
       "e  3.0   1.0   1.0   1.0  1.0 NaN\n",
       "f  3.0  16.0  17.0   1.0  1.0 NaN\n",
       "g  3.0  16.0  17.0   1.0  1.0 NaN"
      ]
     },
     "execution_count": 89,
     "metadata": {},
     "output_type": "execute_result"
    }
   ],
   "source": [
    "df.fillna(method=\"ffill\")"
   ]
  },
  {
   "cell_type": "code",
   "execution_count": 91,
   "metadata": {},
   "outputs": [
    {
     "name": "stdout",
     "output_type": "stream",
     "text": [
      "    c1    c2    c3    c4   c5  c6\n",
      "a  0.0   1.0   2.0  20.0  3.0 NaN\n",
      "b  3.0   4.0   5.0   NaN  NaN NaN\n",
      "c  NaN   7.0   8.0   NaN  NaN NaN\n",
      "d  NaN   NaN   NaN   NaN  NaN NaN\n",
      "e  NaN   1.0   1.0   1.0  1.0 NaN\n",
      "f  NaN  16.0  17.0   NaN  NaN NaN\n",
      "g  NaN   NaN   NaN   NaN  NaN NaN\n"
     ]
    },
    {
     "data": {
      "text/plain": [
       "a    20.0\n",
       "b    20.0\n",
       "c    20.0\n",
       "d    20.0\n",
       "e     1.0\n",
       "f     1.0\n",
       "g     1.0\n",
       "Name: c4, dtype: float64"
      ]
     },
     "execution_count": 91,
     "metadata": {},
     "output_type": "execute_result"
    }
   ],
   "source": [
    "# extract the c4 column and fill NaNs forward\n",
    "df.c5['a'] =3.0\n",
    "print(df)\n",
    "df.c4.fillna(method=\"ffill\")"
   ]
  },
  {
   "cell_type": "code",
   "execution_count": 93,
   "metadata": {},
   "outputs": [
    {
     "data": {
      "text/plain": [
       "    c1    c2    c3    c4   c5  c6\n",
       "a  0.0   1.0   2.0  20.0  3.0 NaN\n",
       "b  3.0   4.0   5.0   1.0  1.0 NaN\n",
       "c  NaN   7.0   8.0   1.0  1.0 NaN\n",
       "d  NaN   1.0   1.0   1.0  1.0 NaN\n",
       "e  NaN   1.0   1.0   1.0  1.0 NaN\n",
       "f  NaN  16.0  17.0   NaN  NaN NaN\n",
       "g  NaN   NaN   NaN   NaN  NaN NaN"
      ]
     },
     "execution_count": 93,
     "metadata": {},
     "output_type": "execute_result"
    }
   ],
   "source": [
    "df.fillna(method=\"bfill\")"
   ]
  },
  {
   "cell_type": "code",
   "execution_count": 92,
   "metadata": {},
   "outputs": [
    {
     "data": {
      "text/plain": [
       "a    20.0\n",
       "b     1.0\n",
       "c     1.0\n",
       "d     1.0\n",
       "e     1.0\n",
       "f     NaN\n",
       "g     NaN\n",
       "Name: c4, dtype: float64"
      ]
     },
     "execution_count": 92,
     "metadata": {},
     "output_type": "execute_result"
    }
   ],
   "source": [
    "# perform a backwards fill\n",
    "df.c4.fillna(method=\"bfill\")"
   ]
  },
  {
   "cell_type": "markdown",
   "metadata": {},
   "source": [
    "# Visualizing Data"
   ]
  },
  {
   "cell_type": "markdown",
   "metadata": {},
   "source": [
    "#### Data Frame Plot\n",
    "<a href=\"https://pandas.pydata.org/pandas-docs/stable/reference/frame.html#plotting\">Generating Various charts directly from DataFrame</a>"
   ]
  }
 ],
 "metadata": {
  "kernelspec": {
   "display_name": "Python 3",
   "language": "python",
   "name": "python3"
  },
  "language_info": {
   "codemirror_mode": {
    "name": "ipython",
    "version": 3
   },
   "file_extension": ".py",
   "mimetype": "text/x-python",
   "name": "python",
   "nbconvert_exporter": "python",
   "pygments_lexer": "ipython3",
   "version": "3.9.1"
  }
 },
 "nbformat": 4,
 "nbformat_minor": 1
}
