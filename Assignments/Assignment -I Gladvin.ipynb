{
 "cells": [
  {
   "cell_type": "markdown",
   "metadata": {},
   "source": [
    "###### ASSIGNMENTS"
   ]
  },
  {
   "cell_type": "markdown",
   "metadata": {},
   "source": [
    "##### Assignment-I"
   ]
  },
  {
   "cell_type": "markdown",
   "metadata": {},
   "source": [
    "1. Write a python program to check if a string is palindrome or not?"
   ]
  },
  {
   "cell_type": "code",
   "execution_count": 4,
   "metadata": {},
   "outputs": [
    {
     "name": "stdout",
     "output_type": "stream",
     "text": [
      "malayalam\n",
      "it is palindrome\n"
     ]
    }
   ],
   "source": [
    "a = (\"malayalam\")\n",
    "print(a[::-1])\n",
    "if a==a[::-1]:\n",
    "    print(\"it is palindrome\")\n",
    "else:\n",
    "    print(\"it is not a palindrome\")"
   ]
  },
  {
   "cell_type": "markdown",
   "metadata": {},
   "source": [
    "2. Write a Python program to count number of whitespaces of a given string?"
   ]
  },
  {
   "cell_type": "code",
   "execution_count": 5,
   "metadata": {},
   "outputs": [
    {
     "name": "stdout",
     "output_type": "stream",
     "text": [
      "5\n"
     ]
    }
   ],
   "source": [
    "a = \"Hi, My Name is Infant Gladvin\"\n",
    "b = a.count(\" \")\n",
    "print(b)"
   ]
  },
  {
   "cell_type": "markdown",
   "metadata": {},
   "source": [
    "3. Write a python program to retrieve symbols from a given string?"
   ]
  },
  {
   "cell_type": "code",
   "execution_count": 10,
   "metadata": {},
   "outputs": [
    {
     "name": "stdout",
     "output_type": "stream",
     "text": [
      "Enter a string: 435tdsfbsdg\n",
      "tdsfbsdg\n"
     ]
    }
   ],
   "source": [
    "string = input(\"Enter a string: \")\n",
    "only_alpha = \"\"\n",
    "for char in string:\n",
    "    if char.isalpha():\n",
    "        only_alpha += char\n",
    "print(only_alpha)"
   ]
  },
  {
   "cell_type": "markdown",
   "metadata": {},
   "source": [
    "4. Write a python program to count the occurence of all vowels? \n"
   ]
  },
  {
   "cell_type": "code",
   "execution_count": 12,
   "metadata": {},
   "outputs": [
    {
     "name": "stdout",
     "output_type": "stream",
     "text": [
      "Enter the String:aeiouaeiou\n",
      "the number of vowels in s is 10\n"
     ]
    }
   ],
   "source": [
    "s = input(\"Enter the String:\")\n",
    "a = (\"aeiou\")\n",
    "c = 0\n",
    "for i in s:\n",
    "    if i in a:\n",
    "        c+=1\n",
    "print(\"the number of vowels in s\",\"is\",c)"
   ]
  },
  {
   "cell_type": "markdown",
   "metadata": {},
   "source": [
    "5.Generate a fibannaci series till 100?     \n"
   ]
  },
  {
   "cell_type": "code",
   "execution_count": 13,
   "metadata": {},
   "outputs": [
    {
     "name": "stdout",
     "output_type": "stream",
     "text": [
      "0\n",
      "1\n",
      "1\n",
      "2\n",
      "3\n",
      "5\n",
      "8\n",
      "13\n",
      "21\n",
      "34\n",
      "55\n",
      "89\n"
     ]
    }
   ],
   "source": [
    "def fibanaci(n):\n",
    "    a = 0\n",
    "    b = 1\n",
    "    print (a)\n",
    "    print (b)\n",
    "    for i in range(n):\n",
    "        c = a + b\n",
    "        a = b\n",
    "        b = c\n",
    "        print(c)\n",
    "\n",
    "fibanaci(10)"
   ]
  },
  {
   "cell_type": "markdown",
   "metadata": {},
   "source": [
    "6. print True to words having more vowels than consanants provided a list of words?\n",
    "[\"abc\",\"aba\"]\n",
    "FALSE, TRUE\n",
    "mywords = [\"abc\",\"aba\"]\n",
    "\n"
   ]
  },
  {
   "cell_type": "markdown",
   "metadata": {},
   "source": [
    "7. Write a program which can compute the factorial of a given number?"
   ]
  },
  {
   "cell_type": "code",
   "execution_count": 15,
   "metadata": {},
   "outputs": [
    {
     "name": "stdout",
     "output_type": "stream",
     "text": [
      "factorial of 5 is\n"
     ]
    },
    {
     "data": {
      "text/plain": [
       "120"
      ]
     },
     "execution_count": 15,
     "metadata": {},
     "output_type": "execute_result"
    }
   ],
   "source": [
    "def factorial(n):\n",
    "    if n == 0:\n",
    "        return 1\n",
    "    return n * factorial(n-1)\n",
    "num = 5\n",
    "print (\"factorial of\",num,\"is\")\n",
    "factorial(num)"
   ]
  },
  {
   "cell_type": "markdown",
   "metadata": {},
   "source": [
    "8. write a program to find the frequency of all words from a paragraph, and create a dictionary of all words with word being the key and the count being it's value?\n",
    "<br> frequency should be considered ignoring word contained in another word\n",
    "\n",
    "<br>\"python runs very fast, it's runtime is very lesser, eventhough the program is running on an interpreter which has a higher runtime than an compiler based programming languages.\"\n",
    "\n",
    "<br> ** here program count is - 1 and it shouldn't be counted in the programming which will make it to 2 **\n"
   ]
  },
  {
   "cell_type": "markdown",
   "metadata": {},
   "source": [
    "9. Define a function which can generate a dictionary where the keys are numbers between 1 and 20 (both included)\n",
    "<br>\n",
    "and the values should be a dictionary with square and cube as keys and with values being it's square and cube.\n",
    "<br>\n",
    "the function should print the dictionary in pretty format?\n",
    "<br>\n",
    "{1:{\"square\":1, \"cube\": 1},2:{\"square\":4, \"cube\":8},3:{\"square\":9, \"cube\":27},..... and so on until 20"
   ]
  },
  {
   "cell_type": "markdown",
   "metadata": {},
   "source": [
    "10. write a program to find duplicates in a list?"
   ]
  },
  {
   "cell_type": "markdown",
   "metadata": {},
   "source": [
    "11. write a program to list out the duplicate indexes in list, the first occurence being non duplicate?"
   ]
  },
  {
   "cell_type": "markdown",
   "metadata": {},
   "source": [
    "12. Create a generator which can take an integer input and generate a list of numbers having integer squareroots and cuberoots?\n",
    "like\n",
    "<br> 1 --  1\\*1 || 1*1*1\n",
    "<br> 64 --  8*8 || 4*4*4\n",
    "<br> 729 --  27\\*27 || 9*9*9 \n",
    "\n",
    "\n",
    "<br>\n",
    "<br>\n",
    "<br>\n",
    "if generator is not taken please work on that using block and conditional statements"
   ]
  },
  {
   "cell_type": "code",
   "execution_count": null,
   "metadata": {},
   "outputs": [],
   "source": []
  }
 ],
 "metadata": {
  "kernelspec": {
   "display_name": "Python 3",
   "language": "python",
   "name": "python3"
  },
  "language_info": {
   "codemirror_mode": {
    "name": "ipython",
    "version": 3
   },
   "file_extension": ".py",
   "mimetype": "text/x-python",
   "name": "python",
   "nbconvert_exporter": "python",
   "pygments_lexer": "ipython3",
   "version": "3.9.1"
  }
 },
 "nbformat": 4,
 "nbformat_minor": 2
}
