{
 "cells": [
  {
   "cell_type": "code",
   "execution_count": 2,
   "metadata": {},
   "outputs": [
    {
     "name": "stdout",
     "output_type": "stream",
     "text": [
      "Enter the list of strings seperated by comma: malayalam,delhi\n",
      "\"malayalam\"- TRUE\n",
      "\"delhi\" - FALSE\n"
     ]
    }
   ],
   "source": [
    "#Program to check if a given string is palindrome or not\n",
    "\n",
    "inputStrList=[]\n",
    "inputList=input(\"Enter the list of strings seperated by comma: \")\n",
    "inputStrList=inputList.split(',')\n",
    "#print(\"inputStrList:{}\".format(inputStrList))\n",
    "\n",
    "for inputStr in inputStrList:\n",
    "    outputStr=inputStr[::-1]\n",
    "    if (inputStr == outputStr):\n",
    "        print('\"{}\"- TRUE'.format(inputStr))\n",
    "    else:\n",
    "        print('\"{}\" - FALSE'.format(inputStr))"
   ]
  },
  {
   "cell_type": "code",
   "execution_count": 2,
   "metadata": {},
   "outputs": [
    {
     "name": "stdout",
     "output_type": "stream",
     "text": [
      "Enter the String: Ilove india\n",
      "The count is 1\n"
     ]
    }
   ],
   "source": [
    "#Program to count number of empty substrings of a given string\n",
    "\n",
    "inputStr=input(\"Enter the String: \")\n",
    "countVal=inputStr.count(' ')\n",
    "print(\"The count is {}\".format(countVal))"
   ]
  },
  {
   "cell_type": "code",
   "execution_count": 3,
   "metadata": {},
   "outputs": [
    {
     "name": "stdout",
     "output_type": "stream",
     "text": [
      "Enter the String:I  love+ this:  world > a z A Z 0 9\n",
      "The symbols are ['+', ':', '>']\n"
     ]
    }
   ],
   "source": [
    "#Program to retrieve the symbols in a given string\n",
    "\n",
    "inputStr=input(\"Enter the String:\")\n",
    "output=[]\n",
    "for c in inputStr:\n",
    "    val=ord(c)\n",
    "    if (val in range(48,58)) or (val in range(65,91)) or (val in range(97,123)) or (val==32):\n",
    "        continue\n",
    "    else:\n",
    "        output.append(c)\n",
    "if (len(output)>0):    \n",
    "    print(\"The symbols are {}\".format(output))\n",
    "else:\n",
    "    print(\"There are no symbols in the string\")"
   ]
  },
  {
   "cell_type": "code",
   "execution_count": 4,
   "metadata": {},
   "outputs": [
    {
     "name": "stdout",
     "output_type": "stream",
     "text": [
      "Enter the String: i love india\n",
      "a - 1\n",
      "e - 1\n",
      "i - 3\n",
      "o - 1\n"
     ]
    }
   ],
   "source": [
    "#Program to find the count of the occurence of each vowel in a string\n",
    "\n",
    "inputStr=input(\"Enter the String: \")\n",
    "vowelList=['a','e','i','o','u']\n",
    "\n",
    "for index in vowelList:\n",
    "    vowelCount=inputStr.count(index)\n",
    "    if (vowelCount>0):\n",
    "        print(\"{} - {}\".format(index,vowelCount))"
   ]
  },
  {
   "cell_type": "code",
   "execution_count": 1,
   "metadata": {},
   "outputs": [
    {
     "name": "stdout",
     "output_type": "stream",
     "text": [
      "The finbonacci series is [0, 1, 1, 2, 3, 5, 8, 13, 21, 34, 55, 89]\n"
     ]
    }
   ],
   "source": [
    "#Program to Print fibonacci series till 100\n",
    "\n",
    "i=0\n",
    "j=1\n",
    "val=0\n",
    "fiboList=[]\n",
    "fiboList.append(i)\n",
    "fiboList.append(j)\n",
    "while True:\n",
    "    val=i+j\n",
    "    i=j\n",
    "    j=val\n",
    "    if (val<=100):\n",
    "        fiboList.append(val)\n",
    "    else:\n",
    "        break\n",
    "print(\"The finbonacci series is {}\".format(fiboList))"
   ]
  },
  {
   "cell_type": "code",
   "execution_count": 5,
   "metadata": {},
   "outputs": [
    {
     "name": "stdout",
     "output_type": "stream",
     "text": [
      "Enter the list of strings seperated by comma: abb,aiu,eut,bcc\n",
      "abb - False\n",
      "aiu - True\n",
      "eut - True\n",
      "bcc - False\n"
     ]
    }
   ],
   "source": [
    "#Program to print true if a string contains more vowels than consonants\n",
    "\n",
    "inputStrList=[]\n",
    "inputStr=input(\"Enter the list of strings seperated by comma: \")\n",
    "inputStrList=inputStr.split(',')\n",
    "vowelCount=0\n",
    "\n",
    "for word in inputStrList:\n",
    "    vowelCount=word.count('a')+word.count('e')+word.count('i')+word.count('o')+word.count('u')\n",
    "    #totalCount=len(word)-1\n",
    "    consCount=len(word)-vowelCount\n",
    "    if vowelCount>consCount:\n",
    "        print(\"{} - {}\".format(word,\"True\"))\n",
    "    else:\n",
    "        print(\"{} - {}\".format(word,\"False\"))"
   ]
  },
  {
   "cell_type": "code",
   "execution_count": 7,
   "metadata": {},
   "outputs": [
    {
     "name": "stdout",
     "output_type": "stream",
     "text": [
      "Enter the number:5\n",
      "The factorial of number 5 is 120\n"
     ]
    }
   ],
   "source": [
    "#Program to print the factorial\n",
    "\n",
    "inputVal=int(input(\"Enter the number:\"))\n",
    "factVal=1\n",
    "\n",
    "for i in range(1,inputVal+1):\n",
    "    factVal=i*factVal\n",
    "\n",
    "print(\"The factorial of number {} is {}\".format(inputVal,factVal))"
   ]
  },
  {
   "cell_type": "code",
   "execution_count": 9,
   "metadata": {},
   "outputs": [
    {
     "name": "stdout",
     "output_type": "stream",
     "text": [
      "Enter the paragraphpython runs very fast, it's runtime is very lesser, eventhough the program is running on an interpreter which has a higher runtime than an compiler based programming languages\n",
      "{'python': 1, 'runs': 1, 'very': 2, 'fast': 1, \"it's\": 1, 'runtime': 2, 'is': 2, 'lesser': 1, 'eventhough': 1, 'the': 1, 'program': 1, 'running': 1, 'on': 1, 'an': 2, 'interpreter': 1, 'which': 1, 'has': 1, 'a': 1, 'higher': 1, 'than': 1, 'compiler': 1, 'based': 1, 'programming': 1, 'languages': 1}\n"
     ]
    }
   ],
   "source": [
    "# Program to find the frequency of all words from a paragraph, and create a dictionary \n",
    "# of all words with word being the key and the count being it's value\n",
    "# frequency should be considered ignoring word contained in another word\n",
    "\n",
    "import re\n",
    "\n",
    "keyList=[]\n",
    "valList=[]\n",
    "\n",
    "inputStr=input(\"Enter the paragraph\")\n",
    "\n",
    "keyList=re.split('[\\s.,_;:]',inputStr)\n",
    "while(\"\" in keyList) : \n",
    "    keyList.remove(\"\")\n",
    "\n",
    "for i in keyList:\n",
    "    valList.append(keyList.count(i))\n",
    "    \n",
    "output=dict(zip(keyList,valList))\n",
    "print(output)"
   ]
  },
  {
   "cell_type": "code",
   "execution_count": 10,
   "metadata": {},
   "outputs": [
    {
     "name": "stdout",
     "output_type": "stream",
     "text": [
      "{1: {'square': 1, 'cube': 1}, 2: {'square': 4, 'cube': 8}, 3: {'square': 9, 'cube': 27}, 4: {'square': 16, 'cube': 64}, 5: {'square': 25, 'cube': 125}, 6: {'square': 36, 'cube': 216}, 7: {'square': 49, 'cube': 343}, 8: {'square': 64, 'cube': 512}, 9: {'square': 81, 'cube': 729}, 10: {'square': 100, 'cube': 1000}, 11: {'square': 121, 'cube': 1331}, 12: {'square': 144, 'cube': 1728}, 13: {'square': 169, 'cube': 2197}, 14: {'square': 196, 'cube': 2744}, 15: {'square': 225, 'cube': 3375}, 16: {'square': 256, 'cube': 4096}, 17: {'square': 289, 'cube': 4913}, 18: {'square': 324, 'cube': 5832}, 19: {'square': 361, 'cube': 6859}, 20: {'square': 400, 'cube': 8000}}\n"
     ]
    }
   ],
   "source": [
    "#Program to generate a dictionary where the keys are numbers between 1 and 20 (both included)\n",
    "#and the values should be a dictionary with square and cube as keys and with values being it's square and cube. \n",
    "\n",
    "result={}\n",
    "for i in range(1,21):\n",
    "    result[i]={}\n",
    "    result[i][\"square\"]=i*i\n",
    "    result[i][\"cube\"]=i*i*i\n",
    "print(result)"
   ]
  },
  {
   "cell_type": "code",
   "execution_count": 11,
   "metadata": {},
   "outputs": [
    {
     "name": "stdout",
     "output_type": "stream",
     "text": [
      "Enter the list of numbers sepearted by comma:1,2,11,1,3,4,2\n",
      "The list of duplicates is {'2', '1'}\n"
     ]
    }
   ],
   "source": [
    "#Program to Find the duplicates in a list\n",
    "\n",
    "inputStr=input(\"Enter the list of numbers sepearted by comma:\")\n",
    "inputList=inputStr.split(',')\n",
    "\n",
    "outputList=[]\n",
    "outputSet=()\n",
    "\n",
    "for i in range(0,len(inputList)-1):\n",
    "    if (inputList.count(inputList[i])>1):\n",
    "        outputList.append(inputList[i])\n",
    "        \n",
    "outputSet=set(outputList)\n",
    "print(\"The list of duplicates is {}\".format(outputSet))"
   ]
  },
  {
   "cell_type": "code",
   "execution_count": null,
   "metadata": {},
   "outputs": [],
   "source": [
    "#Program to list out the duplicate indexes in list, the first occurence being non duplicate\n",
    "\n",
    "from collections import defaultdict\n",
    "inputStr=input(\"Enter a list of numbers seperated by comma:\")\n",
    "inputList=inputStr.split(',')\n",
    "tempList=[]\n",
    "output=defaultdict(list)\n",
    "\n",
    "for i in range(0,len(inputList)):\n",
    "    for j in range(i+1,len(inputList)):\n",
    "        if(inputList[i]==inputList[j]):\n",
    "             output[inputList[i]].append(j)\n",
    "\n",
    "print(\"the temp list is {}\".format(output))"
   ]
  },
  {
   "cell_type": "code",
   "execution_count": 8,
   "metadata": {
    "scrolled": true
   },
   "outputs": [
    {
     "name": "stdout",
     "output_type": "stream",
     "text": [
      "Enter the end point:1000\n",
      "1 -- 11||111\n",
      "64 -- 88||444\n",
      "729 -- 2727||999\n"
     ]
    }
   ],
   "source": [
    "#Program to generate a list of numbers having integer squareroots and cuberoots\n",
    "\n",
    "endRange=int(input(\"Enter the end point:\"))\n",
    "\n",
    "for i in range (1,endRange):\n",
    "    #i=64\n",
    "    sqrVal=int(i ** 0.5 + 0.5)\n",
    "    cubeVal=int(i ** (1.0/3.0) + 0.5)\n",
    "    if i==sqrVal**2 and i==cubeVal**3:\n",
    "        print(\"{} -- {}{}||{}{}{}\".format(i,sqrVal,sqrVal,cubeVal,cubeVal,cubeVal))"
   ]
  },
  {
   "cell_type": "code",
   "execution_count": null,
   "metadata": {},
   "outputs": [],
   "source": []
  }
 ],
 "metadata": {
  "kernelspec": {
   "display_name": "Python 3",
   "language": "python",
   "name": "python3"
  },
  "language_info": {
   "codemirror_mode": {
    "name": "ipython",
    "version": 3
   },
   "file_extension": ".py",
   "mimetype": "text/x-python",
   "name": "python",
   "nbconvert_exporter": "python",
   "pygments_lexer": "ipython3",
   "version": "3.7.3"
  }
 },
 "nbformat": 4,
 "nbformat_minor": 2
}
