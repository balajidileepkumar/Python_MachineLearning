{
 "cells": [
  {
   "cell_type": "markdown",
   "metadata": {},
   "source": [
    "###### ASSIGNMENTS"
   ]
  },
  {
   "cell_type": "markdown",
   "metadata": {},
   "source": [
    "##### Assignment-I"
   ]
  },
  {
   "cell_type": "markdown",
   "metadata": {},
   "source": [
    "1. Write a python program to check if a string is palindrome or not?\n",
    "<br> print the result as True/False for a list of strings"
   ]
  },
  {
   "cell_type": "code",
   "execution_count": 2,
   "metadata": {},
   "outputs": [
    {
     "name": "stdout",
     "output_type": "stream",
     "text": [
      "enter a string:\n",
      "The given string is a Palindrome\n"
     ]
    }
   ],
   "source": [
    "String1=str(input(\"enter a string:\"))\n",
    "String2=String1[::-1]\n",
    "if(String1 == String2):\n",
    "    print(\"The given string is a Palindrome\")\n",
    "else:\n",
    "    print(\"The given string is not a Palindrome\")"
   ]
  },
  {
   "cell_type": "markdown",
   "metadata": {},
   "source": [
    "2. Write a Python program to count number of empty substrings of a given string?\n",
    "<br> Program should be able to take input at runtime"
   ]
  },
  {
   "cell_type": "code",
   "execution_count": 4,
   "metadata": {},
   "outputs": [
    {
     "name": "stdout",
     "output_type": "stream",
     "text": [
      "enter a string:\n",
      "number of empty substrings 0\n"
     ]
    }
   ],
   "source": [
    "String1=str(input(\"enter a string:\"))\n",
    "result=String1.count(\" \")\n",
    "print(\"number of empty substrings {}\".format(result))"
   ]
  },
  {
   "cell_type": "markdown",
   "metadata": {},
   "source": [
    "3. Write a python program to retrieve symbols from a given string?"
   ]
  },
  {
   "cell_type": "code",
   "execution_count": 5,
   "metadata": {},
   "outputs": [
    {
     "name": "stdout",
     "output_type": "stream",
     "text": [
      "Enter Text\n",
      "Noneruhi@arshi$jhy\n",
      "['@', '$']\n"
     ]
    }
   ],
   "source": [
    "import re\n",
    "text = input (print(\"Enter Text\"))\n",
    "result = re.findall('[^0-9a-zA-Z\" \"]+',text)\n",
    "print(result)"
   ]
  },
  {
   "cell_type": "markdown",
   "metadata": {},
   "source": [
    "4. Write a python program to count the occurence of all vowels? \n",
    "<br> For instance in the string \"Hello World\"\n",
    "<br> e -1 \n",
    "<br> o -2\n",
    "<br> Input should be fetched at runtime."
   ]
  },
  {
   "cell_type": "code",
   "execution_count": null,
   "metadata": {},
   "outputs": [],
   "source": [
    "x = str (input (print(\"Enter a text\")))\n",
    "\n",
    "print ( \"a - :\", x.count(\"a\"))\n",
    "print ( \"e - :\", x.count(\"e\"))\n",
    "print ( \"i - :\", x.count(\"i\"))\n",
    "print ( \"o - :\", x.count(\"o\"))\n",
    "print ( \"u - :\", x.count(\"u\"))"
   ]
  },
  {
   "cell_type": "markdown",
   "metadata": {},
   "source": [
    "5. Generate Fibonacci Series till 100?\n"
   ]
  },
  {
   "cell_type": "code",
   "execution_count": null,
   "metadata": {},
   "outputs": [],
   "source": [
    "a = 0\n",
    "b = 1\n",
    "c = 0\n",
    "if nterm <= 0:\n",
    "    print(\"enter positve num\")\n",
    "elif n term == 1:\n",
    "    print (\"fibonacci series upto\",nterm,\":\")\n",
    "    while c < nterm:\n",
    "        print(a,end=' , ')\n",
    "        nterm = a + b\n",
    "        a = b\n",
    "        b = nterm\n",
    "        c += 1\n",
    "    \n"
   ]
  },
  {
   "cell_type": "markdown",
   "metadata": {},
   "source": [
    "6. print True to words having more vowels than consanants provided a list of words?\n",
    "[\"abc\",\"aba\"]\n",
    "FALSE, TRUE\n"
   ]
  },
  {
   "cell_type": "code",
   "execution_count": null,
   "metadata": {},
   "outputs": [],
   "source": [
    "import re\n",
    "strings=[\"hellow\",\"ath\",\"world\",\"abiocudie\"]\n",
    "def function1(String1):\n",
    "    result=re.findall(\"[aeiou]\",String1)\n",
    "    result1=re.findall(\"[^aeiou]\",String1)\n",
    "    print(result,result1)\n",
    "    a=len(result)\n",
    "    b=len(result1)\n",
    "    print(a,b)\n",
    "    return a>b\n",
    "    \n",
    "print(list(map(function1,strings)))"
   ]
  },
  {
   "cell_type": "markdown",
   "metadata": {},
   "source": [
    "7. Write a program which can compute the factorial of a given number?"
   ]
  },
  {
   "cell_type": "code",
   "execution_count": null,
   "metadata": {},
   "outputs": [],
   "source": [
    "def factorial(n):\n",
    "    return 1 if(n==0 or n==1) else n*factorial(n-1)\n",
    "\n",
    "number=int(input(\"enter a number:\"))\n",
    "print(\"factorial :\", factorial(number))\n",
    "           "
   ]
  },
  {
   "cell_type": "markdown",
   "metadata": {},
   "source": [
    "8. write a program to find the frequency of all words from a paragraph, and create a dictionary of all words with word being the key and the count being it's value?\n",
    "<br> frequency should be considered ignoring word contained in another word\n",
    "\n",
    "<br>\"python runs very fast, it's runtime is very lesser, eventhough the program is running on an interpreter which has a higher runtime than an compiler based programming languages.\"\n",
    "\n",
    "<br> ** here program count is - 1 and it shouldn't be counted in the programming which will make it to 2 **\n"
   ]
  },
  {
   "cell_type": "code",
   "execution_count": 3,
   "metadata": {},
   "outputs": [
    {
     "name": "stdout",
     "output_type": "stream",
     "text": [
      "[{'Define': 1}, {'a': 3}, {'function': 2}, {'which': 1}, {'can': 1}, {'generate': 1}, {'a': 3}, {'dictionary': 3}, {'where': 1}, {'the': 4}, {'keys': 2}, {'are': 1}, {'numbers': 1}, {'between': 1}, {'1': 1}, {'and': 5}, {'20': 1}, {'both': 1}, {'included': 1}, {'and': 5}, {'the': 4}, {'values': 2}, {'should': 2}, {'be': 1}, {'a': 3}, {'dictionary': 3}, {'with': 2}, {'square': 2}, {'and': 5}, {'cube': 2}, {'as': 1}, {'keys': 2}, {'and': 5}, {'with': 2}, {'values': 2}, {'being': 1}, {'it': 1}, {'s': 1}, {'square': 2}, {'and': 5}, {'cube': 2}, {'the': 4}, {'function': 2}, {'should': 2}, {'print': 1}, {'the': 4}, {'dictionary': 3}, {'in': 1}, {'pretty': 1}, {'format': 1}]\n"
     ]
    }
   ],
   "source": [
    "import re\n",
    "paragraph=\"\"\"Define a function which can generate a dictionary where the keys are numbers between 1 and 20 (both included)\n",
    "and the values should be a dictionary with square and cube as keys and with values being it's square and cube. \n",
    "the function should print the dictionary in pretty format \"\"\"\n",
    "result=re.findall(\"\\w+\",paragraph)\n",
    "#print(result)\n",
    "print([{x:result.count(x)} for x in result])"
   ]
  },
  {
   "cell_type": "markdown",
   "metadata": {},
   "source": [
    "9. Define a function which can generate a dictionary where the keys are numbers between 1 and 20 (both included)\n",
    "<br>\n",
    "and the values should be a dictionary with square and cube as keys and with values being it's square and cube.\n",
    "<br>\n",
    "the function should print the dictionary in pretty format?\n",
    "<br>\n",
    "{1:{\"square\":1, \"cube\": 1},2:{\"square\":4, \"cube\":8},3:{\"square\":9, \"cube\":27},..... and so on until 20"
   ]
  },
  {
   "cell_type": "code",
   "execution_count": 2,
   "metadata": {},
   "outputs": [
    {
     "name": "stdout",
     "output_type": "stream",
     "text": [
      "[{1: {'square': 1, 'cube': 1}}, {2: {'square': 4, 'cube': 8}}, {3: {'square': 9, 'cube': 27}}, {4: {'square': 16, 'cube': 64}}, {5: {'square': 25, 'cube': 125}}, {6: {'square': 36, 'cube': 216}}, {7: {'square': 49, 'cube': 343}}, {8: {'square': 64, 'cube': 512}}, {9: {'square': 81, 'cube': 729}}, {10: {'square': 100, 'cube': 1000}}, {11: {'square': 121, 'cube': 1331}}, {12: {'square': 144, 'cube': 1728}}, {13: {'square': 169, 'cube': 2197}}, {14: {'square': 196, 'cube': 2744}}, {15: {'square': 225, 'cube': 3375}}, {16: {'square': 256, 'cube': 4096}}, {17: {'square': 289, 'cube': 4913}}, {18: {'square': 324, 'cube': 5832}}, {19: {'square': 361, 'cube': 6859}}, {20: {'square': 400, 'cube': 8000}}]\n"
     ]
    }
   ],
   "source": [
    "square=lambda s:s**2\n",
    "cube=lambda c:c**3\n",
    "\n",
    "print([{x:{\"square\":square(x),\"cube\":cube(x)}} for x in range(1,21)])"
   ]
  },
  {
   "cell_type": "markdown",
   "metadata": {},
   "source": [
    "10. write a program to find duplicates in a list?"
   ]
  },
  {
   "cell_type": "code",
   "execution_count": null,
   "metadata": {},
   "outputs": [],
   "source": [
    "example_list=[2,3,4,5,1,2,4,6,7]\n",
    "a=[]\n",
    "for x in example_list:\n",
    "    if x not in a:\n",
    "        if(example_list.count(x))>1:\n",
    "            a.append(x)\n",
    "print(a) \n",
    "\n",
    "for x in a:\n",
    "    print(\"index of {} is {}\".format(x,example_list.index(x)))\n"
   ]
  },
  {
   "cell_type": "markdown",
   "metadata": {},
   "source": [
    "11. write a program to list out the duplicate indexes in list, the first occurence being non duplicate?"
   ]
  },
  {
   "cell_type": "markdown",
   "metadata": {},
   "source": [
    "12. Create a generator which can take an integer input and generate a list of numbers having integer squareroots and cuberoots?\n",
    "like\n",
    "<br> 1 --  1*1 || 1*1*1\n",
    "<br> 64 --  8*8 || 4*4*4\n",
    "<br> 729 --  27*27 || 9*9*9 \n",
    "\n",
    "\n",
    "<br>\n",
    "<br>\n",
    "<br>\n",
    "if generator is not taken please work on that using block and conditional statements"
   ]
  },
  {
   "cell_type": "code",
   "execution_count": 1,
   "metadata": {},
   "outputs": [
    {
     "name": "stdout",
     "output_type": "stream",
     "text": [
      "enter a interger:3\n",
      "square root of 0 having integer value is 0\n",
      "cube root of 0 having integer value is 0\n",
      "square root of 1 having integer value is 1\n",
      "cube root of 1 having integer value is 1\n"
     ]
    }
   ],
   "source": [
    "import math\n",
    "\n",
    "def func1(val):\n",
    "    for x in range(val):\n",
    "        y=math.sqrt(x)\n",
    "        z=x**(1/3)\n",
    "        if y.is_integer():\n",
    "            print(\"square root of {} having integer value is {}\" .format(x,int(y)))\n",
    "        if z.is_integer():\n",
    "            print(\"cube root of {} having integer value is {}\" .format(x,int(z)))\n",
    "               \n",
    "\n",
    "value=int(input(\"enter a interger:\"))\n",
    "func1(value)\n",
    "        "
   ]
  }
 ],
 "metadata": {
  "kernelspec": {
   "display_name": "Python 3",
   "language": "python",
   "name": "python3"
  },
  "language_info": {
   "codemirror_mode": {
    "name": "ipython",
    "version": 3
   },
   "file_extension": ".py",
   "mimetype": "text/x-python",
   "name": "python",
   "nbconvert_exporter": "python",
   "pygments_lexer": "ipython3",
   "version": "3.7.4"
  }
 },
 "nbformat": 4,
 "nbformat_minor": 2
}
