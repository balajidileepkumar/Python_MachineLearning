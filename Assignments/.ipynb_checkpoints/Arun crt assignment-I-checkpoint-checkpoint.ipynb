{
 "cells": [
  {
   "cell_type": "markdown",
   "metadata": {},
   "source": [
    "###### ASSIGNMENTS"
   ]
  },
  {
   "cell_type": "markdown",
   "metadata": {},
   "source": [
    "##### Assignment-I"
   ]
  },
  {
   "cell_type": "markdown",
   "metadata": {},
   "source": [
    "1. Write a python program to check if a string is palindrome or not?\n",
    "<br> print the result as True/False for a list of strings"
   ]
  },
  {
   "cell_type": "code",
   "execution_count": 1,
   "metadata": {},
   "outputs": [
    {
     "name": "stdout",
     "output_type": "stream",
     "text": [
      "ramuknura\n",
      "it's not a palindrome\n"
     ]
    }
   ],
   "source": [
    "\n",
    "a = \"arunkumar\"\n",
    "print(a[::-1])\n",
    "\n",
    "if a==a[::-1]:\n",
    "    print (\"it is a palindrome\")\n",
    "else:  \n",
    "    print (\"it's not a palindrome\")"
   ]
  },
  {
   "cell_type": "markdown",
   "metadata": {},
   "source": [
    "2. Write a Python program to count number of whitespaces of a given string?\n",
    "<br> Program should be able to take input at runtime"
   ]
  },
  {
   "cell_type": "code",
   "execution_count": 4,
   "metadata": {},
   "outputs": [
    {
     "name": "stdout",
     "output_type": "stream",
     "text": [
      "5\n"
     ]
    }
   ],
   "source": [
    "a= \"hai am arunkumar. how are you\"\n",
    "b= a.count(\" \")\n",
    "print(b) "
   ]
  },
  {
   "cell_type": "markdown",
   "metadata": {},
   "source": [
    "3. Write a python program to retrieve symbols from a given string?"
   ]
  },
  {
   "cell_type": "code",
   "execution_count": 5,
   "metadata": {},
   "outputs": [
    {
     "name": "stdout",
     "output_type": "stream",
     "text": [
      "@@ $$ $ \n"
     ]
    }
   ],
   "source": [
    "x = \"hey@@ how$$ are$ you\"\n",
    "print(''.join([i for i in x if not i.isalpha()]))"
   ]
  },
  {
   "cell_type": "markdown",
   "metadata": {},
   "source": [
    "4. Write a python program to count the occurence of all vowels? \n",
    "<br> For instance in the string \"Hello World\"\n",
    "<br> e -1 \n",
    "<br> o -2\n",
    "<br> Input should be fetched at runtime.\n"
   ]
  },
  {
   "cell_type": "code",
   "execution_count": 6,
   "metadata": {},
   "outputs": [
    {
     "name": "stdout",
     "output_type": "stream",
     "text": [
      "enter the string:how are you am fine\n",
      "a = 2\n",
      "e = 2\n",
      "i = 1\n",
      "o = 2\n",
      "u = 1\n"
     ]
    }
   ],
   "source": [
    "s = input(\"enter the string:\")\n",
    "a = s.casefold()\n",
    "v = \"aeiou\"\n",
    "vowelsdata = {}.fromkeys(v,0)\n",
    "for char in a:\n",
    "    \n",
    "    if char in v:\n",
    "        vowelsdata[char]+=1\n",
    "        \n",
    "for v in vowelsdata:\n",
    "    print(v,\"=\",vowelsdata[v])"
   ]
  },
  {
   "cell_type": "markdown",
   "metadata": {},
   "source": [
    "5. Generate Fibonacci Series till 100?"
   ]
  },
  {
   "cell_type": "code",
   "execution_count": 10,
   "metadata": {},
   "outputs": [
    {
     "name": "stdout",
     "output_type": "stream",
     "text": [
      "0\n",
      "1\n",
      "1\n",
      "2\n",
      "3\n",
      "5\n",
      "8\n",
      "13\n",
      "21\n",
      "34\n",
      "55\n",
      "89\n",
      "144\n",
      "233\n",
      "377\n",
      "610\n",
      "987\n",
      "1597\n",
      "2584\n",
      "4181\n",
      "6765\n",
      "10946\n",
      "17711\n",
      "28657\n",
      "46368\n",
      "75025\n",
      "121393\n",
      "196418\n",
      "317811\n",
      "514229\n",
      "832040\n",
      "1346269\n",
      "2178309\n",
      "3524578\n",
      "5702887\n",
      "9227465\n",
      "14930352\n",
      "24157817\n",
      "39088169\n",
      "63245986\n",
      "102334155\n",
      "165580141\n",
      "267914296\n",
      "433494437\n",
      "701408733\n",
      "1134903170\n",
      "1836311903\n",
      "2971215073\n",
      "4807526976\n",
      "7778742049\n",
      "12586269025\n",
      "20365011074\n",
      "32951280099\n",
      "53316291173\n",
      "86267571272\n",
      "139583862445\n",
      "225851433717\n",
      "365435296162\n",
      "591286729879\n",
      "956722026041\n",
      "1548008755920\n",
      "2504730781961\n",
      "4052739537881\n",
      "6557470319842\n",
      "10610209857723\n",
      "17167680177565\n",
      "27777890035288\n",
      "44945570212853\n",
      "72723460248141\n",
      "117669030460994\n",
      "190392490709135\n",
      "308061521170129\n",
      "498454011879264\n",
      "806515533049393\n",
      "1304969544928657\n",
      "2111485077978050\n",
      "3416454622906707\n",
      "5527939700884757\n",
      "8944394323791464\n",
      "14472334024676221\n",
      "23416728348467685\n",
      "37889062373143906\n",
      "61305790721611591\n",
      "99194853094755497\n",
      "160500643816367088\n",
      "259695496911122585\n",
      "420196140727489673\n",
      "679891637638612258\n",
      "1100087778366101931\n",
      "1779979416004714189\n",
      "2880067194370816120\n",
      "4660046610375530309\n",
      "7540113804746346429\n",
      "12200160415121876738\n",
      "19740274219868223167\n",
      "31940434634990099905\n",
      "51680708854858323072\n",
      "83621143489848422977\n",
      "135301852344706746049\n",
      "218922995834555169026\n",
      "354224848179261915075\n",
      "573147844013817084101\n",
      "927372692193078999176\n"
     ]
    }
   ],
   "source": [
    "def fibonacci(n):\n",
    "    a = 0\n",
    "    b = 1\n",
    "    print(a)\n",
    "    print(b)\n",
    "    for i in range(0,101):\n",
    "        c = a + b\n",
    "        a = b\n",
    "        b = c\n",
    "        print(c)\n",
    "fibonacci(101)        "
   ]
  },
  {
   "cell_type": "markdown",
   "metadata": {},
   "source": [
    "6. print True to words having more vowels than consanants provided a list of words?\n",
    "[\"abc\",\"aba\"]\n",
    "FALSE, TRUE\n"
   ]
  },
  {
   "cell_type": "code",
   "execution_count": null,
   "metadata": {},
   "outputs": [],
   "source": []
  },
  {
   "cell_type": "markdown",
   "metadata": {},
   "source": [
    "7. Write a program which can compute the factorial of a given number?"
   ]
  },
  {
   "cell_type": "code",
   "execution_count": 12,
   "metadata": {},
   "outputs": [
    {
     "name": "stdout",
     "output_type": "stream",
     "text": [
      "enter the number:4\n",
      "the factorial of a number is: 24\n"
     ]
    }
   ],
   "source": [
    "a = int(input(\"enter the number:\"))\n",
    "factorial = 1\n",
    "for i in range(1,a+1):\n",
    "    factorial = factorial*i\n",
    "print(\"the factorial of a number is:\",factorial)"
   ]
  },
  {
   "cell_type": "markdown",
   "metadata": {},
   "source": [
    "8. write a program to find the frequency of all words from a paragraph, and create a dictionary of all words with word being the key and the count being it's value?\n",
    "<br> frequency should be considered ignoring word contained in another word\n",
    "\n",
    "<br>\"python runs very fast, it's runtime is very lesser, eventhough the program is running on an interpreter which has a higher runtime than an compiler based programming languages.\"\n",
    "\n",
    "<br> ** here program count is - 1 and it shouldn't be counted in the programming which will make it to 2 **\n",
    "\n"
   ]
  },
  {
   "cell_type": "code",
   "execution_count": 1,
   "metadata": {},
   "outputs": [
    {
     "name": "stdout",
     "output_type": "stream",
     "text": [
      "2\n"
     ]
    }
   ],
   "source": [
    "a = \"python runs very fast, it's runtime is very lesser, eventhough the program is running on an interpreter which has a higher runtime than an compiler based programming languages.\"\n",
    "print(a.count(\"is\"))\n",
    "for x in a.split(''):\n",
    "    print(a.cout)"
   ]
  },
  {
   "cell_type": "markdown",
   "metadata": {},
   "source": [
    "9. Define a function which can generate a dictionary where the keys are numbers between 1 and 20 (both included)\n",
    "<br>\n",
    "and the values should be a dictionary with square and cube as keys and with values being it's square and cube.\n",
    "<br>\n",
    "the function should print the dictionary in pretty format?\n",
    "<br>\n",
    "{1:{\"square\":1, \"cube\": 1},2:{\"square\":4, \"cube\":8},3:{\"square\":9, \"cube\":27},..... and so on until 20"
   ]
  },
  {
   "cell_type": "markdown",
   "metadata": {},
   "source": [
    "10. write a program to find duplicates in a list?"
   ]
  },
  {
   "cell_type": "code",
   "execution_count": null,
   "metadata": {},
   "outputs": [],
   "source": [
    "a = [0,1,1,2,3,4,5,4]\n",
    "b = [i for i in range (len(a)) if a[i] == 1]\n",
    "print(b)"
   ]
  },
  {
   "cell_type": "markdown",
   "metadata": {},
   "source": [
    "11. write a program to list out the duplicate indexes in list, the first occurence being non duplicate?"
   ]
  },
  {
   "cell_type": "markdown",
   "metadata": {},
   "source": [
    "12. Create a generator which can take an integer input and generate a list of numbers having integer squareroots and cuberoots?\n",
    "like\n",
    "<br> 1 --  1\\*1 || 1*1*1\n",
    "<br> 64 --  8*8 || 4*4*4\n",
    "<br> 729 --  27\\*27 || 9*9*9 \n",
    "\n",
    "\n",
    "<br>\n",
    "<br>\n",
    "<br>\n",
    "if generator is not taken please work on that using block and conditional statements"
   ]
  },
  {
   "cell_type": "code",
   "execution_count": null,
   "metadata": {},
   "outputs": [],
   "source": []
  }
 ],
 "metadata": {
  "kernelspec": {
   "display_name": "Python 3",
   "language": "python",
   "name": "python3"
  },
  "language_info": {
   "codemirror_mode": {
    "name": "ipython",
    "version": 3
   },
   "file_extension": ".py",
   "mimetype": "text/x-python",
   "name": "python",
   "nbconvert_exporter": "python",
   "pygments_lexer": "ipython3",
   "version": "3.9.1"
  }
 },
 "nbformat": 4,
 "nbformat_minor": 2
}
