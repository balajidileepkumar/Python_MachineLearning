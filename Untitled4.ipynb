{
 "cells": [
  {
   "cell_type": "code",
   "execution_count": 10,
   "metadata": {},
   "outputs": [],
   "source": [
    "def add(a, b):\n",
    "    return a + b\n"
   ]
  },
  {
   "cell_type": "code",
   "execution_count": 11,
   "metadata": {},
   "outputs": [],
   "source": [
    "def add(a, b):\n",
    "    if(a>b):\n",
    "        return a + b\n",
    "    else: \n",
    "        return a - b"
   ]
  },
  {
   "cell_type": "code",
   "execution_count": 12,
   "metadata": {},
   "outputs": [
    {
     "name": "stdout",
     "output_type": "stream",
     "text": [
      "-1\n",
      "<class 'int'>\n",
      "0\n",
      "<class 'int'>\n",
      "5\n",
      "<class 'int'>\n"
     ]
    }
   ],
   "source": [
    "result = add(1,2)\n",
    "print(result)\n",
    "print(type(result))\n",
    "result = add(2,2)\n",
    "print(result)\n",
    "print(type(result))\n",
    "result = add(3,2)\n",
    "print(result)\n",
    "print(type(result))"
   ]
  },
  {
   "cell_type": "code",
   "execution_count": 13,
   "metadata": {},
   "outputs": [
    {
     "name": "stdout",
     "output_type": "stream",
     "text": [
      "-4\n",
      "13\n",
      "-5\n"
     ]
    }
   ],
   "source": [
    "a = 2\n",
    "b = 6\n",
    "if(a>b):\n",
    "    print(a + b) \n",
    "else: \n",
    "    print(a - b)\n",
    "\n",
    "a = 7\n",
    "b = 6\n",
    "if(a>b):\n",
    "    print(a + b) \n",
    "else: \n",
    "    print(a - b)\n",
    "\n",
    "a = 7\n",
    "b = 12\n",
    "if(a>b):\n",
    "    print(a + b) \n",
    "else: \n",
    "    print(a - b)"
   ]
  },
  {
   "cell_type": "code",
   "execution_count": 5,
   "metadata": {},
   "outputs": [
    {
     "name": "stdout",
     "output_type": "stream",
     "text": [
      "-4\n",
      "13\n",
      "-5\n"
     ]
    }
   ],
   "source": [
    "a = 2\n",
    "b = 6\n",
    "print(add(a,b))\n",
    "\n",
    "a = 7\n",
    "b = 6\n",
    "print(add(a,b))\n",
    "\n",
    "a = 7\n",
    "b = 12\n",
    "print(add(a,b))"
   ]
  },
  {
   "cell_type": "code",
   "execution_count": 9,
   "metadata": {},
   "outputs": [
    {
     "name": "stdout",
     "output_type": "stream",
     "text": [
      "Developer :Brindhu is 20 years old is as tall as 5.0\n",
      "Developer :Dharani is 20 years old is as tall as 5.5\n"
     ]
    }
   ],
   "source": [
    "import random\n",
    "import sys\n",
    "class HumanBeing:\n",
    "    def __init__(self, x): \n",
    "        if(x == \"\"):\n",
    "            print(\"Name can't be empty\")\n",
    "            sys.exit()\n",
    "        else: \n",
    "            self.Name = x\n",
    "            self.height = 5.0\n",
    "            self.age = 20\n",
    "            \n",
    "    def setname(self,x):\n",
    "        self.Name = x\n",
    "    \n",
    "    def setheight(self,y):\n",
    "        self.height = y\n",
    "        \n",
    "    def age(self,y):\n",
    "        self.age = y\n",
    "    \n",
    "    def __str__(self):\n",
    "        return \"Developer :%s is %s years old is as tall as %s\" %(self.Name, self.age, self.height)\n",
    "\n",
    "\n",
    "abc = HumanBeing(\"Sindhu\")\n",
    "abc.setname(\"Brindhu\")\n",
    "print(abc)\n",
    "deg = HumanBeing(\"Dharani\")\n",
    "deg.setheight(5.5)\n",
    "print(deg)\n",
    "abc.height = 5.1\n"
   ]
  }
 ],
 "metadata": {
  "kernelspec": {
   "display_name": "Python 3",
   "language": "python",
   "name": "python3"
  },
  "language_info": {
   "codemirror_mode": {
    "name": "ipython",
    "version": 3
   },
   "file_extension": ".py",
   "mimetype": "text/x-python",
   "name": "python",
   "nbconvert_exporter": "python",
   "pygments_lexer": "ipython3",
   "version": "3.7.3"
  }
 },
 "nbformat": 4,
 "nbformat_minor": 2
}
