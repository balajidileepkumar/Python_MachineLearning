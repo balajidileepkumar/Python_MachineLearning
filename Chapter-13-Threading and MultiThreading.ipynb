{
 "cells": [
  {
   "cell_type": "code",
   "execution_count": 22,
   "metadata": {},
   "outputs": [],
   "source": [
    "import threading\n",
    "from datetime import datetime"
   ]
  },
  {
   "cell_type": "markdown",
   "metadata": {},
   "source": [
    "#### Thread Local Variable"
   ]
  },
  {
   "cell_type": "code",
   "execution_count": 4,
   "metadata": {},
   "outputs": [
    {
     "ename": "NameError",
     "evalue": "name 'a' is not defined",
     "output_type": "error",
     "traceback": [
      "\u001b[1;31m---------------------------------------------------------------------------\u001b[0m",
      "\u001b[1;31mNameError\u001b[0m                                 Traceback (most recent call last)",
      "\u001b[1;32m<ipython-input-4-a690b5b6d7f1>\u001b[0m in \u001b[0;36m<module>\u001b[1;34m\u001b[0m\n\u001b[0;32m      2\u001b[0m \u001b[0mThreadLocalVar\u001b[0m\u001b[1;33m.\u001b[0m\u001b[0ma\u001b[0m \u001b[1;33m=\u001b[0m \u001b[1;36m5\u001b[0m\u001b[1;33m\u001b[0m\u001b[1;33m\u001b[0m\u001b[0m\n\u001b[0;32m      3\u001b[0m \u001b[0mThreadLocalVar\u001b[0m\u001b[1;33m.\u001b[0m\u001b[0mb\u001b[0m \u001b[1;33m=\u001b[0m \u001b[1;36m10\u001b[0m\u001b[1;33m\u001b[0m\u001b[1;33m\u001b[0m\u001b[0m\n\u001b[1;32m----> 4\u001b[1;33m \u001b[0mprint\u001b[0m\u001b[1;33m(\u001b[0m\u001b[0ma\u001b[0m\u001b[1;33m,\u001b[0m \u001b[0mb\u001b[0m\u001b[1;33m)\u001b[0m\u001b[1;33m\u001b[0m\u001b[1;33m\u001b[0m\u001b[0m\n\u001b[0m",
      "\u001b[1;31mNameError\u001b[0m: name 'a' is not defined"
     ]
    }
   ],
   "source": [
    "ThreadLocalVar = threading.local()\n",
    "ThreadLocalVar.a = 5\n",
    "ThreadLocalVar.b = 10\n",
    "print(a, b)"
   ]
  },
  {
   "cell_type": "code",
   "execution_count": 5,
   "metadata": {},
   "outputs": [
    {
     "data": {
      "text/plain": [
       "<_thread._local at 0x6bb4750>"
      ]
     },
     "execution_count": 5,
     "metadata": {},
     "output_type": "execute_result"
    }
   ],
   "source": [
    "ThreadLocalVar"
   ]
  },
  {
   "cell_type": "markdown",
   "metadata": {},
   "source": [
    "#### Lock and RLock"
   ]
  },
  {
   "cell_type": "code",
   "execution_count": 28,
   "metadata": {},
   "outputs": [],
   "source": [
    "lock_access = threading.Lock()# Timeout in seconds, blocking default = True Blocks other threads\n",
    "lock_Reentrant = threading.RLock(blocking=True, timeout=10)"
   ]
  },
  {
   "cell_type": "code",
   "execution_count": 29,
   "metadata": {},
   "outputs": [],
   "source": [
    "def func_a(message=\"\", times=10):\n",
    "    print(times)\n",
    "    #lock_access.acquire()\n",
    "    lock_Reentrant.acquire()\n",
    "    for count in range(0,times): \n",
    "        print(message, count)\n",
    "        print(datetime.now().strftime(\"%Y-%m-%d %H:%M:%S\"))\n",
    "    lock_Reentrant.release()\n",
    "    #lock_access.release()"
   ]
  },
  {
   "cell_type": "code",
   "execution_count": 38,
   "metadata": {},
   "outputs": [],
   "source": [
    "#Threading.Thread(group=None, target=None, name=None, args=(), kwargs={}, *, daemon=None)\n",
    "x1 = threading.Thread(target=func_a,kwargs=dict(message='Hello', times=10))\n",
    "x2 = threading.Thread(target=func_a,kwargs=dict(message='Welcome', times=20))\n",
    "x3 = threading.Thread(target=func_a,kwargs=dict(message='Hi', times=12))\n"
   ]
  },
  {
   "cell_type": "markdown",
   "metadata": {},
   "source": [
    "##### thread.join() waits for current thread to complete and suspends other threads by acquiring the lock and when complete notifies other blocked threads to continue"
   ]
  },
  {
   "cell_type": "code",
   "execution_count": 39,
   "metadata": {},
   "outputs": [
    {
     "name": "stdout",
     "output_type": "stream",
     "text": [
      "10\n",
      "Hello 0\n",
      "2020-11-30 00:49:07\n",
      "Hello 1\n",
      "2020-11-30 00:49:07\n",
      "Hello 202\n",
      "2020-11-30 00:49:0712\n",
      "\n",
      "Hello 3\n",
      "2020-11-30 00:49:07\n",
      "\n",
      "Hello 4\n",
      "2020-11-30 00:49:07\n",
      "Hello 5\n",
      "2020-11-30 00:49:07\n",
      "Hello 6\n",
      "2020-11-30 00:49:07\n",
      "Hello 7\n",
      "2020-11-30 00:49:07\n",
      "Hello 8\n",
      "2020-11-30 00:49:07\n",
      "Hello 9\n",
      "2020-11-30 00:49:07\n",
      "Hi 0\n",
      "2020-11-30 00:49:07\n",
      "Hi 1\n",
      "2020-11-30 00:49:07\n",
      "Hi 2\n",
      "2020-11-30 00:49:07\n",
      "Hi 3\n",
      "2020-11-30 00:49:07\n",
      "Hi 4\n",
      "2020-11-30 00:49:07\n",
      "Hi 5\n",
      "2020-11-30 00:49:07\n",
      "Hi 6\n",
      "2020-11-30 00:49:07\n",
      "Hi 7\n",
      "2020-11-30 00:49:07\n",
      "Hi 8\n",
      "2020-11-30 00:49:07\n",
      "Hi 9\n",
      "2020-11-30 00:49:07\n",
      "Hi 10\n",
      "2020-11-30 00:49:07\n",
      "Hi 11\n",
      "2020-11-30 00:49:07\n",
      "Welcome 0\n",
      "2020-11-30 00:49:07\n",
      "Welcome 1\n",
      "2020-11-30 00:49:07\n",
      "Welcome 2\n",
      "2020-11-30 00:49:07\n",
      "Welcome 3\n",
      "2020-11-30 00:49:07\n",
      "Welcome 4\n",
      "2020-11-30 00:49:07\n",
      "Welcome 5\n",
      "2020-11-30 00:49:07\n",
      "Welcome 6\n",
      "2020-11-30 00:49:07\n",
      "Welcome 7\n",
      "2020-11-30 00:49:07\n",
      "Welcome 8\n",
      "2020-11-30 00:49:07\n",
      "Welcome 9\n",
      "2020-11-30 00:49:07\n",
      "Welcome 10\n",
      "2020-11-30 00:49:07\n",
      "Welcome 11\n",
      "2020-11-30 00:49:07\n",
      "Welcome 12\n",
      "2020-11-30 00:49:07\n",
      "Welcome 13\n",
      "2020-11-30 00:49:07\n",
      "Welcome 14\n",
      "2020-11-30 00:49:07\n",
      "Welcome 15\n",
      "2020-11-30 00:49:07\n",
      "Welcome 16\n",
      "2020-11-30 00:49:07\n",
      "Welcome 17\n",
      "2020-11-30 00:49:07\n",
      "Welcome 18\n",
      "2020-11-30 00:49:07\n",
      "Welcome 19\n",
      "2020-11-30 00:49:07\n"
     ]
    }
   ],
   "source": [
    "x1.start()\n",
    "x2.start()\n",
    "x3.start()\n",
    "x3.join()"
   ]
  },
  {
   "cell_type": "markdown",
   "metadata": {},
   "source": [
    "#### Condition Objects"
   ]
  },
  {
   "cell_type": "code",
   "execution_count": 42,
   "metadata": {},
   "outputs": [
    {
     "name": "stderr",
     "output_type": "stream",
     "text": [
      "(consumer1) Consumer thread started ...\n",
      "(consumer1) Consumer waiting ...\n",
      "(consumer2) Consumer thread started ...\n",
      "(consumer2) Consumer waiting ...\n",
      "(producer ) Producer thread started ...\n",
      "(producer ) Making resource available\n",
      "(producer ) Notifying to all consumers\n",
      "(consumer2) Consumer consumed the resource\n",
      "(consumer1) Consumer consumed the resource\n"
     ]
    }
   ],
   "source": [
    "import threading\n",
    "import time\n",
    "import logging\n",
    "\n",
    "logging.basicConfig(level=logging.DEBUG,format='(%(threadName)-9s) %(message)s',)\n",
    "\n",
    "def consumer(cv):\n",
    "    logging.debug('Consumer thread started ...')\n",
    "    with cv:\n",
    "        logging.debug('Consumer waiting ...')\n",
    "        cv.wait()\n",
    "        logging.debug('Consumer consumed the resource')\n",
    "\n",
    "def producer(cv):\n",
    "    logging.debug('Producer thread started ...')\n",
    "    with cv:\n",
    "        logging.debug('Making resource available')\n",
    "        logging.debug('Notifying to all consumers')\n",
    "        cv.notifyAll()\n",
    "\n",
    "if __name__ == '__main__':\n",
    "    condition = threading.Condition()\n",
    "    cs1 = threading.Thread(name='consumer1', target=consumer, args=(condition,))\n",
    "    cs2 = threading.Thread(name='consumer2', target=consumer, args=(condition,))\n",
    "    pd = threading.Thread(name='producer', target=producer, args=(condition,))\n",
    "\n",
    "    cs1.start()\n",
    "    time.sleep(2)\n",
    "    cs2.start()\n",
    "    time.sleep(2)\n",
    "    pd.start()"
   ]
  },
  {
   "cell_type": "markdown",
   "metadata": {},
   "source": [
    "#### Semaphore "
   ]
  },
  {
   "cell_type": "code",
   "execution_count": 44,
   "metadata": {},
   "outputs": [
    {
     "name": "stderr",
     "output_type": "stream",
     "text": [
      "(0        ) Waiting to join the pool\n",
      "(0        ) Running: ['0']\n",
      "(1        ) Waiting to join the pool\n",
      "(2        ) Waiting to join the pool\n",
      "(3        ) Waiting to join the pool\n",
      "(1        ) Running: ['0', '1']\n",
      "(0        ) Running: ['1']\n",
      "(2        ) Running: ['1', '2']\n",
      "(1        ) Running: ['2']\n",
      "(3        ) Running: ['2', '3']\n",
      "(2        ) Running: ['3']\n",
      "(3        ) Running: []\n"
     ]
    }
   ],
   "source": [
    "import logging\n",
    "import random\n",
    "import threading\n",
    "import time\n",
    "\n",
    "logging.basicConfig(level=logging.DEBUG,\n",
    "                    format='%(asctime)s (%(threadName)-2s) %(message)s',\n",
    "                    )\n",
    "\n",
    "class ActivePool(object):\n",
    "    def __init__(self):\n",
    "        super(ActivePool, self).__init__()\n",
    "        self.active = []\n",
    "        self.lock = threading.Lock()\n",
    "    def makeActive(self, name):\n",
    "        with self.lock:\n",
    "            self.active.append(name)\n",
    "            logging.debug('Running: %s', self.active)\n",
    "    def makeInactive(self, name):\n",
    "        with self.lock:\n",
    "            self.active.remove(name)\n",
    "            logging.debug('Running: %s', self.active)\n",
    "\n",
    "def worker(s, pool):\n",
    "    logging.debug('Waiting to join the pool')\n",
    "    with s:\n",
    "        name = threading.currentThread().getName()\n",
    "        pool.makeActive(name)\n",
    "        time.sleep(0.1)\n",
    "        pool.makeInactive(name)\n",
    "\n",
    "pool = ActivePool()\n",
    "s = threading.Semaphore(2)\n",
    "for i in range(4):\n",
    "    t = threading.Thread(target=worker, name=str(i), args=(s, pool))\n",
    "    t.start()"
   ]
  },
  {
   "cell_type": "markdown",
   "metadata": {},
   "source": [
    "#### Events"
   ]
  },
  {
   "cell_type": "code",
   "execution_count": 43,
   "metadata": {},
   "outputs": [
    {
     "name": "stderr",
     "output_type": "stream",
     "text": [
      "(block    ) wait_for_event starting\n",
      "(non-block) wait_for_event_timeout starting\n",
      "(MainThread) Waiting before calling Event.set()\n",
      "(non-block) event set: False\n",
      "(non-block) doing other work\n",
      "(non-block) wait_for_event_timeout starting\n",
      "(MainThread) Event is set\n",
      "(block    ) event set: True\n",
      "(non-block) event set: True\n",
      "(non-block) processing event\n"
     ]
    }
   ],
   "source": [
    "import logging\n",
    "import threading\n",
    "import time\n",
    "\n",
    "logging.basicConfig(level=logging.DEBUG,\n",
    "                    format='(%(threadName)-10s) %(message)s',\n",
    "                    )\n",
    "                    \n",
    "def wait_for_event(e):\n",
    "    \"\"\"Wait for the event to be set before doing anything\"\"\"\n",
    "    logging.debug('wait_for_event starting')\n",
    "    event_is_set = e.wait()\n",
    "    logging.debug('event set: %s', event_is_set)\n",
    "\n",
    "def wait_for_event_timeout(e, t):\n",
    "    \"\"\"Wait t seconds and then timeout\"\"\"\n",
    "    while not e.isSet():\n",
    "        logging.debug('wait_for_event_timeout starting')\n",
    "        event_is_set = e.wait(t)\n",
    "        logging.debug('event set: %s', event_is_set)\n",
    "        if event_is_set:\n",
    "            logging.debug('processing event')\n",
    "        else:\n",
    "            logging.debug('doing other work')\n",
    "\n",
    "\n",
    "e = threading.Event()\n",
    "t1 = threading.Thread(name='block', \n",
    "                      target=wait_for_event,\n",
    "                      args=(e,))\n",
    "t1.start()\n",
    "\n",
    "t2 = threading.Thread(name='non-block', \n",
    "                      target=wait_for_event_timeout, \n",
    "                      args=(e, 2))\n",
    "t2.start()\n",
    "\n",
    "logging.debug('Waiting before calling Event.set()')\n",
    "time.sleep(3)\n",
    "e.set()\n",
    "logging.debug('Event is set')"
   ]
  }
 ],
 "metadata": {
  "kernelspec": {
   "display_name": "Python 3",
   "language": "python",
   "name": "python3"
  },
  "language_info": {
   "codemirror_mode": {
    "name": "ipython",
    "version": 3
   },
   "file_extension": ".py",
   "mimetype": "text/x-python",
   "name": "python",
   "nbconvert_exporter": "python",
   "pygments_lexer": "ipython3",
   "version": "3.7.3"
  }
 },
 "nbformat": 4,
 "nbformat_minor": 2
}
