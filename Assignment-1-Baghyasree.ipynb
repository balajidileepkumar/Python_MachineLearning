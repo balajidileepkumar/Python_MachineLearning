{
 "cells": [
  {
   "cell_type": "code",
   "execution_count": 1,
   "metadata": {},
   "outputs": [
    {
     "name": "stdout",
     "output_type": "stream",
     "text": [
      "enter a string:mam\n",
      "mam\n",
      "True\n"
     ]
    }
   ],
   "source": [
    "name=input(\"enter a string:\")\n",
    "a=name[::-1]\n",
    "print(a)\n",
    "if (name==a):\n",
    "   print(\"True\")\n",
    "\n",
    "else:\n",
    "   print(\"False\")"
   ]
  },
  {
   "cell_type": "code",
   "execution_count": 2,
   "metadata": {},
   "outputs": [
    {
     "name": "stdout",
     "output_type": "stream",
     "text": [
      "Enter a string:hello wolrd\n",
      "1\n"
     ]
    }
   ],
   "source": [
    "j=0\n",
    "s=input(\"Enter a string:\")\n",
    "for i in s:\n",
    "    if(i==\" \"):\n",
    "        j=j+1\n",
    "print(j)"
   ]
  },
  {
   "cell_type": "code",
   "execution_count": 3,
   "metadata": {},
   "outputs": [
    {
     "name": "stdout",
     "output_type": "stream",
     "text": [
      "enter a string:Abc12%$34Bc)(jknsd\n",
      "['%', '$', ')', '(']\n"
     ]
    }
   ],
   "source": [
    "import re\n",
    "s=input(\"enter a string:\")\n",
    "a=re.findall(\"[^0-9a-zA-Z]\",s)\n",
    "print(a)\n"
   ]
  },
  {
   "cell_type": "code",
   "execution_count": 4,
   "metadata": {},
   "outputs": [
    {
     "name": "stdout",
     "output_type": "stream",
     "text": [
      "enter a stringEducation\n",
      "a-1 ,e-1 ,i-1 ,o-1 ,u-1\n"
     ]
    }
   ],
   "source": [
    "word=input(\"enter a string\")\n",
    "y=0\n",
    "z=0\n",
    "h=0\n",
    "j=0\n",
    "k=0\n",
    "for x in word:\n",
    "  if (x==\"a\")or(x==\"A\"):\n",
    "     y=y+1\n",
    "     \n",
    "  elif (x==\"e\")or(x==\"E\"):\n",
    "     z=z+1\n",
    "     \n",
    "  elif (x==\"i\")or(x==\"I\"):\n",
    "     h=h+1\n",
    "       \n",
    "  elif (x==\"o\")or(x==\"O\"):\n",
    "     j=j+1\n",
    "     \n",
    "  elif (x==\"u\")or(x==\"U\"):\n",
    "     k=k+1\n",
    "    \n",
    "print(f\"a-{y} ,e-{z} ,i-{h} ,o-{j} ,u-{k}\")\n"
   ]
  },
  {
   "cell_type": "code",
   "execution_count": 5,
   "metadata": {},
   "outputs": [
    {
     "name": "stdout",
     "output_type": "stream",
     "text": [
      "0\n",
      "1\n",
      "1\n",
      "2\n",
      "3\n",
      "5\n",
      "8\n",
      "13\n",
      "21\n",
      "34\n"
     ]
    }
   ],
   "source": [
    "a=0\n",
    "b=1\n",
    "c=0\n",
    "i=1\n",
    "print(a)\n",
    "print(b)\n",
    "while (i<9):\n",
    "    c=a+b\n",
    "    print(c)\n",
    "    i=i+1\n",
    "    a=b\n",
    "    b=c\n",
    "    \n"
   ]
  },
  {
   "cell_type": "code",
   "execution_count": 7,
   "metadata": {},
   "outputs": [
    {
     "name": "stdout",
     "output_type": "stream",
     "text": [
      "[True, False]\n"
     ]
    }
   ],
   "source": [
    "import re\n",
    "s=[\"ababa\",\"ababca\"]\n",
    "def fun(string):\n",
    "    res=re.findall(\"[aeiou]\",string)\n",
    "    res_1=re.findall(\"[^aeiou]\",string)\n",
    "    a=len(res)\n",
    "    b=len(res_1)\n",
    "    return(a>b)\n",
    "print(list(map(fun,s)))\n"
   ]
  },
  {
   "cell_type": "code",
   "execution_count": 9,
   "metadata": {},
   "outputs": [
    {
     "name": "stdout",
     "output_type": "stream",
     "text": [
      "enter the number:6\n",
      "720\n"
     ]
    }
   ],
   "source": [
    "a=int(input(\"enter the number:\"))\n",
    "b=1\n",
    "if(a==0):\n",
    "    print(\"1\")\n",
    "elif(a>=1):\n",
    "\n",
    "    for i in range(1,a+1):\n",
    "\n",
    "        b=i*b\n",
    "    print(f\"{b}\")\n"
   ]
  },
  {
   "cell_type": "code",
   "execution_count": 10,
   "metadata": {},
   "outputs": [
    {
     "name": "stdout",
     "output_type": "stream",
     "text": [
      "[{'Regular': 2}, {'expressions': 4}, {'are': 1}, {'text': 2}, {'matching': 2}, {'patterns': 1}, {'described': 1}, {'with': 2}, {'a': 3}, {'formal': 1}, {'syntax': 1}, {'You': 1}, {'ll': 2}, {'often': 1}, {'hear': 1}, {'regular': 2}, {'expressions': 4}, {'referred': 1}, {'to': 2}, {'as': 1}, {'regex': 1}, {'or': 1}, {'regexp': 1}, {'in': 2}, {'conversation': 1}, {'Regular': 2}, {'expressions': 4}, {'can': 2}, {'include': 1}, {'a': 3}, {'variety': 1}, {'of': 2}, {'rules': 1}, {'from': 1}, {'finding': 1}, {'repetition': 1}, {'to': 2}, {'text': 2}, {'matching': 2}, {'and': 1}, {'much': 1}, {'more': 1}, {'As': 1}, {'you': 2}, {'advance': 1}, {'in': 2}, {'Python': 1}, {'you': 2}, {'ll': 2}, {'see': 1}, {'that': 1}, {'a': 3}, {'lot': 1}, {'of': 2}, {'your': 1}, {'parsing': 1}, {'problems': 1}, {'can': 2}, {'be': 1}, {'solved': 1}, {'with': 2}, {'regular': 2}, {'expressions': 4}]\n"
     ]
    }
   ],
   "source": [
    "import re\n",
    "s=\"Regular expressions are text-matching patterns described with a formal syntax. You'll often hear regular expressions referred to as 'regex' or 'regexp' in conversation. Regular expressions can include a variety of rules, from finding repetition, to text-matching, and much more. As you advance in Python you'll see that a lot of your parsing problems can be solved with regular expressions\"\n",
    "res=re.findall(\"\\w+\",s)\n",
    "print([{x:res.count(x)}for x in res])\n"
   ]
  },
  {
   "cell_type": "code",
   "execution_count": 11,
   "metadata": {},
   "outputs": [
    {
     "name": "stdout",
     "output_type": "stream",
     "text": [
      "{1: {'square': 1, 'cube': 1}, 2: {'square': 4, 'cube': 8}, 3: {'square': 9, 'cube': 27}, 4: {'square': 16, 'cube': 64}, 5: {'square': 25, 'cube': 125}, 6: {'square': 36, 'cube': 216}, 7: {'square': 49, 'cube': 343}, 8: {'square': 64, 'cube': 512}, 9: {'square': 81, 'cube': 729}, 10: {'square': 100, 'cube': 1000}, 11: {'square': 121, 'cube': 1331}, 12: {'square': 144, 'cube': 1728}, 13: {'square': 169, 'cube': 2197}, 14: {'square': 196, 'cube': 2744}, 15: {'square': 225, 'cube': 3375}, 16: {'square': 256, 'cube': 4096}, 17: {'square': 289, 'cube': 4913}, 18: {'square': 324, 'cube': 5832}, 19: {'square': 361, 'cube': 6859}, 20: {'square': 400, 'cube': 8000}}\n"
     ]
    }
   ],
   "source": [
    "def squares(s):\n",
    "    res=s*s\n",
    "    return res\n",
    "def cubes(s):\n",
    "    res_1=s*s*s\n",
    "    return res_1\n",
    "\n",
    "print({i:{\"square\":squares(i),\"cube\":cubes(i)} for i in range(1,21)})\n"
   ]
  },
  {
   "cell_type": "code",
   "execution_count": 12,
   "metadata": {},
   "outputs": [
    {
     "name": "stdout",
     "output_type": "stream",
     "text": [
      "['good', 'yes', 'good', 2, 3, 4, 5, 62, 2] <class 'list'>\n",
      "['good', 2]\n"
     ]
    }
   ],
   "source": [
    "s=list()\n",
    "s=[\"good\",\"yes\",\"good\",2,3,4,5,62,2]\n",
    "a=[]\n",
    "print(s,type(s))\n",
    "for i in s:\n",
    "    if i not in a:\n",
    "        if(s.count(i)>1):\n",
    "            a.append(i)\n",
    "print(a)\n"
   ]
  },
  {
   "cell_type": "code",
   "execution_count": 13,
   "metadata": {},
   "outputs": [
    {
     "name": "stdout",
     "output_type": "stream",
     "text": [
      "['good', 'yes', 'good', 2, 3, 4, 5, 62, 2] <class 'list'>\n",
      "['good', 2]\n",
      "index of good is 0\n",
      "index of 2 is 3\n"
     ]
    }
   ],
   "source": [
    "\n",
    "s=list()\n",
    "s=[\"good\",\"yes\",\"good\",2,3,4,5,62,2]\n",
    "a=[]\n",
    "print(s,type(s))\n",
    "for i in s:\n",
    "    if i not in a:\n",
    "        if(s.count(i)>1):\n",
    "            a.append(i)\n",
    "print(a)\n",
    "for i in a:\n",
    "    print(\"index of {} is {}\".format(i,s.index(i)))\n"
   ]
  },
  {
   "cell_type": "code",
   "execution_count": null,
   "metadata": {},
   "outputs": [],
   "source": []
  }
 ],
 "metadata": {
  "kernelspec": {
   "display_name": "Python 3",
   "language": "python",
   "name": "python3"
  },
  "language_info": {
   "codemirror_mode": {
    "name": "ipython",
    "version": 3
   },
   "file_extension": ".py",
   "mimetype": "text/x-python",
   "name": "python",
   "nbconvert_exporter": "python",
   "pygments_lexer": "ipython3",
   "version": "3.8.1"
  }
 },
 "nbformat": 4,
 "nbformat_minor": 4
}
