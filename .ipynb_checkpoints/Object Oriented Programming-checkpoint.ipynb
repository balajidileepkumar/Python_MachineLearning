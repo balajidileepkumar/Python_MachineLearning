{
 "cells": [
  {
   "cell_type": "markdown",
   "metadata": {
    "collapsed": true
   },
   "source": [
    "# Object Oriented Programming\n",
    "\n",
    "Object Oriented Programming (OOP) tends to be one of the major obstacles for beginners when they are first starting to learn Python.\n",
    "\n",
    "There are many,many tutorials and lessons covering OOP so feel free to Google search other lessons, and I have also put some links to other useful tutorials online at the bottom of this Notebook.\n",
    "\n",
    "For this lesson we will construct our knowledge of OOP in Python by building on the following topics:\n",
    "\n",
    "* Objects\n",
    "* Using the *class* keyword\n",
    "* Creating class attributes\n",
    "* Creating methods in a class\n",
    "* Learning about Inheritance\n",
    "* Learning about Special Methods for classes\n",
    "\n",
    "Lets start the lesson by remembering about the Basic Python Objects. For example:"
   ]
  },
  {
   "cell_type": "code",
   "execution_count": null,
   "metadata": {},
   "outputs": [],
   "source": [
    "l = [1,2,3]"
   ]
  },
  {
   "cell_type": "markdown",
   "metadata": {},
   "source": [
    "Remember how we could call methods on a list?"
   ]
  },
  {
   "cell_type": "code",
   "execution_count": null,
   "metadata": {},
   "outputs": [],
   "source": [
    "l.count(2)"
   ]
  },
  {
   "cell_type": "markdown",
   "metadata": {},
   "source": [
    "What we will basically be doing in this lecture is exploring how we could create an Object type like a list. We've already learned about how to create functions. So lets explore Objects in general:\n",
    "\n",
    "## Objects\n",
    "In Python, *everything is an object*. Remember from previous lectures we can use type() to check the type of object something is:"
   ]
  },
  {
   "cell_type": "code",
   "execution_count": null,
   "metadata": {},
   "outputs": [],
   "source": [
    "print type(1)\n",
    "print type([])\n",
    "print type(())\n",
    "print type({})"
   ]
  },
  {
   "cell_type": "markdown",
   "metadata": {},
   "source": [
    "So we know all these things are objects, so how can we create our own Object types? That is where the *class* keyword comes in.\n",
    "##class\n",
    "The user defined objects are created using the class keyword. The class is a blueprint that defines a nature of a future object. From classes we can construct instances. An instance is a specific object created from a particular class. For example, above we created the object 'l' which was an instance of a list object. \n",
    "\n",
    "Let see how we can use **class**:"
   ]
  },
  {
   "cell_type": "code",
   "execution_count": null,
   "metadata": {},
   "outputs": [],
   "source": [
    "# Create a new object type called Sample\n",
    "class Sample(object):\n",
    "    pass\n",
    "\n",
    "# Instance of Sample\n",
    "x = Sample()\n",
    "\n",
    "print type(x)"
   ]
  },
  {
   "cell_type": "markdown",
   "metadata": {},
   "source": [
    "By convention we give classes a name that starts with a capital letter. Note how x is now the reference to our new instance of a Sample class. In other words, we **instantiate** the Sample class.\n",
    "\n",
    "Inside of the class we currently just have pass. But we can define class attributes and methods.\n",
    "\n",
    "An **attribute** is a characteristic of an object.\n",
    "A **method** is an operation we can perform with the object.\n",
    "\n",
    "For example we can create a class called Dog. An attribute of a dog may be its breed or its name, while a method of a dog may be defined by a .bark() method which returns a sound.\n",
    "\n",
    "Let's get a better understanding of attributes through an example.\n",
    "\n",
    "##Attributes\n",
    "The syntax for creating an attribute is:\n",
    "    \n",
    "    self.attribute = something\n",
    "    \n",
    "There is a special method called:\n",
    "\n",
    "    __init__()\n",
    "\n",
    "This method is used to initialize the attributes of an object. For example:"
   ]
  },
  {
   "cell_type": "code",
   "execution_count": null,
   "metadata": {},
   "outputs": [],
   "source": [
    "class Dog(object):\n",
    "    def __init__(self,beed):\n",
    "        self.breed = beed\n",
    "        \n",
    "sam = Dog(breed='Lab')\n",
    "frank = Dog(breed='Huskie')"
   ]
  },
  {
   "cell_type": "markdown",
   "metadata": {},
   "source": [
    "Lets break down what we have above.The special method \n",
    "\n",
    "    __init__() \n",
    "is called automatically right after the object has been created:\n",
    "\n",
    "    def __init__(self, breed):\n",
    "Each attribute in a class definition begins with a reference to the instance object. It is by convention named self. The breed is the argument. The value is passed during the class instantiation.\n",
    "\n",
    "     self.breed = breed"
   ]
  },
  {
   "cell_type": "markdown",
   "metadata": {},
   "source": [
    "Now we have created two instances of the Dog class. With two breed types, we can then access these attributes like this:"
   ]
  },
  {
   "cell_type": "code",
   "execution_count": null,
   "metadata": {},
   "outputs": [],
   "source": [
    "sam.breed"
   ]
  },
  {
   "cell_type": "code",
   "execution_count": null,
   "metadata": {},
   "outputs": [],
   "source": [
    "frank.breed"
   ]
  },
  {
   "cell_type": "markdown",
   "metadata": {},
   "source": [
    "Note how we don't have any parenthesis after breed, this is because it is an attribute and doesn't take any arguments.\n",
    "\n",
    "In Python there are also *class object attributes*. These Class Object Attributes are the same for any instance of the class. For example, we could create the attribute *species* for the Dog class. Dogs (regardless of their breed,name, or other attributes will always be mammals. We apply this logic in the following manner:"
   ]
  },
  {
   "cell_type": "code",
   "execution_count": null,
   "metadata": {},
   "outputs": [],
   "source": [
    "class Dog(object):\n",
    "    \n",
    "    # Class Object Attribute\n",
    "    species = 'mammal'\n",
    "    \n",
    "    def __init__(self,breed,name):\n",
    "        self.breed = breed\n",
    "        self.name = name"
   ]
  },
  {
   "cell_type": "code",
   "execution_count": null,
   "metadata": {},
   "outputs": [],
   "source": [
    "sam = Dog('Lab','Sam')"
   ]
  },
  {
   "cell_type": "code",
   "execution_count": null,
   "metadata": {},
   "outputs": [],
   "source": [
    "sam.name"
   ]
  },
  {
   "cell_type": "markdown",
   "metadata": {},
   "source": [
    "Note that the Class Object Attribute is defined outside of any methods in the class. Also by convention, we place them first before the init."
   ]
  },
  {
   "cell_type": "code",
   "execution_count": null,
   "metadata": {},
   "outputs": [],
   "source": [
    "sam.species"
   ]
  },
  {
   "cell_type": "markdown",
   "metadata": {},
   "source": [
    "## Methods\n",
    "\n",
    "Methods are functions defined inside the body of a class. They are used to perform operations with the attributes of our objects. Methods are essential in encapsulation concept of the OOP paradigm. This is essential in dividing responsibilities in programming, especially in large applications.\n",
    "\n",
    "You can basically think of methods as functions acting on an Object that take the Object itself into account through its *self* argument.\n",
    "\n",
    "Lets go through an example of creating a Circle class:"
   ]
  },
  {
   "cell_type": "code",
   "execution_count": null,
   "metadata": {},
   "outputs": [],
   "source": [
    "class Circle(object):\n",
    "    pi = 3.14\n",
    "\n",
    "    # Circle get instantiated with a radius (default is 1)\n",
    "    def __init__(self, radius=1):\n",
    "        self.radius = radius \n",
    "        self._myradius = radius\n",
    "\n",
    "    # Area method calculates the area. Note the use of self.\n",
    "    def area(self):\n",
    "        return self.radius * self.radius * Circle.pi\n",
    "\n",
    "    # Method for resetting Radius\n",
    "    def setRadius(self, radius):\n",
    "        self.radius = radius\n",
    "\n",
    "    # Method for getting radius (Same as just calling .radius)\n",
    "    def getRadius(self):\n",
    "        print(self.radius)\n",
    "        print(self._myradius)\n",
    "        return self.radius\n",
    "    #def getRadius(self):\n",
    "\n",
    "\n",
    "c = Circle()\n",
    "\n",
    "c.setRadius(2)\n",
    "#print(c.radius)\n",
    "#print(c._myradius)\n",
    "print('Radius is: {} '.format(c.getRadius()))\n",
    "print('Area is: {}'.format(c.area()))"
   ]
  },
  {
   "cell_type": "markdown",
   "metadata": {},
   "source": [
    "Great! Notice how we used self. notation to reference attributes of the class within the method calls. Review how the code above works and try creating your own method\n",
    "\n",
    "## Inheritance\n",
    "\n",
    "Inheritance is a way to form new classes using classes that have already been defined. The newly formed classes are called derived classes, the classes that we derive from are called base classes. Important benefits of inheritance are code reuse and reduction of complexity of a program. The derived classes (descendants) override or extend the functionality of base classes (ancestors).\n",
    "\n",
    "Lets see an example by incorporating our previous work on the Dog class:"
   ]
  },
  {
   "cell_type": "code",
   "execution_count": null,
   "metadata": {},
   "outputs": [],
   "source": [
    "class Animal(object):\n",
    "    def __init__(self):\n",
    "        print(\"Animal created\")\n",
    "\n",
    "    def whoAmI(self):\n",
    "        print(\"Animal\")\n",
    "\n",
    "    def eat(self):\n",
    "        print(\"Eating\")\n",
    "        \n",
    "    def Run(self):\n",
    "        print(\"Animals can Run\")\n",
    "\n",
    "class Bird(object):\n",
    "    def __init__(self):\n",
    "        print(\"Bird created\")\n",
    "\n",
    "    def whoAmI(self):\n",
    "        print(\"Bird\")\n",
    "\n",
    "    def fly(self):\n",
    "        print(\"Bird Flyin\")\n",
    "\n",
    "\n",
    "class Dog(Animal):\n",
    "    def __init__(self):\n",
    "        Animal.__init__(self)\n",
    "        print(\"Dog created\")\n",
    "\n",
    "    def whoAmI(self):\n",
    "        print(\"Dog\")\n",
    "\n",
    "    def bark(self):\n",
    "        print(\"Woof!\")\n",
    "\n",
    "class Puppy(Dog):\n",
    "    def __init__(self):\n",
    "        Animal.__init__(self)\n",
    "        super().__init__()\n",
    "        print(\"Dog created\")\n",
    "\n",
    "    def whoAmI(self):\n",
    "        print(\"Dog\")\n",
    "\n",
    "    def play(self):\n",
    "        print(\"!!!!\")\n",
    "\n",
    "class Penguin(Animal,Bird):\n",
    "    def __init__(self):\n",
    "        Animal.__init__(self)\n",
    "        Bird.__init__(self)\n",
    "        print(\"Penguin created\")\n",
    "\n",
    "    def whoAmI(self):\n",
    "        print(\"Penguin\")\n",
    "\n",
    "    def swim(self):\n",
    "        print(\"PenguinSwimming!\")"
   ]
  },
  {
   "cell_type": "code",
   "execution_count": null,
   "metadata": {},
   "outputs": [],
   "source": [
    "print(\"###########################\")\n",
    "d = Dog()\n",
    "d.Run()\n",
    "d.bark()\n",
    "print(\"###########################\")\n",
    "e= Penguin()\n",
    "e.fly()\n",
    "e.Run()\n",
    "print(\"###########################\")\n",
    "f = Puppy()\n",
    "f.Run()\n",
    "print(\"###########################\")\n",
    "\n"
   ]
  },
  {
   "cell_type": "code",
   "execution_count": null,
   "metadata": {},
   "outputs": [],
   "source": [
    "try:\n",
    "    a =Animal()\n",
    "    a.Run()\n",
    "    print(\"###########################\")\n",
    "except Exception as e11:\n",
    "    print(\"exception occured \",e11)\n",
    "else:\n",
    "    print(\"No Exception Occured.\")\n",
    "finally:\n",
    "    print(\"print Regardless of exceptions\")"
   ]
  },
  {
   "cell_type": "code",
   "execution_count": null,
   "metadata": {},
   "outputs": [],
   "source": [
    "d.whoAmI()"
   ]
  },
  {
   "cell_type": "code",
   "execution_count": null,
   "metadata": {},
   "outputs": [],
   "source": [
    "d.eat()"
   ]
  },
  {
   "cell_type": "code",
   "execution_count": null,
   "metadata": {},
   "outputs": [],
   "source": [
    "d.bark()"
   ]
  },
  {
   "cell_type": "markdown",
   "metadata": {},
   "source": [
    "### Super Function"
   ]
  },
  {
   "cell_type": "code",
   "execution_count": 1,
   "metadata": {},
   "outputs": [],
   "source": [
    "class Mammal(object):\n",
    "    def __init__(self, mammalName):\n",
    "        print(mammalName, 'is a warm-blooded animal.')\n",
    "    def chirp(self):\n",
    "        print(\"Birds Chirping\")\n",
    "    def run(self):\n",
    "        print(\"I run slowly\")\n",
    "    \n",
    "\n",
    "    \n",
    "class Mammal2(object):\n",
    "    def __init__(self, mammalName):\n",
    "        print(mammalName, 'is a warm-blooded animal2.')\n",
    "    def bark(self):\n",
    "        print(\"barking\")\n",
    "    def run(self):\n",
    "        print(\"I run fastly\")\n",
    "        \n",
    "class Dog1(Mammal2,Mammal):\n",
    "    def __init__(self):\n",
    "        print('Dog has four legs.')\n",
    "#a = Mammal2(\"Dogs1\")\n",
    "        super().__init__(\"Kitty\")\n",
    "#super().bark()\n",
    "#Mammal2.__init__('Dogs')\n",
    "    \n",
    "class Bird1(Mammal,Mammal2):\n",
    "    def __init__(self):\n",
    "        print('BIrd has Two legs.')\n",
    "    #a = Mammal2(\"Dogs1\")\n",
    "        super().__init__(\"Tweety\")\n",
    "        super().chirp()\n",
    "    #Mammal2.__init__('Dogs')\n",
    "    "
   ]
  },
  {
   "cell_type": "code",
   "execution_count": 44,
   "metadata": {},
   "outputs": [
    {
     "name": "stdout",
     "output_type": "stream",
     "text": [
      "################################\n",
      "Dog has four legs.\n",
      "Kitty is a warm-blooded animal2.\n",
      "I run fastly\n",
      "################################\n",
      "BIrd has Two legs.\n",
      "Tweety is a warm-blooded animal.\n",
      "Birds Chirping\n",
      "Birds Chirping\n",
      "barking\n",
      "I run slowly\n",
      "################################\n",
      "I run fastly\n",
      "################################\n"
     ]
    }
   ],
   "source": [
    "print(\"################################\")\n",
    "d1 = Dog1()\n",
    "d1.run()\n",
    "print(\"################################\")\n",
    "d2 = Bird1()\n",
    "d2.chirp()\n",
    "d2.bark()\n",
    "d2.run()\n",
    "print(\"################################\")\n",
    "d1.run()\n",
    "print(\"################################\")"
   ]
  },
  {
   "cell_type": "markdown",
   "metadata": {},
   "source": [
    "### Create a computer  object from many of its parts (RAM, CPU, Processor, Keyboard, Mouse, Display) as it's parent classes..\n"
   ]
  },
  {
   "cell_type": "markdown",
   "metadata": {},
   "source": [
    "In this example, we have two classes: Animal and Dog. The Animal is the base class, the Dog is the derived class. \n",
    "\n",
    "The derived class inherits the functionality of the base class. \n",
    "\n",
    "* It is shown by the eat() method. \n",
    "\n",
    "The derived class modifies existing behavior of the base class.\n",
    "\n",
    "* shown by the whoAmI() method. \n",
    "\n",
    "Finally, the derived class extends the functionality of the base class, by defining a new bark() method."
   ]
  },
  {
   "cell_type": "markdown",
   "metadata": {},
   "source": [
    "### Encapsulation and Abstraction\n",
    "<ul>\n",
    "<li>**Encapsulation** is a way to achieve \"information hiding\" so, following your example, you don't \"need to know the internal working of the mobile phone to operate\" with it. You have an interface to use the device behaviour without knowing implementation details.</li>\n",
    "<li>**Abstraction** on the other side, can be explained as the capability to use the same interface for different objects. Different implementations of the same interface can exist. Details are hidden by encapsulation.</li>\n",
    "</ul>"
   ]
  },
  {
   "cell_type": "markdown",
   "metadata": {},
   "source": [
    "### Encapsulation"
   ]
  },
  {
   "cell_type": "code",
   "execution_count": 25,
   "metadata": {},
   "outputs": [
    {
     "name": "stdout",
     "output_type": "stream",
     "text": [
      "###############print variables#####################\n",
      "Inside robot constructor\n",
      "123\n",
      "124\n",
      "###############calling methods#####################\n",
      "Inside subrobot constructor\n",
      "123\n",
      "124\n",
      "Inside sum function of robot\n",
      "248\n",
      "Inside sum 1 function of robot\n",
      "10\n",
      "21\n",
      "####################################\n",
      "Inside subrobot constructor\n",
      "123\n",
      "10\n",
      "####################################\n",
      "Inside subrobot_1 constructor\n",
      "I am subrobot version 1\n",
      "10\n"
     ]
    },
    {
     "ename": "AttributeError",
     "evalue": "'super' object has no attribute 'a'",
     "output_type": "error",
     "traceback": [
      "\u001b[1;31m---------------------------------------------------------------------------\u001b[0m",
      "\u001b[1;31mAttributeError\u001b[0m                            Traceback (most recent call last)",
      "\u001b[1;32m<ipython-input-25-4cbbcbd50fc2>\u001b[0m in \u001b[0;36m<module>\u001b[1;34m\u001b[0m\n\u001b[0;32m     61\u001b[0m \u001b[1;31m#print(obj.__c)\u001b[0m\u001b[1;33m\u001b[0m\u001b[1;33m\u001b[0m\u001b[0m\n\u001b[0;32m     62\u001b[0m \u001b[0mprint\u001b[0m\u001b[1;33m(\u001b[0m\u001b[1;34m\"####################################\"\u001b[0m\u001b[1;33m)\u001b[0m\u001b[1;33m\u001b[0m\u001b[0m\n\u001b[1;32m---> 63\u001b[1;33m \u001b[0mobj_subrobot\u001b[0m \u001b[1;33m=\u001b[0m \u001b[0mSubRobot_1\u001b[0m\u001b[1;33m(\u001b[0m\u001b[1;33m)\u001b[0m\u001b[1;33m\u001b[0m\u001b[0m\n\u001b[0m",
      "\u001b[1;32m<ipython-input-25-4cbbcbd50fc2>\u001b[0m in \u001b[0;36m__init__\u001b[1;34m(self)\u001b[0m\n\u001b[0;32m     35\u001b[0m         \u001b[0mprint\u001b[0m\u001b[1;33m(\u001b[0m\u001b[1;34m\"I am subrobot version 1\"\u001b[0m\u001b[1;33m)\u001b[0m\u001b[1;33m\u001b[0m\u001b[0m\n\u001b[0;32m     36\u001b[0m         \u001b[0mprint\u001b[0m\u001b[1;33m(\u001b[0m\u001b[0msuper\u001b[0m\u001b[1;33m(\u001b[0m\u001b[1;33m)\u001b[0m\u001b[1;33m.\u001b[0m\u001b[0md\u001b[0m\u001b[1;33m)\u001b[0m\u001b[1;33m\u001b[0m\u001b[0m\n\u001b[1;32m---> 37\u001b[1;33m         \u001b[0mprint\u001b[0m\u001b[1;33m(\u001b[0m\u001b[0msuper\u001b[0m\u001b[1;33m(\u001b[0m\u001b[1;33m)\u001b[0m\u001b[1;33m.\u001b[0m\u001b[0ma\u001b[0m\u001b[1;33m,\u001b[0m\u001b[0msuper\u001b[0m\u001b[1;33m(\u001b[0m\u001b[1;33m)\u001b[0m\u001b[1;33m.\u001b[0m\u001b[0m_b\u001b[0m\u001b[1;33m,\u001b[0m\u001b[0msuper\u001b[0m\u001b[1;33m(\u001b[0m\u001b[1;33m)\u001b[0m\u001b[1;33m.\u001b[0m\u001b[0m__c\u001b[0m\u001b[1;33m)\u001b[0m\u001b[1;33m\u001b[0m\u001b[0m\n\u001b[0m\u001b[0;32m     38\u001b[0m         \u001b[1;32mpass\u001b[0m\u001b[1;33m\u001b[0m\u001b[0m\n\u001b[0;32m     39\u001b[0m         \u001b[1;31m#print(instance1.a)\u001b[0m\u001b[1;33m\u001b[0m\u001b[1;33m\u001b[0m\u001b[0m\n",
      "\u001b[1;31mAttributeError\u001b[0m: 'super' object has no attribute 'a'"
     ]
    }
   ],
   "source": [
    "class Robot(object):\n",
    "    d = 10\n",
    "    \n",
    "    def __init__(self):\n",
    "        print(\"Inside robot constructor\")\n",
    "        self.a = 123\n",
    "        self._b = 124\n",
    "        self.__c = 125\n",
    "        self._e =11\n",
    "        \n",
    "    def sum(self):\n",
    "        print(\"Inside sum function of robot\")\n",
    "        return self.a+self.__c\n",
    "    \n",
    "    def sum1(self):\n",
    "        print(\"Inside sum 1 function of robot\")\n",
    "        #return self.a+self.__c\n",
    "        print(Robot.d)\n",
    "        return Robot.d + self._e\n",
    "        \n",
    "class SubRobot(Robot):\n",
    "    def __init__(self, instance1):\n",
    "        print(\"Inside subrobot constructor\")\n",
    "        print(instance1.a)\n",
    "        print(instance1._b)\n",
    "    #print(instance1.__c)\n",
    "\n",
    "    #print(Robot.b)\n",
    "    #print(Robot.c)\n",
    "        \n",
    "class SubRobot_1(Robot):\n",
    "    def __init__(self):\n",
    "        \n",
    "        print(\"Inside subrobot_1 constructor\")\n",
    "        print(\"I am subrobot version 1\")\n",
    "        print(super().d)\n",
    "        print(super().a,super()._b,super().__c)\n",
    "        pass\n",
    "        #print(instance1.a)\n",
    "        #print(instance1._b)\n",
    "    #print(instance1.__c)\n",
    "\n",
    "    #print(Robot.b)\n",
    "    #print(Robot.c)\n",
    "                \n",
    "print(\"###############print variables#####################\")\n",
    "obj = Robot()\n",
    "print(obj.a)\n",
    "print(obj._b)\n",
    "#print(obj.__c)\n",
    "print(\"###############calling methods#####################\")\n",
    "obj1 = SubRobot(obj)\n",
    "print(obj.sum())\n",
    "print(obj.sum1())\n",
    "print(\"####################################\")\n",
    "\n",
    "#print(Robot.a)\n",
    "#print(Robot._b)\n",
    "obj._b = 10 \n",
    "obj1 = SubRobot(obj)\n",
    "#print(obj.__c)\n",
    "print(\"####################################\")\n",
    "obj_subrobot = SubRobot_1()"
   ]
  },
  {
   "cell_type": "code",
   "execution_count": 32,
   "metadata": {},
   "outputs": [
    {
     "name": "stdout",
     "output_type": "stream",
     "text": [
      "22\n",
      "Given Version Set\n",
      "23\n"
     ]
    },
    {
     "ename": "NameError",
     "evalue": "name '__obj' is not defined",
     "output_type": "error",
     "traceback": [
      "\u001b[1;31m---------------------------------------------------------------------------\u001b[0m",
      "\u001b[1;31mNameError\u001b[0m                                 Traceback (most recent call last)",
      "\u001b[1;32m<ipython-input-32-5a3a900b5d84>\u001b[0m in \u001b[0;36m<module>\u001b[1;34m\u001b[0m\n\u001b[0;32m     21\u001b[0m \u001b[1;31m#obj.__printVersionprivate()\u001b[0m\u001b[1;33m\u001b[0m\u001b[1;33m\u001b[0m\u001b[0m\n\u001b[0;32m     22\u001b[0m \u001b[1;33m\u001b[0m\u001b[0m\n\u001b[1;32m---> 23\u001b[1;33m \u001b[0mprint\u001b[0m\u001b[1;33m(\u001b[0m\u001b[0m__obj\u001b[0m\u001b[1;33m.\u001b[0m\u001b[0m__printVersionprivate\u001b[0m\u001b[1;33m(\u001b[0m\u001b[1;33m)\u001b[0m\u001b[1;33m)\u001b[0m\u001b[1;33m\u001b[0m\u001b[0m\n\u001b[0m\u001b[0;32m     24\u001b[0m \u001b[1;33m\u001b[0m\u001b[0m\n\u001b[0;32m     25\u001b[0m \u001b[0mprint\u001b[0m\u001b[1;33m(\u001b[0m\u001b[0mobj\u001b[0m\u001b[1;33m.\u001b[0m\u001b[0m__version\u001b[0m\u001b[1;33m)\u001b[0m\u001b[1;33m\u001b[0m\u001b[0m\n",
      "\u001b[1;31mNameError\u001b[0m: name '__obj' is not defined"
     ]
    }
   ],
   "source": [
    "class Robot(object):\n",
    "    def __init__(self):\n",
    "        self.__version = 22\n",
    "\n",
    "    def getVersion(self):\n",
    "        print(self.__version)\n",
    "\n",
    "    def setVersion(self, version):\n",
    "        self.__version = version\n",
    "        print(\"Given Version Set\")\n",
    "        \n",
    "    def printVersion(self):\n",
    "        print(self.__version)\n",
    "\n",
    "    def __printVersionprivate(self):\n",
    "        print(self.__version)\n",
    "obj = Robot()\n",
    "obj.getVersion()\n",
    "obj.setVersion(23)\n",
    "obj.printVersion()\n",
    "#obj.__printVersionprivate()\n",
    "\n",
    "#print(__obj.__printVersionprivate())\n",
    "\n",
    "print(obj.__version)\n",
    "\n",
    "print()"
   ]
  },
  {
   "cell_type": "code",
   "execution_count": 50,
   "metadata": {},
   "outputs": [],
   "source": [
    "class Cup:\n",
    "    def __init__(self):\n",
    "        self.color = None\n",
    "        self.content = None\n",
    "\n",
    "    def fill(self, beverage):\n",
    "        self.content = beverage\n",
    "\n",
    "    def empty(self):\n",
    "        self.content = None\n",
    "\n",
    "        \n",
    "redCup = Cup()\n",
    "redCup.color = \"red\"\n",
    "redCup.content = \"tea\"\n",
    "redCup.empty()\n",
    "redCup.fill(\"coffee\")"
   ]
  },
  {
   "cell_type": "markdown",
   "metadata": {},
   "source": [
    "### Protected "
   ]
  },
  {
   "cell_type": "code",
   "execution_count": 33,
   "metadata": {},
   "outputs": [],
   "source": [
    "class Cup:\n",
    "    def __init__(self):\n",
    "        self.color = None\n",
    "        self._content = None # protected variable\n",
    "        \n",
    "        \n",
    "\n",
    "    def fill(self, beverage):\n",
    "        self._content = beverage\n",
    "\n",
    "    def empty(self):\n",
    "        self._content = None"
   ]
  },
  {
   "cell_type": "code",
   "execution_count": 52,
   "metadata": {},
   "outputs": [
    {
     "name": "stdout",
     "output_type": "stream",
     "text": [
      "################################\n",
      "################################\n"
     ]
    }
   ],
   "source": [
    "print(\"################################\")\n",
    "cup = Cup()\n",
    "cup._content = \"tea\"\n",
    "print(\"################################\")\n"
   ]
  },
  {
   "cell_type": "code",
   "execution_count": 35,
   "metadata": {},
   "outputs": [],
   "source": [
    "class Cup:\n",
    "    def __init__(self, color):\n",
    "        self._color = color    # protected variable\n",
    "        self.__content = None  # private variable\n",
    "\n",
    "    def fill(self, beverage):\n",
    "        self.__content = beverage\n",
    "\n",
    "    def empty(self):\n",
    "        self.__content = None\n",
    "    \n",
    "    def get_CupContent(self):\n",
    "        return self.__content \n",
    "    \n",
    "    def __get_CupContent(self):\n",
    "        return self.__content + \" from Private method\"\n",
    "    \n",
    "    def get_PrivateCupContent(self):\n",
    "        return self.__get_CupContent() \n",
    "    "
   ]
  },
  {
   "cell_type": "code",
   "execution_count": 40,
   "metadata": {},
   "outputs": [
    {
     "name": "stdout",
     "output_type": "stream",
     "text": [
      "############ From Direct ####################\n",
      "tea\n",
      "################################\n",
      "tea from Private method\n",
      "########### From Shadow Class -- accessible #####################\n",
      "tea\n",
      "################################\n",
      "tea from Private method\n",
      "#############From it's object -- not accessible###################\n"
     ]
    },
    {
     "ename": "AttributeError",
     "evalue": "'Cup' object has no attribute '__content'",
     "output_type": "error",
     "traceback": [
      "\u001b[1;31m---------------------------------------------------------------------------\u001b[0m",
      "\u001b[1;31mAttributeError\u001b[0m                            Traceback (most recent call last)",
      "\u001b[1;32m<ipython-input-40-d78f70240ef1>\u001b[0m in \u001b[0;36m<module>\u001b[1;34m\u001b[0m\n\u001b[0;32m     10\u001b[0m \u001b[0mprint\u001b[0m\u001b[1;33m(\u001b[0m\u001b[0mredCup\u001b[0m\u001b[1;33m.\u001b[0m\u001b[0m_Cup__get_CupContent\u001b[0m\u001b[1;33m(\u001b[0m\u001b[1;33m)\u001b[0m\u001b[1;33m)\u001b[0m\u001b[1;33m\u001b[0m\u001b[0m\n\u001b[0;32m     11\u001b[0m \u001b[0mprint\u001b[0m\u001b[1;33m(\u001b[0m\u001b[1;34m\"#############From it's object -- not accessible###################\"\u001b[0m\u001b[1;33m)\u001b[0m\u001b[1;33m\u001b[0m\u001b[0m\n\u001b[1;32m---> 12\u001b[1;33m \u001b[0mprint\u001b[0m\u001b[1;33m(\u001b[0m\u001b[0mredCup\u001b[0m\u001b[1;33m.\u001b[0m\u001b[0m__content\u001b[0m\u001b[1;33m)\u001b[0m\u001b[1;33m\u001b[0m\u001b[0m\n\u001b[0m\u001b[0;32m     13\u001b[0m \u001b[0mprint\u001b[0m\u001b[1;33m(\u001b[0m\u001b[1;34m\"################################\"\u001b[0m\u001b[1;33m)\u001b[0m\u001b[1;33m\u001b[0m\u001b[0m\n\u001b[0;32m     14\u001b[0m \u001b[0mprint\u001b[0m\u001b[1;33m(\u001b[0m\u001b[0mredCup\u001b[0m\u001b[1;33m.\u001b[0m\u001b[0m__get_CupContent\u001b[0m\u001b[1;33m(\u001b[0m\u001b[1;33m)\u001b[0m\u001b[1;33m)\u001b[0m\u001b[1;33m\u001b[0m\u001b[0m\n",
      "\u001b[1;31mAttributeError\u001b[0m: 'Cup' object has no attribute '__content'"
     ]
    }
   ],
   "source": [
    "redCup = Cup(\"red\")\n",
    "redCup._Cup__content = \"tea\"\n",
    "print(\"############ From Direct ####################\")\n",
    "print(redCup.get_CupContent())\n",
    "print(\"################################\")\n",
    "print(redCup.get_PrivateCupContent())\n",
    "print(\"########### From Shadow Class -- accessible #####################\")\n",
    "print(redCup._Cup__content)\n",
    "print(\"################################\")\n",
    "print(redCup._Cup__get_CupContent())\n",
    "print(\"#############From it's object -- not accessible###################\")\n",
    "print(redCup.__content)\n",
    "print(\"################################\")\n",
    "print(redCup.__get_CupContent())\n",
    "print(\"################################\")\n"
   ]
  },
  {
   "cell_type": "code",
   "execution_count": 62,
   "metadata": {},
   "outputs": [],
   "source": [
    "class Car(object):\n",
    "    __maxspeed = 10\n",
    "    __name = \"\"\n",
    "    bhp  = 1000\n",
    "    \n",
    "    def __init__(self):\n",
    "        self.__updateSoftware()\n",
    "    \n",
    "    def drive(self):\n",
    "        print('driving')\n",
    "    \n",
    "    def __updateSoftware(self):\n",
    "        print('updating software')\n",
    "\n",
    "    def setMaxSpeed(self,speed):\n",
    "        self.__maxspeed = speed\n",
    "\n",
    "    def getMaxSpeed(self):\n",
    "        return self.__maxspeed"
   ]
  },
  {
   "cell_type": "code",
   "execution_count": 63,
   "metadata": {},
   "outputs": [
    {
     "name": "stdout",
     "output_type": "stream",
     "text": [
      "updating software\n",
      "1020\n",
      "driving\n",
      "10\n",
      "##############Creates a new variable##############\n",
      "500\n",
      "10\n",
      "10\n",
      "######################Get Max speed for instance variable ############################\n",
      "10\n",
      "800\n"
     ]
    }
   ],
   "source": [
    "redcar = Car()\n",
    "#redcar.__updateSoftware()\n",
    "redcar.bhp =1020\n",
    "print(redcar.bhp)\n",
    "redcar.drive()\n",
    "\n",
    "print(redcar._Car__maxspeed)\n",
    "#print(redcar.__maxspeed)\n",
    "print(\"##############Creates a new variable##############\")\n",
    "#print(redcar.__maxspeed)\n",
    "redcar.__maxspeed = 500\n",
    "print(redcar.__maxspeed)\n",
    "print(redcar._Car__maxspeed)\n",
    "print(Car._Car__maxspeed)\n",
    "\n",
    "print(\"######################Get Max speed for instance variable ############################\")\n",
    "print(redcar.getMaxSpeed())\n",
    "redcar.setMaxSpeed(800)\n",
    "#print(redcar.__maxspeed)\n",
    "print(redcar.getMaxSpeed())\n",
    "#print(redcar.__maxspeed)"
   ]
  },
  {
   "cell_type": "markdown",
   "metadata": {},
   "source": [
    "### Abstraction\n"
   ]
  },
  {
   "cell_type": "markdown",
   "metadata": {},
   "source": [
    "<p>Abstract classes are classes that contain one or more abstract methods.\n",
    "    <br> An abstract method is a method that is declared, but contains no implementation. Abstract classes may not be instantiated, \n",
    "and require subclasses to provide implementations for the abstract methods. </p>"
   ]
  },
  {
   "cell_type": "code",
   "execution_count": 84,
   "metadata": {},
   "outputs": [
    {
     "name": "stdout",
     "output_type": "stream",
     "text": [
      "HELLO\n"
     ]
    }
   ],
   "source": [
    "from abc import ABC, abstractmethod\n",
    "class AbstractClass(ABC):\n",
    "    \n",
    "    def do_something(self):\n",
    "        pass\n",
    "\n",
    "    @abstractmethod\n",
    "    def do_somethingabstractmethod(self):\n",
    "        pass\n",
    "    \n",
    "class B(AbstractClass):\n",
    "    def do_somethingabstractmethod(self):\n",
    "        pass\n",
    "    def printsomething(self,x):\n",
    "        print(x.upper())\n",
    "    \n",
    "    \n",
    "\n",
    "#a = AbstractClass()\n",
    "b = B()\n",
    "\n",
    "b.printsomething(\"hello\")"
   ]
  },
  {
   "cell_type": "code",
   "execution_count": 85,
   "metadata": {},
   "outputs": [],
   "source": [
    "from abc import ABC, abstractmethod\n",
    " \n",
    "class AbstractClassExample(ABC):\n",
    " \n",
    "    def __init__(self, value):\n",
    "        self.value = value\n",
    "        super().__init__()\n",
    "    \n",
    "    @abstractmethod\n",
    "    def do_something(self):\n",
    "        pass"
   ]
  },
  {
   "cell_type": "code",
   "execution_count": 86,
   "metadata": {},
   "outputs": [
    {
     "name": "stdout",
     "output_type": "stream",
     "text": [
      "110\n",
      "1000\n"
     ]
    }
   ],
   "source": [
    "class DoAdd10(AbstractClassExample):\n",
    "    def do_something(self):\n",
    "        return self.value + 10\n",
    "    \n",
    "class DoMul10(AbstractClassExample):\n",
    "   \n",
    "    def do_something(self):\n",
    "        return self.value * 10\n",
    "    \n",
    "x = DoAdd10(100)\n",
    "y = DoMul10(100)\n",
    "print(x.do_something())\n",
    "print(y.do_something())\n",
    "\n"
   ]
  },
  {
   "cell_type": "code",
   "execution_count": 92,
   "metadata": {},
   "outputs": [],
   "source": [
    "from abc import ABC, abstractmethod\n",
    " \n",
    "class Profession(ABC):\n",
    " \n",
    "    def __init__(self, value):\n",
    "        self.value = value\n",
    "        super().__init__()\n",
    "    \n",
    "    @abstractmethod\n",
    "    def getProfession(self):\n",
    "        print(\"I do different works based on my talents\")\n",
    "        pass\n",
    "\n",
    "    \n",
    "class Artist(Profession):\n",
    "    \n",
    "    def getProfession(self):\n",
    "        super().getProfession()\n",
    "        return \"I am an artist, I paint drawings\" \n",
    "        #print(\"I am an artist, I paint drawings\")\n",
    "    \n",
    "class Engineer(Profession):\n",
    "    \n",
    "    def getProfession(self):\n",
    "        return \"I am an Engineer, I engineer different materials\" \n",
    "        #print(\"I am an Engineer, I engineer different materials\")\n",
    "\n",
    "#P= Profession()         \n",
    "\n",
    "x = Artist(\"Artist\")\n",
    "y = Engineer(\"Engineer\")\n"
   ]
  },
  {
   "cell_type": "code",
   "execution_count": 93,
   "metadata": {},
   "outputs": [
    {
     "name": "stdout",
     "output_type": "stream",
     "text": [
      "I do different works based on my talents\n",
      "I am an artist, I paint drawings\n",
      "I am an Engineer, I engineer different materials\n"
     ]
    }
   ],
   "source": [
    "\n",
    "print(x.getProfession())\n",
    "print(y.getProfession())"
   ]
  },
  {
   "cell_type": "markdown",
   "metadata": {},
   "source": [
    "## Special Methods or overriding a method\n",
    "Finally lets go over special methods. Classes in Python can implement certain operations with special method names. These methods are not actually called directly but by Python specific language syntax. For example Lets create a Book class:"
   ]
  },
  {
   "cell_type": "code",
   "execution_count": 101,
   "metadata": {},
   "outputs": [],
   "source": [
    "class Book(object):\n",
    "    def __init__(self, title, author, pages):\n",
    "        print(\"A book is created\")\n",
    "        self.title = title\n",
    "        self.author = author\n",
    "        self.pages = pages\n",
    "\n",
    "    def __str__(self):\n",
    "        return \"Title:%s , author:%s, pages:%s \" %(self.title, self.author, self.pages)\n",
    "\n",
    "    def __len__(self):\n",
    "        return self.pages\n",
    "\n",
    "    def __del__(self):\n",
    "        print(\"A book is destroyed\")"
   ]
  },
  {
   "cell_type": "code",
   "execution_count": 104,
   "metadata": {},
   "outputs": [
    {
     "name": "stdout",
     "output_type": "stream",
     "text": [
      "A book is created\n",
      "Title:Python Rocks! , author:Jose Portilla, pages:159 \n",
      "159\n",
      "A book is destroyed\n"
     ]
    },
    {
     "ename": "NameError",
     "evalue": "name 'book' is not defined",
     "output_type": "error",
     "traceback": [
      "\u001b[1;31m---------------------------------------------------------------------------\u001b[0m",
      "\u001b[1;31mNameError\u001b[0m                                 Traceback (most recent call last)",
      "\u001b[1;32m<ipython-input-104-39e20daef8d1>\u001b[0m in \u001b[0;36m<module>\u001b[1;34m\u001b[0m\n\u001b[0;32m      5\u001b[0m \u001b[0mprint\u001b[0m\u001b[1;33m(\u001b[0m\u001b[0mlen\u001b[0m\u001b[1;33m(\u001b[0m\u001b[0mbook_1\u001b[0m\u001b[1;33m)\u001b[0m\u001b[1;33m)\u001b[0m\u001b[1;33m\u001b[0m\u001b[0m\n\u001b[0;32m      6\u001b[0m \u001b[1;32mdel\u001b[0m \u001b[0mbook_1\u001b[0m\u001b[1;33m\u001b[0m\u001b[0m\n\u001b[1;32m----> 7\u001b[1;33m \u001b[0mprint\u001b[0m\u001b[1;33m(\u001b[0m\u001b[0mbook\u001b[0m\u001b[1;33m)\u001b[0m\u001b[1;33m\u001b[0m\u001b[0m\n\u001b[0m",
      "\u001b[1;31mNameError\u001b[0m: name 'book' is not defined"
     ]
    }
   ],
   "source": [
    "book_1 = Book(\"Python Rocks!\", \"Jose Portilla\", 159)\n",
    "\n",
    "#Special Methods\n",
    "print(book_1)\n",
    "print(len(book_1))\n",
    "del book_1\n",
    "print(book)\n"
   ]
  },
  {
   "cell_type": "markdown",
   "metadata": {},
   "source": [
    "    The __init__(), __str__(), __len__() and the __del__() methods.\n",
    "These special methods are defined by their use of underscores. They allow us to use Python specific functions on objects created through our class.\n",
    "\n",
    "\n"
   ]
  }
 ],
 "metadata": {
  "kernelspec": {
   "display_name": "Python 3",
   "language": "python",
   "name": "python3"
  },
  "language_info": {
   "codemirror_mode": {
    "name": "ipython",
    "version": 3
   },
   "file_extension": ".py",
   "mimetype": "text/x-python",
   "name": "python",
   "nbconvert_exporter": "python",
   "pygments_lexer": "ipython3",
   "version": "3.6.2"
  }
 },
 "nbformat": 4,
 "nbformat_minor": 1
}
