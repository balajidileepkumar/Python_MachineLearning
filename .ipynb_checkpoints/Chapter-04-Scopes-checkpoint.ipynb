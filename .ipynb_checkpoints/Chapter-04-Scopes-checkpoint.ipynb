{
 "cells": [
  {
   "cell_type": "markdown",
   "metadata": {},
   "source": [
    "## Local Scope"
   ]
  },
  {
   "cell_type": "code",
   "execution_count": 2,
   "metadata": {},
   "outputs": [
    {
     "name": "stdout",
     "output_type": "stream",
     "text": [
      "5\n",
      "Inner:  2\n",
      "Outer:  5\n",
      "local:  5\n",
      "#######################\n"
     ]
    }
   ],
   "source": [
    "y1 =5\n",
    "print(y1)  \n",
    "#print(x)\n",
    "def Outer():\n",
    "    x =1 \n",
    "    def Inner():\n",
    "        y1 = 2 \n",
    "        print(\"Inner: \", y1)\n",
    "        #print(\"Outer: \", x)\n",
    "        #print(Outer())\n",
    "    Inner()\n",
    "    print(\"Outer: \", y1)\n",
    "       \n",
    "#print(y1)        \n",
    "Outer()\n",
    "print(\"local: \", y1)\n",
    "  \n",
    "print(\"#######################\")  \n"
   ]
  },
  {
   "cell_type": "markdown",
   "metadata": {},
   "source": [
    "## Non Local Scope"
   ]
  },
  {
   "cell_type": "code",
   "execution_count": 5,
   "metadata": {},
   "outputs": [
    {
     "ename": "SyntaxError",
     "evalue": "no binding for nonlocal 'y2' found (<ipython-input-5-26dc00f39f46>, line 7)",
     "output_type": "error",
     "traceback": [
      "\u001b[1;36m  File \u001b[1;32m\"<ipython-input-5-26dc00f39f46>\"\u001b[1;36m, line \u001b[1;32m7\u001b[0m\n\u001b[1;33m    nonlocal y2\u001b[0m\n\u001b[1;37m    ^\u001b[0m\n\u001b[1;31mSyntaxError\u001b[0m\u001b[1;31m:\u001b[0m no binding for nonlocal 'y2' found\n"
     ]
    }
   ],
   "source": [
    "y2 =6\n",
    "\n",
    "def Outer():\n",
    "    y2 =1\n",
    "    print(\"Outer Before Declaring nonlocal\", y2)\n",
    "    def Inner():\n",
    "        nonlocal y2\n",
    "        y2 = 2 \n",
    "        print(\"Inner: \", y2)\n",
    "    Inner()\n",
    "    print(\"Outer: \", y2)\n",
    "Outer()\n",
    "\n",
    "print(\"Global\",y2)\n",
    "print(\"#####################################3\")\n"
   ]
  },
  {
   "cell_type": "markdown",
   "metadata": {},
   "source": [
    "### Non-Local With Multiple Nested Functions"
   ]
  },
  {
   "cell_type": "code",
   "execution_count": 11,
   "metadata": {},
   "outputs": [
    {
     "name": "stdout",
     "output_type": "stream",
     "text": [
      "Before Non Local Declaraion Inner:  2\n",
      "InnerMost:  3\n",
      "Inner:  3\n",
      "Outer:  1\n",
      "Global 0\n",
      "#####################################3\n"
     ]
    }
   ],
   "source": [
    "x =0\n",
    "def Outer():\n",
    "    x =1 \n",
    "    def Inner():\n",
    "        x = 2\n",
    "        print(\"Before Non Local Declaraion Inner: \", x)\n",
    "        def InnerMost():\n",
    "            nonlocal x\n",
    "            x = 3 \n",
    "            print(\"InnerMost: \", x)\n",
    "        InnerMost()\n",
    "        print(\"Inner: \", x)\n",
    "    Inner()\n",
    "    print(\"Outer: \", x)\n",
    "Outer()\n",
    "print(\"Global\",x)\n",
    "print(\"#####################################3\")\n"
   ]
  },
  {
   "cell_type": "markdown",
   "metadata": {},
   "source": [
    "## Global Scope"
   ]
  },
  {
   "cell_type": "code",
   "execution_count": 18,
   "metadata": {},
   "outputs": [
    {
     "name": "stdout",
     "output_type": "stream",
     "text": [
      "x is  0\n",
      "Enter the value4\n",
      "Inner:  2.0\n",
      "Outer:  1\n",
      "Global 2.0\n",
      "Global 10\n"
     ]
    }
   ],
   "source": [
    "import math\n",
    "x=0\n",
    "print(\"x is \", x)\n",
    "def Outer():\n",
    "    x = 1\n",
    "    #print(\"x is \",x)\n",
    "    def Inner():\n",
    "        global x \n",
    "        y = (int)(input(\"Enter the value\"))\n",
    "        if( y > 5):\n",
    "            #nonlocal x\n",
    "            x = y**2\n",
    "        else:\n",
    "            x = math.sqrt(y)\n",
    "        print(\"Inner: \", x)\n",
    "    Inner()\n",
    "    print(\"Outer: \", x)\n",
    "Outer()\n",
    "print(\"Global\",x)\n",
    "  \n",
    "x =10 \n",
    "print(\"Global\",x)"
   ]
  },
  {
   "cell_type": "code",
   "execution_count": 19,
   "metadata": {},
   "outputs": [
    {
     "ename": "NameError",
     "evalue": "name 'my_nums' is not defined",
     "output_type": "error",
     "traceback": [
      "\u001b[1;31m---------------------------------------------------------------------------\u001b[0m",
      "\u001b[1;31mNameError\u001b[0m                                 Traceback (most recent call last)",
      "\u001b[1;32m<ipython-input-19-2f9e28d6d9ec>\u001b[0m in \u001b[0;36m<module>\u001b[1;34m\u001b[0m\n\u001b[1;32m----> 1\u001b[1;33m \u001b[0mlist\u001b[0m\u001b[1;33m(\u001b[0m\u001b[0mmap\u001b[0m\u001b[1;33m(\u001b[0m\u001b[1;32mlambda\u001b[0m \u001b[0mnum\u001b[0m\u001b[1;33m:\u001b[0m \u001b[0mnum\u001b[0m \u001b[1;33m**\u001b[0m \u001b[1;36m2\u001b[0m\u001b[1;33m,\u001b[0m \u001b[0mmy_nums\u001b[0m\u001b[1;33m)\u001b[0m\u001b[1;33m)\u001b[0m\u001b[1;33m\u001b[0m\u001b[0m\n\u001b[0m",
      "\u001b[1;31mNameError\u001b[0m: name 'my_nums' is not defined"
     ]
    }
   ],
   "source": [
    "list(map(lambda num: num ** 2, my_nums))"
   ]
  },
  {
   "cell_type": "code",
   "execution_count": 20,
   "metadata": {},
   "outputs": [
    {
     "name": "stdout",
     "output_type": "stream",
     "text": [
      "Inner:  2\n",
      "Outer:  1\n",
      "Global 1\n",
      "##############\n"
     ]
    }
   ],
   "source": [
    "def BoundaryLevel():\n",
    "    x =0\n",
    "    def Outer():\n",
    "        nonlocal x\n",
    "        x =1 \n",
    "        def Inner():\n",
    "            x = 2 \n",
    "            print(\"Inner: \", x)\n",
    "        Inner()\n",
    "        print(\"Outer: \", x)\n",
    "    Outer()\n",
    "    print(\"Global\",x)\n",
    "BoundaryLevel()\n",
    "print(\"##############\")"
   ]
  }
 ],
 "metadata": {
  "kernelspec": {
   "display_name": "Python 3",
   "language": "python",
   "name": "python3"
  },
  "language_info": {
   "codemirror_mode": {
    "name": "ipython",
    "version": 3
   },
   "file_extension": ".py",
   "mimetype": "text/x-python",
   "name": "python",
   "nbconvert_exporter": "python",
   "pygments_lexer": "ipython3",
   "version": "3.6.2"
  }
 },
 "nbformat": 4,
 "nbformat_minor": 2
}
