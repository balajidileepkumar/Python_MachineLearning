{
 "cells": [
  {
   "cell_type": "markdown",
   "metadata": {
    "collapsed": true
   },
   "source": [
    "# Object Oriented Programming\n",
    "\n",
    "Object Oriented Programming (OOP) tends to be one of the major obstacles for beginners when they are first starting to learn Python.\n",
    "\n",
    "There are many,many tutorials and lessons covering OOP so feel free to Google search other lessons, and I have also put some links to other useful tutorials online at the bottom of this Notebook.\n",
    "\n",
    "For this lesson we will construct our knowledge of OOP in Python by building on the following topics:\n",
    "\n",
    "* Objects\n",
    "* Using the *class* keyword\n",
    "* Creating class attributes\n",
    "* Creating methods in a class\n",
    "* Learning about Inheritance\n",
    "* Learning about Special Methods for classes\n",
    "\n",
    "Lets start the lesson by remembering about the Basic Python Objects. For example:"
   ]
  },
  {
   "cell_type": "code",
   "execution_count": 32,
   "metadata": {},
   "outputs": [
    {
     "name": "stdout",
     "output_type": "stream",
     "text": [
      "<class 'list'>\n"
     ]
    }
   ],
   "source": [
    "l = [1,2,3]\n",
    "print(type(l))"
   ]
  },
  {
   "cell_type": "markdown",
   "metadata": {},
   "source": [
    "Remember how we could call methods on a list?"
   ]
  },
  {
   "cell_type": "code",
   "execution_count": 3,
   "metadata": {},
   "outputs": [
    {
     "data": {
      "text/plain": [
       "1"
      ]
     },
     "execution_count": 3,
     "metadata": {},
     "output_type": "execute_result"
    }
   ],
   "source": [
    "l.count(2)"
   ]
  },
  {
   "cell_type": "markdown",
   "metadata": {},
   "source": [
    "What we will basically be doing in this lecture is exploring how we could create an Object type like a list. We've already learned about how to create functions. So lets explore Objects in general:\n",
    "\n",
    "## Objects\n",
    "In Python, *everything is an object*. Remember from previous lectures we can use type() to check the type of object something is:"
   ]
  },
  {
   "cell_type": "code",
   "execution_count": 4,
   "metadata": {},
   "outputs": [
    {
     "name": "stdout",
     "output_type": "stream",
     "text": [
      "<class 'int'>\n",
      "<class 'float'>\n",
      "<class 'complex'>\n",
      "<class 'list'>\n",
      "<class 'tuple'>\n",
      "<class 'dict'>\n",
      "<class 'set'>\n",
      "<class 'list'>\n",
      "<class 'dict'>\n"
     ]
    }
   ],
   "source": [
    "print(type(1))\n",
    "print(type(1.0))\n",
    "print(type(1.0+2j))\n",
    "print(type([]))\n",
    "print(type(()))\n",
    "print(type({}))\n",
    "print(type(set()))\n",
    "print(type(list()))\n",
    "print(type(dict()))"
   ]
  },
  {
   "cell_type": "markdown",
   "metadata": {},
   "source": [
    "So we know all these things are objects, so how can we create our own Object types? That is where the *class* keyword comes in.\n",
    "## class\n",
    "The user defined objects are created using the class keyword. The class is a blueprint that defines a nature of a future object. From classes we can construct instances. An instance is a specific object created from a particular class. For example, above we created the object 'l' which was an instance of a list object. \n",
    "\n",
    "Let see how we can use **class**:"
   ]
  },
  {
   "cell_type": "code",
   "execution_count": 35,
   "metadata": {},
   "outputs": [
    {
     "name": "stdout",
     "output_type": "stream",
     "text": [
      "<class '__main__.Sample'>\n",
      "<class '__main__.Sample'>\n"
     ]
    }
   ],
   "source": [
    "# Create a new object type called Sample\n",
    "class Sample(object):\n",
    "    pass\n",
    "\n",
    "# Instance of Sample\n",
    "x = Sample()\n",
    "print(type(x))\n",
    "#create another instance\n",
    "y= Sample()\n",
    "print(type(y))"
   ]
  },
  {
   "cell_type": "markdown",
   "metadata": {},
   "source": [
    "By convention we give classes a name that starts with a capital letter. Note how x is now the reference to our new instance of a Sample class. In other words, we **instantiate** the Sample class.\n",
    "\n",
    "Inside of the class we currently just have pass. But we can define class attributes and methods.\n",
    "\n",
    "An **attribute** is a characteristic of an object.\n",
    "A **method** is an operation we can perform with the object.\n",
    "\n",
    "For example we can create a class called Dog. An attribute of a dog may be its breed or its name, while a method of a dog may be defined by a .bark() method which returns a sound.\n",
    "\n",
    "Let's get a better understanding of attributes through an example.\n",
    "\n",
    "##Attributes\n",
    "The syntax for creating an attribute is:\n",
    "    \n",
    "    self.attribute = something\n",
    "    \n",
    "There is a special method called:\n",
    "\n",
    "    __init__()\n",
    "\n",
    "This method is used to initialize the attributes of an object. For example:"
   ]
  },
  {
   "cell_type": "code",
   "execution_count": 58,
   "metadata": {},
   "outputs": [
    {
     "name": "stdout",
     "output_type": "stream",
     "text": [
      "############ Tweetie.fly, Tweetie.Name #############\n",
      "False a English\n",
      "########### Tweetie1.fly ##############\n",
      "True\n",
      "Green\n",
      "######### Tweetie3.language ################\n",
      "Language , Flystatus  is :  English Tamil\n",
      "######### Tweetie4.fly) ################\n",
      "False\n",
      "Lab\n",
      "height of  Lab  is  10\n",
      "Lab\n",
      "height of  Lab  is  10\n",
      "###################################\n",
      "Huskie\n",
      "Dashound\n",
      "############## weights of dogs #####################\n",
      "100\n"
     ]
    },
    {
     "ename": "AttributeError",
     "evalue": "'Dog' object has no attribute 'weight'",
     "output_type": "error",
     "traceback": [
      "\u001b[1;31m---------------------------------------------------------------------------\u001b[0m",
      "\u001b[1;31mAttributeError\u001b[0m                            Traceback (most recent call last)",
      "\u001b[1;32m<ipython-input-58-b5581728d570>\u001b[0m in \u001b[0;36m<module>\u001b[1;34m\u001b[0m\n\u001b[0;32m     68\u001b[0m \u001b[0mprint\u001b[0m\u001b[1;33m(\u001b[0m\u001b[1;34m\"############## weights of dogs #####################\"\u001b[0m\u001b[1;33m)\u001b[0m\u001b[1;33m\u001b[0m\u001b[1;33m\u001b[0m\u001b[0m\n\u001b[0;32m     69\u001b[0m \u001b[0mprint\u001b[0m\u001b[1;33m(\u001b[0m\u001b[0msam\u001b[0m\u001b[1;33m.\u001b[0m\u001b[0mweight\u001b[0m\u001b[1;33m)\u001b[0m\u001b[1;33m\u001b[0m\u001b[1;33m\u001b[0m\u001b[0m\n\u001b[1;32m---> 70\u001b[1;33m \u001b[0mprint\u001b[0m\u001b[1;33m(\u001b[0m\u001b[0mfrank\u001b[0m\u001b[1;33m.\u001b[0m\u001b[0mweight\u001b[0m\u001b[1;33m)\u001b[0m\u001b[1;33m\u001b[0m\u001b[1;33m\u001b[0m\u001b[0m\n\u001b[0m",
      "\u001b[1;31mAttributeError\u001b[0m: 'Dog' object has no attribute 'weight'"
     ]
    }
   ],
   "source": [
    "class Parrot(object):\n",
    "    Color = \"Green\"\n",
    "    def __init__(self,flyStatus = False, lang=\"English\"):\n",
    "        self.fly = flyStatus\n",
    "        self.language = lang\n",
    "\n",
    "        \n",
    "Tweetie = Parrot()\n",
    "Tweetie1 = Parrot()\n",
    "\n",
    "Tweetie1.fly = True\n",
    "Tweetie.Name = \"a\"\n",
    "#Tweetie1.Name = \"b\"\n",
    "\n",
    "print(\"############ Tweetie.fly, Tweetie.Name #############\")\n",
    "print(Tweetie.fly, Tweetie.Name, Tweetie.language)\n",
    "print(\"########### Tweetie1.fly ##############\")\n",
    "\n",
    "print(Tweetie1.fly)\n",
    "#print(Tweetie.Color, Tweetie1.Color, Tweetie3.Color, Tweetie4.Color)\n",
    "print(Parrot.Color)\n",
    "\n",
    "Tweetie3 = Parrot(\"Tamil\")\n",
    "print(\"######### Tweetie3.language ################\")\n",
    "\n",
    "print(\"Language , Flystatus  is : \",Tweetie3.language, Tweetie3.fly)\n",
    "\n",
    "Tweetie4 = Parrot(flyStatus=False)\n",
    "print(\"######### Tweetie4.fly) ################\")\n",
    "print(Tweetie4.fly)\n",
    "\n",
    "class Dog(object):\n",
    "    \n",
    "    def __init__(self,breed):\n",
    "        self.breed = breed\n",
    "        \n",
    "    def printbreed(self):\n",
    "        print(self.breed)\n",
    "    \n",
    "    def setheight(self,x=10):\n",
    "        self.height = x\n",
    "   \n",
    "    def printheight(self):\n",
    "        print(\"height of \",self.breed ,\" is \",self.height)\n",
    "        \n",
    "    def changebreed(self,breedname=\"Rotweiler\"):\n",
    "        self.breed = breedname\n",
    "    \n",
    "    def SetWeight(self):\n",
    "        self.weight = 100\n",
    "    \n",
    "    def printdog(self):\n",
    "        self.printbreed()\n",
    "        self.printheight()\n",
    "       \n",
    "#x = Sam()\n",
    "sam = Dog(breed='Lab')\n",
    "sam.printbreed()\n",
    "sam.setheight()\n",
    "sam.printheight()\n",
    "sam.printdog()\n",
    "print(\"###################################\")\n",
    "frank = Dog(breed='Huskie')\n",
    "frank.printbreed()\n",
    "\n",
    "frank.changebreed(\"Dashound\")\n",
    "frank.printbreed()\n",
    "sam.SetWeight()\n",
    "print(\"############## weights of dogs #####################\")\n",
    "print(sam.weight)\n",
    "print(frank.weight)"
   ]
  },
  {
   "cell_type": "code",
   "execution_count": 69,
   "metadata": {},
   "outputs": [
    {
     "ename": "SyntaxError",
     "evalue": "invalid syntax (<ipython-input-69-56dd19087fe0>, line 21)",
     "output_type": "error",
     "traceback": [
      "\u001b[1;36m  File \u001b[1;32m\"<ipython-input-69-56dd19087fe0>\"\u001b[1;36m, line \u001b[1;32m21\u001b[0m\n\u001b[1;33m    if(parrot_no %3 == 0 )\u001b[0m\n\u001b[1;37m                          ^\u001b[0m\n\u001b[1;31mSyntaxError\u001b[0m\u001b[1;31m:\u001b[0m invalid syntax\n"
     ]
    }
   ],
   "source": [
    "class parrot(object):\n",
    "    Color = \"Green\"\n",
    "    def __init__(self,flyStatus = True, lang=\"Tamil\"):\n",
    "        self.fly = flyStatus\n",
    "        self.language = lang\n",
    "\n",
    "\n",
    "list_parrots_100 = [] \n",
    "for x in range(1,100):\n",
    "    if(x%3 ==0): \n",
    "        temp_parrot = parrot(False)\n",
    "    else: \n",
    "        temp_parrot = parrot()\n",
    "    list_parrots_100.append(temp_parrot)\n",
    "    \n",
    "[print(\"parrot no :\", x+1, \"  fly status is :\", list_parrots_100[x].fly) for x in range(len(list_parrots_100))]\n",
    "\n"
   ]
  },
  {
   "cell_type": "code",
   "execution_count": 70,
   "metadata": {},
   "outputs": [
    {
     "name": "stdout",
     "output_type": "stream",
     "text": [
      "parrot no : 1   fly status is : True\n",
      "parrot no : 2   fly status is : True\n",
      "parrot no : 3   fly status is : False\n",
      "parrot no : 4   fly status is : True\n",
      "parrot no : 5   fly status is : True\n",
      "parrot no : 6   fly status is : False\n",
      "parrot no : 7   fly status is : True\n",
      "parrot no : 8   fly status is : True\n",
      "parrot no : 9   fly status is : False\n",
      "parrot no : 10   fly status is : True\n",
      "parrot no : 11   fly status is : True\n",
      "parrot no : 12   fly status is : False\n",
      "parrot no : 13   fly status is : True\n",
      "parrot no : 14   fly status is : True\n",
      "parrot no : 15   fly status is : False\n",
      "parrot no : 16   fly status is : True\n",
      "parrot no : 17   fly status is : True\n",
      "parrot no : 18   fly status is : False\n",
      "parrot no : 19   fly status is : True\n",
      "parrot no : 20   fly status is : True\n",
      "parrot no : 21   fly status is : False\n",
      "parrot no : 22   fly status is : True\n",
      "parrot no : 23   fly status is : True\n",
      "parrot no : 24   fly status is : False\n",
      "parrot no : 25   fly status is : True\n",
      "parrot no : 26   fly status is : True\n",
      "parrot no : 27   fly status is : False\n",
      "parrot no : 28   fly status is : True\n",
      "parrot no : 29   fly status is : True\n",
      "parrot no : 30   fly status is : False\n",
      "parrot no : 31   fly status is : True\n",
      "parrot no : 32   fly status is : True\n",
      "parrot no : 33   fly status is : False\n",
      "parrot no : 34   fly status is : True\n",
      "parrot no : 35   fly status is : True\n",
      "parrot no : 36   fly status is : False\n",
      "parrot no : 37   fly status is : True\n",
      "parrot no : 38   fly status is : True\n",
      "parrot no : 39   fly status is : False\n",
      "parrot no : 40   fly status is : True\n",
      "parrot no : 41   fly status is : True\n",
      "parrot no : 42   fly status is : False\n",
      "parrot no : 43   fly status is : True\n",
      "parrot no : 44   fly status is : True\n",
      "parrot no : 45   fly status is : False\n",
      "parrot no : 46   fly status is : True\n",
      "parrot no : 47   fly status is : True\n",
      "parrot no : 48   fly status is : False\n",
      "parrot no : 49   fly status is : True\n",
      "parrot no : 50   fly status is : True\n",
      "parrot no : 51   fly status is : False\n",
      "parrot no : 52   fly status is : True\n",
      "parrot no : 53   fly status is : True\n",
      "parrot no : 54   fly status is : False\n",
      "parrot no : 55   fly status is : True\n",
      "parrot no : 56   fly status is : True\n",
      "parrot no : 57   fly status is : False\n",
      "parrot no : 58   fly status is : True\n",
      "parrot no : 59   fly status is : True\n",
      "parrot no : 60   fly status is : False\n",
      "parrot no : 61   fly status is : True\n",
      "parrot no : 62   fly status is : True\n",
      "parrot no : 63   fly status is : False\n",
      "parrot no : 64   fly status is : True\n",
      "parrot no : 65   fly status is : True\n",
      "parrot no : 66   fly status is : False\n",
      "parrot no : 67   fly status is : True\n",
      "parrot no : 68   fly status is : True\n",
      "parrot no : 69   fly status is : False\n",
      "parrot no : 70   fly status is : True\n",
      "parrot no : 71   fly status is : True\n",
      "parrot no : 72   fly status is : False\n",
      "parrot no : 73   fly status is : True\n",
      "parrot no : 74   fly status is : True\n",
      "parrot no : 75   fly status is : False\n",
      "parrot no : 76   fly status is : True\n",
      "parrot no : 77   fly status is : True\n",
      "parrot no : 78   fly status is : False\n",
      "parrot no : 79   fly status is : True\n",
      "parrot no : 80   fly status is : True\n",
      "parrot no : 81   fly status is : False\n",
      "parrot no : 82   fly status is : True\n",
      "parrot no : 83   fly status is : True\n",
      "parrot no : 84   fly status is : False\n",
      "parrot no : 85   fly status is : True\n",
      "parrot no : 86   fly status is : True\n",
      "parrot no : 87   fly status is : False\n",
      "parrot no : 88   fly status is : True\n",
      "parrot no : 89   fly status is : True\n",
      "parrot no : 90   fly status is : False\n",
      "parrot no : 91   fly status is : True\n",
      "parrot no : 92   fly status is : True\n",
      "parrot no : 93   fly status is : False\n",
      "parrot no : 94   fly status is : True\n",
      "parrot no : 95   fly status is : True\n",
      "parrot no : 96   fly status is : False\n",
      "parrot no : 97   fly status is : True\n",
      "parrot no : 98   fly status is : True\n",
      "parrot no : 99   fly status is : False\n"
     ]
    },
    {
     "data": {
      "text/plain": [
       "[None,\n",
       " None,\n",
       " None,\n",
       " None,\n",
       " None,\n",
       " None,\n",
       " None,\n",
       " None,\n",
       " None,\n",
       " None,\n",
       " None,\n",
       " None,\n",
       " None,\n",
       " None,\n",
       " None,\n",
       " None,\n",
       " None,\n",
       " None,\n",
       " None,\n",
       " None,\n",
       " None,\n",
       " None,\n",
       " None,\n",
       " None,\n",
       " None,\n",
       " None,\n",
       " None,\n",
       " None,\n",
       " None,\n",
       " None,\n",
       " None,\n",
       " None,\n",
       " None,\n",
       " None,\n",
       " None,\n",
       " None,\n",
       " None,\n",
       " None,\n",
       " None,\n",
       " None,\n",
       " None,\n",
       " None,\n",
       " None,\n",
       " None,\n",
       " None,\n",
       " None,\n",
       " None,\n",
       " None,\n",
       " None,\n",
       " None,\n",
       " None,\n",
       " None,\n",
       " None,\n",
       " None,\n",
       " None,\n",
       " None,\n",
       " None,\n",
       " None,\n",
       " None,\n",
       " None,\n",
       " None,\n",
       " None,\n",
       " None,\n",
       " None,\n",
       " None,\n",
       " None,\n",
       " None,\n",
       " None,\n",
       " None,\n",
       " None,\n",
       " None,\n",
       " None,\n",
       " None,\n",
       " None,\n",
       " None,\n",
       " None,\n",
       " None,\n",
       " None,\n",
       " None,\n",
       " None,\n",
       " None,\n",
       " None,\n",
       " None,\n",
       " None,\n",
       " None,\n",
       " None,\n",
       " None,\n",
       " None,\n",
       " None,\n",
       " None,\n",
       " None,\n",
       " None,\n",
       " None,\n",
       " None,\n",
       " None,\n",
       " None,\n",
       " None,\n",
       " None,\n",
       " None]"
      ]
     },
     "execution_count": 70,
     "metadata": {},
     "output_type": "execute_result"
    }
   ],
   "source": [
    "class parrot_greens(object):\n",
    "    Color = \"Green\"\n",
    "    def __init__(self,parrot_no, lang=\"Tamil\"):\n",
    "        if(parrot_no %3 == 0 ):\n",
    "            self.fly = False\n",
    "        else: \n",
    "            self.fly = True\n",
    "        self.language = lang\n",
    "\n",
    "list_parrots_100 = [] \n",
    "for x in range(1,100):\n",
    "    temp_parrot = parrot_greens(x)\n",
    "    list_parrots_100.append(temp_parrot)\n",
    "\n",
    "[print(\"parrot no :\", x+1, \"  fly status is :\", list_parrots_100[x].fly) for x in range(len(list_parrots_100))]\n"
   ]
  },
  {
   "cell_type": "markdown",
   "metadata": {},
   "source": [
    "Lets break down what we have above.The special method \n",
    "\n",
    "    __init__() \n",
    "is called automatically right after the object has been created:\n",
    "\n",
    "    def __init__(self, breed):\n",
    "Each attribute in a class definition begins with a reference to the instance object. It is by convention named self. The breed is the argument. The value is passed during the class instantiation.\n",
    "\n",
    "     self.breed = breed"
   ]
  },
  {
   "cell_type": "markdown",
   "metadata": {},
   "source": [
    "Now we have created two instances of the Dog class. With two breed types, we can then access these attributes like this:"
   ]
  },
  {
   "cell_type": "code",
   "execution_count": 59,
   "metadata": {},
   "outputs": [
    {
     "data": {
      "text/plain": [
       "'Lab'"
      ]
     },
     "execution_count": 59,
     "metadata": {},
     "output_type": "execute_result"
    }
   ],
   "source": [
    "sam.breed"
   ]
  },
  {
   "cell_type": "code",
   "execution_count": 60,
   "metadata": {},
   "outputs": [
    {
     "data": {
      "text/plain": [
       "'Dashound'"
      ]
     },
     "execution_count": 60,
     "metadata": {},
     "output_type": "execute_result"
    }
   ],
   "source": [
    "frank.breed\n"
   ]
  },
  {
   "cell_type": "code",
   "execution_count": 61,
   "metadata": {},
   "outputs": [],
   "source": [
    "frank.changebreed()"
   ]
  },
  {
   "cell_type": "code",
   "execution_count": 62,
   "metadata": {},
   "outputs": [
    {
     "data": {
      "text/plain": [
       "'Rotweiler'"
      ]
     },
     "execution_count": 62,
     "metadata": {},
     "output_type": "execute_result"
    }
   ],
   "source": [
    "frank.breed"
   ]
  },
  {
   "cell_type": "markdown",
   "metadata": {},
   "source": [
    "Note how we don't have any parenthesis after breed, this is because it is an attribute and doesn't take any arguments.\n",
    "\n",
    "In Python there are also *class object attributes*. These Class Object Attributes are the same for any instance of the class. For example, we could create the attribute *species* for the Dog class. Dogs (regardless of their breed,name, or other attributes will always be mammals. We apply this logic in the following manner:"
   ]
  },
  {
   "cell_type": "code",
   "execution_count": 71,
   "metadata": {},
   "outputs": [],
   "source": [
    "class Dog():\n",
    "    \n",
    "    # Class Object Attribute\n",
    "    species = 'mammal'\n",
    "    def __init__(self,breed,name):\n",
    "        self.breed = breed\n",
    "        self.name = name"
   ]
  },
  {
   "cell_type": "code",
   "execution_count": 22,
   "metadata": {},
   "outputs": [],
   "source": [
    "#frank = Dog('Rotweiler')\n",
    "sam = Dog('Lab','Sam')\n",
    "sam1 = Dog('Lab1','Sam12')\n"
   ]
  },
  {
   "cell_type": "code",
   "execution_count": 19,
   "metadata": {},
   "outputs": [
    {
     "data": {
      "text/plain": [
       "'Sam'"
      ]
     },
     "execution_count": 19,
     "metadata": {},
     "output_type": "execute_result"
    }
   ],
   "source": [
    "sam.name"
   ]
  },
  {
   "cell_type": "markdown",
   "metadata": {},
   "source": [
    "Note that the Class Object Attribute is defined outside of any methods in the class. Also by convention, we place them first before the init."
   ]
  },
  {
   "cell_type": "code",
   "execution_count": 20,
   "metadata": {},
   "outputs": [
    {
     "data": {
      "text/plain": [
       "'mammal'"
      ]
     },
     "execution_count": 20,
     "metadata": {},
     "output_type": "execute_result"
    }
   ],
   "source": [
    "sam.species"
   ]
  },
  {
   "cell_type": "code",
   "execution_count": 26,
   "metadata": {},
   "outputs": [
    {
     "data": {
      "text/plain": [
       "'mammal'"
      ]
     },
     "execution_count": 26,
     "metadata": {},
     "output_type": "execute_result"
    }
   ],
   "source": [
    "Dog.species"
   ]
  },
  {
   "cell_type": "code",
   "execution_count": 23,
   "metadata": {},
   "outputs": [
    {
     "data": {
      "text/plain": [
       "'mammal'"
      ]
     },
     "execution_count": 23,
     "metadata": {},
     "output_type": "execute_result"
    }
   ],
   "source": [
    "sam1.species"
   ]
  },
  {
   "cell_type": "code",
   "execution_count": 25,
   "metadata": {},
   "outputs": [
    {
     "ename": "AttributeError",
     "evalue": "type object 'Dog' has no attribute 'name'",
     "output_type": "error",
     "traceback": [
      "\u001b[1;31m---------------------------------------------------------------------------\u001b[0m",
      "\u001b[1;31mAttributeError\u001b[0m                            Traceback (most recent call last)",
      "\u001b[1;32m<ipython-input-25-629675d46941>\u001b[0m in \u001b[0;36m<module>\u001b[1;34m\u001b[0m\n\u001b[1;32m----> 1\u001b[1;33m \u001b[0mDog\u001b[0m\u001b[1;33m.\u001b[0m\u001b[0mname\u001b[0m\u001b[1;33m\u001b[0m\u001b[1;33m\u001b[0m\u001b[0m\n\u001b[0m",
      "\u001b[1;31mAttributeError\u001b[0m: type object 'Dog' has no attribute 'name'"
     ]
    }
   ],
   "source": [
    "Dog.name"
   ]
  },
  {
   "cell_type": "markdown",
   "metadata": {},
   "source": [
    "## Methods\n",
    "\n",
    "Methods are functions defined inside the body of a class. They are used to perform operations with the attributes of our objects. Methods are essential in encapsulation concept of the OOP paradigm. This is essential in dividing responsibilities in programming, especially in large applications.\n",
    "\n",
    "You can basically think of methods as functions acting on an Object that take the Object itself into account through its *self* argument.\n",
    "\n",
    "Lets go through an example of creating a Circle class:"
   ]
  },
  {
   "cell_type": "code",
   "execution_count": 27,
   "metadata": {},
   "outputs": [
    {
     "name": "stdout",
     "output_type": "stream",
     "text": [
      "2\n",
      "10\n",
      "Radius is: 2 \n",
      "Area is: 12.56\n"
     ]
    }
   ],
   "source": [
    "class Circle(object):\n",
    "    pi = 3.14\n",
    "\n",
    "    # Circle get instantiated with a radius (default is 1)\n",
    "    def __init__(self, radius=1):\n",
    "        self.radius = radius \n",
    "        self._myradius = radius\n",
    "\n",
    "    # Area method calculates the area. Note the use of self.\n",
    "    def area(self):\n",
    "        return self.radius * self.radius * Circle.pi\n",
    "\n",
    "    # Method for resetting Radius\n",
    "    def setRadius(self, radius):\n",
    "        self.radius = radius\n",
    "\n",
    "    # Method for getting radius (Same as just calling .radius)\n",
    "    def getRadius(self):\n",
    "        print(self.radius)\n",
    "        print(self._myradius)\n",
    "        return self.radius\n",
    "    #def getRadius(self):\n",
    "\n",
    "\n",
    "c = Circle(10)\n",
    "#setRadius()\n",
    "c.setRadius(2)\n",
    "#print(c.radius)\n",
    "#print(c._myradius)\n",
    "print('Radius is: {} '.format(c.getRadius()))\n",
    "print('Area is: {}'.format(c.area()))"
   ]
  },
  {
   "cell_type": "markdown",
   "metadata": {},
   "source": [
    "Great! Notice how we used self. notation to reference attributes of the class within the method calls. Review how the code above works and try creating your own method\n",
    "\n",
    "## Inheritance\n",
    "\n",
    "Inheritance is a way to form new classes using classes that have already been defined. The newly formed classes are called derived classes, the classes that we derive from are called base classes. Important benefits of inheritance are code reuse and reduction of complexity of a program. The derived classes (descendants) override or extend the functionality of base classes (ancestors).\n",
    "\n",
    "Lets see an example by incorporating our previous work on the Dog class:"
   ]
  },
  {
   "cell_type": "code",
   "execution_count": 79,
   "metadata": {},
   "outputs": [],
   "source": [
    "class Animal(object):\n",
    "    def __init__(self):\n",
    "        print(\"Animal created\")\n",
    "\n",
    "    def whoAmI(self):\n",
    "        print(\"Animal\")\n",
    "\n",
    "    def eat(self):\n",
    "        print(\"Eating\")\n",
    "        \n",
    "    def Run(self):\n",
    "        print(\"Animals can Run\")\n",
    "\n",
    "class Bird(object):\n",
    "    def __init__(self):\n",
    "        print(\"Bird created\")\n",
    "\n",
    "    def whoAmI(self):\n",
    "        print(\"Bird\")\n",
    "\n",
    "    def fly(self):\n",
    "        print(\"Bird Flyin\")\n",
    "\n",
    "\n",
    "class Dog(Animal):\n",
    "    def __init__(self):\n",
    "        Animal.__init__(self)\n",
    "        print(\"Dog created\")\n",
    "\n",
    "    def whoAmI(self):\n",
    "        print(\"Dog\")\n",
    "\n",
    "    def bark(self):\n",
    "        print(\"Woof!\")\n",
    "\n",
    "class Puppy(Dog):\n",
    "    def __init__(self):\n",
    "        Animal.__init__(self)\n",
    "        super().__init__()\n",
    "        print(\"Puppy created\")\n",
    "\n",
    "    def whoAmI(self):\n",
    "        print(\"Dog\")\n",
    "\n",
    "    def play(self):\n",
    "        print(\"!!!!\")\n",
    "\n",
    "class Penguin(Bird,Animal):\n",
    "    def __init__(self):\n",
    "        #Animal.__init__(self)\n",
    "        #Bird.__init__(self)\n",
    "        super().__init__()\n",
    "        print(\"Penguin created\")\n",
    "\n",
    "    def whoAmI(self):\n",
    "        print(\"Penguin\")\n",
    "\n",
    "    def swim(self):\n",
    "        print(\"PenguinSwimming!\")"
   ]
  },
  {
   "cell_type": "code",
   "execution_count": 82,
   "metadata": {},
   "outputs": [
    {
     "name": "stdout",
     "output_type": "stream",
     "text": [
      "###########################\n",
      "Animal created\n",
      "Dog created\n",
      "Animals can Run\n",
      "Woof!\n",
      "###########################\n",
      "Bird created\n",
      "Penguin created\n",
      "Bird Flyin\n",
      "Animals can Run\n",
      "###########################\n",
      "Animal created\n",
      "Animal created\n",
      "Dog created\n",
      "Puppy created\n",
      "Animals can Run\n",
      "###########################\n"
     ]
    }
   ],
   "source": [
    "print(\"###########################\")\n",
    "d = Dog()\n",
    "d.Run()\n",
    "d.bark()\n",
    "print(\"###########################\")\n",
    "e= Penguin()\n",
    "e.fly()\n",
    "e.Run()\n",
    "print(\"###########################\")\n",
    "f = Puppy()\n",
    "f.Run()\n",
    "print(\"###########################\")\n",
    "\n"
   ]
  },
  {
   "cell_type": "code",
   "execution_count": 31,
   "metadata": {},
   "outputs": [
    {
     "name": "stdout",
     "output_type": "stream",
     "text": [
      "Dog\n"
     ]
    }
   ],
   "source": [
    "d.whoAmI()"
   ]
  },
  {
   "cell_type": "code",
   "execution_count": null,
   "metadata": {},
   "outputs": [],
   "source": [
    "d.eat()"
   ]
  },
  {
   "cell_type": "code",
   "execution_count": null,
   "metadata": {},
   "outputs": [],
   "source": [
    "d.bark()"
   ]
  },
  {
   "cell_type": "markdown",
   "metadata": {},
   "source": [
    "### Super Function"
   ]
  },
  {
   "cell_type": "code",
   "execution_count": 92,
   "metadata": {},
   "outputs": [],
   "source": [
    "class Mammal_1(object):\n",
    "    def __init__(self, mammalName):\n",
    "        print(mammalName, 'is a warm-blooded animal 1.')\n",
    "    def chirp(self):\n",
    "        print(\"Birds Chirping\")\n",
    "    def run(self):\n",
    "        print(\"I run slowly\")\n",
    "    \n",
    "class Mammal_2(object):\n",
    "    def __init__(self, mammalName):\n",
    "        print(mammalName, 'is a warm-blooded animal 2.')\n",
    "    def bark(self):\n",
    "        print(\"barking\")\n",
    "    def run(self):\n",
    "        print(\"I run fastly\")\n",
    "    \n",
    "class Dog1(Mammal_2,Mammal_1):\n",
    "    def __init__(self):\n",
    "        print('Dog has four legs.')\n",
    "        #a = Mammal2(\"Dogs1\")\n",
    "        super().__init__(\"Kitty\")\n",
    "        #super().bark()\n",
    "        #Mammal2.__init__('Dogs')\n",
    "    \n",
    "class Bird1(Mammal_1,Mammal_2):\n",
    "    def __init__(self):\n",
    "        print('Bird has Two legs.')\n",
    "        #a = Mammal2(\"Dogs1\")\n",
    "        super().__init__(\"Tweety\")\n",
    "        super().chirp()\n",
    "        super().bark()\n",
    "    #Mammal2.__init__('Dogs')\n",
    "    "
   ]
  },
  {
   "cell_type": "code",
   "execution_count": 159,
   "metadata": {},
   "outputs": [
    {
     "name": "stdout",
     "output_type": "stream",
     "text": [
      "################################\n",
      "Dog has four legs.\n",
      "Kitty is a warm-blooded animal 2.\n",
      "I run fastly\n",
      "################################\n",
      "Bird has Two legs.\n",
      "Tweety is a warm-blooded animal 1.\n",
      "Birds Chirping\n",
      "barking\n",
      "Birds Chirping\n",
      "################################\n",
      "barking\n",
      "################################\n",
      "I run slowly\n",
      "################################\n",
      "I run fastly\n",
      "################################\n"
     ]
    }
   ],
   "source": [
    "print(\"################################\")\n",
    "d1 = Dog1()\n",
    "d1.run()\n",
    "print(\"################################\")\n",
    "d2 = Bird1()\n",
    "d2.chirp()\n",
    "print(\"################################\")\n",
    "d2.bark()\n",
    "print(\"################################\")\n",
    "d2.run()\n",
    "print(\"################################\")\n",
    "d1.run()\n",
    "print(\"################################\")"
   ]
  },
  {
   "cell_type": "markdown",
   "metadata": {},
   "source": [
    "In this example, we have two classes: Animal and Dog. The Animal is the base class, the Dog is the derived class. \n",
    "\n",
    "The derived class inherits the functionality of the base class. \n",
    "\n",
    "* It is shown by the eat() method. \n",
    "\n",
    "The derived class modifies existing behavior of the base class.\n",
    "\n",
    "* shown by the whoAmI() method. \n",
    "\n",
    "Finally, the derived class extends the functionality of the base class, by defining a new bark() method."
   ]
  },
  {
   "cell_type": "code",
   "execution_count": 160,
   "metadata": {},
   "outputs": [],
   "source": [
    "class Polygon:\n",
    "    def __init__(self, no_of_sides):\n",
    "        self.n = no_of_sides\n",
    "        self.sides = [0 for i in range(no_of_sides)]\n",
    "\n",
    "    def inputSides(self):\n",
    "        self.sides = [float(input(\"Enter side \"+str(i+1)+\" : \")) for i in range(self.n)]\n",
    "\n",
    "    def dispSides(self):\n",
    "        for i in range(self.n):\n",
    "            print(\"Side\",i+1,\"is\",self.sides[i])"
   ]
  },
  {
   "cell_type": "code",
   "execution_count": 161,
   "metadata": {},
   "outputs": [],
   "source": [
    "class Triangle(Polygon):\n",
    "    def __init__(self):\n",
    "        Polygon.__init__(self,3)\n",
    "\n",
    "    def findArea(self):\n",
    "        a, b, c = self.sides\n",
    "        # calculate the semi-perimeter\n",
    "        s = (a + b + c) / 2\n",
    "        area = (s*(s-a)*(s-b)*(s-c))**0.5 \n",
    "        print(area)\n",
    "        print(\"The area of the triangle is\", area)\n",
    "        print(\"The area of the triangle is %c\"%(area))\n",
    "        "
   ]
  },
  {
   "cell_type": "code",
   "execution_count": 162,
   "metadata": {},
   "outputs": [
    {
     "name": "stdout",
     "output_type": "stream",
     "text": [
      "Side 1 is 0\n",
      "Side 2 is 0\n",
      "Side 3 is 0\n",
      "Enter side 1 : 12\n",
      "Enter side 2 : 14\n",
      "Enter side 3 : 35\n",
      "Side 1 is 12.0\n",
      "Side 2 is 14.0\n",
      "Side 3 is 35.0\n",
      "(1.2533283658871711e-14+204.68405531452615j)\n",
      "The area of the triangle is (1.2533283658871711e-14+204.68405531452615j)\n"
     ]
    },
    {
     "ename": "TypeError",
     "evalue": "%c requires int or char",
     "output_type": "error",
     "traceback": [
      "\u001b[1;31m---------------------------------------------------------------------------\u001b[0m",
      "\u001b[1;31mTypeError\u001b[0m                                 Traceback (most recent call last)",
      "\u001b[1;32m<ipython-input-162-8e7faed658b7>\u001b[0m in \u001b[0;36m<module>\u001b[1;34m\u001b[0m\n\u001b[0;32m      3\u001b[0m \u001b[0mt\u001b[0m\u001b[1;33m.\u001b[0m\u001b[0minputSides\u001b[0m\u001b[1;33m(\u001b[0m\u001b[1;33m)\u001b[0m\u001b[1;33m\u001b[0m\u001b[1;33m\u001b[0m\u001b[0m\n\u001b[0;32m      4\u001b[0m \u001b[0mt\u001b[0m\u001b[1;33m.\u001b[0m\u001b[0mdispSides\u001b[0m\u001b[1;33m(\u001b[0m\u001b[1;33m)\u001b[0m\u001b[1;33m\u001b[0m\u001b[1;33m\u001b[0m\u001b[0m\n\u001b[1;32m----> 5\u001b[1;33m \u001b[0mt\u001b[0m\u001b[1;33m.\u001b[0m\u001b[0mfindArea\u001b[0m\u001b[1;33m(\u001b[0m\u001b[1;33m)\u001b[0m\u001b[1;33m\u001b[0m\u001b[1;33m\u001b[0m\u001b[0m\n\u001b[0m",
      "\u001b[1;32m<ipython-input-161-5bd7b2d86e31>\u001b[0m in \u001b[0;36mfindArea\u001b[1;34m(self)\u001b[0m\n\u001b[0;32m     10\u001b[0m         \u001b[0mprint\u001b[0m\u001b[1;33m(\u001b[0m\u001b[0marea\u001b[0m\u001b[1;33m)\u001b[0m\u001b[1;33m\u001b[0m\u001b[1;33m\u001b[0m\u001b[0m\n\u001b[0;32m     11\u001b[0m         \u001b[0mprint\u001b[0m\u001b[1;33m(\u001b[0m\u001b[1;34m\"The area of the triangle is\"\u001b[0m\u001b[1;33m,\u001b[0m \u001b[0marea\u001b[0m\u001b[1;33m)\u001b[0m\u001b[1;33m\u001b[0m\u001b[1;33m\u001b[0m\u001b[0m\n\u001b[1;32m---> 12\u001b[1;33m         \u001b[0mprint\u001b[0m\u001b[1;33m(\u001b[0m\u001b[1;34m\"The area of the triangle is %c\"\u001b[0m\u001b[1;33m%\u001b[0m\u001b[1;33m(\u001b[0m\u001b[0marea\u001b[0m\u001b[1;33m)\u001b[0m\u001b[1;33m)\u001b[0m\u001b[1;33m\u001b[0m\u001b[1;33m\u001b[0m\u001b[0m\n\u001b[0m\u001b[0;32m     13\u001b[0m \u001b[1;33m\u001b[0m\u001b[0m\n",
      "\u001b[1;31mTypeError\u001b[0m: %c requires int or char"
     ]
    }
   ],
   "source": [
    "t = Triangle()\n",
    "t.dispSides()\n",
    "t.inputSides()\n",
    "t.dispSides()\n",
    "t.findArea()\n"
   ]
  },
  {
   "cell_type": "markdown",
   "metadata": {},
   "source": [
    "#### Check instance and object type"
   ]
  },
  {
   "cell_type": "code",
   "execution_count": 164,
   "metadata": {},
   "outputs": [
    {
     "name": "stdout",
     "output_type": "stream",
     "text": [
      "True\n",
      "True\n",
      "False\n",
      "###################################\n",
      "False\n",
      "False\n",
      "True\n",
      "True\n",
      "###########################################\n",
      "inheritance will not be an instance of the class\n",
      "False\n"
     ]
    }
   ],
   "source": [
    "print(isinstance(t,Triangle))#True\n",
    "print(isinstance(t,Polygon))#True\n",
    "print(isinstance(d,Triangle))#True\n",
    "print(\"###################################\")\n",
    "print(issubclass(Polygon,Triangle))#False\n",
    "print(issubclass(Animal,Bird))#False\n",
    "print(issubclass(Penguin,Bird))#True\n",
    "print(issubclass(Triangle,Polygon))#True\n",
    "print(\"###########################################\")\n",
    "print(\"inheritance will not be an instance of the class\")\n",
    "print(isinstance(Triangle,Polygon))#True\n"
   ]
  },
  {
   "cell_type": "markdown",
   "metadata": {},
   "source": [
    "### Encapsulation and Abstraction\n",
    "<ul>\n",
    "<li>**Encapsulation** is a way to achieve \"information hiding\" so, following your example, you don't \"need to know the internal working of the mobile phone to operate\" with it. You have an interface to use the device behaviour without knowing implementation details.</li>\n",
    "<li>**Abstraction** on the other side, can be explained as the capability to use the same interface for different objects. Different implementations of the same interface can exist. Details are hidden by encapsulation.</li>\n",
    "</ul>"
   ]
  },
  {
   "cell_type": "markdown",
   "metadata": {},
   "source": [
    "### Create a computer  object from many of its parts (RAM, CPU, Processor, Keyboard, Mouse, Display) as it's parent classes..\n"
   ]
  },
  {
   "cell_type": "markdown",
   "metadata": {},
   "source": [
    "### Encapsulation"
   ]
  },
  {
   "cell_type": "code",
   "execution_count": 168,
   "metadata": {},
   "outputs": [
    {
     "name": "stdout",
     "output_type": "stream",
     "text": [
      "123\n",
      "124\n",
      "372\n",
      "372\n",
      "#############private sum method called from getprivatesummethod ###############\n",
      "372\n",
      "25\n",
      "None\n",
      "#######################\n",
      "123\n",
      "10\n"
     ]
    },
    {
     "ename": "AttributeError",
     "evalue": "'SubRobot' object has no attribute 'a'",
     "output_type": "error",
     "traceback": [
      "\u001b[1;31m---------------------------------------------------------------------------\u001b[0m",
      "\u001b[1;31mAttributeError\u001b[0m                            Traceback (most recent call last)",
      "\u001b[1;32m<ipython-input-168-cf06ff1cba32>\u001b[0m in \u001b[0;36m<module>\u001b[1;34m\u001b[0m\n\u001b[0;32m     51\u001b[0m \u001b[0mobj\u001b[0m\u001b[1;33m.\u001b[0m\u001b[0m_b\u001b[0m \u001b[1;33m=\u001b[0m \u001b[1;36m10\u001b[0m\u001b[1;33m\u001b[0m\u001b[1;33m\u001b[0m\u001b[0m\n\u001b[0;32m     52\u001b[0m \u001b[0mobj1\u001b[0m \u001b[1;33m=\u001b[0m \u001b[0mSubRobot\u001b[0m\u001b[1;33m(\u001b[0m\u001b[0mobj\u001b[0m\u001b[1;33m)\u001b[0m\u001b[1;33m\u001b[0m\u001b[1;33m\u001b[0m\u001b[0m\n\u001b[1;32m---> 53\u001b[1;33m \u001b[0mobj1\u001b[0m\u001b[1;33m.\u001b[0m\u001b[0m_sum1\u001b[0m\u001b[1;33m(\u001b[0m\u001b[1;33m)\u001b[0m\u001b[1;33m\u001b[0m\u001b[1;33m\u001b[0m\u001b[0m\n\u001b[0m",
      "\u001b[1;32m<ipython-input-168-cf06ff1cba32>\u001b[0m in \u001b[0;36m_sum1\u001b[1;34m(self)\u001b[0m\n\u001b[0;32m      9\u001b[0m \u001b[1;33m\u001b[0m\u001b[0m\n\u001b[0;32m     10\u001b[0m     \u001b[1;32mdef\u001b[0m \u001b[0m_sum1\u001b[0m\u001b[1;33m(\u001b[0m\u001b[0mself\u001b[0m\u001b[1;33m)\u001b[0m\u001b[1;33m:\u001b[0m\u001b[1;33m\u001b[0m\u001b[1;33m\u001b[0m\u001b[0m\n\u001b[1;32m---> 11\u001b[1;33m         \u001b[1;32mreturn\u001b[0m \u001b[0mself\u001b[0m\u001b[1;33m.\u001b[0m\u001b[0ma\u001b[0m \u001b[1;33m+\u001b[0m\u001b[0mself\u001b[0m\u001b[1;33m.\u001b[0m\u001b[0m_b\u001b[0m \u001b[1;33m+\u001b[0m \u001b[0mself\u001b[0m\u001b[1;33m.\u001b[0m\u001b[0m__c\u001b[0m\u001b[1;33m\u001b[0m\u001b[1;33m\u001b[0m\u001b[0m\n\u001b[0m\u001b[0;32m     12\u001b[0m \u001b[1;33m\u001b[0m\u001b[0m\n\u001b[0;32m     13\u001b[0m     \u001b[1;32mdef\u001b[0m \u001b[0m__sum2\u001b[0m\u001b[1;33m(\u001b[0m\u001b[0mself\u001b[0m\u001b[1;33m)\u001b[0m\u001b[1;33m:\u001b[0m\u001b[1;33m\u001b[0m\u001b[1;33m\u001b[0m\u001b[0m\n",
      "\u001b[1;31mAttributeError\u001b[0m: 'SubRobot' object has no attribute 'a'"
     ]
    }
   ],
   "source": [
    "class Robot(object):\n",
    "    def __init__(self):\n",
    "        self.a = 123\n",
    "        self._b = 124\n",
    "        self.__c = 125\n",
    "             \n",
    "    def sum(self):\n",
    "        return self.a +self._b + self.__c\n",
    "        \n",
    "    def _sum1(self):\n",
    "        return self.a +self._b + self.__c\n",
    "\n",
    "    def __sum2(self):\n",
    "        return self.a +self._b + self.__c\n",
    "\n",
    "    def getprivatesummethod(self):\n",
    "        return self.__sum2()\n",
    "    \n",
    "    def SetValue(self,value):\n",
    "        self.__c = value\n",
    "        print(self.__c)\n",
    "\n",
    "\n",
    "class SubRobot(Robot):\n",
    "    def __init__(self, instance1):\n",
    "        print(instance1.a)\n",
    "        print(instance1._b)\n",
    "        #print(instance1.__c)\n",
    "\n",
    "        #print(Robot.b)\n",
    "        #print(Robot.c)\n",
    "        \n",
    "        \n",
    "\n",
    "obj = Robot()\n",
    "print(obj.a)\n",
    "print(obj._b)\n",
    "#print(obj.__c)#Private variable, hence not be accessed.\n",
    "\n",
    "print(obj.sum())\n",
    "print(obj._sum1())\n",
    "#print(obj.__sum2())\n",
    "print(\"#############private sum method called from getprivatesummethod ###############\")\n",
    "print(obj.getprivatesummethod())\n",
    "print(obj.SetValue(25))\n",
    "print(\"#######################\")\n",
    "#print(Robot.sum1())\n",
    "#obj1 = SubRobot(obj)\n",
    "#print(Robot.a)\n",
    "#print(Robot._b)\n",
    "obj._b = 10 \n",
    "obj1 = SubRobot(obj)\n",
    "obj1._sum1()"
   ]
  },
  {
   "cell_type": "code",
   "execution_count": 170,
   "metadata": {},
   "outputs": [
    {
     "name": "stdout",
     "output_type": "stream",
     "text": [
      "10\n",
      "value now set \n",
      "23\n"
     ]
    },
    {
     "ename": "AttributeError",
     "evalue": "'Robot' object has no attribute '__version'",
     "output_type": "error",
     "traceback": [
      "\u001b[1;31m---------------------------------------------------------------------------\u001b[0m",
      "\u001b[1;31mAttributeError\u001b[0m                            Traceback (most recent call last)",
      "\u001b[1;32m<ipython-input-170-2f7e88430299>\u001b[0m in \u001b[0;36m<module>\u001b[1;34m\u001b[0m\n\u001b[0;32m     17\u001b[0m \u001b[0mobj\u001b[0m\u001b[1;33m.\u001b[0m\u001b[0msetVersion\u001b[0m\u001b[1;33m(\u001b[0m\u001b[1;36m23\u001b[0m\u001b[1;33m)\u001b[0m\u001b[1;33m\u001b[0m\u001b[1;33m\u001b[0m\u001b[0m\n\u001b[0;32m     18\u001b[0m \u001b[0mobj\u001b[0m\u001b[1;33m.\u001b[0m\u001b[0mprintVersion\u001b[0m\u001b[1;33m(\u001b[0m\u001b[1;33m)\u001b[0m\u001b[1;31m#23\u001b[0m\u001b[1;33m\u001b[0m\u001b[1;33m\u001b[0m\u001b[0m\n\u001b[1;32m---> 19\u001b[1;33m \u001b[0mprint\u001b[0m\u001b[1;33m(\u001b[0m\u001b[0mobj\u001b[0m\u001b[1;33m.\u001b[0m\u001b[0m__version\u001b[0m\u001b[1;33m)\u001b[0m\u001b[1;33m\u001b[0m\u001b[1;33m\u001b[0m\u001b[0m\n\u001b[0m",
      "\u001b[1;31mAttributeError\u001b[0m: 'Robot' object has no attribute '__version'"
     ]
    }
   ],
   "source": [
    "class Robot(object):\n",
    "    def __init__(self):\n",
    "        self.__version = 10\n",
    "\n",
    "    def getVersion(self):\n",
    "        print(self.__version)\n",
    "\n",
    "    def setVersion(self, version):\n",
    "        self.__version = version\n",
    "        print(\"value now set \")\n",
    "        \n",
    "    def printVersion(self):\n",
    "        print(self.__version)\n",
    "\n",
    "obj = Robot()\n",
    "obj.getVersion()#10\n",
    "obj.setVersion(23)\n",
    "obj.printVersion()#23\n",
    "print(obj.__version)"
   ]
  },
  {
   "cell_type": "code",
   "execution_count": 171,
   "metadata": {},
   "outputs": [],
   "source": [
    "class Cup:\n",
    "    def __init__(self):\n",
    "        self.color = None\n",
    "        self.content = None\n",
    "\n",
    "    def fill(self, beverage):\n",
    "        self.content = beverage\n",
    "\n",
    "    def empty(self):\n",
    "        self.content = None\n",
    "\n",
    "        \n",
    "redCup = Cup()\n",
    "redCup.color = \"red\"\n",
    "redCup.content = \"tea\"\n",
    "redCup.empty()\n",
    "redCup.fill(\"coffee\")"
   ]
  },
  {
   "cell_type": "markdown",
   "metadata": {},
   "source": [
    "### Protected "
   ]
  },
  {
   "cell_type": "code",
   "execution_count": 172,
   "metadata": {},
   "outputs": [],
   "source": [
    "class Cup:\n",
    "    def __init__(self):\n",
    "        self.color = None\n",
    "        self._content = None # protected variable\n",
    "\n",
    "    def fill(self, beverage):\n",
    "        self._content = beverage\n",
    "\n",
    "    def empty(self):\n",
    "        self._content = None\n",
    "        \n",
    "    def GetContent(self):\n",
    "        print(self._content)"
   ]
  },
  {
   "cell_type": "code",
   "execution_count": 174,
   "metadata": {},
   "outputs": [
    {
     "name": "stdout",
     "output_type": "stream",
     "text": [
      "################################\n",
      "tea\n",
      "################################\n"
     ]
    }
   ],
   "source": [
    "print(\"################################\")\n",
    "cup = Cup()\n",
    "cup._content = \"tea\"\n",
    "cup.GetContent()\n",
    "print(\"################################\")\n"
   ]
  },
  {
   "cell_type": "code",
   "execution_count": 175,
   "metadata": {},
   "outputs": [],
   "source": [
    "class Cup:\n",
    "    def __init__(self, color):\n",
    "        self._color = color    # protected variable\n",
    "        self.__content = None  # private variable\n",
    "\n",
    "    def fill(self, beverage):\n",
    "        self.__content = beverage\n",
    "\n",
    "    def empty(self):\n",
    "        self.__content = None\n",
    "    \n",
    "    def get_CupContent(self):\n",
    "        return self.__content \n",
    "    \n",
    "    def __get_CupContent(self):\n",
    "        return self.__content + \" from Private method\"\n",
    "    \n",
    "    def get_PrivateCupContent(self):\n",
    "        return self.__get_CupContent() \n",
    "    \n"
   ]
  },
  {
   "cell_type": "code",
   "execution_count": 176,
   "metadata": {},
   "outputs": [
    {
     "name": "stdout",
     "output_type": "stream",
     "text": [
      "################################\n",
      "tea1\n",
      "################################\n",
      "red\n",
      "################################\n",
      "################################\n",
      "tea1 from Private method\n",
      "################################\n",
      "red\n",
      "################################\n",
      "########Call via shadow class ########################\n",
      "tea1 from Private method\n",
      "################################\n",
      "tea1\n",
      "################################\n"
     ]
    }
   ],
   "source": [
    "redCup = Cup(\"red\")\n",
    "redCup._Cup__content = \"tea1\"\n",
    "print(\"################################\")\n",
    "print(redCup.get_CupContent())\n",
    "print(\"################################\")\n",
    "print(redCup._color)\n",
    "print(\"################################\")\n",
    "##print(redCup.__content)\n",
    "print(\"################################\")\n",
    "print(redCup.get_PrivateCupContent())\n",
    "print(\"################################\")\n",
    "print(redCup._color)\n",
    "print(\"################################\")\n",
    "#print(redCup.__content)\n",
    "print(\"########Call via shadow class ########################\")\n",
    "print(redCup._Cup__get_CupContent())\n",
    "print(\"################################\")\n",
    "print(redCup._Cup__content)\n",
    "print(\"################################\")\n"
   ]
  },
  {
   "cell_type": "code",
   "execution_count": 177,
   "metadata": {},
   "outputs": [],
   "source": [
    "class Car(object):\n",
    "    __maxspeed = 0\n",
    "    __name = \"\"\n",
    "    bhp  = 1000\n",
    "    \n",
    "    def __init__(self):\n",
    "        self.__updateSoftware()\n",
    "    \n",
    "    def drive(self):\n",
    "        print('driving')\n",
    "    \n",
    "    def __updateSoftware(self):\n",
    "        print('updating software')\n",
    "\n",
    "    def setMaxSpeed(self,speed):\n",
    "        self.__maxspeed = speed\n",
    "\n",
    "    def getMaxSpeed(self):\n",
    "        return self.__maxspeed"
   ]
  },
  {
   "cell_type": "code",
   "execution_count": 179,
   "metadata": {},
   "outputs": [
    {
     "name": "stdout",
     "output_type": "stream",
     "text": [
      "updating software\n",
      "1020\n",
      "driving\n",
      "500\n",
      "0\n",
      "800\n"
     ]
    }
   ],
   "source": [
    "redcar = Car()\n",
    "#redcar.__updateSoftware()\n",
    "redcar.bhp =1020\n",
    "print(redcar.bhp)\n",
    "redcar.drive()\n",
    "#print(redcar.__maxspeed)\n",
    "redcar.__maxspeed = 500\n",
    "print(redcar.__maxspeed)\n",
    "print(redcar.getMaxSpeed())\n",
    "redcar.setMaxSpeed(800)\n",
    "#print(redcar.__maxspeed)\n",
    "print(redcar.getMaxSpeed())\n",
    "#print(redcar.__maxspeed)\n"
   ]
  },
  {
   "cell_type": "markdown",
   "metadata": {},
   "source": [
    "### Abstraction\n"
   ]
  },
  {
   "cell_type": "markdown",
   "metadata": {},
   "source": [
    "<p>Abstract classes are classes that contain one or more abstract methods.\n",
    "    <br> An abstract method is a method that is declared, but contains no implementation. Abstract classes may not be instantiated, \n",
    "and require subclasses to provide implementations for the abstract methods. </p>"
   ]
  },
  {
   "cell_type": "code",
   "execution_count": 180,
   "metadata": {},
   "outputs": [],
   "source": [
    "class AbstractClass:\n",
    "    \n",
    "    def do_something(self):\n",
    "        pass\n",
    "    \n",
    "    \n",
    "class B(AbstractClass):\n",
    "    pass\n",
    "\n",
    "a = AbstractClass()\n",
    "b = B()"
   ]
  },
  {
   "cell_type": "code",
   "execution_count": 189,
   "metadata": {},
   "outputs": [],
   "source": [
    "from abc import ABC, abstractmethod\n",
    " \n",
    "class AbstractClassExample(ABC):\n",
    " \n",
    "    def __init__(self, value):\n",
    "        self.value = value\n",
    "        super().__init__()\n",
    "    \n",
    "    @abstractmethod\n",
    "    def do_something(self):\n",
    "        pass\n",
    "    \n",
    "    #@abstractmethod\n",
    "    def do_add20():\n",
    "        return (20)"
   ]
  },
  {
   "cell_type": "code",
   "execution_count": 187,
   "metadata": {},
   "outputs": [
    {
     "ename": "TypeError",
     "evalue": "Can't instantiate abstract class DoAdd10 with abstract methods do_add20",
     "output_type": "error",
     "traceback": [
      "\u001b[1;31m---------------------------------------------------------------------------\u001b[0m",
      "\u001b[1;31mTypeError\u001b[0m                                 Traceback (most recent call last)",
      "\u001b[1;32m<ipython-input-187-3f040b4a23c2>\u001b[0m in \u001b[0;36m<module>\u001b[1;34m\u001b[0m\n\u001b[0;32m     13\u001b[0m \u001b[1;33m\u001b[0m\u001b[0m\n\u001b[0;32m     14\u001b[0m \u001b[1;33m\u001b[0m\u001b[0m\n\u001b[1;32m---> 15\u001b[1;33m \u001b[0mx\u001b[0m \u001b[1;33m=\u001b[0m \u001b[0mDoAdd10\u001b[0m\u001b[1;33m(\u001b[0m\u001b[1;36m100\u001b[0m\u001b[1;33m)\u001b[0m\u001b[1;33m\u001b[0m\u001b[1;33m\u001b[0m\u001b[0m\n\u001b[0m\u001b[0;32m     16\u001b[0m \u001b[0my\u001b[0m \u001b[1;33m=\u001b[0m \u001b[0mDoMul10\u001b[0m\u001b[1;33m(\u001b[0m\u001b[1;36m100\u001b[0m\u001b[1;33m)\u001b[0m\u001b[1;33m\u001b[0m\u001b[1;33m\u001b[0m\u001b[0m\n\u001b[0;32m     17\u001b[0m \u001b[1;31m#z = AbstractClassExample()\u001b[0m\u001b[1;33m\u001b[0m\u001b[1;33m\u001b[0m\u001b[1;33m\u001b[0m\u001b[0m\n",
      "\u001b[1;31mTypeError\u001b[0m: Can't instantiate abstract class DoAdd10 with abstract methods do_add20"
     ]
    }
   ],
   "source": [
    "class DoAdd10(AbstractClassExample):\n",
    "    def do_something(self):\n",
    "        return self.value + 10\n",
    "    #def do_add20(self):\n",
    "    #    return self.do_add(20) + 20\n",
    "    \n",
    "class DoMul10(AbstractClassExample):\n",
    "    def do_add20(self):\n",
    "        print(AbstractClassExample.do_add20())\n",
    "        return AbstractClassExample.do_add20() + 20 **2\n",
    "    def do_something(self):\n",
    "        return self.value * 10\n",
    "        \n",
    "    \n",
    "x = DoAdd10(100)\n",
    "y = DoMul10(100)\n",
    "#z = AbstractClassExample()\n",
    "\n",
    "print(x.do_something())\n",
    "print(y.do_something())\n",
    "print(y.do_add20())\n",
    "#print(z.do_add20())\n",
    "\n"
   ]
  },
  {
   "cell_type": "code",
   "execution_count": 46,
   "metadata": {},
   "outputs": [],
   "source": [
    "from abc import ABC, abstractmethod\n",
    "\n",
    "class Profession(ABC):\n",
    " \n",
    "    def __init__(self, value):\n",
    "        self.value = value\n",
    "        super().__init__()\n",
    "    \n",
    "    @abstractmethod\n",
    "    def getProfession(self):\n",
    "        print(\"I do different works based on my talents\")\n",
    "        pass\n",
    "\n",
    "    \n",
    "class Artist(Profession):\n",
    "    \n",
    "    def getProfession(self):\n",
    "        return \"I am an artist, I paint drawings\" \n",
    "        #print(\"I am an artist, I paint drawings\")\n",
    "    \n",
    "class Engineer(Profession):\n",
    "    \n",
    "    def getProfession(self):\n",
    "        return \"I am an Engineer, I engineer different materials\" \n",
    "        #print(\"I am an Engineer, I engineer different materials\")\n",
    "\n",
    "#P= Profession()         \n",
    "\n",
    "x = Artist(\"Artist\")\n",
    "y = Engineer(\"Engineer\")\n"
   ]
  },
  {
   "cell_type": "code",
   "execution_count": 47,
   "metadata": {},
   "outputs": [
    {
     "name": "stdout",
     "output_type": "stream",
     "text": [
      "I am an artist, I paint drawings\n",
      "I am an Engineer, I engineer different materials\n"
     ]
    }
   ],
   "source": [
    "\n",
    "print(x.getProfession())\n",
    "print(y.getProfession())"
   ]
  },
  {
   "cell_type": "markdown",
   "metadata": {},
   "source": [
    "## Special Methods\n",
    "Finally lets go over special methods. Classes in Python can implement certain operations with special method names. These methods are not actually called directly but by Python specific language syntax. For example Lets create a Book class:"
   ]
  },
  {
   "cell_type": "code",
   "execution_count": 70,
   "metadata": {},
   "outputs": [],
   "source": [
    "class Book(object):\n",
    "    def __init__(self, title, author, pages):\n",
    "        print(\"A book is created\")\n",
    "        self.title = title\n",
    "        self.author = author\n",
    "        self.pages = pages\n",
    "\n",
    "    def __str__(self):\n",
    "        return \"Title:%s , author:%s, pages:%s \" %(self.title, self.author, self.pages)\n",
    "\n",
    "    def __len__(self):\n",
    "        return self.pages\n",
    "\n",
    "    def __del__(self):\n",
    "        print(\"A book is destroyed\")"
   ]
  },
  {
   "cell_type": "code",
   "execution_count": 74,
   "metadata": {},
   "outputs": [
    {
     "name": "stdout",
     "output_type": "stream",
     "text": [
      "3\n",
      "[1, 2, 3]\n",
      "###############\n",
      "A book is created\n",
      "A book is destroyed\n",
      "Title:Python Rocks! , author:Jose Portilla, pages:159 \n",
      "Title:Python Rocks! , author:Jose Portilla, pages:159 \n",
      "A book is destroyed\n"
     ]
    },
    {
     "ename": "NameError",
     "evalue": "name 'book_1' is not defined",
     "output_type": "error",
     "traceback": [
      "\u001b[1;31m---------------------------------------------------------------------------\u001b[0m",
      "\u001b[1;31mNameError\u001b[0m                                 Traceback (most recent call last)",
      "\u001b[1;32m<ipython-input-74-8d53f3d3bc1a>\u001b[0m in \u001b[0;36m<module>\u001b[1;34m\u001b[0m\n\u001b[0;32m     10\u001b[0m \u001b[1;31m#print(len(book_1))\u001b[0m\u001b[1;33m\u001b[0m\u001b[1;33m\u001b[0m\u001b[1;33m\u001b[0m\u001b[0m\n\u001b[0;32m     11\u001b[0m \u001b[1;32mdel\u001b[0m \u001b[0mbook_1\u001b[0m\u001b[1;33m\u001b[0m\u001b[1;33m\u001b[0m\u001b[0m\n\u001b[1;32m---> 12\u001b[1;33m \u001b[0mprint\u001b[0m\u001b[1;33m(\u001b[0m\u001b[0mstr\u001b[0m\u001b[1;33m(\u001b[0m\u001b[0mbook_1\u001b[0m\u001b[1;33m)\u001b[0m\u001b[1;33m)\u001b[0m\u001b[1;33m\u001b[0m\u001b[1;33m\u001b[0m\u001b[0m\n\u001b[0m\u001b[0;32m     13\u001b[0m \u001b[0mbook_1\u001b[0m\u001b[1;33m.\u001b[0m\u001b[0mtitle\u001b[0m\u001b[1;33m\u001b[0m\u001b[1;33m\u001b[0m\u001b[0m\n",
      "\u001b[1;31mNameError\u001b[0m: name 'book_1' is not defined"
     ]
    }
   ],
   "source": [
    "a =[1,2,3]\n",
    "print(len(a))\n",
    "print(str(a))\n",
    "print(\"###############\")\n",
    "book_1 = Book(\"Python Rocks!\", \"Jose Portilla\", 159)\n",
    "\n",
    "#Special Methods\n",
    "print(book_1)\n",
    "print(str(book_1))\n",
    "#print(len(book_1))\n",
    "del book_1\n",
    "print(str(book_1))\n",
    "book_1.title\n"
   ]
  },
  {
   "cell_type": "markdown",
   "metadata": {},
   "source": [
    "    The __init__(), __str__(), __len__() and the __del__() methods.\n",
    "These special methods are defined by their use of underscores. They allow us to use Python specific functions on objects created through our class.\n",
    "\n",
    "\n"
   ]
  }
 ],
 "metadata": {
  "kernelspec": {
   "display_name": "Python 3",
   "language": "python",
   "name": "python3"
  },
  "language_info": {
   "codemirror_mode": {
    "name": "ipython",
    "version": 3
   },
   "file_extension": ".py",
   "mimetype": "text/x-python",
   "name": "python",
   "nbconvert_exporter": "python",
   "pygments_lexer": "ipython3",
   "version": "3.7.3"
  }
 },
 "nbformat": 4,
 "nbformat_minor": 1
}
