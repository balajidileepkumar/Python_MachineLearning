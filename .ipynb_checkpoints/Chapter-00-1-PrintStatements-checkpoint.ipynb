{
 "cells": [
  {
   "cell_type": "markdown",
   "metadata": {},
   "source": [
    "#### Python Basics"
   ]
  },
  {
   "cell_type": "code",
   "execution_count": 37,
   "metadata": {
    "scrolled": true
   },
   "outputs": [
    {
     "data": {
      "text/plain": [
       "'\\nHello World\\n'"
      ]
     },
     "execution_count": 37,
     "metadata": {},
     "output_type": "execute_result"
    }
   ],
   "source": [
    "'''\n",
    "Hello World\n",
    "'''\n",
    "#Can be used for multiline comments\n"
   ]
  },
  {
   "cell_type": "code",
   "execution_count": 36,
   "metadata": {},
   "outputs": [],
   "source": [
    "# tag stands for comment in python "
   ]
  },
  {
   "cell_type": "code",
   "execution_count": 35,
   "metadata": {},
   "outputs": [
    {
     "name": "stdout",
     "output_type": "stream",
     "text": [
      "\n"
     ]
    }
   ],
   "source": [
    "print()"
   ]
  },
  {
   "cell_type": "code",
   "execution_count": 6,
   "metadata": {
    "scrolled": true
   },
   "outputs": [
    {
     "name": "stdout",
     "output_type": "stream",
     "text": [
      "Hello World\n"
     ]
    }
   ],
   "source": [
    "print(\"Hello World\")"
   ]
  },
  {
   "cell_type": "code",
   "execution_count": 33,
   "metadata": {},
   "outputs": [
    {
     "name": "stdout",
     "output_type": "stream",
     "text": [
      "Hello World -1\n"
     ]
    }
   ],
   "source": [
    "a = \"Hello World -1\"\n",
    "print(a)"
   ]
  },
  {
   "cell_type": "code",
   "execution_count": 10,
   "metadata": {},
   "outputs": [
    {
     "name": "stdout",
     "output_type": "stream",
     "text": [
      "1\n"
     ]
    }
   ],
   "source": [
    "print(1)"
   ]
  },
  {
   "cell_type": "markdown",
   "metadata": {},
   "source": [
    "####  pass multiple strings"
   ]
  },
  {
   "cell_type": "code",
   "execution_count": 40,
   "metadata": {},
   "outputs": [
    {
     "name": "stdout",
     "output_type": "stream",
     "text": [
      "Hello World\n"
     ]
    }
   ],
   "source": [
    "print(\"Hello\",\"World\")"
   ]
  },
  {
   "cell_type": "code",
   "execution_count": 20,
   "metadata": {},
   "outputs": [
    {
     "name": "stdout",
     "output_type": "stream",
     "text": [
      "Hello World Welcome To Python\n"
     ]
    }
   ],
   "source": [
    "print(\"Hello\",\"World\",\"Welcome\",\"To\",\"Python\")"
   ]
  },
  {
   "cell_type": "code",
   "execution_count": 19,
   "metadata": {},
   "outputs": [
    {
     "name": "stdout",
     "output_type": "stream",
     "text": [
      "Hello#World#Welcome#To#Python\n"
     ]
    }
   ],
   "source": [
    "print(\"Hello\",\"World\",\"Welcome\",\"To\",\"Python\", sep = \"#\")"
   ]
  },
  {
   "cell_type": "code",
   "execution_count": 21,
   "metadata": {},
   "outputs": [
    {
     "name": "stdout",
     "output_type": "stream",
     "text": [
      "Hello# #World!"
     ]
    }
   ],
   "source": [
    "print(\"Hello\",\"World\", sep = \"# #\", end =\"!\")\n"
   ]
  },
  {
   "cell_type": "markdown",
   "metadata": {},
   "source": [
    "### No values to print statement, prints out a line"
   ]
  },
  {
   "cell_type": "code",
   "execution_count": 22,
   "metadata": {},
   "outputs": [
    {
     "name": "stdout",
     "output_type": "stream",
     "text": [
      "\n",
      "###############\n",
      "\n",
      "\n",
      "###############\n",
      "\n",
      "\n",
      "\n",
      "\n",
      "###############\n"
     ]
    }
   ],
   "source": [
    "print()\n",
    "print(\"###############\")\n",
    "print()\n",
    "print()\n",
    "print(\"###############\")\n",
    "print()\n",
    "print()\n",
    "print()\n",
    "print()\n",
    "print(\"###############\")"
   ]
  },
  {
   "cell_type": "markdown",
   "metadata": {},
   "source": [
    "%s - string\n",
    "%d - integers\n",
    "%f - float or decimal values"
   ]
  },
  {
   "cell_type": "markdown",
   "metadata": {},
   "source": [
    "# C-Style Formatters"
   ]
  },
  {
   "cell_type": "code",
   "execution_count": 26,
   "metadata": {},
   "outputs": [
    {
     "name": "stdout",
     "output_type": "stream",
     "text": [
      "I am  Raj, My age is 12, and I scored  82.34 percent in board exam\n"
     ]
    }
   ],
   "source": [
    "a =\"Raj\"\n",
    "b =12\n",
    "c =82.345\n",
    "\n",
    "print(\"I am  %s, My age is %d, and I scored  %.2f percent in board exam\" %(a,b,c))"
   ]
  },
  {
   "cell_type": "markdown",
   "metadata": {},
   "source": [
    "### Python Format Condition"
   ]
  },
  {
   "cell_type": "code",
   "execution_count": 30,
   "metadata": {},
   "outputs": [
    {
     "name": "stdout",
     "output_type": "stream",
     "text": [
      "I am  Raj, My age is 12, and I scored 82.345 percent in my board exam\n"
     ]
    }
   ],
   "source": [
    "a =\"Raj\"\n",
    "b =12\n",
    "c =82.345\n",
    "print(\"I am  {}, My age is {}, and I scored {} percent in my board exam\".format(a,b,c))"
   ]
  },
  {
   "cell_type": "code",
   "execution_count": 31,
   "metadata": {},
   "outputs": [
    {
     "name": "stdout",
     "output_type": "stream",
     "text": [
      "I scored Raj percent in board exam, I am  12, My age is 82.345\n",
      "I scored 82.345 percent in board exam, I am  Raj, My age is 12\n"
     ]
    }
   ],
   "source": [
    "a =\"Raj\"\n",
    "b =12\n",
    "c =82.345\n",
    "print(\"I scored {} percent in board exam, I am  {}, My age is {}\".format(a,b,c))\n",
    "print(\"I scored {2} percent in board exam, I am  {0}, My age is {1}\".format(a,b,c))"
   ]
  },
  {
   "cell_type": "code",
   "execution_count": 32,
   "metadata": {},
   "outputs": [
    {
     "name": "stdout",
     "output_type": "stream",
     "text": [
      "I scored Vinoth percent in board exam, I am  12, My age is 82.345\n",
      "I scored 82.345 ercent in board exam, I am  Priya, My age is 12\n"
     ]
    }
   ],
   "source": [
    "a =\"Raj\"\n",
    "b =12\n",
    "c =82.345\n",
    "d =2\n",
    "print(\"I scored {} percent in board exam, I am  {}, My age is {}\".format(\"Vinoth\",b,c))\n",
    "print(\"I scored {2} ercent in board exam, I am  {0}, My age is {1}\".format(\"Priya\",b,c))\n"
   ]
  },
  {
   "cell_type": "code",
   "execution_count": 49,
   "metadata": {},
   "outputs": [
    {
     "name": "stdout",
     "output_type": "stream",
     "text": [
      "I scored 82.345 percent in board exam, I am  Raj, My age is 12\n"
     ]
    }
   ],
   "source": [
    "a =\"Raj\"\n",
    "b =12\n",
    "c =82.345\n",
    "print(f\"I scored {c} percent in board exam, I am  {a}, My age is {b}\")"
   ]
  }
 ],
 "metadata": {
  "kernelspec": {
   "display_name": "Python 3",
   "language": "python",
   "name": "python3"
  },
  "language_info": {
   "codemirror_mode": {
    "name": "ipython",
    "version": 3
   },
   "file_extension": ".py",
   "mimetype": "text/x-python",
   "name": "python",
   "nbconvert_exporter": "python",
   "pygments_lexer": "ipython3",
   "version": "3.7.3"
  }
 },
 "nbformat": 4,
 "nbformat_minor": 2
}
