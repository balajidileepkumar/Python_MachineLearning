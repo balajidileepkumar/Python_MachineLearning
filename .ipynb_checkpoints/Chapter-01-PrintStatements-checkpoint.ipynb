{
 "cells": [
  {
   "cell_type": "markdown",
   "metadata": {},
   "source": [
    "## Python Basics"
   ]
  },
  {
   "cell_type": "markdown",
   "metadata": {},
   "source": [
    "<h6> Comments </h6>"
   ]
  },
  {
   "cell_type": "code",
   "execution_count": 1,
   "metadata": {},
   "outputs": [
    {
     "data": {
      "text/plain": [
       "'\\nThis is comment\\nHello World\\nThis is  multiline comments\\n'"
      ]
     },
     "execution_count": 1,
     "metadata": {},
     "output_type": "execute_result"
    }
   ],
   "source": [
    "#multiline comment with '\n",
    "'''\n",
    "This is comment\n",
    "Hello World\n",
    "This is  multiline comments\n",
    "'''\n",
    "#multiline comment with \"\n",
    "\"\"\"\n",
    "This is comment\n",
    "Hello World\n",
    "This is  multiline comments\n",
    "\"\"\"\n",
    "# Can be used for single comment\n"
   ]
  },
  {
   "cell_type": "code",
   "execution_count": 2,
   "metadata": {},
   "outputs": [],
   "source": [
    "# tag stands for comment in python \n"
   ]
  },
  {
   "cell_type": "markdown",
   "metadata": {},
   "source": [
    "<h6> Print Statements </h6>"
   ]
  },
  {
   "cell_type": "code",
   "execution_count": 23,
   "metadata": {},
   "outputs": [
    {
     "name": "stdout",
     "output_type": "stream",
     "text": [
      "10abc 234a\n",
      "#############################\n",
      "10abc\n",
      "None\n",
      "#############################\n",
      "<class 'int'>\n"
     ]
    },
    {
     "data": {
      "text/plain": [
       "str"
      ]
     },
     "execution_count": 23,
     "metadata": {},
     "output_type": "execute_result"
    }
   ],
   "source": [
    "a = 4*5**6%7*18\n",
    "b = print(\"10abc\",\"234a\")\n",
    "print(a)\n",
    "print(\"#############################\")\n",
    "print(print(\"10abc\"))\n",
    "print(\"#############################\")\n",
    "print(type(a))\n",
    "a = \"10\"\n",
    "type(a)"
   ]
  },
  {
   "cell_type": "code",
   "execution_count": 25,
   "metadata": {
    "scrolled": true
   },
   "outputs": [
    {
     "name": "stdout",
     "output_type": "stream",
     "text": [
      "Hello World\n",
      "<class 'NoneType'> None\n"
     ]
    }
   ],
   "source": [
    "#print(\"Hello World\")\n",
    "a = print(\"Hello World\")\n",
    "print(type(a),a)"
   ]
  },
  {
   "cell_type": "code",
   "execution_count": 28,
   "metadata": {},
   "outputs": [
    {
     "name": "stdout",
     "output_type": "stream",
     "text": [
      "Hello World -1\n",
      "None\n"
     ]
    }
   ],
   "source": [
    "a = \"Hello World -1\"\n",
    "b = print(a)\n",
    "print(b)"
   ]
  },
  {
   "cell_type": "code",
   "execution_count": 32,
   "metadata": {},
   "outputs": [
    {
     "name": "stdout",
     "output_type": "stream",
     "text": [
      "1\n"
     ]
    }
   ],
   "source": [
    "print(1)"
   ]
  },
  {
   "cell_type": "code",
   "execution_count": null,
   "metadata": {},
   "outputs": [],
   "source": [
    "#class object():\n",
    "#    pass\n",
    "class humanbeing():\n",
    "    \n",
    "    def __init__(self):\n",
    "        self.height =6\n",
    "        print(self.height)\n",
    "        print(\"constructor initialized\")\n",
    "    \n",
    "    def __str__(self):\n",
    "        return \"I am a human being object\"\n",
    "    \n",
    "    def setheight(self):\n",
    "        self.height = 7\n",
    "\n",
    "a = humanbeing()\n",
    "print(a)\n",
    "a.setheight()\n",
    "print(a.height)\n",
    "b = humanbeing()\n",
    "print(b)\n",
    "print(b.setheight())\n",
    "print(b.height)\n"
   ]
  },
  {
   "cell_type": "code",
   "execution_count": null,
   "metadata": {},
   "outputs": [],
   "source": [
    "print((1,2))"
   ]
  },
  {
   "cell_type": "markdown",
   "metadata": {},
   "source": [
    "####  pass multiple strings"
   ]
  },
  {
   "cell_type": "code",
   "execution_count": 33,
   "metadata": {},
   "outputs": [
    {
     "name": "stdout",
     "output_type": "stream",
     "text": [
      "Hello World\n"
     ]
    }
   ],
   "source": [
    "print(\"Hello\",\"World\")"
   ]
  },
  {
   "cell_type": "code",
   "execution_count": 35,
   "metadata": {},
   "outputs": [],
   "source": [
    "import datetime"
   ]
  },
  {
   "cell_type": "code",
   "execution_count": 57,
   "metadata": {},
   "outputs": [
    {
     "name": "stdout",
     "output_type": "stream",
     "text": [
      "2020 5 10 12 58 52\n",
      "<class 'datetime.datetime'>\n",
      "2020-05-10 12:58:52.713154\n"
     ]
    },
    {
     "ename": "AttributeError",
     "evalue": "'str' object has no attribute 'year'",
     "output_type": "error",
     "traceback": [
      "\u001b[1;31m---------------------------------------------------------------------------\u001b[0m",
      "\u001b[1;31mAttributeError\u001b[0m                            Traceback (most recent call last)",
      "\u001b[1;32m<ipython-input-57-3b016bff3d71>\u001b[0m in \u001b[0;36m<module>\u001b[1;34m\u001b[0m\n\u001b[0;32m      5\u001b[0m \u001b[0mb\u001b[0m \u001b[1;33m=\u001b[0m \u001b[0mstr\u001b[0m\u001b[1;33m(\u001b[0m\u001b[0mdatetime\u001b[0m\u001b[1;33m.\u001b[0m\u001b[0mdatetime\u001b[0m\u001b[1;33m.\u001b[0m\u001b[0mnow\u001b[0m\u001b[1;33m(\u001b[0m\u001b[1;33m)\u001b[0m\u001b[1;33m)\u001b[0m\u001b[1;33m\u001b[0m\u001b[1;33m\u001b[0m\u001b[0m\n\u001b[0;32m      6\u001b[0m \u001b[0mprint\u001b[0m\u001b[1;33m(\u001b[0m\u001b[0mb\u001b[0m\u001b[1;33m)\u001b[0m\u001b[1;33m\u001b[0m\u001b[1;33m\u001b[0m\u001b[0m\n\u001b[1;32m----> 7\u001b[1;33m \u001b[0mprint\u001b[0m\u001b[1;33m(\u001b[0m\u001b[0mb\u001b[0m\u001b[1;33m.\u001b[0m\u001b[0myear\u001b[0m\u001b[1;33m,\u001b[0m \u001b[0mb\u001b[0m\u001b[1;33m.\u001b[0m\u001b[0mmonth\u001b[0m\u001b[1;33m,\u001b[0m \u001b[0mb\u001b[0m\u001b[1;33m.\u001b[0m\u001b[0mday\u001b[0m\u001b[1;33m,\u001b[0m \u001b[0mb\u001b[0m\u001b[1;33m.\u001b[0m\u001b[0mhour\u001b[0m\u001b[1;33m,\u001b[0m \u001b[0mb\u001b[0m\u001b[1;33m.\u001b[0m\u001b[0mminute\u001b[0m\u001b[1;33m,\u001b[0m \u001b[0mb\u001b[0m\u001b[1;33m.\u001b[0m\u001b[0msecond\u001b[0m\u001b[1;33m)\u001b[0m\u001b[1;33m\u001b[0m\u001b[1;33m\u001b[0m\u001b[0m\n\u001b[0m\u001b[0;32m      8\u001b[0m \u001b[1;31m#print(type(b))\u001b[0m\u001b[1;33m\u001b[0m\u001b[1;33m\u001b[0m\u001b[1;33m\u001b[0m\u001b[0m\n\u001b[0;32m      9\u001b[0m \u001b[1;33m\u001b[0m\u001b[0m\n",
      "\u001b[1;31mAttributeError\u001b[0m: 'str' object has no attribute 'year'"
     ]
    }
   ],
   "source": [
    "a = datetime.datetime.now()\n",
    "print(a.year, a.month, a.day, a.hour, a.minute, a.second)\n",
    "print(type(a))\n",
    "\n",
    "b = str(datetime.datetime.now())\n",
    "print(b)\n",
    "print(b.year, b.month, b.day, b.hour, b.minute, b.second)\n",
    "#print(type(b))\n",
    "\n",
    "import time\n",
    "c = \"2020-01-01-00:00:00\"\n",
    "newyear = time.strptime(c, \"%Y-%m-%d-%H:%M:%S\")\n",
    "print(newyear-datetime.datetime.now())\n",
    "#type(datetime.datetime.now())\n",
    "#print(datetime.datetime.now())"
   ]
  },
  {
   "cell_type": "code",
   "execution_count": 58,
   "metadata": {},
   "outputs": [
    {
     "name": "stdout",
     "output_type": "stream",
     "text": [
      "Hello World Welcome To Python 1 2020-05-10 12:59:20.242594\n"
     ]
    }
   ],
   "source": [
    "print(\"Hello\",\"World\",\"Welcome\",\"To\",\"Python\", 1, datetime.datetime.now() )"
   ]
  },
  {
   "cell_type": "code",
   "execution_count": 60,
   "metadata": {},
   "outputs": [
    {
     "name": "stdout",
     "output_type": "stream",
     "text": [
      "Hello$$$World$$$Welcome$$$To$$$Python\n"
     ]
    }
   ],
   "source": [
    "print(\"Hello\",\"World\",\"Welcome\",\"To\",\"Python\", sep = \"$$$\")"
   ]
  },
  {
   "cell_type": "code",
   "execution_count": 14,
   "metadata": {},
   "outputs": [
    {
     "name": "stdout",
     "output_type": "stream",
     "text": [
      "Hello$--$World$--$Welcome$--$To$--$Python$--$2wearegood"
     ]
    }
   ],
   "source": [
    "print(\"Hello\",\"World\",\"Welcome\",\"To\",\"Python\", 2, sep = \"$--$\", end =\"wearegood\")"
   ]
  },
  {
   "cell_type": "code",
   "execution_count": 61,
   "metadata": {},
   "outputs": [
    {
     "name": "stdout",
     "output_type": "stream",
     "text": [
      "Hello# #World!"
     ]
    }
   ],
   "source": [
    "print(\"Hello\",\"World\", sep = \"# #\", end =\"!\")\n"
   ]
  },
  {
   "cell_type": "markdown",
   "metadata": {},
   "source": [
    "### No values to print statement, prints out a line"
   ]
  },
  {
   "cell_type": "code",
   "execution_count": 18,
   "metadata": {},
   "outputs": [
    {
     "name": "stdout",
     "output_type": "stream",
     "text": [
      "\n",
      "###############\n",
      "\n",
      "\n",
      "###############\n",
      "\n",
      "\n",
      "\n",
      "\n",
      "###############\n"
     ]
    }
   ],
   "source": [
    "print()\n",
    "print(\"###############\")\n",
    "print()\n",
    "print()\n",
    "print(\"###############\")\n",
    "print()\n",
    "print()\n",
    "print()\n",
    "print()\n",
    "print(\"###############\")"
   ]
  },
  {
   "cell_type": "markdown",
   "metadata": {},
   "source": [
    "%s - string\n",
    "%d - integers\n",
    "%f - float or decimal values"
   ]
  },
  {
   "cell_type": "markdown",
   "metadata": {},
   "source": [
    "# C-Style Formatters"
   ]
  },
  {
   "cell_type": "code",
   "execution_count": 63,
   "metadata": {},
   "outputs": [
    {
     "name": "stdout",
     "output_type": "stream",
     "text": [
      "I am  Nithiya, My age is 23, and I scored  82 percent in board exam\n",
      "I am  Nithiya,-My age is 23,- and I scored  82.34 percent in board exam\n",
      "I am  Nithiya\n"
     ]
    }
   ],
   "source": [
    "a =\"Nithiya\"\n",
    "b = 23\n",
    "c =82.345\n",
    "\n",
    "print(\"I am  %s, My age is %d, and I scored  %.f percent in board exam\" %(a,b,c))\n",
    "print(\"I am  %s,\"%a, \"My age is %d,\"%b, \" and I scored  %.2f percent in board exam\"%c, sep =\"-\")\n",
    "print(\"I am  %s\" %a)"
   ]
  },
  {
   "cell_type": "markdown",
   "metadata": {},
   "source": [
    "### Python Format Condition"
   ]
  },
  {
   "cell_type": "code",
   "execution_count": 68,
   "metadata": {},
   "outputs": [
    {
     "name": "stdout",
     "output_type": "stream",
     "text": [
      "I am  Karthi My age is 12, and I scored 82.345 percent in my board exam\n",
      "I am  Karthi  My age is 12 and I scored 82.345 percent in my board exam\n"
     ]
    }
   ],
   "source": [
    "a =\"Karthi\"\n",
    "b =12\n",
    "c =82.345\n",
    "d =4\n",
    "print(\"I am  {} My age is {}, and I scored {} percent in my board exam\".format(a,b,c,d))\n",
    "print(\"I am  {}\".format(a),\" My age is {}\".format(b), \"and I scored {} percent in my board exam\".format(c))"
   ]
  },
  {
   "cell_type": "code",
   "execution_count": 70,
   "metadata": {},
   "outputs": [
    {
     "name": "stdout",
     "output_type": "stream",
     "text": [
      "I scored Akshaya percent in board exam, I am  12, My age is 82.345\n",
      "I scored 82.345 percent in board exam, I am  Akshaya, My age is 12\n"
     ]
    }
   ],
   "source": [
    "a =\"Akshaya\"\n",
    "b =12\n",
    "c =82.345\n",
    "print(\"I scored {} percent in board exam, I am  {}, My age is {}\".format(a,b,c))\n",
    "print(\"I scored {2} percent in board exam, I am  {0}, My age is {1}\".format(a,b,c))"
   ]
  },
  {
   "cell_type": "code",
   "execution_count": 71,
   "metadata": {},
   "outputs": [
    {
     "ename": "NameError",
     "evalue": "name 'h' is not defined",
     "output_type": "error",
     "traceback": [
      "\u001b[1;31m---------------------------------------------------------------------------\u001b[0m",
      "\u001b[1;31mNameError\u001b[0m                                 Traceback (most recent call last)",
      "\u001b[1;32m<ipython-input-71-912c534a8ada>\u001b[0m in \u001b[0;36m<module>\u001b[1;34m\u001b[0m\n\u001b[0;32m      3\u001b[0m \u001b[0mc\u001b[0m \u001b[1;33m=\u001b[0m\u001b[1;36m82.345\u001b[0m\u001b[1;33m\u001b[0m\u001b[1;33m\u001b[0m\u001b[0m\n\u001b[0;32m      4\u001b[0m \u001b[0md\u001b[0m \u001b[1;33m=\u001b[0m\u001b[1;36m2\u001b[0m\u001b[1;33m\u001b[0m\u001b[1;33m\u001b[0m\u001b[0m\n\u001b[1;32m----> 5\u001b[1;33m \u001b[0mprint\u001b[0m\u001b[1;33m(\u001b[0m\u001b[1;34m\"I scored {} percent in board exam, I am  {}, My age is {}\"\u001b[0m\u001b[1;33m.\u001b[0m\u001b[0mformat\u001b[0m\u001b[1;33m(\u001b[0m\u001b[1;34m\"Vinoth\"\u001b[0m\u001b[1;33m,\u001b[0m\u001b[0mh\u001b[0m\u001b[1;33m,\u001b[0m\u001b[0mc\u001b[0m\u001b[1;33m)\u001b[0m\u001b[1;33m)\u001b[0m\u001b[1;33m\u001b[0m\u001b[1;33m\u001b[0m\u001b[0m\n\u001b[0m\u001b[0;32m      6\u001b[0m \u001b[0mprint\u001b[0m\u001b[1;33m(\u001b[0m\u001b[1;34m\"I scored {2} percent in board exam, I am  {0}, My age is {1}\"\u001b[0m\u001b[1;33m.\u001b[0m\u001b[0mformat\u001b[0m\u001b[1;33m(\u001b[0m\u001b[1;34m\"Priya\"\u001b[0m\u001b[1;33m,\u001b[0m\u001b[1;36m23\u001b[0m\u001b[1;33m,\u001b[0m\u001b[0mc\u001b[0m\u001b[1;33m)\u001b[0m\u001b[1;33m)\u001b[0m\u001b[1;33m\u001b[0m\u001b[1;33m\u001b[0m\u001b[0m\n",
      "\u001b[1;31mNameError\u001b[0m: name 'h' is not defined"
     ]
    }
   ],
   "source": [
    "a =\"Raj\"\n",
    "b =12\n",
    "c =82.345\n",
    "d =2\n",
    "print(\"I scored {} percent in board exam, I am  {}, My age is {}\".format(\"Vinoth\",b,c))\n",
    "print(\"I scored {2} percent in board exam, I am  {0}, My age is {1}\".format(\"Priya\",23,c))\n"
   ]
  },
  {
   "cell_type": "code",
   "execution_count": 24,
   "metadata": {},
   "outputs": [
    {
     "name": "stdout",
     "output_type": "stream",
     "text": [
      "I scored 82.345 percent in board exam, I am  Raj, My age is 12\n",
      "I scored 82.345 percent in board exam,$--$ I am  Raj, My age is 12!"
     ]
    }
   ],
   "source": [
    "a =\"Raj\"\n",
    "b =12\n",
    "c =82.345\n",
    "print(f\"I scored {c} percent in board exam, I am  {a}, My age is {b}\")\n",
    "print(f\"I scored {c} percent in board exam,\",f\" I am  {a}, My age is {b}\",sep = \"$--$\",end=\"!\")"
   ]
  },
  {
   "cell_type": "code",
   "execution_count": 41,
   "metadata": {},
   "outputs": [
    {
     "name": "stdout",
     "output_type": "stream",
     "text": [
      "\n",
      "Hello World from Raj \n",
      "\n",
      "I scored 82.345 percent in board exam, I am  Raj, My age is 12\n",
      "I scored 82.345 percent in board exam,$--$ I am  Raj, My age is 12!"
     ]
    }
   ],
   "source": [
    "a =\"Raj\"\n",
    "b =12\n",
    "c =82.345\n",
    "d = f\"\"\"\n",
    "Hello World from {a} \n",
    "\"\"\"\n",
    "d = \"\"\"\n",
    "Hello World from {} \n",
    "\"\"\".format(a)\n",
    "\n",
    "print(d)\n",
    "print(f\"I scored {c} percent in board exam, I am  {a}, My age is {b}\")\n",
    "print(f\"I scored {c} percent in board exam,\",f\" I am  {a}, My age is {b}\",sep = \"$--$\",end=\"!\")"
   ]
  }
 ],
 "metadata": {
  "kernelspec": {
   "display_name": "Python 3",
   "language": "python",
   "name": "python3"
  },
  "language_info": {
   "codemirror_mode": {
    "name": "ipython",
    "version": 3
   },
   "file_extension": ".py",
   "mimetype": "text/x-python",
   "name": "python",
   "nbconvert_exporter": "python",
   "pygments_lexer": "ipython3",
   "version": "3.7.3"
  }
 },
 "nbformat": 4,
 "nbformat_minor": 2
}
