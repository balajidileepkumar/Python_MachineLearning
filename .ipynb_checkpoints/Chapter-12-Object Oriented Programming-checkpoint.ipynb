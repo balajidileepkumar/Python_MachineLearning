{
 "cells": [
  {
   "cell_type": "markdown",
   "metadata": {
    "collapsed": true
   },
   "source": [
    "# Object Oriented Programming\n",
    "\n",
    "\n",
    "<ul>\n",
    "<li>Object Oriented Programming is a way of providing the structure to a real world entities,.\n",
    "ie) anything around we see and live with.</li>\n",
    "\n",
    "<li>A class defines the structure of a Real world entitiy. It defines the characteristics and behaviour,. </li>\n",
    "\n",
    "<li>In programming we call the characteristics as properties/attributes and the behaviour we can define using the class methods/methods</li>\n",
    "\n",
    "<li>A method in python is a function defined within the class. A method defines the behaviour of the entity.</li>\n",
    "\n",
    "<li>An Object is an instance of the class, ie) it's a unit of the real world entity</li>\n",
    "<ul>\n",
    "<br>\n",
    "    \n",
    "For this lesson we will construct our knowledge of OOP in Python by building on the following topics:\n",
    "\n",
    "* Objects\n",
    "* Using the *class* keyword</li>\n",
    "* Creating class attributes\n",
    "* Creating methods in a class\n",
    "* Learning about Inheritance, Encapsulation and Abstraction\n",
    "* Learning about Special Methods for classes\n",
    "\n",
    "Lets start the lesson by rememb</li>ering about the Basic Python Objects. For example"
   ]
  },
  {
   "cell_type": "code",
   "execution_count": null,
   "metadata": {},
   "outputs": [],
   "source": [
    "l = list()\n",
    "print(type(l))\n",
    "l = [1,2,3]\n",
    "print(type(l))"
   ]
  },
  {
   "cell_type": "markdown",
   "metadata": {},
   "source": [
    "Remember how we could call methods on a list?"
   ]
  },
  {
   "cell_type": "code",
   "execution_count": null,
   "metadata": {},
   "outputs": [],
   "source": [
    "l.count(2)"
   ]
  },
  {
   "cell_type": "markdown",
   "metadata": {},
   "source": [
    "What we will basically be doing in this lecture is exploring how we could create an Object type like a list. We've already learned about how to create functions. So lets explore Objects in general:\n",
    "\n",
    "### Objects\n",
    "In Python, *everything is an object*. Remember from previous lectures we can use type() to check the type of object something is:"
   ]
  },
  {
   "cell_type": "code",
   "execution_count": null,
   "metadata": {},
   "outputs": [],
   "source": [
    "print(type(1))\n",
    "print(type(1.0))\n",
    "print(type(1.0+2j))\n",
    "print(type([]))\n",
    "print(type(()))\n",
    "print(type({}))\n",
    "print(type(set()))\n",
    "print(type(list()))\n",
    "print(type(dict()))\n",
    "print(isinstance(1,int))\n"
   ]
  },
  {
   "cell_type": "markdown",
   "metadata": {},
   "source": [
    "So we know all these things are objects, so how can we create our own Object types? That is where the *class* keyword comes in.\n",
    "### class\n",
    "The user defined objects are created using the class keyword. The class is a blueprint that defines a nature of a future object. From classes we can construct instances. An instance is a specific object created from a particular class. For example, above we created the object 'l' which was an instance of a list object. \n",
    "\n",
    "Let see how we can use **class**:"
   ]
  },
  {
   "cell_type": "code",
   "execution_count": null,
   "metadata": {},
   "outputs": [],
   "source": [
    "# Create a new object type called Sample\n",
    "class Sample(object):\n",
    "    pass\n",
    "\n",
    "# Instance of Sample\n",
    "x = Sample()\n",
    "print(x, type(x))\n",
    "#create another instance\n",
    "y= Sample()\n",
    "print(y, type(y))\n",
    "\n",
    "class humanbeing(object):\n",
    "    pass\n",
    "\n",
    "persona = humanbeing()\n",
    "personb = humanbeing()\n",
    "\n",
    "persona.name = \"raj\"\n",
    "personb.name = \"priya\"\n",
    "\n",
    "print(persona)\n",
    "print(persona.name)\n",
    "\n",
    "print(personb)\n",
    "print(personb.name)"
   ]
  },
  {
   "cell_type": "markdown",
   "metadata": {},
   "source": [
    "By convention we give classes a name that starts with a capital letter. Note how x is now the reference to our new instance of a Sample class. In other words, we **instantiate** the Sample class.\n",
    "\n",
    "Inside of the class we currently just have pass. But we can define class attributes and methods.\n",
    "\n",
    "An **attribute** is a characteristic of an object.\n",
    "A **method** is an operation we can perform with the object.\n",
    "\n",
    "For example we can create a class called Dog. An attribute of a dog may be its breed or its name, while a method of a dog may be defined by a .bark() method which returns a sound.\n",
    "\n",
    "Let's get a better understanding of attributes through an example.\n"
   ]
  },
  {
   "cell_type": "markdown",
   "metadata": {},
   "source": [
    "###  Attributes/Properties\n",
    "The syntax for creating an attribute is:\n",
    "    \n",
    "    self.attribute = something\n",
    "    \n",
    "\n",
    " attribute can be any property that we wish to give for the dog class..\n",
    " \n",
    "There is a special method called:\n",
    "\n",
    "    __init__()\n",
    "This init method is also called as constructor, the advantage of using init/constructor is that it's is used to initialize attributes to objecs at the time of creating the instance/object\n",
    "\n",
    "This method is used to initialize the attributes of an object. For example:"
   ]
  },
  {
   "cell_type": "code",
   "execution_count": null,
   "metadata": {},
   "outputs": [],
   "source": [
    "class Parrot(object):\n",
    "    Color = \"Green\"\n",
    "    def __init__(self,flyStatus = False, lang=\"English\"):\n",
    "        self.fly = flyStatus\n",
    "        self.language = lang\n",
    "  \n",
    "Tweetie = Parrot()\n",
    "Tweetie1 = Parrot(True, \"Hindi\")\n",
    "\n",
    "Tweetie1.fly = True\n",
    "Tweetie.Name = \"a\"\n",
    "#Tweetie1.Name = \"b\"\n",
    "\n",
    "print(\"############ Tweetie.fly, Tweetie.Name Tweetie.Lang #############\")\n",
    "print(\"Fly Status : \", Tweetie.fly, \"Parrot Name : \", Tweetie.Name, \"Parrot Language :\",Tweetie.language)\n",
    "print(\"########### Tweetie1.fly ##############\")\n",
    "\n",
    "print(\"Fly Status\",Tweetie1.fly)\n",
    "#print(Tweetie.Color, Tweetie1.Color, Tweetie3.Color, Tweetie4.Color)\n",
    "print(\"Parrot color : \",Tweetie.Color)\n",
    "\n",
    "Tweetie3 = Parrot(lang=\"Tamil\")\n",
    "print(\"######### Tweetie3.language ################\")\n",
    "\n",
    "print(\"Language , Flystatus  is : \",Tweetie3.language, Tweetie3.fly)\n",
    "\n",
    "Tweetie4 = Parrot(flyStatus=False)\n",
    "print(\"######### Tweetie4.fly) ################\")\n",
    "print(Tweetie4.fly)\n",
    "\n"
   ]
  },
  {
   "cell_type": "markdown",
   "metadata": {},
   "source": [
    "create 100 parrots dynamically such that every third parrot is unable to fly"
   ]
  },
  {
   "cell_type": "code",
   "execution_count": null,
   "metadata": {},
   "outputs": [],
   "source": [
    "class parrot(object):\n",
    "    Color = \"Green\"\n",
    "    def __init__(self,flyStatus = True, lang=\"Tamil\"):\n",
    "        self.fly = flyStatus\n",
    "        self.language = lang\n",
    "\n",
    "\n",
    "list_parrots_100 = [] \n",
    "for x in range(1,100):\n",
    "    if(x%3 ==0): \n",
    "        temp_parrot = parrot(False, lang =\"English\")\n",
    "    else: \n",
    "        temp_parrot = parrot()\n",
    "    list_parrots_100.append(temp_parrot)\n",
    "    \n",
    "#[print(\"parrot no :\", x+1, \"  fly status is :\", list_parrots_100[x].fly, \"and language is :\",list_parrots_100[x].language) for x in range(len(list_parrots_100))]\n",
    "print(\"########################################\")\n",
    "all_100_parrots = [parrot(False) if(x%3 ==0)  else parrot(True,\"Malayalam\") for x in range(1,100)]\n",
    "[print(\"parrot no :\", x+1, \"  flying status is :\", all_100_parrots[x].fly, \"and language is :\",all_100_parrots[x].language) for x in range(len(all_100_parrots))]\n",
    "print(\"############################################\")"
   ]
  },
  {
   "cell_type": "markdown",
   "metadata": {},
   "source": [
    "Do the above logic with list comprehension for constructing the parrots list"
   ]
  },
  {
   "cell_type": "code",
   "execution_count": null,
   "metadata": {},
   "outputs": [],
   "source": [
    "class parrot_greens(object):\n",
    "    Color = \"Green\"\n",
    "    def __init__(self,parrot_no, lang=\"Tamil\"):\n",
    "        if(parrot_no %3 == 0 ):\n",
    "            self.fly = False\n",
    "        else: \n",
    "            self.fly = True\n",
    "        self.language = lang\n",
    "\n",
    "list_parrots_100 = [] \n",
    "for x in range(1,100):\n",
    "    temp_parrot = parrot_greens(x)\n",
    "    list_parrots_100.append(temp_parrot)\n",
    "\n",
    "[print(\"parrot no :\", x+1, \"  fly status is :\", list_parrots_100[x].fly) for x in range(len(list_parrots_100))]\n"
   ]
  },
  {
   "cell_type": "code",
   "execution_count": null,
   "metadata": {},
   "outputs": [],
   "source": [
    "class Dog(object):\n",
    "    \n",
    "    def __init__(self,breed):\n",
    "        self.breed = breed\n",
    "        \n",
    "    def printbreed(self):\n",
    "        print(self.breed)\n",
    "    \n",
    "    def setheight(self,x=10):\n",
    "        self.height = x\n",
    "   \n",
    "    def printheight(self):\n",
    "        print(\"height of \",self.breed ,\" is \",self.height)\n",
    "        \n",
    "    def changebreed(self,breedname=\"Rotweiler\"):\n",
    "        self.breed = breedname\n",
    "    \n",
    "    def SetWeight(self):\n",
    "        self.weight = 100\n",
    "    \n",
    "    def printdog(self):\n",
    "        print(\"Printing the Dog Data\")\n",
    "        self.printbreed()\n",
    "        self.printheight()\n",
    "       \n",
    "    \n",
    "#x = Dog()\n",
    "sam = Dog(breed='Lab')\n",
    "sam.printbreed()\n",
    "sam.setheight()\n",
    "sam.printheight()\n",
    "sam.printdog()\n",
    "print(\"###################################\")\n",
    "frank = Dog(breed='Huskie')\n",
    "frank.printbreed()\n",
    "\n",
    "frank.changebreed(\"Dashound\")\n",
    "frank.printbreed()\n",
    "\n",
    "print(\"############## weights of dogs #####################\")\n",
    "sam.SetWeight()\n",
    "print(sam.weight)\n",
    "frank.weight =65\n",
    "print(frank.weight)"
   ]
  },
  {
   "cell_type": "markdown",
   "metadata": {},
   "source": [
    "Lets break down what we have above.The special method \n",
    "\n",
    "    __init__() \n",
    "is called automatically right after the object has been created:\n",
    "\n",
    "    def __init__(self, breed):\n",
    "Each attribute in a class definition begins with a reference to the instance object. It is by convention named self. The breed is the argument. The value is passed during the class instantiation.\n",
    "\n",
    "     self.breed = breed"
   ]
  },
  {
   "cell_type": "markdown",
   "metadata": {},
   "source": [
    "Now we have created two instances of the Dog class. With two breed types, we can then access these attributes like this:"
   ]
  },
  {
   "cell_type": "code",
   "execution_count": null,
   "metadata": {},
   "outputs": [],
   "source": [
    "sam.breed"
   ]
  },
  {
   "cell_type": "code",
   "execution_count": null,
   "metadata": {},
   "outputs": [],
   "source": [
    "frank.breed\n"
   ]
  },
  {
   "cell_type": "code",
   "execution_count": null,
   "metadata": {},
   "outputs": [],
   "source": [
    "frank.changebreed()"
   ]
  },
  {
   "cell_type": "code",
   "execution_count": null,
   "metadata": {},
   "outputs": [],
   "source": [
    "frank.breed"
   ]
  },
  {
   "cell_type": "markdown",
   "metadata": {},
   "source": [
    "Note how we don't have any parenthesis after breed, this is because it is an attribute and doesn't take any arguments.\n",
    "\n",
    "In Python there are also *class object attributes*. These Class Object Attributes are the same for any instance of the class. For example, we could create the attribute *species* for the Dog class. Dogs (regardless of their breed,name, or other attributes will always be mammals. We apply this logic in the following manner:"
   ]
  },
  {
   "cell_type": "code",
   "execution_count": null,
   "metadata": {},
   "outputs": [],
   "source": [
    "class Dog():\n",
    "    \n",
    "    # Class Object Attribute\n",
    "    species = 'mammal'\n",
    "    def __init__(self,breed,name):\n",
    "        self.breed = breed\n",
    "        self.name = name"
   ]
  },
  {
   "cell_type": "code",
   "execution_count": null,
   "metadata": {},
   "outputs": [],
   "source": [
    "#frank = Dog('Rotweiler')\n",
    "sam = Dog('Lab','Sam')\n",
    "sam1 = Dog('Lab1','Sam12')\n"
   ]
  },
  {
   "cell_type": "code",
   "execution_count": null,
   "metadata": {},
   "outputs": [],
   "source": [
    "sam.name"
   ]
  },
  {
   "cell_type": "markdown",
   "metadata": {},
   "source": [
    "Note that the Class Object Attribute is defined outside of any methods in the class. Also by convention, we place them first before the init."
   ]
  },
  {
   "cell_type": "code",
   "execution_count": null,
   "metadata": {},
   "outputs": [],
   "source": [
    "sam.species"
   ]
  },
  {
   "cell_type": "code",
   "execution_count": null,
   "metadata": {},
   "outputs": [],
   "source": [
    "Dog.species"
   ]
  },
  {
   "cell_type": "code",
   "execution_count": null,
   "metadata": {},
   "outputs": [],
   "source": [
    "sam1.species"
   ]
  },
  {
   "cell_type": "code",
   "execution_count": null,
   "metadata": {},
   "outputs": [],
   "source": [
    "Dog.name"
   ]
  },
  {
   "cell_type": "markdown",
   "metadata": {},
   "source": [
    "## Methods\n",
    "\n",
    "Methods are functions defined inside the body of a class. They are used to perform operations with the attributes of our objects. Methods are essential in encapsulation concept of the OOP paradigm. This is essential in dividing responsibilities in programming, especially in large applications.\n",
    "\n",
    "You can basically think of methods as functions acting on an Object that take the Object itself into account through its *self* argument.\n",
    "\n",
    "Lets go through an example of creating a Circle class:"
   ]
  },
  {
   "cell_type": "code",
   "execution_count": 3,
   "metadata": {},
   "outputs": [
    {
     "name": "stdout",
     "output_type": "stream",
     "text": [
      "##########################\n",
      "25\n",
      "Radius is: 25 \n",
      "##########################\n",
      "Area is: 1962.5\n",
      "##########################\n"
     ]
    }
   ],
   "source": [
    "class Circle(object):\n",
    "    pi = 3.14\n",
    "\n",
    "    # Circle get instantiated with a radius (default is 1)\n",
    "    def __init__(self, radius=1):\n",
    "        self.__radius = radius \n",
    "        self._myradius = radius\n",
    "\n",
    "    # Area method calculates the area. Note the use of self.\n",
    "    def area(self):\n",
    "        return self.__radius * self.__radius * Circle.pi\n",
    "\n",
    "    # Method for resetting Radius\n",
    "    def setRadius(self, radius):\n",
    "        self.__radius = radius\n",
    "\n",
    "    # Method for getting radius (Same as just calling .radius)\n",
    "    def getRadius(self):\n",
    "        print(self.__radius)\n",
    "        #print(self._myradius)\n",
    "        return self.__radius\n",
    "    #def getRadius(self):\n",
    "\n",
    "\n",
    "c = Circle(10)\n",
    "#print(c.radius)\n",
    "print(\"##########################\")\n",
    "#c.radius = 20\n",
    "#setRadius()\n",
    "c.setRadius(25)\n",
    "#print(c.radius)\n",
    "#print(c._myradius)\n",
    "print('Radius is: {} '.format(c.getRadius()))\n",
    "print(\"##########################\")\n",
    "print('Area is: {}'.format(c.area()))\n",
    "print(\"##########################\")"
   ]
  },
  {
   "cell_type": "markdown",
   "metadata": {},
   "source": [
    "Great! Notice how we used self. notation to reference attributes of the class within the method calls. Review how the code above works and try creating your own method\n",
    "\n",
    "## Inheritance\n",
    "\n",
    "Inheritance is a way to form new classes using classes that have already been defined. The newly formed classes are called derived classes, the classes that we derive from are called base classes. Important benefits of inheritance are code reuse and reduction of complexity of a program. The derived classes (descendants) override or extend the functionality of base classes (ancestors).\n",
    "\n",
    "Lets see an example by incorporating our previous work on the Dog class:"
   ]
  },
  {
   "cell_type": "code",
   "execution_count": 12,
   "metadata": {},
   "outputs": [],
   "source": [
    "#a = 0 \n",
    "class Animal(object):\n",
    "    def __init__(self):\n",
    "        #a = a +1\n",
    "        print(\"Animal created\")\n",
    "\n",
    "    def whoAmI(self):\n",
    "        print(\"Animal\")\n",
    "\n",
    "    def eat(self):\n",
    "        print(\"Eating\")\n",
    "        \n",
    "    def Run(self):\n",
    "        print(\"Animals can Run\")\n",
    "\n",
    "    def peek(self):\n",
    "        print(\"Animal is peeking\")\n",
    "\n",
    "class Aquatic(object):\n",
    "    def __init__(self):\n",
    "        print(\"Aquatic species created\")\n",
    "\n",
    "    def whoAmI(self):\n",
    "        print(\"Aquatic\")\n",
    "\n",
    "    def swim(self):\n",
    "        print(\"Swimming\")\n",
    "\n",
    "    def peek(self):\n",
    "        print(\"Aquatic species can't peek\")\n",
    "\n",
    "class Dog(Animal):\n",
    "    def __init__(self):\n",
    "        #Animal.__init__(self)\n",
    "        print(\"Dog created\")\n",
    "\n",
    "    def whoAmI(self):\n",
    "        print(\"Dog\")\n",
    "        \n",
    "    #def Run(self):\n",
    "        #print(\"Dogs can Run\")\n",
    "    \n",
    "    def bark(self):\n",
    "        print(\"Woof!\")\n",
    "\n",
    "class Puppy(Dog):\n",
    "    def __init__(self):\n",
    "        Animal.__init__(self)\n",
    "        super().__init__()\n",
    "        print(\"Puppy created\")\n",
    "\n",
    "    def whoAmI(self):\n",
    "        print(\"Dog\")\n",
    "\n",
    "    def play(self):\n",
    "        print(\"!!!!\")\n",
    "\n",
    "class Penguin(Aquatic,Animal):\n",
    "    def __init__(self):\n",
    "        #Animal.__init__(self)\n",
    "        #Aquatic.__init__(self)\n",
    "        #super().__init__()\n",
    "        print(\"Penguin created\")\n",
    "\n",
    "    def whoAmI(self):\n",
    "        print(\"Penguin\")\n",
    "\n",
    "    def jump(self):\n",
    "        print(\"Jumping!\")"
   ]
  },
  {
   "cell_type": "code",
   "execution_count": 15,
   "metadata": {},
   "outputs": [
    {
     "name": "stdout",
     "output_type": "stream",
     "text": [
      "########### simple inheritance ################\n",
      "Dog created\n",
      "Animals can Run\n",
      "Woof!\n",
      "############ multiple inheritance ###############\n",
      "Penguin created\n",
      "Swimming\n",
      "Animals can Run\n",
      "Aquatic species can't peek\n",
      "############ multilevel inheritance ###############\n",
      "Animal created\n",
      "Dog created\n",
      "Puppy created\n",
      "Animals can Run\n",
      "###########################\n"
     ]
    }
   ],
   "source": [
    "print(\"########### simple inheritance ################\")\n",
    "d = Dog()\n",
    "d.Run()\n",
    "d.bark()\n",
    "#d.fly()\n",
    "print(\"############ multiple inheritance ###############\")\n",
    "e= Penguin()\n",
    "e.swim()\n",
    "e.Run()\n",
    "e.peek()\n",
    "print(\"############ multilevel inheritance ###############\")\n",
    "f = Puppy()\n",
    "f.Run()\n",
    "print(\"###########################\")\n",
    "\n",
    "#print(\"total created is : \", a)"
   ]
  },
  {
   "cell_type": "code",
   "execution_count": null,
   "metadata": {},
   "outputs": [],
   "source": [
    "d.whoAmI()"
   ]
  },
  {
   "cell_type": "code",
   "execution_count": null,
   "metadata": {},
   "outputs": [],
   "source": [
    "d.eat()"
   ]
  },
  {
   "cell_type": "code",
   "execution_count": null,
   "metadata": {},
   "outputs": [],
   "source": [
    "d.bark()"
   ]
  },
  {
   "cell_type": "markdown",
   "metadata": {},
   "source": [
    "### Super Function"
   ]
  },
  {
   "cell_type": "code",
   "execution_count": 62,
   "metadata": {},
   "outputs": [],
   "source": [
    "class Bird(object):\n",
    "    def __init__(self, BirdName):\n",
    "        print(BirdName, 'is a object of type', type(self))\n",
    "    def chirp(self):\n",
    "        print(\"Birds Chirping\")\n",
    "    def run(self):\n",
    "        print(\"Birds Run Slowly\")\n",
    "    \n",
    "class Animal(object):\n",
    "    def __init__(self, AnimalName):\n",
    "        print(AnimalName, 'is a object of type', type(self))\n",
    "    def bark(self):\n",
    "        if(isinstance(self, Bird)):\n",
    "            print(\"Birds Wont Bark\")\n",
    "        else:\n",
    "            print(\"Animals Can Bark\")\n",
    "    def run(self):\n",
    "        print(\"Animals Run Fastly\")\n",
    "    \n",
    "class Dog(Animal,Bird):\n",
    "    def __init__(self):\n",
    "        print('Inside Dog Class Constructor')\n",
    "        #a = Mammal2(\"Dogs1\")\n",
    "        super().__init__(\"Kitty\")\n",
    "        #super().bark()\n",
    "        #Mammal2.__init__('Dogs')\n",
    "    def __str__():\n",
    "        return \"Dog\"\n",
    "    \n",
    "class Parrot(Bird,Animal):\n",
    "    def __init__(self):\n",
    "        print('Inside Bird Class Constructor')\n",
    "        #a = Mammal2(\"Dogs1\")\n",
    "        super().__init__(\"Tweety\")\n",
    "    def __str__():\n",
    "        return \"Parrot\"\n",
    "    \n"
   ]
  },
  {
   "cell_type": "code",
   "execution_count": 65,
   "metadata": {},
   "outputs": [
    {
     "name": "stdout",
     "output_type": "stream",
     "text": [
      "################################\n",
      "Inside Dog Class Constructor\n",
      "Kitty is a object of type <class '__main__.Dog'>\n",
      "Animals Run Fastly\n",
      "################################\n",
      "Inside Bird Class Constructor\n",
      "Tweety is a object of type <class '__main__.Parrot'>\n",
      "################################\n",
      "Birds Chirping\n",
      "################################\n",
      "Birds Wont Bark\n",
      "################################\n",
      "Birds Run Slowly\n",
      "################################\n",
      "Animals Run Fastly\n"
     ]
    }
   ],
   "source": [
    "print(\"################################\")\n",
    "d1 = Dog()\n",
    "d1.run()\n",
    "print(\"################################\")\n",
    "d2 = Parrot()\n",
    "print(\"################################\")\n",
    "d2.chirp()\n",
    "print(\"################################\")\n",
    "d2.bark()\n",
    "print(\"################################\")\n",
    "d2.run()\n",
    "print(\"################################\")\n",
    "d1.run()"
   ]
  },
  {
   "cell_type": "markdown",
   "metadata": {},
   "source": [
    "In this example, we have two classes: Animal and Dog. The Animal is the base class, the Dog is the derived class. \n",
    "\n",
    "The derived class inherits the functionality of the base class. \n",
    "\n",
    "* It is shown by the eat() method. \n",
    "\n",
    "The derived class modifies existing behavior of the base class.\n",
    "\n",
    "* shown by the whoAmI() method. \n",
    "\n",
    "Finally, the derived class extends the functionality of the base class, by defining a new bark() method."
   ]
  },
  {
   "cell_type": "code",
   "execution_count": 68,
   "metadata": {},
   "outputs": [],
   "source": [
    "class Polygon:\n",
    "    def __init__(self, no_of_sides):\n",
    "        if(no_of_sides > 2):\n",
    "            self.n = no_of_sides# self.n=3\n",
    "            self.sides = [0 for i in range(no_of_sides)]# self.sides = [0,0,0]\n",
    "        else:\n",
    "            raise \"Not Enough Sides for shape\"\n",
    "\n",
    "    def inputSides(self):\n",
    "        self.sides = [float(input(\"Enter side \"+str(i+1)+\" : \")) for i in range(self.n)]#[1,20,11]\n",
    "\n",
    "    def dispSides(self):\n",
    "        for i in range(self.n):\n",
    "            print(\"Side\",i+1,\"is\",self.sides[i])"
   ]
  },
  {
   "cell_type": "code",
   "execution_count": 69,
   "metadata": {},
   "outputs": [],
   "source": [
    "class Triangle(Polygon):\n",
    "    def __init__(self):\n",
    "        Polygon.__init__(self,3)\n",
    "\n",
    "    def findArea(self):\n",
    "        a, b, c = self.sides\n",
    "        # calculate the semi-perimeter\n",
    "        s = (a + b + c) \n",
    "        area = (s*(s-a)*(s-b)*(s-c))**0.5 \n",
    "        print(area)\n",
    "        print(\"The area of the triangle is\", area)\n",
    "        print(\"The perimeter of the triangle is %s\"%(s))\n",
    "        "
   ]
  },
  {
   "cell_type": "code",
   "execution_count": 70,
   "metadata": {},
   "outputs": [
    {
     "name": "stdout",
     "output_type": "stream",
     "text": [
      "#################################\n",
      "Side 1 is 0\n",
      "Side 2 is 0\n",
      "Side 3 is 0\n",
      "Enter side 1 : 23\n",
      "Enter side 2 : 33\n",
      "Enter side 3 : 12\n",
      "#################################\n",
      "Side 1 is 23.0\n",
      "Side 2 is 33.0\n",
      "Side 3 is 12.0\n",
      "2448.9997958350264\n",
      "The area of the triangle is 2448.9997958350264\n",
      "The perimeter of the triangle is 68.0\n",
      "#################################\n"
     ]
    }
   ],
   "source": [
    "t = Triangle()\n",
    "print(\"#################################\")\n",
    "t.dispSides()\n",
    "t.inputSides()\n",
    "print(\"#################################\")\n",
    "t.dispSides()\n",
    "t.findArea()\n",
    "print(\"#################################\")\n"
   ]
  },
  {
   "cell_type": "markdown",
   "metadata": {},
   "source": [
    "#### Check instance and object type"
   ]
  },
  {
   "cell_type": "code",
   "execution_count": 72,
   "metadata": {},
   "outputs": [
    {
     "name": "stdout",
     "output_type": "stream",
     "text": [
      "True\n",
      "True\n",
      "False\n",
      "<__main__.Dog object at 0x000002EB9E212040> <class '__main__.Dog'>\n",
      "###################################\n",
      "False\n",
      "False\n",
      "True\n",
      "True\n",
      "###########################################\n",
      "inheritance will not be an instance of the class\n",
      "False\n"
     ]
    }
   ],
   "source": [
    "print(isinstance(t,Triangle))#True\n",
    "print(isinstance(t,Polygon))#True\n",
    "print(isinstance(d,Triangle))#True\n",
    "print(d,type(d))\n",
    "print(\"###################################\")\n",
    "print(issubclass(Polygon,Triangle))#False\n",
    "print(issubclass(Animal,Aquatic))#False\n",
    "print(issubclass(Penguin,Aquatic))#True\n",
    "print(issubclass(Triangle,Polygon))#True\n",
    "print(\"###########################################\")\n",
    "print(\"inheritance will not be an instance of the class\")\n",
    "print(isinstance(Triangle,Polygon))#False\n"
   ]
  },
  {
   "cell_type": "markdown",
   "metadata": {},
   "source": [
    "### Encapsulation and Abstraction\n",
    "<ul>\n",
    "<li>Encapsulation is a way to achieve \"information hiding\" so, following your example, you don't \"need to know the internal working of the mobile phone to operate\" with it. You have an interface to use the device behaviour without knowing implementation details.</li>\n",
    "</ul>\n",
    "It is a way of restricting access to methods and properties so it cant be modified directly\n"
   ]
  },
  {
   "cell_type": "markdown",
   "metadata": {},
   "source": [
    "### Encapsulation"
   ]
  },
  {
   "cell_type": "code",
   "execution_count": 4,
   "metadata": {},
   "outputs": [
    {
     "name": "stdout",
     "output_type": "stream",
     "text": [
      "123\n",
      "124\n",
      "#######################\n",
      "372\n",
      "372\n",
      "#############private sum method called from getprivatesummethod ###############\n",
      "372\n",
      "25\n",
      "None\n",
      "#######################\n",
      "########### subrobot #################\n",
      "10\n",
      "123\n",
      "############# microbot ###############\n"
     ]
    },
    {
     "ename": "AttributeError",
     "evalue": "'Microbot' object has no attribute 'a'",
     "output_type": "error",
     "traceback": [
      "\u001b[1;31m---------------------------------------------------------------------------\u001b[0m",
      "\u001b[1;31mAttributeError\u001b[0m                            Traceback (most recent call last)",
      "\u001b[1;32m<ipython-input-4-6531ac7b82d8>\u001b[0m in \u001b[0;36m<module>\u001b[1;34m\u001b[0m\n\u001b[0;32m     59\u001b[0m \u001b[0mprint\u001b[0m\u001b[1;33m(\u001b[0m\u001b[1;34m\"############# microbot ###############\"\u001b[0m\u001b[1;33m)\u001b[0m\u001b[1;33m\u001b[0m\u001b[1;33m\u001b[0m\u001b[0m\n\u001b[0;32m     60\u001b[0m \u001b[0mobj2\u001b[0m \u001b[1;33m=\u001b[0m \u001b[0mMicrobot\u001b[0m\u001b[1;33m(\u001b[0m\u001b[1;33m)\u001b[0m\u001b[1;33m\u001b[0m\u001b[1;33m\u001b[0m\u001b[0m\n\u001b[1;32m---> 61\u001b[1;33m \u001b[0mprint\u001b[0m\u001b[1;33m(\u001b[0m\u001b[0mobj2\u001b[0m\u001b[1;33m.\u001b[0m\u001b[0msum\u001b[0m\u001b[1;33m(\u001b[0m\u001b[1;33m)\u001b[0m\u001b[1;33m)\u001b[0m\u001b[1;33m\u001b[0m\u001b[1;33m\u001b[0m\u001b[0m\n\u001b[0m\u001b[0;32m     62\u001b[0m \u001b[0mprint\u001b[0m\u001b[1;33m(\u001b[0m\u001b[0mobj2\u001b[0m\u001b[1;33m.\u001b[0m\u001b[0m_sum1\u001b[0m\u001b[1;33m(\u001b[0m\u001b[1;33m)\u001b[0m\u001b[1;33m)\u001b[0m\u001b[1;33m\u001b[0m\u001b[1;33m\u001b[0m\u001b[0m\n",
      "\u001b[1;32m<ipython-input-4-6531ac7b82d8>\u001b[0m in \u001b[0;36msum\u001b[1;34m(self)\u001b[0m\n\u001b[0;32m      6\u001b[0m \u001b[1;33m\u001b[0m\u001b[0m\n\u001b[0;32m      7\u001b[0m     \u001b[1;32mdef\u001b[0m \u001b[0msum\u001b[0m\u001b[1;33m(\u001b[0m\u001b[0mself\u001b[0m\u001b[1;33m)\u001b[0m\u001b[1;33m:\u001b[0m\u001b[1;33m\u001b[0m\u001b[1;33m\u001b[0m\u001b[0m\n\u001b[1;32m----> 8\u001b[1;33m         \u001b[1;32mreturn\u001b[0m \u001b[0mself\u001b[0m\u001b[1;33m.\u001b[0m\u001b[0ma\u001b[0m \u001b[1;33m+\u001b[0m\u001b[0mself\u001b[0m\u001b[1;33m.\u001b[0m\u001b[0m_b\u001b[0m \u001b[1;33m+\u001b[0m \u001b[0mself\u001b[0m\u001b[1;33m.\u001b[0m\u001b[0m__c\u001b[0m\u001b[1;33m\u001b[0m\u001b[1;33m\u001b[0m\u001b[0m\n\u001b[0m\u001b[0;32m      9\u001b[0m \u001b[1;33m\u001b[0m\u001b[0m\n\u001b[0;32m     10\u001b[0m     \u001b[1;32mdef\u001b[0m \u001b[0m_sum1\u001b[0m\u001b[1;33m(\u001b[0m\u001b[0mself\u001b[0m\u001b[1;33m)\u001b[0m\u001b[1;33m:\u001b[0m\u001b[1;33m\u001b[0m\u001b[1;33m\u001b[0m\u001b[0m\n",
      "\u001b[1;31mAttributeError\u001b[0m: 'Microbot' object has no attribute 'a'"
     ]
    }
   ],
   "source": [
    "class Robot(object):\n",
    "    def __init__(self):\n",
    "        self.a = 123\n",
    "        self._b = 124\n",
    "        self.__c = 125\n",
    "             \n",
    "    def sum(self):\n",
    "        return self.a +self._b + self.__c\n",
    "        \n",
    "    def _sum1(self):\n",
    "        return self.a +self._b + self.__c\n",
    "\n",
    "    def __sum2(self):\n",
    "        return self.a +self._b + self.__c\n",
    "\n",
    "    def getprivatesummethod(self):\n",
    "        return self.__sum2()\n",
    "    \n",
    "    def SetValue(self,value):\n",
    "        self.__c = value\n",
    "        print(self.__c)\n",
    "       \n",
    "\n",
    "\n",
    "class SubRobot(Robot):\n",
    "    def __init__(self, instance1):\n",
    "        print(instance1.a)\n",
    "        \n",
    "        \n",
    "class Microbot(Robot):\n",
    "    def __init__(self):\n",
    "        pass\n",
    "        #Robot.__init__(self)\n",
    "                \n",
    "        \n",
    "\n",
    "obj = Robot()\n",
    "print(obj.a)\n",
    "print(obj._b)\n",
    "#print(obj.__c)#Private variable, hence not be accessed.\n",
    "print(\"#######################\")\n",
    "print(obj.sum())\n",
    "print(obj._sum1())\n",
    "#print(obj.__sum2())\n",
    "print(\"#############private sum method called from getprivatesummethod ###############\")\n",
    "print(obj.getprivatesummethod())\n",
    "print(obj.SetValue(25))\n",
    "print(\"#######################\")\n",
    "#print(Robot.sum1())\n",
    "#obj1 = SubRobot(obj)\n",
    "#print(Robt.a)\n",
    "#print(Robot._b)\n",
    "print(\"########### subrobot #################\")\n",
    "obj._b = 10 \n",
    "print(obj._b)\n",
    "obj1 = SubRobot(obj)\n",
    "#obj1._sum1()\n",
    "print(\"############# microbot ###############\")\n",
    "obj2 = Microbot()\n",
    "print(obj2.sum())\n",
    "print(obj2._sum1())"
   ]
  },
  {
   "cell_type": "code",
   "execution_count": null,
   "metadata": {},
   "outputs": [],
   "source": [
    "class Robot(object):\n",
    "    def __init__(self):\n",
    "        self.__version = 10\n",
    "\n",
    "    def getVersion(self):\n",
    "        print(self.__version)\n",
    "\n",
    "    def setVersion(self, version):\n",
    "        self.__version = version\n",
    "        print(\"value now set \")\n",
    "        \n",
    "    def printVersion(self):\n",
    "        print(self.__version)\n",
    "\n",
    "obj = Robot()\n",
    "obj.getVersion()#10\n",
    "obj.setVersion(23)\n",
    "obj.printVersion()#23\n",
    "print(obj.__version)"
   ]
  },
  {
   "cell_type": "markdown",
   "metadata": {},
   "source": [
    "#### Overriding default methods"
   ]
  },
  {
   "cell_type": "code",
   "execution_count": null,
   "metadata": {},
   "outputs": [],
   "source": [
    "class Cup:\n",
    "    def __init__(self):\n",
    "        self.color = None\n",
    "        self.content = None\n",
    "        \n",
    "    def fill(self, beverage):\n",
    "        self.content = beverage\n",
    "\n",
    "    def empty(self):\n",
    "        self.content = None\n",
    "        \n",
    "    def __str__(self):\n",
    "        return \"Cup is in %s color and is filled with %s\"%(self.color,self.content)\n",
    "    \n",
    "    def __len__(self):\n",
    "        return 200\n",
    "    \n",
    "redCup = Cup()\n",
    "redCup.color = \"red\"\n",
    "redCup.content = \"tea\"\n",
    "redCup.empty()\n",
    "redCup.fill(\"coffee\")\n",
    "print(redCup)\n",
    "str(redCup)\n",
    "print(len(redCup))"
   ]
  },
  {
   "cell_type": "markdown",
   "metadata": {},
   "source": [
    "### Protected "
   ]
  },
  {
   "cell_type": "code",
   "execution_count": 74,
   "metadata": {},
   "outputs": [],
   "source": [
    "class Cup:\n",
    "    def __init__(self):\n",
    "        self.color = None\n",
    "        self._content = None # protected variable\n",
    "\n",
    "    def fill(self, beverage):\n",
    "        self._content = beverage\n",
    "\n",
    "    def empty(self):\n",
    "        self._content = None\n",
    "        \n",
    "    def GetContent(self):\n",
    "        print(self._content)\n",
    "        \n",
    "        \n",
    "        \n",
    "class smallCup(Cup):\n",
    "    def __init__(self):\n",
    "        self.capacity = 10\n",
    "        self.color = \"green\"\n",
    "        \n",
    "    def __str__(self):\n",
    "        return \"Cup is in %s color and is filled with %s\"%(self.color,self._content)\n",
    "        "
   ]
  },
  {
   "cell_type": "code",
   "execution_count": 75,
   "metadata": {},
   "outputs": [
    {
     "name": "stdout",
     "output_type": "stream",
     "text": [
      "################################\n",
      "tea\n",
      "################################\n",
      "tea\n",
      "################################\n",
      "Cup is in green color and is filled with coffee\n"
     ]
    }
   ],
   "source": [
    "print(\"################################\")\n",
    "cup = Cup()\n",
    "cup._content = \"tea\"\n",
    "cup.GetContent()\n",
    "print(\"################################\")\n",
    "print(cup._content)\n",
    "print(\"################################\")\n",
    "Sc = smallCup()\n",
    "Sc._content = \"coffee\"\n",
    "#print(cup._content)\n",
    "print(str(Sc))"
   ]
  },
  {
   "cell_type": "code",
   "execution_count": 76,
   "metadata": {},
   "outputs": [],
   "source": [
    "class Cup:\n",
    "    def __init__(self, color):\n",
    "        self._color = color    # protected variable\n",
    "        self.__content = None  # private variable\n",
    "\n",
    "    def fill(self, beverage):\n",
    "        self.__content = beverage\n",
    "\n",
    "    def empty(self):\n",
    "        self.__content = None\n",
    "    \n",
    "    def get_CupContent(self):\n",
    "        return self.__content \n",
    "    \n",
    "    def __get_CupContent_1(self):\n",
    "        return self.__content + \" from Private method\"\n",
    "    \n",
    "    def get_PrivateCupContent(self):\n",
    "        return self.__get_CupContent_1() \n",
    "    \n"
   ]
  },
  {
   "cell_type": "code",
   "execution_count": null,
   "metadata": {},
   "outputs": [],
   "source": [
    "redCup = Cup(\"red\")\n",
    "print(redCup._color)\n",
    "print(redCup._Cup__content)\n",
    "redCup._Cup__content = \"tea1\"\n",
    "#print(redCup.__content)\n",
    "print(\"################################\")\n",
    "print(redCup.get_CupContent())\n",
    "print(\"################################\")\n",
    "print(redCup._color)\n",
    "print(\"################################\")\n",
    "##print(redCup.__content)\n",
    "print(\"################################\")\n",
    "print(redCup.get_PrivateCupContent())\n",
    "print(\"################################\")\n",
    "print(redCup._color)\n",
    "print(\"################################\")\n",
    "#print(redCup.__content)\n",
    "print(\"########Call via shadow class ########################\")\n",
    "print(redCup._Cup__get_CupContent_1())\n",
    "print(\"################################\")\n",
    "print(redCup._Cup__content)\n",
    "print(\"################################\")\n"
   ]
  },
  {
   "cell_type": "code",
   "execution_count": 90,
   "metadata": {},
   "outputs": [],
   "source": [
    "class Car(object):\n",
    "    _maxspeed = 0\n",
    "    _name = \"\"\n",
    "    bhp  = 1000\n",
    "    \n",
    "    def __init__(self):\n",
    "        self.__updateSoftware()\n",
    "    \n",
    "    def drive(self):\n",
    "        print('driving')\n",
    "    \n",
    "    def __updateSoftware(self):\n",
    "        print('updating software')\n",
    "\n",
    "    def setMaxSpeed(self,speed):\n",
    "        self._maxspeed = speed\n",
    "\n",
    "    def getMaxSpeed(self):\n",
    "        return self._maxspeed"
   ]
  },
  {
   "cell_type": "code",
   "execution_count": 95,
   "metadata": {},
   "outputs": [
    {
     "name": "stdout",
     "output_type": "stream",
     "text": [
      "updating software\n",
      "1020\n",
      "updating software\n",
      "1000\n",
      "1000\n",
      "#############################\n",
      "driving\n",
      "#############################\n",
      "1020\n",
      "0\n",
      "500\n",
      "#############################\n",
      "Get Max Speed  0\n",
      "Get Max Speed 800\n",
      "#############################\n",
      "500\n",
      "800\n",
      "500\n"
     ]
    }
   ],
   "source": [
    "redcar = Car()\n",
    "#redcar.__updateSoftware()\n",
    "redcar.bhp =1020\n",
    "print(redcar.bhp)\n",
    "print(Car().bhp)\n",
    "print(Car.bhp)\n",
    "print(\"#############################\")\n",
    "redcar.drive()\n",
    "print(\"#############################\")\n",
    "print(redcar.bhp)\n",
    "print(redcar._maxspeed)\n",
    "redcar.__maxspeed = 500\n",
    "print(redcar.__maxspeed)\n",
    "print(\"#############################\")\n",
    "print(\"Get Max Speed \",redcar.getMaxSpeed())\n",
    "redcar.setMaxSpeed(800)\n",
    "print(\"Get Max Speed\", redcar.getMaxSpeed())\n",
    "print(\"#############################\")\n",
    "print(redcar.__maxspeed)\n",
    "print(redcar.getMaxSpeed())\n",
    "print(redcar.__maxspeed)\n",
    "\n"
   ]
  },
  {
   "cell_type": "markdown",
   "metadata": {},
   "source": [
    "##### Create a computer  object from many of its parts (RAM, CPU, Processor, Keyboard, Mouse, Display) as it's parent classes ?"
   ]
  },
  {
   "cell_type": "markdown",
   "metadata": {},
   "source": [
    "### Abstraction\n",
    "<ul>\n",
    "<li>Abstraction on the other side, can be explained as the capability to use the same interface for different objects. Different implementations of the same interface can exist. Details are hidden by encapsulation.</li>\n",
    "</ul>"
   ]
  },
  {
   "cell_type": "markdown",
   "metadata": {},
   "source": [
    "<p>Abstract classes are classes that contain one or more abstract methods.\n",
    "    <br> An abstract method is a method that is declared, but contains no implementation. Abstract classes may not be instantiated, \n",
    "and require subclasses to provide implementations for the abstract methods. </p>"
   ]
  },
  {
   "cell_type": "code",
   "execution_count": null,
   "metadata": {},
   "outputs": [],
   "source": [
    "class sampleClass:\n",
    "    \n",
    "    def do_something(self):\n",
    "        pass\n",
    "  \n",
    "    \n",
    "class B(sampleClass):\n",
    "    pass\n",
    "\n",
    "a = sampleClass()\n",
    "b = B()"
   ]
  },
  {
   "cell_type": "markdown",
   "metadata": {},
   "source": [
    "#### Implementing an Abstract Class"
   ]
  },
  {
   "cell_type": "code",
   "execution_count": 99,
   "metadata": {},
   "outputs": [],
   "source": [
    "from abc import ABC, abstractmethod\n",
    " \n",
    "class AbstractClassExample(ABC):\n",
    " \n",
    "    def __init__(self, value):\n",
    "        self.value = value\n",
    "        #super().__init__()\n",
    "    \n",
    "    @abstractmethod\n",
    "    def do_something(self):\n",
    "        pass\n",
    "    \n",
    "    #@abstractmethod\n",
    "    def do_add20(self):\n",
    "        return (20)"
   ]
  },
  {
   "cell_type": "code",
   "execution_count": 102,
   "metadata": {},
   "outputs": [
    {
     "name": "stdout",
     "output_type": "stream",
     "text": [
      "###########################\n",
      "110\n",
      "1000\n",
      "20\n",
      "25\n"
     ]
    }
   ],
   "source": [
    "class DoAdd10(AbstractClassExample):\n",
    "    def do_something(self):\n",
    "        return self.value + 10\n",
    "    #def do_add20(self):\n",
    "    #    return self.value + 20\n",
    "    pass\n",
    "    \n",
    "class DoMul10(AbstractClassExample):\n",
    "    #def __init__(self):\n",
    "    #    self.parent = AbstractClassExample.__init__()\n",
    "        \n",
    "    def do_add20(self):\n",
    "        return 25\n",
    "    #    return AbstractClassExample.do_add20() + 20 **2\n",
    "    def do_something(self):\n",
    "        return self.value * 10\n",
    "        \n",
    "    \n",
    "x = DoAdd10(100)\n",
    "y = DoMul10(100)\n",
    "#z = AbstractClassExample()\n",
    "print(\"###########################\")\n",
    "print(x.do_something())\n",
    "print(y.do_something())\n",
    "print(x.do_add20())\n",
    "print(y.do_add20())\n",
    "\n"
   ]
  },
  {
   "cell_type": "code",
   "execution_count": 139,
   "metadata": {},
   "outputs": [],
   "source": [
    "from abc import ABC, abstractmethod\n",
    "\n",
    "class Profession(ABC):\n",
    " \n",
    "    def __init__(self, value):\n",
    "        self.value = value\n",
    "        #super().__init__()\n",
    "    \n",
    "    @abstractmethod\n",
    "    def getProfession(self):\n",
    "        print(\"I do different works based on my talents\")\n",
    "        \n",
    "    @abstractmethod\n",
    "    def DescribeYourProfession(self):\n",
    "        print(\"\")\n",
    "    \n",
    "    def getsalary(self):\n",
    "        print(\"cant tell\")\n",
    "        \n",
    "    \n",
    "class Artist(Profession):\n",
    "    \n",
    "    def __init__(self, ProfessionName):\n",
    "        self.Profession = ProfessionName\n",
    "        \n",
    "    def getProfession(self):\n",
    "        return \"I am an %s\"%self.Profession\n",
    "    \n",
    "    def DescribeYourProfession(self):\n",
    "        print(\"I am an artist, I paint drawings\")\n",
    "\n",
    "class Engineer(Profession):\n",
    "    \n",
    "    def __init__(self, ProfessionName):\n",
    "        self.Profession = ProfessionName\n",
    "        self.basesalary = 5000\n",
    "    \n",
    "    def getProfession(self):\n",
    "        return \"I am an %s\"%self.Profession \n",
    "    \n",
    "    def DescribeYourProfession(self):\n",
    "        return \"I design structures, construct things\"\n",
    "    \n",
    "    def getsalary(self):\n",
    "        return \"Base Salary is %d dollars\"%(self.basesalary)\n",
    "#P= Profession()         \n",
    "\n",
    "x = Artist(\"Artist\")\n",
    "y = Engineer(\"Engineer\")\n",
    " "
   ]
  },
  {
   "cell_type": "code",
   "execution_count": 137,
   "metadata": {},
   "outputs": [
    {
     "name": "stdout",
     "output_type": "stream",
     "text": [
      "I am an Artist\n",
      "I am an Engineer\n",
      "I am an artist, I paint drawings\n",
      "None\n",
      "I design structures, construct things\n",
      "cant tell\n"
     ]
    },
    {
     "data": {
      "text/plain": [
       "'Base Salary is 5000 dollars'"
      ]
     },
     "execution_count": 137,
     "metadata": {},
     "output_type": "execute_result"
    }
   ],
   "source": [
    "print(x.getProfession())\n",
    "print(y.getProfession())\n",
    "print(x.DescribeYourProfession())\n",
    "print(y.DescribeYourProfession())\n",
    "x.getsalary()\n",
    "y.getsalary()"
   ]
  },
  {
   "cell_type": "markdown",
   "metadata": {},
   "source": [
    "### static methods\n",
    "static methods are bound to a class instead of a class object. \n",
    "It can be called directly without the need for any object instantiation"
   ]
  },
  {
   "cell_type": "code",
   "execution_count": 166,
   "metadata": {},
   "outputs": [],
   "source": [
    "import math\n",
    "class mathutil:\n",
    "    @staticmethod\n",
    "    def getsquareroot(x):\n",
    "        print('Inside static method', math.sqrt(x))\n",
    "        \n",
    "    def getsquareroot(x):\n",
    "        print('Inside static method', math.sqrt(x))"
   ]
  },
  {
   "cell_type": "code",
   "execution_count": 165,
   "metadata": {},
   "outputs": [
    {
     "name": "stdout",
     "output_type": "stream",
     "text": [
      "Inside static method 3.1622776601683795\n",
      "Inside static method 3.1622776601683795\n"
     ]
    }
   ],
   "source": [
    "# call static method\n",
    "mathutil.getsquareroot(10)\n",
    "\n",
    "# can be called using object\n",
    "calculate_1 = mathutil()\n",
    "calculate_1.getsquareroot(10)"
   ]
  },
  {
   "cell_type": "markdown",
   "metadata": {},
   "source": [
    "## Special Methods\n",
    "Finally lets go over special methods. Classes in Python can implement certain operations with special method names. These methods are not actually called directly but by Python specific language syntax. For example Lets create a Book class:"
   ]
  },
  {
   "cell_type": "code",
   "execution_count": 8,
   "metadata": {},
   "outputs": [
    {
     "data": {
      "text/plain": [
       "builtin_function_or_method"
      ]
     },
     "execution_count": 8,
     "metadata": {},
     "output_type": "execute_result"
    }
   ],
   "source": [
    "dir(len)\n",
    "#len.__module__\n",
    "len.__class__"
   ]
  },
  {
   "cell_type": "code",
   "execution_count": null,
   "metadata": {},
   "outputs": [],
   "source": [
    "class Book(object):\n",
    "    def __init__(self, title, author, pages):\n",
    "        print(\"A book is created\")\n",
    "        self.title = title\n",
    "        self.author = author\n",
    "        self.pages = pages\n",
    "\n",
    "    def __str__(self):\n",
    "        return \"Title:%s , author:%s, pages:%s \" %(self.title, self.author, self.pages)\n",
    "\n",
    "    def __len__(self):\n",
    "        return self.pages\n",
    "    def __del__(self):\n",
    "        print(\"A book is destroyed\")"
   ]
  },
  {
   "cell_type": "code",
   "execution_count": null,
   "metadata": {},
   "outputs": [],
   "source": [
    "a =[1,2,3]\n",
    "#del a\n",
    "print(len(a))\n",
    "#print(len(a[0]))\n",
    "print(str(a))\n",
    "print(\"###############\")\n",
    "book_1 = Book(\"Python Rocks!\", \"Jose Portilla\", 159)\n",
    "\n",
    "#Special Methods\n",
    "print(book_1)\n",
    "print(str(book_1))\n",
    "print(len(book_1))\n",
    "del book_1\n",
    "print(str(book_1))\n",
    "book_1.title\n",
    "\n"
   ]
  },
  {
   "cell_type": "code",
   "execution_count": null,
   "metadata": {},
   "outputs": [],
   "source": [
    "a =1\n",
    "b=2\n",
    "c =3    \n",
    "print(all({True, True, True}))\n",
    "print(all([1, 0, 1]))\n",
    "\n",
    "print(all([True, True, False]))\n",
    "print(any([True, False]))\n",
    "print(any([False,False, False]))\n",
    "print(any([False,False, False]))\n",
    "\n",
    "all([c>b,c>a])\n"
   ]
  },
  {
   "cell_type": "code",
   "execution_count": null,
   "metadata": {},
   "outputs": [],
   "source": [
    "if(all([c>b,c>a])):\n",
    "    print(\"c is greater\")   \n",
    "    if(b>a):\n",
    "        print(\"b is second greater\")\n",
    "    else: \n",
    "        print(\"a is second greater\")\n",
    "elif(all([b>c,b>a])):\n",
    "    print(\"b is greater\")     \n",
    "elif(all([a>b,a>c])):        \n",
    "    print(\"a is greater\")       \n",
    "        \n",
    "        "
   ]
  },
  {
   "cell_type": "code",
   "execution_count": null,
   "metadata": {},
   "outputs": [],
   "source": [
    "all([c>b,c>a])"
   ]
  },
  {
   "cell_type": "code",
   "execution_count": null,
   "metadata": {},
   "outputs": [],
   "source": [
    "a = [1,2,3]\n",
    "for x in range(len(a)):\n",
    "    if (a[x] == 2):\n",
    "        del a[x]\n",
    "        print(a,len(a))\n",
    "        #print(len(a))\n",
    "print(a)\n",
    "   "
   ]
  },
  {
   "cell_type": "markdown",
   "metadata": {},
   "source": [
    "    The __init__(), __str__(), __len__() and the __del__() methods.\n",
    "These special methods are defined by their use of underscores. They allow us to use Python specific functions on objects created through our class.\n",
    "\n",
    "\n"
   ]
  }
 ],
 "metadata": {
  "kernelspec": {
   "display_name": "Python 3",
   "language": "python",
   "name": "python3"
  },
  "language_info": {
   "codemirror_mode": {
    "name": "ipython",
    "version": 3
   },
   "file_extension": ".py",
   "mimetype": "text/x-python",
   "name": "python",
   "nbconvert_exporter": "python",
   "pygments_lexer": "ipython3",
   "version": "3.9.1"
  }
 },
 "nbformat": 4,
 "nbformat_minor": 1
}
