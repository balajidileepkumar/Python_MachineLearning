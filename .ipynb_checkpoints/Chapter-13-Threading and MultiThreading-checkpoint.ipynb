{
 "cells": [
  {
   "cell_type": "code",
   "execution_count": 22,
   "metadata": {},
   "outputs": [],
   "source": [
    "import threading\n",
    "from datetime import datetime"
   ]
  },
  {
   "cell_type": "markdown",
   "metadata": {},
   "source": [
    "#### Thread Local Variable"
   ]
  },
  {
   "cell_type": "code",
   "execution_count": 4,
   "metadata": {},
   "outputs": [
    {
     "ename": "NameError",
     "evalue": "name 'a' is not defined",
     "output_type": "error",
     "traceback": [
      "\u001b[1;31m---------------------------------------------------------------------------\u001b[0m",
      "\u001b[1;31mNameError\u001b[0m                                 Traceback (most recent call last)",
      "\u001b[1;32m<ipython-input-4-a690b5b6d7f1>\u001b[0m in \u001b[0;36m<module>\u001b[1;34m\u001b[0m\n\u001b[0;32m      2\u001b[0m \u001b[0mThreadLocalVar\u001b[0m\u001b[1;33m.\u001b[0m\u001b[0ma\u001b[0m \u001b[1;33m=\u001b[0m \u001b[1;36m5\u001b[0m\u001b[1;33m\u001b[0m\u001b[1;33m\u001b[0m\u001b[0m\n\u001b[0;32m      3\u001b[0m \u001b[0mThreadLocalVar\u001b[0m\u001b[1;33m.\u001b[0m\u001b[0mb\u001b[0m \u001b[1;33m=\u001b[0m \u001b[1;36m10\u001b[0m\u001b[1;33m\u001b[0m\u001b[1;33m\u001b[0m\u001b[0m\n\u001b[1;32m----> 4\u001b[1;33m \u001b[0mprint\u001b[0m\u001b[1;33m(\u001b[0m\u001b[0ma\u001b[0m\u001b[1;33m,\u001b[0m \u001b[0mb\u001b[0m\u001b[1;33m)\u001b[0m\u001b[1;33m\u001b[0m\u001b[1;33m\u001b[0m\u001b[0m\n\u001b[0m",
      "\u001b[1;31mNameError\u001b[0m: name 'a' is not defined"
     ]
    }
   ],
   "source": [
    "ThreadLocalVar = threading.local()\n",
    "ThreadLocalVar.a = 5\n",
    "ThreadLocalVar.b = 10\n",
    "print(a, b)"
   ]
  },
  {
   "cell_type": "code",
   "execution_count": 5,
   "metadata": {},
   "outputs": [
    {
     "data": {
      "text/plain": [
       "<_thread._local at 0x6bb4750>"
      ]
     },
     "execution_count": 5,
     "metadata": {},
     "output_type": "execute_result"
    }
   ],
   "source": [
    "ThreadLocalVar"
   ]
  },
  {
   "cell_type": "markdown",
   "metadata": {},
   "source": [
    "#### Lock and RLock"
   ]
  },
  {
   "cell_type": "code",
   "execution_count": 28,
   "metadata": {},
   "outputs": [],
   "source": [
    "lock_access = threading.Lock()# Timeout in seconds, blocking default = True Blocks other threads\n",
    "lock_Reentrant = threading.RLock(blocking=True, timeout=10)"
   ]
  },
  {
   "cell_type": "code",
   "execution_count": 29,
   "metadata": {},
   "outputs": [],
   "source": [
    "def func_a(message=\"\", times=10):\n",
    "    print(times)\n",
    "    #lock_access.acquire()\n",
    "    lock_Reentrant.acquire()\n",
    "    for count in range(0,times): \n",
    "        print(message, count)\n",
    "        print(datetime.now().strftime(\"%Y-%m-%d %H:%M:%S\"))\n",
    "    lock_Reentrant.release()\n",
    "    #lock_access.release()"
   ]
  },
  {
   "cell_type": "code",
   "execution_count": 38,
   "metadata": {},
   "outputs": [],
   "source": [
    "#Threading.Thread(group=None, target=None, name=None, args=(), kwargs={}, *, daemon=None)\n",
    "x1 = threading.Thread(target=func_a,kwargs=dict(message='Hello', times=10))\n",
    "x2 = threading.Thread(target=func_a,kwargs=dict(message='Welcome', times=20))\n",
    "x3 = threading.Thread(target=func_a,kwargs=dict(message='Hi', times=12))\n"
   ]
  },
  {
   "cell_type": "markdown",
   "metadata": {},
   "source": [
    "##### thread.join() waits for current thread to complete and suspends other threads by acquiring the lock and when complete notifies other blocked threads to continue"
   ]
  },
  {
   "cell_type": "code",
   "execution_count": 39,
   "metadata": {},
   "outputs": [
    {
     "name": "stdout",
     "output_type": "stream",
     "text": [
      "10\n",
      "Hello 0\n",
      "2020-11-30 00:49:07\n",
      "Hello 1\n",
      "2020-11-30 00:49:07\n",
      "Hello 202\n",
      "2020-11-30 00:49:0712\n",
      "\n",
      "Hello 3\n",
      "2020-11-30 00:49:07\n",
      "\n",
      "Hello 4\n",
      "2020-11-30 00:49:07\n",
      "Hello 5\n",
      "2020-11-30 00:49:07\n",
      "Hello 6\n",
      "2020-11-30 00:49:07\n",
      "Hello 7\n",
      "2020-11-30 00:49:07\n",
      "Hello 8\n",
      "2020-11-30 00:49:07\n",
      "Hello 9\n",
      "2020-11-30 00:49:07\n",
      "Hi 0\n",
      "2020-11-30 00:49:07\n",
      "Hi 1\n",
      "2020-11-30 00:49:07\n",
      "Hi 2\n",
      "2020-11-30 00:49:07\n",
      "Hi 3\n",
      "2020-11-30 00:49:07\n",
      "Hi 4\n",
      "2020-11-30 00:49:07\n",
      "Hi 5\n",
      "2020-11-30 00:49:07\n",
      "Hi 6\n",
      "2020-11-30 00:49:07\n",
      "Hi 7\n",
      "2020-11-30 00:49:07\n",
      "Hi 8\n",
      "2020-11-30 00:49:07\n",
      "Hi 9\n",
      "2020-11-30 00:49:07\n",
      "Hi 10\n",
      "2020-11-30 00:49:07\n",
      "Hi 11\n",
      "2020-11-30 00:49:07\n",
      "Welcome 0\n",
      "2020-11-30 00:49:07\n",
      "Welcome 1\n",
      "2020-11-30 00:49:07\n",
      "Welcome 2\n",
      "2020-11-30 00:49:07\n",
      "Welcome 3\n",
      "2020-11-30 00:49:07\n",
      "Welcome 4\n",
      "2020-11-30 00:49:07\n",
      "Welcome 5\n",
      "2020-11-30 00:49:07\n",
      "Welcome 6\n",
      "2020-11-30 00:49:07\n",
      "Welcome 7\n",
      "2020-11-30 00:49:07\n",
      "Welcome 8\n",
      "2020-11-30 00:49:07\n",
      "Welcome 9\n",
      "2020-11-30 00:49:07\n",
      "Welcome 10\n",
      "2020-11-30 00:49:07\n",
      "Welcome 11\n",
      "2020-11-30 00:49:07\n",
      "Welcome 12\n",
      "2020-11-30 00:49:07\n",
      "Welcome 13\n",
      "2020-11-30 00:49:07\n",
      "Welcome 14\n",
      "2020-11-30 00:49:07\n",
      "Welcome 15\n",
      "2020-11-30 00:49:07\n",
      "Welcome 16\n",
      "2020-11-30 00:49:07\n",
      "Welcome 17\n",
      "2020-11-30 00:49:07\n",
      "Welcome 18\n",
      "2020-11-30 00:49:07\n",
      "Welcome 19\n",
      "2020-11-30 00:49:07\n"
     ]
    }
   ],
   "source": [
    "x1.start()\n",
    "x2.start()\n",
    "x3.start()\n",
    "x3.join()"
   ]
  },
  {
   "cell_type": "markdown",
   "metadata": {},
   "source": [
    "#### Condition Objects"
   ]
  },
  {
   "cell_type": "code",
   "execution_count": null,
   "metadata": {},
   "outputs": [],
   "source": []
  },
  {
   "cell_type": "markdown",
   "metadata": {},
   "source": [
    "#### Semaphore "
   ]
  },
  {
   "cell_type": "code",
   "execution_count": null,
   "metadata": {},
   "outputs": [],
   "source": []
  },
  {
   "cell_type": "markdown",
   "metadata": {},
   "source": [
    "#### Events"
   ]
  },
  {
   "cell_type": "code",
   "execution_count": null,
   "metadata": {},
   "outputs": [],
   "source": []
  }
 ],
 "metadata": {
  "kernelspec": {
   "display_name": "Python 3",
   "language": "python",
   "name": "python3"
  },
  "language_info": {
   "codemirror_mode": {
    "name": "ipython",
    "version": 3
   },
   "file_extension": ".py",
   "mimetype": "text/x-python",
   "name": "python",
   "nbconvert_exporter": "python",
   "pygments_lexer": "ipython3",
   "version": "3.7.3"
  }
 },
 "nbformat": 4,
 "nbformat_minor": 2
}
