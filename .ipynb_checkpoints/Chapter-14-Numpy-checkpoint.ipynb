{
 "cells": [
  {
   "cell_type": "markdown",
   "metadata": {
    "colab_type": "text",
    "id": "-s9bQNqkVygt"
   },
   "source": [
    "# NUMPY BASICS"
   ]
  },
  {
   "cell_type": "markdown",
   "metadata": {
    "colab_type": "text",
    "id": "7UV8v2kdVscb"
   },
   "source": [
    "# Intro to NumPy\n",
    "\n",
    "NumPy is the fundamental package for scientific computing in Python. NumPy is used in many other packages in python even though you may not see it explicitly running in your code.\n",
    "\n",
    "It is a python library that provides a multidimensional array object, various derived objects (such as masked arrays and matrices), and an assortment of routines for fast operations on arrays, including mathematical, logical, shape manipulation, sorting, selecting, I/O, discrete Fourier transforms, basic linear algebra, basic statistical operations, random simulation and much more.\n"
   ]
  },
  {
   "cell_type": "markdown",
   "metadata": {},
   "source": [
    "### install the numpy"
   ]
  },
  {
   "cell_type": "code",
   "execution_count": null,
   "metadata": {},
   "outputs": [],
   "source": [
    "pip install numpy"
   ]
  },
  {
   "cell_type": "code",
   "execution_count": null,
   "metadata": {},
   "outputs": [],
   "source": [
    "import numpy as np"
   ]
  },
  {
   "cell_type": "code",
   "execution_count": null,
   "metadata": {},
   "outputs": [],
   "source": [
    "import numpy\n",
    "a = numpy.arange(10)\n",
    "print (a)\n",
    "print(type(a))"
   ]
  },
  {
   "cell_type": "code",
   "execution_count": null,
   "metadata": {},
   "outputs": [],
   "source": [
    "print (a.ndim)\n",
    "print(a.size)\n",
    "print(a.itemsize)\n",
    "print(a.dtype.name)\n",
    "print(type(a[0]))\n",
    "print(a.data)\n",
    "print(type(a))\n"
   ]
  },
  {
   "cell_type": "markdown",
   "metadata": {},
   "source": [
    "### Makes the processing faster\n"
   ]
  },
  {
   "cell_type": "code",
   "execution_count": null,
   "metadata": {},
   "outputs": [],
   "source": [
    "import datetime\n",
    "starttime = datetime.datetime.now()\n",
    "print(starttime)\n",
    "a =[1,2,3,4,5,6,7,8,9,10,11]\n",
    "b =[4,5,6,7,8,9,10,11,12,13,14]\n",
    "for i in range(len(a)):\n",
    "    print(a[i]**2*b[i]**2)\n",
    "endtime = datetime.datetime.now()\n",
    "print(endtime)\n",
    "(endtime-starttime).total_seconds()"
   ]
  },
  {
   "cell_type": "code",
   "execution_count": null,
   "metadata": {},
   "outputs": [],
   "source": [
    "import numpy as np\n",
    "starttime = datetime.datetime.now()\n",
    "a = np.arange(1,12)\n",
    "print(a)\n",
    "b =  np.arange(4,15)\n",
    "print(b)\n",
    "print(a*b)\n",
    "endtime = datetime.datetime.now()\n",
    "print((endtime-starttime).total_seconds())"
   ]
  },
  {
   "cell_type": "markdown",
   "metadata": {
    "colab_type": "text",
    "id": "fkjpKVmZVscc"
   },
   "source": [
    " #### Import the numpy package"
   ]
  },
  {
   "cell_type": "code",
   "execution_count": null,
   "metadata": {
    "colab": {},
    "colab_type": "code",
    "id": "oFl5JU9fVscd"
   },
   "outputs": [],
   "source": [
    "import numpy as np"
   ]
  },
  {
   "cell_type": "code",
   "execution_count": null,
   "metadata": {},
   "outputs": [],
   "source": [
    "a = np.arange(10)\n",
    "print (a)\n",
    "a.shape"
   ]
  },
  {
   "cell_type": "code",
   "execution_count": null,
   "metadata": {},
   "outputs": [],
   "source": [
    "a = np.arange(10).reshape(2,5)\n",
    "print (a)"
   ]
  },
  {
   "cell_type": "code",
   "execution_count": null,
   "metadata": {
    "scrolled": true
   },
   "outputs": [],
   "source": [
    "b = a.reshape(5,2)\n",
    "print(b)"
   ]
  },
  {
   "cell_type": "code",
   "execution_count": null,
   "metadata": {},
   "outputs": [],
   "source": [
    "print (a.ndim)\n",
    "print(a.size)\n",
    "print(a.itemsize)\n",
    "print(a.dtype.name)\n",
    "print(type(a))"
   ]
  },
  {
   "cell_type": "code",
   "execution_count": null,
   "metadata": {},
   "outputs": [],
   "source": [
    "import numpy as np"
   ]
  },
  {
   "cell_type": "code",
   "execution_count": null,
   "metadata": {
    "scrolled": true
   },
   "outputs": [],
   "source": [
    "a = np.arange(10)\n",
    "print (a)"
   ]
  },
  {
   "cell_type": "code",
   "execution_count": null,
   "metadata": {},
   "outputs": [],
   "source": [
    "a = np.arange(10).reshape(2,5)\n",
    "print (a)"
   ]
  },
  {
   "cell_type": "code",
   "execution_count": null,
   "metadata": {},
   "outputs": [],
   "source": [
    "print(np.arange(12))\n",
    "a = np.arange(12).reshape(2,3,2)\n",
    "print(a)"
   ]
  },
  {
   "cell_type": "code",
   "execution_count": null,
   "metadata": {},
   "outputs": [],
   "source": [
    "a = np.arange(20).reshape(2,5,2)\n",
    "print (a)"
   ]
  },
  {
   "cell_type": "code",
   "execution_count": null,
   "metadata": {},
   "outputs": [],
   "source": [
    "a = np.arange(0,27,5).reshape(2,5)\n",
    "print (a)"
   ]
  },
  {
   "cell_type": "code",
   "execution_count": null,
   "metadata": {},
   "outputs": [],
   "source": [
    "a = np.arange(64).reshape(2,2,4,4)\n",
    "print (a)"
   ]
  },
  {
   "cell_type": "code",
   "execution_count": null,
   "metadata": {},
   "outputs": [],
   "source": [
    "a = np.arange(24).reshape(2,6,2).reshape(2,2,2,3)\n",
    "print(a)\n",
    "print(a.ndim)"
   ]
  },
  {
   "cell_type": "code",
   "execution_count": null,
   "metadata": {
    "scrolled": false
   },
   "outputs": [],
   "source": [
    "a = np.arange(10).reshape(5,2)\n",
    "print (a)\n",
    "print(\"################################\")\n",
    "e =a.reshape(2,5)\n",
    "print(e)\n",
    "print(\"################################\")\n",
    "b = np.arange(10).reshape(5,2)\n",
    "print(b)\n",
    "print(\"################################\")\n",
    "c = b.reshape(10,1)\n",
    "print(c)\n"
   ]
  },
  {
   "cell_type": "code",
   "execution_count": null,
   "metadata": {},
   "outputs": [],
   "source": [
    "print (a.ndim)\n",
    "print(a.size)\n",
    "print(a.itemsize)\n",
    "print(a.dtype.name)\n",
    "print(type(a))"
   ]
  },
  {
   "cell_type": "markdown",
   "metadata": {},
   "source": [
    "#### using list to generate numpy array"
   ]
  },
  {
   "cell_type": "code",
   "execution_count": null,
   "metadata": {},
   "outputs": [],
   "source": [
    "b=np.array([x for x in range(1,100) if(x%3==0)])\n",
    "print(b)\n",
    "print(b.dtype)"
   ]
  },
  {
   "cell_type": "code",
   "execution_count": null,
   "metadata": {},
   "outputs": [],
   "source": [
    "b=np.array([2,3,4])\n",
    "print(b)\n",
    "print(b.dtype)"
   ]
  },
  {
   "cell_type": "code",
   "execution_count": null,
   "metadata": {},
   "outputs": [],
   "source": [
    "d = b.reshape(3,1)\n",
    "print(d)"
   ]
  },
  {
   "cell_type": "code",
   "execution_count": null,
   "metadata": {},
   "outputs": [],
   "source": [
    "import numpy as np\n",
    "c=np.array([[11,2],[3,4]])\n",
    "print (c)\n",
    "print(\"##############\")\n",
    "d=np.array([[5,2],[3,8]]).reshape(1,4)\n",
    "\n",
    "print(d)\n",
    "print(\"##############\")\n",
    "\n",
    "e = np.array([3,6,9,12,14,16,18,19]).reshape(2,2,2)\n",
    "print(e)\n",
    "print(\"##############\")\n",
    "e.dtype.name"
   ]
  },
  {
   "cell_type": "code",
   "execution_count": null,
   "metadata": {},
   "outputs": [],
   "source": [
    "c=np.array([[1,2],[3,4.1]],dtype='int')\n",
    "#c=np.array([[1,2],[3,4.1]])\n",
    "print (c)\n",
    "print(c.dtype.name)"
   ]
  },
  {
   "cell_type": "code",
   "execution_count": null,
   "metadata": {
    "scrolled": true
   },
   "outputs": [],
   "source": [
    "c=np.array([[1,2],[3,4.5]],dtype='complex')\n",
    "print (c)\n",
    "print(c.dtype.name)"
   ]
  },
  {
   "cell_type": "code",
   "execution_count": null,
   "metadata": {
    "scrolled": true
   },
   "outputs": [],
   "source": [
    "c=np.array([[1,2],[3,4+5j]],dtype='int')\n",
    "print (c)"
   ]
  },
  {
   "cell_type": "code",
   "execution_count": null,
   "metadata": {},
   "outputs": [],
   "source": [
    "a =3.90\n",
    "b = int(a)\n",
    "b"
   ]
  },
  {
   "cell_type": "code",
   "execution_count": null,
   "metadata": {},
   "outputs": [],
   "source": [
    "t = np.arange(4).reshape(2,2)\n",
    "print(t)"
   ]
  },
  {
   "cell_type": "code",
   "execution_count": null,
   "metadata": {
    "scrolled": true
   },
   "outputs": [],
   "source": [
    "t = np.arange(8).reshape(4,2)\n",
    "print(t)"
   ]
  },
  {
   "cell_type": "code",
   "execution_count": null,
   "metadata": {
    "scrolled": false
   },
   "outputs": [],
   "source": [
    "t = np.arange(8).reshape(2,2,2)\n",
    "print(t)"
   ]
  },
  {
   "cell_type": "code",
   "execution_count": null,
   "metadata": {},
   "outputs": [],
   "source": [
    "t = np.arange(16).reshape(2,2,2,2)\n",
    "print(t)"
   ]
  },
  {
   "cell_type": "code",
   "execution_count": null,
   "metadata": {
    "scrolled": true
   },
   "outputs": [],
   "source": [
    "print (t.ndim)\n",
    "print(t.size)\n",
    "print(t.itemsize)\n",
    "print(t.dtype.name)\n",
    "\n",
    "print(type(t))"
   ]
  },
  {
   "cell_type": "code",
   "execution_count": null,
   "metadata": {},
   "outputs": [],
   "source": [
    "a = np.arange(10,16)\n",
    "print(a)\n",
    "#start, end and step\n",
    "b = np.arange(10,16,2)\n",
    "print(b)\n",
    "b = np.arange(16)\n",
    "print(b)"
   ]
  },
  {
   "cell_type": "code",
   "execution_count": null,
   "metadata": {},
   "outputs": [],
   "source": [
    "a = np.arange(10,16)\n",
    "print(a)\n",
    "#start, end and step\n",
    "b = np.arange(22,116,-2)\n",
    "print(b)\n",
    "b = np.arange(22,16,-2)\n",
    "print(b)"
   ]
  },
  {
   "cell_type": "markdown",
   "metadata": {},
   "source": [
    "### Generate Zeros"
   ]
  },
  {
   "cell_type": "code",
   "execution_count": null,
   "metadata": {},
   "outputs": [],
   "source": [
    "d=np.zeros([3,10])\n",
    "print (d)\n",
    "print(d.dtype.name)\n",
    "d=np.zeros([2,3,3,4])\n",
    "print (d.ndim, d)\n",
    "print(d.dtype.name)"
   ]
  },
  {
   "cell_type": "code",
   "execution_count": null,
   "metadata": {},
   "outputs": [],
   "source": [
    "e=np.empty([2,10])\n",
    "print(e)"
   ]
  },
  {
   "cell_type": "code",
   "execution_count": null,
   "metadata": {},
   "outputs": [],
   "source": [
    "random_nos = np.random.random([2,3])\n",
    "print(random_nos)\n",
    "print(\"#####################################\")\n",
    "random_nos = np.ones([2,3])\n",
    "print(random_nos)\n",
    "print(\"#####################################\")\n",
    "random_nos = np.random.randint(0, 20, 10)\n",
    "print(random_nos)\n",
    "print(\"#####################################\")\n",
    "random_nos = np.eye(3)\n",
    "print(random_nos)\n",
    "print(\"#####################################\")\n",
    "random_nos = np.eye(3,5)\n",
    "print(random_nos)\n",
    "print(\"#####################################\")\n",
    "random_nos = np.eye(3,5,2)\n",
    "print(random_nos)"
   ]
  },
  {
   "cell_type": "code",
   "execution_count": null,
   "metadata": {},
   "outputs": [],
   "source": [
    "##Range Functionalities"
   ]
  },
  {
   "cell_type": "code",
   "execution_count": null,
   "metadata": {},
   "outputs": [],
   "source": [
    "a=np.arange(10)\n",
    "print(a)"
   ]
  },
  {
   "cell_type": "code",
   "execution_count": null,
   "metadata": {},
   "outputs": [],
   "source": [
    "b=np.arange(10,30,5).reshape(2,2)\n",
    "print (b)"
   ]
  },
  {
   "cell_type": "code",
   "execution_count": null,
   "metadata": {},
   "outputs": [],
   "source": [
    "b=np.arange(10,36,5).reshape(3,2)#start, end, step\n",
    "print (b)"
   ]
  },
  {
   "cell_type": "code",
   "execution_count": null,
   "metadata": {},
   "outputs": [],
   "source": [
    "c= np.linspace(10,60,10).reshape(2,5)#start, end, no of values required\n",
    "print (c)"
   ]
  },
  {
   "cell_type": "code",
   "execution_count": null,
   "metadata": {},
   "outputs": [],
   "source": [
    "c= np.linspace(0,50)#start, end, no of values required #default 50 values\n",
    "print (c)\n",
    "c= np.linspace(0,50,25).reshape(5,5)#start, end, no of values required\n",
    "print (c)"
   ]
  },
  {
   "cell_type": "code",
   "execution_count": null,
   "metadata": {
    "scrolled": true
   },
   "outputs": [],
   "source": [
    "a = np.ones([5,5])\n",
    "print(a)\n",
    "print(\"###############################\")\n",
    "print(a*c)\n",
    "print(\"###############################\")\n",
    "InverseC  = a/c\n",
    "print(\"############# Inverse ##################\")\n",
    "print(InverseC)\n",
    "print(\"###############################\")\n",
    "print(c*InverseC)\n"
   ]
  },
  {
   "cell_type": "code",
   "execution_count": null,
   "metadata": {},
   "outputs": [],
   "source": [
    "c=np.random.randint(1,10,10).reshape(2,5)\n",
    "#c=np.random.random([2,5])\n",
    "print (c)\n",
    "print(\"#############################\")\n",
    "print (\"sum of elements is \", c.sum())\n",
    "print(\"#############################\")\n",
    "print (\"least elements is \",c.min())\n",
    "print(\"#############################\")\n",
    "print(\"largest of elements is \",c.max())\n",
    "print(\"#############################\")\n",
    "print(\"round  of elements is \",c.round(3))"
   ]
  },
  {
   "cell_type": "code",
   "execution_count": null,
   "metadata": {
    "scrolled": true
   },
   "outputs": [],
   "source": [
    "c=np.random.random([2,3])\n",
    "print (c)\n",
    "print(\"###########sum################\")\n",
    "print (c.sum())\n",
    "print(\"###########min################\")\n",
    "print (c.min())\n",
    "print(\"###########max################\")\n",
    "print(c.max())\n",
    "print(\"#############mean##############\")\n",
    "print(c.mean())\n",
    "print(\"####### sum axis = 0####################\")\n",
    "print(c.sum(axis =0))\n",
    "print(\"###########sum axis = 1################\")\n",
    "print(c.sum(axis =1))\n",
    "print(\"###########cumulative sum axis = 0 ################\")\n",
    "print (c.cumsum(axis =0))\n",
    "print(\"############cumulative sum axis = 1 ###############\")\n",
    "print (c.cumsum(axis =1))\n",
    "print(\"###########################\")"
   ]
  },
  {
   "cell_type": "code",
   "execution_count": null,
   "metadata": {},
   "outputs": [],
   "source": [
    "c=np.array([[4,5,6],[3,4,5]])\n",
    "print (c)\n",
    "print(\"###########################\")\n",
    "print (c.sum())\n",
    "print(\"###########################\")\n",
    "print (c.min())\n",
    "print(\"###########################\")\n",
    "print(c.max())\n",
    "print(\"###########################\")\n",
    "print(c.mean())\n",
    "print(\"####### sum axis = 0####################\")\n",
    "print(c.sum(axis =0))\n",
    "print(\"###########sum axis = 1################\")\n",
    "print(c.sum(axis =1))\n",
    "print(\"###########cumulative sum axis = 0 ################\")\n",
    "print (c.cumsum(axis =0))\n",
    "print(\"############cumulative sum axis = 1 ###############\")\n",
    "print (c.cumsum(axis =1))\n",
    "print(\"###########################\")"
   ]
  },
  {
   "cell_type": "code",
   "execution_count": null,
   "metadata": {
    "scrolled": true
   },
   "outputs": [],
   "source": [
    "c = np.arange(12).reshape(2,2,3)\n",
    "print(c)\n",
    "print(\"#############################\")\n",
    "print (c.sum())\n",
    "print(\"###########################\")\n",
    "print (c.min())\n",
    "print(\"###########################\")\n",
    "print(c.max())\n",
    "print(\"###########################\")\n",
    "print(c.mean())\n",
    "print(\"####### sum axis = 0####################\")\n",
    "print(c.sum(axis =0))\n",
    "print(\"###########sum axis = 1################\")\n",
    "print(c.sum(axis =1))\n",
    "print(\"###########sum axis = 1################\")\n",
    "print(c.sum(axis =2))\n",
    "print(\"###########cumulative sum axis = 0 ################\")\n",
    "print (c.cumsum(axis =0))\n",
    "print(\"############cumulative sum axis = 1 ###############\")\n",
    "print (c.cumsum(axis =1))\n",
    "print(\"###########################\")"
   ]
  },
  {
   "cell_type": "code",
   "execution_count": null,
   "metadata": {},
   "outputs": [],
   "source": [
    "a = np.arange(8).reshape(2,2,2)\n",
    "print(a)\n",
    "print(\"######################\")\n",
    "print(a.sum(axis=0))\n",
    "print(\"#########\")\n",
    "print(a.sum(axis=1))\n",
    "print(\"#########\")\n",
    "print(a.sum(axis=2))"
   ]
  },
  {
   "cell_type": "code",
   "execution_count": null,
   "metadata": {},
   "outputs": [],
   "source": [
    "a=np.arange(12).reshape(2,2,3)\n",
    "print(\"##############################\")\n",
    "print(a.sum(axis=0))\n",
    "print(\"##############################\")\n",
    "print(a.sum(axis=1))\n",
    "print(\"##############################\")\n",
    "print(a.sum(axis=2))\n"
   ]
  },
  {
   "cell_type": "markdown",
   "metadata": {
    "colab_type": "text",
    "id": "Wi_iVJZcVsch"
   },
   "source": [
    "#### Make an array from a list. \n",
    "\n",
    "This will create a numpy array with 3 elements. \n",
    "\n",
    "Each numpy array contains an attribute called `shape`. Shape is a tuple which tells you how many elements you have per axis. For example (5, 6, 8) means 5 elements per axis 0, 6 elements per axis 1 and 8 elements per axis 2. Usually you will have only one or two axes.\n",
    "\n",
    "The shape for the array in this section is `(3, )`. The reason for this funny notation is python's type system where shape must be a tuple and this is a tuple with 1 element. Writing just 3 would mean a number, not a tuple.\n",
    "\n",
    "To verify that try `np.array([1, 2, 3]).shape` "
   ]
  },
  {
   "cell_type": "code",
   "execution_count": null,
   "metadata": {
    "colab": {},
    "colab_type": "code",
    "id": "hiCYmtPGVsch"
   },
   "outputs": [],
   "source": [
    "np.array([1, 2, 3]).shape"
   ]
  },
  {
   "cell_type": "code",
   "execution_count": null,
   "metadata": {},
   "outputs": [],
   "source": [
    "np.array([[1, 2, 3]]).shape "
   ]
  },
  {
   "cell_type": "markdown",
   "metadata": {
    "colab_type": "text",
    "id": "stlK-cUIVscm"
   },
   "source": [
    "#### Make an array from a list of lists\n",
    "\n",
    "The shape of this array is (2, 2) so this is a matrix."
   ]
  },
  {
   "cell_type": "code",
   "execution_count": null,
   "metadata": {
    "colab": {},
    "colab_type": "code",
    "id": "0R0OYUEgVscn"
   },
   "outputs": [],
   "source": [
    "np.array([[1, 2], [3, 4]]).shape"
   ]
  },
  {
   "cell_type": "markdown",
   "metadata": {
    "colab_type": "text",
    "id": "XlI6D-_IVscq"
   },
   "source": [
    "#### Make an array using a function\n",
    "\n",
    "The arrays made in previous sections were based on us supplying each value.\n",
    "\n",
    "Very often we need large arrays and it is not possible to use our current approach and thus we need to use array creating functions. The most important functions are `zeros` and `ones`. They both take a parameter called shape which determines the shape of the output array.\n",
    "* `zeros` makes an array which is all 0 [docs](https://docs.scipy.org/doc/numpy/reference/generated/numpy.zeros.html)\n",
    "* `ones`  makes an array which is all 1 [docs](https://docs.scipy.org/doc/numpy/reference/generated/numpy.ones.html#numpy.ones)"
   ]
  },
  {
   "cell_type": "code",
   "execution_count": null,
   "metadata": {
    "colab": {},
    "colab_type": "code",
    "id": "VbIimhBLVscr"
   },
   "outputs": [],
   "source": [
    "np.zeros((2, 3))"
   ]
  },
  {
   "cell_type": "code",
   "execution_count": null,
   "metadata": {
    "colab": {},
    "colab_type": "code",
    "id": "2ehKzKEsVsct"
   },
   "outputs": [],
   "source": [
    "np.ones((3, 2))"
   ]
  },
  {
   "cell_type": "markdown",
   "metadata": {
    "colab_type": "text",
    "id": "SYWOfj3GVscx"
   },
   "source": [
    "#### Make an array by starting at 0, incrementing by 2 and ending before 10\n",
    "\n",
    "`arange` is the exact same thing as regular python `range` except giving back a numpy array.\n",
    "\n",
    "This functions requires only a single argument which is the end point. The start point is assumed to be 0 and step is assumed to be 1.\n",
    "\n",
    "In this variety when in takes three parameters, the first one is the start, second one is the end and the third one is the step.\n",
    "\n",
    "[docs](https://docs.scipy.org/doc/numpy/reference/generated/numpy.arange.html)"
   ]
  },
  {
   "cell_type": "code",
   "execution_count": null,
   "metadata": {
    "colab": {},
    "colab_type": "code",
    "id": "YmUE2XZIVscx"
   },
   "outputs": [],
   "source": [
    "np.arange(0, 10, 2)"
   ]
  },
  {
   "cell_type": "markdown",
   "metadata": {
    "colab_type": "text",
    "id": "WgfvR8_eVsc0"
   },
   "source": [
    "#### Make an array of four evenly spaced numbers including both endpoints"
   ]
  },
  {
   "cell_type": "code",
   "execution_count": null,
   "metadata": {
    "colab": {},
    "colab_type": "code",
    "id": "CmQ2LtbjVsc2"
   },
   "outputs": [],
   "source": [
    "np.linspace(0, 1, 4)"
   ]
  },
  {
   "cell_type": "markdown",
   "metadata": {
    "colab_type": "text",
    "id": "pSwe4s-6Vsc6"
   },
   "source": [
    "#### Make an array of random numbers (using a normal distribution)\n",
    "\n",
    "The random submodule of numpy contains a variety of functions for generating random numbers following a specified probability distributions or sampling from a finite set of choices. To learn more about it visit the [documentation](https://docs.scipy.org/doc/numpy/reference/routines.random.html). "
   ]
  },
  {
   "cell_type": "code",
   "execution_count": null,
   "metadata": {
    "colab": {},
    "colab_type": "code",
    "id": "rIVnHqRNVsc6"
   },
   "outputs": [],
   "source": [
    "import numpy as np\n",
    "mean = 10\n",
    "stdev = 3\n",
    "number_values = 100\n",
    "resultant_array = np.random.normal(mean, stdev, number_values)\n",
    "print(resultant_array )\n",
    "print(resultant_array.mean())\n",
    "print(resultant_array.std())\n",
    "# for a poisson distribution a mean and standard deviation are equal \n",
    "resultant_array_1 = np.random.poisson(mean, number_values)\n",
    "print(resultant_array_1)\n",
    "print(resultant_array_1.mean())\n",
    "print(resultant_array_1.std())"
   ]
  },
  {
   "cell_type": "markdown",
   "metadata": {
    "colab_type": "text",
    "id": "gPZuEtnjVsc9"
   },
   "source": [
    "## Indexing Arrays\n",
    "#### Access elements of a 1-dimensional array.  Get the first and last element.\n",
    "\n",
    "In python as is in many other programming languages all arrays start from 0 so the first element is at position 0.\n",
    "\n",
    "To access the last element we can use -1 as the index. `x[-1]` is identical to `x[x.shape[0] - 1]` where `shape[0]` is the length of the array."
   ]
  },
  {
   "cell_type": "code",
   "execution_count": null,
   "metadata": {
    "colab": {},
    "colab_type": "code",
    "id": "TTfE_CDUVsc-"
   },
   "outputs": [],
   "source": [
    "import numpy as np\n",
    "x = np.arange(4)#.reshape(4)\n",
    "print(x, x.shape)\n",
    "print(x[0])\n",
    "print(x[-1])"
   ]
  },
  {
   "cell_type": "code",
   "execution_count": null,
   "metadata": {
    "scrolled": true
   },
   "outputs": [],
   "source": [
    "x = np.linspace(10,20,10).reshape(2,5)\n",
    "print(x)\n",
    "#Get first row\n",
    "print(\"##########################\")\n",
    "print(x[0])\n",
    "print(\"##########################\")\n",
    "print(x[0][1])\n",
    "print(\"##########################\")\n",
    "print(x[0,-1])\n",
    "print(\"##########################\")\n",
    "print(x[1,-2])"
   ]
  },
  {
   "cell_type": "code",
   "execution_count": null,
   "metadata": {
    "scrolled": false
   },
   "outputs": [],
   "source": [
    "x = np.linspace(10,20,30).reshape(2,5,3)\n",
    "#x = np.arange(30).reshape(2,5,3)\n",
    "#print(x)\n",
    "x = x.round(0)\n",
    "print(\"xvalue is \",x)\n",
    "print(\"##########################\")\n",
    "#Get first row\n",
    "print(x[0])\n",
    "print(\"##########################\")\n",
    "print(x[0][1])\n",
    "print(\"##########################\")\n",
    "print(x[0][-1])\n",
    "print(\"##########################\")\n",
    "print(x[0,4])\n",
    "print(\"##########################\")\n",
    "print(x[1,2,-3])"
   ]
  },
  {
   "cell_type": "markdown",
   "metadata": {
    "colab_type": "text",
    "id": "TzlouFp2VsdD"
   },
   "source": [
    "#### Reshape an array\n",
    "\n",
    "Remember that shape is the fundamenal property of each array and we can modify it as we desire and we often do so. To change the shape of an array we use the `reshape` method.\n",
    "\n",
    "The code in this example creates an 1D-array of 6 elements using the `arange` functon.\n",
    "\n",
    "We convert it to a 2D-array using the `reshape` method.\n",
    "\n",
    "You see that the total amount of numbers did not change, only our view of them. 6 elements in a vector or 3 x 2 elements in a matrix.\n",
    "\n",
    "It is very important that when using `reshape` to ensure that dimensions match or you will get an error. 6 = 3 x 2 is a match so this works but trying np.arange(6).reshape(4, 2) will give you an error. \n",
    "\n",
    "[docs](https://docs.scipy.org/doc/numpy/reference/generated/numpy.reshape.html)"
   ]
  },
  {
   "cell_type": "code",
   "execution_count": null,
   "metadata": {
    "colab": {},
    "colab_type": "code",
    "id": "L-99GhjBVsdE"
   },
   "outputs": [],
   "source": [
    "x = np.arange(6).reshape(2, 3).reshape(6,1)\n",
    "print(x)"
   ]
  },
  {
   "cell_type": "markdown",
   "metadata": {
    "colab_type": "text",
    "id": "PJwakKH2VsdG"
   },
   "source": [
    "#### Get the last row\n",
    "\n",
    "When dealing with arrays which are of more than a single dimension we can use partial indexing specifications go slice the array the way we want. \n",
    "\n",
    "For example `print(x[-1])` will print the last **row**.\n",
    "\n",
    "To get the last column take the transpose of the 2d-array and then use [-1]. \n",
    "\n",
    "For exampe `print(x.T[-1])` will give you the last columns. `x.T` is the transpose of `x`"
   ]
  },
  {
   "cell_type": "code",
   "execution_count": null,
   "metadata": {
    "colab": {},
    "colab_type": "code",
    "id": "eRzSoVEBVsdH"
   },
   "outputs": [],
   "source": [
    "print(x[-1])"
   ]
  },
  {
   "cell_type": "markdown",
   "metadata": {
    "colab_type": "text",
    "id": "lLqO8U4ZVsdL"
   },
   "source": [
    "#### Get the last element of the last row\n",
    "\n",
    "Here we are using full indexing to get a single **element**."
   ]
  },
  {
   "cell_type": "code",
   "execution_count": null,
   "metadata": {
    "colab": {},
    "colab_type": "code",
    "id": "ktEhAKY0VsdL"
   },
   "outputs": [],
   "source": [
    "print(x[-1, -1])"
   ]
  },
  {
   "cell_type": "markdown",
   "metadata": {
    "colab_type": "text",
    "id": "S_vuadjsVsdO"
   },
   "source": [
    "#### Get elements like a list\n",
    "\n",
    "Using the notation `a:b` we can slice arrays as precisely as we want.\n",
    "\n",
    "`a:b` means give me back all elements whose positions is in that set.\n",
    "\n",
    "For example `y = [1, 3, 5, 7, 9]` and `y[0:2]` would give us the first two elements `[1, 3]`.\n",
    "\n",
    "Negative indices mean from back so -3 means 3 positions starting from the last position.\n",
    "\n",
    "Experiment with the values until you get the feel for it."
   ]
  },
  {
   "cell_type": "code",
   "execution_count": 100,
   "metadata": {
    "colab": {},
    "colab_type": "code",
    "id": "Q6coPcKdVsdO"
   },
   "outputs": [
    {
     "name": "stdout",
     "output_type": "stream",
     "text": [
      "[0 1 2 3 4 5 6 7 8 9]\n"
     ]
    }
   ],
   "source": [
    "x = np.arange(10) \n",
    "print(x)"
   ]
  },
  {
   "cell_type": "code",
   "execution_count": 101,
   "metadata": {},
   "outputs": [
    {
     "name": "stdout",
     "output_type": "stream",
     "text": [
      "[0 1 2]\n",
      "[1 2 3]\n",
      "[7 8 9]\n",
      "[5 7]\n"
     ]
    }
   ],
   "source": [
    "print(x[:3])\n",
    "print(x[1:4])\n",
    "print(x[-3:])\n",
    "print(x[-5:-1:2])"
   ]
  },
  {
   "cell_type": "code",
   "execution_count": 102,
   "metadata": {
    "colab": {},
    "colab_type": "code",
    "id": "Q6coPcKdVsdO",
    "scrolled": true
   },
   "outputs": [
    {
     "name": "stdout",
     "output_type": "stream",
     "text": [
      "######################\n",
      "[[[ 0  1  2]\n",
      "  [ 3  4  5]\n",
      "  [ 6  7  8]]\n",
      "\n",
      " [[ 9 10 11]\n",
      "  [12 13 14]\n",
      "  [15 16 17]]\n",
      "\n",
      " [[18 19 20]\n",
      "  [21 22 23]\n",
      "  [24 25 26]]]\n"
     ]
    }
   ],
   "source": [
    "import numpy as np\n",
    "x = np.arange(27).reshape(3,3,3) \n",
    "print(\"######################\")\n",
    "print(x)"
   ]
  },
  {
   "cell_type": "code",
   "execution_count": 105,
   "metadata": {},
   "outputs": [
    {
     "name": "stdout",
     "output_type": "stream",
     "text": [
      "######################\n",
      "[[[18 19 20]\n",
      "  [21 22 23]\n",
      "  [24 25 26]]]\n",
      "######################\n",
      "[[[ 9 10 11]\n",
      "  [12 13 14]\n",
      "  [15 16 17]]]\n",
      "######################\n",
      "[[[ 0  1  2]\n",
      "  [ 3  4  5]\n",
      "  [ 6  7  8]]\n",
      "\n",
      " [[ 9 10 11]\n",
      "  [12 13 14]\n",
      "  [15 16 17]]\n",
      "\n",
      " [[18 19 20]\n",
      "  [21 22 23]\n",
      "  [24 25 26]]]\n",
      "###########result###########\n",
      "[[[18 19 20]\n",
      "  [24 25 26]]\n",
      "\n",
      " [[ 9 10 11]\n",
      "  [15 16 17]]\n",
      "\n",
      " [[ 0  1  2]\n",
      "  [ 6  7  8]]]\n",
      "[[19 25]\n",
      " [10 16]\n",
      " [ 1  7]]\n",
      "###########result2###########\n",
      "[[[18 19]\n",
      "  [24 25]]\n",
      "\n",
      " [[ 9 10]\n",
      "  [15 16]]\n",
      "\n",
      " [[ 0  1]\n",
      "  [ 6  7]]]\n",
      "###########result3###########\n",
      "[]\n"
     ]
    }
   ],
   "source": [
    "print(\"######################\")\n",
    "print(x[2:3])\n",
    "print(\"######################\")\n",
    "print(x[1:2])\n",
    "print(\"######################\")\n",
    "print(x[-3:])\n",
    "print(\"###########result###########\")\n",
    "\n",
    "print(x[::-1,::2])\n",
    "print(x[::-1,::2,1])\n",
    "print(\"###########result2###########\")\n",
    "print(x[::-1,::2,:2])\n",
    "print(\"###########result3###########\")\n",
    "print(x[::-1,::2,:3:-2])"
   ]
  },
  {
   "cell_type": "code",
   "execution_count": 106,
   "metadata": {},
   "outputs": [
    {
     "name": "stdout",
     "output_type": "stream",
     "text": [
      "[[[ 0  1  2]\n",
      "  [ 3  4  5]\n",
      "  [ 6  7  8]]\n",
      "\n",
      " [[ 9 10 11]\n",
      "  [12 13 14]\n",
      "  [15 16 17]]\n",
      "\n",
      " [[18 19 20]\n",
      "  [21 22 23]\n",
      "  [24 25 26]]]\n",
      "$$$$$$$$$$$$$$$$$$\n",
      "[[[ 0  1  2]\n",
      "  [ 3  4  5]\n",
      "  [ 6  7  8]]\n",
      "\n",
      " [[ 9 10 11]\n",
      "  [12 13 14]\n",
      "  [15 16 17]]\n",
      "\n",
      " [[18 19 20]\n",
      "  [21 22 23]\n",
      "  [24 25 26]]]\n",
      "$$$$$$$$$$$$$$$$$$\n",
      "[[[ 0  1  2]\n",
      "  [ 6  7  8]]\n",
      "\n",
      " [[ 9 10 11]\n",
      "  [15 16 17]]\n",
      "\n",
      " [[18 19 20]\n",
      "  [24 25 26]]]\n",
      "$$$$$$$$$$$$$$$$$$\n",
      "[[[ 0  2]\n",
      "  [ 6  8]]\n",
      "\n",
      " [[ 9 11]\n",
      "  [15 17]]\n",
      "\n",
      " [[18 20]\n",
      "  [24 26]]]\n",
      "$$$$$$$$$$$$$$$$$$\n"
     ]
    }
   ],
   "source": [
    "print(x)\n",
    "print(\"$$$$$$$$$$$$$$$$$$\")\n",
    "print(x[:])\n",
    "print(\"$$$$$$$$$$$$$$$$$$\")\n",
    "print(x[:,::2])\n",
    "print(\"$$$$$$$$$$$$$$$$$$\")\n",
    "print(x[:,::2,::2])\n",
    "print(\"$$$$$$$$$$$$$$$$$$\")"
   ]
  },
  {
   "cell_type": "code",
   "execution_count": 108,
   "metadata": {},
   "outputs": [
    {
     "name": "stdout",
     "output_type": "stream",
     "text": [
      "[[[ 0  1  2]\n",
      "  [ 3  4  5]\n",
      "  [ 6  7  8]]\n",
      "\n",
      " [[ 9 10 11]\n",
      "  [12 13 14]\n",
      "  [15 16 17]]\n",
      "\n",
      " [[18 19 20]\n",
      "  [21 22 23]\n",
      "  [24 25 26]]]\n",
      "############################\n",
      "[[[ 0  2]\n",
      "  [ 6  8]]\n",
      "\n",
      " [[ 9 11]\n",
      "  [15 17]]\n",
      "\n",
      " [[18 20]\n",
      "  [24 26]]]\n",
      "############################\n",
      "[[[18 19 20]\n",
      "  [21 22 23]\n",
      "  [24 25 26]]\n",
      "\n",
      " [[ 9 10 11]\n",
      "  [12 13 14]\n",
      "  [15 16 17]]\n",
      "\n",
      " [[ 0  1  2]\n",
      "  [ 3  4  5]\n",
      "  [ 6  7  8]]]\n",
      "############two levels ################\n",
      "[[[24 25 26]\n",
      "  [21 22 23]\n",
      "  [18 19 20]]\n",
      "\n",
      " [[15 16 17]\n",
      "  [12 13 14]\n",
      "  [ 9 10 11]]\n",
      "\n",
      " [[ 6  7  8]\n",
      "  [ 3  4  5]\n",
      "  [ 0  1  2]]]\n",
      "############################\n",
      "[[[26 25 24]\n",
      "  [23 22 21]\n",
      "  [20 19 18]]\n",
      "\n",
      " [[17 16 15]\n",
      "  [14 13 12]\n",
      "  [11 10  9]]\n",
      "\n",
      " [[ 8  7  6]\n",
      "  [ 5  4  3]\n",
      "  [ 2  1  0]]]\n",
      "############################\n",
      "[[[ 8  7  6]\n",
      "  [ 5  4  3]\n",
      "  [ 2  1  0]]\n",
      "\n",
      " [[17 16 15]\n",
      "  [14 13 12]\n",
      "  [11 10  9]]\n",
      "\n",
      " [[26 25 24]\n",
      "  [23 22 21]\n",
      "  [20 19 18]]]\n",
      "############################\n",
      "[[[ 8  6]\n",
      "  [ 2  0]]\n",
      "\n",
      " [[17 15]\n",
      "  [11  9]]\n",
      "\n",
      " [[26 24]\n",
      "  [20 18]]]\n"
     ]
    }
   ],
   "source": [
    "print(x)\n",
    "print(\"#############get all corner values ###############\")\n",
    "print(x[:,::2,::2]) # Get all the corner values in the matrices\n",
    "print(\"############################\")\n",
    "print(x[::-1])\n",
    "print(\"############two levels ################\")\n",
    "print(x[::-1,::-1])\n",
    "print(\"############ reverse ################\")\n",
    "print(x[::-1,::-1,::-1]) # REVERSE MATRICE\n",
    "print(\"############################\")\n",
    "print(x[:,::-1,::-1]) # Get all the corner values in the matrices\n",
    "print(\"############################\")\n",
    "print(x[:,::-2,::-2]) # Get all the corner values in the matrices"
   ]
  },
  {
   "cell_type": "code",
   "execution_count": null,
   "metadata": {},
   "outputs": [],
   "source": [
    "import numpy as np\n",
    "a = np.array([1,2,3,4,5,6,7,8,9,10,11,12,13,14,101,1,2,3])\n",
    "print(a)\n",
    "a.reshape(3,3,2)"
   ]
  },
  {
   "cell_type": "markdown",
   "metadata": {
    "colab_type": "text",
    "id": "u0LUGU7QVsdR"
   },
   "source": [
    "#### Get all elements in reverse order\n",
    "\n",
    "The enhanced slicing syntax is `a:b:c` were `c` is the step. For example `0:10:2`.\n",
    "\n",
    "If we omit `a` and `b` we always asume they are `a` = 0 and `b` = length of the list so we are only left with a step.\n",
    "\n",
    "Thus `::2` means slicing from 0 to end with a step 2. `::3` mean slicing with a step 3.\n",
    "\n",
    "Now what if we used negative steps. Using -1 as the step would reverse the logic and `a` becomes the end of the list and `b` becomes zero. So `::-1` will slice in reverse direction.\n",
    "\n",
    "Finally there is also the slice form `::1` or written short `:` which means give me back all elements in order as they are present."
   ]
  },
  {
   "cell_type": "code",
   "execution_count": null,
   "metadata": {
    "colab": {},
    "colab_type": "code",
    "id": "4UzObVzGVsdS"
   },
   "outputs": [],
   "source": [
    "print(x)\n",
    "print(\"#################################\")\n",
    "print(x[::-1,::-1,::-1])"
   ]
  },
  {
   "cell_type": "code",
   "execution_count": null,
   "metadata": {},
   "outputs": [],
   "source": [
    "npreverse = np.arange(10).reshape(5,1,2)\n",
    "print(npreverse)\n",
    "print(\"##################### step =1\")\n",
    "print(npreverse[::1])\n",
    "print(\"##################### step = 2\")\n",
    "print(npreverse[::2])\n",
    "print(\"##################### step =-1\")\n",
    "print(npreverse[::-1])\n",
    "print(\"##################### step =-2\")\n",
    "print(npreverse[::-2])"
   ]
  },
  {
   "cell_type": "markdown",
   "metadata": {
    "colab_type": "text",
    "id": "RYDI0tKZVsdV"
   },
   "source": [
    "#### Get every second element or third element"
   ]
  },
  {
   "cell_type": "code",
   "execution_count": null,
   "metadata": {
    "colab": {},
    "colab_type": "code",
    "id": "Qt1WeSeUVsdW"
   },
   "outputs": [],
   "source": [
    "print(x)\n",
    "print(\"##########################\")\n",
    "print(x[::2])\n",
    "print(\"##########################\")\n",
    "print(x[::3])"
   ]
  },
  {
   "cell_type": "markdown",
   "metadata": {
    "colab_type": "text",
    "id": "gTtzstSeVsdZ"
   },
   "source": [
    "#### Create a 5x5 matrix"
   ]
  },
  {
   "cell_type": "code",
   "execution_count": null,
   "metadata": {
    "colab": {},
    "colab_type": "code",
    "id": "QGlTQXhwVsda",
    "scrolled": true
   },
   "outputs": [],
   "source": [
    "x = np.arange(25).reshape(5, 5)\n",
    "print(x)"
   ]
  },
  {
   "cell_type": "markdown",
   "metadata": {
    "colab_type": "text",
    "id": "13f9XrWfVsdc"
   },
   "source": [
    "#### Get the first two columns and the first two rows\n",
    "\n",
    "Until now you have learned how to slice on a 1D array but slices can be generalized to any dimensional arrays.\n",
    "\n",
    "The trick is to create a slice for every dimensions. \n",
    "\n",
    "In this example we have a 2d-array so we create two slices, one for dimension 0 (rows) and one for dimension 1 (columns)\n"
   ]
  },
  {
   "cell_type": "code",
   "execution_count": null,
   "metadata": {
    "colab": {},
    "colab_type": "code",
    "id": "sU273gC3Vsdd"
   },
   "outputs": [],
   "source": [
    "print(x[:2, :2])"
   ]
  },
  {
   "cell_type": "code",
   "execution_count": null,
   "metadata": {},
   "outputs": [],
   "source": [
    "print(x[-2:, -2:])"
   ]
  },
  {
   "cell_type": "markdown",
   "metadata": {},
   "source": [
    "Get values in last two rows and last two columns for 0 to 25 shape - 5,5 "
   ]
  },
  {
   "cell_type": "markdown",
   "metadata": {
    "colab_type": "text",
    "id": "k4o5CSY-Vsdg"
   },
   "source": [
    "#### Get every second column of every second row"
   ]
  },
  {
   "cell_type": "code",
   "execution_count": null,
   "metadata": {
    "colab": {},
    "colab_type": "code",
    "id": "v1RkC6_XVsdg"
   },
   "outputs": [],
   "source": [
    "print(x[::1, ::-3])"
   ]
  },
  {
   "cell_type": "code",
   "execution_count": null,
   "metadata": {},
   "outputs": [],
   "source": [
    "print(x[::1, ::-3])"
   ]
  },
  {
   "cell_type": "markdown",
   "metadata": {
    "colab_type": "text",
    "id": "VUN97--UVsdj"
   },
   "source": [
    "## Access parts of an array with index arrays"
   ]
  },
  {
   "cell_type": "markdown",
   "metadata": {
    "colab_type": "text",
    "id": "LpR2l52dVsdj"
   },
   "source": [
    "#### Generate six random integers between 0 and 9 inclusive\n",
    "\n",
    "`randint` in `np.random` is a very useful function which generates uniformly distributed random integers from the range provided as its first two parameters (start and end of range respectively). It's third parameter tells the method how many numbers we need."
   ]
  },
  {
   "cell_type": "code",
   "execution_count": null,
   "metadata": {
    "colab": {},
    "colab_type": "code",
    "id": "1nY57f_oVsdk"
   },
   "outputs": [],
   "source": [
    "import numpy as np\n",
    "x = np.random.randint(0, 10, 6) \n",
    "print(x)\n",
    "print(x[-2:])\n",
    "x = np.linspace(0, 10, 6)\n",
    "print(x)"
   ]
  },
  {
   "cell_type": "markdown",
   "metadata": {
    "colab_type": "text",
    "id": "bkjGnJKEVsdo"
   },
   "source": [
    "#### Get the first number and the last two numbers\n",
    "\n",
    "Slices are inhetently linear and give us access to arrays in a linear fashion.\n",
    "\n",
    "To access elements in any order we must use index arrays which are numpy arrays holding integer numbers which tell what elements to chose from the indexed array."
   ]
  },
  {
   "cell_type": "code",
   "execution_count": null,
   "metadata": {
    "colab": {},
    "colab_type": "code",
    "id": "GWxn2lx2Vsdp"
   },
   "outputs": [],
   "source": [
    "print(x)\n",
    "indices = [0, -2, -1]\n",
    "print(x[indices])\n",
    "#print(x[0,-2,1])\n",
    "print(x[[0, -2, -1]])\n",
    "x[[0,-2,-1]]"
   ]
  },
  {
   "cell_type": "code",
   "execution_count": null,
   "metadata": {
    "scrolled": true
   },
   "outputs": [],
   "source": [
    "b = np.arange(0,20,1).reshape(4,5)\n",
    "print(b)\n",
    "print(b[[0, -2, -1]])"
   ]
  },
  {
   "cell_type": "code",
   "execution_count": null,
   "metadata": {},
   "outputs": [],
   "source": [
    "b = np.random.randint(0,20,20).reshape(4,5)\n",
    "print(b)\n",
    "print(\"######################\")\n",
    "print(b[[0, -2, -1]])"
   ]
  },
  {
   "cell_type": "code",
   "execution_count": null,
   "metadata": {},
   "outputs": [],
   "source": [
    "print(b)\n",
    "print(\"############################\")\n",
    "indices = [0, -1]\n",
    "print(\"###\")\n",
    "print(b[0,-1])\n",
    "print(\"###\")\n",
    "print(b[[0,-1]])\n",
    "print(\"###\")\n",
    "print(b[indices])\n",
    "print(\"#########indexing over the axis#############\")\n",
    "print(b[0,-1])\n",
    "print(\"######################\")\n",
    "indices_rows = [0, -1]\n",
    "indices_cols = [4]\n",
    "print(b[[indices_rows]])\n",
    "print(\"###############################\")\n",
    "#print(b[[indices_rows][indices_cols]])\n",
    "print(\"###############################\")\n",
    "print(b[indices_rows, indices_cols])\n",
    "\n",
    "print(\"#$$$#####$$\")\n",
    "print(b[[[0,-1], [4,2]]])\n",
    "\n"
   ]
  },
  {
   "cell_type": "markdown",
   "metadata": {
    "colab_type": "text",
    "id": "5RfG_quvVsdr"
   },
   "source": [
    "### Create two arrays\n",
    "\n",
    "The array `x2` is created as `x1 * -1`. The multiplication operator here means multiply all elements of `x1` with -1 and give back that as result."
   ]
  },
  {
   "cell_type": "code",
   "execution_count": null,
   "metadata": {
    "colab": {},
    "colab_type": "code",
    "id": "V46GuSJOVsdr"
   },
   "outputs": [],
   "source": [
    "arrayLength = 5\n",
    "x1 = np.arange(arrayLength)\n",
    "x2 = np.arange(arrayLength) * -1\n",
    "\n",
    "print(x1)\n",
    "print(x2)"
   ]
  },
  {
   "cell_type": "markdown",
   "metadata": {
    "colab_type": "text",
    "id": "Qm54IQiiVsdu"
   },
   "source": [
    "#### Create a random shuffled range of numbers\n",
    "\n",
    "This and the following example shows how to shuffle an array in numpy.\n",
    "\n",
    "Shuffling means reordering the items in an array and we can do that using random permutations of the array positions."
   ]
  },
  {
   "cell_type": "code",
   "execution_count": null,
   "metadata": {
    "colab": {},
    "colab_type": "code",
    "id": "-XfqUqd8Vsdv"
   },
   "outputs": [],
   "source": [
    "arrayLength = 5\n",
    "indices = np.random.permutation(arrayLength)\n",
    "print(indices)\n"
   ]
  },
  {
   "cell_type": "code",
   "execution_count": null,
   "metadata": {},
   "outputs": [],
   "source": [
    "x1[indices]"
   ]
  },
  {
   "cell_type": "code",
   "execution_count": null,
   "metadata": {},
   "outputs": [],
   "source": [
    "x2[indices]"
   ]
  },
  {
   "cell_type": "markdown",
   "metadata": {
    "colab_type": "text",
    "id": "At69gWFaVsdz"
   },
   "source": [
    "#### Use indices to re-order arrays"
   ]
  },
  {
   "cell_type": "code",
   "execution_count": null,
   "metadata": {
    "colab": {},
    "colab_type": "code",
    "id": "bqfTE7IEVsd0"
   },
   "outputs": [],
   "source": [
    "print(x1[indices])\n",
    "print(x2[indices])"
   ]
  },
  {
   "cell_type": "markdown",
   "metadata": {
    "colab_type": "text",
    "id": "JhA7z7NiVsd5"
   },
   "source": [
    "#### Create array of boolean values\n",
    "\n",
    "The main novelty of this example is `print(x > 2)`.\n",
    "\n",
    "`x > 2` generates an array of boolean values where each element is True or False.\n",
    "Having True at position i of the output means that the conditions is satisfied for the element of `x` at position i.\n",
    "\n",
    "For exampe if `x=[0,1,2,3,4]` then `x > 2` would be `[False, False, False, True, True]`.\n",
    "\n",
    "As you see 0 > 2 = False, 1 > 2 = False, 2 > 2 = False, 3 > 2 = True and 4 > 2 = True and that is shown in the output array."
   ]
  },
  {
   "cell_type": "code",
   "execution_count": null,
   "metadata": {
    "colab": {},
    "colab_type": "code",
    "id": "Wq39t_tDVsd6"
   },
   "outputs": [],
   "source": [
    "y = np.arange(5)\n",
    "print(y)\n",
    "print(y > 2)\n",
    "print(y.shape)\n",
    "y[y>2]"
   ]
  },
  {
   "cell_type": "code",
   "execution_count": null,
   "metadata": {},
   "outputs": [],
   "source": [
    "x = np.random.randint(6,15,15).reshape(3,5)\n",
    "print(x)\n",
    "print(\"##############################################\")\n",
    "#print(x > 9)\n",
    "print(x.shape)\n",
    "a = x > 9\n",
    "print(a)\n",
    "print(\"##############################################\")\n",
    "print(a.shape)\n",
    "print(x[a])\n",
    "print(\"##############################################\")\n",
    "print(x[a].shape)\n",
    "print(x.shape)"
   ]
  },
  {
   "cell_type": "code",
   "execution_count": null,
   "metadata": {},
   "outputs": [],
   "source": [
    "indices = np.random.permutation(arrayLength)\n",
    "print(indices)\n",
    "print(indices >= 3)\n",
    "print(indices[indices >=3])"
   ]
  },
  {
   "cell_type": "markdown",
   "metadata": {
    "colab_type": "text",
    "id": "k5Zv-VArVsd8"
   },
   "source": [
    "#### Use boolean values to index arrays\n",
    "\n",
    "Once we have created our boolean array we can use it to index other arrays.\n",
    "\n",
    "The rule is very simple. If at position i of index we have True include `x[i]` in the output."
   ]
  },
  {
   "cell_type": "code",
   "execution_count": null,
   "metadata": {},
   "outputs": [],
   "source": [
    "indices = np.random.permutation(arrayLength)\n",
    "print(indices)"
   ]
  },
  {
   "cell_type": "code",
   "execution_count": null,
   "metadata": {
    "colab": {},
    "colab_type": "code",
    "id": "E4ea2NQwVsd9"
   },
   "outputs": [],
   "source": [
    "print(x)\n",
    "print(x > 2)\n",
    "print(\"#######################################\")\n",
    "print(x[x > 9])\n",
    "print(\"#######################################\")\n",
    "print(x)\n",
    "print(x[np.array([False,True,False,True])])"
   ]
  },
  {
   "cell_type": "markdown",
   "metadata": {
    "colab_type": "text",
    "id": "CPA6fxsgVseB"
   },
   "source": [
    "## Array Math"
   ]
  },
  {
   "cell_type": "markdown",
   "metadata": {
    "colab_type": "text",
    "id": "BXU-_j3XYjIx"
   },
   "source": [
    "#### Try adding to a list"
   ]
  },
  {
   "cell_type": "code",
   "execution_count": null,
   "metadata": {
    "colab": {},
    "colab_type": "code",
    "id": "77uE0DtkVseC"
   },
   "outputs": [],
   "source": [
    "x = [1, 2, 3, 4]\n",
    "#print(x*10)\n",
    "\n",
    "print(x + 10)"
   ]
  },
  {
   "cell_type": "markdown",
   "metadata": {
    "colab_type": "text",
    "id": "TmH2s9-aVseE"
   },
   "source": [
    "#### Try again with an array\n",
    "\n",
    "When trying with a list you got an error because simple python lists do not support addition with scalars.\n",
    "\n",
    "But numpy arrays do allow that."
   ]
  },
  {
   "cell_type": "code",
   "execution_count": null,
   "metadata": {
    "colab": {},
    "colab_type": "code",
    "id": "oOmv1DBxVseE"
   },
   "outputs": [],
   "source": [
    "x = np.array([1,2,3,4]).reshape(2,2)\n",
    "print(x)\n",
    "print(\"#######################\")\n",
    "print(x + 10)\n",
    "print(\"#######################\")\n",
    "print(x * 10)"
   ]
  },
  {
   "cell_type": "markdown",
   "metadata": {},
   "source": [
    "### Finding Transpose -- converting rows and columns to the reverse\n"
   ]
  },
  {
   "cell_type": "code",
   "execution_count": null,
   "metadata": {},
   "outputs": [],
   "source": [
    "a = np.random.randint(0,15,15).reshape(3,5)\n",
    "print(a)\n",
    "print(\"################## - Transpose\")\n",
    "b = a.transpose()\n",
    "print(b)"
   ]
  },
  {
   "cell_type": "code",
   "execution_count": null,
   "metadata": {},
   "outputs": [],
   "source": [
    "a = np.random.randint(0,12,12).reshape(3,2,2)\n",
    "print(a)\n",
    "print(\"################## - Transpose\")\n",
    "b = a.transpose()\n",
    "print(b)"
   ]
  },
  {
   "cell_type": "code",
   "execution_count": null,
   "metadata": {},
   "outputs": [],
   "source": [
    "a = np.random.randint(0,15,30).reshape(3,5,2)\n",
    "print(a)\n",
    "print(\"################## - Transpose\")\n",
    "b = a.transpose()\n",
    "print(b)"
   ]
  },
  {
   "cell_type": "code",
   "execution_count": null,
   "metadata": {},
   "outputs": [],
   "source": [
    "a = np.arange(0,16).reshape(2,2,4)\n",
    "print(a)\n",
    "print(\"################## - Transpose\")\n",
    "b = a.transpose()\n",
    "print(b)"
   ]
  },
  {
   "cell_type": "code",
   "execution_count": null,
   "metadata": {},
   "outputs": [],
   "source": [
    "u = np.eye(10)\n",
    "#u = np.eye(4,2)\n",
    "#u = np.eye(2)\n",
    "print(u)"
   ]
  },
  {
   "cell_type": "markdown",
   "metadata": {},
   "source": [
    "    ##### Reading Data From Diskf"
   ]
  },
  {
   "cell_type": "code",
   "execution_count": null,
   "metadata": {},
   "outputs": [],
   "source": [
    "from io import StringIO\n",
    "data = \"1, 2, 3\\n 4, 5, 6\"\n",
    "data_1 = \"\"\"1, 2, 3\n",
    "4, 5, 6\"\"\"\n",
    "array = np.genfromtxt(StringIO(data), delimiter=\",\")\n",
    "print(array)\n",
    "print(\"########################\")\n",
    "array1 = np.genfromtxt(StringIO(data_1), delimiter=\",\")\n",
    "print(array1)"
   ]
  },
  {
   "cell_type": "code",
   "execution_count": null,
   "metadata": {},
   "outputs": [],
   "source": [
    "data = \"  1112  3\\n  4 5 67\\n890123 4\"\n",
    "array = np.genfromtxt(StringIO(data), delimiter=3)\n",
    "print(array)\n",
    "print(array.dtype)"
   ]
  },
  {
   "cell_type": "code",
   "execution_count": null,
   "metadata": {},
   "outputs": [],
   "source": [
    "#### Auto Stripping Values"
   ]
  },
  {
   "cell_type": "code",
   "execution_count": null,
   "metadata": {},
   "outputs": [],
   "source": [
    "data = \"1, abc , 2\\n 3, xxx, 4\"\n",
    "arr = np.genfromtxt(StringIO(data), delimiter=\",\", dtype=\"|S5\")\n",
    "print(arr)\n",
    "print(arr.dtype)"
   ]
  },
  {
   "cell_type": "markdown",
   "metadata": {},
   "source": [
    "Comments"
   ]
  },
  {
   "cell_type": "code",
   "execution_count": null,
   "metadata": {},
   "outputs": [],
   "source": [
    "data = \"\"\"#\n",
    " # Skip me !\n",
    " # Skip me too !\n",
    " 1,2\n",
    " 1, 2\n",
    " 3, 4\n",
    " 5, 6 #6 #This is the third line of the data\n",
    " 7, 8\n",
    " # And here comes the last line\n",
    " 9, 0\n",
    " \"\"\"\n",
    "print(np.genfromtxt(StringIO(data), comments=\"#\", delimiter=\",\"))\n"
   ]
  },
  {
   "cell_type": "code",
   "execution_count": null,
   "metadata": {},
   "outputs": [],
   "source": [
    "data_1 = \"\"\"#,\n",
    " $ Skip, me !\n",
    " 1,2\n",
    " 1, 2\n",
    " 3, 4\n",
    " # Skip ,me too !\n",
    " 5, 6 #This is the third line of the data\n",
    " 7, 8\n",
    " # And here comes, the last line\n",
    " 9, 0\n",
    " \"\"\"\n",
    "print(\"####################################\")\n",
    "print(np.genfromtxt(StringIO(data_1), comments =\"$\", delimiter=\",\", skip_header=3, skip_footer=3))\n",
    "print(\"####################################\")\n",
    "print(np.genfromtxt(StringIO(data_1), comments =\"#\", delimiter=\",\", skip_header=3, skip_footer=3))\n",
    "\n"
   ]
  },
  {
   "cell_type": "code",
   "execution_count": null,
   "metadata": {},
   "outputs": [],
   "source": [
    "data = \"\\n\".join(str(i) for i in range(10))\n",
    "print(data)\n",
    "np.genfromtxt(StringIO(data),comments=\"#\", skip_header=3, skip_footer=5)"
   ]
  },
  {
   "cell_type": "code",
   "execution_count": null,
   "metadata": {},
   "outputs": [],
   "source": [
    "data = \"\\n\".join(\"#\" + str(i) for i in range(10))\n",
    "print(data)\n",
    "np.genfromtxt(StringIO(data), comments=\"#\",skip_header=3, skip_footer=5)"
   ]
  },
  {
   "cell_type": "code",
   "execution_count": null,
   "metadata": {},
   "outputs": [],
   "source": [
    "data = \"1 2 3\\n4 5 6\"\n",
    "a = np.genfromtxt(StringIO(data))\n",
    "print(a)\n",
    "np.genfromtxt(StringIO(data), usecols=(-1,-2))"
   ]
  },
  {
   "cell_type": "markdown",
   "metadata": {
    "colab_type": "text",
    "id": "XvwnrdEsVseH"
   },
   "source": [
    "## Exercises"
   ]
  },
  {
   "cell_type": "markdown",
   "metadata": {
    "colab_type": "text",
    "id": "Xf0nHJl3VseH"
   },
   "source": [
    "#### Create an array from 0 to 26 assign it to a variable x"
   ]
  },
  {
   "cell_type": "code",
   "execution_count": null,
   "metadata": {
    "colab": {},
    "colab_type": "code",
    "id": "CFzHAXotVseI"
   },
   "outputs": [],
   "source": []
  },
  {
   "cell_type": "markdown",
   "metadata": {
    "colab_type": "text",
    "id": "gSpgRMsjVseK"
   },
   "source": [
    "#### Reverse the order of the array and print it out"
   ]
  },
  {
   "cell_type": "code",
   "execution_count": null,
   "metadata": {
    "colab": {},
    "colab_type": "code",
    "id": "Xg3yZ1yYVseL"
   },
   "outputs": [],
   "source": []
  },
  {
   "cell_type": "markdown",
   "metadata": {
    "colab_type": "text",
    "id": "9C0WP05VVseR"
   },
   "source": [
    "#### Convert the 1-dimensional array you created into a 3 dimensional array"
   ]
  },
  {
   "cell_type": "code",
   "execution_count": null,
   "metadata": {
    "colab": {},
    "colab_type": "code",
    "id": "S1EwyyqfVseS"
   },
   "outputs": [],
   "source": []
  },
  {
   "cell_type": "markdown",
   "metadata": {
    "colab_type": "text",
    "id": "30CSoki5VseU"
   },
   "source": [
    "#### Find the index (location) for value 12"
   ]
  },
  {
   "cell_type": "code",
   "execution_count": null,
   "metadata": {
    "colab": {},
    "colab_type": "code",
    "id": "3en3QEIXVseV"
   },
   "outputs": [],
   "source": []
  },
  {
   "cell_type": "markdown",
   "metadata": {
    "colab_type": "text",
    "id": "aIawXcgSVseb"
   },
   "source": [
    "#### Create a random shuffled list of values from 0-19 and assign it to variable y"
   ]
  },
  {
   "cell_type": "code",
   "execution_count": null,
   "metadata": {
    "colab": {},
    "colab_type": "code",
    "id": "G9hLCgCeVseb"
   },
   "outputs": [],
   "source": []
  },
  {
   "cell_type": "markdown",
   "metadata": {
    "colab_type": "text",
    "id": "aRe_-tIOVsee"
   },
   "source": [
    "#### Create an array of boolean values for values in y that are greater than 10"
   ]
  },
  {
   "cell_type": "code",
   "execution_count": null,
   "metadata": {
    "colab": {},
    "colab_type": "code",
    "id": "wZ3zDBh-Vsee"
   },
   "outputs": [],
   "source": []
  },
  {
   "cell_type": "markdown",
   "metadata": {
    "colab_type": "text",
    "id": "r8XL5KlKVseg"
   },
   "source": [
    "#### Create a random sample of 20 data points from a normal distribution with mean of 10 and standard deviation 5"
   ]
  },
  {
   "cell_type": "code",
   "execution_count": null,
   "metadata": {
    "colab": {},
    "colab_type": "code",
    "id": "zwFXB9qbVseh"
   },
   "outputs": [],
   "source": []
  }
 ],
 "metadata": {
  "colab": {
   "collapsed_sections": [],
   "name": "Numpy Tutorial.ipynb",
   "provenance": [],
   "version": "0.3.2"
  },
  "kernelspec": {
   "display_name": "Python 3",
   "language": "python",
   "name": "python3"
  },
  "language_info": {
   "codemirror_mode": {
    "name": "ipython",
    "version": 3
   },
   "file_extension": ".py",
   "mimetype": "text/x-python",
   "name": "python",
   "nbconvert_exporter": "python",
   "pygments_lexer": "ipython3",
   "version": "3.9.1"
  }
 },
 "nbformat": 4,
 "nbformat_minor": 1
}
