{
 "cells": [
  {
   "cell_type": "code",
   "execution_count": null,
   "metadata": {},
   "outputs": [],
   "source": []
  },
  {
   "cell_type": "markdown",
   "metadata": {},
   "source": [
    "<table style=\"width:100%\">\n",
    "<colgroup>\n",
    "<col style=\"width: 26%\">\n",
    "<col style=\"width: 29%\">\n",
    "<col style=\"width: 45%\">\n",
    "</colgroup>\n",
    "<thead>\n",
    "<tr class=\"row-odd\"><th class=\"head\"><p>Operation</p></th>\n",
    "<th class=\"head\"><p>Syntax</p></th>\n",
    "<th class=\"head\"><p>Function</p></th>\n",
    "</tr>\n",
    "</thead>\n",
    "<tbody>\n",
    "<tr class=\"row-even\"><td><p>Addition</p></td>\n",
    "<td><p><code class=\"docutils literal notranslate\"><span class=\"pre\">a</span> <span class=\"pre\">+</span> <span class=\"pre\">b</span></code></p></td>\n",
    "<td><p><code class=\"docutils literal notranslate\"><span class=\"pre\">add(a,</span> <span class=\"pre\">b)</span></code></p></td>\n",
    "</tr>\n",
    "<tr class=\"row-odd\"><td><p>Concatenation</p></td>\n",
    "<td><p><code class=\"docutils literal notranslate\"><span class=\"pre\">seq1</span> <span class=\"pre\">+</span> <span class=\"pre\">seq2</span></code></p></td>\n",
    "<td><p><code class=\"docutils literal notranslate\"><span class=\"pre\">concat(seq1,</span> <span class=\"pre\">seq2)</span></code></p></td>\n",
    "</tr>\n",
    "<tr class=\"row-even\"><td><p>Containment Test</p></td>\n",
    "<td><p><code class=\"docutils literal notranslate\"><span class=\"pre\">obj</span> <span class=\"pre\">in</span> <span class=\"pre\">seq</span></code></p></td>\n",
    "<td><p><code class=\"docutils literal notranslate\"><span class=\"pre\">contains(seq,</span> <span class=\"pre\">obj)</span></code></p></td>\n",
    "</tr>\n",
    "<tr class=\"row-odd\"><td><p>Division</p></td>\n",
    "<td><p><code class=\"docutils literal notranslate\"><span class=\"pre\">a</span> <span class=\"pre\">/</span> <span class=\"pre\">b</span></code></p></td>\n",
    "<td><p><code class=\"docutils literal notranslate\"><span class=\"pre\">truediv(a,</span> <span class=\"pre\">b)</span></code></p></td>\n",
    "</tr>\n",
    "<tr class=\"row-even\"><td><p>Division</p></td>\n",
    "<td><p><code class=\"docutils literal notranslate\"><span class=\"pre\">a</span> <span class=\"pre\">//</span> <span class=\"pre\">b</span></code></p></td>\n",
    "<td><p><code class=\"docutils literal notranslate\"><span class=\"pre\">floordiv(a,</span> <span class=\"pre\">b)</span></code></p></td>\n",
    "</tr>\n",
    "<tr class=\"row-odd\"><td><p>Bitwise And</p></td>\n",
    "<td><p><code class=\"docutils literal notranslate\"><span class=\"pre\">a</span> <span class=\"pre\">&amp;</span> <span class=\"pre\">b</span></code></p></td>\n",
    "<td><p><code class=\"docutils literal notranslate\"><span class=\"pre\">and_(a,</span> <span class=\"pre\">b)</span></code></p></td>\n",
    "</tr>\n",
    "<tr class=\"row-even\"><td><p>Bitwise Exclusive Or</p></td>\n",
    "<td><p><code class=\"docutils literal notranslate\"><span class=\"pre\">a</span> <span class=\"pre\">^</span> <span class=\"pre\">b</span></code></p></td>\n",
    "<td><p><code class=\"docutils literal notranslate\"><span class=\"pre\">xor(a,</span> <span class=\"pre\">b)</span></code></p></td>\n",
    "</tr>\n",
    "<tr class=\"row-odd\"><td><p>Bitwise Inversion</p></td>\n",
    "<td><p><code class=\"docutils literal notranslate\"><span class=\"pre\">~</span> <span class=\"pre\">a</span></code></p></td>\n",
    "<td><p><code class=\"docutils literal notranslate\"><span class=\"pre\">invert(a)</span></code></p></td>\n",
    "</tr>\n",
    "<tr class=\"row-even\"><td><p>Bitwise Or</p></td>\n",
    "<td><p><code class=\"docutils literal notranslate\"><span class=\"pre\">a</span> <span class=\"pre\">|</span> <span class=\"pre\">b</span></code></p></td>\n",
    "<td><p><code class=\"docutils literal notranslate\"><span class=\"pre\">or_(a,</span> <span class=\"pre\">b)</span></code></p></td>\n",
    "</tr>\n",
    "<tr class=\"row-odd\"><td><p>Exponentiation</p></td>\n",
    "<td><p><code class=\"docutils literal notranslate\"><span class=\"pre\">a</span> <span class=\"pre\">**</span> <span class=\"pre\">b</span></code></p></td>\n",
    "<td><p><code class=\"docutils literal notranslate\"><span class=\"pre\">pow(a,</span> <span class=\"pre\">b)</span></code></p></td>\n",
    "</tr>\n",
    "<tr class=\"row-even\"><td><p>Identity</p></td>\n",
    "<td><p><code class=\"docutils literal notranslate\"><span class=\"pre\">a</span> <span class=\"pre\">is</span> <span class=\"pre\">b</span></code></p></td>\n",
    "<td><p><code class=\"docutils literal notranslate\"><span class=\"pre\">is_(a,</span> <span class=\"pre\">b)</span></code></p></td>\n",
    "</tr>\n",
    "<tr class=\"row-odd\"><td><p>Identity</p></td>\n",
    "<td><p><code class=\"docutils literal notranslate\"><span class=\"pre\">a</span> <span class=\"pre\">is</span> <span class=\"pre\">not</span> <span class=\"pre\">b</span></code></p></td>\n",
    "<td><p><code class=\"docutils literal notranslate\"><span class=\"pre\">is_not(a,</span> <span class=\"pre\">b)</span></code></p></td>\n",
    "</tr>\n",
    "<tr class=\"row-even\"><td><p>Indexed Assignment</p></td>\n",
    "<td><p><code class=\"docutils literal notranslate\"><span class=\"pre\">obj[k]</span> <span class=\"pre\">=</span> <span class=\"pre\">v</span></code></p></td>\n",
    "<td><p><code class=\"docutils literal notranslate\"><span class=\"pre\">setitem(obj,</span> <span class=\"pre\">k,</span> <span class=\"pre\">v)</span></code></p></td>\n",
    "</tr>\n",
    "<tr class=\"row-odd\"><td><p>Indexed Deletion</p></td>\n",
    "<td><p><code class=\"docutils literal notranslate\"><span class=\"pre\">del</span> <span class=\"pre\">obj[k]</span></code></p></td>\n",
    "<td><p><code class=\"docutils literal notranslate\"><span class=\"pre\">delitem(obj,</span> <span class=\"pre\">k)</span></code></p></td>\n",
    "</tr>\n",
    "<tr class=\"row-even\"><td><p>Indexing</p></td>\n",
    "<td><p><code class=\"docutils literal notranslate\"><span class=\"pre\">obj[k]</span></code></p></td>\n",
    "<td><p><code class=\"docutils literal notranslate\"><span class=\"pre\">getitem(obj,</span> <span class=\"pre\">k)</span></code></p></td>\n",
    "</tr>\n",
    "<tr class=\"row-odd\"><td><p>Left Shift</p></td>\n",
    "<td><p><code class=\"docutils literal notranslate\"><span class=\"pre\">a</span> <span class=\"pre\">&lt;&lt;</span> <span class=\"pre\">b</span></code></p></td>\n",
    "<td><p><code class=\"docutils literal notranslate\"><span class=\"pre\">lshift(a,</span> <span class=\"pre\">b)</span></code></p></td>\n",
    "</tr>\n",
    "<tr class=\"row-even\"><td><p>Modulo</p></td>\n",
    "<td><p><code class=\"docutils literal notranslate\"><span class=\"pre\">a</span> <span class=\"pre\">%</span> <span class=\"pre\">b</span></code></p></td>\n",
    "<td><p><code class=\"docutils literal notranslate\"><span class=\"pre\">mod(a,</span> <span class=\"pre\">b)</span></code></p></td>\n",
    "</tr>\n",
    "<tr class=\"row-odd\"><td><p>Multiplication</p></td>\n",
    "<td><p><code class=\"docutils literal notranslate\"><span class=\"pre\">a</span> <span class=\"pre\">*</span> <span class=\"pre\">b</span></code></p></td>\n",
    "<td><p><code class=\"docutils literal notranslate\"><span class=\"pre\">mul(a,</span> <span class=\"pre\">b)</span></code></p></td>\n",
    "</tr>\n",
    "<tr class=\"row-even\"><td><p>Matrix Multiplication</p></td>\n",
    "<td><p><code class=\"docutils literal notranslate\"><span class=\"pre\">a</span> <span class=\"pre\">@</span> <span class=\"pre\">b</span></code></p></td>\n",
    "<td><p><code class=\"docutils literal notranslate\"><span class=\"pre\">matmul(a,</span> <span class=\"pre\">b)</span></code></p></td>\n",
    "</tr>\n",
    "<tr class=\"row-odd\"><td><p>Negation (Arithmetic)</p></td>\n",
    "<td><p><code class=\"docutils literal notranslate\"><span class=\"pre\">-</span> <span class=\"pre\">a</span></code></p></td>\n",
    "<td><p><code class=\"docutils literal notranslate\"><span class=\"pre\">neg(a)</span></code></p></td>\n",
    "</tr>\n",
    "<tr class=\"row-even\"><td><p>Negation (Logical)</p></td>\n",
    "<td><p><code class=\"docutils literal notranslate\"><span class=\"pre\">not</span> <span class=\"pre\">a</span></code></p></td>\n",
    "<td><p><code class=\"docutils literal notranslate\"><span class=\"pre\">not_(a)</span></code></p></td>\n",
    "</tr>\n",
    "<tr class=\"row-odd\"><td><p>Positive</p></td>\n",
    "<td><p><code class=\"docutils literal notranslate\"><span class=\"pre\">+</span> <span class=\"pre\">a</span></code></p></td>\n",
    "<td><p><code class=\"docutils literal notranslate\"><span class=\"pre\">pos(a)</span></code></p></td>\n",
    "</tr>\n",
    "<tr class=\"row-even\"><td><p>Right Shift</p></td>\n",
    "<td><p><code class=\"docutils literal notranslate\"><span class=\"pre\">a</span> <span class=\"pre\">&gt;&gt;</span> <span class=\"pre\">b</span></code></p></td>\n",
    "<td><p><code class=\"docutils literal notranslate\"><span class=\"pre\">rshift(a,</span> <span class=\"pre\">b)</span></code></p></td>\n",
    "</tr>\n",
    "<tr class=\"row-odd\"><td><p>Slice Assignment</p></td>\n",
    "<td><p><code class=\"docutils literal notranslate\"><span class=\"pre\">seq[i:j]</span> <span class=\"pre\">=</span> <span class=\"pre\">values</span></code></p></td>\n",
    "<td><p><code class=\"docutils literal notranslate\"><span class=\"pre\">setitem(seq,</span> <span class=\"pre\">slice(i,</span> <span class=\"pre\">j),</span> <span class=\"pre\">values)</span></code></p></td>\n",
    "</tr>\n",
    "<tr class=\"row-even\"><td><p>Slice Deletion</p></td>\n",
    "<td><p><code class=\"docutils literal notranslate\"><span class=\"pre\">del</span> <span class=\"pre\">seq[i:j]</span></code></p></td>\n",
    "<td><p><code class=\"docutils literal notranslate\"><span class=\"pre\">delitem(seq,</span> <span class=\"pre\">slice(i,</span> <span class=\"pre\">j))</span></code></p></td>\n",
    "</tr>\n",
    "<tr class=\"row-odd\"><td><p>Slicing</p></td>\n",
    "<td><p><code class=\"docutils literal notranslate\"><span class=\"pre\">seq[i:j]</span></code></p></td>\n",
    "<td><p><code class=\"docutils literal notranslate\"><span class=\"pre\">getitem(seq,</span> <span class=\"pre\">slice(i,</span> <span class=\"pre\">j))</span></code></p></td>\n",
    "</tr>\n",
    "<tr class=\"row-even\"><td><p>String Formatting</p></td>\n",
    "<td><p><code class=\"docutils literal notranslate\"><span class=\"pre\">s</span> <span class=\"pre\">%</span> <span class=\"pre\">obj</span></code></p></td>\n",
    "<td><p><code class=\"docutils literal notranslate\"><span class=\"pre\">mod(s,</span> <span class=\"pre\">obj)</span></code></p></td>\n",
    "</tr>\n",
    "<tr class=\"row-odd\"><td><p>Subtraction</p></td>\n",
    "<td><p><code class=\"docutils literal notranslate\"><span class=\"pre\">a</span> <span class=\"pre\">-</span> <span class=\"pre\">b</span></code></p></td>\n",
    "<td><p><code class=\"docutils literal notranslate\"><span class=\"pre\">sub(a,</span> <span class=\"pre\">b)</span></code></p></td>\n",
    "</tr>\n",
    "<tr class=\"row-even\"><td><p>Truth Test</p></td>\n",
    "<td><p><code class=\"docutils literal notranslate\"><span class=\"pre\">obj</span></code></p></td>\n",
    "<td><p><code class=\"docutils literal notranslate\"><span class=\"pre\">truth(obj)</span></code></p></td>\n",
    "</tr>\n",
    "<tr class=\"row-odd\"><td><p>Ordering</p></td>\n",
    "<td><p><code class=\"docutils literal notranslate\"><span class=\"pre\">a</span> <span class=\"pre\">&lt;</span> <span class=\"pre\">b</span></code></p></td>\n",
    "<td><p><code class=\"docutils literal notranslate\"><span class=\"pre\">lt(a,</span> <span class=\"pre\">b)</span></code></p></td>\n",
    "</tr>\n",
    "<tr class=\"row-even\"><td><p>Ordering</p></td>\n",
    "<td><p><code class=\"docutils literal notranslate\"><span class=\"pre\">a</span> <span class=\"pre\">&lt;=</span> <span class=\"pre\">b</span></code></p></td>\n",
    "<td><p><code class=\"docutils literal notranslate\"><span class=\"pre\">le(a,</span> <span class=\"pre\">b)</span></code></p></td>\n",
    "</tr>\n",
    "<tr class=\"row-odd\"><td><p>Equality</p></td>\n",
    "<td><p><code class=\"docutils literal notranslate\"><span class=\"pre\">a</span> <span class=\"pre\">==</span> <span class=\"pre\">b</span></code></p></td>\n",
    "<td><p><code class=\"docutils literal notranslate\"><span class=\"pre\">eq(a,</span> <span class=\"pre\">b)</span></code></p></td>\n",
    "</tr>\n",
    "<tr class=\"row-even\"><td><p>Difference</p></td>\n",
    "<td><p><code class=\"docutils literal notranslate\"><span class=\"pre\">a</span> <span class=\"pre\">!=</span> <span class=\"pre\">b</span></code></p></td>\n",
    "<td><p><code class=\"docutils literal notranslate\"><span class=\"pre\">ne(a,</span> <span class=\"pre\">b)</span></code></p></td>\n",
    "</tr>\n",
    "<tr class=\"row-odd\"><td><p>Ordering</p></td>\n",
    "<td><p><code class=\"docutils literal notranslate\"><span class=\"pre\">a</span> <span class=\"pre\">&gt;=</span> <span class=\"pre\">b</span></code></p></td>\n",
    "<td><p><code class=\"docutils literal notranslate\"><span class=\"pre\">ge(a,</span> <span class=\"pre\">b)</span></code></p></td>\n",
    "</tr>\n",
    "<tr class=\"row-even\"><td><p>Ordering</p></td>\n",
    "<td><p><code class=\"docutils literal notranslate\"><span class=\"pre\">a</span> <span class=\"pre\">&gt;</span> <span class=\"pre\">b</span></code></p></td>\n",
    "<td><p><code class=\"docutils literal notranslate\"><span class=\"pre\">gt(a,</span> <span class=\"pre\">b)</span></code></p></td>\n",
    "</tr>\n",
    "</tbody>\n",
    "</table>"
   ]
  },
  {
   "cell_type": "markdown",
   "metadata": {},
   "source": [
    "#### Addition Operation"
   ]
  },
  {
   "cell_type": "code",
   "execution_count": 2,
   "metadata": {},
   "outputs": [
    {
     "name": "stdout",
     "output_type": "stream",
     "text": [
      "111\n"
     ]
    }
   ],
   "source": [
    "a = 123\n",
    "b =-12\n",
    "c = a + b\n",
    "print(c)"
   ]
  },
  {
   "cell_type": "markdown",
   "metadata": {},
   "source": [
    "#### Concatenation \n",
    "concatenation operation is used to combine two strings\n",
    "<br> here + symbol does concatenation when applied to two or more strings"
   ]
  },
  {
   "cell_type": "code",
   "execution_count": 2,
   "metadata": {},
   "outputs": [
    {
     "name": "stdout",
     "output_type": "stream",
     "text": [
      "HelloWorld\n"
     ]
    }
   ],
   "source": [
    "a = 'Hello'\n",
    "b = 'World'\n",
    "c =  a + \" \" + b\n",
    "print(c)"
   ]
  },
  {
   "cell_type": "markdown",
   "metadata": {},
   "source": [
    "#### Containment Test\n",
    "Containment is used to check the existence of one object in another one"
   ]
  },
  {
   "cell_type": "code",
   "execution_count": 6,
   "metadata": {},
   "outputs": [
    {
     "name": "stdout",
     "output_type": "stream",
     "text": [
      "True\n"
     ]
    }
   ],
   "source": [
    "a = [1,2,3]\n",
    "b = 2\n",
    "c = b in a \n",
    "print(c)"
   ]
  },
  {
   "cell_type": "code",
   "execution_count": 31,
   "metadata": {},
   "outputs": [
    {
     "name": "stdout",
     "output_type": "stream",
     "text": [
      "11.5\n"
     ]
    }
   ],
   "source": [
    "#### Division\n",
    "a = 23\n",
    "b = 2\n",
    "c = a/b\n",
    "print(c)"
   ]
  },
  {
   "cell_type": "code",
   "execution_count": 32,
   "metadata": {},
   "outputs": [
    {
     "name": "stdout",
     "output_type": "stream",
     "text": [
      "11\n"
     ]
    }
   ],
   "source": [
    "#### Integer Division\n",
    "a = 23\n",
    "b = 2\n",
    "c = a//b\n",
    "print(c)"
   ]
  },
  {
   "cell_type": "code",
   "execution_count": 33,
   "metadata": {},
   "outputs": [
    {
     "name": "stdout",
     "output_type": "stream",
     "text": [
      "11.0\n"
     ]
    }
   ],
   "source": [
    "a = 23.2\n",
    "b = 2\n",
    "c = a//b\n",
    "print(c)"
   ]
  },
  {
   "cell_type": "markdown",
   "metadata": {},
   "source": [
    "#### Bitwise And\n"
   ]
  },
  {
   "cell_type": "code",
   "execution_count": 38,
   "metadata": {},
   "outputs": [
    {
     "name": "stdout",
     "output_type": "stream",
     "text": [
      "2\n"
     ]
    }
   ],
   "source": [
    "a = 2\n",
    "b = 3\n",
    "c = a & b\n",
    "print(c)"
   ]
  },
  {
   "cell_type": "code",
   "execution_count": 40,
   "metadata": {},
   "outputs": [
    {
     "name": "stdout",
     "output_type": "stream",
     "text": [
      "0\n"
     ]
    }
   ],
   "source": [
    "a = 0\n",
    "b = 3\n",
    "c = a & b\n",
    "print(c)"
   ]
  },
  {
   "cell_type": "code",
   "execution_count": 37,
   "metadata": {},
   "outputs": [
    {
     "name": "stdout",
     "output_type": "stream",
     "text": [
      "False\n"
     ]
    }
   ],
   "source": [
    "a = True\n",
    "b = False\n",
    "c = a & b\n",
    "print(c)"
   ]
  },
  {
   "cell_type": "markdown",
   "metadata": {},
   "source": [
    "#### BitWise Or"
   ]
  },
  {
   "cell_type": "code",
   "execution_count": 41,
   "metadata": {},
   "outputs": [
    {
     "name": "stdout",
     "output_type": "stream",
     "text": [
      "3\n"
     ]
    }
   ],
   "source": [
    "a = 2\n",
    "b = 3\n",
    "c = a | b\n",
    "print(c)"
   ]
  },
  {
   "cell_type": "code",
   "execution_count": 45,
   "metadata": {},
   "outputs": [
    {
     "name": "stdout",
     "output_type": "stream",
     "text": [
      "2\n"
     ]
    }
   ],
   "source": [
    "a = 2\n",
    "b = 0\n",
    "c = a | b\n",
    "print(c)"
   ]
  },
  {
   "cell_type": "code",
   "execution_count": 43,
   "metadata": {},
   "outputs": [
    {
     "name": "stdout",
     "output_type": "stream",
     "text": [
      "True\n"
     ]
    }
   ],
   "source": [
    "a = True\n",
    "b = False\n",
    "c = a | b\n",
    "print(c)"
   ]
  },
  {
   "cell_type": "code",
   "execution_count": 44,
   "metadata": {},
   "outputs": [
    {
     "name": "stdout",
     "output_type": "stream",
     "text": [
      "False\n"
     ]
    }
   ],
   "source": [
    "a = False\n",
    "b = False\n",
    "c = a | b\n",
    "print(c)"
   ]
  },
  {
   "cell_type": "markdown",
   "metadata": {},
   "source": []
  }
 ],
 "metadata": {
  "kernelspec": {
   "display_name": "Python 3",
   "language": "python",
   "name": "python3"
  },
  "language_info": {
   "codemirror_mode": {
    "name": "ipython",
    "version": 3
   },
   "file_extension": ".py",
   "mimetype": "text/x-python",
   "name": "python",
   "nbconvert_exporter": "python",
   "pygments_lexer": "ipython3",
   "version": "3.7.3"
  }
 },
 "nbformat": 4,
 "nbformat_minor": 2
}
