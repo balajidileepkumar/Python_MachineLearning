{
 "cells": [
  {
   "cell_type": "code",
   "execution_count": null,
   "metadata": {},
   "outputs": [],
   "source": [
    "from nsetools import Nse"
   ]
  },
  {
   "cell_type": "code",
   "execution_count": null,
   "metadata": {},
   "outputs": [],
   "source": [
    "from nsetools import Nse\n",
    "nse = Nse()\n",
    "#print(nse)\n",
    "#q = nse.get_quote('KOTAKBANK') # it's ok to use both upper or lower case for codes.\n",
    "from pprint import pprint # just for neatness of display\n",
    "#pprint(q)\n",
    "#gainers = nse.get_top_losers()\n",
    "#pprint(gainers)"
   ]
  },
  {
   "cell_type": "code",
   "execution_count": null,
   "metadata": {},
   "outputs": [],
   "source": [
    "import pandas as pd\n",
    "import os\n",
    "FileName = \"Stocks.csv\"\n",
    "if(os.path.exists(FileName)):\n",
    "    DF_Stocks = pd.read_csv(FileName)\n",
    "print(DF_Stocks.head(10))\n",
    "DF_Stocks.describe()"
   ]
  },
  {
   "cell_type": "code",
   "execution_count": null,
   "metadata": {},
   "outputs": [],
   "source": [
    "print(DF_Stocks.columns)\n",
    "Column_Symbol = DF_Stocks.SYMBOL\n",
    "from pprint import pprint # just for neatness of display\n",
    "from datetime import datetime\n",
    "i = 0\n",
    "for x in Column_Symbol:\n",
    "    try:\n",
    "        q = nse.get_quote(x)\n",
    "        CurrentDate = datetime.now()\n",
    "        if(q['exDate'] is not None and q['recordDate'] is not None):\n",
    "            Record_Date = datetime.strptime(q['recordDate'], \"%d-%b-%y\")\n",
    "            ExDividendDate = datetime.strptime(q['exDate'], \"%d-%b-%y\")\n",
    "        else: \n",
    "            continue\n",
    "        #Getting Face Value and LTP\n",
    "        FaceValue = q['faceValue']\n",
    "        LTP = q['lastPrice']\n",
    "        i=i+1\n",
    "        print(\"###############################################################\")\n",
    "        #Validating Dividend Dates\n",
    "        if((ExDividendDate-CurrentDate).days >=0):\n",
    "            print((ExDividendDate-CurrentDate).days)\n",
    "            print(\"Record Date : \", q['recordDate'], \"Ex Dividend Date : \", q['exDate'])\n",
    "            print(Record_Date,ExDividendDate ,FaceValue,LTP)\n",
    "        #else:\n",
    "            #print(x)\n",
    "    except: \n",
    "        print(\"Error : \", x)\n",
    "        pprint(q)\n",
    "        continue        "
   ]
  },
  {
   "cell_type": "code",
   "execution_count": null,
   "metadata": {},
   "outputs": [],
   "source": [
    "from nsetools import Nse\n",
    "from pprint import pprint\n",
    "import pandas as pd\n",
    "import os\n",
    "nse = Nse()\n",
    "FileName = \"Stocks.csv\"\n",
    "if(os.path.exists(FileName)):\n",
    "    DF_Stocks = pd.read_csv(FileName)\n",
    "print(DF_Stocks.head(10))\n",
    "DF_Stocks.describe()\n",
    "Column_Symbol = DF_Stocks.SYMBOL\n",
    "from pprint import pprint # just for neatness of display\n",
    "from datetime import datetime\n",
    "i = 0\n",
    "for x in Column_Symbol:\n",
    "    try:\n",
    "        q = nse.get_quote(x)\n",
    "        CurrentDate = datetime.now()\n",
    "        if(q['exDate'] is not None and q['recordDate'] is not None):\n",
    "            Record_Date = datetime.strptime(q['recordDate'], \"%d-%b-%y\")\n",
    "            ExDividendDate = datetime.strptime(q['exDate'], \"%d-%b-%y\")\n",
    "        else: \n",
    "            continue\n",
    "        #Getting Face Value and LTP\n",
    "        FaceValue = q['faceValue']\n",
    "        LTP = q['lastPrice']\n",
    "        i=i+1\n",
    "        print(\"###############################################################\")\n",
    "        #Validating Dividend Dates\n",
    "        if((ExDividendDate-CurrentDate).days >=0):\n",
    "            print((ExDividendDate-CurrentDate).days)\n",
    "            print(\"Record Date : \", q['recordDate'], \"Ex Dividend Date : \", q['exDate'])\n",
    "            print(Record_Date,ExDividendDate ,FaceValue,LTP)\n",
    "        #else:\n",
    "            #print(x)\n",
    "    except: \n",
    "        print(\"Error : \", x)\n",
    "        pprint(q)\n",
    "        continue    "
   ]
  },
  {
   "cell_type": "code",
   "execution_count": null,
   "metadata": {},
   "outputs": [],
   "source": [
    "os.chdir"
   ]
  },
  {
   "cell_type": "code",
   "execution_count": null,
   "metadata": {},
   "outputs": [],
   "source": [
    "q= nse.get_quote(\"ALPSINDUS\")"
   ]
  }
 ],
 "metadata": {
  "kernelspec": {
   "display_name": "Python 3",
   "language": "python",
   "name": "python3"
  },
  "language_info": {
   "codemirror_mode": {
    "name": "ipython",
    "version": 3
   },
   "file_extension": ".py",
   "mimetype": "text/x-python",
   "name": "python",
   "nbconvert_exporter": "python",
   "pygments_lexer": "ipython3",
   "version": "3.7.3"
  }
 },
 "nbformat": 4,
 "nbformat_minor": 2
}
