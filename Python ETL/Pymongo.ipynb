{
 "cells": [
  {
   "cell_type": "markdown",
   "metadata": {},
   "source": [
    "### Pymongo"
   ]
  },
  {
   "cell_type": "code",
   "execution_count": 58,
   "metadata": {},
   "outputs": [],
   "source": [
    "#### MongoDB is a schemaless database."
   ]
  },
  {
   "cell_type": "markdown",
   "metadata": {},
   "source": [
    "##### Download Mongo DB OnPremises Server for Local Use"
   ]
  },
  {
   "cell_type": "markdown",
   "metadata": {},
   "source": [
    "<a href=\"https://www.mongodb.com/try/download\">Download Mongo DB Server</a>"
   ]
  },
  {
   "cell_type": "markdown",
   "metadata": {},
   "source": [
    "##### Set the Data Directory and Log Directory During installation"
   ]
  },
  {
   "cell_type": "markdown",
   "metadata": {},
   "source": [
    "|KEY|USAGE|\n",
    "|--------------|------------------------------------------|\n",
    "|Service Name: |MongoDB|\n",
    "|DataDirectory:| C:\\Program Files\\MongoDB\\Server\\5.0\\data\\|\n",
    "|LogDirectory: |C:\\Program Files\\MongoDB\\Server\\5.0\\log\\|"
   ]
  },
  {
   "cell_type": "code",
   "execution_count": 59,
   "metadata": {},
   "outputs": [
    {
     "name": "stdout",
     "output_type": "stream",
     "text": [
      "Requirement already satisfied: pymongo in c:\\python39\\lib\\site-packages (4.0.2)Note: you may need to restart the kernel to use updated packages.\n",
      "\n"
     ]
    },
    {
     "name": "stderr",
     "output_type": "stream",
     "text": [
      "WARNING: You are using pip version 21.0.1; however, version 22.0.4 is available.\n",
      "You should consider upgrading via the 'c:\\python39\\python.exe -m pip install --upgrade pip' command.\n"
     ]
    }
   ],
   "source": [
    "pip install pymongo"
   ]
  },
  {
   "cell_type": "code",
   "execution_count": 60,
   "metadata": {},
   "outputs": [],
   "source": [
    "connection = \"mongodb://localhost:27017/?readPreference=primary&appname=MongoDB%20Compass&directConnection=true&ssl=false\""
   ]
  },
  {
   "cell_type": "code",
   "execution_count": 61,
   "metadata": {},
   "outputs": [
    {
     "name": "stdout",
     "output_type": "stream",
     "text": [
      "Database(MongoClient(host=['localhost:27017'], document_class=dict, tz_aware=False, connect=True, readpreference='primary', appname='MongoDB Compass', directconnection=True, tls=False), 'user_shopping_list')\n"
     ]
    }
   ],
   "source": [
    "def get_database():\n",
    "    from pymongo import MongoClient\n",
    "    import pymongo\n",
    "\n",
    "    # Provide the mongodb atlas url to connect python to mongodb using pymongo\n",
    "    CONNECTION_STRING = \"mongodb+srv://<username>:<password>@<cluster-name>.mongodb.net/myFirstDatabase\"\n",
    "    CONNECTION_STRING = connection\n",
    "    # Create a connection using MongoClient. You can import MongoClient or use pymongo.MongoClient\n",
    "    from pymongo import MongoClient\n",
    "    client = MongoClient(CONNECTION_STRING)\n",
    "\n",
    "    # Create the database for our example (we will use the same database throughout the tutorial\n",
    "    return client['user_shopping_list']\n",
    "    \n",
    "# This is added so that many files can reuse the function get_database()\n",
    "if __name__ == \"__main__\":    \n",
    "    \n",
    "    # Get the database\n",
    "    dbname = get_database()\n",
    "    print(dbname)"
   ]
  },
  {
   "cell_type": "code",
   "execution_count": 62,
   "metadata": {},
   "outputs": [
    {
     "data": {
      "text/plain": [
       "<pymongo.results.InsertManyResult at 0x22270134280>"
      ]
     },
     "execution_count": 62,
     "metadata": {},
     "output_type": "execute_result"
    }
   ],
   "source": [
    "collection_name = dbname[\"user_1_items\"]\n",
    "item_1 = {\n",
    "\"_id\" : \"U1IT00001\",\n",
    "\"item_name\" : \"Blender\",\n",
    "\"max_discount\" : \"10%\",\n",
    "\"batch_number\" : \"RR450020FRG\",\n",
    "\"price\" : 340,\n",
    "\"category\" : \"kitchen appliance\"\n",
    "}\n",
    "\n",
    "item_2 = {\n",
    "\"_id\" : \"U1IT00002\",\n",
    "\"item_name\" : \"Egg\",\n",
    "\"category\" : \"food\",\n",
    "\"quantity\" : 12,\n",
    "\"price\" : 36,\n",
    "\"item_description\" : \"brown country eggs\"\n",
    "}\n",
    "collection_name.insert_many([item_1,item_2])"
   ]
  },
  {
   "cell_type": "code",
   "execution_count": 63,
   "metadata": {},
   "outputs": [
    {
     "data": {
      "text/plain": [
       "<pymongo.results.InsertOneResult at 0x22270b09280>"
      ]
     },
     "execution_count": 63,
     "metadata": {},
     "output_type": "execute_result"
    }
   ],
   "source": [
    "from dateutil import parser\n",
    "expiry_date = '2021-07-13T00:00:00.000Z'\n",
    "expiry = parser.parse(expiry_date)\n",
    "item_3 = {\n",
    "\"item_name\" : \"Bread\",\n",
    "\"quantity\" : 2,\n",
    "\"ingredients\" : \"all-purpose flour\",\n",
    "\"expiry_date\" : expiry\n",
    "}\n",
    "collection_name.insert_one(item_3)"
   ]
  },
  {
   "cell_type": "raw",
   "metadata": {},
   "source": [
    "MongoClient(connection)->client[database]->database[collection]"
   ]
  },
  {
   "cell_type": "code",
   "execution_count": 65,
   "metadata": {
    "scrolled": true
   },
   "outputs": [
    {
     "name": "stdout",
     "output_type": "stream",
     "text": [
      "{'_id': 'U1IT00001', 'item_name': 'Blender', 'max_discount': '10%', 'batch_number': 'RR450020FRG', 'price': 340, 'category': 'kitchen appliance'}\n",
      "{'_id': 'U1IT00002', 'item_name': 'Egg', 'category': 'food', 'quantity': 12, 'price': 36, 'item_description': 'brown country eggs'}\n",
      "{'_id': ObjectId('62287a1b2b24c9c9a9862a11'), 'item_name': 'Bread', 'quantity': 2, 'ingredients': 'all-purpose flour', 'expiry_date': datetime.datetime(2021, 7, 13, 0, 0)}\n"
     ]
    }
   ],
   "source": [
    "dbname = get_database()\n",
    "\n",
    "# Create a new collection\n",
    "collection_name = dbname[\"user_1_items\"]\n",
    "\n",
    "item_details = collection_name.find()\n",
    "for item in item_details:\n",
    "    # This does not give a very readable output\n",
    "    print(item)"
   ]
  },
  {
   "cell_type": "code",
   "execution_count": 66,
   "metadata": {},
   "outputs": [
    {
     "name": "stdout",
     "output_type": "stream",
     "text": [
      "MongoClient(host=['localhost:27017'], document_class=dict, tz_aware=False, connect=True, readpreference='primary', appname='MongoDB Compass', directconnection=True, tls=False)\n"
     ]
    }
   ],
   "source": [
    "from pymongo import MongoClient\n",
    "client = MongoClient(connection)\n",
    "print(client)"
   ]
  },
  {
   "cell_type": "code",
   "execution_count": 67,
   "metadata": {},
   "outputs": [
    {
     "name": "stdout",
     "output_type": "stream",
     "text": [
      "Database(MongoClient(host=['localhost:27017'], document_class=dict, tz_aware=False, connect=True, readpreference='primary', appname='MongoDB Compass', directconnection=True, tls=False), 'user_shopping_list')\n",
      "user_shopping_list\n",
      "Collection(Database(MongoClient(host=['localhost:27017'], document_class=dict, tz_aware=False, connect=True, readpreference='primary', appname='MongoDB Compass', directconnection=True, tls=False), 'user_shopping_list'), 'connection')\n"
     ]
    }
   ],
   "source": [
    "database = client['user_shopping_list']\n",
    "print(database)\n",
    "print(database.name)\n",
    "print(database.connection)"
   ]
  },
  {
   "cell_type": "code",
   "execution_count": 68,
   "metadata": {},
   "outputs": [],
   "source": [
    "### Get the collection"
   ]
  },
  {
   "cell_type": "code",
   "execution_count": 69,
   "metadata": {},
   "outputs": [
    {
     "name": "stdout",
     "output_type": "stream",
     "text": [
      "Collection(Database(MongoClient(host=['localhost:27017'], document_class=dict, tz_aware=False, connect=True, readpreference='primary', appname='MongoDB Compass', directconnection=True, tls=False), 'user_shopping_list'), 'user_1_items')\n"
     ]
    }
   ],
   "source": [
    "collection = database[\"user_1_items\"]\n",
    "print(collection)\n"
   ]
  },
  {
   "cell_type": "code",
   "execution_count": 70,
   "metadata": {
    "scrolled": false
   },
   "outputs": [
    {
     "name": "stdout",
     "output_type": "stream",
     "text": [
      "cursor object for the collection :  <pymongo.cursor.Cursor object at 0x00000222704B8C70>\n",
      "{'_id': 'U1IT00001', 'item_name': 'Blender', 'max_discount': '10%', 'batch_number': 'RR450020FRG', 'price': 340, 'category': 'kitchen appliance'}\n",
      "{'_id': 'U1IT00002', 'item_name': 'Egg', 'category': 'food', 'quantity': 12, 'price': 36, 'item_description': 'brown country eggs'}\n",
      "{'_id': ObjectId('62287a1b2b24c9c9a9862a11'), 'item_name': 'Bread', 'quantity': 2, 'ingredients': 'all-purpose flour', 'expiry_date': datetime.datetime(2021, 7, 13, 0, 0)}\n"
     ]
    }
   ],
   "source": [
    "item_details = collection.find()\n",
    "print(\"cursor object for the collection : \",item_details)\n",
    "for item in item_details:\n",
    "    print(item)"
   ]
  },
  {
   "cell_type": "code",
   "execution_count": 74,
   "metadata": {},
   "outputs": [
    {
     "data": {
      "text/plain": [
       "[{'_id': 'U1IT00001',\n",
       "  'item_name': 'Blender',\n",
       "  'max_discount': '10%',\n",
       "  'batch_number': 'RR450020FRG',\n",
       "  'price': 340,\n",
       "  'category': 'kitchen appliance'},\n",
       " {'_id': 'U1IT00002',\n",
       "  'item_name': 'Egg',\n",
       "  'category': 'food',\n",
       "  'quantity': 12,\n",
       "  'price': 36,\n",
       "  'item_description': 'brown country eggs'},\n",
       " {'_id': ObjectId('62287a1b2b24c9c9a9862a11'),\n",
       "  'item_name': 'Bread',\n",
       "  'quantity': 2,\n",
       "  'ingredients': 'all-purpose flour',\n",
       "  'expiry_date': datetime.datetime(2021, 7, 13, 0, 0)}]"
      ]
     },
     "execution_count": 74,
     "metadata": {},
     "output_type": "execute_result"
    }
   ],
   "source": [
    "#cursor is closed automatically when used\n",
    "item_details = collection.find()\n",
    "list(item_details)"
   ]
  },
  {
   "cell_type": "code",
   "execution_count": 76,
   "metadata": {},
   "outputs": [
    {
     "name": "stdout",
     "output_type": "stream",
     "text": [
      "                        _id item_name max_discount batch_number  price  \\\n",
      "0                 U1IT00001   Blender          10%  RR450020FRG  340.0   \n",
      "1                 U1IT00002       Egg          NaN          NaN   36.0   \n",
      "2  62287a1b2b24c9c9a9862a11     Bread          NaN          NaN    NaN   \n",
      "\n",
      "            category  quantity    item_description        ingredients  \\\n",
      "0  kitchen appliance       NaN                 NaN                NaN   \n",
      "1               food      12.0  brown country eggs                NaN   \n",
      "2                NaN       2.0                 NaN  all-purpose flour   \n",
      "\n",
      "  expiry_date  \n",
      "0         NaT  \n",
      "1         NaT  \n",
      "2  2021-07-13  \n"
     ]
    }
   ],
   "source": [
    "from pandas import DataFrame\n",
    "# convert the dictionary objects to dataframe\n",
    "items_df = DataFrame(collection.find())\n",
    "# see the magic\n",
    "print(items_df)"
   ]
  },
  {
   "cell_type": "code",
   "execution_count": 80,
   "metadata": {},
   "outputs": [
    {
     "name": "stdout",
     "output_type": "stream",
     "text": [
      "<pymongo.cursor.Cursor object at 0x00000222704BBC70>\n",
      "[{'_id': 'U1IT00002', 'item_name': 'Egg', 'category': 'food', 'quantity': 12, 'price': 36, 'item_description': 'brown country eggs'}]\n"
     ]
    }
   ],
   "source": [
    "item_details = collection.find({\"category\" : \"food\"})\n",
    "print(item_details)\n",
    "print(list(item_details))"
   ]
  }
 ],
 "metadata": {
  "kernelspec": {
   "display_name": "Python 3",
   "language": "python",
   "name": "python3"
  },
  "language_info": {
   "codemirror_mode": {
    "name": "ipython",
    "version": 3
   },
   "file_extension": ".py",
   "mimetype": "text/x-python",
   "name": "python",
   "nbconvert_exporter": "python",
   "pygments_lexer": "ipython3",
   "version": "3.9.1"
  }
 },
 "nbformat": 4,
 "nbformat_minor": 4
}
