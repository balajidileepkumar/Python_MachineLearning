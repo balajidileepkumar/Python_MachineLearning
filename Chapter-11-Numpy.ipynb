{
 "cells": [
  {
   "cell_type": "markdown",
   "metadata": {
    "colab_type": "text",
    "id": "-s9bQNqkVygt"
   },
   "source": [
    "# NUMPY BASICS"
   ]
  },
  {
   "cell_type": "markdown",
   "metadata": {
    "colab_type": "text",
    "id": "7UV8v2kdVscb"
   },
   "source": [
    "# Intro to NumPy\n",
    "\n",
    "NumPy is the fundamental package for scientific computing in Python. NumPy is used in many other packages in python even though you may not see it explicitly running in your code.\n",
    "\n",
    "It is a python library that provides a multidimensional array object, various derived objects (such as masked arrays and matrices), and an assortment of routines for fast operations on arrays, including mathematical, logical, shape manipulation, sorting, selecting, I/O, discrete Fourier transforms, basic linear algebra, basic statistical operations, random simulation and much more.\n",
    "\n",
    "\n"
   ]
  },
  {
   "cell_type": "markdown",
   "metadata": {},
   "source": [
    "### install the numpy"
   ]
  },
  {
   "cell_type": "code",
   "execution_count": 1,
   "metadata": {},
   "outputs": [
    {
     "name": "stdout",
     "output_type": "stream",
     "text": [
      "Requirement already satisfied: numpy in c:\\python373\\lib\\site-packages (1.16.3)\n",
      "Note: you may need to restart the kernel to use updated packages.\n"
     ]
    },
    {
     "name": "stderr",
     "output_type": "stream",
     "text": [
      "WARNING: You are using pip version 19.1, however version 19.1.1 is available.\n",
      "You should consider upgrading via the 'python -m pip install --upgrade pip' command.\n"
     ]
    }
   ],
   "source": [
    "pip install numpy"
   ]
  },
  {
   "cell_type": "code",
   "execution_count": 3,
   "metadata": {},
   "outputs": [],
   "source": [
    "import numpy as np"
   ]
  },
  {
   "cell_type": "code",
   "execution_count": 100,
   "metadata": {},
   "outputs": [
    {
     "name": "stdout",
     "output_type": "stream",
     "text": [
      "[0 1 2 3 4 5 6 7 8 9]\n",
      "<class 'numpy.ndarray'>\n"
     ]
    }
   ],
   "source": [
    "a = np.arange(10)\n",
    "print (a)\n",
    "print(type(a))"
   ]
  },
  {
   "cell_type": "code",
   "execution_count": 101,
   "metadata": {},
   "outputs": [
    {
     "name": "stdout",
     "output_type": "stream",
     "text": [
      "1\n",
      "10\n",
      "4\n",
      "int32\n",
      "<class 'numpy.int32'>\n",
      "<memory at 0x00F1C7E8>\n",
      "<class 'numpy.ndarray'>\n"
     ]
    }
   ],
   "source": [
    "print (a.ndim)\n",
    "print(a.size)\n",
    "print(a.itemsize)\n",
    "print(a.dtype.name)\n",
    "print(type(a[0]))\n",
    "print(a.data)\n",
    "print(type(a))\n"
   ]
  },
  {
   "cell_type": "markdown",
   "metadata": {},
   "source": [
    "### Makes the processing faster\n"
   ]
  },
  {
   "cell_type": "code",
   "execution_count": 102,
   "metadata": {},
   "outputs": [
    {
     "name": "stdout",
     "output_type": "stream",
     "text": [
      "4\n",
      "10\n",
      "18\n"
     ]
    }
   ],
   "source": [
    "a =[1,2,3]\n",
    "b =[4,5,6]\n",
    "for i in range(len(a)):\n",
    "    print(a[i]*b[i])"
   ]
  },
  {
   "cell_type": "code",
   "execution_count": 7,
   "metadata": {},
   "outputs": [
    {
     "name": "stdout",
     "output_type": "stream",
     "text": [
      "[1 2 3]\n",
      "[4 5 6]\n",
      "[ 4 10 18]\n"
     ]
    }
   ],
   "source": [
    "import numpy as np\n",
    "a = np.arange(1,4)\n",
    "print(a)\n",
    "b =  np.arange(4,7)\n",
    "print(b)\n",
    "print(a*b)"
   ]
  },
  {
   "cell_type": "markdown",
   "metadata": {
    "colab_type": "text",
    "id": "fkjpKVmZVscc"
   },
   "source": [
    " #### Import the numpy package"
   ]
  },
  {
   "cell_type": "code",
   "execution_count": 7,
   "metadata": {
    "colab": {},
    "colab_type": "code",
    "id": "oFl5JU9fVscd"
   },
   "outputs": [],
   "source": [
    "import numpy as np"
   ]
  },
  {
   "cell_type": "code",
   "execution_count": 8,
   "metadata": {},
   "outputs": [
    {
     "name": "stdout",
     "output_type": "stream",
     "text": [
      "[0 1 2 3 4 5 6 7 8 9]\n"
     ]
    }
   ],
   "source": [
    "a = np.arange(10)\n",
    "print (a)"
   ]
  },
  {
   "cell_type": "code",
   "execution_count": 103,
   "metadata": {},
   "outputs": [
    {
     "name": "stdout",
     "output_type": "stream",
     "text": [
      "[[0 1 2 3 4]\n",
      " [5 6 7 8 9]]\n"
     ]
    }
   ],
   "source": [
    "a = np.arange(10).reshape(2,5)\n",
    "print (a)"
   ]
  },
  {
   "cell_type": "code",
   "execution_count": 104,
   "metadata": {
    "scrolled": true
   },
   "outputs": [
    {
     "name": "stdout",
     "output_type": "stream",
     "text": [
      "[[0 1]\n",
      " [2 3]\n",
      " [4 5]\n",
      " [6 7]\n",
      " [8 9]]\n"
     ]
    }
   ],
   "source": [
    "a = np.arange(10).reshape(5,2)\n",
    "print (a)"
   ]
  },
  {
   "cell_type": "code",
   "execution_count": 105,
   "metadata": {},
   "outputs": [
    {
     "name": "stdout",
     "output_type": "stream",
     "text": [
      "2\n",
      "10\n",
      "4\n",
      "int32\n",
      "<class 'numpy.ndarray'>\n"
     ]
    }
   ],
   "source": [
    "print (a.ndim)\n",
    "print(a.size)\n",
    "print(a.itemsize)\n",
    "print(a.dtype.name)\n",
    "print(type(a))"
   ]
  },
  {
   "cell_type": "code",
   "execution_count": 22,
   "metadata": {},
   "outputs": [],
   "source": [
    "import numpy as np"
   ]
  },
  {
   "cell_type": "code",
   "execution_count": 12,
   "metadata": {
    "scrolled": true
   },
   "outputs": [
    {
     "name": "stdout",
     "output_type": "stream",
     "text": [
      "[0 1 2 3 4 5 6 7 8 9]\n"
     ]
    }
   ],
   "source": [
    "a = np.arange(10)\n",
    "print (a)"
   ]
  },
  {
   "cell_type": "code",
   "execution_count": 13,
   "metadata": {},
   "outputs": [
    {
     "name": "stdout",
     "output_type": "stream",
     "text": [
      "[[0 1 2 3 4]\n",
      " [5 6 7 8 9]]\n"
     ]
    }
   ],
   "source": [
    "a = np.arange(10).reshape(2,5)\n",
    "print (a)"
   ]
  },
  {
   "cell_type": "code",
   "execution_count": 108,
   "metadata": {},
   "outputs": [
    {
     "name": "stdout",
     "output_type": "stream",
     "text": [
      "[[[ 0  1  2]\n",
      "  [ 3  4  5]\n",
      "  [ 6  7  8]]\n",
      "\n",
      " [[ 9 10 11]\n",
      "  [12 13 14]\n",
      "  [15 16 17]]\n",
      "\n",
      " [[18 19 20]\n",
      "  [21 22 23]\n",
      "  [24 25 26]]]\n"
     ]
    }
   ],
   "source": [
    "a = np.arange(27).reshape(3,3,3)\n",
    "print (a)"
   ]
  },
  {
   "cell_type": "code",
   "execution_count": 109,
   "metadata": {},
   "outputs": [
    {
     "name": "stdout",
     "output_type": "stream",
     "text": [
      "[[[[ 0  1  2  3]\n",
      "   [ 4  5  6  7]\n",
      "   [ 8  9 10 11]\n",
      "   [12 13 14 15]]\n",
      "\n",
      "  [[16 17 18 19]\n",
      "   [20 21 22 23]\n",
      "   [24 25 26 27]\n",
      "   [28 29 30 31]]]\n",
      "\n",
      "\n",
      " [[[32 33 34 35]\n",
      "   [36 37 38 39]\n",
      "   [40 41 42 43]\n",
      "   [44 45 46 47]]\n",
      "\n",
      "  [[48 49 50 51]\n",
      "   [52 53 54 55]\n",
      "   [56 57 58 59]\n",
      "   [60 61 62 63]]]]\n"
     ]
    }
   ],
   "source": [
    "a = np.arange(64).reshape(2,2,4,4)\n",
    "print (a)"
   ]
  },
  {
   "cell_type": "code",
   "execution_count": 110,
   "metadata": {
    "scrolled": false
   },
   "outputs": [
    {
     "name": "stdout",
     "output_type": "stream",
     "text": [
      "[[0 1]\n",
      " [2 3]\n",
      " [4 5]\n",
      " [6 7]\n",
      " [8 9]]\n",
      "################################\n",
      "[[0 1 2 3 4]\n",
      " [5 6 7 8 9]]\n",
      "################################\n",
      "[[0 1]\n",
      " [2 3]\n",
      " [4 5]\n",
      " [6 7]\n",
      " [8 9]]\n",
      "################################\n",
      "[[0]\n",
      " [1]\n",
      " [2]\n",
      " [3]\n",
      " [4]\n",
      " [5]\n",
      " [6]\n",
      " [7]\n",
      " [8]\n",
      " [9]]\n"
     ]
    }
   ],
   "source": [
    "a = np.arange(10).reshape(5,2)\n",
    "print (a)\n",
    "print(\"################################\")\n",
    "e =a.reshape(2,5)\n",
    "print(e)\n",
    "print(\"################################\")\n",
    "b = np.arange(10).reshape(5,2)\n",
    "print(b)\n",
    "print(\"################################\")\n",
    "c = b.reshape(10,1)\n",
    "print(c)\n"
   ]
  },
  {
   "cell_type": "code",
   "execution_count": 111,
   "metadata": {},
   "outputs": [
    {
     "name": "stdout",
     "output_type": "stream",
     "text": [
      "2\n",
      "10\n",
      "4\n",
      "int32\n",
      "<class 'numpy.ndarray'>\n"
     ]
    }
   ],
   "source": [
    "print (a.ndim)\n",
    "print(a.size)\n",
    "print(a.itemsize)\n",
    "print(a.dtype.name)\n",
    "print(type(a))"
   ]
  },
  {
   "cell_type": "markdown",
   "metadata": {},
   "source": [
    "#### using list to generate numpy array"
   ]
  },
  {
   "cell_type": "code",
   "execution_count": 112,
   "metadata": {},
   "outputs": [
    {
     "name": "stdout",
     "output_type": "stream",
     "text": [
      "[2 3 4]\n",
      "int32\n"
     ]
    }
   ],
   "source": [
    "b=np.array([2,3,4])\n",
    "print(b)\n",
    "print(b.dtype)"
   ]
  },
  {
   "cell_type": "code",
   "execution_count": 18,
   "metadata": {},
   "outputs": [
    {
     "name": "stdout",
     "output_type": "stream",
     "text": [
      "[[2]\n",
      " [3]\n",
      " [4]]\n"
     ]
    }
   ],
   "source": [
    "d = b.reshape(3,1)\n",
    "print(d)"
   ]
  },
  {
   "cell_type": "code",
   "execution_count": 115,
   "metadata": {},
   "outputs": [
    {
     "name": "stdout",
     "output_type": "stream",
     "text": [
      "[[1 2]\n",
      " [3 4]]\n",
      "[[1 2 3 4]]\n"
     ]
    }
   ],
   "source": [
    "c=np.array([[1,2],[3,4]])\n",
    "print (c)\n",
    "d=np.array([[1,2],[3,4]]).reshape(1,4)\n",
    "print(d)"
   ]
  },
  {
   "cell_type": "code",
   "execution_count": 230,
   "metadata": {},
   "outputs": [
    {
     "name": "stdout",
     "output_type": "stream",
     "text": [
      "[[1 2]\n",
      " [3 4]]\n"
     ]
    }
   ],
   "source": [
    "c=np.array([[1,2],[3,4.0]],dtype='int')\n",
    "print (c)"
   ]
  },
  {
   "cell_type": "code",
   "execution_count": 231,
   "metadata": {
    "scrolled": true
   },
   "outputs": [
    {
     "name": "stdout",
     "output_type": "stream",
     "text": [
      "[[1.+0.j 2.+0.j]\n",
      " [3.+0.j 4.+0.j]]\n"
     ]
    }
   ],
   "source": [
    "c=np.array([[1,2],[3,4]],dtype='complex')\n",
    "print (c)"
   ]
  },
  {
   "cell_type": "code",
   "execution_count": 232,
   "metadata": {
    "scrolled": true
   },
   "outputs": [
    {
     "ename": "TypeError",
     "evalue": "can't convert complex to int",
     "output_type": "error",
     "traceback": [
      "\u001b[1;31m---------------------------------------------------------------------------\u001b[0m",
      "\u001b[1;31mTypeError\u001b[0m                                 Traceback (most recent call last)",
      "\u001b[1;32m<ipython-input-232-69eea4655b52>\u001b[0m in \u001b[0;36m<module>\u001b[1;34m\u001b[0m\n\u001b[1;32m----> 1\u001b[1;33m \u001b[0mc\u001b[0m\u001b[1;33m=\u001b[0m\u001b[0mnp\u001b[0m\u001b[1;33m.\u001b[0m\u001b[0marray\u001b[0m\u001b[1;33m(\u001b[0m\u001b[1;33m[\u001b[0m\u001b[1;33m[\u001b[0m\u001b[1;36m1\u001b[0m\u001b[1;33m,\u001b[0m\u001b[1;36m2\u001b[0m\u001b[1;33m]\u001b[0m\u001b[1;33m,\u001b[0m\u001b[1;33m[\u001b[0m\u001b[1;36m3\u001b[0m\u001b[1;33m,\u001b[0m\u001b[1;36m4\u001b[0m\u001b[1;33m+\u001b[0m\u001b[1;36m5j\u001b[0m\u001b[1;33m]\u001b[0m\u001b[1;33m]\u001b[0m\u001b[1;33m,\u001b[0m\u001b[0mdtype\u001b[0m\u001b[1;33m=\u001b[0m\u001b[1;34m'int'\u001b[0m\u001b[1;33m)\u001b[0m\u001b[1;33m\u001b[0m\u001b[1;33m\u001b[0m\u001b[0m\n\u001b[0m\u001b[0;32m      2\u001b[0m \u001b[0mprint\u001b[0m \u001b[1;33m(\u001b[0m\u001b[0mc\u001b[0m\u001b[1;33m)\u001b[0m\u001b[1;33m\u001b[0m\u001b[1;33m\u001b[0m\u001b[0m\n",
      "\u001b[1;31mTypeError\u001b[0m: can't convert complex to int"
     ]
    }
   ],
   "source": [
    "c=np.array([[1,2],[3,4+5j]],dtype='int')\n",
    "print (c)"
   ]
  },
  {
   "cell_type": "code",
   "execution_count": 128,
   "metadata": {},
   "outputs": [
    {
     "data": {
      "text/plain": [
       "3"
      ]
     },
     "execution_count": 128,
     "metadata": {},
     "output_type": "execute_result"
    }
   ],
   "source": [
    "a =3.90\n",
    "b = int(a)\n",
    "b"
   ]
  },
  {
   "cell_type": "code",
   "execution_count": 22,
   "metadata": {},
   "outputs": [
    {
     "name": "stdout",
     "output_type": "stream",
     "text": [
      "[[0 1]\n",
      " [2 3]]\n"
     ]
    }
   ],
   "source": [
    "t = np.arange(4).reshape(2,2)\n",
    "print(t)"
   ]
  },
  {
   "cell_type": "code",
   "execution_count": 24,
   "metadata": {
    "scrolled": true
   },
   "outputs": [
    {
     "name": "stdout",
     "output_type": "stream",
     "text": [
      "[[0 1]\n",
      " [2 3]\n",
      " [4 5]\n",
      " [6 7]]\n"
     ]
    }
   ],
   "source": [
    "t = np.arange(8).reshape(4,2)\n",
    "print(t)"
   ]
  },
  {
   "cell_type": "code",
   "execution_count": 22,
   "metadata": {
    "scrolled": false
   },
   "outputs": [
    {
     "name": "stdout",
     "output_type": "stream",
     "text": [
      "[[[0 1]\n",
      "  [2 3]]\n",
      "\n",
      " [[4 5]\n",
      "  [6 7]]]\n"
     ]
    }
   ],
   "source": [
    "t = np.arange(8).reshape(2,2,2)\n",
    "print(t)"
   ]
  },
  {
   "cell_type": "code",
   "execution_count": 25,
   "metadata": {},
   "outputs": [
    {
     "name": "stdout",
     "output_type": "stream",
     "text": [
      "[[[[ 0  1]\n",
      "   [ 2  3]]\n",
      "\n",
      "  [[ 4  5]\n",
      "   [ 6  7]]]\n",
      "\n",
      "\n",
      " [[[ 8  9]\n",
      "   [10 11]]\n",
      "\n",
      "  [[12 13]\n",
      "   [14 15]]]]\n"
     ]
    }
   ],
   "source": [
    "t = np.arange(16).reshape(2,2,2,2)\n",
    "print(t)"
   ]
  },
  {
   "cell_type": "code",
   "execution_count": 23,
   "metadata": {
    "scrolled": true
   },
   "outputs": [
    {
     "name": "stdout",
     "output_type": "stream",
     "text": [
      "4\n",
      "16\n",
      "4\n",
      "int32\n",
      "<class 'numpy.ndarray'>\n"
     ]
    }
   ],
   "source": [
    "print (t.ndim)\n",
    "print(t.size)\n",
    "print(t.itemsize)\n",
    "print(t.dtype.name)\n",
    "\n",
    "print(type(t))"
   ]
  },
  {
   "cell_type": "code",
   "execution_count": 31,
   "metadata": {},
   "outputs": [
    {
     "name": "stdout",
     "output_type": "stream",
     "text": [
      "[10 11 12 13 14 15]\n",
      "[10 12 14]\n"
     ]
    }
   ],
   "source": [
    "a = np.arange(10,16)\n",
    "print(a)\n",
    "#start, end and step\n",
    "b = np.arange(10,16,2)\n",
    "print(b)"
   ]
  },
  {
   "cell_type": "code",
   "execution_count": 32,
   "metadata": {},
   "outputs": [
    {
     "name": "stdout",
     "output_type": "stream",
     "text": [
      "[10 11 12 13 14 15]\n",
      "[]\n"
     ]
    }
   ],
   "source": [
    "a = np.arange(10,16)\n",
    "print(a)\n",
    "#start, end and step\n",
    "b = np.arange(10,16,-2)\n",
    "print(b)"
   ]
  },
  {
   "cell_type": "markdown",
   "metadata": {},
   "source": [
    "### Generate Zeros"
   ]
  },
  {
   "cell_type": "code",
   "execution_count": 192,
   "metadata": {
    "collapsed": true
   },
   "outputs": [
    {
     "name": "stdout",
     "output_type": "stream",
     "text": [
      "[[0. 0. 0. 0. 0. 0. 0. 0. 0. 0.]\n",
      " [0. 0. 0. 0. 0. 0. 0. 0. 0. 0.]\n",
      " [0. 0. 0. 0. 0. 0. 0. 0. 0. 0.]]\n",
      "float64\n"
     ]
    }
   ],
   "source": [
    "d=np.zeros([3,10])\n",
    "print (d)\n",
    "print(d.dtype.name)"
   ]
  },
  {
   "cell_type": "code",
   "execution_count": 131,
   "metadata": {},
   "outputs": [
    {
     "name": "stdout",
     "output_type": "stream",
     "text": [
      "[[6.23042070e-307 4.67296746e-307 1.69121096e-306 1.24610723e-306\n",
      "  8.34447260e-308 1.29062229e-306 7.56595733e-307 1.11256817e-306\n",
      "  1.06811422e-306 1.42417221e-306]\n",
      " [1.11260619e-306 8.90094053e-307 1.86919378e-306 1.06809792e-306\n",
      "  1.37962456e-306 1.69111861e-306 1.78020169e-306 1.37961777e-306\n",
      "  7.56599807e-307 5.33590898e-322]]\n"
     ]
    }
   ],
   "source": [
    "e=np.empty([2,10])\n",
    "print (e)"
   ]
  },
  {
   "cell_type": "code",
   "execution_count": 20,
   "metadata": {},
   "outputs": [],
   "source": [
    "##Range Functionalities"
   ]
  },
  {
   "cell_type": "code",
   "execution_count": 32,
   "metadata": {},
   "outputs": [
    {
     "name": "stdout",
     "output_type": "stream",
     "text": [
      "[0 1 2 3 4 5 6 7 8 9]\n"
     ]
    }
   ],
   "source": [
    "a=np.arange(10)\n",
    "print(a)"
   ]
  },
  {
   "cell_type": "code",
   "execution_count": 37,
   "metadata": {},
   "outputs": [
    {
     "name": "stdout",
     "output_type": "stream",
     "text": [
      "[[10 15]\n",
      " [20 25]]\n"
     ]
    }
   ],
   "source": [
    "b=np.arange(10,30,5).reshape(2,2)\n",
    "print (b)"
   ]
  },
  {
   "cell_type": "code",
   "execution_count": 45,
   "metadata": {},
   "outputs": [
    {
     "name": "stdout",
     "output_type": "stream",
     "text": [
      "[[10 15]\n",
      " [20 25]\n",
      " [30 35]]\n"
     ]
    }
   ],
   "source": [
    "b=np.arange(10,36,5).reshape(3,2)#start, end, step\n",
    "print (b)"
   ]
  },
  {
   "cell_type": "code",
   "execution_count": 193,
   "metadata": {},
   "outputs": [
    {
     "name": "stdout",
     "output_type": "stream",
     "text": [
      "[[10.         26.66666667]\n",
      " [43.33333333 60.        ]]\n"
     ]
    }
   ],
   "source": [
    "c= np.linspace(10,60,4).reshape(2,2)#start, end, no of values required\n",
    "print (c)"
   ]
  },
  {
   "cell_type": "code",
   "execution_count": 194,
   "metadata": {},
   "outputs": [
    {
     "name": "stdout",
     "output_type": "stream",
     "text": [
      "[[10.         11.09090909 12.18181818 13.27272727]\n",
      " [14.36363636 15.45454545 16.54545455 17.63636364]\n",
      " [18.72727273 19.81818182 20.90909091 22.        ]]\n"
     ]
    }
   ],
   "source": [
    "c= np.linspace(10,22,12).reshape(3,4)#start, end, no of values required\n",
    "print (c)"
   ]
  },
  {
   "cell_type": "code",
   "execution_count": 201,
   "metadata": {},
   "outputs": [
    {
     "name": "stdout",
     "output_type": "stream",
     "text": [
      "[[1. 1. 1.]\n",
      " [1. 1. 1.]]\n"
     ]
    }
   ],
   "source": [
    "a = np.ones([2,3])\n",
    "print (a)\n"
   ]
  },
  {
   "cell_type": "code",
   "execution_count": 199,
   "metadata": {},
   "outputs": [
    {
     "name": "stdout",
     "output_type": "stream",
     "text": [
      "[[1 0 3]\n",
      " [4 0 6]]\n",
      "(2, 3)\n"
     ]
    }
   ],
   "source": [
    "c=np.array([[1,0,3],[4,0,6]])\n",
    "print (c)\n",
    "print(c.shape)"
   ]
  },
  {
   "cell_type": "code",
   "execution_count": 200,
   "metadata": {},
   "outputs": [
    {
     "name": "stdout",
     "output_type": "stream",
     "text": [
      "[[1. 0. 3.]\n",
      " [4. 0. 6.]]\n",
      "[[1.                inf 0.33333333]\n",
      " [0.25              inf 0.16666667]]\n",
      "[[ 1. nan  1.]\n",
      " [ 1. nan  1.]]\n"
     ]
    },
    {
     "name": "stderr",
     "output_type": "stream",
     "text": [
      "c:\\python373\\lib\\site-packages\\ipykernel_launcher.py:2: RuntimeWarning: divide by zero encountered in true_divide\n",
      "  \n",
      "c:\\python373\\lib\\site-packages\\ipykernel_launcher.py:4: RuntimeWarning: invalid value encountered in multiply\n",
      "  after removing the cwd from sys.path.\n"
     ]
    }
   ],
   "source": [
    "print(a*c)\n",
    "InverseC  = a/c\n",
    "print(InverseC)\n",
    "print(c*InverseC)"
   ]
  },
  {
   "cell_type": "code",
   "execution_count": 202,
   "metadata": {},
   "outputs": [
    {
     "name": "stdout",
     "output_type": "stream",
     "text": [
      "[[0.75119098 0.13590263 0.07518975]\n",
      " [0.57769617 0.1552929  0.72549018]\n",
      " [0.82449424 0.77222006 0.86679295]]\n"
     ]
    }
   ],
   "source": [
    "b=np.random.random([3,3])\n",
    "print (b)"
   ]
  },
  {
   "cell_type": "code",
   "execution_count": 203,
   "metadata": {},
   "outputs": [
    {
     "name": "stdout",
     "output_type": "stream",
     "text": [
      "[[[0.32223427 0.70372966 0.97840002 0.06144343]\n",
      "  [0.24163969 0.16903639 0.89143359 0.6091806 ]\n",
      "  [0.15297818 0.99168896 0.67483715 0.33575263]]\n",
      "\n",
      " [[0.72053368 0.71366438 0.73844063 0.66569965]\n",
      "  [0.73314053 0.5997288  0.4108116  0.4844904 ]\n",
      "  [0.40849617 0.73387669 0.35029462 0.4262107 ]]]\n"
     ]
    }
   ],
   "source": [
    "b=np.random.random([2,3,4])\n",
    "print (b)"
   ]
  },
  {
   "cell_type": "code",
   "execution_count": 205,
   "metadata": {},
   "outputs": [
    {
     "name": "stdout",
     "output_type": "stream",
     "text": [
      "[[0.91197272 0.77510752 0.62065593]\n",
      " [0.67450355 0.60041431 0.99124488]]\n",
      "#############################\n",
      "sum of elements is  4.573898903732682\n",
      "#############################\n",
      "least elements is  0.6004143064157426\n",
      "#############################\n",
      "largest of elements is  0.9912448769934208\n",
      "#############################\n",
      "round  of elements is  [[0.912 0.775 0.621]\n",
      " [0.675 0.6   0.991]]\n"
     ]
    }
   ],
   "source": [
    "c=np.random.random([2,3])\n",
    "print (c)\n",
    "print(\"#############################\")\n",
    "print (\"sum of elements is \", c.sum())\n",
    "print(\"#############################\")\n",
    "print (\"least elements is \",c.min())\n",
    "print(\"#############################\")\n",
    "print(\"largest of elements is \",c.max())\n",
    "print(\"#############################\")\n",
    "print(\"round  of elements is \",c.round(3))"
   ]
  },
  {
   "cell_type": "code",
   "execution_count": 208,
   "metadata": {
    "scrolled": true
   },
   "outputs": [
    {
     "name": "stdout",
     "output_type": "stream",
     "text": [
      "[[0.04459469 0.42333212 0.06038271]\n",
      " [0.4741936  0.98553595 0.06498548]]\n",
      "###########################\n",
      "2.0530245351650978\n",
      "###########################\n",
      "0.04459468725218951\n",
      "###########################\n",
      "0.9855359466980583\n",
      "###########################\n",
      "0.3421707558608496\n",
      "####### sum axis = 0####################\n",
      "[0.51878828 1.40886806 0.12536819]\n",
      "###########sum axis = 1################\n",
      "[0.52830951 1.52471502]\n",
      "###########cumulative sum axis = 0 ################\n",
      "[[0.04459469 0.42333212 0.06038271]\n",
      " [0.51878828 1.40886806 0.12536819]]\n",
      "############cumulative sum axis = 1 ###############\n",
      "[[0.04459469 0.4679268  0.52830951]\n",
      " [0.4741936  1.45972954 1.52471502]]\n",
      "###########################\n"
     ]
    }
   ],
   "source": [
    "c=np.random.random([2,3])\n",
    "print (c)\n",
    "print(\"###########################\")\n",
    "print (c.sum())\n",
    "print(\"###########################\")\n",
    "print (c.min())\n",
    "print(\"###########################\")\n",
    "print(c.max())\n",
    "print(\"###########################\")\n",
    "print(c.mean())\n",
    "print(\"####### sum axis = 0####################\")\n",
    "print(c.sum(axis =0))\n",
    "print(\"###########sum axis = 1################\")\n",
    "print(c.sum(axis =1))\n",
    "print(\"###########cumulative sum axis = 0 ################\")\n",
    "print (c.cumsum(axis =0))\n",
    "print(\"############cumulative sum axis = 1 ###############\")\n",
    "print (c.cumsum(axis =1))\n",
    "print(\"###########################\")"
   ]
  },
  {
   "cell_type": "markdown",
   "metadata": {
    "colab_type": "text",
    "id": "Wi_iVJZcVsch"
   },
   "source": [
    "#### Make an array from a list. \n",
    "\n",
    "This will create a numpy array with 3 elements. \n",
    "\n",
    "Each numpy array contains an attribute called `shape`. Shape is a tuple which tells you how many elements you have per axis. For example (5, 6, 8) means 5 elements per axis 0, 6 elements per axis 1 and 8 elements per axis 2. Usually you will have only one or two axes.\n",
    "\n",
    "The shape for the array in this section is `(3, )`. The reason for this funny notation is python's type system where shape must be a tuple and this is a tuple with 1 element. Writing just 3 would mean a number, not a tuple.\n",
    "\n",
    "To verify that try `np.array([1, 2, 3]).shape` "
   ]
  },
  {
   "cell_type": "code",
   "execution_count": 209,
   "metadata": {
    "colab": {},
    "colab_type": "code",
    "id": "hiCYmtPGVsch"
   },
   "outputs": [
    {
     "data": {
      "text/plain": [
       "array([1, 2, 3])"
      ]
     },
     "execution_count": 209,
     "metadata": {},
     "output_type": "execute_result"
    }
   ],
   "source": [
    "np.array([1, 2, 3])"
   ]
  },
  {
   "cell_type": "code",
   "execution_count": 210,
   "metadata": {},
   "outputs": [
    {
     "data": {
      "text/plain": [
       "(3,)"
      ]
     },
     "execution_count": 210,
     "metadata": {},
     "output_type": "execute_result"
    }
   ],
   "source": [
    "np.array([1, 2, 3]).shape "
   ]
  },
  {
   "cell_type": "markdown",
   "metadata": {
    "colab_type": "text",
    "id": "stlK-cUIVscm"
   },
   "source": [
    "#### Make an array from a list of lists\n",
    "\n",
    "The shape of this array is (2, 2) so this is a matrix."
   ]
  },
  {
   "cell_type": "code",
   "execution_count": 0,
   "metadata": {
    "colab": {},
    "colab_type": "code",
    "id": "0R0OYUEgVscn"
   },
   "outputs": [],
   "source": [
    "np.array([[1, 2], [3, 4]])"
   ]
  },
  {
   "cell_type": "markdown",
   "metadata": {
    "colab_type": "text",
    "id": "XlI6D-_IVscq"
   },
   "source": [
    "#### Make an array using a function\n",
    "\n",
    "The arrays made in previous sections were based on us supplying each value.\n",
    "\n",
    "Very often we need large arrays and it is not possible to use our current approach and thus we need to use array creating functions. The most important functions are `zeros` and `ones`. They both take a parameter called shape which determines the shape of the output array.\n",
    "* `zeros` makes an array which is all 0 [docs](https://docs.scipy.org/doc/numpy/reference/generated/numpy.zeros.html)\n",
    "* `ones`  makes an array which is all 1 [docs](https://docs.scipy.org/doc/numpy/reference/generated/numpy.ones.html#numpy.ones)"
   ]
  },
  {
   "cell_type": "code",
   "execution_count": 46,
   "metadata": {
    "colab": {},
    "colab_type": "code",
    "id": "VbIimhBLVscr"
   },
   "outputs": [
    {
     "data": {
      "text/plain": [
       "array([[0., 0., 0.],\n",
       "       [0., 0., 0.]])"
      ]
     },
     "execution_count": 46,
     "metadata": {},
     "output_type": "execute_result"
    }
   ],
   "source": [
    "np.zeros((2, 3))"
   ]
  },
  {
   "cell_type": "code",
   "execution_count": 47,
   "metadata": {
    "colab": {},
    "colab_type": "code",
    "id": "2ehKzKEsVsct"
   },
   "outputs": [
    {
     "data": {
      "text/plain": [
       "array([[1., 1.],\n",
       "       [1., 1.],\n",
       "       [1., 1.]])"
      ]
     },
     "execution_count": 47,
     "metadata": {},
     "output_type": "execute_result"
    }
   ],
   "source": [
    "np.ones((3, 2))"
   ]
  },
  {
   "cell_type": "markdown",
   "metadata": {
    "colab_type": "text",
    "id": "SYWOfj3GVscx"
   },
   "source": [
    "#### Make an array by starting at 0, incrementing by 2 and ending before 10\n",
    "\n",
    "`arange` is the exact same thing as regular python `range` except giving back a numpy array.\n",
    "\n",
    "This functions requires only a single argument which is the end point. The start point is assumed to be 0 and step is assumed to be 1.\n",
    "\n",
    "In this variety when in takes three parameters, the first one is the start, second one is the end and the third one is the step.\n",
    "\n",
    "[docs](https://docs.scipy.org/doc/numpy/reference/generated/numpy.arange.html)"
   ]
  },
  {
   "cell_type": "code",
   "execution_count": 49,
   "metadata": {
    "colab": {},
    "colab_type": "code",
    "id": "YmUE2XZIVscx"
   },
   "outputs": [
    {
     "data": {
      "text/plain": [
       "array([0, 2, 4, 6, 8])"
      ]
     },
     "execution_count": 49,
     "metadata": {},
     "output_type": "execute_result"
    }
   ],
   "source": [
    "np.arange(0, 10, 2)"
   ]
  },
  {
   "cell_type": "markdown",
   "metadata": {
    "colab_type": "text",
    "id": "WgfvR8_eVsc0"
   },
   "source": [
    "#### Make an array of four evenly spaced numbers including both endpoints"
   ]
  },
  {
   "cell_type": "code",
   "execution_count": 48,
   "metadata": {
    "colab": {},
    "colab_type": "code",
    "id": "CmQ2LtbjVsc2"
   },
   "outputs": [
    {
     "data": {
      "text/plain": [
       "array([0.        , 0.33333333, 0.66666667, 1.        ])"
      ]
     },
     "execution_count": 48,
     "metadata": {},
     "output_type": "execute_result"
    }
   ],
   "source": [
    "np.linspace(0, 1, 4)"
   ]
  },
  {
   "cell_type": "markdown",
   "metadata": {
    "colab_type": "text",
    "id": "pSwe4s-6Vsc6"
   },
   "source": [
    "#### Make an array of random numbers (using a normal distribution)\n",
    "\n",
    "The random submodule of numpy contains a variety of functions for generating random numbers following a specified probability distributions or sampling from a finite set of choices. To learn more about it visit the [documentation](https://docs.scipy.org/doc/numpy/reference/routines.random.html). "
   ]
  },
  {
   "cell_type": "code",
   "execution_count": 211,
   "metadata": {
    "colab": {},
    "colab_type": "code",
    "id": "rIVnHqRNVsc6"
   },
   "outputs": [
    {
     "name": "stdout",
     "output_type": "stream",
     "text": [
      "[ 5.92416985  6.69924806  9.63268066  5.90481562 13.31230674  9.61821898\n",
      "  8.23868126 12.69064058  5.44345922 10.76587672  7.26634934 10.21528664\n",
      " 14.11659166 10.63589411 13.40946785  8.97113455  8.40094396 14.44938777\n",
      "  7.90134485  6.22936063]\n",
      "9.491292951932845\n",
      "2.8334937300986756\n",
      "[10 11 12 10 19 11  9 15  9  9 16 11 13 17 12 15  6 10 12  6]\n",
      "11.65\n",
      "3.320767983464066\n"
     ]
    }
   ],
   "source": [
    "import numpy as np\n",
    "mean = 10\n",
    "stdev = 3\n",
    "number_values = 20\n",
    "resultant_array = np.random.normal(mean, stdev, number_values)f\n",
    "print(resultant_array )\n",
    "print(resultant_array.mean())\n",
    "print(resultant_array.std())\n",
    "# for a poisson distribution a mean and standard deviation are equal \n",
    "resultant_array_1 = np.random.poisson(mean, number_values)\n",
    "print(resultant_array_1)\n",
    "print(resultant_array_1.mean())\n",
    "print(resultant_array_1.std())"
   ]
  },
  {
   "cell_type": "markdown",
   "metadata": {
    "colab_type": "text",
    "id": "gPZuEtnjVsc9"
   },
   "source": [
    "## Indexing Arrays\n",
    "#### Access elements of a 1-dimensional array.  Get the first and last element.\n",
    "\n",
    "In python as is in many other programming languages all arrays start from 0 so the first element is at position 0.\n",
    "\n",
    "To access the last element we can use -1 as the index. `x[-1]` is identical to `x[x.shape[0] - 1]` where `shape[0]` is the length of the array."
   ]
  },
  {
   "cell_type": "code",
   "execution_count": 212,
   "metadata": {
    "colab": {},
    "colab_type": "code",
    "id": "TTfE_CDUVsc-"
   },
   "outputs": [
    {
     "name": "stdout",
     "output_type": "stream",
     "text": [
      "0\n",
      "3\n"
     ]
    }
   ],
   "source": [
    "x = np.arange(4)\n",
    "\n",
    "print(x[0])\n",
    "print(x[-1])"
   ]
  },
  {
   "cell_type": "code",
   "execution_count": 213,
   "metadata": {},
   "outputs": [
    {
     "name": "stdout",
     "output_type": "stream",
     "text": [
      "[[10.         11.11111111 12.22222222 13.33333333 14.44444444]\n",
      " [15.55555556 16.66666667 17.77777778 18.88888889 20.        ]]\n",
      "##########################\n",
      "[10.         11.11111111 12.22222222 13.33333333 14.44444444]\n",
      "##########################\n",
      "11.11111111111111\n",
      "##########################\n",
      "14.444444444444445\n",
      "##########################\n",
      "18.88888888888889\n"
     ]
    }
   ],
   "source": [
    "\n",
    "x = np.linspace(10,20,10).reshape(2,5)\n",
    "print(x)\n",
    "#Get first row\n",
    "print(\"##########################\")\n",
    "print(x[0])\n",
    "print(\"##########################\")\n",
    "print(x[0][1])\n",
    "print(\"##########################\")\n",
    "print(x[0][-1])\n",
    "print(\"##########################\")\n",
    "print(x[1,-2])"
   ]
  },
  {
   "cell_type": "code",
   "execution_count": 214,
   "metadata": {
    "scrolled": true
   },
   "outputs": [
    {
     "name": "stdout",
     "output_type": "stream",
     "text": [
      "[[[10.    10.345 10.69 ]\n",
      "  [11.034 11.379 11.724]\n",
      "  [12.069 12.414 12.759]\n",
      "  [13.103 13.448 13.793]\n",
      "  [14.138 14.483 14.828]]\n",
      "\n",
      " [[15.172 15.517 15.862]\n",
      "  [16.207 16.552 16.897]\n",
      "  [17.241 17.586 17.931]\n",
      "  [18.276 18.621 18.966]\n",
      "  [19.31  19.655 20.   ]]]\n",
      "##########################\n",
      "[[10.    10.345 10.69 ]\n",
      " [11.034 11.379 11.724]\n",
      " [12.069 12.414 12.759]\n",
      " [13.103 13.448 13.793]\n",
      " [14.138 14.483 14.828]]\n",
      "##########################\n",
      "[11.034 11.379 11.724]\n",
      "##########################\n",
      "[14.138 14.483 14.828]\n",
      "##########################\n",
      "[14.138 14.483 14.828]\n",
      "##########################\n",
      "12.414\n"
     ]
    }
   ],
   "source": [
    "\n",
    "x = np.linspace(10,20,30).reshape(2,5,3)\n",
    "x = x.round(3)\n",
    "print(x)\n",
    "print(\"##########################\")\n",
    "#Get first row\n",
    "print(x[0])\n",
    "print(\"##########################\")\n",
    "print(x[0][1])\n",
    "print(\"##########################\")\n",
    "print(x[0][-1])\n",
    "print(\"##########################\")\n",
    "print(x[0,-1])\n",
    "print(\"##########################\")\n",
    "print(x[0,2,1])"
   ]
  },
  {
   "cell_type": "markdown",
   "metadata": {
    "colab_type": "text",
    "id": "TzlouFp2VsdD"
   },
   "source": [
    "#### Reshape an array\n",
    "\n",
    "Remember that shape is the fundamenal property of each array and we can modify it as we desire and we often do so. To change the shape of an array we use the `reshape` method.\n",
    "\n",
    "The code in this example creates an 1D-array of 6 elements using the `arange` functon.\n",
    "\n",
    "We convert it to a 2D-array using the `reshape` method.\n",
    "\n",
    "You see that the total amount of numbers did not change, only our view of them. 6 elements in a vector or 3 x 2 elements in a matrix.\n",
    "\n",
    "It is very important that when using `reshape` to ensure that dimensions match or you will get an error. 6 = 3 x 2 is a match so this works but trying np.arange(6).reshape(4, 2) will give you an error. \n",
    "\n",
    "[docs](https://docs.scipy.org/doc/numpy/reference/generated/numpy.reshape.html)"
   ]
  },
  {
   "cell_type": "code",
   "execution_count": 0,
   "metadata": {
    "colab": {},
    "colab_type": "code",
    "id": "L-99GhjBVsdE"
   },
   "outputs": [],
   "source": [
    "x = np.arange(6).reshape(2, 3)\n",
    "print(x)"
   ]
  },
  {
   "cell_type": "markdown",
   "metadata": {
    "colab_type": "text",
    "id": "PJwakKH2VsdG"
   },
   "source": [
    "#### Get the last row\n",
    "\n",
    "When dealing with arrays which are of more than a single dimension we can use partial indexing specifications go slice the array the way we want. \n",
    "\n",
    "For example `print(x[-1])` will print the last **row**.\n",
    "\n",
    "To get the last column take the transpose of the 2d-array and then use [-1]. \n",
    "\n",
    "For exampe `print(x.T[-1])` will give you the last columns. `x.T` is the transpose of `x`"
   ]
  },
  {
   "cell_type": "code",
   "execution_count": 0,
   "metadata": {
    "colab": {},
    "colab_type": "code",
    "id": "eRzSoVEBVsdH"
   },
   "outputs": [],
   "source": [
    "print(x[-1])"
   ]
  },
  {
   "cell_type": "markdown",
   "metadata": {
    "colab_type": "text",
    "id": "lLqO8U4ZVsdL"
   },
   "source": [
    "#### Get the last element of the last row\n",
    "\n",
    "Here we are using full indexing to get a single **element**."
   ]
  },
  {
   "cell_type": "code",
   "execution_count": 14,
   "metadata": {
    "colab": {},
    "colab_type": "code",
    "id": "ktEhAKY0VsdL"
   },
   "outputs": [
    {
     "name": "stdout",
     "output_type": "stream",
     "text": [
      "20.0\n"
     ]
    }
   ],
   "source": [
    "print(x[-1, -1])"
   ]
  },
  {
   "cell_type": "markdown",
   "metadata": {
    "colab_type": "text",
    "id": "S_vuadjsVsdO"
   },
   "source": [
    "#### Get elements like a list\n",
    "\n",
    "Using the notation `a:b` we can slice arrays as precisely as we want.\n",
    "\n",
    "`a:b` means give me back all elements whose positions is in that set.\n",
    "\n",
    "For example `y = [1, 3, 5, 7, 9]` and `y[0:2]` would give us the first two elements `[1, 3]`.\n",
    "\n",
    "Negative indices mean from back so -3 means 3 positions starting from the last position.\n",
    "\n",
    "Experiment with the values until you get the feel for it."
   ]
  },
  {
   "cell_type": "code",
   "execution_count": 217,
   "metadata": {
    "colab": {},
    "colab_type": "code",
    "id": "Q6coPcKdVsdO"
   },
   "outputs": [
    {
     "name": "stdout",
     "output_type": "stream",
     "text": [
      "[0 1 2 3 4 5 6 7 8 9]\n",
      "[0 1 2]\n",
      "[1 2 3]\n",
      "[7 8 9]\n"
     ]
    }
   ],
   "source": [
    "x = np.arange(10) \n",
    "\n",
    "print(x)\n",
    "print(x[:3])\n",
    "print(x[1:4])\n",
    "print(x[-3:])"
   ]
  },
  {
   "cell_type": "code",
   "execution_count": 219,
   "metadata": {
    "colab": {},
    "colab_type": "code",
    "id": "Q6coPcKdVsdO"
   },
   "outputs": [
    {
     "name": "stdout",
     "output_type": "stream",
     "text": [
      "######################\n",
      "[[[ 0  1  2]\n",
      "  [ 3  4  5]\n",
      "  [ 6  7  8]]\n",
      "\n",
      " [[ 9 10 11]\n",
      "  [12 13 14]\n",
      "  [15 16 17]]\n",
      "\n",
      " [[18 19 20]\n",
      "  [21 22 23]\n",
      "  [24 25 26]]]\n",
      "######################\n",
      "[[[18 19 20]\n",
      "  [21 22 23]\n",
      "  [24 25 26]]]\n",
      "######################\n",
      "[[[ 9 10 11]\n",
      "  [12 13 14]\n",
      "  [15 16 17]]]\n",
      "######################\n",
      "[[[ 0  1  2]\n",
      "  [ 3  4  5]\n",
      "  [ 6  7  8]]\n",
      "\n",
      " [[ 9 10 11]\n",
      "  [12 13 14]\n",
      "  [15 16 17]]\n",
      "\n",
      " [[18 19 20]\n",
      "  [21 22 23]\n",
      "  [24 25 26]]]\n"
     ]
    }
   ],
   "source": [
    "x = np.arange(27).reshape(3,3,3) \n",
    "print(\"######################\")\n",
    "print(x)\n",
    "print(\"######################\")\n",
    "print(x[2:3])\n",
    "print(\"######################\")\n",
    "print(x[1:2])\n",
    "print(\"######################\")\n",
    "print(x[-3:])\n"
   ]
  },
  {
   "cell_type": "code",
   "execution_count": 220,
   "metadata": {},
   "outputs": [
    {
     "name": "stdout",
     "output_type": "stream",
     "text": [
      "[[[ 0  1  2]\n",
      "  [ 3  4  5]\n",
      "  [ 6  7  8]]\n",
      "\n",
      " [[ 9 10 11]\n",
      "  [12 13 14]\n",
      "  [15 16 17]]\n",
      "\n",
      " [[18 19 20]\n",
      "  [21 22 23]\n",
      "  [24 25 26]]]\n",
      "############################\n",
      "[[[ 0  2]\n",
      "  [ 6  8]]\n",
      "\n",
      " [[ 9 11]\n",
      "  [15 17]]\n",
      "\n",
      " [[18 20]\n",
      "  [24 26]]]\n",
      "############################\n",
      "[[[26 25 24]\n",
      "  [23 22 21]\n",
      "  [20 19 18]]\n",
      "\n",
      " [[17 16 15]\n",
      "  [14 13 12]\n",
      "  [11 10  9]]\n",
      "\n",
      " [[ 8  7  6]\n",
      "  [ 5  4  3]\n",
      "  [ 2  1  0]]]\n",
      "############################\n",
      "[[[ 8  7  6]\n",
      "  [ 5  4  3]\n",
      "  [ 2  1  0]]\n",
      "\n",
      " [[17 16 15]\n",
      "  [14 13 12]\n",
      "  [11 10  9]]\n",
      "\n",
      " [[26 25 24]\n",
      "  [23 22 21]\n",
      "  [20 19 18]]]\n",
      "############################\n",
      "[[[ 8  6]\n",
      "  [ 2  0]]\n",
      "\n",
      " [[17 15]\n",
      "  [11  9]]\n",
      "\n",
      " [[26 24]\n",
      "  [20 18]]]\n"
     ]
    }
   ],
   "source": [
    "print(x)\n",
    "print(\"############################\")\n",
    "print(x[:,::2,::2]) # Get all the corner values in the matrices\n",
    "print(\"############################\")\n",
    "print(x[::-1,::-1,::-1]) # Get all the corner values in the matrices\n",
    "print(\"############################\")\n",
    "print(x[:,::-1,::-1]) # Get all the corner values in the matrices\n",
    "print(\"############################\")\n",
    "print(x[:,::-2,::-2]) # Get all the corner values in the matrices"
   ]
  },
  {
   "cell_type": "markdown",
   "metadata": {
    "colab_type": "text",
    "id": "u0LUGU7QVsdR"
   },
   "source": [
    "#### Get all elements in reverse order\n",
    "\n",
    "The enhanced slicing syntax is `a:b:c` were `c` is the step. For example `0:10:2`.\n",
    "\n",
    "If we omit `a` and `b` we always asume they are `a` = 0 and `b` = length of the list so we are only left with a step.\n",
    "\n",
    "Thus `::2` means slicing from 0 to end with a step 2. `::3` mean slicing with a step 3.\n",
    "\n",
    "Now what if we used negative steps. Using -1 as the step would reverse the logic and `a` becomes the end of the list and `b` becomes zero. So `::-1` will slice in reverse direction.\n",
    "\n",
    "Finally there is also the slice form `::1` or written short `:` which means give me back all elements in order as they are present."
   ]
  },
  {
   "cell_type": "code",
   "execution_count": 23,
   "metadata": {
    "colab": {},
    "colab_type": "code",
    "id": "4UzObVzGVsdS"
   },
   "outputs": [
    {
     "name": "stdout",
     "output_type": "stream",
     "text": [
      "[[[ 0  1  2]\n",
      "  [ 3  4  5]\n",
      "  [ 6  7  8]]\n",
      "\n",
      " [[18 19 20]\n",
      "  [21 22 23]\n",
      "  [24 25 26]]]\n"
     ]
    }
   ],
   "source": [
    "print(x[::-1])"
   ]
  },
  {
   "cell_type": "code",
   "execution_count": 68,
   "metadata": {},
   "outputs": [
    {
     "name": "stdout",
     "output_type": "stream",
     "text": [
      "[[[0 1]]\n",
      "\n",
      " [[2 3]]\n",
      "\n",
      " [[4 5]]\n",
      "\n",
      " [[6 7]]\n",
      "\n",
      " [[8 9]]]\n",
      "##################### step =1\n",
      "[[[0 1]]\n",
      "\n",
      " [[2 3]]\n",
      "\n",
      " [[4 5]]\n",
      "\n",
      " [[6 7]]\n",
      "\n",
      " [[8 9]]]\n",
      "##################### step = 2\n",
      "[[[0 1]]\n",
      "\n",
      " [[4 5]]\n",
      "\n",
      " [[8 9]]]\n",
      "##################### step =-1\n",
      "[[[8 9]]\n",
      "\n",
      " [[6 7]]\n",
      "\n",
      " [[4 5]]\n",
      "\n",
      " [[2 3]]\n",
      "\n",
      " [[0 1]]]\n",
      "##################### step =-2\n",
      "[[[8 9]]\n",
      "\n",
      " [[4 5]]\n",
      "\n",
      " [[0 1]]]\n"
     ]
    }
   ],
   "source": [
    "npreverse = np.arange(10).reshape(5,1,2)\n",
    "print(npreverse)\n",
    "print(\"##################### step =1\")\n",
    "print(npreverse[::1])\n",
    "print(\"##################### step = 2\")\n",
    "print(npreverse[::2])\n",
    "print(\"##################### step =-1\")\n",
    "print(npreverse[::-1])\n",
    "print(\"##################### step =-2\")\n",
    "print(npreverse[::-2])"
   ]
  },
  {
   "cell_type": "markdown",
   "metadata": {
    "colab_type": "text",
    "id": "RYDI0tKZVsdV"
   },
   "source": [
    "#### Get every second element or third element"
   ]
  },
  {
   "cell_type": "code",
   "execution_count": 64,
   "metadata": {
    "colab": {},
    "colab_type": "code",
    "id": "Qt1WeSeUVsdW"
   },
   "outputs": [
    {
     "name": "stdout",
     "output_type": "stream",
     "text": [
      "[[[ 0  1  2]\n",
      "  [ 3  4  5]\n",
      "  [ 6  7  8]]\n",
      "\n",
      " [[ 9 10 11]\n",
      "  [12 13 14]\n",
      "  [15 16 17]]\n",
      "\n",
      " [[18 19 20]\n",
      "  [21 22 23]\n",
      "  [24 25 26]]]\n",
      "##########################\n",
      "[[[ 0  1  2]\n",
      "  [ 3  4  5]\n",
      "  [ 6  7  8]]\n",
      "\n",
      " [[18 19 20]\n",
      "  [21 22 23]\n",
      "  [24 25 26]]]\n",
      "##########################\n",
      "[[[0 1 2]\n",
      "  [3 4 5]\n",
      "  [6 7 8]]]\n"
     ]
    }
   ],
   "source": [
    "print(x)\n",
    "print(\"##########################\")\n",
    "print(x[::2])\n",
    "print(\"##########################\")\n",
    "print(x[::3])"
   ]
  },
  {
   "cell_type": "markdown",
   "metadata": {
    "colab_type": "text",
    "id": "gTtzstSeVsdZ"
   },
   "source": [
    "#### Create a 5x5 matrix"
   ]
  },
  {
   "cell_type": "code",
   "execution_count": 224,
   "metadata": {
    "colab": {},
    "colab_type": "code",
    "id": "QGlTQXhwVsda",
    "scrolled": true
   },
   "outputs": [
    {
     "name": "stdout",
     "output_type": "stream",
     "text": [
      "[[ 0  1  2  3  4]\n",
      " [ 5  6  7  8  9]\n",
      " [10 11 12 13 14]\n",
      " [15 16 17 18 19]\n",
      " [20 21 22 23 24]]\n"
     ]
    }
   ],
   "source": [
    "x = np.arange(25).reshape(5, 5)\n",
    "print(x)"
   ]
  },
  {
   "cell_type": "markdown",
   "metadata": {
    "colab_type": "text",
    "id": "13f9XrWfVsdc"
   },
   "source": [
    "#### Get the first two columns and the first two rows\n",
    "\n",
    "Until now you have learned how to slice on a 1D array but slices can be generalized to any dimensional arrays.\n",
    "\n",
    "The trick is to create a slice for every dimensions. \n",
    "\n",
    "In this example we have a 2d-array so we create two slices, one for dimension 0 (rows) and one for dimension 1 (columns)\n"
   ]
  },
  {
   "cell_type": "code",
   "execution_count": 225,
   "metadata": {
    "colab": {},
    "colab_type": "code",
    "id": "sU273gC3Vsdd"
   },
   "outputs": [
    {
     "name": "stdout",
     "output_type": "stream",
     "text": [
      "[[0 1]\n",
      " [5 6]]\n"
     ]
    }
   ],
   "source": [
    "print(x[:2, :2])"
   ]
  },
  {
   "cell_type": "code",
   "execution_count": 226,
   "metadata": {},
   "outputs": [
    {
     "name": "stdout",
     "output_type": "stream",
     "text": [
      "[[18 19]\n",
      " [23 24]]\n"
     ]
    }
   ],
   "source": [
    "print(x[-2:, -2:])"
   ]
  },
  {
   "cell_type": "markdown",
   "metadata": {},
   "source": [
    "Get values in last two rows and last two columns for 0 to 25 shape - 5,5 "
   ]
  },
  {
   "cell_type": "markdown",
   "metadata": {
    "colab_type": "text",
    "id": "k4o5CSY-Vsdg"
   },
   "source": [
    "#### Get every second column of every second row"
   ]
  },
  {
   "cell_type": "code",
   "execution_count": 115,
   "metadata": {
    "colab": {},
    "colab_type": "code",
    "id": "v1RkC6_XVsdg"
   },
   "outputs": [
    {
     "name": "stdout",
     "output_type": "stream",
     "text": [
      "[[ 0  2  4]\n",
      " [10 12 14]\n",
      " [20 22 24]]\n"
     ]
    }
   ],
   "source": [
    "print(x[::2, ::2])"
   ]
  },
  {
   "cell_type": "markdown",
   "metadata": {
    "colab_type": "text",
    "id": "VUN97--UVsdj"
   },
   "source": [
    "## Access parts of an array with index arrays"
   ]
  },
  {
   "cell_type": "markdown",
   "metadata": {
    "colab_type": "text",
    "id": "LpR2l52dVsdj"
   },
   "source": [
    "#### Generate six random integers between 0 and 9 inclusive\n",
    "\n",
    "`randint` in `np.random` is a very useful function which generates uniformly distributed random integers from the range provided as its first two parameters (start and end of range respectively). It's third parameter tells the method how many numbers we need."
   ]
  },
  {
   "cell_type": "code",
   "execution_count": 228,
   "metadata": {
    "colab": {},
    "colab_type": "code",
    "id": "1nY57f_oVsdk"
   },
   "outputs": [
    {
     "name": "stdout",
     "output_type": "stream",
     "text": [
      "[5 1 5 7 7 0]\n",
      "[ 0.  2.  4.  6.  8. 10.]\n"
     ]
    }
   ],
   "source": [
    "x = np.random.randint(0, 10, 6) \n",
    "print(x)\n",
    "x = np.linspace(0, 10, 6)\n",
    "print(x)"
   ]
  },
  {
   "cell_type": "markdown",
   "metadata": {
    "colab_type": "text",
    "id": "bkjGnJKEVsdo"
   },
   "source": [
    "#### Get the first number and the last two numbers\n",
    "\n",
    "Slices are inhetently linear and give us access to arrays in a linear fashion.\n",
    "\n",
    "To access elements in any order we must use index arrays which are numpy arrays holding integer numbers which tell what elements to chose from the indexed array."
   ]
  },
  {
   "cell_type": "code",
   "execution_count": 144,
   "metadata": {
    "colab": {},
    "colab_type": "code",
    "id": "GWxn2lx2Vsdp"
   },
   "outputs": [
    {
     "name": "stdout",
     "output_type": "stream",
     "text": [
      "[ 0.  8. 10.]\n",
      "[ 0.  8. 10.]\n"
     ]
    },
    {
     "data": {
      "text/plain": [
       "array([ 0.,  8., 10.])"
      ]
     },
     "execution_count": 144,
     "metadata": {},
     "output_type": "execute_result"
    }
   ],
   "source": [
    "indices = [0, -2, -1]\n",
    "print(x[indices])\n",
    "print(x[[0, -2, -1]])\n",
    "x[[0,-2,-1]]"
   ]
  },
  {
   "cell_type": "code",
   "execution_count": 145,
   "metadata": {},
   "outputs": [
    {
     "name": "stdout",
     "output_type": "stream",
     "text": [
      "[[ 4 10  9  5 18]\n",
      " [19 17 13  5 12]\n",
      " [ 3 18 19 17  7]\n",
      " [ 0 14  1  3 18]]\n"
     ]
    }
   ],
   "source": [
    "b = np.random.randint(0,20,20).reshape(4,5)\n",
    "print(b)"
   ]
  },
  {
   "cell_type": "code",
   "execution_count": 146,
   "metadata": {},
   "outputs": [
    {
     "name": "stdout",
     "output_type": "stream",
     "text": [
      "[[ 4 10  9  5 18]\n",
      " [ 0 14  1  3 18]]\n",
      "######################\n",
      "[[ 4 10  9  5 18]\n",
      " [ 0 14  1  3 18]]\n",
      "###############################\n",
      "[10 14]\n"
     ]
    },
    {
     "name": "stderr",
     "output_type": "stream",
     "text": [
      "c:\\python373\\lib\\site-packages\\ipykernel_launcher.py:6: FutureWarning: Using a non-tuple sequence for multidimensional indexing is deprecated; use `arr[tuple(seq)]` instead of `arr[seq]`. In the future this will be interpreted as an array index, `arr[np.array(seq)]`, which will result either in an error or a different result.\n",
      "  \n",
      "c:\\python373\\lib\\site-packages\\ipykernel_launcher.py:8: FutureWarning: Using a non-tuple sequence for multidimensional indexing is deprecated; use `arr[tuple(seq)]` instead of `arr[seq]`. In the future this will be interpreted as an array index, `arr[np.array(seq)]`, which will result either in an error or a different result.\n",
      "  \n"
     ]
    }
   ],
   "source": [
    "indices = [0, -1]\n",
    "print(b[indices])\n",
    "print(\"######################\")\n",
    "indices_rows = [0, -1]\n",
    "indices_cols = [1]\n",
    "print(b[[indices_rows]])\n",
    "print(\"###############################\")\n",
    "print(b[[indices_rows, indices_cols]])\n",
    "\n"
   ]
  },
  {
   "cell_type": "markdown",
   "metadata": {
    "colab_type": "text",
    "id": "5RfG_quvVsdr"
   },
   "source": [
    "### Create two arrays\n",
    "\n",
    "The array `x2` is created as `x1 * -1`. The multiplication operator here means multiply all elements of `x1` with -1 and give back that as result."
   ]
  },
  {
   "cell_type": "code",
   "execution_count": 233,
   "metadata": {
    "colab": {},
    "colab_type": "code",
    "id": "V46GuSJOVsdr"
   },
   "outputs": [
    {
     "name": "stdout",
     "output_type": "stream",
     "text": [
      "[0 1 2 3 4]\n",
      "[ 0 -1 -2 -3 -4]\n"
     ]
    }
   ],
   "source": [
    "arrayLength = 5\n",
    "x1 = np.arange(arrayLength)\n",
    "x2 = np.arange(arrayLength) * -1\n",
    "\n",
    "print(x1)\n",
    "print(x2)"
   ]
  },
  {
   "cell_type": "markdown",
   "metadata": {
    "colab_type": "text",
    "id": "Qm54IQiiVsdu"
   },
   "source": [
    "#### Create a random shuffled range of numbers\n",
    "\n",
    "This and the following example shows how to shuffle an array in numpy.\n",
    "\n",
    "Shuffling means reordering the items in an array and we can do that using random permutations of the array positions."
   ]
  },
  {
   "cell_type": "code",
   "execution_count": 256,
   "metadata": {
    "colab": {},
    "colab_type": "code",
    "id": "-XfqUqd8Vsdv"
   },
   "outputs": [
    {
     "name": "stdout",
     "output_type": "stream",
     "text": [
      "[4 3 0 1 2]\n"
     ]
    }
   ],
   "source": [
    "arrayLength = 5\n",
    "indices = np.random.permutation(arrayLength)\n",
    "print(indices)"
   ]
  },
  {
   "cell_type": "markdown",
   "metadata": {
    "colab_type": "text",
    "id": "At69gWFaVsdz"
   },
   "source": [
    "#### Use indices to re-order arrays"
   ]
  },
  {
   "cell_type": "code",
   "execution_count": 257,
   "metadata": {
    "colab": {},
    "colab_type": "code",
    "id": "bqfTE7IEVsd0"
   },
   "outputs": [
    {
     "name": "stdout",
     "output_type": "stream",
     "text": [
      "[4 3 0 1 2]\n",
      "[-4 -3  0 -1 -2]\n"
     ]
    }
   ],
   "source": [
    "print(x1[indices])\n",
    "print(x2[indices])"
   ]
  },
  {
   "cell_type": "markdown",
   "metadata": {
    "colab_type": "text",
    "id": "JhA7z7NiVsd5"
   },
   "source": [
    "#### Create array of boolean values\n",
    "\n",
    "The main novelty of this example is `print(x > 2)`.\n",
    "\n",
    "`x > 2` generates an array of boolean values where each element is True or False.\n",
    "Having True at position i of the output means that the conditions is satisfied for the element of `x` at position i.\n",
    "\n",
    "For exampe if `x=[0,1,2,3,4]` then `x > 2` would be `[False, False, False, True, True]`.\n",
    "\n",
    "As you see 0 > 2 = False, 1 > 2 = False, 2 > 2 = False, 3 > 2 = True and 4 > 2 = True and that is shown in the output array."
   ]
  },
  {
   "cell_type": "code",
   "execution_count": 263,
   "metadata": {
    "colab": {},
    "colab_type": "code",
    "id": "Wq39t_tDVsd6"
   },
   "outputs": [
    {
     "name": "stdout",
     "output_type": "stream",
     "text": [
      "[0 1 2 3 4]\n",
      "[False False False  True  True]\n"
     ]
    }
   ],
   "source": [
    "x = np.arange(5)\n",
    "print(x)\n",
    "print(x > 2)\n"
   ]
  },
  {
   "cell_type": "code",
   "execution_count": 265,
   "metadata": {},
   "outputs": [
    {
     "name": "stdout",
     "output_type": "stream",
     "text": [
      "[[ 6 14 10  9 11]\n",
      " [ 9 10 10 14  8]\n",
      " [11 14 12  9  8]]\n",
      "[[False  True  True False  True]\n",
      " [False  True  True  True False]\n",
      " [ True  True  True False False]]\n"
     ]
    }
   ],
   "source": [
    "x = np.random.randint(6,15,15).reshape(3,5)\n",
    "print(x)\n",
    "print(x > 9)\n"
   ]
  },
  {
   "cell_type": "code",
   "execution_count": 261,
   "metadata": {},
   "outputs": [
    {
     "name": "stdout",
     "output_type": "stream",
     "text": [
      "[2 3 0 4 1]\n",
      "[False  True False  True False]\n"
     ]
    }
   ],
   "source": [
    "indices = np.random.permutation(arrayLength)\n",
    "print(indices)\n",
    "print(indices >= 3)"
   ]
  },
  {
   "cell_type": "markdown",
   "metadata": {
    "colab_type": "text",
    "id": "k5Zv-VArVsd8"
   },
   "source": [
    "#### Use boolean values to index arrays\n",
    "\n",
    "Once we have created our boolean array we can use it to index other arrays.\n",
    "\n",
    "The rule is very simple. If at position i of index we have True include `x[i]` in the output."
   ]
  },
  {
   "cell_type": "code",
   "execution_count": 266,
   "metadata": {
    "colab": {},
    "colab_type": "code",
    "id": "E4ea2NQwVsd9"
   },
   "outputs": [
    {
     "name": "stdout",
     "output_type": "stream",
     "text": [
      "[[ True  True  True  True  True]\n",
      " [ True  True  True  True  True]\n",
      " [ True  True  True  True  True]]\n",
      "#######################################\n",
      "[14 10 11 10 10 14 11 14 12]\n",
      "#######################################\n",
      "[[ 6 14 10  9 11]\n",
      " [ 9 10 10 14  8]\n",
      " [11 14 12  9  8]]\n"
     ]
    },
    {
     "ename": "IndexError",
     "evalue": "boolean index did not match indexed array along dimension 0; dimension is 3 but corresponding boolean dimension is 5",
     "output_type": "error",
     "traceback": [
      "\u001b[1;31m---------------------------------------------------------------------------\u001b[0m",
      "\u001b[1;31mIndexError\u001b[0m                                Traceback (most recent call last)",
      "\u001b[1;32m<ipython-input-266-c08993b5a281>\u001b[0m in \u001b[0;36m<module>\u001b[1;34m\u001b[0m\n\u001b[0;32m      4\u001b[0m \u001b[0mprint\u001b[0m\u001b[1;33m(\u001b[0m\u001b[1;34m\"#######################################\"\u001b[0m\u001b[1;33m)\u001b[0m\u001b[1;33m\u001b[0m\u001b[1;33m\u001b[0m\u001b[0m\n\u001b[0;32m      5\u001b[0m \u001b[0mprint\u001b[0m\u001b[1;33m(\u001b[0m\u001b[0mx\u001b[0m\u001b[1;33m)\u001b[0m\u001b[1;33m\u001b[0m\u001b[1;33m\u001b[0m\u001b[0m\n\u001b[1;32m----> 6\u001b[1;33m \u001b[0mprint\u001b[0m\u001b[1;33m(\u001b[0m\u001b[0mx\u001b[0m\u001b[1;33m[\u001b[0m\u001b[0mnp\u001b[0m\u001b[1;33m.\u001b[0m\u001b[0marray\u001b[0m\u001b[1;33m(\u001b[0m\u001b[1;33m[\u001b[0m\u001b[1;32mFalse\u001b[0m\u001b[1;33m,\u001b[0m\u001b[1;32mTrue\u001b[0m\u001b[1;33m,\u001b[0m\u001b[1;32mFalse\u001b[0m\u001b[1;33m,\u001b[0m\u001b[1;32mTrue\u001b[0m\u001b[1;33m,\u001b[0m\u001b[1;32mFalse\u001b[0m\u001b[1;33m]\u001b[0m\u001b[1;33m)\u001b[0m\u001b[1;33m]\u001b[0m\u001b[1;33m)\u001b[0m\u001b[1;33m\u001b[0m\u001b[1;33m\u001b[0m\u001b[0m\n\u001b[0m",
      "\u001b[1;31mIndexError\u001b[0m: boolean index did not match indexed array along dimension 0; dimension is 3 but corresponding boolean dimension is 5"
     ]
    }
   ],
   "source": [
    "print(x > 2)\n",
    "print(\"#######################################\")\n",
    "print(x[x > 9])\n",
    "print(\"#######################################\")\n",
    "print(x)\n",
    "print(x[np.array([False,True,False,True,False])])"
   ]
  },
  {
   "cell_type": "markdown",
   "metadata": {
    "colab_type": "text",
    "id": "CPA6fxsgVseB"
   },
   "source": [
    "## Array Math"
   ]
  },
  {
   "cell_type": "markdown",
   "metadata": {
    "colab_type": "text",
    "id": "BXU-_j3XYjIx"
   },
   "source": [
    "#### Try adding to a list"
   ]
  },
  {
   "cell_type": "code",
   "execution_count": 269,
   "metadata": {
    "colab": {},
    "colab_type": "code",
    "id": "77uE0DtkVseC"
   },
   "outputs": [
    {
     "ename": "TypeError",
     "evalue": "can only concatenate list (not \"int\") to list",
     "output_type": "error",
     "traceback": [
      "\u001b[1;31m---------------------------------------------------------------------------\u001b[0m",
      "\u001b[1;31mTypeError\u001b[0m                                 Traceback (most recent call last)",
      "\u001b[1;32m<ipython-input-269-8ffd3d11af62>\u001b[0m in \u001b[0;36m<module>\u001b[1;34m\u001b[0m\n\u001b[0;32m      2\u001b[0m \u001b[1;31m#print(x*10)\u001b[0m\u001b[1;33m\u001b[0m\u001b[1;33m\u001b[0m\u001b[1;33m\u001b[0m\u001b[0m\n\u001b[0;32m      3\u001b[0m \u001b[1;33m\u001b[0m\u001b[0m\n\u001b[1;32m----> 4\u001b[1;33m \u001b[0mprint\u001b[0m\u001b[1;33m(\u001b[0m\u001b[0mx\u001b[0m \u001b[1;33m+\u001b[0m \u001b[1;36m10\u001b[0m\u001b[1;33m)\u001b[0m\u001b[1;33m\u001b[0m\u001b[1;33m\u001b[0m\u001b[0m\n\u001b[0m",
      "\u001b[1;31mTypeError\u001b[0m: can only concatenate list (not \"int\") to list"
     ]
    }
   ],
   "source": [
    "x = [1, 2, 3, 4]\n",
    "#print(x*10)\n",
    "\n",
    "print(x + 10)"
   ]
  },
  {
   "cell_type": "markdown",
   "metadata": {
    "colab_type": "text",
    "id": "TmH2s9-aVseE"
   },
   "source": [
    "#### Try again with an array\n",
    "\n",
    "When trying with a list you got an error because simple python lists do not support addition with scalars.\n",
    "\n",
    "But numpy arrays do allow that."
   ]
  },
  {
   "cell_type": "code",
   "execution_count": 274,
   "metadata": {
    "colab": {},
    "colab_type": "code",
    "id": "oOmv1DBxVseE"
   },
   "outputs": [
    {
     "name": "stdout",
     "output_type": "stream",
     "text": [
      "[[1 2]\n",
      " [3 4]]\n",
      "#######################\n",
      "[[11 12]\n",
      " [13 14]]\n",
      "#######################\n",
      "[[10 20]\n",
      " [30 40]]\n"
     ]
    }
   ],
   "source": [
    "x = np.array(x).reshape(2,2)\n",
    "print(x)\n",
    "print(\"#######################\")\n",
    "print(x + 10)\n",
    "print(\"#######################\")\n",
    "print(x * 10)"
   ]
  },
  {
   "cell_type": "markdown",
   "metadata": {},
   "source": [
    "### Finding Transpose -- converting rows and columns to the reverse\n"
   ]
  },
  {
   "cell_type": "code",
   "execution_count": 275,
   "metadata": {},
   "outputs": [
    {
     "name": "stdout",
     "output_type": "stream",
     "text": [
      "[[14 11  4  4  4]\n",
      " [10  4  6  9  8]\n",
      " [ 6 12 12 14 11]]\n",
      "################## - Transpose\n",
      "[[14 10  6]\n",
      " [11  4 12]\n",
      " [ 4  6 12]\n",
      " [ 4  9 14]\n",
      " [ 4  8 11]]\n"
     ]
    }
   ],
   "source": [
    "a = np.random.randint(0,15,15).reshape(3,5)\n",
    "print(a)\n",
    "print(\"################## - Transpose\")\n",
    "b = a.transpose()\n",
    "print(b)"
   ]
  },
  {
   "cell_type": "code",
   "execution_count": 278,
   "metadata": {},
   "outputs": [
    {
     "name": "stdout",
     "output_type": "stream",
     "text": [
      "[[[ 0  1  2  3]\n",
      "  [ 4  5  6  7]]\n",
      "\n",
      " [[ 8  9 10 11]\n",
      "  [12 13 14 15]]]\n",
      "################## - Transpose\n",
      "[[[ 0  8]\n",
      "  [ 4 12]]\n",
      "\n",
      " [[ 1  9]\n",
      "  [ 5 13]]\n",
      "\n",
      " [[ 2 10]\n",
      "  [ 6 14]]\n",
      "\n",
      " [[ 3 11]\n",
      "  [ 7 15]]]\n"
     ]
    }
   ],
   "source": [
    "a = np.arange(0,16).reshape(2,2,4)\n",
    "print(a)\n",
    "print(\"################## - Transpose\")\n",
    "b = a.transpose()\n",
    "print(b)"
   ]
  },
  {
   "cell_type": "code",
   "execution_count": 283,
   "metadata": {},
   "outputs": [
    {
     "name": "stdout",
     "output_type": "stream",
     "text": [
      "[[1. 0. 0. 0. 0.]\n",
      " [0. 1. 0. 0. 0.]\n",
      " [0. 0. 1. 0. 0.]\n",
      " [0. 0. 0. 1. 0.]\n",
      " [0. 0. 0. 0. 1.]]\n"
     ]
    }
   ],
   "source": [
    "u = np.eye(5)\n",
    "#u = np.eye(4,2)\n",
    "#u = np.eye(2)\n",
    "print(u)"
   ]
  },
  {
   "cell_type": "markdown",
   "metadata": {},
   "source": [
    "    ##### Reading Data From Diskf"
   ]
  },
  {
   "cell_type": "code",
   "execution_count": 286,
   "metadata": {},
   "outputs": [
    {
     "name": "stdout",
     "output_type": "stream",
     "text": [
      "[[1. 2. 3.]\n",
      " [4. 5. 6.]]\n",
      "########################\n",
      "[[1. 2. 3.]\n",
      " [4. 5. 6.]]\n"
     ]
    }
   ],
   "source": [
    "from io import StringIO\n",
    "data = \"1, 2, 3\\n4, 5, 6\"\n",
    "data_1 = \"\"\"1, 2, 3\n",
    "4, 5, 6\"\"\"\n",
    "array = np.genfromtxt(StringIO(data), delimiter=\",\")\n",
    "print(array)\n",
    "print(\"########################\")\n",
    "array1 = np.genfromtxt(StringIO(data_1), delimiter=\",\")\n",
    "print(array1)"
   ]
  },
  {
   "cell_type": "code",
   "execution_count": 287,
   "metadata": {},
   "outputs": [
    {
     "name": "stdout",
     "output_type": "stream",
     "text": [
      "[[  1. 112.   3.]\n",
      " [  4.   5.  67.]\n",
      " [890. 123.   4.]]\n"
     ]
    }
   ],
   "source": [
    "data = \"  1112  3\\n  4 5 67\\n890123 4\"\n",
    "array = np.genfromtxt(StringIO(data), delimiter=3)\n",
    "print(array)"
   ]
  },
  {
   "cell_type": "code",
   "execution_count": 48,
   "metadata": {},
   "outputs": [],
   "source": [
    "#### Auto Stripping Values"
   ]
  },
  {
   "cell_type": "code",
   "execution_count": 288,
   "metadata": {},
   "outputs": [
    {
     "data": {
      "text/plain": [
       "array([[b'1', b' abc ', b' 2'],\n",
       "       [b'3', b' xxx', b' 4']], dtype='|S5')"
      ]
     },
     "execution_count": 288,
     "metadata": {},
     "output_type": "execute_result"
    }
   ],
   "source": [
    "data = \"1, abc , 2\\n 3, xxx, 4\"\n",
    "np.genfromtxt(StringIO(data), delimiter=\",\", dtype=\"|S5\")"
   ]
  },
  {
   "cell_type": "code",
   "execution_count": 182,
   "metadata": {},
   "outputs": [
    {
     "name": "stdout",
     "output_type": "stream",
     "text": [
      "[[1. 2.]\n",
      " [1. 2.]\n",
      " [3. 4.]\n",
      " [5. 6.]\n",
      " [7. 8.]\n",
      " [9. 0.]]\n"
     ]
    }
   ],
   "source": [
    "data = \"\"\"#\n",
    " # Skip me !\n",
    " # Skip me too !\n",
    " 1,2\n",
    " 1, 2\n",
    " 3, 4\n",
    " 5, 6 #This is the third line of the data\n",
    " 7, 8\n",
    " # And here comes the last line\n",
    " 9, 0\n",
    " \"\"\"\n",
    "print(np.genfromtxt(StringIO(data), comments=\"#\", delimiter=\",\"))\n"
   ]
  },
  {
   "cell_type": "code",
   "execution_count": 186,
   "metadata": {},
   "outputs": [
    {
     "name": "stdout",
     "output_type": "stream",
     "text": [
      "####################################\n",
      "[[ 1.  2.]\n",
      " [ 3.  4.]\n",
      " [nan nan]\n",
      " [ 5. nan]]\n",
      "####################################\n",
      "[[1. 2.]\n",
      " [3. 4.]]\n"
     ]
    }
   ],
   "source": [
    "data_1 = \"\"\"#,\n",
    " $ Skip, me !\n",
    " 1,2\n",
    " 1, 2\n",
    " 3, 4\n",
    " # Skip ,me too !\n",
    " 5, 6 #This is the third line of the data\n",
    " 7, 8\n",
    " # And here comes, the last line\n",
    " 9, 0\n",
    " \"\"\"\n",
    "print(\"####################################\")\n",
    "print(np.genfromtxt(StringIO(data_1), comments =\"$\", delimiter=\",\", skip_header=3, skip_footer=3))\n",
    "print(\"####################################\")\n",
    "print(np.genfromtxt(StringIO(data_1), comments =\"#\", delimiter=\",\", skip_header=3, skip_footer=3))\n",
    "\n"
   ]
  },
  {
   "cell_type": "code",
   "execution_count": 289,
   "metadata": {},
   "outputs": [
    {
     "name": "stdout",
     "output_type": "stream",
     "text": [
      "0\n",
      "1\n",
      "2\n",
      "3\n",
      "4\n",
      "5\n",
      "6\n",
      "7\n",
      "8\n",
      "9\n"
     ]
    },
    {
     "data": {
      "text/plain": [
       "array([3., 4.])"
      ]
     },
     "execution_count": 289,
     "metadata": {},
     "output_type": "execute_result"
    }
   ],
   "source": [
    "data = \"\\n\".join(str(i) for i in range(10))\n",
    "print(data)\n",
    "np.genfromtxt(StringIO(data),comments=\"#\", skip_header=3, skip_footer=5)"
   ]
  },
  {
   "cell_type": "code",
   "execution_count": 290,
   "metadata": {},
   "outputs": [
    {
     "name": "stdout",
     "output_type": "stream",
     "text": [
      "#0\n",
      "#1\n",
      "#2\n",
      "#3\n",
      "#4\n",
      "#5\n",
      "#6\n",
      "#7\n",
      "#8\n",
      "#9\n"
     ]
    },
    {
     "name": "stderr",
     "output_type": "stream",
     "text": [
      "c:\\python373\\lib\\site-packages\\ipykernel_launcher.py:3: UserWarning: genfromtxt: Empty input file: \"<_io.StringIO object at 0x0F4D9EE0>\"\n",
      "  This is separate from the ipykernel package so we can avoid doing imports until\n"
     ]
    },
    {
     "data": {
      "text/plain": [
       "array([], dtype=float64)"
      ]
     },
     "execution_count": 290,
     "metadata": {},
     "output_type": "execute_result"
    }
   ],
   "source": [
    "data = \"\\n\".join(\"#\" + str(i) for i in range(10))\n",
    "print(data)\n",
    "np.genfromtxt(StringIO(data),comments=\"#\", skip_header=3, skip_footer=5)"
   ]
  },
  {
   "cell_type": "code",
   "execution_count": 293,
   "metadata": {},
   "outputs": [
    {
     "name": "stdout",
     "output_type": "stream",
     "text": [
      "[[1. 2. 3.]\n",
      " [4. 5. 6.]]\n"
     ]
    },
    {
     "data": {
      "text/plain": [
       "array([[1., 2.],\n",
       "       [4., 5.]])"
      ]
     },
     "execution_count": 293,
     "metadata": {},
     "output_type": "execute_result"
    }
   ],
   "source": [
    "data = \"1 2 3\\n4 5 6\"\n",
    "a = np.genfromtxt(StringIO(data))\n",
    "print(a)\n",
    "np.genfromtxt(StringIO(data), usecols=(-3,-2))"
   ]
  },
  {
   "cell_type": "markdown",
   "metadata": {
    "colab_type": "text",
    "id": "XvwnrdEsVseH"
   },
   "source": [
    "## Exercises"
   ]
  },
  {
   "cell_type": "markdown",
   "metadata": {
    "colab_type": "text",
    "id": "Xf0nHJl3VseH"
   },
   "source": [
    "#### Create an array from 0 to 26 assign it to a variable x"
   ]
  },
  {
   "cell_type": "code",
   "execution_count": 0,
   "metadata": {
    "colab": {},
    "colab_type": "code",
    "id": "CFzHAXotVseI"
   },
   "outputs": [],
   "source": []
  },
  {
   "cell_type": "markdown",
   "metadata": {
    "colab_type": "text",
    "id": "gSpgRMsjVseK"
   },
   "source": [
    "#### Reverse the order of the array and print it out"
   ]
  },
  {
   "cell_type": "code",
   "execution_count": 0,
   "metadata": {
    "colab": {},
    "colab_type": "code",
    "id": "Xg3yZ1yYVseL"
   },
   "outputs": [],
   "source": []
  },
  {
   "cell_type": "markdown",
   "metadata": {
    "colab_type": "text",
    "id": "9C0WP05VVseR"
   },
   "source": [
    "#### Convert the 1-dimensional array you created into a 3 dimensional array"
   ]
  },
  {
   "cell_type": "code",
   "execution_count": 0,
   "metadata": {
    "colab": {},
    "colab_type": "code",
    "id": "S1EwyyqfVseS"
   },
   "outputs": [],
   "source": []
  },
  {
   "cell_type": "markdown",
   "metadata": {
    "colab_type": "text",
    "id": "30CSoki5VseU"
   },
   "source": [
    "#### Find the index (location) for value 12"
   ]
  },
  {
   "cell_type": "code",
   "execution_count": 0,
   "metadata": {
    "colab": {},
    "colab_type": "code",
    "id": "3en3QEIXVseV"
   },
   "outputs": [],
   "source": []
  },
  {
   "cell_type": "markdown",
   "metadata": {
    "colab_type": "text",
    "id": "aIawXcgSVseb"
   },
   "source": [
    "#### Create a random shuffled list of values from 0-19 and assign it to variable y"
   ]
  },
  {
   "cell_type": "code",
   "execution_count": 0,
   "metadata": {
    "colab": {},
    "colab_type": "code",
    "id": "G9hLCgCeVseb"
   },
   "outputs": [],
   "source": []
  },
  {
   "cell_type": "markdown",
   "metadata": {
    "colab_type": "text",
    "id": "aRe_-tIOVsee"
   },
   "source": [
    "#### Create an array of boolean values for values in y that are greater than 10"
   ]
  },
  {
   "cell_type": "code",
   "execution_count": 0,
   "metadata": {
    "colab": {},
    "colab_type": "code",
    "id": "wZ3zDBh-Vsee"
   },
   "outputs": [],
   "source": []
  },
  {
   "cell_type": "markdown",
   "metadata": {
    "colab_type": "text",
    "id": "r8XL5KlKVseg"
   },
   "source": [
    "#### Create a random sample of 20 data points from a normal distribution with mean of 10 and standard deviation 5"
   ]
  },
  {
   "cell_type": "code",
   "execution_count": 0,
   "metadata": {
    "colab": {},
    "colab_type": "code",
    "id": "zwFXB9qbVseh"
   },
   "outputs": [],
   "source": []
  }
 ],
 "metadata": {
  "colab": {
   "collapsed_sections": [],
   "name": "Numpy Tutorial.ipynb",
   "provenance": [],
   "version": "0.3.2"
  },
  "kernelspec": {
   "display_name": "Python 3",
   "language": "python",
   "name": "python3"
  },
  "language_info": {
   "codemirror_mode": {
    "name": "ipython",
    "version": 3
   },
   "file_extension": ".py",
   "mimetype": "text/x-python",
   "name": "python",
   "nbconvert_exporter": "python",
   "pygments_lexer": "ipython3",
   "version": "3.7.3"
  }
 },
 "nbformat": 4,
 "nbformat_minor": 1
}
