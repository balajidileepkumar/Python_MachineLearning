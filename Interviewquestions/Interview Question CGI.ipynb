{
 "cells": [
  {
   "cell_type": "code",
   "execution_count": null,
   "id": "1ccdb5d7",
   "metadata": {},
   "outputs": [],
   "source": [
    "S='aaabbbccaabb'\n",
    "Output ='3a3b2c2a2b'"
   ]
  },
  {
   "cell_type": "code",
   "execution_count": 34,
   "id": "5ad85924",
   "metadata": {},
   "outputs": [
    {
     "name": "stdout",
     "output_type": "stream",
     "text": [
      "3a3b2c2a2b\n"
     ]
    }
   ],
   "source": [
    "S='aaabbbccaabb'\n",
    "count = 0\n",
    "index = 0\n",
    "prev_character = ''\n",
    "outstring = ''\n",
    "\n",
    "for x in list(S):\n",
    "    if(count == 0):\n",
    "        prev_character = x\n",
    "        count = 1\n",
    "    else: \n",
    "        if(x==prev_character):\n",
    "            count += 1\n",
    "            if(index == len(S)-1):\n",
    "                outstring += str(count)+str(prev_character)\n",
    "        else: \n",
    "            outstring += str(count)+str(prev_character)\n",
    "            count = 1\n",
    "            prev_character = x\n",
    "    index +=1\n",
    "print(outstring)       \n",
    "    "
   ]
  },
  {
   "cell_type": "code",
   "execution_count": 37,
   "id": "f7e7fb39",
   "metadata": {},
   "outputs": [],
   "source": [
    "S\n",
    "from functools import reduce\n",
    "list_input = list(S)\n",
    "filter()"
   ]
  }
 ],
 "metadata": {
  "kernelspec": {
   "display_name": "Python 3 (ipykernel)",
   "language": "python",
   "name": "python3"
  },
  "language_info": {
   "codemirror_mode": {
    "name": "ipython",
    "version": 3
   },
   "file_extension": ".py",
   "mimetype": "text/x-python",
   "name": "python",
   "nbconvert_exporter": "python",
   "pygments_lexer": "ipython3",
   "version": "3.10.4"
  }
 },
 "nbformat": 4,
 "nbformat_minor": 5
}
