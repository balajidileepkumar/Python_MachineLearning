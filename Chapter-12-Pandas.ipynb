{
 "cells": [
  {
   "cell_type": "markdown",
   "metadata": {},
   "source": [
    "#### Installing Pandas\n",
    "pip install pandas "
   ]
  },
  {
   "cell_type": "markdown",
   "metadata": {},
   "source": [
    "### Reference Link for pandas\n",
    "<a href=\"https://pandas.pydata.org/pandas-docs/stable/reference/index.html\">API reference Pandas</a>"
   ]
  },
  {
   "cell_type": "markdown",
   "metadata": {},
   "source": [
    "# Importing pandas into your application"
   ]
  },
  {
   "cell_type": "code",
   "execution_count": 4,
   "metadata": {},
   "outputs": [],
   "source": [
    "# import numpy and pandas, and DataFrame / Series\n",
    "import numpy as np\n",
    "import pandas as pd\n",
    "from pandas import DataFrame, Series\n",
    "\n",
    "# Set some pandas options\n",
    "pd.set_option('display.notebook_repr_html', False)\n",
    "pd.set_option('display.max_columns', 100)\n",
    "pd.set_option('display.max_rows', 100)\n",
    "\n",
    "# And some items for matplotlib\n",
    "#%matplotlib inline \n",
    "#import matplotlib.pyplot as plt\n",
    "#pd.options.display.mpl_style = 'default'"
   ]
  },
  {
   "cell_type": "markdown",
   "metadata": {},
   "source": [
    "# Primary pandas objects"
   ]
  },
  {
   "cell_type": "markdown",
   "metadata": {},
   "source": [
    "## The pandas Series"
   ]
  },
  {
   "cell_type": "code",
   "execution_count": 21,
   "metadata": {},
   "outputs": [
    {
     "data": {
      "text/plain": [
       "0    5\n",
       "1    8\n",
       "2    3\n",
       "3    4\n",
       "dtype: int64"
      ]
     },
     "execution_count": 21,
     "metadata": {},
     "output_type": "execute_result"
    }
   ],
   "source": [
    "# create a four item Series\n",
    "s = Series([5, 8, 3, 4])\n",
    "s"
   ]
  },
  {
   "cell_type": "code",
   "execution_count": 24,
   "metadata": {},
   "outputs": [
    {
     "data": {
      "text/plain": [
       "Index(['a', 'b', 'c', 'd'], dtype='object')"
      ]
     },
     "execution_count": 24,
     "metadata": {},
     "output_type": "execute_result"
    }
   ],
   "source": [
    "s.index"
   ]
  },
  {
   "cell_type": "code",
   "execution_count": 11,
   "metadata": {},
   "outputs": [
    {
     "data": {
      "text/plain": [
       "1    8\n",
       "3    4\n",
       "dtype: int64"
      ]
     },
     "execution_count": 11,
     "metadata": {},
     "output_type": "execute_result"
    }
   ],
   "source": [
    "# return a Series with the row with labels 1 and 3\n",
    "s[[1,3]]"
   ]
  },
  {
   "cell_type": "code",
   "execution_count": 23,
   "metadata": {},
   "outputs": [
    {
     "data": {
      "text/plain": [
       "a    5\n",
       "b    8\n",
       "c    3\n",
       "d    4\n",
       "dtype: int64"
      ]
     },
     "execution_count": 23,
     "metadata": {},
     "output_type": "execute_result"
    }
   ],
   "source": [
    "# create a series using an explicit index\n",
    "s = Series([5, 8, 3, 4], index = ['a', 'b', 'c', 'd'])\n",
    "s"
   ]
  },
  {
   "cell_type": "code",
   "execution_count": 17,
   "metadata": {},
   "outputs": [
    {
     "data": {
      "text/plain": [
       "b    8\n",
       "d    4\n",
       "dtype: int64"
      ]
     },
     "execution_count": 17,
     "metadata": {},
     "output_type": "execute_result"
    }
   ],
   "source": [
    "# look up items the series having index 'a' and 'd'\n",
    "s[['b', 'd']]"
   ]
  },
  {
   "cell_type": "code",
   "execution_count": 19,
   "metadata": {},
   "outputs": [
    {
     "data": {
      "text/plain": [
       "b    8\n",
       "d    4\n",
       "dtype: int64"
      ]
     },
     "execution_count": 19,
     "metadata": {},
     "output_type": "execute_result"
    }
   ],
   "source": [
    "# passing a list of integers to a Series that has\n",
    "# non-integer index labels will look up based upon\n",
    "# 0-based index like an array\n",
    "s[[1, 3]]"
   ]
  },
  {
   "cell_type": "code",
   "execution_count": 20,
   "metadata": {},
   "outputs": [
    {
     "data": {
      "text/plain": [
       "Index(['a', 'b', 'c', 'd'], dtype='object')"
      ]
     },
     "execution_count": 20,
     "metadata": {},
     "output_type": "execute_result"
    }
   ],
   "source": [
    "# get only the index of the Series\n",
    "s.index"
   ]
  },
  {
   "cell_type": "code",
   "execution_count": 25,
   "metadata": {},
   "outputs": [
    {
     "data": {
      "text/plain": [
       "2014-07-01    80\n",
       "2014-07-02    82\n",
       "2014-07-03    85\n",
       "2014-07-04    90\n",
       "2014-07-05    83\n",
       "2014-07-06    87\n",
       "Freq: D, dtype: int64"
      ]
     },
     "execution_count": 25,
     "metadata": {},
     "output_type": "execute_result"
    }
   ],
   "source": [
    "# create a Series who's index is a series of dates\n",
    "# between the two specified dates (inclusive)\n",
    "dates = pd.date_range('2014-07-01', '2014-07-06')\n",
    "dates1 = pd.date_range('2014-07-02', '2014-07-07')\n",
    "dates\n",
    "\n",
    "# create a Series with values (representing temperatures)\n",
    "# for each date in the index\n",
    "temps1 = Series([80, 82, 85, 90, 83, 87], \n",
    "                index = dates)\n",
    "temps1"
   ]
  },
  {
   "cell_type": "code",
   "execution_count": 26,
   "metadata": {},
   "outputs": [
    {
     "data": {
      "text/plain": [
       "84.5"
      ]
     },
     "execution_count": 26,
     "metadata": {},
     "output_type": "execute_result"
    }
   ],
   "source": [
    "# calculate the mean of the values in the Series\n",
    "temps1.mean()"
   ]
  },
  {
   "cell_type": "code",
   "execution_count": 27,
   "metadata": {},
   "outputs": [
    {
     "data": {
      "text/plain": [
       "90"
      ]
     },
     "execution_count": 27,
     "metadata": {},
     "output_type": "execute_result"
    }
   ],
   "source": [
    "temps1.max()"
   ]
  },
  {
   "cell_type": "code",
   "execution_count": 28,
   "metadata": {},
   "outputs": [
    {
     "data": {
      "text/plain": [
       "80"
      ]
     },
     "execution_count": 28,
     "metadata": {},
     "output_type": "execute_result"
    }
   ],
   "source": [
    "temps1.min()"
   ]
  },
  {
   "cell_type": "code",
   "execution_count": 29,
   "metadata": {},
   "outputs": [
    {
     "data": {
      "text/plain": [
       "507"
      ]
     },
     "execution_count": 29,
     "metadata": {},
     "output_type": "execute_result"
    }
   ],
   "source": [
    "temps1.sum()"
   ]
  },
  {
   "cell_type": "code",
   "execution_count": 30,
   "metadata": {},
   "outputs": [
    {
     "data": {
      "text/plain": [
       "2014-07-01     80\n",
       "2014-07-02    162\n",
       "2014-07-03    247\n",
       "2014-07-04    337\n",
       "2014-07-05    420\n",
       "2014-07-06    507\n",
       "Freq: D, dtype: int64"
      ]
     },
     "execution_count": 30,
     "metadata": {},
     "output_type": "execute_result"
    }
   ],
   "source": [
    "temps1.cumsum()"
   ]
  },
  {
   "cell_type": "code",
   "execution_count": 31,
   "metadata": {},
   "outputs": [
    {
     "data": {
      "text/plain": [
       "2014-07-01     NaN\n",
       "2014-07-02    12.0\n",
       "2014-07-03    10.0\n",
       "2014-07-04    21.0\n",
       "2014-07-05     0.0\n",
       "2014-07-06     8.0\n",
       "2014-07-07     NaN\n",
       "Freq: D, dtype: float64"
      ]
     },
     "execution_count": 31,
     "metadata": {},
     "output_type": "execute_result"
    }
   ],
   "source": [
    "# create a second series of values using the same index\n",
    "temps2 = Series([70, 75, 69, 83, 79, 77], \n",
    "                index = dates1)"
   ]
  },
  {
   "cell_type": "code",
   "execution_count": 33,
   "metadata": {},
   "outputs": [
    {
     "name": "stdout",
     "output_type": "stream",
     "text": [
      "2014-07-01    80\n",
      "2014-07-02    82\n",
      "2014-07-03    85\n",
      "2014-07-04    90\n",
      "2014-07-05    83\n",
      "2014-07-06    87\n",
      "Freq: D, dtype: int64\n"
     ]
    }
   ],
   "source": [
    "print(temps1)"
   ]
  },
  {
   "cell_type": "code",
   "execution_count": 32,
   "metadata": {},
   "outputs": [
    {
     "name": "stdout",
     "output_type": "stream",
     "text": [
      "2014-07-02    70\n",
      "2014-07-03    75\n",
      "2014-07-04    69\n",
      "2014-07-05    83\n",
      "2014-07-06    79\n",
      "2014-07-07    77\n",
      "Freq: D, dtype: int64\n"
     ]
    }
   ],
   "source": [
    "print(temps2)"
   ]
  },
  {
   "cell_type": "code",
   "execution_count": 36,
   "metadata": {},
   "outputs": [
    {
     "name": "stdout",
     "output_type": "stream",
     "text": [
      "<class 'pandas.core.series.Series'>\n"
     ]
    },
    {
     "data": {
      "text/plain": [
       "2014-07-01     NaN\n",
       "2014-07-02    12.0\n",
       "2014-07-03    10.0\n",
       "2014-07-04    21.0\n",
       "2014-07-05     0.0\n",
       "2014-07-06     8.0\n",
       "2014-07-07     NaN\n",
       "Freq: D, dtype: float64"
      ]
     },
     "execution_count": 36,
     "metadata": {},
     "output_type": "execute_result"
    }
   ],
   "source": [
    "\n",
    "# the following aligns the two by their index values\n",
    "# and calculates the difference at those matching labels\n",
    "temp_diffs = temps1 - temps2\n",
    "print(type(temp_diffs))\n",
    "temp_diffs\n"
   ]
  },
  {
   "cell_type": "code",
   "execution_count": 35,
   "metadata": {},
   "outputs": [
    {
     "data": {
      "text/plain": [
       "10.0"
      ]
     },
     "execution_count": 35,
     "metadata": {},
     "output_type": "execute_result"
    }
   ],
   "source": [
    "# lookup a value by date using the index\n",
    "temp_diffs['2014-07-03']"
   ]
  },
  {
   "cell_type": "code",
   "execution_count": 38,
   "metadata": {},
   "outputs": [
    {
     "data": {
      "text/plain": [
       "21.0"
      ]
     },
     "execution_count": 38,
     "metadata": {},
     "output_type": "execute_result"
    }
   ],
   "source": [
    "# and also possible by integer position as if the \n",
    "# series was an array\n",
    "temp_diffs[3]"
   ]
  },
  {
   "cell_type": "markdown",
   "metadata": {},
   "source": [
    "## The pandas DataFrame"
   ]
  },
  {
   "cell_type": "code",
   "execution_count": 40,
   "metadata": {},
   "outputs": [
    {
     "name": "stdout",
     "output_type": "stream",
     "text": [
      "<class 'pandas.core.frame.DataFrame'>\n"
     ]
    },
    {
     "data": {
      "text/plain": [
       "            Missoula  Philadelphia\n",
       "2014-07-01      80.0           NaN\n",
       "2014-07-02      82.0          70.0\n",
       "2014-07-03      85.0          75.0\n",
       "2014-07-04      90.0          69.0\n",
       "2014-07-05      83.0          83.0\n",
       "2014-07-06      87.0          79.0\n",
       "2014-07-07       NaN          77.0"
      ]
     },
     "execution_count": 40,
     "metadata": {},
     "output_type": "execute_result"
    }
   ],
   "source": [
    "# create a DataFrame from the two series objects temp1 and temp2\n",
    "# and give them column names\n",
    "temps_df = DataFrame(\n",
    "            {'Missoula': temps1, \n",
    "             'Philadelphia': temps2})\n",
    "print(type(temps_df))\n",
    "temps_df"
   ]
  },
  {
   "cell_type": "code",
   "execution_count": 26,
   "metadata": {},
   "outputs": [
    {
     "data": {
      "text/plain": [
       "2014-07-01    80.0\n",
       "2014-07-02    82.0\n",
       "2014-07-03    85.0\n",
       "2014-07-04    90.0\n",
       "2014-07-05    83.0\n",
       "2014-07-06    87.0\n",
       "2014-07-07     NaN\n",
       "Freq: D, Name: Missoula, dtype: float64"
      ]
     },
     "execution_count": 26,
     "metadata": {},
     "output_type": "execute_result"
    }
   ],
   "source": [
    "# get the column with the name Missoula\n",
    "temps_df['Missoula']"
   ]
  },
  {
   "cell_type": "code",
   "execution_count": 41,
   "metadata": {},
   "outputs": [
    {
     "data": {
      "text/plain": [
       "2014-07-01     NaN\n",
       "2014-07-02    70.0\n",
       "2014-07-03    75.0\n",
       "2014-07-04    69.0\n",
       "2014-07-05    83.0\n",
       "2014-07-06    79.0\n",
       "2014-07-07    77.0\n",
       "Freq: D, Name: Philadelphia, dtype: float64"
      ]
     },
     "execution_count": 41,
     "metadata": {},
     "output_type": "execute_result"
    }
   ],
   "source": [
    "# likewise we can get just the Philadelphia column\n",
    "temps_df['Philadelphia']"
   ]
  },
  {
   "cell_type": "code",
   "execution_count": 47,
   "metadata": {},
   "outputs": [
    {
     "name": "stdout",
     "output_type": "stream",
     "text": [
      "<class 'pandas.core.frame.DataFrame'>\n"
     ]
    }
   ],
   "source": [
    "# return both columns in a different order\n",
    "x = temps_df[['Philadelphia', 'Missoula']]\n",
    "print(type(x))"
   ]
  },
  {
   "cell_type": "code",
   "execution_count": 52,
   "metadata": {},
   "outputs": [
    {
     "name": "stdout",
     "output_type": "stream",
     "text": [
      "<class 'pandas.core.series.Series'>\n"
     ]
    }
   ],
   "source": [
    "x = temps_df['Missoula']\n",
    "print(type(x))"
   ]
  },
  {
   "cell_type": "code",
   "execution_count": 54,
   "metadata": {},
   "outputs": [
    {
     "name": "stdout",
     "output_type": "stream",
     "text": [
      "<class 'pandas.core.series.Series'>\n"
     ]
    },
    {
     "data": {
      "text/plain": [
       "2014-07-01    80.0\n",
       "2014-07-02    82.0\n",
       "2014-07-03    85.0\n",
       "2014-07-04    90.0\n",
       "2014-07-05    83.0\n",
       "2014-07-06    87.0\n",
       "2014-07-07     NaN\n",
       "Freq: D, Name: Missoula, dtype: float64"
      ]
     },
     "execution_count": 54,
     "metadata": {},
     "output_type": "execute_result"
    }
   ],
   "source": [
    "# retrieve the Missoula column through property syntax\n",
    "print(type(temps_df.Missoula))\n",
    "temps_df.Missoula"
   ]
  },
  {
   "cell_type": "code",
   "execution_count": 33,
   "metadata": {},
   "outputs": [
    {
     "data": {
      "text/plain": [
       "2014-07-01     NaN\n",
       "2014-07-02    12.0\n",
       "2014-07-03    10.0\n",
       "2014-07-04    21.0\n",
       "2014-07-05     0.0\n",
       "2014-07-06     8.0\n",
       "2014-07-07     NaN\n",
       "Freq: D, dtype: float64"
      ]
     },
     "execution_count": 33,
     "metadata": {},
     "output_type": "execute_result"
    }
   ],
   "source": [
    "# calculate the temperature difference between the two cities\n",
    "temps_df.Missoula - temps_df.Philadelphia"
   ]
  },
  {
   "cell_type": "code",
   "execution_count": 58,
   "metadata": {},
   "outputs": [
    {
     "data": {
      "text/plain": [
       "            Missoula  Philadelphia  Difference  Difference1  Difference2  \\\n",
       "2014-07-01      80.0           NaN         NaN          NaN          NaN   \n",
       "2014-07-02      82.0          70.0        12.0         12.0         12.0   \n",
       "2014-07-03      85.0          75.0        10.0         10.0         10.0   \n",
       "2014-07-04      90.0          69.0        21.0         21.0         21.0   \n",
       "2014-07-05      83.0          83.0         0.0          0.0          0.0   \n",
       "2014-07-06      87.0          79.0         8.0          8.0          8.0   \n",
       "2014-07-07       NaN          77.0         NaN          NaN          NaN   \n",
       "\n",
       "            Difference3  \n",
       "2014-07-01          NaN  \n",
       "2014-07-02         12.0  \n",
       "2014-07-03         10.0  \n",
       "2014-07-04         21.0  \n",
       "2014-07-05          0.0  \n",
       "2014-07-06          8.0  \n",
       "2014-07-07          NaN  "
      ]
     },
     "execution_count": 58,
     "metadata": {},
     "output_type": "execute_result"
    }
   ],
   "source": [
    "# add a column to temp_df which contains the difference in temps\n",
    "temps_df['Difference'] = temp_diffs\n",
    "temps_df['Difference1'] = temps_df.Missoula - temps_df.Philadelphia\n",
    "temps_df"
   ]
  },
  {
   "cell_type": "code",
   "execution_count": 59,
   "metadata": {},
   "outputs": [
    {
     "data": {
      "text/plain": [
       "Index(['Missoula', 'Philadelphia', 'Difference', 'Difference1', 'Difference2',\n",
       "       'Difference3'],\n",
       "      dtype='object')"
      ]
     },
     "execution_count": 59,
     "metadata": {},
     "output_type": "execute_result"
    }
   ],
   "source": [
    "# get the columns, which is also an Index object\n",
    "temps_df.columns"
   ]
  },
  {
   "cell_type": "code",
   "execution_count": 64,
   "metadata": {},
   "outputs": [
    {
     "data": {
      "text/plain": [
       "2014-07-02    12.0\n",
       "2014-07-03    10.0\n",
       "2014-07-04    21.0\n",
       "2014-07-05     0.0\n",
       "Freq: D, Name: Difference, dtype: float64"
      ]
     },
     "execution_count": 64,
     "metadata": {},
     "output_type": "execute_result"
    }
   ],
   "source": [
    "# slice the temp differences column for the rows at \n",
    "# location 1 through 4 (as though it is an array)\n",
    "temps_df.Difference[1:5]"
   ]
  },
  {
   "cell_type": "code",
   "execution_count": 69,
   "metadata": {},
   "outputs": [
    {
     "data": {
      "text/plain": [
       "            Missoula  Philadelphia  Difference  Difference1  Difference2  \\\n",
       "2014-07-02      82.0          70.0        12.0         12.0         12.0   \n",
       "2014-07-03      85.0          75.0        10.0         10.0         10.0   \n",
       "2014-07-04      90.0          69.0        21.0         21.0         21.0   \n",
       "2014-07-05      83.0          83.0         0.0          0.0          0.0   \n",
       "2014-07-06      87.0          79.0         8.0          8.0          8.0   \n",
       "\n",
       "            Difference3  \n",
       "2014-07-02         12.0  \n",
       "2014-07-03         10.0  \n",
       "2014-07-04         21.0  \n",
       "2014-07-05          0.0  \n",
       "2014-07-06          8.0  "
      ]
     },
     "execution_count": 69,
     "metadata": {},
     "output_type": "execute_result"
    }
   ],
   "source": [
    "# get the row at array position 1\n",
    "temps_df.iloc[6]"
   ]
  },
  {
   "cell_type": "code",
   "execution_count": 70,
   "metadata": {},
   "outputs": [
    {
     "data": {
      "text/plain": [
       "            Missoula  Philadelphia  Difference  Difference1  Difference2  \\\n",
       "2014-07-02      82.0          70.0        12.0         12.0         12.0   \n",
       "2014-07-03      85.0          75.0        10.0         10.0         10.0   \n",
       "2014-07-04      90.0          69.0        21.0         21.0         21.0   \n",
       "2014-07-05      83.0          83.0         0.0          0.0          0.0   \n",
       "2014-07-06      87.0          79.0         8.0          8.0          8.0   \n",
       "\n",
       "            Difference3  \n",
       "2014-07-02         12.0  \n",
       "2014-07-03         10.0  \n",
       "2014-07-04         21.0  \n",
       "2014-07-05          0.0  \n",
       "2014-07-06          8.0  "
      ]
     },
     "execution_count": 70,
     "metadata": {},
     "output_type": "execute_result"
    }
   ],
   "source": [
    "# get the row at array position 1\n",
    "temps_df.iloc[1:6]"
   ]
  },
  {
   "cell_type": "code",
   "execution_count": 48,
   "metadata": {},
   "outputs": [
    {
     "data": {
      "text/plain": [
       "            Missoula  Philadelphia  Difference  Difference1\n",
       "2014-07-02      82.0          70.0        12.0         12.0\n",
       "2014-07-04      90.0          69.0        21.0         21.0"
      ]
     },
     "execution_count": 48,
     "metadata": {},
     "output_type": "execute_result"
    }
   ],
   "source": [
    "temps_df.iloc[1:5:2]"
   ]
  },
  {
   "cell_type": "code",
   "execution_count": 72,
   "metadata": {},
   "outputs": [
    {
     "name": "stdout",
     "output_type": "stream",
     "text": [
      "            Missoula  Philadelphia  Difference  Difference1  Difference2  \\\n",
      "2014-07-01      80.0           NaN         NaN          NaN          NaN   \n",
      "2014-07-02      82.0          70.0        12.0         12.0         12.0   \n",
      "2014-07-03      85.0          75.0        10.0         10.0         10.0   \n",
      "2014-07-04      90.0          69.0        21.0         21.0         21.0   \n",
      "2014-07-05      83.0          83.0         0.0          0.0          0.0   \n",
      "2014-07-06      87.0          79.0         8.0          8.0          8.0   \n",
      "2014-07-07       NaN          77.0         NaN          NaN          NaN   \n",
      "\n",
      "            Difference3  \n",
      "2014-07-01          NaN  \n",
      "2014-07-02         12.0  \n",
      "2014-07-03         10.0  \n",
      "2014-07-04         21.0  \n",
      "2014-07-05          0.0  \n",
      "2014-07-06          8.0  \n",
      "2014-07-07          NaN  \n"
     ]
    },
    {
     "name": "stderr",
     "output_type": "stream",
     "text": [
      "c:\\python373\\lib\\site-packages\\ipykernel_launcher.py:4: DeprecationWarning: \n",
      ".ix is deprecated. Please use\n",
      ".loc for label based indexing or\n",
      ".iloc for positional indexing\n",
      "\n",
      "See the documentation here:\n",
      "http://pandas.pydata.org/pandas-docs/stable/indexing.html#ix-indexer-is-deprecated\n",
      "  after removing the cwd from sys.path.\n"
     ]
    },
    {
     "data": {
      "text/plain": [
       "            Missoula  Philadelphia  Difference  Difference1  Difference2  \\\n",
       "2014-07-02      82.0          70.0        12.0         12.0         12.0   \n",
       "2014-07-05      83.0          83.0         0.0          0.0          0.0   \n",
       "\n",
       "            Difference3  \n",
       "2014-07-02         12.0  \n",
       "2014-07-05          0.0  "
      ]
     },
     "execution_count": 72,
     "metadata": {},
     "output_type": "execute_result"
    }
   ],
   "source": [
    "# the names of the columns have become the index\n",
    "# they have been 'pivoted'\n",
    "print(temps_df)\n",
    "temps_df.ix[1:5:3]"
   ]
  },
  {
   "cell_type": "code",
   "execution_count": 124,
   "metadata": {},
   "outputs": [
    {
     "data": {
      "text/plain": [
       "Missoula        85.0\n",
       "Philadelphia    75.0\n",
       "Difference      10.0\n",
       "Difference1     10.0\n",
       "Difference2     10.0\n",
       "Difference3     10.0\n",
       "Name: 2014-07-03 00:00:00, dtype: float64"
      ]
     },
     "execution_count": 124,
     "metadata": {},
     "output_type": "execute_result"
    }
   ],
   "source": [
    "# retrieve row by index label using .loc\n",
    "temps_df.loc['2014-07-03']"
   ]
  },
  {
   "cell_type": "code",
   "execution_count": 125,
   "metadata": {},
   "outputs": [
    {
     "data": {
      "text/plain": [
       "            Missoula  Philadelphia  Difference  Difference1  Difference2  \\\n",
       "2014-07-01      80.0           NaN         NaN          NaN          NaN   \n",
       "2014-07-02      82.0          70.0        12.0         12.0         12.0   \n",
       "2014-07-03      85.0          75.0        10.0         10.0         10.0   \n",
       "2014-07-04      90.0          69.0        21.0         21.0         21.0   \n",
       "2014-07-05      83.0          83.0         0.0          0.0          0.0   \n",
       "2014-07-06      87.0          79.0         8.0          8.0          8.0   \n",
       "2014-07-07       NaN          77.0         NaN          NaN          NaN   \n",
       "\n",
       "            Difference3  \n",
       "2014-07-01          NaN  \n",
       "2014-07-02         12.0  \n",
       "2014-07-03         10.0  \n",
       "2014-07-04         21.0  \n",
       "2014-07-05          0.0  \n",
       "2014-07-06          8.0  \n",
       "2014-07-07          NaN  "
      ]
     },
     "execution_count": 125,
     "metadata": {},
     "output_type": "execute_result"
    }
   ],
   "source": [
    "temps_df"
   ]
  },
  {
   "cell_type": "code",
   "execution_count": 126,
   "metadata": {},
   "outputs": [
    {
     "data": {
      "text/plain": [
       "2014-07-02    12.0\n",
       "2014-07-04    21.0\n",
       "2014-07-06     8.0\n",
       "Name: Difference, dtype: float64"
      ]
     },
     "execution_count": 126,
     "metadata": {},
     "output_type": "execute_result"
    }
   ],
   "source": [
    "temps_df.Difference[[1,3,5]]"
   ]
  },
  {
   "cell_type": "code",
   "execution_count": 80,
   "metadata": {
    "scrolled": true
   },
   "outputs": [
    {
     "data": {
      "text/plain": [
       "2014-07-02    12.0\n",
       "2014-07-04    21.0\n",
       "2014-07-06     8.0\n",
       "Freq: 2D, Name: Difference, dtype: float64"
      ]
     },
     "execution_count": 80,
     "metadata": {},
     "output_type": "execute_result"
    }
   ],
   "source": [
    "# get the values in the Differences column in tows 1, 3 and 5\n",
    "# using 0-based location\n",
    "temps_df.iloc[[1, 3, 5]].Difference"
   ]
  },
  {
   "cell_type": "code",
   "execution_count": 82,
   "metadata": {},
   "outputs": [
    {
     "data": {
      "text/plain": [
       "            Missoula  Philadelphia  Difference  Difference1  Difference2  \\\n",
       "2014-07-01     False         False       False        False        False   \n",
       "2014-07-02     False         False       False        False        False   \n",
       "2014-07-03      True         False       False        False        False   \n",
       "2014-07-04      True         False       False        False        False   \n",
       "2014-07-05      True          True       False        False        False   \n",
       "2014-07-06      True         False       False        False        False   \n",
       "2014-07-07     False         False       False        False        False   \n",
       "\n",
       "            Difference3  \n",
       "2014-07-01        False  \n",
       "2014-07-02        False  \n",
       "2014-07-03        False  \n",
       "2014-07-04        False  \n",
       "2014-07-05        False  \n",
       "2014-07-06        False  \n",
       "2014-07-07        False  "
      ]
     },
     "execution_count": 82,
     "metadata": {},
     "output_type": "execute_result"
    }
   ],
   "source": [
    "temps_df>82"
   ]
  },
  {
   "cell_type": "code",
   "execution_count": 84,
   "metadata": {},
   "outputs": [
    {
     "data": {
      "text/plain": [
       "            Missoula  Philadelphia  Difference  Difference1  Difference2  \\\n",
       "2014-07-01      80.0           NaN         NaN          NaN          NaN   \n",
       "2014-07-02      82.0          70.0        12.0         12.0         12.0   \n",
       "2014-07-03      85.0          75.0        10.0         10.0         10.0   \n",
       "2014-07-04      90.0          69.0        21.0         21.0         21.0   \n",
       "2014-07-05      83.0          83.0         NaN          NaN          NaN   \n",
       "2014-07-06      87.0          79.0         8.0          8.0          8.0   \n",
       "2014-07-07       NaN          77.0         NaN          NaN          NaN   \n",
       "\n",
       "            Difference3  \n",
       "2014-07-01          NaN  \n",
       "2014-07-02         12.0  \n",
       "2014-07-03         10.0  \n",
       "2014-07-04         21.0  \n",
       "2014-07-05          NaN  \n",
       "2014-07-06          8.0  \n",
       "2014-07-07          NaN  "
      ]
     },
     "execution_count": 84,
     "metadata": {},
     "output_type": "execute_result"
    }
   ],
   "source": [
    "temps_df[temps_df>5]"
   ]
  },
  {
   "cell_type": "code",
   "execution_count": 81,
   "metadata": {},
   "outputs": [
    {
     "data": {
      "text/plain": [
       "2014-07-01    False\n",
       "2014-07-02    False\n",
       "2014-07-03     True\n",
       "2014-07-04     True\n",
       "2014-07-05     True\n",
       "2014-07-06     True\n",
       "2014-07-07    False\n",
       "Freq: D, Name: Missoula, dtype: bool"
      ]
     },
     "execution_count": 81,
     "metadata": {},
     "output_type": "execute_result"
    }
   ],
   "source": [
    "# which values in the Missoula column are > 82?\n",
    "temps_df.Missoula > 82"
   ]
  },
  {
   "cell_type": "code",
   "execution_count": 56,
   "metadata": {},
   "outputs": [
    {
     "data": {
      "text/plain": [
       "            Missoula  Philadelphia  Difference  Difference1\n",
       "2014-07-03      85.0          75.0        10.0         10.0\n",
       "2014-07-04      90.0          69.0        21.0         21.0\n",
       "2014-07-05      83.0          83.0         0.0          0.0\n",
       "2014-07-06      87.0          79.0         8.0          8.0"
      ]
     },
     "execution_count": 56,
     "metadata": {},
     "output_type": "execute_result"
    }
   ],
   "source": [
    "# return the rows where the temps for Missoula > 82\n",
    "temps_df[temps_df.Missoula > 82]"
   ]
  },
  {
   "cell_type": "code",
   "execution_count": 85,
   "metadata": {},
   "outputs": [
    {
     "data": {
      "text/plain": [
       "            Missoula  Philadelphia  Difference  Difference1  Difference2  \\\n",
       "2014-07-01      80.0           NaN         NaN          NaN          NaN   \n",
       "2014-07-02      82.0          70.0        12.0         12.0         12.0   \n",
       "2014-07-03      85.0          75.0        10.0         10.0         10.0   \n",
       "2014-07-04      90.0          69.0        21.0         21.0         21.0   \n",
       "2014-07-05      83.0          83.0         0.0          0.0          0.0   \n",
       "\n",
       "            Difference3  \n",
       "2014-07-01          NaN  \n",
       "2014-07-02         12.0  \n",
       "2014-07-03         10.0  \n",
       "2014-07-04         21.0  \n",
       "2014-07-05          0.0  "
      ]
     },
     "execution_count": 85,
     "metadata": {},
     "output_type": "execute_result"
    }
   ],
   "source": [
    "###### provides default 5 values from top\n",
    "temps_df.head()"
   ]
  },
  {
   "cell_type": "code",
   "execution_count": 87,
   "metadata": {},
   "outputs": [
    {
     "data": {
      "text/plain": [
       "            Missoula  Philadelphia  Difference  Difference1  Difference2  \\\n",
       "2014-07-01      80.0           NaN         NaN          NaN          NaN   \n",
       "2014-07-02      82.0          70.0        12.0         12.0         12.0   \n",
       "2014-07-03      85.0          75.0        10.0         10.0         10.0   \n",
       "\n",
       "            Difference3  \n",
       "2014-07-01          NaN  \n",
       "2014-07-02         12.0  \n",
       "2014-07-03         10.0  "
      ]
     },
     "execution_count": 87,
     "metadata": {},
     "output_type": "execute_result"
    }
   ],
   "source": [
    "###### provides default 6 values from top\n",
    "temps_df.head(3)"
   ]
  },
  {
   "cell_type": "code",
   "execution_count": 89,
   "metadata": {},
   "outputs": [
    {
     "data": {
      "text/plain": [
       "            Missoula  Philadelphia  Difference  Difference1  Difference2  \\\n",
       "2014-07-06      87.0          79.0         8.0          8.0          8.0   \n",
       "2014-07-07       NaN          77.0         NaN          NaN          NaN   \n",
       "\n",
       "            Difference3  \n",
       "2014-07-06          8.0  \n",
       "2014-07-07          NaN  "
      ]
     },
     "execution_count": 89,
     "metadata": {},
     "output_type": "execute_result"
    }
   ],
   "source": [
    "###### provides default 6 values from top\n",
    "temps_df.tail(2)"
   ]
  },
  {
   "cell_type": "markdown",
   "metadata": {},
   "source": [
    "# Loading data from files and the web into a DataFrame"
   ]
  },
  {
   "cell_type": "code",
   "execution_count": 90,
   "metadata": {},
   "outputs": [
    {
     "name": "stderr",
     "output_type": "stream",
     "text": [
      "'cat' is not recognized as an internal or external command,\n",
      "operable program or batch file.\n"
     ]
    }
   ],
   "source": [
    "# display the contents of test1.csv\n",
    "# which command to use depends on your OS\n",
    "!cat data/test1.csv # on non-windows systems\n",
    "#!type data/test1.csv # on windows systems"
   ]
  },
  {
   "cell_type": "markdown",
   "metadata": {},
   "source": [
    "###### Accessing Data"
   ]
  },
  {
   "cell_type": "code",
   "execution_count": 91,
   "metadata": {},
   "outputs": [
    {
     "data": {
      "text/plain": [
       "                  date         0         1         2\n",
       "0  2000-01-01 00:00:00  1.103763 -1.909979 -0.808956\n",
       "1  2000-01-02 00:00:00  1.188917  0.581120  0.861597\n",
       "2  2000-01-03 00:00:00 -0.964200  0.779764  1.829062\n",
       "3  2000-01-04 00:00:00  0.782130 -1.720670 -1.108242\n",
       "4  2000-01-05 00:00:00 -1.867017 -0.528368 -2.488309\n",
       "5  2000-01-06 00:00:00  2.569280 -0.471901 -0.835033\n",
       "6  2000-01-07 00:00:00 -0.399323 -0.676427 -0.011256\n",
       "7  2000-01-08 00:00:00  1.642993  1.013420  1.435667\n",
       "8  2000-01-09 00:00:00  1.147308  2.138000  0.554171\n",
       "9  2000-01-10 00:00:00  0.933766  1.387155 -0.560143"
      ]
     },
     "execution_count": 91,
     "metadata": {},
     "output_type": "execute_result"
    }
   ],
   "source": [
    "# read the contents of the file into a DataFrame\n",
    "df = pd.read_csv('test1.csv')\n",
    "df"
   ]
  },
  {
   "cell_type": "code",
   "execution_count": 95,
   "metadata": {},
   "outputs": [
    {
     "ename": "SyntaxError",
     "evalue": "invalid syntax (<ipython-input-95-03e6522cb641>, line 1)",
     "output_type": "error",
     "traceback": [
      "\u001b[1;36m  File \u001b[1;32m\"<ipython-input-95-03e6522cb641>\"\u001b[1;36m, line \u001b[1;32m1\u001b[0m\n\u001b[1;33m    eval(df.0)\u001b[0m\n\u001b[1;37m            ^\u001b[0m\n\u001b[1;31mSyntaxError\u001b[0m\u001b[1;31m:\u001b[0m invalid syntax\n"
     ]
    }
   ],
   "source": [
    "eval(df.0)"
   ]
  },
  {
   "cell_type": "code",
   "execution_count": 96,
   "metadata": {},
   "outputs": [
    {
     "data": {
      "text/plain": [
       "          0         2\n",
       "0  1.103763 -0.808956\n",
       "1  1.188917  0.861597\n",
       "2 -0.964200  1.829062\n",
       "3  0.782130 -1.108242\n",
       "4 -1.867017 -2.488309\n",
       "5  2.569280 -0.835033\n",
       "6 -0.399323 -0.011256\n",
       "7  1.642993  1.435667\n",
       "8  1.147308  0.554171\n",
       "9  0.933766 -0.560143"
      ]
     },
     "execution_count": 96,
     "metadata": {},
     "output_type": "execute_result"
    }
   ],
   "source": [
    "# the contents of the date column\n",
    "df[[\"0\",\"2\"]]"
   ]
  },
  {
   "cell_type": "code",
   "execution_count": 97,
   "metadata": {},
   "outputs": [
    {
     "data": {
      "text/plain": [
       "'2000-01-01 00:00:00'"
      ]
     },
     "execution_count": 97,
     "metadata": {},
     "output_type": "execute_result"
    }
   ],
   "source": [
    "# we can get the first value in the date column\n",
    "df.date[0]"
   ]
  },
  {
   "cell_type": "code",
   "execution_count": 100,
   "metadata": {},
   "outputs": [
    {
     "data": {
      "text/plain": [
       "pandas._libs.tslibs.timestamps.Timestamp"
      ]
     },
     "execution_count": 100,
     "metadata": {},
     "output_type": "execute_result"
    }
   ],
   "source": [
    "# it is a string\n",
    "type(df.date[0])"
   ]
  },
  {
   "cell_type": "code",
   "execution_count": 99,
   "metadata": {},
   "outputs": [
    {
     "data": {
      "text/plain": [
       "        date         0         1         2\n",
       "0 2000-01-01  1.103763 -1.909979 -0.808956\n",
       "1 2000-01-02  1.188917  0.581120  0.861597\n",
       "2 2000-01-03 -0.964200  0.779764  1.829062\n",
       "3 2000-01-04  0.782130 -1.720670 -1.108242\n",
       "4 2000-01-05 -1.867017 -0.528368 -2.488309\n",
       "5 2000-01-06  2.569280 -0.471901 -0.835033\n",
       "6 2000-01-07 -0.399323 -0.676427 -0.011256\n",
       "7 2000-01-08  1.642993  1.013420  1.435667\n",
       "8 2000-01-09  1.147308  2.138000  0.554171\n",
       "9 2000-01-10  0.933766  1.387155 -0.560143"
      ]
     },
     "execution_count": 99,
     "metadata": {},
     "output_type": "execute_result"
    }
   ],
   "source": [
    "# read the data and tell pandas the date column should be \n",
    "# a date in the resulting DataFrame\n",
    "df = pd.read_csv('test1.csv', parse_dates=['date'])\n",
    "df"
   ]
  },
  {
   "cell_type": "code",
   "execution_count": 101,
   "metadata": {},
   "outputs": [
    {
     "data": {
      "text/plain": [
       "pandas._libs.tslibs.timestamps.Timestamp"
      ]
     },
     "execution_count": 101,
     "metadata": {},
     "output_type": "execute_result"
    }
   ],
   "source": [
    "# verify the type now is date\n",
    "# in pandas, this is actually a Timestamp\n",
    "type(df.date[0])"
   ]
  },
  {
   "cell_type": "code",
   "execution_count": 102,
   "metadata": {},
   "outputs": [
    {
     "data": {
      "text/plain": [
       "RangeIndex(start=0, stop=10, step=1)"
      ]
     },
     "execution_count": 102,
     "metadata": {},
     "output_type": "execute_result"
    }
   ],
   "source": [
    "# unfortunately the index is numeric which makes\n",
    "# accessing data by date more complicated\n",
    "df.index"
   ]
  },
  {
   "cell_type": "code",
   "execution_count": 110,
   "metadata": {},
   "outputs": [
    {
     "data": {
      "text/plain": [
       "                   0         1         2\n",
       "date                                    \n",
       "2000-01-01  1.103763 -1.909979 -0.808956\n",
       "2000-01-02  1.188917  0.581120  0.861597\n",
       "2000-01-03 -0.964200  0.779764  1.829062\n",
       "2000-01-04  0.782130 -1.720670 -1.108242\n",
       "2000-01-05 -1.867017 -0.528368 -2.488309\n",
       "2000-01-06  2.569280 -0.471901 -0.835033\n",
       "2000-01-07 -0.399323 -0.676427 -0.011256\n",
       "2000-01-08  1.642993  1.013420  1.435667\n",
       "2000-01-09  1.147308  2.138000  0.554171\n",
       "2000-01-10  0.933766  1.387155 -0.560143"
      ]
     },
     "execution_count": 110,
     "metadata": {},
     "output_type": "execute_result"
    }
   ],
   "source": [
    "# read in again, now specity the data column as being the \n",
    "# index of the resulting DataFrame\n",
    "df = pd.read_csv('test1.csv', \n",
    "                 parse_dates=['date'], \n",
    "                 index_col='date')\n",
    "df"
   ]
  },
  {
   "cell_type": "code",
   "execution_count": 114,
   "metadata": {},
   "outputs": [
    {
     "data": {
      "text/plain": [
       "DatetimeIndex(['2000-01-01', '2000-01-02', '2000-01-03', '2000-01-04',\n",
       "               '2000-01-05', '2000-01-06', '2000-01-07', '2000-01-08',\n",
       "               '2000-01-09', '2000-01-10'],\n",
       "              dtype='datetime64[ns]', name='date', freq=None)"
      ]
     },
     "execution_count": 114,
     "metadata": {},
     "output_type": "execute_result"
    }
   ],
   "source": [
    "# and the index is now a DatetimeIndex\n",
    "df.index"
   ]
  },
  {
   "cell_type": "code",
   "execution_count": 112,
   "metadata": {},
   "outputs": [
    {
     "ename": "ModuleNotFoundError",
     "evalue": "No module named 'pandas.io.data'",
     "output_type": "error",
     "traceback": [
      "\u001b[1;31m---------------------------------------------------------------------------\u001b[0m",
      "\u001b[1;31mModuleNotFoundError\u001b[0m                       Traceback (most recent call last)",
      "\u001b[1;32m<ipython-input-112-379c424edf18>\u001b[0m in \u001b[0;36m<module>\u001b[1;34m\u001b[0m\n\u001b[0;32m      1\u001b[0m \u001b[1;31m# imports for reading data from Yahoo!\u001b[0m\u001b[1;33m\u001b[0m\u001b[1;33m\u001b[0m\u001b[1;33m\u001b[0m\u001b[0m\n\u001b[1;32m----> 2\u001b[1;33m \u001b[1;32mfrom\u001b[0m \u001b[0mpandas\u001b[0m\u001b[1;33m.\u001b[0m\u001b[0mio\u001b[0m\u001b[1;33m.\u001b[0m\u001b[0mdata\u001b[0m \u001b[1;32mimport\u001b[0m \u001b[0mDataReader\u001b[0m\u001b[1;33m\u001b[0m\u001b[1;33m\u001b[0m\u001b[0m\n\u001b[0m\u001b[0;32m      3\u001b[0m \u001b[1;32mfrom\u001b[0m \u001b[0mdatetime\u001b[0m \u001b[1;32mimport\u001b[0m \u001b[0mdate\u001b[0m\u001b[1;33m\u001b[0m\u001b[1;33m\u001b[0m\u001b[0m\n\u001b[0;32m      4\u001b[0m \u001b[1;32mfrom\u001b[0m \u001b[0mdateutil\u001b[0m\u001b[1;33m.\u001b[0m\u001b[0mrelativedelta\u001b[0m \u001b[1;32mimport\u001b[0m \u001b[0mrelativedelta\u001b[0m\u001b[1;33m\u001b[0m\u001b[1;33m\u001b[0m\u001b[0m\n\u001b[0;32m      5\u001b[0m \u001b[1;33m\u001b[0m\u001b[0m\n",
      "\u001b[1;31mModuleNotFoundError\u001b[0m: No module named 'pandas.io.data'"
     ]
    }
   ],
   "source": [
    "# imports for reading data from Yahoo!\n",
    "from pandas.io.data import DataReader\n",
    "from datetime import date\n",
    "from dateutil.relativedelta import relativedelta\n",
    "\n",
    "# read the last three months of data for GOOG\n",
    "goog = DataReader(\"GOOG\",  \"yahoo\", \n",
    "                  date.today() + \n",
    "                  relativedelta(months=-3))\n",
    "\n",
    "# the result is a DataFrame\n",
    "#and this gives us the 5 most recent prices\n",
    "goog.tail()"
   ]
  },
  {
   "cell_type": "code",
   "execution_count": 118,
   "metadata": {},
   "outputs": [
    {
     "name": "stdout",
     "output_type": "stream",
     "text": [
      "             Date   High    Low  Close   Volume  Adj Close\n",
      "Open                                                      \n",
      "83.46  2014-07-21  83.53  81.81  81.93  2359300      81.93\n",
      "83.46  2014-07-18  83.40  82.52  83.35  4020800      83.35\n",
      "84.35  2014-07-17  84.63  83.33  83.63  1974000      83.63\n",
      "83.77  2014-07-16  84.91  83.66  84.91  1755600      84.91\n",
      "84.30  2014-07-15  84.38  83.20  83.58  1874700      83.58\n",
      "83.66  2014-07-14  84.64  83.11  84.40  1432100      84.40\n",
      "83.55  2014-07-11  83.98  82.85  83.35  2001400      83.35\n",
      "85.20  2014-07-10  85.57  83.36  83.42  2713300      83.42\n",
      "84.83  2014-07-09  85.79  84.76  85.50  1540700      85.50\n",
      "86.29  2014-07-08  86.57  84.69  84.69  2164000      84.69\n",
      "86.97  2014-07-07  87.13  85.82  86.07  1644600      86.07\n",
      "87.22  2014-07-04  87.54  87.05  87.05  1392600      87.05\n",
      "86.02  2014-07-03  87.42  85.88  87.14  1985800      87.14\n",
      "85.68  2014-07-02  85.91  85.37  85.84  1490000      85.84\n",
      "85.28  2014-07-01  85.43  84.73  85.36  1507400      85.36\n",
      "84.93  2014-06-30  85.76  84.70  85.03  2713200      85.03\n",
      "84.76  2014-06-27  85.31  84.32  84.64  2156600      84.64\n",
      "86.50  2014-06-26  86.50  84.73  85.00  2161200      85.00\n",
      "86.22  2014-06-25  86.74  85.96  86.02  2359500      86.02\n",
      "87.12  2014-06-24  87.21  86.17  86.52  2162700      86.52\n",
      "87.50  2014-06-23  87.59  86.54  86.78  1906700      86.78\n",
      "87.20  2014-06-20  88.28  86.85  87.36  8315300      87.36\n",
      "86.90  2014-06-19  87.57  86.67  87.03  2349800      87.03\n",
      "86.16  2014-06-18  86.66  86.00  86.02  1702700      86.02\n",
      "85.39  2014-06-17  86.19  85.30  86.11  1731700      86.11\n",
      "85.17  2014-06-16  85.72  85.02  85.17  1692400      85.17\n",
      "85.90  2014-06-13  85.96  84.93  85.50  1855100      85.50\n",
      "85.71  2014-06-12  86.35  85.55  86.20  2643800      86.20\n",
      "85.69  2014-06-11  86.23  85.38  85.71  1837100      85.71\n",
      "86.12  2014-06-10  86.15  85.56  85.87  2062500      85.87\n",
      "86.00  2014-06-09  86.24  85.65  86.10  1076500      86.10\n",
      "85.43  2014-06-06  85.94  84.88  85.86  2142700      85.86\n",
      "85.01  2014-06-05  85.95  84.56  85.43  2921800      85.43\n",
      "84.89  2014-06-04  85.35  84.67  85.09  2180100      85.09\n",
      "84.68  2014-06-03  84.86  84.10  84.86  1629800      84.86\n",
      "84.89  2014-06-02  85.00  84.26  84.50  1425800      84.50\n",
      "84.90  2014-05-30  84.95  84.13  84.47  1815800      84.47\n",
      "84.66  2014-05-29  84.88  84.25  84.73   994100      84.73\n",
      "84.44  2014-05-28  84.81  84.08  84.81  1837000      84.81\n",
      "83.60  2014-05-27  84.45  83.36  84.44  2097000      84.44\n",
      "83.65  2014-05-26  83.95  83.31  83.77  1320000      83.77\n",
      "83.20  2014-05-23  83.23  82.49  83.08  1596900      83.08\n",
      "83.05  2014-05-22  83.26  82.61  83.00  1382100      83.00\n",
      "82.15  2014-05-21  83.09  81.60  82.97  1762600      82.97\n",
      "81.75  2014-05-20  82.51  81.75  82.43  1833800      82.43\n",
      "82.41  2014-05-19  82.82  81.60  82.78  2242600      82.78\n",
      "82.87  2014-05-16  83.03  81.88  82.33  3008600      82.33\n",
      "83.80  2014-05-15  84.43  82.74  83.17  2809900      83.17\n",
      "83.51  2014-05-14  84.01  83.02  83.69  1977100      83.69\n",
      "83.87  2014-05-13  84.30  83.29  83.49  2436100      83.49\n",
      "...           ...    ...    ...    ...      ...        ...\n",
      "45.40  2000-03-10  46.70  45.26  46.20  2546600      18.00\n",
      "45.85  2000-03-09  46.45  45.30  45.79  3569400      17.84\n",
      "45.95  2000-03-08  46.08  45.01  45.65  3783500      17.79\n",
      "46.00  2000-03-07  46.24  44.33  44.80  3693800      17.46\n",
      "45.80  2000-03-06  46.46  44.90  46.25  3349700      18.02\n",
      "46.60  2000-03-03  46.80  44.98  45.41  2600100      17.69\n",
      "46.25  2000-03-02  46.90  44.78  46.90  3471200      18.28\n",
      "47.20  2000-03-01  48.39  44.75  46.20  5935100      18.00\n",
      "47.50  2000-02-29  48.45  45.95  47.90  3165100      18.67\n",
      "44.60  2000-02-28  47.55  43.95  46.90  3393000      18.28\n",
      "46.00  2000-02-25  46.00  44.60  45.16  2533500      17.60\n",
      "47.65  2000-02-24  47.65  45.10  45.90  2818000      17.89\n",
      "46.55  2000-02-23  48.20  46.55  47.14  3523500      18.37\n",
      "46.21  2000-02-22  46.80  45.52  46.50  3450000      18.12\n",
      "46.60  2000-02-21  47.10  45.80  47.00  2155500      18.31\n",
      "46.99  2000-02-18  48.09  46.71  47.40  5644000      18.47\n",
      "44.39  2000-02-17  46.89  44.10  46.50  5374400      18.12\n",
      "42.00  2000-02-16  43.99  41.82  43.99  4771700      17.14\n",
      "43.45  2000-02-15  43.65  40.99  40.99  3644300      15.97\n",
      "43.75  2000-02-14  44.95  42.60  43.20  2983300      16.83\n",
      "44.00  2000-02-11  45.45  43.05  44.13  5987800      17.20\n",
      "42.80  2000-02-10  44.00  42.10  44.00  3617800      17.15\n",
      "43.50  2000-02-09  45.40  42.92  43.10  4573700      16.79\n",
      "42.15  2000-02-08  43.28  41.75  43.05  4316300      16.78\n",
      "42.80  2000-02-07  42.90  41.22  41.75  3709400      16.27\n",
      "43.87  2000-02-04  44.47  42.31  43.07  3334600      16.78\n",
      "44.99  2000-02-03  46.19  43.41  43.65  5097100      17.01\n",
      "42.99  2000-02-02  45.00  42.26  45.00  4979400      17.54\n",
      "44.77  2000-02-01  44.77  41.81  42.02  5474200      16.37\n",
      "44.90  2000-01-31  44.90  43.51  44.05  3176400      17.16\n",
      "44.85  2000-01-28  45.97  43.93  45.25  2828300      17.63\n",
      "44.02  2000-01-27  44.99  43.32  44.55  4552100      17.36\n",
      "45.80  2000-01-26  46.17  43.50  44.02  4562200      17.15\n",
      "46.75  2000-01-25  46.80  45.25  45.25  3323200      17.63\n",
      "48.10  2000-01-24  48.35  46.81  47.18  1889000      18.38\n",
      "48.80  2000-01-21  49.15  47.50  48.05  3534900      18.72\n",
      "49.90  2000-01-20  50.00  48.83  49.40  2205100      19.25\n",
      "47.65  2000-01-19  49.97  47.62  49.84  4004400      19.42\n",
      "47.93  2000-01-18  48.48  47.40  47.95  2739100      18.68\n",
      "47.60  2000-01-17  48.63  47.60  47.87  2656800      18.65\n",
      "47.89  2000-01-14  48.48  47.40  47.50  2784500      18.51\n",
      "47.85  2000-01-13  48.60  46.90  47.50  2482900      18.51\n",
      "47.75  2000-01-12  48.40  47.26  48.00  2351400      18.70\n",
      "50.05  2000-01-11  50.05  47.75  47.99  4773000      18.70\n",
      "51.10  2000-01-10  51.24  49.60  50.22  2576000      19.57\n",
      "48.55  2000-01-07  50.35  47.80  50.00  4621200      19.48\n",
      "46.78  2000-01-06  48.35  46.28  48.03  3306100      18.72\n",
      "46.94  2000-01-05  47.50  45.92  46.75  4809900      18.22\n",
      "49.80  2000-01-04  49.80  47.72  47.85  4489500      18.65\n",
      "52.70  2000-01-03  53.20  49.60  49.75  3137300      19.39\n",
      "\n",
      "[3767 rows x 6 columns]\n"
     ]
    }
   ],
   "source": [
    "# use column 0 as the index\n",
    "msft = pd.read_csv(\"msft.csv\", index_col=1)\n",
    "print(msft)"
   ]
  },
  {
   "cell_type": "code",
   "execution_count": 116,
   "metadata": {},
   "outputs": [
    {
     "data": {
      "text/plain": [
       "Date          object\n",
       "High         float64\n",
       "Low          float64\n",
       "Close        float64\n",
       "Volume         int64\n",
       "Adj Close    float64\n",
       "dtype: object"
      ]
     },
     "execution_count": 116,
     "metadata": {},
     "output_type": "execute_result"
    }
   ],
   "source": [
    "# examine the types of the columns in this DataFrame\n",
    "msft.dtypes"
   ]
  },
  {
   "cell_type": "code",
   "execution_count": 127,
   "metadata": {},
   "outputs": [
    {
     "data": {
      "text/plain": [
       "Date          object\n",
       "Open         float64\n",
       "High         float64\n",
       "Low           object\n",
       "Close        float64\n",
       "Volume       float64\n",
       "Adj Close    float64\n",
       "dtype: object"
      ]
     },
     "execution_count": 127,
     "metadata": {},
     "output_type": "execute_result"
    }
   ],
   "source": [
    "# specify that the Volume column should be a float64\n",
    "msft = pd.read_csv(\"msft.csv\", \n",
    "                   dtype = { 'Volume' : np.float64})\n",
    "msft.dtypes\n"
   ]
  },
  {
   "cell_type": "code",
   "execution_count": 128,
   "metadata": {},
   "outputs": [
    {
     "data": {
      "text/plain": [
       "Date          object\n",
       "Open         float64\n",
       "High          object\n",
       "Low           object\n",
       "Close        float64\n",
       "Volume       float64\n",
       "Adj Close    float64\n",
       "dtype: object"
      ]
     },
     "execution_count": 128,
     "metadata": {},
     "output_type": "execute_result"
    }
   ],
   "source": [
    "msft = pd.read_csv(\"msft.csv\", dtype = {'High': str ,'Volume' : np.float64})\n",
    "msft.Low = msft.Low.astype(int,errors=\"ignore\")# errors =\"ignore\" or \"raise\"\n",
    "msft.dtypes"
   ]
  },
  {
   "cell_type": "markdown",
   "metadata": {},
   "source": [
    "## Specifying column names"
   ]
  },
  {
   "cell_type": "code",
   "execution_count": 144,
   "metadata": {},
   "outputs": [
    {
     "data": {
      "text/plain": [
       "             open   high     low  close   volume  adjclose1\n",
       "2014-07-21  83.46  83.53  a81.81  81.93  2359300      81.93\n",
       "2014-07-18  83.46  83.40   82.52  83.35  4020800      83.35\n",
       "2014-07-17  84.35  84.63   83.33  83.63  1974000      83.63\n",
       "2014-07-16  83.77  84.91   83.66  84.91  1755600      84.91\n",
       "2014-07-15  84.30  84.38   83.20  83.58  1874700      83.58\n",
       "2014-07-14  83.66  84.64   83.11  84.40  1432100      84.40\n",
       "2014-07-11  83.55  83.98   82.85  83.35  2001400      83.35\n",
       "2014-07-10  85.20  85.57   83.36  83.42  2713300      83.42\n",
       "2014-07-09  84.83  85.79   84.76  85.50  1540700      85.50\n",
       "2014-07-08  86.29  86.57   84.69  84.69  2164000      84.69\n",
       "2014-07-07  86.97  87.13   85.82  86.07  1644600      86.07\n",
       "2014-07-04  87.22  87.54   87.05  87.05  1392600      87.05\n",
       "2014-07-03  86.02  87.42   85.88  87.14  1985800      87.14\n",
       "2014-07-02  85.68  85.91   85.37  85.84  1490000      85.84\n",
       "2014-07-01  85.28  85.43   84.73  85.36  1507400      85.36\n",
       "2014-06-30  84.93  85.76   84.70  85.03  2713200      85.03\n",
       "2014-06-27  84.76  85.31   84.32  84.64  2156600      84.64\n",
       "2014-06-26  86.50  86.50   84.73  85.00  2161200      85.00\n",
       "2014-06-25  86.22  86.74   85.96  86.02  2359500      86.02\n",
       "2014-06-24  87.12  87.21   86.17  86.52  2162700      86.52\n",
       "2014-06-23  87.50  87.59   86.54  86.78  1906700      86.78\n",
       "2014-06-20  87.20  88.28   86.85  87.36  8315300      87.36\n",
       "2014-06-19  86.90  87.57   86.67  87.03  2349800      87.03\n",
       "2014-06-18  86.16  86.66   86.00  86.02  1702700      86.02\n",
       "2014-06-17  85.39  86.19   85.30  86.11  1731700      86.11\n",
       "2014-06-16  85.17  85.72   85.02  85.17  1692400      85.17\n",
       "2014-06-13  85.90  85.96   84.93  85.50  1855100      85.50\n",
       "2014-06-12  85.71  86.35   85.55  86.20  2643800      86.20\n",
       "2014-06-11  85.69  86.23   85.38  85.71  1837100      85.71\n",
       "2014-06-10  86.12  86.15   85.56  85.87  2062500      85.87\n",
       "2014-06-09  86.00  86.24   85.65  86.10  1076500      86.10\n",
       "2014-06-06  85.43  85.94   84.88  85.86  2142700      85.86\n",
       "2014-06-05  85.01  85.95   84.56  85.43  2921800      85.43\n",
       "2014-06-04  84.89  85.35   84.67  85.09  2180100      85.09\n",
       "2014-06-03  84.68  84.86   84.10  84.86  1629800      84.86\n",
       "2014-06-02  84.89  85.00   84.26  84.50  1425800      84.50\n",
       "2014-05-30  84.90  84.95   84.13  84.47  1815800      84.47\n",
       "2014-05-29  84.66  84.88   84.25  84.73   994100      84.73\n",
       "2014-05-28  84.44  84.81   84.08  84.81  1837000      84.81\n",
       "2014-05-27  83.60  84.45   83.36  84.44  2097000      84.44\n",
       "2014-05-26  83.65  83.95   83.31  83.77  1320000      83.77\n",
       "2014-05-23  83.20  83.23   82.49  83.08  1596900      83.08\n",
       "2014-05-22  83.05  83.26   82.61  83.00  1382100      83.00\n",
       "2014-05-21  82.15  83.09   81.60  82.97  1762600      82.97\n",
       "2014-05-20  81.75  82.51   81.75  82.43  1833800      82.43\n",
       "2014-05-19  82.41  82.82   81.60  82.78  2242600      82.78\n",
       "2014-05-16  82.87  83.03   81.88  82.33  3008600      82.33\n",
       "2014-05-15  83.80  84.43   82.74  83.17  2809900      83.17\n",
       "2014-05-14  83.51  84.01   83.02  83.69  1977100      83.69\n",
       "2014-05-13  83.87  84.30   83.29  83.49  2436100      83.49\n",
       "2014-05-12  82.46  83.67   82.23  83.50  2133100      83.50\n",
       "2014-05-09  82.09  82.51   81.75  82.43  1928100      82.43\n",
       "2014-05-08  81.33  82.56   81.04  82.39  2862200      82.39\n",
       "2014-05-07  79.50  81.42   79.25  81.24  2799800      81.24\n",
       "2014-05-06  81.57  81.71   79.90  80.21  2956800      80.21\n",
       "2014-05-05  81.30  81.71   80.10  81.28  3637500      81.28\n",
       "2014-05-02  83.73  84.56   82.98  84.01  5203500      81.31\n",
       "2014-05-01  83.43  83.43   83.43  83.43        0      80.75\n",
       "2014-04-30  82.80  83.78   82.71  83.43  3462000      80.75\n",
       "2014-04-29  81.82  82.94   81.69  82.81  3053300      80.15\n",
       "2014-04-28  81.45  82.32   80.75  81.44  2413900      78.82\n",
       "2014-04-25  81.29  82.36   80.66  81.20  3463400      78.59\n",
       "2014-04-24  81.98  82.80   80.45  82.07  3410700      79.43\n",
       "2014-04-23  82.00  82.16   81.35  81.47  2085300      78.85\n",
       "2014-04-22  80.14  81.85   79.77  81.61  2607300      78.99\n",
       "2014-04-21  79.36  79.36   79.36  79.36        0      76.81\n",
       "2014-04-18  79.36  79.36   79.36  79.36        0      76.81\n",
       "2014-04-17  78.59  79.61   78.17  79.36  2537100      76.81\n",
       "2014-04-16  77.72  78.42   77.46  78.07  2326000      75.56\n",
       "2014-04-15  77.91  78.47   76.77  76.98  2501400      74.51\n",
       "2014-04-14  77.02  78.25   76.97  78.21  2260700      75.70\n",
       "2014-04-11  78.51  78.70   77.33  77.62  2940400      75.13\n",
       "2014-04-10  79.32  80.17   78.91  79.31  2876800      76.76\n",
       "2014-04-09  79.07  79.48   78.60  78.84  1789100      76.31\n",
       "2014-04-08  78.96  79.33   78.42  79.25  2321100      76.70\n",
       "2014-04-07  79.77  80.17   78.68  78.89  2607900      76.35\n",
       "2014-04-04  80.24  81.34   80.19  80.77  2504200      78.17\n",
       "2014-04-03  80.32  80.52   79.75  80.03  2069600      77.46\n",
       "2014-04-02  80.65  80.88   79.92  80.37  2037400      77.79\n",
       "2014-04-01  81.22  81.47   80.46  80.72  1700300      78.13\n",
       "2014-03-31  80.95  81.44   80.52  80.68  2539500      78.09\n",
       "2014-03-28  79.70  80.53   79.62  80.41  2418300      77.83\n",
       "2014-03-27  78.50  79.60   78.20  79.20  2133400      76.65\n",
       "2014-03-26  78.39  79.54   78.15  78.79  2149200      76.26\n",
       "2014-03-25  76.56  78.25   76.55  77.85  2390700      75.35\n",
       "2014-03-24  78.00  78.17   76.06  76.50  2985900      74.04\n",
       "2014-03-21  77.50  78.56   77.40  78.00  6642300      75.49\n",
       "2014-03-20  77.49  78.42   76.22  77.49  3646000      75.00\n",
       "2014-03-19  78.00  78.52   77.63  78.19  2612100      75.68\n",
       "2014-03-18  77.53  78.75   76.75  77.83  2943100      75.33\n",
       "2014-03-17  77.00  78.11   76.42  77.82  2460600      75.32\n",
       "2014-03-14  75.20  77.34   74.65  76.92  5260500      74.45\n",
       "2014-03-13  78.33  78.48   75.66  75.86  3908700      73.42\n",
       "2014-03-12  79.15  79.23   77.72  78.20  2915000      75.69\n",
       "2014-03-11  79.56  80.62   78.77  79.73  2209300      77.17\n",
       "2014-03-10  79.23  80.01   78.82  79.34  2317800      76.79\n",
       "2014-03-07  81.02  81.30   79.69  79.69  3436400      77.13\n",
       "2014-03-06  81.73  81.95   80.54  81.15  1902400      78.54\n",
       "2014-03-05  81.83  81.94   81.15  81.17  2051800      78.56\n",
       "2014-03-04  81.01  82.32   80.53  82.19  3307900      79.55"
      ]
     },
     "execution_count": 144,
     "metadata": {},
     "output_type": "execute_result"
    }
   ],
   "source": [
    "# specify a new set of names for the columns\n",
    "# all lower case, remove space in Adj Close\n",
    "# also, header=0 skips the header row\n",
    "df = pd.read_csv(\"msft.csv\", \n",
    "                 header=0,\n",
    "                 names=['open', 'high', 'low','close', 'volume', 'adjclose1'])\n",
    "df.head(100)"
   ]
  },
  {
   "cell_type": "code",
   "execution_count": 145,
   "metadata": {},
   "outputs": [
    {
     "data": {
      "text/plain": [
       "    2014-07-16  83.77  84.91  83.66  84.91.1  1755600  84.91.2\n",
       "0   2014-07-15  84.30  84.38  83.20    83.58  1874700    83.58\n",
       "1   2014-07-14  83.66  84.64  83.11    84.40  1432100    84.40\n",
       "2   2014-07-11  83.55  83.98  82.85    83.35  2001400    83.35\n",
       "3   2014-07-10  85.20  85.57  83.36    83.42  2713300    83.42\n",
       "4   2014-07-09  84.83  85.79  84.76    85.50  1540700    85.50\n",
       "5   2014-07-08  86.29  86.57  84.69    84.69  2164000    84.69\n",
       "6   2014-07-07  86.97  87.13  85.82    86.07  1644600    86.07\n",
       "7   2014-07-04  87.22  87.54  87.05    87.05  1392600    87.05\n",
       "8   2014-07-03  86.02  87.42  85.88    87.14  1985800    87.14\n",
       "9   2014-07-02  85.68  85.91  85.37    85.84  1490000    85.84\n",
       "10  2014-07-01  85.28  85.43  84.73    85.36  1507400    85.36\n",
       "11  2014-06-30  84.93  85.76  84.70    85.03  2713200    85.03\n",
       "12  2014-06-27  84.76  85.31  84.32    84.64  2156600    84.64\n",
       "13  2014-06-26  86.50  86.50  84.73    85.00  2161200    85.00\n",
       "14  2014-06-25  86.22  86.74  85.96    86.02  2359500    86.02\n",
       "15  2014-06-24  87.12  87.21  86.17    86.52  2162700    86.52\n",
       "16  2014-06-23  87.50  87.59  86.54    86.78  1906700    86.78\n",
       "17  2014-06-20  87.20  88.28  86.85    87.36  8315300    87.36\n",
       "18  2014-06-19  86.90  87.57  86.67    87.03  2349800    87.03\n",
       "19  2014-06-18  86.16  86.66  86.00    86.02  1702700    86.02\n",
       "20  2014-06-17  85.39  86.19  85.30    86.11  1731700    86.11\n",
       "21  2014-06-16  85.17  85.72  85.02    85.17  1692400    85.17\n",
       "22  2014-06-13  85.90  85.96  84.93    85.50  1855100    85.50\n",
       "23  2014-06-12  85.71  86.35  85.55    86.20  2643800    86.20\n",
       "24  2014-06-11  85.69  86.23  85.38    85.71  1837100    85.71\n",
       "25  2014-06-10  86.12  86.15  85.56    85.87  2062500    85.87\n",
       "26  2014-06-09  86.00  86.24  85.65    86.10  1076500    86.10\n",
       "27  2014-06-06  85.43  85.94  84.88    85.86  2142700    85.86\n",
       "28  2014-06-05  85.01  85.95  84.56    85.43  2921800    85.43\n",
       "29  2014-06-04  84.89  85.35  84.67    85.09  2180100    85.09\n",
       "30  2014-06-03  84.68  84.86  84.10    84.86  1629800    84.86\n",
       "31  2014-06-02  84.89  85.00  84.26    84.50  1425800    84.50\n",
       "32  2014-05-30  84.90  84.95  84.13    84.47  1815800    84.47\n",
       "33  2014-05-29  84.66  84.88  84.25    84.73   994100    84.73\n",
       "34  2014-05-28  84.44  84.81  84.08    84.81  1837000    84.81\n",
       "35  2014-05-27  83.60  84.45  83.36    84.44  2097000    84.44\n",
       "36  2014-05-26  83.65  83.95  83.31    83.77  1320000    83.77\n",
       "37  2014-05-23  83.20  83.23  82.49    83.08  1596900    83.08\n",
       "38  2014-05-22  83.05  83.26  82.61    83.00  1382100    83.00\n",
       "39  2014-05-21  82.15  83.09  81.60    82.97  1762600    82.97\n",
       "40  2014-05-20  81.75  82.51  81.75    82.43  1833800    82.43\n",
       "41  2014-05-19  82.41  82.82  81.60    82.78  2242600    82.78\n",
       "42  2014-05-16  82.87  83.03  81.88    82.33  3008600    82.33\n",
       "43  2014-05-15  83.80  84.43  82.74    83.17  2809900    83.17\n",
       "44  2014-05-14  83.51  84.01  83.02    83.69  1977100    83.69\n",
       "45  2014-05-13  83.87  84.30  83.29    83.49  2436100    83.49\n",
       "46  2014-05-12  82.46  83.67  82.23    83.50  2133100    83.50\n",
       "47  2014-05-09  82.09  82.51  81.75    82.43  1928100    82.43\n",
       "48  2014-05-08  81.33  82.56  81.04    82.39  2862200    82.39\n",
       "49  2014-05-07  79.50  81.42  79.25    81.24  2799800    81.24\n",
       "50  2014-05-06  81.57  81.71  79.90    80.21  2956800    80.21\n",
       "51  2014-05-05  81.30  81.71  80.10    81.28  3637500    81.28\n",
       "52  2014-05-02  83.73  84.56  82.98    84.01  5203500    81.31\n",
       "53  2014-05-01  83.43  83.43  83.43    83.43        0    80.75\n",
       "54  2014-04-30  82.80  83.78  82.71    83.43  3462000    80.75\n",
       "55  2014-04-29  81.82  82.94  81.69    82.81  3053300    80.15\n",
       "56  2014-04-28  81.45  82.32  80.75    81.44  2413900    78.82\n",
       "57  2014-04-25  81.29  82.36  80.66    81.20  3463400    78.59\n",
       "58  2014-04-24  81.98  82.80  80.45    82.07  3410700    79.43\n",
       "59  2014-04-23  82.00  82.16  81.35    81.47  2085300    78.85\n",
       "60  2014-04-22  80.14  81.85  79.77    81.61  2607300    78.99\n",
       "61  2014-04-21  79.36  79.36  79.36    79.36        0    76.81\n",
       "62  2014-04-18  79.36  79.36  79.36    79.36        0    76.81\n",
       "63  2014-04-17  78.59  79.61  78.17    79.36  2537100    76.81\n",
       "64  2014-04-16  77.72  78.42  77.46    78.07  2326000    75.56\n",
       "65  2014-04-15  77.91  78.47  76.77    76.98  2501400    74.51\n",
       "66  2014-04-14  77.02  78.25  76.97    78.21  2260700    75.70\n",
       "67  2014-04-11  78.51  78.70  77.33    77.62  2940400    75.13\n",
       "68  2014-04-10  79.32  80.17  78.91    79.31  2876800    76.76\n",
       "69  2014-04-09  79.07  79.48  78.60    78.84  1789100    76.31\n",
       "70  2014-04-08  78.96  79.33  78.42    79.25  2321100    76.70\n",
       "71  2014-04-07  79.77  80.17  78.68    78.89  2607900    76.35\n",
       "72  2014-04-04  80.24  81.34  80.19    80.77  2504200    78.17\n",
       "73  2014-04-03  80.32  80.52  79.75    80.03  2069600    77.46\n",
       "74  2014-04-02  80.65  80.88  79.92    80.37  2037400    77.79\n",
       "75  2014-04-01  81.22  81.47  80.46    80.72  1700300    78.13\n",
       "76  2014-03-31  80.95  81.44  80.52    80.68  2539500    78.09\n",
       "77  2014-03-28  79.70  80.53  79.62    80.41  2418300    77.83\n",
       "78  2014-03-27  78.50  79.60  78.20    79.20  2133400    76.65\n",
       "79  2014-03-26  78.39  79.54  78.15    78.79  2149200    76.26\n",
       "80  2014-03-25  76.56  78.25  76.55    77.85  2390700    75.35\n",
       "81  2014-03-24  78.00  78.17  76.06    76.50  2985900    74.04\n",
       "82  2014-03-21  77.50  78.56  77.40    78.00  6642300    75.49\n",
       "83  2014-03-20  77.49  78.42  76.22    77.49  3646000    75.00\n",
       "84  2014-03-19  78.00  78.52  77.63    78.19  2612100    75.68\n",
       "85  2014-03-18  77.53  78.75  76.75    77.83  2943100    75.33\n",
       "86  2014-03-17  77.00  78.11  76.42    77.82  2460600    75.32\n",
       "87  2014-03-14  75.20  77.34  74.65    76.92  5260500    74.45\n",
       "88  2014-03-13  78.33  78.48  75.66    75.86  3908700    73.42\n",
       "89  2014-03-12  79.15  79.23  77.72    78.20  2915000    75.69\n",
       "90  2014-03-11  79.56  80.62  78.77    79.73  2209300    77.17\n",
       "91  2014-03-10  79.23  80.01  78.82    79.34  2317800    76.79\n",
       "92  2014-03-07  81.02  81.30  79.69    79.69  3436400    77.13\n",
       "93  2014-03-06  81.73  81.95  80.54    81.15  1902400    78.54\n",
       "94  2014-03-05  81.83  81.94  81.15    81.17  2051800    78.56\n",
       "95  2014-03-04  81.01  82.32  80.53    82.19  3307900    79.55\n",
       "96  2014-03-03  80.35  81.31  79.91    79.97  5004100    77.40\n",
       "97  2014-02-28  82.40  83.42  82.17    83.42  2853200    80.74\n",
       "98  2014-02-27  84.06  84.63  81.63    82.00  3676800    79.36\n",
       "99  2014-02-26  82.92  84.03  82.43    83.81  2623600    81.12"
      ]
     },
     "execution_count": 145,
     "metadata": {},
     "output_type": "execute_result"
    }
   ],
   "source": [
    "# specify a new set of names for the columns\n",
    "# all lower case, remove space in Adj Close\n",
    "# also, header=0 skips the header row\n",
    "df = pd.read_csv(\"msft.csv\", \n",
    "                 header=4)\n",
    "df.head(100)"
   ]
  },
  {
   "cell_type": "markdown",
   "metadata": {},
   "source": [
    "### Specifying specific columns to load"
   ]
  },
  {
   "cell_type": "code",
   "execution_count": 147,
   "metadata": {},
   "outputs": [
    {
     "data": {
      "text/plain": [
       "               Low  Close\n",
       "Date                     \n",
       "2014-07-21  a81.81  81.93\n",
       "2014-07-18   82.52  83.35\n",
       "2014-07-17   83.33  83.63\n",
       "2014-07-16   83.66  84.91\n",
       "2014-07-15   83.20  83.58"
      ]
     },
     "execution_count": 147,
     "metadata": {},
     "output_type": "execute_result"
    }
   ],
   "source": [
    "# read in data only in the Date and Close columns\n",
    "# and index by the Date column\n",
    "df2 = pd.read_csv(\"msft.csv\", \n",
    "                  usecols=['Date', 'Close','Low'], \n",
    "                  index_col=['Date'])\n",
    "df2.head()"
   ]
  },
  {
   "cell_type": "markdown",
   "metadata": {},
   "source": [
    "## Saving a DataFrame to a CSV"
   ]
  },
  {
   "cell_type": "code",
   "execution_count": 150,
   "metadata": {},
   "outputs": [],
   "source": [
    "# save df2 to a new csv file\n",
    "# also specify naming the index as date\n",
    "df2.to_csv(\"msft_modified.csv\", index_label='date')"
   ]
  },
  {
   "cell_type": "code",
   "execution_count": 129,
   "metadata": {},
   "outputs": [
    {
     "name": "stderr",
     "output_type": "stream",
     "text": [
      "'head' is not recognized as an internal or external command,\n",
      "operable program or batch file.\n"
     ]
    }
   ],
   "source": [
    "# view the start of the file just saved\n",
    "!head data/msft_modified.csv\n",
    "#type data/msft_modified.csv # windows"
   ]
  },
  {
   "cell_type": "markdown",
   "metadata": {},
   "source": [
    "# Working with missing data"
   ]
  },
  {
   "cell_type": "markdown",
   "metadata": {},
   "source": [
    "## Setup"
   ]
  },
  {
   "cell_type": "code",
   "execution_count": 151,
   "metadata": {},
   "outputs": [
    {
     "data": {
      "text/plain": [
       "   c1  c2  c3\n",
       "a   0   1   2\n",
       "b   3   4   5\n",
       "c   6   7   8\n",
       "d   9  10  11\n",
       "e  12  13  14"
      ]
     },
     "execution_count": 151,
     "metadata": {},
     "output_type": "execute_result"
    }
   ],
   "source": [
    "# create a DataFrame with 5 rows and 3 columns\n",
    "df = pd.DataFrame(np.arange(0, 15).reshape(5, 3), \n",
    "               index=['a', 'b', 'c', 'd', 'e'], \n",
    "               columns=['c1', 'c2', 'c3'])\n",
    "df"
   ]
  },
  {
   "cell_type": "code",
   "execution_count": 152,
   "metadata": {},
   "outputs": [
    {
     "data": {
      "text/plain": [
       "   c1  c2  c3  c4\n",
       "a   0   1   2 NaN\n",
       "b   3   4   5 NaN\n",
       "c   6   7   8 NaN\n",
       "d   9  10  11 NaN\n",
       "e  12  13  14 NaN"
      ]
     },
     "execution_count": 152,
     "metadata": {},
     "output_type": "execute_result"
    }
   ],
   "source": [
    "# add some columns and rows to the DataFrame\n",
    "# column c4 with NaN values\n",
    "df['c4'] = np.nan\n",
    "df"
   ]
  },
  {
   "cell_type": "code",
   "execution_count": 153,
   "metadata": {},
   "outputs": [
    {
     "name": "stdout",
     "output_type": "stream",
     "text": [
      "   c1  c2  c3    c4\n",
      "a   0   1   2   NaN\n",
      "b   3   4   5   NaN\n",
      "c   6   7   8   NaN\n",
      "d   9  10  11   NaN\n",
      "e  12  13  14   NaN\n",
      "f  15  16  17  18.0\n"
     ]
    }
   ],
   "source": [
    "# row 'f' with 15 through 18 \n",
    "df.loc['f'] = np.arange(15, 19) \n",
    "# row 'g' will all NaN\n",
    "print(df)"
   ]
  },
  {
   "cell_type": "code",
   "execution_count": 228,
   "metadata": {},
   "outputs": [
    {
     "data": {
      "text/plain": [
       "     c1    c2    c3    c4\n",
       "a   0.0   1.0   2.0   NaN\n",
       "b   3.0   4.0   5.0   NaN\n",
       "c   6.0   7.0   8.0   NaN\n",
       "d   9.0  10.0  11.0   NaN\n",
       "e  12.0  13.0  14.0   NaN\n",
       "f  15.0  16.0  17.0  18.0\n",
       "g   NaN   NaN   NaN   NaN"
      ]
     },
     "execution_count": 228,
     "metadata": {},
     "output_type": "execute_result"
    }
   ],
   "source": [
    "df.loc['g'] = np.nan\n",
    "# column 'C5' with NaN's\n",
    "df"
   ]
  },
  {
   "cell_type": "code",
   "execution_count": 154,
   "metadata": {},
   "outputs": [],
   "source": [
    "df['c5'] = np.nan\n",
    "# change value in col 'c4' row 'a'\n"
   ]
  },
  {
   "cell_type": "code",
   "execution_count": 155,
   "metadata": {},
   "outputs": [
    {
     "name": "stderr",
     "output_type": "stream",
     "text": [
      "c:\\python373\\lib\\site-packages\\ipykernel_launcher.py:1: SettingWithCopyWarning: \n",
      "A value is trying to be set on a copy of a slice from a DataFrame\n",
      "\n",
      "See the caveats in the documentation: http://pandas.pydata.org/pandas-docs/stable/indexing.html#indexing-view-versus-copy\n",
      "  \"\"\"Entry point for launching an IPython kernel.\n"
     ]
    },
    {
     "data": {
      "text/plain": [
       "   c1  c2  c3    c4  c5\n",
       "a   0   1   2  20.0 NaN\n",
       "b   3   4   5   NaN NaN\n",
       "c   6   7   8   NaN NaN\n",
       "d   9  10  11   NaN NaN\n",
       "e  12  13  14   NaN NaN\n",
       "f  15  16  17  18.0 NaN"
      ]
     },
     "execution_count": 155,
     "metadata": {},
     "output_type": "execute_result"
    }
   ],
   "source": [
    "df['c4']['a'] = 20\n",
    "df"
   ]
  },
  {
   "cell_type": "markdown",
   "metadata": {},
   "source": [
    "## Determining NaN values in Series and DataFrame objects"
   ]
  },
  {
   "cell_type": "code",
   "execution_count": 156,
   "metadata": {},
   "outputs": [
    {
     "data": {
      "text/plain": [
       "      c1     c2     c3     c4    c5\n",
       "a  False  False  False  False  True\n",
       "b  False  False  False   True  True\n",
       "c  False  False  False   True  True\n",
       "d  False  False  False   True  True\n",
       "e  False  False  False   True  True\n",
       "f  False  False  False  False  True"
      ]
     },
     "execution_count": 156,
     "metadata": {},
     "output_type": "execute_result"
    }
   ],
   "source": [
    "# which items are NaN?\n",
    "df.isnull()"
   ]
  },
  {
   "cell_type": "code",
   "execution_count": 162,
   "metadata": {},
   "outputs": [
    {
     "data": {
      "text/plain": [
       "c1    0\n",
       "c2    0\n",
       "c3    0\n",
       "c4    4\n",
       "c5    6\n",
       "dtype: int64"
      ]
     },
     "execution_count": 162,
     "metadata": {},
     "output_type": "execute_result"
    }
   ],
   "source": [
    "# total count of NaN values\n",
    "nullsumforcolumns = df.isnull().sum()\n",
    "nullsumforcolumns"
   ]
  },
  {
   "cell_type": "code",
   "execution_count": 161,
   "metadata": {},
   "outputs": [
    {
     "data": {
      "text/plain": [
       "10"
      ]
     },
     "execution_count": 161,
     "metadata": {},
     "output_type": "execute_result"
    }
   ],
   "source": [
    "nullsumforcolumns.sum()"
   ]
  },
  {
   "cell_type": "code",
   "execution_count": 164,
   "metadata": {},
   "outputs": [
    {
     "data": {
      "text/plain": [
       "c1    6\n",
       "c2    6\n",
       "c3    6\n",
       "c4    2\n",
       "c5    0\n",
       "dtype: int64"
      ]
     },
     "execution_count": 164,
     "metadata": {},
     "output_type": "execute_result"
    }
   ],
   "source": [
    "# number of non-NaN values in each column\n",
    "df.count()"
   ]
  },
  {
   "cell_type": "code",
   "execution_count": 165,
   "metadata": {},
   "outputs": [
    {
     "data": {
      "text/plain": [
       "     c1    c2    c3     c4     c5\n",
       "a  True  True  True   True  False\n",
       "b  True  True  True  False  False\n",
       "c  True  True  True  False  False\n",
       "d  True  True  True  False  False\n",
       "e  True  True  True  False  False\n",
       "f  True  True  True   True  False"
      ]
     },
     "execution_count": 165,
     "metadata": {},
     "output_type": "execute_result"
    }
   ],
   "source": [
    "# which items are not null?\n",
    "df.notnull()"
   ]
  },
  {
   "cell_type": "code",
   "execution_count": 166,
   "metadata": {},
   "outputs": [
    {
     "data": {
      "text/plain": [
       "c1    6\n",
       "c2    6\n",
       "c3    6\n",
       "c4    2\n",
       "c5    0\n",
       "dtype: int64"
      ]
     },
     "execution_count": 166,
     "metadata": {},
     "output_type": "execute_result"
    }
   ],
   "source": [
    "# which items are not null?\n",
    "df.notnull().sum()"
   ]
  },
  {
   "cell_type": "code",
   "execution_count": 167,
   "metadata": {},
   "outputs": [
    {
     "data": {
      "text/plain": [
       "20"
      ]
     },
     "execution_count": 167,
     "metadata": {},
     "output_type": "execute_result"
    }
   ],
   "source": [
    "# which items are not null?\n",
    "df.notnull().sum().sum()"
   ]
  },
  {
   "cell_type": "markdown",
   "metadata": {},
   "source": [
    "# Selecting out (dropping) missing data"
   ]
  },
  {
   "cell_type": "code",
   "execution_count": 168,
   "metadata": {},
   "outputs": [
    {
     "data": {
      "text/plain": [
       "     c1    c2    c3     c4     c5\n",
       "a  True  True  True   True  False\n",
       "b  True  True  True  False  False\n",
       "c  True  True  True  False  False\n",
       "d  True  True  True  False  False\n",
       "e  True  True  True  False  False\n",
       "f  True  True  True   True  False"
      ]
     },
     "execution_count": 168,
     "metadata": {},
     "output_type": "execute_result"
    }
   ],
   "source": [
    "df.notnull()"
   ]
  },
  {
   "cell_type": "code",
   "execution_count": 169,
   "metadata": {},
   "outputs": [
    {
     "data": {
      "text/plain": [
       "   c1  c2  c3    c4  c5\n",
       "a   0   1   2  20.0 NaN\n",
       "b   3   4   5   NaN NaN\n",
       "c   6   7   8   NaN NaN\n",
       "d   9  10  11   NaN NaN\n",
       "e  12  13  14   NaN NaN\n",
       "f  15  16  17  18.0 NaN"
      ]
     },
     "execution_count": 169,
     "metadata": {},
     "output_type": "execute_result"
    }
   ],
   "source": [
    "df"
   ]
  },
  {
   "cell_type": "code",
   "execution_count": 163,
   "metadata": {},
   "outputs": [
    {
     "data": {
      "text/plain": [
       "     c1    c2    c3    c4  c5\n",
       "a   0.0   1.0   2.0  20.0 NaN\n",
       "b   3.0   4.0   5.0   NaN NaN\n",
       "c   6.0   7.0   8.0   NaN NaN\n",
       "d   9.0  10.0  11.0   NaN NaN\n",
       "e  12.0  13.0  14.0   NaN NaN\n",
       "f  15.0  16.0  17.0  18.0 NaN\n",
       "g   NaN   NaN   NaN   NaN NaN"
      ]
     },
     "execution_count": 163,
     "metadata": {},
     "output_type": "execute_result"
    }
   ],
   "source": [
    "df[df.notnull()]"
   ]
  },
  {
   "cell_type": "code",
   "execution_count": 166,
   "metadata": {},
   "outputs": [
    {
     "data": {
      "text/plain": [
       "a    20.0\n",
       "f    18.0\n",
       "Name: c4, dtype: float64"
      ]
     },
     "execution_count": 166,
     "metadata": {},
     "output_type": "execute_result"
    }
   ],
   "source": [
    "# select the non-NaN items in column c4\n",
    "df.c4[df.c4.notnull()]"
   ]
  },
  {
   "cell_type": "code",
   "execution_count": 171,
   "metadata": {},
   "outputs": [
    {
     "data": {
      "text/plain": [
       "   c1  c2  c3    c4  c5\n",
       "a   0   1   2  20.0 NaN\n",
       "f  15  16  17  18.0 NaN"
      ]
     },
     "execution_count": 171,
     "metadata": {},
     "output_type": "execute_result"
    }
   ],
   "source": [
    "df[df.c4.notnull()]"
   ]
  },
  {
   "cell_type": "code",
   "execution_count": 172,
   "metadata": {},
   "outputs": [
    {
     "data": {
      "text/plain": [
       "a    20.0\n",
       "f    18.0\n",
       "Name: c4, dtype: float64"
      ]
     },
     "execution_count": 172,
     "metadata": {},
     "output_type": "execute_result"
    }
   ],
   "source": [
    "# .dropna will also return non NaN values\n",
    "# this gets all non NaN items in column c4\n",
    "df.c4.dropna()"
   ]
  },
  {
   "cell_type": "code",
   "execution_count": 169,
   "metadata": {},
   "outputs": [
    {
     "data": {
      "text/plain": [
       "     c1    c2    c3    c4  c5\n",
       "a   0.0   1.0   2.0  20.0 NaN\n",
       "b   3.0   4.0   5.0   NaN NaN\n",
       "c   6.0   7.0   8.0   NaN NaN\n",
       "d   9.0  10.0  11.0   NaN NaN\n",
       "e  12.0  13.0  14.0   NaN NaN\n",
       "f  15.0  16.0  17.0  18.0 NaN\n",
       "g   NaN   NaN   NaN   NaN NaN"
      ]
     },
     "execution_count": 169,
     "metadata": {},
     "output_type": "execute_result"
    }
   ],
   "source": [
    "df"
   ]
  },
  {
   "cell_type": "code",
   "execution_count": 180,
   "metadata": {},
   "outputs": [
    {
     "name": "stderr",
     "output_type": "stream",
     "text": [
      "c:\\python373\\lib\\site-packages\\ipykernel_launcher.py:1: SettingWithCopyWarning: \n",
      "A value is trying to be set on a copy of a slice from a DataFrame\n",
      "\n",
      "See the caveats in the documentation: http://pandas.pydata.org/pandas-docs/stable/indexing.html#indexing-view-versus-copy\n",
      "  \"\"\"Entry point for launching an IPython kernel.\n"
     ]
    },
    {
     "data": {
      "text/plain": [
       "   c1  c2  c3    c4   c5\n",
       "a   0   1   2  20.0  1.0\n",
       "b   3   4   5   NaN  NaN\n",
       "c   6   7   8   NaN  NaN\n",
       "d   9  10  11   NaN  NaN\n",
       "e  12  13  14   NaN  NaN\n",
       "f  15  16  17  18.0  NaN"
      ]
     },
     "execution_count": 180,
     "metadata": {},
     "output_type": "execute_result"
    }
   ],
   "source": [
    "df['c5']['a'] = 1\n",
    "df"
   ]
  },
  {
   "cell_type": "code",
   "execution_count": 178,
   "metadata": {},
   "outputs": [],
   "source": [
    "df['c1']['g'] = 1"
   ]
  },
  {
   "cell_type": "code",
   "execution_count": 179,
   "metadata": {},
   "outputs": [
    {
     "data": {
      "text/plain": [
       "   c1  c2  c3    c4   c5\n",
       "a   0   1   2  20.0  1.0\n",
       "b   3   4   5   NaN  NaN\n",
       "c   6   7   8   NaN  NaN\n",
       "d   9  10  11   NaN  NaN\n",
       "e  12  13  14   NaN  NaN\n",
       "f  15  16  17  18.0  NaN"
      ]
     },
     "execution_count": 179,
     "metadata": {},
     "output_type": "execute_result"
    }
   ],
   "source": [
    "df"
   ]
  },
  {
   "cell_type": "code",
   "execution_count": 181,
   "metadata": {},
   "outputs": [
    {
     "data": {
      "text/plain": [
       "   c1  c2  c3    c4   c5\n",
       "a   0   1   2  20.0  1.0"
      ]
     },
     "execution_count": 181,
     "metadata": {},
     "output_type": "execute_result"
    }
   ],
   "source": [
    "df.dropna()\n",
    "\n",
    "### all the columns should be not null for a row \n",
    "## if one colum value is null or Nan for a row, dropna method will drop that row"
   ]
  },
  {
   "cell_type": "code",
   "execution_count": 182,
   "metadata": {},
   "outputs": [
    {
     "data": {
      "text/plain": [
       "a    20.0\n",
       "b     NaN\n",
       "c     NaN\n",
       "d     NaN\n",
       "e     NaN\n",
       "f    18.0\n",
       "Name: c4, dtype: float64"
      ]
     },
     "execution_count": 182,
     "metadata": {},
     "output_type": "execute_result"
    }
   ],
   "source": [
    "# dropna returns a copy with the values dropped\n",
    "# the source DataFrame / column is not changed\n",
    "df.c4"
   ]
  },
  {
   "cell_type": "code",
   "execution_count": 185,
   "metadata": {},
   "outputs": [
    {
     "data": {
      "text/plain": [
       "   c1  c2  c3    c4   c5\n",
       "a   0   1   2  20.0  1.0"
      ]
     },
     "execution_count": 185,
     "metadata": {},
     "output_type": "execute_result"
    }
   ],
   "source": [
    "# on a DataFrame this will drop entire rows\n",
    "# where there is at least one NaN\n",
    "# in this case, that is all rows\n",
    "df.dropna()"
   ]
  },
  {
   "cell_type": "code",
   "execution_count": 186,
   "metadata": {},
   "outputs": [
    {
     "data": {
      "text/plain": [
       "   c1  c2  c3    c4   c5\n",
       "a   0   1   2  20.0  1.0"
      ]
     },
     "execution_count": 186,
     "metadata": {},
     "output_type": "execute_result"
    }
   ],
   "source": [
    "# using how='all', only rows that have all values\n",
    "# as NaN will be dropped\n",
    "a = df.dropna(how = 'any')\n",
    "a "
   ]
  },
  {
   "cell_type": "code",
   "execution_count": 187,
   "metadata": {},
   "outputs": [
    {
     "data": {
      "text/plain": [
       "   c1  c2  c3    c4   c5\n",
       "a   0   1   2  20.0  1.0\n",
       "b   3   4   5   NaN  NaN\n",
       "c   6   7   8   NaN  NaN\n",
       "d   9  10  11   NaN  NaN\n",
       "e  12  13  14   NaN  NaN\n",
       "f  15  16  17  18.0  NaN"
      ]
     },
     "execution_count": 187,
     "metadata": {},
     "output_type": "execute_result"
    }
   ],
   "source": [
    "# using how='all', only rows that have all values\n",
    "# as NaN will be dropped\n",
    "a = df.dropna(how = 'all')\n",
    "a "
   ]
  },
  {
   "cell_type": "code",
   "execution_count": 189,
   "metadata": {},
   "outputs": [
    {
     "name": "stderr",
     "output_type": "stream",
     "text": [
      "c:\\python373\\lib\\site-packages\\ipykernel_launcher.py:1: SettingWithCopyWarning: \n",
      "A value is trying to be set on a copy of a slice from a DataFrame\n",
      "\n",
      "See the caveats in the documentation: http://pandas.pydata.org/pandas-docs/stable/indexing.html#indexing-view-versus-copy\n",
      "  \"\"\"Entry point for launching an IPython kernel.\n"
     ]
    }
   ],
   "source": [
    "df['c5'][0] = np.nan"
   ]
  },
  {
   "cell_type": "code",
   "execution_count": 190,
   "metadata": {},
   "outputs": [
    {
     "data": {
      "text/plain": [
       "   c1  c2  c3    c4  c5\n",
       "a   0   1   2  20.0 NaN\n",
       "b   3   4   5   NaN NaN\n",
       "c   6   7   8   NaN NaN\n",
       "d   9  10  11   NaN NaN\n",
       "e  12  13  14   NaN NaN\n",
       "f  15  16  17  18.0 NaN"
      ]
     },
     "execution_count": 190,
     "metadata": {},
     "output_type": "execute_result"
    }
   ],
   "source": [
    "df"
   ]
  },
  {
   "cell_type": "code",
   "execution_count": 200,
   "metadata": {},
   "outputs": [
    {
     "data": {
      "text/plain": [
       "     c1    c2    c3    c4\n",
       "a   0.0   1.0   2.0  20.0\n",
       "b   3.0   4.0   5.0   NaN\n",
       "c   6.0   7.0   8.0   NaN\n",
       "d   9.0  10.0  11.0   NaN\n",
       "e  12.0  13.0  14.0   NaN\n",
       "f  15.0  16.0  17.0  18.0\n",
       "g   NaN   NaN   NaN   NaN"
      ]
     },
     "execution_count": 200,
     "metadata": {},
     "output_type": "execute_result"
    }
   ],
   "source": [
    "# flip to drop columns instead of rows\n",
    "df.dropna(how='all', axis=1) # say goodbye to c5, axis = 1 column"
   ]
  },
  {
   "cell_type": "code",
   "execution_count": 193,
   "metadata": {},
   "outputs": [],
   "source": [
    "df.loc[\"g\"] = np.nan"
   ]
  },
  {
   "cell_type": "code",
   "execution_count": 194,
   "metadata": {
    "scrolled": true
   },
   "outputs": [
    {
     "data": {
      "text/plain": [
       "     c1    c2    c3    c4  c5\n",
       "a   0.0   1.0   2.0  20.0 NaN\n",
       "b   3.0   4.0   5.0   NaN NaN\n",
       "c   6.0   7.0   8.0   NaN NaN\n",
       "d   9.0  10.0  11.0   NaN NaN\n",
       "e  12.0  13.0  14.0   NaN NaN\n",
       "f  15.0  16.0  17.0  18.0 NaN\n",
       "g   NaN   NaN   NaN   NaN NaN"
      ]
     },
     "execution_count": 194,
     "metadata": {},
     "output_type": "execute_result"
    }
   ],
   "source": [
    "df"
   ]
  },
  {
   "cell_type": "code",
   "execution_count": 199,
   "metadata": {},
   "outputs": [
    {
     "data": {
      "text/plain": [
       "     c1    c2    c3    c4  c5\n",
       "a   0.0   1.0   2.0  20.0 NaN\n",
       "b   3.0   4.0   5.0   NaN NaN\n",
       "c   6.0   7.0   8.0   NaN NaN\n",
       "d   9.0  10.0  11.0   NaN NaN\n",
       "e  12.0  13.0  14.0   NaN NaN\n",
       "f  15.0  16.0  17.0  18.0 NaN"
      ]
     },
     "execution_count": 199,
     "metadata": {},
     "output_type": "execute_result"
    }
   ],
   "source": [
    "# flip to drop columns instead of rows\n",
    "df.dropna(how='all', axis=0) # say goodbye to c5"
   ]
  },
  {
   "cell_type": "code",
   "execution_count": 196,
   "metadata": {},
   "outputs": [
    {
     "name": "stderr",
     "output_type": "stream",
     "text": [
      "c:\\python373\\lib\\site-packages\\ipykernel_launcher.py:5: DeprecationWarning: \n",
      ".ix is deprecated. Please use\n",
      ".loc for label based indexing or\n",
      ".iloc for positional indexing\n",
      "\n",
      "See the documentation here:\n",
      "http://pandas.pydata.org/pandas-docs/stable/indexing.html#ix-indexer-is-deprecated\n",
      "  \"\"\"\n",
      "c:\\python373\\lib\\site-packages\\ipykernel_launcher.py:6: DeprecationWarning: \n",
      ".ix is deprecated. Please use\n",
      ".loc for label based indexing or\n",
      ".iloc for positional indexing\n",
      "\n",
      "See the documentation here:\n",
      "http://pandas.pydata.org/pandas-docs/stable/indexing.html#ix-indexer-is-deprecated\n",
      "  \n"
     ]
    },
    {
     "data": {
      "text/plain": [
       "     c1    c2    c3    c4  c5\n",
       "a   0.0   1.0   2.0  20.0 NaN\n",
       "b   3.0   4.0   5.0   NaN NaN\n",
       "c   6.0   7.0   8.0   NaN NaN\n",
       "d   9.0  10.0  11.0   NaN NaN\n",
       "e  12.0  13.0  14.0   NaN NaN\n",
       "f  15.0  16.0  17.0  18.0 NaN\n",
       "g   0.0   NaN   0.0   NaN NaN"
      ]
     },
     "execution_count": 196,
     "metadata": {},
     "output_type": "execute_result"
    }
   ],
   "source": [
    "# make a copy of df\n",
    "df2 = df.copy()\n",
    "\n",
    "# replace two NaN cells with values\n",
    "df2.ix['g'].c1 = 0\n",
    "df2.ix['g'].c3 = 0\n",
    "\n",
    "df2"
   ]
  },
  {
   "cell_type": "code",
   "execution_count": 197,
   "metadata": {},
   "outputs": [
    {
     "data": {
      "text/plain": [
       "Empty DataFrame\n",
       "Columns: [c1, c2, c3, c4, c5]\n",
       "Index: []"
      ]
     },
     "execution_count": 197,
     "metadata": {},
     "output_type": "execute_result"
    }
   ],
   "source": [
    "# now drop columns with any NaN values\n",
    "df2.dropna(how='any', axis=0) "
   ]
  },
  {
   "cell_type": "code",
   "execution_count": 201,
   "metadata": {},
   "outputs": [
    {
     "data": {
      "text/plain": [
       "     c1    c2    c3    c4  c5\n",
       "a   0.0   1.0   2.0  20.0 NaN\n",
       "b   3.0   4.0   5.0   NaN NaN\n",
       "c   6.0   7.0   8.0   NaN NaN\n",
       "d   9.0  10.0  11.0   NaN NaN\n",
       "e  12.0  13.0  14.0   NaN NaN\n",
       "f  15.0  16.0  17.0  18.0 NaN\n",
       "g   NaN   NaN   NaN   NaN NaN"
      ]
     },
     "execution_count": 201,
     "metadata": {},
     "output_type": "execute_result"
    }
   ],
   "source": [
    "df"
   ]
  },
  {
   "cell_type": "code",
   "execution_count": 204,
   "metadata": {},
   "outputs": [
    {
     "data": {
      "text/plain": [
       "     c1    c2    c3\n",
       "a   0.0   1.0   2.0\n",
       "b   3.0   4.0   5.0\n",
       "c   6.0   7.0   8.0\n",
       "d   9.0  10.0  11.0\n",
       "e  12.0  13.0  14.0\n",
       "f  15.0  16.0  17.0\n",
       "g   NaN   NaN   NaN"
      ]
     },
     "execution_count": 204,
     "metadata": {},
     "output_type": "execute_result"
    }
   ],
   "source": [
    "# only drop columns with at least 5 NaN values\n",
    "#threshold is minimum not nan values\n",
    "\n",
    "df.dropna(thresh=6, axis=1)"
   ]
  },
  {
   "cell_type": "code",
   "execution_count": 205,
   "metadata": {},
   "outputs": [
    {
     "data": {
      "text/plain": [
       "     c1    c2    c3    c4\n",
       "a   0.0   1.0   2.0  20.0\n",
       "b   3.0   4.0   5.0   NaN\n",
       "c   6.0   7.0   8.0   NaN\n",
       "d   9.0  10.0  11.0   NaN\n",
       "e  12.0  13.0  14.0   NaN\n",
       "f  15.0  16.0  17.0  18.0\n",
       "g   NaN   NaN   NaN   NaN"
      ]
     },
     "execution_count": 205,
     "metadata": {},
     "output_type": "execute_result"
    }
   ],
   "source": [
    "df.dropna(thresh=2, axis=1)"
   ]
  },
  {
   "cell_type": "code",
   "execution_count": 206,
   "metadata": {},
   "outputs": [
    {
     "data": {
      "text/plain": [
       "Empty DataFrame\n",
       "Columns: [c1, c2, c3, c4, c5]\n",
       "Index: []"
      ]
     },
     "execution_count": 206,
     "metadata": {},
     "output_type": "execute_result"
    }
   ],
   "source": [
    "# only drop columns with at least 5 NaN values\n",
    "#threshold is minimum not nan values\n",
    "\n",
    "df.dropna(thresh=6, axis=0)"
   ]
  },
  {
   "cell_type": "code",
   "execution_count": 208,
   "metadata": {},
   "outputs": [
    {
     "data": {
      "text/plain": [
       "     c1    c2    c3    c4  c5\n",
       "a   0.0   1.0   2.0  20.0 NaN\n",
       "b   3.0   4.0   5.0   NaN NaN\n",
       "c   6.0   7.0   8.0   NaN NaN\n",
       "d   9.0  10.0  11.0   NaN NaN\n",
       "e  12.0  13.0  14.0   NaN NaN\n",
       "f  15.0  16.0  17.0  18.0 NaN\n",
       "g   NaN   NaN   NaN   NaN NaN"
      ]
     },
     "execution_count": 208,
     "metadata": {},
     "output_type": "execute_result"
    }
   ],
   "source": [
    "df"
   ]
  },
  {
   "cell_type": "code",
   "execution_count": 210,
   "metadata": {},
   "outputs": [
    {
     "data": {
      "text/plain": [
       "     c1    c2    c3    c4  c5\n",
       "a   0.0   1.0   2.0  20.0 NaN\n",
       "b   3.0   4.0   5.0   NaN NaN\n",
       "c   6.0   7.0   8.0   NaN NaN\n",
       "d   9.0  10.0  11.0   NaN NaN\n",
       "e  12.0  13.0  14.0   NaN NaN\n",
       "f  15.0  16.0  17.0  18.0 NaN"
      ]
     },
     "execution_count": 210,
     "metadata": {},
     "output_type": "execute_result"
    }
   ],
   "source": [
    "# only drop columns with at least 5 NaN values\n",
    "#threshold is minimum not nan values\n",
    "\n",
    "df.dropna(thresh=3, axis=0)"
   ]
  },
  {
   "cell_type": "code",
   "execution_count": 211,
   "metadata": {},
   "outputs": [
    {
     "data": {
      "text/plain": [
       "c1     7.5\n",
       "c2     8.5\n",
       "c3     9.5\n",
       "c4    19.0\n",
       "c5     NaN\n",
       "dtype: float64"
      ]
     },
     "execution_count": 211,
     "metadata": {},
     "output_type": "execute_result"
    }
   ],
   "source": [
    "# NaN's don't count as an item in calculating\n",
    "# the means\n",
    "df.mean()"
   ]
  },
  {
   "cell_type": "code",
   "execution_count": 243,
   "metadata": {},
   "outputs": [
    {
     "data": {
      "text/plain": [
       "     c1    c2    c3    c4  c5\n",
       "a   0.0   1.0   2.0  20.0 NaN\n",
       "b   3.0   4.0   5.0   NaN NaN\n",
       "c   6.0   7.0   8.0   NaN NaN\n",
       "d   9.0  10.0  11.0   NaN NaN\n",
       "e  12.0  13.0  14.0   NaN NaN\n",
       "f  15.0  16.0  17.0  18.0 NaN\n",
       "g   NaN   NaN   NaN   NaN NaN"
      ]
     },
     "execution_count": 243,
     "metadata": {},
     "output_type": "execute_result"
    }
   ],
   "source": [
    "df"
   ]
  },
  {
   "cell_type": "code",
   "execution_count": 212,
   "metadata": {},
   "outputs": [
    {
     "data": {
      "text/plain": [
       "     c1    c2    c3    c4   c5\n",
       "a   0.0   1.0   2.0  20.0  0.0\n",
       "b   3.0   4.0   5.0   0.0  0.0\n",
       "c   6.0   7.0   8.0   0.0  0.0\n",
       "d   9.0  10.0  11.0   0.0  0.0\n",
       "e  12.0  13.0  14.0   0.0  0.0\n",
       "f  15.0  16.0  17.0  18.0  0.0\n",
       "g   0.0   0.0   0.0   0.0  0.0"
      ]
     },
     "execution_count": 212,
     "metadata": {},
     "output_type": "execute_result"
    }
   ],
   "source": [
    "# return a new DataFrame with NaN's filled with 0\n",
    "filled = df.fillna(0.0)\n",
    "filled"
   ]
  },
  {
   "cell_type": "code",
   "execution_count": 213,
   "metadata": {},
   "outputs": [
    {
     "data": {
      "text/plain": [
       "c1    6.428571\n",
       "c2    7.285714\n",
       "c3    8.142857\n",
       "c4    5.428571\n",
       "c5    0.000000\n",
       "dtype: float64"
      ]
     },
     "execution_count": 213,
     "metadata": {},
     "output_type": "execute_result"
    }
   ],
   "source": [
    "# having replaced NaN with 0 can make\n",
    "# operations such as mean have different results\n",
    "filled.mean()"
   ]
  },
  {
   "cell_type": "code",
   "execution_count": 218,
   "metadata": {},
   "outputs": [
    {
     "data": {
      "text/plain": [
       "     c1    c2    c3    c4  c5\n",
       "a   0.0   1.0   2.0  20.0 NaN\n",
       "b   3.0   4.0   5.0   NaN NaN\n",
       "c   6.0   7.0   8.0   NaN NaN\n",
       "d   9.0  10.0  11.0   NaN NaN\n",
       "e  12.0  13.0  14.0   NaN NaN\n",
       "f  15.0  16.0  17.0  18.0 NaN\n",
       "g   NaN   NaN   NaN   NaN NaN"
      ]
     },
     "execution_count": 218,
     "metadata": {},
     "output_type": "execute_result"
    }
   ],
   "source": [
    "df"
   ]
  },
  {
   "cell_type": "code",
   "execution_count": 225,
   "metadata": {},
   "outputs": [
    {
     "name": "stdout",
     "output_type": "stream",
     "text": [
      "     c1    c2    c3    c4   c5\n",
      "a   0.0   1.0   2.0  20.0  0.0\n",
      "b   3.0   4.0   5.0   0.0  0.0\n",
      "c   6.0   7.0   8.0   0.0  NaN\n",
      "d   9.0  10.0  11.0   NaN  NaN\n",
      "e  12.0  13.0  14.0   NaN  NaN\n",
      "f  15.0  16.0  17.0  18.0  NaN\n",
      "g   0.0   0.0   0.0   NaN  NaN\n"
     ]
    }
   ],
   "source": [
    "# only fills the first two NaN's in each row with 0\n",
    "fill_2 = df.fillna(0, limit=2, axis = 1 )\n",
    "print(fill_2)"
   ]
  },
  {
   "cell_type": "code",
   "execution_count": 227,
   "metadata": {},
   "outputs": [
    {
     "data": {
      "text/plain": [
       "     c1    c2    c3    c4  c5\n",
       "a   0.0   1.0   2.0  20.0 NaN\n",
       "b   3.0   4.0   5.0   NaN NaN\n",
       "c   6.0   7.0   8.0   NaN NaN\n",
       "d   9.0  10.0  11.0   NaN NaN\n",
       "e  12.0  13.0  14.0   NaN NaN\n",
       "f  15.0  16.0  17.0  18.0 NaN\n",
       "g   NaN   NaN   NaN   NaN NaN"
      ]
     },
     "execution_count": 227,
     "metadata": {},
     "output_type": "execute_result"
    }
   ],
   "source": [
    "df"
   ]
  },
  {
   "cell_type": "code",
   "execution_count": 236,
   "metadata": {},
   "outputs": [
    {
     "name": "stdout",
     "output_type": "stream",
     "text": [
      "     c1    c2    c3    c4   c5\n",
      "a   0.0   1.0   2.0  20.0  0.0\n",
      "b   3.0   4.0   5.0   0.0  0.0\n",
      "c   6.0   7.0   8.0   0.0  0.0\n",
      "d   9.0  10.0  11.0   0.0  NaN\n",
      "e  12.0  13.0  14.0   NaN  NaN\n",
      "f  15.0  16.0  17.0  18.0  NaN\n",
      "g   0.0   0.0   0.0   NaN  NaN\n"
     ]
    }
   ],
   "source": [
    "# only fills the first two NaN's in each row with 0\n",
    "fill_2 = df.fillna(0, limit=3, axis = 1)\n",
    "print(fill_2)"
   ]
  },
  {
   "cell_type": "code",
   "execution_count": 239,
   "metadata": {},
   "outputs": [
    {
     "name": "stdout",
     "output_type": "stream",
     "text": [
      "     c1    c2    c3    c4  c5\n",
      "a   0.0   1.0   2.0  20.0 NaN\n",
      "b   3.0   4.0   5.0   NaN NaN\n",
      "c   6.0   7.0   8.0   NaN NaN\n",
      "d   9.0  10.0  11.0   NaN NaN\n",
      "e  12.0  13.0  14.0   NaN NaN\n",
      "f  15.0  16.0  17.0  18.0 NaN\n",
      "g   NaN   NaN   NaN   NaN NaN\n"
     ]
    },
    {
     "data": {
      "text/plain": [
       "   c1  c2  c3  c4   c5\n",
       "a   0   1   2  20    #\n",
       "b   3   4   5   #    #\n",
       "c   6   7   8   #    #\n",
       "d   9  10  11   #    #\n",
       "e  12  13  14   #    #\n",
       "f  15  16  17  18  NaN\n",
       "g   #   #   #   #  NaN"
      ]
     },
     "execution_count": 239,
     "metadata": {},
     "output_type": "execute_result"
    }
   ],
   "source": [
    "# only fills the first two NaN's in each row with 0\n",
    "fill_2 = df.fillna(\"#\", limit=5)\n",
    "print(df)\n",
    "fill_2\n"
   ]
  },
  {
   "cell_type": "code",
   "execution_count": 240,
   "metadata": {},
   "outputs": [],
   "source": [
    "df3 = df2.copy()\n",
    "df3\n",
    "df3[\"c6\"] = np.NaN\n",
    "df3[\"c7\"] = np.NaN\n",
    "df3[\"c8\"] = np.NaN\n",
    "df3[\"c9\"] = np.NaN\n",
    "df3.c1 = np.NaN"
   ]
  },
  {
   "cell_type": "code",
   "execution_count": 241,
   "metadata": {},
   "outputs": [
    {
     "data": {
      "text/plain": [
       "   c1    c2    c3    c4  c5  c6  c7  c8  c9\n",
       "a NaN   1.0   2.0  20.0 NaN NaN NaN NaN NaN\n",
       "b NaN   4.0   5.0   NaN NaN NaN NaN NaN NaN\n",
       "c NaN   7.0   8.0   NaN NaN NaN NaN NaN NaN\n",
       "d NaN  10.0  11.0   NaN NaN NaN NaN NaN NaN\n",
       "e NaN  13.0  14.0   NaN NaN NaN NaN NaN NaN\n",
       "f NaN  16.0  17.0  18.0 NaN NaN NaN NaN NaN\n",
       "g NaN   NaN   0.0   NaN NaN NaN NaN NaN NaN"
      ]
     },
     "execution_count": 241,
     "metadata": {},
     "output_type": "execute_result"
    }
   ],
   "source": [
    "df3"
   ]
  },
  {
   "cell_type": "code",
   "execution_count": 242,
   "metadata": {},
   "outputs": [
    {
     "data": {
      "text/plain": [
       "    c1    c2    c3    c4   c5   c6   c7   c8   c9\n",
       "a  0.0   1.0   2.0  20.0  0.0  0.0  0.0  0.0  0.0\n",
       "b  0.0   4.0   5.0   0.0  0.0  0.0  0.0  0.0  0.0\n",
       "c  NaN   7.0   8.0   0.0  NaN  NaN  NaN  NaN  NaN\n",
       "d  NaN  10.0  11.0   NaN  NaN  NaN  NaN  NaN  NaN\n",
       "e  NaN  13.0  14.0   NaN  NaN  NaN  NaN  NaN  NaN\n",
       "f  NaN  16.0  17.0  18.0  NaN  NaN  NaN  NaN  NaN\n",
       "g  NaN   0.0   0.0   NaN  NaN  NaN  NaN  NaN  NaN"
      ]
     },
     "execution_count": 242,
     "metadata": {},
     "output_type": "execute_result"
    }
   ],
   "source": [
    "# only fills the first two NaN's in each row with 0\n",
    "fill_2 = df3.fillna(0, limit=2)\n",
    "fill_2"
   ]
  },
  {
   "cell_type": "code",
   "execution_count": 264,
   "metadata": {},
   "outputs": [
    {
     "name": "stdout",
     "output_type": "stream",
     "text": [
      "    c1    c2    c3    c4   c5   c6   c7   c8   c9\n",
      "a  1.0   1.0   2.0  20.0  1.0  1.0  1.0  1.0  1.0\n",
      "b  1.0   4.0   5.0   1.0  1.0  1.0  1.0  1.0  1.0\n",
      "c  1.0   7.0   8.0   1.0  1.0  1.0  1.0  1.0  1.0\n",
      "d  1.0  10.0  11.0   1.0  1.0  1.0  1.0  1.0  1.0\n",
      "e  1.0  13.0  14.0   1.0  1.0  1.0  1.0  1.0  1.0\n",
      "f  NaN  16.0  17.0  18.0  1.0  NaN  NaN  NaN  NaN\n",
      "g  NaN   1.0   0.0   1.0  NaN  NaN  NaN  NaN  NaN\n"
     ]
    },
    {
     "data": {
      "text/plain": [
       "    c1    c2    c3    c4   c5   c6   c7   c8   c9\n",
       "a  1.0   1.0   2.0  20.0  1.0  1.0  1.0  1.0  1.0\n",
       "b  1.0   4.0   5.0   1.0  1.0  1.0  1.0  1.0  1.0\n",
       "c  1.0   7.0   8.0   1.0  1.0  1.0  1.0  1.0  1.0\n",
       "d  1.0  10.0  11.0   1.0  1.0  1.0  1.0  1.0  1.0\n",
       "e  1.0  13.0  14.0   1.0  1.0  1.0  1.0  1.0  1.0\n",
       "f  NaN  16.0  17.0  18.0  1.0  NaN  NaN  NaN  NaN\n",
       "g  NaN   1.0   0.0   1.0  NaN  NaN  NaN  NaN  NaN"
      ]
     },
     "execution_count": 264,
     "metadata": {},
     "output_type": "execute_result"
    }
   ],
   "source": [
    "# only fills the first two NaN's in each row with 0\n",
    "fill_3 = df3.fillna(1, limit=5)\n",
    "print(fill_3)\n",
    "fill_3\n"
   ]
  },
  {
   "cell_type": "code",
   "execution_count": 259,
   "metadata": {},
   "outputs": [
    {
     "data": {
      "text/plain": [
       "   c1    c2    c3    c4   c5  c6  c7  c8  c9\n",
       "a NaN   1.0   2.0  20.0  1.0 NaN NaN NaN NaN\n",
       "b NaN   4.0   5.0   NaN  NaN NaN NaN NaN NaN\n",
       "c NaN   7.0   8.0   NaN  NaN NaN NaN NaN NaN\n",
       "d NaN  10.0  11.0   NaN  NaN NaN NaN NaN NaN\n",
       "e NaN  13.0  14.0   NaN  NaN NaN NaN NaN NaN\n",
       "f NaN  16.0  17.0  18.0  NaN NaN NaN NaN NaN\n",
       "g NaN   NaN   0.0   NaN  NaN NaN NaN NaN NaN"
      ]
     },
     "execution_count": 259,
     "metadata": {},
     "output_type": "execute_result"
    }
   ],
   "source": [
    "df3"
   ]
  },
  {
   "cell_type": "markdown",
   "metadata": {},
   "source": [
    "## Filling in missing data"
   ]
  },
  {
   "cell_type": "code",
   "execution_count": 268,
   "metadata": {},
   "outputs": [
    {
     "data": {
      "text/plain": [
       "a    20.0\n",
       "b     NaN\n",
       "c     NaN\n",
       "d     NaN\n",
       "e     NaN\n",
       "f    18.0\n",
       "g     NaN\n",
       "Name: c4, dtype: float64"
      ]
     },
     "execution_count": 268,
     "metadata": {},
     "output_type": "execute_result"
    }
   ],
   "source": [
    "df.c4"
   ]
  },
  {
   "cell_type": "code",
   "execution_count": 243,
   "metadata": {},
   "outputs": [
    {
     "data": {
      "text/plain": [
       "a    20.0\n",
       "b    20.0\n",
       "c    20.0\n",
       "d    20.0\n",
       "e    20.0\n",
       "f    18.0\n",
       "g    18.0\n",
       "Name: c4, dtype: float64"
      ]
     },
     "execution_count": 243,
     "metadata": {},
     "output_type": "execute_result"
    }
   ],
   "source": [
    "# extract the c4 column and fill NaNs forward\n",
    "df.c4.fillna(method=\"ffill\")"
   ]
  },
  {
   "cell_type": "code",
   "execution_count": 244,
   "metadata": {},
   "outputs": [
    {
     "data": {
      "text/plain": [
       "a    20.0\n",
       "b    18.0\n",
       "c    18.0\n",
       "d    18.0\n",
       "e    18.0\n",
       "f    18.0\n",
       "g     NaN\n",
       "Name: c4, dtype: float64"
      ]
     },
     "execution_count": 244,
     "metadata": {},
     "output_type": "execute_result"
    }
   ],
   "source": [
    "# perform a backwards fill\n",
    "df.c4.fillna(method=\"bfill\")"
   ]
  },
  {
   "cell_type": "markdown",
   "metadata": {},
   "source": [
    "# Visualizing Data"
   ]
  },
  {
   "cell_type": "markdown",
   "metadata": {},
   "source": [
    "#### Data Frame Plot\n",
    "<a href=\"https://pandas.pydata.org/pandas-docs/stable/reference/frame.html#plotting\">Generating Various charts directly from DataFrame</a>"
   ]
  },
  {
   "cell_type": "code",
   "execution_count": 246,
   "metadata": {},
   "outputs": [
    {
     "ename": "NameError",
     "evalue": "name 'goog' is not defined",
     "output_type": "error",
     "traceback": [
      "\u001b[1;31m---------------------------------------------------------------------------\u001b[0m",
      "\u001b[1;31mNameError\u001b[0m                                 Traceback (most recent call last)",
      "\u001b[1;32m<ipython-input-246-b2c3a4576b42>\u001b[0m in \u001b[0;36m<module>\u001b[1;34m\u001b[0m\n\u001b[0;32m      1\u001b[0m \u001b[1;31m# plot the Adj Close values we just read in\u001b[0m\u001b[1;33m\u001b[0m\u001b[1;33m\u001b[0m\u001b[1;33m\u001b[0m\u001b[0m\n\u001b[1;32m----> 2\u001b[1;33m \u001b[0mgoog\u001b[0m\u001b[1;33m.\u001b[0m\u001b[0mplot\u001b[0m\u001b[1;33m(\u001b[0m\u001b[0my\u001b[0m\u001b[1;33m=\u001b[0m\u001b[1;34m'Adj Close'\u001b[0m\u001b[1;33m,\u001b[0m \u001b[0mfigsize\u001b[0m\u001b[1;33m=\u001b[0m\u001b[1;33m(\u001b[0m\u001b[1;36m12\u001b[0m\u001b[1;33m,\u001b[0m\u001b[1;36m8\u001b[0m\u001b[1;33m)\u001b[0m\u001b[1;33m)\u001b[0m\u001b[1;33m;\u001b[0m\u001b[1;33m\u001b[0m\u001b[1;33m\u001b[0m\u001b[0m\n\u001b[0m\u001b[0;32m      3\u001b[0m \u001b[0mplt\u001b[0m\u001b[1;33m.\u001b[0m\u001b[0msavefig\u001b[0m\u001b[1;33m(\u001b[0m\u001b[1;34m'5128OS_01_02.png'\u001b[0m\u001b[1;33m,\u001b[0m \u001b[0mbbox_inches\u001b[0m\u001b[1;33m=\u001b[0m\u001b[1;34m'tight'\u001b[0m\u001b[1;33m,\u001b[0m \u001b[0mdpi\u001b[0m\u001b[1;33m=\u001b[0m\u001b[1;36m300\u001b[0m\u001b[1;33m)\u001b[0m\u001b[1;33m\u001b[0m\u001b[1;33m\u001b[0m\u001b[0m\n",
      "\u001b[1;31mNameError\u001b[0m: name 'goog' is not defined"
     ]
    }
   ],
   "source": [
    "# plot the Adj Close values we just read in\n",
    "goog.plot(y='Adj Close', figsize=(12,8));\n",
    "plt.savefig('5128OS_01_02.png', bbox_inches='tight', dpi=300)"
   ]
  }
 ],
 "metadata": {
  "kernelspec": {
   "display_name": "Python 3",
   "language": "python",
   "name": "python3"
  },
  "language_info": {
   "codemirror_mode": {
    "name": "ipython",
    "version": 3
   },
   "file_extension": ".py",
   "mimetype": "text/x-python",
   "name": "python",
   "nbconvert_exporter": "python",
   "pygments_lexer": "ipython3",
   "version": "3.7.3"
  }
 },
 "nbformat": 4,
 "nbformat_minor": 1
}
