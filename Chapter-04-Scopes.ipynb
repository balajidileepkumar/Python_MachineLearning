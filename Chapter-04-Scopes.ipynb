{
 "cells": [
  {
   "cell_type": "markdown",
   "metadata": {},
   "source": [
    "## Local Scope"
   ]
  },
  {
   "cell_type": "code",
   "execution_count": 18,
   "metadata": {},
   "outputs": [
    {
     "name": "stdout",
     "output_type": "stream",
     "text": [
      "5\n",
      "Inner:  2\n",
      "Outer:  5\n",
      "local:  5\n",
      "#######################\n"
     ]
    }
   ],
   "source": [
    "y1 =5\n",
    "print(y1)  \n",
    "def Outer():\n",
    "    x =1 \n",
    "    def Inner():\n",
    "        y1 = 2 \n",
    "        print(\"Inner: \", y1)\n",
    "        #print(\"Outer: \", x)\n",
    "        #print(Outer())\n",
    "    Inner()\n",
    "    print(\"Outer: \", y1)\n",
    "       \n",
    "#print(y1)        \n",
    "Outer()\n",
    "print(\"local: \", y1)\n",
    "  \n",
    "print(\"#######################\")  \n"
   ]
  },
  {
   "cell_type": "markdown",
   "metadata": {},
   "source": [
    "## Non Local Scope"
   ]
  },
  {
   "cell_type": "code",
   "execution_count": 22,
   "metadata": {},
   "outputs": [
    {
     "name": "stdout",
     "output_type": "stream",
     "text": [
      "Outer Before Declaring nonlocal 1\n",
      "Inner:  2\n",
      "Outer:  2\n",
      "Global 6\n",
      "#####################################3\n"
     ]
    }
   ],
   "source": [
    "y2 =6\n",
    "def Outer():\n",
    "    y2 =1\n",
    "    print(\"Outer Before Declaring nonlocal\", y2)\n",
    "    def Inner():\n",
    "        nonlocal y2\n",
    "        y2 = 2 \n",
    "        print(\"Inner: \", y2)\n",
    "    Inner()\n",
    "    print(\"Outer: \", y2)\n",
    "Outer()\n",
    "print(\"Global\",y2)\n",
    "print(\"#####################################3\")\n"
   ]
  },
  {
   "cell_type": "markdown",
   "metadata": {},
   "source": [
    "### Non-Local With Multiple Nested Functions"
   ]
  },
  {
   "cell_type": "code",
   "execution_count": 32,
   "metadata": {},
   "outputs": [
    {
     "name": "stdout",
     "output_type": "stream",
     "text": [
      "1\n",
      "Before Non Local Declaraion Inner:  2\n",
      "InnerMost:  3\n",
      "Inner:  3\n",
      "Outer:  3\n",
      "Global 0\n",
      "#####################################3\n"
     ]
    }
   ],
   "source": [
    "x =0\n",
    "def Outer():\n",
    "    x =1 \n",
    "    print(x)\n",
    "    def Inner():\n",
    "        x = 2\n",
    "        print(\"Before Non Local Declaraion Inner: \", x)\n",
    "        nonlocal x\n",
    "        def InnerMost():\n",
    "            nonlocal x\n",
    "            x = 3 \n",
    "            print(\"InnerMost: \", x)\n",
    "        InnerMost()\n",
    "        print(\"Inner: \", x)\n",
    "     \n",
    "    \n",
    "    Inner()\n",
    "    print(\"Outer: \", x)\n",
    "Outer()\n",
    "print(\"Global\",x)\n",
    "print(\"#####################################3\")\n"
   ]
  },
  {
   "cell_type": "markdown",
   "metadata": {},
   "source": [
    "## Global Scope"
   ]
  },
  {
   "cell_type": "code",
   "execution_count": null,
   "metadata": {},
   "outputs": [],
   "source": [
    "import math\n",
    "#global x\n",
    "x=0\n",
    "#print(\"x is \", x)\n",
    "def Outer():\n",
    "    x = 1\n",
    "    #print(\"x is \",x)\n",
    "    def Inner():\n",
    "        global x \n",
    "        y = (int)(input(\"Enter the value\"))\n",
    "        if( y > 3):\n",
    "            #nonlocal x\n",
    "            x = y**2\n",
    "        else:\n",
    "            x = math.sqrt(y)\n",
    "        print(\"Inner: \", x)\n",
    "    Inner()\n",
    "    print(\"Outer: \", x)\n",
    "Outer()\n",
    "print(\"Global\",x)\n",
    "  \n",
    "x =10 \n",
    "print(\"Global\",x)"
   ]
  },
  {
   "cell_type": "code",
   "execution_count": null,
   "metadata": {},
   "outputs": [],
   "source": [
    "list(map(lambda num: num ** 2, my_nums))"
   ]
  },
  {
   "cell_type": "code",
   "execution_count": null,
   "metadata": {},
   "outputs": [],
   "source": [
    "list(filter(lambda n: n % 2 == 0,nums))"
   ]
  },
  {
   "cell_type": "code",
   "execution_count": null,
   "metadata": {},
   "outputs": [],
   "source": [
    "list(map(lambda x:x[0], mynames))"
   ]
  },
  {
   "cell_type": "code",
   "execution_count": null,
   "metadata": {},
   "outputs": [],
   "source": [
    "list(map(lambda x:len(x), mynames))"
   ]
  },
  {
   "cell_type": "code",
   "execution_count": null,
   "metadata": {},
   "outputs": [],
   "source": [
    "from functools import reduce\n",
    "my_nums = [1,2,3,4,5]\n",
    "list(reduce((lambda x : x), (my_nums)))"
   ]
  },
  {
   "cell_type": "code",
   "execution_count": null,
   "metadata": {},
   "outputs": [],
   "source": [
    "z = [range(0,11)]"
   ]
  },
  {
   "cell_type": "code",
   "execution_count": null,
   "metadata": {},
   "outputs": [],
   "source": [
    "z"
   ]
  },
  {
   "cell_type": "code",
   "execution_count": null,
   "metadata": {},
   "outputs": [],
   "source": [
    "def ret():\n",
    "    for i in z:\n",
    "        return(i)"
   ]
  },
  {
   "cell_type": "code",
   "execution_count": null,
   "metadata": {},
   "outputs": [],
   "source": [
    "list(map(ret(),z))"
   ]
  },
  {
   "cell_type": "code",
   "execution_count": null,
   "metadata": {},
   "outputs": [],
   "source": []
  },
  {
   "cell_type": "code",
   "execution_count": null,
   "metadata": {},
   "outputs": [],
   "source": [
    "def BoundaryLevel():\n",
    "    x =0\n",
    "    def Outer():\n",
    "        nonlocal x\n",
    "        x =1 \n",
    "        def Inner():\n",
    "            x = 2 \n",
    "            print(\"Inner: \", x)\n",
    "        Inner()\n",
    "        print(\"Outer: \", x)\n",
    "    Outer()\n",
    "    print(\"Global\",x)\n",
    "BoundaryLevel()\n",
    "print(\"##############\")"
   ]
  }
 ],
 "metadata": {
  "kernelspec": {
   "display_name": "Python 3",
   "language": "python",
   "name": "python3"
  },
  "language_info": {
   "codemirror_mode": {
    "name": "ipython",
    "version": 3
   },
   "file_extension": ".py",
   "mimetype": "text/x-python",
   "name": "python",
   "nbconvert_exporter": "python",
   "pygments_lexer": "ipython3",
   "version": "3.6.5"
  }
 },
 "nbformat": 4,
 "nbformat_minor": 2
}
