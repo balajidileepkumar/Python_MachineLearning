{
 "cells": [
  {
   "cell_type": "markdown",
   "metadata": {},
   "source": [
    "### JupyterNotebook Basics "
   ]
  },
  {
   "cell_type": "markdown",
   "metadata": {},
   "source": [
    "#### Reference\n",
    "<a href=\"https://jupyter.brynmawr.edu/services/public/dblank/Jupyter%20Notebook%20Users%20Manual.ipynb\">Jupyter Notebook Reference</a> "
   ]
  },
  {
   "cell_type": "markdown",
   "metadata": {},
   "source": [
    "#### Basic Commands "
   ]
  },
  {
   "cell_type": "markdown",
   "metadata": {},
   "source": [
    "<li>A - Create a cell Above </li>\n",
    "<li>B - Create a cell Below </li>\n",
    "<li>DD - Delete the cell</li>\n",
    "<li>Ctrl + Enter - Execute the Cell </li>\n",
    "<li>Shift + Enter - Execute the Cell and move to next cell(creates one if no cell below) </li>\n",
    "<li>Alt + Enter - Execute the Cell and Create a cell Below </li>"
   ]
  },
  {
   "cell_type": "markdown",
   "metadata": {},
   "source": [
    "<li>Y - Change cell to Code </li>\n",
    "<li>M - Change cell to MarkDown </li>\n",
    "<li>R - Change cell to RawNbConvert </li>\n",
    "<li>Keys 1-6 Change to cell type heading </li>"
   ]
  },
  {
   "cell_type": "markdown",
   "metadata": {},
   "source": [
    "### Create a Heading with '#'"
   ]
  },
  {
   "cell_type": "markdown",
   "metadata": {},
   "source": [
    "# keys (1-6) 1 being largest"
   ]
  },
  {
   "cell_type": "markdown",
   "metadata": {},
   "source": [
    "#### Create a table like structure"
   ]
  },
  {
   "cell_type": "markdown",
   "metadata": {},
   "source": [
    "|Header|Header|Header|Header|\n",
    "|------|------|------|------|\n",
    "|Cell  |Cell  |Cell  |123ll |\n",
    "|Cell  |Cell  |Cell  | Cell |\n",
    "|Cell  |Cell  |Cell  | Cell |\n",
    "|Cell  |Cell  |Cell  | Cell |"
   ]
  },
  {
   "cell_type": "markdown",
   "metadata": {},
   "source": [
    "|KEY|USAGE|\n",
    "|------|------|\n",
    "|A|Create Cell Above|\n",
    "|B|Create Cell Below|\n",
    "|DD|Delete Cell|\n",
    "|Ctrl + Enter|Execute the Cell|\n",
    "|Shift+ Enter|Execute and create cell if not exist|\n",
    "|Alt+ Enter|Execute and Create Cell|\n",
    "|Y|Convert the cell to Code type|\n",
    "|R|Convert the Cell to RawNB COnvert|\n",
    "|M|Convert the Cell to MarkDown|\n",
    "|#Heading Name|(Link to Heading)|"
   ]
  },
  {
   "cell_type": "markdown",
   "metadata": {},
   "source": [
    "#### emphasis"
   ]
  },
  {
   "cell_type": "raw",
   "metadata": {},
   "source": [
    "To create Italics use single underscore or asterisk before and after the word\n",
    "*Hello World*\n",
    "_Hello World_"
   ]
  },
  {
   "cell_type": "markdown",
   "metadata": {},
   "source": [
    "\n",
    "*Hello World*\n",
    "\n",
    "_Hello World_"
   ]
  },
  {
   "cell_type": "raw",
   "metadata": {},
   "source": [
    "To create Italics use single underscore or asterisk before and after the word\n",
    "**Hello World**\n",
    "__Hello World__"
   ]
  },
  {
   "cell_type": "markdown",
   "metadata": {},
   "source": [
    "**Hello World**\n",
    "\n",
    "__Hello World__"
   ]
  },
  {
   "cell_type": "markdown",
   "metadata": {},
   "source": [
    "### Latex Support\n"
   ]
  },
  {
   "cell_type": "raw",
   "metadata": {},
   "source": [
    "Jupyter uses latex to write mathematical equations \n",
    "enclose your mathematical functions within dollars\n"
   ]
  },
  {
   "cell_type": "raw",
   "metadata": {},
   "source": [
    "$z=\\dfrac{2x}{3y}$"
   ]
  },
  {
   "cell_type": "markdown",
   "metadata": {},
   "source": [
    "$z=\\dfrac{2x}{3y}$"
   ]
  },
  {
   "cell_type": "raw",
   "metadata": {},
   "source": [
    "$F(k) = \\int_{-\\infty}^{\\infty} f(x) e^{2\\pi i k} dx$"
   ]
  },
  {
   "cell_type": "markdown",
   "metadata": {},
   "source": [
    "$F(k) = \\int_{-\\infty}^{\\infty} f(x) e^{2\\pi i k} dx$"
   ]
  },
  {
   "cell_type": "markdown",
   "metadata": {},
   "source": [
    "#### To Navigate to an existing Header within the same notebook"
   ]
  },
  {
   "cell_type": "raw",
   "metadata": {},
   "source": [
    "[navigation text](#AnyHeaderReferred)"
   ]
  },
  {
   "cell_type": "markdown",
   "metadata": {},
   "source": [
    "[Back to Basic Commands](#emphasis) "
   ]
  },
  {
   "cell_type": "markdown",
   "metadata": {},
   "source": [
    "[For More commands refer](#Reference)"
   ]
  }
 ],
 "metadata": {
  "kernelspec": {
   "display_name": "Python 3",
   "language": "python",
   "name": "python3"
  },
  "language_info": {
   "codemirror_mode": {
    "name": "ipython",
    "version": 3
   },
   "file_extension": ".py",
   "mimetype": "text/x-python",
   "name": "python",
   "nbconvert_exporter": "python",
   "pygments_lexer": "ipython3",
   "version": "3.9.1"
  }
 },
 "nbformat": 4,
 "nbformat_minor": 4
}
