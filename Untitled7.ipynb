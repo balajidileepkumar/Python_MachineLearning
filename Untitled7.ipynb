{
 "cells": [
  {
   "cell_type": "code",
   "execution_count": 3,
   "metadata": {},
   "outputs": [
    {
     "data": {
      "text/plain": [
       "10"
      ]
     },
     "execution_count": 3,
     "metadata": {},
     "output_type": "execute_result"
    }
   ],
   "source": [
    "# Dictionary Comprehension\n",
    "fruits ={\"red\":\"apple\", \"green1\":\"apple\",\"red1\":\"pomegrante\", \"green2\":\"grapes\", \"red2\":\"strawberry\",\"blue\": \"blueberry\",\"yellow\":\"mango\",\"orange\":\"orange\",\"yellow\":\"peach\",\"brown\":\"chikoo\",\"black\":\"blackcurrant\"}\n",
    "len(fruits)"
   ]
  },
  {
   "cell_type": "markdown",
   "metadata": {},
   "source": [
    "#### Dictionary comprehension on fruits data\n",
    "1. find the list of keys for fruits equivalent to it's value?\n",
    "2. list the values of fruit having 2 or more vowels in it's key?\n",
    "3. list the values of fruits when len of the key is equivalent to it's value?\n",
    "4. list the keys of the fruits when it's value contains two e's?\n",
    "5. create a dictionary when the color of the key is in basic colors [\"blue\",\"green\",\"red\"]\n"
   ]
  },
  {
   "cell_type": "code",
   "execution_count": null,
   "metadata": {},
   "outputs": [],
   "source": []
  },
  {
   "cell_type": "markdown",
   "metadata": {},
   "source": [
    "#### Find 15 best methods for OS library or implement\n",
    "1. os.listdir\n",
    "2. os.remove\n",
    "3. os.path.exists\n",
    "4. os.dirname\n",
    "5. os.getcwd\n",
    "6. os.kill\n",
    "7. os.path.abspath\n"
   ]
  },
  {
   "cell_type": "code",
   "execution_count": null,
   "metadata": {},
   "outputs": [],
   "source": []
  },
  {
   "cell_type": "raw",
   "metadata": {},
   "source": [
    "3. Find how to use Json Encoder and Decoder Methods\n"
   ]
  },
  {
   "cell_type": "raw",
   "metadata": {},
   "source": [
    "4. Find How to use CSV writer\n"
   ]
  },
  {
   "cell_type": "raw",
   "metadata": {},
   "source": [
    "5. give sample to load xml file and convert it into a dict using xmltodict library"
   ]
  },
  {
   "cell_type": "raw",
   "metadata": {},
   "source": [
    "6. create a list of 100 objects for class student\n",
    "with every third student having hindi as is it's second language\n",
    "and every seventh having tamil as it's second language\n",
    "student falling for 3rd and 7th can have his own choice of second language\n",
    "\n",
    "student class should have properties/attributes\n",
    "1. Name\n",
    "2. Language\n",
    "3. age\n",
    "4. class"
   ]
  }
 ],
 "metadata": {
  "kernelspec": {
   "display_name": "Python 3",
   "language": "python",
   "name": "python3"
  },
  "language_info": {
   "codemirror_mode": {
    "name": "ipython",
    "version": 3
   },
   "file_extension": ".py",
   "mimetype": "text/x-python",
   "name": "python",
   "nbconvert_exporter": "python",
   "pygments_lexer": "ipython3",
   "version": "3.7.3"
  }
 },
 "nbformat": 4,
 "nbformat_minor": 2
}
